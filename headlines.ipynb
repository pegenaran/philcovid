{
 "cells": [
  {
   "cell_type": "code",
   "execution_count": 1,
   "metadata": {},
   "outputs": [
    {
     "name": "stdout",
     "output_type": "stream",
     "text": [
      "﻿\r\n",
      "<!DOCTYPE html>\r\n",
      "<html lang=\"en\">\r\n",
      "<head>\r\n",
      "\t<meta charset=\"UTF-8\">\t\r\n",
      "\t\t\r\n",
      "\t<meta name=\"viewport\" content=\"width=device-width, initial-scale=1.0\">\r\n",
      "\t\r\n",
      "\t\r\n",
      "\t\r\n",
      "\t\r\n",
      "\t<!-- FB Meta -->\r\n",
      "\t<meta property=\"og:ttl\" content=\"345600\" />\r\n",
      "\t<meta property=\"fb:app_id\" content=\"175228195865217\" />\r\n",
      "\t<meta property=\"og:title\" content=\"WHO: Indoor airborne spread of coronavirus possible\" />\t\r\n",
      "\t<meta property=\"og:description\" content=\"LONDON — The World Health Organization is acknowledging the possibility that COV\n"
     ]
    }
   ],
   "source": [
    "import requests\n",
    "from bs4 import BeautifulSoup\n",
    "import lxml\n",
    "from IPython.core.display import display, HTML\n",
    "import pandas as pd\n",
    "\n",
    "hlist = ['https://newsinfo.inquirer.net/1304791/who-indoor-airborne-spread-of-coronavirus-possible',\n",
    "    'https://www.theguardian.com/world/live/2020/jul/10/coronavirus-live-news-global-update-cases-bolivia-president-covid-19-positive-south-africa-brazil-president-jair-bolsonaro-latest-updatescoronavirus-live-news-bolivia-president-tests-positive-as-south-africa-sees-record-case-rise',\n",
    "    'https://www.wsj.com/articles/oil-went-below-0-some-think-it-will-rebound-to-150-one-day-11594287002',\n",
    "    'https://www.cnbc.com/2020/07/09/disney-reopening-this-week-even-as-coronavirus-cases-spike-in-florida.html',\n",
    "    'https://www.cnbc.com/2020/07/09/who-warns-the-coronavirus-is-getting-worse-continues-to-accelerate.html',\n",
    "    'http://feeds.foxbusiness.com/~r/foxbusiness/latest/~3/y4ny8VF4PX0/us-stocks-july-9-2020',\n",
    "    'http://www.marketwatch.com/news/story.asp?guid=%7BAED11BCA-C218-11EA-B5C1-1D55841A4EF0%7D&siteid=rss&rss=1',\n",
    "    'http://www.marketwatch.com/news/story.asp?guid=%7B0A9972CF-FF2C-4035-AA5B-3D557A0B7869%7D&siteid=rss&rss=1',\n",
    "    'https://www.wsj.com/articles/vaccine-stock-soars-rewarding-investors-big-bet-11594294901',\n",
    "    'https://www.bbc.co.uk/news/uk-england-kent-53349929',\n",
    "    'http://feeds.foxnews.com/~r/foxnews/national/~3/45WkRCxllyI/health-official-trump-rally-likely-source-virus-surge',\n",
    "    'https://www.nytimes.com/2020/07/09/us/politics/trump-supreme-court-appointees.html']\n",
    "\n",
    "\n",
    "\n",
    "\n",
    "# need the following to tell it we are a firefox browser in order to prevent getting blocked as a bot\n",
    "headers = requests.utils.default_headers()\n",
    "headers.update({\n",
    "    'User-Agent': 'Mozilla/5.0 (X11; Ubuntu; Linux x86_64; rv:52.0) Gecko/20100101 Firefox/52.0',\n",
    "})\n",
    "\n",
    "r = requests.get(hlist[0], headers=headers)\n",
    "soup = BeautifulSoup(r.text, 'html.parser')\n",
    "\n",
    "print(r.text[0:500])"
   ]
  },
  {
   "cell_type": "code",
   "execution_count": 2,
   "metadata": {},
   "outputs": [
    {
     "data": {
      "text/plain": [
       "'WHO: Indoor airborne spread of coronavirus possible | Inquirer News'"
      ]
     },
     "execution_count": 2,
     "metadata": {},
     "output_type": "execute_result"
    }
   ],
   "source": [
    "#results = soup.find_all('meta', property=\"og:title\")\n",
    "#len(results)\n",
    "titletext = soup.title.text\n",
    "titletext"
   ]
  },
  {
   "cell_type": "code",
   "execution_count": 3,
   "metadata": {},
   "outputs": [
    {
     "data": {
      "text/html": [
       "<a href='https://www.wsj.com/articles/oil-went-below-0-some-think-it-will-rebound-to-150-one-day-11594287002'> Oil Went Below $0. Some Think It Will Rebound to $150 One Day.     - WSJ</a>"
      ],
      "text/plain": [
       "<IPython.core.display.HTML object>"
      ]
     },
     "metadata": {},
     "output_type": "display_data"
    },
    {
     "data": {
      "text/plain": [
       "\"<a href='https://www.wsj.com/articles/oil-went-below-0-some-think-it-will-rebound-to-150-one-day-11594287002'> Oil Went Below $0. Some Think It Will Rebound to $150 One Day.     - WSJ</a>\""
      ]
     },
     "execution_count": 3,
     "metadata": {},
     "output_type": "execute_result"
    }
   ],
   "source": [
    "#from IPython.display import IFrame\n",
    "#IFrame(src=hlist[0], width=700, height=600)\n",
    "\n",
    "# note than in the reflink below when I had brackets{} surrounding the link, it pointed to localhost first\n",
    "# it may also do that if you leave off the https:// at the front\n",
    "r = requests.get(hlist[2], headers=headers)\n",
    "soup = BeautifulSoup(r.text, 'html.parser')\n",
    "titletext = soup.title.text\n",
    "reflink = \"<a href='\" + hlist[2] + \"'> \" + titletext + \"</a>\"\n",
    "html = HTML(reflink)\n",
    "display(html)\n",
    "hlist[0]\n",
    "reflink\n"
   ]
  },
  {
   "cell_type": "code",
   "execution_count": 45,
   "metadata": {},
   "outputs": [],
   "source": [
    "paperlist = [\"http://davaotoday.com/main/\",\n",
    "    \"https://www.eaglenews.ph/\",\n",
    "    \"https://www.gmanetwork.com/news/\",\n",
    "    \"https://www.inquirer.net/\",\n",
    "    \"https://www.interaksyon.com/\",\n",
    "    \"https://pia.gov.ph/news\",\n",
    "    \"https://edgedavao.net/\",\n",
    "    \"http://www.senate.gov.ph/\",\n",
    "    \"https://politics.com.ph/\",\n",
    "    \"https://www.mindanews.com/\",\n",
    "    \"https://palawan-news.com/\",\n",
    "    \"https://philnews.ph/\",\n",
    "    \"https://www.philstar.com/\",\n",
    "    \"https://www.manilatimes.net/\",\n",
    "    \"https://mb.com.ph/\",\n",
    "    \"https://www.rappler.com/\",\n",
    "    \"http://retiredanalyst.blogspot.com/\",\n",
    "    \"http://tempo.com.ph/\",\n",
    "    \"https://news.abs-cbn.com/\",\n",
    "    \"https://asia.nikkei.com/\",\n",
    "    \"https://www.benarnews.org/english/\",\n",
    "    \"https://www.theborneopost.com/\",\n",
    "    \"https://www.straitstimes.com/global\",\n",
    "    \"https://www.thejakartapost.com/\",\n",
    "    \"http://www.straitstimes.com/asia/\",\n",
    "    \"http://www.straitstimes.com/asia/east-asia/\",\n",
    "    \"https://www.scmp.com/\",\n",
    "    \"https://www.globaltimes.cn/\",\n",
    "    \"https://www.nytimes.com/\",\n",
    "    \"https://www.foxnews.com/\",\n",
    "    \"https://cnnphilippines.com/\"]\n",
    "\n",
    "covid_taglist\t=\t[\"covid-19\",\t\n",
    "\t\t\t\"coronavirus\",\n",
    "\t\t\t\"quarantine\",\n",
    "\t\t\t\"pandemic\",\n",
    "\t\t\t\"vaccine\",\n",
    "\t\t\t\"injections\",\n",
    "\t\t\t\"ecq\",\n",
    "\t\t\t\"mecq\",\n",
    "\t\t\t\"gcq\",\n",
    "\t\t\t\"mgcq\",\n",
    "\t\t\t\"lsi\",\n",
    "\t\t\t\"locally stranded individuals\",\n",
    "\t\t\t\"death rate\",\n",
    "\t\t\t\"new cases\",\n",
    "\t\t\t\"total cases\"]\n",
    "\n",
    "econ_taglist\t=\t[\"economy\",\t\n",
    "\t\t\t\"inflation\",\n",
    "\t\t\t\"angkas\",\n",
    "\t\t\t\"backriding\",\n",
    "\t\t\t\"bitcoin\",\n",
    "\t\t\t\"crypto\",\n",
    "\t\t\t\"cryptocurrencies\",\n",
    "\t\t\t\"crypto-currencies\",\n",
    "\t\t\t\"asia development bank\",\n",
    "\t\t\t\"psei\",\n",
    "\t\t\t\"buses\",\n",
    "\t\t\t\"employment\",\n",
    "\t\t\t\"build-build-build\",\n",
    "\t\t\t\"investments\"\n",
    "            \"chinese banks\"]\n",
    "\t\t\t\n",
    "chinathreat_taglist\t=\t[\"south china sea\",\t\n",
    "\t\t\t\"west philippine sea\",\n",
    "\t\t\t\"liu jianchao\",\n",
    "\t\t\t\"chinese ambassador\",\n",
    "\t\t\t\"xi xingping\",\n",
    "\t\t\t\"spratly islands\",\n",
    "\t\t\t\"freedom of navigation\",\n",
    "\t\t\t\"pla navy\",\n",
    "\t\t\t\"vfa\",\n",
    "\t\t\t\"scarborough shoal\",\n",
    "\t\t\t\"mischief reef\",\n",
    "\t\t\t\"pla militia\",\n",
    "\t\t\t\"air defense identification zone\",\n",
    "\t\t\t\"adiz\",\n",
    "\t\t\t\"visiting forces agreement\",\n",
    "\t\t\t\"philippine navy\",\n",
    "\t\t\t\"brp\",\n",
    "\t\t\t\"us navy\",\n",
    "\t\t\t\"navy\",\n",
    "            \"us troops\",\n",
    "            \"guard against china\",\n",
    "            \"beidaihe\",\n",
    "            \"lorenzana\"]\n",
    "\t\t\t\n",
    "insurgency_taglist\t=\t[\"anti-terror\",\t\n",
    "\t\t\t\"anti-terror law\",\n",
    "\t\t\t\"abu sayyaf\",\n",
    "\t\t\t\"biff\",\n",
    "\t\t\t\"bangsamoro islamic freedom fighters\",\n",
    "\t\t\t\"npa\",\n",
    "\t\t\t\"new people's army\",\n",
    "\t\t\t\"milf\",\n",
    "\t\t\t\"moro islamic liberation front\",\n",
    "\t\t\t\"mnlf\",\n",
    "\t\t\t\"moro national liberation front\",\n",
    "\t\t\t\"islamic state\",\n",
    "\t\t\t\"sison\",\n",
    "\t\t\t\"marawi\",\n",
    "\t\t\t\"mamasapano\"]\n",
    "\n",
    "\t\t\t\n",
    "\t\t\t\n",
    "pulitika_taglist\t=\t[\"lopez\",\t\n",
    "\t\t\t\"supreme court\",\n",
    "\t\t\t\"serreno\",\n",
    "\t\t\t\"duterte\",\n",
    "\t\t\t\"abs-cbn\",\n",
    "\t\t\t\"house votes\",\n",
    "\t\t\t\"senate votes\",\n",
    "\t\t\t\"opposition\"]\n",
    "\t\t\t\n",
    "\t\t\t\n",
    "province_taglist\t=\t[\"palawan\",\t\n",
    "\t\t\t\"manobo\",\n",
    "\t\t\t\"tuguegarao\",\n",
    "\t\t\t\"cagayan valley\",\n",
    "\t\t\t\"igorot\",\n",
    "\t\t\t\"lumad\",\n",
    "\t\t\t\"ipra\",\n",
    "\t\t\t\"indigenous\",\n",
    "\t\t\t\"kankanaey\",\n",
    "\t\t\t\"palawano\",\n",
    "\t\t\t\"agutaya\",\n",
    "\t\t\t\"malaybalay\",\n",
    "\t\t\t\"bukidnon\",\n",
    "\t\t\t\"higaunon\",\n",
    "\t\t\t\"davao\"]\n",
    "\t\t\t\n",
    "\t\t\t\n",
    "ncr_taglist\t=\t[\"rizal province\",\t\n",
    "\t\t\t\"antipolo\",\n",
    "\t\t\t\"mandaluyong\",\n",
    "\t\t\t\"cainta\",\n",
    "\t\t\t\"edsa\",\n",
    "\t\t\t\"taguig\",\n",
    "\t\t\t\"quezon city\"]\n",
    "\t\t\t\n",
    "\t\t\t\n",
    "chrgroup_taglist\t=\t[\"catholic\",\t\n",
    "\t\t\t\"catholic bishop’s conference of the philippines\",\n",
    "\t\t\t\"catholic bishops conference of the philippines\",\n",
    "\t\t\t\"cbcp\",\n",
    "\t\t\t\"iglesia ni cristo\",\n",
    "\t\t\t\"quiboloy\",\n",
    "\t\t\t\"quibuloy\"]\n",
    "\t\t\t\n",
    "\t\t\t\n",
    "moro_taglist\t=\t[\"moro\",\t\n",
    "\t\t\t\"bangsamoro\",\n",
    "\t\t\t\"barmm\",\n",
    "\t\t\t\"sultan kudarat\",\n",
    "\t\t\t\"sulu\",\n",
    "\t\t\t\"basilan\",\n",
    "\t\t\t\"jolo\",\n",
    "\t\t\t\"maranao\",\n",
    "\t\t\t\"tausug\",\n",
    "\t\t\t\"maguindanao\",\n",
    "\t\t\t\"cotobato\",\n",
    "\t\t\t\"cotabato\",\n",
    "\t\t\t\"sabah\",\n",
    "\t\t\t\"sultan of sulu\",\n",
    "\t\t\t\"sultanate of sulu\"]\n",
    "\t\t\t\n",
    "\t\t\t\n",
    "auth_taglist\t=\t[\"duterte\",\t\n",
    "\t\t\t\"red-tagging\",\n",
    "\t\t\t\"anti-terror\",\n",
    "\t\t\t\"jose calida\",\n",
    "\t\t\t\"solicitor general\",\n",
    "\t\t\t\"medialdea\",\n",
    "\t\t\t\"bong go\",\n",
    "\t\t\t\"bato dela rosa\",\n",
    "\t\t\t\"ronald dela rosa\",\n",
    "\t\t\t\"dela rosa\",\n",
    "\t\t\t\"de la rosa\"]\n",
    "\n",
    "exclude_list = [\"leave a comment on\",\n",
    "    \"california\",\n",
    "    \"watch\",\n",
    "    \"permalink\",\n",
    "    \"inmate\",\n",
    "    \"stores closed\",\n",
    "    \"overseas filipinos\",\n",
    "    \"alibaba\",\n",
    "    \"artistry\",\n",
    "    \"flu pandemic\",\n",
    "    \"korean trash\",\n",
    "    \"walmart\",\n",
    "    \"us stores\",\n",
    "    \"tournament\",\n",
    "    \"filipino workers stranded\",\n",
    "    \"donald trump\",\n",
    "    \"rhine river\",\n",
    "    \"european union\",\n",
    "    \"fertilizer scam\",\n",
    "    \"olympics\",\n",
    "    \"coronavirus affects\",\n",
    "    \"kids in malaysia\",\n",
    "    \"liquor ban\",\n",
    "    \"piolo pascual\",\n",
    "    \"profile of a killer\",\n",
    "    \"croatia\",\n",
    "    \"nba\",\n",
    "    \"sexual abuse\",\n",
    "    \"festival queen\",\n",
    "    \"tips for parents\",\n",
    "    \"arcadia fitness gym\"]\n",
    "\n",
    "taglist =  covid_taglist+ auth_taglist+ chinathreat_taglist+ chrgroup_taglist+ econ_taglist+ insurgency_taglist+ moro_taglist+ ncr_taglist+ province_taglist+ pulitika_taglist\n",
    "taglist = list(set(taglist))\n",
    "taglist.sort()\n"
   ]
  },
  {
   "cell_type": "code",
   "execution_count": 56,
   "metadata": {},
   "outputs": [
    {
     "name": "stdout",
     "output_type": "stream",
     "text": [
      "How is the Duterte regime normalizing the Filipino suffering? (Part 1)\n"
     ]
    },
    {
     "data": {
      "text/html": [
       "<div>\n",
       "<style scoped>\n",
       "    .dataframe tbody tr th:only-of-type {\n",
       "        vertical-align: middle;\n",
       "    }\n",
       "\n",
       "    .dataframe tbody tr th {\n",
       "        vertical-align: top;\n",
       "    }\n",
       "\n",
       "    .dataframe thead th {\n",
       "        text-align: right;\n",
       "    }\n",
       "</style>\n",
       "<table border=\"1\" class=\"dataframe\">\n",
       "  <thead>\n",
       "    <tr style=\"text-align: right;\">\n",
       "      <th></th>\n",
       "      <th>andtag01</th>\n",
       "      <th>andtag02</th>\n",
       "      <th>andtag03</th>\n",
       "      <th>andtag04</th>\n",
       "      <th>andtag05</th>\n",
       "      <th>andtag06</th>\n",
       "      <th>andtag07</th>\n",
       "      <th>andtag08</th>\n",
       "      <th>andtag09</th>\n",
       "    </tr>\n",
       "    <tr>\n",
       "      <th>maintag</th>\n",
       "      <th></th>\n",
       "      <th></th>\n",
       "      <th></th>\n",
       "      <th></th>\n",
       "      <th></th>\n",
       "      <th></th>\n",
       "      <th></th>\n",
       "      <th></th>\n",
       "      <th></th>\n",
       "    </tr>\n",
       "  </thead>\n",
       "  <tbody>\n",
       "    <tr>\n",
       "      <th>duterte</th>\n",
       "      <td>priority</td>\n",
       "      <td>war</td>\n",
       "      <td>martial</td>\n",
       "      <td>arrest</td>\n",
       "      <td>deny</td>\n",
       "      <td>denies</td>\n",
       "      <td>abs-cbn</td>\n",
       "      <td>charter</td>\n",
       "      <td>cha-cha</td>\n",
       "    </tr>\n",
       "    <tr>\n",
       "      <th>duterte</th>\n",
       "      <td>onerous</td>\n",
       "      <td>probe</td>\n",
       "      <td>fascist</td>\n",
       "      <td>suffering</td>\n",
       "      <td>sona</td>\n",
       "      <td>political</td>\n",
       "      <td>oligarch</td>\n",
       "      <td>failing</td>\n",
       "      <td></td>\n",
       "    </tr>\n",
       "    <tr>\n",
       "      <th>anti-terror</th>\n",
       "      <td>defends</td>\n",
       "      <td>autonomous region</td>\n",
       "      <td>bangsamoro</td>\n",
       "      <td></td>\n",
       "      <td></td>\n",
       "      <td></td>\n",
       "      <td></td>\n",
       "      <td></td>\n",
       "      <td></td>\n",
       "    </tr>\n",
       "    <tr>\n",
       "      <th>jolo shooting</th>\n",
       "      <td>solotag</td>\n",
       "      <td></td>\n",
       "      <td></td>\n",
       "      <td></td>\n",
       "      <td></td>\n",
       "      <td></td>\n",
       "      <td></td>\n",
       "      <td></td>\n",
       "      <td></td>\n",
       "    </tr>\n",
       "    <tr>\n",
       "      <th>red-tagging</th>\n",
       "      <td>solotag</td>\n",
       "      <td></td>\n",
       "      <td></td>\n",
       "      <td></td>\n",
       "      <td></td>\n",
       "      <td></td>\n",
       "      <td></td>\n",
       "      <td></td>\n",
       "      <td></td>\n",
       "    </tr>\n",
       "    <tr>\n",
       "      <th>trillanes</th>\n",
       "      <td>solotag</td>\n",
       "      <td></td>\n",
       "      <td></td>\n",
       "      <td></td>\n",
       "      <td></td>\n",
       "      <td></td>\n",
       "      <td></td>\n",
       "      <td></td>\n",
       "      <td></td>\n",
       "    </tr>\n",
       "    <tr>\n",
       "      <th>jose calida</th>\n",
       "      <td>solotag</td>\n",
       "      <td></td>\n",
       "      <td></td>\n",
       "      <td></td>\n",
       "      <td></td>\n",
       "      <td></td>\n",
       "      <td></td>\n",
       "      <td></td>\n",
       "      <td></td>\n",
       "    </tr>\n",
       "    <tr>\n",
       "      <th>solicitor general</th>\n",
       "      <td>solotag</td>\n",
       "      <td></td>\n",
       "      <td></td>\n",
       "      <td></td>\n",
       "      <td></td>\n",
       "      <td></td>\n",
       "      <td></td>\n",
       "      <td></td>\n",
       "      <td></td>\n",
       "    </tr>\n",
       "    <tr>\n",
       "      <th>medialdea</th>\n",
       "      <td>solotag</td>\n",
       "      <td></td>\n",
       "      <td></td>\n",
       "      <td></td>\n",
       "      <td></td>\n",
       "      <td></td>\n",
       "      <td></td>\n",
       "      <td></td>\n",
       "      <td></td>\n",
       "    </tr>\n",
       "    <tr>\n",
       "      <th>bong go</th>\n",
       "      <td>solotag</td>\n",
       "      <td></td>\n",
       "      <td></td>\n",
       "      <td></td>\n",
       "      <td></td>\n",
       "      <td></td>\n",
       "      <td></td>\n",
       "      <td></td>\n",
       "      <td></td>\n",
       "    </tr>\n",
       "    <tr>\n",
       "      <th>bato dela rosa</th>\n",
       "      <td>solotag</td>\n",
       "      <td></td>\n",
       "      <td></td>\n",
       "      <td></td>\n",
       "      <td></td>\n",
       "      <td></td>\n",
       "      <td></td>\n",
       "      <td></td>\n",
       "      <td></td>\n",
       "    </tr>\n",
       "    <tr>\n",
       "      <th>ronald dela rosa</th>\n",
       "      <td>solotag</td>\n",
       "      <td></td>\n",
       "      <td></td>\n",
       "      <td></td>\n",
       "      <td></td>\n",
       "      <td></td>\n",
       "      <td></td>\n",
       "      <td></td>\n",
       "      <td></td>\n",
       "    </tr>\n",
       "    <tr>\n",
       "      <th>dela rosa</th>\n",
       "      <td>solotag</td>\n",
       "      <td></td>\n",
       "      <td></td>\n",
       "      <td></td>\n",
       "      <td></td>\n",
       "      <td></td>\n",
       "      <td></td>\n",
       "      <td></td>\n",
       "      <td></td>\n",
       "    </tr>\n",
       "    <tr>\n",
       "      <th>de la rosa</th>\n",
       "      <td>solotag</td>\n",
       "      <td></td>\n",
       "      <td></td>\n",
       "      <td></td>\n",
       "      <td></td>\n",
       "      <td></td>\n",
       "      <td></td>\n",
       "      <td></td>\n",
       "      <td></td>\n",
       "    </tr>\n",
       "    <tr>\n",
       "      <th>de lima</th>\n",
       "      <td>solotag</td>\n",
       "      <td></td>\n",
       "      <td></td>\n",
       "      <td></td>\n",
       "      <td></td>\n",
       "      <td></td>\n",
       "      <td></td>\n",
       "      <td></td>\n",
       "      <td></td>\n",
       "    </tr>\n",
       "  </tbody>\n",
       "</table>\n",
       "</div>"
      ],
      "text/plain": [
       "                   andtag01           andtag02    andtag03   andtag04  \\\n",
       "maintag                                                                 \n",
       "duterte            priority                war     martial     arrest   \n",
       "duterte             onerous              probe     fascist  suffering   \n",
       "anti-terror         defends  autonomous region  bangsamoro              \n",
       "jolo shooting       solotag                                             \n",
       "red-tagging         solotag                                             \n",
       "trillanes           solotag                                             \n",
       "jose calida         solotag                                             \n",
       "solicitor general   solotag                                             \n",
       "medialdea           solotag                                             \n",
       "bong go             solotag                                             \n",
       "bato dela rosa      solotag                                             \n",
       "ronald dela rosa    solotag                                             \n",
       "dela rosa           solotag                                             \n",
       "de la rosa          solotag                                             \n",
       "de lima             solotag                                             \n",
       "\n",
       "                  andtag05   andtag06  andtag07 andtag08 andtag09  \n",
       "maintag                                                            \n",
       "duterte               deny     denies   abs-cbn  charter  cha-cha  \n",
       "duterte               sona  political  oligarch  failing           \n",
       "anti-terror                                                        \n",
       "jolo shooting                                                      \n",
       "red-tagging                                                        \n",
       "trillanes                                                          \n",
       "jose calida                                                        \n",
       "solicitor general                                                  \n",
       "medialdea                                                          \n",
       "bong go                                                            \n",
       "bato dela rosa                                                     \n",
       "ronald dela rosa                                                   \n",
       "dela rosa                                                          \n",
       "de la rosa                                                         \n",
       "de lima                                                            "
      ]
     },
     "execution_count": 56,
     "metadata": {},
     "output_type": "execute_result"
    }
   ],
   "source": [
    "# FORMAT FOR THE TAG DICTIONARIES\n",
    "# IF A TAG IS TO BE SCREENED INTO THE LIST WITHOUT A CORRESPONDING OTHER TAG\n",
    "# THE TERM 'solotag' MUST BE ONE OF THE ANDTAGS IN THE DICTIONARY\n",
    "\n",
    "covid_tagdict=[{\"maintag\":\"covid\",\"andtag01\":\"hunt\",\"andtag02\":\"lockdown\",\"andtag03\":\"infected with\",\n",
    "        \"andtag04\":\"hahawa\",\"angtag05\":\"cases\",\"andtag06\":\"house-to-house\",\"andtag07\":\"test positive\",\n",
    "        \"andtag08\":\"statistics\",\"andtag09\":\"\"},\n",
    "\t{\"maintag\":\"covid\",\"andtag01\":\"infection\",\"andtag02\":\"\",\"andtag03\":\"\",\n",
    "        \"andtag04\":\"\",\"angtag05\":\"\",\"andtag06\":\"\",\"andtag07\":\"\",\n",
    "        \"andtag08\":\"\",\"andtag09\":\"\"},\n",
    "    {\"maintag\":\"coronavirus\",\"andtag01\":\"vaccine\",\"andtag02\":\"\",\"andtag03\":\"\",\n",
    "        \"andtag04\":\"\",\"angtag05\":\"\",\"andtag06\":\"\",\"andtag07\":\"\",\n",
    "        \"andtag08\":\"\",\"andtag09\":\"\"},\n",
    "\t{\"maintag\":\"quarantine\",\"andtag01\":\"classification\",\"andtag02\":\"home\",\"andtag03\":\"facility\",\n",
    "        \"andtag04\":\"facilities\",\"angtag05\":\"\",\"andtag06\":\"\",\"andtag07\":\"\",\n",
    "        \"andtag08\":\"\",\"andtag09\":\"\"},\n",
    "\t{\"maintag\":\"pandemic\",\"andtag01\":\"flying back\",\"andtag02\":\"barter\",\"andtag03\":\"\",\n",
    "        \"andtag04\":\"\",\"angtag05\":\"\",\"andtag06\":\"\",\"andtag07\":\"\",\n",
    "        \"andtag08\":\"\",\"andtag09\":\"\"},\n",
    "\t{\"maintag\":\"injections\",\"andtag01\":\"solotag\",\"andtag02\":\"\",\"andtag03\":\"\",\n",
    "        \"andtag04\":\"\",\"angtag05\":\"\",\"andtag06\":\"\",\"andtag07\":\"\",\n",
    "        \"andtag08\":\"\",\"andtag09\":\"\"},\n",
    "\t{\"maintag\":\"ecq\",\"andtag01\":\"list\",\"andtag02\":\"gcq\",\"andtag03\":\"mgcq\",\n",
    "        \"andtag04\":\"mecq\",\"angtag05\":\"city\",\"andtag06\":\"province\",\"andtag07\":\"provinces\",\n",
    "        \"andtag08\":\"metro\",\"andtag09\":\"\"},\n",
    "    {\"maintag\":\"mecq\",\"andtag01\":\"list\",\"andtag02\":\"gcq\",\"andtag03\":\"mgcq\",\n",
    "        \"andtag04\":\"ecq\",\"angtag05\":\"city\",\"andtag06\":\"province\",\"andtag07\":\"provinces\",\n",
    "        \"andtag08\":\"metro\",\"andtag09\":\"\"},\n",
    "\t{\"maintag\":\"gcq\",\"andtag01\":\"list\",\"andtag02\":\"ecq\",\"andtag03\":\"mgcq\",\n",
    "        \"andtag04\":\"mecq\",\"angtag05\":\"city\",\"andtag06\":\"province\",\"andtag07\":\"provinces\",\n",
    "        \"andtag08\":\"metro\",\"andtag09\":\"\"},\n",
    "\t{\"maintag\":\"mgcq\",\"andtag01\":\"list\",\"andtag02\":\"gcq\",\"andtag03\":\"ecq\",\n",
    "        \"andtag04\":\"mecq\",\"angtag05\":\"city\",\"andtag06\":\"province\",\"andtag07\":\"provinces\",\n",
    "        \"andtag08\":\"metro\",\"andtag09\":\"\"},\n",
    "\t{\"maintag\":\"lsi\",\"andtag01\":\"\",\"andtag02\":\"\",\"andtag03\":\"\",\n",
    "        \"andtag04\":\"\",\"angtag05\":\"\",\"andtag06\":\"\",\"andtag07\":\"\",\n",
    "        \"andtag08\":\"\",\"andtag09\":\"\"},\n",
    "\t{\"maintag\":\"locally\",\"andtag01\":\"stranded\",\"andtag02\":\"individuals\",\"andtag03\":\"\",\n",
    "        \"andtag04\":\"\",\"angtag05\":\"\",\"andtag06\":\"\",\"andtag07\":\"covid-19\",\n",
    "        \"andtag08\":\"\",\"andtag09\":\"\"},  \n",
    "\t{\"maintag\":\"death rate\",\"andtag01\":\"solotag\",\"andtag02\":\"\",\"andtag03\":\"\",\n",
    "        \"andtag04\":\"\",\"angtag05\":\"\",\"andtag06\":\"\",\"andtag07\":\"\",\n",
    "        \"andtag08\":\"\",\"andtag09\":\"\"},\n",
    "\t{\"maintag\":\"cases\",\"andtag01\":\"new\",\"andtag02\":\"total\",\"andtag03\":\"recoveries\",\n",
    "        \"andtag04\":\"infection\",\"angtag05\":\"\",\"andtag06\":\"\",\"andtag07\":\"\",\n",
    "        \"andtag08\":\"\",\"andtag09\":\"\"}]\n",
    "\n",
    "covid_tagdf = pd.DataFrame(covid_tagdict)\n",
    "covid_tagdf.set_index('maintag', inplace=True)\n",
    "\n",
    "auth_tagdict=[{\"maintag\": \"duterte\", \"andtag01\":\"priority\", \"andtag02\":\"war\", \"andtag03\":\"martial\", \"andtag04\":\"arrest\", \"andtag05\":\"deny\", \"andtag06\":\"denies\", \"andtag07\":\"abs-cbn\", \"andtag08\":\"charter\", \"andtag09\":\"cha-cha\"},\n",
    "    {\"maintag\": \"duterte\", \"andtag01\":\"onerous\", \"andtag02\":\"probe\", \"andtag03\":\"fascist\", \"andtag04\":\"suffering\", \"andtag05\":\"sona\", \"andtag06\":\"political\", \"andtag07\":\"oligarch\", \"andtag08\":\"failing\", \"andtag09\":\"\"},\n",
    "    {\"maintag\": \"anti-terror\", \"andtag01\":\"defends\", \"andtag02\":\"autonomous region\", \"andtag03\":\"bangsamoro\", \"andtag04\":\"\", \"andtag05\":\"\", \"andtag06\":\"\", \"andtag07\":\"\", \"andtag08\":\"\", \"andtag09\":\"\"},\n",
    "    {\"maintag\": \"jolo shooting\", \"andtag01\":\"solotag\", \"andtag02\":\"\", \"andtag03\":\"\", \"andtag04\":\"\", \"andtag05\":\"\", \"andtag06\":\"\", \"andtag07\":\"\", \"andtag08\":\"\", \"andtag09\":\"\"},\n",
    "    {\"maintag\": \"red-tagging\", \"andtag01\":\"solotag\", \"andtag02\":\"\", \"andtag03\":\"\", \"andtag04\":\"\", \"andtag05\":\"\", \"andtag06\":\"\", \"andtag07\":\"\", \"andtag08\":\"\", \"andtag09\":\"\"},\n",
    "    {\"maintag\": \"trillanes\", \"andtag01\":\"solotag\", \"andtag02\":\"\", \"andtag03\":\"\", \"andtag04\":\"\", \"andtag05\":\"\", \"andtag06\":\"\", \"andtag07\":\"\", \"andtag08\":\"\", \"andtag09\":\"\"},\n",
    "    {\"maintag\": \"jose calida\", \"andtag01\":\"solotag\", \"andtag02\":\"\", \"andtag03\":\"\", \"andtag04\":\"\", \"andtag05\":\"\", \"andtag06\":\"\", \"andtag07\":\"\", \"andtag08\":\"\", \"andtag09\":\"\"},\n",
    "    {\"maintag\": \"solicitor general\", \"andtag01\":\"solotag\", \"andtag02\":\"\", \"andtag03\":\"\", \"andtag04\":\"\", \"andtag05\":\"\", \"andtag06\":\"\", \"andtag07\":\"\", \"andtag08\":\"\", \"andtag09\":\"\"},\n",
    "    {\"maintag\": \"medialdea\", \"andtag01\":\"solotag\", \"andtag02\":\"\", \"andtag03\":\"\", \"andtag04\":\"\", \"andtag05\":\"\", \"andtag06\":\"\", \"andtag07\":\"\", \"andtag08\":\"\", \"andtag09\":\"\"},\n",
    "    {\"maintag\": \"bong go\", \"andtag01\":\"solotag\", \"andtag02\":\"\", \"andtag03\":\"\", \"andtag04\":\"\", \"andtag05\":\"\", \"andtag06\":\"\", \"andtag07\":\"\", \"andtag08\":\"\", \"andtag09\":\"\"},\n",
    "    {\"maintag\": \"bato dela rosa\", \"andtag01\":\"solotag\", \"andtag02\":\"\", \"andtag03\":\"\", \"andtag04\":\"\", \"andtag05\":\"\", \"andtag06\":\"\", \"andtag07\":\"\", \"andtag08\":\"\", \"andtag09\":\"\"},\n",
    "    {\"maintag\": \"ronald dela rosa\", \"andtag01\":\"solotag\", \"andtag02\":\"\", \"andtag03\":\"\", \"andtag04\":\"\", \"andtag05\":\"\", \"andtag06\":\"\", \"andtag07\":\"\", \"andtag08\":\"\", \"andtag09\":\"\"},\n",
    "    {\"maintag\": \"dela rosa\", \"andtag01\":\"solotag\", \"andtag02\":\"\", \"andtag03\":\"\", \"andtag04\":\"\", \"andtag05\":\"\", \"andtag06\":\"\", \"andtag07\":\"\", \"andtag08\":\"\", \"andtag09\":\"\"},\n",
    "    {\"maintag\": \"de la rosa\", \"andtag01\":\"solotag\", \"andtag02\":\"\", \"andtag03\":\"\", \"andtag04\":\"\", \"andtag05\":\"\", \"andtag06\":\"\", \"andtag07\":\"\", \"andtag08\":\"\", \"andtag09\":\"\"},\n",
    "    {\"maintag\": \"de lima\", \"andtag01\":\"solotag\", \"andtag02\":\"\", \"andtag03\":\"\", \"andtag04\":\"\", \"andtag05\":\"\", \"andtag06\":\"\", \"andtag07\":\"\", \"andtag08\":\"\", \"andtag09\":\"\"}]\n",
    "\n",
    "auth_tagdf = pd.DataFrame(auth_tagdict)\n",
    "auth_tagdf.set_index('maintag', inplace=True)\n",
    "\n",
    "# if there are duplicates, the dictionary returned will be formatted\n",
    "# with {value duplicated: [list of index values where it is duplicated]}\n",
    "def find_idxnum_dup(list1):\n",
    "    from collections import Counter, defaultdict\n",
    "    duplist = [k for k,v in Counter(list1).items() if v>1]\n",
    "    D = defaultdict(list)\n",
    "    for i,item in enumerate(list1):\n",
    "        D[item].append(i)\n",
    "    dupdict = {k:v for k,v in D.items() if len(v)>1}\n",
    "    return duplist, dupdict\n",
    "\n",
    "def tags_in_str(scanstr, tagdf):\n",
    "    found_tag = False\n",
    "    colslist = tagdf.columns.tolist()\n",
    "    maintaglist = tagdf.index.tolist()\n",
    "    # find if any main tags are duplicated\n",
    "    duplist, dupdict = find_idxnum_dup(maintaglist)\n",
    "    scanned_dups = []\n",
    "#     print(maintaglist)\n",
    "#     print(colslist)\n",
    "#     print(tagdf.loc['duterte'])\n",
    "#     print(\"scanstr: \", scanstr)\n",
    "    for maintag in maintaglist:\n",
    "#         print('maintag: ', maintag)\n",
    "#         print(duplist)\n",
    "#         print(scanned_dups)\n",
    "#         print(dupdict)\n",
    "        if maintag in duplist:\n",
    "            if maintag not in scanned_dups:\n",
    "#                 print(maintag, duplist, dupdict)\n",
    "                for idxval in dupdict[maintag]:\n",
    "                    for andcol in list(range(0,9)):\n",
    "#                         print(idxval, andcol)\n",
    "                        andtag = tagdf.iloc[idxval, andcol]\n",
    "#                         print(andtag)\n",
    "                        if (maintag in scanstr and andtag in scanstr and andtag != \"\") or (maintag in scanstr and andtag == \"solotag\"):\n",
    "                            found_tag=True\n",
    "                            break\n",
    "            scanned_dups.append(maintag)\n",
    "            \n",
    "        else:    \n",
    "            for andcol in colslist:\n",
    "                andtag = tagdf.loc[maintag, andcol]\n",
    "                if (maintag in scanstr and andtag in scanstr and andtag != \"\") or (maintag in scanstr and andtag == \"solotag\"):\n",
    "                    found_tag=True\n",
    "#                     print(maintag, andtag)\n",
    "                    break\n",
    "    return found_tag\n",
    "\n",
    "scanstr = \"How is the Duterte regime normalizing the Filipino suffering? (Part 1)\"\n",
    "\n",
    "if tags_in_str(scanstr.lower(), auth_tagdf):\n",
    "    print(scanstr)\n",
    "else:\n",
    "    print(\"not found\")\n",
    "auth_tagdf\n",
    "\n",
    "# if tags_in_str(scanstr.lower(), covid_tagdf):\n",
    "#     print(scanstr)\n",
    "# else:\n",
    "#     print(\"not found\")\n",
    "# covid_tagdf"
   ]
  },
  {
   "cell_type": "code",
   "execution_count": 55,
   "metadata": {},
   "outputs": [
    {
     "name": "stdout",
     "output_type": "stream",
     "text": [
      "Percent complete all sources list: 3.2%\n",
      "Percent complete all sources list: 6.5%\n",
      "Percent complete all sources list: 9.7%\n",
      "Percent complete all sources list: 12.9%\n",
      "Percent complete all sources list: 16.1%\n",
      "Percent complete all sources list: 19.4%\n",
      "Percent complete all sources list: 22.6%\n",
      "Percent complete all sources list: 25.8%\n",
      "Percent complete all sources list: 29.0%\n",
      "Percent complete all sources list: 32.3%\n",
      "Percent complete all sources list: 35.5%\n",
      "Percent complete all sources list: 38.7%\n",
      "Percent complete all sources list: 41.9%\n",
      "Percent complete all sources list: 45.2%\n",
      "Percent complete all sources list: 48.4%\n",
      "Percent complete all sources list: 51.6%\n",
      "Percent complete all sources list: 54.8%\n",
      "Percent complete all sources list: 58.1%\n",
      "Percent complete all sources list: 61.3%\n",
      "Percent complete all sources list: 64.5%\n",
      "Percent complete all sources list: 67.7%\n",
      "Percent complete all sources list: 71.0%\n",
      "Percent complete all sources list: 74.2%\n",
      "Percent complete all sources list: 77.4%\n",
      "Percent complete all sources list: 80.6%\n",
      "Percent complete all sources list: 83.9%\n",
      "Percent complete all sources list: 87.1%\n",
      "Percent complete all sources list: 90.3%\n",
      "Percent complete all sources list: 93.5%\n",
      "Percent complete all sources list: 96.8%\n",
      "Percent complete all sources list: 100.0%\n",
      "\n",
      "COVID-19 NEWS ITEMS: \n"
     ]
    },
    {
     "data": {
      "text/html": [
       "<a href='https://www.eaglenews.ph/brazil-set-to-test-chinese-coronavirus-vaccine/'> Brazil set to test Chinese coronavirus vaccine</a>"
      ],
      "text/plain": [
       "<IPython.core.display.HTML object>"
      ]
     },
     "metadata": {},
     "output_type": "display_data"
    },
    {
     "data": {
      "text/html": [
       "<a href='https://www.eaglenews.ph/covid-19-cases-in-phl-breach-70000-mark-with-1951-cases-reported-on-tuesday-july-21/'> COVID-19 cases in PHL breach 70,000 mark with 1951 cases reported on Tuesday, July 21</a>"
      ],
      "text/plain": [
       "<IPython.core.display.HTML object>"
      ]
     },
     "metadata": {},
     "output_type": "display_data"
    },
    {
     "data": {
      "text/html": [
       "<a href='http://davaotoday.com/main/economy/health/davao-region-may-breach-1000-mark-for-covid-19-cases/'> Davao region may breach 1,000 mark for Covid-19 cases</a>"
      ],
      "text/plain": [
       "<IPython.core.display.HTML object>"
      ]
     },
     "metadata": {},
     "output_type": "display_data"
    },
    {
     "data": {
      "text/html": [
       "<a href='https://politics.com.ph/gcq-in-metro-manila-extended-till-month-end2/'> GCQ in Metro Manila extended till month-end</a>"
      ],
      "text/plain": [
       "<IPython.core.display.HTML object>"
      ]
     },
     "metadata": {},
     "output_type": "display_data"
    },
    {
     "data": {
      "text/html": [
       "<a href='https://politics.com.ph/list-areas-under-mgcq-gcq-mecq-until-end-july/'> LIST: Areas under MGCQ, GCQ, MECQ until end-July</a>"
      ],
      "text/plain": [
       "<IPython.core.display.HTML object>"
      ]
     },
     "metadata": {},
     "output_type": "display_data"
    },
    {
     "data": {
      "text/html": [
       "<a href='https://www.manilatimes.net/2020/07/21/news/latest-stories/lotto-resumes-on-aug-4-but-in-gcq-mgcq-areas-only/744028/'> Lotto resumes on Aug 4 but in GCQ, MGCQ areas only</a>"
      ],
      "text/plain": [
       "<IPython.core.display.HTML object>"
      ]
     },
     "metadata": {},
     "output_type": "display_data"
    },
    {
     "data": {
      "text/html": [
       "<a href='https://www.manilatimes.net/2020/07/22/news/top-stories/navotas-quarantine-facilities-full/744076/'> Navotas quarantine facilities full</a>"
      ],
      "text/plain": [
       "<IPython.core.display.HTML object>"
      ]
     },
     "metadata": {},
     "output_type": "display_data"
    },
    {
     "data": {
      "text/html": [
       "<a href='https://www.eaglenews.ph/pnp-covid-19-cases-reach-1564/'> PNP COVID-19 cases reach 1564</a>"
      ],
      "text/plain": [
       "<IPython.core.display.HTML object>"
      ]
     },
     "metadata": {},
     "output_type": "display_data"
    },
    {
     "data": {
      "text/html": [
       "<a href='https://www.theborneopost.com/2020/07/21/two-coronavirus-vaccines-produce-immune-response/'> Two coronavirus vaccines ‘produce immune response’</a>"
      ],
      "text/plain": [
       "<IPython.core.display.HTML object>"
      ]
     },
     "metadata": {},
     "output_type": "display_data"
    },
    {
     "data": {
      "text/html": [
       "<a href='https://politics.com.ph/dedicate-it-to-the-lord-duterte-asks-for-sacrifices-as-covid-cases-continue-rise/'> ‘Dedicate it to the Lord’: Duterte asks for sacrifices as COVID cases continue rise</a>"
      ],
      "text/plain": [
       "<IPython.core.display.HTML object>"
      ]
     },
     "metadata": {},
     "output_type": "display_data"
    },
    {
     "data": {
      "text/html": [
       "<a href='https://www.interaksyon.com/politics-issues/2020/07/16/173110/panalo-na-naman-tayo-filipinos-recall-roques-congratulations-philippines-covid-19-cases-exceed-60k/'> ‘Panalo na naman tayo’: Filipinos recall Roque’s ‘Congratulations Philippines’ as COVID-19 cases exceed 60K</a>"
      ],
      "text/plain": [
       "<IPython.core.display.HTML object>"
      ]
     },
     "metadata": {},
     "output_type": "display_data"
    },
    {
     "name": "stdout",
     "output_type": "stream",
     "text": [
      "\n",
      "AUTHORITARIANISM/ DEMOCRACY THREAT NEWS ITEMS: \n"
     ]
    },
    {
     "data": {
      "text/html": [
       "<a href='https://www.manilatimes.net/2020/07/22/news/national/arrest-quarantine-violators-duterte/744091/'> Arrest quarantine violators – Duterte</a>"
      ],
      "text/plain": [
       "<IPython.core.display.HTML object>"
      ]
     },
     "metadata": {},
     "output_type": "display_data"
    },
    {
     "data": {
      "text/html": [
       "<a href='https://www.mindanews.com/peace-process/2020/06/bangsamoro-parliament-has-yet-to-act-on-resolution-expressing-grave-concern-over-proposed-anti-terrorism-act/'> Bangsamoro Parliament has yet to act on resolution expressing “grave concern” over proposed Anti-Terrorism Act</a>"
      ],
      "text/plain": [
       "<IPython.core.display.HTML object>"
      ]
     },
     "metadata": {},
     "output_type": "display_data"
    },
    {
     "data": {
      "text/html": [
       "<a href='https://politics.com.ph/bong-go-brands-trillanes-king-of-fake-news/'> Bong Go brands Trillanes ‘king of fake news’</a>"
      ],
      "text/plain": [
       "<IPython.core.display.HTML object>"
      ]
     },
     "metadata": {},
     "output_type": "display_data"
    },
    {
     "data": {
      "text/html": [
       "<a href='https://politics.com.ph/cayetano-justifies-dutertes-war-on-oligarchs-ilang-henerasyon-na-silang-nakinabang-di-naman-namin-inaagaw-negosyo-nila/'> Cayetano justifies Duterte’s war on oligarchs: Ilang henerasyon na silang nakinabang, ‘di naman namin inaagaw negosyo nila!</a>"
      ],
      "text/plain": [
       "<IPython.core.display.HTML object>"
      ]
     },
     "metadata": {},
     "output_type": "display_data"
    },
    {
     "data": {
      "text/html": [
       "<a href='https://politics.com.ph/cha-cha-not-a-duterte-priority-for-now-palace/'> Cha-cha not a Duterte priority for now: Palace</a>"
      ],
      "text/plain": [
       "<IPython.core.display.HTML object>"
      ]
     },
     "metadata": {},
     "output_type": "display_data"
    },
    {
     "data": {
      "text/html": [
       "<a href='https://politics.com.ph/duterte-asks-cops-to-arrest-quarantine-violators-a-little-shame-would-put-them-on-notice-forever/'> Duterte asks cops to arrest quarantine violators: ‘A little shame would put them on notice forever’</a>"
      ],
      "text/plain": [
       "<IPython.core.display.HTML object>"
      ]
     },
     "metadata": {},
     "output_type": "display_data"
    },
    {
     "data": {
      "text/html": [
       "<a href='https://politics.com.ph/duterte-denies-hand-in-abs-cbn-franchise-death-congress-ang-nagpasara-niyan/'> Duterte denies hand in ABS-CBN franchise death: ‘Congress ang nagpasara niyan’</a>"
      ],
      "text/plain": [
       "<IPython.core.display.HTML object>"
      ]
     },
     "metadata": {},
     "output_type": "display_data"
    },
    {
     "data": {
      "text/html": [
       "<a href='https://politics.com.ph/duterte-echoes-marcoletas-move-to-evict-lopezes-from-abs-cbn-compound-yung-titulo-nila-lokohan/'> Duterte echoes Marcoleta’s move to evict Lopezes from ABS-CBN compound: Yung titulo nila, lokohan!</a>"
      ],
      "text/plain": [
       "<IPython.core.display.HTML object>"
      ]
     },
     "metadata": {},
     "output_type": "display_data"
    },
    {
     "data": {
      "text/html": [
       "<a href='https://politics.com.ph/duterte-pa-more-charter-change-to-be-revived-for-no-el-2022/'> Duterte pa more! Charter change to be revived for ‘No-el’ 2022</a>"
      ],
      "text/plain": [
       "<IPython.core.display.HTML object>"
      ]
     },
     "metadata": {},
     "output_type": "display_data"
    },
    {
     "data": {
      "text/html": [
       "<a href='https://politics.com.ph/duterte-thinks-drilon-authored-onerous-water-deals-kaya-sya-nag-warning/'> Duterte thinks Drilon authored ‘onerous’ water deals: ‘Kaya s’ya nag warning’</a>"
      ],
      "text/plain": [
       "<IPython.core.display.HTML object>"
      ]
     },
     "metadata": {},
     "output_type": "display_data"
    },
    {
     "data": {
      "text/html": [
       "<a href='https://politics.com.ph/duterte-threatens-to-close-down-jt-express-wants-probe-into-alleged-cargo-mishandling/'> Duterte threatens to ‘close down’ J&T Express, wants probe into alleged cargo mishandling</a>"
      ],
      "text/plain": [
       "<IPython.core.display.HTML object>"
      ]
     },
     "metadata": {},
     "output_type": "display_data"
    },
    {
     "data": {
      "text/html": [
       "<a href='https://politics.com.ph/fascist-government-palace-says-jerry-gracio-should-never-have-agreed-to-serve-duterte-admin/'> Fascist government? Palace says Jerry Gracio should never have agreed to serve Duterte admin</a>"
      ],
      "text/plain": [
       "<IPython.core.display.HTML object>"
      ]
     },
     "metadata": {},
     "output_type": "display_data"
    },
    {
     "data": {
      "text/html": [
       "<a href='https://politics.com.ph/gretchen-barretto-still-a-duterte-loyalist-silent-on-abs-cbn-franchise-denial/'> Gretchen Barretto still a Duterte loyalist, silent on ABS-CBN franchise denial</a>"
      ],
      "text/plain": [
       "<IPython.core.display.HTML object>"
      ]
     },
     "metadata": {},
     "output_type": "display_data"
    },
    {
     "data": {
      "text/html": [
       "<a href='http://davaotoday.com/main/todays-views/how-is-the-duterte-regime-normalizing-the-filipino-suffering-part-1/'> How is the Duterte regime normalizing the Filipino suffering? (Part 1)</a>"
      ],
      "text/plain": [
       "<IPython.core.display.HTML object>"
      ]
     },
     "metadata": {},
     "output_type": "display_data"
    },
    {
     "data": {
      "text/html": [
       "<a href='http://davaotoday.com/main/todays-views/how-is-the-duterte-regime-normalizing-the-filipino-suffering-part-2/'> How is the Duterte regime normalizing the Filipino suffering? (Part 2)</a>"
      ],
      "text/plain": [
       "<IPython.core.display.HTML object>"
      ]
     },
     "metadata": {},
     "output_type": "display_data"
    },
    {
     "data": {
      "text/html": [
       "<a href='https://www.eaglenews.ph/in-photos-president-duterte-undergoes-covid-19-test-along-with-sen-bong-go/'> In photos:  President Duterte undergoes COVID-19 test, along with Sen. Bong Go</a>"
      ],
      "text/plain": [
       "<IPython.core.display.HTML object>"
      ]
     },
     "metadata": {},
     "output_type": "display_data"
    },
    {
     "data": {
      "text/html": [
       "<a href='https://politics.com.ph/its-confirmed-duterte-to-physically-deliver-sona-in-batasan/'> It’s confirmed: Duterte to physically deliver SONA in Batasan</a>"
      ],
      "text/plain": [
       "<IPython.core.display.HTML object>"
      ]
     },
     "metadata": {},
     "output_type": "display_data"
    },
    {
     "data": {
      "text/html": [
       "<a href='https://politics.com.ph/magkaisa-na-kayo-kayo-na-magpatakbo-abs-cbn-employees-urged-to-seek-duterte-ntc-backing-for-network-takeover/'> Magkaisa na kayo, kayo na magpatakbo! ABS-CBN employees urged to seek Duterte, NTC backing for network takeover</a>"
      ],
      "text/plain": [
       "<IPython.core.display.HTML object>"
      ]
     },
     "metadata": {},
     "output_type": "display_data"
    },
    {
     "data": {
      "text/html": [
       "<a href='https://www.manilatimes.net/2020/07/21/news/latest-stories/psg-vows-360-degree-shield-for-duterte-on-sona-day/744046/'> PSG vows ‘360 degree shield’ for Duterte on SONA day</a>"
      ],
      "text/plain": [
       "<IPython.core.display.HTML object>"
      ]
     },
     "metadata": {},
     "output_type": "display_data"
    },
    {
     "data": {
      "text/html": [
       "<a href='https://politics.com.ph/palace-not-100-sure-duterte-will-deliver-sona-in-batasan/'> Palace not 100% sure Duterte will deliver SONA in Batasan</a>"
      ],
      "text/plain": [
       "<IPython.core.display.HTML object>"
      ]
     },
     "metadata": {},
     "output_type": "display_data"
    },
    {
     "data": {
      "text/html": [
       "<a href='https://politics.com.ph/palace-to-kiko-pangilinan-challenge-congress-not-duterte-to-pass-anti-political-dynasty-law/'> Palace to Kiko Pangilinan: Challenge Congress, not Duterte, to pass anti-political dynasty law</a>"
      ],
      "text/plain": [
       "<IPython.core.display.HTML object>"
      ]
     },
     "metadata": {},
     "output_type": "display_data"
    },
    {
     "data": {
      "text/html": [
       "<a href='https://politics.com.ph/parang-walang-natutunan-sa-pma-mon-tulfo-blasts-dela-rosa-for-advising-abs-cbn-employees-to-look-for-other-jobs/'> Parang walang natutunan sa PMA! Mon Tulfo blasts Dela Rosa for advising ABS-CBN employees to look for other jobs</a>"
      ],
      "text/plain": [
       "<IPython.core.display.HTML object>"
      ]
     },
     "metadata": {},
     "output_type": "display_data"
    },
    {
     "data": {
      "text/html": [
       "<a href='https://www.interaksyon.com/politics-issues/2020/07/20/173255/philippines-defends-anti-terror-law-before-us-congress/'> Philippines defends anti-terror law before US Congress</a>"
      ],
      "text/plain": [
       "<IPython.core.display.HTML object>"
      ]
     },
     "metadata": {},
     "output_type": "display_data"
    },
    {
     "data": {
      "text/html": [
       "<a href='https://www.benarnews.org/english/news/philippine/anti-terror-law-07072020132111.html'> Philippines: Leaders of Autonomous Region Covet Seat on Anti-Terror Council</a>"
      ],
      "text/plain": [
       "<IPython.core.display.HTML object>"
      ]
     },
     "metadata": {},
     "output_type": "display_data"
    },
    {
     "data": {
      "text/html": [
       "<a href='https://www.eaglenews.ph/senator-dela-rosa-posts-photo-of-pnp-chief-gamboa-in-hospital-to-show-that-hes-okay/'> Senator Dela Rosa posts photo of PNP chief Gamboa in hospital to show that he’s okay</a>"
      ],
      "text/plain": [
       "<IPython.core.display.HTML object>"
      ]
     },
     "metadata": {},
     "output_type": "display_data"
    },
    {
     "data": {
      "text/html": [
       "<a href='/Opinion/Strongman-Duterte-s-COVID-19-failings-usher-in-new-generation-of-leaders'> Strongman Duterte's COVID-19 failings usher in new generation of leaders</a>"
      ],
      "text/plain": [
       "<IPython.core.display.HTML object>"
      ]
     },
     "metadata": {},
     "output_type": "display_data"
    },
    {
     "data": {
      "text/html": [
       "<a href='https://politics.com.ph/top-tweets-mike-defensor-defends-family-trillanes-hits-duterte-cayetano-on-abs-cbn-shutdown-frankie-brands-dds-as-most-toxic-fandom/'> Top tweets: Mike Defensor defends family; Trillanes hits Duterte, Cayetano on ABS-CBN shutdown; Frankie brands DDS as most toxic fandom</a>"
      ],
      "text/plain": [
       "<IPython.core.display.HTML object>"
      ]
     },
     "metadata": {},
     "output_type": "display_data"
    },
    {
     "data": {
      "text/html": [
       "<a href='https://politics.com.ph/di-aabot-sa-sampung-boto-iglesia-ni-cristo-pulong-duterte-team-up-to-kill-abs-cbns-franchise-bid/'> ‘Di aabot sa sampung boto! Iglesia Ni Cristo, Pulong Duterte team up to kill ABS-CBN’s franchise bid</a>"
      ],
      "text/plain": [
       "<IPython.core.display.HTML object>"
      ]
     },
     "metadata": {},
     "output_type": "display_data"
    },
    {
     "data": {
      "text/html": [
       "<a href='https://politics.com.ph/lungkot-na-lungkot-siya-duterte-wants-to-talk-to-cops-who-killed-soldiers-in-jolo-shooting-incident/'> ‘Lungkot na lungkot siya’: Duterte wants to talk to cops who killed soldiers in Jolo shooting incident</a>"
      ],
      "text/plain": [
       "<IPython.core.display.HTML object>"
      ]
     },
     "metadata": {},
     "output_type": "display_data"
    },
    {
     "data": {
      "text/html": [
       "<a href='https://politics.com.ph/may-kalalagyan-ka-trillanes-rips-bong-go-for-bullying-student/'> ‘May kalalagyan ka:’ Trillanes rips Bong Go for bullying student</a>"
      ],
      "text/plain": [
       "<IPython.core.display.HTML object>"
      ]
     },
     "metadata": {},
     "output_type": "display_data"
    },
    {
     "data": {
      "text/html": [
       "<a href='https://politics.com.ph/reposting-not-knowing-if-its-true-sharon-cuneta-curious-about-politiko-article-on-alleged-pulong-duterte-iglesia-ni-cristo-link-to-abs-cbn-shutdown/'> ‘Reposting, not knowing if it’s true:’ Sharon Cuneta curious about Politiko article on alleged Pulong Duterte-Iglesia Ni Cristo link to ABS-CBN shutdown</a>"
      ],
      "text/plain": [
       "<IPython.core.display.HTML object>"
      ]
     },
     "metadata": {},
     "output_type": "display_data"
    },
    {
     "data": {
      "text/html": [
       "<a href='https://politics.com.ph/we-will-never-forget-trillanes-slams-duterte-cayetano-over-abs-cbn-shutdown/'> ‘We will never forget:’ Trillanes slams Duterte, Cayetano over ABS-CBN shutdown</a>"
      ],
      "text/plain": [
       "<IPython.core.display.HTML object>"
      ]
     },
     "metadata": {},
     "output_type": "display_data"
    },
    {
     "name": "stdout",
     "output_type": "stream",
     "text": [
      "\n",
      "CHINA THREAT TO THE PHILIPPINES NEWS ITEMS: \n"
     ]
    },
    {
     "data": {
      "text/html": [
       "<a href='https://www.benarnews.org/english/news/indonesian/sea-concerns-06262020145459.html'> ASEAN Leaders Assert Importance of Free Airspace over South China Sea</a>"
      ],
      "text/plain": [
       "<IPython.core.display.HTML object>"
      ]
     },
     "metadata": {},
     "output_type": "display_data"
    },
    {
     "data": {
      "text/html": [
       "<a href='https://www.interaksyon.com/politics-issues/2020/07/17/173153/explainer-whats-behind-rising-tensions-in-the-south-china-sea/'> Explainer: What’s behind rising tensions in the South China Sea?</a>"
      ],
      "text/plain": [
       "<IPython.core.display.HTML object>"
      ]
     },
     "metadata": {},
     "output_type": "display_data"
    },
    {
     "data": {
      "text/html": [
       "<a href='https://www.manilatimes.net/author/xilian/'> Posts by Huang Xilian, Chinese Ambassador</a>"
      ],
      "text/plain": [
       "<IPython.core.display.HTML object>"
      ]
     },
     "metadata": {},
     "output_type": "display_data"
    },
    {
     "data": {
      "text/html": [
       "<a href='https://www.manilatimes.net/author/lito-lorenzana/'> Posts by Lito Monico C. Lorenzana</a>"
      ],
      "text/plain": [
       "<IPython.core.display.HTML object>"
      ]
     },
     "metadata": {},
     "output_type": "display_data"
    },
    {
     "data": {
      "text/html": [
       "<a href='http://retiredanalyst.blogspot.com/2020/07/us-response-to-chinas-aggression-in.html'> Retired Analyst: U.S. Response To China’s Aggression In The South China Sea Is A Dangerous Business </a>"
      ],
      "text/plain": [
       "<IPython.core.display.HTML object>"
      ]
     },
     "metadata": {},
     "output_type": "display_data"
    },
    {
     "data": {
      "text/html": [
       "<a href='https://www.benarnews.org/english/news/philippine/risks-rise-07102020171250.html'> Risk of Conflict between US, China Rising in South China Sea, Analysts Say</a>"
      ],
      "text/plain": [
       "<IPython.core.display.HTML object>"
      ]
     },
     "metadata": {},
     "output_type": "display_data"
    },
    {
     "data": {
      "text/html": [
       "<a href='/Politics/International-relations/South-China-Sea/US-to-strengthen-electronic-warfare-abilities-in-South-China-Sea'> US to strengthen electronic-warfare abilities in South China Sea</a>"
      ],
      "text/plain": [
       "<IPython.core.display.HTML object>"
      ]
     },
     "metadata": {},
     "output_type": "display_data"
    },
    {
     "name": "stdout",
     "output_type": "stream",
     "text": [
      "\n",
      "CHRISTIAN AND RELIGIOUS GROUPS NEWS ITEMS: \n"
     ]
    },
    {
     "data": {
      "text/html": [
       "<a href='https://www.eaglenews.ph/iglesia-ni-cristo-church-of-christ-in-hawaii-conducts-contact-free-aid-to-humanity-during-covid-19-crisis/'> Iglesia Ni Cristo (Church Of Christ) in Hawaii conducts contact-free Aid to Humanity during COVID-19 crisis</a>"
      ],
      "text/plain": [
       "<IPython.core.display.HTML object>"
      ]
     },
     "metadata": {},
     "output_type": "display_data"
    },
    {
     "data": {
      "text/html": [
       "<a href='https://www.eaglenews.ph/iglesia-ni-cristo-in-taiwan-holds-lingap-for-ofws/'> Iglesia Ni Cristo in Taiwan holds “Lingap for OFWs”</a>"
      ],
      "text/plain": [
       "<IPython.core.display.HTML object>"
      ]
     },
     "metadata": {},
     "output_type": "display_data"
    },
    {
     "data": {
      "text/html": [
       "<a href='https://www.eaglenews.ph/in-photos-iglesia-ni-cristo-starts-lingap-sa-mamamayan-to-help-those-affected-by-mindanao-quakes/'> In photos: Iglesia Ni Cristo starts “Lingap sa Mamamayan” to help those affected by Mindanao quakes</a>"
      ],
      "text/plain": [
       "<IPython.core.display.HTML object>"
      ]
     },
     "metadata": {},
     "output_type": "display_data"
    },
    {
     "data": {
      "text/html": [
       "<a href='https://politics.com.ph/not-so-fast-inc-cbcp-has-best-shot-at-getting-abs-cbn-frequency-find-out-how/'> Not so fast INC: CBCP has best shot at getting ABS-CBN frequency. Find out how</a>"
      ],
      "text/plain": [
       "<IPython.core.display.HTML object>"
      ]
     },
     "metadata": {},
     "output_type": "display_data"
    },
    {
     "data": {
      "text/html": [
       "<a href='https://politics.com.ph/di-aabot-sa-sampung-boto-iglesia-ni-cristo-pulong-duterte-team-up-to-kill-abs-cbns-franchise-bid/'> ‘Di aabot sa sampung boto! Iglesia Ni Cristo, Pulong Duterte team up to kill ABS-CBN’s franchise bid</a>"
      ],
      "text/plain": [
       "<IPython.core.display.HTML object>"
      ]
     },
     "metadata": {},
     "output_type": "display_data"
    },
    {
     "data": {
      "text/html": [
       "<a href='https://politics.com.ph/reposting-not-knowing-if-its-true-sharon-cuneta-curious-about-politiko-article-on-alleged-pulong-duterte-iglesia-ni-cristo-link-to-abs-cbn-shutdown/'> ‘Reposting, not knowing if it’s true:’ Sharon Cuneta curious about Politiko article on alleged Pulong Duterte-Iglesia Ni Cristo link to ABS-CBN shutdown</a>"
      ],
      "text/plain": [
       "<IPython.core.display.HTML object>"
      ]
     },
     "metadata": {},
     "output_type": "display_data"
    },
    {
     "name": "stdout",
     "output_type": "stream",
     "text": [
      "\n",
      "ECONOMY NEWS ITEMS: \n"
     ]
    },
    {
     "data": {
      "text/html": [
       "<a href='http://davaotoday.com/main/headline/misor-wants-final-version-of-iatf-guidelines-on-backriding-policy/'> MisOr wants final version of IATF guidelines on backriding policy</a>"
      ],
      "text/plain": [
       "<IPython.core.display.HTML object>"
      ]
     },
     "metadata": {},
     "output_type": "display_data"
    },
    {
     "data": {
      "text/html": [
       "<a href='https://www.manilatimes.net/2020/07/22/business/business-top/profit-taking-drags-psei-investors-still-on-sidelines/744285/'> Profit-taking drags PSEi; investors still on sidelines</a>"
      ],
      "text/plain": [
       "<IPython.core.display.HTML object>"
      ]
     },
     "metadata": {},
     "output_type": "display_data"
    },
    {
     "name": "stdout",
     "output_type": "stream",
     "text": [
      "\n",
      "INSURGENCY RELATED NEWS ITEMS: \n"
     ]
    },
    {
     "data": {
      "text/html": [
       "<a href='http://davaotoday.com/main/human-rights/advocacy-groups-lawyers-file-10th-petition-vs-anti-terror-law/'> Advocacy groups, lawyers file 10th petition vs. anti-terror law</a>"
      ],
      "text/plain": [
       "<IPython.core.display.HTML object>"
      ]
     },
     "metadata": {},
     "output_type": "display_data"
    },
    {
     "data": {
      "text/html": [
       "<a href='https://www.mindanews.com/peace-process/2020/06/bangsamoro-parliament-has-yet-to-act-on-resolution-expressing-grave-concern-over-proposed-anti-terrorism-act/'> Bangsamoro Parliament has yet to act on resolution expressing “grave concern” over proposed Anti-Terrorism Act</a>"
      ],
      "text/plain": [
       "<IPython.core.display.HTML object>"
      ]
     },
     "metadata": {},
     "output_type": "display_data"
    },
    {
     "data": {
      "text/html": [
       "<a href='https://www.mindanews.com/peace-process/2020/01/ceasefire-holding-sison-says-he-is-ready-to-meet-duterte-in-hanoi/'> Ceasefire holding; Sison says he is ready to meet Duterte in Hanoi  </a>"
      ],
      "text/plain": [
       "<IPython.core.display.HTML object>"
      ]
     },
     "metadata": {},
     "output_type": "display_data"
    },
    {
     "data": {
      "text/html": [
       "<a href='https://www.manilatimes.net/2020/07/22/news/regions/female-npa-fighter-dies-in-surigao-norte-clash/744132/'> Female NPA fighter dies in Surigao Norte clash</a>"
      ],
      "text/plain": [
       "<IPython.core.display.HTML object>"
      ]
     },
     "metadata": {},
     "output_type": "display_data"
    },
    {
     "data": {
      "text/html": [
       "<a href='https://www.interaksyon.com/politics-issues/2020/07/20/173255/philippines-defends-anti-terror-law-before-us-congress/'> Philippines defends anti-terror law before US Congress</a>"
      ],
      "text/plain": [
       "<IPython.core.display.HTML object>"
      ]
     },
     "metadata": {},
     "output_type": "display_data"
    },
    {
     "data": {
      "text/html": [
       "<a href='https://www.benarnews.org/english/news/philippine/anti-terror-law-07072020132111.html'> Philippines: Leaders of Autonomous Region Covet Seat on Anti-Terror Council</a>"
      ],
      "text/plain": [
       "<IPython.core.display.HTML object>"
      ]
     },
     "metadata": {},
     "output_type": "display_data"
    },
    {
     "data": {
      "text/html": [
       "<a href='http://retiredanalyst.blogspot.com/2020/07/npa-killed-in-surigao-del-norte-clash.html'> Retired Analyst:  NPA killed in Surigao del Norte clash with soldiers</a>"
      ],
      "text/plain": [
       "<IPython.core.display.HTML object>"
      ]
     },
     "metadata": {},
     "output_type": "display_data"
    },
    {
     "data": {
      "text/html": [
       "<a href='http://retiredanalyst.blogspot.com/2020/07/anti-terrorism-law-fears-unfounded-dnd.html'> Retired Analyst: Anti-terrorism law fears unfounded: DND chief </a>"
      ],
      "text/plain": [
       "<IPython.core.display.HTML object>"
      ]
     },
     "metadata": {},
     "output_type": "display_data"
    },
    {
     "data": {
      "text/html": [
       "<a href='http://retiredanalyst.blogspot.com/2020/07/female-npa-rebel-killed-in-surigao.html'> Retired Analyst: Female NPA rebel killed in Surigao Norte clash </a>"
      ],
      "text/plain": [
       "<IPython.core.display.HTML object>"
      ]
     },
     "metadata": {},
     "output_type": "display_data"
    },
    {
     "data": {
      "text/html": [
       "<a href='http://retiredanalyst.blogspot.com/2020/07/govt-troops-npa-rebels-clash-in-zambo.html'> Retired Analyst: Gov't troops, NPA rebels clash in Zambo Norte town</a>"
      ],
      "text/plain": [
       "<IPython.core.display.HTML object>"
      ]
     },
     "metadata": {},
     "output_type": "display_data"
    },
    {
     "data": {
      "text/html": [
       "<a href='http://retiredanalyst.blogspot.com/2020/07/laak-declares-cpp-npa-allied-groups.html'> Retired Analyst: Laak declares CPP-NPA, allied groups persona non grata </a>"
      ],
      "text/plain": [
       "<IPython.core.display.HTML object>"
      ]
     },
     "metadata": {},
     "output_type": "display_data"
    },
    {
     "data": {
      "text/html": [
       "<a href='http://retiredanalyst.blogspot.com/2020/07/mayor-troops-welcome-npa-leader-fighter.html'> Retired Analyst: Mayor, troops welcome NPA leader, fighter </a>"
      ],
      "text/plain": [
       "<IPython.core.display.HTML object>"
      ]
     },
     "metadata": {},
     "output_type": "display_data"
    },
    {
     "data": {
      "text/html": [
       "<a href='http://retiredanalyst.blogspot.com/2020/07/npa-hit-for-using-tribal-villagers-as.html'> Retired Analyst: NPA hit for using tribal villagers as shield in Surigao Sur</a>"
      ],
      "text/plain": [
       "<IPython.core.display.HTML object>"
      ]
     },
     "metadata": {},
     "output_type": "display_data"
    },
    {
     "data": {
      "text/html": [
       "<a href='http://retiredanalyst.blogspot.com/2020/07/npa-owns-killing-of-military-asset.html'> Retired Analyst: NPA owns killing of ‘military asset’</a>"
      ],
      "text/plain": [
       "<IPython.core.display.HTML object>"
      ]
     },
     "metadata": {},
     "output_type": "display_data"
    },
    {
     "data": {
      "text/html": [
       "<a href='http://retiredanalyst.blogspot.com/2020/07/public-warned-vs-npa-online-drive.html'> Retired Analyst: Public warned vs. NPA online drive during health crisis </a>"
      ],
      "text/plain": [
       "<IPython.core.display.HTML object>"
      ]
     },
     "metadata": {},
     "output_type": "display_data"
    },
    {
     "data": {
      "text/html": [
       "<a href='http://retiredanalyst.blogspot.com/2020/07/soldier-wounded-in-clash-with-npa.html'> Retired Analyst: Soldier wounded in clash with NPA rebels in Capiz</a>"
      ],
      "text/plain": [
       "<IPython.core.display.HTML object>"
      ]
     },
     "metadata": {},
     "output_type": "display_data"
    },
    {
     "data": {
      "text/html": [
       "<a href='http://retiredanalyst.blogspot.com/2020/07/soldiers-dig-npa-leaders-rifle.html'> Retired Analyst: Soldiers dig NPA leader’s rifle, ammunition following tip</a>"
      ],
      "text/plain": [
       "<IPython.core.display.HTML object>"
      ]
     },
     "metadata": {},
     "output_type": "display_data"
    },
    {
     "data": {
      "text/html": [
       "<a href='http://davaotoday.com/main/todays-views/terrorizing-the-people-with-the-anti-terror-bill/'> Terrorizing the people with the anti-terror bill</a>"
      ],
      "text/plain": [
       "<IPython.core.display.HTML object>"
      ]
     },
     "metadata": {},
     "output_type": "display_data"
    },
    {
     "data": {
      "text/html": [
       "<a href='https://politics.com.ph/di-magpapadala-sa-pressure-guevarra-vows-conscience-will-prevail-in-dojs-review-of-anti-terror-bill/'> ‘Di magpapadala sa pressure! Guevarra vows conscience will prevail in DOJ’s review of anti-terror bill</a>"
      ],
      "text/plain": [
       "<IPython.core.display.HTML object>"
      ]
     },
     "metadata": {},
     "output_type": "display_data"
    },
    {
     "name": "stdout",
     "output_type": "stream",
     "text": [
      "\n",
      "MORO ISSUES RELATED NEWS ITEMS: \n"
     ]
    },
    {
     "data": {
      "text/html": [
       "<a href='https://www.mindanews.com/top-stories/2020/07/84-cotabato-city-health-personnel-placed-under-14-day-quarantine/'> 92 Cotabato City health personnel placed under 14-day quarantine</a>"
      ],
      "text/plain": [
       "<IPython.core.display.HTML object>"
      ]
     },
     "metadata": {},
     "output_type": "display_data"
    },
    {
     "data": {
      "text/html": [
       "<a href='https://www.mindanews.com/mindaviews/2020/06/bangsamoro-speaks-balance-compassion-and-discipline-and-at-the-same-uphold-the-rule-of-law/'> BANGSAMORO SPEAKS: Balance compassion and discipline and at the same, uphold the rule of law</a>"
      ],
      "text/plain": [
       "<IPython.core.display.HTML object>"
      ]
     },
     "metadata": {},
     "output_type": "display_data"
    },
    {
     "data": {
      "text/html": [
       "<a href='https://www.mindanews.com/top-stories/2020/07/barmm-seeks-probe-of-moro-killings-in-south-cotabato/'> BARMM seeks probe of Moro killings in South Cotabato</a>"
      ],
      "text/plain": [
       "<IPython.core.display.HTML object>"
      ]
     },
     "metadata": {},
     "output_type": "display_data"
    },
    {
     "data": {
      "text/html": [
       "<a href='https://www.mindanews.com/peace-process/2020/06/bangsamoro-parliament-has-yet-to-act-on-resolution-expressing-grave-concern-over-proposed-anti-terrorism-act/'> Bangsamoro Parliament has yet to act on resolution expressing “grave concern” over proposed Anti-Terrorism Act</a>"
      ],
      "text/plain": [
       "<IPython.core.display.HTML object>"
      ]
     },
     "metadata": {},
     "output_type": "display_data"
    },
    {
     "data": {
      "text/html": [
       "<a href='http://davaotoday.com/main/economy/cdo-firm-soon-to-provide-bulk-water-supply-in-cotabato-bislig/'> CDO firm soon to provide bulk water supply in Cotabato, Bislig</a>"
      ],
      "text/plain": [
       "<IPython.core.display.HTML object>"
      ]
     },
     "metadata": {},
     "output_type": "display_data"
    },
    {
     "data": {
      "text/html": [
       "<a href='https://www.mindanews.com/peace-process/2020/02/cotabato-city-seeks-exclusion-from-barmm-until-june-30-2022/'> Cotabato City seeks exclusion from BARMM until June 30, 2022</a>"
      ],
      "text/plain": [
       "<IPython.core.display.HTML object>"
      ]
     },
     "metadata": {},
     "output_type": "display_data"
    },
    {
     "data": {
      "text/html": [
       "<a href='https://politics.com.ph/harry-roque-mum-on-dutertes-fresh-tirades-vs-lopezes-i-was-not-in-jolo/'> Harry Roque mum on Duterte’s fresh tirades vs Lopezes: ‘I was not in Jolo’</a>"
      ],
      "text/plain": [
       "<IPython.core.display.HTML object>"
      ]
     },
     "metadata": {},
     "output_type": "display_data"
    },
    {
     "data": {
      "text/html": [
       "<a href='https://politics.com.ph/nbi-files-murder-raps-vs-9-jolo-cops-over-soldiers-slay/'> NBI files murder raps vs 9 Jolo cops over soldiers’ slay</a>"
      ],
      "text/plain": [
       "<IPython.core.display.HTML object>"
      ]
     },
     "metadata": {},
     "output_type": "display_data"
    },
    {
     "data": {
      "text/html": [
       "<a href='https://www.theborneopost.com/2020/07/21/no-new-positive-case-in-sabah/'> No new positive case in Sabah</a>"
      ],
      "text/plain": [
       "<IPython.core.display.HTML object>"
      ]
     },
     "metadata": {},
     "output_type": "display_data"
    },
    {
     "data": {
      "text/html": [
       "<a href='https://www.theborneopost.com/2020/07/22/parliament-sabah-sarawak-mps-raise-ma63-issue-again/'> Parliament: Sabah, Sarawak MPs raise MA63 issue again</a>"
      ],
      "text/plain": [
       "<IPython.core.display.HTML object>"
      ]
     },
     "metadata": {},
     "output_type": "display_data"
    },
    {
     "data": {
      "text/html": [
       "<a href='http://retiredanalyst.blogspot.com/2020/07/army-donates-50-mobile-phones-to.html'> Retired Analyst: Army donates 50 mobile phones to Cotabato City public school</a>"
      ],
      "text/plain": [
       "<IPython.core.display.HTML object>"
      ]
     },
     "metadata": {},
     "output_type": "display_data"
    },
    {
     "data": {
      "text/html": [
       "<a href='http://retiredanalyst.blogspot.com/2020/07/barmm-seeks-probe-of-moro-killings-in.html'> Retired Analyst: BARMM seeks probe of Moro killings in South Cotabato</a>"
      ],
      "text/plain": [
       "<IPython.core.display.HTML object>"
      ]
     },
     "metadata": {},
     "output_type": "display_data"
    },
    {
     "data": {
      "text/html": [
       "<a href='http://retiredanalyst.blogspot.com/2020/07/westmincom-5-communist-terrorists-from.html'> Retired Analyst: WESTMINCOM: 5 communist terrorists from Sultan Kudarat return to the fold of law</a>"
      ],
      "text/plain": [
       "<IPython.core.display.HTML object>"
      ]
     },
     "metadata": {},
     "output_type": "display_data"
    },
    {
     "data": {
      "text/html": [
       "<a href='https://www.mindanews.com/peace-process/2020/01/senate-asks-bta-to-name-reps-to-congress-bangsamoro-parliament-forum/'> Senate asks BTA to name reps to Congress-Bangsamoro Parliament Forum</a>"
      ],
      "text/plain": [
       "<IPython.core.display.HTML object>"
      ]
     },
     "metadata": {},
     "output_type": "display_data"
    },
    {
     "data": {
      "text/html": [
       "<a href='https://politics.com.ph/di-na-natutuwa-winnie-monsod-calls-soldiers-braver-better-for-staying-stone-faced-during-dutertes-jolo-speech/'> ‘Di na natutuwa! Winnie Monsod calls soldiers ‘braver, better’ for staying stone-faced during Duterte’s Jolo speech</a>"
      ],
      "text/plain": [
       "<IPython.core.display.HTML object>"
      ]
     },
     "metadata": {},
     "output_type": "display_data"
    },
    {
     "data": {
      "text/html": [
       "<a href='https://politics.com.ph/di-nanlaban-nbi-finds-no-proof-slain-soldiers-fired-at-jolo-cops/'> ‘Di nanlaban! NBI finds no proof slain soldiers fired at Jolo cops</a>"
      ],
      "text/plain": [
       "<IPython.core.display.HTML object>"
      ]
     },
     "metadata": {},
     "output_type": "display_data"
    },
    {
     "data": {
      "text/html": [
       "<a href='https://politics.com.ph/lungkot-na-lungkot-siya-duterte-wants-to-talk-to-cops-who-killed-soldiers-in-jolo-shooting-incident/'> ‘Lungkot na lungkot siya’: Duterte wants to talk to cops who killed soldiers in Jolo shooting incident</a>"
      ],
      "text/plain": [
       "<IPython.core.display.HTML object>"
      ]
     },
     "metadata": {},
     "output_type": "display_data"
    },
    {
     "name": "stdout",
     "output_type": "stream",
     "text": [
      "\n",
      "NATIONAL CAPITAL REGION RELATED NEWS ITEMS: \n"
     ]
    },
    {
     "data": {
      "text/html": [
       "<a href='https://politics.com.ph/na-bulldozer-project-ko-cayetano-justifies-kamag-anak-inc-rule-in-taguig/'> Na-bulldozer project ko! Cayetano justifies ‘Kamag-anak Inc.’ rule in Taguig</a>"
      ],
      "text/plain": [
       "<IPython.core.display.HTML object>"
      ]
     },
     "metadata": {},
     "output_type": "display_data"
    },
    {
     "name": "stdout",
     "output_type": "stream",
     "text": [
      "\n",
      "PROVINCIAL NEWS ITEMS: \n"
     ]
    },
    {
     "data": {
      "text/html": [
       "<a href='https://www.eaglenews.ph/brazil-set-to-test-chinese-coronavirus-vaccine/'> Brazil set to test Chinese coronavirus vaccine</a>"
      ],
      "text/plain": [
       "<IPython.core.display.HTML object>"
      ]
     },
     "metadata": {},
     "output_type": "display_data"
    },
    {
     "data": {
      "text/html": [
       "<a href='https://www.eaglenews.ph/covid-19-cases-in-phl-breach-70000-mark-with-1951-cases-reported-on-tuesday-july-21/'> COVID-19 cases in PHL breach 70,000 mark with 1951 cases reported on Tuesday, July 21</a>"
      ],
      "text/plain": [
       "<IPython.core.display.HTML object>"
      ]
     },
     "metadata": {},
     "output_type": "display_data"
    },
    {
     "data": {
      "text/html": [
       "<a href='http://davaotoday.com/main/economy/health/davao-region-may-breach-1000-mark-for-covid-19-cases/'> Davao region may breach 1,000 mark for Covid-19 cases</a>"
      ],
      "text/plain": [
       "<IPython.core.display.HTML object>"
      ]
     },
     "metadata": {},
     "output_type": "display_data"
    },
    {
     "data": {
      "text/html": [
       "<a href='https://politics.com.ph/gcq-in-metro-manila-extended-till-month-end2/'> GCQ in Metro Manila extended till month-end</a>"
      ],
      "text/plain": [
       "<IPython.core.display.HTML object>"
      ]
     },
     "metadata": {},
     "output_type": "display_data"
    },
    {
     "data": {
      "text/html": [
       "<a href='https://politics.com.ph/list-areas-under-mgcq-gcq-mecq-until-end-july/'> LIST: Areas under MGCQ, GCQ, MECQ until end-July</a>"
      ],
      "text/plain": [
       "<IPython.core.display.HTML object>"
      ]
     },
     "metadata": {},
     "output_type": "display_data"
    },
    {
     "data": {
      "text/html": [
       "<a href='https://www.manilatimes.net/2020/07/21/news/latest-stories/lotto-resumes-on-aug-4-but-in-gcq-mgcq-areas-only/744028/'> Lotto resumes on Aug 4 but in GCQ, MGCQ areas only</a>"
      ],
      "text/plain": [
       "<IPython.core.display.HTML object>"
      ]
     },
     "metadata": {},
     "output_type": "display_data"
    },
    {
     "data": {
      "text/html": [
       "<a href='https://www.manilatimes.net/2020/07/22/news/top-stories/navotas-quarantine-facilities-full/744076/'> Navotas quarantine facilities full</a>"
      ],
      "text/plain": [
       "<IPython.core.display.HTML object>"
      ]
     },
     "metadata": {},
     "output_type": "display_data"
    },
    {
     "data": {
      "text/html": [
       "<a href='https://www.eaglenews.ph/pnp-covid-19-cases-reach-1564/'> PNP COVID-19 cases reach 1564</a>"
      ],
      "text/plain": [
       "<IPython.core.display.HTML object>"
      ]
     },
     "metadata": {},
     "output_type": "display_data"
    },
    {
     "data": {
      "text/html": [
       "<a href='https://www.theborneopost.com/2020/07/21/two-coronavirus-vaccines-produce-immune-response/'> Two coronavirus vaccines ‘produce immune response’</a>"
      ],
      "text/plain": [
       "<IPython.core.display.HTML object>"
      ]
     },
     "metadata": {},
     "output_type": "display_data"
    },
    {
     "data": {
      "text/html": [
       "<a href='https://politics.com.ph/dedicate-it-to-the-lord-duterte-asks-for-sacrifices-as-covid-cases-continue-rise/'> ‘Dedicate it to the Lord’: Duterte asks for sacrifices as COVID cases continue rise</a>"
      ],
      "text/plain": [
       "<IPython.core.display.HTML object>"
      ]
     },
     "metadata": {},
     "output_type": "display_data"
    },
    {
     "data": {
      "text/html": [
       "<a href='https://www.interaksyon.com/politics-issues/2020/07/16/173110/panalo-na-naman-tayo-filipinos-recall-roques-congratulations-philippines-covid-19-cases-exceed-60k/'> ‘Panalo na naman tayo’: Filipinos recall Roque’s ‘Congratulations Philippines’ as COVID-19 cases exceed 60K</a>"
      ],
      "text/plain": [
       "<IPython.core.display.HTML object>"
      ]
     },
     "metadata": {},
     "output_type": "display_data"
    },
    {
     "name": "stdout",
     "output_type": "stream",
     "text": [
      "\n",
      "POLITICAL NEWS ITEMS: \n"
     ]
    },
    {
     "data": {
      "text/html": [
       "<a href='http://davaotoday.com/main/economy/health/15-hour-holding-room-set-up-for-lsis-ofws-in-davao-city/'> 15-hour holding room set up for LSIs, OFWs in Davao City</a>"
      ],
      "text/plain": [
       "<IPython.core.display.HTML object>"
      ]
     },
     "metadata": {},
     "output_type": "display_data"
    },
    {
     "data": {
      "text/html": [
       "<a href='https://www.mindanews.com/top-stories/2020/07/4-covid-19-labs-in-davao-city-in-stage-3-of-accreditation/'> 4 COVID-19 labs in Davao City in Stage 3 of accreditation</a>"
      ],
      "text/plain": [
       "<IPython.core.display.HTML object>"
      ]
     },
     "metadata": {},
     "output_type": "display_data"
    },
    {
     "data": {
      "text/html": [
       "<a href='https://edgedavao.net/entrepreneurs/2019/04/18/atty-antonio-b-partoza-jr-creating-a-name-for-davao/'> ATTY. ANTONIO B. PARTOZA JR: CREATING A NAME FOR DAVAO</a>"
      ],
      "text/plain": [
       "<IPython.core.display.HTML object>"
      ]
     },
     "metadata": {},
     "output_type": "display_data"
    },
    {
     "data": {
      "text/html": [
       "<a href='https://edgedavao.net/the-economy/2020/07/04/all-phoenix-stations-in-davao-region-back-in-operation/'> All Phoenix stations in Davao  Region back in operation</a>"
      ],
      "text/plain": [
       "<IPython.core.display.HTML object>"
      ]
     },
     "metadata": {},
     "output_type": "display_data"
    },
    {
     "data": {
      "text/html": [
       "<a href='http://davaotoday.com/main/human-rights/arrest-of-balingasag-7-draws-condemnation-from-indigenous-groups/'> Arrest of Balingasag 7 draws condemnation from indigenous groups</a>"
      ],
      "text/plain": [
       "<IPython.core.display.HTML object>"
      ]
     },
     "metadata": {},
     "output_type": "display_data"
    },
    {
     "data": {
      "text/html": [
       "<a href='https://www.mindanews.com/top-stories/2020/07/davao-city-lifts-hard-lockdown-in-barangay-23-c/'> Davao City lifts ‘hard lockdown’ in Barangay 23-C</a>"
      ],
      "text/plain": [
       "<IPython.core.display.HTML object>"
      ]
     },
     "metadata": {},
     "output_type": "display_data"
    },
    {
     "data": {
      "text/html": [
       "<a href='http://davaotoday.com/main/environment/davao-city-on-alert-for-tropical-depression-ambo/'> Davao City on alert for Tropical Depression Ambo</a>"
      ],
      "text/plain": [
       "<IPython.core.display.HTML object>"
      ]
     },
     "metadata": {},
     "output_type": "display_data"
    },
    {
     "data": {
      "text/html": [
       "<a href='http://davaotoday.com/main/headline/davao-business-sector-still-divided-on-martial-rule/'> Davao business sector still divided on martial rule</a>"
      ],
      "text/plain": [
       "<IPython.core.display.HTML object>"
      ]
     },
     "metadata": {},
     "output_type": "display_data"
    },
    {
     "data": {
      "text/html": [
       "<a href='http://davaotoday.com/main/economy/health/davao-region-may-breach-1000-mark-for-covid-19-cases/'> Davao region may breach 1,000 mark for Covid-19 cases</a>"
      ],
      "text/plain": [
       "<IPython.core.display.HTML object>"
      ]
     },
     "metadata": {},
     "output_type": "display_data"
    },
    {
     "data": {
      "text/html": [
       "<a href='https://www.mindanews.com/business/2020/05/davao-tourism-suffers-huge-drop-in-revenues-due-to-covid-19/'> Davao tourism suffers ‘huge drop’ in revenues due to COVID-19</a>"
      ],
      "text/plain": [
       "<IPython.core.display.HTML object>"
      ]
     },
     "metadata": {},
     "output_type": "display_data"
    },
    {
     "data": {
      "text/html": [
       "<a href='http://davaotoday.com/main/economy/health/davao-bound-flights-to-require-covid-19-tests-from-passengers/'> Davao-bound flights to require Covid-19 tests from passengers</a>"
      ],
      "text/plain": [
       "<IPython.core.display.HTML object>"
      ]
     },
     "metadata": {},
     "output_type": "display_data"
    },
    {
     "data": {
      "text/html": [
       "<a href='https://edgedavao.net/feature/2019/12/22/edge-davaos-and-zions-candyland-party/'> Edge Davao’s and Zion’s Candyland party</a>"
      ],
      "text/plain": [
       "<IPython.core.display.HTML object>"
      ]
     },
     "metadata": {},
     "output_type": "display_data"
    },
    {
     "data": {
      "text/html": [
       "<a href='http://davaotoday.com/main/culture-2/how-the-lumad-learned-to-survive-in-haran/'> How the Lumad learned to survive in Haran</a>"
      ],
      "text/plain": [
       "<IPython.core.display.HTML object>"
      ]
     },
     "metadata": {},
     "output_type": "display_data"
    },
    {
     "data": {
      "text/html": [
       "<a href='https://edgedavao.net/suburbia/2020/01/04/humanitarian-mission-provides-relief-in-davao-del-sur/'> Humanitarian mission provides relief in Davao del Sur</a>"
      ],
      "text/plain": [
       "<IPython.core.display.HTML object>"
      ]
     },
     "metadata": {},
     "output_type": "display_data"
    },
    {
     "data": {
      "text/html": [
       "<a href='https://www.eaglenews.ph/itcz-affects-palawan-visayas-mindanao-5/'> ITCZ affects Palawan, Visayas, Mindanao</a>"
      ],
      "text/plain": [
       "<IPython.core.display.HTML object>"
      ]
     },
     "metadata": {},
     "output_type": "display_data"
    },
    {
     "data": {
      "text/html": [
       "<a href='http://davaotoday.com/main/davao-city/investors-organize-1st-branch-in-davao/'> Investors organize 1st branch in Davao</a>"
      ],
      "text/plain": [
       "<IPython.core.display.HTML object>"
      ]
     },
     "metadata": {},
     "output_type": "display_data"
    },
    {
     "data": {
      "text/html": [
       "<a href='https://edgedavao.net/suburbia/2019/11/15/isolated-lumads-hail-govt-attention-care/'> Isolated Lumads hail gov’t attention, care</a>"
      ],
      "text/plain": [
       "<IPython.core.display.HTML object>"
      ]
     },
     "metadata": {},
     "output_type": "display_data"
    },
    {
     "data": {
      "text/html": [
       "<a href='http://davaotoday.com/main/human-rights/malaybalay-police-apologizes-for-info-drive-error-targeting-journalists/'> Malaybalay police apologizes for info-drive error targeting journalists</a>"
      ],
      "text/plain": [
       "<IPython.core.display.HTML object>"
      ]
     },
     "metadata": {},
     "output_type": "display_data"
    },
    {
     "data": {
      "text/html": [
       "<a href='https://www.manilatimes.net/2020/07/21/weekly/fast-times/modern-facility-to-rise-in-davao-city/743879/'> Modern facility to rise in Davao city</a>"
      ],
      "text/plain": [
       "<IPython.core.display.HTML object>"
      ]
     },
     "metadata": {},
     "output_type": "display_data"
    },
    {
     "data": {
      "text/html": [
       "<a href='http://davaotoday.com/main/headline/most-davao-businesses-dont-have-continuity-plan-pcci/'> Most Davao businesses don’t have continuity plan – PCCI</a>"
      ],
      "text/plain": [
       "<IPython.core.display.HTML object>"
      ]
     },
     "metadata": {},
     "output_type": "display_data"
    },
    {
     "data": {
      "text/html": [
       "<a href='https://edgedavao.net/the-big-news/2020/06/26/most-stranded-individuals-are-davao-bound-airline-exec/'> Most stranded individuals are  Davao-bound: airline exec</a>"
      ],
      "text/plain": [
       "<IPython.core.display.HTML object>"
      ]
     },
     "metadata": {},
     "output_type": "display_data"
    },
    {
     "data": {
      "text/html": [
       "<a href='https://www.eaglenews.ph/palawan-other-areas-to-have-cloudy-skies-with-scattered-rainshowers-thunderstorms-today/'> Palawan, other areas to have cloudy skies with scattered rainshowers, thunderstorms today</a>"
      ],
      "text/plain": [
       "<IPython.core.display.HTML object>"
      ]
     },
     "metadata": {},
     "output_type": "display_data"
    },
    {
     "data": {
      "text/html": [
       "<a href='https://www.mindanews.com/top-stories/2020/07/religious-compound-in-bukidnon-with-covid-19-patients-locked-down/'> Religious compound in Bukidnon with COVID-19 patients locked down</a>"
      ],
      "text/plain": [
       "<IPython.core.display.HTML object>"
      ]
     },
     "metadata": {},
     "output_type": "display_data"
    },
    {
     "data": {
      "text/html": [
       "<a href='https://edgedavao.net/special-supplement/2020/03/17/some-things-you-need-to-know-about-davao-city/'> SOME THINGS YOU NEED TO KNOW ABOUT DAVAO CITY</a>"
      ],
      "text/plain": [
       "<IPython.core.display.HTML object>"
      ]
     },
     "metadata": {},
     "output_type": "display_data"
    },
    {
     "data": {
      "text/html": [
       "<a href='https://www.mindanews.com/special-reports/2020/07/special-report-policy-review-of-waste-management-needed-as-davao-city-grapples-with-household-ppe-waste/'> SPECIAL REPORT: Policy review of waste management needed as Davao City grapples with household PPE waste</a>"
      ],
      "text/plain": [
       "<IPython.core.display.HTML object>"
      ]
     },
     "metadata": {},
     "output_type": "display_data"
    },
    {
     "name": "stdout",
     "output_type": "stream",
     "text": [
      "Errors:  0\n"
     ]
    }
   ],
   "source": [
    "\n",
    "def excluder(mystr, exclude_list):\n",
    "    excludeit = False\n",
    "    for excl in exclude_list:\n",
    "        if excl in mystr:\n",
    "            excludeit = True\n",
    "            break\n",
    "    return excludeit\n",
    "\n",
    "covid_list = []\n",
    "auth_list = []\n",
    "chinathreat_list = []\n",
    "chrgroup_list = []\n",
    "econ_list = []\n",
    "insurgency_list = []\n",
    "moro_list = []\n",
    "ncr_list = []\n",
    "province_list = []\n",
    "pulitika_list = []\n",
    "errors = 0\n",
    "pctcount1 = 0\n",
    "for paper in paperlist:\n",
    "    pctcount1 +=1\n",
    "    pctval1 = pctcount1 / len(paperlist)\n",
    "    print('Percent complete all sources list: ' + \"{:.1%}\".format(pctval1))\n",
    "    r = requests.get(paper, headers=headers)\n",
    "    soup = BeautifulSoup(r.text, 'html.parser')\n",
    "    if (paper == \"http://retiredanalyst.blogspot.com/\"):\n",
    "        myelems = soup.findAll('h3')\n",
    "#         print(len(myelems))\n",
    "        pctcount2 = 0\n",
    "        for elem in myelems:\n",
    "            pctcount2 +=1\n",
    "            pctval2 = pctcount2 / len(myelems)\n",
    "#             print('Percent complete retired analyst list: ' + \"{:.1%}\".format(pctval2))\n",
    "            # usually there is no title in the retired analyst links, so have to go get those\n",
    "            url = elem.contents[1].get('href')\n",
    "            try:\n",
    "                r2 = requests.get(url, headers=headers)\n",
    "                soup2 = BeautifulSoup(r2.text, 'html.parser')\n",
    "                titletext = soup2.title.text\n",
    "                if not excluder(titletext.lower(), exclude_list):\n",
    "                    for checker in taglist:\n",
    "                        if checker.lower() in titletext.lower():\n",
    "    #                         print(checker, titletext)\n",
    "                            if tags_in_str(titletext.lower(), covid_tagdf):\n",
    "                                covid_list.append((titletext, url))\n",
    "#                             if checker.lower() in auth_taglist:\n",
    "                            if tags_in_str(titletext.lower(), auth_tagdf):\n",
    "                                auth_list.append((titletext, url))\n",
    "                            if checker.lower() in chinathreat_taglist:\n",
    "                                chinathreat_list.append((titletext, url))\n",
    "                            if checker.lower() in chrgroup_taglist:\n",
    "                                chrgroup_list.append((titletext, url))\n",
    "                            if checker.lower() in econ_taglist:\n",
    "                                econ_list.append((titletext, url))\n",
    "                            if checker.lower() in insurgency_taglist:\n",
    "                                insurgency_list.append((titletext, url))\n",
    "                            if checker.lower() in moro_taglist:\n",
    "                                moro_list.append((titletext, url))\n",
    "                            if checker.lower() in ncr_taglist:\n",
    "                                ncr_list.append((titletext, url))\n",
    "                            if checker.lower() in province_taglist:\n",
    "                                province_list.append((titletext, url))\n",
    "                            if checker.lower() in pulitika_taglist:\n",
    "                                    pulitika_list.append((titletext, url))\n",
    "                            \n",
    "            except:\n",
    "                errors += 1\n",
    "    else:\n",
    "        myelems = soup.findAll('a')\n",
    "        pctcount3 = 0\n",
    "        for elem in myelems:\n",
    "            pctcount3 +=1\n",
    "            pctval3 = pctcount3 / len(myelems)\n",
    "#             print('Percent complete ' + paper + ' list: ' + \"{:.1%}\".format(pctval3))\n",
    "            titletext = str(elem.get('title'))\n",
    "            if not excluder(titletext.lower(), exclude_list):\n",
    "                url = elem.get('href')\n",
    "                for checker in taglist:\n",
    "                    if checker.lower() in titletext.lower():\n",
    "    #                     print(checker, titletext)\n",
    "                        if tags_in_str(titletext.lower(), covid_tagdf):\n",
    "                            covid_list.append((titletext, url))\n",
    "                        if tags_in_str(titletext.lower(), auth_tagdf):\n",
    "                            auth_list.append((titletext, url))\n",
    "                        if checker.lower() in chinathreat_taglist:\n",
    "                            chinathreat_list.append((titletext, url))\n",
    "                        if checker.lower() in chrgroup_taglist:\n",
    "                            chrgroup_list.append((titletext, url))\n",
    "                        if checker.lower() in econ_taglist:\n",
    "                            econ_list.append((titletext, url))\n",
    "                        if checker.lower() in insurgency_taglist:\n",
    "                            insurgency_list.append((titletext, url))\n",
    "                        if checker.lower() in moro_taglist:\n",
    "                            moro_list.append((titletext, url))\n",
    "                        if checker.lower() in ncr_taglist:\n",
    "                            ncr_list.append((titletext, url))\n",
    "                        if checker.lower() in province_taglist:\n",
    "                            province_list.append((titletext, url))\n",
    "                        if checker.lower() in pulitika_taglist:\n",
    "                            pulitika_list.append((titletext, url))\n",
    "                        \n",
    "covid_list = list(set(covid_list))\n",
    "covid_list.sort()\n",
    "auth_list = list(set(auth_list))\n",
    "auth_list.sort()\n",
    "chinathreat_list = list(set(chinathreat_list))\n",
    "chinathreat_list.sort()\n",
    "chrgroup_list = list(set(chrgroup_list))\n",
    "chrgroup_list.sort()\n",
    "econ_list = list(set(econ_list))\n",
    "econ_list.sort()\n",
    "insurgency_list = list(set(insurgency_list))\n",
    "insurgency_list.sort()\n",
    "moro_list = list(set(moro_list))\n",
    "moro_list.sort()\n",
    "ncr_list = list(set(ncr_list))\n",
    "ncr_list.sort()\n",
    "province_list = list(set(province_list))\n",
    "province_list.sort()\n",
    "pulitika_list = list(set(pulitika_list))\n",
    "pulitika_list.sort()\n",
    "\n",
    "               \n",
    "hitlist = covid_list+ auth_list+ chinathreat_list+ chrgroup_list+ econ_list+ insurgency_list+ moro_list+ ncr_list+ province_list+ pulitika_list\n",
    "hitlist = list(set(hitlist))\n",
    "hitlist.sort()\n",
    "# sort_disp_list = [covid_list, auth_list, chinathreat_list, chrgroup_list, econ_list, insurgency_list, moro_list, ncr_list, province_list, pulitika_list]\n",
    "# for elem in hitlist:\n",
    "#     print(elem[0])\n",
    "#     print(elem[1])\n",
    "\n",
    "def display_links(header, newslist, errors):\n",
    "    print('\\n' + header)\n",
    "    hlist = [elem[1] for elem in newslist]\n",
    "\n",
    "    for newselem in newslist:\n",
    "        if newselem[0] == 'None':\n",
    "            try:\n",
    "                r = requests.get(newselem[1], headers=headers)\n",
    "                soup = BeautifulSoup(r.text, 'html.parser')\n",
    "                titletext = soup.title.text\n",
    "                reflink = \"<a href='\" + ilink + \"'> \" + titletext + \"</a>\"\n",
    "                html = HTML(reflink)\n",
    "                display(html)\n",
    "            except:\n",
    "                errors += 1\n",
    "        else:\n",
    "            reflink = \"<a href='\" + newselem[1] + \"'> \" + newselem[0] + \"</a>\"\n",
    "            html = HTML(reflink)\n",
    "            display(html)\n",
    "            \n",
    "    return errors\n",
    "\n",
    "\n",
    "errors = display_links(\"COVID-19 NEWS ITEMS: \", covid_list, errors)\n",
    "errors = display_links(\"AUTHORITARIANISM/ DEMOCRACY THREAT NEWS ITEMS: \", auth_list, errors)\n",
    "errors = display_links(\"CHINA THREAT TO THE PHILIPPINES NEWS ITEMS: \", chinathreat_list, errors)\n",
    "errors = display_links(\"CHRISTIAN AND RELIGIOUS GROUPS NEWS ITEMS: \", chrgroup_list, errors)\n",
    "errors = display_links(\"ECONOMY NEWS ITEMS: \", econ_list, errors)\n",
    "errors = display_links(\"INSURGENCY RELATED NEWS ITEMS: \", insurgency_list, errors)\n",
    "errors = display_links(\"MORO ISSUES RELATED NEWS ITEMS: \", moro_list, errors)\n",
    "errors = display_links(\"NATIONAL CAPITAL REGION RELATED NEWS ITEMS: \", ncr_list, errors)\n",
    "errors = display_links(\"PROVINCIAL NEWS ITEMS: \", covid_list, errors)\n",
    "errors = display_links(\"POLITICAL NEWS ITEMS: \", province_list, errors)\n",
    "print(\"Errors: \", errors)"
   ]
  },
  {
   "cell_type": "code",
   "execution_count": 7,
   "metadata": {},
   "outputs": [
    {
     "data": {
      "text/html": [
       "<a href='http://davaotoday.com/main/economy/health/15-hour-holding-room-set-up-for-lsis-ofws-in-davao-city/'> 15-hour holding room set up for LSIs, OFWs in Davao City</a>"
      ],
      "text/plain": [
       "<IPython.core.display.HTML object>"
      ]
     },
     "metadata": {},
     "output_type": "display_data"
    },
    {
     "data": {
      "text/html": [
       "<a href='https://www.mindanews.com/top-stories/2020/07/4-covid-19-labs-in-davao-city-in-stage-3-of-accreditation/'> 4 COVID-19 labs in Davao City in Stage 3 of accreditation</a>"
      ],
      "text/plain": [
       "<IPython.core.display.HTML object>"
      ]
     },
     "metadata": {},
     "output_type": "display_data"
    },
    {
     "data": {
      "text/html": [
       "<a href='https://www.mindanews.com/top-stories/2020/07/84-cotabato-city-health-personnel-placed-under-14-day-quarantine/'> 92 Cotabato City health personnel placed under 14-day quarantine</a>"
      ],
      "text/plain": [
       "<IPython.core.display.HTML object>"
      ]
     },
     "metadata": {},
     "output_type": "display_data"
    },
    {
     "data": {
      "text/html": [
       "<a href='https://www.manilatimes.net/2020/07/22/opinion/columnists/abs-cbn-closure-in-context/744144/'> ABS-CBN closure in context</a>"
      ],
      "text/plain": [
       "<IPython.core.display.HTML object>"
      ]
     },
     "metadata": {},
     "output_type": "display_data"
    },
    {
     "data": {
      "text/html": [
       "<a href='https://politics.com.ph/abs-cbn-president-carlo-katigbak-is-amazing-locsin-says/'> ABS-CBN president Carlo Katigbak is amazing, Locsin says</a>"
      ],
      "text/plain": [
       "<IPython.core.display.HTML object>"
      ]
     },
     "metadata": {},
     "output_type": "display_data"
    },
    {
     "data": {
      "text/html": [
       "<a href='https://www.benarnews.org/english/news/indonesian/sea-concerns-06262020145459.html'> ASEAN Leaders Assert Importance of Free Airspace over South China Sea</a>"
      ],
      "text/plain": [
       "<IPython.core.display.HTML object>"
      ]
     },
     "metadata": {},
     "output_type": "display_data"
    },
    {
     "data": {
      "text/html": [
       "<a href='https://edgedavao.net/entrepreneurs/2019/04/18/atty-antonio-b-partoza-jr-creating-a-name-for-davao/'> ATTY. ANTONIO B. PARTOZA JR: CREATING A NAME FOR DAVAO</a>"
      ],
      "text/plain": [
       "<IPython.core.display.HTML object>"
      ]
     },
     "metadata": {},
     "output_type": "display_data"
    },
    {
     "data": {
      "text/html": [
       "<a href='http://davaotoday.com/main/human-rights/advocacy-groups-lawyers-file-10th-petition-vs-anti-terror-law/'> Advocacy groups, lawyers file 10th petition vs. anti-terror law</a>"
      ],
      "text/plain": [
       "<IPython.core.display.HTML object>"
      ]
     },
     "metadata": {},
     "output_type": "display_data"
    },
    {
     "data": {
      "text/html": [
       "<a href='https://edgedavao.net/the-economy/2020/07/04/all-phoenix-stations-in-davao-region-back-in-operation/'> All Phoenix stations in Davao  Region back in operation</a>"
      ],
      "text/plain": [
       "<IPython.core.display.HTML object>"
      ]
     },
     "metadata": {},
     "output_type": "display_data"
    },
    {
     "data": {
      "text/html": [
       "<a href='http://davaotoday.com/main/human-rights/arrest-of-balingasag-7-draws-condemnation-from-indigenous-groups/'> Arrest of Balingasag 7 draws condemnation from indigenous groups</a>"
      ],
      "text/plain": [
       "<IPython.core.display.HTML object>"
      ]
     },
     "metadata": {},
     "output_type": "display_data"
    },
    {
     "data": {
      "text/html": [
       "<a href='https://www.manilatimes.net/2020/07/22/news/national/arrest-quarantine-violators-duterte/744091/'> Arrest quarantine violators – Duterte</a>"
      ],
      "text/plain": [
       "<IPython.core.display.HTML object>"
      ]
     },
     "metadata": {},
     "output_type": "display_data"
    },
    {
     "data": {
      "text/html": [
       "<a href='https://www.mindanews.com/mindaviews/2020/06/bangsamoro-speaks-balance-compassion-and-discipline-and-at-the-same-uphold-the-rule-of-law/'> BANGSAMORO SPEAKS: Balance compassion and discipline and at the same, uphold the rule of law</a>"
      ],
      "text/plain": [
       "<IPython.core.display.HTML object>"
      ]
     },
     "metadata": {},
     "output_type": "display_data"
    },
    {
     "data": {
      "text/html": [
       "<a href='https://www.mindanews.com/top-stories/2020/07/barmm-seeks-probe-of-moro-killings-in-south-cotabato/'> BARMM seeks probe of Moro killings in South Cotabato</a>"
      ],
      "text/plain": [
       "<IPython.core.display.HTML object>"
      ]
     },
     "metadata": {},
     "output_type": "display_data"
    },
    {
     "data": {
      "text/html": [
       "<a href='https://politics.com.ph/1bakit-sa-abs-cbn-walang-second-chance-poe-says-dennis-uys-dito-chinatel-given-congressional-franchise-despite-violations/'> Bakit sa ABS-CBN walang second chance? Poe says Dennis Uy’s DITO-ChinaTel given congressional franchise despite violations</a>"
      ],
      "text/plain": [
       "<IPython.core.display.HTML object>"
      ]
     },
     "metadata": {},
     "output_type": "display_data"
    },
    {
     "data": {
      "text/html": [
       "<a href='https://www.mindanews.com/peace-process/2020/06/bangsamoro-parliament-has-yet-to-act-on-resolution-expressing-grave-concern-over-proposed-anti-terrorism-act/'> Bangsamoro Parliament has yet to act on resolution expressing “grave concern” over proposed Anti-Terrorism Act</a>"
      ],
      "text/plain": [
       "<IPython.core.display.HTML object>"
      ]
     },
     "metadata": {},
     "output_type": "display_data"
    },
    {
     "data": {
      "text/html": [
       "<a href='https://politics.com.ph/bantay-salakay-cayetano-wants-employees-takeover-of-abs-cbn-done-secretly-with-lawmakers-help/'> Bantay salakay! Cayetano wants employees’ takeover of ABS-CBN done secretly with lawmakers’ help</a>"
      ],
      "text/plain": [
       "<IPython.core.display.HTML object>"
      ]
     },
     "metadata": {},
     "output_type": "display_data"
    },
    {
     "data": {
      "text/html": [
       "<a href='https://politics.com.ph/bibira-tapos-mapipikon-mike-defensor-dares-critics-to-unfriend-him-over-abs-cbn/'> Bibira tapos mapipikon! Mike Defensor dares critics to ‘unfriend’ him over ABS-CBN</a>"
      ],
      "text/plain": [
       "<IPython.core.display.HTML object>"
      ]
     },
     "metadata": {},
     "output_type": "display_data"
    },
    {
     "data": {
      "text/html": [
       "<a href='https://politics.com.ph/bong-go-brands-trillanes-king-of-fake-news/'> Bong Go brands Trillanes ‘king of fake news’</a>"
      ],
      "text/plain": [
       "<IPython.core.display.HTML object>"
      ]
     },
     "metadata": {},
     "output_type": "display_data"
    },
    {
     "data": {
      "text/html": [
       "<a href='https://politics.com.ph/brave-angara-salutes-11-lawmakers-who-voted-for-abs-cbn-franchise/'> Brave! Angara salutes 11 lawmakers who voted for ABS-CBN franchise</a>"
      ],
      "text/plain": [
       "<IPython.core.display.HTML object>"
      ]
     },
     "metadata": {},
     "output_type": "display_data"
    },
    {
     "data": {
      "text/html": [
       "<a href='https://www.eaglenews.ph/brazil-set-to-test-chinese-coronavirus-vaccine/'> Brazil set to test Chinese coronavirus vaccine</a>"
      ],
      "text/plain": [
       "<IPython.core.display.HTML object>"
      ]
     },
     "metadata": {},
     "output_type": "display_data"
    },
    {
     "data": {
      "text/html": [
       "<a href='http://davaotoday.com/main/economy/cdo-firm-soon-to-provide-bulk-water-supply-in-cotabato-bislig/'> CDO firm soon to provide bulk water supply in Cotabato, Bislig</a>"
      ],
      "text/plain": [
       "<IPython.core.display.HTML object>"
      ]
     },
     "metadata": {},
     "output_type": "display_data"
    },
    {
     "data": {
      "text/html": [
       "<a href='https://politics.com.ph/can-you-reuse-a-face-mask-duterte-sprayan-lang-ng-alcohol/'> Can you reuse a face mask? Duterte: ‘Sprayan lang ng alcohol’</a>"
      ],
      "text/plain": [
       "<IPython.core.display.HTML object>"
      ]
     },
     "metadata": {},
     "output_type": "display_data"
    },
    {
     "data": {
      "text/html": [
       "<a href='https://politics.com.ph/cayetano-justifies-dutertes-war-on-oligarchs-ilang-henerasyon-na-silang-nakinabang-di-naman-namin-inaagaw-negosyo-nila/'> Cayetano justifies Duterte’s war on oligarchs: Ilang henerasyon na silang nakinabang, ‘di naman namin inaagaw negosyo nila!</a>"
      ],
      "text/plain": [
       "<IPython.core.display.HTML object>"
      ]
     },
     "metadata": {},
     "output_type": "display_data"
    },
    {
     "data": {
      "text/html": [
       "<a href='https://www.mindanews.com/peace-process/2020/01/ceasefire-holding-sison-says-he-is-ready-to-meet-duterte-in-hanoi/'> Ceasefire holding; Sison says he is ready to meet Duterte in Hanoi  </a>"
      ],
      "text/plain": [
       "<IPython.core.display.HTML object>"
      ]
     },
     "metadata": {},
     "output_type": "display_data"
    },
    {
     "data": {
      "text/html": [
       "<a href='https://politics.com.ph/cha-cha-not-a-duterte-priority-for-now-palace/'> Cha-cha not a Duterte priority for now: Palace</a>"
      ],
      "text/plain": [
       "<IPython.core.display.HTML object>"
      ]
     },
     "metadata": {},
     "output_type": "display_data"
    },
    {
     "data": {
      "text/html": [
       "<a href='https://www.mindanews.com/peace-process/2020/02/cotabato-city-seeks-exclusion-from-barmm-until-june-30-2022/'> Cotabato City seeks exclusion from BARMM until June 30, 2022</a>"
      ],
      "text/plain": [
       "<IPython.core.display.HTML object>"
      ]
     },
     "metadata": {},
     "output_type": "display_data"
    },
    {
     "data": {
      "text/html": [
       "<a href='https://politics.com.ph/dapa-na-dinudurog-pa-remulla-marcoleta-think-cordoba-not-doing-enough-to-take-down-abs-cbn-resign-or-face-ombudsman-case/'> Dapa na, dinudurog pa! Remulla, Marcoleta think Cordoba not doing enough to take down ABS-CBN: Resign or face Ombudsman case</a>"
      ],
      "text/plain": [
       "<IPython.core.display.HTML object>"
      ]
     },
     "metadata": {},
     "output_type": "display_data"
    },
    {
     "data": {
      "text/html": [
       "<a href='https://www.mindanews.com/top-stories/2020/07/davao-city-lifts-hard-lockdown-in-barangay-23-c/'> Davao City lifts ‘hard lockdown’ in Barangay 23-C</a>"
      ],
      "text/plain": [
       "<IPython.core.display.HTML object>"
      ]
     },
     "metadata": {},
     "output_type": "display_data"
    },
    {
     "data": {
      "text/html": [
       "<a href='http://davaotoday.com/main/environment/davao-city-on-alert-for-tropical-depression-ambo/'> Davao City on alert for Tropical Depression Ambo</a>"
      ],
      "text/plain": [
       "<IPython.core.display.HTML object>"
      ]
     },
     "metadata": {},
     "output_type": "display_data"
    },
    {
     "data": {
      "text/html": [
       "<a href='http://davaotoday.com/main/headline/davao-business-sector-still-divided-on-martial-rule/'> Davao business sector still divided on martial rule</a>"
      ],
      "text/plain": [
       "<IPython.core.display.HTML object>"
      ]
     },
     "metadata": {},
     "output_type": "display_data"
    },
    {
     "data": {
      "text/html": [
       "<a href='http://davaotoday.com/main/economy/health/davao-region-may-breach-1000-mark-for-covid-19-cases/'> Davao region may breach 1,000 mark for Covid-19 cases</a>"
      ],
      "text/plain": [
       "<IPython.core.display.HTML object>"
      ]
     },
     "metadata": {},
     "output_type": "display_data"
    },
    {
     "data": {
      "text/html": [
       "<a href='https://www.mindanews.com/business/2020/05/davao-tourism-suffers-huge-drop-in-revenues-due-to-covid-19/'> Davao tourism suffers ‘huge drop’ in revenues due to COVID-19</a>"
      ],
      "text/plain": [
       "<IPython.core.display.HTML object>"
      ]
     },
     "metadata": {},
     "output_type": "display_data"
    },
    {
     "data": {
      "text/html": [
       "<a href='http://davaotoday.com/main/economy/health/davao-bound-flights-to-require-covid-19-tests-from-passengers/'> Davao-bound flights to require Covid-19 tests from passengers</a>"
      ],
      "text/plain": [
       "<IPython.core.display.HTML object>"
      ]
     },
     "metadata": {},
     "output_type": "display_data"
    },
    {
     "data": {
      "text/html": [
       "<a href='https://politics.com.ph/defensor-plays-money-manager-to-lopezes-convey-51-of-abs-cbn-to-your-11000-employees/'> Defensor plays money manager to Lopezes: ‘Convey’ 51% of ABS-CBN to your 11,000 employees</a>"
      ],
      "text/plain": [
       "<IPython.core.display.HTML object>"
      ]
     },
     "metadata": {},
     "output_type": "display_data"
    },
    {
     "data": {
      "text/html": [
       "<a href='https://politics.com.ph/di-dilawan-robredo-abs-cbn-was-unfair-to-me-too/'> Di dilawan? Robredo: ABS-CBN was unfair to me too</a>"
      ],
      "text/plain": [
       "<IPython.core.display.HTML object>"
      ]
     },
     "metadata": {},
     "output_type": "display_data"
    },
    {
     "data": {
      "text/html": [
       "<a href='https://www.manilatimes.net/2020/07/22/news/headlines/duterte-oks-limited-face-to-face-classes/744092/'> Duterte OKs limited face-to-face classes</a>"
      ],
      "text/plain": [
       "<IPython.core.display.HTML object>"
      ]
     },
     "metadata": {},
     "output_type": "display_data"
    },
    {
     "data": {
      "text/html": [
       "<a href='https://politics.com.ph/duterte-appoints-ca-justice-baltazar-padilla-to-supreme-court/'> Duterte appoints CA justice Baltazar-Padilla to Supreme Court</a>"
      ],
      "text/plain": [
       "<IPython.core.display.HTML object>"
      ]
     },
     "metadata": {},
     "output_type": "display_data"
    },
    {
     "data": {
      "text/html": [
       "<a href='https://politics.com.ph/duterte-asks-cops-to-arrest-quarantine-violators-a-little-shame-would-put-them-on-notice-forever/'> Duterte asks cops to arrest quarantine violators: ‘A little shame would put them on notice forever’</a>"
      ],
      "text/plain": [
       "<IPython.core.display.HTML object>"
      ]
     },
     "metadata": {},
     "output_type": "display_data"
    },
    {
     "data": {
      "text/html": [
       "<a href='https://politics.com.ph/duterte-denies-hand-in-abs-cbn-franchise-death-congress-ang-nagpasara-niyan/'> Duterte denies hand in ABS-CBN franchise death: ‘Congress ang nagpasara niyan’</a>"
      ],
      "text/plain": [
       "<IPython.core.display.HTML object>"
      ]
     },
     "metadata": {},
     "output_type": "display_data"
    },
    {
     "data": {
      "text/html": [
       "<a href='https://politics.com.ph/duterte-echoes-marcoletas-move-to-evict-lopezes-from-abs-cbn-compound-yung-titulo-nila-lokohan/'> Duterte echoes Marcoleta’s move to evict Lopezes from ABS-CBN compound: Yung titulo nila, lokohan!</a>"
      ],
      "text/plain": [
       "<IPython.core.display.HTML object>"
      ]
     },
     "metadata": {},
     "output_type": "display_data"
    },
    {
     "data": {
      "text/html": [
       "<a href='https://politics.com.ph/duterte-greenlights-limited-face-to-face-class-proposal/'> Duterte greenlights limited face-to-face class proposal</a>"
      ],
      "text/plain": [
       "<IPython.core.display.HTML object>"
      ]
     },
     "metadata": {},
     "output_type": "display_data"
    },
    {
     "data": {
      "text/html": [
       "<a href='https://www.mindanews.com/booksmindanews/2019/11/duterte-has-no-meranaw-roots-book-author-says/'> Duterte has no Meranaw roots, book author says</a>"
      ],
      "text/plain": [
       "<IPython.core.display.HTML object>"
      ]
     },
     "metadata": {},
     "output_type": "display_data"
    },
    {
     "data": {
      "text/html": [
       "<a href='https://politics.com.ph/duterte-pa-more-charter-change-to-be-revived-for-no-el-2022/'> Duterte pa more! Charter change to be revived for ‘No-el’ 2022</a>"
      ],
      "text/plain": [
       "<IPython.core.display.HTML object>"
      ]
     },
     "metadata": {},
     "output_type": "display_data"
    },
    {
     "data": {
      "text/html": [
       "<a href='https://politics.com.ph/duterte-tells-friends-to-get-into-business-while-hes-president-kung-yayaman-ka-diyan-mas-maligaya-ako/'> Duterte tells friends to get into business while he’s President: Kung yayaman ka diyan, mas maligaya ako!</a>"
      ],
      "text/plain": [
       "<IPython.core.display.HTML object>"
      ]
     },
     "metadata": {},
     "output_type": "display_data"
    },
    {
     "data": {
      "text/html": [
       "<a href='https://politics.com.ph/duterte-thinks-drilon-authored-onerous-water-deals-kaya-sya-nag-warning/'> Duterte thinks Drilon authored ‘onerous’ water deals: ‘Kaya s’ya nag warning’</a>"
      ],
      "text/plain": [
       "<IPython.core.display.HTML object>"
      ]
     },
     "metadata": {},
     "output_type": "display_data"
    },
    {
     "data": {
      "text/html": [
       "<a href='https://politics.com.ph/duterte-threatens-to-close-down-jt-express-wants-probe-into-alleged-cargo-mishandling/'> Duterte threatens to ‘close down’ J&T Express, wants probe into alleged cargo mishandling</a>"
      ],
      "text/plain": [
       "<IPython.core.display.HTML object>"
      ]
     },
     "metadata": {},
     "output_type": "display_data"
    },
    {
     "data": {
      "text/html": [
       "<a href='https://politics.com.ph/duterte-to-cebuanos-dont-fck-with-me-shape-up/'> Duterte to Cebuanos: ‘Don’t f*ck with me, shape up’</a>"
      ],
      "text/plain": [
       "<IPython.core.display.HTML object>"
      ]
     },
     "metadata": {},
     "output_type": "display_data"
    },
    {
     "data": {
      "text/html": [
       "<a href='https://edgedavao.net/feature/2019/12/22/edge-davaos-and-zions-candyland-party/'> Edge Davao’s and Zion’s Candyland party</a>"
      ],
      "text/plain": [
       "<IPython.core.display.HTML object>"
      ]
     },
     "metadata": {},
     "output_type": "display_data"
    },
    {
     "data": {
      "text/html": [
       "<a href='https://politics.com.ph/erin-tanada-debate-with-mike-defensor-wont-renew-abs-cbn-franchise-restore-livelihood-of-workers/'> Erin Tañada: Debate with Mike Defensor won’t renew ABS-CBN franchise, restore livelihood of workers</a>"
      ],
      "text/plain": [
       "<IPython.core.display.HTML object>"
      ]
     },
     "metadata": {},
     "output_type": "display_data"
    },
    {
     "data": {
      "text/html": [
       "<a href='https://www.interaksyon.com/politics-issues/2020/07/17/173153/explainer-whats-behind-rising-tensions-in-the-south-china-sea/'> Explainer: What’s behind rising tensions in the South China Sea?</a>"
      ],
      "text/plain": [
       "<IPython.core.display.HTML object>"
      ]
     },
     "metadata": {},
     "output_type": "display_data"
    },
    {
     "data": {
      "text/html": [
       "<a href='https://politics.com.ph/fallout-from-a-vote-abs-cbn-franchise-backers-to-lose-posts1/'> Fallout from a vote: ABS-CBN franchise backers to lose posts</a>"
      ],
      "text/plain": [
       "<IPython.core.display.HTML object>"
      ]
     },
     "metadata": {},
     "output_type": "display_data"
    },
    {
     "data": {
      "text/html": [
       "<a href='https://politics.com.ph/fascist-government-palace-says-jerry-gracio-should-never-have-agreed-to-serve-duterte-admin/'> Fascist government? Palace says Jerry Gracio should never have agreed to serve Duterte admin</a>"
      ],
      "text/plain": [
       "<IPython.core.display.HTML object>"
      ]
     },
     "metadata": {},
     "output_type": "display_data"
    },
    {
     "data": {
      "text/html": [
       "<a href='https://www.manilatimes.net/2020/07/22/news/regions/female-npa-fighter-dies-in-surigao-norte-clash/744132/'> Female NPA fighter dies in Surigao Norte clash</a>"
      ],
      "text/plain": [
       "<IPython.core.display.HTML object>"
      ]
     },
     "metadata": {},
     "output_type": "display_data"
    },
    {
     "data": {
      "text/html": [
       "<a href='https://politics.com.ph/franchise-less-na-homeless-pa-marcoleta-seeks-ejection-of-lopezes-from-abs-cbn-hq-jusmag-lots/'> Franchise-less na, homeless pa? Marcoleta seeks ejection of Lopezes from ABS-CBN HQ, JUSMAG lots</a>"
      ],
      "text/plain": [
       "<IPython.core.display.HTML object>"
      ]
     },
     "metadata": {},
     "output_type": "display_data"
    },
    {
     "data": {
      "text/html": [
       "<a href='https://politics.com.ph/gcq-in-metro-manila-extended-till-month-end2/'> GCQ in Metro Manila extended till month-end</a>"
      ],
      "text/plain": [
       "<IPython.core.display.HTML object>"
      ]
     },
     "metadata": {},
     "output_type": "display_data"
    },
    {
     "data": {
      "text/html": [
       "<a href='https://politics.com.ph/goodbye-frequencies-marcoleta-says-unlikely-for-abs-cbn-to-be-granted-franchise-beyond-2022-paano-kung-may-ibang-binigyan-gobyerno/'> Goodbye frequencies! Marcoleta says unlikely for ABS-CBN to be granted franchise beyond 2022: Paano kung may ibang binigyan gobyerno?</a>"
      ],
      "text/plain": [
       "<IPython.core.display.HTML object>"
      ]
     },
     "metadata": {},
     "output_type": "display_data"
    },
    {
     "data": {
      "text/html": [
       "<a href='https://politics.com.ph/gretchen-barretto-still-a-duterte-loyalist-silent-on-abs-cbn-franchise-denial/'> Gretchen Barretto still a Duterte loyalist, silent on ABS-CBN franchise denial</a>"
      ],
      "text/plain": [
       "<IPython.core.display.HTML object>"
      ]
     },
     "metadata": {},
     "output_type": "display_data"
    },
    {
     "data": {
      "text/html": [
       "<a href='https://politics.com.ph/harry-roque-mum-on-dutertes-fresh-tirades-vs-lopezes-i-was-not-in-jolo/'> Harry Roque mum on Duterte’s fresh tirades vs Lopezes: ‘I was not in Jolo’</a>"
      ],
      "text/plain": [
       "<IPython.core.display.HTML object>"
      ]
     },
     "metadata": {},
     "output_type": "display_data"
    },
    {
     "data": {
      "text/html": [
       "<a href='http://davaotoday.com/main/todays-views/how-is-the-duterte-regime-normalizing-the-filipino-suffering-part-1/'> How is the Duterte regime normalizing the Filipino suffering? (Part 1)</a>"
      ],
      "text/plain": [
       "<IPython.core.display.HTML object>"
      ]
     },
     "metadata": {},
     "output_type": "display_data"
    },
    {
     "data": {
      "text/html": [
       "<a href='http://davaotoday.com/main/todays-views/how-is-the-duterte-regime-normalizing-the-filipino-suffering-part-2/'> How is the Duterte regime normalizing the Filipino suffering? (Part 2)</a>"
      ],
      "text/plain": [
       "<IPython.core.display.HTML object>"
      ]
     },
     "metadata": {},
     "output_type": "display_data"
    },
    {
     "data": {
      "text/html": [
       "<a href='http://davaotoday.com/main/culture-2/how-the-lumad-learned-to-survive-in-haran/'> How the Lumad learned to survive in Haran</a>"
      ],
      "text/plain": [
       "<IPython.core.display.HTML object>"
      ]
     },
     "metadata": {},
     "output_type": "display_data"
    },
    {
     "data": {
      "text/html": [
       "<a href='https://edgedavao.net/suburbia/2020/01/04/humanitarian-mission-provides-relief-in-davao-del-sur/'> Humanitarian mission provides relief in Davao del Sur</a>"
      ],
      "text/plain": [
       "<IPython.core.display.HTML object>"
      ]
     },
     "metadata": {},
     "output_type": "display_data"
    },
    {
     "data": {
      "text/html": [
       "<a href='https://www.eaglenews.ph/itcz-affects-palawan-visayas-mindanao-5/'> ITCZ affects Palawan, Visayas, Mindanao</a>"
      ],
      "text/plain": [
       "<IPython.core.display.HTML object>"
      ]
     },
     "metadata": {},
     "output_type": "display_data"
    },
    {
     "data": {
      "text/html": [
       "<a href='https://www.eaglenews.ph/iglesia-ni-cristo-church-of-christ-in-hawaii-conducts-contact-free-aid-to-humanity-during-covid-19-crisis/'> Iglesia Ni Cristo (Church Of Christ) in Hawaii conducts contact-free Aid to Humanity during COVID-19 crisis</a>"
      ],
      "text/plain": [
       "<IPython.core.display.HTML object>"
      ]
     },
     "metadata": {},
     "output_type": "display_data"
    },
    {
     "data": {
      "text/html": [
       "<a href='https://www.eaglenews.ph/iglesia-ni-cristo-in-taiwan-holds-lingap-for-ofws/'> Iglesia Ni Cristo in Taiwan holds “Lingap for OFWs”</a>"
      ],
      "text/plain": [
       "<IPython.core.display.HTML object>"
      ]
     },
     "metadata": {},
     "output_type": "display_data"
    },
    {
     "data": {
      "text/html": [
       "<a href='https://www.eaglenews.ph/in-photos-president-duterte-undergoes-covid-19-test-along-with-sen-bong-go/'> In photos:  President Duterte undergoes COVID-19 test, along with Sen. Bong Go</a>"
      ],
      "text/plain": [
       "<IPython.core.display.HTML object>"
      ]
     },
     "metadata": {},
     "output_type": "display_data"
    },
    {
     "data": {
      "text/html": [
       "<a href='https://www.eaglenews.ph/in-photos-iglesia-ni-cristo-starts-lingap-sa-mamamayan-to-help-those-affected-by-mindanao-quakes/'> In photos: Iglesia Ni Cristo starts “Lingap sa Mamamayan” to help those affected by Mindanao quakes</a>"
      ],
      "text/plain": [
       "<IPython.core.display.HTML object>"
      ]
     },
     "metadata": {},
     "output_type": "display_data"
    },
    {
     "data": {
      "text/html": [
       "<a href='https://www.eaglenews.ph/in-photos-president-duterte-speaks-to-chinese-leader-xi-over-the-phone/'> In photos: President Duterte speaks to Chinese leader Xi over the phone</a>"
      ],
      "text/plain": [
       "<IPython.core.display.HTML object>"
      ]
     },
     "metadata": {},
     "output_type": "display_data"
    },
    {
     "data": {
      "text/html": [
       "<a href='http://davaotoday.com/main/davao-city/investors-organize-1st-branch-in-davao/'> Investors organize 1st branch in Davao</a>"
      ],
      "text/plain": [
       "<IPython.core.display.HTML object>"
      ]
     },
     "metadata": {},
     "output_type": "display_data"
    },
    {
     "data": {
      "text/html": [
       "<a href='https://edgedavao.net/suburbia/2019/11/15/isolated-lumads-hail-govt-attention-care/'> Isolated Lumads hail gov’t attention, care</a>"
      ],
      "text/plain": [
       "<IPython.core.display.HTML object>"
      ]
     },
     "metadata": {},
     "output_type": "display_data"
    },
    {
     "data": {
      "text/html": [
       "<a href='https://politics.com.ph/its-confirmed-duterte-to-physically-deliver-sona-in-batasan/'> It’s confirmed: Duterte to physically deliver SONA in Batasan</a>"
      ],
      "text/plain": [
       "<IPython.core.display.HTML object>"
      ]
     },
     "metadata": {},
     "output_type": "display_data"
    },
    {
     "data": {
      "text/html": [
       "<a href='https://politics.com.ph/jojo-binay-by-gutting-abs-cbn-house-leadership-displayed-willingness-to-bend-knees-to-executive-complicit-in-assault-of-free-speech/'> Jojo Binay: By gutting ABS-CBN, House leadership displayed willingness to bend knees to executive, complicit in assault of free speech</a>"
      ],
      "text/plain": [
       "<IPython.core.display.HTML object>"
      ]
     },
     "metadata": {},
     "output_type": "display_data"
    },
    {
     "data": {
      "text/html": [
       "<a href='https://politics.com.ph/korina-sanchez-on-abs-cbn-retrenchment-bloodbath-we-are-called-one-by-one-to-be-told-that-we-are-discontinued/'> Korina Sanchez on ABS-CBN retrenchment bloodbath: We are called one by one to be told that we are discontinued</a>"
      ],
      "text/plain": [
       "<IPython.core.display.HTML object>"
      ]
     },
     "metadata": {},
     "output_type": "display_data"
    },
    {
     "data": {
      "text/html": [
       "<a href='https://politics.com.ph/list-areas-under-mgcq-gcq-mecq-until-end-july/'> LIST: Areas under MGCQ, GCQ, MECQ until end-July</a>"
      ],
      "text/plain": [
       "<IPython.core.display.HTML object>"
      ]
     },
     "metadata": {},
     "output_type": "display_data"
    },
    {
     "data": {
      "text/html": [
       "<a href='https://politics.com.ph/laglagan-na-robredo-to-govt-spare-11k-workers-let-lopezes-be-liable-for-abs-cbns-violations/'> Laglagan na! Robredo to gov’t: Spare 11K workers, let Lopezes be liable for ABS-CBN’s ‘violations’</a>"
      ],
      "text/plain": [
       "<IPython.core.display.HTML object>"
      ]
     },
     "metadata": {},
     "output_type": "display_data"
    },
    {
     "data": {
      "text/html": [
       "<a href='https://politics.com.ph/1lawmaker-takes-offense-at-noted-abs-cbn-news-top-boss-does-a-kiko-pangilinan/'> Lawmaker takes offense at ‘noted’: ABS-CBN News’ top boss does a Kiko Pangilinan</a>"
      ],
      "text/plain": [
       "<IPython.core.display.HTML object>"
      ]
     },
     "metadata": {},
     "output_type": "display_data"
    },
    {
     "data": {
      "text/html": [
       "<a href='https://www.manilatimes.net/2020/07/21/news/latest-stories/lotto-resumes-on-aug-4-but-in-gcq-mgcq-areas-only/744028/'> Lotto resumes on Aug 4 but in GCQ, MGCQ areas only</a>"
      ],
      "text/plain": [
       "<IPython.core.display.HTML object>"
      ]
     },
     "metadata": {},
     "output_type": "display_data"
    },
    {
     "data": {
      "text/html": [
       "<a href='https://politics.com.ph/magaling-man-sabit-din-nbi-nabs-hacker-who-shared-baste-dutertes-address/'> Magaling man sabit din! NBI nabs hacker who shared Baste Duterte’s address</a>"
      ],
      "text/plain": [
       "<IPython.core.display.HTML object>"
      ]
     },
     "metadata": {},
     "output_type": "display_data"
    },
    {
     "data": {
      "text/html": [
       "<a href='https://politics.com.ph/magkaisa-na-kayo-kayo-na-magpatakbo-abs-cbn-employees-urged-to-seek-duterte-ntc-backing-for-network-takeover/'> Magkaisa na kayo, kayo na magpatakbo! ABS-CBN employees urged to seek Duterte, NTC backing for network takeover</a>"
      ],
      "text/plain": [
       "<IPython.core.display.HTML object>"
      ]
     },
     "metadata": {},
     "output_type": "display_data"
    },
    {
     "data": {
      "text/html": [
       "<a href='http://davaotoday.com/main/human-rights/malaybalay-police-apologizes-for-info-drive-error-targeting-journalists/'> Malaybalay police apologizes for info-drive error targeting journalists</a>"
      ],
      "text/plain": [
       "<IPython.core.display.HTML object>"
      ]
     },
     "metadata": {},
     "output_type": "display_data"
    },
    {
     "data": {
      "text/html": [
       "<a href='https://www.mindanews.com/top-stories/2020/07/mayor-duterte-to-ask-caap-for-leeway-on-rt-pcr-testing/'> Mayor Duterte to ask CAAP for leeway on RT-PCR testing</a>"
      ],
      "text/plain": [
       "<IPython.core.display.HTML object>"
      ]
     },
     "metadata": {},
     "output_type": "display_data"
    },
    {
     "data": {
      "text/html": [
       "<a href='http://davaotoday.com/main/politics/mindanao-solon-decision-to-deny-abs-cbn-franchise-contrary-to-findings/'> Mindanao solon: Decision to deny ABS-CBN franchise ‘contrary’ to findings</a>"
      ],
      "text/plain": [
       "<IPython.core.display.HTML object>"
      ]
     },
     "metadata": {},
     "output_type": "display_data"
    },
    {
     "data": {
      "text/html": [
       "<a href='http://davaotoday.com/main/headline/misor-wants-final-version-of-iatf-guidelines-on-backriding-policy/'> MisOr wants final version of IATF guidelines on backriding policy</a>"
      ],
      "text/plain": [
       "<IPython.core.display.HTML object>"
      ]
     },
     "metadata": {},
     "output_type": "display_data"
    },
    {
     "data": {
      "text/html": [
       "<a href='https://www.manilatimes.net/2020/07/21/weekly/fast-times/modern-facility-to-rise-in-davao-city/743879/'> Modern facility to rise in Davao city</a>"
      ],
      "text/plain": [
       "<IPython.core.display.HTML object>"
      ]
     },
     "metadata": {},
     "output_type": "display_data"
    },
    {
     "data": {
      "text/html": [
       "<a href='http://davaotoday.com/main/headline/most-davao-businesses-dont-have-continuity-plan-pcci/'> Most Davao businesses don’t have continuity plan – PCCI</a>"
      ],
      "text/plain": [
       "<IPython.core.display.HTML object>"
      ]
     },
     "metadata": {},
     "output_type": "display_data"
    },
    {
     "data": {
      "text/html": [
       "<a href='https://edgedavao.net/the-big-news/2020/06/26/most-stranded-individuals-are-davao-bound-airline-exec/'> Most stranded individuals are  Davao-bound: airline exec</a>"
      ],
      "text/plain": [
       "<IPython.core.display.HTML object>"
      ]
     },
     "metadata": {},
     "output_type": "display_data"
    },
    {
     "data": {
      "text/html": [
       "<a href='https://politics.com.ph/my-heart-is-angry-angaras-wife-mourns-as-abs-cbn-colleagues-lose-jobs/'> My heart is angry: Angara’s wife mourns as ABS-CBN colleagues lose jobs</a>"
      ],
      "text/plain": [
       "<IPython.core.display.HTML object>"
      ]
     },
     "metadata": {},
     "output_type": "display_data"
    },
    {
     "data": {
      "text/html": [
       "<a href='https://politics.com.ph/nbi-files-murder-raps-vs-9-jolo-cops-over-soldiers-slay/'> NBI files murder raps vs 9 Jolo cops over soldiers’ slay</a>"
      ],
      "text/plain": [
       "<IPython.core.display.HTML object>"
      ]
     },
     "metadata": {},
     "output_type": "display_data"
    },
    {
     "data": {
      "text/html": [
       "<a href='https://politics.com.ph/na-bulldozer-project-ko-cayetano-justifies-kamag-anak-inc-rule-in-taguig/'> Na-bulldozer project ko! Cayetano justifies ‘Kamag-anak Inc.’ rule in Taguig</a>"
      ],
      "text/plain": [
       "<IPython.core.display.HTML object>"
      ]
     },
     "metadata": {},
     "output_type": "display_data"
    },
    {
     "data": {
      "text/html": [
       "<a href='https://www.manilatimes.net/2020/07/22/news/top-stories/navotas-quarantine-facilities-full/744076/'> Navotas quarantine facilities full</a>"
      ],
      "text/plain": [
       "<IPython.core.display.HTML object>"
      ]
     },
     "metadata": {},
     "output_type": "display_data"
    },
    {
     "data": {
      "text/html": [
       "<a href='https://politics.com.ph/nilaro-nila-bayan-ko-duterte-claims-lopez-family-has-too-much-influence-on-elections/'> Nilaro nila bayan ko! Duterte claims Lopez family has too much influence on elections</a>"
      ],
      "text/plain": [
       "<IPython.core.display.HTML object>"
      ]
     },
     "metadata": {},
     "output_type": "display_data"
    },
    {
     "data": {
      "text/html": [
       "<a href='https://www.theborneopost.com/2020/07/21/no-new-positive-case-in-sabah/'> No new positive case in Sabah</a>"
      ],
      "text/plain": [
       "<IPython.core.display.HTML object>"
      ]
     },
     "metadata": {},
     "output_type": "display_data"
    },
    {
     "data": {
      "text/html": [
       "<a href='https://politics.com.ph/not-so-fast-inc-cbcp-has-best-shot-at-getting-abs-cbn-frequency-find-out-how/'> Not so fast INC: CBCP has best shot at getting ABS-CBN frequency. Find out how</a>"
      ],
      "text/plain": [
       "<IPython.core.display.HTML object>"
      ]
     },
     "metadata": {},
     "output_type": "display_data"
    },
    {
     "data": {
      "text/html": [
       "<a href='https://www.eaglenews.ph/pnp-covid-19-cases-reach-1564/'> PNP COVID-19 cases reach 1564</a>"
      ],
      "text/plain": [
       "<IPython.core.display.HTML object>"
      ]
     },
     "metadata": {},
     "output_type": "display_data"
    },
    {
     "data": {
      "text/html": [
       "<a href='https://www.manilatimes.net/2020/07/21/news/latest-stories/psg-vows-360-degree-shield-for-duterte-on-sona-day/744046/'> PSG vows ‘360 degree shield’ for Duterte on SONA day</a>"
      ],
      "text/plain": [
       "<IPython.core.display.HTML object>"
      ]
     },
     "metadata": {},
     "output_type": "display_data"
    },
    {
     "data": {
      "text/html": [
       "<a href='https://politics.com.ph/pakitang-tao-pagbabasa-ni-cayetano-ng-bibliya-winnie-monsod-abs-cbns-franchise-bid-killed-coz-house-lacks-conscience/'> Pakitang tao pagbabasa ni Cayetano ng Bibliya! Winnie Monsod: ABS-CBN’s franchise bid killed ‘coz House lacks conscience</a>"
      ],
      "text/plain": [
       "<IPython.core.display.HTML object>"
      ]
     },
     "metadata": {},
     "output_type": "display_data"
    },
    {
     "data": {
      "text/html": [
       "<a href='https://politics.com.ph/palace-not-100-sure-duterte-will-deliver-sona-in-batasan/'> Palace not 100% sure Duterte will deliver SONA in Batasan</a>"
      ],
      "text/plain": [
       "<IPython.core.display.HTML object>"
      ]
     },
     "metadata": {},
     "output_type": "display_data"
    },
    {
     "data": {
      "text/html": [
       "<a href='https://politics.com.ph/palace-to-kiko-pangilinan-challenge-congress-not-duterte-to-pass-anti-political-dynasty-law/'> Palace to Kiko Pangilinan: Challenge Congress, not Duterte, to pass anti-political dynasty law</a>"
      ],
      "text/plain": [
       "<IPython.core.display.HTML object>"
      ]
     },
     "metadata": {},
     "output_type": "display_data"
    },
    {
     "data": {
      "text/html": [
       "<a href='https://www.eaglenews.ph/palawan-other-areas-to-have-cloudy-skies-with-scattered-rainshowers-thunderstorms-today/'> Palawan, other areas to have cloudy skies with scattered rainshowers, thunderstorms today</a>"
      ],
      "text/plain": [
       "<IPython.core.display.HTML object>"
      ]
     },
     "metadata": {},
     "output_type": "display_data"
    },
    {
     "data": {
      "text/html": [
       "<a href='https://politics.com.ph/para-patas-sa-abs-cbn-congress-should-look-into-gmas-franchise-violation-of-foreign-ownership-in-media-barzaga2/'> Para patas sa ABS-CBN: Congress should look into GMA’s franchise violation of foreign ownership in media – Barzaga</a>"
      ],
      "text/plain": [
       "<IPython.core.display.HTML object>"
      ]
     },
     "metadata": {},
     "output_type": "display_data"
    },
    {
     "data": {
      "text/html": [
       "<a href='https://politics.com.ph/parang-walang-natutunan-sa-pma-mon-tulfo-blasts-dela-rosa-for-advising-abs-cbn-employees-to-look-for-other-jobs/'> Parang walang natutunan sa PMA! Mon Tulfo blasts Dela Rosa for advising ABS-CBN employees to look for other jobs</a>"
      ],
      "text/plain": [
       "<IPython.core.display.HTML object>"
      ]
     },
     "metadata": {},
     "output_type": "display_data"
    },
    {
     "data": {
      "text/html": [
       "<a href='https://www.theborneopost.com/2020/07/22/parliament-sabah-sarawak-mps-raise-ma63-issue-again/'> Parliament: Sabah, Sarawak MPs raise MA63 issue again</a>"
      ],
      "text/plain": [
       "<IPython.core.display.HTML object>"
      ]
     },
     "metadata": {},
     "output_type": "display_data"
    },
    {
     "data": {
      "text/html": [
       "<a href='https://www.theborneopost.com/2020/07/22/perikatan-nasional-mps-put-off-by-rowdy-opposition-mps/'> Perikatan Nasional MPs put off by ‘rowdy’ opposition MPs</a>"
      ],
      "text/plain": [
       "<IPython.core.display.HTML object>"
      ]
     },
     "metadata": {},
     "output_type": "display_data"
    },
    {
     "data": {
      "text/html": [
       "<a href='https://www.interaksyon.com/politics-issues/2020/07/20/173255/philippines-defends-anti-terror-law-before-us-congress/'> Philippines defends anti-terror law before US Congress</a>"
      ],
      "text/plain": [
       "<IPython.core.display.HTML object>"
      ]
     },
     "metadata": {},
     "output_type": "display_data"
    },
    {
     "data": {
      "text/html": [
       "<a href='https://www.benarnews.org/english/news/philippine/anti-terror-law-07072020132111.html'> Philippines: Leaders of Autonomous Region Covet Seat on Anti-Terror Council</a>"
      ],
      "text/plain": [
       "<IPython.core.display.HTML object>"
      ]
     },
     "metadata": {},
     "output_type": "display_data"
    },
    {
     "data": {
      "text/html": [
       "<a href='https://www.manilatimes.net/author/lito-lorenzana/'> Posts by Lito Monico C. Lorenzana</a>"
      ],
      "text/plain": [
       "<IPython.core.display.HTML object>"
      ]
     },
     "metadata": {},
     "output_type": "display_data"
    },
    {
     "data": {
      "text/html": [
       "<a href='https://www.eaglenews.ph/president-duterte-approves-deped-proposal-to-hold-limited-face-to-face-classes-in-low-risk-areas-for-covid-19/'> President Duterte approves DepEd proposal to allow limited face-to-face classes in low-risk areas for COVID-19</a>"
      ],
      "text/plain": [
       "<IPython.core.display.HTML object>"
      ]
     },
     "metadata": {},
     "output_type": "display_data"
    },
    {
     "data": {
      "text/html": [
       "<a href='https://politics.com.ph/live_streaming/president-rodrigo-duterte-addresses-the-public-may-25-2020/'> President Rodrigo Duterte addresses the public May 25, 2020</a>"
      ],
      "text/plain": [
       "<IPython.core.display.HTML object>"
      ]
     },
     "metadata": {},
     "output_type": "display_data"
    },
    {
     "data": {
      "text/html": [
       "<a href='https://politics.com.ph/live_streaming/president-rodrigo-duterte-addresses-the-public-may-28-2020/'> President Rodrigo Duterte addresses the public May 28, 2020</a>"
      ],
      "text/plain": [
       "<IPython.core.display.HTML object>"
      ]
     },
     "metadata": {},
     "output_type": "display_data"
    },
    {
     "data": {
      "text/html": [
       "<a href='https://www.manilatimes.net/2020/07/22/business/business-top/profit-taking-drags-psei-investors-still-on-sidelines/744285/'> Profit-taking drags PSEi; investors still on sidelines</a>"
      ],
      "text/plain": [
       "<IPython.core.display.HTML object>"
      ]
     },
     "metadata": {},
     "output_type": "display_data"
    },
    {
     "data": {
      "text/html": [
       "<a href='https://www.mindanews.com/mindaviews/2020/07/quarantine-diaries-for-those-who-say-they-have-no-love-lost-for-abs-cbn-try-to-be-in-a-remote-community-in-the-middle-of-a-disaster/'> QUARANTINE DIARIES: For those who say they have no love lost for ABS-CBN, try to be in a remote community in the middle of a disaster</a>"
      ],
      "text/plain": [
       "<IPython.core.display.HTML object>"
      ]
     },
     "metadata": {},
     "output_type": "display_data"
    },
    {
     "data": {
      "text/html": [
       "<a href='https://politics.com.ph/read-new-law-allows-duterte-to-move-class-opening2/'> READ: New law allows Duterte to move class opening</a>"
      ],
      "text/plain": [
       "<IPython.core.display.HTML object>"
      ]
     },
     "metadata": {},
     "output_type": "display_data"
    },
    {
     "data": {
      "text/html": [
       "<a href='https://www.mindanews.com/top-stories/2020/07/religious-compound-in-bukidnon-with-covid-19-patients-locked-down/'> Religious compound in Bukidnon with COVID-19 patients locked down</a>"
      ],
      "text/plain": [
       "<IPython.core.display.HTML object>"
      ]
     },
     "metadata": {},
     "output_type": "display_data"
    },
    {
     "data": {
      "text/html": [
       "<a href='http://retiredanalyst.blogspot.com/2020/07/npa-killed-in-surigao-del-norte-clash.html'> Retired Analyst:  NPA killed in Surigao del Norte clash with soldiers</a>"
      ],
      "text/plain": [
       "<IPython.core.display.HTML object>"
      ]
     },
     "metadata": {},
     "output_type": "display_data"
    },
    {
     "data": {
      "text/html": [
       "<a href='http://retiredanalyst.blogspot.com/2020/07/anti-terrorism-law-fears-unfounded-dnd.html'> Retired Analyst: Anti-terrorism law fears unfounded: DND chief </a>"
      ],
      "text/plain": [
       "<IPython.core.display.HTML object>"
      ]
     },
     "metadata": {},
     "output_type": "display_data"
    },
    {
     "data": {
      "text/html": [
       "<a href='http://retiredanalyst.blogspot.com/2020/07/army-donates-50-mobile-phones-to.html'> Retired Analyst: Army donates 50 mobile phones to Cotabato City public school</a>"
      ],
      "text/plain": [
       "<IPython.core.display.HTML object>"
      ]
     },
     "metadata": {},
     "output_type": "display_data"
    },
    {
     "data": {
      "text/html": [
       "<a href='http://retiredanalyst.blogspot.com/2020/07/barmm-seeks-probe-of-moro-killings-in.html'> Retired Analyst: BARMM seeks probe of Moro killings in South Cotabato</a>"
      ],
      "text/plain": [
       "<IPython.core.display.HTML object>"
      ]
     },
     "metadata": {},
     "output_type": "display_data"
    },
    {
     "data": {
      "text/html": [
       "<a href='http://retiredanalyst.blogspot.com/2020/07/female-npa-rebel-killed-in-surigao.html'> Retired Analyst: Female NPA rebel killed in Surigao Norte clash </a>"
      ],
      "text/plain": [
       "<IPython.core.display.HTML object>"
      ]
     },
     "metadata": {},
     "output_type": "display_data"
    },
    {
     "data": {
      "text/html": [
       "<a href='http://retiredanalyst.blogspot.com/2020/07/govt-troops-npa-rebels-clash-in-zambo.html'> Retired Analyst: Gov't troops, NPA rebels clash in Zambo Norte town</a>"
      ],
      "text/plain": [
       "<IPython.core.display.HTML object>"
      ]
     },
     "metadata": {},
     "output_type": "display_data"
    },
    {
     "data": {
      "text/html": [
       "<a href='http://retiredanalyst.blogspot.com/2020/07/laak-declares-cpp-npa-allied-groups.html'> Retired Analyst: Laak declares CPP-NPA, allied groups persona non grata </a>"
      ],
      "text/plain": [
       "<IPython.core.display.HTML object>"
      ]
     },
     "metadata": {},
     "output_type": "display_data"
    },
    {
     "data": {
      "text/html": [
       "<a href='http://retiredanalyst.blogspot.com/2020/07/mayor-troops-welcome-npa-leader-fighter.html'> Retired Analyst: Mayor, troops welcome NPA leader, fighter </a>"
      ],
      "text/plain": [
       "<IPython.core.display.HTML object>"
      ]
     },
     "metadata": {},
     "output_type": "display_data"
    },
    {
     "data": {
      "text/html": [
       "<a href='http://retiredanalyst.blogspot.com/2020/07/npa-hit-for-using-tribal-villagers-as.html'> Retired Analyst: NPA hit for using tribal villagers as shield in Surigao Sur</a>"
      ],
      "text/plain": [
       "<IPython.core.display.HTML object>"
      ]
     },
     "metadata": {},
     "output_type": "display_data"
    },
    {
     "data": {
      "text/html": [
       "<a href='http://retiredanalyst.blogspot.com/2020/07/npa-owns-killing-of-military-asset.html'> Retired Analyst: NPA owns killing of ‘military asset’</a>"
      ],
      "text/plain": [
       "<IPython.core.display.HTML object>"
      ]
     },
     "metadata": {},
     "output_type": "display_data"
    },
    {
     "data": {
      "text/html": [
       "<a href='http://retiredanalyst.blogspot.com/2020/07/public-warned-vs-npa-online-drive.html'> Retired Analyst: Public warned vs. NPA online drive during health crisis </a>"
      ],
      "text/plain": [
       "<IPython.core.display.HTML object>"
      ]
     },
     "metadata": {},
     "output_type": "display_data"
    },
    {
     "data": {
      "text/html": [
       "<a href='http://retiredanalyst.blogspot.com/2020/07/soldier-wounded-in-clash-with-npa.html'> Retired Analyst: Soldier wounded in clash with NPA rebels in Capiz</a>"
      ],
      "text/plain": [
       "<IPython.core.display.HTML object>"
      ]
     },
     "metadata": {},
     "output_type": "display_data"
    },
    {
     "data": {
      "text/html": [
       "<a href='http://retiredanalyst.blogspot.com/2020/07/soldiers-dig-npa-leaders-rifle.html'> Retired Analyst: Soldiers dig NPA leader’s rifle, ammunition following tip</a>"
      ],
      "text/plain": [
       "<IPython.core.display.HTML object>"
      ]
     },
     "metadata": {},
     "output_type": "display_data"
    },
    {
     "data": {
      "text/html": [
       "<a href='http://retiredanalyst.blogspot.com/2020/07/us-response-to-chinas-aggression-in.html'> Retired Analyst: U.S. Response To China’s Aggression In The South China Sea Is A Dangerous Business </a>"
      ],
      "text/plain": [
       "<IPython.core.display.HTML object>"
      ]
     },
     "metadata": {},
     "output_type": "display_data"
    },
    {
     "data": {
      "text/html": [
       "<a href='http://retiredanalyst.blogspot.com/2020/07/westmincom-5-communist-terrorists-from.html'> Retired Analyst: WESTMINCOM: 5 communist terrorists from Sultan Kudarat return to the fold of law</a>"
      ],
      "text/plain": [
       "<IPython.core.display.HTML object>"
      ]
     },
     "metadata": {},
     "output_type": "display_data"
    },
    {
     "data": {
      "text/html": [
       "<a href='https://www.benarnews.org/english/news/philippine/risks-rise-07102020171250.html'> Risk of Conflict between US, China Rising in South China Sea, Analysts Say</a>"
      ],
      "text/plain": [
       "<IPython.core.display.HTML object>"
      ]
     },
     "metadata": {},
     "output_type": "display_data"
    },
    {
     "data": {
      "text/html": [
       "<a href='https://politics.com.ph/robredo-scores-paolo-dutertes-proposal-to-rename-naia-nasa-gitna-ng-pandemya-ito-pa-talaga-maiisip/'> Robredo scores Paolo Duterte’s proposal to rename NAIA: Nasa gitna ng pandemya, ito pa talaga maiisip!</a>"
      ],
      "text/plain": [
       "<IPython.core.display.HTML object>"
      ]
     },
     "metadata": {},
     "output_type": "display_data"
    },
    {
     "data": {
      "text/html": [
       "<a href='https://edgedavao.net/special-supplement/2020/03/17/some-things-you-need-to-know-about-davao-city/'> SOME THINGS YOU NEED TO KNOW ABOUT DAVAO CITY</a>"
      ],
      "text/plain": [
       "<IPython.core.display.HTML object>"
      ]
     },
     "metadata": {},
     "output_type": "display_data"
    },
    {
     "data": {
      "text/html": [
       "<a href='https://www.mindanews.com/special-reports/2020/07/special-report-policy-review-of-waste-management-needed-as-davao-city-grapples-with-household-ppe-waste/'> SPECIAL REPORT: Policy review of waste management needed as Davao City grapples with household PPE waste</a>"
      ],
      "text/plain": [
       "<IPython.core.display.HTML object>"
      ]
     },
     "metadata": {},
     "output_type": "display_data"
    },
    {
     "data": {
      "text/html": [
       "<a href='http://davaotoday.com/main/stand-point/statement-journalists-and-media-workers-on-the-denial-of-the-abs-cbn-franchise/'> STATEMENT | Journalists and media workers on the denial of the ABS-CBN franchise</a>"
      ],
      "text/plain": [
       "<IPython.core.display.HTML object>"
      ]
     },
     "metadata": {},
     "output_type": "display_data"
    },
    {
     "data": {
      "text/html": [
       "<a href='https://www.mindanews.com/peace-process/2020/01/senate-asks-bta-to-name-reps-to-congress-bangsamoro-parliament-forum/'> Senate asks BTA to name reps to Congress-Bangsamoro Parliament Forum</a>"
      ],
      "text/plain": [
       "<IPython.core.display.HTML object>"
      ]
     },
     "metadata": {},
     "output_type": "display_data"
    },
    {
     "data": {
      "text/html": [
       "<a href='https://www.eaglenews.ph/senator-dela-rosa-posts-photo-of-pnp-chief-gamboa-in-hospital-to-show-that-hes-okay/'> Senator Dela Rosa posts photo of PNP chief Gamboa in hospital to show that he’s okay</a>"
      ],
      "text/plain": [
       "<IPython.core.display.HTML object>"
      ]
     },
     "metadata": {},
     "output_type": "display_data"
    },
    {
     "data": {
      "text/html": [
       "<a href='https://politics.com.ph/singapore-pms-brother-joins-opposition-before-polls/'> Singapore PM’s brother joins opposition before polls</a>"
      ],
      "text/plain": [
       "<IPython.core.display.HTML object>"
      ]
     },
     "metadata": {},
     "output_type": "display_data"
    },
    {
     "data": {
      "text/html": [
       "<a href='/Opinion/Strongman-Duterte-s-COVID-19-failings-usher-in-new-generation-of-leaders'> Strongman Duterte's COVID-19 failings usher in new generation of leaders</a>"
      ],
      "text/plain": [
       "<IPython.core.display.HTML object>"
      ]
     },
     "metadata": {},
     "output_type": "display_data"
    },
    {
     "data": {
      "text/html": [
       "<a href='https://politics.com.ph/supalpal-pa-rin-sa-2022-villafuerte-abs-cbns-franchise-bid-may-be-denied-again-if-network-stays-with-lopezes/'> Supalpal pa rin sa 2022! Villafuerte: ABS-CBN’s franchise bid may be denied again if network stays with Lopezes</a>"
      ],
      "text/plain": [
       "<IPython.core.display.HTML object>"
      ]
     },
     "metadata": {},
     "output_type": "display_data"
    },
    {
     "data": {
      "text/html": [
       "<a href='http://davaotoday.com/main/politics/survey-shows-majority-support-for-abs-cbn/'> Survey shows majority support for ABS-CBN</a>"
      ],
      "text/plain": [
       "<IPython.core.display.HTML object>"
      ]
     },
     "metadata": {},
     "output_type": "display_data"
    },
    {
     "data": {
      "text/html": [
       "<a href='https://politics.com.ph/tapos-maliligayang-araw-ntc-wants-abs-cbn-to-stop-airing-shows-on-digital-channel-asap/'> Tapos maliligayang araw! NTC wants ABS-CBN to stop airing shows on digital channel ASAP</a>"
      ],
      "text/plain": [
       "<IPython.core.display.HTML object>"
      ]
     },
     "metadata": {},
     "output_type": "display_data"
    },
    {
     "data": {
      "text/html": [
       "<a href='http://davaotoday.com/main/todays-views/terrorizing-the-people-with-the-anti-terror-bill/'> Terrorizing the people with the anti-terror bill</a>"
      ],
      "text/plain": [
       "<IPython.core.display.HTML object>"
      ]
     },
     "metadata": {},
     "output_type": "display_data"
    },
    {
     "data": {
      "text/html": [
       "<a href='https://www.interaksyon.com/politics-issues/2020/07/20/173300/lawmakers-zoom-meeting-abs-cbn-assets-takeover/'> These lawmakers bare plans over Zoom to have ABS-CBN assets seized</a>"
      ],
      "text/plain": [
       "<IPython.core.display.HTML object>"
      ]
     },
     "metadata": {},
     "output_type": "display_data"
    },
    {
     "data": {
      "text/html": [
       "<a href='https://politics.com.ph/top-photos-sharons-bilog-ang-mundo-quip-vs-house-korina-on-retrenchment-bloodbath-gretchen-loyal-to-duterte/'> Top photos: Sharon’s ‘bilog ang mundo’ quip vs House; Korina on retrenchment bloodbath; Gretchen loyal to Duterte</a>"
      ],
      "text/plain": [
       "<IPython.core.display.HTML object>"
      ]
     },
     "metadata": {},
     "output_type": "display_data"
    },
    {
     "data": {
      "text/html": [
       "<a href='https://politics.com.ph/top-tweets-mike-defensor-defends-family-trillanes-hits-duterte-cayetano-on-abs-cbn-shutdown-frankie-brands-dds-as-most-toxic-fandom/'> Top tweets: Mike Defensor defends family; Trillanes hits Duterte, Cayetano on ABS-CBN shutdown; Frankie brands DDS as most toxic fandom</a>"
      ],
      "text/plain": [
       "<IPython.core.display.HTML object>"
      ]
     },
     "metadata": {},
     "output_type": "display_data"
    },
    {
     "data": {
      "text/html": [
       "<a href='https://www.theborneopost.com/2020/07/21/two-coronavirus-vaccines-produce-immune-response/'> Two coronavirus vaccines ‘produce immune response’</a>"
      ],
      "text/plain": [
       "<IPython.core.display.HTML object>"
      ]
     },
     "metadata": {},
     "output_type": "display_data"
    },
    {
     "data": {
      "text/html": [
       "<a href='/Politics/International-relations/South-China-Sea/US-to-strengthen-electronic-warfare-abilities-in-South-China-Sea'> US to strengthen electronic-warfare abilities in South China Sea</a>"
      ],
      "text/plain": [
       "<IPython.core.display.HTML object>"
      ]
     },
     "metadata": {},
     "output_type": "display_data"
    },
    {
     "data": {
      "text/html": [
       "<a href='https://www.interaksyon.com/politics-issues/2020/07/16/173094/viewers-of-duterte-national-address-blast-duque-for-improper-wear-of-face-mask/'> Viewers of Duterte’s national address blast Duque for improper wear of face mask</a>"
      ],
      "text/plain": [
       "<IPython.core.display.HTML object>"
      ]
     },
     "metadata": {},
     "output_type": "display_data"
    },
    {
     "data": {
      "text/html": [
       "<a href='https://politics.com.ph/wa-epek-paawa-bbc-journalist-calls-out-ressas-lies-on-press-freedoms-death-under-duterte/'> Wa epek paawa! BBC journalist calls out Ressa’s lies on press freedom’s ‘death’ under Duterte</a>"
      ],
      "text/plain": [
       "<IPython.core.display.HTML object>"
      ]
     },
     "metadata": {},
     "output_type": "display_data"
    },
    {
     "data": {
      "text/html": [
       "<a href='https://politics.com.ph/walang-basehan-tony-la-vina-house-report-on-abs-cbn-franchise-denial-deserves-failing-grade/'> Walang basehan! Tony La Viña: House report on ABS-CBN franchise denial deserves failing grade</a>"
      ],
      "text/plain": [
       "<IPython.core.display.HTML object>"
      ]
     },
     "metadata": {},
     "output_type": "display_data"
    },
    {
     "data": {
      "text/html": [
       "<a href='https://www.interaksyon.com/politics-issues/2020/07/17/173222/abs-cbn-frequencies-selling-network-villafuerte/'> What could happen when ABS-CBN is asked to sell the network</a>"
      ],
      "text/plain": [
       "<IPython.core.display.HTML object>"
      ]
     },
     "metadata": {},
     "output_type": "display_data"
    },
    {
     "data": {
      "text/html": [
       "<a href='https://www.interaksyon.com/politics-issues/2020/07/10/172652/whos-who-a-rundown-of-votes-during-abs-cbn-franchise-renewal-final-hearing/'> Who’s who: A rundown of votes during ABS-CBN franchise renewal final hearing</a>"
      ],
      "text/plain": [
       "<IPython.core.display.HTML object>"
      ]
     },
     "metadata": {},
     "output_type": "display_data"
    },
    {
     "data": {
      "text/html": [
       "<a href='https://politics.com.ph/binaboy-ako-duterte-slams-kapamilya-network-over-foreign-subsidiaries-tax-free-equipment/'> ‘Binaboy ako’: Duterte slams Kapamilya network over foreign subsidiaries, tax-free equipment</a>"
      ],
      "text/plain": [
       "<IPython.core.display.HTML object>"
      ]
     },
     "metadata": {},
     "output_type": "display_data"
    },
    {
     "data": {
      "text/html": [
       "<a href='https://politics.com.ph/dedicate-it-to-the-lord-duterte-asks-for-sacrifices-as-covid-cases-continue-rise/'> ‘Dedicate it to the Lord’: Duterte asks for sacrifices as COVID cases continue rise</a>"
      ],
      "text/plain": [
       "<IPython.core.display.HTML object>"
      ]
     },
     "metadata": {},
     "output_type": "display_data"
    },
    {
     "data": {
      "text/html": [
       "<a href='https://politics.com.ph/di-aabot-sa-sampung-boto-iglesia-ni-cristo-pulong-duterte-team-up-to-kill-abs-cbns-franchise-bid/'> ‘Di aabot sa sampung boto! Iglesia Ni Cristo, Pulong Duterte team up to kill ABS-CBN’s franchise bid</a>"
      ],
      "text/plain": [
       "<IPython.core.display.HTML object>"
      ]
     },
     "metadata": {},
     "output_type": "display_data"
    },
    {
     "data": {
      "text/html": [
       "<a href='https://politics.com.ph/di-magpapadala-sa-pressure-guevarra-vows-conscience-will-prevail-in-dojs-review-of-anti-terror-bill/'> ‘Di magpapadala sa pressure! Guevarra vows conscience will prevail in DOJ’s review of anti-terror bill</a>"
      ],
      "text/plain": [
       "<IPython.core.display.HTML object>"
      ]
     },
     "metadata": {},
     "output_type": "display_data"
    },
    {
     "data": {
      "text/html": [
       "<a href='https://politics.com.ph/di-na-natutuwa-winnie-monsod-calls-soldiers-braver-better-for-staying-stone-faced-during-dutertes-jolo-speech/'> ‘Di na natutuwa! Winnie Monsod calls soldiers ‘braver, better’ for staying stone-faced during Duterte’s Jolo speech</a>"
      ],
      "text/plain": [
       "<IPython.core.display.HTML object>"
      ]
     },
     "metadata": {},
     "output_type": "display_data"
    },
    {
     "data": {
      "text/html": [
       "<a href='https://politics.com.ph/di-nanlaban-nbi-finds-no-proof-slain-soldiers-fired-at-jolo-cops/'> ‘Di nanlaban! NBI finds no proof slain soldiers fired at Jolo cops</a>"
      ],
      "text/plain": [
       "<IPython.core.display.HTML object>"
      ]
     },
     "metadata": {},
     "output_type": "display_data"
    },
    {
     "data": {
      "text/html": [
       "<a href='https://politics.com.ph/di-nasabon-duterte-gives-duque-free-pass-for-claiming-covid-19-curve-flattened/'> ‘Di nasabon! Duterte gives Duque free pass for claiming COVID-19 curve flattened</a>"
      ],
      "text/plain": [
       "<IPython.core.display.HTML object>"
      ]
     },
     "metadata": {},
     "output_type": "display_data"
    },
    {
     "data": {
      "text/html": [
       "<a href='https://politics.com.ph/good-man-dennis-uy-couldnt-care-less-about-abs-cbn-frequency-teddyboy-locsin-says/'> ‘Good man’ Dennis Uy couldn’t care less about ABS-CBN frequency, Teddyboy Locsin says</a>"
      ],
      "text/plain": [
       "<IPython.core.display.HTML object>"
      ]
     },
     "metadata": {},
     "output_type": "display_data"
    },
    {
     "data": {
      "text/html": [
       "<a href='https://politics.com.ph/lungkot-na-lungkot-siya-duterte-wants-to-talk-to-cops-who-killed-soldiers-in-jolo-shooting-incident/'> ‘Lungkot na lungkot siya’: Duterte wants to talk to cops who killed soldiers in Jolo shooting incident</a>"
      ],
      "text/plain": [
       "<IPython.core.display.HTML object>"
      ]
     },
     "metadata": {},
     "output_type": "display_data"
    },
    {
     "data": {
      "text/html": [
       "<a href='https://www.manilatimes.net/2020/07/21/lifestyle-entertainment/show-times/columnists-show-times/may-bukas-pa-for-abs-cbn/743858/'> ‘May bukas pa’ for ABS-CBN</a>"
      ],
      "text/plain": [
       "<IPython.core.display.HTML object>"
      ]
     },
     "metadata": {},
     "output_type": "display_data"
    },
    {
     "data": {
      "text/html": [
       "<a href='https://politics.com.ph/may-kalalagyan-ka-trillanes-rips-bong-go-for-bullying-student/'> ‘May kalalagyan ka:’ Trillanes rips Bong Go for bullying student</a>"
      ],
      "text/plain": [
       "<IPython.core.display.HTML object>"
      ]
     },
     "metadata": {},
     "output_type": "display_data"
    },
    {
     "data": {
      "text/html": [
       "<a href='https://www.interaksyon.com/politics-issues/2020/07/16/173110/panalo-na-naman-tayo-filipinos-recall-roques-congratulations-philippines-covid-19-cases-exceed-60k/'> ‘Panalo na naman tayo’: Filipinos recall Roque’s ‘Congratulations Philippines’ as COVID-19 cases exceed 60K</a>"
      ],
      "text/plain": [
       "<IPython.core.display.HTML object>"
      ]
     },
     "metadata": {},
     "output_type": "display_data"
    },
    {
     "data": {
      "text/html": [
       "<a href='https://politics.com.ph/reposting-not-knowing-if-its-true-sharon-cuneta-curious-about-politiko-article-on-alleged-pulong-duterte-iglesia-ni-cristo-link-to-abs-cbn-shutdown/'> ‘Reposting, not knowing if it’s true:’ Sharon Cuneta curious about Politiko article on alleged Pulong Duterte-Iglesia Ni Cristo link to ABS-CBN shutdown</a>"
      ],
      "text/plain": [
       "<IPython.core.display.HTML object>"
      ]
     },
     "metadata": {},
     "output_type": "display_data"
    },
    {
     "data": {
      "text/html": [
       "<a href='https://politics.com.ph/unless-you-are-driven-by-patriotism-duterte-discourages-daughter-sara-to-run-for-highest-public-office/'> ‘Unless you are driven by patriotism’: Duterte discourages daughter Sara to run for highest public office</a>"
      ],
      "text/plain": [
       "<IPython.core.display.HTML object>"
      ]
     },
     "metadata": {},
     "output_type": "display_data"
    },
    {
     "data": {
      "text/html": [
       "<a href='https://politics.com.ph/wag-idamay-ang-mga-bata-mike-defensor-appeals-to-critics-not-to-drag-his-family-over-abs-cbn-franchise-denial/'> ‘Wag idamay ang mga bata:’ Mike Defensor appeals to critics not to drag his family over ABS-CBN franchise denial</a>"
      ],
      "text/plain": [
       "<IPython.core.display.HTML object>"
      ]
     },
     "metadata": {},
     "output_type": "display_data"
    },
    {
     "data": {
      "text/html": [
       "<a href='https://www.interaksyon.com/celebrities/2020/07/20/173320/sarah-geronimo-nadine-lustre-speak-up-on-abs-cbn-franchise-denial-as-mass-layoffs-nears/'> ‘Wala na tayong oras’: Sarah Geronimo, Nadine Lustre speak up on ABS-CBN franchise denial as mass layoffs nears</a>"
      ],
      "text/plain": [
       "<IPython.core.display.HTML object>"
      ]
     },
     "metadata": {},
     "output_type": "display_data"
    },
    {
     "data": {
      "text/html": [
       "<a href='https://politics.com.ph/we-will-never-forget-trillanes-slams-duterte-cayetano-over-abs-cbn-shutdown/'> ‘We will never forget:’ Trillanes slams Duterte, Cayetano over ABS-CBN shutdown</a>"
      ],
      "text/plain": [
       "<IPython.core.display.HTML object>"
      ]
     },
     "metadata": {},
     "output_type": "display_data"
    },
    {
     "name": "stdout",
     "output_type": "stream",
     "text": [
      "Errors:  0\n"
     ]
    }
   ],
   "source": [
    "# summary: this takes the list from the first cell of all the html pages\n",
    "# puts the headline as the text for the list\n",
    "# uses beautiful soup to get the headline (the title field)\n",
    "# then makes it an html link\n",
    "# then displays it as an html link (needed ipython library above to do that)\n",
    "# can do this for any list of links that I get from feedly, will really save time\n",
    "#hlist = list(set(hlist))\n",
    "#hlist.sort()\n",
    "hlist = [elem[1] for elem in hitlist]\n",
    "\n",
    "for newselem in hitlist:\n",
    "    if newselem[0] == 'None':\n",
    "# for ilink in hlist:\n",
    "        try:\n",
    "            r = requests.get(newselem[1], headers=headers)\n",
    "            soup = BeautifulSoup(r.text, 'html.parser')\n",
    "            titletext = soup.title.text\n",
    "            reflink = \"<a href='\" + ilink + \"'> \" + titletext + \"</a>\"\n",
    "            html = HTML(reflink)\n",
    "            display(html)\n",
    "        except:\n",
    "            errors += 1\n",
    "    else:\n",
    "        reflink = \"<a href='\" + newselem[1] + \"'> \" + newselem[0] + \"</a>\"\n",
    "        html = HTML(reflink)\n",
    "        display(html)\n",
    "        \n",
    "print(\"Errors: \", errors)"
   ]
  },
  {
   "cell_type": "code",
   "execution_count": 8,
   "metadata": {},
   "outputs": [],
   "source": [
    "paperlist = [\"https://www.abc.net.au/news/\",\n",
    "    \"https://www.aseantoday.com/\",\n",
    "    \"https://www.bbc.com/news\",\n",
    "    \"https://www.asiasentinel.com/\",\n",
    "    \"https://www.bangkokpost.com/\",\n",
    "    \"https://www.benarnews.org/english/\",\n",
    "    \"https://www.theborneopost.com/\",\n",
    "    \"https://www.japantimes.co.jp/\",\n",
    "    \"https://www.nationthailand.com/\",\n",
    "    \"https://www.nzherald.co.nz/\",\n",
    "    \"https://www.rfa.org/english/\",\n",
    "    \"https://www.thejakartapost.com/\",\n",
    "    \"http://www.straitstimes.com/asia/\",\n",
    "    \"http://www.straitstimes.com/asia/east-asia/\",\n",
    "    \"https://www.scmp.com/\",\n",
    "    \"https://www.globaltimes.cn/\",\n",
    "    \"https://www.nytimes.com/\",\n",
    "    \"https://www.foxnews.com/\",\n",
    "    \"https://www.cnn.com/\",\n",
    "    \"https://asia.nikkei.com/\"]\n",
    "\n",
    "taglist = [\"coronavirus\",\n",
    "    \"covid-19\",\n",
    "    \"world health organisation\",\n",
    "    \"world health organization\",\n",
    "    \"embargo\",\n",
    "    \"trade deal\",\n",
    "    \"tariffs\",\n",
    "    \"election\",\n",
    "    \"cases spike\",\n",
    "    \"close schools\",\n",
    "    \"bullying\",\n",
    "    \"south china sea\",\n",
    "    \"lockdown\",\n",
    "    \"peta\",\n",
    "    \"coconut supply\",\n",
    "    \"abu sayyaf\",\n",
    "    \"data security\",\n",
    "    \"hong kong police\",\n",
    "    \"hong kong protestors\",\n",
    "    \"national security law\",\n",
    "    \"remdesvir\",\n",
    "    \"vaccine trials\",\n",
    "    \"uighur\",\n",
    "    \"aegis ashore\",\n",
    "    \"economy to shrink\",\n",
    "    \"nuclear talks\",\n",
    "    \"indigenous\",\n",
    "    \"dollar drops\",\n",
    "    \"dollar falls\",\n",
    "    \"dollar rises\",\n",
    "    \"battle against virus\",\n",
    "    \"recession\",\n",
    "    \"voice of america\",\n",
    "    \"lemur\",\n",
    "    \"orangutang\",\n",
    "    \"elephant\",\n",
    "    \"pangolin\",\n",
    "    \"fishermen\",\n",
    "    \"bolsonaro\",\n",
    "    \"inflation\",\n",
    "    \"aboriginal\",\n",
    "    \"japan earthquake\",\n",
    "    \"flooding in china\",\n",
    "    \"flood in china\",\n",
    "    \"earthquake in japan\",\n",
    "    \"typhoon\",\n",
    "    \"hagia sophia\",\n",
    "    \"turkey\",\n",
    "    \"erdogan\"]\n",
    "\n"
   ]
  },
  {
   "cell_type": "code",
   "execution_count": 9,
   "metadata": {},
   "outputs": [],
   "source": [
    "hitlist = []\n",
    "hlist = []\n",
    "for paper in paperlist:\n",
    "    r = requests.get(paper, headers=headers)\n",
    "    soup = BeautifulSoup(r.text, 'html.parser')\n",
    "    myelems = soup.findAll('a')\n",
    "    for elem in myelems:\n",
    "        titleck = str(elem.get('title'))\n",
    "        for checker in taglist:\n",
    "            if checker.lower() in titleck.lower():\n",
    "                url = elem.get('href')\n",
    "                hitlist.append((titleck, url))\n",
    "                hlist.append(url)\n",
    "hitlist = list(set(hitlist))\n",
    "hitlist.sort()\n",
    "# for elem in hitlist:\n",
    "#     print(elem[0])\n",
    "#     print(elem[1])\n"
   ]
  },
  {
   "cell_type": "code",
   "execution_count": 10,
   "metadata": {},
   "outputs": [
    {
     "data": {
      "text/html": [
       "<a href='https://www.benarnews.org/english/news/indonesian/sea-concerns-06262020145459.html'> ASEAN Leaders Assert Importance of Free Airspace over South China Sea</a>"
      ],
      "text/plain": [
       "<IPython.core.display.HTML object>"
      ]
     },
     "metadata": {},
     "output_type": "display_data"
    },
    {
     "data": {
      "text/html": [
       "<a href='https://www.aseantoday.com/2020/07/covid-19-is-boosting-fintech-and-mobile-money-in-myanmar-but-whats-next/'> COVID-19 is boosting fintech and mobile money in Myanmar, but what's next? | ASEAN Today</a>"
      ],
      "text/plain": [
       "<IPython.core.display.HTML object>"
      ]
     },
     "metadata": {},
     "output_type": "display_data"
    },
    {
     "data": {
      "text/html": [
       "<a href='https://www.aseantoday.com/2020/05/covid-19-pushes-healthcare-technology-transformation-in-asia/'> COVID-19 pushes healthcare technology transformation in Asia | ASEAN Today</a>"
      ],
      "text/plain": [
       "<IPython.core.display.HTML object>"
      ]
     },
     "metadata": {},
     "output_type": "display_data"
    },
    {
     "data": {
      "text/html": [
       "<a href='https://www.rfa.org/english/news/uyghur/outbreak-07202020161545.html'> Coronavirus Infections Mount to Four Dozen in Xinjiang Capital Amid New Outbreak</a>"
      ],
      "text/plain": [
       "<IPython.core.display.HTML object>"
      ]
     },
     "metadata": {},
     "output_type": "display_data"
    },
    {
     "data": {
      "text/html": [
       "<a href='https://www.theborneopost.com/2020/07/22/covid-19-malaysia-reports-double-digits-for-third-straight-day/'> Covid-19: Malaysia reports double digits for third straight day | Borneo Post Online</a>"
      ],
      "text/plain": [
       "<IPython.core.display.HTML object>"
      ]
     },
     "metadata": {},
     "output_type": "display_data"
    },
    {
     "data": {
      "text/html": [
       "<a href='https://www.rfa.org/english/news/korea/coronavirus-07162020220021.html'> Hard Labor For North Koreans Who Don’t Wear Masks Under Tough New Coronavirus Measures</a>"
      ],
      "text/plain": [
       "<IPython.core.display.HTML object>"
      ]
     },
     "metadata": {},
     "output_type": "display_data"
    },
    {
     "data": {
      "text/html": [
       "<a href='https://www.rfa.org/english/news/china/lockdown-07202020110946.html'> Hong Kong Mulls Total Lockdown Amid Sharp Rise in New Virus Cases</a>"
      ],
      "text/plain": [
       "<IPython.core.display.HTML object>"
      ]
     },
     "metadata": {},
     "output_type": "display_data"
    },
    {
     "data": {
      "text/html": [
       "<a href='https://www.aseantoday.com/2020/07/how-many-singaporeans-should-there-be-how-population-planning-played-in-the-city-states-election/'> How many Singaporeans should there be? How population planning played in the city-state's election | ASEAN Today</a>"
      ],
      "text/plain": [
       "<IPython.core.display.HTML object>"
      ]
     },
     "metadata": {},
     "output_type": "display_data"
    },
    {
     "data": {
      "text/html": [
       "<a href='https://www.aseantoday.com/2020/07/indonesias-new-agricultural-megaproject-threatens-public-health-indigenous-rights-and-it-might-not-work/'> Indonesia's new agricultural megaproject threatens public health, indigenous rights | ASEAN Today</a>"
      ],
      "text/plain": [
       "<IPython.core.display.HTML object>"
      ]
     },
     "metadata": {},
     "output_type": "display_data"
    },
    {
     "data": {
      "text/html": [
       "<a href='https://www.theborneopost.com/2020/07/22/mcc-launches-virtual-campaign-to-fight-covid-19/'> MCC launches virtual campaign to fight Covid-19 | Borneo Post Online</a>"
      ],
      "text/plain": [
       "<IPython.core.display.HTML object>"
      ]
     },
     "metadata": {},
     "output_type": "display_data"
    },
    {
     "data": {
      "text/html": [
       "<a href='https://www.theborneopost.com/2020/07/22/malaysia-on-international-radar-for-covid-19-success/'> Malaysia on international radar for Covid-19 success | Borneo Post Online</a>"
      ],
      "text/plain": [
       "<IPython.core.display.HTML object>"
      ]
     },
     "metadata": {},
     "output_type": "display_data"
    },
    {
     "data": {
      "text/html": [
       "<a href='https://www.benarnews.org/english/news/philippine/covid-gasoline-07212020131327.html'> Philippine President Orders Police to Arrest People not Wearing Masks</a>"
      ],
      "text/plain": [
       "<IPython.core.display.HTML object>"
      ]
     },
     "metadata": {},
     "output_type": "display_data"
    },
    {
     "data": {
      "text/html": [
       "<a href='https://www.benarnews.org/english/news/philippine/risks-rise-07102020171250.html'> Risk of Conflict between US, China Rising in South China Sea, Analysts Say</a>"
      ],
      "text/plain": [
       "<IPython.core.display.HTML object>"
      ]
     },
     "metadata": {},
     "output_type": "display_data"
    },
    {
     "data": {
      "text/html": [
       "<a href='https://www.rfa.org/english/commentaries/taiwan-covid-07062020065643.html'> Taiwan’s Success in Combating the Coronavirus Gains International Attention</a>"
      ],
      "text/plain": [
       "<IPython.core.display.HTML object>"
      ]
     },
     "metadata": {},
     "output_type": "display_data"
    },
    {
     "data": {
      "text/html": [
       "<a href='https://www.benarnews.org/english/news/thai/security-spending-07132020143025.html'> Thai Deep South: Security Budget Faces Cuts over Reduced Violence, COVID-19 Concerns</a>"
      ],
      "text/plain": [
       "<IPython.core.display.HTML object>"
      ]
     },
     "metadata": {},
     "output_type": "display_data"
    },
    {
     "data": {
      "text/html": [
       "<a href='https://www.theborneopost.com/2020/07/21/two-coronavirus-vaccines-produce-immune-response/'> Two coronavirus vaccines 'produce immune response' | Borneo Post Online</a>"
      ],
      "text/plain": [
       "<IPython.core.display.HTML object>"
      ]
     },
     "metadata": {},
     "output_type": "display_data"
    },
    {
     "data": {
      "text/html": [
       "<a href='https://www.rfa.org/english/news/vietnam/license-plates-07172020160542.html'> Vietnam to Fine Drivers With License Plates That Lack Map of South China Sea Islets</a>"
      ],
      "text/plain": [
       "<IPython.core.display.HTML object>"
      ]
     },
     "metadata": {},
     "output_type": "display_data"
    },
    {
     "data": {
      "text/html": [
       "<a href='https://www.aseantoday.com/2020/07/what-can-indonesian-fishers-and-happiness-data-teach-us-about-the-covid-19-economy/'> What can Indonesian fishers and happiness data teach us about the COVID-19 economy? | ASEAN Today</a>"
      ],
      "text/plain": [
       "<IPython.core.display.HTML object>"
      ]
     },
     "metadata": {},
     "output_type": "display_data"
    },
    {
     "data": {
      "text/html": [
       "<a href='https://www.aseantoday.com/2020/07/what-does-the-covid-19-boom-in-gaming-mean-for-southeast-asia/'> What does the COVID-19 boom in gaming mean for Southeast Asia? | ASEAN Today</a>"
      ],
      "text/plain": [
       "<IPython.core.display.HTML object>"
      ]
     },
     "metadata": {},
     "output_type": "display_data"
    },
    {
     "data": {
      "text/html": [
       "<a href='https://www.rfa.org/english/news/uyghur/urumqi-07172020175115.html'> Xinjiang Capital Urumqi on Lockdown Amidst New Outbreak of Coronavirus</a>"
      ],
      "text/plain": [
       "<IPython.core.display.HTML object>"
      ]
     },
     "metadata": {},
     "output_type": "display_data"
    },
    {
     "data": {
      "text/html": [
       "<a href='https://www.theborneopost.com/2020/07/21/breakthrough-treatment-slashes-coronavirus-death-risk-study/'> ‘Breakthrough’ treatment slashes coronavirus death risk — Study | Borneo Post Online</a>"
      ],
      "text/plain": [
       "<IPython.core.display.HTML object>"
      ]
     },
     "metadata": {},
     "output_type": "display_data"
    },
    {
     "name": "stdout",
     "output_type": "stream",
     "text": [
      "Errors:  10\n"
     ]
    }
   ],
   "source": [
    "# summary: this takes the list from the first cell of all the html pages\n",
    "# puts the headline as the text for the list\n",
    "# uses beautiful soup to get the headline (the title field)\n",
    "# then makes it an html link\n",
    "# then displays it as an html link (needed ipython library above to do that)\n",
    "# can do this for any list of links that I get from feedly, will really save time\n",
    "#hlist = list(set(hlist))\n",
    "#hlist.sort()\n",
    "hlist = [elem[1] for elem in hitlist]\n",
    "errors = 0\n",
    "for ilink in hlist:\n",
    "    try:\n",
    "        r = requests.get(ilink, headers=headers)\n",
    "        soup = BeautifulSoup(r.text, 'html.parser')\n",
    "        titletext = soup.title.text\n",
    "        reflink = \"<a href='\" + ilink + \"'> \" + titletext + \"</a>\"\n",
    "        html = HTML(reflink)\n",
    "        display(html)\n",
    "    except:\n",
    "        errors += 1\n",
    "print(\"Errors: \", errors)"
   ]
  },
  {
   "cell_type": "code",
   "execution_count": 11,
   "metadata": {},
   "outputs": [
    {
     "name": "stdout",
     "output_type": "stream",
     "text": [
      "50\n"
     ]
    },
    {
     "data": {
      "text/html": [
       "<a href='https://www.scmp.com/business/companies/article/3093688/best-mart-360-opens-third-shop-macau-eyes-greater-bay-area-after'> Best Mart 360 opens third shop in Macau, eyes  Greater Bay Area after social unrest, coronavirus slashes profit by 80 per cent | South China Morning Post</a>"
      ],
      "text/plain": [
       "<IPython.core.display.HTML object>"
      ]
     },
     "metadata": {},
     "output_type": "display_data"
    },
    {
     "data": {
      "text/html": [
       "<a href='https://www.scmp.com/economy/china-economy/article/3093371/china-gdp-economy-avoids-recession-second-quarter-growth-32'> China GDP: first major economy to show a recovery from coronavirus damage with 3.2 per cent growth in second quarter | South China Morning Post</a>"
      ],
      "text/plain": [
       "<IPython.core.display.HTML object>"
      ]
     },
     "metadata": {},
     "output_type": "display_data"
    },
    {
     "data": {
      "text/html": [
       "<a href='https://www.scmp.com/business/china-business/article/3093429/chinas-june-property-investment-home-prices-pick-economy'> China’s June property investment, home prices pick up as economy averts a recession | South China Morning Post</a>"
      ],
      "text/plain": [
       "<IPython.core.display.HTML object>"
      ]
     },
     "metadata": {},
     "output_type": "display_data"
    },
    {
     "data": {
      "text/html": [
       "<a href='https://www.scmp.com/business/banking-finance/article/3093222/chinese-bankers-hong-kong-feel-sting-tripling-tax-bill'> Chinese bankers in Hong Kong feel the sting of a tripling tax bill as China’s tax authority collects tariffs on citizens’ global income | South China Morning Post</a>"
      ],
      "text/plain": [
       "<IPython.core.display.HTML object>"
      ]
     },
     "metadata": {},
     "output_type": "display_data"
    },
    {
     "data": {
      "text/html": [
       "<a href='https://www.scmp.com/business/banking-finance/article/3093304/hsbc-standard-chartered-reinstate-work-home-measures-third'> HSBC, Standard Chartered reinstate work-from-home measures as ‘third wave’ of coronavirus hits Hong Kong | South China Morning Post</a>"
      ],
      "text/plain": [
       "<IPython.core.display.HTML object>"
      ]
     },
     "metadata": {},
     "output_type": "display_data"
    },
    {
     "data": {
      "text/html": [
       "<a href='https://www.scmp.com/business/money/stock-talk/article/3093214/hong-kong-stocks-rally-covid-19-vaccine-hopes-traders'> Hong Kong stock investors shrug off Trump move to revoke city’s special status, focus on Covid-19 spike, vaccine progress | South China Morning Post</a>"
      ],
      "text/plain": [
       "<IPython.core.display.HTML object>"
      ]
     },
     "metadata": {},
     "output_type": "display_data"
    },
    {
     "data": {
      "text/html": [
       "<a href='https://www.scmp.com/business/companies/article/3093679/hong-kong-textile-giant-esquel-supplier-nike-and-hilfiger'> Hong Kong textile giant Esquel, supplier of Nike and Hilfiger, suspends operations at spinning mill as new coronavirus cases spark lockdown of Xinjiang’s capital | South China Morning Post</a>"
      ],
      "text/plain": [
       "<IPython.core.display.HTML object>"
      ]
     },
     "metadata": {},
     "output_type": "display_data"
    },
    {
     "data": {
      "text/html": [
       "<a href='https://www.scmp.com/business/banking-finance/article/3093746/preparing-worst-banks-hong-kong-reviewing-client-lists-us'> Preparing for the worst, banks in Hong Kong reviewing client lists as US preps sanctions over national security law | South China Morning Post</a>"
      ],
      "text/plain": [
       "<IPython.core.display.HTML object>"
      ]
     },
     "metadata": {},
     "output_type": "display_data"
    },
    {
     "data": {
      "text/html": [
       "<a href='https://www.scmp.com/business/investor-relations/article/3093797/which-hong-kong-stocks-have-skyrocketed-during'> Which Hong Kong stocks have skyrocketed during the coronavirus pandemic? Hint: one makes toilet paper | South China Morning Post</a>"
      ],
      "text/plain": [
       "<IPython.core.display.HTML object>"
      ]
     },
     "metadata": {},
     "output_type": "display_data"
    },
    {
     "name": "stdout",
     "output_type": "stream",
     "text": [
      "Errors:  0\n"
     ]
    }
   ],
   "source": [
    "# for an xml based rss feed:\n",
    "\n",
    "xmllist = [\"https://www.scmp.com/rss/107605/feed\"]\n",
    "hitlist = []\n",
    "errors = 0\n",
    "for paper in xmllist:\n",
    "    r = requests.get(paper, headers=headers)\n",
    "    #print(r.text[0:500])\n",
    "    soup = BeautifulSoup(r.text, 'xml')\n",
    "    myelems = soup.findAll('guid')\n",
    "    print(len(myelems))\n",
    "    for elem in myelems:\n",
    "        linkck = elem.get_text()\n",
    "        #print(linkck)\n",
    "        #hitlist.append(linkck)\n",
    "        try:\n",
    "            r2 = requests.get(linkck, headers=headers)\n",
    "            soup2 = BeautifulSoup(r2.text, 'html.parser')\n",
    "            titletext = soup2.title.text\n",
    "            for checker in taglist:\n",
    "                if checker.lower() in titletext.lower():\n",
    "                    hitlist.append((titletext, linkck))\n",
    "        except:\n",
    "            errors += 1\n",
    "   \n",
    "hitlist = list(set(hitlist))\n",
    "hitlist.sort()\n",
    "hlist = [elem[1] for elem in hitlist]\n",
    "\n",
    "for elem in hitlist:\n",
    "    reflink = \"<a href='\" + elem[1] + \"'> \" + elem[0] + \"</a>\"\n",
    "    html = HTML(reflink)\n",
    "    display(html)\n",
    "\n",
    "print(\"Errors: \", errors)\n",
    "\n"
   ]
  }
 ],
 "metadata": {
  "kernelspec": {
   "display_name": "Python 3",
   "language": "python",
   "name": "python3"
  },
  "language_info": {
   "codemirror_mode": {
    "name": "ipython",
    "version": 3
   },
   "file_extension": ".py",
   "mimetype": "text/x-python",
   "name": "python",
   "nbconvert_exporter": "python",
   "pygments_lexer": "ipython3",
   "version": "3.7.2"
  }
 },
 "nbformat": 4,
 "nbformat_minor": 4
}
