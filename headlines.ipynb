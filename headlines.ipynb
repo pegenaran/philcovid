{
 "cells": [
  {
   "cell_type": "code",
   "execution_count": 14,
   "metadata": {},
   "outputs": [
    {
     "name": "stdout",
     "output_type": "stream",
     "text": [
      "﻿\r\n",
      "<!DOCTYPE html>\r\n",
      "<html lang=\"en\">\r\n",
      "<head>\r\n",
      "\t<meta charset=\"UTF-8\">\t\r\n",
      "\t\t\r\n",
      "\t<meta name=\"viewport\" content=\"width=device-width, initial-scale=1.0\">\r\n",
      "\t\r\n",
      "\t\r\n",
      "\t\r\n",
      "\t\r\n",
      "\t<!-- FB Meta -->\r\n",
      "\t<meta property=\"og:ttl\" content=\"345600\" />\r\n",
      "\t<meta property=\"fb:app_id\" content=\"175228195865217\" />\r\n",
      "\t<meta property=\"og:title\" content=\"WHO: Indoor airborne spread of coronavirus possible\" />\t\r\n",
      "\t<meta property=\"og:description\" content=\"LONDON — The World Health Organization is acknowledging the possibility that COV\n"
     ]
    }
   ],
   "source": [
    "import requests\n",
    "from bs4 import BeautifulSoup\n",
    "import lxml\n",
    "from IPython.core.display import display, HTML\n",
    "\n",
    "hlist = ['https://newsinfo.inquirer.net/1304791/who-indoor-airborne-spread-of-coronavirus-possible',\n",
    "    'https://www.theguardian.com/world/live/2020/jul/10/coronavirus-live-news-global-update-cases-bolivia-president-covid-19-positive-south-africa-brazil-president-jair-bolsonaro-latest-updatescoronavirus-live-news-bolivia-president-tests-positive-as-south-africa-sees-record-case-rise',\n",
    "    'https://www.wsj.com/articles/oil-went-below-0-some-think-it-will-rebound-to-150-one-day-11594287002',\n",
    "    'https://www.cnbc.com/2020/07/09/disney-reopening-this-week-even-as-coronavirus-cases-spike-in-florida.html',\n",
    "    'https://www.cnbc.com/2020/07/09/who-warns-the-coronavirus-is-getting-worse-continues-to-accelerate.html',\n",
    "    'http://feeds.foxbusiness.com/~r/foxbusiness/latest/~3/y4ny8VF4PX0/us-stocks-july-9-2020',\n",
    "    'http://www.marketwatch.com/news/story.asp?guid=%7BAED11BCA-C218-11EA-B5C1-1D55841A4EF0%7D&siteid=rss&rss=1',\n",
    "    'http://www.marketwatch.com/news/story.asp?guid=%7B0A9972CF-FF2C-4035-AA5B-3D557A0B7869%7D&siteid=rss&rss=1',\n",
    "    'https://www.wsj.com/articles/vaccine-stock-soars-rewarding-investors-big-bet-11594294901',\n",
    "    'https://www.bbc.co.uk/news/uk-england-kent-53349929',\n",
    "    'http://feeds.foxnews.com/~r/foxnews/national/~3/45WkRCxllyI/health-official-trump-rally-likely-source-virus-surge',\n",
    "    'https://www.nytimes.com/2020/07/09/us/politics/trump-supreme-court-appointees.html']\n",
    "\n",
    "\n",
    "\n",
    "\n",
    "# need the following to tell it we are a firefox browser in order to prevent getting blocked as a bot\n",
    "headers = requests.utils.default_headers()\n",
    "headers.update({\n",
    "    'User-Agent': 'Mozilla/5.0 (X11; Ubuntu; Linux x86_64; rv:52.0) Gecko/20100101 Firefox/52.0',\n",
    "})\n",
    "\n",
    "r = requests.get(hlist[0], headers=headers)\n",
    "soup = BeautifulSoup(r.text, 'html.parser')\n",
    "\n",
    "print(r.text[0:500])"
   ]
  },
  {
   "cell_type": "code",
   "execution_count": 15,
   "metadata": {},
   "outputs": [
    {
     "data": {
      "text/plain": [
       "'WHO: Indoor airborne spread of coronavirus possible | Inquirer News'"
      ]
     },
     "execution_count": 15,
     "metadata": {},
     "output_type": "execute_result"
    }
   ],
   "source": [
    "#results = soup.find_all('meta', property=\"og:title\")\n",
    "#len(results)\n",
    "titletext = soup.title.text\n",
    "titletext"
   ]
  },
  {
   "cell_type": "code",
   "execution_count": 16,
   "metadata": {},
   "outputs": [
    {
     "data": {
      "text/html": [
       "<a href='https://www.wsj.com/articles/oil-went-below-0-some-think-it-will-rebound-to-150-one-day-11594287002'> Oil Went Below $0. Some Think It Will Rebound to $150 One Day.     - WSJ</a>"
      ],
      "text/plain": [
       "<IPython.core.display.HTML object>"
      ]
     },
     "metadata": {},
     "output_type": "display_data"
    },
    {
     "data": {
      "text/plain": [
       "\"<a href='https://www.wsj.com/articles/oil-went-below-0-some-think-it-will-rebound-to-150-one-day-11594287002'> Oil Went Below $0. Some Think It Will Rebound to $150 One Day.     - WSJ</a>\""
      ]
     },
     "execution_count": 16,
     "metadata": {},
     "output_type": "execute_result"
    }
   ],
   "source": [
    "#from IPython.display import IFrame\n",
    "#IFrame(src=hlist[0], width=700, height=600)\n",
    "\n",
    "# note than in the reflink below when I had brackets{} surrounding the link, it pointed to localhost first\n",
    "# it may also do that if you leave off the https:// at the front\n",
    "r = requests.get(hlist[2], headers=headers)\n",
    "soup = BeautifulSoup(r.text, 'html.parser')\n",
    "titletext = soup.title.text\n",
    "reflink = \"<a href='\" + hlist[2] + \"'> \" + titletext + \"</a>\"\n",
    "html = HTML(reflink)\n",
    "display(html)\n",
    "hlist[0]\n",
    "reflink\n"
   ]
  },
  {
   "cell_type": "code",
   "execution_count": 17,
   "metadata": {},
   "outputs": [],
   "source": [
    "paperlist = [\"http://davaotoday.com/main/\",\n",
    "    \"https://www.eaglenews.ph/\",\n",
    "    \"https://www.gmanetwork.com/news/\",\n",
    "    \"https://www.inquirer.net/\",\n",
    "    \"https://www.interaksyon.com/\",\n",
    "    \"https://pia.gov.ph/news\",\n",
    "    \"https://edgedavao.net/\",\n",
    "    \"http://www.senate.gov.ph/\",\n",
    "    \"https://politics.com.ph/\",\n",
    "    \"https://www.mindanews.com/\",\n",
    "    \"https://palawan-news.com/\",\n",
    "    \"https://philnews.ph/\",\n",
    "    \"https://www.philstar.com/\",\n",
    "    \"https://www.manilatimes.net/\",\n",
    "    \"https://mb.com.ph/\",\n",
    "    \"https://www.rappler.com/\",\n",
    "    \"http://retiredanalyst.blogspot.com/\",\n",
    "    \"http://tempo.com.ph/\",\n",
    "    \"https://news.abs-cbn.com/\",\n",
    "    \"https://asia.nikkei.com/\"]\n",
    "\n",
    "covid_taglist\t=\t[\"covid-19\",\t\n",
    "\t\t\t\"coronavirus\",\n",
    "\t\t\t\"quarantine\",\n",
    "\t\t\t\"pandemic\",\n",
    "\t\t\t\"vacine\",\n",
    "\t\t\t\"injections\",\n",
    "\t\t\t\"ecq\",\n",
    "\t\t\t\"mecq\",\n",
    "\t\t\t\"gcq\",\n",
    "\t\t\t\"mgcq\",\n",
    "\t\t\t\"lsi\",\n",
    "\t\t\t\"locally stranded individuals\",\n",
    "\t\t\t\"death rate\",\n",
    "\t\t\t\"new cases\",\n",
    "\t\t\t\"total cases\"]\n",
    "\n",
    "econ_taglist\t=\t[\"economy\",\t\n",
    "\t\t\t\"inflation\",\n",
    "\t\t\t\"angkas\",\n",
    "\t\t\t\"backriding\",\n",
    "\t\t\t\"bitcoin\",\n",
    "\t\t\t\"crypto\",\n",
    "\t\t\t\"cryptocurrencies\",\n",
    "\t\t\t\"crypto-currencies\",\n",
    "\t\t\t\"asia development bank\",\n",
    "\t\t\t\"psei\",\n",
    "\t\t\t\"buses\",\n",
    "\t\t\t\"employment\",\n",
    "\t\t\t\"build-build-build\",\n",
    "\t\t\t\"investments\"\n",
    "            \"chinese banks\"]\n",
    "\t\t\t\n",
    "chinathreat_taglist\t=\t[\"south china sea\",\t\n",
    "\t\t\t\"west philippine sea\",\n",
    "\t\t\t\"liu jianchao\",\n",
    "\t\t\t\"chinese ambassador\",\n",
    "\t\t\t\"xi xingping\",\n",
    "\t\t\t\"spratly islands\",\n",
    "\t\t\t\"freedom of navigation\",\n",
    "\t\t\t\"pla navy\",\n",
    "\t\t\t\"vfa\",\n",
    "\t\t\t\"scarborough shoal\",\n",
    "\t\t\t\"mischief reef\",\n",
    "\t\t\t\"pla militia\",\n",
    "\t\t\t\"air defense identification zone\",\n",
    "\t\t\t\"adiz\",\n",
    "\t\t\t\"visiting forces agreement\",\n",
    "\t\t\t\"philippine navy\",\n",
    "\t\t\t\"brp\",\n",
    "\t\t\t\"us navy\",\n",
    "\t\t\t\"navy\",\n",
    "            \"us troops\",\n",
    "            \"guard against china\",\n",
    "            \"beidaihe\"]\n",
    "\t\t\t\n",
    "insurgency_taglist\t=\t[\"anti-terror\",\t\n",
    "\t\t\t\"anti-terror law\",\n",
    "\t\t\t\"abu sayyaf\",\n",
    "\t\t\t\"biff\",\n",
    "\t\t\t\"bangsamoro islamic freedom fighters\",\n",
    "\t\t\t\"npa\",\n",
    "\t\t\t\"new people's army\",\n",
    "\t\t\t\"milf\",\n",
    "\t\t\t\"moro islamic liberation front\",\n",
    "\t\t\t\"mnlf\",\n",
    "\t\t\t\"moro national liberation front\",\n",
    "\t\t\t\"islamic state\",\n",
    "\t\t\t\"marawi\",\n",
    "\t\t\t\"mamasapano\"]\n",
    "\t\t\t\n",
    "\t\t\t\n",
    "pulitika_taglist\t=\t[\"lopez\",\t\n",
    "\t\t\t\"supreme court\",\n",
    "\t\t\t\"serreno\",\n",
    "\t\t\t\"duterte\",\n",
    "\t\t\t\"abs-cbn\",\n",
    "\t\t\t\"house votes\",\n",
    "\t\t\t\"senate votes\",\n",
    "\t\t\t\"opposition\"]\n",
    "\t\t\t\n",
    "\t\t\t\n",
    "province_taglist\t=\t[\"palawan\",\t\n",
    "\t\t\t\"manobo\",\n",
    "\t\t\t\"tuguegarao\",\n",
    "\t\t\t\"cagayan valley\",\n",
    "\t\t\t\"igorot\",\n",
    "\t\t\t\"lumad\",\n",
    "\t\t\t\"ipra\",\n",
    "\t\t\t\"indigenous\",\n",
    "\t\t\t\"kankanaey\",\n",
    "\t\t\t\"palawano\",\n",
    "\t\t\t\"agutaya\",\n",
    "\t\t\t\"malaybalay\",\n",
    "\t\t\t\"bukidnon\",\n",
    "\t\t\t\"higaunon\",\n",
    "\t\t\t\"davao\"]\n",
    "\t\t\t\n",
    "\t\t\t\n",
    "ncr_taglist\t=\t[\"rizal province\",\t\n",
    "\t\t\t\"antipolo\",\n",
    "\t\t\t\"mandaluyong\",\n",
    "\t\t\t\"cainta\",\n",
    "\t\t\t\"edsa\",\n",
    "\t\t\t\"taguig\",\n",
    "\t\t\t\"quezon city\"]\n",
    "\t\t\t\n",
    "\t\t\t\n",
    "chrgroup_taglist\t=\t[\"catholic\",\t\n",
    "\t\t\t\"catholic bishop’s conference of the philippines\",\n",
    "\t\t\t\"catholic bishops conference of the philippines\",\n",
    "\t\t\t\"cbcp\",\n",
    "\t\t\t\"iglesia ni cristo\",\n",
    "\t\t\t\"quiboloy\",\n",
    "\t\t\t\"quibuloy\"]\n",
    "\t\t\t\n",
    "\t\t\t\n",
    "moro_taglist\t=\t[\"moro\",\t\n",
    "\t\t\t\"bangsamoro\",\n",
    "\t\t\t\"barmm\",\n",
    "\t\t\t\"sultan kudarat\",\n",
    "\t\t\t\"sulu\",\n",
    "\t\t\t\"basilan\",\n",
    "\t\t\t\"jolo\",\n",
    "\t\t\t\"maranao\",\n",
    "\t\t\t\"tausug\",\n",
    "\t\t\t\"maguindanao\",\n",
    "\t\t\t\"cotobato\",\n",
    "\t\t\t\"cotabato\",\n",
    "\t\t\t\"sabah\",\n",
    "\t\t\t\"sultan of sulu\",\n",
    "\t\t\t\"sultanate of sulu\"]\n",
    "\t\t\t\n",
    "\t\t\t\n",
    "auth_taglist\t=\t[\"duterte\",\t\n",
    "\t\t\t\"red-tagging\",\n",
    "\t\t\t\"anti-terror\",\n",
    "\t\t\t\"jose calida\",\n",
    "\t\t\t\"solicitor general\",\n",
    "\t\t\t\"medialdea\",\n",
    "\t\t\t\"bong go\",\n",
    "\t\t\t\"bato dela rosa\",\n",
    "\t\t\t\"ronald dela rosa\",\n",
    "\t\t\t\"dela rosa\",\n",
    "\t\t\t\"de la rosa\"]\n",
    "\n",
    "exclude_list = [\"leave a comment on\",\n",
    "    \"california\",\n",
    "    \"watch\",\n",
    "    \"permalink\",\n",
    "    \"inmate\",\n",
    "    \"stores closed\",\n",
    "    \"overseas filipinos\",\n",
    "    \"alibaba\",\n",
    "    \"artistry\",\n",
    "    \"flu pandemic\",\n",
    "    \"korean trash\",\n",
    "    \"walmart\",\n",
    "    \"us stores\",\n",
    "    \"tournament\",\n",
    "    \"filipino workers stranded\",\n",
    "    \"donald trump\",\n",
    "    \"rhine river\",\n",
    "    \"european union\",\n",
    "    \"fertilizer scam\",\n",
    "    \"olympics\",\n",
    "    \"coronavirus affects\",\n",
    "    \"kids in malaysia\",\n",
    "    \"liquor ban\",\n",
    "    \"piolo pascual\",\n",
    "    \"profile of a killer\",\n",
    "    \"croatia\",\n",
    "    \"nba\",\n",
    "    \"sexual abuse\",\n",
    "    \"festival queen\",\n",
    "    \"tips for parents\",\n",
    "    \"arcadia fitness gym\"]\n",
    "\n",
    "taglist =  covid_taglist+ auth_taglist+ chinathreat_taglist+ chrgroup_taglist+ econ_taglist+ insurgency_taglist+ moro_taglist+ ncr_taglist+ province_taglist+ pulitika_taglist\n",
    "taglist = list(set(taglist))\n",
    "taglist.sort()\n"
   ]
  },
  {
   "cell_type": "code",
   "execution_count": 18,
   "metadata": {},
   "outputs": [
    {
     "name": "stdout",
     "output_type": "stream",
     "text": [
      "Percent complete all sources list: 5.0%\n",
      "Percent complete http://davaotoday.com/main/ list: 0.6%\n",
      "Percent complete http://davaotoday.com/main/ list: 1.2%\n",
      "Percent complete http://davaotoday.com/main/ list: 1.7%\n",
      "Percent complete http://davaotoday.com/main/ list: 2.3%\n",
      "Percent complete http://davaotoday.com/main/ list: 2.9%\n",
      "Percent complete http://davaotoday.com/main/ list: 3.5%\n",
      "Percent complete http://davaotoday.com/main/ list: 4.1%\n",
      "Percent complete http://davaotoday.com/main/ list: 4.7%\n",
      "Percent complete http://davaotoday.com/main/ list: 5.2%\n",
      "Percent complete http://davaotoday.com/main/ list: 5.8%\n",
      "Percent complete http://davaotoday.com/main/ list: 6.4%\n",
      "Percent complete http://davaotoday.com/main/ list: 7.0%\n",
      "Percent complete http://davaotoday.com/main/ list: 7.6%\n",
      "Percent complete http://davaotoday.com/main/ list: 8.1%\n",
      "Percent complete http://davaotoday.com/main/ list: 8.7%\n",
      "Percent complete http://davaotoday.com/main/ list: 9.3%\n",
      "Percent complete http://davaotoday.com/main/ list: 9.9%\n",
      "Percent complete http://davaotoday.com/main/ list: 10.5%\n",
      "Percent complete http://davaotoday.com/main/ list: 11.0%\n",
      "Percent complete http://davaotoday.com/main/ list: 11.6%\n",
      "Percent complete http://davaotoday.com/main/ list: 12.2%\n",
      "Percent complete http://davaotoday.com/main/ list: 12.8%\n",
      "Percent complete http://davaotoday.com/main/ list: 13.4%\n",
      "Percent complete http://davaotoday.com/main/ list: 14.0%\n",
      "Percent complete http://davaotoday.com/main/ list: 14.5%\n",
      "Percent complete http://davaotoday.com/main/ list: 15.1%\n",
      "Percent complete http://davaotoday.com/main/ list: 15.7%\n",
      "Percent complete http://davaotoday.com/main/ list: 16.3%\n",
      "Percent complete http://davaotoday.com/main/ list: 16.9%\n",
      "Percent complete http://davaotoday.com/main/ list: 17.4%\n",
      "Percent complete http://davaotoday.com/main/ list: 18.0%\n",
      "Percent complete http://davaotoday.com/main/ list: 18.6%\n",
      "Percent complete http://davaotoday.com/main/ list: 19.2%\n",
      "Percent complete http://davaotoday.com/main/ list: 19.8%\n",
      "Percent complete http://davaotoday.com/main/ list: 20.3%\n",
      "Percent complete http://davaotoday.com/main/ list: 20.9%\n",
      "Percent complete http://davaotoday.com/main/ list: 21.5%\n",
      "Percent complete http://davaotoday.com/main/ list: 22.1%\n",
      "Percent complete http://davaotoday.com/main/ list: 22.7%\n",
      "Percent complete http://davaotoday.com/main/ list: 23.3%\n",
      "Percent complete http://davaotoday.com/main/ list: 23.8%\n",
      "Percent complete http://davaotoday.com/main/ list: 24.4%\n",
      "Percent complete http://davaotoday.com/main/ list: 25.0%\n",
      "Percent complete http://davaotoday.com/main/ list: 25.6%\n",
      "Percent complete http://davaotoday.com/main/ list: 26.2%\n",
      "Percent complete http://davaotoday.com/main/ list: 26.7%\n",
      "Percent complete http://davaotoday.com/main/ list: 27.3%\n",
      "Percent complete http://davaotoday.com/main/ list: 27.9%\n",
      "Percent complete http://davaotoday.com/main/ list: 28.5%\n",
      "Percent complete http://davaotoday.com/main/ list: 29.1%\n",
      "Percent complete http://davaotoday.com/main/ list: 29.7%\n",
      "Percent complete http://davaotoday.com/main/ list: 30.2%\n",
      "Percent complete http://davaotoday.com/main/ list: 30.8%\n",
      "Percent complete http://davaotoday.com/main/ list: 31.4%\n",
      "Percent complete http://davaotoday.com/main/ list: 32.0%\n",
      "Percent complete http://davaotoday.com/main/ list: 32.6%\n",
      "Percent complete http://davaotoday.com/main/ list: 33.1%\n",
      "Percent complete http://davaotoday.com/main/ list: 33.7%\n",
      "Percent complete http://davaotoday.com/main/ list: 34.3%\n",
      "Percent complete http://davaotoday.com/main/ list: 34.9%\n",
      "Percent complete http://davaotoday.com/main/ list: 35.5%\n",
      "Percent complete http://davaotoday.com/main/ list: 36.0%\n",
      "Percent complete http://davaotoday.com/main/ list: 36.6%\n",
      "Percent complete http://davaotoday.com/main/ list: 37.2%\n",
      "Percent complete http://davaotoday.com/main/ list: 37.8%\n",
      "Percent complete http://davaotoday.com/main/ list: 38.4%\n",
      "Percent complete http://davaotoday.com/main/ list: 39.0%\n",
      "Percent complete http://davaotoday.com/main/ list: 39.5%\n",
      "Percent complete http://davaotoday.com/main/ list: 40.1%\n",
      "Percent complete http://davaotoday.com/main/ list: 40.7%\n",
      "Percent complete http://davaotoday.com/main/ list: 41.3%\n",
      "Percent complete http://davaotoday.com/main/ list: 41.9%\n",
      "Percent complete http://davaotoday.com/main/ list: 42.4%\n",
      "Percent complete http://davaotoday.com/main/ list: 43.0%\n",
      "Percent complete http://davaotoday.com/main/ list: 43.6%\n",
      "Percent complete http://davaotoday.com/main/ list: 44.2%\n",
      "Percent complete http://davaotoday.com/main/ list: 44.8%\n",
      "Percent complete http://davaotoday.com/main/ list: 45.3%\n",
      "Percent complete http://davaotoday.com/main/ list: 45.9%\n",
      "Percent complete http://davaotoday.com/main/ list: 46.5%\n",
      "Percent complete http://davaotoday.com/main/ list: 47.1%\n",
      "Percent complete http://davaotoday.com/main/ list: 47.7%\n",
      "Percent complete http://davaotoday.com/main/ list: 48.3%\n",
      "Percent complete http://davaotoday.com/main/ list: 48.8%\n",
      "Percent complete http://davaotoday.com/main/ list: 49.4%\n",
      "Percent complete http://davaotoday.com/main/ list: 50.0%\n",
      "Percent complete http://davaotoday.com/main/ list: 50.6%\n",
      "Percent complete http://davaotoday.com/main/ list: 51.2%\n",
      "Percent complete http://davaotoday.com/main/ list: 51.7%\n",
      "Percent complete http://davaotoday.com/main/ list: 52.3%\n",
      "Percent complete http://davaotoday.com/main/ list: 52.9%\n",
      "Percent complete http://davaotoday.com/main/ list: 53.5%\n",
      "Percent complete http://davaotoday.com/main/ list: 54.1%\n",
      "Percent complete http://davaotoday.com/main/ list: 54.7%\n",
      "Percent complete http://davaotoday.com/main/ list: 55.2%\n",
      "Percent complete http://davaotoday.com/main/ list: 55.8%\n",
      "Percent complete http://davaotoday.com/main/ list: 56.4%\n",
      "Percent complete http://davaotoday.com/main/ list: 57.0%\n",
      "Percent complete http://davaotoday.com/main/ list: 57.6%\n",
      "Percent complete http://davaotoday.com/main/ list: 58.1%\n",
      "Percent complete http://davaotoday.com/main/ list: 58.7%\n",
      "Percent complete http://davaotoday.com/main/ list: 59.3%\n",
      "Percent complete http://davaotoday.com/main/ list: 59.9%\n",
      "Percent complete http://davaotoday.com/main/ list: 60.5%\n",
      "Percent complete http://davaotoday.com/main/ list: 61.0%\n",
      "Percent complete http://davaotoday.com/main/ list: 61.6%\n",
      "Percent complete http://davaotoday.com/main/ list: 62.2%\n",
      "Percent complete http://davaotoday.com/main/ list: 62.8%\n",
      "Percent complete http://davaotoday.com/main/ list: 63.4%\n",
      "Percent complete http://davaotoday.com/main/ list: 64.0%\n",
      "Percent complete http://davaotoday.com/main/ list: 64.5%\n",
      "Percent complete http://davaotoday.com/main/ list: 65.1%\n",
      "Percent complete http://davaotoday.com/main/ list: 65.7%\n",
      "Percent complete http://davaotoday.com/main/ list: 66.3%\n",
      "Percent complete http://davaotoday.com/main/ list: 66.9%\n",
      "Percent complete http://davaotoday.com/main/ list: 67.4%\n",
      "Percent complete http://davaotoday.com/main/ list: 68.0%\n",
      "Percent complete http://davaotoday.com/main/ list: 68.6%\n",
      "Percent complete http://davaotoday.com/main/ list: 69.2%\n",
      "Percent complete http://davaotoday.com/main/ list: 69.8%\n",
      "Percent complete http://davaotoday.com/main/ list: 70.3%\n",
      "Percent complete http://davaotoday.com/main/ list: 70.9%\n",
      "Percent complete http://davaotoday.com/main/ list: 71.5%\n",
      "Percent complete http://davaotoday.com/main/ list: 72.1%\n",
      "Percent complete http://davaotoday.com/main/ list: 72.7%\n",
      "Percent complete http://davaotoday.com/main/ list: 73.3%\n",
      "Percent complete http://davaotoday.com/main/ list: 73.8%\n",
      "Percent complete http://davaotoday.com/main/ list: 74.4%\n",
      "Percent complete http://davaotoday.com/main/ list: 75.0%\n",
      "Percent complete http://davaotoday.com/main/ list: 75.6%\n",
      "Percent complete http://davaotoday.com/main/ list: 76.2%\n",
      "Percent complete http://davaotoday.com/main/ list: 76.7%\n",
      "Percent complete http://davaotoday.com/main/ list: 77.3%\n",
      "Percent complete http://davaotoday.com/main/ list: 77.9%\n",
      "Percent complete http://davaotoday.com/main/ list: 78.5%\n",
      "Percent complete http://davaotoday.com/main/ list: 79.1%\n",
      "Percent complete http://davaotoday.com/main/ list: 79.7%\n",
      "Percent complete http://davaotoday.com/main/ list: 80.2%\n",
      "Percent complete http://davaotoday.com/main/ list: 80.8%\n",
      "Percent complete http://davaotoday.com/main/ list: 81.4%\n",
      "Percent complete http://davaotoday.com/main/ list: 82.0%\n",
      "Percent complete http://davaotoday.com/main/ list: 82.6%\n",
      "Percent complete http://davaotoday.com/main/ list: 83.1%\n",
      "Percent complete http://davaotoday.com/main/ list: 83.7%\n",
      "Percent complete http://davaotoday.com/main/ list: 84.3%\n",
      "Percent complete http://davaotoday.com/main/ list: 84.9%\n",
      "Percent complete http://davaotoday.com/main/ list: 85.5%\n",
      "Percent complete http://davaotoday.com/main/ list: 86.0%\n",
      "Percent complete http://davaotoday.com/main/ list: 86.6%\n",
      "Percent complete http://davaotoday.com/main/ list: 87.2%\n",
      "Percent complete http://davaotoday.com/main/ list: 87.8%\n",
      "Percent complete http://davaotoday.com/main/ list: 88.4%\n",
      "Percent complete http://davaotoday.com/main/ list: 89.0%\n",
      "Percent complete http://davaotoday.com/main/ list: 89.5%\n",
      "Percent complete http://davaotoday.com/main/ list: 90.1%\n",
      "Percent complete http://davaotoday.com/main/ list: 90.7%\n",
      "Percent complete http://davaotoday.com/main/ list: 91.3%\n",
      "Percent complete http://davaotoday.com/main/ list: 91.9%\n",
      "Percent complete http://davaotoday.com/main/ list: 92.4%\n",
      "Percent complete http://davaotoday.com/main/ list: 93.0%\n",
      "Percent complete http://davaotoday.com/main/ list: 93.6%\n",
      "Percent complete http://davaotoday.com/main/ list: 94.2%\n",
      "Percent complete http://davaotoday.com/main/ list: 94.8%\n",
      "Percent complete http://davaotoday.com/main/ list: 95.3%\n",
      "Percent complete http://davaotoday.com/main/ list: 95.9%\n",
      "Percent complete http://davaotoday.com/main/ list: 96.5%\n",
      "Percent complete http://davaotoday.com/main/ list: 97.1%\n",
      "Percent complete http://davaotoday.com/main/ list: 97.7%\n",
      "Percent complete http://davaotoday.com/main/ list: 98.3%\n",
      "Percent complete http://davaotoday.com/main/ list: 98.8%\n",
      "Percent complete http://davaotoday.com/main/ list: 99.4%\n",
      "Percent complete http://davaotoday.com/main/ list: 100.0%\n",
      "Percent complete all sources list: 10.0%\n"
     ]
    },
    {
     "name": "stdout",
     "output_type": "stream",
     "text": [
      "Percent complete https://www.eaglenews.ph/ list: 0.4%\n",
      "Percent complete https://www.eaglenews.ph/ list: 0.7%\n",
      "Percent complete https://www.eaglenews.ph/ list: 1.1%\n",
      "Percent complete https://www.eaglenews.ph/ list: 1.4%\n",
      "Percent complete https://www.eaglenews.ph/ list: 1.8%\n",
      "Percent complete https://www.eaglenews.ph/ list: 2.2%\n",
      "Percent complete https://www.eaglenews.ph/ list: 2.5%\n",
      "Percent complete https://www.eaglenews.ph/ list: 2.9%\n",
      "Percent complete https://www.eaglenews.ph/ list: 3.2%\n",
      "Percent complete https://www.eaglenews.ph/ list: 3.6%\n",
      "Percent complete https://www.eaglenews.ph/ list: 4.0%\n",
      "Percent complete https://www.eaglenews.ph/ list: 4.3%\n",
      "Percent complete https://www.eaglenews.ph/ list: 4.7%\n",
      "Percent complete https://www.eaglenews.ph/ list: 5.1%\n",
      "Percent complete https://www.eaglenews.ph/ list: 5.4%\n",
      "Percent complete https://www.eaglenews.ph/ list: 5.8%\n",
      "Percent complete https://www.eaglenews.ph/ list: 6.1%\n",
      "Percent complete https://www.eaglenews.ph/ list: 6.5%\n",
      "Percent complete https://www.eaglenews.ph/ list: 6.9%\n",
      "Percent complete https://www.eaglenews.ph/ list: 7.2%\n",
      "Percent complete https://www.eaglenews.ph/ list: 7.6%\n",
      "Percent complete https://www.eaglenews.ph/ list: 7.9%\n",
      "Percent complete https://www.eaglenews.ph/ list: 8.3%\n",
      "Percent complete https://www.eaglenews.ph/ list: 8.7%\n",
      "Percent complete https://www.eaglenews.ph/ list: 9.0%\n",
      "Percent complete https://www.eaglenews.ph/ list: 9.4%\n",
      "Percent complete https://www.eaglenews.ph/ list: 9.7%\n",
      "Percent complete https://www.eaglenews.ph/ list: 10.1%\n",
      "Percent complete https://www.eaglenews.ph/ list: 10.5%\n",
      "Percent complete https://www.eaglenews.ph/ list: 10.8%\n",
      "Percent complete https://www.eaglenews.ph/ list: 11.2%\n",
      "Percent complete https://www.eaglenews.ph/ list: 11.6%\n",
      "Percent complete https://www.eaglenews.ph/ list: 11.9%\n",
      "Percent complete https://www.eaglenews.ph/ list: 12.3%\n",
      "Percent complete https://www.eaglenews.ph/ list: 12.6%\n",
      "Percent complete https://www.eaglenews.ph/ list: 13.0%\n",
      "Percent complete https://www.eaglenews.ph/ list: 13.4%\n",
      "Percent complete https://www.eaglenews.ph/ list: 13.7%\n",
      "Percent complete https://www.eaglenews.ph/ list: 14.1%\n",
      "Percent complete https://www.eaglenews.ph/ list: 14.4%\n",
      "Percent complete https://www.eaglenews.ph/ list: 14.8%\n",
      "Percent complete https://www.eaglenews.ph/ list: 15.2%\n",
      "Percent complete https://www.eaglenews.ph/ list: 15.5%\n",
      "Percent complete https://www.eaglenews.ph/ list: 15.9%\n",
      "Percent complete https://www.eaglenews.ph/ list: 16.2%\n",
      "Percent complete https://www.eaglenews.ph/ list: 16.6%\n",
      "Percent complete https://www.eaglenews.ph/ list: 17.0%\n",
      "Percent complete https://www.eaglenews.ph/ list: 17.3%\n",
      "Percent complete https://www.eaglenews.ph/ list: 17.7%\n",
      "Percent complete https://www.eaglenews.ph/ list: 18.1%\n",
      "Percent complete https://www.eaglenews.ph/ list: 18.4%\n",
      "Percent complete https://www.eaglenews.ph/ list: 18.8%\n",
      "Percent complete https://www.eaglenews.ph/ list: 19.1%\n",
      "Percent complete https://www.eaglenews.ph/ list: 19.5%\n",
      "Percent complete https://www.eaglenews.ph/ list: 19.9%\n",
      "Percent complete https://www.eaglenews.ph/ list: 20.2%\n",
      "Percent complete https://www.eaglenews.ph/ list: 20.6%\n",
      "Percent complete https://www.eaglenews.ph/ list: 20.9%\n",
      "Percent complete https://www.eaglenews.ph/ list: 21.3%\n",
      "Percent complete https://www.eaglenews.ph/ list: 21.7%\n",
      "Percent complete https://www.eaglenews.ph/ list: 22.0%\n",
      "Percent complete https://www.eaglenews.ph/ list: 22.4%\n",
      "Percent complete https://www.eaglenews.ph/ list: 22.7%\n",
      "Percent complete https://www.eaglenews.ph/ list: 23.1%\n",
      "Percent complete https://www.eaglenews.ph/ list: 23.5%\n",
      "Percent complete https://www.eaglenews.ph/ list: 23.8%\n",
      "Percent complete https://www.eaglenews.ph/ list: 24.2%\n",
      "Percent complete https://www.eaglenews.ph/ list: 24.5%\n",
      "Percent complete https://www.eaglenews.ph/ list: 24.9%\n",
      "Percent complete https://www.eaglenews.ph/ list: 25.3%\n",
      "Percent complete https://www.eaglenews.ph/ list: 25.6%\n",
      "Percent complete https://www.eaglenews.ph/ list: 26.0%\n",
      "Percent complete https://www.eaglenews.ph/ list: 26.4%\n",
      "Percent complete https://www.eaglenews.ph/ list: 26.7%\n",
      "Percent complete https://www.eaglenews.ph/ list: 27.1%\n",
      "Percent complete https://www.eaglenews.ph/ list: 27.4%\n",
      "Percent complete https://www.eaglenews.ph/ list: 27.8%\n",
      "Percent complete https://www.eaglenews.ph/ list: 28.2%\n",
      "Percent complete https://www.eaglenews.ph/ list: 28.5%\n",
      "Percent complete https://www.eaglenews.ph/ list: 28.9%\n",
      "Percent complete https://www.eaglenews.ph/ list: 29.2%\n",
      "Percent complete https://www.eaglenews.ph/ list: 29.6%\n",
      "Percent complete https://www.eaglenews.ph/ list: 30.0%\n",
      "Percent complete https://www.eaglenews.ph/ list: 30.3%\n",
      "Percent complete https://www.eaglenews.ph/ list: 30.7%\n",
      "Percent complete https://www.eaglenews.ph/ list: 31.0%\n",
      "Percent complete https://www.eaglenews.ph/ list: 31.4%\n",
      "Percent complete https://www.eaglenews.ph/ list: 31.8%\n",
      "Percent complete https://www.eaglenews.ph/ list: 32.1%\n",
      "Percent complete https://www.eaglenews.ph/ list: 32.5%\n",
      "Percent complete https://www.eaglenews.ph/ list: 32.9%\n",
      "Percent complete https://www.eaglenews.ph/ list: 33.2%\n",
      "Percent complete https://www.eaglenews.ph/ list: 33.6%\n",
      "Percent complete https://www.eaglenews.ph/ list: 33.9%\n",
      "Percent complete https://www.eaglenews.ph/ list: 34.3%\n",
      "Percent complete https://www.eaglenews.ph/ list: 34.7%\n",
      "Percent complete https://www.eaglenews.ph/ list: 35.0%\n",
      "Percent complete https://www.eaglenews.ph/ list: 35.4%\n",
      "Percent complete https://www.eaglenews.ph/ list: 35.7%\n",
      "Percent complete https://www.eaglenews.ph/ list: 36.1%\n",
      "Percent complete https://www.eaglenews.ph/ list: 36.5%\n",
      "Percent complete https://www.eaglenews.ph/ list: 36.8%\n",
      "Percent complete https://www.eaglenews.ph/ list: 37.2%\n",
      "Percent complete https://www.eaglenews.ph/ list: 37.5%\n",
      "Percent complete https://www.eaglenews.ph/ list: 37.9%\n",
      "Percent complete https://www.eaglenews.ph/ list: 38.3%\n",
      "Percent complete https://www.eaglenews.ph/ list: 38.6%\n",
      "Percent complete https://www.eaglenews.ph/ list: 39.0%\n",
      "Percent complete https://www.eaglenews.ph/ list: 39.4%\n",
      "Percent complete https://www.eaglenews.ph/ list: 39.7%\n",
      "Percent complete https://www.eaglenews.ph/ list: 40.1%\n",
      "Percent complete https://www.eaglenews.ph/ list: 40.4%\n",
      "Percent complete https://www.eaglenews.ph/ list: 40.8%\n",
      "Percent complete https://www.eaglenews.ph/ list: 41.2%\n",
      "Percent complete https://www.eaglenews.ph/ list: 41.5%\n",
      "Percent complete https://www.eaglenews.ph/ list: 41.9%\n",
      "Percent complete https://www.eaglenews.ph/ list: 42.2%\n",
      "Percent complete https://www.eaglenews.ph/ list: 42.6%\n",
      "Percent complete https://www.eaglenews.ph/ list: 43.0%\n",
      "Percent complete https://www.eaglenews.ph/ list: 43.3%\n",
      "Percent complete https://www.eaglenews.ph/ list: 43.7%\n",
      "Percent complete https://www.eaglenews.ph/ list: 44.0%\n",
      "Percent complete https://www.eaglenews.ph/ list: 44.4%\n",
      "Percent complete https://www.eaglenews.ph/ list: 44.8%\n",
      "Percent complete https://www.eaglenews.ph/ list: 45.1%\n",
      "Percent complete https://www.eaglenews.ph/ list: 45.5%\n",
      "Percent complete https://www.eaglenews.ph/ list: 45.8%\n",
      "Percent complete https://www.eaglenews.ph/ list: 46.2%\n",
      "Percent complete https://www.eaglenews.ph/ list: 46.6%\n",
      "Percent complete https://www.eaglenews.ph/ list: 46.9%\n",
      "Percent complete https://www.eaglenews.ph/ list: 47.3%\n",
      "Percent complete https://www.eaglenews.ph/ list: 47.7%\n",
      "Percent complete https://www.eaglenews.ph/ list: 48.0%\n",
      "Percent complete https://www.eaglenews.ph/ list: 48.4%\n",
      "Percent complete https://www.eaglenews.ph/ list: 48.7%\n",
      "Percent complete https://www.eaglenews.ph/ list: 49.1%\n",
      "Percent complete https://www.eaglenews.ph/ list: 49.5%\n",
      "Percent complete https://www.eaglenews.ph/ list: 49.8%\n",
      "Percent complete https://www.eaglenews.ph/ list: 50.2%\n",
      "Percent complete https://www.eaglenews.ph/ list: 50.5%\n",
      "Percent complete https://www.eaglenews.ph/ list: 50.9%\n",
      "Percent complete https://www.eaglenews.ph/ list: 51.3%\n",
      "Percent complete https://www.eaglenews.ph/ list: 51.6%\n",
      "Percent complete https://www.eaglenews.ph/ list: 52.0%\n",
      "Percent complete https://www.eaglenews.ph/ list: 52.3%\n",
      "Percent complete https://www.eaglenews.ph/ list: 52.7%\n",
      "Percent complete https://www.eaglenews.ph/ list: 53.1%\n",
      "Percent complete https://www.eaglenews.ph/ list: 53.4%\n",
      "Percent complete https://www.eaglenews.ph/ list: 53.8%\n",
      "Percent complete https://www.eaglenews.ph/ list: 54.2%\n",
      "Percent complete https://www.eaglenews.ph/ list: 54.5%\n",
      "Percent complete https://www.eaglenews.ph/ list: 54.9%\n",
      "Percent complete https://www.eaglenews.ph/ list: 55.2%\n",
      "Percent complete https://www.eaglenews.ph/ list: 55.6%\n",
      "Percent complete https://www.eaglenews.ph/ list: 56.0%\n",
      "Percent complete https://www.eaglenews.ph/ list: 56.3%\n",
      "Percent complete https://www.eaglenews.ph/ list: 56.7%\n",
      "Percent complete https://www.eaglenews.ph/ list: 57.0%\n",
      "Percent complete https://www.eaglenews.ph/ list: 57.4%\n",
      "Percent complete https://www.eaglenews.ph/ list: 57.8%\n",
      "Percent complete https://www.eaglenews.ph/ list: 58.1%\n",
      "Percent complete https://www.eaglenews.ph/ list: 58.5%\n",
      "Percent complete https://www.eaglenews.ph/ list: 58.8%\n",
      "Percent complete https://www.eaglenews.ph/ list: 59.2%\n",
      "Percent complete https://www.eaglenews.ph/ list: 59.6%\n",
      "Percent complete https://www.eaglenews.ph/ list: 59.9%\n",
      "Percent complete https://www.eaglenews.ph/ list: 60.3%\n",
      "Percent complete https://www.eaglenews.ph/ list: 60.6%\n",
      "Percent complete https://www.eaglenews.ph/ list: 61.0%\n",
      "Percent complete https://www.eaglenews.ph/ list: 61.4%\n",
      "Percent complete https://www.eaglenews.ph/ list: 61.7%\n",
      "Percent complete https://www.eaglenews.ph/ list: 62.1%\n",
      "Percent complete https://www.eaglenews.ph/ list: 62.5%\n",
      "Percent complete https://www.eaglenews.ph/ list: 62.8%\n",
      "Percent complete https://www.eaglenews.ph/ list: 63.2%\n",
      "Percent complete https://www.eaglenews.ph/ list: 63.5%\n",
      "Percent complete https://www.eaglenews.ph/ list: 63.9%\n",
      "Percent complete https://www.eaglenews.ph/ list: 64.3%\n",
      "Percent complete https://www.eaglenews.ph/ list: 64.6%\n",
      "Percent complete https://www.eaglenews.ph/ list: 65.0%\n",
      "Percent complete https://www.eaglenews.ph/ list: 65.3%\n",
      "Percent complete https://www.eaglenews.ph/ list: 65.7%\n",
      "Percent complete https://www.eaglenews.ph/ list: 66.1%\n",
      "Percent complete https://www.eaglenews.ph/ list: 66.4%\n",
      "Percent complete https://www.eaglenews.ph/ list: 66.8%\n",
      "Percent complete https://www.eaglenews.ph/ list: 67.1%\n",
      "Percent complete https://www.eaglenews.ph/ list: 67.5%\n",
      "Percent complete https://www.eaglenews.ph/ list: 67.9%\n",
      "Percent complete https://www.eaglenews.ph/ list: 68.2%\n",
      "Percent complete https://www.eaglenews.ph/ list: 68.6%\n",
      "Percent complete https://www.eaglenews.ph/ list: 69.0%\n",
      "Percent complete https://www.eaglenews.ph/ list: 69.3%\n",
      "Percent complete https://www.eaglenews.ph/ list: 69.7%\n",
      "Percent complete https://www.eaglenews.ph/ list: 70.0%\n",
      "Percent complete https://www.eaglenews.ph/ list: 70.4%\n",
      "Percent complete https://www.eaglenews.ph/ list: 70.8%\n",
      "Percent complete https://www.eaglenews.ph/ list: 71.1%\n",
      "Percent complete https://www.eaglenews.ph/ list: 71.5%\n",
      "Percent complete https://www.eaglenews.ph/ list: 71.8%\n",
      "Percent complete https://www.eaglenews.ph/ list: 72.2%\n",
      "Percent complete https://www.eaglenews.ph/ list: 72.6%\n",
      "Percent complete https://www.eaglenews.ph/ list: 72.9%\n",
      "Percent complete https://www.eaglenews.ph/ list: 73.3%\n",
      "Percent complete https://www.eaglenews.ph/ list: 73.6%\n",
      "Percent complete https://www.eaglenews.ph/ list: 74.0%\n",
      "Percent complete https://www.eaglenews.ph/ list: 74.4%\n",
      "Percent complete https://www.eaglenews.ph/ list: 74.7%\n",
      "Percent complete https://www.eaglenews.ph/ list: 75.1%\n",
      "Percent complete https://www.eaglenews.ph/ list: 75.5%\n",
      "Percent complete https://www.eaglenews.ph/ list: 75.8%\n",
      "Percent complete https://www.eaglenews.ph/ list: 76.2%\n",
      "Percent complete https://www.eaglenews.ph/ list: 76.5%\n",
      "Percent complete https://www.eaglenews.ph/ list: 76.9%\n",
      "Percent complete https://www.eaglenews.ph/ list: 77.3%\n",
      "Percent complete https://www.eaglenews.ph/ list: 77.6%\n",
      "Percent complete https://www.eaglenews.ph/ list: 78.0%\n",
      "Percent complete https://www.eaglenews.ph/ list: 78.3%\n",
      "Percent complete https://www.eaglenews.ph/ list: 78.7%\n",
      "Percent complete https://www.eaglenews.ph/ list: 79.1%\n",
      "Percent complete https://www.eaglenews.ph/ list: 79.4%\n",
      "Percent complete https://www.eaglenews.ph/ list: 79.8%\n",
      "Percent complete https://www.eaglenews.ph/ list: 80.1%\n",
      "Percent complete https://www.eaglenews.ph/ list: 80.5%\n",
      "Percent complete https://www.eaglenews.ph/ list: 80.9%\n",
      "Percent complete https://www.eaglenews.ph/ list: 81.2%\n",
      "Percent complete https://www.eaglenews.ph/ list: 81.6%\n",
      "Percent complete https://www.eaglenews.ph/ list: 81.9%\n",
      "Percent complete https://www.eaglenews.ph/ list: 82.3%\n",
      "Percent complete https://www.eaglenews.ph/ list: 82.7%\n",
      "Percent complete https://www.eaglenews.ph/ list: 83.0%\n",
      "Percent complete https://www.eaglenews.ph/ list: 83.4%\n",
      "Percent complete https://www.eaglenews.ph/ list: 83.8%\n",
      "Percent complete https://www.eaglenews.ph/ list: 84.1%\n",
      "Percent complete https://www.eaglenews.ph/ list: 84.5%\n",
      "Percent complete https://www.eaglenews.ph/ list: 84.8%\n",
      "Percent complete https://www.eaglenews.ph/ list: 85.2%\n",
      "Percent complete https://www.eaglenews.ph/ list: 85.6%\n",
      "Percent complete https://www.eaglenews.ph/ list: 85.9%\n",
      "Percent complete https://www.eaglenews.ph/ list: 86.3%\n",
      "Percent complete https://www.eaglenews.ph/ list: 86.6%\n",
      "Percent complete https://www.eaglenews.ph/ list: 87.0%\n",
      "Percent complete https://www.eaglenews.ph/ list: 87.4%\n",
      "Percent complete https://www.eaglenews.ph/ list: 87.7%\n",
      "Percent complete https://www.eaglenews.ph/ list: 88.1%\n",
      "Percent complete https://www.eaglenews.ph/ list: 88.4%\n",
      "Percent complete https://www.eaglenews.ph/ list: 88.8%\n",
      "Percent complete https://www.eaglenews.ph/ list: 89.2%\n",
      "Percent complete https://www.eaglenews.ph/ list: 89.5%\n",
      "Percent complete https://www.eaglenews.ph/ list: 89.9%\n",
      "Percent complete https://www.eaglenews.ph/ list: 90.3%\n",
      "Percent complete https://www.eaglenews.ph/ list: 90.6%\n",
      "Percent complete https://www.eaglenews.ph/ list: 91.0%\n",
      "Percent complete https://www.eaglenews.ph/ list: 91.3%\n",
      "Percent complete https://www.eaglenews.ph/ list: 91.7%\n",
      "Percent complete https://www.eaglenews.ph/ list: 92.1%\n",
      "Percent complete https://www.eaglenews.ph/ list: 92.4%\n",
      "Percent complete https://www.eaglenews.ph/ list: 92.8%\n",
      "Percent complete https://www.eaglenews.ph/ list: 93.1%\n",
      "Percent complete https://www.eaglenews.ph/ list: 93.5%\n",
      "Percent complete https://www.eaglenews.ph/ list: 93.9%\n",
      "Percent complete https://www.eaglenews.ph/ list: 94.2%\n",
      "Percent complete https://www.eaglenews.ph/ list: 94.6%\n",
      "Percent complete https://www.eaglenews.ph/ list: 94.9%\n",
      "Percent complete https://www.eaglenews.ph/ list: 95.3%\n",
      "Percent complete https://www.eaglenews.ph/ list: 95.7%\n",
      "Percent complete https://www.eaglenews.ph/ list: 96.0%\n",
      "Percent complete https://www.eaglenews.ph/ list: 96.4%\n",
      "Percent complete https://www.eaglenews.ph/ list: 96.8%\n",
      "Percent complete https://www.eaglenews.ph/ list: 97.1%\n",
      "Percent complete https://www.eaglenews.ph/ list: 97.5%\n",
      "Percent complete https://www.eaglenews.ph/ list: 97.8%\n",
      "Percent complete https://www.eaglenews.ph/ list: 98.2%\n",
      "Percent complete https://www.eaglenews.ph/ list: 98.6%\n",
      "Percent complete https://www.eaglenews.ph/ list: 98.9%\n",
      "Percent complete https://www.eaglenews.ph/ list: 99.3%\n",
      "Percent complete https://www.eaglenews.ph/ list: 99.6%\n",
      "Percent complete https://www.eaglenews.ph/ list: 100.0%\n",
      "Percent complete all sources list: 15.0%\n"
     ]
    },
    {
     "name": "stdout",
     "output_type": "stream",
     "text": [
      "Percent complete https://www.gmanetwork.com/news/ list: 0.7%\n",
      "Percent complete https://www.gmanetwork.com/news/ list: 1.3%\n",
      "Percent complete https://www.gmanetwork.com/news/ list: 2.0%\n",
      "Percent complete https://www.gmanetwork.com/news/ list: 2.6%\n",
      "Percent complete https://www.gmanetwork.com/news/ list: 3.3%\n",
      "Percent complete https://www.gmanetwork.com/news/ list: 4.0%\n",
      "Percent complete https://www.gmanetwork.com/news/ list: 4.6%\n",
      "Percent complete https://www.gmanetwork.com/news/ list: 5.3%\n",
      "Percent complete https://www.gmanetwork.com/news/ list: 6.0%\n",
      "Percent complete https://www.gmanetwork.com/news/ list: 6.6%\n",
      "Percent complete https://www.gmanetwork.com/news/ list: 7.3%\n",
      "Percent complete https://www.gmanetwork.com/news/ list: 7.9%\n",
      "Percent complete https://www.gmanetwork.com/news/ list: 8.6%\n",
      "Percent complete https://www.gmanetwork.com/news/ list: 9.3%\n",
      "Percent complete https://www.gmanetwork.com/news/ list: 9.9%\n",
      "Percent complete https://www.gmanetwork.com/news/ list: 10.6%\n",
      "Percent complete https://www.gmanetwork.com/news/ list: 11.3%\n",
      "Percent complete https://www.gmanetwork.com/news/ list: 11.9%\n",
      "Percent complete https://www.gmanetwork.com/news/ list: 12.6%\n",
      "Percent complete https://www.gmanetwork.com/news/ list: 13.2%\n",
      "Percent complete https://www.gmanetwork.com/news/ list: 13.9%\n",
      "Percent complete https://www.gmanetwork.com/news/ list: 14.6%\n",
      "Percent complete https://www.gmanetwork.com/news/ list: 15.2%\n",
      "Percent complete https://www.gmanetwork.com/news/ list: 15.9%\n",
      "Percent complete https://www.gmanetwork.com/news/ list: 16.6%\n",
      "Percent complete https://www.gmanetwork.com/news/ list: 17.2%\n",
      "Percent complete https://www.gmanetwork.com/news/ list: 17.9%\n",
      "Percent complete https://www.gmanetwork.com/news/ list: 18.5%\n",
      "Percent complete https://www.gmanetwork.com/news/ list: 19.2%\n",
      "Percent complete https://www.gmanetwork.com/news/ list: 19.9%\n",
      "Percent complete https://www.gmanetwork.com/news/ list: 20.5%\n",
      "Percent complete https://www.gmanetwork.com/news/ list: 21.2%\n",
      "Percent complete https://www.gmanetwork.com/news/ list: 21.9%\n",
      "Percent complete https://www.gmanetwork.com/news/ list: 22.5%\n",
      "Percent complete https://www.gmanetwork.com/news/ list: 23.2%\n",
      "Percent complete https://www.gmanetwork.com/news/ list: 23.8%\n",
      "Percent complete https://www.gmanetwork.com/news/ list: 24.5%\n",
      "Percent complete https://www.gmanetwork.com/news/ list: 25.2%\n",
      "Percent complete https://www.gmanetwork.com/news/ list: 25.8%\n",
      "Percent complete https://www.gmanetwork.com/news/ list: 26.5%\n",
      "Percent complete https://www.gmanetwork.com/news/ list: 27.2%\n",
      "Percent complete https://www.gmanetwork.com/news/ list: 27.8%\n",
      "Percent complete https://www.gmanetwork.com/news/ list: 28.5%\n",
      "Percent complete https://www.gmanetwork.com/news/ list: 29.1%\n",
      "Percent complete https://www.gmanetwork.com/news/ list: 29.8%\n",
      "Percent complete https://www.gmanetwork.com/news/ list: 30.5%\n",
      "Percent complete https://www.gmanetwork.com/news/ list: 31.1%\n",
      "Percent complete https://www.gmanetwork.com/news/ list: 31.8%\n",
      "Percent complete https://www.gmanetwork.com/news/ list: 32.5%\n",
      "Percent complete https://www.gmanetwork.com/news/ list: 33.1%\n",
      "Percent complete https://www.gmanetwork.com/news/ list: 33.8%\n",
      "Percent complete https://www.gmanetwork.com/news/ list: 34.4%\n",
      "Percent complete https://www.gmanetwork.com/news/ list: 35.1%\n",
      "Percent complete https://www.gmanetwork.com/news/ list: 35.8%\n",
      "Percent complete https://www.gmanetwork.com/news/ list: 36.4%\n",
      "Percent complete https://www.gmanetwork.com/news/ list: 37.1%\n",
      "Percent complete https://www.gmanetwork.com/news/ list: 37.7%\n",
      "Percent complete https://www.gmanetwork.com/news/ list: 38.4%\n",
      "Percent complete https://www.gmanetwork.com/news/ list: 39.1%\n",
      "Percent complete https://www.gmanetwork.com/news/ list: 39.7%\n",
      "Percent complete https://www.gmanetwork.com/news/ list: 40.4%\n",
      "Percent complete https://www.gmanetwork.com/news/ list: 41.1%\n",
      "Percent complete https://www.gmanetwork.com/news/ list: 41.7%\n",
      "Percent complete https://www.gmanetwork.com/news/ list: 42.4%\n",
      "Percent complete https://www.gmanetwork.com/news/ list: 43.0%\n",
      "Percent complete https://www.gmanetwork.com/news/ list: 43.7%\n",
      "Percent complete https://www.gmanetwork.com/news/ list: 44.4%\n",
      "Percent complete https://www.gmanetwork.com/news/ list: 45.0%\n",
      "Percent complete https://www.gmanetwork.com/news/ list: 45.7%\n",
      "Percent complete https://www.gmanetwork.com/news/ list: 46.4%\n",
      "Percent complete https://www.gmanetwork.com/news/ list: 47.0%\n",
      "Percent complete https://www.gmanetwork.com/news/ list: 47.7%\n",
      "Percent complete https://www.gmanetwork.com/news/ list: 48.3%\n",
      "Percent complete https://www.gmanetwork.com/news/ list: 49.0%\n",
      "Percent complete https://www.gmanetwork.com/news/ list: 49.7%\n",
      "Percent complete https://www.gmanetwork.com/news/ list: 50.3%\n",
      "Percent complete https://www.gmanetwork.com/news/ list: 51.0%\n",
      "Percent complete https://www.gmanetwork.com/news/ list: 51.7%\n",
      "Percent complete https://www.gmanetwork.com/news/ list: 52.3%\n",
      "Percent complete https://www.gmanetwork.com/news/ list: 53.0%\n",
      "Percent complete https://www.gmanetwork.com/news/ list: 53.6%\n",
      "Percent complete https://www.gmanetwork.com/news/ list: 54.3%\n",
      "Percent complete https://www.gmanetwork.com/news/ list: 55.0%\n",
      "Percent complete https://www.gmanetwork.com/news/ list: 55.6%\n",
      "Percent complete https://www.gmanetwork.com/news/ list: 56.3%\n",
      "Percent complete https://www.gmanetwork.com/news/ list: 57.0%\n",
      "Percent complete https://www.gmanetwork.com/news/ list: 57.6%\n",
      "Percent complete https://www.gmanetwork.com/news/ list: 58.3%\n",
      "Percent complete https://www.gmanetwork.com/news/ list: 58.9%\n",
      "Percent complete https://www.gmanetwork.com/news/ list: 59.6%\n",
      "Percent complete https://www.gmanetwork.com/news/ list: 60.3%\n",
      "Percent complete https://www.gmanetwork.com/news/ list: 60.9%\n",
      "Percent complete https://www.gmanetwork.com/news/ list: 61.6%\n",
      "Percent complete https://www.gmanetwork.com/news/ list: 62.3%\n",
      "Percent complete https://www.gmanetwork.com/news/ list: 62.9%\n",
      "Percent complete https://www.gmanetwork.com/news/ list: 63.6%\n",
      "Percent complete https://www.gmanetwork.com/news/ list: 64.2%\n",
      "Percent complete https://www.gmanetwork.com/news/ list: 64.9%\n",
      "Percent complete https://www.gmanetwork.com/news/ list: 65.6%\n",
      "Percent complete https://www.gmanetwork.com/news/ list: 66.2%\n",
      "Percent complete https://www.gmanetwork.com/news/ list: 66.9%\n",
      "Percent complete https://www.gmanetwork.com/news/ list: 67.5%\n",
      "Percent complete https://www.gmanetwork.com/news/ list: 68.2%\n",
      "Percent complete https://www.gmanetwork.com/news/ list: 68.9%\n",
      "Percent complete https://www.gmanetwork.com/news/ list: 69.5%\n",
      "Percent complete https://www.gmanetwork.com/news/ list: 70.2%\n",
      "Percent complete https://www.gmanetwork.com/news/ list: 70.9%\n",
      "Percent complete https://www.gmanetwork.com/news/ list: 71.5%\n",
      "Percent complete https://www.gmanetwork.com/news/ list: 72.2%\n",
      "Percent complete https://www.gmanetwork.com/news/ list: 72.8%\n",
      "Percent complete https://www.gmanetwork.com/news/ list: 73.5%\n",
      "Percent complete https://www.gmanetwork.com/news/ list: 74.2%\n",
      "Percent complete https://www.gmanetwork.com/news/ list: 74.8%\n",
      "Percent complete https://www.gmanetwork.com/news/ list: 75.5%\n",
      "Percent complete https://www.gmanetwork.com/news/ list: 76.2%\n",
      "Percent complete https://www.gmanetwork.com/news/ list: 76.8%\n",
      "Percent complete https://www.gmanetwork.com/news/ list: 77.5%\n",
      "Percent complete https://www.gmanetwork.com/news/ list: 78.1%\n",
      "Percent complete https://www.gmanetwork.com/news/ list: 78.8%\n",
      "Percent complete https://www.gmanetwork.com/news/ list: 79.5%\n",
      "Percent complete https://www.gmanetwork.com/news/ list: 80.1%\n",
      "Percent complete https://www.gmanetwork.com/news/ list: 80.8%\n",
      "Percent complete https://www.gmanetwork.com/news/ list: 81.5%\n",
      "Percent complete https://www.gmanetwork.com/news/ list: 82.1%\n",
      "Percent complete https://www.gmanetwork.com/news/ list: 82.8%\n",
      "Percent complete https://www.gmanetwork.com/news/ list: 83.4%\n",
      "Percent complete https://www.gmanetwork.com/news/ list: 84.1%\n",
      "Percent complete https://www.gmanetwork.com/news/ list: 84.8%\n",
      "Percent complete https://www.gmanetwork.com/news/ list: 85.4%\n",
      "Percent complete https://www.gmanetwork.com/news/ list: 86.1%\n",
      "Percent complete https://www.gmanetwork.com/news/ list: 86.8%\n",
      "Percent complete https://www.gmanetwork.com/news/ list: 87.4%\n",
      "Percent complete https://www.gmanetwork.com/news/ list: 88.1%\n",
      "Percent complete https://www.gmanetwork.com/news/ list: 88.7%\n",
      "Percent complete https://www.gmanetwork.com/news/ list: 89.4%\n",
      "Percent complete https://www.gmanetwork.com/news/ list: 90.1%\n",
      "Percent complete https://www.gmanetwork.com/news/ list: 90.7%\n",
      "Percent complete https://www.gmanetwork.com/news/ list: 91.4%\n",
      "Percent complete https://www.gmanetwork.com/news/ list: 92.1%\n",
      "Percent complete https://www.gmanetwork.com/news/ list: 92.7%\n",
      "Percent complete https://www.gmanetwork.com/news/ list: 93.4%\n",
      "Percent complete https://www.gmanetwork.com/news/ list: 94.0%\n",
      "Percent complete https://www.gmanetwork.com/news/ list: 94.7%\n",
      "Percent complete https://www.gmanetwork.com/news/ list: 95.4%\n",
      "Percent complete https://www.gmanetwork.com/news/ list: 96.0%\n",
      "Percent complete https://www.gmanetwork.com/news/ list: 96.7%\n",
      "Percent complete https://www.gmanetwork.com/news/ list: 97.4%\n",
      "Percent complete https://www.gmanetwork.com/news/ list: 98.0%\n",
      "Percent complete https://www.gmanetwork.com/news/ list: 98.7%\n",
      "Percent complete https://www.gmanetwork.com/news/ list: 99.3%\n",
      "Percent complete https://www.gmanetwork.com/news/ list: 100.0%\n",
      "Percent complete all sources list: 20.0%\n"
     ]
    },
    {
     "name": "stdout",
     "output_type": "stream",
     "text": [
      "Percent complete https://www.inquirer.net/ list: 0.4%\n",
      "Percent complete https://www.inquirer.net/ list: 0.8%\n",
      "Percent complete https://www.inquirer.net/ list: 1.1%\n",
      "Percent complete https://www.inquirer.net/ list: 1.5%\n",
      "Percent complete https://www.inquirer.net/ list: 1.9%\n",
      "Percent complete https://www.inquirer.net/ list: 2.3%\n",
      "Percent complete https://www.inquirer.net/ list: 2.7%\n",
      "Percent complete https://www.inquirer.net/ list: 3.0%\n",
      "Percent complete https://www.inquirer.net/ list: 3.4%\n",
      "Percent complete https://www.inquirer.net/ list: 3.8%\n",
      "Percent complete https://www.inquirer.net/ list: 4.2%\n",
      "Percent complete https://www.inquirer.net/ list: 4.6%\n",
      "Percent complete https://www.inquirer.net/ list: 4.9%\n",
      "Percent complete https://www.inquirer.net/ list: 5.3%\n",
      "Percent complete https://www.inquirer.net/ list: 5.7%\n",
      "Percent complete https://www.inquirer.net/ list: 6.1%\n",
      "Percent complete https://www.inquirer.net/ list: 6.5%\n",
      "Percent complete https://www.inquirer.net/ list: 6.8%\n",
      "Percent complete https://www.inquirer.net/ list: 7.2%\n",
      "Percent complete https://www.inquirer.net/ list: 7.6%\n",
      "Percent complete https://www.inquirer.net/ list: 8.0%\n",
      "Percent complete https://www.inquirer.net/ list: 8.4%\n",
      "Percent complete https://www.inquirer.net/ list: 8.7%\n",
      "Percent complete https://www.inquirer.net/ list: 9.1%\n",
      "Percent complete https://www.inquirer.net/ list: 9.5%\n",
      "Percent complete https://www.inquirer.net/ list: 9.9%\n",
      "Percent complete https://www.inquirer.net/ list: 10.3%\n",
      "Percent complete https://www.inquirer.net/ list: 10.6%\n",
      "Percent complete https://www.inquirer.net/ list: 11.0%\n",
      "Percent complete https://www.inquirer.net/ list: 11.4%\n",
      "Percent complete https://www.inquirer.net/ list: 11.8%\n",
      "Percent complete https://www.inquirer.net/ list: 12.2%\n",
      "Percent complete https://www.inquirer.net/ list: 12.5%\n",
      "Percent complete https://www.inquirer.net/ list: 12.9%\n",
      "Percent complete https://www.inquirer.net/ list: 13.3%\n",
      "Percent complete https://www.inquirer.net/ list: 13.7%\n",
      "Percent complete https://www.inquirer.net/ list: 14.1%\n",
      "Percent complete https://www.inquirer.net/ list: 14.4%\n",
      "Percent complete https://www.inquirer.net/ list: 14.8%\n",
      "Percent complete https://www.inquirer.net/ list: 15.2%\n",
      "Percent complete https://www.inquirer.net/ list: 15.6%\n",
      "Percent complete https://www.inquirer.net/ list: 16.0%\n",
      "Percent complete https://www.inquirer.net/ list: 16.3%\n",
      "Percent complete https://www.inquirer.net/ list: 16.7%\n",
      "Percent complete https://www.inquirer.net/ list: 17.1%\n",
      "Percent complete https://www.inquirer.net/ list: 17.5%\n",
      "Percent complete https://www.inquirer.net/ list: 17.9%\n",
      "Percent complete https://www.inquirer.net/ list: 18.3%\n",
      "Percent complete https://www.inquirer.net/ list: 18.6%\n",
      "Percent complete https://www.inquirer.net/ list: 19.0%\n",
      "Percent complete https://www.inquirer.net/ list: 19.4%\n",
      "Percent complete https://www.inquirer.net/ list: 19.8%\n",
      "Percent complete https://www.inquirer.net/ list: 20.2%\n",
      "Percent complete https://www.inquirer.net/ list: 20.5%\n",
      "Percent complete https://www.inquirer.net/ list: 20.9%\n",
      "Percent complete https://www.inquirer.net/ list: 21.3%\n",
      "Percent complete https://www.inquirer.net/ list: 21.7%\n",
      "Percent complete https://www.inquirer.net/ list: 22.1%\n",
      "Percent complete https://www.inquirer.net/ list: 22.4%\n",
      "Percent complete https://www.inquirer.net/ list: 22.8%\n",
      "Percent complete https://www.inquirer.net/ list: 23.2%\n",
      "Percent complete https://www.inquirer.net/ list: 23.6%\n",
      "Percent complete https://www.inquirer.net/ list: 24.0%\n",
      "Percent complete https://www.inquirer.net/ list: 24.3%\n",
      "Percent complete https://www.inquirer.net/ list: 24.7%\n",
      "Percent complete https://www.inquirer.net/ list: 25.1%\n",
      "Percent complete https://www.inquirer.net/ list: 25.5%\n",
      "Percent complete https://www.inquirer.net/ list: 25.9%\n",
      "Percent complete https://www.inquirer.net/ list: 26.2%\n",
      "Percent complete https://www.inquirer.net/ list: 26.6%\n",
      "Percent complete https://www.inquirer.net/ list: 27.0%\n",
      "Percent complete https://www.inquirer.net/ list: 27.4%\n",
      "Percent complete https://www.inquirer.net/ list: 27.8%\n",
      "Percent complete https://www.inquirer.net/ list: 28.1%\n",
      "Percent complete https://www.inquirer.net/ list: 28.5%\n",
      "Percent complete https://www.inquirer.net/ list: 28.9%\n",
      "Percent complete https://www.inquirer.net/ list: 29.3%\n",
      "Percent complete https://www.inquirer.net/ list: 29.7%\n",
      "Percent complete https://www.inquirer.net/ list: 30.0%\n",
      "Percent complete https://www.inquirer.net/ list: 30.4%\n",
      "Percent complete https://www.inquirer.net/ list: 30.8%\n",
      "Percent complete https://www.inquirer.net/ list: 31.2%\n",
      "Percent complete https://www.inquirer.net/ list: 31.6%\n",
      "Percent complete https://www.inquirer.net/ list: 31.9%\n",
      "Percent complete https://www.inquirer.net/ list: 32.3%\n",
      "Percent complete https://www.inquirer.net/ list: 32.7%\n",
      "Percent complete https://www.inquirer.net/ list: 33.1%\n",
      "Percent complete https://www.inquirer.net/ list: 33.5%\n",
      "Percent complete https://www.inquirer.net/ list: 33.8%\n",
      "Percent complete https://www.inquirer.net/ list: 34.2%\n",
      "Percent complete https://www.inquirer.net/ list: 34.6%\n",
      "Percent complete https://www.inquirer.net/ list: 35.0%\n",
      "Percent complete https://www.inquirer.net/ list: 35.4%\n",
      "Percent complete https://www.inquirer.net/ list: 35.7%\n",
      "Percent complete https://www.inquirer.net/ list: 36.1%\n",
      "Percent complete https://www.inquirer.net/ list: 36.5%\n",
      "Percent complete https://www.inquirer.net/ list: 36.9%\n",
      "Percent complete https://www.inquirer.net/ list: 37.3%\n",
      "Percent complete https://www.inquirer.net/ list: 37.6%\n",
      "Percent complete https://www.inquirer.net/ list: 38.0%\n",
      "Percent complete https://www.inquirer.net/ list: 38.4%\n",
      "Percent complete https://www.inquirer.net/ list: 38.8%\n",
      "Percent complete https://www.inquirer.net/ list: 39.2%\n",
      "Percent complete https://www.inquirer.net/ list: 39.5%\n",
      "Percent complete https://www.inquirer.net/ list: 39.9%\n",
      "Percent complete https://www.inquirer.net/ list: 40.3%\n",
      "Percent complete https://www.inquirer.net/ list: 40.7%\n",
      "Percent complete https://www.inquirer.net/ list: 41.1%\n",
      "Percent complete https://www.inquirer.net/ list: 41.4%\n",
      "Percent complete https://www.inquirer.net/ list: 41.8%\n",
      "Percent complete https://www.inquirer.net/ list: 42.2%\n",
      "Percent complete https://www.inquirer.net/ list: 42.6%\n",
      "Percent complete https://www.inquirer.net/ list: 43.0%\n",
      "Percent complete https://www.inquirer.net/ list: 43.3%\n",
      "Percent complete https://www.inquirer.net/ list: 43.7%\n",
      "Percent complete https://www.inquirer.net/ list: 44.1%\n",
      "Percent complete https://www.inquirer.net/ list: 44.5%\n",
      "Percent complete https://www.inquirer.net/ list: 44.9%\n",
      "Percent complete https://www.inquirer.net/ list: 45.2%\n",
      "Percent complete https://www.inquirer.net/ list: 45.6%\n",
      "Percent complete https://www.inquirer.net/ list: 46.0%\n",
      "Percent complete https://www.inquirer.net/ list: 46.4%\n",
      "Percent complete https://www.inquirer.net/ list: 46.8%\n",
      "Percent complete https://www.inquirer.net/ list: 47.1%\n",
      "Percent complete https://www.inquirer.net/ list: 47.5%\n",
      "Percent complete https://www.inquirer.net/ list: 47.9%\n",
      "Percent complete https://www.inquirer.net/ list: 48.3%\n",
      "Percent complete https://www.inquirer.net/ list: 48.7%\n",
      "Percent complete https://www.inquirer.net/ list: 49.0%\n",
      "Percent complete https://www.inquirer.net/ list: 49.4%\n",
      "Percent complete https://www.inquirer.net/ list: 49.8%\n",
      "Percent complete https://www.inquirer.net/ list: 50.2%\n",
      "Percent complete https://www.inquirer.net/ list: 50.6%\n",
      "Percent complete https://www.inquirer.net/ list: 51.0%\n",
      "Percent complete https://www.inquirer.net/ list: 51.3%\n",
      "Percent complete https://www.inquirer.net/ list: 51.7%\n",
      "Percent complete https://www.inquirer.net/ list: 52.1%\n",
      "Percent complete https://www.inquirer.net/ list: 52.5%\n",
      "Percent complete https://www.inquirer.net/ list: 52.9%\n",
      "Percent complete https://www.inquirer.net/ list: 53.2%\n",
      "Percent complete https://www.inquirer.net/ list: 53.6%\n",
      "Percent complete https://www.inquirer.net/ list: 54.0%\n",
      "Percent complete https://www.inquirer.net/ list: 54.4%\n",
      "Percent complete https://www.inquirer.net/ list: 54.8%\n",
      "Percent complete https://www.inquirer.net/ list: 55.1%\n",
      "Percent complete https://www.inquirer.net/ list: 55.5%\n",
      "Percent complete https://www.inquirer.net/ list: 55.9%\n",
      "Percent complete https://www.inquirer.net/ list: 56.3%\n",
      "Percent complete https://www.inquirer.net/ list: 56.7%\n",
      "Percent complete https://www.inquirer.net/ list: 57.0%\n",
      "Percent complete https://www.inquirer.net/ list: 57.4%\n",
      "Percent complete https://www.inquirer.net/ list: 57.8%\n",
      "Percent complete https://www.inquirer.net/ list: 58.2%\n",
      "Percent complete https://www.inquirer.net/ list: 58.6%\n",
      "Percent complete https://www.inquirer.net/ list: 58.9%\n",
      "Percent complete https://www.inquirer.net/ list: 59.3%\n",
      "Percent complete https://www.inquirer.net/ list: 59.7%\n",
      "Percent complete https://www.inquirer.net/ list: 60.1%\n",
      "Percent complete https://www.inquirer.net/ list: 60.5%\n",
      "Percent complete https://www.inquirer.net/ list: 60.8%\n",
      "Percent complete https://www.inquirer.net/ list: 61.2%\n",
      "Percent complete https://www.inquirer.net/ list: 61.6%\n",
      "Percent complete https://www.inquirer.net/ list: 62.0%\n",
      "Percent complete https://www.inquirer.net/ list: 62.4%\n",
      "Percent complete https://www.inquirer.net/ list: 62.7%\n",
      "Percent complete https://www.inquirer.net/ list: 63.1%\n",
      "Percent complete https://www.inquirer.net/ list: 63.5%\n",
      "Percent complete https://www.inquirer.net/ list: 63.9%\n",
      "Percent complete https://www.inquirer.net/ list: 64.3%\n",
      "Percent complete https://www.inquirer.net/ list: 64.6%\n",
      "Percent complete https://www.inquirer.net/ list: 65.0%\n",
      "Percent complete https://www.inquirer.net/ list: 65.4%\n",
      "Percent complete https://www.inquirer.net/ list: 65.8%\n",
      "Percent complete https://www.inquirer.net/ list: 66.2%\n",
      "Percent complete https://www.inquirer.net/ list: 66.5%\n",
      "Percent complete https://www.inquirer.net/ list: 66.9%\n",
      "Percent complete https://www.inquirer.net/ list: 67.3%\n",
      "Percent complete https://www.inquirer.net/ list: 67.7%\n",
      "Percent complete https://www.inquirer.net/ list: 68.1%\n",
      "Percent complete https://www.inquirer.net/ list: 68.4%\n",
      "Percent complete https://www.inquirer.net/ list: 68.8%\n",
      "Percent complete https://www.inquirer.net/ list: 69.2%\n",
      "Percent complete https://www.inquirer.net/ list: 69.6%\n",
      "Percent complete https://www.inquirer.net/ list: 70.0%\n",
      "Percent complete https://www.inquirer.net/ list: 70.3%\n",
      "Percent complete https://www.inquirer.net/ list: 70.7%\n",
      "Percent complete https://www.inquirer.net/ list: 71.1%\n",
      "Percent complete https://www.inquirer.net/ list: 71.5%\n",
      "Percent complete https://www.inquirer.net/ list: 71.9%\n",
      "Percent complete https://www.inquirer.net/ list: 72.2%\n",
      "Percent complete https://www.inquirer.net/ list: 72.6%\n",
      "Percent complete https://www.inquirer.net/ list: 73.0%\n",
      "Percent complete https://www.inquirer.net/ list: 73.4%\n",
      "Percent complete https://www.inquirer.net/ list: 73.8%\n",
      "Percent complete https://www.inquirer.net/ list: 74.1%\n",
      "Percent complete https://www.inquirer.net/ list: 74.5%\n",
      "Percent complete https://www.inquirer.net/ list: 74.9%\n",
      "Percent complete https://www.inquirer.net/ list: 75.3%\n",
      "Percent complete https://www.inquirer.net/ list: 75.7%\n",
      "Percent complete https://www.inquirer.net/ list: 76.0%\n",
      "Percent complete https://www.inquirer.net/ list: 76.4%\n",
      "Percent complete https://www.inquirer.net/ list: 76.8%\n",
      "Percent complete https://www.inquirer.net/ list: 77.2%\n",
      "Percent complete https://www.inquirer.net/ list: 77.6%\n",
      "Percent complete https://www.inquirer.net/ list: 77.9%\n",
      "Percent complete https://www.inquirer.net/ list: 78.3%\n",
      "Percent complete https://www.inquirer.net/ list: 78.7%\n",
      "Percent complete https://www.inquirer.net/ list: 79.1%\n",
      "Percent complete https://www.inquirer.net/ list: 79.5%\n",
      "Percent complete https://www.inquirer.net/ list: 79.8%\n",
      "Percent complete https://www.inquirer.net/ list: 80.2%\n",
      "Percent complete https://www.inquirer.net/ list: 80.6%\n",
      "Percent complete https://www.inquirer.net/ list: 81.0%\n",
      "Percent complete https://www.inquirer.net/ list: 81.4%\n",
      "Percent complete https://www.inquirer.net/ list: 81.7%\n",
      "Percent complete https://www.inquirer.net/ list: 82.1%\n",
      "Percent complete https://www.inquirer.net/ list: 82.5%\n",
      "Percent complete https://www.inquirer.net/ list: 82.9%\n",
      "Percent complete https://www.inquirer.net/ list: 83.3%\n",
      "Percent complete https://www.inquirer.net/ list: 83.7%\n",
      "Percent complete https://www.inquirer.net/ list: 84.0%\n",
      "Percent complete https://www.inquirer.net/ list: 84.4%\n",
      "Percent complete https://www.inquirer.net/ list: 84.8%\n",
      "Percent complete https://www.inquirer.net/ list: 85.2%\n",
      "Percent complete https://www.inquirer.net/ list: 85.6%\n",
      "Percent complete https://www.inquirer.net/ list: 85.9%\n",
      "Percent complete https://www.inquirer.net/ list: 86.3%\n",
      "Percent complete https://www.inquirer.net/ list: 86.7%\n",
      "Percent complete https://www.inquirer.net/ list: 87.1%\n",
      "Percent complete https://www.inquirer.net/ list: 87.5%\n",
      "Percent complete https://www.inquirer.net/ list: 87.8%\n",
      "Percent complete https://www.inquirer.net/ list: 88.2%\n",
      "Percent complete https://www.inquirer.net/ list: 88.6%\n",
      "Percent complete https://www.inquirer.net/ list: 89.0%\n",
      "Percent complete https://www.inquirer.net/ list: 89.4%\n",
      "Percent complete https://www.inquirer.net/ list: 89.7%\n",
      "Percent complete https://www.inquirer.net/ list: 90.1%\n",
      "Percent complete https://www.inquirer.net/ list: 90.5%\n",
      "Percent complete https://www.inquirer.net/ list: 90.9%\n",
      "Percent complete https://www.inquirer.net/ list: 91.3%\n",
      "Percent complete https://www.inquirer.net/ list: 91.6%\n",
      "Percent complete https://www.inquirer.net/ list: 92.0%\n",
      "Percent complete https://www.inquirer.net/ list: 92.4%\n",
      "Percent complete https://www.inquirer.net/ list: 92.8%\n",
      "Percent complete https://www.inquirer.net/ list: 93.2%\n",
      "Percent complete https://www.inquirer.net/ list: 93.5%\n",
      "Percent complete https://www.inquirer.net/ list: 93.9%\n",
      "Percent complete https://www.inquirer.net/ list: 94.3%\n",
      "Percent complete https://www.inquirer.net/ list: 94.7%\n",
      "Percent complete https://www.inquirer.net/ list: 95.1%\n",
      "Percent complete https://www.inquirer.net/ list: 95.4%\n",
      "Percent complete https://www.inquirer.net/ list: 95.8%\n",
      "Percent complete https://www.inquirer.net/ list: 96.2%\n",
      "Percent complete https://www.inquirer.net/ list: 96.6%\n",
      "Percent complete https://www.inquirer.net/ list: 97.0%\n",
      "Percent complete https://www.inquirer.net/ list: 97.3%\n",
      "Percent complete https://www.inquirer.net/ list: 97.7%\n",
      "Percent complete https://www.inquirer.net/ list: 98.1%\n",
      "Percent complete https://www.inquirer.net/ list: 98.5%\n",
      "Percent complete https://www.inquirer.net/ list: 98.9%\n",
      "Percent complete https://www.inquirer.net/ list: 99.2%\n",
      "Percent complete https://www.inquirer.net/ list: 99.6%\n",
      "Percent complete https://www.inquirer.net/ list: 100.0%\n",
      "Percent complete all sources list: 25.0%\n"
     ]
    },
    {
     "name": "stdout",
     "output_type": "stream",
     "text": [
      "Percent complete https://www.interaksyon.com/ list: 0.7%\n",
      "Percent complete https://www.interaksyon.com/ list: 1.5%\n",
      "Percent complete https://www.interaksyon.com/ list: 2.2%\n",
      "Percent complete https://www.interaksyon.com/ list: 2.9%\n",
      "Percent complete https://www.interaksyon.com/ list: 3.6%\n",
      "Percent complete https://www.interaksyon.com/ list: 4.4%\n",
      "Percent complete https://www.interaksyon.com/ list: 5.1%\n",
      "Percent complete https://www.interaksyon.com/ list: 5.8%\n",
      "Percent complete https://www.interaksyon.com/ list: 6.6%\n",
      "Percent complete https://www.interaksyon.com/ list: 7.3%\n",
      "Percent complete https://www.interaksyon.com/ list: 8.0%\n",
      "Percent complete https://www.interaksyon.com/ list: 8.8%\n",
      "Percent complete https://www.interaksyon.com/ list: 9.5%\n",
      "Percent complete https://www.interaksyon.com/ list: 10.2%\n",
      "Percent complete https://www.interaksyon.com/ list: 10.9%\n",
      "Percent complete https://www.interaksyon.com/ list: 11.7%\n",
      "Percent complete https://www.interaksyon.com/ list: 12.4%\n",
      "Percent complete https://www.interaksyon.com/ list: 13.1%\n",
      "Percent complete https://www.interaksyon.com/ list: 13.9%\n",
      "Percent complete https://www.interaksyon.com/ list: 14.6%\n",
      "Percent complete https://www.interaksyon.com/ list: 15.3%\n",
      "Percent complete https://www.interaksyon.com/ list: 16.1%\n",
      "Percent complete https://www.interaksyon.com/ list: 16.8%\n",
      "Percent complete https://www.interaksyon.com/ list: 17.5%\n",
      "Percent complete https://www.interaksyon.com/ list: 18.2%\n",
      "Percent complete https://www.interaksyon.com/ list: 19.0%\n",
      "Percent complete https://www.interaksyon.com/ list: 19.7%\n",
      "Percent complete https://www.interaksyon.com/ list: 20.4%\n",
      "Percent complete https://www.interaksyon.com/ list: 21.2%\n",
      "Percent complete https://www.interaksyon.com/ list: 21.9%\n",
      "Percent complete https://www.interaksyon.com/ list: 22.6%\n",
      "Percent complete https://www.interaksyon.com/ list: 23.4%\n",
      "Percent complete https://www.interaksyon.com/ list: 24.1%\n",
      "Percent complete https://www.interaksyon.com/ list: 24.8%\n",
      "Percent complete https://www.interaksyon.com/ list: 25.5%\n",
      "Percent complete https://www.interaksyon.com/ list: 26.3%\n",
      "Percent complete https://www.interaksyon.com/ list: 27.0%\n",
      "Percent complete https://www.interaksyon.com/ list: 27.7%\n",
      "Percent complete https://www.interaksyon.com/ list: 28.5%\n",
      "Percent complete https://www.interaksyon.com/ list: 29.2%\n",
      "Percent complete https://www.interaksyon.com/ list: 29.9%\n",
      "Percent complete https://www.interaksyon.com/ list: 30.7%\n",
      "Percent complete https://www.interaksyon.com/ list: 31.4%\n",
      "Percent complete https://www.interaksyon.com/ list: 32.1%\n",
      "Percent complete https://www.interaksyon.com/ list: 32.8%\n",
      "Percent complete https://www.interaksyon.com/ list: 33.6%\n",
      "Percent complete https://www.interaksyon.com/ list: 34.3%\n",
      "Percent complete https://www.interaksyon.com/ list: 35.0%\n",
      "Percent complete https://www.interaksyon.com/ list: 35.8%\n",
      "Percent complete https://www.interaksyon.com/ list: 36.5%\n",
      "Percent complete https://www.interaksyon.com/ list: 37.2%\n",
      "Percent complete https://www.interaksyon.com/ list: 38.0%\n",
      "Percent complete https://www.interaksyon.com/ list: 38.7%\n",
      "Percent complete https://www.interaksyon.com/ list: 39.4%\n",
      "Percent complete https://www.interaksyon.com/ list: 40.1%\n",
      "Percent complete https://www.interaksyon.com/ list: 40.9%\n",
      "Percent complete https://www.interaksyon.com/ list: 41.6%\n",
      "Percent complete https://www.interaksyon.com/ list: 42.3%\n",
      "Percent complete https://www.interaksyon.com/ list: 43.1%\n",
      "Percent complete https://www.interaksyon.com/ list: 43.8%\n",
      "Percent complete https://www.interaksyon.com/ list: 44.5%\n",
      "Percent complete https://www.interaksyon.com/ list: 45.3%\n",
      "Percent complete https://www.interaksyon.com/ list: 46.0%\n",
      "Percent complete https://www.interaksyon.com/ list: 46.7%\n",
      "Percent complete https://www.interaksyon.com/ list: 47.4%\n",
      "Percent complete https://www.interaksyon.com/ list: 48.2%\n",
      "Percent complete https://www.interaksyon.com/ list: 48.9%\n",
      "Percent complete https://www.interaksyon.com/ list: 49.6%\n",
      "Percent complete https://www.interaksyon.com/ list: 50.4%\n",
      "Percent complete https://www.interaksyon.com/ list: 51.1%\n",
      "Percent complete https://www.interaksyon.com/ list: 51.8%\n",
      "Percent complete https://www.interaksyon.com/ list: 52.6%\n",
      "Percent complete https://www.interaksyon.com/ list: 53.3%\n",
      "Percent complete https://www.interaksyon.com/ list: 54.0%\n",
      "Percent complete https://www.interaksyon.com/ list: 54.7%\n",
      "Percent complete https://www.interaksyon.com/ list: 55.5%\n",
      "Percent complete https://www.interaksyon.com/ list: 56.2%\n",
      "Percent complete https://www.interaksyon.com/ list: 56.9%\n",
      "Percent complete https://www.interaksyon.com/ list: 57.7%\n",
      "Percent complete https://www.interaksyon.com/ list: 58.4%\n",
      "Percent complete https://www.interaksyon.com/ list: 59.1%\n",
      "Percent complete https://www.interaksyon.com/ list: 59.9%\n",
      "Percent complete https://www.interaksyon.com/ list: 60.6%\n",
      "Percent complete https://www.interaksyon.com/ list: 61.3%\n",
      "Percent complete https://www.interaksyon.com/ list: 62.0%\n",
      "Percent complete https://www.interaksyon.com/ list: 62.8%\n",
      "Percent complete https://www.interaksyon.com/ list: 63.5%\n",
      "Percent complete https://www.interaksyon.com/ list: 64.2%\n",
      "Percent complete https://www.interaksyon.com/ list: 65.0%\n",
      "Percent complete https://www.interaksyon.com/ list: 65.7%\n",
      "Percent complete https://www.interaksyon.com/ list: 66.4%\n",
      "Percent complete https://www.interaksyon.com/ list: 67.2%\n",
      "Percent complete https://www.interaksyon.com/ list: 67.9%\n",
      "Percent complete https://www.interaksyon.com/ list: 68.6%\n",
      "Percent complete https://www.interaksyon.com/ list: 69.3%\n",
      "Percent complete https://www.interaksyon.com/ list: 70.1%\n",
      "Percent complete https://www.interaksyon.com/ list: 70.8%\n",
      "Percent complete https://www.interaksyon.com/ list: 71.5%\n",
      "Percent complete https://www.interaksyon.com/ list: 72.3%\n",
      "Percent complete https://www.interaksyon.com/ list: 73.0%\n",
      "Percent complete https://www.interaksyon.com/ list: 73.7%\n",
      "Percent complete https://www.interaksyon.com/ list: 74.5%\n",
      "Percent complete https://www.interaksyon.com/ list: 75.2%\n",
      "Percent complete https://www.interaksyon.com/ list: 75.9%\n",
      "Percent complete https://www.interaksyon.com/ list: 76.6%\n",
      "Percent complete https://www.interaksyon.com/ list: 77.4%\n",
      "Percent complete https://www.interaksyon.com/ list: 78.1%\n",
      "Percent complete https://www.interaksyon.com/ list: 78.8%\n",
      "Percent complete https://www.interaksyon.com/ list: 79.6%\n",
      "Percent complete https://www.interaksyon.com/ list: 80.3%\n",
      "Percent complete https://www.interaksyon.com/ list: 81.0%\n",
      "Percent complete https://www.interaksyon.com/ list: 81.8%\n",
      "Percent complete https://www.interaksyon.com/ list: 82.5%\n",
      "Percent complete https://www.interaksyon.com/ list: 83.2%\n",
      "Percent complete https://www.interaksyon.com/ list: 83.9%\n",
      "Percent complete https://www.interaksyon.com/ list: 84.7%\n",
      "Percent complete https://www.interaksyon.com/ list: 85.4%\n",
      "Percent complete https://www.interaksyon.com/ list: 86.1%\n",
      "Percent complete https://www.interaksyon.com/ list: 86.9%\n",
      "Percent complete https://www.interaksyon.com/ list: 87.6%\n",
      "Percent complete https://www.interaksyon.com/ list: 88.3%\n",
      "Percent complete https://www.interaksyon.com/ list: 89.1%\n",
      "Percent complete https://www.interaksyon.com/ list: 89.8%\n",
      "Percent complete https://www.interaksyon.com/ list: 90.5%\n",
      "Percent complete https://www.interaksyon.com/ list: 91.2%\n",
      "Percent complete https://www.interaksyon.com/ list: 92.0%\n",
      "Percent complete https://www.interaksyon.com/ list: 92.7%\n",
      "Percent complete https://www.interaksyon.com/ list: 93.4%\n",
      "Percent complete https://www.interaksyon.com/ list: 94.2%\n",
      "Percent complete https://www.interaksyon.com/ list: 94.9%\n",
      "Percent complete https://www.interaksyon.com/ list: 95.6%\n",
      "Percent complete https://www.interaksyon.com/ list: 96.4%\n",
      "Percent complete https://www.interaksyon.com/ list: 97.1%\n",
      "Percent complete https://www.interaksyon.com/ list: 97.8%\n",
      "Percent complete https://www.interaksyon.com/ list: 98.5%\n",
      "Percent complete https://www.interaksyon.com/ list: 99.3%\n",
      "Percent complete https://www.interaksyon.com/ list: 100.0%\n",
      "Percent complete all sources list: 30.0%\n",
      "Percent complete https://pia.gov.ph/news list: 0.8%\n",
      "Percent complete https://pia.gov.ph/news list: 1.5%\n",
      "Percent complete https://pia.gov.ph/news list: 2.3%\n",
      "Percent complete https://pia.gov.ph/news list: 3.0%\n",
      "Percent complete https://pia.gov.ph/news list: 3.8%\n",
      "Percent complete https://pia.gov.ph/news list: 4.5%\n",
      "Percent complete https://pia.gov.ph/news list: 5.3%\n",
      "Percent complete https://pia.gov.ph/news list: 6.0%\n",
      "Percent complete https://pia.gov.ph/news list: 6.8%\n",
      "Percent complete https://pia.gov.ph/news list: 7.5%\n",
      "Percent complete https://pia.gov.ph/news list: 8.3%\n",
      "Percent complete https://pia.gov.ph/news list: 9.0%\n",
      "Percent complete https://pia.gov.ph/news list: 9.8%\n",
      "Percent complete https://pia.gov.ph/news list: 10.5%\n",
      "Percent complete https://pia.gov.ph/news list: 11.3%\n",
      "Percent complete https://pia.gov.ph/news list: 12.0%\n",
      "Percent complete https://pia.gov.ph/news list: 12.8%\n",
      "Percent complete https://pia.gov.ph/news list: 13.5%\n",
      "Percent complete https://pia.gov.ph/news list: 14.3%\n",
      "Percent complete https://pia.gov.ph/news list: 15.0%\n",
      "Percent complete https://pia.gov.ph/news list: 15.8%\n",
      "Percent complete https://pia.gov.ph/news list: 16.5%\n",
      "Percent complete https://pia.gov.ph/news list: 17.3%\n",
      "Percent complete https://pia.gov.ph/news list: 18.0%\n",
      "Percent complete https://pia.gov.ph/news list: 18.8%\n",
      "Percent complete https://pia.gov.ph/news list: 19.5%\n",
      "Percent complete https://pia.gov.ph/news list: 20.3%\n",
      "Percent complete https://pia.gov.ph/news list: 21.1%\n",
      "Percent complete https://pia.gov.ph/news list: 21.8%\n",
      "Percent complete https://pia.gov.ph/news list: 22.6%\n",
      "Percent complete https://pia.gov.ph/news list: 23.3%\n",
      "Percent complete https://pia.gov.ph/news list: 24.1%\n",
      "Percent complete https://pia.gov.ph/news list: 24.8%\n",
      "Percent complete https://pia.gov.ph/news list: 25.6%\n",
      "Percent complete https://pia.gov.ph/news list: 26.3%\n",
      "Percent complete https://pia.gov.ph/news list: 27.1%\n",
      "Percent complete https://pia.gov.ph/news list: 27.8%\n",
      "Percent complete https://pia.gov.ph/news list: 28.6%\n",
      "Percent complete https://pia.gov.ph/news list: 29.3%\n",
      "Percent complete https://pia.gov.ph/news list: 30.1%\n",
      "Percent complete https://pia.gov.ph/news list: 30.8%\n",
      "Percent complete https://pia.gov.ph/news list: 31.6%\n",
      "Percent complete https://pia.gov.ph/news list: 32.3%\n",
      "Percent complete https://pia.gov.ph/news list: 33.1%\n",
      "Percent complete https://pia.gov.ph/news list: 33.8%\n",
      "Percent complete https://pia.gov.ph/news list: 34.6%\n",
      "Percent complete https://pia.gov.ph/news list: 35.3%\n",
      "Percent complete https://pia.gov.ph/news list: 36.1%\n",
      "Percent complete https://pia.gov.ph/news list: 36.8%\n",
      "Percent complete https://pia.gov.ph/news list: 37.6%\n",
      "Percent complete https://pia.gov.ph/news list: 38.3%\n",
      "Percent complete https://pia.gov.ph/news list: 39.1%\n",
      "Percent complete https://pia.gov.ph/news list: 39.8%\n",
      "Percent complete https://pia.gov.ph/news list: 40.6%\n",
      "Percent complete https://pia.gov.ph/news list: 41.4%\n",
      "Percent complete https://pia.gov.ph/news list: 42.1%\n",
      "Percent complete https://pia.gov.ph/news list: 42.9%\n",
      "Percent complete https://pia.gov.ph/news list: 43.6%\n",
      "Percent complete https://pia.gov.ph/news list: 44.4%\n",
      "Percent complete https://pia.gov.ph/news list: 45.1%\n",
      "Percent complete https://pia.gov.ph/news list: 45.9%\n",
      "Percent complete https://pia.gov.ph/news list: 46.6%\n",
      "Percent complete https://pia.gov.ph/news list: 47.4%\n",
      "Percent complete https://pia.gov.ph/news list: 48.1%\n",
      "Percent complete https://pia.gov.ph/news list: 48.9%\n",
      "Percent complete https://pia.gov.ph/news list: 49.6%\n",
      "Percent complete https://pia.gov.ph/news list: 50.4%\n",
      "Percent complete https://pia.gov.ph/news list: 51.1%\n",
      "Percent complete https://pia.gov.ph/news list: 51.9%\n",
      "Percent complete https://pia.gov.ph/news list: 52.6%\n",
      "Percent complete https://pia.gov.ph/news list: 53.4%\n",
      "Percent complete https://pia.gov.ph/news list: 54.1%\n",
      "Percent complete https://pia.gov.ph/news list: 54.9%\n",
      "Percent complete https://pia.gov.ph/news list: 55.6%\n",
      "Percent complete https://pia.gov.ph/news list: 56.4%\n",
      "Percent complete https://pia.gov.ph/news list: 57.1%\n",
      "Percent complete https://pia.gov.ph/news list: 57.9%\n",
      "Percent complete https://pia.gov.ph/news list: 58.6%\n",
      "Percent complete https://pia.gov.ph/news list: 59.4%\n",
      "Percent complete https://pia.gov.ph/news list: 60.2%\n",
      "Percent complete https://pia.gov.ph/news list: 60.9%\n",
      "Percent complete https://pia.gov.ph/news list: 61.7%\n",
      "Percent complete https://pia.gov.ph/news list: 62.4%\n",
      "Percent complete https://pia.gov.ph/news list: 63.2%\n",
      "Percent complete https://pia.gov.ph/news list: 63.9%\n",
      "Percent complete https://pia.gov.ph/news list: 64.7%\n",
      "Percent complete https://pia.gov.ph/news list: 65.4%\n",
      "Percent complete https://pia.gov.ph/news list: 66.2%\n",
      "Percent complete https://pia.gov.ph/news list: 66.9%\n",
      "Percent complete https://pia.gov.ph/news list: 67.7%\n",
      "Percent complete https://pia.gov.ph/news list: 68.4%\n",
      "Percent complete https://pia.gov.ph/news list: 69.2%\n",
      "Percent complete https://pia.gov.ph/news list: 69.9%\n",
      "Percent complete https://pia.gov.ph/news list: 70.7%\n",
      "Percent complete https://pia.gov.ph/news list: 71.4%\n",
      "Percent complete https://pia.gov.ph/news list: 72.2%\n",
      "Percent complete https://pia.gov.ph/news list: 72.9%\n",
      "Percent complete https://pia.gov.ph/news list: 73.7%\n",
      "Percent complete https://pia.gov.ph/news list: 74.4%\n",
      "Percent complete https://pia.gov.ph/news list: 75.2%\n",
      "Percent complete https://pia.gov.ph/news list: 75.9%\n",
      "Percent complete https://pia.gov.ph/news list: 76.7%\n",
      "Percent complete https://pia.gov.ph/news list: 77.4%\n",
      "Percent complete https://pia.gov.ph/news list: 78.2%\n",
      "Percent complete https://pia.gov.ph/news list: 78.9%\n",
      "Percent complete https://pia.gov.ph/news list: 79.7%\n",
      "Percent complete https://pia.gov.ph/news list: 80.5%\n",
      "Percent complete https://pia.gov.ph/news list: 81.2%\n",
      "Percent complete https://pia.gov.ph/news list: 82.0%\n",
      "Percent complete https://pia.gov.ph/news list: 82.7%\n",
      "Percent complete https://pia.gov.ph/news list: 83.5%\n",
      "Percent complete https://pia.gov.ph/news list: 84.2%\n",
      "Percent complete https://pia.gov.ph/news list: 85.0%\n",
      "Percent complete https://pia.gov.ph/news list: 85.7%\n",
      "Percent complete https://pia.gov.ph/news list: 86.5%\n",
      "Percent complete https://pia.gov.ph/news list: 87.2%\n",
      "Percent complete https://pia.gov.ph/news list: 88.0%\n",
      "Percent complete https://pia.gov.ph/news list: 88.7%\n",
      "Percent complete https://pia.gov.ph/news list: 89.5%\n",
      "Percent complete https://pia.gov.ph/news list: 90.2%\n",
      "Percent complete https://pia.gov.ph/news list: 91.0%\n",
      "Percent complete https://pia.gov.ph/news list: 91.7%\n",
      "Percent complete https://pia.gov.ph/news list: 92.5%\n",
      "Percent complete https://pia.gov.ph/news list: 93.2%\n",
      "Percent complete https://pia.gov.ph/news list: 94.0%\n",
      "Percent complete https://pia.gov.ph/news list: 94.7%\n",
      "Percent complete https://pia.gov.ph/news list: 95.5%\n",
      "Percent complete https://pia.gov.ph/news list: 96.2%\n",
      "Percent complete https://pia.gov.ph/news list: 97.0%\n",
      "Percent complete https://pia.gov.ph/news list: 97.7%\n",
      "Percent complete https://pia.gov.ph/news list: 98.5%\n",
      "Percent complete https://pia.gov.ph/news list: 99.2%\n",
      "Percent complete https://pia.gov.ph/news list: 100.0%\n",
      "Percent complete all sources list: 35.0%\n"
     ]
    },
    {
     "name": "stdout",
     "output_type": "stream",
     "text": [
      "Percent complete https://edgedavao.net/ list: 0.5%\n",
      "Percent complete https://edgedavao.net/ list: 1.0%\n",
      "Percent complete https://edgedavao.net/ list: 1.5%\n",
      "Percent complete https://edgedavao.net/ list: 2.1%\n",
      "Percent complete https://edgedavao.net/ list: 2.6%\n",
      "Percent complete https://edgedavao.net/ list: 3.1%\n",
      "Percent complete https://edgedavao.net/ list: 3.6%\n",
      "Percent complete https://edgedavao.net/ list: 4.1%\n",
      "Percent complete https://edgedavao.net/ list: 4.6%\n",
      "Percent complete https://edgedavao.net/ list: 5.2%\n",
      "Percent complete https://edgedavao.net/ list: 5.7%\n",
      "Percent complete https://edgedavao.net/ list: 6.2%\n",
      "Percent complete https://edgedavao.net/ list: 6.7%\n",
      "Percent complete https://edgedavao.net/ list: 7.2%\n",
      "Percent complete https://edgedavao.net/ list: 7.7%\n",
      "Percent complete https://edgedavao.net/ list: 8.2%\n",
      "Percent complete https://edgedavao.net/ list: 8.8%\n",
      "Percent complete https://edgedavao.net/ list: 9.3%\n",
      "Percent complete https://edgedavao.net/ list: 9.8%\n",
      "Percent complete https://edgedavao.net/ list: 10.3%\n",
      "Percent complete https://edgedavao.net/ list: 10.8%\n",
      "Percent complete https://edgedavao.net/ list: 11.3%\n",
      "Percent complete https://edgedavao.net/ list: 11.9%\n",
      "Percent complete https://edgedavao.net/ list: 12.4%\n",
      "Percent complete https://edgedavao.net/ list: 12.9%\n",
      "Percent complete https://edgedavao.net/ list: 13.4%\n",
      "Percent complete https://edgedavao.net/ list: 13.9%\n",
      "Percent complete https://edgedavao.net/ list: 14.4%\n",
      "Percent complete https://edgedavao.net/ list: 14.9%\n",
      "Percent complete https://edgedavao.net/ list: 15.5%\n",
      "Percent complete https://edgedavao.net/ list: 16.0%\n",
      "Percent complete https://edgedavao.net/ list: 16.5%\n",
      "Percent complete https://edgedavao.net/ list: 17.0%\n",
      "Percent complete https://edgedavao.net/ list: 17.5%\n",
      "Percent complete https://edgedavao.net/ list: 18.0%\n",
      "Percent complete https://edgedavao.net/ list: 18.6%\n",
      "Percent complete https://edgedavao.net/ list: 19.1%\n",
      "Percent complete https://edgedavao.net/ list: 19.6%\n",
      "Percent complete https://edgedavao.net/ list: 20.1%\n",
      "Percent complete https://edgedavao.net/ list: 20.6%\n",
      "Percent complete https://edgedavao.net/ list: 21.1%\n",
      "Percent complete https://edgedavao.net/ list: 21.6%\n",
      "Percent complete https://edgedavao.net/ list: 22.2%\n",
      "Percent complete https://edgedavao.net/ list: 22.7%\n",
      "Percent complete https://edgedavao.net/ list: 23.2%\n",
      "Percent complete https://edgedavao.net/ list: 23.7%\n",
      "Percent complete https://edgedavao.net/ list: 24.2%\n",
      "Percent complete https://edgedavao.net/ list: 24.7%\n",
      "Percent complete https://edgedavao.net/ list: 25.3%\n",
      "Percent complete https://edgedavao.net/ list: 25.8%\n",
      "Percent complete https://edgedavao.net/ list: 26.3%\n",
      "Percent complete https://edgedavao.net/ list: 26.8%\n",
      "Percent complete https://edgedavao.net/ list: 27.3%\n",
      "Percent complete https://edgedavao.net/ list: 27.8%\n",
      "Percent complete https://edgedavao.net/ list: 28.4%\n",
      "Percent complete https://edgedavao.net/ list: 28.9%\n",
      "Percent complete https://edgedavao.net/ list: 29.4%\n",
      "Percent complete https://edgedavao.net/ list: 29.9%\n",
      "Percent complete https://edgedavao.net/ list: 30.4%\n",
      "Percent complete https://edgedavao.net/ list: 30.9%\n",
      "Percent complete https://edgedavao.net/ list: 31.4%\n",
      "Percent complete https://edgedavao.net/ list: 32.0%\n",
      "Percent complete https://edgedavao.net/ list: 32.5%\n",
      "Percent complete https://edgedavao.net/ list: 33.0%\n",
      "Percent complete https://edgedavao.net/ list: 33.5%\n",
      "Percent complete https://edgedavao.net/ list: 34.0%\n",
      "Percent complete https://edgedavao.net/ list: 34.5%\n",
      "Percent complete https://edgedavao.net/ list: 35.1%\n",
      "Percent complete https://edgedavao.net/ list: 35.6%\n",
      "Percent complete https://edgedavao.net/ list: 36.1%\n",
      "Percent complete https://edgedavao.net/ list: 36.6%\n",
      "Percent complete https://edgedavao.net/ list: 37.1%\n",
      "Percent complete https://edgedavao.net/ list: 37.6%\n",
      "Percent complete https://edgedavao.net/ list: 38.1%\n",
      "Percent complete https://edgedavao.net/ list: 38.7%\n",
      "Percent complete https://edgedavao.net/ list: 39.2%\n",
      "Percent complete https://edgedavao.net/ list: 39.7%\n",
      "Percent complete https://edgedavao.net/ list: 40.2%\n",
      "Percent complete https://edgedavao.net/ list: 40.7%\n",
      "Percent complete https://edgedavao.net/ list: 41.2%\n",
      "Percent complete https://edgedavao.net/ list: 41.8%\n",
      "Percent complete https://edgedavao.net/ list: 42.3%\n",
      "Percent complete https://edgedavao.net/ list: 42.8%\n",
      "Percent complete https://edgedavao.net/ list: 43.3%\n",
      "Percent complete https://edgedavao.net/ list: 43.8%\n",
      "Percent complete https://edgedavao.net/ list: 44.3%\n",
      "Percent complete https://edgedavao.net/ list: 44.8%\n",
      "Percent complete https://edgedavao.net/ list: 45.4%\n",
      "Percent complete https://edgedavao.net/ list: 45.9%\n",
      "Percent complete https://edgedavao.net/ list: 46.4%\n",
      "Percent complete https://edgedavao.net/ list: 46.9%\n",
      "Percent complete https://edgedavao.net/ list: 47.4%\n",
      "Percent complete https://edgedavao.net/ list: 47.9%\n",
      "Percent complete https://edgedavao.net/ list: 48.5%\n",
      "Percent complete https://edgedavao.net/ list: 49.0%\n",
      "Percent complete https://edgedavao.net/ list: 49.5%\n",
      "Percent complete https://edgedavao.net/ list: 50.0%\n",
      "Percent complete https://edgedavao.net/ list: 50.5%\n",
      "Percent complete https://edgedavao.net/ list: 51.0%\n",
      "Percent complete https://edgedavao.net/ list: 51.5%\n",
      "Percent complete https://edgedavao.net/ list: 52.1%\n",
      "Percent complete https://edgedavao.net/ list: 52.6%\n",
      "Percent complete https://edgedavao.net/ list: 53.1%\n",
      "Percent complete https://edgedavao.net/ list: 53.6%\n",
      "Percent complete https://edgedavao.net/ list: 54.1%\n",
      "Percent complete https://edgedavao.net/ list: 54.6%\n",
      "Percent complete https://edgedavao.net/ list: 55.2%\n",
      "Percent complete https://edgedavao.net/ list: 55.7%\n",
      "Percent complete https://edgedavao.net/ list: 56.2%\n",
      "Percent complete https://edgedavao.net/ list: 56.7%\n",
      "Percent complete https://edgedavao.net/ list: 57.2%\n",
      "Percent complete https://edgedavao.net/ list: 57.7%\n",
      "Percent complete https://edgedavao.net/ list: 58.2%\n",
      "Percent complete https://edgedavao.net/ list: 58.8%\n",
      "Percent complete https://edgedavao.net/ list: 59.3%\n",
      "Percent complete https://edgedavao.net/ list: 59.8%\n",
      "Percent complete https://edgedavao.net/ list: 60.3%\n",
      "Percent complete https://edgedavao.net/ list: 60.8%\n",
      "Percent complete https://edgedavao.net/ list: 61.3%\n",
      "Percent complete https://edgedavao.net/ list: 61.9%\n",
      "Percent complete https://edgedavao.net/ list: 62.4%\n",
      "Percent complete https://edgedavao.net/ list: 62.9%\n",
      "Percent complete https://edgedavao.net/ list: 63.4%\n",
      "Percent complete https://edgedavao.net/ list: 63.9%\n",
      "Percent complete https://edgedavao.net/ list: 64.4%\n",
      "Percent complete https://edgedavao.net/ list: 64.9%\n",
      "Percent complete https://edgedavao.net/ list: 65.5%\n",
      "Percent complete https://edgedavao.net/ list: 66.0%\n",
      "Percent complete https://edgedavao.net/ list: 66.5%\n",
      "Percent complete https://edgedavao.net/ list: 67.0%\n",
      "Percent complete https://edgedavao.net/ list: 67.5%\n",
      "Percent complete https://edgedavao.net/ list: 68.0%\n",
      "Percent complete https://edgedavao.net/ list: 68.6%\n",
      "Percent complete https://edgedavao.net/ list: 69.1%\n",
      "Percent complete https://edgedavao.net/ list: 69.6%\n",
      "Percent complete https://edgedavao.net/ list: 70.1%\n",
      "Percent complete https://edgedavao.net/ list: 70.6%\n",
      "Percent complete https://edgedavao.net/ list: 71.1%\n",
      "Percent complete https://edgedavao.net/ list: 71.6%\n",
      "Percent complete https://edgedavao.net/ list: 72.2%\n",
      "Percent complete https://edgedavao.net/ list: 72.7%\n",
      "Percent complete https://edgedavao.net/ list: 73.2%\n",
      "Percent complete https://edgedavao.net/ list: 73.7%\n",
      "Percent complete https://edgedavao.net/ list: 74.2%\n",
      "Percent complete https://edgedavao.net/ list: 74.7%\n",
      "Percent complete https://edgedavao.net/ list: 75.3%\n",
      "Percent complete https://edgedavao.net/ list: 75.8%\n",
      "Percent complete https://edgedavao.net/ list: 76.3%\n",
      "Percent complete https://edgedavao.net/ list: 76.8%\n",
      "Percent complete https://edgedavao.net/ list: 77.3%\n",
      "Percent complete https://edgedavao.net/ list: 77.8%\n",
      "Percent complete https://edgedavao.net/ list: 78.4%\n",
      "Percent complete https://edgedavao.net/ list: 78.9%\n",
      "Percent complete https://edgedavao.net/ list: 79.4%\n",
      "Percent complete https://edgedavao.net/ list: 79.9%\n",
      "Percent complete https://edgedavao.net/ list: 80.4%\n",
      "Percent complete https://edgedavao.net/ list: 80.9%\n",
      "Percent complete https://edgedavao.net/ list: 81.4%\n",
      "Percent complete https://edgedavao.net/ list: 82.0%\n",
      "Percent complete https://edgedavao.net/ list: 82.5%\n",
      "Percent complete https://edgedavao.net/ list: 83.0%\n",
      "Percent complete https://edgedavao.net/ list: 83.5%\n",
      "Percent complete https://edgedavao.net/ list: 84.0%\n",
      "Percent complete https://edgedavao.net/ list: 84.5%\n",
      "Percent complete https://edgedavao.net/ list: 85.1%\n",
      "Percent complete https://edgedavao.net/ list: 85.6%\n",
      "Percent complete https://edgedavao.net/ list: 86.1%\n",
      "Percent complete https://edgedavao.net/ list: 86.6%\n",
      "Percent complete https://edgedavao.net/ list: 87.1%\n",
      "Percent complete https://edgedavao.net/ list: 87.6%\n",
      "Percent complete https://edgedavao.net/ list: 88.1%\n",
      "Percent complete https://edgedavao.net/ list: 88.7%\n",
      "Percent complete https://edgedavao.net/ list: 89.2%\n",
      "Percent complete https://edgedavao.net/ list: 89.7%\n",
      "Percent complete https://edgedavao.net/ list: 90.2%\n",
      "Percent complete https://edgedavao.net/ list: 90.7%\n",
      "Percent complete https://edgedavao.net/ list: 91.2%\n",
      "Percent complete https://edgedavao.net/ list: 91.8%\n",
      "Percent complete https://edgedavao.net/ list: 92.3%\n",
      "Percent complete https://edgedavao.net/ list: 92.8%\n",
      "Percent complete https://edgedavao.net/ list: 93.3%\n",
      "Percent complete https://edgedavao.net/ list: 93.8%\n",
      "Percent complete https://edgedavao.net/ list: 94.3%\n",
      "Percent complete https://edgedavao.net/ list: 94.8%\n",
      "Percent complete https://edgedavao.net/ list: 95.4%\n",
      "Percent complete https://edgedavao.net/ list: 95.9%\n",
      "Percent complete https://edgedavao.net/ list: 96.4%\n",
      "Percent complete https://edgedavao.net/ list: 96.9%\n",
      "Percent complete https://edgedavao.net/ list: 97.4%\n",
      "Percent complete https://edgedavao.net/ list: 97.9%\n",
      "Percent complete https://edgedavao.net/ list: 98.5%\n",
      "Percent complete https://edgedavao.net/ list: 99.0%\n",
      "Percent complete https://edgedavao.net/ list: 99.5%\n",
      "Percent complete https://edgedavao.net/ list: 100.0%\n",
      "Percent complete all sources list: 40.0%\n"
     ]
    },
    {
     "name": "stdout",
     "output_type": "stream",
     "text": [
      "Percent complete http://www.senate.gov.ph/ list: 0.6%\n",
      "Percent complete http://www.senate.gov.ph/ list: 1.1%\n",
      "Percent complete http://www.senate.gov.ph/ list: 1.7%\n",
      "Percent complete http://www.senate.gov.ph/ list: 2.3%\n",
      "Percent complete http://www.senate.gov.ph/ list: 2.8%\n",
      "Percent complete http://www.senate.gov.ph/ list: 3.4%\n",
      "Percent complete http://www.senate.gov.ph/ list: 4.0%\n",
      "Percent complete http://www.senate.gov.ph/ list: 4.5%\n",
      "Percent complete http://www.senate.gov.ph/ list: 5.1%\n",
      "Percent complete http://www.senate.gov.ph/ list: 5.6%\n",
      "Percent complete http://www.senate.gov.ph/ list: 6.2%\n",
      "Percent complete http://www.senate.gov.ph/ list: 6.8%\n",
      "Percent complete http://www.senate.gov.ph/ list: 7.3%\n",
      "Percent complete http://www.senate.gov.ph/ list: 7.9%\n",
      "Percent complete http://www.senate.gov.ph/ list: 8.5%\n",
      "Percent complete http://www.senate.gov.ph/ list: 9.0%\n",
      "Percent complete http://www.senate.gov.ph/ list: 9.6%\n",
      "Percent complete http://www.senate.gov.ph/ list: 10.2%\n",
      "Percent complete http://www.senate.gov.ph/ list: 10.7%\n",
      "Percent complete http://www.senate.gov.ph/ list: 11.3%\n",
      "Percent complete http://www.senate.gov.ph/ list: 11.9%\n",
      "Percent complete http://www.senate.gov.ph/ list: 12.4%\n",
      "Percent complete http://www.senate.gov.ph/ list: 13.0%\n",
      "Percent complete http://www.senate.gov.ph/ list: 13.6%\n",
      "Percent complete http://www.senate.gov.ph/ list: 14.1%\n",
      "Percent complete http://www.senate.gov.ph/ list: 14.7%\n",
      "Percent complete http://www.senate.gov.ph/ list: 15.3%\n",
      "Percent complete http://www.senate.gov.ph/ list: 15.8%\n",
      "Percent complete http://www.senate.gov.ph/ list: 16.4%\n",
      "Percent complete http://www.senate.gov.ph/ list: 16.9%\n",
      "Percent complete http://www.senate.gov.ph/ list: 17.5%\n",
      "Percent complete http://www.senate.gov.ph/ list: 18.1%\n",
      "Percent complete http://www.senate.gov.ph/ list: 18.6%\n",
      "Percent complete http://www.senate.gov.ph/ list: 19.2%\n",
      "Percent complete http://www.senate.gov.ph/ list: 19.8%\n",
      "Percent complete http://www.senate.gov.ph/ list: 20.3%\n",
      "Percent complete http://www.senate.gov.ph/ list: 20.9%\n",
      "Percent complete http://www.senate.gov.ph/ list: 21.5%\n",
      "Percent complete http://www.senate.gov.ph/ list: 22.0%\n",
      "Percent complete http://www.senate.gov.ph/ list: 22.6%\n",
      "Percent complete http://www.senate.gov.ph/ list: 23.2%\n",
      "Percent complete http://www.senate.gov.ph/ list: 23.7%\n",
      "Percent complete http://www.senate.gov.ph/ list: 24.3%\n",
      "Percent complete http://www.senate.gov.ph/ list: 24.9%\n",
      "Percent complete http://www.senate.gov.ph/ list: 25.4%\n",
      "Percent complete http://www.senate.gov.ph/ list: 26.0%\n",
      "Percent complete http://www.senate.gov.ph/ list: 26.6%\n",
      "Percent complete http://www.senate.gov.ph/ list: 27.1%\n",
      "Percent complete http://www.senate.gov.ph/ list: 27.7%\n",
      "Percent complete http://www.senate.gov.ph/ list: 28.2%\n",
      "Percent complete http://www.senate.gov.ph/ list: 28.8%\n",
      "Percent complete http://www.senate.gov.ph/ list: 29.4%\n",
      "Percent complete http://www.senate.gov.ph/ list: 29.9%\n",
      "Percent complete http://www.senate.gov.ph/ list: 30.5%\n",
      "Percent complete http://www.senate.gov.ph/ list: 31.1%\n",
      "Percent complete http://www.senate.gov.ph/ list: 31.6%\n",
      "Percent complete http://www.senate.gov.ph/ list: 32.2%\n",
      "Percent complete http://www.senate.gov.ph/ list: 32.8%\n",
      "Percent complete http://www.senate.gov.ph/ list: 33.3%\n",
      "Percent complete http://www.senate.gov.ph/ list: 33.9%\n",
      "Percent complete http://www.senate.gov.ph/ list: 34.5%\n",
      "Percent complete http://www.senate.gov.ph/ list: 35.0%\n",
      "Percent complete http://www.senate.gov.ph/ list: 35.6%\n",
      "Percent complete http://www.senate.gov.ph/ list: 36.2%\n",
      "Percent complete http://www.senate.gov.ph/ list: 36.7%\n",
      "Percent complete http://www.senate.gov.ph/ list: 37.3%\n",
      "Percent complete http://www.senate.gov.ph/ list: 37.9%\n",
      "Percent complete http://www.senate.gov.ph/ list: 38.4%\n",
      "Percent complete http://www.senate.gov.ph/ list: 39.0%\n",
      "Percent complete http://www.senate.gov.ph/ list: 39.5%\n",
      "Percent complete http://www.senate.gov.ph/ list: 40.1%\n",
      "Percent complete http://www.senate.gov.ph/ list: 40.7%\n",
      "Percent complete http://www.senate.gov.ph/ list: 41.2%\n",
      "Percent complete http://www.senate.gov.ph/ list: 41.8%\n",
      "Percent complete http://www.senate.gov.ph/ list: 42.4%\n",
      "Percent complete http://www.senate.gov.ph/ list: 42.9%\n",
      "Percent complete http://www.senate.gov.ph/ list: 43.5%\n",
      "Percent complete http://www.senate.gov.ph/ list: 44.1%\n",
      "Percent complete http://www.senate.gov.ph/ list: 44.6%\n",
      "Percent complete http://www.senate.gov.ph/ list: 45.2%\n",
      "Percent complete http://www.senate.gov.ph/ list: 45.8%\n",
      "Percent complete http://www.senate.gov.ph/ list: 46.3%\n",
      "Percent complete http://www.senate.gov.ph/ list: 46.9%\n",
      "Percent complete http://www.senate.gov.ph/ list: 47.5%\n",
      "Percent complete http://www.senate.gov.ph/ list: 48.0%\n",
      "Percent complete http://www.senate.gov.ph/ list: 48.6%\n",
      "Percent complete http://www.senate.gov.ph/ list: 49.2%\n",
      "Percent complete http://www.senate.gov.ph/ list: 49.7%\n",
      "Percent complete http://www.senate.gov.ph/ list: 50.3%\n",
      "Percent complete http://www.senate.gov.ph/ list: 50.8%\n",
      "Percent complete http://www.senate.gov.ph/ list: 51.4%\n",
      "Percent complete http://www.senate.gov.ph/ list: 52.0%\n",
      "Percent complete http://www.senate.gov.ph/ list: 52.5%\n",
      "Percent complete http://www.senate.gov.ph/ list: 53.1%\n",
      "Percent complete http://www.senate.gov.ph/ list: 53.7%\n",
      "Percent complete http://www.senate.gov.ph/ list: 54.2%\n",
      "Percent complete http://www.senate.gov.ph/ list: 54.8%\n",
      "Percent complete http://www.senate.gov.ph/ list: 55.4%\n",
      "Percent complete http://www.senate.gov.ph/ list: 55.9%\n",
      "Percent complete http://www.senate.gov.ph/ list: 56.5%\n",
      "Percent complete http://www.senate.gov.ph/ list: 57.1%\n",
      "Percent complete http://www.senate.gov.ph/ list: 57.6%\n",
      "Percent complete http://www.senate.gov.ph/ list: 58.2%\n",
      "Percent complete http://www.senate.gov.ph/ list: 58.8%\n",
      "Percent complete http://www.senate.gov.ph/ list: 59.3%\n",
      "Percent complete http://www.senate.gov.ph/ list: 59.9%\n",
      "Percent complete http://www.senate.gov.ph/ list: 60.5%\n",
      "Percent complete http://www.senate.gov.ph/ list: 61.0%\n",
      "Percent complete http://www.senate.gov.ph/ list: 61.6%\n",
      "Percent complete http://www.senate.gov.ph/ list: 62.1%\n",
      "Percent complete http://www.senate.gov.ph/ list: 62.7%\n",
      "Percent complete http://www.senate.gov.ph/ list: 63.3%\n",
      "Percent complete http://www.senate.gov.ph/ list: 63.8%\n",
      "Percent complete http://www.senate.gov.ph/ list: 64.4%\n",
      "Percent complete http://www.senate.gov.ph/ list: 65.0%\n",
      "Percent complete http://www.senate.gov.ph/ list: 65.5%\n",
      "Percent complete http://www.senate.gov.ph/ list: 66.1%\n",
      "Percent complete http://www.senate.gov.ph/ list: 66.7%\n",
      "Percent complete http://www.senate.gov.ph/ list: 67.2%\n",
      "Percent complete http://www.senate.gov.ph/ list: 67.8%\n",
      "Percent complete http://www.senate.gov.ph/ list: 68.4%\n",
      "Percent complete http://www.senate.gov.ph/ list: 68.9%\n",
      "Percent complete http://www.senate.gov.ph/ list: 69.5%\n",
      "Percent complete http://www.senate.gov.ph/ list: 70.1%\n",
      "Percent complete http://www.senate.gov.ph/ list: 70.6%\n",
      "Percent complete http://www.senate.gov.ph/ list: 71.2%\n",
      "Percent complete http://www.senate.gov.ph/ list: 71.8%\n",
      "Percent complete http://www.senate.gov.ph/ list: 72.3%\n",
      "Percent complete http://www.senate.gov.ph/ list: 72.9%\n",
      "Percent complete http://www.senate.gov.ph/ list: 73.4%\n",
      "Percent complete http://www.senate.gov.ph/ list: 74.0%\n",
      "Percent complete http://www.senate.gov.ph/ list: 74.6%\n",
      "Percent complete http://www.senate.gov.ph/ list: 75.1%\n",
      "Percent complete http://www.senate.gov.ph/ list: 75.7%\n",
      "Percent complete http://www.senate.gov.ph/ list: 76.3%\n",
      "Percent complete http://www.senate.gov.ph/ list: 76.8%\n",
      "Percent complete http://www.senate.gov.ph/ list: 77.4%\n",
      "Percent complete http://www.senate.gov.ph/ list: 78.0%\n",
      "Percent complete http://www.senate.gov.ph/ list: 78.5%\n",
      "Percent complete http://www.senate.gov.ph/ list: 79.1%\n",
      "Percent complete http://www.senate.gov.ph/ list: 79.7%\n",
      "Percent complete http://www.senate.gov.ph/ list: 80.2%\n",
      "Percent complete http://www.senate.gov.ph/ list: 80.8%\n",
      "Percent complete http://www.senate.gov.ph/ list: 81.4%\n",
      "Percent complete http://www.senate.gov.ph/ list: 81.9%\n",
      "Percent complete http://www.senate.gov.ph/ list: 82.5%\n",
      "Percent complete http://www.senate.gov.ph/ list: 83.1%\n",
      "Percent complete http://www.senate.gov.ph/ list: 83.6%\n",
      "Percent complete http://www.senate.gov.ph/ list: 84.2%\n",
      "Percent complete http://www.senate.gov.ph/ list: 84.7%\n",
      "Percent complete http://www.senate.gov.ph/ list: 85.3%\n",
      "Percent complete http://www.senate.gov.ph/ list: 85.9%\n",
      "Percent complete http://www.senate.gov.ph/ list: 86.4%\n",
      "Percent complete http://www.senate.gov.ph/ list: 87.0%\n",
      "Percent complete http://www.senate.gov.ph/ list: 87.6%\n",
      "Percent complete http://www.senate.gov.ph/ list: 88.1%\n",
      "Percent complete http://www.senate.gov.ph/ list: 88.7%\n",
      "Percent complete http://www.senate.gov.ph/ list: 89.3%\n",
      "Percent complete http://www.senate.gov.ph/ list: 89.8%\n",
      "Percent complete http://www.senate.gov.ph/ list: 90.4%\n",
      "Percent complete http://www.senate.gov.ph/ list: 91.0%\n",
      "Percent complete http://www.senate.gov.ph/ list: 91.5%\n",
      "Percent complete http://www.senate.gov.ph/ list: 92.1%\n",
      "Percent complete http://www.senate.gov.ph/ list: 92.7%\n",
      "Percent complete http://www.senate.gov.ph/ list: 93.2%\n",
      "Percent complete http://www.senate.gov.ph/ list: 93.8%\n",
      "Percent complete http://www.senate.gov.ph/ list: 94.4%\n",
      "Percent complete http://www.senate.gov.ph/ list: 94.9%\n",
      "Percent complete http://www.senate.gov.ph/ list: 95.5%\n",
      "Percent complete http://www.senate.gov.ph/ list: 96.0%\n",
      "Percent complete http://www.senate.gov.ph/ list: 96.6%\n",
      "Percent complete http://www.senate.gov.ph/ list: 97.2%\n",
      "Percent complete http://www.senate.gov.ph/ list: 97.7%\n",
      "Percent complete http://www.senate.gov.ph/ list: 98.3%\n",
      "Percent complete http://www.senate.gov.ph/ list: 98.9%\n",
      "Percent complete http://www.senate.gov.ph/ list: 99.4%\n",
      "Percent complete http://www.senate.gov.ph/ list: 100.0%\n",
      "Percent complete all sources list: 45.0%\n"
     ]
    },
    {
     "name": "stdout",
     "output_type": "stream",
     "text": [
      "Percent complete https://politics.com.ph/ list: 0.2%\n",
      "Percent complete https://politics.com.ph/ list: 0.4%\n",
      "Percent complete https://politics.com.ph/ list: 0.5%\n",
      "Percent complete https://politics.com.ph/ list: 0.7%\n",
      "Percent complete https://politics.com.ph/ list: 0.9%\n",
      "Percent complete https://politics.com.ph/ list: 1.1%\n",
      "Percent complete https://politics.com.ph/ list: 1.3%\n",
      "Percent complete https://politics.com.ph/ list: 1.4%\n",
      "Percent complete https://politics.com.ph/ list: 1.6%\n",
      "Percent complete https://politics.com.ph/ list: 1.8%\n",
      "Percent complete https://politics.com.ph/ list: 2.0%\n",
      "Percent complete https://politics.com.ph/ list: 2.2%\n",
      "Percent complete https://politics.com.ph/ list: 2.3%\n",
      "Percent complete https://politics.com.ph/ list: 2.5%\n",
      "Percent complete https://politics.com.ph/ list: 2.7%\n",
      "Percent complete https://politics.com.ph/ list: 2.9%\n",
      "Percent complete https://politics.com.ph/ list: 3.1%\n",
      "Percent complete https://politics.com.ph/ list: 3.2%\n",
      "Percent complete https://politics.com.ph/ list: 3.4%\n",
      "Percent complete https://politics.com.ph/ list: 3.6%\n",
      "Percent complete https://politics.com.ph/ list: 3.8%\n",
      "Percent complete https://politics.com.ph/ list: 3.9%\n",
      "Percent complete https://politics.com.ph/ list: 4.1%\n",
      "Percent complete https://politics.com.ph/ list: 4.3%\n",
      "Percent complete https://politics.com.ph/ list: 4.5%\n",
      "Percent complete https://politics.com.ph/ list: 4.7%\n",
      "Percent complete https://politics.com.ph/ list: 4.8%\n",
      "Percent complete https://politics.com.ph/ list: 5.0%\n",
      "Percent complete https://politics.com.ph/ list: 5.2%\n",
      "Percent complete https://politics.com.ph/ list: 5.4%\n",
      "Percent complete https://politics.com.ph/ list: 5.6%\n",
      "Percent complete https://politics.com.ph/ list: 5.7%\n",
      "Percent complete https://politics.com.ph/ list: 5.9%\n",
      "Percent complete https://politics.com.ph/ list: 6.1%\n",
      "Percent complete https://politics.com.ph/ list: 6.3%\n",
      "Percent complete https://politics.com.ph/ list: 6.5%\n",
      "Percent complete https://politics.com.ph/ list: 6.6%\n",
      "Percent complete https://politics.com.ph/ list: 6.8%\n",
      "Percent complete https://politics.com.ph/ list: 7.0%\n",
      "Percent complete https://politics.com.ph/ list: 7.2%\n",
      "Percent complete https://politics.com.ph/ list: 7.4%\n",
      "Percent complete https://politics.com.ph/ list: 7.5%\n",
      "Percent complete https://politics.com.ph/ list: 7.7%\n",
      "Percent complete https://politics.com.ph/ list: 7.9%\n",
      "Percent complete https://politics.com.ph/ list: 8.1%\n",
      "Percent complete https://politics.com.ph/ list: 8.3%\n",
      "Percent complete https://politics.com.ph/ list: 8.4%\n",
      "Percent complete https://politics.com.ph/ list: 8.6%\n",
      "Percent complete https://politics.com.ph/ list: 8.8%\n",
      "Percent complete https://politics.com.ph/ list: 9.0%\n",
      "Percent complete https://politics.com.ph/ list: 9.2%\n",
      "Percent complete https://politics.com.ph/ list: 9.3%\n",
      "Percent complete https://politics.com.ph/ list: 9.5%\n",
      "Percent complete https://politics.com.ph/ list: 9.7%\n",
      "Percent complete https://politics.com.ph/ list: 9.9%\n",
      "Percent complete https://politics.com.ph/ list: 10.1%\n",
      "Percent complete https://politics.com.ph/ list: 10.2%\n",
      "Percent complete https://politics.com.ph/ list: 10.4%\n",
      "Percent complete https://politics.com.ph/ list: 10.6%\n",
      "Percent complete https://politics.com.ph/ list: 10.8%\n",
      "Percent complete https://politics.com.ph/ list: 11.0%\n",
      "Percent complete https://politics.com.ph/ list: 11.1%\n",
      "Percent complete https://politics.com.ph/ list: 11.3%\n",
      "Percent complete https://politics.com.ph/ list: 11.5%\n",
      "Percent complete https://politics.com.ph/ list: 11.7%\n",
      "Percent complete https://politics.com.ph/ list: 11.8%\n",
      "Percent complete https://politics.com.ph/ list: 12.0%\n",
      "Percent complete https://politics.com.ph/ list: 12.2%\n",
      "Percent complete https://politics.com.ph/ list: 12.4%\n",
      "Percent complete https://politics.com.ph/ list: 12.6%\n",
      "Percent complete https://politics.com.ph/ list: 12.7%\n",
      "Percent complete https://politics.com.ph/ list: 12.9%\n",
      "Percent complete https://politics.com.ph/ list: 13.1%\n",
      "Percent complete https://politics.com.ph/ list: 13.3%\n",
      "Percent complete https://politics.com.ph/ list: 13.5%\n",
      "Percent complete https://politics.com.ph/ list: 13.6%\n",
      "Percent complete https://politics.com.ph/ list: 13.8%\n",
      "Percent complete https://politics.com.ph/ list: 14.0%\n",
      "Percent complete https://politics.com.ph/ list: 14.2%\n",
      "Percent complete https://politics.com.ph/ list: 14.4%\n",
      "Percent complete https://politics.com.ph/ list: 14.5%\n",
      "Percent complete https://politics.com.ph/ list: 14.7%\n",
      "Percent complete https://politics.com.ph/ list: 14.9%\n",
      "Percent complete https://politics.com.ph/ list: 15.1%\n",
      "Percent complete https://politics.com.ph/ list: 15.3%\n",
      "Percent complete https://politics.com.ph/ list: 15.4%\n",
      "Percent complete https://politics.com.ph/ list: 15.6%\n",
      "Percent complete https://politics.com.ph/ list: 15.8%\n",
      "Percent complete https://politics.com.ph/ list: 16.0%\n",
      "Percent complete https://politics.com.ph/ list: 16.2%\n",
      "Percent complete https://politics.com.ph/ list: 16.3%\n",
      "Percent complete https://politics.com.ph/ list: 16.5%\n",
      "Percent complete https://politics.com.ph/ list: 16.7%\n",
      "Percent complete https://politics.com.ph/ list: 16.9%\n",
      "Percent complete https://politics.com.ph/ list: 17.1%\n",
      "Percent complete https://politics.com.ph/ list: 17.2%\n",
      "Percent complete https://politics.com.ph/ list: 17.4%\n",
      "Percent complete https://politics.com.ph/ list: 17.6%\n",
      "Percent complete https://politics.com.ph/ list: 17.8%\n",
      "Percent complete https://politics.com.ph/ list: 18.0%\n",
      "Percent complete https://politics.com.ph/ list: 18.1%\n",
      "Percent complete https://politics.com.ph/ list: 18.3%\n",
      "Percent complete https://politics.com.ph/ list: 18.5%\n",
      "Percent complete https://politics.com.ph/ list: 18.7%\n",
      "Percent complete https://politics.com.ph/ list: 18.9%\n",
      "Percent complete https://politics.com.ph/ list: 19.0%\n",
      "Percent complete https://politics.com.ph/ list: 19.2%\n",
      "Percent complete https://politics.com.ph/ list: 19.4%\n",
      "Percent complete https://politics.com.ph/ list: 19.6%\n",
      "Percent complete https://politics.com.ph/ list: 19.7%\n",
      "Percent complete https://politics.com.ph/ list: 19.9%\n",
      "Percent complete https://politics.com.ph/ list: 20.1%\n",
      "Percent complete https://politics.com.ph/ list: 20.3%\n",
      "Percent complete https://politics.com.ph/ list: 20.5%\n",
      "Percent complete https://politics.com.ph/ list: 20.6%\n",
      "Percent complete https://politics.com.ph/ list: 20.8%\n",
      "Percent complete https://politics.com.ph/ list: 21.0%\n",
      "Percent complete https://politics.com.ph/ list: 21.2%\n",
      "Percent complete https://politics.com.ph/ list: 21.4%\n",
      "Percent complete https://politics.com.ph/ list: 21.5%\n",
      "Percent complete https://politics.com.ph/ list: 21.7%\n",
      "Percent complete https://politics.com.ph/ list: 21.9%\n",
      "Percent complete https://politics.com.ph/ list: 22.1%\n",
      "Percent complete https://politics.com.ph/ list: 22.3%\n",
      "Percent complete https://politics.com.ph/ list: 22.4%\n",
      "Percent complete https://politics.com.ph/ list: 22.6%\n",
      "Percent complete https://politics.com.ph/ list: 22.8%\n",
      "Percent complete https://politics.com.ph/ list: 23.0%\n",
      "Percent complete https://politics.com.ph/ list: 23.2%\n",
      "Percent complete https://politics.com.ph/ list: 23.3%\n",
      "Percent complete https://politics.com.ph/ list: 23.5%\n",
      "Percent complete https://politics.com.ph/ list: 23.7%\n",
      "Percent complete https://politics.com.ph/ list: 23.9%\n",
      "Percent complete https://politics.com.ph/ list: 24.1%\n",
      "Percent complete https://politics.com.ph/ list: 24.2%\n",
      "Percent complete https://politics.com.ph/ list: 24.4%\n",
      "Percent complete https://politics.com.ph/ list: 24.6%\n",
      "Percent complete https://politics.com.ph/ list: 24.8%\n",
      "Percent complete https://politics.com.ph/ list: 25.0%\n",
      "Percent complete https://politics.com.ph/ list: 25.1%\n",
      "Percent complete https://politics.com.ph/ list: 25.3%\n",
      "Percent complete https://politics.com.ph/ list: 25.5%\n",
      "Percent complete https://politics.com.ph/ list: 25.7%\n",
      "Percent complete https://politics.com.ph/ list: 25.9%\n",
      "Percent complete https://politics.com.ph/ list: 26.0%\n",
      "Percent complete https://politics.com.ph/ list: 26.2%\n",
      "Percent complete https://politics.com.ph/ list: 26.4%\n",
      "Percent complete https://politics.com.ph/ list: 26.6%\n",
      "Percent complete https://politics.com.ph/ list: 26.8%\n",
      "Percent complete https://politics.com.ph/ list: 26.9%\n",
      "Percent complete https://politics.com.ph/ list: 27.1%\n",
      "Percent complete https://politics.com.ph/ list: 27.3%\n",
      "Percent complete https://politics.com.ph/ list: 27.5%\n",
      "Percent complete https://politics.com.ph/ list: 27.6%\n",
      "Percent complete https://politics.com.ph/ list: 27.8%\n",
      "Percent complete https://politics.com.ph/ list: 28.0%\n",
      "Percent complete https://politics.com.ph/ list: 28.2%\n",
      "Percent complete https://politics.com.ph/ list: 28.4%\n",
      "Percent complete https://politics.com.ph/ list: 28.5%\n",
      "Percent complete https://politics.com.ph/ list: 28.7%\n",
      "Percent complete https://politics.com.ph/ list: 28.9%\n",
      "Percent complete https://politics.com.ph/ list: 29.1%\n",
      "Percent complete https://politics.com.ph/ list: 29.3%\n",
      "Percent complete https://politics.com.ph/ list: 29.4%\n",
      "Percent complete https://politics.com.ph/ list: 29.6%\n",
      "Percent complete https://politics.com.ph/ list: 29.8%\n",
      "Percent complete https://politics.com.ph/ list: 30.0%\n",
      "Percent complete https://politics.com.ph/ list: 30.2%\n",
      "Percent complete https://politics.com.ph/ list: 30.3%\n",
      "Percent complete https://politics.com.ph/ list: 30.5%\n",
      "Percent complete https://politics.com.ph/ list: 30.7%\n",
      "Percent complete https://politics.com.ph/ list: 30.9%\n",
      "Percent complete https://politics.com.ph/ list: 31.1%\n",
      "Percent complete https://politics.com.ph/ list: 31.2%\n",
      "Percent complete https://politics.com.ph/ list: 31.4%\n",
      "Percent complete https://politics.com.ph/ list: 31.6%\n",
      "Percent complete https://politics.com.ph/ list: 31.8%\n",
      "Percent complete https://politics.com.ph/ list: 32.0%\n",
      "Percent complete https://politics.com.ph/ list: 32.1%\n",
      "Percent complete https://politics.com.ph/ list: 32.3%\n",
      "Percent complete https://politics.com.ph/ list: 32.5%\n",
      "Percent complete https://politics.com.ph/ list: 32.7%\n",
      "Percent complete https://politics.com.ph/ list: 32.9%\n",
      "Percent complete https://politics.com.ph/ list: 33.0%\n",
      "Percent complete https://politics.com.ph/ list: 33.2%\n",
      "Percent complete https://politics.com.ph/ list: 33.4%\n",
      "Percent complete https://politics.com.ph/ list: 33.6%\n",
      "Percent complete https://politics.com.ph/ list: 33.8%\n",
      "Percent complete https://politics.com.ph/ list: 33.9%\n",
      "Percent complete https://politics.com.ph/ list: 34.1%\n",
      "Percent complete https://politics.com.ph/ list: 34.3%\n",
      "Percent complete https://politics.com.ph/ list: 34.5%\n",
      "Percent complete https://politics.com.ph/ list: 34.6%\n",
      "Percent complete https://politics.com.ph/ list: 34.8%\n",
      "Percent complete https://politics.com.ph/ list: 35.0%\n",
      "Percent complete https://politics.com.ph/ list: 35.2%\n",
      "Percent complete https://politics.com.ph/ list: 35.4%\n",
      "Percent complete https://politics.com.ph/ list: 35.5%\n",
      "Percent complete https://politics.com.ph/ list: 35.7%\n",
      "Percent complete https://politics.com.ph/ list: 35.9%\n",
      "Percent complete https://politics.com.ph/ list: 36.1%\n",
      "Percent complete https://politics.com.ph/ list: 36.3%\n",
      "Percent complete https://politics.com.ph/ list: 36.4%\n",
      "Percent complete https://politics.com.ph/ list: 36.6%\n",
      "Percent complete https://politics.com.ph/ list: 36.8%\n",
      "Percent complete https://politics.com.ph/ list: 37.0%\n",
      "Percent complete https://politics.com.ph/ list: 37.2%\n",
      "Percent complete https://politics.com.ph/ list: 37.3%\n",
      "Percent complete https://politics.com.ph/ list: 37.5%\n",
      "Percent complete https://politics.com.ph/ list: 37.7%\n",
      "Percent complete https://politics.com.ph/ list: 37.9%\n",
      "Percent complete https://politics.com.ph/ list: 38.1%\n",
      "Percent complete https://politics.com.ph/ list: 38.2%\n",
      "Percent complete https://politics.com.ph/ list: 38.4%\n",
      "Percent complete https://politics.com.ph/ list: 38.6%\n",
      "Percent complete https://politics.com.ph/ list: 38.8%\n",
      "Percent complete https://politics.com.ph/ list: 39.0%\n",
      "Percent complete https://politics.com.ph/ list: 39.1%\n",
      "Percent complete https://politics.com.ph/ list: 39.3%\n",
      "Percent complete https://politics.com.ph/ list: 39.5%\n",
      "Percent complete https://politics.com.ph/ list: 39.7%\n",
      "Percent complete https://politics.com.ph/ list: 39.9%\n",
      "Percent complete https://politics.com.ph/ list: 40.0%\n",
      "Percent complete https://politics.com.ph/ list: 40.2%\n",
      "Percent complete https://politics.com.ph/ list: 40.4%\n",
      "Percent complete https://politics.com.ph/ list: 40.6%\n",
      "Percent complete https://politics.com.ph/ list: 40.8%\n",
      "Percent complete https://politics.com.ph/ list: 40.9%\n",
      "Percent complete https://politics.com.ph/ list: 41.1%\n",
      "Percent complete https://politics.com.ph/ list: 41.3%\n",
      "Percent complete https://politics.com.ph/ list: 41.5%\n",
      "Percent complete https://politics.com.ph/ list: 41.7%\n",
      "Percent complete https://politics.com.ph/ list: 41.8%\n",
      "Percent complete https://politics.com.ph/ list: 42.0%\n",
      "Percent complete https://politics.com.ph/ list: 42.2%\n",
      "Percent complete https://politics.com.ph/ list: 42.4%\n",
      "Percent complete https://politics.com.ph/ list: 42.5%\n",
      "Percent complete https://politics.com.ph/ list: 42.7%\n",
      "Percent complete https://politics.com.ph/ list: 42.9%\n",
      "Percent complete https://politics.com.ph/ list: 43.1%\n",
      "Percent complete https://politics.com.ph/ list: 43.3%\n",
      "Percent complete https://politics.com.ph/ list: 43.4%\n",
      "Percent complete https://politics.com.ph/ list: 43.6%\n",
      "Percent complete https://politics.com.ph/ list: 43.8%\n",
      "Percent complete https://politics.com.ph/ list: 44.0%\n",
      "Percent complete https://politics.com.ph/ list: 44.2%\n",
      "Percent complete https://politics.com.ph/ list: 44.3%\n",
      "Percent complete https://politics.com.ph/ list: 44.5%\n",
      "Percent complete https://politics.com.ph/ list: 44.7%\n",
      "Percent complete https://politics.com.ph/ list: 44.9%\n",
      "Percent complete https://politics.com.ph/ list: 45.1%\n",
      "Percent complete https://politics.com.ph/ list: 45.2%\n",
      "Percent complete https://politics.com.ph/ list: 45.4%\n",
      "Percent complete https://politics.com.ph/ list: 45.6%\n",
      "Percent complete https://politics.com.ph/ list: 45.8%\n",
      "Percent complete https://politics.com.ph/ list: 46.0%\n",
      "Percent complete https://politics.com.ph/ list: 46.1%\n",
      "Percent complete https://politics.com.ph/ list: 46.3%\n",
      "Percent complete https://politics.com.ph/ list: 46.5%\n",
      "Percent complete https://politics.com.ph/ list: 46.7%\n",
      "Percent complete https://politics.com.ph/ list: 46.9%\n",
      "Percent complete https://politics.com.ph/ list: 47.0%\n",
      "Percent complete https://politics.com.ph/ list: 47.2%\n",
      "Percent complete https://politics.com.ph/ list: 47.4%\n",
      "Percent complete https://politics.com.ph/ list: 47.6%\n",
      "Percent complete https://politics.com.ph/ list: 47.8%\n",
      "Percent complete https://politics.com.ph/ list: 47.9%\n",
      "Percent complete https://politics.com.ph/ list: 48.1%\n",
      "Percent complete https://politics.com.ph/ list: 48.3%\n",
      "Percent complete https://politics.com.ph/ list: 48.5%\n",
      "Percent complete https://politics.com.ph/ list: 48.7%\n",
      "Percent complete https://politics.com.ph/ list: 48.8%\n",
      "Percent complete https://politics.com.ph/ list: 49.0%\n",
      "Percent complete https://politics.com.ph/ list: 49.2%\n",
      "Percent complete https://politics.com.ph/ list: 49.4%\n",
      "Percent complete https://politics.com.ph/ list: 49.6%\n",
      "Percent complete https://politics.com.ph/ list: 49.7%\n",
      "Percent complete https://politics.com.ph/ list: 49.9%\n",
      "Percent complete https://politics.com.ph/ list: 50.1%\n",
      "Percent complete https://politics.com.ph/ list: 50.3%\n",
      "Percent complete https://politics.com.ph/ list: 50.4%\n",
      "Percent complete https://politics.com.ph/ list: 50.6%\n",
      "Percent complete https://politics.com.ph/ list: 50.8%\n",
      "Percent complete https://politics.com.ph/ list: 51.0%\n",
      "Percent complete https://politics.com.ph/ list: 51.2%\n",
      "Percent complete https://politics.com.ph/ list: 51.3%\n",
      "Percent complete https://politics.com.ph/ list: 51.5%\n",
      "Percent complete https://politics.com.ph/ list: 51.7%\n",
      "Percent complete https://politics.com.ph/ list: 51.9%\n",
      "Percent complete https://politics.com.ph/ list: 52.1%\n",
      "Percent complete https://politics.com.ph/ list: 52.2%\n",
      "Percent complete https://politics.com.ph/ list: 52.4%\n",
      "Percent complete https://politics.com.ph/ list: 52.6%\n",
      "Percent complete https://politics.com.ph/ list: 52.8%\n",
      "Percent complete https://politics.com.ph/ list: 53.0%\n",
      "Percent complete https://politics.com.ph/ list: 53.1%\n",
      "Percent complete https://politics.com.ph/ list: 53.3%\n",
      "Percent complete https://politics.com.ph/ list: 53.5%\n",
      "Percent complete https://politics.com.ph/ list: 53.7%\n",
      "Percent complete https://politics.com.ph/ list: 53.9%\n",
      "Percent complete https://politics.com.ph/ list: 54.0%\n",
      "Percent complete https://politics.com.ph/ list: 54.2%\n",
      "Percent complete https://politics.com.ph/ list: 54.4%\n",
      "Percent complete https://politics.com.ph/ list: 54.6%\n",
      "Percent complete https://politics.com.ph/ list: 54.8%\n",
      "Percent complete https://politics.com.ph/ list: 54.9%\n",
      "Percent complete https://politics.com.ph/ list: 55.1%\n",
      "Percent complete https://politics.com.ph/ list: 55.3%\n",
      "Percent complete https://politics.com.ph/ list: 55.5%\n",
      "Percent complete https://politics.com.ph/ list: 55.7%\n",
      "Percent complete https://politics.com.ph/ list: 55.8%\n",
      "Percent complete https://politics.com.ph/ list: 56.0%\n",
      "Percent complete https://politics.com.ph/ list: 56.2%\n",
      "Percent complete https://politics.com.ph/ list: 56.4%\n",
      "Percent complete https://politics.com.ph/ list: 56.6%\n",
      "Percent complete https://politics.com.ph/ list: 56.7%\n",
      "Percent complete https://politics.com.ph/ list: 56.9%\n",
      "Percent complete https://politics.com.ph/ list: 57.1%\n",
      "Percent complete https://politics.com.ph/ list: 57.3%\n",
      "Percent complete https://politics.com.ph/ list: 57.5%\n",
      "Percent complete https://politics.com.ph/ list: 57.6%\n",
      "Percent complete https://politics.com.ph/ list: 57.8%\n",
      "Percent complete https://politics.com.ph/ list: 58.0%\n",
      "Percent complete https://politics.com.ph/ list: 58.2%\n",
      "Percent complete https://politics.com.ph/ list: 58.3%\n",
      "Percent complete https://politics.com.ph/ list: 58.5%\n",
      "Percent complete https://politics.com.ph/ list: 58.7%\n",
      "Percent complete https://politics.com.ph/ list: 58.9%\n",
      "Percent complete https://politics.com.ph/ list: 59.1%\n",
      "Percent complete https://politics.com.ph/ list: 59.2%\n",
      "Percent complete https://politics.com.ph/ list: 59.4%\n",
      "Percent complete https://politics.com.ph/ list: 59.6%\n",
      "Percent complete https://politics.com.ph/ list: 59.8%\n",
      "Percent complete https://politics.com.ph/ list: 60.0%\n",
      "Percent complete https://politics.com.ph/ list: 60.1%\n",
      "Percent complete https://politics.com.ph/ list: 60.3%\n",
      "Percent complete https://politics.com.ph/ list: 60.5%\n",
      "Percent complete https://politics.com.ph/ list: 60.7%\n",
      "Percent complete https://politics.com.ph/ list: 60.9%\n",
      "Percent complete https://politics.com.ph/ list: 61.0%\n",
      "Percent complete https://politics.com.ph/ list: 61.2%\n",
      "Percent complete https://politics.com.ph/ list: 61.4%\n",
      "Percent complete https://politics.com.ph/ list: 61.6%\n",
      "Percent complete https://politics.com.ph/ list: 61.8%\n",
      "Percent complete https://politics.com.ph/ list: 61.9%\n",
      "Percent complete https://politics.com.ph/ list: 62.1%\n",
      "Percent complete https://politics.com.ph/ list: 62.3%\n",
      "Percent complete https://politics.com.ph/ list: 62.5%\n",
      "Percent complete https://politics.com.ph/ list: 62.7%\n",
      "Percent complete https://politics.com.ph/ list: 62.8%\n",
      "Percent complete https://politics.com.ph/ list: 63.0%\n",
      "Percent complete https://politics.com.ph/ list: 63.2%\n",
      "Percent complete https://politics.com.ph/ list: 63.4%\n",
      "Percent complete https://politics.com.ph/ list: 63.6%\n",
      "Percent complete https://politics.com.ph/ list: 63.7%\n",
      "Percent complete https://politics.com.ph/ list: 63.9%\n",
      "Percent complete https://politics.com.ph/ list: 64.1%\n",
      "Percent complete https://politics.com.ph/ list: 64.3%\n",
      "Percent complete https://politics.com.ph/ list: 64.5%\n",
      "Percent complete https://politics.com.ph/ list: 64.6%\n",
      "Percent complete https://politics.com.ph/ list: 64.8%\n",
      "Percent complete https://politics.com.ph/ list: 65.0%\n",
      "Percent complete https://politics.com.ph/ list: 65.2%\n",
      "Percent complete https://politics.com.ph/ list: 65.4%\n",
      "Percent complete https://politics.com.ph/ list: 65.5%\n",
      "Percent complete https://politics.com.ph/ list: 65.7%\n",
      "Percent complete https://politics.com.ph/ list: 65.9%\n",
      "Percent complete https://politics.com.ph/ list: 66.1%\n",
      "Percent complete https://politics.com.ph/ list: 66.2%\n",
      "Percent complete https://politics.com.ph/ list: 66.4%\n",
      "Percent complete https://politics.com.ph/ list: 66.6%\n",
      "Percent complete https://politics.com.ph/ list: 66.8%\n",
      "Percent complete https://politics.com.ph/ list: 67.0%\n",
      "Percent complete https://politics.com.ph/ list: 67.1%\n",
      "Percent complete https://politics.com.ph/ list: 67.3%\n",
      "Percent complete https://politics.com.ph/ list: 67.5%\n",
      "Percent complete https://politics.com.ph/ list: 67.7%\n",
      "Percent complete https://politics.com.ph/ list: 67.9%\n",
      "Percent complete https://politics.com.ph/ list: 68.0%\n",
      "Percent complete https://politics.com.ph/ list: 68.2%\n",
      "Percent complete https://politics.com.ph/ list: 68.4%\n",
      "Percent complete https://politics.com.ph/ list: 68.6%\n",
      "Percent complete https://politics.com.ph/ list: 68.8%\n",
      "Percent complete https://politics.com.ph/ list: 68.9%\n",
      "Percent complete https://politics.com.ph/ list: 69.1%\n",
      "Percent complete https://politics.com.ph/ list: 69.3%\n",
      "Percent complete https://politics.com.ph/ list: 69.5%\n",
      "Percent complete https://politics.com.ph/ list: 69.7%\n",
      "Percent complete https://politics.com.ph/ list: 69.8%\n",
      "Percent complete https://politics.com.ph/ list: 70.0%\n",
      "Percent complete https://politics.com.ph/ list: 70.2%\n",
      "Percent complete https://politics.com.ph/ list: 70.4%\n",
      "Percent complete https://politics.com.ph/ list: 70.6%\n",
      "Percent complete https://politics.com.ph/ list: 70.7%\n",
      "Percent complete https://politics.com.ph/ list: 70.9%\n",
      "Percent complete https://politics.com.ph/ list: 71.1%\n",
      "Percent complete https://politics.com.ph/ list: 71.3%\n",
      "Percent complete https://politics.com.ph/ list: 71.5%\n",
      "Percent complete https://politics.com.ph/ list: 71.6%\n",
      "Percent complete https://politics.com.ph/ list: 71.8%\n",
      "Percent complete https://politics.com.ph/ list: 72.0%\n",
      "Percent complete https://politics.com.ph/ list: 72.2%\n",
      "Percent complete https://politics.com.ph/ list: 72.4%\n",
      "Percent complete https://politics.com.ph/ list: 72.5%\n",
      "Percent complete https://politics.com.ph/ list: 72.7%\n",
      "Percent complete https://politics.com.ph/ list: 72.9%\n",
      "Percent complete https://politics.com.ph/ list: 73.1%\n",
      "Percent complete https://politics.com.ph/ list: 73.2%\n",
      "Percent complete https://politics.com.ph/ list: 73.4%\n",
      "Percent complete https://politics.com.ph/ list: 73.6%\n",
      "Percent complete https://politics.com.ph/ list: 73.8%\n",
      "Percent complete https://politics.com.ph/ list: 74.0%\n",
      "Percent complete https://politics.com.ph/ list: 74.1%\n",
      "Percent complete https://politics.com.ph/ list: 74.3%\n",
      "Percent complete https://politics.com.ph/ list: 74.5%\n",
      "Percent complete https://politics.com.ph/ list: 74.7%\n",
      "Percent complete https://politics.com.ph/ list: 74.9%\n",
      "Percent complete https://politics.com.ph/ list: 75.0%\n",
      "Percent complete https://politics.com.ph/ list: 75.2%\n",
      "Percent complete https://politics.com.ph/ list: 75.4%\n",
      "Percent complete https://politics.com.ph/ list: 75.6%\n",
      "Percent complete https://politics.com.ph/ list: 75.8%\n",
      "Percent complete https://politics.com.ph/ list: 75.9%\n",
      "Percent complete https://politics.com.ph/ list: 76.1%\n",
      "Percent complete https://politics.com.ph/ list: 76.3%\n",
      "Percent complete https://politics.com.ph/ list: 76.5%\n",
      "Percent complete https://politics.com.ph/ list: 76.7%\n",
      "Percent complete https://politics.com.ph/ list: 76.8%\n",
      "Percent complete https://politics.com.ph/ list: 77.0%\n",
      "Percent complete https://politics.com.ph/ list: 77.2%\n",
      "Percent complete https://politics.com.ph/ list: 77.4%\n",
      "Percent complete https://politics.com.ph/ list: 77.6%\n",
      "Percent complete https://politics.com.ph/ list: 77.7%\n",
      "Percent complete https://politics.com.ph/ list: 77.9%\n",
      "Percent complete https://politics.com.ph/ list: 78.1%\n",
      "Percent complete https://politics.com.ph/ list: 78.3%\n",
      "Percent complete https://politics.com.ph/ list: 78.5%\n",
      "Percent complete https://politics.com.ph/ list: 78.6%\n",
      "Percent complete https://politics.com.ph/ list: 78.8%\n",
      "Percent complete https://politics.com.ph/ list: 79.0%\n",
      "Percent complete https://politics.com.ph/ list: 79.2%\n",
      "Percent complete https://politics.com.ph/ list: 79.4%\n",
      "Percent complete https://politics.com.ph/ list: 79.5%\n",
      "Percent complete https://politics.com.ph/ list: 79.7%\n",
      "Percent complete https://politics.com.ph/ list: 79.9%\n",
      "Percent complete https://politics.com.ph/ list: 80.1%\n",
      "Percent complete https://politics.com.ph/ list: 80.3%\n",
      "Percent complete https://politics.com.ph/ list: 80.4%\n",
      "Percent complete https://politics.com.ph/ list: 80.6%\n",
      "Percent complete https://politics.com.ph/ list: 80.8%\n",
      "Percent complete https://politics.com.ph/ list: 81.0%\n",
      "Percent complete https://politics.com.ph/ list: 81.1%\n",
      "Percent complete https://politics.com.ph/ list: 81.3%\n",
      "Percent complete https://politics.com.ph/ list: 81.5%\n",
      "Percent complete https://politics.com.ph/ list: 81.7%\n",
      "Percent complete https://politics.com.ph/ list: 81.9%\n",
      "Percent complete https://politics.com.ph/ list: 82.0%\n",
      "Percent complete https://politics.com.ph/ list: 82.2%\n",
      "Percent complete https://politics.com.ph/ list: 82.4%\n",
      "Percent complete https://politics.com.ph/ list: 82.6%\n",
      "Percent complete https://politics.com.ph/ list: 82.8%\n",
      "Percent complete https://politics.com.ph/ list: 82.9%\n",
      "Percent complete https://politics.com.ph/ list: 83.1%\n",
      "Percent complete https://politics.com.ph/ list: 83.3%\n",
      "Percent complete https://politics.com.ph/ list: 83.5%\n",
      "Percent complete https://politics.com.ph/ list: 83.7%\n",
      "Percent complete https://politics.com.ph/ list: 83.8%\n",
      "Percent complete https://politics.com.ph/ list: 84.0%\n",
      "Percent complete https://politics.com.ph/ list: 84.2%\n",
      "Percent complete https://politics.com.ph/ list: 84.4%\n",
      "Percent complete https://politics.com.ph/ list: 84.6%\n",
      "Percent complete https://politics.com.ph/ list: 84.7%\n",
      "Percent complete https://politics.com.ph/ list: 84.9%\n",
      "Percent complete https://politics.com.ph/ list: 85.1%\n",
      "Percent complete https://politics.com.ph/ list: 85.3%\n",
      "Percent complete https://politics.com.ph/ list: 85.5%\n",
      "Percent complete https://politics.com.ph/ list: 85.6%\n",
      "Percent complete https://politics.com.ph/ list: 85.8%\n",
      "Percent complete https://politics.com.ph/ list: 86.0%\n",
      "Percent complete https://politics.com.ph/ list: 86.2%\n",
      "Percent complete https://politics.com.ph/ list: 86.4%\n",
      "Percent complete https://politics.com.ph/ list: 86.5%\n",
      "Percent complete https://politics.com.ph/ list: 86.7%\n",
      "Percent complete https://politics.com.ph/ list: 86.9%\n",
      "Percent complete https://politics.com.ph/ list: 87.1%\n",
      "Percent complete https://politics.com.ph/ list: 87.3%\n",
      "Percent complete https://politics.com.ph/ list: 87.4%\n",
      "Percent complete https://politics.com.ph/ list: 87.6%\n",
      "Percent complete https://politics.com.ph/ list: 87.8%\n",
      "Percent complete https://politics.com.ph/ list: 88.0%\n",
      "Percent complete https://politics.com.ph/ list: 88.2%\n",
      "Percent complete https://politics.com.ph/ list: 88.3%\n",
      "Percent complete https://politics.com.ph/ list: 88.5%\n",
      "Percent complete https://politics.com.ph/ list: 88.7%\n",
      "Percent complete https://politics.com.ph/ list: 88.9%\n",
      "Percent complete https://politics.com.ph/ list: 89.0%\n",
      "Percent complete https://politics.com.ph/ list: 89.2%\n",
      "Percent complete https://politics.com.ph/ list: 89.4%\n",
      "Percent complete https://politics.com.ph/ list: 89.6%\n",
      "Percent complete https://politics.com.ph/ list: 89.8%\n",
      "Percent complete https://politics.com.ph/ list: 89.9%\n",
      "Percent complete https://politics.com.ph/ list: 90.1%\n",
      "Percent complete https://politics.com.ph/ list: 90.3%\n",
      "Percent complete https://politics.com.ph/ list: 90.5%\n",
      "Percent complete https://politics.com.ph/ list: 90.7%\n",
      "Percent complete https://politics.com.ph/ list: 90.8%\n",
      "Percent complete https://politics.com.ph/ list: 91.0%\n",
      "Percent complete https://politics.com.ph/ list: 91.2%\n",
      "Percent complete https://politics.com.ph/ list: 91.4%\n",
      "Percent complete https://politics.com.ph/ list: 91.6%\n",
      "Percent complete https://politics.com.ph/ list: 91.7%\n",
      "Percent complete https://politics.com.ph/ list: 91.9%\n",
      "Percent complete https://politics.com.ph/ list: 92.1%\n",
      "Percent complete https://politics.com.ph/ list: 92.3%\n",
      "Percent complete https://politics.com.ph/ list: 92.5%\n",
      "Percent complete https://politics.com.ph/ list: 92.6%\n",
      "Percent complete https://politics.com.ph/ list: 92.8%\n",
      "Percent complete https://politics.com.ph/ list: 93.0%\n",
      "Percent complete https://politics.com.ph/ list: 93.2%\n",
      "Percent complete https://politics.com.ph/ list: 93.4%\n",
      "Percent complete https://politics.com.ph/ list: 93.5%\n",
      "Percent complete https://politics.com.ph/ list: 93.7%\n",
      "Percent complete https://politics.com.ph/ list: 93.9%\n",
      "Percent complete https://politics.com.ph/ list: 94.1%\n",
      "Percent complete https://politics.com.ph/ list: 94.3%\n",
      "Percent complete https://politics.com.ph/ list: 94.4%\n",
      "Percent complete https://politics.com.ph/ list: 94.6%\n",
      "Percent complete https://politics.com.ph/ list: 94.8%\n",
      "Percent complete https://politics.com.ph/ list: 95.0%\n",
      "Percent complete https://politics.com.ph/ list: 95.2%\n",
      "Percent complete https://politics.com.ph/ list: 95.3%\n",
      "Percent complete https://politics.com.ph/ list: 95.5%\n",
      "Percent complete https://politics.com.ph/ list: 95.7%\n",
      "Percent complete https://politics.com.ph/ list: 95.9%\n",
      "Percent complete https://politics.com.ph/ list: 96.1%\n",
      "Percent complete https://politics.com.ph/ list: 96.2%\n",
      "Percent complete https://politics.com.ph/ list: 96.4%\n",
      "Percent complete https://politics.com.ph/ list: 96.6%\n",
      "Percent complete https://politics.com.ph/ list: 96.8%\n",
      "Percent complete https://politics.com.ph/ list: 96.9%\n",
      "Percent complete https://politics.com.ph/ list: 97.1%\n",
      "Percent complete https://politics.com.ph/ list: 97.3%\n",
      "Percent complete https://politics.com.ph/ list: 97.5%\n",
      "Percent complete https://politics.com.ph/ list: 97.7%\n",
      "Percent complete https://politics.com.ph/ list: 97.8%\n",
      "Percent complete https://politics.com.ph/ list: 98.0%\n",
      "Percent complete https://politics.com.ph/ list: 98.2%\n",
      "Percent complete https://politics.com.ph/ list: 98.4%\n",
      "Percent complete https://politics.com.ph/ list: 98.6%\n",
      "Percent complete https://politics.com.ph/ list: 98.7%\n",
      "Percent complete https://politics.com.ph/ list: 98.9%\n",
      "Percent complete https://politics.com.ph/ list: 99.1%\n",
      "Percent complete https://politics.com.ph/ list: 99.3%\n",
      "Percent complete https://politics.com.ph/ list: 99.5%\n",
      "Percent complete https://politics.com.ph/ list: 99.6%\n",
      "Percent complete https://politics.com.ph/ list: 99.8%\n",
      "Percent complete https://politics.com.ph/ list: 100.0%\n",
      "Percent complete all sources list: 50.0%\n"
     ]
    },
    {
     "name": "stdout",
     "output_type": "stream",
     "text": [
      "Percent complete https://www.mindanews.com/ list: 0.9%\n",
      "Percent complete https://www.mindanews.com/ list: 1.8%\n",
      "Percent complete https://www.mindanews.com/ list: 2.7%\n",
      "Percent complete https://www.mindanews.com/ list: 3.6%\n",
      "Percent complete https://www.mindanews.com/ list: 4.5%\n",
      "Percent complete https://www.mindanews.com/ list: 5.4%\n",
      "Percent complete https://www.mindanews.com/ list: 6.3%\n",
      "Percent complete https://www.mindanews.com/ list: 7.2%\n",
      "Percent complete https://www.mindanews.com/ list: 8.1%\n",
      "Percent complete https://www.mindanews.com/ list: 9.0%\n",
      "Percent complete https://www.mindanews.com/ list: 9.9%\n",
      "Percent complete https://www.mindanews.com/ list: 10.8%\n",
      "Percent complete https://www.mindanews.com/ list: 11.7%\n",
      "Percent complete https://www.mindanews.com/ list: 12.6%\n",
      "Percent complete https://www.mindanews.com/ list: 13.5%\n",
      "Percent complete https://www.mindanews.com/ list: 14.4%\n",
      "Percent complete https://www.mindanews.com/ list: 15.3%\n",
      "Percent complete https://www.mindanews.com/ list: 16.2%\n",
      "Percent complete https://www.mindanews.com/ list: 17.1%\n",
      "Percent complete https://www.mindanews.com/ list: 18.0%\n",
      "Percent complete https://www.mindanews.com/ list: 18.9%\n",
      "Percent complete https://www.mindanews.com/ list: 19.8%\n",
      "Percent complete https://www.mindanews.com/ list: 20.7%\n",
      "Percent complete https://www.mindanews.com/ list: 21.6%\n",
      "Percent complete https://www.mindanews.com/ list: 22.5%\n",
      "Percent complete https://www.mindanews.com/ list: 23.4%\n",
      "Percent complete https://www.mindanews.com/ list: 24.3%\n",
      "Percent complete https://www.mindanews.com/ list: 25.2%\n",
      "Percent complete https://www.mindanews.com/ list: 26.1%\n",
      "Percent complete https://www.mindanews.com/ list: 27.0%\n",
      "Percent complete https://www.mindanews.com/ list: 27.9%\n",
      "Percent complete https://www.mindanews.com/ list: 28.8%\n",
      "Percent complete https://www.mindanews.com/ list: 29.7%\n",
      "Percent complete https://www.mindanews.com/ list: 30.6%\n",
      "Percent complete https://www.mindanews.com/ list: 31.5%\n",
      "Percent complete https://www.mindanews.com/ list: 32.4%\n",
      "Percent complete https://www.mindanews.com/ list: 33.3%\n",
      "Percent complete https://www.mindanews.com/ list: 34.2%\n",
      "Percent complete https://www.mindanews.com/ list: 35.1%\n",
      "Percent complete https://www.mindanews.com/ list: 36.0%\n",
      "Percent complete https://www.mindanews.com/ list: 36.9%\n",
      "Percent complete https://www.mindanews.com/ list: 37.8%\n",
      "Percent complete https://www.mindanews.com/ list: 38.7%\n",
      "Percent complete https://www.mindanews.com/ list: 39.6%\n",
      "Percent complete https://www.mindanews.com/ list: 40.5%\n",
      "Percent complete https://www.mindanews.com/ list: 41.4%\n",
      "Percent complete https://www.mindanews.com/ list: 42.3%\n",
      "Percent complete https://www.mindanews.com/ list: 43.2%\n",
      "Percent complete https://www.mindanews.com/ list: 44.1%\n",
      "Percent complete https://www.mindanews.com/ list: 45.0%\n",
      "Percent complete https://www.mindanews.com/ list: 45.9%\n",
      "Percent complete https://www.mindanews.com/ list: 46.8%\n",
      "Percent complete https://www.mindanews.com/ list: 47.7%\n",
      "Percent complete https://www.mindanews.com/ list: 48.6%\n",
      "Percent complete https://www.mindanews.com/ list: 49.5%\n",
      "Percent complete https://www.mindanews.com/ list: 50.5%\n",
      "Percent complete https://www.mindanews.com/ list: 51.4%\n",
      "Percent complete https://www.mindanews.com/ list: 52.3%\n",
      "Percent complete https://www.mindanews.com/ list: 53.2%\n",
      "Percent complete https://www.mindanews.com/ list: 54.1%\n",
      "Percent complete https://www.mindanews.com/ list: 55.0%\n",
      "Percent complete https://www.mindanews.com/ list: 55.9%\n",
      "Percent complete https://www.mindanews.com/ list: 56.8%\n",
      "Percent complete https://www.mindanews.com/ list: 57.7%\n",
      "Percent complete https://www.mindanews.com/ list: 58.6%\n",
      "Percent complete https://www.mindanews.com/ list: 59.5%\n",
      "Percent complete https://www.mindanews.com/ list: 60.4%\n",
      "Percent complete https://www.mindanews.com/ list: 61.3%\n",
      "Percent complete https://www.mindanews.com/ list: 62.2%\n",
      "Percent complete https://www.mindanews.com/ list: 63.1%\n",
      "Percent complete https://www.mindanews.com/ list: 64.0%\n",
      "Percent complete https://www.mindanews.com/ list: 64.9%\n",
      "Percent complete https://www.mindanews.com/ list: 65.8%\n",
      "Percent complete https://www.mindanews.com/ list: 66.7%\n",
      "Percent complete https://www.mindanews.com/ list: 67.6%\n",
      "Percent complete https://www.mindanews.com/ list: 68.5%\n",
      "Percent complete https://www.mindanews.com/ list: 69.4%\n",
      "Percent complete https://www.mindanews.com/ list: 70.3%\n",
      "Percent complete https://www.mindanews.com/ list: 71.2%\n",
      "Percent complete https://www.mindanews.com/ list: 72.1%\n",
      "Percent complete https://www.mindanews.com/ list: 73.0%\n",
      "Percent complete https://www.mindanews.com/ list: 73.9%\n",
      "Percent complete https://www.mindanews.com/ list: 74.8%\n",
      "Percent complete https://www.mindanews.com/ list: 75.7%\n",
      "Percent complete https://www.mindanews.com/ list: 76.6%\n",
      "Percent complete https://www.mindanews.com/ list: 77.5%\n",
      "Percent complete https://www.mindanews.com/ list: 78.4%\n",
      "Percent complete https://www.mindanews.com/ list: 79.3%\n",
      "Percent complete https://www.mindanews.com/ list: 80.2%\n",
      "Percent complete https://www.mindanews.com/ list: 81.1%\n",
      "Percent complete https://www.mindanews.com/ list: 82.0%\n",
      "Percent complete https://www.mindanews.com/ list: 82.9%\n",
      "Percent complete https://www.mindanews.com/ list: 83.8%\n",
      "Percent complete https://www.mindanews.com/ list: 84.7%\n",
      "Percent complete https://www.mindanews.com/ list: 85.6%\n",
      "Percent complete https://www.mindanews.com/ list: 86.5%\n",
      "Percent complete https://www.mindanews.com/ list: 87.4%\n",
      "Percent complete https://www.mindanews.com/ list: 88.3%\n",
      "Percent complete https://www.mindanews.com/ list: 89.2%\n",
      "Percent complete https://www.mindanews.com/ list: 90.1%\n",
      "Percent complete https://www.mindanews.com/ list: 91.0%\n",
      "Percent complete https://www.mindanews.com/ list: 91.9%\n",
      "Percent complete https://www.mindanews.com/ list: 92.8%\n",
      "Percent complete https://www.mindanews.com/ list: 93.7%\n",
      "Percent complete https://www.mindanews.com/ list: 94.6%\n",
      "Percent complete https://www.mindanews.com/ list: 95.5%\n",
      "Percent complete https://www.mindanews.com/ list: 96.4%\n",
      "Percent complete https://www.mindanews.com/ list: 97.3%\n",
      "Percent complete https://www.mindanews.com/ list: 98.2%\n",
      "Percent complete https://www.mindanews.com/ list: 99.1%\n",
      "Percent complete https://www.mindanews.com/ list: 100.0%\n",
      "Percent complete all sources list: 55.0%\n",
      "Percent complete https://palawan-news.com/ list: 0.2%\n",
      "Percent complete https://palawan-news.com/ list: 0.4%\n",
      "Percent complete https://palawan-news.com/ list: 0.6%\n",
      "Percent complete https://palawan-news.com/ list: 0.8%\n",
      "Percent complete https://palawan-news.com/ list: 1.1%\n",
      "Percent complete https://palawan-news.com/ list: 1.3%\n",
      "Percent complete https://palawan-news.com/ list: 1.5%\n",
      "Percent complete https://palawan-news.com/ list: 1.7%\n",
      "Percent complete https://palawan-news.com/ list: 1.9%\n",
      "Percent complete https://palawan-news.com/ list: 2.1%\n",
      "Percent complete https://palawan-news.com/ list: 2.3%\n",
      "Percent complete https://palawan-news.com/ list: 2.5%\n",
      "Percent complete https://palawan-news.com/ list: 2.7%\n",
      "Percent complete https://palawan-news.com/ list: 3.0%\n",
      "Percent complete https://palawan-news.com/ list: 3.2%\n",
      "Percent complete https://palawan-news.com/ list: 3.4%\n",
      "Percent complete https://palawan-news.com/ list: 3.6%\n",
      "Percent complete https://palawan-news.com/ list: 3.8%\n",
      "Percent complete https://palawan-news.com/ list: 4.0%\n",
      "Percent complete https://palawan-news.com/ list: 4.2%\n",
      "Percent complete https://palawan-news.com/ list: 4.4%\n",
      "Percent complete https://palawan-news.com/ list: 4.6%\n",
      "Percent complete https://palawan-news.com/ list: 4.9%\n",
      "Percent complete https://palawan-news.com/ list: 5.1%\n",
      "Percent complete https://palawan-news.com/ list: 5.3%\n",
      "Percent complete https://palawan-news.com/ list: 5.5%\n",
      "Percent complete https://palawan-news.com/ list: 5.7%\n",
      "Percent complete https://palawan-news.com/ list: 5.9%\n",
      "Percent complete https://palawan-news.com/ list: 6.1%\n",
      "Percent complete https://palawan-news.com/ list: 6.3%\n",
      "Percent complete https://palawan-news.com/ list: 6.5%\n",
      "Percent complete https://palawan-news.com/ list: 6.8%\n",
      "Percent complete https://palawan-news.com/ list: 7.0%\n",
      "Percent complete https://palawan-news.com/ list: 7.2%\n",
      "Percent complete https://palawan-news.com/ list: 7.4%\n",
      "Percent complete https://palawan-news.com/ list: 7.6%\n",
      "Percent complete https://palawan-news.com/ list: 7.8%\n",
      "Percent complete https://palawan-news.com/ list: 8.0%\n",
      "Percent complete https://palawan-news.com/ list: 8.2%\n",
      "Percent complete https://palawan-news.com/ list: 8.4%\n",
      "Percent complete https://palawan-news.com/ list: 8.6%\n",
      "Percent complete https://palawan-news.com/ list: 8.9%\n",
      "Percent complete https://palawan-news.com/ list: 9.1%\n",
      "Percent complete https://palawan-news.com/ list: 9.3%\n",
      "Percent complete https://palawan-news.com/ list: 9.5%\n",
      "Percent complete https://palawan-news.com/ list: 9.7%\n",
      "Percent complete https://palawan-news.com/ list: 9.9%\n",
      "Percent complete https://palawan-news.com/ list: 10.1%\n",
      "Percent complete https://palawan-news.com/ list: 10.3%\n",
      "Percent complete https://palawan-news.com/ list: 10.5%\n",
      "Percent complete https://palawan-news.com/ list: 10.8%\n",
      "Percent complete https://palawan-news.com/ list: 11.0%\n",
      "Percent complete https://palawan-news.com/ list: 11.2%\n",
      "Percent complete https://palawan-news.com/ list: 11.4%\n",
      "Percent complete https://palawan-news.com/ list: 11.6%\n",
      "Percent complete https://palawan-news.com/ list: 11.8%\n",
      "Percent complete https://palawan-news.com/ list: 12.0%\n",
      "Percent complete https://palawan-news.com/ list: 12.2%\n",
      "Percent complete https://palawan-news.com/ list: 12.4%\n",
      "Percent complete https://palawan-news.com/ list: 12.7%\n",
      "Percent complete https://palawan-news.com/ list: 12.9%\n",
      "Percent complete https://palawan-news.com/ list: 13.1%\n",
      "Percent complete https://palawan-news.com/ list: 13.3%\n",
      "Percent complete https://palawan-news.com/ list: 13.5%\n",
      "Percent complete https://palawan-news.com/ list: 13.7%\n",
      "Percent complete https://palawan-news.com/ list: 13.9%\n",
      "Percent complete https://palawan-news.com/ list: 14.1%\n",
      "Percent complete https://palawan-news.com/ list: 14.3%\n",
      "Percent complete https://palawan-news.com/ list: 14.6%\n",
      "Percent complete https://palawan-news.com/ list: 14.8%\n",
      "Percent complete https://palawan-news.com/ list: 15.0%\n",
      "Percent complete https://palawan-news.com/ list: 15.2%\n",
      "Percent complete https://palawan-news.com/ list: 15.4%\n",
      "Percent complete https://palawan-news.com/ list: 15.6%\n",
      "Percent complete https://palawan-news.com/ list: 15.8%\n",
      "Percent complete https://palawan-news.com/ list: 16.0%\n",
      "Percent complete https://palawan-news.com/ list: 16.2%\n",
      "Percent complete https://palawan-news.com/ list: 16.5%\n",
      "Percent complete https://palawan-news.com/ list: 16.7%\n",
      "Percent complete https://palawan-news.com/ list: 16.9%\n",
      "Percent complete https://palawan-news.com/ list: 17.1%\n",
      "Percent complete https://palawan-news.com/ list: 17.3%\n",
      "Percent complete https://palawan-news.com/ list: 17.5%\n",
      "Percent complete https://palawan-news.com/ list: 17.7%\n",
      "Percent complete https://palawan-news.com/ list: 17.9%\n",
      "Percent complete https://palawan-news.com/ list: 18.1%\n",
      "Percent complete https://palawan-news.com/ list: 18.4%\n",
      "Percent complete https://palawan-news.com/ list: 18.6%\n",
      "Percent complete https://palawan-news.com/ list: 18.8%\n",
      "Percent complete https://palawan-news.com/ list: 19.0%\n",
      "Percent complete https://palawan-news.com/ list: 19.2%\n",
      "Percent complete https://palawan-news.com/ list: 19.4%\n",
      "Percent complete https://palawan-news.com/ list: 19.6%\n",
      "Percent complete https://palawan-news.com/ list: 19.8%\n",
      "Percent complete https://palawan-news.com/ list: 20.0%\n",
      "Percent complete https://palawan-news.com/ list: 20.3%\n",
      "Percent complete https://palawan-news.com/ list: 20.5%\n",
      "Percent complete https://palawan-news.com/ list: 20.7%\n",
      "Percent complete https://palawan-news.com/ list: 20.9%\n",
      "Percent complete https://palawan-news.com/ list: 21.1%\n",
      "Percent complete https://palawan-news.com/ list: 21.3%\n",
      "Percent complete https://palawan-news.com/ list: 21.5%\n",
      "Percent complete https://palawan-news.com/ list: 21.7%\n",
      "Percent complete https://palawan-news.com/ list: 21.9%\n",
      "Percent complete https://palawan-news.com/ list: 22.2%\n",
      "Percent complete https://palawan-news.com/ list: 22.4%\n",
      "Percent complete https://palawan-news.com/ list: 22.6%\n",
      "Percent complete https://palawan-news.com/ list: 22.8%\n",
      "Percent complete https://palawan-news.com/ list: 23.0%\n",
      "Percent complete https://palawan-news.com/ list: 23.2%\n",
      "Percent complete https://palawan-news.com/ list: 23.4%\n",
      "Percent complete https://palawan-news.com/ list: 23.6%\n",
      "Percent complete https://palawan-news.com/ list: 23.8%\n",
      "Percent complete https://palawan-news.com/ list: 24.1%\n",
      "Percent complete https://palawan-news.com/ list: 24.3%\n",
      "Percent complete https://palawan-news.com/ list: 24.5%\n",
      "Percent complete https://palawan-news.com/ list: 24.7%\n",
      "Percent complete https://palawan-news.com/ list: 24.9%\n",
      "Percent complete https://palawan-news.com/ list: 25.1%\n",
      "Percent complete https://palawan-news.com/ list: 25.3%\n",
      "Percent complete https://palawan-news.com/ list: 25.5%\n",
      "Percent complete https://palawan-news.com/ list: 25.7%\n",
      "Percent complete https://palawan-news.com/ list: 25.9%\n",
      "Percent complete https://palawan-news.com/ list: 26.2%\n",
      "Percent complete https://palawan-news.com/ list: 26.4%\n",
      "Percent complete https://palawan-news.com/ list: 26.6%\n",
      "Percent complete https://palawan-news.com/ list: 26.8%\n",
      "Percent complete https://palawan-news.com/ list: 27.0%\n",
      "Percent complete https://palawan-news.com/ list: 27.2%\n",
      "Percent complete https://palawan-news.com/ list: 27.4%\n",
      "Percent complete https://palawan-news.com/ list: 27.6%\n",
      "Percent complete https://palawan-news.com/ list: 27.8%\n",
      "Percent complete https://palawan-news.com/ list: 28.1%\n",
      "Percent complete https://palawan-news.com/ list: 28.3%\n",
      "Percent complete https://palawan-news.com/ list: 28.5%\n",
      "Percent complete https://palawan-news.com/ list: 28.7%\n",
      "Percent complete https://palawan-news.com/ list: 28.9%\n",
      "Percent complete https://palawan-news.com/ list: 29.1%\n",
      "Percent complete https://palawan-news.com/ list: 29.3%\n",
      "Percent complete https://palawan-news.com/ list: 29.5%\n",
      "Percent complete https://palawan-news.com/ list: 29.7%\n",
      "Percent complete https://palawan-news.com/ list: 30.0%\n",
      "Percent complete https://palawan-news.com/ list: 30.2%\n",
      "Percent complete https://palawan-news.com/ list: 30.4%\n",
      "Percent complete https://palawan-news.com/ list: 30.6%\n",
      "Percent complete https://palawan-news.com/ list: 30.8%\n",
      "Percent complete https://palawan-news.com/ list: 31.0%\n",
      "Percent complete https://palawan-news.com/ list: 31.2%\n",
      "Percent complete https://palawan-news.com/ list: 31.4%\n",
      "Percent complete https://palawan-news.com/ list: 31.6%\n",
      "Percent complete https://palawan-news.com/ list: 31.9%\n",
      "Percent complete https://palawan-news.com/ list: 32.1%\n",
      "Percent complete https://palawan-news.com/ list: 32.3%\n",
      "Percent complete https://palawan-news.com/ list: 32.5%\n",
      "Percent complete https://palawan-news.com/ list: 32.7%\n",
      "Percent complete https://palawan-news.com/ list: 32.9%\n",
      "Percent complete https://palawan-news.com/ list: 33.1%\n",
      "Percent complete https://palawan-news.com/ list: 33.3%\n",
      "Percent complete https://palawan-news.com/ list: 33.5%\n",
      "Percent complete https://palawan-news.com/ list: 33.8%\n",
      "Percent complete https://palawan-news.com/ list: 34.0%\n",
      "Percent complete https://palawan-news.com/ list: 34.2%\n",
      "Percent complete https://palawan-news.com/ list: 34.4%\n",
      "Percent complete https://palawan-news.com/ list: 34.6%\n",
      "Percent complete https://palawan-news.com/ list: 34.8%\n",
      "Percent complete https://palawan-news.com/ list: 35.0%\n",
      "Percent complete https://palawan-news.com/ list: 35.2%\n",
      "Percent complete https://palawan-news.com/ list: 35.4%\n",
      "Percent complete https://palawan-news.com/ list: 35.7%\n",
      "Percent complete https://palawan-news.com/ list: 35.9%\n",
      "Percent complete https://palawan-news.com/ list: 36.1%\n",
      "Percent complete https://palawan-news.com/ list: 36.3%\n",
      "Percent complete https://palawan-news.com/ list: 36.5%\n",
      "Percent complete https://palawan-news.com/ list: 36.7%\n",
      "Percent complete https://palawan-news.com/ list: 36.9%\n",
      "Percent complete https://palawan-news.com/ list: 37.1%\n",
      "Percent complete https://palawan-news.com/ list: 37.3%\n",
      "Percent complete https://palawan-news.com/ list: 37.6%\n",
      "Percent complete https://palawan-news.com/ list: 37.8%\n",
      "Percent complete https://palawan-news.com/ list: 38.0%\n",
      "Percent complete https://palawan-news.com/ list: 38.2%\n",
      "Percent complete https://palawan-news.com/ list: 38.4%\n",
      "Percent complete https://palawan-news.com/ list: 38.6%\n",
      "Percent complete https://palawan-news.com/ list: 38.8%\n",
      "Percent complete https://palawan-news.com/ list: 39.0%\n",
      "Percent complete https://palawan-news.com/ list: 39.2%\n",
      "Percent complete https://palawan-news.com/ list: 39.5%\n",
      "Percent complete https://palawan-news.com/ list: 39.7%\n",
      "Percent complete https://palawan-news.com/ list: 39.9%\n",
      "Percent complete https://palawan-news.com/ list: 40.1%\n",
      "Percent complete https://palawan-news.com/ list: 40.3%\n",
      "Percent complete https://palawan-news.com/ list: 40.5%\n",
      "Percent complete https://palawan-news.com/ list: 40.7%\n",
      "Percent complete https://palawan-news.com/ list: 40.9%\n",
      "Percent complete https://palawan-news.com/ list: 41.1%\n",
      "Percent complete https://palawan-news.com/ list: 41.4%\n",
      "Percent complete https://palawan-news.com/ list: 41.6%\n",
      "Percent complete https://palawan-news.com/ list: 41.8%\n",
      "Percent complete https://palawan-news.com/ list: 42.0%\n",
      "Percent complete https://palawan-news.com/ list: 42.2%\n",
      "Percent complete https://palawan-news.com/ list: 42.4%\n",
      "Percent complete https://palawan-news.com/ list: 42.6%\n",
      "Percent complete https://palawan-news.com/ list: 42.8%\n",
      "Percent complete https://palawan-news.com/ list: 43.0%\n",
      "Percent complete https://palawan-news.com/ list: 43.2%\n",
      "Percent complete https://palawan-news.com/ list: 43.5%\n",
      "Percent complete https://palawan-news.com/ list: 43.7%\n",
      "Percent complete https://palawan-news.com/ list: 43.9%\n",
      "Percent complete https://palawan-news.com/ list: 44.1%\n",
      "Percent complete https://palawan-news.com/ list: 44.3%\n",
      "Percent complete https://palawan-news.com/ list: 44.5%\n",
      "Percent complete https://palawan-news.com/ list: 44.7%\n",
      "Percent complete https://palawan-news.com/ list: 44.9%\n",
      "Percent complete https://palawan-news.com/ list: 45.1%\n",
      "Percent complete https://palawan-news.com/ list: 45.4%\n",
      "Percent complete https://palawan-news.com/ list: 45.6%\n",
      "Percent complete https://palawan-news.com/ list: 45.8%\n",
      "Percent complete https://palawan-news.com/ list: 46.0%\n",
      "Percent complete https://palawan-news.com/ list: 46.2%\n",
      "Percent complete https://palawan-news.com/ list: 46.4%\n",
      "Percent complete https://palawan-news.com/ list: 46.6%\n",
      "Percent complete https://palawan-news.com/ list: 46.8%\n",
      "Percent complete https://palawan-news.com/ list: 47.0%\n",
      "Percent complete https://palawan-news.com/ list: 47.3%\n",
      "Percent complete https://palawan-news.com/ list: 47.5%\n",
      "Percent complete https://palawan-news.com/ list: 47.7%\n",
      "Percent complete https://palawan-news.com/ list: 47.9%\n",
      "Percent complete https://palawan-news.com/ list: 48.1%\n",
      "Percent complete https://palawan-news.com/ list: 48.3%\n",
      "Percent complete https://palawan-news.com/ list: 48.5%\n",
      "Percent complete https://palawan-news.com/ list: 48.7%\n",
      "Percent complete https://palawan-news.com/ list: 48.9%\n",
      "Percent complete https://palawan-news.com/ list: 49.2%\n",
      "Percent complete https://palawan-news.com/ list: 49.4%\n",
      "Percent complete https://palawan-news.com/ list: 49.6%\n",
      "Percent complete https://palawan-news.com/ list: 49.8%\n",
      "Percent complete https://palawan-news.com/ list: 50.0%\n",
      "Percent complete https://palawan-news.com/ list: 50.2%\n",
      "Percent complete https://palawan-news.com/ list: 50.4%\n",
      "Percent complete https://palawan-news.com/ list: 50.6%\n",
      "Percent complete https://palawan-news.com/ list: 50.8%\n",
      "Percent complete https://palawan-news.com/ list: 51.1%\n",
      "Percent complete https://palawan-news.com/ list: 51.3%\n",
      "Percent complete https://palawan-news.com/ list: 51.5%\n",
      "Percent complete https://palawan-news.com/ list: 51.7%\n",
      "Percent complete https://palawan-news.com/ list: 51.9%\n",
      "Percent complete https://palawan-news.com/ list: 52.1%\n",
      "Percent complete https://palawan-news.com/ list: 52.3%\n",
      "Percent complete https://palawan-news.com/ list: 52.5%\n",
      "Percent complete https://palawan-news.com/ list: 52.7%\n",
      "Percent complete https://palawan-news.com/ list: 53.0%\n",
      "Percent complete https://palawan-news.com/ list: 53.2%\n",
      "Percent complete https://palawan-news.com/ list: 53.4%\n",
      "Percent complete https://palawan-news.com/ list: 53.6%\n",
      "Percent complete https://palawan-news.com/ list: 53.8%\n",
      "Percent complete https://palawan-news.com/ list: 54.0%\n",
      "Percent complete https://palawan-news.com/ list: 54.2%\n",
      "Percent complete https://palawan-news.com/ list: 54.4%\n",
      "Percent complete https://palawan-news.com/ list: 54.6%\n",
      "Percent complete https://palawan-news.com/ list: 54.9%\n",
      "Percent complete https://palawan-news.com/ list: 55.1%\n",
      "Percent complete https://palawan-news.com/ list: 55.3%\n",
      "Percent complete https://palawan-news.com/ list: 55.5%\n",
      "Percent complete https://palawan-news.com/ list: 55.7%\n",
      "Percent complete https://palawan-news.com/ list: 55.9%\n",
      "Percent complete https://palawan-news.com/ list: 56.1%\n",
      "Percent complete https://palawan-news.com/ list: 56.3%\n",
      "Percent complete https://palawan-news.com/ list: 56.5%\n",
      "Percent complete https://palawan-news.com/ list: 56.8%\n",
      "Percent complete https://palawan-news.com/ list: 57.0%\n",
      "Percent complete https://palawan-news.com/ list: 57.2%\n",
      "Percent complete https://palawan-news.com/ list: 57.4%\n",
      "Percent complete https://palawan-news.com/ list: 57.6%\n",
      "Percent complete https://palawan-news.com/ list: 57.8%\n",
      "Percent complete https://palawan-news.com/ list: 58.0%\n",
      "Percent complete https://palawan-news.com/ list: 58.2%\n",
      "Percent complete https://palawan-news.com/ list: 58.4%\n",
      "Percent complete https://palawan-news.com/ list: 58.6%\n",
      "Percent complete https://palawan-news.com/ list: 58.9%\n",
      "Percent complete https://palawan-news.com/ list: 59.1%\n",
      "Percent complete https://palawan-news.com/ list: 59.3%\n",
      "Percent complete https://palawan-news.com/ list: 59.5%\n",
      "Percent complete https://palawan-news.com/ list: 59.7%\n",
      "Percent complete https://palawan-news.com/ list: 59.9%\n",
      "Percent complete https://palawan-news.com/ list: 60.1%\n",
      "Percent complete https://palawan-news.com/ list: 60.3%\n",
      "Percent complete https://palawan-news.com/ list: 60.5%\n",
      "Percent complete https://palawan-news.com/ list: 60.8%\n",
      "Percent complete https://palawan-news.com/ list: 61.0%\n",
      "Percent complete https://palawan-news.com/ list: 61.2%\n",
      "Percent complete https://palawan-news.com/ list: 61.4%\n",
      "Percent complete https://palawan-news.com/ list: 61.6%\n",
      "Percent complete https://palawan-news.com/ list: 61.8%\n",
      "Percent complete https://palawan-news.com/ list: 62.0%\n",
      "Percent complete https://palawan-news.com/ list: 62.2%\n",
      "Percent complete https://palawan-news.com/ list: 62.4%\n",
      "Percent complete https://palawan-news.com/ list: 62.7%\n",
      "Percent complete https://palawan-news.com/ list: 62.9%\n",
      "Percent complete https://palawan-news.com/ list: 63.1%\n",
      "Percent complete https://palawan-news.com/ list: 63.3%\n",
      "Percent complete https://palawan-news.com/ list: 63.5%\n",
      "Percent complete https://palawan-news.com/ list: 63.7%\n",
      "Percent complete https://palawan-news.com/ list: 63.9%\n",
      "Percent complete https://palawan-news.com/ list: 64.1%\n",
      "Percent complete https://palawan-news.com/ list: 64.3%\n",
      "Percent complete https://palawan-news.com/ list: 64.6%\n",
      "Percent complete https://palawan-news.com/ list: 64.8%\n",
      "Percent complete https://palawan-news.com/ list: 65.0%\n",
      "Percent complete https://palawan-news.com/ list: 65.2%\n",
      "Percent complete https://palawan-news.com/ list: 65.4%\n",
      "Percent complete https://palawan-news.com/ list: 65.6%\n",
      "Percent complete https://palawan-news.com/ list: 65.8%\n",
      "Percent complete https://palawan-news.com/ list: 66.0%\n",
      "Percent complete https://palawan-news.com/ list: 66.2%\n",
      "Percent complete https://palawan-news.com/ list: 66.5%\n",
      "Percent complete https://palawan-news.com/ list: 66.7%\n",
      "Percent complete https://palawan-news.com/ list: 66.9%\n",
      "Percent complete https://palawan-news.com/ list: 67.1%\n",
      "Percent complete https://palawan-news.com/ list: 67.3%\n",
      "Percent complete https://palawan-news.com/ list: 67.5%\n",
      "Percent complete https://palawan-news.com/ list: 67.7%\n",
      "Percent complete https://palawan-news.com/ list: 67.9%\n",
      "Percent complete https://palawan-news.com/ list: 68.1%\n",
      "Percent complete https://palawan-news.com/ list: 68.4%\n",
      "Percent complete https://palawan-news.com/ list: 68.6%\n",
      "Percent complete https://palawan-news.com/ list: 68.8%\n",
      "Percent complete https://palawan-news.com/ list: 69.0%\n",
      "Percent complete https://palawan-news.com/ list: 69.2%\n",
      "Percent complete https://palawan-news.com/ list: 69.4%\n",
      "Percent complete https://palawan-news.com/ list: 69.6%\n",
      "Percent complete https://palawan-news.com/ list: 69.8%\n",
      "Percent complete https://palawan-news.com/ list: 70.0%\n",
      "Percent complete https://palawan-news.com/ list: 70.3%\n",
      "Percent complete https://palawan-news.com/ list: 70.5%\n",
      "Percent complete https://palawan-news.com/ list: 70.7%\n",
      "Percent complete https://palawan-news.com/ list: 70.9%\n",
      "Percent complete https://palawan-news.com/ list: 71.1%\n",
      "Percent complete https://palawan-news.com/ list: 71.3%\n",
      "Percent complete https://palawan-news.com/ list: 71.5%\n",
      "Percent complete https://palawan-news.com/ list: 71.7%\n",
      "Percent complete https://palawan-news.com/ list: 71.9%\n",
      "Percent complete https://palawan-news.com/ list: 72.2%\n",
      "Percent complete https://palawan-news.com/ list: 72.4%\n",
      "Percent complete https://palawan-news.com/ list: 72.6%\n",
      "Percent complete https://palawan-news.com/ list: 72.8%\n",
      "Percent complete https://palawan-news.com/ list: 73.0%\n",
      "Percent complete https://palawan-news.com/ list: 73.2%\n",
      "Percent complete https://palawan-news.com/ list: 73.4%\n",
      "Percent complete https://palawan-news.com/ list: 73.6%\n",
      "Percent complete https://palawan-news.com/ list: 73.8%\n",
      "Percent complete https://palawan-news.com/ list: 74.1%\n",
      "Percent complete https://palawan-news.com/ list: 74.3%\n",
      "Percent complete https://palawan-news.com/ list: 74.5%\n",
      "Percent complete https://palawan-news.com/ list: 74.7%\n",
      "Percent complete https://palawan-news.com/ list: 74.9%\n",
      "Percent complete https://palawan-news.com/ list: 75.1%\n",
      "Percent complete https://palawan-news.com/ list: 75.3%\n",
      "Percent complete https://palawan-news.com/ list: 75.5%\n",
      "Percent complete https://palawan-news.com/ list: 75.7%\n",
      "Percent complete https://palawan-news.com/ list: 75.9%\n",
      "Percent complete https://palawan-news.com/ list: 76.2%\n",
      "Percent complete https://palawan-news.com/ list: 76.4%\n",
      "Percent complete https://palawan-news.com/ list: 76.6%\n",
      "Percent complete https://palawan-news.com/ list: 76.8%\n",
      "Percent complete https://palawan-news.com/ list: 77.0%\n",
      "Percent complete https://palawan-news.com/ list: 77.2%\n",
      "Percent complete https://palawan-news.com/ list: 77.4%\n",
      "Percent complete https://palawan-news.com/ list: 77.6%\n",
      "Percent complete https://palawan-news.com/ list: 77.8%\n",
      "Percent complete https://palawan-news.com/ list: 78.1%\n",
      "Percent complete https://palawan-news.com/ list: 78.3%\n",
      "Percent complete https://palawan-news.com/ list: 78.5%\n",
      "Percent complete https://palawan-news.com/ list: 78.7%\n",
      "Percent complete https://palawan-news.com/ list: 78.9%\n",
      "Percent complete https://palawan-news.com/ list: 79.1%\n",
      "Percent complete https://palawan-news.com/ list: 79.3%\n",
      "Percent complete https://palawan-news.com/ list: 79.5%\n",
      "Percent complete https://palawan-news.com/ list: 79.7%\n",
      "Percent complete https://palawan-news.com/ list: 80.0%\n",
      "Percent complete https://palawan-news.com/ list: 80.2%\n",
      "Percent complete https://palawan-news.com/ list: 80.4%\n",
      "Percent complete https://palawan-news.com/ list: 80.6%\n",
      "Percent complete https://palawan-news.com/ list: 80.8%\n",
      "Percent complete https://palawan-news.com/ list: 81.0%\n",
      "Percent complete https://palawan-news.com/ list: 81.2%\n",
      "Percent complete https://palawan-news.com/ list: 81.4%\n",
      "Percent complete https://palawan-news.com/ list: 81.6%\n",
      "Percent complete https://palawan-news.com/ list: 81.9%\n",
      "Percent complete https://palawan-news.com/ list: 82.1%\n",
      "Percent complete https://palawan-news.com/ list: 82.3%\n",
      "Percent complete https://palawan-news.com/ list: 82.5%\n",
      "Percent complete https://palawan-news.com/ list: 82.7%\n",
      "Percent complete https://palawan-news.com/ list: 82.9%\n",
      "Percent complete https://palawan-news.com/ list: 83.1%\n",
      "Percent complete https://palawan-news.com/ list: 83.3%\n",
      "Percent complete https://palawan-news.com/ list: 83.5%\n",
      "Percent complete https://palawan-news.com/ list: 83.8%\n",
      "Percent complete https://palawan-news.com/ list: 84.0%\n",
      "Percent complete https://palawan-news.com/ list: 84.2%\n",
      "Percent complete https://palawan-news.com/ list: 84.4%\n",
      "Percent complete https://palawan-news.com/ list: 84.6%\n",
      "Percent complete https://palawan-news.com/ list: 84.8%\n",
      "Percent complete https://palawan-news.com/ list: 85.0%\n",
      "Percent complete https://palawan-news.com/ list: 85.2%\n",
      "Percent complete https://palawan-news.com/ list: 85.4%\n",
      "Percent complete https://palawan-news.com/ list: 85.7%\n",
      "Percent complete https://palawan-news.com/ list: 85.9%\n",
      "Percent complete https://palawan-news.com/ list: 86.1%\n",
      "Percent complete https://palawan-news.com/ list: 86.3%\n",
      "Percent complete https://palawan-news.com/ list: 86.5%\n",
      "Percent complete https://palawan-news.com/ list: 86.7%\n",
      "Percent complete https://palawan-news.com/ list: 86.9%\n",
      "Percent complete https://palawan-news.com/ list: 87.1%\n",
      "Percent complete https://palawan-news.com/ list: 87.3%\n",
      "Percent complete https://palawan-news.com/ list: 87.6%\n",
      "Percent complete https://palawan-news.com/ list: 87.8%\n",
      "Percent complete https://palawan-news.com/ list: 88.0%\n",
      "Percent complete https://palawan-news.com/ list: 88.2%\n",
      "Percent complete https://palawan-news.com/ list: 88.4%\n",
      "Percent complete https://palawan-news.com/ list: 88.6%\n",
      "Percent complete https://palawan-news.com/ list: 88.8%\n",
      "Percent complete https://palawan-news.com/ list: 89.0%\n",
      "Percent complete https://palawan-news.com/ list: 89.2%\n",
      "Percent complete https://palawan-news.com/ list: 89.5%\n",
      "Percent complete https://palawan-news.com/ list: 89.7%\n",
      "Percent complete https://palawan-news.com/ list: 89.9%\n",
      "Percent complete https://palawan-news.com/ list: 90.1%\n",
      "Percent complete https://palawan-news.com/ list: 90.3%\n",
      "Percent complete https://palawan-news.com/ list: 90.5%\n",
      "Percent complete https://palawan-news.com/ list: 90.7%\n",
      "Percent complete https://palawan-news.com/ list: 90.9%\n",
      "Percent complete https://palawan-news.com/ list: 91.1%\n",
      "Percent complete https://palawan-news.com/ list: 91.4%\n",
      "Percent complete https://palawan-news.com/ list: 91.6%\n",
      "Percent complete https://palawan-news.com/ list: 91.8%\n",
      "Percent complete https://palawan-news.com/ list: 92.0%\n",
      "Percent complete https://palawan-news.com/ list: 92.2%\n",
      "Percent complete https://palawan-news.com/ list: 92.4%\n",
      "Percent complete https://palawan-news.com/ list: 92.6%\n",
      "Percent complete https://palawan-news.com/ list: 92.8%\n",
      "Percent complete https://palawan-news.com/ list: 93.0%\n",
      "Percent complete https://palawan-news.com/ list: 93.2%\n",
      "Percent complete https://palawan-news.com/ list: 93.5%\n",
      "Percent complete https://palawan-news.com/ list: 93.7%\n",
      "Percent complete https://palawan-news.com/ list: 93.9%\n",
      "Percent complete https://palawan-news.com/ list: 94.1%\n",
      "Percent complete https://palawan-news.com/ list: 94.3%\n",
      "Percent complete https://palawan-news.com/ list: 94.5%\n",
      "Percent complete https://palawan-news.com/ list: 94.7%\n",
      "Percent complete https://palawan-news.com/ list: 94.9%\n",
      "Percent complete https://palawan-news.com/ list: 95.1%\n",
      "Percent complete https://palawan-news.com/ list: 95.4%\n",
      "Percent complete https://palawan-news.com/ list: 95.6%\n",
      "Percent complete https://palawan-news.com/ list: 95.8%\n",
      "Percent complete https://palawan-news.com/ list: 96.0%\n",
      "Percent complete https://palawan-news.com/ list: 96.2%\n",
      "Percent complete https://palawan-news.com/ list: 96.4%\n",
      "Percent complete https://palawan-news.com/ list: 96.6%\n",
      "Percent complete https://palawan-news.com/ list: 96.8%\n",
      "Percent complete https://palawan-news.com/ list: 97.0%\n",
      "Percent complete https://palawan-news.com/ list: 97.3%\n",
      "Percent complete https://palawan-news.com/ list: 97.5%\n",
      "Percent complete https://palawan-news.com/ list: 97.7%\n",
      "Percent complete https://palawan-news.com/ list: 97.9%\n",
      "Percent complete https://palawan-news.com/ list: 98.1%\n",
      "Percent complete https://palawan-news.com/ list: 98.3%\n",
      "Percent complete https://palawan-news.com/ list: 98.5%\n",
      "Percent complete https://palawan-news.com/ list: 98.7%\n",
      "Percent complete https://palawan-news.com/ list: 98.9%\n",
      "Percent complete https://palawan-news.com/ list: 99.2%\n",
      "Percent complete https://palawan-news.com/ list: 99.4%\n",
      "Percent complete https://palawan-news.com/ list: 99.6%\n",
      "Percent complete https://palawan-news.com/ list: 99.8%\n",
      "Percent complete https://palawan-news.com/ list: 100.0%\n",
      "Percent complete all sources list: 60.0%\n"
     ]
    },
    {
     "name": "stdout",
     "output_type": "stream",
     "text": [
      "Percent complete https://philnews.ph/ list: 0.4%\n",
      "Percent complete https://philnews.ph/ list: 0.7%\n",
      "Percent complete https://philnews.ph/ list: 1.1%\n",
      "Percent complete https://philnews.ph/ list: 1.4%\n",
      "Percent complete https://philnews.ph/ list: 1.8%\n",
      "Percent complete https://philnews.ph/ list: 2.1%\n",
      "Percent complete https://philnews.ph/ list: 2.5%\n",
      "Percent complete https://philnews.ph/ list: 2.8%\n",
      "Percent complete https://philnews.ph/ list: 3.2%\n",
      "Percent complete https://philnews.ph/ list: 3.5%\n",
      "Percent complete https://philnews.ph/ list: 3.9%\n",
      "Percent complete https://philnews.ph/ list: 4.2%\n",
      "Percent complete https://philnews.ph/ list: 4.6%\n",
      "Percent complete https://philnews.ph/ list: 4.9%\n",
      "Percent complete https://philnews.ph/ list: 5.3%\n",
      "Percent complete https://philnews.ph/ list: 5.6%\n",
      "Percent complete https://philnews.ph/ list: 6.0%\n",
      "Percent complete https://philnews.ph/ list: 6.3%\n",
      "Percent complete https://philnews.ph/ list: 6.7%\n",
      "Percent complete https://philnews.ph/ list: 7.0%\n",
      "Percent complete https://philnews.ph/ list: 7.4%\n",
      "Percent complete https://philnews.ph/ list: 7.7%\n",
      "Percent complete https://philnews.ph/ list: 8.1%\n",
      "Percent complete https://philnews.ph/ list: 8.4%\n",
      "Percent complete https://philnews.ph/ list: 8.8%\n",
      "Percent complete https://philnews.ph/ list: 9.1%\n",
      "Percent complete https://philnews.ph/ list: 9.5%\n",
      "Percent complete https://philnews.ph/ list: 9.8%\n",
      "Percent complete https://philnews.ph/ list: 10.2%\n",
      "Percent complete https://philnews.ph/ list: 10.5%\n",
      "Percent complete https://philnews.ph/ list: 10.9%\n",
      "Percent complete https://philnews.ph/ list: 11.2%\n",
      "Percent complete https://philnews.ph/ list: 11.6%\n",
      "Percent complete https://philnews.ph/ list: 11.9%\n",
      "Percent complete https://philnews.ph/ list: 12.3%\n",
      "Percent complete https://philnews.ph/ list: 12.6%\n",
      "Percent complete https://philnews.ph/ list: 13.0%\n",
      "Percent complete https://philnews.ph/ list: 13.3%\n",
      "Percent complete https://philnews.ph/ list: 13.7%\n",
      "Percent complete https://philnews.ph/ list: 14.0%\n",
      "Percent complete https://philnews.ph/ list: 14.4%\n",
      "Percent complete https://philnews.ph/ list: 14.7%\n",
      "Percent complete https://philnews.ph/ list: 15.1%\n",
      "Percent complete https://philnews.ph/ list: 15.4%\n",
      "Percent complete https://philnews.ph/ list: 15.8%\n",
      "Percent complete https://philnews.ph/ list: 16.1%\n",
      "Percent complete https://philnews.ph/ list: 16.5%\n",
      "Percent complete https://philnews.ph/ list: 16.8%\n",
      "Percent complete https://philnews.ph/ list: 17.2%\n",
      "Percent complete https://philnews.ph/ list: 17.5%\n",
      "Percent complete https://philnews.ph/ list: 17.9%\n",
      "Percent complete https://philnews.ph/ list: 18.2%\n",
      "Percent complete https://philnews.ph/ list: 18.6%\n",
      "Percent complete https://philnews.ph/ list: 18.9%\n",
      "Percent complete https://philnews.ph/ list: 19.3%\n",
      "Percent complete https://philnews.ph/ list: 19.6%\n",
      "Percent complete https://philnews.ph/ list: 20.0%\n",
      "Percent complete https://philnews.ph/ list: 20.4%\n",
      "Percent complete https://philnews.ph/ list: 20.7%\n",
      "Percent complete https://philnews.ph/ list: 21.1%\n",
      "Percent complete https://philnews.ph/ list: 21.4%\n",
      "Percent complete https://philnews.ph/ list: 21.8%\n",
      "Percent complete https://philnews.ph/ list: 22.1%\n",
      "Percent complete https://philnews.ph/ list: 22.5%\n",
      "Percent complete https://philnews.ph/ list: 22.8%\n",
      "Percent complete https://philnews.ph/ list: 23.2%\n",
      "Percent complete https://philnews.ph/ list: 23.5%\n",
      "Percent complete https://philnews.ph/ list: 23.9%\n",
      "Percent complete https://philnews.ph/ list: 24.2%\n",
      "Percent complete https://philnews.ph/ list: 24.6%\n",
      "Percent complete https://philnews.ph/ list: 24.9%\n",
      "Percent complete https://philnews.ph/ list: 25.3%\n",
      "Percent complete https://philnews.ph/ list: 25.6%\n",
      "Percent complete https://philnews.ph/ list: 26.0%\n",
      "Percent complete https://philnews.ph/ list: 26.3%\n",
      "Percent complete https://philnews.ph/ list: 26.7%\n",
      "Percent complete https://philnews.ph/ list: 27.0%\n",
      "Percent complete https://philnews.ph/ list: 27.4%\n",
      "Percent complete https://philnews.ph/ list: 27.7%\n",
      "Percent complete https://philnews.ph/ list: 28.1%\n",
      "Percent complete https://philnews.ph/ list: 28.4%\n",
      "Percent complete https://philnews.ph/ list: 28.8%\n",
      "Percent complete https://philnews.ph/ list: 29.1%\n",
      "Percent complete https://philnews.ph/ list: 29.5%\n",
      "Percent complete https://philnews.ph/ list: 29.8%\n",
      "Percent complete https://philnews.ph/ list: 30.2%\n",
      "Percent complete https://philnews.ph/ list: 30.5%\n",
      "Percent complete https://philnews.ph/ list: 30.9%\n",
      "Percent complete https://philnews.ph/ list: 31.2%\n",
      "Percent complete https://philnews.ph/ list: 31.6%\n",
      "Percent complete https://philnews.ph/ list: 31.9%\n",
      "Percent complete https://philnews.ph/ list: 32.3%\n",
      "Percent complete https://philnews.ph/ list: 32.6%\n",
      "Percent complete https://philnews.ph/ list: 33.0%\n",
      "Percent complete https://philnews.ph/ list: 33.3%\n",
      "Percent complete https://philnews.ph/ list: 33.7%\n",
      "Percent complete https://philnews.ph/ list: 34.0%\n",
      "Percent complete https://philnews.ph/ list: 34.4%\n",
      "Percent complete https://philnews.ph/ list: 34.7%\n",
      "Percent complete https://philnews.ph/ list: 35.1%\n",
      "Percent complete https://philnews.ph/ list: 35.4%\n",
      "Percent complete https://philnews.ph/ list: 35.8%\n",
      "Percent complete https://philnews.ph/ list: 36.1%\n",
      "Percent complete https://philnews.ph/ list: 36.5%\n",
      "Percent complete https://philnews.ph/ list: 36.8%\n",
      "Percent complete https://philnews.ph/ list: 37.2%\n",
      "Percent complete https://philnews.ph/ list: 37.5%\n",
      "Percent complete https://philnews.ph/ list: 37.9%\n",
      "Percent complete https://philnews.ph/ list: 38.2%\n",
      "Percent complete https://philnews.ph/ list: 38.6%\n",
      "Percent complete https://philnews.ph/ list: 38.9%\n",
      "Percent complete https://philnews.ph/ list: 39.3%\n",
      "Percent complete https://philnews.ph/ list: 39.6%\n",
      "Percent complete https://philnews.ph/ list: 40.0%\n",
      "Percent complete https://philnews.ph/ list: 40.4%\n",
      "Percent complete https://philnews.ph/ list: 40.7%\n",
      "Percent complete https://philnews.ph/ list: 41.1%\n",
      "Percent complete https://philnews.ph/ list: 41.4%\n",
      "Percent complete https://philnews.ph/ list: 41.8%\n",
      "Percent complete https://philnews.ph/ list: 42.1%\n",
      "Percent complete https://philnews.ph/ list: 42.5%\n",
      "Percent complete https://philnews.ph/ list: 42.8%\n",
      "Percent complete https://philnews.ph/ list: 43.2%\n",
      "Percent complete https://philnews.ph/ list: 43.5%\n",
      "Percent complete https://philnews.ph/ list: 43.9%\n",
      "Percent complete https://philnews.ph/ list: 44.2%\n",
      "Percent complete https://philnews.ph/ list: 44.6%\n",
      "Percent complete https://philnews.ph/ list: 44.9%\n",
      "Percent complete https://philnews.ph/ list: 45.3%\n",
      "Percent complete https://philnews.ph/ list: 45.6%\n",
      "Percent complete https://philnews.ph/ list: 46.0%\n",
      "Percent complete https://philnews.ph/ list: 46.3%\n",
      "Percent complete https://philnews.ph/ list: 46.7%\n",
      "Percent complete https://philnews.ph/ list: 47.0%\n",
      "Percent complete https://philnews.ph/ list: 47.4%\n",
      "Percent complete https://philnews.ph/ list: 47.7%\n",
      "Percent complete https://philnews.ph/ list: 48.1%\n",
      "Percent complete https://philnews.ph/ list: 48.4%\n",
      "Percent complete https://philnews.ph/ list: 48.8%\n",
      "Percent complete https://philnews.ph/ list: 49.1%\n",
      "Percent complete https://philnews.ph/ list: 49.5%\n",
      "Percent complete https://philnews.ph/ list: 49.8%\n",
      "Percent complete https://philnews.ph/ list: 50.2%\n",
      "Percent complete https://philnews.ph/ list: 50.5%\n",
      "Percent complete https://philnews.ph/ list: 50.9%\n",
      "Percent complete https://philnews.ph/ list: 51.2%\n",
      "Percent complete https://philnews.ph/ list: 51.6%\n",
      "Percent complete https://philnews.ph/ list: 51.9%\n",
      "Percent complete https://philnews.ph/ list: 52.3%\n",
      "Percent complete https://philnews.ph/ list: 52.6%\n",
      "Percent complete https://philnews.ph/ list: 53.0%\n",
      "Percent complete https://philnews.ph/ list: 53.3%\n",
      "Percent complete https://philnews.ph/ list: 53.7%\n",
      "Percent complete https://philnews.ph/ list: 54.0%\n",
      "Percent complete https://philnews.ph/ list: 54.4%\n",
      "Percent complete https://philnews.ph/ list: 54.7%\n",
      "Percent complete https://philnews.ph/ list: 55.1%\n",
      "Percent complete https://philnews.ph/ list: 55.4%\n",
      "Percent complete https://philnews.ph/ list: 55.8%\n",
      "Percent complete https://philnews.ph/ list: 56.1%\n",
      "Percent complete https://philnews.ph/ list: 56.5%\n",
      "Percent complete https://philnews.ph/ list: 56.8%\n",
      "Percent complete https://philnews.ph/ list: 57.2%\n",
      "Percent complete https://philnews.ph/ list: 57.5%\n",
      "Percent complete https://philnews.ph/ list: 57.9%\n",
      "Percent complete https://philnews.ph/ list: 58.2%\n",
      "Percent complete https://philnews.ph/ list: 58.6%\n",
      "Percent complete https://philnews.ph/ list: 58.9%\n",
      "Percent complete https://philnews.ph/ list: 59.3%\n",
      "Percent complete https://philnews.ph/ list: 59.6%\n",
      "Percent complete https://philnews.ph/ list: 60.0%\n",
      "Percent complete https://philnews.ph/ list: 60.4%\n",
      "Percent complete https://philnews.ph/ list: 60.7%\n",
      "Percent complete https://philnews.ph/ list: 61.1%\n",
      "Percent complete https://philnews.ph/ list: 61.4%\n",
      "Percent complete https://philnews.ph/ list: 61.8%\n",
      "Percent complete https://philnews.ph/ list: 62.1%\n",
      "Percent complete https://philnews.ph/ list: 62.5%\n",
      "Percent complete https://philnews.ph/ list: 62.8%\n",
      "Percent complete https://philnews.ph/ list: 63.2%\n",
      "Percent complete https://philnews.ph/ list: 63.5%\n",
      "Percent complete https://philnews.ph/ list: 63.9%\n",
      "Percent complete https://philnews.ph/ list: 64.2%\n",
      "Percent complete https://philnews.ph/ list: 64.6%\n",
      "Percent complete https://philnews.ph/ list: 64.9%\n",
      "Percent complete https://philnews.ph/ list: 65.3%\n",
      "Percent complete https://philnews.ph/ list: 65.6%\n",
      "Percent complete https://philnews.ph/ list: 66.0%\n",
      "Percent complete https://philnews.ph/ list: 66.3%\n",
      "Percent complete https://philnews.ph/ list: 66.7%\n",
      "Percent complete https://philnews.ph/ list: 67.0%\n",
      "Percent complete https://philnews.ph/ list: 67.4%\n",
      "Percent complete https://philnews.ph/ list: 67.7%\n",
      "Percent complete https://philnews.ph/ list: 68.1%\n",
      "Percent complete https://philnews.ph/ list: 68.4%\n",
      "Percent complete https://philnews.ph/ list: 68.8%\n",
      "Percent complete https://philnews.ph/ list: 69.1%\n",
      "Percent complete https://philnews.ph/ list: 69.5%\n",
      "Percent complete https://philnews.ph/ list: 69.8%\n",
      "Percent complete https://philnews.ph/ list: 70.2%\n",
      "Percent complete https://philnews.ph/ list: 70.5%\n",
      "Percent complete https://philnews.ph/ list: 70.9%\n",
      "Percent complete https://philnews.ph/ list: 71.2%\n",
      "Percent complete https://philnews.ph/ list: 71.6%\n",
      "Percent complete https://philnews.ph/ list: 71.9%\n",
      "Percent complete https://philnews.ph/ list: 72.3%\n",
      "Percent complete https://philnews.ph/ list: 72.6%\n",
      "Percent complete https://philnews.ph/ list: 73.0%\n",
      "Percent complete https://philnews.ph/ list: 73.3%\n",
      "Percent complete https://philnews.ph/ list: 73.7%\n",
      "Percent complete https://philnews.ph/ list: 74.0%\n",
      "Percent complete https://philnews.ph/ list: 74.4%\n",
      "Percent complete https://philnews.ph/ list: 74.7%\n",
      "Percent complete https://philnews.ph/ list: 75.1%\n",
      "Percent complete https://philnews.ph/ list: 75.4%\n",
      "Percent complete https://philnews.ph/ list: 75.8%\n",
      "Percent complete https://philnews.ph/ list: 76.1%\n",
      "Percent complete https://philnews.ph/ list: 76.5%\n",
      "Percent complete https://philnews.ph/ list: 76.8%\n",
      "Percent complete https://philnews.ph/ list: 77.2%\n",
      "Percent complete https://philnews.ph/ list: 77.5%\n",
      "Percent complete https://philnews.ph/ list: 77.9%\n",
      "Percent complete https://philnews.ph/ list: 78.2%\n",
      "Percent complete https://philnews.ph/ list: 78.6%\n",
      "Percent complete https://philnews.ph/ list: 78.9%\n",
      "Percent complete https://philnews.ph/ list: 79.3%\n",
      "Percent complete https://philnews.ph/ list: 79.6%\n",
      "Percent complete https://philnews.ph/ list: 80.0%\n",
      "Percent complete https://philnews.ph/ list: 80.4%\n",
      "Percent complete https://philnews.ph/ list: 80.7%\n",
      "Percent complete https://philnews.ph/ list: 81.1%\n",
      "Percent complete https://philnews.ph/ list: 81.4%\n",
      "Percent complete https://philnews.ph/ list: 81.8%\n",
      "Percent complete https://philnews.ph/ list: 82.1%\n",
      "Percent complete https://philnews.ph/ list: 82.5%\n",
      "Percent complete https://philnews.ph/ list: 82.8%\n",
      "Percent complete https://philnews.ph/ list: 83.2%\n",
      "Percent complete https://philnews.ph/ list: 83.5%\n",
      "Percent complete https://philnews.ph/ list: 83.9%\n",
      "Percent complete https://philnews.ph/ list: 84.2%\n",
      "Percent complete https://philnews.ph/ list: 84.6%\n",
      "Percent complete https://philnews.ph/ list: 84.9%\n",
      "Percent complete https://philnews.ph/ list: 85.3%\n",
      "Percent complete https://philnews.ph/ list: 85.6%\n",
      "Percent complete https://philnews.ph/ list: 86.0%\n",
      "Percent complete https://philnews.ph/ list: 86.3%\n",
      "Percent complete https://philnews.ph/ list: 86.7%\n",
      "Percent complete https://philnews.ph/ list: 87.0%\n",
      "Percent complete https://philnews.ph/ list: 87.4%\n",
      "Percent complete https://philnews.ph/ list: 87.7%\n",
      "Percent complete https://philnews.ph/ list: 88.1%\n",
      "Percent complete https://philnews.ph/ list: 88.4%\n",
      "Percent complete https://philnews.ph/ list: 88.8%\n",
      "Percent complete https://philnews.ph/ list: 89.1%\n",
      "Percent complete https://philnews.ph/ list: 89.5%\n",
      "Percent complete https://philnews.ph/ list: 89.8%\n",
      "Percent complete https://philnews.ph/ list: 90.2%\n",
      "Percent complete https://philnews.ph/ list: 90.5%\n",
      "Percent complete https://philnews.ph/ list: 90.9%\n",
      "Percent complete https://philnews.ph/ list: 91.2%\n",
      "Percent complete https://philnews.ph/ list: 91.6%\n",
      "Percent complete https://philnews.ph/ list: 91.9%\n",
      "Percent complete https://philnews.ph/ list: 92.3%\n",
      "Percent complete https://philnews.ph/ list: 92.6%\n",
      "Percent complete https://philnews.ph/ list: 93.0%\n",
      "Percent complete https://philnews.ph/ list: 93.3%\n",
      "Percent complete https://philnews.ph/ list: 93.7%\n",
      "Percent complete https://philnews.ph/ list: 94.0%\n",
      "Percent complete https://philnews.ph/ list: 94.4%\n",
      "Percent complete https://philnews.ph/ list: 94.7%\n",
      "Percent complete https://philnews.ph/ list: 95.1%\n",
      "Percent complete https://philnews.ph/ list: 95.4%\n",
      "Percent complete https://philnews.ph/ list: 95.8%\n",
      "Percent complete https://philnews.ph/ list: 96.1%\n",
      "Percent complete https://philnews.ph/ list: 96.5%\n",
      "Percent complete https://philnews.ph/ list: 96.8%\n",
      "Percent complete https://philnews.ph/ list: 97.2%\n",
      "Percent complete https://philnews.ph/ list: 97.5%\n",
      "Percent complete https://philnews.ph/ list: 97.9%\n",
      "Percent complete https://philnews.ph/ list: 98.2%\n",
      "Percent complete https://philnews.ph/ list: 98.6%\n",
      "Percent complete https://philnews.ph/ list: 98.9%\n",
      "Percent complete https://philnews.ph/ list: 99.3%\n",
      "Percent complete https://philnews.ph/ list: 99.6%\n",
      "Percent complete https://philnews.ph/ list: 100.0%\n",
      "Percent complete all sources list: 65.0%\n"
     ]
    },
    {
     "name": "stdout",
     "output_type": "stream",
     "text": [
      "Percent complete https://www.philstar.com/ list: 0.2%\n",
      "Percent complete https://www.philstar.com/ list: 0.5%\n",
      "Percent complete https://www.philstar.com/ list: 0.7%\n",
      "Percent complete https://www.philstar.com/ list: 0.9%\n",
      "Percent complete https://www.philstar.com/ list: 1.2%\n",
      "Percent complete https://www.philstar.com/ list: 1.4%\n",
      "Percent complete https://www.philstar.com/ list: 1.7%\n",
      "Percent complete https://www.philstar.com/ list: 1.9%\n",
      "Percent complete https://www.philstar.com/ list: 2.1%\n",
      "Percent complete https://www.philstar.com/ list: 2.4%\n",
      "Percent complete https://www.philstar.com/ list: 2.6%\n",
      "Percent complete https://www.philstar.com/ list: 2.8%\n",
      "Percent complete https://www.philstar.com/ list: 3.1%\n",
      "Percent complete https://www.philstar.com/ list: 3.3%\n",
      "Percent complete https://www.philstar.com/ list: 3.6%\n",
      "Percent complete https://www.philstar.com/ list: 3.8%\n",
      "Percent complete https://www.philstar.com/ list: 4.0%\n",
      "Percent complete https://www.philstar.com/ list: 4.3%\n",
      "Percent complete https://www.philstar.com/ list: 4.5%\n",
      "Percent complete https://www.philstar.com/ list: 4.7%\n",
      "Percent complete https://www.philstar.com/ list: 5.0%\n",
      "Percent complete https://www.philstar.com/ list: 5.2%\n",
      "Percent complete https://www.philstar.com/ list: 5.5%\n",
      "Percent complete https://www.philstar.com/ list: 5.7%\n",
      "Percent complete https://www.philstar.com/ list: 5.9%\n",
      "Percent complete https://www.philstar.com/ list: 6.2%\n",
      "Percent complete https://www.philstar.com/ list: 6.4%\n",
      "Percent complete https://www.philstar.com/ list: 6.6%\n",
      "Percent complete https://www.philstar.com/ list: 6.9%\n",
      "Percent complete https://www.philstar.com/ list: 7.1%\n",
      "Percent complete https://www.philstar.com/ list: 7.3%\n",
      "Percent complete https://www.philstar.com/ list: 7.6%\n",
      "Percent complete https://www.philstar.com/ list: 7.8%\n",
      "Percent complete https://www.philstar.com/ list: 8.1%\n",
      "Percent complete https://www.philstar.com/ list: 8.3%\n",
      "Percent complete https://www.philstar.com/ list: 8.5%\n",
      "Percent complete https://www.philstar.com/ list: 8.8%\n",
      "Percent complete https://www.philstar.com/ list: 9.0%\n",
      "Percent complete https://www.philstar.com/ list: 9.2%\n",
      "Percent complete https://www.philstar.com/ list: 9.5%\n",
      "Percent complete https://www.philstar.com/ list: 9.7%\n",
      "Percent complete https://www.philstar.com/ list: 10.0%\n",
      "Percent complete https://www.philstar.com/ list: 10.2%\n",
      "Percent complete https://www.philstar.com/ list: 10.4%\n",
      "Percent complete https://www.philstar.com/ list: 10.7%\n",
      "Percent complete https://www.philstar.com/ list: 10.9%\n",
      "Percent complete https://www.philstar.com/ list: 11.1%\n",
      "Percent complete https://www.philstar.com/ list: 11.4%\n",
      "Percent complete https://www.philstar.com/ list: 11.6%\n",
      "Percent complete https://www.philstar.com/ list: 11.8%\n",
      "Percent complete https://www.philstar.com/ list: 12.1%\n",
      "Percent complete https://www.philstar.com/ list: 12.3%\n",
      "Percent complete https://www.philstar.com/ list: 12.6%\n",
      "Percent complete https://www.philstar.com/ list: 12.8%\n",
      "Percent complete https://www.philstar.com/ list: 13.0%\n",
      "Percent complete https://www.philstar.com/ list: 13.3%\n",
      "Percent complete https://www.philstar.com/ list: 13.5%\n",
      "Percent complete https://www.philstar.com/ list: 13.7%\n",
      "Percent complete https://www.philstar.com/ list: 14.0%\n",
      "Percent complete https://www.philstar.com/ list: 14.2%\n",
      "Percent complete https://www.philstar.com/ list: 14.5%\n",
      "Percent complete https://www.philstar.com/ list: 14.7%\n",
      "Percent complete https://www.philstar.com/ list: 14.9%\n",
      "Percent complete https://www.philstar.com/ list: 15.2%\n",
      "Percent complete https://www.philstar.com/ list: 15.4%\n",
      "Percent complete https://www.philstar.com/ list: 15.6%\n",
      "Percent complete https://www.philstar.com/ list: 15.9%\n",
      "Percent complete https://www.philstar.com/ list: 16.1%\n",
      "Percent complete https://www.philstar.com/ list: 16.4%\n",
      "Percent complete https://www.philstar.com/ list: 16.6%\n",
      "Percent complete https://www.philstar.com/ list: 16.8%\n",
      "Percent complete https://www.philstar.com/ list: 17.1%\n",
      "Percent complete https://www.philstar.com/ list: 17.3%\n",
      "Percent complete https://www.philstar.com/ list: 17.5%\n",
      "Percent complete https://www.philstar.com/ list: 17.8%\n",
      "Percent complete https://www.philstar.com/ list: 18.0%\n",
      "Percent complete https://www.philstar.com/ list: 18.2%\n",
      "Percent complete https://www.philstar.com/ list: 18.5%\n",
      "Percent complete https://www.philstar.com/ list: 18.7%\n",
      "Percent complete https://www.philstar.com/ list: 19.0%\n",
      "Percent complete https://www.philstar.com/ list: 19.2%\n",
      "Percent complete https://www.philstar.com/ list: 19.4%\n",
      "Percent complete https://www.philstar.com/ list: 19.7%\n",
      "Percent complete https://www.philstar.com/ list: 19.9%\n",
      "Percent complete https://www.philstar.com/ list: 20.1%\n",
      "Percent complete https://www.philstar.com/ list: 20.4%\n",
      "Percent complete https://www.philstar.com/ list: 20.6%\n",
      "Percent complete https://www.philstar.com/ list: 20.9%\n",
      "Percent complete https://www.philstar.com/ list: 21.1%\n",
      "Percent complete https://www.philstar.com/ list: 21.3%\n",
      "Percent complete https://www.philstar.com/ list: 21.6%\n",
      "Percent complete https://www.philstar.com/ list: 21.8%\n",
      "Percent complete https://www.philstar.com/ list: 22.0%\n",
      "Percent complete https://www.philstar.com/ list: 22.3%\n",
      "Percent complete https://www.philstar.com/ list: 22.5%\n",
      "Percent complete https://www.philstar.com/ list: 22.7%\n",
      "Percent complete https://www.philstar.com/ list: 23.0%\n",
      "Percent complete https://www.philstar.com/ list: 23.2%\n",
      "Percent complete https://www.philstar.com/ list: 23.5%\n",
      "Percent complete https://www.philstar.com/ list: 23.7%\n",
      "Percent complete https://www.philstar.com/ list: 23.9%\n",
      "Percent complete https://www.philstar.com/ list: 24.2%\n",
      "Percent complete https://www.philstar.com/ list: 24.4%\n",
      "Percent complete https://www.philstar.com/ list: 24.6%\n",
      "Percent complete https://www.philstar.com/ list: 24.9%\n",
      "Percent complete https://www.philstar.com/ list: 25.1%\n",
      "Percent complete https://www.philstar.com/ list: 25.4%\n",
      "Percent complete https://www.philstar.com/ list: 25.6%\n",
      "Percent complete https://www.philstar.com/ list: 25.8%\n",
      "Percent complete https://www.philstar.com/ list: 26.1%\n",
      "Percent complete https://www.philstar.com/ list: 26.3%\n",
      "Percent complete https://www.philstar.com/ list: 26.5%\n",
      "Percent complete https://www.philstar.com/ list: 26.8%\n",
      "Percent complete https://www.philstar.com/ list: 27.0%\n",
      "Percent complete https://www.philstar.com/ list: 27.3%\n",
      "Percent complete https://www.philstar.com/ list: 27.5%\n",
      "Percent complete https://www.philstar.com/ list: 27.7%\n",
      "Percent complete https://www.philstar.com/ list: 28.0%\n",
      "Percent complete https://www.philstar.com/ list: 28.2%\n",
      "Percent complete https://www.philstar.com/ list: 28.4%\n",
      "Percent complete https://www.philstar.com/ list: 28.7%\n",
      "Percent complete https://www.philstar.com/ list: 28.9%\n",
      "Percent complete https://www.philstar.com/ list: 29.1%\n",
      "Percent complete https://www.philstar.com/ list: 29.4%\n",
      "Percent complete https://www.philstar.com/ list: 29.6%\n",
      "Percent complete https://www.philstar.com/ list: 29.9%\n",
      "Percent complete https://www.philstar.com/ list: 30.1%\n",
      "Percent complete https://www.philstar.com/ list: 30.3%\n",
      "Percent complete https://www.philstar.com/ list: 30.6%\n",
      "Percent complete https://www.philstar.com/ list: 30.8%\n",
      "Percent complete https://www.philstar.com/ list: 31.0%\n",
      "Percent complete https://www.philstar.com/ list: 31.3%\n",
      "Percent complete https://www.philstar.com/ list: 31.5%\n",
      "Percent complete https://www.philstar.com/ list: 31.8%\n",
      "Percent complete https://www.philstar.com/ list: 32.0%\n",
      "Percent complete https://www.philstar.com/ list: 32.2%\n",
      "Percent complete https://www.philstar.com/ list: 32.5%\n",
      "Percent complete https://www.philstar.com/ list: 32.7%\n",
      "Percent complete https://www.philstar.com/ list: 32.9%\n",
      "Percent complete https://www.philstar.com/ list: 33.2%\n",
      "Percent complete https://www.philstar.com/ list: 33.4%\n",
      "Percent complete https://www.philstar.com/ list: 33.6%\n",
      "Percent complete https://www.philstar.com/ list: 33.9%\n",
      "Percent complete https://www.philstar.com/ list: 34.1%\n",
      "Percent complete https://www.philstar.com/ list: 34.4%\n",
      "Percent complete https://www.philstar.com/ list: 34.6%\n",
      "Percent complete https://www.philstar.com/ list: 34.8%\n",
      "Percent complete https://www.philstar.com/ list: 35.1%\n",
      "Percent complete https://www.philstar.com/ list: 35.3%\n",
      "Percent complete https://www.philstar.com/ list: 35.5%\n",
      "Percent complete https://www.philstar.com/ list: 35.8%\n",
      "Percent complete https://www.philstar.com/ list: 36.0%\n",
      "Percent complete https://www.philstar.com/ list: 36.3%\n",
      "Percent complete https://www.philstar.com/ list: 36.5%\n",
      "Percent complete https://www.philstar.com/ list: 36.7%\n",
      "Percent complete https://www.philstar.com/ list: 37.0%\n",
      "Percent complete https://www.philstar.com/ list: 37.2%\n",
      "Percent complete https://www.philstar.com/ list: 37.4%\n",
      "Percent complete https://www.philstar.com/ list: 37.7%\n",
      "Percent complete https://www.philstar.com/ list: 37.9%\n",
      "Percent complete https://www.philstar.com/ list: 38.2%\n",
      "Percent complete https://www.philstar.com/ list: 38.4%\n",
      "Percent complete https://www.philstar.com/ list: 38.6%\n",
      "Percent complete https://www.philstar.com/ list: 38.9%\n",
      "Percent complete https://www.philstar.com/ list: 39.1%\n",
      "Percent complete https://www.philstar.com/ list: 39.3%\n",
      "Percent complete https://www.philstar.com/ list: 39.6%\n",
      "Percent complete https://www.philstar.com/ list: 39.8%\n",
      "Percent complete https://www.philstar.com/ list: 40.0%\n",
      "Percent complete https://www.philstar.com/ list: 40.3%\n",
      "Percent complete https://www.philstar.com/ list: 40.5%\n",
      "Percent complete https://www.philstar.com/ list: 40.8%\n",
      "Percent complete https://www.philstar.com/ list: 41.0%\n",
      "Percent complete https://www.philstar.com/ list: 41.2%\n",
      "Percent complete https://www.philstar.com/ list: 41.5%\n",
      "Percent complete https://www.philstar.com/ list: 41.7%\n",
      "Percent complete https://www.philstar.com/ list: 41.9%\n",
      "Percent complete https://www.philstar.com/ list: 42.2%\n",
      "Percent complete https://www.philstar.com/ list: 42.4%\n",
      "Percent complete https://www.philstar.com/ list: 42.7%\n",
      "Percent complete https://www.philstar.com/ list: 42.9%\n",
      "Percent complete https://www.philstar.com/ list: 43.1%\n",
      "Percent complete https://www.philstar.com/ list: 43.4%\n",
      "Percent complete https://www.philstar.com/ list: 43.6%\n",
      "Percent complete https://www.philstar.com/ list: 43.8%\n",
      "Percent complete https://www.philstar.com/ list: 44.1%\n",
      "Percent complete https://www.philstar.com/ list: 44.3%\n",
      "Percent complete https://www.philstar.com/ list: 44.5%\n",
      "Percent complete https://www.philstar.com/ list: 44.8%\n",
      "Percent complete https://www.philstar.com/ list: 45.0%\n",
      "Percent complete https://www.philstar.com/ list: 45.3%\n",
      "Percent complete https://www.philstar.com/ list: 45.5%\n",
      "Percent complete https://www.philstar.com/ list: 45.7%\n",
      "Percent complete https://www.philstar.com/ list: 46.0%\n",
      "Percent complete https://www.philstar.com/ list: 46.2%\n",
      "Percent complete https://www.philstar.com/ list: 46.4%\n",
      "Percent complete https://www.philstar.com/ list: 46.7%\n",
      "Percent complete https://www.philstar.com/ list: 46.9%\n",
      "Percent complete https://www.philstar.com/ list: 47.2%\n",
      "Percent complete https://www.philstar.com/ list: 47.4%\n",
      "Percent complete https://www.philstar.com/ list: 47.6%\n",
      "Percent complete https://www.philstar.com/ list: 47.9%\n",
      "Percent complete https://www.philstar.com/ list: 48.1%\n",
      "Percent complete https://www.philstar.com/ list: 48.3%\n",
      "Percent complete https://www.philstar.com/ list: 48.6%\n",
      "Percent complete https://www.philstar.com/ list: 48.8%\n",
      "Percent complete https://www.philstar.com/ list: 49.1%\n",
      "Percent complete https://www.philstar.com/ list: 49.3%\n",
      "Percent complete https://www.philstar.com/ list: 49.5%\n",
      "Percent complete https://www.philstar.com/ list: 49.8%\n",
      "Percent complete https://www.philstar.com/ list: 50.0%\n",
      "Percent complete https://www.philstar.com/ list: 50.2%\n",
      "Percent complete https://www.philstar.com/ list: 50.5%\n",
      "Percent complete https://www.philstar.com/ list: 50.7%\n",
      "Percent complete https://www.philstar.com/ list: 50.9%\n",
      "Percent complete https://www.philstar.com/ list: 51.2%\n",
      "Percent complete https://www.philstar.com/ list: 51.4%\n",
      "Percent complete https://www.philstar.com/ list: 51.7%\n",
      "Percent complete https://www.philstar.com/ list: 51.9%\n",
      "Percent complete https://www.philstar.com/ list: 52.1%\n",
      "Percent complete https://www.philstar.com/ list: 52.4%\n",
      "Percent complete https://www.philstar.com/ list: 52.6%\n",
      "Percent complete https://www.philstar.com/ list: 52.8%\n",
      "Percent complete https://www.philstar.com/ list: 53.1%\n",
      "Percent complete https://www.philstar.com/ list: 53.3%\n",
      "Percent complete https://www.philstar.com/ list: 53.6%\n",
      "Percent complete https://www.philstar.com/ list: 53.8%\n",
      "Percent complete https://www.philstar.com/ list: 54.0%\n",
      "Percent complete https://www.philstar.com/ list: 54.3%\n",
      "Percent complete https://www.philstar.com/ list: 54.5%\n",
      "Percent complete https://www.philstar.com/ list: 54.7%\n",
      "Percent complete https://www.philstar.com/ list: 55.0%\n",
      "Percent complete https://www.philstar.com/ list: 55.2%\n",
      "Percent complete https://www.philstar.com/ list: 55.5%\n",
      "Percent complete https://www.philstar.com/ list: 55.7%\n",
      "Percent complete https://www.philstar.com/ list: 55.9%\n",
      "Percent complete https://www.philstar.com/ list: 56.2%\n",
      "Percent complete https://www.philstar.com/ list: 56.4%\n",
      "Percent complete https://www.philstar.com/ list: 56.6%\n",
      "Percent complete https://www.philstar.com/ list: 56.9%\n",
      "Percent complete https://www.philstar.com/ list: 57.1%\n",
      "Percent complete https://www.philstar.com/ list: 57.3%\n",
      "Percent complete https://www.philstar.com/ list: 57.6%\n",
      "Percent complete https://www.philstar.com/ list: 57.8%\n",
      "Percent complete https://www.philstar.com/ list: 58.1%\n",
      "Percent complete https://www.philstar.com/ list: 58.3%\n",
      "Percent complete https://www.philstar.com/ list: 58.5%\n",
      "Percent complete https://www.philstar.com/ list: 58.8%\n",
      "Percent complete https://www.philstar.com/ list: 59.0%\n",
      "Percent complete https://www.philstar.com/ list: 59.2%\n",
      "Percent complete https://www.philstar.com/ list: 59.5%\n",
      "Percent complete https://www.philstar.com/ list: 59.7%\n",
      "Percent complete https://www.philstar.com/ list: 60.0%\n",
      "Percent complete https://www.philstar.com/ list: 60.2%\n",
      "Percent complete https://www.philstar.com/ list: 60.4%\n",
      "Percent complete https://www.philstar.com/ list: 60.7%\n",
      "Percent complete https://www.philstar.com/ list: 60.9%\n",
      "Percent complete https://www.philstar.com/ list: 61.1%\n",
      "Percent complete https://www.philstar.com/ list: 61.4%\n",
      "Percent complete https://www.philstar.com/ list: 61.6%\n",
      "Percent complete https://www.philstar.com/ list: 61.8%\n",
      "Percent complete https://www.philstar.com/ list: 62.1%\n",
      "Percent complete https://www.philstar.com/ list: 62.3%\n",
      "Percent complete https://www.philstar.com/ list: 62.6%\n",
      "Percent complete https://www.philstar.com/ list: 62.8%\n",
      "Percent complete https://www.philstar.com/ list: 63.0%\n",
      "Percent complete https://www.philstar.com/ list: 63.3%\n",
      "Percent complete https://www.philstar.com/ list: 63.5%\n",
      "Percent complete https://www.philstar.com/ list: 63.7%\n",
      "Percent complete https://www.philstar.com/ list: 64.0%\n",
      "Percent complete https://www.philstar.com/ list: 64.2%\n",
      "Percent complete https://www.philstar.com/ list: 64.5%\n",
      "Percent complete https://www.philstar.com/ list: 64.7%\n",
      "Percent complete https://www.philstar.com/ list: 64.9%\n",
      "Percent complete https://www.philstar.com/ list: 65.2%\n",
      "Percent complete https://www.philstar.com/ list: 65.4%\n",
      "Percent complete https://www.philstar.com/ list: 65.6%\n",
      "Percent complete https://www.philstar.com/ list: 65.9%\n",
      "Percent complete https://www.philstar.com/ list: 66.1%\n",
      "Percent complete https://www.philstar.com/ list: 66.4%\n",
      "Percent complete https://www.philstar.com/ list: 66.6%\n",
      "Percent complete https://www.philstar.com/ list: 66.8%\n",
      "Percent complete https://www.philstar.com/ list: 67.1%\n",
      "Percent complete https://www.philstar.com/ list: 67.3%\n",
      "Percent complete https://www.philstar.com/ list: 67.5%\n",
      "Percent complete https://www.philstar.com/ list: 67.8%\n",
      "Percent complete https://www.philstar.com/ list: 68.0%\n",
      "Percent complete https://www.philstar.com/ list: 68.2%\n",
      "Percent complete https://www.philstar.com/ list: 68.5%\n",
      "Percent complete https://www.philstar.com/ list: 68.7%\n",
      "Percent complete https://www.philstar.com/ list: 69.0%\n",
      "Percent complete https://www.philstar.com/ list: 69.2%\n",
      "Percent complete https://www.philstar.com/ list: 69.4%\n",
      "Percent complete https://www.philstar.com/ list: 69.7%\n",
      "Percent complete https://www.philstar.com/ list: 69.9%\n",
      "Percent complete https://www.philstar.com/ list: 70.1%\n",
      "Percent complete https://www.philstar.com/ list: 70.4%\n",
      "Percent complete https://www.philstar.com/ list: 70.6%\n",
      "Percent complete https://www.philstar.com/ list: 70.9%\n",
      "Percent complete https://www.philstar.com/ list: 71.1%\n",
      "Percent complete https://www.philstar.com/ list: 71.3%\n",
      "Percent complete https://www.philstar.com/ list: 71.6%\n",
      "Percent complete https://www.philstar.com/ list: 71.8%\n",
      "Percent complete https://www.philstar.com/ list: 72.0%\n",
      "Percent complete https://www.philstar.com/ list: 72.3%\n",
      "Percent complete https://www.philstar.com/ list: 72.5%\n",
      "Percent complete https://www.philstar.com/ list: 72.7%\n",
      "Percent complete https://www.philstar.com/ list: 73.0%\n",
      "Percent complete https://www.philstar.com/ list: 73.2%\n",
      "Percent complete https://www.philstar.com/ list: 73.5%\n",
      "Percent complete https://www.philstar.com/ list: 73.7%\n",
      "Percent complete https://www.philstar.com/ list: 73.9%\n",
      "Percent complete https://www.philstar.com/ list: 74.2%\n",
      "Percent complete https://www.philstar.com/ list: 74.4%\n",
      "Percent complete https://www.philstar.com/ list: 74.6%\n",
      "Percent complete https://www.philstar.com/ list: 74.9%\n",
      "Percent complete https://www.philstar.com/ list: 75.1%\n",
      "Percent complete https://www.philstar.com/ list: 75.4%\n",
      "Percent complete https://www.philstar.com/ list: 75.6%\n",
      "Percent complete https://www.philstar.com/ list: 75.8%\n",
      "Percent complete https://www.philstar.com/ list: 76.1%\n",
      "Percent complete https://www.philstar.com/ list: 76.3%\n",
      "Percent complete https://www.philstar.com/ list: 76.5%\n",
      "Percent complete https://www.philstar.com/ list: 76.8%\n",
      "Percent complete https://www.philstar.com/ list: 77.0%\n",
      "Percent complete https://www.philstar.com/ list: 77.3%\n",
      "Percent complete https://www.philstar.com/ list: 77.5%\n",
      "Percent complete https://www.philstar.com/ list: 77.7%\n",
      "Percent complete https://www.philstar.com/ list: 78.0%\n",
      "Percent complete https://www.philstar.com/ list: 78.2%\n",
      "Percent complete https://www.philstar.com/ list: 78.4%\n",
      "Percent complete https://www.philstar.com/ list: 78.7%\n",
      "Percent complete https://www.philstar.com/ list: 78.9%\n",
      "Percent complete https://www.philstar.com/ list: 79.1%\n",
      "Percent complete https://www.philstar.com/ list: 79.4%\n",
      "Percent complete https://www.philstar.com/ list: 79.6%\n",
      "Percent complete https://www.philstar.com/ list: 79.9%\n",
      "Percent complete https://www.philstar.com/ list: 80.1%\n",
      "Percent complete https://www.philstar.com/ list: 80.3%\n",
      "Percent complete https://www.philstar.com/ list: 80.6%\n",
      "Percent complete https://www.philstar.com/ list: 80.8%\n",
      "Percent complete https://www.philstar.com/ list: 81.0%\n",
      "Percent complete https://www.philstar.com/ list: 81.3%\n",
      "Percent complete https://www.philstar.com/ list: 81.5%\n",
      "Percent complete https://www.philstar.com/ list: 81.8%\n",
      "Percent complete https://www.philstar.com/ list: 82.0%\n",
      "Percent complete https://www.philstar.com/ list: 82.2%\n",
      "Percent complete https://www.philstar.com/ list: 82.5%\n",
      "Percent complete https://www.philstar.com/ list: 82.7%\n",
      "Percent complete https://www.philstar.com/ list: 82.9%\n",
      "Percent complete https://www.philstar.com/ list: 83.2%\n",
      "Percent complete https://www.philstar.com/ list: 83.4%\n",
      "Percent complete https://www.philstar.com/ list: 83.6%\n",
      "Percent complete https://www.philstar.com/ list: 83.9%\n",
      "Percent complete https://www.philstar.com/ list: 84.1%\n",
      "Percent complete https://www.philstar.com/ list: 84.4%\n",
      "Percent complete https://www.philstar.com/ list: 84.6%\n",
      "Percent complete https://www.philstar.com/ list: 84.8%\n",
      "Percent complete https://www.philstar.com/ list: 85.1%\n",
      "Percent complete https://www.philstar.com/ list: 85.3%\n",
      "Percent complete https://www.philstar.com/ list: 85.5%\n",
      "Percent complete https://www.philstar.com/ list: 85.8%\n",
      "Percent complete https://www.philstar.com/ list: 86.0%\n",
      "Percent complete https://www.philstar.com/ list: 86.3%\n",
      "Percent complete https://www.philstar.com/ list: 86.5%\n",
      "Percent complete https://www.philstar.com/ list: 86.7%\n",
      "Percent complete https://www.philstar.com/ list: 87.0%\n",
      "Percent complete https://www.philstar.com/ list: 87.2%\n",
      "Percent complete https://www.philstar.com/ list: 87.4%\n",
      "Percent complete https://www.philstar.com/ list: 87.7%\n",
      "Percent complete https://www.philstar.com/ list: 87.9%\n",
      "Percent complete https://www.philstar.com/ list: 88.2%\n",
      "Percent complete https://www.philstar.com/ list: 88.4%\n",
      "Percent complete https://www.philstar.com/ list: 88.6%\n",
      "Percent complete https://www.philstar.com/ list: 88.9%\n",
      "Percent complete https://www.philstar.com/ list: 89.1%\n",
      "Percent complete https://www.philstar.com/ list: 89.3%\n",
      "Percent complete https://www.philstar.com/ list: 89.6%\n",
      "Percent complete https://www.philstar.com/ list: 89.8%\n",
      "Percent complete https://www.philstar.com/ list: 90.0%\n",
      "Percent complete https://www.philstar.com/ list: 90.3%\n",
      "Percent complete https://www.philstar.com/ list: 90.5%\n",
      "Percent complete https://www.philstar.com/ list: 90.8%\n",
      "Percent complete https://www.philstar.com/ list: 91.0%\n",
      "Percent complete https://www.philstar.com/ list: 91.2%\n",
      "Percent complete https://www.philstar.com/ list: 91.5%\n",
      "Percent complete https://www.philstar.com/ list: 91.7%\n",
      "Percent complete https://www.philstar.com/ list: 91.9%\n",
      "Percent complete https://www.philstar.com/ list: 92.2%\n",
      "Percent complete https://www.philstar.com/ list: 92.4%\n",
      "Percent complete https://www.philstar.com/ list: 92.7%\n",
      "Percent complete https://www.philstar.com/ list: 92.9%\n",
      "Percent complete https://www.philstar.com/ list: 93.1%\n",
      "Percent complete https://www.philstar.com/ list: 93.4%\n",
      "Percent complete https://www.philstar.com/ list: 93.6%\n",
      "Percent complete https://www.philstar.com/ list: 93.8%\n",
      "Percent complete https://www.philstar.com/ list: 94.1%\n",
      "Percent complete https://www.philstar.com/ list: 94.3%\n",
      "Percent complete https://www.philstar.com/ list: 94.5%\n",
      "Percent complete https://www.philstar.com/ list: 94.8%\n",
      "Percent complete https://www.philstar.com/ list: 95.0%\n",
      "Percent complete https://www.philstar.com/ list: 95.3%\n",
      "Percent complete https://www.philstar.com/ list: 95.5%\n",
      "Percent complete https://www.philstar.com/ list: 95.7%\n",
      "Percent complete https://www.philstar.com/ list: 96.0%\n",
      "Percent complete https://www.philstar.com/ list: 96.2%\n",
      "Percent complete https://www.philstar.com/ list: 96.4%\n",
      "Percent complete https://www.philstar.com/ list: 96.7%\n",
      "Percent complete https://www.philstar.com/ list: 96.9%\n",
      "Percent complete https://www.philstar.com/ list: 97.2%\n",
      "Percent complete https://www.philstar.com/ list: 97.4%\n",
      "Percent complete https://www.philstar.com/ list: 97.6%\n",
      "Percent complete https://www.philstar.com/ list: 97.9%\n",
      "Percent complete https://www.philstar.com/ list: 98.1%\n",
      "Percent complete https://www.philstar.com/ list: 98.3%\n",
      "Percent complete https://www.philstar.com/ list: 98.6%\n",
      "Percent complete https://www.philstar.com/ list: 98.8%\n",
      "Percent complete https://www.philstar.com/ list: 99.1%\n",
      "Percent complete https://www.philstar.com/ list: 99.3%\n",
      "Percent complete https://www.philstar.com/ list: 99.5%\n",
      "Percent complete https://www.philstar.com/ list: 99.8%\n",
      "Percent complete https://www.philstar.com/ list: 100.0%\n",
      "Percent complete all sources list: 70.0%\n"
     ]
    },
    {
     "name": "stdout",
     "output_type": "stream",
     "text": [
      "Percent complete https://www.manilatimes.net/ list: 0.1%\n",
      "Percent complete https://www.manilatimes.net/ list: 0.2%\n",
      "Percent complete https://www.manilatimes.net/ list: 0.3%\n",
      "Percent complete https://www.manilatimes.net/ list: 0.5%\n",
      "Percent complete https://www.manilatimes.net/ list: 0.6%\n",
      "Percent complete https://www.manilatimes.net/ list: 0.7%\n",
      "Percent complete https://www.manilatimes.net/ list: 0.8%\n",
      "Percent complete https://www.manilatimes.net/ list: 0.9%\n",
      "Percent complete https://www.manilatimes.net/ list: 1.0%\n",
      "Percent complete https://www.manilatimes.net/ list: 1.1%\n",
      "Percent complete https://www.manilatimes.net/ list: 1.3%\n",
      "Percent complete https://www.manilatimes.net/ list: 1.4%\n",
      "Percent complete https://www.manilatimes.net/ list: 1.5%\n",
      "Percent complete https://www.manilatimes.net/ list: 1.6%\n",
      "Percent complete https://www.manilatimes.net/ list: 1.7%\n",
      "Percent complete https://www.manilatimes.net/ list: 1.8%\n",
      "Percent complete https://www.manilatimes.net/ list: 1.9%\n",
      "Percent complete https://www.manilatimes.net/ list: 2.1%\n",
      "Percent complete https://www.manilatimes.net/ list: 2.2%\n",
      "Percent complete https://www.manilatimes.net/ list: 2.3%\n",
      "Percent complete https://www.manilatimes.net/ list: 2.4%\n",
      "Percent complete https://www.manilatimes.net/ list: 2.5%\n",
      "Percent complete https://www.manilatimes.net/ list: 2.6%\n",
      "Percent complete https://www.manilatimes.net/ list: 2.7%\n",
      "Percent complete https://www.manilatimes.net/ list: 2.9%\n",
      "Percent complete https://www.manilatimes.net/ list: 3.0%\n",
      "Percent complete https://www.manilatimes.net/ list: 3.1%\n",
      "Percent complete https://www.manilatimes.net/ list: 3.2%\n",
      "Percent complete https://www.manilatimes.net/ list: 3.3%\n",
      "Percent complete https://www.manilatimes.net/ list: 3.4%\n",
      "Percent complete https://www.manilatimes.net/ list: 3.5%\n",
      "Percent complete https://www.manilatimes.net/ list: 3.6%\n",
      "Percent complete https://www.manilatimes.net/ list: 3.8%\n",
      "Percent complete https://www.manilatimes.net/ list: 3.9%\n",
      "Percent complete https://www.manilatimes.net/ list: 4.0%\n",
      "Percent complete https://www.manilatimes.net/ list: 4.1%\n",
      "Percent complete https://www.manilatimes.net/ list: 4.2%\n",
      "Percent complete https://www.manilatimes.net/ list: 4.3%\n",
      "Percent complete https://www.manilatimes.net/ list: 4.4%\n",
      "Percent complete https://www.manilatimes.net/ list: 4.6%\n",
      "Percent complete https://www.manilatimes.net/ list: 4.7%\n",
      "Percent complete https://www.manilatimes.net/ list: 4.8%\n",
      "Percent complete https://www.manilatimes.net/ list: 4.9%\n",
      "Percent complete https://www.manilatimes.net/ list: 5.0%\n",
      "Percent complete https://www.manilatimes.net/ list: 5.1%\n",
      "Percent complete https://www.manilatimes.net/ list: 5.2%\n",
      "Percent complete https://www.manilatimes.net/ list: 5.4%\n",
      "Percent complete https://www.manilatimes.net/ list: 5.5%\n",
      "Percent complete https://www.manilatimes.net/ list: 5.6%\n",
      "Percent complete https://www.manilatimes.net/ list: 5.7%\n",
      "Percent complete https://www.manilatimes.net/ list: 5.8%\n",
      "Percent complete https://www.manilatimes.net/ list: 5.9%\n",
      "Percent complete https://www.manilatimes.net/ list: 6.0%\n",
      "Percent complete https://www.manilatimes.net/ list: 6.2%\n",
      "Percent complete https://www.manilatimes.net/ list: 6.3%\n",
      "Percent complete https://www.manilatimes.net/ list: 6.4%\n",
      "Percent complete https://www.manilatimes.net/ list: 6.5%\n",
      "Percent complete https://www.manilatimes.net/ list: 6.6%\n",
      "Percent complete https://www.manilatimes.net/ list: 6.7%\n",
      "Percent complete https://www.manilatimes.net/ list: 6.8%\n",
      "Percent complete https://www.manilatimes.net/ list: 7.0%\n",
      "Percent complete https://www.manilatimes.net/ list: 7.1%\n",
      "Percent complete https://www.manilatimes.net/ list: 7.2%\n",
      "Percent complete https://www.manilatimes.net/ list: 7.3%\n",
      "Percent complete https://www.manilatimes.net/ list: 7.4%\n",
      "Percent complete https://www.manilatimes.net/ list: 7.5%\n",
      "Percent complete https://www.manilatimes.net/ list: 7.6%\n",
      "Percent complete https://www.manilatimes.net/ list: 7.8%\n",
      "Percent complete https://www.manilatimes.net/ list: 7.9%\n",
      "Percent complete https://www.manilatimes.net/ list: 8.0%\n",
      "Percent complete https://www.manilatimes.net/ list: 8.1%\n",
      "Percent complete https://www.manilatimes.net/ list: 8.2%\n",
      "Percent complete https://www.manilatimes.net/ list: 8.3%\n",
      "Percent complete https://www.manilatimes.net/ list: 8.4%\n",
      "Percent complete https://www.manilatimes.net/ list: 8.6%\n",
      "Percent complete https://www.manilatimes.net/ list: 8.7%\n",
      "Percent complete https://www.manilatimes.net/ list: 8.8%\n",
      "Percent complete https://www.manilatimes.net/ list: 8.9%\n",
      "Percent complete https://www.manilatimes.net/ list: 9.0%\n",
      "Percent complete https://www.manilatimes.net/ list: 9.1%\n",
      "Percent complete https://www.manilatimes.net/ list: 9.2%\n",
      "Percent complete https://www.manilatimes.net/ list: 9.4%\n",
      "Percent complete https://www.manilatimes.net/ list: 9.5%\n",
      "Percent complete https://www.manilatimes.net/ list: 9.6%\n",
      "Percent complete https://www.manilatimes.net/ list: 9.7%\n",
      "Percent complete https://www.manilatimes.net/ list: 9.8%\n",
      "Percent complete https://www.manilatimes.net/ list: 9.9%\n",
      "Percent complete https://www.manilatimes.net/ list: 10.0%\n",
      "Percent complete https://www.manilatimes.net/ list: 10.1%\n",
      "Percent complete https://www.manilatimes.net/ list: 10.3%\n",
      "Percent complete https://www.manilatimes.net/ list: 10.4%\n",
      "Percent complete https://www.manilatimes.net/ list: 10.5%\n",
      "Percent complete https://www.manilatimes.net/ list: 10.6%\n",
      "Percent complete https://www.manilatimes.net/ list: 10.7%\n",
      "Percent complete https://www.manilatimes.net/ list: 10.8%\n",
      "Percent complete https://www.manilatimes.net/ list: 10.9%\n",
      "Percent complete https://www.manilatimes.net/ list: 11.1%\n",
      "Percent complete https://www.manilatimes.net/ list: 11.2%\n",
      "Percent complete https://www.manilatimes.net/ list: 11.3%\n",
      "Percent complete https://www.manilatimes.net/ list: 11.4%\n",
      "Percent complete https://www.manilatimes.net/ list: 11.5%\n",
      "Percent complete https://www.manilatimes.net/ list: 11.6%\n",
      "Percent complete https://www.manilatimes.net/ list: 11.7%\n",
      "Percent complete https://www.manilatimes.net/ list: 11.9%\n",
      "Percent complete https://www.manilatimes.net/ list: 12.0%\n",
      "Percent complete https://www.manilatimes.net/ list: 12.1%\n",
      "Percent complete https://www.manilatimes.net/ list: 12.2%\n",
      "Percent complete https://www.manilatimes.net/ list: 12.3%\n",
      "Percent complete https://www.manilatimes.net/ list: 12.4%\n",
      "Percent complete https://www.manilatimes.net/ list: 12.5%\n",
      "Percent complete https://www.manilatimes.net/ list: 12.7%\n",
      "Percent complete https://www.manilatimes.net/ list: 12.8%\n",
      "Percent complete https://www.manilatimes.net/ list: 12.9%\n",
      "Percent complete https://www.manilatimes.net/ list: 13.0%\n",
      "Percent complete https://www.manilatimes.net/ list: 13.1%\n",
      "Percent complete https://www.manilatimes.net/ list: 13.2%\n",
      "Percent complete https://www.manilatimes.net/ list: 13.3%\n",
      "Percent complete https://www.manilatimes.net/ list: 13.5%\n",
      "Percent complete https://www.manilatimes.net/ list: 13.6%\n",
      "Percent complete https://www.manilatimes.net/ list: 13.7%\n",
      "Percent complete https://www.manilatimes.net/ list: 13.8%\n",
      "Percent complete https://www.manilatimes.net/ list: 13.9%\n",
      "Percent complete https://www.manilatimes.net/ list: 14.0%\n",
      "Percent complete https://www.manilatimes.net/ list: 14.1%\n",
      "Percent complete https://www.manilatimes.net/ list: 14.3%\n",
      "Percent complete https://www.manilatimes.net/ list: 14.4%\n",
      "Percent complete https://www.manilatimes.net/ list: 14.5%\n",
      "Percent complete https://www.manilatimes.net/ list: 14.6%\n",
      "Percent complete https://www.manilatimes.net/ list: 14.7%\n",
      "Percent complete https://www.manilatimes.net/ list: 14.8%\n",
      "Percent complete https://www.manilatimes.net/ list: 14.9%\n",
      "Percent complete https://www.manilatimes.net/ list: 15.1%\n",
      "Percent complete https://www.manilatimes.net/ list: 15.2%\n",
      "Percent complete https://www.manilatimes.net/ list: 15.3%\n",
      "Percent complete https://www.manilatimes.net/ list: 15.4%\n",
      "Percent complete https://www.manilatimes.net/ list: 15.5%\n",
      "Percent complete https://www.manilatimes.net/ list: 15.6%\n",
      "Percent complete https://www.manilatimes.net/ list: 15.7%\n",
      "Percent complete https://www.manilatimes.net/ list: 15.8%\n",
      "Percent complete https://www.manilatimes.net/ list: 16.0%\n",
      "Percent complete https://www.manilatimes.net/ list: 16.1%\n",
      "Percent complete https://www.manilatimes.net/ list: 16.2%\n",
      "Percent complete https://www.manilatimes.net/ list: 16.3%\n",
      "Percent complete https://www.manilatimes.net/ list: 16.4%\n",
      "Percent complete https://www.manilatimes.net/ list: 16.5%\n",
      "Percent complete https://www.manilatimes.net/ list: 16.6%\n",
      "Percent complete https://www.manilatimes.net/ list: 16.8%\n",
      "Percent complete https://www.manilatimes.net/ list: 16.9%\n",
      "Percent complete https://www.manilatimes.net/ list: 17.0%\n",
      "Percent complete https://www.manilatimes.net/ list: 17.1%\n",
      "Percent complete https://www.manilatimes.net/ list: 17.2%\n",
      "Percent complete https://www.manilatimes.net/ list: 17.3%\n",
      "Percent complete https://www.manilatimes.net/ list: 17.4%\n",
      "Percent complete https://www.manilatimes.net/ list: 17.6%\n",
      "Percent complete https://www.manilatimes.net/ list: 17.7%\n",
      "Percent complete https://www.manilatimes.net/ list: 17.8%\n",
      "Percent complete https://www.manilatimes.net/ list: 17.9%\n",
      "Percent complete https://www.manilatimes.net/ list: 18.0%\n",
      "Percent complete https://www.manilatimes.net/ list: 18.1%\n",
      "Percent complete https://www.manilatimes.net/ list: 18.2%\n",
      "Percent complete https://www.manilatimes.net/ list: 18.4%\n",
      "Percent complete https://www.manilatimes.net/ list: 18.5%\n",
      "Percent complete https://www.manilatimes.net/ list: 18.6%\n",
      "Percent complete https://www.manilatimes.net/ list: 18.7%\n",
      "Percent complete https://www.manilatimes.net/ list: 18.8%\n",
      "Percent complete https://www.manilatimes.net/ list: 18.9%\n",
      "Percent complete https://www.manilatimes.net/ list: 19.0%\n",
      "Percent complete https://www.manilatimes.net/ list: 19.2%\n",
      "Percent complete https://www.manilatimes.net/ list: 19.3%\n",
      "Percent complete https://www.manilatimes.net/ list: 19.4%\n",
      "Percent complete https://www.manilatimes.net/ list: 19.5%\n",
      "Percent complete https://www.manilatimes.net/ list: 19.6%\n",
      "Percent complete https://www.manilatimes.net/ list: 19.7%\n",
      "Percent complete https://www.manilatimes.net/ list: 19.8%\n",
      "Percent complete https://www.manilatimes.net/ list: 20.0%\n",
      "Percent complete https://www.manilatimes.net/ list: 20.1%\n",
      "Percent complete https://www.manilatimes.net/ list: 20.2%\n",
      "Percent complete https://www.manilatimes.net/ list: 20.3%\n",
      "Percent complete https://www.manilatimes.net/ list: 20.4%\n",
      "Percent complete https://www.manilatimes.net/ list: 20.5%\n",
      "Percent complete https://www.manilatimes.net/ list: 20.6%\n",
      "Percent complete https://www.manilatimes.net/ list: 20.8%\n",
      "Percent complete https://www.manilatimes.net/ list: 20.9%\n",
      "Percent complete https://www.manilatimes.net/ list: 21.0%\n",
      "Percent complete https://www.manilatimes.net/ list: 21.1%\n",
      "Percent complete https://www.manilatimes.net/ list: 21.2%\n",
      "Percent complete https://www.manilatimes.net/ list: 21.3%\n",
      "Percent complete https://www.manilatimes.net/ list: 21.4%\n",
      "Percent complete https://www.manilatimes.net/ list: 21.6%\n",
      "Percent complete https://www.manilatimes.net/ list: 21.7%\n",
      "Percent complete https://www.manilatimes.net/ list: 21.8%\n",
      "Percent complete https://www.manilatimes.net/ list: 21.9%\n",
      "Percent complete https://www.manilatimes.net/ list: 22.0%\n",
      "Percent complete https://www.manilatimes.net/ list: 22.1%\n",
      "Percent complete https://www.manilatimes.net/ list: 22.2%\n",
      "Percent complete https://www.manilatimes.net/ list: 22.3%\n",
      "Percent complete https://www.manilatimes.net/ list: 22.5%\n",
      "Percent complete https://www.manilatimes.net/ list: 22.6%\n",
      "Percent complete https://www.manilatimes.net/ list: 22.7%\n",
      "Percent complete https://www.manilatimes.net/ list: 22.8%\n",
      "Percent complete https://www.manilatimes.net/ list: 22.9%\n",
      "Percent complete https://www.manilatimes.net/ list: 23.0%\n",
      "Percent complete https://www.manilatimes.net/ list: 23.1%\n",
      "Percent complete https://www.manilatimes.net/ list: 23.3%\n",
      "Percent complete https://www.manilatimes.net/ list: 23.4%\n",
      "Percent complete https://www.manilatimes.net/ list: 23.5%\n",
      "Percent complete https://www.manilatimes.net/ list: 23.6%\n",
      "Percent complete https://www.manilatimes.net/ list: 23.7%\n",
      "Percent complete https://www.manilatimes.net/ list: 23.8%\n",
      "Percent complete https://www.manilatimes.net/ list: 23.9%\n",
      "Percent complete https://www.manilatimes.net/ list: 24.1%\n",
      "Percent complete https://www.manilatimes.net/ list: 24.2%\n",
      "Percent complete https://www.manilatimes.net/ list: 24.3%\n",
      "Percent complete https://www.manilatimes.net/ list: 24.4%\n",
      "Percent complete https://www.manilatimes.net/ list: 24.5%\n",
      "Percent complete https://www.manilatimes.net/ list: 24.6%\n",
      "Percent complete https://www.manilatimes.net/ list: 24.7%\n",
      "Percent complete https://www.manilatimes.net/ list: 24.9%\n",
      "Percent complete https://www.manilatimes.net/ list: 25.0%\n",
      "Percent complete https://www.manilatimes.net/ list: 25.1%\n",
      "Percent complete https://www.manilatimes.net/ list: 25.2%\n",
      "Percent complete https://www.manilatimes.net/ list: 25.3%\n",
      "Percent complete https://www.manilatimes.net/ list: 25.4%\n",
      "Percent complete https://www.manilatimes.net/ list: 25.5%\n",
      "Percent complete https://www.manilatimes.net/ list: 25.7%\n",
      "Percent complete https://www.manilatimes.net/ list: 25.8%\n",
      "Percent complete https://www.manilatimes.net/ list: 25.9%\n",
      "Percent complete https://www.manilatimes.net/ list: 26.0%\n",
      "Percent complete https://www.manilatimes.net/ list: 26.1%\n",
      "Percent complete https://www.manilatimes.net/ list: 26.2%\n",
      "Percent complete https://www.manilatimes.net/ list: 26.3%\n",
      "Percent complete https://www.manilatimes.net/ list: 26.5%\n",
      "Percent complete https://www.manilatimes.net/ list: 26.6%\n",
      "Percent complete https://www.manilatimes.net/ list: 26.7%\n",
      "Percent complete https://www.manilatimes.net/ list: 26.8%\n",
      "Percent complete https://www.manilatimes.net/ list: 26.9%\n",
      "Percent complete https://www.manilatimes.net/ list: 27.0%\n",
      "Percent complete https://www.manilatimes.net/ list: 27.1%\n",
      "Percent complete https://www.manilatimes.net/ list: 27.3%\n",
      "Percent complete https://www.manilatimes.net/ list: 27.4%\n",
      "Percent complete https://www.manilatimes.net/ list: 27.5%\n",
      "Percent complete https://www.manilatimes.net/ list: 27.6%\n",
      "Percent complete https://www.manilatimes.net/ list: 27.7%\n",
      "Percent complete https://www.manilatimes.net/ list: 27.8%\n",
      "Percent complete https://www.manilatimes.net/ list: 27.9%\n",
      "Percent complete https://www.manilatimes.net/ list: 28.1%\n",
      "Percent complete https://www.manilatimes.net/ list: 28.2%\n",
      "Percent complete https://www.manilatimes.net/ list: 28.3%\n",
      "Percent complete https://www.manilatimes.net/ list: 28.4%\n",
      "Percent complete https://www.manilatimes.net/ list: 28.5%\n",
      "Percent complete https://www.manilatimes.net/ list: 28.6%\n",
      "Percent complete https://www.manilatimes.net/ list: 28.7%\n",
      "Percent complete https://www.manilatimes.net/ list: 28.8%\n",
      "Percent complete https://www.manilatimes.net/ list: 29.0%\n",
      "Percent complete https://www.manilatimes.net/ list: 29.1%\n",
      "Percent complete https://www.manilatimes.net/ list: 29.2%\n",
      "Percent complete https://www.manilatimes.net/ list: 29.3%\n",
      "Percent complete https://www.manilatimes.net/ list: 29.4%\n",
      "Percent complete https://www.manilatimes.net/ list: 29.5%\n",
      "Percent complete https://www.manilatimes.net/ list: 29.6%\n",
      "Percent complete https://www.manilatimes.net/ list: 29.8%\n",
      "Percent complete https://www.manilatimes.net/ list: 29.9%\n",
      "Percent complete https://www.manilatimes.net/ list: 30.0%\n",
      "Percent complete https://www.manilatimes.net/ list: 30.1%\n",
      "Percent complete https://www.manilatimes.net/ list: 30.2%\n",
      "Percent complete https://www.manilatimes.net/ list: 30.3%\n",
      "Percent complete https://www.manilatimes.net/ list: 30.4%\n",
      "Percent complete https://www.manilatimes.net/ list: 30.6%\n",
      "Percent complete https://www.manilatimes.net/ list: 30.7%\n",
      "Percent complete https://www.manilatimes.net/ list: 30.8%\n",
      "Percent complete https://www.manilatimes.net/ list: 30.9%\n",
      "Percent complete https://www.manilatimes.net/ list: 31.0%\n",
      "Percent complete https://www.manilatimes.net/ list: 31.1%\n",
      "Percent complete https://www.manilatimes.net/ list: 31.2%\n",
      "Percent complete https://www.manilatimes.net/ list: 31.4%\n",
      "Percent complete https://www.manilatimes.net/ list: 31.5%\n",
      "Percent complete https://www.manilatimes.net/ list: 31.6%\n",
      "Percent complete https://www.manilatimes.net/ list: 31.7%\n",
      "Percent complete https://www.manilatimes.net/ list: 31.8%\n",
      "Percent complete https://www.manilatimes.net/ list: 31.9%\n",
      "Percent complete https://www.manilatimes.net/ list: 32.0%\n",
      "Percent complete https://www.manilatimes.net/ list: 32.2%\n",
      "Percent complete https://www.manilatimes.net/ list: 32.3%\n",
      "Percent complete https://www.manilatimes.net/ list: 32.4%\n",
      "Percent complete https://www.manilatimes.net/ list: 32.5%\n",
      "Percent complete https://www.manilatimes.net/ list: 32.6%\n",
      "Percent complete https://www.manilatimes.net/ list: 32.7%\n",
      "Percent complete https://www.manilatimes.net/ list: 32.8%\n",
      "Percent complete https://www.manilatimes.net/ list: 33.0%\n",
      "Percent complete https://www.manilatimes.net/ list: 33.1%\n",
      "Percent complete https://www.manilatimes.net/ list: 33.2%\n",
      "Percent complete https://www.manilatimes.net/ list: 33.3%\n",
      "Percent complete https://www.manilatimes.net/ list: 33.4%\n",
      "Percent complete https://www.manilatimes.net/ list: 33.5%\n",
      "Percent complete https://www.manilatimes.net/ list: 33.6%\n",
      "Percent complete https://www.manilatimes.net/ list: 33.8%\n",
      "Percent complete https://www.manilatimes.net/ list: 33.9%\n",
      "Percent complete https://www.manilatimes.net/ list: 34.0%\n",
      "Percent complete https://www.manilatimes.net/ list: 34.1%\n",
      "Percent complete https://www.manilatimes.net/ list: 34.2%\n",
      "Percent complete https://www.manilatimes.net/ list: 34.3%\n",
      "Percent complete https://www.manilatimes.net/ list: 34.4%\n",
      "Percent complete https://www.manilatimes.net/ list: 34.5%\n",
      "Percent complete https://www.manilatimes.net/ list: 34.7%\n",
      "Percent complete https://www.manilatimes.net/ list: 34.8%\n",
      "Percent complete https://www.manilatimes.net/ list: 34.9%\n",
      "Percent complete https://www.manilatimes.net/ list: 35.0%\n",
      "Percent complete https://www.manilatimes.net/ list: 35.1%\n",
      "Percent complete https://www.manilatimes.net/ list: 35.2%\n",
      "Percent complete https://www.manilatimes.net/ list: 35.3%\n",
      "Percent complete https://www.manilatimes.net/ list: 35.5%\n",
      "Percent complete https://www.manilatimes.net/ list: 35.6%\n",
      "Percent complete https://www.manilatimes.net/ list: 35.7%\n",
      "Percent complete https://www.manilatimes.net/ list: 35.8%\n",
      "Percent complete https://www.manilatimes.net/ list: 35.9%\n",
      "Percent complete https://www.manilatimes.net/ list: 36.0%\n",
      "Percent complete https://www.manilatimes.net/ list: 36.1%\n",
      "Percent complete https://www.manilatimes.net/ list: 36.3%\n",
      "Percent complete https://www.manilatimes.net/ list: 36.4%\n",
      "Percent complete https://www.manilatimes.net/ list: 36.5%\n",
      "Percent complete https://www.manilatimes.net/ list: 36.6%\n",
      "Percent complete https://www.manilatimes.net/ list: 36.7%\n",
      "Percent complete https://www.manilatimes.net/ list: 36.8%\n",
      "Percent complete https://www.manilatimes.net/ list: 36.9%\n",
      "Percent complete https://www.manilatimes.net/ list: 37.1%\n",
      "Percent complete https://www.manilatimes.net/ list: 37.2%\n",
      "Percent complete https://www.manilatimes.net/ list: 37.3%\n",
      "Percent complete https://www.manilatimes.net/ list: 37.4%\n",
      "Percent complete https://www.manilatimes.net/ list: 37.5%\n",
      "Percent complete https://www.manilatimes.net/ list: 37.6%\n",
      "Percent complete https://www.manilatimes.net/ list: 37.7%\n",
      "Percent complete https://www.manilatimes.net/ list: 37.9%\n",
      "Percent complete https://www.manilatimes.net/ list: 38.0%\n",
      "Percent complete https://www.manilatimes.net/ list: 38.1%\n",
      "Percent complete https://www.manilatimes.net/ list: 38.2%\n",
      "Percent complete https://www.manilatimes.net/ list: 38.3%\n",
      "Percent complete https://www.manilatimes.net/ list: 38.4%\n",
      "Percent complete https://www.manilatimes.net/ list: 38.5%\n",
      "Percent complete https://www.manilatimes.net/ list: 38.7%\n",
      "Percent complete https://www.manilatimes.net/ list: 38.8%\n",
      "Percent complete https://www.manilatimes.net/ list: 38.9%\n",
      "Percent complete https://www.manilatimes.net/ list: 39.0%\n",
      "Percent complete https://www.manilatimes.net/ list: 39.1%\n",
      "Percent complete https://www.manilatimes.net/ list: 39.2%\n",
      "Percent complete https://www.manilatimes.net/ list: 39.3%\n",
      "Percent complete https://www.manilatimes.net/ list: 39.5%\n",
      "Percent complete https://www.manilatimes.net/ list: 39.6%\n",
      "Percent complete https://www.manilatimes.net/ list: 39.7%\n",
      "Percent complete https://www.manilatimes.net/ list: 39.8%\n",
      "Percent complete https://www.manilatimes.net/ list: 39.9%\n",
      "Percent complete https://www.manilatimes.net/ list: 40.0%\n",
      "Percent complete https://www.manilatimes.net/ list: 40.1%\n",
      "Percent complete https://www.manilatimes.net/ list: 40.3%\n",
      "Percent complete https://www.manilatimes.net/ list: 40.4%\n",
      "Percent complete https://www.manilatimes.net/ list: 40.5%\n",
      "Percent complete https://www.manilatimes.net/ list: 40.6%\n",
      "Percent complete https://www.manilatimes.net/ list: 40.7%\n",
      "Percent complete https://www.manilatimes.net/ list: 40.8%\n",
      "Percent complete https://www.manilatimes.net/ list: 40.9%\n",
      "Percent complete https://www.manilatimes.net/ list: 41.0%\n",
      "Percent complete https://www.manilatimes.net/ list: 41.2%\n",
      "Percent complete https://www.manilatimes.net/ list: 41.3%\n",
      "Percent complete https://www.manilatimes.net/ list: 41.4%\n",
      "Percent complete https://www.manilatimes.net/ list: 41.5%\n",
      "Percent complete https://www.manilatimes.net/ list: 41.6%\n",
      "Percent complete https://www.manilatimes.net/ list: 41.7%\n",
      "Percent complete https://www.manilatimes.net/ list: 41.8%\n",
      "Percent complete https://www.manilatimes.net/ list: 42.0%\n",
      "Percent complete https://www.manilatimes.net/ list: 42.1%\n",
      "Percent complete https://www.manilatimes.net/ list: 42.2%\n",
      "Percent complete https://www.manilatimes.net/ list: 42.3%\n",
      "Percent complete https://www.manilatimes.net/ list: 42.4%\n",
      "Percent complete https://www.manilatimes.net/ list: 42.5%\n",
      "Percent complete https://www.manilatimes.net/ list: 42.6%\n",
      "Percent complete https://www.manilatimes.net/ list: 42.8%\n",
      "Percent complete https://www.manilatimes.net/ list: 42.9%\n",
      "Percent complete https://www.manilatimes.net/ list: 43.0%\n",
      "Percent complete https://www.manilatimes.net/ list: 43.1%\n",
      "Percent complete https://www.manilatimes.net/ list: 43.2%\n",
      "Percent complete https://www.manilatimes.net/ list: 43.3%\n",
      "Percent complete https://www.manilatimes.net/ list: 43.4%\n",
      "Percent complete https://www.manilatimes.net/ list: 43.6%\n",
      "Percent complete https://www.manilatimes.net/ list: 43.7%\n",
      "Percent complete https://www.manilatimes.net/ list: 43.8%\n",
      "Percent complete https://www.manilatimes.net/ list: 43.9%\n",
      "Percent complete https://www.manilatimes.net/ list: 44.0%\n",
      "Percent complete https://www.manilatimes.net/ list: 44.1%\n",
      "Percent complete https://www.manilatimes.net/ list: 44.2%\n",
      "Percent complete https://www.manilatimes.net/ list: 44.4%\n",
      "Percent complete https://www.manilatimes.net/ list: 44.5%\n",
      "Percent complete https://www.manilatimes.net/ list: 44.6%\n",
      "Percent complete https://www.manilatimes.net/ list: 44.7%\n",
      "Percent complete https://www.manilatimes.net/ list: 44.8%\n",
      "Percent complete https://www.manilatimes.net/ list: 44.9%\n",
      "Percent complete https://www.manilatimes.net/ list: 45.0%\n",
      "Percent complete https://www.manilatimes.net/ list: 45.2%\n",
      "Percent complete https://www.manilatimes.net/ list: 45.3%\n",
      "Percent complete https://www.manilatimes.net/ list: 45.4%\n",
      "Percent complete https://www.manilatimes.net/ list: 45.5%\n",
      "Percent complete https://www.manilatimes.net/ list: 45.6%\n",
      "Percent complete https://www.manilatimes.net/ list: 45.7%\n",
      "Percent complete https://www.manilatimes.net/ list: 45.8%\n",
      "Percent complete https://www.manilatimes.net/ list: 46.0%\n",
      "Percent complete https://www.manilatimes.net/ list: 46.1%\n",
      "Percent complete https://www.manilatimes.net/ list: 46.2%\n",
      "Percent complete https://www.manilatimes.net/ list: 46.3%\n",
      "Percent complete https://www.manilatimes.net/ list: 46.4%\n",
      "Percent complete https://www.manilatimes.net/ list: 46.5%\n",
      "Percent complete https://www.manilatimes.net/ list: 46.6%\n",
      "Percent complete https://www.manilatimes.net/ list: 46.8%\n",
      "Percent complete https://www.manilatimes.net/ list: 46.9%\n",
      "Percent complete https://www.manilatimes.net/ list: 47.0%\n",
      "Percent complete https://www.manilatimes.net/ list: 47.1%\n",
      "Percent complete https://www.manilatimes.net/ list: 47.2%\n",
      "Percent complete https://www.manilatimes.net/ list: 47.3%\n",
      "Percent complete https://www.manilatimes.net/ list: 47.4%\n",
      "Percent complete https://www.manilatimes.net/ list: 47.5%\n",
      "Percent complete https://www.manilatimes.net/ list: 47.7%\n",
      "Percent complete https://www.manilatimes.net/ list: 47.8%\n",
      "Percent complete https://www.manilatimes.net/ list: 47.9%\n",
      "Percent complete https://www.manilatimes.net/ list: 48.0%\n",
      "Percent complete https://www.manilatimes.net/ list: 48.1%\n",
      "Percent complete https://www.manilatimes.net/ list: 48.2%\n",
      "Percent complete https://www.manilatimes.net/ list: 48.3%\n",
      "Percent complete https://www.manilatimes.net/ list: 48.5%\n",
      "Percent complete https://www.manilatimes.net/ list: 48.6%\n",
      "Percent complete https://www.manilatimes.net/ list: 48.7%\n",
      "Percent complete https://www.manilatimes.net/ list: 48.8%\n",
      "Percent complete https://www.manilatimes.net/ list: 48.9%\n",
      "Percent complete https://www.manilatimes.net/ list: 49.0%\n",
      "Percent complete https://www.manilatimes.net/ list: 49.1%\n",
      "Percent complete https://www.manilatimes.net/ list: 49.3%\n",
      "Percent complete https://www.manilatimes.net/ list: 49.4%\n",
      "Percent complete https://www.manilatimes.net/ list: 49.5%\n",
      "Percent complete https://www.manilatimes.net/ list: 49.6%\n",
      "Percent complete https://www.manilatimes.net/ list: 49.7%\n",
      "Percent complete https://www.manilatimes.net/ list: 49.8%\n",
      "Percent complete https://www.manilatimes.net/ list: 49.9%\n",
      "Percent complete https://www.manilatimes.net/ list: 50.1%\n",
      "Percent complete https://www.manilatimes.net/ list: 50.2%\n",
      "Percent complete https://www.manilatimes.net/ list: 50.3%\n",
      "Percent complete https://www.manilatimes.net/ list: 50.4%\n",
      "Percent complete https://www.manilatimes.net/ list: 50.5%\n",
      "Percent complete https://www.manilatimes.net/ list: 50.6%\n",
      "Percent complete https://www.manilatimes.net/ list: 50.7%\n",
      "Percent complete https://www.manilatimes.net/ list: 50.9%\n",
      "Percent complete https://www.manilatimes.net/ list: 51.0%\n",
      "Percent complete https://www.manilatimes.net/ list: 51.1%\n",
      "Percent complete https://www.manilatimes.net/ list: 51.2%\n",
      "Percent complete https://www.manilatimes.net/ list: 51.3%\n",
      "Percent complete https://www.manilatimes.net/ list: 51.4%\n",
      "Percent complete https://www.manilatimes.net/ list: 51.5%\n",
      "Percent complete https://www.manilatimes.net/ list: 51.7%\n",
      "Percent complete https://www.manilatimes.net/ list: 51.8%\n",
      "Percent complete https://www.manilatimes.net/ list: 51.9%\n",
      "Percent complete https://www.manilatimes.net/ list: 52.0%\n",
      "Percent complete https://www.manilatimes.net/ list: 52.1%\n",
      "Percent complete https://www.manilatimes.net/ list: 52.2%\n",
      "Percent complete https://www.manilatimes.net/ list: 52.3%\n",
      "Percent complete https://www.manilatimes.net/ list: 52.5%\n",
      "Percent complete https://www.manilatimes.net/ list: 52.6%\n",
      "Percent complete https://www.manilatimes.net/ list: 52.7%\n",
      "Percent complete https://www.manilatimes.net/ list: 52.8%\n",
      "Percent complete https://www.manilatimes.net/ list: 52.9%\n",
      "Percent complete https://www.manilatimes.net/ list: 53.0%\n",
      "Percent complete https://www.manilatimes.net/ list: 53.1%\n",
      "Percent complete https://www.manilatimes.net/ list: 53.2%\n",
      "Percent complete https://www.manilatimes.net/ list: 53.4%\n",
      "Percent complete https://www.manilatimes.net/ list: 53.5%\n",
      "Percent complete https://www.manilatimes.net/ list: 53.6%\n",
      "Percent complete https://www.manilatimes.net/ list: 53.7%\n",
      "Percent complete https://www.manilatimes.net/ list: 53.8%\n",
      "Percent complete https://www.manilatimes.net/ list: 53.9%\n",
      "Percent complete https://www.manilatimes.net/ list: 54.0%\n",
      "Percent complete https://www.manilatimes.net/ list: 54.2%\n",
      "Percent complete https://www.manilatimes.net/ list: 54.3%\n",
      "Percent complete https://www.manilatimes.net/ list: 54.4%\n",
      "Percent complete https://www.manilatimes.net/ list: 54.5%\n",
      "Percent complete https://www.manilatimes.net/ list: 54.6%\n",
      "Percent complete https://www.manilatimes.net/ list: 54.7%\n",
      "Percent complete https://www.manilatimes.net/ list: 54.8%\n",
      "Percent complete https://www.manilatimes.net/ list: 55.0%\n",
      "Percent complete https://www.manilatimes.net/ list: 55.1%\n",
      "Percent complete https://www.manilatimes.net/ list: 55.2%\n",
      "Percent complete https://www.manilatimes.net/ list: 55.3%\n",
      "Percent complete https://www.manilatimes.net/ list: 55.4%\n",
      "Percent complete https://www.manilatimes.net/ list: 55.5%\n",
      "Percent complete https://www.manilatimes.net/ list: 55.6%\n",
      "Percent complete https://www.manilatimes.net/ list: 55.8%\n",
      "Percent complete https://www.manilatimes.net/ list: 55.9%\n",
      "Percent complete https://www.manilatimes.net/ list: 56.0%\n",
      "Percent complete https://www.manilatimes.net/ list: 56.1%\n",
      "Percent complete https://www.manilatimes.net/ list: 56.2%\n",
      "Percent complete https://www.manilatimes.net/ list: 56.3%\n",
      "Percent complete https://www.manilatimes.net/ list: 56.4%\n",
      "Percent complete https://www.manilatimes.net/ list: 56.6%\n",
      "Percent complete https://www.manilatimes.net/ list: 56.7%\n",
      "Percent complete https://www.manilatimes.net/ list: 56.8%\n",
      "Percent complete https://www.manilatimes.net/ list: 56.9%\n",
      "Percent complete https://www.manilatimes.net/ list: 57.0%\n",
      "Percent complete https://www.manilatimes.net/ list: 57.1%\n",
      "Percent complete https://www.manilatimes.net/ list: 57.2%\n",
      "Percent complete https://www.manilatimes.net/ list: 57.4%\n",
      "Percent complete https://www.manilatimes.net/ list: 57.5%\n",
      "Percent complete https://www.manilatimes.net/ list: 57.6%\n",
      "Percent complete https://www.manilatimes.net/ list: 57.7%\n",
      "Percent complete https://www.manilatimes.net/ list: 57.8%\n",
      "Percent complete https://www.manilatimes.net/ list: 57.9%\n",
      "Percent complete https://www.manilatimes.net/ list: 58.0%\n",
      "Percent complete https://www.manilatimes.net/ list: 58.2%\n",
      "Percent complete https://www.manilatimes.net/ list: 58.3%\n",
      "Percent complete https://www.manilatimes.net/ list: 58.4%\n",
      "Percent complete https://www.manilatimes.net/ list: 58.5%\n",
      "Percent complete https://www.manilatimes.net/ list: 58.6%\n",
      "Percent complete https://www.manilatimes.net/ list: 58.7%\n",
      "Percent complete https://www.manilatimes.net/ list: 58.8%\n",
      "Percent complete https://www.manilatimes.net/ list: 59.0%\n",
      "Percent complete https://www.manilatimes.net/ list: 59.1%\n",
      "Percent complete https://www.manilatimes.net/ list: 59.2%\n",
      "Percent complete https://www.manilatimes.net/ list: 59.3%\n",
      "Percent complete https://www.manilatimes.net/ list: 59.4%\n",
      "Percent complete https://www.manilatimes.net/ list: 59.5%\n",
      "Percent complete https://www.manilatimes.net/ list: 59.6%\n",
      "Percent complete https://www.manilatimes.net/ list: 59.7%\n",
      "Percent complete https://www.manilatimes.net/ list: 59.9%\n",
      "Percent complete https://www.manilatimes.net/ list: 60.0%\n",
      "Percent complete https://www.manilatimes.net/ list: 60.1%\n",
      "Percent complete https://www.manilatimes.net/ list: 60.2%\n",
      "Percent complete https://www.manilatimes.net/ list: 60.3%\n",
      "Percent complete https://www.manilatimes.net/ list: 60.4%\n",
      "Percent complete https://www.manilatimes.net/ list: 60.5%\n",
      "Percent complete https://www.manilatimes.net/ list: 60.7%\n",
      "Percent complete https://www.manilatimes.net/ list: 60.8%\n",
      "Percent complete https://www.manilatimes.net/ list: 60.9%\n",
      "Percent complete https://www.manilatimes.net/ list: 61.0%\n",
      "Percent complete https://www.manilatimes.net/ list: 61.1%\n",
      "Percent complete https://www.manilatimes.net/ list: 61.2%\n",
      "Percent complete https://www.manilatimes.net/ list: 61.3%\n",
      "Percent complete https://www.manilatimes.net/ list: 61.5%\n",
      "Percent complete https://www.manilatimes.net/ list: 61.6%\n",
      "Percent complete https://www.manilatimes.net/ list: 61.7%\n",
      "Percent complete https://www.manilatimes.net/ list: 61.8%\n",
      "Percent complete https://www.manilatimes.net/ list: 61.9%\n",
      "Percent complete https://www.manilatimes.net/ list: 62.0%\n",
      "Percent complete https://www.manilatimes.net/ list: 62.1%\n",
      "Percent complete https://www.manilatimes.net/ list: 62.3%\n",
      "Percent complete https://www.manilatimes.net/ list: 62.4%\n",
      "Percent complete https://www.manilatimes.net/ list: 62.5%\n",
      "Percent complete https://www.manilatimes.net/ list: 62.6%\n",
      "Percent complete https://www.manilatimes.net/ list: 62.7%\n",
      "Percent complete https://www.manilatimes.net/ list: 62.8%\n",
      "Percent complete https://www.manilatimes.net/ list: 62.9%\n",
      "Percent complete https://www.manilatimes.net/ list: 63.1%\n",
      "Percent complete https://www.manilatimes.net/ list: 63.2%\n",
      "Percent complete https://www.manilatimes.net/ list: 63.3%\n",
      "Percent complete https://www.manilatimes.net/ list: 63.4%\n",
      "Percent complete https://www.manilatimes.net/ list: 63.5%\n",
      "Percent complete https://www.manilatimes.net/ list: 63.6%\n",
      "Percent complete https://www.manilatimes.net/ list: 63.7%\n",
      "Percent complete https://www.manilatimes.net/ list: 63.9%\n",
      "Percent complete https://www.manilatimes.net/ list: 64.0%\n",
      "Percent complete https://www.manilatimes.net/ list: 64.1%\n",
      "Percent complete https://www.manilatimes.net/ list: 64.2%\n",
      "Percent complete https://www.manilatimes.net/ list: 64.3%\n",
      "Percent complete https://www.manilatimes.net/ list: 64.4%\n",
      "Percent complete https://www.manilatimes.net/ list: 64.5%\n",
      "Percent complete https://www.manilatimes.net/ list: 64.7%\n",
      "Percent complete https://www.manilatimes.net/ list: 64.8%\n",
      "Percent complete https://www.manilatimes.net/ list: 64.9%\n",
      "Percent complete https://www.manilatimes.net/ list: 65.0%\n",
      "Percent complete https://www.manilatimes.net/ list: 65.1%\n",
      "Percent complete https://www.manilatimes.net/ list: 65.2%\n",
      "Percent complete https://www.manilatimes.net/ list: 65.3%\n",
      "Percent complete https://www.manilatimes.net/ list: 65.5%\n",
      "Percent complete https://www.manilatimes.net/ list: 65.6%\n",
      "Percent complete https://www.manilatimes.net/ list: 65.7%\n",
      "Percent complete https://www.manilatimes.net/ list: 65.8%\n",
      "Percent complete https://www.manilatimes.net/ list: 65.9%\n",
      "Percent complete https://www.manilatimes.net/ list: 66.0%\n",
      "Percent complete https://www.manilatimes.net/ list: 66.1%\n",
      "Percent complete https://www.manilatimes.net/ list: 66.2%\n",
      "Percent complete https://www.manilatimes.net/ list: 66.4%\n",
      "Percent complete https://www.manilatimes.net/ list: 66.5%\n",
      "Percent complete https://www.manilatimes.net/ list: 66.6%\n",
      "Percent complete https://www.manilatimes.net/ list: 66.7%\n",
      "Percent complete https://www.manilatimes.net/ list: 66.8%\n",
      "Percent complete https://www.manilatimes.net/ list: 66.9%\n",
      "Percent complete https://www.manilatimes.net/ list: 67.0%\n",
      "Percent complete https://www.manilatimes.net/ list: 67.2%\n",
      "Percent complete https://www.manilatimes.net/ list: 67.3%\n",
      "Percent complete https://www.manilatimes.net/ list: 67.4%\n",
      "Percent complete https://www.manilatimes.net/ list: 67.5%\n",
      "Percent complete https://www.manilatimes.net/ list: 67.6%\n",
      "Percent complete https://www.manilatimes.net/ list: 67.7%\n",
      "Percent complete https://www.manilatimes.net/ list: 67.8%\n",
      "Percent complete https://www.manilatimes.net/ list: 68.0%\n",
      "Percent complete https://www.manilatimes.net/ list: 68.1%\n",
      "Percent complete https://www.manilatimes.net/ list: 68.2%\n",
      "Percent complete https://www.manilatimes.net/ list: 68.3%\n",
      "Percent complete https://www.manilatimes.net/ list: 68.4%\n",
      "Percent complete https://www.manilatimes.net/ list: 68.5%\n",
      "Percent complete https://www.manilatimes.net/ list: 68.6%\n",
      "Percent complete https://www.manilatimes.net/ list: 68.8%\n",
      "Percent complete https://www.manilatimes.net/ list: 68.9%\n",
      "Percent complete https://www.manilatimes.net/ list: 69.0%\n",
      "Percent complete https://www.manilatimes.net/ list: 69.1%\n",
      "Percent complete https://www.manilatimes.net/ list: 69.2%\n",
      "Percent complete https://www.manilatimes.net/ list: 69.3%\n",
      "Percent complete https://www.manilatimes.net/ list: 69.4%\n",
      "Percent complete https://www.manilatimes.net/ list: 69.6%\n",
      "Percent complete https://www.manilatimes.net/ list: 69.7%\n",
      "Percent complete https://www.manilatimes.net/ list: 69.8%\n",
      "Percent complete https://www.manilatimes.net/ list: 69.9%\n",
      "Percent complete https://www.manilatimes.net/ list: 70.0%\n",
      "Percent complete https://www.manilatimes.net/ list: 70.1%\n",
      "Percent complete https://www.manilatimes.net/ list: 70.2%\n",
      "Percent complete https://www.manilatimes.net/ list: 70.4%\n",
      "Percent complete https://www.manilatimes.net/ list: 70.5%\n",
      "Percent complete https://www.manilatimes.net/ list: 70.6%\n",
      "Percent complete https://www.manilatimes.net/ list: 70.7%\n",
      "Percent complete https://www.manilatimes.net/ list: 70.8%\n",
      "Percent complete https://www.manilatimes.net/ list: 70.9%\n",
      "Percent complete https://www.manilatimes.net/ list: 71.0%\n",
      "Percent complete https://www.manilatimes.net/ list: 71.2%\n",
      "Percent complete https://www.manilatimes.net/ list: 71.3%\n",
      "Percent complete https://www.manilatimes.net/ list: 71.4%\n",
      "Percent complete https://www.manilatimes.net/ list: 71.5%\n",
      "Percent complete https://www.manilatimes.net/ list: 71.6%\n",
      "Percent complete https://www.manilatimes.net/ list: 71.7%\n",
      "Percent complete https://www.manilatimes.net/ list: 71.8%\n",
      "Percent complete https://www.manilatimes.net/ list: 71.9%\n",
      "Percent complete https://www.manilatimes.net/ list: 72.1%\n",
      "Percent complete https://www.manilatimes.net/ list: 72.2%\n",
      "Percent complete https://www.manilatimes.net/ list: 72.3%\n",
      "Percent complete https://www.manilatimes.net/ list: 72.4%\n",
      "Percent complete https://www.manilatimes.net/ list: 72.5%\n",
      "Percent complete https://www.manilatimes.net/ list: 72.6%\n",
      "Percent complete https://www.manilatimes.net/ list: 72.7%\n",
      "Percent complete https://www.manilatimes.net/ list: 72.9%\n",
      "Percent complete https://www.manilatimes.net/ list: 73.0%\n",
      "Percent complete https://www.manilatimes.net/ list: 73.1%\n",
      "Percent complete https://www.manilatimes.net/ list: 73.2%\n",
      "Percent complete https://www.manilatimes.net/ list: 73.3%\n",
      "Percent complete https://www.manilatimes.net/ list: 73.4%\n",
      "Percent complete https://www.manilatimes.net/ list: 73.5%\n",
      "Percent complete https://www.manilatimes.net/ list: 73.7%\n",
      "Percent complete https://www.manilatimes.net/ list: 73.8%\n",
      "Percent complete https://www.manilatimes.net/ list: 73.9%\n",
      "Percent complete https://www.manilatimes.net/ list: 74.0%\n",
      "Percent complete https://www.manilatimes.net/ list: 74.1%\n",
      "Percent complete https://www.manilatimes.net/ list: 74.2%\n",
      "Percent complete https://www.manilatimes.net/ list: 74.3%\n",
      "Percent complete https://www.manilatimes.net/ list: 74.5%\n",
      "Percent complete https://www.manilatimes.net/ list: 74.6%\n",
      "Percent complete https://www.manilatimes.net/ list: 74.7%\n",
      "Percent complete https://www.manilatimes.net/ list: 74.8%\n",
      "Percent complete https://www.manilatimes.net/ list: 74.9%\n",
      "Percent complete https://www.manilatimes.net/ list: 75.0%\n",
      "Percent complete https://www.manilatimes.net/ list: 75.1%\n",
      "Percent complete https://www.manilatimes.net/ list: 75.3%\n",
      "Percent complete https://www.manilatimes.net/ list: 75.4%\n",
      "Percent complete https://www.manilatimes.net/ list: 75.5%\n",
      "Percent complete https://www.manilatimes.net/ list: 75.6%\n",
      "Percent complete https://www.manilatimes.net/ list: 75.7%\n",
      "Percent complete https://www.manilatimes.net/ list: 75.8%\n",
      "Percent complete https://www.manilatimes.net/ list: 75.9%\n",
      "Percent complete https://www.manilatimes.net/ list: 76.1%\n",
      "Percent complete https://www.manilatimes.net/ list: 76.2%\n",
      "Percent complete https://www.manilatimes.net/ list: 76.3%\n",
      "Percent complete https://www.manilatimes.net/ list: 76.4%\n",
      "Percent complete https://www.manilatimes.net/ list: 76.5%\n",
      "Percent complete https://www.manilatimes.net/ list: 76.6%\n",
      "Percent complete https://www.manilatimes.net/ list: 76.7%\n",
      "Percent complete https://www.manilatimes.net/ list: 76.9%\n",
      "Percent complete https://www.manilatimes.net/ list: 77.0%\n",
      "Percent complete https://www.manilatimes.net/ list: 77.1%\n",
      "Percent complete https://www.manilatimes.net/ list: 77.2%\n",
      "Percent complete https://www.manilatimes.net/ list: 77.3%\n",
      "Percent complete https://www.manilatimes.net/ list: 77.4%\n",
      "Percent complete https://www.manilatimes.net/ list: 77.5%\n",
      "Percent complete https://www.manilatimes.net/ list: 77.7%\n",
      "Percent complete https://www.manilatimes.net/ list: 77.8%\n",
      "Percent complete https://www.manilatimes.net/ list: 77.9%\n",
      "Percent complete https://www.manilatimes.net/ list: 78.0%\n",
      "Percent complete https://www.manilatimes.net/ list: 78.1%\n",
      "Percent complete https://www.manilatimes.net/ list: 78.2%\n",
      "Percent complete https://www.manilatimes.net/ list: 78.3%\n",
      "Percent complete https://www.manilatimes.net/ list: 78.4%\n",
      "Percent complete https://www.manilatimes.net/ list: 78.6%\n",
      "Percent complete https://www.manilatimes.net/ list: 78.7%\n",
      "Percent complete https://www.manilatimes.net/ list: 78.8%\n",
      "Percent complete https://www.manilatimes.net/ list: 78.9%\n",
      "Percent complete https://www.manilatimes.net/ list: 79.0%\n",
      "Percent complete https://www.manilatimes.net/ list: 79.1%\n",
      "Percent complete https://www.manilatimes.net/ list: 79.2%\n",
      "Percent complete https://www.manilatimes.net/ list: 79.4%\n",
      "Percent complete https://www.manilatimes.net/ list: 79.5%\n",
      "Percent complete https://www.manilatimes.net/ list: 79.6%\n",
      "Percent complete https://www.manilatimes.net/ list: 79.7%\n",
      "Percent complete https://www.manilatimes.net/ list: 79.8%\n",
      "Percent complete https://www.manilatimes.net/ list: 79.9%\n",
      "Percent complete https://www.manilatimes.net/ list: 80.0%\n",
      "Percent complete https://www.manilatimes.net/ list: 80.2%\n",
      "Percent complete https://www.manilatimes.net/ list: 80.3%\n",
      "Percent complete https://www.manilatimes.net/ list: 80.4%\n",
      "Percent complete https://www.manilatimes.net/ list: 80.5%\n",
      "Percent complete https://www.manilatimes.net/ list: 80.6%\n",
      "Percent complete https://www.manilatimes.net/ list: 80.7%\n",
      "Percent complete https://www.manilatimes.net/ list: 80.8%\n",
      "Percent complete https://www.manilatimes.net/ list: 81.0%\n",
      "Percent complete https://www.manilatimes.net/ list: 81.1%\n",
      "Percent complete https://www.manilatimes.net/ list: 81.2%\n",
      "Percent complete https://www.manilatimes.net/ list: 81.3%\n",
      "Percent complete https://www.manilatimes.net/ list: 81.4%\n",
      "Percent complete https://www.manilatimes.net/ list: 81.5%\n",
      "Percent complete https://www.manilatimes.net/ list: 81.6%\n",
      "Percent complete https://www.manilatimes.net/ list: 81.8%\n",
      "Percent complete https://www.manilatimes.net/ list: 81.9%\n",
      "Percent complete https://www.manilatimes.net/ list: 82.0%\n",
      "Percent complete https://www.manilatimes.net/ list: 82.1%\n",
      "Percent complete https://www.manilatimes.net/ list: 82.2%\n",
      "Percent complete https://www.manilatimes.net/ list: 82.3%\n",
      "Percent complete https://www.manilatimes.net/ list: 82.4%\n",
      "Percent complete https://www.manilatimes.net/ list: 82.6%\n",
      "Percent complete https://www.manilatimes.net/ list: 82.7%\n",
      "Percent complete https://www.manilatimes.net/ list: 82.8%\n",
      "Percent complete https://www.manilatimes.net/ list: 82.9%\n",
      "Percent complete https://www.manilatimes.net/ list: 83.0%\n",
      "Percent complete https://www.manilatimes.net/ list: 83.1%\n",
      "Percent complete https://www.manilatimes.net/ list: 83.2%\n",
      "Percent complete https://www.manilatimes.net/ list: 83.4%\n",
      "Percent complete https://www.manilatimes.net/ list: 83.5%\n",
      "Percent complete https://www.manilatimes.net/ list: 83.6%\n",
      "Percent complete https://www.manilatimes.net/ list: 83.7%\n",
      "Percent complete https://www.manilatimes.net/ list: 83.8%\n",
      "Percent complete https://www.manilatimes.net/ list: 83.9%\n",
      "Percent complete https://www.manilatimes.net/ list: 84.0%\n",
      "Percent complete https://www.manilatimes.net/ list: 84.2%\n",
      "Percent complete https://www.manilatimes.net/ list: 84.3%\n",
      "Percent complete https://www.manilatimes.net/ list: 84.4%\n",
      "Percent complete https://www.manilatimes.net/ list: 84.5%\n",
      "Percent complete https://www.manilatimes.net/ list: 84.6%\n",
      "Percent complete https://www.manilatimes.net/ list: 84.7%\n",
      "Percent complete https://www.manilatimes.net/ list: 84.8%\n",
      "Percent complete https://www.manilatimes.net/ list: 84.9%\n",
      "Percent complete https://www.manilatimes.net/ list: 85.1%\n",
      "Percent complete https://www.manilatimes.net/ list: 85.2%\n",
      "Percent complete https://www.manilatimes.net/ list: 85.3%\n",
      "Percent complete https://www.manilatimes.net/ list: 85.4%\n",
      "Percent complete https://www.manilatimes.net/ list: 85.5%\n",
      "Percent complete https://www.manilatimes.net/ list: 85.6%\n",
      "Percent complete https://www.manilatimes.net/ list: 85.7%\n",
      "Percent complete https://www.manilatimes.net/ list: 85.9%\n",
      "Percent complete https://www.manilatimes.net/ list: 86.0%\n",
      "Percent complete https://www.manilatimes.net/ list: 86.1%\n",
      "Percent complete https://www.manilatimes.net/ list: 86.2%\n",
      "Percent complete https://www.manilatimes.net/ list: 86.3%\n",
      "Percent complete https://www.manilatimes.net/ list: 86.4%\n",
      "Percent complete https://www.manilatimes.net/ list: 86.5%\n",
      "Percent complete https://www.manilatimes.net/ list: 86.7%\n",
      "Percent complete https://www.manilatimes.net/ list: 86.8%\n",
      "Percent complete https://www.manilatimes.net/ list: 86.9%\n",
      "Percent complete https://www.manilatimes.net/ list: 87.0%\n",
      "Percent complete https://www.manilatimes.net/ list: 87.1%\n",
      "Percent complete https://www.manilatimes.net/ list: 87.2%\n",
      "Percent complete https://www.manilatimes.net/ list: 87.3%\n",
      "Percent complete https://www.manilatimes.net/ list: 87.5%\n",
      "Percent complete https://www.manilatimes.net/ list: 87.6%\n",
      "Percent complete https://www.manilatimes.net/ list: 87.7%\n",
      "Percent complete https://www.manilatimes.net/ list: 87.8%\n",
      "Percent complete https://www.manilatimes.net/ list: 87.9%\n",
      "Percent complete https://www.manilatimes.net/ list: 88.0%\n",
      "Percent complete https://www.manilatimes.net/ list: 88.1%\n",
      "Percent complete https://www.manilatimes.net/ list: 88.3%\n",
      "Percent complete https://www.manilatimes.net/ list: 88.4%\n",
      "Percent complete https://www.manilatimes.net/ list: 88.5%\n",
      "Percent complete https://www.manilatimes.net/ list: 88.6%\n",
      "Percent complete https://www.manilatimes.net/ list: 88.7%\n",
      "Percent complete https://www.manilatimes.net/ list: 88.8%\n",
      "Percent complete https://www.manilatimes.net/ list: 88.9%\n",
      "Percent complete https://www.manilatimes.net/ list: 89.1%\n",
      "Percent complete https://www.manilatimes.net/ list: 89.2%\n",
      "Percent complete https://www.manilatimes.net/ list: 89.3%\n",
      "Percent complete https://www.manilatimes.net/ list: 89.4%\n",
      "Percent complete https://www.manilatimes.net/ list: 89.5%\n",
      "Percent complete https://www.manilatimes.net/ list: 89.6%\n",
      "Percent complete https://www.manilatimes.net/ list: 89.7%\n",
      "Percent complete https://www.manilatimes.net/ list: 89.9%\n",
      "Percent complete https://www.manilatimes.net/ list: 90.0%\n",
      "Percent complete https://www.manilatimes.net/ list: 90.1%\n",
      "Percent complete https://www.manilatimes.net/ list: 90.2%\n",
      "Percent complete https://www.manilatimes.net/ list: 90.3%\n",
      "Percent complete https://www.manilatimes.net/ list: 90.4%\n",
      "Percent complete https://www.manilatimes.net/ list: 90.5%\n",
      "Percent complete https://www.manilatimes.net/ list: 90.6%\n",
      "Percent complete https://www.manilatimes.net/ list: 90.8%\n",
      "Percent complete https://www.manilatimes.net/ list: 90.9%\n",
      "Percent complete https://www.manilatimes.net/ list: 91.0%\n",
      "Percent complete https://www.manilatimes.net/ list: 91.1%\n",
      "Percent complete https://www.manilatimes.net/ list: 91.2%\n",
      "Percent complete https://www.manilatimes.net/ list: 91.3%\n",
      "Percent complete https://www.manilatimes.net/ list: 91.4%\n",
      "Percent complete https://www.manilatimes.net/ list: 91.6%\n",
      "Percent complete https://www.manilatimes.net/ list: 91.7%\n",
      "Percent complete https://www.manilatimes.net/ list: 91.8%\n",
      "Percent complete https://www.manilatimes.net/ list: 91.9%\n",
      "Percent complete https://www.manilatimes.net/ list: 92.0%\n",
      "Percent complete https://www.manilatimes.net/ list: 92.1%\n",
      "Percent complete https://www.manilatimes.net/ list: 92.2%\n",
      "Percent complete https://www.manilatimes.net/ list: 92.4%\n",
      "Percent complete https://www.manilatimes.net/ list: 92.5%\n",
      "Percent complete https://www.manilatimes.net/ list: 92.6%\n",
      "Percent complete https://www.manilatimes.net/ list: 92.7%\n",
      "Percent complete https://www.manilatimes.net/ list: 92.8%\n",
      "Percent complete https://www.manilatimes.net/ list: 92.9%\n",
      "Percent complete https://www.manilatimes.net/ list: 93.0%\n",
      "Percent complete https://www.manilatimes.net/ list: 93.2%\n",
      "Percent complete https://www.manilatimes.net/ list: 93.3%\n",
      "Percent complete https://www.manilatimes.net/ list: 93.4%\n",
      "Percent complete https://www.manilatimes.net/ list: 93.5%\n",
      "Percent complete https://www.manilatimes.net/ list: 93.6%\n",
      "Percent complete https://www.manilatimes.net/ list: 93.7%\n",
      "Percent complete https://www.manilatimes.net/ list: 93.8%\n",
      "Percent complete https://www.manilatimes.net/ list: 94.0%\n",
      "Percent complete https://www.manilatimes.net/ list: 94.1%\n",
      "Percent complete https://www.manilatimes.net/ list: 94.2%\n",
      "Percent complete https://www.manilatimes.net/ list: 94.3%\n",
      "Percent complete https://www.manilatimes.net/ list: 94.4%\n",
      "Percent complete https://www.manilatimes.net/ list: 94.5%\n",
      "Percent complete https://www.manilatimes.net/ list: 94.6%\n",
      "Percent complete https://www.manilatimes.net/ list: 94.8%\n",
      "Percent complete https://www.manilatimes.net/ list: 94.9%\n",
      "Percent complete https://www.manilatimes.net/ list: 95.0%\n",
      "Percent complete https://www.manilatimes.net/ list: 95.1%\n",
      "Percent complete https://www.manilatimes.net/ list: 95.2%\n",
      "Percent complete https://www.manilatimes.net/ list: 95.3%\n",
      "Percent complete https://www.manilatimes.net/ list: 95.4%\n",
      "Percent complete https://www.manilatimes.net/ list: 95.6%\n",
      "Percent complete https://www.manilatimes.net/ list: 95.7%\n",
      "Percent complete https://www.manilatimes.net/ list: 95.8%\n",
      "Percent complete https://www.manilatimes.net/ list: 95.9%\n",
      "Percent complete https://www.manilatimes.net/ list: 96.0%\n",
      "Percent complete https://www.manilatimes.net/ list: 96.1%\n",
      "Percent complete https://www.manilatimes.net/ list: 96.2%\n",
      "Percent complete https://www.manilatimes.net/ list: 96.4%\n",
      "Percent complete https://www.manilatimes.net/ list: 96.5%\n",
      "Percent complete https://www.manilatimes.net/ list: 96.6%\n",
      "Percent complete https://www.manilatimes.net/ list: 96.7%\n",
      "Percent complete https://www.manilatimes.net/ list: 96.8%\n",
      "Percent complete https://www.manilatimes.net/ list: 96.9%\n",
      "Percent complete https://www.manilatimes.net/ list: 97.0%\n",
      "Percent complete https://www.manilatimes.net/ list: 97.1%\n",
      "Percent complete https://www.manilatimes.net/ list: 97.3%\n",
      "Percent complete https://www.manilatimes.net/ list: 97.4%\n",
      "Percent complete https://www.manilatimes.net/ list: 97.5%\n",
      "Percent complete https://www.manilatimes.net/ list: 97.6%\n",
      "Percent complete https://www.manilatimes.net/ list: 97.7%\n",
      "Percent complete https://www.manilatimes.net/ list: 97.8%\n",
      "Percent complete https://www.manilatimes.net/ list: 97.9%\n",
      "Percent complete https://www.manilatimes.net/ list: 98.1%\n",
      "Percent complete https://www.manilatimes.net/ list: 98.2%\n",
      "Percent complete https://www.manilatimes.net/ list: 98.3%\n",
      "Percent complete https://www.manilatimes.net/ list: 98.4%\n",
      "Percent complete https://www.manilatimes.net/ list: 98.5%\n",
      "Percent complete https://www.manilatimes.net/ list: 98.6%\n",
      "Percent complete https://www.manilatimes.net/ list: 98.7%\n",
      "Percent complete https://www.manilatimes.net/ list: 98.9%\n",
      "Percent complete https://www.manilatimes.net/ list: 99.0%\n",
      "Percent complete https://www.manilatimes.net/ list: 99.1%\n",
      "Percent complete https://www.manilatimes.net/ list: 99.2%\n",
      "Percent complete https://www.manilatimes.net/ list: 99.3%\n",
      "Percent complete https://www.manilatimes.net/ list: 99.4%\n",
      "Percent complete https://www.manilatimes.net/ list: 99.5%\n",
      "Percent complete https://www.manilatimes.net/ list: 99.7%\n",
      "Percent complete https://www.manilatimes.net/ list: 99.8%\n",
      "Percent complete https://www.manilatimes.net/ list: 99.9%\n",
      "Percent complete https://www.manilatimes.net/ list: 100.0%\n",
      "Percent complete all sources list: 75.0%\n"
     ]
    },
    {
     "name": "stdout",
     "output_type": "stream",
     "text": [
      "Percent complete https://mb.com.ph/ list: 0.2%\n",
      "Percent complete https://mb.com.ph/ list: 0.5%\n",
      "Percent complete https://mb.com.ph/ list: 0.7%\n",
      "Percent complete https://mb.com.ph/ list: 0.9%\n",
      "Percent complete https://mb.com.ph/ list: 1.2%\n",
      "Percent complete https://mb.com.ph/ list: 1.4%\n",
      "Percent complete https://mb.com.ph/ list: 1.6%\n",
      "Percent complete https://mb.com.ph/ list: 1.9%\n",
      "Percent complete https://mb.com.ph/ list: 2.1%\n",
      "Percent complete https://mb.com.ph/ list: 2.3%\n",
      "Percent complete https://mb.com.ph/ list: 2.6%\n",
      "Percent complete https://mb.com.ph/ list: 2.8%\n",
      "Percent complete https://mb.com.ph/ list: 3.0%\n",
      "Percent complete https://mb.com.ph/ list: 3.3%\n",
      "Percent complete https://mb.com.ph/ list: 3.5%\n",
      "Percent complete https://mb.com.ph/ list: 3.7%\n",
      "Percent complete https://mb.com.ph/ list: 4.0%\n",
      "Percent complete https://mb.com.ph/ list: 4.2%\n",
      "Percent complete https://mb.com.ph/ list: 4.4%\n",
      "Percent complete https://mb.com.ph/ list: 4.7%\n",
      "Percent complete https://mb.com.ph/ list: 4.9%\n",
      "Percent complete https://mb.com.ph/ list: 5.1%\n",
      "Percent complete https://mb.com.ph/ list: 5.4%\n",
      "Percent complete https://mb.com.ph/ list: 5.6%\n",
      "Percent complete https://mb.com.ph/ list: 5.8%\n",
      "Percent complete https://mb.com.ph/ list: 6.1%\n",
      "Percent complete https://mb.com.ph/ list: 6.3%\n",
      "Percent complete https://mb.com.ph/ list: 6.5%\n",
      "Percent complete https://mb.com.ph/ list: 6.8%\n",
      "Percent complete https://mb.com.ph/ list: 7.0%\n",
      "Percent complete https://mb.com.ph/ list: 7.2%\n",
      "Percent complete https://mb.com.ph/ list: 7.5%\n",
      "Percent complete https://mb.com.ph/ list: 7.7%\n",
      "Percent complete https://mb.com.ph/ list: 7.9%\n",
      "Percent complete https://mb.com.ph/ list: 8.2%\n",
      "Percent complete https://mb.com.ph/ list: 8.4%\n",
      "Percent complete https://mb.com.ph/ list: 8.6%\n",
      "Percent complete https://mb.com.ph/ list: 8.9%\n",
      "Percent complete https://mb.com.ph/ list: 9.1%\n",
      "Percent complete https://mb.com.ph/ list: 9.3%\n",
      "Percent complete https://mb.com.ph/ list: 9.6%\n",
      "Percent complete https://mb.com.ph/ list: 9.8%\n",
      "Percent complete https://mb.com.ph/ list: 10.0%\n",
      "Percent complete https://mb.com.ph/ list: 10.3%\n",
      "Percent complete https://mb.com.ph/ list: 10.5%\n",
      "Percent complete https://mb.com.ph/ list: 10.7%\n",
      "Percent complete https://mb.com.ph/ list: 11.0%\n",
      "Percent complete https://mb.com.ph/ list: 11.2%\n",
      "Percent complete https://mb.com.ph/ list: 11.4%\n",
      "Percent complete https://mb.com.ph/ list: 11.7%\n",
      "Percent complete https://mb.com.ph/ list: 11.9%\n",
      "Percent complete https://mb.com.ph/ list: 12.1%\n",
      "Percent complete https://mb.com.ph/ list: 12.4%\n",
      "Percent complete https://mb.com.ph/ list: 12.6%\n",
      "Percent complete https://mb.com.ph/ list: 12.9%\n",
      "Percent complete https://mb.com.ph/ list: 13.1%\n",
      "Percent complete https://mb.com.ph/ list: 13.3%\n",
      "Percent complete https://mb.com.ph/ list: 13.6%\n",
      "Percent complete https://mb.com.ph/ list: 13.8%\n",
      "Percent complete https://mb.com.ph/ list: 14.0%\n",
      "Percent complete https://mb.com.ph/ list: 14.3%\n",
      "Percent complete https://mb.com.ph/ list: 14.5%\n",
      "Percent complete https://mb.com.ph/ list: 14.7%\n",
      "Percent complete https://mb.com.ph/ list: 15.0%\n",
      "Percent complete https://mb.com.ph/ list: 15.2%\n",
      "Percent complete https://mb.com.ph/ list: 15.4%\n",
      "Percent complete https://mb.com.ph/ list: 15.7%\n",
      "Percent complete https://mb.com.ph/ list: 15.9%\n",
      "Percent complete https://mb.com.ph/ list: 16.1%\n",
      "Percent complete https://mb.com.ph/ list: 16.4%\n",
      "Percent complete https://mb.com.ph/ list: 16.6%\n",
      "Percent complete https://mb.com.ph/ list: 16.8%\n",
      "Percent complete https://mb.com.ph/ list: 17.1%\n",
      "Percent complete https://mb.com.ph/ list: 17.3%\n",
      "Percent complete https://mb.com.ph/ list: 17.5%\n",
      "Percent complete https://mb.com.ph/ list: 17.8%\n",
      "Percent complete https://mb.com.ph/ list: 18.0%\n",
      "Percent complete https://mb.com.ph/ list: 18.2%\n",
      "Percent complete https://mb.com.ph/ list: 18.5%\n",
      "Percent complete https://mb.com.ph/ list: 18.7%\n",
      "Percent complete https://mb.com.ph/ list: 18.9%\n",
      "Percent complete https://mb.com.ph/ list: 19.2%\n",
      "Percent complete https://mb.com.ph/ list: 19.4%\n",
      "Percent complete https://mb.com.ph/ list: 19.6%\n",
      "Percent complete https://mb.com.ph/ list: 19.9%\n",
      "Percent complete https://mb.com.ph/ list: 20.1%\n",
      "Percent complete https://mb.com.ph/ list: 20.3%\n",
      "Percent complete https://mb.com.ph/ list: 20.6%\n",
      "Percent complete https://mb.com.ph/ list: 20.8%\n",
      "Percent complete https://mb.com.ph/ list: 21.0%\n",
      "Percent complete https://mb.com.ph/ list: 21.3%\n",
      "Percent complete https://mb.com.ph/ list: 21.5%\n",
      "Percent complete https://mb.com.ph/ list: 21.7%\n",
      "Percent complete https://mb.com.ph/ list: 22.0%\n",
      "Percent complete https://mb.com.ph/ list: 22.2%\n",
      "Percent complete https://mb.com.ph/ list: 22.4%\n",
      "Percent complete https://mb.com.ph/ list: 22.7%\n",
      "Percent complete https://mb.com.ph/ list: 22.9%\n",
      "Percent complete https://mb.com.ph/ list: 23.1%\n",
      "Percent complete https://mb.com.ph/ list: 23.4%\n",
      "Percent complete https://mb.com.ph/ list: 23.6%\n",
      "Percent complete https://mb.com.ph/ list: 23.8%\n",
      "Percent complete https://mb.com.ph/ list: 24.1%\n",
      "Percent complete https://mb.com.ph/ list: 24.3%\n",
      "Percent complete https://mb.com.ph/ list: 24.5%\n",
      "Percent complete https://mb.com.ph/ list: 24.8%\n",
      "Percent complete https://mb.com.ph/ list: 25.0%\n",
      "Percent complete https://mb.com.ph/ list: 25.2%\n",
      "Percent complete https://mb.com.ph/ list: 25.5%\n",
      "Percent complete https://mb.com.ph/ list: 25.7%\n",
      "Percent complete https://mb.com.ph/ list: 25.9%\n",
      "Percent complete https://mb.com.ph/ list: 26.2%\n",
      "Percent complete https://mb.com.ph/ list: 26.4%\n",
      "Percent complete https://mb.com.ph/ list: 26.6%\n",
      "Percent complete https://mb.com.ph/ list: 26.9%\n",
      "Percent complete https://mb.com.ph/ list: 27.1%\n",
      "Percent complete https://mb.com.ph/ list: 27.3%\n",
      "Percent complete https://mb.com.ph/ list: 27.6%\n",
      "Percent complete https://mb.com.ph/ list: 27.8%\n",
      "Percent complete https://mb.com.ph/ list: 28.0%\n",
      "Percent complete https://mb.com.ph/ list: 28.3%\n",
      "Percent complete https://mb.com.ph/ list: 28.5%\n",
      "Percent complete https://mb.com.ph/ list: 28.7%\n",
      "Percent complete https://mb.com.ph/ list: 29.0%\n",
      "Percent complete https://mb.com.ph/ list: 29.2%\n",
      "Percent complete https://mb.com.ph/ list: 29.4%\n",
      "Percent complete https://mb.com.ph/ list: 29.7%\n",
      "Percent complete https://mb.com.ph/ list: 29.9%\n",
      "Percent complete https://mb.com.ph/ list: 30.1%\n",
      "Percent complete https://mb.com.ph/ list: 30.4%\n",
      "Percent complete https://mb.com.ph/ list: 30.6%\n",
      "Percent complete https://mb.com.ph/ list: 30.8%\n",
      "Percent complete https://mb.com.ph/ list: 31.1%\n",
      "Percent complete https://mb.com.ph/ list: 31.3%\n",
      "Percent complete https://mb.com.ph/ list: 31.5%\n",
      "Percent complete https://mb.com.ph/ list: 31.8%\n",
      "Percent complete https://mb.com.ph/ list: 32.0%\n",
      "Percent complete https://mb.com.ph/ list: 32.2%\n",
      "Percent complete https://mb.com.ph/ list: 32.5%\n",
      "Percent complete https://mb.com.ph/ list: 32.7%\n",
      "Percent complete https://mb.com.ph/ list: 32.9%\n",
      "Percent complete https://mb.com.ph/ list: 33.2%\n",
      "Percent complete https://mb.com.ph/ list: 33.4%\n",
      "Percent complete https://mb.com.ph/ list: 33.6%\n",
      "Percent complete https://mb.com.ph/ list: 33.9%\n",
      "Percent complete https://mb.com.ph/ list: 34.1%\n",
      "Percent complete https://mb.com.ph/ list: 34.3%\n",
      "Percent complete https://mb.com.ph/ list: 34.6%\n",
      "Percent complete https://mb.com.ph/ list: 34.8%\n",
      "Percent complete https://mb.com.ph/ list: 35.0%\n",
      "Percent complete https://mb.com.ph/ list: 35.3%\n",
      "Percent complete https://mb.com.ph/ list: 35.5%\n",
      "Percent complete https://mb.com.ph/ list: 35.7%\n",
      "Percent complete https://mb.com.ph/ list: 36.0%\n",
      "Percent complete https://mb.com.ph/ list: 36.2%\n",
      "Percent complete https://mb.com.ph/ list: 36.4%\n",
      "Percent complete https://mb.com.ph/ list: 36.7%\n",
      "Percent complete https://mb.com.ph/ list: 36.9%\n",
      "Percent complete https://mb.com.ph/ list: 37.1%\n",
      "Percent complete https://mb.com.ph/ list: 37.4%\n",
      "Percent complete https://mb.com.ph/ list: 37.6%\n",
      "Percent complete https://mb.com.ph/ list: 37.9%\n",
      "Percent complete https://mb.com.ph/ list: 38.1%\n",
      "Percent complete https://mb.com.ph/ list: 38.3%\n",
      "Percent complete https://mb.com.ph/ list: 38.6%\n",
      "Percent complete https://mb.com.ph/ list: 38.8%\n",
      "Percent complete https://mb.com.ph/ list: 39.0%\n",
      "Percent complete https://mb.com.ph/ list: 39.3%\n",
      "Percent complete https://mb.com.ph/ list: 39.5%\n",
      "Percent complete https://mb.com.ph/ list: 39.7%\n",
      "Percent complete https://mb.com.ph/ list: 40.0%\n",
      "Percent complete https://mb.com.ph/ list: 40.2%\n",
      "Percent complete https://mb.com.ph/ list: 40.4%\n",
      "Percent complete https://mb.com.ph/ list: 40.7%\n",
      "Percent complete https://mb.com.ph/ list: 40.9%\n",
      "Percent complete https://mb.com.ph/ list: 41.1%\n",
      "Percent complete https://mb.com.ph/ list: 41.4%\n",
      "Percent complete https://mb.com.ph/ list: 41.6%\n",
      "Percent complete https://mb.com.ph/ list: 41.8%\n",
      "Percent complete https://mb.com.ph/ list: 42.1%\n",
      "Percent complete https://mb.com.ph/ list: 42.3%\n",
      "Percent complete https://mb.com.ph/ list: 42.5%\n",
      "Percent complete https://mb.com.ph/ list: 42.8%\n",
      "Percent complete https://mb.com.ph/ list: 43.0%\n",
      "Percent complete https://mb.com.ph/ list: 43.2%\n",
      "Percent complete https://mb.com.ph/ list: 43.5%\n",
      "Percent complete https://mb.com.ph/ list: 43.7%\n",
      "Percent complete https://mb.com.ph/ list: 43.9%\n",
      "Percent complete https://mb.com.ph/ list: 44.2%\n",
      "Percent complete https://mb.com.ph/ list: 44.4%\n",
      "Percent complete https://mb.com.ph/ list: 44.6%\n",
      "Percent complete https://mb.com.ph/ list: 44.9%\n",
      "Percent complete https://mb.com.ph/ list: 45.1%\n",
      "Percent complete https://mb.com.ph/ list: 45.3%\n",
      "Percent complete https://mb.com.ph/ list: 45.6%\n",
      "Percent complete https://mb.com.ph/ list: 45.8%\n",
      "Percent complete https://mb.com.ph/ list: 46.0%\n",
      "Percent complete https://mb.com.ph/ list: 46.3%\n",
      "Percent complete https://mb.com.ph/ list: 46.5%\n",
      "Percent complete https://mb.com.ph/ list: 46.7%\n",
      "Percent complete https://mb.com.ph/ list: 47.0%\n",
      "Percent complete https://mb.com.ph/ list: 47.2%\n",
      "Percent complete https://mb.com.ph/ list: 47.4%\n",
      "Percent complete https://mb.com.ph/ list: 47.7%\n",
      "Percent complete https://mb.com.ph/ list: 47.9%\n",
      "Percent complete https://mb.com.ph/ list: 48.1%\n",
      "Percent complete https://mb.com.ph/ list: 48.4%\n",
      "Percent complete https://mb.com.ph/ list: 48.6%\n",
      "Percent complete https://mb.com.ph/ list: 48.8%\n",
      "Percent complete https://mb.com.ph/ list: 49.1%\n",
      "Percent complete https://mb.com.ph/ list: 49.3%\n",
      "Percent complete https://mb.com.ph/ list: 49.5%\n",
      "Percent complete https://mb.com.ph/ list: 49.8%\n",
      "Percent complete https://mb.com.ph/ list: 50.0%\n",
      "Percent complete https://mb.com.ph/ list: 50.2%\n",
      "Percent complete https://mb.com.ph/ list: 50.5%\n",
      "Percent complete https://mb.com.ph/ list: 50.7%\n",
      "Percent complete https://mb.com.ph/ list: 50.9%\n",
      "Percent complete https://mb.com.ph/ list: 51.2%\n",
      "Percent complete https://mb.com.ph/ list: 51.4%\n",
      "Percent complete https://mb.com.ph/ list: 51.6%\n",
      "Percent complete https://mb.com.ph/ list: 51.9%\n",
      "Percent complete https://mb.com.ph/ list: 52.1%\n",
      "Percent complete https://mb.com.ph/ list: 52.3%\n",
      "Percent complete https://mb.com.ph/ list: 52.6%\n",
      "Percent complete https://mb.com.ph/ list: 52.8%\n",
      "Percent complete https://mb.com.ph/ list: 53.0%\n",
      "Percent complete https://mb.com.ph/ list: 53.3%\n",
      "Percent complete https://mb.com.ph/ list: 53.5%\n",
      "Percent complete https://mb.com.ph/ list: 53.7%\n",
      "Percent complete https://mb.com.ph/ list: 54.0%\n",
      "Percent complete https://mb.com.ph/ list: 54.2%\n",
      "Percent complete https://mb.com.ph/ list: 54.4%\n",
      "Percent complete https://mb.com.ph/ list: 54.7%\n",
      "Percent complete https://mb.com.ph/ list: 54.9%\n",
      "Percent complete https://mb.com.ph/ list: 55.1%\n",
      "Percent complete https://mb.com.ph/ list: 55.4%\n",
      "Percent complete https://mb.com.ph/ list: 55.6%\n",
      "Percent complete https://mb.com.ph/ list: 55.8%\n",
      "Percent complete https://mb.com.ph/ list: 56.1%\n",
      "Percent complete https://mb.com.ph/ list: 56.3%\n",
      "Percent complete https://mb.com.ph/ list: 56.5%\n",
      "Percent complete https://mb.com.ph/ list: 56.8%\n",
      "Percent complete https://mb.com.ph/ list: 57.0%\n",
      "Percent complete https://mb.com.ph/ list: 57.2%\n",
      "Percent complete https://mb.com.ph/ list: 57.5%\n",
      "Percent complete https://mb.com.ph/ list: 57.7%\n",
      "Percent complete https://mb.com.ph/ list: 57.9%\n",
      "Percent complete https://mb.com.ph/ list: 58.2%\n",
      "Percent complete https://mb.com.ph/ list: 58.4%\n",
      "Percent complete https://mb.com.ph/ list: 58.6%\n",
      "Percent complete https://mb.com.ph/ list: 58.9%\n",
      "Percent complete https://mb.com.ph/ list: 59.1%\n",
      "Percent complete https://mb.com.ph/ list: 59.3%\n",
      "Percent complete https://mb.com.ph/ list: 59.6%\n",
      "Percent complete https://mb.com.ph/ list: 59.8%\n",
      "Percent complete https://mb.com.ph/ list: 60.0%\n",
      "Percent complete https://mb.com.ph/ list: 60.3%\n",
      "Percent complete https://mb.com.ph/ list: 60.5%\n",
      "Percent complete https://mb.com.ph/ list: 60.7%\n",
      "Percent complete https://mb.com.ph/ list: 61.0%\n",
      "Percent complete https://mb.com.ph/ list: 61.2%\n",
      "Percent complete https://mb.com.ph/ list: 61.4%\n",
      "Percent complete https://mb.com.ph/ list: 61.7%\n",
      "Percent complete https://mb.com.ph/ list: 61.9%\n",
      "Percent complete https://mb.com.ph/ list: 62.1%\n",
      "Percent complete https://mb.com.ph/ list: 62.4%\n",
      "Percent complete https://mb.com.ph/ list: 62.6%\n",
      "Percent complete https://mb.com.ph/ list: 62.9%\n",
      "Percent complete https://mb.com.ph/ list: 63.1%\n",
      "Percent complete https://mb.com.ph/ list: 63.3%\n",
      "Percent complete https://mb.com.ph/ list: 63.6%\n",
      "Percent complete https://mb.com.ph/ list: 63.8%\n",
      "Percent complete https://mb.com.ph/ list: 64.0%\n",
      "Percent complete https://mb.com.ph/ list: 64.3%\n",
      "Percent complete https://mb.com.ph/ list: 64.5%\n",
      "Percent complete https://mb.com.ph/ list: 64.7%\n",
      "Percent complete https://mb.com.ph/ list: 65.0%\n",
      "Percent complete https://mb.com.ph/ list: 65.2%\n",
      "Percent complete https://mb.com.ph/ list: 65.4%\n",
      "Percent complete https://mb.com.ph/ list: 65.7%\n",
      "Percent complete https://mb.com.ph/ list: 65.9%\n",
      "Percent complete https://mb.com.ph/ list: 66.1%\n",
      "Percent complete https://mb.com.ph/ list: 66.4%\n",
      "Percent complete https://mb.com.ph/ list: 66.6%\n",
      "Percent complete https://mb.com.ph/ list: 66.8%\n",
      "Percent complete https://mb.com.ph/ list: 67.1%\n",
      "Percent complete https://mb.com.ph/ list: 67.3%\n",
      "Percent complete https://mb.com.ph/ list: 67.5%\n",
      "Percent complete https://mb.com.ph/ list: 67.8%\n",
      "Percent complete https://mb.com.ph/ list: 68.0%\n",
      "Percent complete https://mb.com.ph/ list: 68.2%\n",
      "Percent complete https://mb.com.ph/ list: 68.5%\n",
      "Percent complete https://mb.com.ph/ list: 68.7%\n",
      "Percent complete https://mb.com.ph/ list: 68.9%\n",
      "Percent complete https://mb.com.ph/ list: 69.2%\n",
      "Percent complete https://mb.com.ph/ list: 69.4%\n",
      "Percent complete https://mb.com.ph/ list: 69.6%\n",
      "Percent complete https://mb.com.ph/ list: 69.9%\n",
      "Percent complete https://mb.com.ph/ list: 70.1%\n",
      "Percent complete https://mb.com.ph/ list: 70.3%\n",
      "Percent complete https://mb.com.ph/ list: 70.6%\n",
      "Percent complete https://mb.com.ph/ list: 70.8%\n",
      "Percent complete https://mb.com.ph/ list: 71.0%\n",
      "Percent complete https://mb.com.ph/ list: 71.3%\n",
      "Percent complete https://mb.com.ph/ list: 71.5%\n",
      "Percent complete https://mb.com.ph/ list: 71.7%\n",
      "Percent complete https://mb.com.ph/ list: 72.0%\n",
      "Percent complete https://mb.com.ph/ list: 72.2%\n",
      "Percent complete https://mb.com.ph/ list: 72.4%\n",
      "Percent complete https://mb.com.ph/ list: 72.7%\n",
      "Percent complete https://mb.com.ph/ list: 72.9%\n",
      "Percent complete https://mb.com.ph/ list: 73.1%\n",
      "Percent complete https://mb.com.ph/ list: 73.4%\n",
      "Percent complete https://mb.com.ph/ list: 73.6%\n",
      "Percent complete https://mb.com.ph/ list: 73.8%\n",
      "Percent complete https://mb.com.ph/ list: 74.1%\n",
      "Percent complete https://mb.com.ph/ list: 74.3%\n",
      "Percent complete https://mb.com.ph/ list: 74.5%\n",
      "Percent complete https://mb.com.ph/ list: 74.8%\n",
      "Percent complete https://mb.com.ph/ list: 75.0%\n",
      "Percent complete https://mb.com.ph/ list: 75.2%\n",
      "Percent complete https://mb.com.ph/ list: 75.5%\n",
      "Percent complete https://mb.com.ph/ list: 75.7%\n",
      "Percent complete https://mb.com.ph/ list: 75.9%\n",
      "Percent complete https://mb.com.ph/ list: 76.2%\n",
      "Percent complete https://mb.com.ph/ list: 76.4%\n",
      "Percent complete https://mb.com.ph/ list: 76.6%\n",
      "Percent complete https://mb.com.ph/ list: 76.9%\n",
      "Percent complete https://mb.com.ph/ list: 77.1%\n",
      "Percent complete https://mb.com.ph/ list: 77.3%\n",
      "Percent complete https://mb.com.ph/ list: 77.6%\n",
      "Percent complete https://mb.com.ph/ list: 77.8%\n",
      "Percent complete https://mb.com.ph/ list: 78.0%\n",
      "Percent complete https://mb.com.ph/ list: 78.3%\n",
      "Percent complete https://mb.com.ph/ list: 78.5%\n",
      "Percent complete https://mb.com.ph/ list: 78.7%\n",
      "Percent complete https://mb.com.ph/ list: 79.0%\n",
      "Percent complete https://mb.com.ph/ list: 79.2%\n",
      "Percent complete https://mb.com.ph/ list: 79.4%\n",
      "Percent complete https://mb.com.ph/ list: 79.7%\n",
      "Percent complete https://mb.com.ph/ list: 79.9%\n",
      "Percent complete https://mb.com.ph/ list: 80.1%\n",
      "Percent complete https://mb.com.ph/ list: 80.4%\n",
      "Percent complete https://mb.com.ph/ list: 80.6%\n",
      "Percent complete https://mb.com.ph/ list: 80.8%\n",
      "Percent complete https://mb.com.ph/ list: 81.1%\n",
      "Percent complete https://mb.com.ph/ list: 81.3%\n",
      "Percent complete https://mb.com.ph/ list: 81.5%\n",
      "Percent complete https://mb.com.ph/ list: 81.8%\n",
      "Percent complete https://mb.com.ph/ list: 82.0%\n",
      "Percent complete https://mb.com.ph/ list: 82.2%\n",
      "Percent complete https://mb.com.ph/ list: 82.5%\n",
      "Percent complete https://mb.com.ph/ list: 82.7%\n",
      "Percent complete https://mb.com.ph/ list: 82.9%\n",
      "Percent complete https://mb.com.ph/ list: 83.2%\n",
      "Percent complete https://mb.com.ph/ list: 83.4%\n",
      "Percent complete https://mb.com.ph/ list: 83.6%\n",
      "Percent complete https://mb.com.ph/ list: 83.9%\n",
      "Percent complete https://mb.com.ph/ list: 84.1%\n",
      "Percent complete https://mb.com.ph/ list: 84.3%\n",
      "Percent complete https://mb.com.ph/ list: 84.6%\n",
      "Percent complete https://mb.com.ph/ list: 84.8%\n",
      "Percent complete https://mb.com.ph/ list: 85.0%\n",
      "Percent complete https://mb.com.ph/ list: 85.3%\n",
      "Percent complete https://mb.com.ph/ list: 85.5%\n",
      "Percent complete https://mb.com.ph/ list: 85.7%\n",
      "Percent complete https://mb.com.ph/ list: 86.0%\n",
      "Percent complete https://mb.com.ph/ list: 86.2%\n",
      "Percent complete https://mb.com.ph/ list: 86.4%\n",
      "Percent complete https://mb.com.ph/ list: 86.7%\n",
      "Percent complete https://mb.com.ph/ list: 86.9%\n",
      "Percent complete https://mb.com.ph/ list: 87.1%\n",
      "Percent complete https://mb.com.ph/ list: 87.4%\n",
      "Percent complete https://mb.com.ph/ list: 87.6%\n",
      "Percent complete https://mb.com.ph/ list: 87.9%\n",
      "Percent complete https://mb.com.ph/ list: 88.1%\n",
      "Percent complete https://mb.com.ph/ list: 88.3%\n",
      "Percent complete https://mb.com.ph/ list: 88.6%\n",
      "Percent complete https://mb.com.ph/ list: 88.8%\n",
      "Percent complete https://mb.com.ph/ list: 89.0%\n",
      "Percent complete https://mb.com.ph/ list: 89.3%\n",
      "Percent complete https://mb.com.ph/ list: 89.5%\n",
      "Percent complete https://mb.com.ph/ list: 89.7%\n",
      "Percent complete https://mb.com.ph/ list: 90.0%\n",
      "Percent complete https://mb.com.ph/ list: 90.2%\n",
      "Percent complete https://mb.com.ph/ list: 90.4%\n",
      "Percent complete https://mb.com.ph/ list: 90.7%\n",
      "Percent complete https://mb.com.ph/ list: 90.9%\n",
      "Percent complete https://mb.com.ph/ list: 91.1%\n",
      "Percent complete https://mb.com.ph/ list: 91.4%\n",
      "Percent complete https://mb.com.ph/ list: 91.6%\n",
      "Percent complete https://mb.com.ph/ list: 91.8%\n",
      "Percent complete https://mb.com.ph/ list: 92.1%\n",
      "Percent complete https://mb.com.ph/ list: 92.3%\n",
      "Percent complete https://mb.com.ph/ list: 92.5%\n",
      "Percent complete https://mb.com.ph/ list: 92.8%\n",
      "Percent complete https://mb.com.ph/ list: 93.0%\n",
      "Percent complete https://mb.com.ph/ list: 93.2%\n",
      "Percent complete https://mb.com.ph/ list: 93.5%\n",
      "Percent complete https://mb.com.ph/ list: 93.7%\n",
      "Percent complete https://mb.com.ph/ list: 93.9%\n",
      "Percent complete https://mb.com.ph/ list: 94.2%\n",
      "Percent complete https://mb.com.ph/ list: 94.4%\n",
      "Percent complete https://mb.com.ph/ list: 94.6%\n",
      "Percent complete https://mb.com.ph/ list: 94.9%\n",
      "Percent complete https://mb.com.ph/ list: 95.1%\n",
      "Percent complete https://mb.com.ph/ list: 95.3%\n",
      "Percent complete https://mb.com.ph/ list: 95.6%\n",
      "Percent complete https://mb.com.ph/ list: 95.8%\n",
      "Percent complete https://mb.com.ph/ list: 96.0%\n",
      "Percent complete https://mb.com.ph/ list: 96.3%\n",
      "Percent complete https://mb.com.ph/ list: 96.5%\n",
      "Percent complete https://mb.com.ph/ list: 96.7%\n",
      "Percent complete https://mb.com.ph/ list: 97.0%\n",
      "Percent complete https://mb.com.ph/ list: 97.2%\n",
      "Percent complete https://mb.com.ph/ list: 97.4%\n",
      "Percent complete https://mb.com.ph/ list: 97.7%\n",
      "Percent complete https://mb.com.ph/ list: 97.9%\n",
      "Percent complete https://mb.com.ph/ list: 98.1%\n",
      "Percent complete https://mb.com.ph/ list: 98.4%\n",
      "Percent complete https://mb.com.ph/ list: 98.6%\n",
      "Percent complete https://mb.com.ph/ list: 98.8%\n",
      "Percent complete https://mb.com.ph/ list: 99.1%\n",
      "Percent complete https://mb.com.ph/ list: 99.3%\n",
      "Percent complete https://mb.com.ph/ list: 99.5%\n",
      "Percent complete https://mb.com.ph/ list: 99.8%\n",
      "Percent complete https://mb.com.ph/ list: 100.0%\n",
      "Percent complete all sources list: 80.0%\n"
     ]
    },
    {
     "name": "stdout",
     "output_type": "stream",
     "text": [
      "Percent complete https://www.rappler.com/ list: 0.7%\n",
      "Percent complete https://www.rappler.com/ list: 1.5%\n",
      "Percent complete https://www.rappler.com/ list: 2.2%\n",
      "Percent complete https://www.rappler.com/ list: 2.9%\n",
      "Percent complete https://www.rappler.com/ list: 3.7%\n",
      "Percent complete https://www.rappler.com/ list: 4.4%\n",
      "Percent complete https://www.rappler.com/ list: 5.1%\n",
      "Percent complete https://www.rappler.com/ list: 5.9%\n",
      "Percent complete https://www.rappler.com/ list: 6.6%\n",
      "Percent complete https://www.rappler.com/ list: 7.4%\n",
      "Percent complete https://www.rappler.com/ list: 8.1%\n",
      "Percent complete https://www.rappler.com/ list: 8.8%\n",
      "Percent complete https://www.rappler.com/ list: 9.6%\n",
      "Percent complete https://www.rappler.com/ list: 10.3%\n",
      "Percent complete https://www.rappler.com/ list: 11.0%\n",
      "Percent complete https://www.rappler.com/ list: 11.8%\n",
      "Percent complete https://www.rappler.com/ list: 12.5%\n",
      "Percent complete https://www.rappler.com/ list: 13.2%\n",
      "Percent complete https://www.rappler.com/ list: 14.0%\n",
      "Percent complete https://www.rappler.com/ list: 14.7%\n",
      "Percent complete https://www.rappler.com/ list: 15.4%\n",
      "Percent complete https://www.rappler.com/ list: 16.2%\n",
      "Percent complete https://www.rappler.com/ list: 16.9%\n",
      "Percent complete https://www.rappler.com/ list: 17.6%\n",
      "Percent complete https://www.rappler.com/ list: 18.4%\n",
      "Percent complete https://www.rappler.com/ list: 19.1%\n",
      "Percent complete https://www.rappler.com/ list: 19.9%\n",
      "Percent complete https://www.rappler.com/ list: 20.6%\n",
      "Percent complete https://www.rappler.com/ list: 21.3%\n",
      "Percent complete https://www.rappler.com/ list: 22.1%\n",
      "Percent complete https://www.rappler.com/ list: 22.8%\n",
      "Percent complete https://www.rappler.com/ list: 23.5%\n",
      "Percent complete https://www.rappler.com/ list: 24.3%\n",
      "Percent complete https://www.rappler.com/ list: 25.0%\n",
      "Percent complete https://www.rappler.com/ list: 25.7%\n",
      "Percent complete https://www.rappler.com/ list: 26.5%\n",
      "Percent complete https://www.rappler.com/ list: 27.2%\n",
      "Percent complete https://www.rappler.com/ list: 27.9%\n",
      "Percent complete https://www.rappler.com/ list: 28.7%\n",
      "Percent complete https://www.rappler.com/ list: 29.4%\n",
      "Percent complete https://www.rappler.com/ list: 30.1%\n",
      "Percent complete https://www.rappler.com/ list: 30.9%\n",
      "Percent complete https://www.rappler.com/ list: 31.6%\n",
      "Percent complete https://www.rappler.com/ list: 32.4%\n",
      "Percent complete https://www.rappler.com/ list: 33.1%\n",
      "Percent complete https://www.rappler.com/ list: 33.8%\n",
      "Percent complete https://www.rappler.com/ list: 34.6%\n",
      "Percent complete https://www.rappler.com/ list: 35.3%\n",
      "Percent complete https://www.rappler.com/ list: 36.0%\n",
      "Percent complete https://www.rappler.com/ list: 36.8%\n",
      "Percent complete https://www.rappler.com/ list: 37.5%\n",
      "Percent complete https://www.rappler.com/ list: 38.2%\n",
      "Percent complete https://www.rappler.com/ list: 39.0%\n",
      "Percent complete https://www.rappler.com/ list: 39.7%\n",
      "Percent complete https://www.rappler.com/ list: 40.4%\n",
      "Percent complete https://www.rappler.com/ list: 41.2%\n",
      "Percent complete https://www.rappler.com/ list: 41.9%\n",
      "Percent complete https://www.rappler.com/ list: 42.6%\n",
      "Percent complete https://www.rappler.com/ list: 43.4%\n",
      "Percent complete https://www.rappler.com/ list: 44.1%\n",
      "Percent complete https://www.rappler.com/ list: 44.9%\n",
      "Percent complete https://www.rappler.com/ list: 45.6%\n",
      "Percent complete https://www.rappler.com/ list: 46.3%\n",
      "Percent complete https://www.rappler.com/ list: 47.1%\n",
      "Percent complete https://www.rappler.com/ list: 47.8%\n",
      "Percent complete https://www.rappler.com/ list: 48.5%\n",
      "Percent complete https://www.rappler.com/ list: 49.3%\n",
      "Percent complete https://www.rappler.com/ list: 50.0%\n",
      "Percent complete https://www.rappler.com/ list: 50.7%\n",
      "Percent complete https://www.rappler.com/ list: 51.5%\n",
      "Percent complete https://www.rappler.com/ list: 52.2%\n",
      "Percent complete https://www.rappler.com/ list: 52.9%\n",
      "Percent complete https://www.rappler.com/ list: 53.7%\n",
      "Percent complete https://www.rappler.com/ list: 54.4%\n",
      "Percent complete https://www.rappler.com/ list: 55.1%\n",
      "Percent complete https://www.rappler.com/ list: 55.9%\n",
      "Percent complete https://www.rappler.com/ list: 56.6%\n",
      "Percent complete https://www.rappler.com/ list: 57.4%\n",
      "Percent complete https://www.rappler.com/ list: 58.1%\n",
      "Percent complete https://www.rappler.com/ list: 58.8%\n",
      "Percent complete https://www.rappler.com/ list: 59.6%\n",
      "Percent complete https://www.rappler.com/ list: 60.3%\n",
      "Percent complete https://www.rappler.com/ list: 61.0%\n",
      "Percent complete https://www.rappler.com/ list: 61.8%\n",
      "Percent complete https://www.rappler.com/ list: 62.5%\n",
      "Percent complete https://www.rappler.com/ list: 63.2%\n",
      "Percent complete https://www.rappler.com/ list: 64.0%\n",
      "Percent complete https://www.rappler.com/ list: 64.7%\n",
      "Percent complete https://www.rappler.com/ list: 65.4%\n",
      "Percent complete https://www.rappler.com/ list: 66.2%\n",
      "Percent complete https://www.rappler.com/ list: 66.9%\n",
      "Percent complete https://www.rappler.com/ list: 67.6%\n",
      "Percent complete https://www.rappler.com/ list: 68.4%\n",
      "Percent complete https://www.rappler.com/ list: 69.1%\n",
      "Percent complete https://www.rappler.com/ list: 69.9%\n",
      "Percent complete https://www.rappler.com/ list: 70.6%\n",
      "Percent complete https://www.rappler.com/ list: 71.3%\n",
      "Percent complete https://www.rappler.com/ list: 72.1%\n",
      "Percent complete https://www.rappler.com/ list: 72.8%\n",
      "Percent complete https://www.rappler.com/ list: 73.5%\n",
      "Percent complete https://www.rappler.com/ list: 74.3%\n",
      "Percent complete https://www.rappler.com/ list: 75.0%\n",
      "Percent complete https://www.rappler.com/ list: 75.7%\n",
      "Percent complete https://www.rappler.com/ list: 76.5%\n",
      "Percent complete https://www.rappler.com/ list: 77.2%\n",
      "Percent complete https://www.rappler.com/ list: 77.9%\n",
      "Percent complete https://www.rappler.com/ list: 78.7%\n",
      "Percent complete https://www.rappler.com/ list: 79.4%\n",
      "Percent complete https://www.rappler.com/ list: 80.1%\n",
      "Percent complete https://www.rappler.com/ list: 80.9%\n",
      "Percent complete https://www.rappler.com/ list: 81.6%\n",
      "Percent complete https://www.rappler.com/ list: 82.4%\n",
      "Percent complete https://www.rappler.com/ list: 83.1%\n",
      "Percent complete https://www.rappler.com/ list: 83.8%\n",
      "Percent complete https://www.rappler.com/ list: 84.6%\n",
      "Percent complete https://www.rappler.com/ list: 85.3%\n",
      "Percent complete https://www.rappler.com/ list: 86.0%\n",
      "Percent complete https://www.rappler.com/ list: 86.8%\n",
      "Percent complete https://www.rappler.com/ list: 87.5%\n",
      "Percent complete https://www.rappler.com/ list: 88.2%\n",
      "Percent complete https://www.rappler.com/ list: 89.0%\n",
      "Percent complete https://www.rappler.com/ list: 89.7%\n",
      "Percent complete https://www.rappler.com/ list: 90.4%\n",
      "Percent complete https://www.rappler.com/ list: 91.2%\n",
      "Percent complete https://www.rappler.com/ list: 91.9%\n",
      "Percent complete https://www.rappler.com/ list: 92.6%\n",
      "Percent complete https://www.rappler.com/ list: 93.4%\n",
      "Percent complete https://www.rappler.com/ list: 94.1%\n",
      "Percent complete https://www.rappler.com/ list: 94.9%\n",
      "Percent complete https://www.rappler.com/ list: 95.6%\n",
      "Percent complete https://www.rappler.com/ list: 96.3%\n",
      "Percent complete https://www.rappler.com/ list: 97.1%\n",
      "Percent complete https://www.rappler.com/ list: 97.8%\n",
      "Percent complete https://www.rappler.com/ list: 98.5%\n",
      "Percent complete https://www.rappler.com/ list: 99.3%\n",
      "Percent complete https://www.rappler.com/ list: 100.0%\n",
      "Percent complete all sources list: 85.0%\n",
      "Percent complete retired analyst list: 4.0%\n",
      "Percent complete retired analyst list: 8.0%\n",
      "Percent complete retired analyst list: 12.0%\n",
      "Percent complete retired analyst list: 16.0%\n",
      "Percent complete retired analyst list: 20.0%\n",
      "Percent complete retired analyst list: 24.0%\n",
      "Percent complete retired analyst list: 28.0%\n",
      "Percent complete retired analyst list: 32.0%\n",
      "Percent complete retired analyst list: 36.0%\n",
      "Percent complete retired analyst list: 40.0%\n",
      "Percent complete retired analyst list: 44.0%\n",
      "Percent complete retired analyst list: 48.0%\n",
      "Percent complete retired analyst list: 52.0%\n",
      "Percent complete retired analyst list: 56.0%\n",
      "Percent complete retired analyst list: 60.0%\n",
      "Percent complete retired analyst list: 64.0%\n",
      "Percent complete retired analyst list: 68.0%\n",
      "Percent complete retired analyst list: 72.0%\n",
      "Percent complete retired analyst list: 76.0%\n"
     ]
    },
    {
     "name": "stdout",
     "output_type": "stream",
     "text": [
      "Percent complete retired analyst list: 80.0%\n",
      "Percent complete retired analyst list: 84.0%\n",
      "Percent complete retired analyst list: 88.0%\n",
      "Percent complete retired analyst list: 92.0%\n",
      "Percent complete retired analyst list: 96.0%\n",
      "Percent complete retired analyst list: 100.0%\n",
      "Percent complete all sources list: 90.0%\n",
      "Percent complete http://tempo.com.ph/ list: 0.4%\n",
      "Percent complete http://tempo.com.ph/ list: 0.8%\n",
      "Percent complete http://tempo.com.ph/ list: 1.2%\n",
      "Percent complete http://tempo.com.ph/ list: 1.6%\n",
      "Percent complete http://tempo.com.ph/ list: 2.0%\n",
      "Percent complete http://tempo.com.ph/ list: 2.5%\n",
      "Percent complete http://tempo.com.ph/ list: 2.9%\n",
      "Percent complete http://tempo.com.ph/ list: 3.3%\n",
      "Percent complete http://tempo.com.ph/ list: 3.7%\n",
      "Percent complete http://tempo.com.ph/ list: 4.1%\n",
      "Percent complete http://tempo.com.ph/ list: 4.5%\n",
      "Percent complete http://tempo.com.ph/ list: 4.9%\n",
      "Percent complete http://tempo.com.ph/ list: 5.3%\n",
      "Percent complete http://tempo.com.ph/ list: 5.7%\n",
      "Percent complete http://tempo.com.ph/ list: 6.1%\n",
      "Percent complete http://tempo.com.ph/ list: 6.6%\n",
      "Percent complete http://tempo.com.ph/ list: 7.0%\n",
      "Percent complete http://tempo.com.ph/ list: 7.4%\n",
      "Percent complete http://tempo.com.ph/ list: 7.8%\n",
      "Percent complete http://tempo.com.ph/ list: 8.2%\n",
      "Percent complete http://tempo.com.ph/ list: 8.6%\n",
      "Percent complete http://tempo.com.ph/ list: 9.0%\n",
      "Percent complete http://tempo.com.ph/ list: 9.4%\n",
      "Percent complete http://tempo.com.ph/ list: 9.8%\n",
      "Percent complete http://tempo.com.ph/ list: 10.2%\n",
      "Percent complete http://tempo.com.ph/ list: 10.7%\n",
      "Percent complete http://tempo.com.ph/ list: 11.1%\n",
      "Percent complete http://tempo.com.ph/ list: 11.5%\n",
      "Percent complete http://tempo.com.ph/ list: 11.9%\n",
      "Percent complete http://tempo.com.ph/ list: 12.3%\n",
      "Percent complete http://tempo.com.ph/ list: 12.7%\n",
      "Percent complete http://tempo.com.ph/ list: 13.1%\n",
      "Percent complete http://tempo.com.ph/ list: 13.5%\n",
      "Percent complete http://tempo.com.ph/ list: 13.9%\n",
      "Percent complete http://tempo.com.ph/ list: 14.3%\n",
      "Percent complete http://tempo.com.ph/ list: 14.8%\n",
      "Percent complete http://tempo.com.ph/ list: 15.2%\n",
      "Percent complete http://tempo.com.ph/ list: 15.6%\n",
      "Percent complete http://tempo.com.ph/ list: 16.0%\n",
      "Percent complete http://tempo.com.ph/ list: 16.4%\n",
      "Percent complete http://tempo.com.ph/ list: 16.8%\n",
      "Percent complete http://tempo.com.ph/ list: 17.2%\n",
      "Percent complete http://tempo.com.ph/ list: 17.6%\n",
      "Percent complete http://tempo.com.ph/ list: 18.0%\n",
      "Percent complete http://tempo.com.ph/ list: 18.4%\n",
      "Percent complete http://tempo.com.ph/ list: 18.9%\n",
      "Percent complete http://tempo.com.ph/ list: 19.3%\n",
      "Percent complete http://tempo.com.ph/ list: 19.7%\n",
      "Percent complete http://tempo.com.ph/ list: 20.1%\n",
      "Percent complete http://tempo.com.ph/ list: 20.5%\n",
      "Percent complete http://tempo.com.ph/ list: 20.9%\n",
      "Percent complete http://tempo.com.ph/ list: 21.3%\n",
      "Percent complete http://tempo.com.ph/ list: 21.7%\n",
      "Percent complete http://tempo.com.ph/ list: 22.1%\n",
      "Percent complete http://tempo.com.ph/ list: 22.5%\n",
      "Percent complete http://tempo.com.ph/ list: 23.0%\n",
      "Percent complete http://tempo.com.ph/ list: 23.4%\n",
      "Percent complete http://tempo.com.ph/ list: 23.8%\n",
      "Percent complete http://tempo.com.ph/ list: 24.2%\n",
      "Percent complete http://tempo.com.ph/ list: 24.6%\n",
      "Percent complete http://tempo.com.ph/ list: 25.0%\n",
      "Percent complete http://tempo.com.ph/ list: 25.4%\n",
      "Percent complete http://tempo.com.ph/ list: 25.8%\n",
      "Percent complete http://tempo.com.ph/ list: 26.2%\n",
      "Percent complete http://tempo.com.ph/ list: 26.6%\n",
      "Percent complete http://tempo.com.ph/ list: 27.0%\n",
      "Percent complete http://tempo.com.ph/ list: 27.5%\n",
      "Percent complete http://tempo.com.ph/ list: 27.9%\n",
      "Percent complete http://tempo.com.ph/ list: 28.3%\n",
      "Percent complete http://tempo.com.ph/ list: 28.7%\n",
      "Percent complete http://tempo.com.ph/ list: 29.1%\n",
      "Percent complete http://tempo.com.ph/ list: 29.5%\n",
      "Percent complete http://tempo.com.ph/ list: 29.9%\n",
      "Percent complete http://tempo.com.ph/ list: 30.3%\n",
      "Percent complete http://tempo.com.ph/ list: 30.7%\n",
      "Percent complete http://tempo.com.ph/ list: 31.1%\n",
      "Percent complete http://tempo.com.ph/ list: 31.6%\n",
      "Percent complete http://tempo.com.ph/ list: 32.0%\n",
      "Percent complete http://tempo.com.ph/ list: 32.4%\n",
      "Percent complete http://tempo.com.ph/ list: 32.8%\n",
      "Percent complete http://tempo.com.ph/ list: 33.2%\n",
      "Percent complete http://tempo.com.ph/ list: 33.6%\n",
      "Percent complete http://tempo.com.ph/ list: 34.0%\n",
      "Percent complete http://tempo.com.ph/ list: 34.4%\n",
      "Percent complete http://tempo.com.ph/ list: 34.8%\n",
      "Percent complete http://tempo.com.ph/ list: 35.2%\n",
      "Percent complete http://tempo.com.ph/ list: 35.7%\n",
      "Percent complete http://tempo.com.ph/ list: 36.1%\n",
      "Percent complete http://tempo.com.ph/ list: 36.5%\n",
      "Percent complete http://tempo.com.ph/ list: 36.9%\n",
      "Percent complete http://tempo.com.ph/ list: 37.3%\n",
      "Percent complete http://tempo.com.ph/ list: 37.7%\n",
      "Percent complete http://tempo.com.ph/ list: 38.1%\n",
      "Percent complete http://tempo.com.ph/ list: 38.5%\n",
      "Percent complete http://tempo.com.ph/ list: 38.9%\n",
      "Percent complete http://tempo.com.ph/ list: 39.3%\n",
      "Percent complete http://tempo.com.ph/ list: 39.8%\n",
      "Percent complete http://tempo.com.ph/ list: 40.2%\n",
      "Percent complete http://tempo.com.ph/ list: 40.6%\n",
      "Percent complete http://tempo.com.ph/ list: 41.0%\n",
      "Percent complete http://tempo.com.ph/ list: 41.4%\n",
      "Percent complete http://tempo.com.ph/ list: 41.8%\n",
      "Percent complete http://tempo.com.ph/ list: 42.2%\n",
      "Percent complete http://tempo.com.ph/ list: 42.6%\n",
      "Percent complete http://tempo.com.ph/ list: 43.0%\n",
      "Percent complete http://tempo.com.ph/ list: 43.4%\n",
      "Percent complete http://tempo.com.ph/ list: 43.9%\n",
      "Percent complete http://tempo.com.ph/ list: 44.3%\n",
      "Percent complete http://tempo.com.ph/ list: 44.7%\n",
      "Percent complete http://tempo.com.ph/ list: 45.1%\n",
      "Percent complete http://tempo.com.ph/ list: 45.5%\n",
      "Percent complete http://tempo.com.ph/ list: 45.9%\n",
      "Percent complete http://tempo.com.ph/ list: 46.3%\n",
      "Percent complete http://tempo.com.ph/ list: 46.7%\n",
      "Percent complete http://tempo.com.ph/ list: 47.1%\n",
      "Percent complete http://tempo.com.ph/ list: 47.5%\n",
      "Percent complete http://tempo.com.ph/ list: 48.0%\n",
      "Percent complete http://tempo.com.ph/ list: 48.4%\n",
      "Percent complete http://tempo.com.ph/ list: 48.8%\n",
      "Percent complete http://tempo.com.ph/ list: 49.2%\n",
      "Percent complete http://tempo.com.ph/ list: 49.6%\n",
      "Percent complete http://tempo.com.ph/ list: 50.0%\n",
      "Percent complete http://tempo.com.ph/ list: 50.4%\n",
      "Percent complete http://tempo.com.ph/ list: 50.8%\n",
      "Percent complete http://tempo.com.ph/ list: 51.2%\n",
      "Percent complete http://tempo.com.ph/ list: 51.6%\n",
      "Percent complete http://tempo.com.ph/ list: 52.0%\n",
      "Percent complete http://tempo.com.ph/ list: 52.5%\n",
      "Percent complete http://tempo.com.ph/ list: 52.9%\n",
      "Percent complete http://tempo.com.ph/ list: 53.3%\n",
      "Percent complete http://tempo.com.ph/ list: 53.7%\n",
      "Percent complete http://tempo.com.ph/ list: 54.1%\n",
      "Percent complete http://tempo.com.ph/ list: 54.5%\n",
      "Percent complete http://tempo.com.ph/ list: 54.9%\n",
      "Percent complete http://tempo.com.ph/ list: 55.3%\n",
      "Percent complete http://tempo.com.ph/ list: 55.7%\n",
      "Percent complete http://tempo.com.ph/ list: 56.1%\n",
      "Percent complete http://tempo.com.ph/ list: 56.6%\n",
      "Percent complete http://tempo.com.ph/ list: 57.0%\n",
      "Percent complete http://tempo.com.ph/ list: 57.4%\n",
      "Percent complete http://tempo.com.ph/ list: 57.8%\n",
      "Percent complete http://tempo.com.ph/ list: 58.2%\n",
      "Percent complete http://tempo.com.ph/ list: 58.6%\n",
      "Percent complete http://tempo.com.ph/ list: 59.0%\n",
      "Percent complete http://tempo.com.ph/ list: 59.4%\n",
      "Percent complete http://tempo.com.ph/ list: 59.8%\n",
      "Percent complete http://tempo.com.ph/ list: 60.2%\n",
      "Percent complete http://tempo.com.ph/ list: 60.7%\n",
      "Percent complete http://tempo.com.ph/ list: 61.1%\n",
      "Percent complete http://tempo.com.ph/ list: 61.5%\n",
      "Percent complete http://tempo.com.ph/ list: 61.9%\n",
      "Percent complete http://tempo.com.ph/ list: 62.3%\n",
      "Percent complete http://tempo.com.ph/ list: 62.7%\n",
      "Percent complete http://tempo.com.ph/ list: 63.1%\n",
      "Percent complete http://tempo.com.ph/ list: 63.5%\n",
      "Percent complete http://tempo.com.ph/ list: 63.9%\n",
      "Percent complete http://tempo.com.ph/ list: 64.3%\n",
      "Percent complete http://tempo.com.ph/ list: 64.8%\n",
      "Percent complete http://tempo.com.ph/ list: 65.2%\n",
      "Percent complete http://tempo.com.ph/ list: 65.6%\n",
      "Percent complete http://tempo.com.ph/ list: 66.0%\n",
      "Percent complete http://tempo.com.ph/ list: 66.4%\n",
      "Percent complete http://tempo.com.ph/ list: 66.8%\n",
      "Percent complete http://tempo.com.ph/ list: 67.2%\n",
      "Percent complete http://tempo.com.ph/ list: 67.6%\n",
      "Percent complete http://tempo.com.ph/ list: 68.0%\n",
      "Percent complete http://tempo.com.ph/ list: 68.4%\n",
      "Percent complete http://tempo.com.ph/ list: 68.9%\n",
      "Percent complete http://tempo.com.ph/ list: 69.3%\n",
      "Percent complete http://tempo.com.ph/ list: 69.7%\n",
      "Percent complete http://tempo.com.ph/ list: 70.1%\n",
      "Percent complete http://tempo.com.ph/ list: 70.5%\n",
      "Percent complete http://tempo.com.ph/ list: 70.9%\n",
      "Percent complete http://tempo.com.ph/ list: 71.3%\n",
      "Percent complete http://tempo.com.ph/ list: 71.7%\n",
      "Percent complete http://tempo.com.ph/ list: 72.1%\n",
      "Percent complete http://tempo.com.ph/ list: 72.5%\n",
      "Percent complete http://tempo.com.ph/ list: 73.0%\n",
      "Percent complete http://tempo.com.ph/ list: 73.4%\n",
      "Percent complete http://tempo.com.ph/ list: 73.8%\n",
      "Percent complete http://tempo.com.ph/ list: 74.2%\n",
      "Percent complete http://tempo.com.ph/ list: 74.6%\n",
      "Percent complete http://tempo.com.ph/ list: 75.0%\n",
      "Percent complete http://tempo.com.ph/ list: 75.4%\n",
      "Percent complete http://tempo.com.ph/ list: 75.8%\n",
      "Percent complete http://tempo.com.ph/ list: 76.2%\n",
      "Percent complete http://tempo.com.ph/ list: 76.6%\n",
      "Percent complete http://tempo.com.ph/ list: 77.0%\n",
      "Percent complete http://tempo.com.ph/ list: 77.5%\n",
      "Percent complete http://tempo.com.ph/ list: 77.9%\n",
      "Percent complete http://tempo.com.ph/ list: 78.3%\n",
      "Percent complete http://tempo.com.ph/ list: 78.7%\n",
      "Percent complete http://tempo.com.ph/ list: 79.1%\n",
      "Percent complete http://tempo.com.ph/ list: 79.5%\n",
      "Percent complete http://tempo.com.ph/ list: 79.9%\n",
      "Percent complete http://tempo.com.ph/ list: 80.3%\n",
      "Percent complete http://tempo.com.ph/ list: 80.7%\n",
      "Percent complete http://tempo.com.ph/ list: 81.1%\n",
      "Percent complete http://tempo.com.ph/ list: 81.6%\n",
      "Percent complete http://tempo.com.ph/ list: 82.0%\n",
      "Percent complete http://tempo.com.ph/ list: 82.4%\n",
      "Percent complete http://tempo.com.ph/ list: 82.8%\n",
      "Percent complete http://tempo.com.ph/ list: 83.2%\n",
      "Percent complete http://tempo.com.ph/ list: 83.6%\n",
      "Percent complete http://tempo.com.ph/ list: 84.0%\n",
      "Percent complete http://tempo.com.ph/ list: 84.4%\n",
      "Percent complete http://tempo.com.ph/ list: 84.8%\n",
      "Percent complete http://tempo.com.ph/ list: 85.2%\n",
      "Percent complete http://tempo.com.ph/ list: 85.7%\n",
      "Percent complete http://tempo.com.ph/ list: 86.1%\n",
      "Percent complete http://tempo.com.ph/ list: 86.5%\n",
      "Percent complete http://tempo.com.ph/ list: 86.9%\n",
      "Percent complete http://tempo.com.ph/ list: 87.3%\n",
      "Percent complete http://tempo.com.ph/ list: 87.7%\n",
      "Percent complete http://tempo.com.ph/ list: 88.1%\n",
      "Percent complete http://tempo.com.ph/ list: 88.5%\n",
      "Percent complete http://tempo.com.ph/ list: 88.9%\n",
      "Percent complete http://tempo.com.ph/ list: 89.3%\n",
      "Percent complete http://tempo.com.ph/ list: 89.8%\n",
      "Percent complete http://tempo.com.ph/ list: 90.2%\n",
      "Percent complete http://tempo.com.ph/ list: 90.6%\n",
      "Percent complete http://tempo.com.ph/ list: 91.0%\n",
      "Percent complete http://tempo.com.ph/ list: 91.4%\n",
      "Percent complete http://tempo.com.ph/ list: 91.8%\n",
      "Percent complete http://tempo.com.ph/ list: 92.2%\n",
      "Percent complete http://tempo.com.ph/ list: 92.6%\n",
      "Percent complete http://tempo.com.ph/ list: 93.0%\n",
      "Percent complete http://tempo.com.ph/ list: 93.4%\n",
      "Percent complete http://tempo.com.ph/ list: 93.9%\n",
      "Percent complete http://tempo.com.ph/ list: 94.3%\n",
      "Percent complete http://tempo.com.ph/ list: 94.7%\n",
      "Percent complete http://tempo.com.ph/ list: 95.1%\n",
      "Percent complete http://tempo.com.ph/ list: 95.5%\n",
      "Percent complete http://tempo.com.ph/ list: 95.9%\n",
      "Percent complete http://tempo.com.ph/ list: 96.3%\n",
      "Percent complete http://tempo.com.ph/ list: 96.7%\n",
      "Percent complete http://tempo.com.ph/ list: 97.1%\n",
      "Percent complete http://tempo.com.ph/ list: 97.5%\n",
      "Percent complete http://tempo.com.ph/ list: 98.0%\n",
      "Percent complete http://tempo.com.ph/ list: 98.4%\n",
      "Percent complete http://tempo.com.ph/ list: 98.8%\n",
      "Percent complete http://tempo.com.ph/ list: 99.2%\n",
      "Percent complete http://tempo.com.ph/ list: 99.6%\n",
      "Percent complete http://tempo.com.ph/ list: 100.0%\n",
      "Percent complete all sources list: 95.0%\n"
     ]
    },
    {
     "name": "stdout",
     "output_type": "stream",
     "text": [
      "Percent complete https://news.abs-cbn.com/ list: 0.4%\n",
      "Percent complete https://news.abs-cbn.com/ list: 0.8%\n",
      "Percent complete https://news.abs-cbn.com/ list: 1.2%\n",
      "Percent complete https://news.abs-cbn.com/ list: 1.6%\n",
      "Percent complete https://news.abs-cbn.com/ list: 2.0%\n",
      "Percent complete https://news.abs-cbn.com/ list: 2.4%\n",
      "Percent complete https://news.abs-cbn.com/ list: 2.8%\n",
      "Percent complete https://news.abs-cbn.com/ list: 3.1%\n",
      "Percent complete https://news.abs-cbn.com/ list: 3.5%\n",
      "Percent complete https://news.abs-cbn.com/ list: 3.9%\n",
      "Percent complete https://news.abs-cbn.com/ list: 4.3%\n",
      "Percent complete https://news.abs-cbn.com/ list: 4.7%\n",
      "Percent complete https://news.abs-cbn.com/ list: 5.1%\n",
      "Percent complete https://news.abs-cbn.com/ list: 5.5%\n",
      "Percent complete https://news.abs-cbn.com/ list: 5.9%\n",
      "Percent complete https://news.abs-cbn.com/ list: 6.3%\n",
      "Percent complete https://news.abs-cbn.com/ list: 6.7%\n",
      "Percent complete https://news.abs-cbn.com/ list: 7.1%\n",
      "Percent complete https://news.abs-cbn.com/ list: 7.5%\n",
      "Percent complete https://news.abs-cbn.com/ list: 7.9%\n",
      "Percent complete https://news.abs-cbn.com/ list: 8.3%\n",
      "Percent complete https://news.abs-cbn.com/ list: 8.7%\n",
      "Percent complete https://news.abs-cbn.com/ list: 9.1%\n",
      "Percent complete https://news.abs-cbn.com/ list: 9.4%\n",
      "Percent complete https://news.abs-cbn.com/ list: 9.8%\n",
      "Percent complete https://news.abs-cbn.com/ list: 10.2%\n",
      "Percent complete https://news.abs-cbn.com/ list: 10.6%\n",
      "Percent complete https://news.abs-cbn.com/ list: 11.0%\n",
      "Percent complete https://news.abs-cbn.com/ list: 11.4%\n",
      "Percent complete https://news.abs-cbn.com/ list: 11.8%\n",
      "Percent complete https://news.abs-cbn.com/ list: 12.2%\n",
      "Percent complete https://news.abs-cbn.com/ list: 12.6%\n",
      "Percent complete https://news.abs-cbn.com/ list: 13.0%\n",
      "Percent complete https://news.abs-cbn.com/ list: 13.4%\n",
      "Percent complete https://news.abs-cbn.com/ list: 13.8%\n",
      "Percent complete https://news.abs-cbn.com/ list: 14.2%\n",
      "Percent complete https://news.abs-cbn.com/ list: 14.6%\n",
      "Percent complete https://news.abs-cbn.com/ list: 15.0%\n",
      "Percent complete https://news.abs-cbn.com/ list: 15.4%\n",
      "Percent complete https://news.abs-cbn.com/ list: 15.7%\n",
      "Percent complete https://news.abs-cbn.com/ list: 16.1%\n",
      "Percent complete https://news.abs-cbn.com/ list: 16.5%\n",
      "Percent complete https://news.abs-cbn.com/ list: 16.9%\n",
      "Percent complete https://news.abs-cbn.com/ list: 17.3%\n",
      "Percent complete https://news.abs-cbn.com/ list: 17.7%\n",
      "Percent complete https://news.abs-cbn.com/ list: 18.1%\n",
      "Percent complete https://news.abs-cbn.com/ list: 18.5%\n",
      "Percent complete https://news.abs-cbn.com/ list: 18.9%\n",
      "Percent complete https://news.abs-cbn.com/ list: 19.3%\n",
      "Percent complete https://news.abs-cbn.com/ list: 19.7%\n",
      "Percent complete https://news.abs-cbn.com/ list: 20.1%\n",
      "Percent complete https://news.abs-cbn.com/ list: 20.5%\n",
      "Percent complete https://news.abs-cbn.com/ list: 20.9%\n",
      "Percent complete https://news.abs-cbn.com/ list: 21.3%\n",
      "Percent complete https://news.abs-cbn.com/ list: 21.7%\n",
      "Percent complete https://news.abs-cbn.com/ list: 22.0%\n",
      "Percent complete https://news.abs-cbn.com/ list: 22.4%\n",
      "Percent complete https://news.abs-cbn.com/ list: 22.8%\n",
      "Percent complete https://news.abs-cbn.com/ list: 23.2%\n",
      "Percent complete https://news.abs-cbn.com/ list: 23.6%\n",
      "Percent complete https://news.abs-cbn.com/ list: 24.0%\n",
      "Percent complete https://news.abs-cbn.com/ list: 24.4%\n",
      "Percent complete https://news.abs-cbn.com/ list: 24.8%\n",
      "Percent complete https://news.abs-cbn.com/ list: 25.2%\n",
      "Percent complete https://news.abs-cbn.com/ list: 25.6%\n",
      "Percent complete https://news.abs-cbn.com/ list: 26.0%\n",
      "Percent complete https://news.abs-cbn.com/ list: 26.4%\n",
      "Percent complete https://news.abs-cbn.com/ list: 26.8%\n",
      "Percent complete https://news.abs-cbn.com/ list: 27.2%\n",
      "Percent complete https://news.abs-cbn.com/ list: 27.6%\n",
      "Percent complete https://news.abs-cbn.com/ list: 28.0%\n",
      "Percent complete https://news.abs-cbn.com/ list: 28.3%\n",
      "Percent complete https://news.abs-cbn.com/ list: 28.7%\n",
      "Percent complete https://news.abs-cbn.com/ list: 29.1%\n",
      "Percent complete https://news.abs-cbn.com/ list: 29.5%\n",
      "Percent complete https://news.abs-cbn.com/ list: 29.9%\n",
      "Percent complete https://news.abs-cbn.com/ list: 30.3%\n",
      "Percent complete https://news.abs-cbn.com/ list: 30.7%\n",
      "Percent complete https://news.abs-cbn.com/ list: 31.1%\n",
      "Percent complete https://news.abs-cbn.com/ list: 31.5%\n",
      "Percent complete https://news.abs-cbn.com/ list: 31.9%\n",
      "Percent complete https://news.abs-cbn.com/ list: 32.3%\n",
      "Percent complete https://news.abs-cbn.com/ list: 32.7%\n",
      "Percent complete https://news.abs-cbn.com/ list: 33.1%\n",
      "Percent complete https://news.abs-cbn.com/ list: 33.5%\n",
      "Percent complete https://news.abs-cbn.com/ list: 33.9%\n",
      "Percent complete https://news.abs-cbn.com/ list: 34.3%\n",
      "Percent complete https://news.abs-cbn.com/ list: 34.6%\n",
      "Percent complete https://news.abs-cbn.com/ list: 35.0%\n",
      "Percent complete https://news.abs-cbn.com/ list: 35.4%\n",
      "Percent complete https://news.abs-cbn.com/ list: 35.8%\n",
      "Percent complete https://news.abs-cbn.com/ list: 36.2%\n",
      "Percent complete https://news.abs-cbn.com/ list: 36.6%\n",
      "Percent complete https://news.abs-cbn.com/ list: 37.0%\n",
      "Percent complete https://news.abs-cbn.com/ list: 37.4%\n",
      "Percent complete https://news.abs-cbn.com/ list: 37.8%\n",
      "Percent complete https://news.abs-cbn.com/ list: 38.2%\n",
      "Percent complete https://news.abs-cbn.com/ list: 38.6%\n",
      "Percent complete https://news.abs-cbn.com/ list: 39.0%\n",
      "Percent complete https://news.abs-cbn.com/ list: 39.4%\n",
      "Percent complete https://news.abs-cbn.com/ list: 39.8%\n",
      "Percent complete https://news.abs-cbn.com/ list: 40.2%\n",
      "Percent complete https://news.abs-cbn.com/ list: 40.6%\n",
      "Percent complete https://news.abs-cbn.com/ list: 40.9%\n",
      "Percent complete https://news.abs-cbn.com/ list: 41.3%\n",
      "Percent complete https://news.abs-cbn.com/ list: 41.7%\n",
      "Percent complete https://news.abs-cbn.com/ list: 42.1%\n",
      "Percent complete https://news.abs-cbn.com/ list: 42.5%\n",
      "Percent complete https://news.abs-cbn.com/ list: 42.9%\n",
      "Percent complete https://news.abs-cbn.com/ list: 43.3%\n",
      "Percent complete https://news.abs-cbn.com/ list: 43.7%\n",
      "Percent complete https://news.abs-cbn.com/ list: 44.1%\n",
      "Percent complete https://news.abs-cbn.com/ list: 44.5%\n",
      "Percent complete https://news.abs-cbn.com/ list: 44.9%\n",
      "Percent complete https://news.abs-cbn.com/ list: 45.3%\n",
      "Percent complete https://news.abs-cbn.com/ list: 45.7%\n",
      "Percent complete https://news.abs-cbn.com/ list: 46.1%\n",
      "Percent complete https://news.abs-cbn.com/ list: 46.5%\n",
      "Percent complete https://news.abs-cbn.com/ list: 46.9%\n",
      "Percent complete https://news.abs-cbn.com/ list: 47.2%\n",
      "Percent complete https://news.abs-cbn.com/ list: 47.6%\n",
      "Percent complete https://news.abs-cbn.com/ list: 48.0%\n",
      "Percent complete https://news.abs-cbn.com/ list: 48.4%\n",
      "Percent complete https://news.abs-cbn.com/ list: 48.8%\n",
      "Percent complete https://news.abs-cbn.com/ list: 49.2%\n",
      "Percent complete https://news.abs-cbn.com/ list: 49.6%\n",
      "Percent complete https://news.abs-cbn.com/ list: 50.0%\n",
      "Percent complete https://news.abs-cbn.com/ list: 50.4%\n",
      "Percent complete https://news.abs-cbn.com/ list: 50.8%\n",
      "Percent complete https://news.abs-cbn.com/ list: 51.2%\n",
      "Percent complete https://news.abs-cbn.com/ list: 51.6%\n",
      "Percent complete https://news.abs-cbn.com/ list: 52.0%\n",
      "Percent complete https://news.abs-cbn.com/ list: 52.4%\n",
      "Percent complete https://news.abs-cbn.com/ list: 52.8%\n",
      "Percent complete https://news.abs-cbn.com/ list: 53.1%\n",
      "Percent complete https://news.abs-cbn.com/ list: 53.5%\n",
      "Percent complete https://news.abs-cbn.com/ list: 53.9%\n",
      "Percent complete https://news.abs-cbn.com/ list: 54.3%\n",
      "Percent complete https://news.abs-cbn.com/ list: 54.7%\n",
      "Percent complete https://news.abs-cbn.com/ list: 55.1%\n",
      "Percent complete https://news.abs-cbn.com/ list: 55.5%\n",
      "Percent complete https://news.abs-cbn.com/ list: 55.9%\n",
      "Percent complete https://news.abs-cbn.com/ list: 56.3%\n",
      "Percent complete https://news.abs-cbn.com/ list: 56.7%\n",
      "Percent complete https://news.abs-cbn.com/ list: 57.1%\n",
      "Percent complete https://news.abs-cbn.com/ list: 57.5%\n",
      "Percent complete https://news.abs-cbn.com/ list: 57.9%\n",
      "Percent complete https://news.abs-cbn.com/ list: 58.3%\n",
      "Percent complete https://news.abs-cbn.com/ list: 58.7%\n",
      "Percent complete https://news.abs-cbn.com/ list: 59.1%\n",
      "Percent complete https://news.abs-cbn.com/ list: 59.4%\n",
      "Percent complete https://news.abs-cbn.com/ list: 59.8%\n",
      "Percent complete https://news.abs-cbn.com/ list: 60.2%\n",
      "Percent complete https://news.abs-cbn.com/ list: 60.6%\n",
      "Percent complete https://news.abs-cbn.com/ list: 61.0%\n",
      "Percent complete https://news.abs-cbn.com/ list: 61.4%\n",
      "Percent complete https://news.abs-cbn.com/ list: 61.8%\n",
      "Percent complete https://news.abs-cbn.com/ list: 62.2%\n",
      "Percent complete https://news.abs-cbn.com/ list: 62.6%\n",
      "Percent complete https://news.abs-cbn.com/ list: 63.0%\n",
      "Percent complete https://news.abs-cbn.com/ list: 63.4%\n",
      "Percent complete https://news.abs-cbn.com/ list: 63.8%\n",
      "Percent complete https://news.abs-cbn.com/ list: 64.2%\n",
      "Percent complete https://news.abs-cbn.com/ list: 64.6%\n",
      "Percent complete https://news.abs-cbn.com/ list: 65.0%\n",
      "Percent complete https://news.abs-cbn.com/ list: 65.4%\n",
      "Percent complete https://news.abs-cbn.com/ list: 65.7%\n",
      "Percent complete https://news.abs-cbn.com/ list: 66.1%\n",
      "Percent complete https://news.abs-cbn.com/ list: 66.5%\n",
      "Percent complete https://news.abs-cbn.com/ list: 66.9%\n",
      "Percent complete https://news.abs-cbn.com/ list: 67.3%\n",
      "Percent complete https://news.abs-cbn.com/ list: 67.7%\n",
      "Percent complete https://news.abs-cbn.com/ list: 68.1%\n",
      "Percent complete https://news.abs-cbn.com/ list: 68.5%\n",
      "Percent complete https://news.abs-cbn.com/ list: 68.9%\n",
      "Percent complete https://news.abs-cbn.com/ list: 69.3%\n",
      "Percent complete https://news.abs-cbn.com/ list: 69.7%\n",
      "Percent complete https://news.abs-cbn.com/ list: 70.1%\n",
      "Percent complete https://news.abs-cbn.com/ list: 70.5%\n",
      "Percent complete https://news.abs-cbn.com/ list: 70.9%\n",
      "Percent complete https://news.abs-cbn.com/ list: 71.3%\n",
      "Percent complete https://news.abs-cbn.com/ list: 71.7%\n",
      "Percent complete https://news.abs-cbn.com/ list: 72.0%\n",
      "Percent complete https://news.abs-cbn.com/ list: 72.4%\n",
      "Percent complete https://news.abs-cbn.com/ list: 72.8%\n",
      "Percent complete https://news.abs-cbn.com/ list: 73.2%\n",
      "Percent complete https://news.abs-cbn.com/ list: 73.6%\n",
      "Percent complete https://news.abs-cbn.com/ list: 74.0%\n",
      "Percent complete https://news.abs-cbn.com/ list: 74.4%\n",
      "Percent complete https://news.abs-cbn.com/ list: 74.8%\n",
      "Percent complete https://news.abs-cbn.com/ list: 75.2%\n",
      "Percent complete https://news.abs-cbn.com/ list: 75.6%\n",
      "Percent complete https://news.abs-cbn.com/ list: 76.0%\n",
      "Percent complete https://news.abs-cbn.com/ list: 76.4%\n",
      "Percent complete https://news.abs-cbn.com/ list: 76.8%\n",
      "Percent complete https://news.abs-cbn.com/ list: 77.2%\n",
      "Percent complete https://news.abs-cbn.com/ list: 77.6%\n",
      "Percent complete https://news.abs-cbn.com/ list: 78.0%\n",
      "Percent complete https://news.abs-cbn.com/ list: 78.3%\n",
      "Percent complete https://news.abs-cbn.com/ list: 78.7%\n",
      "Percent complete https://news.abs-cbn.com/ list: 79.1%\n",
      "Percent complete https://news.abs-cbn.com/ list: 79.5%\n",
      "Percent complete https://news.abs-cbn.com/ list: 79.9%\n",
      "Percent complete https://news.abs-cbn.com/ list: 80.3%\n",
      "Percent complete https://news.abs-cbn.com/ list: 80.7%\n",
      "Percent complete https://news.abs-cbn.com/ list: 81.1%\n",
      "Percent complete https://news.abs-cbn.com/ list: 81.5%\n",
      "Percent complete https://news.abs-cbn.com/ list: 81.9%\n",
      "Percent complete https://news.abs-cbn.com/ list: 82.3%\n",
      "Percent complete https://news.abs-cbn.com/ list: 82.7%\n",
      "Percent complete https://news.abs-cbn.com/ list: 83.1%\n",
      "Percent complete https://news.abs-cbn.com/ list: 83.5%\n",
      "Percent complete https://news.abs-cbn.com/ list: 83.9%\n",
      "Percent complete https://news.abs-cbn.com/ list: 84.3%\n",
      "Percent complete https://news.abs-cbn.com/ list: 84.6%\n",
      "Percent complete https://news.abs-cbn.com/ list: 85.0%\n",
      "Percent complete https://news.abs-cbn.com/ list: 85.4%\n",
      "Percent complete https://news.abs-cbn.com/ list: 85.8%\n",
      "Percent complete https://news.abs-cbn.com/ list: 86.2%\n",
      "Percent complete https://news.abs-cbn.com/ list: 86.6%\n",
      "Percent complete https://news.abs-cbn.com/ list: 87.0%\n",
      "Percent complete https://news.abs-cbn.com/ list: 87.4%\n",
      "Percent complete https://news.abs-cbn.com/ list: 87.8%\n",
      "Percent complete https://news.abs-cbn.com/ list: 88.2%\n",
      "Percent complete https://news.abs-cbn.com/ list: 88.6%\n",
      "Percent complete https://news.abs-cbn.com/ list: 89.0%\n",
      "Percent complete https://news.abs-cbn.com/ list: 89.4%\n",
      "Percent complete https://news.abs-cbn.com/ list: 89.8%\n",
      "Percent complete https://news.abs-cbn.com/ list: 90.2%\n",
      "Percent complete https://news.abs-cbn.com/ list: 90.6%\n",
      "Percent complete https://news.abs-cbn.com/ list: 90.9%\n",
      "Percent complete https://news.abs-cbn.com/ list: 91.3%\n",
      "Percent complete https://news.abs-cbn.com/ list: 91.7%\n",
      "Percent complete https://news.abs-cbn.com/ list: 92.1%\n",
      "Percent complete https://news.abs-cbn.com/ list: 92.5%\n",
      "Percent complete https://news.abs-cbn.com/ list: 92.9%\n",
      "Percent complete https://news.abs-cbn.com/ list: 93.3%\n",
      "Percent complete https://news.abs-cbn.com/ list: 93.7%\n",
      "Percent complete https://news.abs-cbn.com/ list: 94.1%\n",
      "Percent complete https://news.abs-cbn.com/ list: 94.5%\n",
      "Percent complete https://news.abs-cbn.com/ list: 94.9%\n",
      "Percent complete https://news.abs-cbn.com/ list: 95.3%\n",
      "Percent complete https://news.abs-cbn.com/ list: 95.7%\n",
      "Percent complete https://news.abs-cbn.com/ list: 96.1%\n",
      "Percent complete https://news.abs-cbn.com/ list: 96.5%\n",
      "Percent complete https://news.abs-cbn.com/ list: 96.9%\n",
      "Percent complete https://news.abs-cbn.com/ list: 97.2%\n",
      "Percent complete https://news.abs-cbn.com/ list: 97.6%\n",
      "Percent complete https://news.abs-cbn.com/ list: 98.0%\n",
      "Percent complete https://news.abs-cbn.com/ list: 98.4%\n",
      "Percent complete https://news.abs-cbn.com/ list: 98.8%\n",
      "Percent complete https://news.abs-cbn.com/ list: 99.2%\n",
      "Percent complete https://news.abs-cbn.com/ list: 99.6%\n",
      "Percent complete https://news.abs-cbn.com/ list: 100.0%\n",
      "Percent complete all sources list: 100.0%\n"
     ]
    },
    {
     "name": "stdout",
     "output_type": "stream",
     "text": [
      "Percent complete https://asia.nikkei.com/ list: 0.2%\n",
      "Percent complete https://asia.nikkei.com/ list: 0.3%\n",
      "Percent complete https://asia.nikkei.com/ list: 0.5%\n",
      "Percent complete https://asia.nikkei.com/ list: 0.7%\n",
      "Percent complete https://asia.nikkei.com/ list: 0.8%\n",
      "Percent complete https://asia.nikkei.com/ list: 1.0%\n",
      "Percent complete https://asia.nikkei.com/ list: 1.1%\n",
      "Percent complete https://asia.nikkei.com/ list: 1.3%\n",
      "Percent complete https://asia.nikkei.com/ list: 1.5%\n",
      "Percent complete https://asia.nikkei.com/ list: 1.6%\n",
      "Percent complete https://asia.nikkei.com/ list: 1.8%\n",
      "Percent complete https://asia.nikkei.com/ list: 2.0%\n",
      "Percent complete https://asia.nikkei.com/ list: 2.1%\n",
      "Percent complete https://asia.nikkei.com/ list: 2.3%\n",
      "Percent complete https://asia.nikkei.com/ list: 2.5%\n",
      "Percent complete https://asia.nikkei.com/ list: 2.6%\n",
      "Percent complete https://asia.nikkei.com/ list: 2.8%\n",
      "Percent complete https://asia.nikkei.com/ list: 3.0%\n",
      "Percent complete https://asia.nikkei.com/ list: 3.1%\n",
      "Percent complete https://asia.nikkei.com/ list: 3.3%\n",
      "Percent complete https://asia.nikkei.com/ list: 3.4%\n",
      "Percent complete https://asia.nikkei.com/ list: 3.6%\n",
      "Percent complete https://asia.nikkei.com/ list: 3.8%\n",
      "Percent complete https://asia.nikkei.com/ list: 3.9%\n",
      "Percent complete https://asia.nikkei.com/ list: 4.1%\n",
      "Percent complete https://asia.nikkei.com/ list: 4.3%\n",
      "Percent complete https://asia.nikkei.com/ list: 4.4%\n",
      "Percent complete https://asia.nikkei.com/ list: 4.6%\n",
      "Percent complete https://asia.nikkei.com/ list: 4.8%\n",
      "Percent complete https://asia.nikkei.com/ list: 4.9%\n",
      "Percent complete https://asia.nikkei.com/ list: 5.1%\n",
      "Percent complete https://asia.nikkei.com/ list: 5.2%\n",
      "Percent complete https://asia.nikkei.com/ list: 5.4%\n",
      "Percent complete https://asia.nikkei.com/ list: 5.6%\n",
      "Percent complete https://asia.nikkei.com/ list: 5.7%\n",
      "Percent complete https://asia.nikkei.com/ list: 5.9%\n",
      "Percent complete https://asia.nikkei.com/ list: 6.1%\n",
      "Percent complete https://asia.nikkei.com/ list: 6.2%\n",
      "Percent complete https://asia.nikkei.com/ list: 6.4%\n",
      "Percent complete https://asia.nikkei.com/ list: 6.6%\n",
      "Percent complete https://asia.nikkei.com/ list: 6.7%\n",
      "Percent complete https://asia.nikkei.com/ list: 6.9%\n",
      "Percent complete https://asia.nikkei.com/ list: 7.0%\n",
      "Percent complete https://asia.nikkei.com/ list: 7.2%\n",
      "Percent complete https://asia.nikkei.com/ list: 7.4%\n",
      "Percent complete https://asia.nikkei.com/ list: 7.5%\n",
      "Percent complete https://asia.nikkei.com/ list: 7.7%\n",
      "Percent complete https://asia.nikkei.com/ list: 7.9%\n",
      "Percent complete https://asia.nikkei.com/ list: 8.0%\n",
      "Percent complete https://asia.nikkei.com/ list: 8.2%\n",
      "Percent complete https://asia.nikkei.com/ list: 8.4%\n",
      "Percent complete https://asia.nikkei.com/ list: 8.5%\n",
      "Percent complete https://asia.nikkei.com/ list: 8.7%\n",
      "Percent complete https://asia.nikkei.com/ list: 8.9%\n",
      "Percent complete https://asia.nikkei.com/ list: 9.0%\n",
      "Percent complete https://asia.nikkei.com/ list: 9.2%\n",
      "Percent complete https://asia.nikkei.com/ list: 9.3%\n",
      "Percent complete https://asia.nikkei.com/ list: 9.5%\n",
      "Percent complete https://asia.nikkei.com/ list: 9.7%\n",
      "Percent complete https://asia.nikkei.com/ list: 9.8%\n",
      "Percent complete https://asia.nikkei.com/ list: 10.0%\n",
      "Percent complete https://asia.nikkei.com/ list: 10.2%\n",
      "Percent complete https://asia.nikkei.com/ list: 10.3%\n",
      "Percent complete https://asia.nikkei.com/ list: 10.5%\n",
      "Percent complete https://asia.nikkei.com/ list: 10.7%\n",
      "Percent complete https://asia.nikkei.com/ list: 10.8%\n",
      "Percent complete https://asia.nikkei.com/ list: 11.0%\n",
      "Percent complete https://asia.nikkei.com/ list: 11.1%\n",
      "Percent complete https://asia.nikkei.com/ list: 11.3%\n",
      "Percent complete https://asia.nikkei.com/ list: 11.5%\n",
      "Percent complete https://asia.nikkei.com/ list: 11.6%\n",
      "Percent complete https://asia.nikkei.com/ list: 11.8%\n",
      "Percent complete https://asia.nikkei.com/ list: 12.0%\n",
      "Percent complete https://asia.nikkei.com/ list: 12.1%\n",
      "Percent complete https://asia.nikkei.com/ list: 12.3%\n",
      "Percent complete https://asia.nikkei.com/ list: 12.5%\n",
      "Percent complete https://asia.nikkei.com/ list: 12.6%\n",
      "Percent complete https://asia.nikkei.com/ list: 12.8%\n",
      "Percent complete https://asia.nikkei.com/ list: 13.0%\n",
      "Percent complete https://asia.nikkei.com/ list: 13.1%\n",
      "Percent complete https://asia.nikkei.com/ list: 13.3%\n",
      "Percent complete https://asia.nikkei.com/ list: 13.4%\n",
      "Percent complete https://asia.nikkei.com/ list: 13.6%\n",
      "Percent complete https://asia.nikkei.com/ list: 13.8%\n",
      "Percent complete https://asia.nikkei.com/ list: 13.9%\n",
      "Percent complete https://asia.nikkei.com/ list: 14.1%\n",
      "Percent complete https://asia.nikkei.com/ list: 14.3%\n",
      "Percent complete https://asia.nikkei.com/ list: 14.4%\n",
      "Percent complete https://asia.nikkei.com/ list: 14.6%\n",
      "Percent complete https://asia.nikkei.com/ list: 14.8%\n",
      "Percent complete https://asia.nikkei.com/ list: 14.9%\n",
      "Percent complete https://asia.nikkei.com/ list: 15.1%\n",
      "Percent complete https://asia.nikkei.com/ list: 15.2%\n",
      "Percent complete https://asia.nikkei.com/ list: 15.4%\n",
      "Percent complete https://asia.nikkei.com/ list: 15.6%\n",
      "Percent complete https://asia.nikkei.com/ list: 15.7%\n",
      "Percent complete https://asia.nikkei.com/ list: 15.9%\n",
      "Percent complete https://asia.nikkei.com/ list: 16.1%\n",
      "Percent complete https://asia.nikkei.com/ list: 16.2%\n",
      "Percent complete https://asia.nikkei.com/ list: 16.4%\n",
      "Percent complete https://asia.nikkei.com/ list: 16.6%\n",
      "Percent complete https://asia.nikkei.com/ list: 16.7%\n",
      "Percent complete https://asia.nikkei.com/ list: 16.9%\n",
      "Percent complete https://asia.nikkei.com/ list: 17.0%\n",
      "Percent complete https://asia.nikkei.com/ list: 17.2%\n",
      "Percent complete https://asia.nikkei.com/ list: 17.4%\n",
      "Percent complete https://asia.nikkei.com/ list: 17.5%\n",
      "Percent complete https://asia.nikkei.com/ list: 17.7%\n",
      "Percent complete https://asia.nikkei.com/ list: 17.9%\n",
      "Percent complete https://asia.nikkei.com/ list: 18.0%\n",
      "Percent complete https://asia.nikkei.com/ list: 18.2%\n",
      "Percent complete https://asia.nikkei.com/ list: 18.4%\n",
      "Percent complete https://asia.nikkei.com/ list: 18.5%\n",
      "Percent complete https://asia.nikkei.com/ list: 18.7%\n",
      "Percent complete https://asia.nikkei.com/ list: 18.9%\n",
      "Percent complete https://asia.nikkei.com/ list: 19.0%\n",
      "Percent complete https://asia.nikkei.com/ list: 19.2%\n",
      "Percent complete https://asia.nikkei.com/ list: 19.3%\n",
      "Percent complete https://asia.nikkei.com/ list: 19.5%\n",
      "Percent complete https://asia.nikkei.com/ list: 19.7%\n",
      "Percent complete https://asia.nikkei.com/ list: 19.8%\n",
      "Percent complete https://asia.nikkei.com/ list: 20.0%\n",
      "Percent complete https://asia.nikkei.com/ list: 20.2%\n",
      "Percent complete https://asia.nikkei.com/ list: 20.3%\n",
      "Percent complete https://asia.nikkei.com/ list: 20.5%\n",
      "Percent complete https://asia.nikkei.com/ list: 20.7%\n",
      "Percent complete https://asia.nikkei.com/ list: 20.8%\n",
      "Percent complete https://asia.nikkei.com/ list: 21.0%\n",
      "Percent complete https://asia.nikkei.com/ list: 21.1%\n",
      "Percent complete https://asia.nikkei.com/ list: 21.3%\n",
      "Percent complete https://asia.nikkei.com/ list: 21.5%\n",
      "Percent complete https://asia.nikkei.com/ list: 21.6%\n",
      "Percent complete https://asia.nikkei.com/ list: 21.8%\n",
      "Percent complete https://asia.nikkei.com/ list: 22.0%\n",
      "Percent complete https://asia.nikkei.com/ list: 22.1%\n",
      "Percent complete https://asia.nikkei.com/ list: 22.3%\n",
      "Percent complete https://asia.nikkei.com/ list: 22.5%\n",
      "Percent complete https://asia.nikkei.com/ list: 22.6%\n",
      "Percent complete https://asia.nikkei.com/ list: 22.8%\n",
      "Percent complete https://asia.nikkei.com/ list: 23.0%\n",
      "Percent complete https://asia.nikkei.com/ list: 23.1%\n",
      "Percent complete https://asia.nikkei.com/ list: 23.3%\n",
      "Percent complete https://asia.nikkei.com/ list: 23.4%\n",
      "Percent complete https://asia.nikkei.com/ list: 23.6%\n",
      "Percent complete https://asia.nikkei.com/ list: 23.8%\n",
      "Percent complete https://asia.nikkei.com/ list: 23.9%\n",
      "Percent complete https://asia.nikkei.com/ list: 24.1%\n",
      "Percent complete https://asia.nikkei.com/ list: 24.3%\n",
      "Percent complete https://asia.nikkei.com/ list: 24.4%\n",
      "Percent complete https://asia.nikkei.com/ list: 24.6%\n",
      "Percent complete https://asia.nikkei.com/ list: 24.8%\n",
      "Percent complete https://asia.nikkei.com/ list: 24.9%\n",
      "Percent complete https://asia.nikkei.com/ list: 25.1%\n",
      "Percent complete https://asia.nikkei.com/ list: 25.2%\n",
      "Percent complete https://asia.nikkei.com/ list: 25.4%\n",
      "Percent complete https://asia.nikkei.com/ list: 25.6%\n",
      "Percent complete https://asia.nikkei.com/ list: 25.7%\n",
      "Percent complete https://asia.nikkei.com/ list: 25.9%\n",
      "Percent complete https://asia.nikkei.com/ list: 26.1%\n",
      "Percent complete https://asia.nikkei.com/ list: 26.2%\n",
      "Percent complete https://asia.nikkei.com/ list: 26.4%\n",
      "Percent complete https://asia.nikkei.com/ list: 26.6%\n",
      "Percent complete https://asia.nikkei.com/ list: 26.7%\n",
      "Percent complete https://asia.nikkei.com/ list: 26.9%\n",
      "Percent complete https://asia.nikkei.com/ list: 27.0%\n",
      "Percent complete https://asia.nikkei.com/ list: 27.2%\n",
      "Percent complete https://asia.nikkei.com/ list: 27.4%\n",
      "Percent complete https://asia.nikkei.com/ list: 27.5%\n",
      "Percent complete https://asia.nikkei.com/ list: 27.7%\n",
      "Percent complete https://asia.nikkei.com/ list: 27.9%\n",
      "Percent complete https://asia.nikkei.com/ list: 28.0%\n",
      "Percent complete https://asia.nikkei.com/ list: 28.2%\n",
      "Percent complete https://asia.nikkei.com/ list: 28.4%\n",
      "Percent complete https://asia.nikkei.com/ list: 28.5%\n",
      "Percent complete https://asia.nikkei.com/ list: 28.7%\n",
      "Percent complete https://asia.nikkei.com/ list: 28.9%\n",
      "Percent complete https://asia.nikkei.com/ list: 29.0%\n",
      "Percent complete https://asia.nikkei.com/ list: 29.2%\n",
      "Percent complete https://asia.nikkei.com/ list: 29.3%\n",
      "Percent complete https://asia.nikkei.com/ list: 29.5%\n",
      "Percent complete https://asia.nikkei.com/ list: 29.7%\n",
      "Percent complete https://asia.nikkei.com/ list: 29.8%\n",
      "Percent complete https://asia.nikkei.com/ list: 30.0%\n",
      "Percent complete https://asia.nikkei.com/ list: 30.2%\n",
      "Percent complete https://asia.nikkei.com/ list: 30.3%\n",
      "Percent complete https://asia.nikkei.com/ list: 30.5%\n",
      "Percent complete https://asia.nikkei.com/ list: 30.7%\n",
      "Percent complete https://asia.nikkei.com/ list: 30.8%\n",
      "Percent complete https://asia.nikkei.com/ list: 31.0%\n",
      "Percent complete https://asia.nikkei.com/ list: 31.1%\n",
      "Percent complete https://asia.nikkei.com/ list: 31.3%\n",
      "Percent complete https://asia.nikkei.com/ list: 31.5%\n",
      "Percent complete https://asia.nikkei.com/ list: 31.6%\n",
      "Percent complete https://asia.nikkei.com/ list: 31.8%\n",
      "Percent complete https://asia.nikkei.com/ list: 32.0%\n",
      "Percent complete https://asia.nikkei.com/ list: 32.1%\n",
      "Percent complete https://asia.nikkei.com/ list: 32.3%\n",
      "Percent complete https://asia.nikkei.com/ list: 32.5%\n",
      "Percent complete https://asia.nikkei.com/ list: 32.6%\n",
      "Percent complete https://asia.nikkei.com/ list: 32.8%\n",
      "Percent complete https://asia.nikkei.com/ list: 33.0%\n",
      "Percent complete https://asia.nikkei.com/ list: 33.1%\n",
      "Percent complete https://asia.nikkei.com/ list: 33.3%\n",
      "Percent complete https://asia.nikkei.com/ list: 33.4%\n",
      "Percent complete https://asia.nikkei.com/ list: 33.6%\n",
      "Percent complete https://asia.nikkei.com/ list: 33.8%\n",
      "Percent complete https://asia.nikkei.com/ list: 33.9%\n",
      "Percent complete https://asia.nikkei.com/ list: 34.1%\n",
      "Percent complete https://asia.nikkei.com/ list: 34.3%\n",
      "Percent complete https://asia.nikkei.com/ list: 34.4%\n",
      "Percent complete https://asia.nikkei.com/ list: 34.6%\n",
      "Percent complete https://asia.nikkei.com/ list: 34.8%\n",
      "Percent complete https://asia.nikkei.com/ list: 34.9%\n",
      "Percent complete https://asia.nikkei.com/ list: 35.1%\n",
      "Percent complete https://asia.nikkei.com/ list: 35.2%\n",
      "Percent complete https://asia.nikkei.com/ list: 35.4%\n",
      "Percent complete https://asia.nikkei.com/ list: 35.6%\n",
      "Percent complete https://asia.nikkei.com/ list: 35.7%\n",
      "Percent complete https://asia.nikkei.com/ list: 35.9%\n",
      "Percent complete https://asia.nikkei.com/ list: 36.1%\n",
      "Percent complete https://asia.nikkei.com/ list: 36.2%\n",
      "Percent complete https://asia.nikkei.com/ list: 36.4%\n",
      "Percent complete https://asia.nikkei.com/ list: 36.6%\n",
      "Percent complete https://asia.nikkei.com/ list: 36.7%\n",
      "Percent complete https://asia.nikkei.com/ list: 36.9%\n",
      "Percent complete https://asia.nikkei.com/ list: 37.0%\n",
      "Percent complete https://asia.nikkei.com/ list: 37.2%\n",
      "Percent complete https://asia.nikkei.com/ list: 37.4%\n",
      "Percent complete https://asia.nikkei.com/ list: 37.5%\n",
      "Percent complete https://asia.nikkei.com/ list: 37.7%\n",
      "Percent complete https://asia.nikkei.com/ list: 37.9%\n",
      "Percent complete https://asia.nikkei.com/ list: 38.0%\n",
      "Percent complete https://asia.nikkei.com/ list: 38.2%\n",
      "Percent complete https://asia.nikkei.com/ list: 38.4%\n",
      "Percent complete https://asia.nikkei.com/ list: 38.5%\n",
      "Percent complete https://asia.nikkei.com/ list: 38.7%\n",
      "Percent complete https://asia.nikkei.com/ list: 38.9%\n",
      "Percent complete https://asia.nikkei.com/ list: 39.0%\n",
      "Percent complete https://asia.nikkei.com/ list: 39.2%\n",
      "Percent complete https://asia.nikkei.com/ list: 39.3%\n",
      "Percent complete https://asia.nikkei.com/ list: 39.5%\n",
      "Percent complete https://asia.nikkei.com/ list: 39.7%\n",
      "Percent complete https://asia.nikkei.com/ list: 39.8%\n",
      "Percent complete https://asia.nikkei.com/ list: 40.0%\n",
      "Percent complete https://asia.nikkei.com/ list: 40.2%\n",
      "Percent complete https://asia.nikkei.com/ list: 40.3%\n",
      "Percent complete https://asia.nikkei.com/ list: 40.5%\n",
      "Percent complete https://asia.nikkei.com/ list: 40.7%\n",
      "Percent complete https://asia.nikkei.com/ list: 40.8%\n",
      "Percent complete https://asia.nikkei.com/ list: 41.0%\n",
      "Percent complete https://asia.nikkei.com/ list: 41.1%\n",
      "Percent complete https://asia.nikkei.com/ list: 41.3%\n",
      "Percent complete https://asia.nikkei.com/ list: 41.5%\n",
      "Percent complete https://asia.nikkei.com/ list: 41.6%\n",
      "Percent complete https://asia.nikkei.com/ list: 41.8%\n",
      "Percent complete https://asia.nikkei.com/ list: 42.0%\n",
      "Percent complete https://asia.nikkei.com/ list: 42.1%\n",
      "Percent complete https://asia.nikkei.com/ list: 42.3%\n",
      "Percent complete https://asia.nikkei.com/ list: 42.5%\n",
      "Percent complete https://asia.nikkei.com/ list: 42.6%\n",
      "Percent complete https://asia.nikkei.com/ list: 42.8%\n",
      "Percent complete https://asia.nikkei.com/ list: 43.0%\n",
      "Percent complete https://asia.nikkei.com/ list: 43.1%\n",
      "Percent complete https://asia.nikkei.com/ list: 43.3%\n",
      "Percent complete https://asia.nikkei.com/ list: 43.4%\n",
      "Percent complete https://asia.nikkei.com/ list: 43.6%\n",
      "Percent complete https://asia.nikkei.com/ list: 43.8%\n",
      "Percent complete https://asia.nikkei.com/ list: 43.9%\n",
      "Percent complete https://asia.nikkei.com/ list: 44.1%\n",
      "Percent complete https://asia.nikkei.com/ list: 44.3%\n",
      "Percent complete https://asia.nikkei.com/ list: 44.4%\n",
      "Percent complete https://asia.nikkei.com/ list: 44.6%\n",
      "Percent complete https://asia.nikkei.com/ list: 44.8%\n",
      "Percent complete https://asia.nikkei.com/ list: 44.9%\n",
      "Percent complete https://asia.nikkei.com/ list: 45.1%\n",
      "Percent complete https://asia.nikkei.com/ list: 45.2%\n",
      "Percent complete https://asia.nikkei.com/ list: 45.4%\n",
      "Percent complete https://asia.nikkei.com/ list: 45.6%\n",
      "Percent complete https://asia.nikkei.com/ list: 45.7%\n",
      "Percent complete https://asia.nikkei.com/ list: 45.9%\n",
      "Percent complete https://asia.nikkei.com/ list: 46.1%\n",
      "Percent complete https://asia.nikkei.com/ list: 46.2%\n",
      "Percent complete https://asia.nikkei.com/ list: 46.4%\n",
      "Percent complete https://asia.nikkei.com/ list: 46.6%\n",
      "Percent complete https://asia.nikkei.com/ list: 46.7%\n",
      "Percent complete https://asia.nikkei.com/ list: 46.9%\n",
      "Percent complete https://asia.nikkei.com/ list: 47.0%\n",
      "Percent complete https://asia.nikkei.com/ list: 47.2%\n",
      "Percent complete https://asia.nikkei.com/ list: 47.4%\n",
      "Percent complete https://asia.nikkei.com/ list: 47.5%\n",
      "Percent complete https://asia.nikkei.com/ list: 47.7%\n",
      "Percent complete https://asia.nikkei.com/ list: 47.9%\n",
      "Percent complete https://asia.nikkei.com/ list: 48.0%\n",
      "Percent complete https://asia.nikkei.com/ list: 48.2%\n",
      "Percent complete https://asia.nikkei.com/ list: 48.4%\n",
      "Percent complete https://asia.nikkei.com/ list: 48.5%\n",
      "Percent complete https://asia.nikkei.com/ list: 48.7%\n",
      "Percent complete https://asia.nikkei.com/ list: 48.9%\n",
      "Percent complete https://asia.nikkei.com/ list: 49.0%\n",
      "Percent complete https://asia.nikkei.com/ list: 49.2%\n",
      "Percent complete https://asia.nikkei.com/ list: 49.3%\n",
      "Percent complete https://asia.nikkei.com/ list: 49.5%\n",
      "Percent complete https://asia.nikkei.com/ list: 49.7%\n",
      "Percent complete https://asia.nikkei.com/ list: 49.8%\n",
      "Percent complete https://asia.nikkei.com/ list: 50.0%\n",
      "Percent complete https://asia.nikkei.com/ list: 50.2%\n",
      "Percent complete https://asia.nikkei.com/ list: 50.3%\n",
      "Percent complete https://asia.nikkei.com/ list: 50.5%\n",
      "Percent complete https://asia.nikkei.com/ list: 50.7%\n",
      "Percent complete https://asia.nikkei.com/ list: 50.8%\n",
      "Percent complete https://asia.nikkei.com/ list: 51.0%\n",
      "Percent complete https://asia.nikkei.com/ list: 51.1%\n",
      "Percent complete https://asia.nikkei.com/ list: 51.3%\n",
      "Percent complete https://asia.nikkei.com/ list: 51.5%\n",
      "Percent complete https://asia.nikkei.com/ list: 51.6%\n",
      "Percent complete https://asia.nikkei.com/ list: 51.8%\n",
      "Percent complete https://asia.nikkei.com/ list: 52.0%\n",
      "Percent complete https://asia.nikkei.com/ list: 52.1%\n",
      "Percent complete https://asia.nikkei.com/ list: 52.3%\n",
      "Percent complete https://asia.nikkei.com/ list: 52.5%\n",
      "Percent complete https://asia.nikkei.com/ list: 52.6%\n",
      "Percent complete https://asia.nikkei.com/ list: 52.8%\n",
      "Percent complete https://asia.nikkei.com/ list: 53.0%\n",
      "Percent complete https://asia.nikkei.com/ list: 53.1%\n",
      "Percent complete https://asia.nikkei.com/ list: 53.3%\n",
      "Percent complete https://asia.nikkei.com/ list: 53.4%\n",
      "Percent complete https://asia.nikkei.com/ list: 53.6%\n",
      "Percent complete https://asia.nikkei.com/ list: 53.8%\n",
      "Percent complete https://asia.nikkei.com/ list: 53.9%\n",
      "Percent complete https://asia.nikkei.com/ list: 54.1%\n",
      "Percent complete https://asia.nikkei.com/ list: 54.3%\n",
      "Percent complete https://asia.nikkei.com/ list: 54.4%\n",
      "Percent complete https://asia.nikkei.com/ list: 54.6%\n",
      "Percent complete https://asia.nikkei.com/ list: 54.8%\n",
      "Percent complete https://asia.nikkei.com/ list: 54.9%\n",
      "Percent complete https://asia.nikkei.com/ list: 55.1%\n",
      "Percent complete https://asia.nikkei.com/ list: 55.2%\n",
      "Percent complete https://asia.nikkei.com/ list: 55.4%\n",
      "Percent complete https://asia.nikkei.com/ list: 55.6%\n",
      "Percent complete https://asia.nikkei.com/ list: 55.7%\n",
      "Percent complete https://asia.nikkei.com/ list: 55.9%\n",
      "Percent complete https://asia.nikkei.com/ list: 56.1%\n",
      "Percent complete https://asia.nikkei.com/ list: 56.2%\n",
      "Percent complete https://asia.nikkei.com/ list: 56.4%\n",
      "Percent complete https://asia.nikkei.com/ list: 56.6%\n",
      "Percent complete https://asia.nikkei.com/ list: 56.7%\n",
      "Percent complete https://asia.nikkei.com/ list: 56.9%\n",
      "Percent complete https://asia.nikkei.com/ list: 57.0%\n",
      "Percent complete https://asia.nikkei.com/ list: 57.2%\n",
      "Percent complete https://asia.nikkei.com/ list: 57.4%\n",
      "Percent complete https://asia.nikkei.com/ list: 57.5%\n",
      "Percent complete https://asia.nikkei.com/ list: 57.7%\n",
      "Percent complete https://asia.nikkei.com/ list: 57.9%\n",
      "Percent complete https://asia.nikkei.com/ list: 58.0%\n",
      "Percent complete https://asia.nikkei.com/ list: 58.2%\n",
      "Percent complete https://asia.nikkei.com/ list: 58.4%\n",
      "Percent complete https://asia.nikkei.com/ list: 58.5%\n",
      "Percent complete https://asia.nikkei.com/ list: 58.7%\n",
      "Percent complete https://asia.nikkei.com/ list: 58.9%\n",
      "Percent complete https://asia.nikkei.com/ list: 59.0%\n",
      "Percent complete https://asia.nikkei.com/ list: 59.2%\n",
      "Percent complete https://asia.nikkei.com/ list: 59.3%\n",
      "Percent complete https://asia.nikkei.com/ list: 59.5%\n",
      "Percent complete https://asia.nikkei.com/ list: 59.7%\n",
      "Percent complete https://asia.nikkei.com/ list: 59.8%\n",
      "Percent complete https://asia.nikkei.com/ list: 60.0%\n",
      "Percent complete https://asia.nikkei.com/ list: 60.2%\n",
      "Percent complete https://asia.nikkei.com/ list: 60.3%\n",
      "Percent complete https://asia.nikkei.com/ list: 60.5%\n",
      "Percent complete https://asia.nikkei.com/ list: 60.7%\n",
      "Percent complete https://asia.nikkei.com/ list: 60.8%\n",
      "Percent complete https://asia.nikkei.com/ list: 61.0%\n",
      "Percent complete https://asia.nikkei.com/ list: 61.1%\n",
      "Percent complete https://asia.nikkei.com/ list: 61.3%\n",
      "Percent complete https://asia.nikkei.com/ list: 61.5%\n",
      "Percent complete https://asia.nikkei.com/ list: 61.6%\n",
      "Percent complete https://asia.nikkei.com/ list: 61.8%\n",
      "Percent complete https://asia.nikkei.com/ list: 62.0%\n",
      "Percent complete https://asia.nikkei.com/ list: 62.1%\n",
      "Percent complete https://asia.nikkei.com/ list: 62.3%\n",
      "Percent complete https://asia.nikkei.com/ list: 62.5%\n",
      "Percent complete https://asia.nikkei.com/ list: 62.6%\n",
      "Percent complete https://asia.nikkei.com/ list: 62.8%\n",
      "Percent complete https://asia.nikkei.com/ list: 63.0%\n",
      "Percent complete https://asia.nikkei.com/ list: 63.1%\n",
      "Percent complete https://asia.nikkei.com/ list: 63.3%\n",
      "Percent complete https://asia.nikkei.com/ list: 63.4%\n",
      "Percent complete https://asia.nikkei.com/ list: 63.6%\n",
      "Percent complete https://asia.nikkei.com/ list: 63.8%\n",
      "Percent complete https://asia.nikkei.com/ list: 63.9%\n",
      "Percent complete https://asia.nikkei.com/ list: 64.1%\n",
      "Percent complete https://asia.nikkei.com/ list: 64.3%\n",
      "Percent complete https://asia.nikkei.com/ list: 64.4%\n",
      "Percent complete https://asia.nikkei.com/ list: 64.6%\n",
      "Percent complete https://asia.nikkei.com/ list: 64.8%\n",
      "Percent complete https://asia.nikkei.com/ list: 64.9%\n",
      "Percent complete https://asia.nikkei.com/ list: 65.1%\n",
      "Percent complete https://asia.nikkei.com/ list: 65.2%\n",
      "Percent complete https://asia.nikkei.com/ list: 65.4%\n",
      "Percent complete https://asia.nikkei.com/ list: 65.6%\n",
      "Percent complete https://asia.nikkei.com/ list: 65.7%\n",
      "Percent complete https://asia.nikkei.com/ list: 65.9%\n",
      "Percent complete https://asia.nikkei.com/ list: 66.1%\n",
      "Percent complete https://asia.nikkei.com/ list: 66.2%\n",
      "Percent complete https://asia.nikkei.com/ list: 66.4%\n",
      "Percent complete https://asia.nikkei.com/ list: 66.6%\n",
      "Percent complete https://asia.nikkei.com/ list: 66.7%\n",
      "Percent complete https://asia.nikkei.com/ list: 66.9%\n",
      "Percent complete https://asia.nikkei.com/ list: 67.0%\n",
      "Percent complete https://asia.nikkei.com/ list: 67.2%\n",
      "Percent complete https://asia.nikkei.com/ list: 67.4%\n",
      "Percent complete https://asia.nikkei.com/ list: 67.5%\n",
      "Percent complete https://asia.nikkei.com/ list: 67.7%\n",
      "Percent complete https://asia.nikkei.com/ list: 67.9%\n",
      "Percent complete https://asia.nikkei.com/ list: 68.0%\n",
      "Percent complete https://asia.nikkei.com/ list: 68.2%\n",
      "Percent complete https://asia.nikkei.com/ list: 68.4%\n",
      "Percent complete https://asia.nikkei.com/ list: 68.5%\n",
      "Percent complete https://asia.nikkei.com/ list: 68.7%\n",
      "Percent complete https://asia.nikkei.com/ list: 68.9%\n",
      "Percent complete https://asia.nikkei.com/ list: 69.0%\n",
      "Percent complete https://asia.nikkei.com/ list: 69.2%\n",
      "Percent complete https://asia.nikkei.com/ list: 69.3%\n",
      "Percent complete https://asia.nikkei.com/ list: 69.5%\n",
      "Percent complete https://asia.nikkei.com/ list: 69.7%\n",
      "Percent complete https://asia.nikkei.com/ list: 69.8%\n",
      "Percent complete https://asia.nikkei.com/ list: 70.0%\n",
      "Percent complete https://asia.nikkei.com/ list: 70.2%\n",
      "Percent complete https://asia.nikkei.com/ list: 70.3%\n",
      "Percent complete https://asia.nikkei.com/ list: 70.5%\n",
      "Percent complete https://asia.nikkei.com/ list: 70.7%\n",
      "Percent complete https://asia.nikkei.com/ list: 70.8%\n",
      "Percent complete https://asia.nikkei.com/ list: 71.0%\n",
      "Percent complete https://asia.nikkei.com/ list: 71.1%\n",
      "Percent complete https://asia.nikkei.com/ list: 71.3%\n",
      "Percent complete https://asia.nikkei.com/ list: 71.5%\n",
      "Percent complete https://asia.nikkei.com/ list: 71.6%\n",
      "Percent complete https://asia.nikkei.com/ list: 71.8%\n",
      "Percent complete https://asia.nikkei.com/ list: 72.0%\n",
      "Percent complete https://asia.nikkei.com/ list: 72.1%\n",
      "Percent complete https://asia.nikkei.com/ list: 72.3%\n",
      "Percent complete https://asia.nikkei.com/ list: 72.5%\n",
      "Percent complete https://asia.nikkei.com/ list: 72.6%\n",
      "Percent complete https://asia.nikkei.com/ list: 72.8%\n",
      "Percent complete https://asia.nikkei.com/ list: 73.0%\n",
      "Percent complete https://asia.nikkei.com/ list: 73.1%\n",
      "Percent complete https://asia.nikkei.com/ list: 73.3%\n",
      "Percent complete https://asia.nikkei.com/ list: 73.4%\n",
      "Percent complete https://asia.nikkei.com/ list: 73.6%\n",
      "Percent complete https://asia.nikkei.com/ list: 73.8%\n",
      "Percent complete https://asia.nikkei.com/ list: 73.9%\n",
      "Percent complete https://asia.nikkei.com/ list: 74.1%\n",
      "Percent complete https://asia.nikkei.com/ list: 74.3%\n",
      "Percent complete https://asia.nikkei.com/ list: 74.4%\n",
      "Percent complete https://asia.nikkei.com/ list: 74.6%\n",
      "Percent complete https://asia.nikkei.com/ list: 74.8%\n",
      "Percent complete https://asia.nikkei.com/ list: 74.9%\n",
      "Percent complete https://asia.nikkei.com/ list: 75.1%\n",
      "Percent complete https://asia.nikkei.com/ list: 75.2%\n",
      "Percent complete https://asia.nikkei.com/ list: 75.4%\n",
      "Percent complete https://asia.nikkei.com/ list: 75.6%\n",
      "Percent complete https://asia.nikkei.com/ list: 75.7%\n",
      "Percent complete https://asia.nikkei.com/ list: 75.9%\n",
      "Percent complete https://asia.nikkei.com/ list: 76.1%\n",
      "Percent complete https://asia.nikkei.com/ list: 76.2%\n",
      "Percent complete https://asia.nikkei.com/ list: 76.4%\n",
      "Percent complete https://asia.nikkei.com/ list: 76.6%\n",
      "Percent complete https://asia.nikkei.com/ list: 76.7%\n",
      "Percent complete https://asia.nikkei.com/ list: 76.9%\n",
      "Percent complete https://asia.nikkei.com/ list: 77.0%\n",
      "Percent complete https://asia.nikkei.com/ list: 77.2%\n",
      "Percent complete https://asia.nikkei.com/ list: 77.4%\n",
      "Percent complete https://asia.nikkei.com/ list: 77.5%\n",
      "Percent complete https://asia.nikkei.com/ list: 77.7%\n",
      "Percent complete https://asia.nikkei.com/ list: 77.9%\n",
      "Percent complete https://asia.nikkei.com/ list: 78.0%\n",
      "Percent complete https://asia.nikkei.com/ list: 78.2%\n",
      "Percent complete https://asia.nikkei.com/ list: 78.4%\n",
      "Percent complete https://asia.nikkei.com/ list: 78.5%\n",
      "Percent complete https://asia.nikkei.com/ list: 78.7%\n",
      "Percent complete https://asia.nikkei.com/ list: 78.9%\n",
      "Percent complete https://asia.nikkei.com/ list: 79.0%\n",
      "Percent complete https://asia.nikkei.com/ list: 79.2%\n",
      "Percent complete https://asia.nikkei.com/ list: 79.3%\n",
      "Percent complete https://asia.nikkei.com/ list: 79.5%\n",
      "Percent complete https://asia.nikkei.com/ list: 79.7%\n",
      "Percent complete https://asia.nikkei.com/ list: 79.8%\n",
      "Percent complete https://asia.nikkei.com/ list: 80.0%\n",
      "Percent complete https://asia.nikkei.com/ list: 80.2%\n",
      "Percent complete https://asia.nikkei.com/ list: 80.3%\n",
      "Percent complete https://asia.nikkei.com/ list: 80.5%\n",
      "Percent complete https://asia.nikkei.com/ list: 80.7%\n",
      "Percent complete https://asia.nikkei.com/ list: 80.8%\n",
      "Percent complete https://asia.nikkei.com/ list: 81.0%\n",
      "Percent complete https://asia.nikkei.com/ list: 81.1%\n",
      "Percent complete https://asia.nikkei.com/ list: 81.3%\n",
      "Percent complete https://asia.nikkei.com/ list: 81.5%\n",
      "Percent complete https://asia.nikkei.com/ list: 81.6%\n",
      "Percent complete https://asia.nikkei.com/ list: 81.8%\n",
      "Percent complete https://asia.nikkei.com/ list: 82.0%\n",
      "Percent complete https://asia.nikkei.com/ list: 82.1%\n",
      "Percent complete https://asia.nikkei.com/ list: 82.3%\n",
      "Percent complete https://asia.nikkei.com/ list: 82.5%\n",
      "Percent complete https://asia.nikkei.com/ list: 82.6%\n",
      "Percent complete https://asia.nikkei.com/ list: 82.8%\n",
      "Percent complete https://asia.nikkei.com/ list: 83.0%\n",
      "Percent complete https://asia.nikkei.com/ list: 83.1%\n",
      "Percent complete https://asia.nikkei.com/ list: 83.3%\n",
      "Percent complete https://asia.nikkei.com/ list: 83.4%\n",
      "Percent complete https://asia.nikkei.com/ list: 83.6%\n",
      "Percent complete https://asia.nikkei.com/ list: 83.8%\n",
      "Percent complete https://asia.nikkei.com/ list: 83.9%\n",
      "Percent complete https://asia.nikkei.com/ list: 84.1%\n",
      "Percent complete https://asia.nikkei.com/ list: 84.3%\n",
      "Percent complete https://asia.nikkei.com/ list: 84.4%\n",
      "Percent complete https://asia.nikkei.com/ list: 84.6%\n",
      "Percent complete https://asia.nikkei.com/ list: 84.8%\n",
      "Percent complete https://asia.nikkei.com/ list: 84.9%\n",
      "Percent complete https://asia.nikkei.com/ list: 85.1%\n",
      "Percent complete https://asia.nikkei.com/ list: 85.2%\n",
      "Percent complete https://asia.nikkei.com/ list: 85.4%\n",
      "Percent complete https://asia.nikkei.com/ list: 85.6%\n",
      "Percent complete https://asia.nikkei.com/ list: 85.7%\n",
      "Percent complete https://asia.nikkei.com/ list: 85.9%\n",
      "Percent complete https://asia.nikkei.com/ list: 86.1%\n",
      "Percent complete https://asia.nikkei.com/ list: 86.2%\n",
      "Percent complete https://asia.nikkei.com/ list: 86.4%\n",
      "Percent complete https://asia.nikkei.com/ list: 86.6%\n",
      "Percent complete https://asia.nikkei.com/ list: 86.7%\n",
      "Percent complete https://asia.nikkei.com/ list: 86.9%\n",
      "Percent complete https://asia.nikkei.com/ list: 87.0%\n",
      "Percent complete https://asia.nikkei.com/ list: 87.2%\n",
      "Percent complete https://asia.nikkei.com/ list: 87.4%\n",
      "Percent complete https://asia.nikkei.com/ list: 87.5%\n",
      "Percent complete https://asia.nikkei.com/ list: 87.7%\n",
      "Percent complete https://asia.nikkei.com/ list: 87.9%\n",
      "Percent complete https://asia.nikkei.com/ list: 88.0%\n",
      "Percent complete https://asia.nikkei.com/ list: 88.2%\n",
      "Percent complete https://asia.nikkei.com/ list: 88.4%\n",
      "Percent complete https://asia.nikkei.com/ list: 88.5%\n",
      "Percent complete https://asia.nikkei.com/ list: 88.7%\n",
      "Percent complete https://asia.nikkei.com/ list: 88.9%\n",
      "Percent complete https://asia.nikkei.com/ list: 89.0%\n",
      "Percent complete https://asia.nikkei.com/ list: 89.2%\n",
      "Percent complete https://asia.nikkei.com/ list: 89.3%\n",
      "Percent complete https://asia.nikkei.com/ list: 89.5%\n",
      "Percent complete https://asia.nikkei.com/ list: 89.7%\n",
      "Percent complete https://asia.nikkei.com/ list: 89.8%\n",
      "Percent complete https://asia.nikkei.com/ list: 90.0%\n",
      "Percent complete https://asia.nikkei.com/ list: 90.2%\n",
      "Percent complete https://asia.nikkei.com/ list: 90.3%\n",
      "Percent complete https://asia.nikkei.com/ list: 90.5%\n",
      "Percent complete https://asia.nikkei.com/ list: 90.7%\n",
      "Percent complete https://asia.nikkei.com/ list: 90.8%\n",
      "Percent complete https://asia.nikkei.com/ list: 91.0%\n",
      "Percent complete https://asia.nikkei.com/ list: 91.1%\n",
      "Percent complete https://asia.nikkei.com/ list: 91.3%\n",
      "Percent complete https://asia.nikkei.com/ list: 91.5%\n",
      "Percent complete https://asia.nikkei.com/ list: 91.6%\n",
      "Percent complete https://asia.nikkei.com/ list: 91.8%\n",
      "Percent complete https://asia.nikkei.com/ list: 92.0%\n",
      "Percent complete https://asia.nikkei.com/ list: 92.1%\n",
      "Percent complete https://asia.nikkei.com/ list: 92.3%\n",
      "Percent complete https://asia.nikkei.com/ list: 92.5%\n",
      "Percent complete https://asia.nikkei.com/ list: 92.6%\n",
      "Percent complete https://asia.nikkei.com/ list: 92.8%\n",
      "Percent complete https://asia.nikkei.com/ list: 93.0%\n",
      "Percent complete https://asia.nikkei.com/ list: 93.1%\n",
      "Percent complete https://asia.nikkei.com/ list: 93.3%\n",
      "Percent complete https://asia.nikkei.com/ list: 93.4%\n",
      "Percent complete https://asia.nikkei.com/ list: 93.6%\n",
      "Percent complete https://asia.nikkei.com/ list: 93.8%\n",
      "Percent complete https://asia.nikkei.com/ list: 93.9%\n",
      "Percent complete https://asia.nikkei.com/ list: 94.1%\n",
      "Percent complete https://asia.nikkei.com/ list: 94.3%\n",
      "Percent complete https://asia.nikkei.com/ list: 94.4%\n",
      "Percent complete https://asia.nikkei.com/ list: 94.6%\n",
      "Percent complete https://asia.nikkei.com/ list: 94.8%\n",
      "Percent complete https://asia.nikkei.com/ list: 94.9%\n",
      "Percent complete https://asia.nikkei.com/ list: 95.1%\n",
      "Percent complete https://asia.nikkei.com/ list: 95.2%\n",
      "Percent complete https://asia.nikkei.com/ list: 95.4%\n",
      "Percent complete https://asia.nikkei.com/ list: 95.6%\n",
      "Percent complete https://asia.nikkei.com/ list: 95.7%\n",
      "Percent complete https://asia.nikkei.com/ list: 95.9%\n",
      "Percent complete https://asia.nikkei.com/ list: 96.1%\n",
      "Percent complete https://asia.nikkei.com/ list: 96.2%\n",
      "Percent complete https://asia.nikkei.com/ list: 96.4%\n",
      "Percent complete https://asia.nikkei.com/ list: 96.6%\n",
      "Percent complete https://asia.nikkei.com/ list: 96.7%\n",
      "Percent complete https://asia.nikkei.com/ list: 96.9%\n",
      "Percent complete https://asia.nikkei.com/ list: 97.0%\n",
      "Percent complete https://asia.nikkei.com/ list: 97.2%\n",
      "Percent complete https://asia.nikkei.com/ list: 97.4%\n",
      "Percent complete https://asia.nikkei.com/ list: 97.5%\n",
      "Percent complete https://asia.nikkei.com/ list: 97.7%\n",
      "Percent complete https://asia.nikkei.com/ list: 97.9%\n",
      "Percent complete https://asia.nikkei.com/ list: 98.0%\n",
      "Percent complete https://asia.nikkei.com/ list: 98.2%\n",
      "Percent complete https://asia.nikkei.com/ list: 98.4%\n",
      "Percent complete https://asia.nikkei.com/ list: 98.5%\n",
      "Percent complete https://asia.nikkei.com/ list: 98.7%\n",
      "Percent complete https://asia.nikkei.com/ list: 98.9%\n",
      "Percent complete https://asia.nikkei.com/ list: 99.0%\n",
      "Percent complete https://asia.nikkei.com/ list: 99.2%\n",
      "Percent complete https://asia.nikkei.com/ list: 99.3%\n",
      "Percent complete https://asia.nikkei.com/ list: 99.5%\n",
      "Percent complete https://asia.nikkei.com/ list: 99.7%\n",
      "Percent complete https://asia.nikkei.com/ list: 99.8%\n",
      "Percent complete https://asia.nikkei.com/ list: 100.0%\n",
      "\n",
      "COVID-19 NEWS ITEMS: \n"
     ]
    },
    {
     "data": {
      "text/html": [
       "<a href='https://www.eaglenews.ph/at-least-19-mrt-3-trains-to-run-in-metro-manila-amid-gcq-to-allow-social-distancing-says-dotr/'> At least 19 MRT-3 trains to run in Metro Manila amid GCQ to allow social distancing, says DOTr</a>"
      ],
      "text/plain": [
       "<IPython.core.display.HTML object>"
      ]
     },
     "metadata": {},
     "output_type": "display_data"
    },
    {
     "data": {
      "text/html": [
       "<a href='https://www.mindanews.com/top-stories/2020/07/covid-19-positives-among-stranded-basulta-residents-surge-to-120-ntf-apologizes-to-barmm-for-the-mess/'> COVID-19 positives among stranded BaSulTa residents surge to 120; NTF apologizes to BARMM for the ‘mess’</a>"
      ],
      "text/plain": [
       "<IPython.core.display.HTML object>"
      ]
     },
     "metadata": {},
     "output_type": "display_data"
    },
    {
     "data": {
      "text/html": [
       "<a href='https://www.manilatimes.net/2020/07/16/opinion/editorial/dilg-plan-to-hunt-covid-19-patients-is-deeply-alarming/742360/'> DILG plan to ‘hunt’ Covid-19 patients is deeply alarming</a>"
      ],
      "text/plain": [
       "<IPython.core.display.HTML object>"
      ]
     },
     "metadata": {},
     "output_type": "display_data"
    },
    {
     "data": {
      "text/html": [
       "<a href='https://www.eaglenews.ph/dnd-chief-lorenzana-tests-negative-for-covid-19/'> DND Chief Lorenzana tests negative for COVID-19</a>"
      ],
      "text/plain": [
       "<IPython.core.display.HTML object>"
      ]
     },
     "metadata": {},
     "output_type": "display_data"
    },
    {
     "data": {
      "text/html": [
       "<a href='http://davaotoday.com/main/economy/health/davao-city-joins-other-davao-provinces-under-mgcq/'> Davao City joins other Davao provinces under MGCQ</a>"
      ],
      "text/plain": [
       "<IPython.core.display.HTML object>"
      ]
     },
     "metadata": {},
     "output_type": "display_data"
    },
    {
     "data": {
      "text/html": [
       "<a href='https://www.mindanews.com/business/2020/05/davao-tourism-suffers-huge-drop-in-revenues-due-to-covid-19/'> Davao tourism suffers ‘huge drop’ in revenues due to COVID-19</a>"
      ],
      "text/plain": [
       "<IPython.core.display.HTML object>"
      ]
     },
     "metadata": {},
     "output_type": "display_data"
    },
    {
     "data": {
      "text/html": [
       "<a href='http://davaotoday.com/main/economy/health/davaos-barangay-23-c-on-hard-lockdown-due-to-covid-19/'> Davao’s Barangay 23-C on ‘hard lockdown’ due to Covid-19</a>"
      ],
      "text/plain": [
       "<IPython.core.display.HTML object>"
      ]
     },
     "metadata": {},
     "output_type": "display_data"
    },
    {
     "data": {
      "text/html": [
       "<a href='https://www.interaksyon.com/politics-issues/2020/07/16/173057/duterte-extends-partial-restrictions-in-metro-manila-to-contain-covid-19/'> Duterte extends partial restrictions in Metro Manila to contain COVID-19</a>"
      ],
      "text/plain": [
       "<IPython.core.display.HTML object>"
      ]
     },
     "metadata": {},
     "output_type": "display_data"
    },
    {
     "data": {
      "text/html": [
       "<a href='/Spotlight/Asia-Insight/Duterte-s-strongman-popularity-at-risk-from-COVID-19-recession'> Duterte's strongman popularity at risk from COVID-19 recession</a>"
      ],
      "text/plain": [
       "<IPython.core.display.HTML object>"
      ]
     },
     "metadata": {},
     "output_type": "display_data"
    },
    {
     "data": {
      "text/html": [
       "<a href='https://www.eaglenews.ph/flying-back-to-the-philippines-during-the-covid-19-pandemic-what-to-expect-in-the-new-normal/'> Flying back to the Philippines during the COVID-19 pandemic: what to expect in the “new normal”</a>"
      ],
      "text/plain": [
       "<IPython.core.display.HTML object>"
      ]
     },
     "metadata": {},
     "output_type": "display_data"
    },
    {
     "data": {
      "text/html": [
       "<a href='https://politics.com.ph/full-coronavirus-vaccine-unlikely-by-next-year-expert/'> Full coronavirus vaccine unlikely by next year: expert</a>"
      ],
      "text/plain": [
       "<IPython.core.display.HTML object>"
      ]
     },
     "metadata": {},
     "output_type": "display_data"
    },
    {
     "data": {
      "text/html": [
       "<a href='https://politics.com.ph/gcq-in-metro-manila-extended-till-month-end2/'> GCQ in Metro Manila extended till month-end</a>"
      ],
      "text/plain": [
       "<IPython.core.display.HTML object>"
      ]
     },
     "metadata": {},
     "output_type": "display_data"
    },
    {
     "data": {
      "text/html": [
       "<a href='http://davaotoday.com/main/culture-2/entertainment/health-advocates-want-test-centers-in-every-region-vs-covid-19/'> Health advocates want test centers in every region vs COVID-19</a>"
      ],
      "text/plain": [
       "<IPython.core.display.HTML object>"
      ]
     },
     "metadata": {},
     "output_type": "display_data"
    },
    {
     "data": {
      "text/html": [
       "<a href='https://www.eaglenews.ph/iglesia-ni-cristo-church-of-christ-in-hawaii-conducts-contact-free-aid-to-humanity-during-covid-19-crisis/'> Iglesia Ni Cristo (Church Of Christ) in Hawaii conducts contact-free Aid to Humanity during COVID-19 crisis</a>"
      ],
      "text/plain": [
       "<IPython.core.display.HTML object>"
      ]
     },
     "metadata": {},
     "output_type": "display_data"
    },
    {
     "data": {
      "text/html": [
       "<a href='https://www.eaglenews.ph/in-photos-president-duterte-undergoes-covid-19-test-along-with-sen-bong-go/'> In photos:  President Duterte undergoes COVID-19 test, along with Sen. Bong Go</a>"
      ],
      "text/plain": [
       "<IPython.core.display.HTML object>"
      ]
     },
     "metadata": {},
     "output_type": "display_data"
    },
    {
     "data": {
      "text/html": [
       "<a href='https://politics.com.ph/list-areas-under-mgcq-gcq-mecq-until-end-july/'> LIST: Areas under MGCQ, GCQ, MECQ until end-July</a>"
      ],
      "text/plain": [
       "<IPython.core.display.HTML object>"
      ]
     },
     "metadata": {},
     "output_type": "display_data"
    },
    {
     "data": {
      "text/html": [
       "<a href='/Business/Technology/Lenovo-brings-foldable-PC-into-post-pandemic-working-world2'> Lenovo brings 'foldable' PC into post-pandemic working world</a>"
      ],
      "text/plain": [
       "<IPython.core.display.HTML object>"
      ]
     },
     "metadata": {},
     "output_type": "display_data"
    },
    {
     "data": {
      "text/html": [
       "<a href='https://www.eaglenews.ph/list-of-areas-quarantine-classifications-starting-july-16-until-july-31/'> List of areas, quarantine classifications starting July 16 until July 31</a>"
      ],
      "text/plain": [
       "<IPython.core.display.HTML object>"
      ]
     },
     "metadata": {},
     "output_type": "display_data"
    },
    {
     "data": {
      "text/html": [
       "<a href='https://politics.com.ph/manghahawa-pa-chel-diokno-warns-of-virus-spread-as-cops-search-houses-for-covid-19-patients/'> Manghahawa pa! Chel Diokno warns of virus spread as cops search houses for COVID-19 patients</a>"
      ],
      "text/plain": [
       "<IPython.core.display.HTML object>"
      ]
     },
     "metadata": {},
     "output_type": "display_data"
    },
    {
     "data": {
      "text/html": [
       "<a href='https://www.eaglenews.ph/manila-to-close-business-establishments-lock-down-barangays-violating-quarantine-rules/'> Manila to close business establishments, lock down barangays violating quarantine rules</a>"
      ],
      "text/plain": [
       "<IPython.core.display.HTML object>"
      ]
     },
     "metadata": {},
     "output_type": "display_data"
    },
    {
     "data": {
      "text/html": [
       "<a href='https://politics.com.ph/mark-villar-infected-with-covid-19-netizens-tell-isolation-czar-to-get-well-soon/'> Mark Villar infected with COVID-19; Netizens tell isolation czar to get well soon</a>"
      ],
      "text/plain": [
       "<IPython.core.display.HTML object>"
      ]
     },
     "metadata": {},
     "output_type": "display_data"
    },
    {
     "data": {
      "text/html": [
       "<a href='https://www.mindanews.com/top-stories/2020/07/mayor-sara-lets-focus-on-covid-19-pandemic-not-running-for-president/'> Mayor Sara: Let’s focus on COVID-19 pandemic, not running for president</a>"
      ],
      "text/plain": [
       "<IPython.core.display.HTML object>"
      ]
     },
     "metadata": {},
     "output_type": "display_data"
    },
    {
     "data": {
      "text/html": [
       "<a href='https://www.manilatimes.net/2020/07/16/news/latest-stories/metro-manila-stays-under-gcq-until-july-31-cebu-city-back-to-mecq/742342/'> Metro Manila stays under GCQ until July 31; Cebu City back to MECQ</a>"
      ],
      "text/plain": [
       "<IPython.core.display.HTML object>"
      ]
     },
     "metadata": {},
     "output_type": "display_data"
    },
    {
     "data": {
      "text/html": [
       "<a href='https://www.interaksyon.com/politics-issues/2020/07/15/172940/moderna-phase-1-results-show-coronavirus-vaccine-safe-induces-immune-response/'> Moderna Phase 1 results show coronavirus vaccine safe, induces immune response</a>"
      ],
      "text/plain": [
       "<IPython.core.display.HTML object>"
      ]
     },
     "metadata": {},
     "output_type": "display_data"
    },
    {
     "data": {
      "text/html": [
       "<a href='https://www.interaksyon.com/trends-spotlights/2020/07/15/172903/new-barter-trade-philippines-dti-illegal/'> New barter trade emerging as Filipinos cope with pandemic effects, but DTI says it’s illegal</a>"
      ],
      "text/plain": [
       "<IPython.core.display.HTML object>"
      ]
     },
     "metadata": {},
     "output_type": "display_data"
    },
    {
     "data": {
      "text/html": [
       "<a href='https://politics.com.ph/new-swine-flu-found-in-china-has-pandemic-potential3/'> New swine flu found in China has pandemic potential</a>"
      ],
      "text/plain": [
       "<IPython.core.display.HTML object>"
      ]
     },
     "metadata": {},
     "output_type": "display_data"
    },
    {
     "data": {
      "text/html": [
       "<a href='https://politics.com.ph/no-apologies-statement-on-articles-about-ph-red-cross-covid-19-testing-service/'> No apologies: Statement on articles about PH Red Cross COVID-19 testing service</a>"
      ],
      "text/plain": [
       "<IPython.core.display.HTML object>"
      ]
     },
     "metadata": {},
     "output_type": "display_data"
    },
    {
     "data": {
      "text/html": [
       "<a href='https://politics.com.ph/ph-covid-19-cases-near-59k-recoveries-close-to-21k/'> PH Covid-19 cases near 59k, recoveries close to  21K</a>"
      ],
      "text/plain": [
       "<IPython.core.display.HTML object>"
      ]
     },
     "metadata": {},
     "output_type": "display_data"
    },
    {
     "data": {
      "text/html": [
       "<a href='https://www.eaglenews.ph/pnp-recruitment-and-training-programs-to-resume-as-ncr-eases-to-gcq-on-june-1/'> PNP recruitment and training programs to resume as NCR eases to GCQ on June 1</a>"
      ],
      "text/plain": [
       "<IPython.core.display.HTML object>"
      ]
     },
     "metadata": {},
     "output_type": "display_data"
    },
    {
     "data": {
      "text/html": [
       "<a href='https://www.manilatimes.net/2020/07/16/business/business-top/psei-tumbles-on-quarantine-fears/742420/'> PSEi tumbles on quarantine fears</a>"
      ],
      "text/plain": [
       "<IPython.core.display.HTML object>"
      ]
     },
     "metadata": {},
     "output_type": "display_data"
    },
    {
     "data": {
      "text/html": [
       "<a href='https://www.manilatimes.net/2020/07/15/news/latest-stories/palace-assures-public-no-house-to-house-search-for-covid-19-patients/742147/'> Palace assures public: No ‘house-to-house’ search for Covid-19 patients</a>"
      ],
      "text/plain": [
       "<IPython.core.display.HTML object>"
      ]
     },
     "metadata": {},
     "output_type": "display_data"
    },
    {
     "data": {
      "text/html": [
       "<a href='https://www.manilatimes.net/2020/07/16/news/top-stories/palace-rejects-search-for-coronavirus-patients/742213/'> Palace rejects search for Coronavirus patients</a>"
      ],
      "text/plain": [
       "<IPython.core.display.HTML object>"
      ]
     },
     "metadata": {},
     "output_type": "display_data"
    },
    {
     "data": {
      "text/html": [
       "<a href='https://www.eaglenews.ph/palace-says-ncr-may-return-to-mecq-after-two-weeks-if-covid-19-cases-in-area-still-increase/'> Palace says NCR may return to MECQ after two weeks if no slowdown in COVID-19 transmission is seen</a>"
      ],
      "text/plain": [
       "<IPython.core.display.HTML object>"
      ]
     },
     "metadata": {},
     "output_type": "display_data"
    },
    {
     "data": {
      "text/html": [
       "<a href='https://www.eaglenews.ph/palace-covid-19-cases-reported-to-govt-not-qualified-for-home-quarantine-to-be-transferred-to-quarantine-facilities-to-prevent-covid-19-spread/'> Palace: COVID-19 cases reported to gov’t, not qualified for home quarantine to be transferred to quarantine facilities to prevent COVID-19 spread</a>"
      ],
      "text/plain": [
       "<IPython.core.display.HTML object>"
      ]
     },
     "metadata": {},
     "output_type": "display_data"
    },
    {
     "data": {
      "text/html": [
       "<a href='https://politics.com.ph/philippine-police-deployed-as-virus-cases-forced-into-quarantine/'> Philippine police deployed as virus cases forced into quarantine</a>"
      ],
      "text/plain": [
       "<IPython.core.display.HTML object>"
      ]
     },
     "metadata": {},
     "output_type": "display_data"
    },
    {
     "data": {
      "text/html": [
       "<a href='https://www.interaksyon.com/politics-issues/2020/07/15/172919/philippines-to-use-police-in-house-to-house-searches-for-covid-19-cases/'> Philippines to use police in house-to-house searches for COVID-19 cases</a>"
      ],
      "text/plain": [
       "<IPython.core.display.HTML object>"
      ]
     },
     "metadata": {},
     "output_type": "display_data"
    },
    {
     "data": {
      "text/html": [
       "<a href='https://www.eaglenews.ph/qc-legislative-building-temporarily-closed-starting-today-after-3-city-councilors-some-staff-members-test-positive-for-covid-19/'> QC legislative building temporarily closed starting today after 3 city councilors, some staff members test positive for COVID-19</a>"
      ],
      "text/plain": [
       "<IPython.core.display.HTML object>"
      ]
     },
     "metadata": {},
     "output_type": "display_data"
    },
    {
     "data": {
      "text/html": [
       "<a href='http://retiredanalyst.blogspot.com/2020/07/lorenzana-on-quarantine-anew-as-staff.html'> Retired Analyst:  Lorenzana on quarantine anew as staff positive for Covid-19</a>"
      ],
      "text/plain": [
       "<IPython.core.display.HTML object>"
      ]
     },
     "metadata": {},
     "output_type": "display_data"
    },
    {
     "data": {
      "text/html": [
       "<a href='http://retiredanalyst.blogspot.com/2020/07/navy-personnel-in-frigate-rites-ordered.html'> Retired Analyst: Navy personnel in frigate rites ordered to go on self-quarantine</a>"
      ],
      "text/plain": [
       "<IPython.core.display.HTML object>"
      ]
     },
     "metadata": {},
     "output_type": "display_data"
    },
    {
     "data": {
      "text/html": [
       "<a href='/Politics/Singapore-election/Singapore-election-cheers-business-but-COVID-19-worries-remain'> Singapore election cheers business but COVID-19 worries remain</a>"
      ],
      "text/plain": [
       "<IPython.core.display.HTML object>"
      ]
     },
     "metadata": {},
     "output_type": "display_data"
    },
    {
     "data": {
      "text/html": [
       "<a href='https://www.mindanews.com/business/2020/07/socssksargen-investments-php-1-93-b-in-q1-2019-php-69-m-in-q1-2020-due-to-covid-19/'> Socssksargen investments: PhP 1.93-B in Q1 2019. PhP 69-M in Q1 2020 due to COVID-19</a>"
      ],
      "text/plain": [
       "<IPython.core.display.HTML object>"
      ]
     },
     "metadata": {},
     "output_type": "display_data"
    },
    {
     "data": {
      "text/html": [
       "<a href='https://www.manilatimes.net/2020/07/16/news/headlines/some-areas-to-go-back-to-gcq-palace/742228/'> Some areas to go back to GCQ – Palace</a>"
      ],
      "text/plain": [
       "<IPython.core.display.HTML object>"
      ]
     },
     "metadata": {},
     "output_type": "display_data"
    },
    {
     "data": {
      "text/html": [
       "<a href='https://edgedavao.net/competitive-edge/2020/07/01/splash-corp-makes-nationwide-donation-as-hospitals-continue-to-battle-covid-19/'> Splash Corp. Makes Nationwide Donation as Hospitals Continue to Battle COVID-19</a>"
      ],
      "text/plain": [
       "<IPython.core.display.HTML object>"
      ]
     },
     "metadata": {},
     "output_type": "display_data"
    },
    {
     "data": {
      "text/html": [
       "<a href='https://politics.com.ph/tokhang-3-0-nupl-fears-abuse-as-cops-hunt-for-covid-19-patients/'> Tokhang 3.0? NUPL fears abuse as cops hunt for COVID-19 patients</a>"
      ],
      "text/plain": [
       "<IPython.core.display.HTML object>"
      ]
     },
     "metadata": {},
     "output_type": "display_data"
    },
    {
     "data": {
      "text/html": [
       "<a href='https://www.eaglenews.ph/tokyo-on-top-virus-alert-level-after-new-cases/'> Tokyo on top virus alert level after new cases</a>"
      ],
      "text/plain": [
       "<IPython.core.display.HTML object>"
      ]
     },
     "metadata": {},
     "output_type": "display_data"
    },
    {
     "data": {
      "text/html": [
       "<a href='https://politics.com.ph/tumulong-na-lang-kesa-dumaldal-palace-slams-robredo-for-saying-govt-in-denial-over-lapses-in-covid-19-response/'> Tumulong na lang kesa dumaldal! Palace slams Robredo for saying gov’t ‘in denial’ over lapses in COVID-19 response</a>"
      ],
      "text/plain": [
       "<IPython.core.display.HTML object>"
      ]
     },
     "metadata": {},
     "output_type": "display_data"
    },
    {
     "data": {
      "text/html": [
       "<a href='http://davaotoday.com/main/headline/up-mindanao-postpones-events-in-wake-of-covid-19-threat/'> UP Mindanao postpones events in wake of COVID-19 threat</a>"
      ],
      "text/plain": [
       "<IPython.core.display.HTML object>"
      ]
     },
     "metadata": {},
     "output_type": "display_data"
    },
    {
     "data": {
      "text/html": [
       "<a href='http://davaotoday.com/main/economy/health/up-scientists-to-roque-statistics-show-ph-not-winning-vs-covid-19/'> UP scientists to Roque: statistics show PH not winning vs Covid-19</a>"
      ],
      "text/plain": [
       "<IPython.core.display.HTML object>"
      ]
     },
     "metadata": {},
     "output_type": "display_data"
    },
    {
     "data": {
      "text/html": [
       "<a href='https://www.eaglenews.ph/us-government-to-give-additional-p201-million-covid-19-aid-for-mindanao/'> US government to give additional P201 million COVID-19 aid for Mindanao</a>"
      ],
      "text/plain": [
       "<IPython.core.display.HTML object>"
      ]
     },
     "metadata": {},
     "output_type": "display_data"
    },
    {
     "data": {
      "text/html": [
       "<a href='https://www.manilatimes.net/2020/07/16/news/national/unraveling-the-new-coronavirus/742220/'> Unraveling the new coronavirus</a>"
      ],
      "text/plain": [
       "<IPython.core.display.HTML object>"
      ]
     },
     "metadata": {},
     "output_type": "display_data"
    },
    {
     "data": {
      "text/html": [
       "<a href='https://www.interaksyon.com/politics-issues/2020/07/14/172868/palace-hospitals-healthcare-beds-capacity-covid19/'> What Palace said (and what hospitals now say) on COVID-19 healthcare capacity</a>"
      ],
      "text/plain": [
       "<IPython.core.display.HTML object>"
      ]
     },
     "metadata": {},
     "output_type": "display_data"
    },
    {
     "data": {
      "text/html": [
       "<a href='https://politics.com.ph/world-hunger-worsening-as-coronavirus-weighs-and-obesity-rises-un/'> World hunger worsening as coronavirus weighs and obesity rises: UN</a>"
      ],
      "text/plain": [
       "<IPython.core.display.HTML object>"
      ]
     },
     "metadata": {},
     "output_type": "display_data"
    },
    {
     "data": {
      "text/html": [
       "<a href='https://www.mindanews.com/top-stories/2020/07/zambo-and-butuan-cities-basilan-and-agusan-del-norte-back-to-gcq-davao-city-remains-under-mgcq/'> Zambo and Butuan cities, Basilan and Agusan del Norte back to GCQ; Davao City remains under MGCQ</a>"
      ],
      "text/plain": [
       "<IPython.core.display.HTML object>"
      ]
     },
     "metadata": {},
     "output_type": "display_data"
    },
    {
     "data": {
      "text/html": [
       "<a href='https://www.interaksyon.com/politics-issues/2020/07/13/172752/anyare-how-dohs-failure-to-report-covid-19-case-tally-affected-filipinos/'> ‘Anyare?’ How DOH’s failure to report COVID-19 case tally affected Filipinos</a>"
      ],
      "text/plain": [
       "<IPython.core.display.HTML object>"
      ]
     },
     "metadata": {},
     "output_type": "display_data"
    },
    {
     "name": "stdout",
     "output_type": "stream",
     "text": [
      "\n",
      "AUTHORITARIANISM/ DEMOCRACY THREAT NEWS ITEMS: \n"
     ]
    },
    {
     "data": {
      "text/html": [
       "<a href='https://www.mindanews.com/peace-process/2020/06/bangsamoro-parliament-has-yet-to-act-on-resolution-expressing-grave-concern-over-proposed-anti-terrorism-act/'> Bangsamoro Parliament has yet to act on resolution expressing “grave concern” over proposed Anti-Terrorism Act</a>"
      ],
      "text/plain": [
       "<IPython.core.display.HTML object>"
      ]
     },
     "metadata": {},
     "output_type": "display_data"
    },
    {
     "data": {
      "text/html": [
       "<a href='https://www.mindanews.com/peace-process/2020/01/ceasefire-holding-sison-says-he-is-ready-to-meet-duterte-in-hanoi/'> Ceasefire holding; Sison says he is ready to meet Duterte in Hanoi  </a>"
      ],
      "text/plain": [
       "<IPython.core.display.HTML object>"
      ]
     },
     "metadata": {},
     "output_type": "display_data"
    },
    {
     "data": {
      "text/html": [
       "<a href='https://politics.com.ph/duterte-calls-fatal-shooting-of-troops-isolated-incident/'> Duterte calls fatal shooting of troops ‘isolated incident’</a>"
      ],
      "text/plain": [
       "<IPython.core.display.HTML object>"
      ]
     },
     "metadata": {},
     "output_type": "display_data"
    },
    {
     "data": {
      "text/html": [
       "<a href='https://politics.com.ph/duterte-claims-he-dismantled-filipino-oligarchy-they-take-advantage-of-their-political-power/'> Duterte claims he ‘dismantled’ Filipino oligarchy: They take advantage of their political power</a>"
      ],
      "text/plain": [
       "<IPython.core.display.HTML object>"
      ]
     },
     "metadata": {},
     "output_type": "display_data"
    },
    {
     "data": {
      "text/html": [
       "<a href='https://politics.com.ph/duterte-denies-hand-in-abs-cbn-franchise-death-congress-ang-nagpasara-niyan/'> Duterte denies hand in ABS-CBN franchise death: ‘Congress ang nagpasara niyan’</a>"
      ],
      "text/plain": [
       "<IPython.core.display.HTML object>"
      ]
     },
     "metadata": {},
     "output_type": "display_data"
    },
    {
     "data": {
      "text/html": [
       "<a href='https://www.interaksyon.com/politics-issues/2020/07/16/173057/duterte-extends-partial-restrictions-in-metro-manila-to-contain-covid-19/'> Duterte extends partial restrictions in Metro Manila to contain COVID-19</a>"
      ],
      "text/plain": [
       "<IPython.core.display.HTML object>"
      ]
     },
     "metadata": {},
     "output_type": "display_data"
    },
    {
     "data": {
      "text/html": [
       "<a href='https://www.mindanews.com/booksmindanews/2019/11/duterte-has-no-meranaw-roots-book-author-says/'> Duterte has no Meranaw roots, book author says</a>"
      ],
      "text/plain": [
       "<IPython.core.display.HTML object>"
      ]
     },
     "metadata": {},
     "output_type": "display_data"
    },
    {
     "data": {
      "text/html": [
       "<a href='https://politics.com.ph/duterte-ignores-locals-bright-bright-girls-of-media-hanggang-diyan-lang-sila/'> Duterte ignores ‘local, bright-bright girls’ of media: Hanggang diyan lang sila!</a>"
      ],
      "text/plain": [
       "<IPython.core.display.HTML object>"
      ]
     },
     "metadata": {},
     "output_type": "display_data"
    },
    {
     "data": {
      "text/html": [
       "<a href='https://politics.com.ph/duterte-invites-eddie-boy-lim-as-consultant-for-soldiers/'> Duterte invites Eddie Boy Lim as consultant for soldiers</a>"
      ],
      "text/plain": [
       "<IPython.core.display.HTML object>"
      ]
     },
     "metadata": {},
     "output_type": "display_data"
    },
    {
     "data": {
      "text/html": [
       "<a href='https://politics.com.ph/duterte-orders-transfer-of-remaining-govt-offices-in-zamboanga-to-pagadian/'> Duterte orders transfer of remaining gov’t offices in Zamboanga to Pagadian</a>"
      ],
      "text/plain": [
       "<IPython.core.display.HTML object>"
      ]
     },
     "metadata": {},
     "output_type": "display_data"
    },
    {
     "data": {
      "text/html": [
       "<a href='https://politics.com.ph/duterte-pa-more-charter-change-to-be-revived-for-no-el-2022/'> Duterte pa more! Charter change to be revived for ‘No-el’ 2022</a>"
      ],
      "text/plain": [
       "<IPython.core.display.HTML object>"
      ]
     },
     "metadata": {},
     "output_type": "display_data"
    },
    {
     "data": {
      "text/html": [
       "<a href='https://politics.com.ph/duterte-signs-anti-terror-bill-into-law/'> Duterte signs controversial anti-terror law</a>"
      ],
      "text/plain": [
       "<IPython.core.display.HTML object>"
      ]
     },
     "metadata": {},
     "output_type": "display_data"
    },
    {
     "data": {
      "text/html": [
       "<a href='https://politics.com.ph/duterte-tells-friends-to-get-into-business-while-hes-president-kung-yayaman-ka-diyan-mas-maligaya-ako/'> Duterte tells friends to get into business while he’s President: Kung yayaman ka diyan, mas maligaya ako!</a>"
      ],
      "text/plain": [
       "<IPython.core.display.HTML object>"
      ]
     },
     "metadata": {},
     "output_type": "display_data"
    },
    {
     "data": {
      "text/html": [
       "<a href='https://politics.com.ph/duterte-thinks-drilon-authored-onerous-water-deals-kaya-sya-nag-warning/'> Duterte thinks Drilon authored ‘onerous’ water deals: ‘Kaya s’ya nag warning’</a>"
      ],
      "text/plain": [
       "<IPython.core.display.HTML object>"
      ]
     },
     "metadata": {},
     "output_type": "display_data"
    },
    {
     "data": {
      "text/html": [
       "<a href='https://politics.com.ph/duterte-threatens-to-close-down-jt-express-wants-probe-into-alleged-cargo-mishandling/'> Duterte threatens to ‘close down’ J&T Express, wants probe into alleged cargo mishandling</a>"
      ],
      "text/plain": [
       "<IPython.core.display.HTML object>"
      ]
     },
     "metadata": {},
     "output_type": "display_data"
    },
    {
     "data": {
      "text/html": [
       "<a href='https://politics.com.ph/duterte-to-cebuanos-dont-fck-with-me-shape-up/'> Duterte to Cebuanos: ‘Don’t f*ck with me, shape up’</a>"
      ],
      "text/plain": [
       "<IPython.core.display.HTML object>"
      ]
     },
     "metadata": {},
     "output_type": "display_data"
    },
    {
     "data": {
      "text/html": [
       "<a href='https://politics.com.ph/duterte-transfers-rizal-capital-from-pasig-to-antipolo-city/'> Duterte transfers Rizal capital from Pasig to Antipolo City</a>"
      ],
      "text/plain": [
       "<IPython.core.display.HTML object>"
      ]
     },
     "metadata": {},
     "output_type": "display_data"
    },
    {
     "data": {
      "text/html": [
       "<a href='https://www.interaksyon.com/politics-issues/2020/07/14/172857/duterte-dismantling-oligarchy-definition/'> Duterte trumpets success ‘dismantling oligarchy.’ Why it’s confusing for some</a>"
      ],
      "text/plain": [
       "<IPython.core.display.HTML object>"
      ]
     },
     "metadata": {},
     "output_type": "display_data"
    },
    {
     "data": {
      "text/html": [
       "<a href='/Spotlight/Asia-Insight/Duterte-s-strongman-popularity-at-risk-from-COVID-19-recession'> Duterte's strongman popularity at risk from COVID-19 recession</a>"
      ],
      "text/plain": [
       "<IPython.core.display.HTML object>"
      ]
     },
     "metadata": {},
     "output_type": "display_data"
    },
    {
     "data": {
      "text/html": [
       "<a href='https://politics.com.ph/dutertes-job-to-gather-evidence-vs-maria-ressa-roque/'> Duterte’s ‘job’ to gather evidence vs Maria Ressa – Roque</a>"
      ],
      "text/plain": [
       "<IPython.core.display.HTML object>"
      ]
     },
     "metadata": {},
     "output_type": "display_data"
    },
    {
     "data": {
      "text/html": [
       "<a href='https://politics.com.ph/dutertes-oligarchy-remark-meant-for-lucio-tan-mvp-ayala-palace/'> Duterte’s ‘oligarchy’ remark meant for Lucio Tan, MVP, Ayala – Palace</a>"
      ],
      "text/plain": [
       "<IPython.core.display.HTML object>"
      ]
     },
     "metadata": {},
     "output_type": "display_data"
    },
    {
     "data": {
      "text/html": [
       "<a href='https://politics.com.ph/fascist-government-palace-says-jerry-gracio-should-never-have-agreed-to-serve-duterte-admin/'> Fascist government? Palace says Jerry Gracio should never have agreed to serve Duterte admin</a>"
      ],
      "text/plain": [
       "<IPython.core.display.HTML object>"
      ]
     },
     "metadata": {},
     "output_type": "display_data"
    },
    {
     "data": {
      "text/html": [
       "<a href='https://politics.com.ph/gretchen-barretto-still-a-duterte-loyalist-silent-on-abs-cbn-franchise-denial/'> Gretchen Barretto still a Duterte loyalist, silent on ABS-CBN franchise denial</a>"
      ],
      "text/plain": [
       "<IPython.core.display.HTML object>"
      ]
     },
     "metadata": {},
     "output_type": "display_data"
    },
    {
     "data": {
      "text/html": [
       "<a href='https://politics.com.ph/harry-roque-mum-on-dutertes-fresh-tirades-vs-lopezes-i-was-not-in-jolo/'> Harry Roque mum on Duterte’s fresh tirades vs Lopezes: ‘I was not in Jolo’</a>"
      ],
      "text/plain": [
       "<IPython.core.display.HTML object>"
      ]
     },
     "metadata": {},
     "output_type": "display_data"
    },
    {
     "data": {
      "text/html": [
       "<a href='https://politics.com.ph/imbento-lang-pangilinan-accuses-duterte-of-fabricating-oligarchy-issue-to-cover-up-dismal-covid-response/'> Imbento lang: Pangilinan accuses Duterte of fabricating oligarchy issue to cover up dismal COVID response</a>"
      ],
      "text/plain": [
       "<IPython.core.display.HTML object>"
      ]
     },
     "metadata": {},
     "output_type": "display_data"
    },
    {
     "data": {
      "text/html": [
       "<a href='https://www.eaglenews.ph/in-photos-president-duterte-undergoes-covid-19-test-along-with-sen-bong-go/'> In photos:  President Duterte undergoes COVID-19 test, along with Sen. Bong Go</a>"
      ],
      "text/plain": [
       "<IPython.core.display.HTML object>"
      ]
     },
     "metadata": {},
     "output_type": "display_data"
    },
    {
     "data": {
      "text/html": [
       "<a href='https://www.eaglenews.ph/in-photos-president-duterte-speaks-to-chinese-leader-xi-over-the-phone/'> In photos: President Duterte speaks to Chinese leader Xi over the phone</a>"
      ],
      "text/plain": [
       "<IPython.core.display.HTML object>"
      ]
     },
     "metadata": {},
     "output_type": "display_data"
    },
    {
     "data": {
      "text/html": [
       "<a href='https://www.interaksyon.com/rumor-cop/2020/07/13/172719/leni-robredo-disowns-fake-ovp-anti-terror-law-e-mails-cautions-public-against-spoofing/'> Leni Robredo disowns fake OVP anti-terror law e-mail, cautions public against ‘spoofing’</a>"
      ],
      "text/plain": [
       "<IPython.core.display.HTML object>"
      ]
     },
     "metadata": {},
     "output_type": "display_data"
    },
    {
     "data": {
      "text/html": [
       "<a href='https://politics.com.ph/magaling-man-sabit-din-nbi-nabs-hacker-who-shared-baste-dutertes-address/'> Magaling man sabit din! NBI nabs hacker who shared Baste Duterte’s address</a>"
      ],
      "text/plain": [
       "<IPython.core.display.HTML object>"
      ]
     },
     "metadata": {},
     "output_type": "display_data"
    },
    {
     "data": {
      "text/html": [
       "<a href='https://politics.com.ph/nilaro-nila-bayan-ko-duterte-claims-lopez-family-has-too-much-influence-on-elections/'> Nilaro nila bayan ko! Duterte claims Lopez family has too much influence on elections</a>"
      ],
      "text/plain": [
       "<IPython.core.display.HTML object>"
      ]
     },
     "metadata": {},
     "output_type": "display_data"
    },
    {
     "data": {
      "text/html": [
       "<a href='http://davaotoday.com/main/politics/petitions-vs-anti-terror-law-grow-in-number/'> Petitions vs anti-terror law grow in number</a>"
      ],
      "text/plain": [
       "<IPython.core.display.HTML object>"
      ]
     },
     "metadata": {},
     "output_type": "display_data"
    },
    {
     "data": {
      "text/html": [
       "<a href='https://www.eaglenews.ph/president-duterte-visits-soldiers-in-sulu/'> President Duterte visits soldiers in Sulu</a>"
      ],
      "text/plain": [
       "<IPython.core.display.HTML object>"
      ]
     },
     "metadata": {},
     "output_type": "display_data"
    },
    {
     "data": {
      "text/html": [
       "<a href='https://politics.com.ph/live_streaming/president-rodrigo-duterte-addresses-the-public-may-25-2020/'> President Rodrigo Duterte addresses the public May 25, 2020</a>"
      ],
      "text/plain": [
       "<IPython.core.display.HTML object>"
      ]
     },
     "metadata": {},
     "output_type": "display_data"
    },
    {
     "data": {
      "text/html": [
       "<a href='https://politics.com.ph/live_streaming/president-rodrigo-duterte-addresses-the-public-may-28-2020/'> President Rodrigo Duterte addresses the public May 28, 2020</a>"
      ],
      "text/plain": [
       "<IPython.core.display.HTML object>"
      ]
     },
     "metadata": {},
     "output_type": "display_data"
    },
    {
     "data": {
      "text/html": [
       "<a href='http://retiredanalyst.blogspot.com/2020/07/duterte-wants-orthopedic-surgeon-friend.html'> Retired Analyst: Duterte wants orthopedic surgeon friend to work for AFP</a>"
      ],
      "text/plain": [
       "<IPython.core.display.HTML object>"
      ]
     },
     "metadata": {},
     "output_type": "display_data"
    },
    {
     "data": {
      "text/html": [
       "<a href='https://politics.com.ph/robredo-scores-paolo-dutertes-proposal-to-rename-naia-nasa-gitna-ng-pandemya-ito-pa-talaga-maiisip/'> Robredo scores Paolo Duterte’s proposal to rename NAIA: Nasa gitna ng pandemya, ito pa talaga maiisip!</a>"
      ],
      "text/plain": [
       "<IPython.core.display.HTML object>"
      ]
     },
     "metadata": {},
     "output_type": "display_data"
    },
    {
     "data": {
      "text/html": [
       "<a href='https://www.eaglenews.ph/senator-dela-rosa-posts-photo-of-pnp-chief-gamboa-in-hospital-to-show-that-hes-okay/'> Senator Dela Rosa posts photo of PNP chief Gamboa in hospital to show that he’s okay</a>"
      ],
      "text/plain": [
       "<IPython.core.display.HTML object>"
      ]
     },
     "metadata": {},
     "output_type": "display_data"
    },
    {
     "data": {
      "text/html": [
       "<a href='http://davaotoday.com/main/todays-views/terrorizing-the-people-with-the-anti-terror-bill/'> Terrorizing the people with the anti-terror bill</a>"
      ],
      "text/plain": [
       "<IPython.core.display.HTML object>"
      ]
     },
     "metadata": {},
     "output_type": "display_data"
    },
    {
     "data": {
      "text/html": [
       "<a href='http://davaotoday.com/main/human-rights/union-slams-red-tagging-by-vice-mayor-during-labor-settlement/'> Union slams red-tagging by vice mayor during labor settlement</a>"
      ],
      "text/plain": [
       "<IPython.core.display.HTML object>"
      ]
     },
     "metadata": {},
     "output_type": "display_data"
    },
    {
     "data": {
      "text/html": [
       "<a href='https://politics.com.ph/wa-epek-paawa-bbc-journalist-calls-out-ressas-lies-on-press-freedoms-death-under-duterte/'> Wa epek paawa! BBC journalist calls out Ressa’s lies on press freedom’s ‘death’ under Duterte</a>"
      ],
      "text/plain": [
       "<IPython.core.display.HTML object>"
      ]
     },
     "metadata": {},
     "output_type": "display_data"
    },
    {
     "data": {
      "text/html": [
       "<a href='https://www.interaksyon.com/politics-issues/2020/07/14/172839/why-doctors-on-social-media-are-puzzled-by-palace-remark-that-duterte-is-88-healthy/'> Why doctors on social media are puzzled by Palace remark that Duterte is 88% healthy</a>"
      ],
      "text/plain": [
       "<IPython.core.display.HTML object>"
      ]
     },
     "metadata": {},
     "output_type": "display_data"
    },
    {
     "data": {
      "text/html": [
       "<a href='https://www.interaksyon.com/trends-spotlights/2020/07/15/172927/activists-not-terrorists-greta-thunberg-calls-for-repeal-of-philippines-anti-terror-law/'> ‘Activists not terrorists’: Greta Thunberg calls for repeal of Philippines’ anti-terror law</a>"
      ],
      "text/plain": [
       "<IPython.core.display.HTML object>"
      ]
     },
     "metadata": {},
     "output_type": "display_data"
    },
    {
     "data": {
      "text/html": [
       "<a href='https://politics.com.ph/binaboy-ako-duterte-slams-kapamilya-network-over-foreign-subsidiaries-tax-free-equipment/'> ‘Binaboy ako’: Duterte slams Kapamilya network over foreign subsidiaries, tax-free equipment</a>"
      ],
      "text/plain": [
       "<IPython.core.display.HTML object>"
      ]
     },
     "metadata": {},
     "output_type": "display_data"
    },
    {
     "data": {
      "text/html": [
       "<a href='https://politics.com.ph/dati-na-siyang-mayaman-dennis-uy-not-a-duterte-crony-says-palace/'> ‘Dati na siyang mayaman’: Dennis Uy not a Duterte crony, says Palace</a>"
      ],
      "text/plain": [
       "<IPython.core.display.HTML object>"
      ]
     },
     "metadata": {},
     "output_type": "display_data"
    },
    {
     "data": {
      "text/html": [
       "<a href='https://politics.com.ph/di-aabot-sa-sampung-boto-iglesia-ni-cristo-pulong-duterte-team-up-to-kill-abs-cbns-franchise-bid/'> ‘Di aabot sa sampung boto! Iglesia Ni Cristo, Pulong Duterte team up to kill ABS-CBN’s franchise bid</a>"
      ],
      "text/plain": [
       "<IPython.core.display.HTML object>"
      ]
     },
     "metadata": {},
     "output_type": "display_data"
    },
    {
     "data": {
      "text/html": [
       "<a href='https://politics.com.ph/di-magpapadala-sa-pressure-guevarra-vows-conscience-will-prevail-in-dojs-review-of-anti-terror-bill/'> ‘Di magpapadala sa pressure! Guevarra vows conscience will prevail in DOJ’s review of anti-terror bill</a>"
      ],
      "text/plain": [
       "<IPython.core.display.HTML object>"
      ]
     },
     "metadata": {},
     "output_type": "display_data"
    },
    {
     "data": {
      "text/html": [
       "<a href='https://politics.com.ph/di-si-lucio-tan-ayala-karen-davila-duterte-clearly-referring-to-lopezes-as-oligarchy-he-dismantled/'> ‘Di si Lucio Tan, Ayala! Karen Davila: Duterte ‘clearly referring’ to Lopezes as oligarchy he ‘dismantled’</a>"
      ],
      "text/plain": [
       "<IPython.core.display.HTML object>"
      ]
     },
     "metadata": {},
     "output_type": "display_data"
    },
    {
     "data": {
      "text/html": [
       "<a href='https://politics.com.ph/like-any-other-75-year-old-dutertes-88-healthy-says-palace/'> ‘Like any other 75-year-old’: Duterte’s 88% healthy, says Palace</a>"
      ],
      "text/plain": [
       "<IPython.core.display.HTML object>"
      ]
     },
     "metadata": {},
     "output_type": "display_data"
    },
    {
     "data": {
      "text/html": [
       "<a href='https://politics.com.ph/lungkot-na-lungkot-siya-duterte-wants-to-talk-to-cops-who-killed-soldiers-in-jolo-shooting-incident/'> ‘Lungkot na lungkot siya’: Duterte wants to talk to cops who killed soldiers in Jolo shooting incident</a>"
      ],
      "text/plain": [
       "<IPython.core.display.HTML object>"
      ]
     },
     "metadata": {},
     "output_type": "display_data"
    },
    {
     "data": {
      "text/html": [
       "<a href='https://politics.com.ph/old-man-duterte-adamant-he-cant-be-bought-isang-truck-na-pera-ano-gagawin-ko-dyan/'> ‘Old man’ Duterte adamant he can’t be bought: Isang truck na pera, ano gagawin ko d’yan?</a>"
      ],
      "text/plain": [
       "<IPython.core.display.HTML object>"
      ]
     },
     "metadata": {},
     "output_type": "display_data"
    },
    {
     "data": {
      "text/html": [
       "<a href='https://politics.com.ph/reposting-not-knowing-if-its-true-sharon-cuneta-curious-about-politiko-article-on-alleged-pulong-duterte-iglesia-ni-cristo-link-to-abs-cbn-shutdown/'> ‘Reposting, not knowing if it’s true:’ Sharon Cuneta curious about Politiko article on alleged Pulong Duterte-Iglesia Ni Cristo link to ABS-CBN shutdown</a>"
      ],
      "text/plain": [
       "<IPython.core.display.HTML object>"
      ]
     },
     "metadata": {},
     "output_type": "display_data"
    },
    {
     "data": {
      "text/html": [
       "<a href='https://politics.com.ph/separation-of-powers-duterte-respects-house-decision-to-deny-abs-cbn-franchise2/'> ‘Separation of powers’: Duterte respects House decision to deny ABS-CBN franchise</a>"
      ],
      "text/plain": [
       "<IPython.core.display.HTML object>"
      ]
     },
     "metadata": {},
     "output_type": "display_data"
    },
    {
     "data": {
      "text/html": [
       "<a href='https://politics.com.ph/too-early-for-you-to-enjoy-your-awards-duterte-says-maria-ressa-is-a-fraud/'> ‘Too early for you to enjoy your awards’: Duterte to bury Maria Ressa with more cases</a>"
      ],
      "text/plain": [
       "<IPython.core.display.HTML object>"
      ]
     },
     "metadata": {},
     "output_type": "display_data"
    },
    {
     "data": {
      "text/html": [
       "<a href='https://politics.com.ph/unless-you-are-driven-by-patriotism-duterte-discourages-daughter-sara-to-run-for-highest-public-office/'> ‘Unless you are driven by patriotism’: Duterte discourages daughter Sara to run for highest public office</a>"
      ],
      "text/plain": [
       "<IPython.core.display.HTML object>"
      ]
     },
     "metadata": {},
     "output_type": "display_data"
    },
    {
     "data": {
      "text/html": [
       "<a href='https://politics.com.ph/we-will-never-forget-trillanes-slams-duterte-cayetano-over-abs-cbn-shutdown/'> ‘We will never forget:’ Trillanes slams Duterte, Cayetano over ABS-CBN shutdown</a>"
      ],
      "text/plain": [
       "<IPython.core.display.HTML object>"
      ]
     },
     "metadata": {},
     "output_type": "display_data"
    },
    {
     "name": "stdout",
     "output_type": "stream",
     "text": [
      "\n",
      "CHINA THREAT TO THE PHILIPPINES NEWS ITEMS: \n"
     ]
    },
    {
     "data": {
      "text/html": [
       "<a href='/Politics/International-relations/South-China-Sea/China-and-Philippines-affirm-ties-after-South-China-Sea-spat'> China and Philippines affirm ties after South China Sea spat</a>"
      ],
      "text/plain": [
       "<IPython.core.display.HTML object>"
      ]
     },
     "metadata": {},
     "output_type": "display_data"
    },
    {
     "data": {
      "text/html": [
       "<a href='https://politics.com.ph/philippines-wont-abandon-south-china-sea-arbitration-win-against-beijing-palace/'> Philippines won’t abandon South China Sea arbitration win against Beijing: Palace</a>"
      ],
      "text/plain": [
       "<IPython.core.display.HTML object>"
      ]
     },
     "metadata": {},
     "output_type": "display_data"
    },
    {
     "data": {
      "text/html": [
       "<a href='http://retiredanalyst.blogspot.com/2020/07/busy-sked-awaits-brp-jose-rizal-crew-in.html'> Retired Analyst: Busy sked awaits BRP Jose Rizal crew in Hawaii maritime exercise</a>"
      ],
      "text/plain": [
       "<IPython.core.display.HTML object>"
      ]
     },
     "metadata": {},
     "output_type": "display_data"
    },
    {
     "data": {
      "text/html": [
       "<a href='http://retiredanalyst.blogspot.com/2020/07/defense-chief-urges-for-rules-based.html'> Retired Analyst: Defense chief urges for 'rules-based' order in South China Sea </a>"
      ],
      "text/plain": [
       "<IPython.core.display.HTML object>"
      ]
     },
     "metadata": {},
     "output_type": "display_data"
    },
    {
     "data": {
      "text/html": [
       "<a href='http://retiredanalyst.blogspot.com/2020/07/navy-personnel-in-frigate-rites-ordered.html'> Retired Analyst: Navy personnel in frigate rites ordered to go on self-quarantine</a>"
      ],
      "text/plain": [
       "<IPython.core.display.HTML object>"
      ]
     },
     "metadata": {},
     "output_type": "display_data"
    },
    {
     "data": {
      "text/html": [
       "<a href='https://www.eaglenews.ph/us-aircraft-carriers-conduct-drills-in-south-china-sea/'> US aircraft carriers conduct drills in South China Sea</a>"
      ],
      "text/plain": [
       "<IPython.core.display.HTML object>"
      ]
     },
     "metadata": {},
     "output_type": "display_data"
    },
    {
     "data": {
      "text/html": [
       "<a href='https://politics.com.ph/us-brands-beijings-south-china-sea-claims-illegal/'> US brands Beijing’s South China Sea claims illegal</a>"
      ],
      "text/plain": [
       "<IPython.core.display.HTML object>"
      ]
     },
     "metadata": {},
     "output_type": "display_data"
    },
    {
     "data": {
      "text/html": [
       "<a href='/Politics/International-relations/South-China-Sea/US-rejects-China-s-nine-dash-line-in-South-China-Sea'> US rejects China's 'nine-dash line' in South China Sea</a>"
      ],
      "text/plain": [
       "<IPython.core.display.HTML object>"
      ]
     },
     "metadata": {},
     "output_type": "display_data"
    },
    {
     "data": {
      "text/html": [
       "<a href='https://www.interaksyon.com/politics-issues/2020/07/15/172921/us-rejects-chinas-claims-in-south-china-sea-adding-to-tensions/'> US rejects China’s claims in South China Sea, adding to tensions</a>"
      ],
      "text/plain": [
       "<IPython.core.display.HTML object>"
      ]
     },
     "metadata": {},
     "output_type": "display_data"
    },
    {
     "name": "stdout",
     "output_type": "stream",
     "text": [
      "\n",
      "CHRISTIAN AND RELIGIOUS GROUPS NEWS ITEMS: \n"
     ]
    },
    {
     "data": {
      "text/html": [
       "<a href='https://www.eaglenews.ph/iglesia-ni-cristo-church-of-christ-in-hawaii-conducts-contact-free-aid-to-humanity-during-covid-19-crisis/'> Iglesia Ni Cristo (Church Of Christ) in Hawaii conducts contact-free Aid to Humanity during COVID-19 crisis</a>"
      ],
      "text/plain": [
       "<IPython.core.display.HTML object>"
      ]
     },
     "metadata": {},
     "output_type": "display_data"
    },
    {
     "data": {
      "text/html": [
       "<a href='https://www.eaglenews.ph/iglesia-ni-cristo-in-taiwan-holds-lingap-for-ofws/'> Iglesia Ni Cristo in Taiwan holds “Lingap for OFWs”</a>"
      ],
      "text/plain": [
       "<IPython.core.display.HTML object>"
      ]
     },
     "metadata": {},
     "output_type": "display_data"
    },
    {
     "data": {
      "text/html": [
       "<a href='https://www.eaglenews.ph/in-photos-iglesia-ni-cristo-starts-lingap-sa-mamamayan-to-help-those-affected-by-mindanao-quakes/'> In photos: Iglesia Ni Cristo starts “Lingap sa Mamamayan” to help those affected by Mindanao quakes</a>"
      ],
      "text/plain": [
       "<IPython.core.display.HTML object>"
      ]
     },
     "metadata": {},
     "output_type": "display_data"
    },
    {
     "data": {
      "text/html": [
       "<a href='https://politics.com.ph/not-so-fast-inc-cbcp-has-best-shot-at-getting-abs-cbn-frequency-find-out-how/'> Not so fast INC: CBCP has best shot at getting ABS-CBN frequency. Find out how</a>"
      ],
      "text/plain": [
       "<IPython.core.display.HTML object>"
      ]
     },
     "metadata": {},
     "output_type": "display_data"
    },
    {
     "data": {
      "text/html": [
       "<a href='https://politics.com.ph/di-aabot-sa-sampung-boto-iglesia-ni-cristo-pulong-duterte-team-up-to-kill-abs-cbns-franchise-bid/'> ‘Di aabot sa sampung boto! Iglesia Ni Cristo, Pulong Duterte team up to kill ABS-CBN’s franchise bid</a>"
      ],
      "text/plain": [
       "<IPython.core.display.HTML object>"
      ]
     },
     "metadata": {},
     "output_type": "display_data"
    },
    {
     "data": {
      "text/html": [
       "<a href='https://politics.com.ph/reposting-not-knowing-if-its-true-sharon-cuneta-curious-about-politiko-article-on-alleged-pulong-duterte-iglesia-ni-cristo-link-to-abs-cbn-shutdown/'> ‘Reposting, not knowing if it’s true:’ Sharon Cuneta curious about Politiko article on alleged Pulong Duterte-Iglesia Ni Cristo link to ABS-CBN shutdown</a>"
      ],
      "text/plain": [
       "<IPython.core.display.HTML object>"
      ]
     },
     "metadata": {},
     "output_type": "display_data"
    },
    {
     "name": "stdout",
     "output_type": "stream",
     "text": [
      "\n",
      "ECONOMY NEWS ITEMS: \n"
     ]
    },
    {
     "data": {
      "text/html": [
       "<a href='http://davaotoday.com/main/headline/misor-wants-final-version-of-iatf-guidelines-on-backriding-policy/'> MisOr wants final version of IATF guidelines on backriding policy</a>"
      ],
      "text/plain": [
       "<IPython.core.display.HTML object>"
      ]
     },
     "metadata": {},
     "output_type": "display_data"
    },
    {
     "data": {
      "text/html": [
       "<a href='https://www.manilatimes.net/2020/07/16/business/business-top/psei-tumbles-on-quarantine-fears/742420/'> PSEi tumbles on quarantine fears</a>"
      ],
      "text/plain": [
       "<IPython.core.display.HTML object>"
      ]
     },
     "metadata": {},
     "output_type": "display_data"
    },
    {
     "data": {
      "text/html": [
       "<a href='https://www.manilatimes.net/2020/07/16/business/business-top/upscaling-capabilities-for-digital-economy-a-must/742440/'> Upscaling capabilities for digital economy a must</a>"
      ],
      "text/plain": [
       "<IPython.core.display.HTML object>"
      ]
     },
     "metadata": {},
     "output_type": "display_data"
    },
    {
     "data": {
      "text/html": [
       "<a href='https://www.manilatimes.net/2020/07/16/editorial-cartoons/world-economy-down-under/742391/'> WORLD ECONOMY DOWN UNDER</a>"
      ],
      "text/plain": [
       "<IPython.core.display.HTML object>"
      ]
     },
     "metadata": {},
     "output_type": "display_data"
    },
    {
     "name": "stdout",
     "output_type": "stream",
     "text": [
      "\n",
      "INSURGENCY RELATED NEWS ITEMS: \n"
     ]
    },
    {
     "data": {
      "text/html": [
       "<a href='https://www.mindanews.com/peace-process/2020/06/bangsamoro-parliament-has-yet-to-act-on-resolution-expressing-grave-concern-over-proposed-anti-terrorism-act/'> Bangsamoro Parliament has yet to act on resolution expressing “grave concern” over proposed Anti-Terrorism Act</a>"
      ],
      "text/plain": [
       "<IPython.core.display.HTML object>"
      ]
     },
     "metadata": {},
     "output_type": "display_data"
    },
    {
     "data": {
      "text/html": [
       "<a href='https://politics.com.ph/duterte-signs-anti-terror-bill-into-law/'> Duterte signs controversial anti-terror law</a>"
      ],
      "text/plain": [
       "<IPython.core.display.HTML object>"
      ]
     },
     "metadata": {},
     "output_type": "display_data"
    },
    {
     "data": {
      "text/html": [
       "<a href='https://www.interaksyon.com/rumor-cop/2020/07/13/172719/leni-robredo-disowns-fake-ovp-anti-terror-law-e-mails-cautions-public-against-spoofing/'> Leni Robredo disowns fake OVP anti-terror law e-mail, cautions public against ‘spoofing’</a>"
      ],
      "text/plain": [
       "<IPython.core.display.HTML object>"
      ]
     },
     "metadata": {},
     "output_type": "display_data"
    },
    {
     "data": {
      "text/html": [
       "<a href='http://davaotoday.com/main/politics/petitions-vs-anti-terror-law-grow-in-number/'> Petitions vs anti-terror law grow in number</a>"
      ],
      "text/plain": [
       "<IPython.core.display.HTML object>"
      ]
     },
     "metadata": {},
     "output_type": "display_data"
    },
    {
     "data": {
      "text/html": [
       "<a href='http://retiredanalyst.blogspot.com/2020/07/11-former-npas-receive-almost-php-1m.html'> Retired Analyst: 11 former NPAs receive almost Php 1M Government Grants</a>"
      ],
      "text/plain": [
       "<IPython.core.display.HTML object>"
      ]
     },
     "metadata": {},
     "output_type": "display_data"
    },
    {
     "data": {
      "text/html": [
       "<a href='http://retiredanalyst.blogspot.com/2020/07/15-npa-rebels-yield-in-socot-sarangani.html'> Retired Analyst: 15 NPA rebels yield in SoCot, Sarangani</a>"
      ],
      "text/plain": [
       "<IPython.core.display.HTML object>"
      ]
     },
     "metadata": {},
     "output_type": "display_data"
    },
    {
     "data": {
      "text/html": [
       "<a href='http://retiredanalyst.blogspot.com/2020/07/cpp-npa-suffers-huge-blow-as-4.html'> Retired Analyst: CPP-NPA suffers ‘huge blow’ as 4 officials fall in NegOcc</a>"
      ],
      "text/plain": [
       "<IPython.core.display.HTML object>"
      ]
     },
     "metadata": {},
     "output_type": "display_data"
    },
    {
     "data": {
      "text/html": [
       "<a href='http://retiredanalyst.blogspot.com/2020/07/govt-troops-nab-npa-purge-executioner.html'> Retired Analyst: Gov't troops nab NPA purge executioner in Leyte </a>"
      ],
      "text/plain": [
       "<IPython.core.display.HTML object>"
      ]
     },
     "metadata": {},
     "output_type": "display_data"
    },
    {
     "data": {
      "text/html": [
       "<a href='http://retiredanalyst.blogspot.com/2020/07/kalinga-welcomes-2-npa-surrenderers.html'> Retired Analyst: Kalinga welcomes 2 NPA surrenderers</a>"
      ],
      "text/plain": [
       "<IPython.core.display.HTML object>"
      ]
     },
     "metadata": {},
     "output_type": "display_data"
    },
    {
     "data": {
      "text/html": [
       "<a href='http://retiredanalyst.blogspot.com/2020/07/npa-bombing-suspect-nabbed-in-nocot.html'> Retired Analyst: NPA bombing suspect nabbed in NoCot </a>"
      ],
      "text/plain": [
       "<IPython.core.display.HTML object>"
      ]
     },
     "metadata": {},
     "output_type": "display_data"
    },
    {
     "data": {
      "text/html": [
       "<a href='http://retiredanalyst.blogspot.com/2020/07/npa-purge-executioner-in-leyte-arrested.html'> Retired Analyst: NPA purge executioner in Leyte arrested</a>"
      ],
      "text/plain": [
       "<IPython.core.display.HTML object>"
      ]
     },
     "metadata": {},
     "output_type": "display_data"
    },
    {
     "data": {
      "text/html": [
       "<a href='http://davaotoday.com/main/human-rights/seven-lumad-arrested-tagged-as-npa-in-misamis-oriental/'> Seven Lumad arrested, tagged as NPA in Misamis Oriental</a>"
      ],
      "text/plain": [
       "<IPython.core.display.HTML object>"
      ]
     },
     "metadata": {},
     "output_type": "display_data"
    },
    {
     "data": {
      "text/html": [
       "<a href='http://davaotoday.com/main/todays-views/terrorizing-the-people-with-the-anti-terror-bill/'> Terrorizing the people with the anti-terror bill</a>"
      ],
      "text/plain": [
       "<IPython.core.display.HTML object>"
      ]
     },
     "metadata": {},
     "output_type": "display_data"
    },
    {
     "data": {
      "text/html": [
       "<a href='https://www.interaksyon.com/trends-spotlights/2020/07/15/172927/activists-not-terrorists-greta-thunberg-calls-for-repeal-of-philippines-anti-terror-law/'> ‘Activists not terrorists’: Greta Thunberg calls for repeal of Philippines’ anti-terror law</a>"
      ],
      "text/plain": [
       "<IPython.core.display.HTML object>"
      ]
     },
     "metadata": {},
     "output_type": "display_data"
    },
    {
     "data": {
      "text/html": [
       "<a href='https://politics.com.ph/di-magpapadala-sa-pressure-guevarra-vows-conscience-will-prevail-in-dojs-review-of-anti-terror-bill/'> ‘Di magpapadala sa pressure! Guevarra vows conscience will prevail in DOJ’s review of anti-terror bill</a>"
      ],
      "text/plain": [
       "<IPython.core.display.HTML object>"
      ]
     },
     "metadata": {},
     "output_type": "display_data"
    },
    {
     "name": "stdout",
     "output_type": "stream",
     "text": [
      "\n",
      "MORO ISSUES RELATED NEWS ITEMS: \n"
     ]
    },
    {
     "data": {
      "text/html": [
       "<a href='https://www.mindanews.com/mindaviews/2020/06/bangsamoro-speaks-balance-compassion-and-discipline-and-at-the-same-uphold-the-rule-of-law/'> BANGSAMORO SPEAKS: Balance compassion and discipline and at the same, uphold the rule of law</a>"
      ],
      "text/plain": [
       "<IPython.core.display.HTML object>"
      ]
     },
     "metadata": {},
     "output_type": "display_data"
    },
    {
     "data": {
      "text/html": [
       "<a href='https://www.mindanews.com/peace-process/2020/06/bangsamoro-parliament-has-yet-to-act-on-resolution-expressing-grave-concern-over-proposed-anti-terrorism-act/'> Bangsamoro Parliament has yet to act on resolution expressing “grave concern” over proposed Anti-Terrorism Act</a>"
      ],
      "text/plain": [
       "<IPython.core.display.HTML object>"
      ]
     },
     "metadata": {},
     "output_type": "display_data"
    },
    {
     "data": {
      "text/html": [
       "<a href='https://www.mindanews.com/top-stories/2020/07/covid-19-positives-among-stranded-basulta-residents-surge-to-120-ntf-apologizes-to-barmm-for-the-mess/'> COVID-19 positives among stranded BaSulTa residents surge to 120; NTF apologizes to BARMM for the ‘mess’</a>"
      ],
      "text/plain": [
       "<IPython.core.display.HTML object>"
      ]
     },
     "metadata": {},
     "output_type": "display_data"
    },
    {
     "data": {
      "text/html": [
       "<a href='https://www.mindanews.com/peace-process/2020/02/cotabato-city-seeks-exclusion-from-barmm-until-june-30-2022/'> Cotabato City seeks exclusion from BARMM until June 30, 2022</a>"
      ],
      "text/plain": [
       "<IPython.core.display.HTML object>"
      ]
     },
     "metadata": {},
     "output_type": "display_data"
    },
    {
     "data": {
      "text/html": [
       "<a href='https://politics.com.ph/harry-roque-mum-on-dutertes-fresh-tirades-vs-lopezes-i-was-not-in-jolo/'> Harry Roque mum on Duterte’s fresh tirades vs Lopezes: ‘I was not in Jolo’</a>"
      ],
      "text/plain": [
       "<IPython.core.display.HTML object>"
      ]
     },
     "metadata": {},
     "output_type": "display_data"
    },
    {
     "data": {
      "text/html": [
       "<a href='https://politics.com.ph/lips-are-sealed-9-sulu-cops-keep-mum-over-soldiers-slay/'> Lips are sealed: 9 Sulu cops keep mum over soldiers’ slay</a>"
      ],
      "text/plain": [
       "<IPython.core.display.HTML object>"
      ]
     },
     "metadata": {},
     "output_type": "display_data"
    },
    {
     "data": {
      "text/html": [
       "<a href='https://politics.com.ph/moro-moro-lang-hearings-alan-cayetano-abs-cbn-shutdown-inevitable/'> Moro-moro lang hearings! Alan Cayetano: ABS-CBN shutdown ‘inevitable’</a>"
      ],
      "text/plain": [
       "<IPython.core.display.HTML object>"
      ]
     },
     "metadata": {},
     "output_type": "display_data"
    },
    {
     "data": {
      "text/html": [
       "<a href='https://www.manilatimes.net/2020/07/16/news/regions/ncotabato-has-swine-flu-cases/742315/'> NCotabato has swine flu cases</a>"
      ],
      "text/plain": [
       "<IPython.core.display.HTML object>"
      ]
     },
     "metadata": {},
     "output_type": "display_data"
    },
    {
     "data": {
      "text/html": [
       "<a href='https://politics.com.ph/patraydor-pumatay-nbi-autopsy-findings-show-sulu-cops-peppered-soldiers-with-bullets/'> Patraydor pumatay! NBI autopsy findings show Sulu cops peppered soldiers with bullets</a>"
      ],
      "text/plain": [
       "<IPython.core.display.HTML object>"
      ]
     },
     "metadata": {},
     "output_type": "display_data"
    },
    {
     "data": {
      "text/html": [
       "<a href='https://www.eaglenews.ph/president-duterte-visits-soldiers-in-sulu/'> President Duterte visits soldiers in Sulu</a>"
      ],
      "text/plain": [
       "<IPython.core.display.HTML object>"
      ]
     },
     "metadata": {},
     "output_type": "display_data"
    },
    {
     "data": {
      "text/html": [
       "<a href='http://retiredanalyst.blogspot.com/2020/07/roadside-bomb-barely-misses-soldiers-in.html'> Retired Analyst: Roadside bomb barely misses soldiers in Maguindanao</a>"
      ],
      "text/plain": [
       "<IPython.core.display.HTML object>"
      ]
     },
     "metadata": {},
     "output_type": "display_data"
    },
    {
     "data": {
      "text/html": [
       "<a href='https://www.mindanews.com/peace-process/2020/01/senate-asks-bta-to-name-reps-to-congress-bangsamoro-parliament-forum/'> Senate asks BTA to name reps to Congress-Bangsamoro Parliament Forum</a>"
      ],
      "text/plain": [
       "<IPython.core.display.HTML object>"
      ]
     },
     "metadata": {},
     "output_type": "display_data"
    },
    {
     "data": {
      "text/html": [
       "<a href='https://www.mindanews.com/top-stories/2020/07/zambo-and-butuan-cities-basilan-and-agusan-del-norte-back-to-gcq-davao-city-remains-under-mgcq/'> Zambo and Butuan cities, Basilan and Agusan del Norte back to GCQ; Davao City remains under MGCQ</a>"
      ],
      "text/plain": [
       "<IPython.core.display.HTML object>"
      ]
     },
     "metadata": {},
     "output_type": "display_data"
    },
    {
     "data": {
      "text/html": [
       "<a href='https://politics.com.ph/di-nanlaban-nbi-finds-no-proof-slain-soldiers-fired-at-jolo-cops/'> ‘Di nanlaban! NBI finds no proof slain soldiers fired at Jolo cops</a>"
      ],
      "text/plain": [
       "<IPython.core.display.HTML object>"
      ]
     },
     "metadata": {},
     "output_type": "display_data"
    },
    {
     "data": {
      "text/html": [
       "<a href='https://politics.com.ph/lungkot-na-lungkot-siya-duterte-wants-to-talk-to-cops-who-killed-soldiers-in-jolo-shooting-incident/'> ‘Lungkot na lungkot siya’: Duterte wants to talk to cops who killed soldiers in Jolo shooting incident</a>"
      ],
      "text/plain": [
       "<IPython.core.display.HTML object>"
      ]
     },
     "metadata": {},
     "output_type": "display_data"
    },
    {
     "name": "stdout",
     "output_type": "stream",
     "text": [
      "\n",
      "NATIONAL CAPITAL REGION RELATED NEWS ITEMS: \n"
     ]
    },
    {
     "data": {
      "text/html": [
       "<a href='https://politics.com.ph/duterte-transfers-rizal-capital-from-pasig-to-antipolo-city/'> Duterte transfers Rizal capital from Pasig to Antipolo City</a>"
      ],
      "text/plain": [
       "<IPython.core.display.HTML object>"
      ]
     },
     "metadata": {},
     "output_type": "display_data"
    },
    {
     "name": "stdout",
     "output_type": "stream",
     "text": [
      "\n",
      "PROVINCIAL NEWS ITEMS: \n"
     ]
    },
    {
     "data": {
      "text/html": [
       "<a href='https://www.eaglenews.ph/at-least-19-mrt-3-trains-to-run-in-metro-manila-amid-gcq-to-allow-social-distancing-says-dotr/'> At least 19 MRT-3 trains to run in Metro Manila amid GCQ to allow social distancing, says DOTr</a>"
      ],
      "text/plain": [
       "<IPython.core.display.HTML object>"
      ]
     },
     "metadata": {},
     "output_type": "display_data"
    },
    {
     "data": {
      "text/html": [
       "<a href='https://www.mindanews.com/top-stories/2020/07/covid-19-positives-among-stranded-basulta-residents-surge-to-120-ntf-apologizes-to-barmm-for-the-mess/'> COVID-19 positives among stranded BaSulTa residents surge to 120; NTF apologizes to BARMM for the ‘mess’</a>"
      ],
      "text/plain": [
       "<IPython.core.display.HTML object>"
      ]
     },
     "metadata": {},
     "output_type": "display_data"
    },
    {
     "data": {
      "text/html": [
       "<a href='https://www.manilatimes.net/2020/07/16/opinion/editorial/dilg-plan-to-hunt-covid-19-patients-is-deeply-alarming/742360/'> DILG plan to ‘hunt’ Covid-19 patients is deeply alarming</a>"
      ],
      "text/plain": [
       "<IPython.core.display.HTML object>"
      ]
     },
     "metadata": {},
     "output_type": "display_data"
    },
    {
     "data": {
      "text/html": [
       "<a href='https://www.eaglenews.ph/dnd-chief-lorenzana-tests-negative-for-covid-19/'> DND Chief Lorenzana tests negative for COVID-19</a>"
      ],
      "text/plain": [
       "<IPython.core.display.HTML object>"
      ]
     },
     "metadata": {},
     "output_type": "display_data"
    },
    {
     "data": {
      "text/html": [
       "<a href='http://davaotoday.com/main/economy/health/davao-city-joins-other-davao-provinces-under-mgcq/'> Davao City joins other Davao provinces under MGCQ</a>"
      ],
      "text/plain": [
       "<IPython.core.display.HTML object>"
      ]
     },
     "metadata": {},
     "output_type": "display_data"
    },
    {
     "data": {
      "text/html": [
       "<a href='https://www.mindanews.com/business/2020/05/davao-tourism-suffers-huge-drop-in-revenues-due-to-covid-19/'> Davao tourism suffers ‘huge drop’ in revenues due to COVID-19</a>"
      ],
      "text/plain": [
       "<IPython.core.display.HTML object>"
      ]
     },
     "metadata": {},
     "output_type": "display_data"
    },
    {
     "data": {
      "text/html": [
       "<a href='http://davaotoday.com/main/economy/health/davaos-barangay-23-c-on-hard-lockdown-due-to-covid-19/'> Davao’s Barangay 23-C on ‘hard lockdown’ due to Covid-19</a>"
      ],
      "text/plain": [
       "<IPython.core.display.HTML object>"
      ]
     },
     "metadata": {},
     "output_type": "display_data"
    },
    {
     "data": {
      "text/html": [
       "<a href='https://www.interaksyon.com/politics-issues/2020/07/16/173057/duterte-extends-partial-restrictions-in-metro-manila-to-contain-covid-19/'> Duterte extends partial restrictions in Metro Manila to contain COVID-19</a>"
      ],
      "text/plain": [
       "<IPython.core.display.HTML object>"
      ]
     },
     "metadata": {},
     "output_type": "display_data"
    },
    {
     "data": {
      "text/html": [
       "<a href='/Spotlight/Asia-Insight/Duterte-s-strongman-popularity-at-risk-from-COVID-19-recession'> Duterte's strongman popularity at risk from COVID-19 recession</a>"
      ],
      "text/plain": [
       "<IPython.core.display.HTML object>"
      ]
     },
     "metadata": {},
     "output_type": "display_data"
    },
    {
     "data": {
      "text/html": [
       "<a href='https://www.eaglenews.ph/flying-back-to-the-philippines-during-the-covid-19-pandemic-what-to-expect-in-the-new-normal/'> Flying back to the Philippines during the COVID-19 pandemic: what to expect in the “new normal”</a>"
      ],
      "text/plain": [
       "<IPython.core.display.HTML object>"
      ]
     },
     "metadata": {},
     "output_type": "display_data"
    },
    {
     "data": {
      "text/html": [
       "<a href='https://politics.com.ph/full-coronavirus-vaccine-unlikely-by-next-year-expert/'> Full coronavirus vaccine unlikely by next year: expert</a>"
      ],
      "text/plain": [
       "<IPython.core.display.HTML object>"
      ]
     },
     "metadata": {},
     "output_type": "display_data"
    },
    {
     "data": {
      "text/html": [
       "<a href='https://politics.com.ph/gcq-in-metro-manila-extended-till-month-end2/'> GCQ in Metro Manila extended till month-end</a>"
      ],
      "text/plain": [
       "<IPython.core.display.HTML object>"
      ]
     },
     "metadata": {},
     "output_type": "display_data"
    },
    {
     "data": {
      "text/html": [
       "<a href='http://davaotoday.com/main/culture-2/entertainment/health-advocates-want-test-centers-in-every-region-vs-covid-19/'> Health advocates want test centers in every region vs COVID-19</a>"
      ],
      "text/plain": [
       "<IPython.core.display.HTML object>"
      ]
     },
     "metadata": {},
     "output_type": "display_data"
    },
    {
     "data": {
      "text/html": [
       "<a href='https://www.eaglenews.ph/iglesia-ni-cristo-church-of-christ-in-hawaii-conducts-contact-free-aid-to-humanity-during-covid-19-crisis/'> Iglesia Ni Cristo (Church Of Christ) in Hawaii conducts contact-free Aid to Humanity during COVID-19 crisis</a>"
      ],
      "text/plain": [
       "<IPython.core.display.HTML object>"
      ]
     },
     "metadata": {},
     "output_type": "display_data"
    },
    {
     "data": {
      "text/html": [
       "<a href='https://www.eaglenews.ph/in-photos-president-duterte-undergoes-covid-19-test-along-with-sen-bong-go/'> In photos:  President Duterte undergoes COVID-19 test, along with Sen. Bong Go</a>"
      ],
      "text/plain": [
       "<IPython.core.display.HTML object>"
      ]
     },
     "metadata": {},
     "output_type": "display_data"
    },
    {
     "data": {
      "text/html": [
       "<a href='https://politics.com.ph/list-areas-under-mgcq-gcq-mecq-until-end-july/'> LIST: Areas under MGCQ, GCQ, MECQ until end-July</a>"
      ],
      "text/plain": [
       "<IPython.core.display.HTML object>"
      ]
     },
     "metadata": {},
     "output_type": "display_data"
    },
    {
     "data": {
      "text/html": [
       "<a href='/Business/Technology/Lenovo-brings-foldable-PC-into-post-pandemic-working-world2'> Lenovo brings 'foldable' PC into post-pandemic working world</a>"
      ],
      "text/plain": [
       "<IPython.core.display.HTML object>"
      ]
     },
     "metadata": {},
     "output_type": "display_data"
    },
    {
     "data": {
      "text/html": [
       "<a href='https://www.eaglenews.ph/list-of-areas-quarantine-classifications-starting-july-16-until-july-31/'> List of areas, quarantine classifications starting July 16 until July 31</a>"
      ],
      "text/plain": [
       "<IPython.core.display.HTML object>"
      ]
     },
     "metadata": {},
     "output_type": "display_data"
    },
    {
     "data": {
      "text/html": [
       "<a href='https://politics.com.ph/manghahawa-pa-chel-diokno-warns-of-virus-spread-as-cops-search-houses-for-covid-19-patients/'> Manghahawa pa! Chel Diokno warns of virus spread as cops search houses for COVID-19 patients</a>"
      ],
      "text/plain": [
       "<IPython.core.display.HTML object>"
      ]
     },
     "metadata": {},
     "output_type": "display_data"
    },
    {
     "data": {
      "text/html": [
       "<a href='https://www.eaglenews.ph/manila-to-close-business-establishments-lock-down-barangays-violating-quarantine-rules/'> Manila to close business establishments, lock down barangays violating quarantine rules</a>"
      ],
      "text/plain": [
       "<IPython.core.display.HTML object>"
      ]
     },
     "metadata": {},
     "output_type": "display_data"
    },
    {
     "data": {
      "text/html": [
       "<a href='https://politics.com.ph/mark-villar-infected-with-covid-19-netizens-tell-isolation-czar-to-get-well-soon/'> Mark Villar infected with COVID-19; Netizens tell isolation czar to get well soon</a>"
      ],
      "text/plain": [
       "<IPython.core.display.HTML object>"
      ]
     },
     "metadata": {},
     "output_type": "display_data"
    },
    {
     "data": {
      "text/html": [
       "<a href='https://www.mindanews.com/top-stories/2020/07/mayor-sara-lets-focus-on-covid-19-pandemic-not-running-for-president/'> Mayor Sara: Let’s focus on COVID-19 pandemic, not running for president</a>"
      ],
      "text/plain": [
       "<IPython.core.display.HTML object>"
      ]
     },
     "metadata": {},
     "output_type": "display_data"
    },
    {
     "data": {
      "text/html": [
       "<a href='https://www.manilatimes.net/2020/07/16/news/latest-stories/metro-manila-stays-under-gcq-until-july-31-cebu-city-back-to-mecq/742342/'> Metro Manila stays under GCQ until July 31; Cebu City back to MECQ</a>"
      ],
      "text/plain": [
       "<IPython.core.display.HTML object>"
      ]
     },
     "metadata": {},
     "output_type": "display_data"
    },
    {
     "data": {
      "text/html": [
       "<a href='https://www.interaksyon.com/politics-issues/2020/07/15/172940/moderna-phase-1-results-show-coronavirus-vaccine-safe-induces-immune-response/'> Moderna Phase 1 results show coronavirus vaccine safe, induces immune response</a>"
      ],
      "text/plain": [
       "<IPython.core.display.HTML object>"
      ]
     },
     "metadata": {},
     "output_type": "display_data"
    },
    {
     "data": {
      "text/html": [
       "<a href='https://www.interaksyon.com/trends-spotlights/2020/07/15/172903/new-barter-trade-philippines-dti-illegal/'> New barter trade emerging as Filipinos cope with pandemic effects, but DTI says it’s illegal</a>"
      ],
      "text/plain": [
       "<IPython.core.display.HTML object>"
      ]
     },
     "metadata": {},
     "output_type": "display_data"
    },
    {
     "data": {
      "text/html": [
       "<a href='https://politics.com.ph/new-swine-flu-found-in-china-has-pandemic-potential3/'> New swine flu found in China has pandemic potential</a>"
      ],
      "text/plain": [
       "<IPython.core.display.HTML object>"
      ]
     },
     "metadata": {},
     "output_type": "display_data"
    },
    {
     "data": {
      "text/html": [
       "<a href='https://politics.com.ph/no-apologies-statement-on-articles-about-ph-red-cross-covid-19-testing-service/'> No apologies: Statement on articles about PH Red Cross COVID-19 testing service</a>"
      ],
      "text/plain": [
       "<IPython.core.display.HTML object>"
      ]
     },
     "metadata": {},
     "output_type": "display_data"
    },
    {
     "data": {
      "text/html": [
       "<a href='https://politics.com.ph/ph-covid-19-cases-near-59k-recoveries-close-to-21k/'> PH Covid-19 cases near 59k, recoveries close to  21K</a>"
      ],
      "text/plain": [
       "<IPython.core.display.HTML object>"
      ]
     },
     "metadata": {},
     "output_type": "display_data"
    },
    {
     "data": {
      "text/html": [
       "<a href='https://www.eaglenews.ph/pnp-recruitment-and-training-programs-to-resume-as-ncr-eases-to-gcq-on-june-1/'> PNP recruitment and training programs to resume as NCR eases to GCQ on June 1</a>"
      ],
      "text/plain": [
       "<IPython.core.display.HTML object>"
      ]
     },
     "metadata": {},
     "output_type": "display_data"
    },
    {
     "data": {
      "text/html": [
       "<a href='https://www.manilatimes.net/2020/07/16/business/business-top/psei-tumbles-on-quarantine-fears/742420/'> PSEi tumbles on quarantine fears</a>"
      ],
      "text/plain": [
       "<IPython.core.display.HTML object>"
      ]
     },
     "metadata": {},
     "output_type": "display_data"
    },
    {
     "data": {
      "text/html": [
       "<a href='https://www.manilatimes.net/2020/07/15/news/latest-stories/palace-assures-public-no-house-to-house-search-for-covid-19-patients/742147/'> Palace assures public: No ‘house-to-house’ search for Covid-19 patients</a>"
      ],
      "text/plain": [
       "<IPython.core.display.HTML object>"
      ]
     },
     "metadata": {},
     "output_type": "display_data"
    },
    {
     "data": {
      "text/html": [
       "<a href='https://www.manilatimes.net/2020/07/16/news/top-stories/palace-rejects-search-for-coronavirus-patients/742213/'> Palace rejects search for Coronavirus patients</a>"
      ],
      "text/plain": [
       "<IPython.core.display.HTML object>"
      ]
     },
     "metadata": {},
     "output_type": "display_data"
    },
    {
     "data": {
      "text/html": [
       "<a href='https://www.eaglenews.ph/palace-says-ncr-may-return-to-mecq-after-two-weeks-if-covid-19-cases-in-area-still-increase/'> Palace says NCR may return to MECQ after two weeks if no slowdown in COVID-19 transmission is seen</a>"
      ],
      "text/plain": [
       "<IPython.core.display.HTML object>"
      ]
     },
     "metadata": {},
     "output_type": "display_data"
    },
    {
     "data": {
      "text/html": [
       "<a href='https://www.eaglenews.ph/palace-covid-19-cases-reported-to-govt-not-qualified-for-home-quarantine-to-be-transferred-to-quarantine-facilities-to-prevent-covid-19-spread/'> Palace: COVID-19 cases reported to gov’t, not qualified for home quarantine to be transferred to quarantine facilities to prevent COVID-19 spread</a>"
      ],
      "text/plain": [
       "<IPython.core.display.HTML object>"
      ]
     },
     "metadata": {},
     "output_type": "display_data"
    },
    {
     "data": {
      "text/html": [
       "<a href='https://politics.com.ph/philippine-police-deployed-as-virus-cases-forced-into-quarantine/'> Philippine police deployed as virus cases forced into quarantine</a>"
      ],
      "text/plain": [
       "<IPython.core.display.HTML object>"
      ]
     },
     "metadata": {},
     "output_type": "display_data"
    },
    {
     "data": {
      "text/html": [
       "<a href='https://www.interaksyon.com/politics-issues/2020/07/15/172919/philippines-to-use-police-in-house-to-house-searches-for-covid-19-cases/'> Philippines to use police in house-to-house searches for COVID-19 cases</a>"
      ],
      "text/plain": [
       "<IPython.core.display.HTML object>"
      ]
     },
     "metadata": {},
     "output_type": "display_data"
    },
    {
     "data": {
      "text/html": [
       "<a href='https://www.eaglenews.ph/qc-legislative-building-temporarily-closed-starting-today-after-3-city-councilors-some-staff-members-test-positive-for-covid-19/'> QC legislative building temporarily closed starting today after 3 city councilors, some staff members test positive for COVID-19</a>"
      ],
      "text/plain": [
       "<IPython.core.display.HTML object>"
      ]
     },
     "metadata": {},
     "output_type": "display_data"
    },
    {
     "data": {
      "text/html": [
       "<a href='http://retiredanalyst.blogspot.com/2020/07/lorenzana-on-quarantine-anew-as-staff.html'> Retired Analyst:  Lorenzana on quarantine anew as staff positive for Covid-19</a>"
      ],
      "text/plain": [
       "<IPython.core.display.HTML object>"
      ]
     },
     "metadata": {},
     "output_type": "display_data"
    },
    {
     "data": {
      "text/html": [
       "<a href='http://retiredanalyst.blogspot.com/2020/07/navy-personnel-in-frigate-rites-ordered.html'> Retired Analyst: Navy personnel in frigate rites ordered to go on self-quarantine</a>"
      ],
      "text/plain": [
       "<IPython.core.display.HTML object>"
      ]
     },
     "metadata": {},
     "output_type": "display_data"
    },
    {
     "data": {
      "text/html": [
       "<a href='/Politics/Singapore-election/Singapore-election-cheers-business-but-COVID-19-worries-remain'> Singapore election cheers business but COVID-19 worries remain</a>"
      ],
      "text/plain": [
       "<IPython.core.display.HTML object>"
      ]
     },
     "metadata": {},
     "output_type": "display_data"
    },
    {
     "data": {
      "text/html": [
       "<a href='https://www.mindanews.com/business/2020/07/socssksargen-investments-php-1-93-b-in-q1-2019-php-69-m-in-q1-2020-due-to-covid-19/'> Socssksargen investments: PhP 1.93-B in Q1 2019. PhP 69-M in Q1 2020 due to COVID-19</a>"
      ],
      "text/plain": [
       "<IPython.core.display.HTML object>"
      ]
     },
     "metadata": {},
     "output_type": "display_data"
    },
    {
     "data": {
      "text/html": [
       "<a href='https://www.manilatimes.net/2020/07/16/news/headlines/some-areas-to-go-back-to-gcq-palace/742228/'> Some areas to go back to GCQ – Palace</a>"
      ],
      "text/plain": [
       "<IPython.core.display.HTML object>"
      ]
     },
     "metadata": {},
     "output_type": "display_data"
    },
    {
     "data": {
      "text/html": [
       "<a href='https://edgedavao.net/competitive-edge/2020/07/01/splash-corp-makes-nationwide-donation-as-hospitals-continue-to-battle-covid-19/'> Splash Corp. Makes Nationwide Donation as Hospitals Continue to Battle COVID-19</a>"
      ],
      "text/plain": [
       "<IPython.core.display.HTML object>"
      ]
     },
     "metadata": {},
     "output_type": "display_data"
    },
    {
     "data": {
      "text/html": [
       "<a href='https://politics.com.ph/tokhang-3-0-nupl-fears-abuse-as-cops-hunt-for-covid-19-patients/'> Tokhang 3.0? NUPL fears abuse as cops hunt for COVID-19 patients</a>"
      ],
      "text/plain": [
       "<IPython.core.display.HTML object>"
      ]
     },
     "metadata": {},
     "output_type": "display_data"
    },
    {
     "data": {
      "text/html": [
       "<a href='https://www.eaglenews.ph/tokyo-on-top-virus-alert-level-after-new-cases/'> Tokyo on top virus alert level after new cases</a>"
      ],
      "text/plain": [
       "<IPython.core.display.HTML object>"
      ]
     },
     "metadata": {},
     "output_type": "display_data"
    },
    {
     "data": {
      "text/html": [
       "<a href='https://politics.com.ph/tumulong-na-lang-kesa-dumaldal-palace-slams-robredo-for-saying-govt-in-denial-over-lapses-in-covid-19-response/'> Tumulong na lang kesa dumaldal! Palace slams Robredo for saying gov’t ‘in denial’ over lapses in COVID-19 response</a>"
      ],
      "text/plain": [
       "<IPython.core.display.HTML object>"
      ]
     },
     "metadata": {},
     "output_type": "display_data"
    },
    {
     "data": {
      "text/html": [
       "<a href='http://davaotoday.com/main/headline/up-mindanao-postpones-events-in-wake-of-covid-19-threat/'> UP Mindanao postpones events in wake of COVID-19 threat</a>"
      ],
      "text/plain": [
       "<IPython.core.display.HTML object>"
      ]
     },
     "metadata": {},
     "output_type": "display_data"
    },
    {
     "data": {
      "text/html": [
       "<a href='http://davaotoday.com/main/economy/health/up-scientists-to-roque-statistics-show-ph-not-winning-vs-covid-19/'> UP scientists to Roque: statistics show PH not winning vs Covid-19</a>"
      ],
      "text/plain": [
       "<IPython.core.display.HTML object>"
      ]
     },
     "metadata": {},
     "output_type": "display_data"
    },
    {
     "data": {
      "text/html": [
       "<a href='https://www.eaglenews.ph/us-government-to-give-additional-p201-million-covid-19-aid-for-mindanao/'> US government to give additional P201 million COVID-19 aid for Mindanao</a>"
      ],
      "text/plain": [
       "<IPython.core.display.HTML object>"
      ]
     },
     "metadata": {},
     "output_type": "display_data"
    },
    {
     "data": {
      "text/html": [
       "<a href='https://www.manilatimes.net/2020/07/16/news/national/unraveling-the-new-coronavirus/742220/'> Unraveling the new coronavirus</a>"
      ],
      "text/plain": [
       "<IPython.core.display.HTML object>"
      ]
     },
     "metadata": {},
     "output_type": "display_data"
    },
    {
     "data": {
      "text/html": [
       "<a href='https://www.interaksyon.com/politics-issues/2020/07/14/172868/palace-hospitals-healthcare-beds-capacity-covid19/'> What Palace said (and what hospitals now say) on COVID-19 healthcare capacity</a>"
      ],
      "text/plain": [
       "<IPython.core.display.HTML object>"
      ]
     },
     "metadata": {},
     "output_type": "display_data"
    },
    {
     "data": {
      "text/html": [
       "<a href='https://politics.com.ph/world-hunger-worsening-as-coronavirus-weighs-and-obesity-rises-un/'> World hunger worsening as coronavirus weighs and obesity rises: UN</a>"
      ],
      "text/plain": [
       "<IPython.core.display.HTML object>"
      ]
     },
     "metadata": {},
     "output_type": "display_data"
    },
    {
     "data": {
      "text/html": [
       "<a href='https://www.mindanews.com/top-stories/2020/07/zambo-and-butuan-cities-basilan-and-agusan-del-norte-back-to-gcq-davao-city-remains-under-mgcq/'> Zambo and Butuan cities, Basilan and Agusan del Norte back to GCQ; Davao City remains under MGCQ</a>"
      ],
      "text/plain": [
       "<IPython.core.display.HTML object>"
      ]
     },
     "metadata": {},
     "output_type": "display_data"
    },
    {
     "data": {
      "text/html": [
       "<a href='https://www.interaksyon.com/politics-issues/2020/07/13/172752/anyare-how-dohs-failure-to-report-covid-19-case-tally-affected-filipinos/'> ‘Anyare?’ How DOH’s failure to report COVID-19 case tally affected Filipinos</a>"
      ],
      "text/plain": [
       "<IPython.core.display.HTML object>"
      ]
     },
     "metadata": {},
     "output_type": "display_data"
    },
    {
     "name": "stdout",
     "output_type": "stream",
     "text": [
      "\n",
      "POLITICAL NEWS ITEMS: \n"
     ]
    },
    {
     "data": {
      "text/html": [
       "<a href='https://www.eaglenews.ph/4-0-magnitude-quake-hits-davao-occidental-early-tuesday/'> 4.0-magnitude quake hits Davao Occidental early Tuesday</a>"
      ],
      "text/plain": [
       "<IPython.core.display.HTML object>"
      ]
     },
     "metadata": {},
     "output_type": "display_data"
    },
    {
     "data": {
      "text/html": [
       "<a href='https://www.eaglenews.ph/4-0-magnitude-quake-hits-davao-oriental-2/'> 4.0-magnitude quake hits Davao Oriental</a>"
      ],
      "text/plain": [
       "<IPython.core.display.HTML object>"
      ]
     },
     "metadata": {},
     "output_type": "display_data"
    },
    {
     "data": {
      "text/html": [
       "<a href='https://edgedavao.net/entrepreneurs/2019/04/18/atty-antonio-b-partoza-jr-creating-a-name-for-davao/'> ATTY. ANTONIO B. PARTOZA JR: CREATING A NAME FOR DAVAO</a>"
      ],
      "text/plain": [
       "<IPython.core.display.HTML object>"
      ]
     },
     "metadata": {},
     "output_type": "display_data"
    },
    {
     "data": {
      "text/html": [
       "<a href='https://edgedavao.net/the-economy/2020/07/04/all-phoenix-stations-in-davao-region-back-in-operation/'> All Phoenix stations in Davao  Region back in operation</a>"
      ],
      "text/plain": [
       "<IPython.core.display.HTML object>"
      ]
     },
     "metadata": {},
     "output_type": "display_data"
    },
    {
     "data": {
      "text/html": [
       "<a href='http://davaotoday.com/main/human-rights/arrest-of-balingasag-7-draws-condemnation-from-indigenous-groups/'> Arrest of Balingasag 7 draws condemnation from indigenous groups</a>"
      ],
      "text/plain": [
       "<IPython.core.display.HTML object>"
      ]
     },
     "metadata": {},
     "output_type": "display_data"
    },
    {
     "data": {
      "text/html": [
       "<a href='https://www.eaglenews.ph/cloudy-skies-scattered-rainshowers-expected-in-cagayan-valley-other-areas-due-to-lpa/'> Cloudy skies, scattered rainshowers expected in Cagayan Valley, other areas due to LPA</a>"
      ],
      "text/plain": [
       "<IPython.core.display.HTML object>"
      ]
     },
     "metadata": {},
     "output_type": "display_data"
    },
    {
     "data": {
      "text/html": [
       "<a href='http://davaotoday.com/main/economy/health/davao-city-imposes-fines-for-persons-not-wearing-face-masks/'> Davao City imposes fines for persons not wearing face masks</a>"
      ],
      "text/plain": [
       "<IPython.core.display.HTML object>"
      ]
     },
     "metadata": {},
     "output_type": "display_data"
    },
    {
     "data": {
      "text/html": [
       "<a href='http://davaotoday.com/main/economy/health/davao-city-joins-other-davao-provinces-under-mgcq/'> Davao City joins other Davao provinces under MGCQ</a>"
      ],
      "text/plain": [
       "<IPython.core.display.HTML object>"
      ]
     },
     "metadata": {},
     "output_type": "display_data"
    },
    {
     "data": {
      "text/html": [
       "<a href='http://davaotoday.com/main/environment/davao-city-on-alert-for-tropical-depression-ambo/'> Davao City on alert for Tropical Depression Ambo</a>"
      ],
      "text/plain": [
       "<IPython.core.display.HTML object>"
      ]
     },
     "metadata": {},
     "output_type": "display_data"
    },
    {
     "data": {
      "text/html": [
       "<a href='http://davaotoday.com/main/headline/davao-business-sector-still-divided-on-martial-rule/'> Davao business sector still divided on martial rule</a>"
      ],
      "text/plain": [
       "<IPython.core.display.HTML object>"
      ]
     },
     "metadata": {},
     "output_type": "display_data"
    },
    {
     "data": {
      "text/html": [
       "<a href='https://www.mindanews.com/business/2020/05/davao-tourism-suffers-huge-drop-in-revenues-due-to-covid-19/'> Davao tourism suffers ‘huge drop’ in revenues due to COVID-19</a>"
      ],
      "text/plain": [
       "<IPython.core.display.HTML object>"
      ]
     },
     "metadata": {},
     "output_type": "display_data"
    },
    {
     "data": {
      "text/html": [
       "<a href='http://davaotoday.com/main/economy/health/davaos-barangay-23-c-on-hard-lockdown-due-to-covid-19/'> Davao’s Barangay 23-C on ‘hard lockdown’ due to Covid-19</a>"
      ],
      "text/plain": [
       "<IPython.core.display.HTML object>"
      ]
     },
     "metadata": {},
     "output_type": "display_data"
    },
    {
     "data": {
      "text/html": [
       "<a href='https://edgedavao.net/feature/2019/12/22/edge-davaos-and-zions-candyland-party/'> Edge Davao’s and Zion’s Candyland party</a>"
      ],
      "text/plain": [
       "<IPython.core.display.HTML object>"
      ]
     },
     "metadata": {},
     "output_type": "display_data"
    },
    {
     "data": {
      "text/html": [
       "<a href='http://davaotoday.com/main/culture-2/how-the-lumad-learned-to-survive-in-haran/'> How the Lumad learned to survive in Haran</a>"
      ],
      "text/plain": [
       "<IPython.core.display.HTML object>"
      ]
     },
     "metadata": {},
     "output_type": "display_data"
    },
    {
     "data": {
      "text/html": [
       "<a href='https://edgedavao.net/suburbia/2020/01/04/humanitarian-mission-provides-relief-in-davao-del-sur/'> Humanitarian mission provides relief in Davao del Sur</a>"
      ],
      "text/plain": [
       "<IPython.core.display.HTML object>"
      ]
     },
     "metadata": {},
     "output_type": "display_data"
    },
    {
     "data": {
      "text/html": [
       "<a href='http://davaotoday.com/main/davao-city/investors-organize-1st-branch-in-davao/'> Investors organize 1st branch in Davao</a>"
      ],
      "text/plain": [
       "<IPython.core.display.HTML object>"
      ]
     },
     "metadata": {},
     "output_type": "display_data"
    },
    {
     "data": {
      "text/html": [
       "<a href='https://edgedavao.net/suburbia/2019/11/15/isolated-lumads-hail-govt-attention-care/'> Isolated Lumads hail gov’t attention, care</a>"
      ],
      "text/plain": [
       "<IPython.core.display.HTML object>"
      ]
     },
     "metadata": {},
     "output_type": "display_data"
    },
    {
     "data": {
      "text/html": [
       "<a href='http://davaotoday.com/main/headline/most-davao-businesses-dont-have-continuity-plan-pcci/'> Most Davao businesses don’t have continuity plan – PCCI</a>"
      ],
      "text/plain": [
       "<IPython.core.display.HTML object>"
      ]
     },
     "metadata": {},
     "output_type": "display_data"
    },
    {
     "data": {
      "text/html": [
       "<a href='https://edgedavao.net/the-big-news/2020/06/26/most-stranded-individuals-are-davao-bound-airline-exec/'> Most stranded individuals are  Davao-bound: airline exec</a>"
      ],
      "text/plain": [
       "<IPython.core.display.HTML object>"
      ]
     },
     "metadata": {},
     "output_type": "display_data"
    },
    {
     "data": {
      "text/html": [
       "<a href='https://edgedavao.net/special-supplement/2020/03/17/some-things-you-need-to-know-about-davao-city/'> SOME THINGS YOU NEED TO KNOW ABOUT DAVAO CITY</a>"
      ],
      "text/plain": [
       "<IPython.core.display.HTML object>"
      ]
     },
     "metadata": {},
     "output_type": "display_data"
    },
    {
     "data": {
      "text/html": [
       "<a href='https://www.mindanews.com/special-reports/2020/07/special-report-policy-review-of-waste-management-needed-as-davao-city-grapples-with-household-ppe-waste/'> SPECIAL REPORT: Policy review of waste management needed as Davao City grapples with household PPE waste</a>"
      ],
      "text/plain": [
       "<IPython.core.display.HTML object>"
      ]
     },
     "metadata": {},
     "output_type": "display_data"
    },
    {
     "data": {
      "text/html": [
       "<a href='http://davaotoday.com/main/human-rights/seven-lumad-arrested-tagged-as-npa-in-misamis-oriental/'> Seven Lumad arrested, tagged as NPA in Misamis Oriental</a>"
      ],
      "text/plain": [
       "<IPython.core.display.HTML object>"
      ]
     },
     "metadata": {},
     "output_type": "display_data"
    },
    {
     "data": {
      "text/html": [
       "<a href='https://www.mindanews.com/top-stories/2020/07/zambo-and-butuan-cities-basilan-and-agusan-del-norte-back-to-gcq-davao-city-remains-under-mgcq/'> Zambo and Butuan cities, Basilan and Agusan del Norte back to GCQ; Davao City remains under MGCQ</a>"
      ],
      "text/plain": [
       "<IPython.core.display.HTML object>"
      ]
     },
     "metadata": {},
     "output_type": "display_data"
    },
    {
     "name": "stdout",
     "output_type": "stream",
     "text": [
      "Errors:  0\n"
     ]
    }
   ],
   "source": [
    "\n",
    "def excluder(mystr, exclude_list):\n",
    "    excludeit = False\n",
    "    for excl in exclude_list:\n",
    "        if excl in mystr:\n",
    "            excludeit = True\n",
    "            break\n",
    "    return excludeit\n",
    "\n",
    "covid_list = []\n",
    "auth_list = []\n",
    "chinathreat_list = []\n",
    "chrgroup_list = []\n",
    "econ_list = []\n",
    "insurgency_list = []\n",
    "moro_list = []\n",
    "ncr_list = []\n",
    "province_list = []\n",
    "pulitika_list = []\n",
    "errors = 0\n",
    "pctcount1 = 0\n",
    "for paper in paperlist:\n",
    "    pctcount1 +=1\n",
    "    pctval1 = pctcount1 / len(paperlist)\n",
    "    print('Percent complete all sources list: ' + \"{:.1%}\".format(pctval1))\n",
    "    r = requests.get(paper, headers=headers)\n",
    "    soup = BeautifulSoup(r.text, 'html.parser')\n",
    "    if (paper == \"http://retiredanalyst.blogspot.com/\"):\n",
    "        myelems = soup.findAll('h3')\n",
    "#         print(len(myelems))\n",
    "        pctcount2 = 0\n",
    "        for elem in myelems:\n",
    "            pctcount2 +=1\n",
    "            pctval2 = pctcount2 / len(myelems)\n",
    "            print('Percent complete retired analyst list: ' + \"{:.1%}\".format(pctval2))\n",
    "            # usually there is no title in the retired analyst links, so have to go get those\n",
    "            url = elem.contents[1].get('href')\n",
    "            try:\n",
    "                r2 = requests.get(url, headers=headers)\n",
    "                soup2 = BeautifulSoup(r2.text, 'html.parser')\n",
    "                titletext = soup2.title.text\n",
    "                if not excluder(titletext.lower(), exclude_list):\n",
    "                    for checker in taglist:\n",
    "                        if checker.lower() in titletext.lower():\n",
    "    #                         print(checker, titletext)\n",
    "                            if checker.lower() in covid_taglist:\n",
    "                                covid_list.append((titletext, url))\n",
    "                            if checker.lower() in auth_taglist:\n",
    "                                auth_list.append((titletext, url))\n",
    "                            if checker.lower() in chinathreat_taglist:\n",
    "                                chinathreat_list.append((titletext, url))\n",
    "                            if checker.lower() in chrgroup_taglist:\n",
    "                                chrgroup_list.append((titletext, url))\n",
    "                            if checker.lower() in econ_taglist:\n",
    "                                econ_list.append((titletext, url))\n",
    "                            if checker.lower() in insurgency_taglist:\n",
    "                                insurgency_list.append((titletext, url))\n",
    "                            if checker.lower() in moro_taglist:\n",
    "                                moro_list.append((titletext, url))\n",
    "                            if checker.lower() in ncr_taglist:\n",
    "                                ncr_list.append((titletext, url))\n",
    "                            if checker.lower() in province_taglist:\n",
    "                                province_list.append((titletext, url))\n",
    "                            if checker.lower() in pulitika_taglist:\n",
    "                                    pulitika_list.append((titletext, url))\n",
    "                            \n",
    "            except:\n",
    "                errors += 1\n",
    "    else:\n",
    "        myelems = soup.findAll('a')\n",
    "        pctcount3 = 0\n",
    "        for elem in myelems:\n",
    "            pctcount3 +=1\n",
    "            pctval3 = pctcount3 / len(myelems)\n",
    "            print('Percent complete ' + paper + ' list: ' + \"{:.1%}\".format(pctval3))\n",
    "            titletext = str(elem.get('title'))\n",
    "            if not excluder(titletext.lower(), exclude_list):\n",
    "                url = elem.get('href')\n",
    "                for checker in taglist:\n",
    "                    if checker.lower() in titletext.lower():\n",
    "    #                     print(checker, titletext)\n",
    "                        if checker.lower() in covid_taglist:\n",
    "                            covid_list.append((titletext, url))\n",
    "                        if checker.lower() in auth_taglist:\n",
    "                            auth_list.append((titletext, url))\n",
    "                        if checker.lower() in chinathreat_taglist:\n",
    "                            chinathreat_list.append((titletext, url))\n",
    "                        if checker.lower() in chrgroup_taglist:\n",
    "                            chrgroup_list.append((titletext, url))\n",
    "                        if checker.lower() in econ_taglist:\n",
    "                            econ_list.append((titletext, url))\n",
    "                        if checker.lower() in insurgency_taglist:\n",
    "                            insurgency_list.append((titletext, url))\n",
    "                        if checker.lower() in moro_taglist:\n",
    "                            moro_list.append((titletext, url))\n",
    "                        if checker.lower() in ncr_taglist:\n",
    "                            ncr_list.append((titletext, url))\n",
    "                        if checker.lower() in province_taglist:\n",
    "                            province_list.append((titletext, url))\n",
    "                        if checker.lower() in pulitika_taglist:\n",
    "                            pulitika_list.append((titletext, url))\n",
    "                        \n",
    "covid_list = list(set(covid_list))\n",
    "covid_list.sort()\n",
    "auth_list = list(set(auth_list))\n",
    "auth_list.sort()\n",
    "chinathreat_list = list(set(chinathreat_list))\n",
    "chinathreat_list.sort()\n",
    "chrgroup_list = list(set(chrgroup_list))\n",
    "chrgroup_list.sort()\n",
    "econ_list = list(set(econ_list))\n",
    "econ_list.sort()\n",
    "insurgency_list = list(set(insurgency_list))\n",
    "insurgency_list.sort()\n",
    "moro_list = list(set(moro_list))\n",
    "moro_list.sort()\n",
    "ncr_list = list(set(ncr_list))\n",
    "ncr_list.sort()\n",
    "province_list = list(set(province_list))\n",
    "province_list.sort()\n",
    "pulitika_list = list(set(pulitika_list))\n",
    "pulitika_list.sort()\n",
    "\n",
    "               \n",
    "hitlist = covid_list+ auth_list+ chinathreat_list+ chrgroup_list+ econ_list+ insurgency_list+ moro_list+ ncr_list+ province_list+ pulitika_list\n",
    "hitlist = list(set(hitlist))\n",
    "hitlist.sort()\n",
    "# sort_disp_list = [covid_list, auth_list, chinathreat_list, chrgroup_list, econ_list, insurgency_list, moro_list, ncr_list, province_list, pulitika_list]\n",
    "# for elem in hitlist:\n",
    "#     print(elem[0])\n",
    "#     print(elem[1])\n",
    "\n",
    "def display_links(header, newslist, errors):\n",
    "    print('\\n' + header)\n",
    "    hlist = [elem[1] for elem in newslist]\n",
    "#     xlist = [elem[0] for elem in hitlist]\n",
    "#     [print(x) for x in xlist]\n",
    "#     for ilink in hlist:\n",
    "#         try:\n",
    "#             r = requests.get(ilink, headers=headers)\n",
    "#             soup = BeautifulSoup(r.text, 'html.parser')\n",
    "#             titletext = soup.title.text\n",
    "#             reflink = \"<a href='\" + ilink + \"'> \" + titletext + \"</a>\"\n",
    "#             html = HTML(reflink)\n",
    "#             display(html)\n",
    "#         except:\n",
    "#             errors += 1\n",
    "\n",
    "    for newselem in newslist:\n",
    "        if newselem[0] == 'None':\n",
    "            try:\n",
    "                r = requests.get(newselem[1], headers=headers)\n",
    "                soup = BeautifulSoup(r.text, 'html.parser')\n",
    "                titletext = soup.title.text\n",
    "                reflink = \"<a href='\" + ilink + \"'> \" + titletext + \"</a>\"\n",
    "                html = HTML(reflink)\n",
    "                display(html)\n",
    "            except:\n",
    "                errors += 1\n",
    "        else:\n",
    "            reflink = \"<a href='\" + newselem[1] + \"'> \" + newselem[0] + \"</a>\"\n",
    "            html = HTML(reflink)\n",
    "            display(html)\n",
    "            \n",
    "    return errors\n",
    "\n",
    "\n",
    "errors = display_links(\"COVID-19 NEWS ITEMS: \", covid_list, errors)\n",
    "errors = display_links(\"AUTHORITARIANISM/ DEMOCRACY THREAT NEWS ITEMS: \", auth_list, errors)\n",
    "errors = display_links(\"CHINA THREAT TO THE PHILIPPINES NEWS ITEMS: \", chinathreat_list, errors)\n",
    "errors = display_links(\"CHRISTIAN AND RELIGIOUS GROUPS NEWS ITEMS: \", chrgroup_list, errors)\n",
    "errors = display_links(\"ECONOMY NEWS ITEMS: \", econ_list, errors)\n",
    "errors = display_links(\"INSURGENCY RELATED NEWS ITEMS: \", insurgency_list, errors)\n",
    "errors = display_links(\"MORO ISSUES RELATED NEWS ITEMS: \", moro_list, errors)\n",
    "errors = display_links(\"NATIONAL CAPITAL REGION RELATED NEWS ITEMS: \", ncr_list, errors)\n",
    "errors = display_links(\"PROVINCIAL NEWS ITEMS: \", covid_list, errors)\n",
    "errors = display_links(\"POLITICAL NEWS ITEMS: \", province_list, errors)\n",
    "print(\"Errors: \", errors)"
   ]
  },
  {
   "cell_type": "code",
   "execution_count": 19,
   "metadata": {},
   "outputs": [
    {
     "data": {
      "text/html": [
       "<a href='https://www.eaglenews.ph/4-0-magnitude-quake-hits-davao-occidental-early-tuesday/'> 4.0-magnitude quake hits Davao Occidental early Tuesday</a>"
      ],
      "text/plain": [
       "<IPython.core.display.HTML object>"
      ]
     },
     "metadata": {},
     "output_type": "display_data"
    },
    {
     "data": {
      "text/html": [
       "<a href='https://www.eaglenews.ph/4-0-magnitude-quake-hits-davao-oriental-2/'> 4.0-magnitude quake hits Davao Oriental</a>"
      ],
      "text/plain": [
       "<IPython.core.display.HTML object>"
      ]
     },
     "metadata": {},
     "output_type": "display_data"
    },
    {
     "data": {
      "text/html": [
       "<a href='https://politics.com.ph/abs-cbn-franchise-denial-sole-exclusive-prerogative-of-congress-palace/'> ABS-CBN franchise denial ‘sole, exclusive prerogative of Congress’ – Palace</a>"
      ],
      "text/plain": [
       "<IPython.core.display.HTML object>"
      ]
     },
     "metadata": {},
     "output_type": "display_data"
    },
    {
     "data": {
      "text/html": [
       "<a href='https://politics.com.ph/abs-cbn-president-carlo-katigbak-is-amazing-locsin-says/'> ABS-CBN president Carlo Katigbak is amazing, Locsin says</a>"
      ],
      "text/plain": [
       "<IPython.core.display.HTML object>"
      ]
     },
     "metadata": {},
     "output_type": "display_data"
    },
    {
     "data": {
      "text/html": [
       "<a href='https://www.manilatimes.net/2020/07/15/second-headline/abs-cbn-to-lay-off-workers-effective-aug-31/742174/'> ABS-CBN to lay off workers effective Aug 31</a>"
      ],
      "text/plain": [
       "<IPython.core.display.HTML object>"
      ]
     },
     "metadata": {},
     "output_type": "display_data"
    },
    {
     "data": {
      "text/html": [
       "<a href='https://edgedavao.net/entrepreneurs/2019/04/18/atty-antonio-b-partoza-jr-creating-a-name-for-davao/'> ATTY. ANTONIO B. PARTOZA JR: CREATING A NAME FOR DAVAO</a>"
      ],
      "text/plain": [
       "<IPython.core.display.HTML object>"
      ]
     },
     "metadata": {},
     "output_type": "display_data"
    },
    {
     "data": {
      "text/html": [
       "<a href='https://edgedavao.net/the-economy/2020/07/04/all-phoenix-stations-in-davao-region-back-in-operation/'> All Phoenix stations in Davao  Region back in operation</a>"
      ],
      "text/plain": [
       "<IPython.core.display.HTML object>"
      ]
     },
     "metadata": {},
     "output_type": "display_data"
    },
    {
     "data": {
      "text/html": [
       "<a href='http://davaotoday.com/main/human-rights/arrest-of-balingasag-7-draws-condemnation-from-indigenous-groups/'> Arrest of Balingasag 7 draws condemnation from indigenous groups</a>"
      ],
      "text/plain": [
       "<IPython.core.display.HTML object>"
      ]
     },
     "metadata": {},
     "output_type": "display_data"
    },
    {
     "data": {
      "text/html": [
       "<a href='https://www.eaglenews.ph/at-least-19-mrt-3-trains-to-run-in-metro-manila-amid-gcq-to-allow-social-distancing-says-dotr/'> At least 19 MRT-3 trains to run in Metro Manila amid GCQ to allow social distancing, says DOTr</a>"
      ],
      "text/plain": [
       "<IPython.core.display.HTML object>"
      ]
     },
     "metadata": {},
     "output_type": "display_data"
    },
    {
     "data": {
      "text/html": [
       "<a href='https://www.mindanews.com/mindaviews/2020/06/bangsamoro-speaks-balance-compassion-and-discipline-and-at-the-same-uphold-the-rule-of-law/'> BANGSAMORO SPEAKS: Balance compassion and discipline and at the same, uphold the rule of law</a>"
      ],
      "text/plain": [
       "<IPython.core.display.HTML object>"
      ]
     },
     "metadata": {},
     "output_type": "display_data"
    },
    {
     "data": {
      "text/html": [
       "<a href='https://politics.com.ph/1bakit-sa-abs-cbn-walang-second-chance-poe-says-dennis-uys-dito-chinatel-given-congressional-franchise-despite-violations/'> Bakit sa ABS-CBN walang second chance? Poe says Dennis Uy’s DITO-ChinaTel given congressional franchise despite violations</a>"
      ],
      "text/plain": [
       "<IPython.core.display.HTML object>"
      ]
     },
     "metadata": {},
     "output_type": "display_data"
    },
    {
     "data": {
      "text/html": [
       "<a href='https://www.mindanews.com/peace-process/2020/06/bangsamoro-parliament-has-yet-to-act-on-resolution-expressing-grave-concern-over-proposed-anti-terrorism-act/'> Bangsamoro Parliament has yet to act on resolution expressing “grave concern” over proposed Anti-Terrorism Act</a>"
      ],
      "text/plain": [
       "<IPython.core.display.HTML object>"
      ]
     },
     "metadata": {},
     "output_type": "display_data"
    },
    {
     "data": {
      "text/html": [
       "<a href='https://www.manilatimes.net/2020/07/16/opinion/columnists/topanalysis/batos-sickening-comment-on-abs-cbn-workers/742349/'> Bato’s sickening comment on ABS-CBN workers</a>"
      ],
      "text/plain": [
       "<IPython.core.display.HTML object>"
      ]
     },
     "metadata": {},
     "output_type": "display_data"
    },
    {
     "data": {
      "text/html": [
       "<a href='https://politics.com.ph/bibira-tapos-mapipikon-mike-defensor-dares-critics-to-unfriend-him-over-abs-cbn/'> Bibira tapos mapipikon! Mike Defensor dares critics to ‘unfriend’ him over ABS-CBN</a>"
      ],
      "text/plain": [
       "<IPython.core.display.HTML object>"
      ]
     },
     "metadata": {},
     "output_type": "display_data"
    },
    {
     "data": {
      "text/html": [
       "<a href='https://politics.com.ph/brave-angara-salutes-11-lawmakers-who-voted-for-abs-cbn-franchise/'> Brave! Angara salutes 11 lawmakers who voted for ABS-CBN franchise</a>"
      ],
      "text/plain": [
       "<IPython.core.display.HTML object>"
      ]
     },
     "metadata": {},
     "output_type": "display_data"
    },
    {
     "data": {
      "text/html": [
       "<a href='https://www.mindanews.com/top-stories/2020/07/covid-19-positives-among-stranded-basulta-residents-surge-to-120-ntf-apologizes-to-barmm-for-the-mess/'> COVID-19 positives among stranded BaSulTa residents surge to 120; NTF apologizes to BARMM for the ‘mess’</a>"
      ],
      "text/plain": [
       "<IPython.core.display.HTML object>"
      ]
     },
     "metadata": {},
     "output_type": "display_data"
    },
    {
     "data": {
      "text/html": [
       "<a href='https://politics.com.ph/cayetano-to-poe-robredo-on-abs-cbn-decision-chill-lang-tayo/'> Cayetano to Poe, Robredo on ABS-CBN decision: ‘Chill lang tayo’</a>"
      ],
      "text/plain": [
       "<IPython.core.display.HTML object>"
      ]
     },
     "metadata": {},
     "output_type": "display_data"
    },
    {
     "data": {
      "text/html": [
       "<a href='https://www.mindanews.com/peace-process/2020/01/ceasefire-holding-sison-says-he-is-ready-to-meet-duterte-in-hanoi/'> Ceasefire holding; Sison says he is ready to meet Duterte in Hanoi  </a>"
      ],
      "text/plain": [
       "<IPython.core.display.HTML object>"
      ]
     },
     "metadata": {},
     "output_type": "display_data"
    },
    {
     "data": {
      "text/html": [
       "<a href='/Politics/International-relations/South-China-Sea/China-and-Philippines-affirm-ties-after-South-China-Sea-spat'> China and Philippines affirm ties after South China Sea spat</a>"
      ],
      "text/plain": [
       "<IPython.core.display.HTML object>"
      ]
     },
     "metadata": {},
     "output_type": "display_data"
    },
    {
     "data": {
      "text/html": [
       "<a href='https://www.eaglenews.ph/cloudy-skies-scattered-rainshowers-expected-in-cagayan-valley-other-areas-due-to-lpa/'> Cloudy skies, scattered rainshowers expected in Cagayan Valley, other areas due to LPA</a>"
      ],
      "text/plain": [
       "<IPython.core.display.HTML object>"
      ]
     },
     "metadata": {},
     "output_type": "display_data"
    },
    {
     "data": {
      "text/html": [
       "<a href='https://www.mindanews.com/peace-process/2020/02/cotabato-city-seeks-exclusion-from-barmm-until-june-30-2022/'> Cotabato City seeks exclusion from BARMM until June 30, 2022</a>"
      ],
      "text/plain": [
       "<IPython.core.display.HTML object>"
      ]
     },
     "metadata": {},
     "output_type": "display_data"
    },
    {
     "data": {
      "text/html": [
       "<a href='https://www.manilatimes.net/2020/07/16/opinion/editorial/dilg-plan-to-hunt-covid-19-patients-is-deeply-alarming/742360/'> DILG plan to ‘hunt’ Covid-19 patients is deeply alarming</a>"
      ],
      "text/plain": [
       "<IPython.core.display.HTML object>"
      ]
     },
     "metadata": {},
     "output_type": "display_data"
    },
    {
     "data": {
      "text/html": [
       "<a href='https://www.eaglenews.ph/dnd-chief-lorenzana-tests-negative-for-covid-19/'> DND Chief Lorenzana tests negative for COVID-19</a>"
      ],
      "text/plain": [
       "<IPython.core.display.HTML object>"
      ]
     },
     "metadata": {},
     "output_type": "display_data"
    },
    {
     "data": {
      "text/html": [
       "<a href='https://politics.com.ph/dole-ready-to-help-out-of-work-abs-cbn-staff-but-lopezes-should-compensate-them-first/'> DOLE ready to help out of work ABS-CBN staff, but Lopezes should compensate them first</a>"
      ],
      "text/plain": [
       "<IPython.core.display.HTML object>"
      ]
     },
     "metadata": {},
     "output_type": "display_data"
    },
    {
     "data": {
      "text/html": [
       "<a href='https://www.manilatimes.net/2020/07/16/business/columnists-business/dtis-lopez-takes-misanthropy-to-the-next-level/742401/'> DTI’s Lopez takes misanthropy to the next level</a>"
      ],
      "text/plain": [
       "<IPython.core.display.HTML object>"
      ]
     },
     "metadata": {},
     "output_type": "display_data"
    },
    {
     "data": {
      "text/html": [
       "<a href='https://politics.com.ph/damay-damay-na-ressa-urges-abs-cbn-inquirer-star-to-help-rappler-dig-up-dirt-on-wilfredo-keng/'> Damay damay na! Ressa urges ABS-CBN, Inquirer, Star to help Rappler dig up dirt on Wilfredo Keng</a>"
      ],
      "text/plain": [
       "<IPython.core.display.HTML object>"
      ]
     },
     "metadata": {},
     "output_type": "display_data"
    },
    {
     "data": {
      "text/html": [
       "<a href='https://politics.com.ph/dapa-na-dinudurog-pa-remulla-marcoleta-think-cordoba-not-doing-enough-to-take-down-abs-cbn-resign-or-face-ombudsman-case/'> Dapa na, dinudurog pa! Remulla, Marcoleta think Cordoba not doing enough to take down ABS-CBN: Resign or face Ombudsman case</a>"
      ],
      "text/plain": [
       "<IPython.core.display.HTML object>"
      ]
     },
     "metadata": {},
     "output_type": "display_data"
    },
    {
     "data": {
      "text/html": [
       "<a href='http://davaotoday.com/main/economy/health/davao-city-imposes-fines-for-persons-not-wearing-face-masks/'> Davao City imposes fines for persons not wearing face masks</a>"
      ],
      "text/plain": [
       "<IPython.core.display.HTML object>"
      ]
     },
     "metadata": {},
     "output_type": "display_data"
    },
    {
     "data": {
      "text/html": [
       "<a href='http://davaotoday.com/main/economy/health/davao-city-joins-other-davao-provinces-under-mgcq/'> Davao City joins other Davao provinces under MGCQ</a>"
      ],
      "text/plain": [
       "<IPython.core.display.HTML object>"
      ]
     },
     "metadata": {},
     "output_type": "display_data"
    },
    {
     "data": {
      "text/html": [
       "<a href='http://davaotoday.com/main/environment/davao-city-on-alert-for-tropical-depression-ambo/'> Davao City on alert for Tropical Depression Ambo</a>"
      ],
      "text/plain": [
       "<IPython.core.display.HTML object>"
      ]
     },
     "metadata": {},
     "output_type": "display_data"
    },
    {
     "data": {
      "text/html": [
       "<a href='http://davaotoday.com/main/headline/davao-business-sector-still-divided-on-martial-rule/'> Davao business sector still divided on martial rule</a>"
      ],
      "text/plain": [
       "<IPython.core.display.HTML object>"
      ]
     },
     "metadata": {},
     "output_type": "display_data"
    },
    {
     "data": {
      "text/html": [
       "<a href='https://www.mindanews.com/business/2020/05/davao-tourism-suffers-huge-drop-in-revenues-due-to-covid-19/'> Davao tourism suffers ‘huge drop’ in revenues due to COVID-19</a>"
      ],
      "text/plain": [
       "<IPython.core.display.HTML object>"
      ]
     },
     "metadata": {},
     "output_type": "display_data"
    },
    {
     "data": {
      "text/html": [
       "<a href='http://davaotoday.com/main/economy/health/davaos-barangay-23-c-on-hard-lockdown-due-to-covid-19/'> Davao’s Barangay 23-C on ‘hard lockdown’ due to Covid-19</a>"
      ],
      "text/plain": [
       "<IPython.core.display.HTML object>"
      ]
     },
     "metadata": {},
     "output_type": "display_data"
    },
    {
     "data": {
      "text/html": [
       "<a href='https://politics.com.ph/di-dilawan-robredo-abs-cbn-was-unfair-to-me-too/'> Di dilawan? Robredo: ABS-CBN was unfair to me too</a>"
      ],
      "text/plain": [
       "<IPython.core.display.HTML object>"
      ]
     },
     "metadata": {},
     "output_type": "display_data"
    },
    {
     "data": {
      "text/html": [
       "<a href='https://politics.com.ph/duterte-calls-fatal-shooting-of-troops-isolated-incident/'> Duterte calls fatal shooting of troops ‘isolated incident’</a>"
      ],
      "text/plain": [
       "<IPython.core.display.HTML object>"
      ]
     },
     "metadata": {},
     "output_type": "display_data"
    },
    {
     "data": {
      "text/html": [
       "<a href='https://politics.com.ph/duterte-claims-he-dismantled-filipino-oligarchy-they-take-advantage-of-their-political-power/'> Duterte claims he ‘dismantled’ Filipino oligarchy: They take advantage of their political power</a>"
      ],
      "text/plain": [
       "<IPython.core.display.HTML object>"
      ]
     },
     "metadata": {},
     "output_type": "display_data"
    },
    {
     "data": {
      "text/html": [
       "<a href='https://politics.com.ph/duterte-denies-hand-in-abs-cbn-franchise-death-congress-ang-nagpasara-niyan/'> Duterte denies hand in ABS-CBN franchise death: ‘Congress ang nagpasara niyan’</a>"
      ],
      "text/plain": [
       "<IPython.core.display.HTML object>"
      ]
     },
     "metadata": {},
     "output_type": "display_data"
    },
    {
     "data": {
      "text/html": [
       "<a href='https://www.interaksyon.com/politics-issues/2020/07/16/173057/duterte-extends-partial-restrictions-in-metro-manila-to-contain-covid-19/'> Duterte extends partial restrictions in Metro Manila to contain COVID-19</a>"
      ],
      "text/plain": [
       "<IPython.core.display.HTML object>"
      ]
     },
     "metadata": {},
     "output_type": "display_data"
    },
    {
     "data": {
      "text/html": [
       "<a href='https://www.mindanews.com/booksmindanews/2019/11/duterte-has-no-meranaw-roots-book-author-says/'> Duterte has no Meranaw roots, book author says</a>"
      ],
      "text/plain": [
       "<IPython.core.display.HTML object>"
      ]
     },
     "metadata": {},
     "output_type": "display_data"
    },
    {
     "data": {
      "text/html": [
       "<a href='https://politics.com.ph/duterte-ignores-locals-bright-bright-girls-of-media-hanggang-diyan-lang-sila/'> Duterte ignores ‘local, bright-bright girls’ of media: Hanggang diyan lang sila!</a>"
      ],
      "text/plain": [
       "<IPython.core.display.HTML object>"
      ]
     },
     "metadata": {},
     "output_type": "display_data"
    },
    {
     "data": {
      "text/html": [
       "<a href='https://politics.com.ph/duterte-invites-eddie-boy-lim-as-consultant-for-soldiers/'> Duterte invites Eddie Boy Lim as consultant for soldiers</a>"
      ],
      "text/plain": [
       "<IPython.core.display.HTML object>"
      ]
     },
     "metadata": {},
     "output_type": "display_data"
    },
    {
     "data": {
      "text/html": [
       "<a href='https://politics.com.ph/duterte-orders-transfer-of-remaining-govt-offices-in-zamboanga-to-pagadian/'> Duterte orders transfer of remaining gov’t offices in Zamboanga to Pagadian</a>"
      ],
      "text/plain": [
       "<IPython.core.display.HTML object>"
      ]
     },
     "metadata": {},
     "output_type": "display_data"
    },
    {
     "data": {
      "text/html": [
       "<a href='https://politics.com.ph/duterte-pa-more-charter-change-to-be-revived-for-no-el-2022/'> Duterte pa more! Charter change to be revived for ‘No-el’ 2022</a>"
      ],
      "text/plain": [
       "<IPython.core.display.HTML object>"
      ]
     },
     "metadata": {},
     "output_type": "display_data"
    },
    {
     "data": {
      "text/html": [
       "<a href='https://politics.com.ph/duterte-signs-anti-terror-bill-into-law/'> Duterte signs controversial anti-terror law</a>"
      ],
      "text/plain": [
       "<IPython.core.display.HTML object>"
      ]
     },
     "metadata": {},
     "output_type": "display_data"
    },
    {
     "data": {
      "text/html": [
       "<a href='https://politics.com.ph/duterte-tells-friends-to-get-into-business-while-hes-president-kung-yayaman-ka-diyan-mas-maligaya-ako/'> Duterte tells friends to get into business while he’s President: Kung yayaman ka diyan, mas maligaya ako!</a>"
      ],
      "text/plain": [
       "<IPython.core.display.HTML object>"
      ]
     },
     "metadata": {},
     "output_type": "display_data"
    },
    {
     "data": {
      "text/html": [
       "<a href='https://politics.com.ph/duterte-thinks-drilon-authored-onerous-water-deals-kaya-sya-nag-warning/'> Duterte thinks Drilon authored ‘onerous’ water deals: ‘Kaya s’ya nag warning’</a>"
      ],
      "text/plain": [
       "<IPython.core.display.HTML object>"
      ]
     },
     "metadata": {},
     "output_type": "display_data"
    },
    {
     "data": {
      "text/html": [
       "<a href='https://politics.com.ph/duterte-threatens-to-close-down-jt-express-wants-probe-into-alleged-cargo-mishandling/'> Duterte threatens to ‘close down’ J&T Express, wants probe into alleged cargo mishandling</a>"
      ],
      "text/plain": [
       "<IPython.core.display.HTML object>"
      ]
     },
     "metadata": {},
     "output_type": "display_data"
    },
    {
     "data": {
      "text/html": [
       "<a href='https://politics.com.ph/duterte-to-cebuanos-dont-fck-with-me-shape-up/'> Duterte to Cebuanos: ‘Don’t f*ck with me, shape up’</a>"
      ],
      "text/plain": [
       "<IPython.core.display.HTML object>"
      ]
     },
     "metadata": {},
     "output_type": "display_data"
    },
    {
     "data": {
      "text/html": [
       "<a href='https://politics.com.ph/duterte-transfers-rizal-capital-from-pasig-to-antipolo-city/'> Duterte transfers Rizal capital from Pasig to Antipolo City</a>"
      ],
      "text/plain": [
       "<IPython.core.display.HTML object>"
      ]
     },
     "metadata": {},
     "output_type": "display_data"
    },
    {
     "data": {
      "text/html": [
       "<a href='https://www.interaksyon.com/politics-issues/2020/07/14/172857/duterte-dismantling-oligarchy-definition/'> Duterte trumpets success ‘dismantling oligarchy.’ Why it’s confusing for some</a>"
      ],
      "text/plain": [
       "<IPython.core.display.HTML object>"
      ]
     },
     "metadata": {},
     "output_type": "display_data"
    },
    {
     "data": {
      "text/html": [
       "<a href='/Spotlight/Asia-Insight/Duterte-s-strongman-popularity-at-risk-from-COVID-19-recession'> Duterte's strongman popularity at risk from COVID-19 recession</a>"
      ],
      "text/plain": [
       "<IPython.core.display.HTML object>"
      ]
     },
     "metadata": {},
     "output_type": "display_data"
    },
    {
     "data": {
      "text/html": [
       "<a href='https://politics.com.ph/dutertes-job-to-gather-evidence-vs-maria-ressa-roque/'> Duterte’s ‘job’ to gather evidence vs Maria Ressa – Roque</a>"
      ],
      "text/plain": [
       "<IPython.core.display.HTML object>"
      ]
     },
     "metadata": {},
     "output_type": "display_data"
    },
    {
     "data": {
      "text/html": [
       "<a href='https://politics.com.ph/dutertes-oligarchy-remark-meant-for-lucio-tan-mvp-ayala-palace/'> Duterte’s ‘oligarchy’ remark meant for Lucio Tan, MVP, Ayala – Palace</a>"
      ],
      "text/plain": [
       "<IPython.core.display.HTML object>"
      ]
     },
     "metadata": {},
     "output_type": "display_data"
    },
    {
     "data": {
      "text/html": [
       "<a href='https://edgedavao.net/feature/2019/12/22/edge-davaos-and-zions-candyland-party/'> Edge Davao’s and Zion’s Candyland party</a>"
      ],
      "text/plain": [
       "<IPython.core.display.HTML object>"
      ]
     },
     "metadata": {},
     "output_type": "display_data"
    },
    {
     "data": {
      "text/html": [
       "<a href='https://politics.com.ph/erin-tanada-debate-with-mike-defensor-wont-renew-abs-cbn-franchise-restore-livelihood-of-workers/'> Erin Tañada: Debate with Mike Defensor won’t renew ABS-CBN franchise, restore livelihood of workers</a>"
      ],
      "text/plain": [
       "<IPython.core.display.HTML object>"
      ]
     },
     "metadata": {},
     "output_type": "display_data"
    },
    {
     "data": {
      "text/html": [
       "<a href='https://politics.com.ph/fallout-from-a-vote-abs-cbn-franchise-backers-to-lose-posts1/'> Fallout from a vote: ABS-CBN franchise backers to lose posts</a>"
      ],
      "text/plain": [
       "<IPython.core.display.HTML object>"
      ]
     },
     "metadata": {},
     "output_type": "display_data"
    },
    {
     "data": {
      "text/html": [
       "<a href='https://politics.com.ph/fascist-government-palace-says-jerry-gracio-should-never-have-agreed-to-serve-duterte-admin/'> Fascist government? Palace says Jerry Gracio should never have agreed to serve Duterte admin</a>"
      ],
      "text/plain": [
       "<IPython.core.display.HTML object>"
      ]
     },
     "metadata": {},
     "output_type": "display_data"
    },
    {
     "data": {
      "text/html": [
       "<a href='https://www.eaglenews.ph/flying-back-to-the-philippines-during-the-covid-19-pandemic-what-to-expect-in-the-new-normal/'> Flying back to the Philippines during the COVID-19 pandemic: what to expect in the “new normal”</a>"
      ],
      "text/plain": [
       "<IPython.core.display.HTML object>"
      ]
     },
     "metadata": {},
     "output_type": "display_data"
    },
    {
     "data": {
      "text/html": [
       "<a href='https://politics.com.ph/full-coronavirus-vaccine-unlikely-by-next-year-expert/'> Full coronavirus vaccine unlikely by next year: expert</a>"
      ],
      "text/plain": [
       "<IPython.core.display.HTML object>"
      ]
     },
     "metadata": {},
     "output_type": "display_data"
    },
    {
     "data": {
      "text/html": [
       "<a href='https://politics.com.ph/gcq-in-metro-manila-extended-till-month-end2/'> GCQ in Metro Manila extended till month-end</a>"
      ],
      "text/plain": [
       "<IPython.core.display.HTML object>"
      ]
     },
     "metadata": {},
     "output_type": "display_data"
    },
    {
     "data": {
      "text/html": [
       "<a href='https://politics.com.ph/good-job-alan-cayetano-calida-praises-house-for-killing-abs-cbn-franchise-bid/'> Good job Alan Cayetano! Calida praises House for killing ABS-CBN franchise bid</a>"
      ],
      "text/plain": [
       "<IPython.core.display.HTML object>"
      ]
     },
     "metadata": {},
     "output_type": "display_data"
    },
    {
     "data": {
      "text/html": [
       "<a href='https://politics.com.ph/goodbye-frequencies-marcoleta-says-unlikely-for-abs-cbn-to-be-granted-franchise-beyond-2022-paano-kung-may-ibang-binigyan-gobyerno/'> Goodbye frequencies! Marcoleta says unlikely for ABS-CBN to be granted franchise beyond 2022: Paano kung may ibang binigyan gobyerno?</a>"
      ],
      "text/plain": [
       "<IPython.core.display.HTML object>"
      ]
     },
     "metadata": {},
     "output_type": "display_data"
    },
    {
     "data": {
      "text/html": [
       "<a href='https://www.manilatimes.net/2020/07/15/news/latest-stories/govt-urged-to-tap-into-unused-abs-cbn-frequencies/742143/'> Gov’t urged to tap into unused ABS-CBN frequencies</a>"
      ],
      "text/plain": [
       "<IPython.core.display.HTML object>"
      ]
     },
     "metadata": {},
     "output_type": "display_data"
    },
    {
     "data": {
      "text/html": [
       "<a href='https://politics.com.ph/gretchen-barretto-still-a-duterte-loyalist-silent-on-abs-cbn-franchise-denial/'> Gretchen Barretto still a Duterte loyalist, silent on ABS-CBN franchise denial</a>"
      ],
      "text/plain": [
       "<IPython.core.display.HTML object>"
      ]
     },
     "metadata": {},
     "output_type": "display_data"
    },
    {
     "data": {
      "text/html": [
       "<a href='https://politics.com.ph/harry-roque-mum-on-dutertes-fresh-tirades-vs-lopezes-i-was-not-in-jolo/'> Harry Roque mum on Duterte’s fresh tirades vs Lopezes: ‘I was not in Jolo’</a>"
      ],
      "text/plain": [
       "<IPython.core.display.HTML object>"
      ]
     },
     "metadata": {},
     "output_type": "display_data"
    },
    {
     "data": {
      "text/html": [
       "<a href='http://davaotoday.com/main/culture-2/entertainment/health-advocates-want-test-centers-in-every-region-vs-covid-19/'> Health advocates want test centers in every region vs COVID-19</a>"
      ],
      "text/plain": [
       "<IPython.core.display.HTML object>"
      ]
     },
     "metadata": {},
     "output_type": "display_data"
    },
    {
     "data": {
      "text/html": [
       "<a href='http://davaotoday.com/main/culture-2/how-the-lumad-learned-to-survive-in-haran/'> How the Lumad learned to survive in Haran</a>"
      ],
      "text/plain": [
       "<IPython.core.display.HTML object>"
      ]
     },
     "metadata": {},
     "output_type": "display_data"
    },
    {
     "data": {
      "text/html": [
       "<a href='https://edgedavao.net/suburbia/2020/01/04/humanitarian-mission-provides-relief-in-davao-del-sur/'> Humanitarian mission provides relief in Davao del Sur</a>"
      ],
      "text/plain": [
       "<IPython.core.display.HTML object>"
      ]
     },
     "metadata": {},
     "output_type": "display_data"
    },
    {
     "data": {
      "text/html": [
       "<a href='https://www.eaglenews.ph/iglesia-ni-cristo-church-of-christ-in-hawaii-conducts-contact-free-aid-to-humanity-during-covid-19-crisis/'> Iglesia Ni Cristo (Church Of Christ) in Hawaii conducts contact-free Aid to Humanity during COVID-19 crisis</a>"
      ],
      "text/plain": [
       "<IPython.core.display.HTML object>"
      ]
     },
     "metadata": {},
     "output_type": "display_data"
    },
    {
     "data": {
      "text/html": [
       "<a href='https://www.eaglenews.ph/iglesia-ni-cristo-in-taiwan-holds-lingap-for-ofws/'> Iglesia Ni Cristo in Taiwan holds “Lingap for OFWs”</a>"
      ],
      "text/plain": [
       "<IPython.core.display.HTML object>"
      ]
     },
     "metadata": {},
     "output_type": "display_data"
    },
    {
     "data": {
      "text/html": [
       "<a href='https://politics.com.ph/imbento-lang-pangilinan-accuses-duterte-of-fabricating-oligarchy-issue-to-cover-up-dismal-covid-response/'> Imbento lang: Pangilinan accuses Duterte of fabricating oligarchy issue to cover up dismal COVID response</a>"
      ],
      "text/plain": [
       "<IPython.core.display.HTML object>"
      ]
     },
     "metadata": {},
     "output_type": "display_data"
    },
    {
     "data": {
      "text/html": [
       "<a href='https://www.eaglenews.ph/in-photos-president-duterte-undergoes-covid-19-test-along-with-sen-bong-go/'> In photos:  President Duterte undergoes COVID-19 test, along with Sen. Bong Go</a>"
      ],
      "text/plain": [
       "<IPython.core.display.HTML object>"
      ]
     },
     "metadata": {},
     "output_type": "display_data"
    },
    {
     "data": {
      "text/html": [
       "<a href='https://www.eaglenews.ph/in-photos-iglesia-ni-cristo-starts-lingap-sa-mamamayan-to-help-those-affected-by-mindanao-quakes/'> In photos: Iglesia Ni Cristo starts “Lingap sa Mamamayan” to help those affected by Mindanao quakes</a>"
      ],
      "text/plain": [
       "<IPython.core.display.HTML object>"
      ]
     },
     "metadata": {},
     "output_type": "display_data"
    },
    {
     "data": {
      "text/html": [
       "<a href='https://www.eaglenews.ph/in-photos-president-duterte-speaks-to-chinese-leader-xi-over-the-phone/'> In photos: President Duterte speaks to Chinese leader Xi over the phone</a>"
      ],
      "text/plain": [
       "<IPython.core.display.HTML object>"
      ]
     },
     "metadata": {},
     "output_type": "display_data"
    },
    {
     "data": {
      "text/html": [
       "<a href='http://davaotoday.com/main/davao-city/investors-organize-1st-branch-in-davao/'> Investors organize 1st branch in Davao</a>"
      ],
      "text/plain": [
       "<IPython.core.display.HTML object>"
      ]
     },
     "metadata": {},
     "output_type": "display_data"
    },
    {
     "data": {
      "text/html": [
       "<a href='https://edgedavao.net/suburbia/2019/11/15/isolated-lumads-hail-govt-attention-care/'> Isolated Lumads hail gov’t attention, care</a>"
      ],
      "text/plain": [
       "<IPython.core.display.HTML object>"
      ]
     },
     "metadata": {},
     "output_type": "display_data"
    },
    {
     "data": {
      "text/html": [
       "<a href='https://politics.com.ph/jonvic-remulla-reminds-kuya-boying-about-respect-civility-after-national-anthem-gaffe-abs-cbn-franchise-hearing/'> Jonvic Remulla reminds Kuya Boying about respect, civility after national anthem gaffe, ABS-CBN franchise hearing</a>"
      ],
      "text/plain": [
       "<IPython.core.display.HTML object>"
      ]
     },
     "metadata": {},
     "output_type": "display_data"
    },
    {
     "data": {
      "text/html": [
       "<a href='https://politics.com.ph/list-areas-under-mgcq-gcq-mecq-until-end-july/'> LIST: Areas under MGCQ, GCQ, MECQ until end-July</a>"
      ],
      "text/plain": [
       "<IPython.core.display.HTML object>"
      ]
     },
     "metadata": {},
     "output_type": "display_data"
    },
    {
     "data": {
      "text/html": [
       "<a href='https://politics.com.ph/laglagan-na-robredo-to-govt-spare-11k-workers-let-lopezes-be-liable-for-abs-cbns-violations/'> Laglagan na! Robredo to gov’t: Spare 11K workers, let Lopezes be liable for ABS-CBN’s ‘violations’</a>"
      ],
      "text/plain": [
       "<IPython.core.display.HTML object>"
      ]
     },
     "metadata": {},
     "output_type": "display_data"
    },
    {
     "data": {
      "text/html": [
       "<a href='https://politics.com.ph/1lawmaker-takes-offense-at-noted-abs-cbn-news-top-boss-does-a-kiko-pangilinan/'> Lawmaker takes offense at ‘noted’: ABS-CBN News’ top boss does a Kiko Pangilinan</a>"
      ],
      "text/plain": [
       "<IPython.core.display.HTML object>"
      ]
     },
     "metadata": {},
     "output_type": "display_data"
    },
    {
     "data": {
      "text/html": [
       "<a href='https://www.interaksyon.com/rumor-cop/2020/07/13/172719/leni-robredo-disowns-fake-ovp-anti-terror-law-e-mails-cautions-public-against-spoofing/'> Leni Robredo disowns fake OVP anti-terror law e-mail, cautions public against ‘spoofing’</a>"
      ],
      "text/plain": [
       "<IPython.core.display.HTML object>"
      ]
     },
     "metadata": {},
     "output_type": "display_data"
    },
    {
     "data": {
      "text/html": [
       "<a href='/Business/Technology/Lenovo-brings-foldable-PC-into-post-pandemic-working-world2'> Lenovo brings 'foldable' PC into post-pandemic working world</a>"
      ],
      "text/plain": [
       "<IPython.core.display.HTML object>"
      ]
     },
     "metadata": {},
     "output_type": "display_data"
    },
    {
     "data": {
      "text/html": [
       "<a href='https://politics.com.ph/lips-are-sealed-9-sulu-cops-keep-mum-over-soldiers-slay/'> Lips are sealed: 9 Sulu cops keep mum over soldiers’ slay</a>"
      ],
      "text/plain": [
       "<IPython.core.display.HTML object>"
      ]
     },
     "metadata": {},
     "output_type": "display_data"
    },
    {
     "data": {
      "text/html": [
       "<a href='https://www.eaglenews.ph/list-of-areas-quarantine-classifications-starting-july-16-until-july-31/'> List of areas, quarantine classifications starting July 16 until July 31</a>"
      ],
      "text/plain": [
       "<IPython.core.display.HTML object>"
      ]
     },
     "metadata": {},
     "output_type": "display_data"
    },
    {
     "data": {
      "text/html": [
       "<a href='https://politics.com.ph/magaling-man-sabit-din-nbi-nabs-hacker-who-shared-baste-dutertes-address/'> Magaling man sabit din! NBI nabs hacker who shared Baste Duterte’s address</a>"
      ],
      "text/plain": [
       "<IPython.core.display.HTML object>"
      ]
     },
     "metadata": {},
     "output_type": "display_data"
    },
    {
     "data": {
      "text/html": [
       "<a href='https://www.interaksyon.com/politics-issues/2020/07/13/172721/majority-of-filipinos-support-license-renewal-for-embattled-abs-cbn-poll/'> Majority of Filipinos support license renewal for embattled ABS-CBN — poll</a>"
      ],
      "text/plain": [
       "<IPython.core.display.HTML object>"
      ]
     },
     "metadata": {},
     "output_type": "display_data"
    },
    {
     "data": {
      "text/html": [
       "<a href='https://politics.com.ph/manghahawa-pa-chel-diokno-warns-of-virus-spread-as-cops-search-houses-for-covid-19-patients/'> Manghahawa pa! Chel Diokno warns of virus spread as cops search houses for COVID-19 patients</a>"
      ],
      "text/plain": [
       "<IPython.core.display.HTML object>"
      ]
     },
     "metadata": {},
     "output_type": "display_data"
    },
    {
     "data": {
      "text/html": [
       "<a href='https://www.eaglenews.ph/manila-to-close-business-establishments-lock-down-barangays-violating-quarantine-rules/'> Manila to close business establishments, lock down barangays violating quarantine rules</a>"
      ],
      "text/plain": [
       "<IPython.core.display.HTML object>"
      ]
     },
     "metadata": {},
     "output_type": "display_data"
    },
    {
     "data": {
      "text/html": [
       "<a href='https://politics.com.ph/mark-villar-infected-with-covid-19-netizens-tell-isolation-czar-to-get-well-soon/'> Mark Villar infected with COVID-19; Netizens tell isolation czar to get well soon</a>"
      ],
      "text/plain": [
       "<IPython.core.display.HTML object>"
      ]
     },
     "metadata": {},
     "output_type": "display_data"
    },
    {
     "data": {
      "text/html": [
       "<a href='https://www.mindanews.com/top-stories/2020/07/mayor-sara-lets-focus-on-covid-19-pandemic-not-running-for-president/'> Mayor Sara: Let’s focus on COVID-19 pandemic, not running for president</a>"
      ],
      "text/plain": [
       "<IPython.core.display.HTML object>"
      ]
     },
     "metadata": {},
     "output_type": "display_data"
    },
    {
     "data": {
      "text/html": [
       "<a href='http://davaotoday.com/main/politics/media-giant-abs-cbn-loses-franchise/'> Media giant ABS-CBN loses franchise</a>"
      ],
      "text/plain": [
       "<IPython.core.display.HTML object>"
      ]
     },
     "metadata": {},
     "output_type": "display_data"
    },
    {
     "data": {
      "text/html": [
       "<a href='https://www.manilatimes.net/2020/07/16/news/latest-stories/metro-manila-stays-under-gcq-until-july-31-cebu-city-back-to-mecq/742342/'> Metro Manila stays under GCQ until July 31; Cebu City back to MECQ</a>"
      ],
      "text/plain": [
       "<IPython.core.display.HTML object>"
      ]
     },
     "metadata": {},
     "output_type": "display_data"
    },
    {
     "data": {
      "text/html": [
       "<a href='http://davaotoday.com/main/politics/mindanao-solon-decision-to-deny-abs-cbn-franchise-contrary-to-findings/'> Mindanao solon: Decision to deny ABS-CBN franchise ‘contrary’ to findings</a>"
      ],
      "text/plain": [
       "<IPython.core.display.HTML object>"
      ]
     },
     "metadata": {},
     "output_type": "display_data"
    },
    {
     "data": {
      "text/html": [
       "<a href='http://davaotoday.com/main/headline/misor-wants-final-version-of-iatf-guidelines-on-backriding-policy/'> MisOr wants final version of IATF guidelines on backriding policy</a>"
      ],
      "text/plain": [
       "<IPython.core.display.HTML object>"
      ]
     },
     "metadata": {},
     "output_type": "display_data"
    },
    {
     "data": {
      "text/html": [
       "<a href='https://www.interaksyon.com/politics-issues/2020/07/15/172940/moderna-phase-1-results-show-coronavirus-vaccine-safe-induces-immune-response/'> Moderna Phase 1 results show coronavirus vaccine safe, induces immune response</a>"
      ],
      "text/plain": [
       "<IPython.core.display.HTML object>"
      ]
     },
     "metadata": {},
     "output_type": "display_data"
    },
    {
     "data": {
      "text/html": [
       "<a href='https://politics.com.ph/moro-moro-lang-hearings-alan-cayetano-abs-cbn-shutdown-inevitable/'> Moro-moro lang hearings! Alan Cayetano: ABS-CBN shutdown ‘inevitable’</a>"
      ],
      "text/plain": [
       "<IPython.core.display.HTML object>"
      ]
     },
     "metadata": {},
     "output_type": "display_data"
    },
    {
     "data": {
      "text/html": [
       "<a href='http://davaotoday.com/main/headline/most-davao-businesses-dont-have-continuity-plan-pcci/'> Most Davao businesses don’t have continuity plan – PCCI</a>"
      ],
      "text/plain": [
       "<IPython.core.display.HTML object>"
      ]
     },
     "metadata": {},
     "output_type": "display_data"
    },
    {
     "data": {
      "text/html": [
       "<a href='https://edgedavao.net/the-big-news/2020/06/26/most-stranded-individuals-are-davao-bound-airline-exec/'> Most stranded individuals are  Davao-bound: airline exec</a>"
      ],
      "text/plain": [
       "<IPython.core.display.HTML object>"
      ]
     },
     "metadata": {},
     "output_type": "display_data"
    },
    {
     "data": {
      "text/html": [
       "<a href='https://www.manilatimes.net/2020/07/16/news/regions/ncotabato-has-swine-flu-cases/742315/'> NCotabato has swine flu cases</a>"
      ],
      "text/plain": [
       "<IPython.core.display.HTML object>"
      ]
     },
     "metadata": {},
     "output_type": "display_data"
    },
    {
     "data": {
      "text/html": [
       "<a href='https://www.interaksyon.com/trends-spotlights/2020/07/15/172903/new-barter-trade-philippines-dti-illegal/'> New barter trade emerging as Filipinos cope with pandemic effects, but DTI says it’s illegal</a>"
      ],
      "text/plain": [
       "<IPython.core.display.HTML object>"
      ]
     },
     "metadata": {},
     "output_type": "display_data"
    },
    {
     "data": {
      "text/html": [
       "<a href='https://politics.com.ph/new-swine-flu-found-in-china-has-pandemic-potential3/'> New swine flu found in China has pandemic potential</a>"
      ],
      "text/plain": [
       "<IPython.core.display.HTML object>"
      ]
     },
     "metadata": {},
     "output_type": "display_data"
    },
    {
     "data": {
      "text/html": [
       "<a href='https://politics.com.ph/nilaro-nila-bayan-ko-duterte-claims-lopez-family-has-too-much-influence-on-elections/'> Nilaro nila bayan ko! Duterte claims Lopez family has too much influence on elections</a>"
      ],
      "text/plain": [
       "<IPython.core.display.HTML object>"
      ]
     },
     "metadata": {},
     "output_type": "display_data"
    },
    {
     "data": {
      "text/html": [
       "<a href='https://politics.com.ph/no-apologies-statement-on-articles-about-ph-red-cross-covid-19-testing-service/'> No apologies: Statement on articles about PH Red Cross COVID-19 testing service</a>"
      ],
      "text/plain": [
       "<IPython.core.display.HTML object>"
      ]
     },
     "metadata": {},
     "output_type": "display_data"
    },
    {
     "data": {
      "text/html": [
       "<a href='https://politics.com.ph/no-rush-to-renew-house-postpones-abs-cbns-franchise-hearings-by-1week/'> No rush to renew: House postpones ABS-CBN’s franchise hearings by 1week</a>"
      ],
      "text/plain": [
       "<IPython.core.display.HTML object>"
      ]
     },
     "metadata": {},
     "output_type": "display_data"
    },
    {
     "data": {
      "text/html": [
       "<a href='https://politics.com.ph/not-so-fast-inc-cbcp-has-best-shot-at-getting-abs-cbn-frequency-find-out-how/'> Not so fast INC: CBCP has best shot at getting ABS-CBN frequency. Find out how</a>"
      ],
      "text/plain": [
       "<IPython.core.display.HTML object>"
      ]
     },
     "metadata": {},
     "output_type": "display_data"
    },
    {
     "data": {
      "text/html": [
       "<a href='https://politics.com.ph/ph-covid-19-cases-near-59k-recoveries-close-to-21k/'> PH Covid-19 cases near 59k, recoveries close to  21K</a>"
      ],
      "text/plain": [
       "<IPython.core.display.HTML object>"
      ]
     },
     "metadata": {},
     "output_type": "display_data"
    },
    {
     "data": {
      "text/html": [
       "<a href='https://www.eaglenews.ph/pnp-recruitment-and-training-programs-to-resume-as-ncr-eases-to-gcq-on-june-1/'> PNP recruitment and training programs to resume as NCR eases to GCQ on June 1</a>"
      ],
      "text/plain": [
       "<IPython.core.display.HTML object>"
      ]
     },
     "metadata": {},
     "output_type": "display_data"
    },
    {
     "data": {
      "text/html": [
       "<a href='https://www.manilatimes.net/2020/07/16/business/business-top/psei-tumbles-on-quarantine-fears/742420/'> PSEi tumbles on quarantine fears</a>"
      ],
      "text/plain": [
       "<IPython.core.display.HTML object>"
      ]
     },
     "metadata": {},
     "output_type": "display_data"
    },
    {
     "data": {
      "text/html": [
       "<a href='https://politics.com.ph/pakitang-tao-pagbabasa-ni-cayetano-ng-bibliya-winnie-monsod-abs-cbns-franchise-bid-killed-coz-house-lacks-conscience/'> Pakitang tao pagbabasa ni Cayetano ng Bibliya! Winnie Monsod: ABS-CBN’s franchise bid killed ‘coz House lacks conscience</a>"
      ],
      "text/plain": [
       "<IPython.core.display.HTML object>"
      ]
     },
     "metadata": {},
     "output_type": "display_data"
    },
    {
     "data": {
      "text/html": [
       "<a href='https://www.manilatimes.net/2020/07/15/news/latest-stories/palace-assures-public-no-house-to-house-search-for-covid-19-patients/742147/'> Palace assures public: No ‘house-to-house’ search for Covid-19 patients</a>"
      ],
      "text/plain": [
       "<IPython.core.display.HTML object>"
      ]
     },
     "metadata": {},
     "output_type": "display_data"
    },
    {
     "data": {
      "text/html": [
       "<a href='https://www.manilatimes.net/2020/07/16/news/top-stories/palace-rejects-search-for-coronavirus-patients/742213/'> Palace rejects search for Coronavirus patients</a>"
      ],
      "text/plain": [
       "<IPython.core.display.HTML object>"
      ]
     },
     "metadata": {},
     "output_type": "display_data"
    },
    {
     "data": {
      "text/html": [
       "<a href='https://www.eaglenews.ph/palace-says-ncr-may-return-to-mecq-after-two-weeks-if-covid-19-cases-in-area-still-increase/'> Palace says NCR may return to MECQ after two weeks if no slowdown in COVID-19 transmission is seen</a>"
      ],
      "text/plain": [
       "<IPython.core.display.HTML object>"
      ]
     },
     "metadata": {},
     "output_type": "display_data"
    },
    {
     "data": {
      "text/html": [
       "<a href='https://www.eaglenews.ph/palace-covid-19-cases-reported-to-govt-not-qualified-for-home-quarantine-to-be-transferred-to-quarantine-facilities-to-prevent-covid-19-spread/'> Palace: COVID-19 cases reported to gov’t, not qualified for home quarantine to be transferred to quarantine facilities to prevent COVID-19 spread</a>"
      ],
      "text/plain": [
       "<IPython.core.display.HTML object>"
      ]
     },
     "metadata": {},
     "output_type": "display_data"
    },
    {
     "data": {
      "text/html": [
       "<a href='https://politics.com.ph/patraydor-pumatay-nbi-autopsy-findings-show-sulu-cops-peppered-soldiers-with-bullets/'> Patraydor pumatay! NBI autopsy findings show Sulu cops peppered soldiers with bullets</a>"
      ],
      "text/plain": [
       "<IPython.core.display.HTML object>"
      ]
     },
     "metadata": {},
     "output_type": "display_data"
    },
    {
     "data": {
      "text/html": [
       "<a href='https://politics.com.ph/payback-time-boying-remulla-wants-abs-cbn-to-suffer-renewing-franchise-after-ridiculing-congress-for-33-years/'> Payback time! Boying Remulla wants ABS-CBN to suffer renewing franchise after ‘ridiculing’ Congress for 33 years</a>"
      ],
      "text/plain": [
       "<IPython.core.display.HTML object>"
      ]
     },
     "metadata": {},
     "output_type": "display_data"
    },
    {
     "data": {
      "text/html": [
       "<a href='http://davaotoday.com/main/politics/petitions-vs-anti-terror-law-grow-in-number/'> Petitions vs anti-terror law grow in number</a>"
      ],
      "text/plain": [
       "<IPython.core.display.HTML object>"
      ]
     },
     "metadata": {},
     "output_type": "display_data"
    },
    {
     "data": {
      "text/html": [
       "<a href='https://politics.com.ph/philippine-police-deployed-as-virus-cases-forced-into-quarantine/'> Philippine police deployed as virus cases forced into quarantine</a>"
      ],
      "text/plain": [
       "<IPython.core.display.HTML object>"
      ]
     },
     "metadata": {},
     "output_type": "display_data"
    },
    {
     "data": {
      "text/html": [
       "<a href='https://www.interaksyon.com/politics-issues/2020/07/15/172919/philippines-to-use-police-in-house-to-house-searches-for-covid-19-cases/'> Philippines to use police in house-to-house searches for COVID-19 cases</a>"
      ],
      "text/plain": [
       "<IPython.core.display.HTML object>"
      ]
     },
     "metadata": {},
     "output_type": "display_data"
    },
    {
     "data": {
      "text/html": [
       "<a href='https://politics.com.ph/philippines-wont-abandon-south-china-sea-arbitration-win-against-beijing-palace/'> Philippines won’t abandon South China Sea arbitration win against Beijing: Palace</a>"
      ],
      "text/plain": [
       "<IPython.core.display.HTML object>"
      ]
     },
     "metadata": {},
     "output_type": "display_data"
    },
    {
     "data": {
      "text/html": [
       "<a href='https://www.eaglenews.ph/president-duterte-visits-soldiers-in-sulu/'> President Duterte visits soldiers in Sulu</a>"
      ],
      "text/plain": [
       "<IPython.core.display.HTML object>"
      ]
     },
     "metadata": {},
     "output_type": "display_data"
    },
    {
     "data": {
      "text/html": [
       "<a href='https://politics.com.ph/live_streaming/president-rodrigo-duterte-addresses-the-public-may-25-2020/'> President Rodrigo Duterte addresses the public May 25, 2020</a>"
      ],
      "text/plain": [
       "<IPython.core.display.HTML object>"
      ]
     },
     "metadata": {},
     "output_type": "display_data"
    },
    {
     "data": {
      "text/html": [
       "<a href='https://politics.com.ph/live_streaming/president-rodrigo-duterte-addresses-the-public-may-28-2020/'> President Rodrigo Duterte addresses the public May 28, 2020</a>"
      ],
      "text/plain": [
       "<IPython.core.display.HTML object>"
      ]
     },
     "metadata": {},
     "output_type": "display_data"
    },
    {
     "data": {
      "text/html": [
       "<a href='https://www.eaglenews.ph/qc-legislative-building-temporarily-closed-starting-today-after-3-city-councilors-some-staff-members-test-positive-for-covid-19/'> QC legislative building temporarily closed starting today after 3 city councilors, some staff members test positive for COVID-19</a>"
      ],
      "text/plain": [
       "<IPython.core.display.HTML object>"
      ]
     },
     "metadata": {},
     "output_type": "display_data"
    },
    {
     "data": {
      "text/html": [
       "<a href='http://retiredanalyst.blogspot.com/2020/07/lorenzana-on-quarantine-anew-as-staff.html'> Retired Analyst:  Lorenzana on quarantine anew as staff positive for Covid-19</a>"
      ],
      "text/plain": [
       "<IPython.core.display.HTML object>"
      ]
     },
     "metadata": {},
     "output_type": "display_data"
    },
    {
     "data": {
      "text/html": [
       "<a href='http://retiredanalyst.blogspot.com/2020/07/11-former-npas-receive-almost-php-1m.html'> Retired Analyst: 11 former NPAs receive almost Php 1M Government Grants</a>"
      ],
      "text/plain": [
       "<IPython.core.display.HTML object>"
      ]
     },
     "metadata": {},
     "output_type": "display_data"
    },
    {
     "data": {
      "text/html": [
       "<a href='http://retiredanalyst.blogspot.com/2020/07/15-npa-rebels-yield-in-socot-sarangani.html'> Retired Analyst: 15 NPA rebels yield in SoCot, Sarangani</a>"
      ],
      "text/plain": [
       "<IPython.core.display.HTML object>"
      ]
     },
     "metadata": {},
     "output_type": "display_data"
    },
    {
     "data": {
      "text/html": [
       "<a href='http://retiredanalyst.blogspot.com/2020/07/busy-sked-awaits-brp-jose-rizal-crew-in.html'> Retired Analyst: Busy sked awaits BRP Jose Rizal crew in Hawaii maritime exercise</a>"
      ],
      "text/plain": [
       "<IPython.core.display.HTML object>"
      ]
     },
     "metadata": {},
     "output_type": "display_data"
    },
    {
     "data": {
      "text/html": [
       "<a href='http://retiredanalyst.blogspot.com/2020/07/cpp-npa-suffers-huge-blow-as-4.html'> Retired Analyst: CPP-NPA suffers ‘huge blow’ as 4 officials fall in NegOcc</a>"
      ],
      "text/plain": [
       "<IPython.core.display.HTML object>"
      ]
     },
     "metadata": {},
     "output_type": "display_data"
    },
    {
     "data": {
      "text/html": [
       "<a href='http://retiredanalyst.blogspot.com/2020/07/defense-chief-urges-for-rules-based.html'> Retired Analyst: Defense chief urges for 'rules-based' order in South China Sea </a>"
      ],
      "text/plain": [
       "<IPython.core.display.HTML object>"
      ]
     },
     "metadata": {},
     "output_type": "display_data"
    },
    {
     "data": {
      "text/html": [
       "<a href='http://retiredanalyst.blogspot.com/2020/07/duterte-wants-orthopedic-surgeon-friend.html'> Retired Analyst: Duterte wants orthopedic surgeon friend to work for AFP</a>"
      ],
      "text/plain": [
       "<IPython.core.display.HTML object>"
      ]
     },
     "metadata": {},
     "output_type": "display_data"
    },
    {
     "data": {
      "text/html": [
       "<a href='http://retiredanalyst.blogspot.com/2020/07/govt-troops-nab-npa-purge-executioner.html'> Retired Analyst: Gov't troops nab NPA purge executioner in Leyte </a>"
      ],
      "text/plain": [
       "<IPython.core.display.HTML object>"
      ]
     },
     "metadata": {},
     "output_type": "display_data"
    },
    {
     "data": {
      "text/html": [
       "<a href='http://retiredanalyst.blogspot.com/2020/07/kalinga-welcomes-2-npa-surrenderers.html'> Retired Analyst: Kalinga welcomes 2 NPA surrenderers</a>"
      ],
      "text/plain": [
       "<IPython.core.display.HTML object>"
      ]
     },
     "metadata": {},
     "output_type": "display_data"
    },
    {
     "data": {
      "text/html": [
       "<a href='http://retiredanalyst.blogspot.com/2020/07/npa-bombing-suspect-nabbed-in-nocot.html'> Retired Analyst: NPA bombing suspect nabbed in NoCot </a>"
      ],
      "text/plain": [
       "<IPython.core.display.HTML object>"
      ]
     },
     "metadata": {},
     "output_type": "display_data"
    },
    {
     "data": {
      "text/html": [
       "<a href='http://retiredanalyst.blogspot.com/2020/07/npa-purge-executioner-in-leyte-arrested.html'> Retired Analyst: NPA purge executioner in Leyte arrested</a>"
      ],
      "text/plain": [
       "<IPython.core.display.HTML object>"
      ]
     },
     "metadata": {},
     "output_type": "display_data"
    },
    {
     "data": {
      "text/html": [
       "<a href='http://retiredanalyst.blogspot.com/2020/07/navy-personnel-in-frigate-rites-ordered.html'> Retired Analyst: Navy personnel in frigate rites ordered to go on self-quarantine</a>"
      ],
      "text/plain": [
       "<IPython.core.display.HTML object>"
      ]
     },
     "metadata": {},
     "output_type": "display_data"
    },
    {
     "data": {
      "text/html": [
       "<a href='http://retiredanalyst.blogspot.com/2020/07/roadside-bomb-barely-misses-soldiers-in.html'> Retired Analyst: Roadside bomb barely misses soldiers in Maguindanao</a>"
      ],
      "text/plain": [
       "<IPython.core.display.HTML object>"
      ]
     },
     "metadata": {},
     "output_type": "display_data"
    },
    {
     "data": {
      "text/html": [
       "<a href='https://politics.com.ph/robredo-scores-paolo-dutertes-proposal-to-rename-naia-nasa-gitna-ng-pandemya-ito-pa-talaga-maiisip/'> Robredo scores Paolo Duterte’s proposal to rename NAIA: Nasa gitna ng pandemya, ito pa talaga maiisip!</a>"
      ],
      "text/plain": [
       "<IPython.core.display.HTML object>"
      ]
     },
     "metadata": {},
     "output_type": "display_data"
    },
    {
     "data": {
      "text/html": [
       "<a href='https://edgedavao.net/special-supplement/2020/03/17/some-things-you-need-to-know-about-davao-city/'> SOME THINGS YOU NEED TO KNOW ABOUT DAVAO CITY</a>"
      ],
      "text/plain": [
       "<IPython.core.display.HTML object>"
      ]
     },
     "metadata": {},
     "output_type": "display_data"
    },
    {
     "data": {
      "text/html": [
       "<a href='https://www.mindanews.com/special-reports/2020/07/special-report-policy-review-of-waste-management-needed-as-davao-city-grapples-with-household-ppe-waste/'> SPECIAL REPORT: Policy review of waste management needed as Davao City grapples with household PPE waste</a>"
      ],
      "text/plain": [
       "<IPython.core.display.HTML object>"
      ]
     },
     "metadata": {},
     "output_type": "display_data"
    },
    {
     "data": {
      "text/html": [
       "<a href='http://davaotoday.com/main/stand-point/statement-journalists-and-media-workers-on-the-denial-of-the-abs-cbn-franchise/'> STATEMENT | Journalists and media workers on the denial of the ABS-CBN franchise</a>"
      ],
      "text/plain": [
       "<IPython.core.display.HTML object>"
      ]
     },
     "metadata": {},
     "output_type": "display_data"
    },
    {
     "data": {
      "text/html": [
       "<a href='https://www.mindanews.com/peace-process/2020/01/senate-asks-bta-to-name-reps-to-congress-bangsamoro-parliament-forum/'> Senate asks BTA to name reps to Congress-Bangsamoro Parliament Forum</a>"
      ],
      "text/plain": [
       "<IPython.core.display.HTML object>"
      ]
     },
     "metadata": {},
     "output_type": "display_data"
    },
    {
     "data": {
      "text/html": [
       "<a href='https://www.eaglenews.ph/senator-dela-rosa-posts-photo-of-pnp-chief-gamboa-in-hospital-to-show-that-hes-okay/'> Senator Dela Rosa posts photo of PNP chief Gamboa in hospital to show that he’s okay</a>"
      ],
      "text/plain": [
       "<IPython.core.display.HTML object>"
      ]
     },
     "metadata": {},
     "output_type": "display_data"
    },
    {
     "data": {
      "text/html": [
       "<a href='http://davaotoday.com/main/human-rights/seven-lumad-arrested-tagged-as-npa-in-misamis-oriental/'> Seven Lumad arrested, tagged as NPA in Misamis Oriental</a>"
      ],
      "text/plain": [
       "<IPython.core.display.HTML object>"
      ]
     },
     "metadata": {},
     "output_type": "display_data"
    },
    {
     "data": {
      "text/html": [
       "<a href='https://politics.com.ph/si-ate-vi-lang-kumampi-find-out-the-4-ex-celebrities-who-voted-against-abs-cbn/'> Si Ate Vi lang kumampi! Find out the 4 ex-celebrities who voted against ABS-CBN</a>"
      ],
      "text/plain": [
       "<IPython.core.display.HTML object>"
      ]
     },
     "metadata": {},
     "output_type": "display_data"
    },
    {
     "data": {
      "text/html": [
       "<a href='https://politics.com.ph/singapore-pms-brother-joins-opposition-before-polls/'> Singapore PM’s brother joins opposition before polls</a>"
      ],
      "text/plain": [
       "<IPython.core.display.HTML object>"
      ]
     },
     "metadata": {},
     "output_type": "display_data"
    },
    {
     "data": {
      "text/html": [
       "<a href='/Politics/Singapore-election/Singapore-election-cheers-business-but-COVID-19-worries-remain'> Singapore election cheers business but COVID-19 worries remain</a>"
      ],
      "text/plain": [
       "<IPython.core.display.HTML object>"
      ]
     },
     "metadata": {},
     "output_type": "display_data"
    },
    {
     "data": {
      "text/html": [
       "<a href='https://www.mindanews.com/business/2020/07/socssksargen-investments-php-1-93-b-in-q1-2019-php-69-m-in-q1-2020-due-to-covid-19/'> Socssksargen investments: PhP 1.93-B in Q1 2019. PhP 69-M in Q1 2020 due to COVID-19</a>"
      ],
      "text/plain": [
       "<IPython.core.display.HTML object>"
      ]
     },
     "metadata": {},
     "output_type": "display_data"
    },
    {
     "data": {
      "text/html": [
       "<a href='https://www.manilatimes.net/2020/07/16/news/headlines/some-areas-to-go-back-to-gcq-palace/742228/'> Some areas to go back to GCQ – Palace</a>"
      ],
      "text/plain": [
       "<IPython.core.display.HTML object>"
      ]
     },
     "metadata": {},
     "output_type": "display_data"
    },
    {
     "data": {
      "text/html": [
       "<a href='https://edgedavao.net/competitive-edge/2020/07/01/splash-corp-makes-nationwide-donation-as-hospitals-continue-to-battle-covid-19/'> Splash Corp. Makes Nationwide Donation as Hospitals Continue to Battle COVID-19</a>"
      ],
      "text/plain": [
       "<IPython.core.display.HTML object>"
      ]
     },
     "metadata": {},
     "output_type": "display_data"
    },
    {
     "data": {
      "text/html": [
       "<a href='http://davaotoday.com/main/politics/survey-shows-majority-support-for-abs-cbn/'> Survey shows majority support for ABS-CBN</a>"
      ],
      "text/plain": [
       "<IPython.core.display.HTML object>"
      ]
     },
     "metadata": {},
     "output_type": "display_data"
    },
    {
     "data": {
      "text/html": [
       "<a href='https://politics.com.ph/tapos-maliligayang-araw-ntc-wants-abs-cbn-to-stop-airing-shows-on-digital-channel-asap/'> Tapos maliligayang araw! NTC wants ABS-CBN to stop airing shows on digital channel ASAP</a>"
      ],
      "text/plain": [
       "<IPython.core.display.HTML object>"
      ]
     },
     "metadata": {},
     "output_type": "display_data"
    },
    {
     "data": {
      "text/html": [
       "<a href='http://davaotoday.com/main/todays-views/terrorizing-the-people-with-the-anti-terror-bill/'> Terrorizing the people with the anti-terror bill</a>"
      ],
      "text/plain": [
       "<IPython.core.display.HTML object>"
      ]
     },
     "metadata": {},
     "output_type": "display_data"
    },
    {
     "data": {
      "text/html": [
       "<a href='https://politics.com.ph/tokhang-3-0-nupl-fears-abuse-as-cops-hunt-for-covid-19-patients/'> Tokhang 3.0? NUPL fears abuse as cops hunt for COVID-19 patients</a>"
      ],
      "text/plain": [
       "<IPython.core.display.HTML object>"
      ]
     },
     "metadata": {},
     "output_type": "display_data"
    },
    {
     "data": {
      "text/html": [
       "<a href='https://www.eaglenews.ph/tokyo-on-top-virus-alert-level-after-new-cases/'> Tokyo on top virus alert level after new cases</a>"
      ],
      "text/plain": [
       "<IPython.core.display.HTML object>"
      ]
     },
     "metadata": {},
     "output_type": "display_data"
    },
    {
     "data": {
      "text/html": [
       "<a href='https://politics.com.ph/top-tweets-carlo-katigbak-11-pro-abs-cbn-lawmakers-heap-praises-trillanes-vs-remulla-kapamilya-journos-battered-not-broken/'> Top tweets: Carlo Katigbak, 11 pro-ABS-CBN lawmakers reap praises; Trillanes vs Remulla; Kapamilya journos battered not broken</a>"
      ],
      "text/plain": [
       "<IPython.core.display.HTML object>"
      ]
     },
     "metadata": {},
     "output_type": "display_data"
    },
    {
     "data": {
      "text/html": [
       "<a href='https://politics.com.ph/tumulong-na-lang-kesa-dumaldal-palace-slams-robredo-for-saying-govt-in-denial-over-lapses-in-covid-19-response/'> Tumulong na lang kesa dumaldal! Palace slams Robredo for saying gov’t ‘in denial’ over lapses in COVID-19 response</a>"
      ],
      "text/plain": [
       "<IPython.core.display.HTML object>"
      ]
     },
     "metadata": {},
     "output_type": "display_data"
    },
    {
     "data": {
      "text/html": [
       "<a href='http://davaotoday.com/main/headline/up-mindanao-postpones-events-in-wake-of-covid-19-threat/'> UP Mindanao postpones events in wake of COVID-19 threat</a>"
      ],
      "text/plain": [
       "<IPython.core.display.HTML object>"
      ]
     },
     "metadata": {},
     "output_type": "display_data"
    },
    {
     "data": {
      "text/html": [
       "<a href='http://davaotoday.com/main/economy/health/up-scientists-to-roque-statistics-show-ph-not-winning-vs-covid-19/'> UP scientists to Roque: statistics show PH not winning vs Covid-19</a>"
      ],
      "text/plain": [
       "<IPython.core.display.HTML object>"
      ]
     },
     "metadata": {},
     "output_type": "display_data"
    },
    {
     "data": {
      "text/html": [
       "<a href='https://www.eaglenews.ph/us-aircraft-carriers-conduct-drills-in-south-china-sea/'> US aircraft carriers conduct drills in South China Sea</a>"
      ],
      "text/plain": [
       "<IPython.core.display.HTML object>"
      ]
     },
     "metadata": {},
     "output_type": "display_data"
    },
    {
     "data": {
      "text/html": [
       "<a href='https://politics.com.ph/us-brands-beijings-south-china-sea-claims-illegal/'> US brands Beijing’s South China Sea claims illegal</a>"
      ],
      "text/plain": [
       "<IPython.core.display.HTML object>"
      ]
     },
     "metadata": {},
     "output_type": "display_data"
    },
    {
     "data": {
      "text/html": [
       "<a href='https://www.eaglenews.ph/us-government-to-give-additional-p201-million-covid-19-aid-for-mindanao/'> US government to give additional P201 million COVID-19 aid for Mindanao</a>"
      ],
      "text/plain": [
       "<IPython.core.display.HTML object>"
      ]
     },
     "metadata": {},
     "output_type": "display_data"
    },
    {
     "data": {
      "text/html": [
       "<a href='/Politics/International-relations/South-China-Sea/US-rejects-China-s-nine-dash-line-in-South-China-Sea'> US rejects China's 'nine-dash line' in South China Sea</a>"
      ],
      "text/plain": [
       "<IPython.core.display.HTML object>"
      ]
     },
     "metadata": {},
     "output_type": "display_data"
    },
    {
     "data": {
      "text/html": [
       "<a href='https://www.interaksyon.com/politics-issues/2020/07/15/172921/us-rejects-chinas-claims-in-south-china-sea-adding-to-tensions/'> US rejects China’s claims in South China Sea, adding to tensions</a>"
      ],
      "text/plain": [
       "<IPython.core.display.HTML object>"
      ]
     },
     "metadata": {},
     "output_type": "display_data"
    },
    {
     "data": {
      "text/html": [
       "<a href='http://davaotoday.com/main/human-rights/union-slams-red-tagging-by-vice-mayor-during-labor-settlement/'> Union slams red-tagging by vice mayor during labor settlement</a>"
      ],
      "text/plain": [
       "<IPython.core.display.HTML object>"
      ]
     },
     "metadata": {},
     "output_type": "display_data"
    },
    {
     "data": {
      "text/html": [
       "<a href='https://www.manilatimes.net/2020/07/16/news/national/unraveling-the-new-coronavirus/742220/'> Unraveling the new coronavirus</a>"
      ],
      "text/plain": [
       "<IPython.core.display.HTML object>"
      ]
     },
     "metadata": {},
     "output_type": "display_data"
    },
    {
     "data": {
      "text/html": [
       "<a href='https://www.manilatimes.net/2020/07/16/business/business-top/upscaling-capabilities-for-digital-economy-a-must/742440/'> Upscaling capabilities for digital economy a must</a>"
      ],
      "text/plain": [
       "<IPython.core.display.HTML object>"
      ]
     },
     "metadata": {},
     "output_type": "display_data"
    },
    {
     "data": {
      "text/html": [
       "<a href='https://www.interaksyon.com/celebrities/2020/07/10/172672/voting-rules-on-abs-cbns-franchise-renewal-made-last-minute-confusing-hashtags-on-social-media/'> Voting rules on ABS-CBN’s franchise renewal made last-minute confusing hashtags on social media</a>"
      ],
      "text/plain": [
       "<IPython.core.display.HTML object>"
      ]
     },
     "metadata": {},
     "output_type": "display_data"
    },
    {
     "data": {
      "text/html": [
       "<a href='https://www.manilatimes.net/2020/07/16/editorial-cartoons/world-economy-down-under/742391/'> WORLD ECONOMY DOWN UNDER</a>"
      ],
      "text/plain": [
       "<IPython.core.display.HTML object>"
      ]
     },
     "metadata": {},
     "output_type": "display_data"
    },
    {
     "data": {
      "text/html": [
       "<a href='https://politics.com.ph/wa-epek-paawa-bbc-journalist-calls-out-ressas-lies-on-press-freedoms-death-under-duterte/'> Wa epek paawa! BBC journalist calls out Ressa’s lies on press freedom’s ‘death’ under Duterte</a>"
      ],
      "text/plain": [
       "<IPython.core.display.HTML object>"
      ]
     },
     "metadata": {},
     "output_type": "display_data"
    },
    {
     "data": {
      "text/html": [
       "<a href='https://politics.com.ph/walang-basehan-tony-la-vina-house-report-on-abs-cbn-franchise-denial-deserves-failing-grade/'> Walang basehan! Tony La Viña: House report on ABS-CBN franchise denial deserves failing grade</a>"
      ],
      "text/plain": [
       "<IPython.core.display.HTML object>"
      ]
     },
     "metadata": {},
     "output_type": "display_data"
    },
    {
     "data": {
      "text/html": [
       "<a href='https://www.interaksyon.com/politics-issues/2020/07/14/172868/palace-hospitals-healthcare-beds-capacity-covid19/'> What Palace said (and what hospitals now say) on COVID-19 healthcare capacity</a>"
      ],
      "text/plain": [
       "<IPython.core.display.HTML object>"
      ]
     },
     "metadata": {},
     "output_type": "display_data"
    },
    {
     "data": {
      "text/html": [
       "<a href='https://www.interaksyon.com/politics-issues/2020/07/10/172652/whos-who-a-rundown-of-votes-during-abs-cbn-franchise-renewal-final-hearing/'> Who’s who: A rundown of votes during ABS-CBN franchise renewal final hearing</a>"
      ],
      "text/plain": [
       "<IPython.core.display.HTML object>"
      ]
     },
     "metadata": {},
     "output_type": "display_data"
    },
    {
     "data": {
      "text/html": [
       "<a href='https://www.interaksyon.com/politics-issues/2020/07/14/172839/why-doctors-on-social-media-are-puzzled-by-palace-remark-that-duterte-is-88-healthy/'> Why doctors on social media are puzzled by Palace remark that Duterte is 88% healthy</a>"
      ],
      "text/plain": [
       "<IPython.core.display.HTML object>"
      ]
     },
     "metadata": {},
     "output_type": "display_data"
    },
    {
     "data": {
      "text/html": [
       "<a href='https://politics.com.ph/world-hunger-worsening-as-coronavirus-weighs-and-obesity-rises-un/'> World hunger worsening as coronavirus weighs and obesity rises: UN</a>"
      ],
      "text/plain": [
       "<IPython.core.display.HTML object>"
      ]
     },
     "metadata": {},
     "output_type": "display_data"
    },
    {
     "data": {
      "text/html": [
       "<a href='https://www.mindanews.com/top-stories/2020/07/zambo-and-butuan-cities-basilan-and-agusan-del-norte-back-to-gcq-davao-city-remains-under-mgcq/'> Zambo and Butuan cities, Basilan and Agusan del Norte back to GCQ; Davao City remains under MGCQ</a>"
      ],
      "text/plain": [
       "<IPython.core.display.HTML object>"
      ]
     },
     "metadata": {},
     "output_type": "display_data"
    },
    {
     "data": {
      "text/html": [
       "<a href='https://www.interaksyon.com/trends-spotlights/2020/07/15/172927/activists-not-terrorists-greta-thunberg-calls-for-repeal-of-philippines-anti-terror-law/'> ‘Activists not terrorists’: Greta Thunberg calls for repeal of Philippines’ anti-terror law</a>"
      ],
      "text/plain": [
       "<IPython.core.display.HTML object>"
      ]
     },
     "metadata": {},
     "output_type": "display_data"
    },
    {
     "data": {
      "text/html": [
       "<a href='https://www.interaksyon.com/politics-issues/2020/07/13/172752/anyare-how-dohs-failure-to-report-covid-19-case-tally-affected-filipinos/'> ‘Anyare?’ How DOH’s failure to report COVID-19 case tally affected Filipinos</a>"
      ],
      "text/plain": [
       "<IPython.core.display.HTML object>"
      ]
     },
     "metadata": {},
     "output_type": "display_data"
    },
    {
     "data": {
      "text/html": [
       "<a href='https://politics.com.ph/bilog-ang-mundo-sharon-cuneta-hits-back-at-house-for-burning-down-abs-cbn-house-killing-kapamilya/'> ‘Bilog ang mundo:’ Sharon Cuneta hits back at House for ‘burning down’ ABS-CBN house, ‘killing’ kapamilya</a>"
      ],
      "text/plain": [
       "<IPython.core.display.HTML object>"
      ]
     },
     "metadata": {},
     "output_type": "display_data"
    },
    {
     "data": {
      "text/html": [
       "<a href='https://politics.com.ph/binaboy-ako-duterte-slams-kapamilya-network-over-foreign-subsidiaries-tax-free-equipment/'> ‘Binaboy ako’: Duterte slams Kapamilya network over foreign subsidiaries, tax-free equipment</a>"
      ],
      "text/plain": [
       "<IPython.core.display.HTML object>"
      ]
     },
     "metadata": {},
     "output_type": "display_data"
    },
    {
     "data": {
      "text/html": [
       "<a href='https://politics.com.ph/dati-na-siyang-mayaman-dennis-uy-not-a-duterte-crony-says-palace/'> ‘Dati na siyang mayaman’: Dennis Uy not a Duterte crony, says Palace</a>"
      ],
      "text/plain": [
       "<IPython.core.display.HTML object>"
      ]
     },
     "metadata": {},
     "output_type": "display_data"
    },
    {
     "data": {
      "text/html": [
       "<a href='https://politics.com.ph/di-aabot-sa-sampung-boto-iglesia-ni-cristo-pulong-duterte-team-up-to-kill-abs-cbns-franchise-bid/'> ‘Di aabot sa sampung boto! Iglesia Ni Cristo, Pulong Duterte team up to kill ABS-CBN’s franchise bid</a>"
      ],
      "text/plain": [
       "<IPython.core.display.HTML object>"
      ]
     },
     "metadata": {},
     "output_type": "display_data"
    },
    {
     "data": {
      "text/html": [
       "<a href='https://politics.com.ph/di-ako-politiko-mike-defensors-daughter-distances-self-from-dads-haters-over-abs-cbn-vote/'> ‘Di ako politiko! Mike Defensor’s daughter distances self from dad’s haters over ABS-CBN vote</a>"
      ],
      "text/plain": [
       "<IPython.core.display.HTML object>"
      ]
     },
     "metadata": {},
     "output_type": "display_data"
    },
    {
     "data": {
      "text/html": [
       "<a href='https://politics.com.ph/di-kuntento-sa-pagkatay-sa-abs-cbn-defensor-smells-blood-moves-to-kill-lopez-oligarchy-in-power/'> ‘Di kuntento sa pagkatay sa ABS-CBN! Defensor smells blood, moves to kill Lopez ‘oligarchy’ in power</a>"
      ],
      "text/plain": [
       "<IPython.core.display.HTML object>"
      ]
     },
     "metadata": {},
     "output_type": "display_data"
    },
    {
     "data": {
      "text/html": [
       "<a href='https://politics.com.ph/di-magpapadala-sa-pressure-guevarra-vows-conscience-will-prevail-in-dojs-review-of-anti-terror-bill/'> ‘Di magpapadala sa pressure! Guevarra vows conscience will prevail in DOJ’s review of anti-terror bill</a>"
      ],
      "text/plain": [
       "<IPython.core.display.HTML object>"
      ]
     },
     "metadata": {},
     "output_type": "display_data"
    },
    {
     "data": {
      "text/html": [
       "<a href='https://politics.com.ph/di-nanlaban-nbi-finds-no-proof-slain-soldiers-fired-at-jolo-cops/'> ‘Di nanlaban! NBI finds no proof slain soldiers fired at Jolo cops</a>"
      ],
      "text/plain": [
       "<IPython.core.display.HTML object>"
      ]
     },
     "metadata": {},
     "output_type": "display_data"
    },
    {
     "data": {
      "text/html": [
       "<a href='https://politics.com.ph/di-pwedeng-lopez-pa-rin-mike-defensor-abs-cbn-should-re-apply-for-franchise-as-a-different-corporation/'> ‘Di pwedeng Lopez pa rin! Mike Defensor: ABS-CBN should re-apply for franchise as a ‘different corporation’</a>"
      ],
      "text/plain": [
       "<IPython.core.display.HTML object>"
      ]
     },
     "metadata": {},
     "output_type": "display_data"
    },
    {
     "data": {
      "text/html": [
       "<a href='https://politics.com.ph/di-si-lucio-tan-ayala-karen-davila-duterte-clearly-referring-to-lopezes-as-oligarchy-he-dismantled/'> ‘Di si Lucio Tan, Ayala! Karen Davila: Duterte ‘clearly referring’ to Lopezes as oligarchy he ‘dismantled’</a>"
      ],
      "text/plain": [
       "<IPython.core.display.HTML object>"
      ]
     },
     "metadata": {},
     "output_type": "display_data"
    },
    {
     "data": {
      "text/html": [
       "<a href='https://politics.com.ph/difficult-but-inevitable-abs-cbn-announces-retrenchment-of-workers-starting-august-31/'> ‘Difficult but inevitable:’ ABS-CBN announces retrenchment of workers starting August 31</a>"
      ],
      "text/plain": [
       "<IPython.core.display.HTML object>"
      ]
     },
     "metadata": {},
     "output_type": "display_data"
    },
    {
     "data": {
      "text/html": [
       "<a href='https://www.interaksyon.com/celebrities/2020/07/14/172804/kami-naman-ngayon-kathryn-bernardo-pens-relentless-support-for-embattled-abs-cbn/'> ‘Kami naman ngayon’: Kathryn Bernardo pens relentless support for embattled ABS-CBN</a>"
      ],
      "text/plain": [
       "<IPython.core.display.HTML object>"
      ]
     },
     "metadata": {},
     "output_type": "display_data"
    },
    {
     "data": {
      "text/html": [
       "<a href='https://politics.com.ph/like-any-other-75-year-old-dutertes-88-healthy-says-palace/'> ‘Like any other 75-year-old’: Duterte’s 88% healthy, says Palace</a>"
      ],
      "text/plain": [
       "<IPython.core.display.HTML object>"
      ]
     },
     "metadata": {},
     "output_type": "display_data"
    },
    {
     "data": {
      "text/html": [
       "<a href='https://politics.com.ph/lungkot-na-lungkot-siya-duterte-wants-to-talk-to-cops-who-killed-soldiers-in-jolo-shooting-incident/'> ‘Lungkot na lungkot siya’: Duterte wants to talk to cops who killed soldiers in Jolo shooting incident</a>"
      ],
      "text/plain": [
       "<IPython.core.display.HTML object>"
      ]
     },
     "metadata": {},
     "output_type": "display_data"
    },
    {
     "data": {
      "text/html": [
       "<a href='https://politics.com.ph/old-man-duterte-adamant-he-cant-be-bought-isang-truck-na-pera-ano-gagawin-ko-dyan/'> ‘Old man’ Duterte adamant he can’t be bought: Isang truck na pera, ano gagawin ko d’yan?</a>"
      ],
      "text/plain": [
       "<IPython.core.display.HTML object>"
      ]
     },
     "metadata": {},
     "output_type": "display_data"
    },
    {
     "data": {
      "text/html": [
       "<a href='https://politics.com.ph/reposting-not-knowing-if-its-true-sharon-cuneta-curious-about-politiko-article-on-alleged-pulong-duterte-iglesia-ni-cristo-link-to-abs-cbn-shutdown/'> ‘Reposting, not knowing if it’s true:’ Sharon Cuneta curious about Politiko article on alleged Pulong Duterte-Iglesia Ni Cristo link to ABS-CBN shutdown</a>"
      ],
      "text/plain": [
       "<IPython.core.display.HTML object>"
      ]
     },
     "metadata": {},
     "output_type": "display_data"
    },
    {
     "data": {
      "text/html": [
       "<a href='https://politics.com.ph/separation-of-powers-duterte-respects-house-decision-to-deny-abs-cbn-franchise2/'> ‘Separation of powers’: Duterte respects House decision to deny ABS-CBN franchise</a>"
      ],
      "text/plain": [
       "<IPython.core.display.HTML object>"
      ]
     },
     "metadata": {},
     "output_type": "display_data"
    },
    {
     "data": {
      "text/html": [
       "<a href='https://politics.com.ph/too-early-for-you-to-enjoy-your-awards-duterte-says-maria-ressa-is-a-fraud/'> ‘Too early for you to enjoy your awards’: Duterte to bury Maria Ressa with more cases</a>"
      ],
      "text/plain": [
       "<IPython.core.display.HTML object>"
      ]
     },
     "metadata": {},
     "output_type": "display_data"
    },
    {
     "data": {
      "text/html": [
       "<a href='https://politics.com.ph/unless-you-are-driven-by-patriotism-duterte-discourages-daughter-sara-to-run-for-highest-public-office/'> ‘Unless you are driven by patriotism’: Duterte discourages daughter Sara to run for highest public office</a>"
      ],
      "text/plain": [
       "<IPython.core.display.HTML object>"
      ]
     },
     "metadata": {},
     "output_type": "display_data"
    },
    {
     "data": {
      "text/html": [
       "<a href='https://politics.com.ph/wag-idamay-ang-mga-bata-mike-defensor-appeals-to-critics-not-to-drag-his-family-over-abs-cbn-franchise-denial/'> ‘Wag idamay ang mga bata:’ Mike Defensor appeals to critics not to drag his family over ABS-CBN franchise denial</a>"
      ],
      "text/plain": [
       "<IPython.core.display.HTML object>"
      ]
     },
     "metadata": {},
     "output_type": "display_data"
    },
    {
     "data": {
      "text/html": [
       "<a href='https://politics.com.ph/we-will-never-forget-trillanes-slams-duterte-cayetano-over-abs-cbn-shutdown/'> ‘We will never forget:’ Trillanes slams Duterte, Cayetano over ABS-CBN shutdown</a>"
      ],
      "text/plain": [
       "<IPython.core.display.HTML object>"
      ]
     },
     "metadata": {},
     "output_type": "display_data"
    },
    {
     "name": "stdout",
     "output_type": "stream",
     "text": [
      "Errors:  0\n"
     ]
    }
   ],
   "source": [
    "# summary: this takes the list from the first cell of all the html pages\n",
    "# puts the headline as the text for the list\n",
    "# uses beautiful soup to get the headline (the title field)\n",
    "# then makes it an html link\n",
    "# then displays it as an html link (needed ipython library above to do that)\n",
    "# can do this for any list of links that I get from feedly, will really save time\n",
    "#hlist = list(set(hlist))\n",
    "#hlist.sort()\n",
    "hlist = [elem[1] for elem in hitlist]\n",
    "\n",
    "for newselem in hitlist:\n",
    "    if newselem[0] == 'None':\n",
    "# for ilink in hlist:\n",
    "        try:\n",
    "            r = requests.get(newselem[1], headers=headers)\n",
    "            soup = BeautifulSoup(r.text, 'html.parser')\n",
    "            titletext = soup.title.text\n",
    "            reflink = \"<a href='\" + ilink + \"'> \" + titletext + \"</a>\"\n",
    "            html = HTML(reflink)\n",
    "            display(html)\n",
    "        except:\n",
    "            errors += 1\n",
    "    else:\n",
    "        reflink = \"<a href='\" + newselem[1] + \"'> \" + newselem[0] + \"</a>\"\n",
    "        html = HTML(reflink)\n",
    "        display(html)\n",
    "        \n",
    "print(\"Errors: \", errors)"
   ]
  },
  {
   "cell_type": "code",
   "execution_count": 20,
   "metadata": {},
   "outputs": [],
   "source": [
    "paperlist = [\"https://www.abc.net.au/news/\",\n",
    "    \"https://www.aseantoday.com/\",\n",
    "    \"https://www.bbc.com/news\",\n",
    "    \"https://www.asiasentinel.com/\",\n",
    "    \"https://www.bangkokpost.com/\",\n",
    "    \"https://www.benarnews.org/english/\",\n",
    "    \"https://www.theborneopost.com/\",\n",
    "    \"https://www.japantimes.co.jp/\",\n",
    "    \"https://www.nationthailand.com/\",\n",
    "    \"https://www.nzherald.co.nz/\",\n",
    "    \"https://www.rfa.org/english/\",\n",
    "    \"https://www.thejakartapost.com/\",\n",
    "    \"http://www.straitstimes.com/asia/\",\n",
    "    \"http://www.straitstimes.com/asia/east-asia/\",\n",
    "    \"https://www.scmp.com/\",\n",
    "    \"https://www.globaltimes.cn/\",\n",
    "    \"https://www.nytimes.com/\",\n",
    "    \"https://www.foxnews.com/\",\n",
    "    \"https://www.cnn.com/\",\n",
    "    \"https://asia.nikkei.com/\"]\n",
    "\n",
    "taglist = [\"coronavirus\",\n",
    "    \"covid-19\",\n",
    "    \"world health organisation\",\n",
    "    \"world health organization\",\n",
    "    \"embargo\",\n",
    "    \"trade deal\",\n",
    "    \"tariffs\",\n",
    "    \"election\",\n",
    "    \"cases spike\",\n",
    "    \"close schools\",\n",
    "    \"bullying\",\n",
    "    \"south china sea\",\n",
    "    \"lockdown\",\n",
    "    \"peta\",\n",
    "    \"coconut supply\",\n",
    "    \"abu sayyaf\",\n",
    "    \"data security\",\n",
    "    \"hong kong police\",\n",
    "    \"hong kong protestors\",\n",
    "    \"national security law\",\n",
    "    \"remdesvir\",\n",
    "    \"vaccine trials\",\n",
    "    \"uighur\",\n",
    "    \"aegis ashore\",\n",
    "    \"economy to shrink\",\n",
    "    \"nuclear talks\",\n",
    "    \"indigenous\",\n",
    "    \"dollar drops\",\n",
    "    \"dollar falls\",\n",
    "    \"dollar rises\",\n",
    "    \"battle against virus\",\n",
    "    \"recession\",\n",
    "    \"voice of america\",\n",
    "    \"lemur\",\n",
    "    \"orangutang\",\n",
    "    \"elephant\",\n",
    "    \"pangolin\",\n",
    "    \"fishermen\",\n",
    "    \"bolsonaro\",\n",
    "    \"inflation\",\n",
    "    \"aboriginal\",\n",
    "    \"japan earthquake\",\n",
    "    \"flooding in china\",\n",
    "    \"flood in china\",\n",
    "    \"earthquake in japan\",\n",
    "    \"typhoon\",\n",
    "    \"hagia sophia\",\n",
    "    \"turkey\",\n",
    "    \"erdogan\"]\n",
    "\n"
   ]
  },
  {
   "cell_type": "code",
   "execution_count": 21,
   "metadata": {},
   "outputs": [],
   "source": [
    "hitlist = []\n",
    "hlist = []\n",
    "for paper in paperlist:\n",
    "    r = requests.get(paper, headers=headers)\n",
    "    soup = BeautifulSoup(r.text, 'html.parser')\n",
    "    myelems = soup.findAll('a')\n",
    "    for elem in myelems:\n",
    "        titleck = str(elem.get('title'))\n",
    "        for checker in taglist:\n",
    "            if checker.lower() in titleck.lower():\n",
    "                url = elem.get('href')\n",
    "                hitlist.append((titleck, url))\n",
    "                hlist.append(url)\n",
    "hitlist = list(set(hitlist))\n",
    "hitlist.sort()\n",
    "# for elem in hitlist:\n",
    "#     print(elem[0])\n",
    "#     print(elem[1])\n"
   ]
  },
  {
   "cell_type": "code",
   "execution_count": 22,
   "metadata": {},
   "outputs": [
    {
     "data": {
      "text/html": [
       "<a href='https://www.benarnews.org/english/news/indonesian/sea-concerns-06262020145459.html'> ASEAN Leaders Assert Importance of Free Airspace over South China Sea</a>"
      ],
      "text/plain": [
       "<IPython.core.display.HTML object>"
      ]
     },
     "metadata": {},
     "output_type": "display_data"
    },
    {
     "data": {
      "text/html": [
       "<a href='https://www.benarnews.org/english/news/bengali/covid-militancy-06182020155559.html'> Bangladeshi Militants Take Advantage of COVID-19 Pandemic</a>"
      ],
      "text/plain": [
       "<IPython.core.display.HTML object>"
      ]
     },
     "metadata": {},
     "output_type": "display_data"
    },
    {
     "data": {
      "text/html": [
       "<a href='https://www.aseantoday.com/2020/07/covid-19-is-boosting-fintech-and-mobile-money-in-myanmar-but-whats-next/'> COVID-19 is boosting fintech and mobile money in Myanmar, but what's next? | ASEAN Today</a>"
      ],
      "text/plain": [
       "<IPython.core.display.HTML object>"
      ]
     },
     "metadata": {},
     "output_type": "display_data"
    },
    {
     "data": {
      "text/html": [
       "<a href='https://www.aseantoday.com/2020/05/covid-19-pushes-healthcare-technology-transformation-in-asia/'> COVID-19 pushes healthcare technology transformation in Asia | ASEAN Today</a>"
      ],
      "text/plain": [
       "<IPython.core.display.HTML object>"
      ]
     },
     "metadata": {},
     "output_type": "display_data"
    },
    {
     "data": {
      "text/html": [
       "<a href='https://www.rfa.org/english/news/cambodia/loans-07142020153136.html'> Cambodia Must Suspend Loan Collections For Borrowers Impacted by Coronavirus: Rights Group</a>"
      ],
      "text/plain": [
       "<IPython.core.display.HTML object>"
      ]
     },
     "metadata": {},
     "output_type": "display_data"
    },
    {
     "data": {
      "text/html": [
       "<a href='https://www.aseantoday.com/2020/07/indonesias-new-agricultural-megaproject-threatens-public-health-indigenous-rights-and-it-might-not-work/'> Indonesia's new agricultural megaproject threatens public health, indigenous rights | ASEAN Today</a>"
      ],
      "text/plain": [
       "<IPython.core.display.HTML object>"
      ]
     },
     "metadata": {},
     "output_type": "display_data"
    },
    {
     "data": {
      "text/html": [
       "<a href='https://www.theborneopost.com/2020/07/15/only-five-active-covid-19-cases-in-sabah/'> Only five active Covid-19 cases in Sabah | Borneo Post Online</a>"
      ],
      "text/plain": [
       "<IPython.core.display.HTML object>"
      ]
     },
     "metadata": {},
     "output_type": "display_data"
    },
    {
     "data": {
      "text/html": [
       "<a href='https://www.rfa.org/english/news/china/philippines-southchinasea-07152020140536.html'> Philippine, Chinese Foreign Secretaries Meet after US Warning on South China Sea</a>"
      ],
      "text/plain": [
       "<IPython.core.display.HTML object>"
      ]
     },
     "metadata": {},
     "output_type": "display_data"
    },
    {
     "data": {
      "text/html": [
       "<a href='https://www.rfa.org/english/commentaries/taiwan-covid-07062020065643.html'> Taiwan’s Success in Combating the Coronavirus Gains International Attention</a>"
      ],
      "text/plain": [
       "<IPython.core.display.HTML object>"
      ]
     },
     "metadata": {},
     "output_type": "display_data"
    },
    {
     "data": {
      "text/html": [
       "<a href='https://www.benarnews.org/english/news/thai/peace-talks-06192020162527.html'> Thai Negotiator Looks to Resume Southern Peace Talks as COVID-19 Subsides </a>"
      ],
      "text/plain": [
       "<IPython.core.display.HTML object>"
      ]
     },
     "metadata": {},
     "output_type": "display_data"
    },
    {
     "data": {
      "text/html": [
       "<a href='https://www.benarnews.org/english/news/philippine/ADIZ-South-China-Sea-06242020143810.html'> US Watching if Beijing Declares Air Defense Zone in South China Sea</a>"
      ],
      "text/plain": [
       "<IPython.core.display.HTML object>"
      ]
     },
     "metadata": {},
     "output_type": "display_data"
    },
    {
     "data": {
      "text/html": [
       "<a href='https://www.aseantoday.com/2020/07/what-can-southeast-asia-learn-from-singapore-and-its-first-covid-19-election/'> What can Southeast Asia learn from Singapore and its first 'COVID-19 election'? | ASEAN Today</a>"
      ],
      "text/plain": [
       "<IPython.core.display.HTML object>"
      ]
     },
     "metadata": {},
     "output_type": "display_data"
    },
    {
     "name": "stdout",
     "output_type": "stream",
     "text": [
      "Errors:  9\n"
     ]
    }
   ],
   "source": [
    "# summary: this takes the list from the first cell of all the html pages\n",
    "# puts the headline as the text for the list\n",
    "# uses beautiful soup to get the headline (the title field)\n",
    "# then makes it an html link\n",
    "# then displays it as an html link (needed ipython library above to do that)\n",
    "# can do this for any list of links that I get from feedly, will really save time\n",
    "#hlist = list(set(hlist))\n",
    "#hlist.sort()\n",
    "hlist = [elem[1] for elem in hitlist]\n",
    "errors = 0\n",
    "for ilink in hlist:\n",
    "    try:\n",
    "        r = requests.get(ilink, headers=headers)\n",
    "        soup = BeautifulSoup(r.text, 'html.parser')\n",
    "        titletext = soup.title.text\n",
    "        reflink = \"<a href='\" + ilink + \"'> \" + titletext + \"</a>\"\n",
    "        html = HTML(reflink)\n",
    "        display(html)\n",
    "    except:\n",
    "        errors += 1\n",
    "print(\"Errors: \", errors)"
   ]
  },
  {
   "cell_type": "code",
   "execution_count": 23,
   "metadata": {},
   "outputs": [
    {
     "name": "stdout",
     "output_type": "stream",
     "text": [
      "50\n"
     ]
    },
    {
     "data": {
      "text/html": [
       "<a href='https://www.scmp.com/tech/innovation/article/3092691/chinas-patent-filings-back-track-amid-covid-19-disruptions'> China’s patent filings back on track amid Covid-19 disruptions | South China Morning Post</a>"
      ],
      "text/plain": [
       "<IPython.core.display.HTML object>"
      ]
     },
     "metadata": {},
     "output_type": "display_data"
    },
    {
     "data": {
      "text/html": [
       "<a href='https://www.scmp.com/economy/china-economy/article/3092446/chinas-statistics-agency-publishes-year-old-monthly-inflation'> China’s statistics agency admits mistakenly publishing year-old monthly inflation, producer price data for June | South China Morning Post</a>"
      ],
      "text/plain": [
       "<IPython.core.display.HTML object>"
      ]
     },
     "metadata": {},
     "output_type": "display_data"
    },
    {
     "data": {
      "text/html": [
       "<a href='https://www.scmp.com/business/banking-finance/article/3093222/chinese-bankers-hong-kong-feel-sting-tripling-tax-bill'> Chinese bankers in Hong Kong feel the sting of a tripling tax bill as China’s tax authority collects tariffs on citizens’ global income | South China Morning Post</a>"
      ],
      "text/plain": [
       "<IPython.core.display.HTML object>"
      ]
     },
     "metadata": {},
     "output_type": "display_data"
    },
    {
     "data": {
      "text/html": [
       "<a href='https://www.scmp.com/economy/china-economy/article/3092640/coronavirus-us-china-trade-war-see-95-cent-american-firms'> Coronavirus, US-China trade war see 95 per cent of American firms wanting to ditch Chinese suppliers | South China Morning Post</a>"
      ],
      "text/plain": [
       "<IPython.core.display.HTML object>"
      ]
     },
     "metadata": {},
     "output_type": "display_data"
    },
    {
     "data": {
      "text/html": [
       "<a href='https://www.scmp.com/business/companies/article/3093124/coronavirus-fosun-pharmaceutical-shares-surge-beijing-accepts'> Coronavirus: Fosun Pharmaceutical shares surge as Beijing accepts application for clinical trial of vaccine candidate | South China Morning Post</a>"
      ],
      "text/plain": [
       "<IPython.core.display.HTML object>"
      ]
     },
     "metadata": {},
     "output_type": "display_data"
    },
    {
     "data": {
      "text/html": [
       "<a href='https://www.scmp.com/business/companies/article/3092463/exodus-us-firms-hong-kong-avoid-sanctions-imposed-wake-security'> Exodus of US firms from Hong Kong to avoid sanctions imposed in wake of security law would hit office market already hurt by unrest, coronavirus | South China Morning Post</a>"
      ],
      "text/plain": [
       "<IPython.core.display.HTML object>"
      ]
     },
     "metadata": {},
     "output_type": "display_data"
    },
    {
     "data": {
      "text/html": [
       "<a href='https://www.scmp.com/business/banking-finance/article/3093137/financial-havoc-coronavirus-pandemic-spares-no-one-causing'> Financial havoc from coronavirus pandemic spares no one, affecting seven in 10 global investors, UBS survey says | South China Morning Post</a>"
      ],
      "text/plain": [
       "<IPython.core.display.HTML object>"
      ]
     },
     "metadata": {},
     "output_type": "display_data"
    },
    {
     "data": {
      "text/html": [
       "<a href='https://www.scmp.com/business/banking-finance/article/3093304/hsbc-standard-chartered-reinstate-work-home-measures-third'> HSBC, Standard Chartered reinstate work-from-home measures as ‘third wave’ of coronavirus hits Hong Kong | South China Morning Post</a>"
      ],
      "text/plain": [
       "<IPython.core.display.HTML object>"
      ]
     },
     "metadata": {},
     "output_type": "display_data"
    },
    {
     "data": {
      "text/html": [
       "<a href='https://www.scmp.com/business/money/stock-talk/article/3093214/hong-kong-stocks-rally-covid-19-vaccine-hopes-traders'> Hong Kong stock investors shrug off Trump move to revoke city’s special status, focus on Covid-19 spike, vaccine progress | South China Morning Post</a>"
      ],
      "text/plain": [
       "<IPython.core.display.HTML object>"
      ]
     },
     "metadata": {},
     "output_type": "display_data"
    },
    {
     "data": {
      "text/html": [
       "<a href='https://www.scmp.com/business/money/markets-investing/article/3093049/hong-kong-china-markets-slide-concerns-rise-about'> Hong Kong, China markets slide as concerns rise about overheated stocks, cases of coronavirus growing in US | South China Morning Post</a>"
      ],
      "text/plain": [
       "<IPython.core.display.HTML object>"
      ]
     },
     "metadata": {},
     "output_type": "display_data"
    },
    {
     "data": {
      "text/html": [
       "<a href='https://www.scmp.com/business/companies/article/3093178/wang-jianlin-controlled-wanda-film-flags-first-half-loss-us228'> Wang Jianlin-controlled Wanda Film flags first-half loss of up to US$228 million as coronavirus pandemic keeps cinemas shut | South China Morning Post</a>"
      ],
      "text/plain": [
       "<IPython.core.display.HTML object>"
      ]
     },
     "metadata": {},
     "output_type": "display_data"
    },
    {
     "name": "stdout",
     "output_type": "stream",
     "text": [
      "Errors:  0\n"
     ]
    }
   ],
   "source": [
    "# for an xml based rss feed:\n",
    "\n",
    "xmllist = [\"https://www.scmp.com/rss/107605/feed\"]\n",
    "hitlist = []\n",
    "errors = 0\n",
    "for paper in xmllist:\n",
    "    r = requests.get(paper, headers=headers)\n",
    "    #print(r.text[0:500])\n",
    "    soup = BeautifulSoup(r.text, 'xml')\n",
    "    myelems = soup.findAll('guid')\n",
    "    print(len(myelems))\n",
    "    for elem in myelems:\n",
    "        linkck = elem.get_text()\n",
    "        #print(linkck)\n",
    "        #hitlist.append(linkck)\n",
    "        try:\n",
    "            r2 = requests.get(linkck, headers=headers)\n",
    "            soup2 = BeautifulSoup(r2.text, 'html.parser')\n",
    "            titletext = soup2.title.text\n",
    "            for checker in taglist:\n",
    "                if checker.lower() in titletext.lower():\n",
    "                    hitlist.append((titletext, linkck))\n",
    "        except:\n",
    "            errors += 1\n",
    "   \n",
    "hitlist = list(set(hitlist))\n",
    "hitlist.sort()\n",
    "hlist = [elem[1] for elem in hitlist]\n",
    "\n",
    "for elem in hitlist:\n",
    "    reflink = \"<a href='\" + elem[1] + \"'> \" + elem[0] + \"</a>\"\n",
    "    html = HTML(reflink)\n",
    "    display(html)\n",
    "\n",
    "print(\"Errors: \", errors)\n",
    "\n"
   ]
  }
 ],
 "metadata": {
  "kernelspec": {
   "display_name": "Python 3",
   "language": "python",
   "name": "python3"
  },
  "language_info": {
   "codemirror_mode": {
    "name": "ipython",
    "version": 3
   },
   "file_extension": ".py",
   "mimetype": "text/x-python",
   "name": "python",
   "nbconvert_exporter": "python",
   "pygments_lexer": "ipython3",
   "version": "3.7.2"
  }
 },
 "nbformat": 4,
 "nbformat_minor": 4
}
