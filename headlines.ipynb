{
 "cells": [
  {
   "cell_type": "code",
   "execution_count": 27,
   "metadata": {},
   "outputs": [
    {
     "name": "stdout",
     "output_type": "stream",
     "text": [
      "﻿\r\n",
      "<!DOCTYPE html>\r\n",
      "<html lang=\"en\">\r\n",
      "<head>\r\n",
      "\t<meta charset=\"UTF-8\">\t\r\n",
      "\t\t\r\n",
      "\t<meta name=\"viewport\" content=\"width=device-width, initial-scale=1.0\">\r\n",
      "\t\r\n",
      "\t\r\n",
      "\t\r\n",
      "\t\r\n",
      "\t<!-- FB Meta -->\r\n",
      "\t<meta property=\"og:ttl\" content=\"345600\" />\r\n",
      "\t<meta property=\"fb:app_id\" content=\"175228195865217\" />\r\n",
      "\t<meta property=\"og:title\" content=\"WHO: Indoor airborne spread of coronavirus possible\" />\t\r\n",
      "\t<meta property=\"og:description\" content=\"LONDON — The World Health Organization is acknowledging the possibility that COV\n"
     ]
    }
   ],
   "source": [
    "import requests\n",
    "from bs4 import BeautifulSoup\n",
    "import lxml\n",
    "from IPython.core.display import display, HTML\n",
    "import pandas as pd\n",
    "\n",
    "hlist = ['https://newsinfo.inquirer.net/1304791/who-indoor-airborne-spread-of-coronavirus-possible',\n",
    "    'https://www.theguardian.com/world/live/2020/jul/10/coronavirus-live-news-global-update-cases-bolivia-president-covid-19-positive-south-africa-brazil-president-jair-bolsonaro-latest-updatescoronavirus-live-news-bolivia-president-tests-positive-as-south-africa-sees-record-case-rise',\n",
    "    'https://www.wsj.com/articles/oil-went-below-0-some-think-it-will-rebound-to-150-one-day-11594287002',\n",
    "    'https://www.cnbc.com/2020/07/09/disney-reopening-this-week-even-as-coronavirus-cases-spike-in-florida.html',\n",
    "    'https://www.cnbc.com/2020/07/09/who-warns-the-coronavirus-is-getting-worse-continues-to-accelerate.html',\n",
    "    'http://feeds.foxbusiness.com/~r/foxbusiness/latest/~3/y4ny8VF4PX0/us-stocks-july-9-2020',\n",
    "    'http://www.marketwatch.com/news/story.asp?guid=%7BAED11BCA-C218-11EA-B5C1-1D55841A4EF0%7D&siteid=rss&rss=1',\n",
    "    'http://www.marketwatch.com/news/story.asp?guid=%7B0A9972CF-FF2C-4035-AA5B-3D557A0B7869%7D&siteid=rss&rss=1',\n",
    "    'https://www.wsj.com/articles/vaccine-stock-soars-rewarding-investors-big-bet-11594294901',\n",
    "    'https://www.bbc.co.uk/news/uk-england-kent-53349929',\n",
    "    'http://feeds.foxnews.com/~r/foxnews/national/~3/45WkRCxllyI/health-official-trump-rally-likely-source-virus-surge',\n",
    "    'https://www.nytimes.com/2020/07/09/us/politics/trump-supreme-court-appointees.html']\n",
    "\n",
    "\n",
    "\n",
    "\n",
    "# need the following to tell it we are a firefox browser in order to prevent getting blocked as a bot\n",
    "headers = requests.utils.default_headers()\n",
    "headers.update({\n",
    "    'User-Agent': 'Mozilla/5.0 (X11; Ubuntu; Linux x86_64; rv:52.0) Gecko/20100101 Firefox/52.0',\n",
    "})\n",
    "\n",
    "r = requests.get(hlist[0], headers=headers)\n",
    "soup = BeautifulSoup(r.text, 'html.parser')\n",
    "\n",
    "print(r.text[0:500])"
   ]
  },
  {
   "cell_type": "code",
   "execution_count": 28,
   "metadata": {},
   "outputs": [
    {
     "data": {
      "text/plain": [
       "'WHO: Indoor airborne spread of coronavirus possible | Inquirer News'"
      ]
     },
     "execution_count": 28,
     "metadata": {},
     "output_type": "execute_result"
    }
   ],
   "source": [
    "#results = soup.find_all('meta', property=\"og:title\")\n",
    "#len(results)\n",
    "titletext = soup.title.text\n",
    "titletext"
   ]
  },
  {
   "cell_type": "code",
   "execution_count": 29,
   "metadata": {},
   "outputs": [
    {
     "data": {
      "text/html": [
       "<a href='https://www.wsj.com/articles/oil-went-below-0-some-think-it-will-rebound-to-150-one-day-11594287002'> Oil Went Below $0. Some Think It Will Rebound to $150 One Day.     - WSJ</a>"
      ],
      "text/plain": [
       "<IPython.core.display.HTML object>"
      ]
     },
     "metadata": {},
     "output_type": "display_data"
    },
    {
     "data": {
      "text/plain": [
       "\"<a href='https://www.wsj.com/articles/oil-went-below-0-some-think-it-will-rebound-to-150-one-day-11594287002'> Oil Went Below $0. Some Think It Will Rebound to $150 One Day.     - WSJ</a>\""
      ]
     },
     "execution_count": 29,
     "metadata": {},
     "output_type": "execute_result"
    }
   ],
   "source": [
    "#from IPython.display import IFrame\n",
    "#IFrame(src=hlist[0], width=700, height=600)\n",
    "\n",
    "# note than in the reflink below when I had brackets{} surrounding the link, it pointed to localhost first\n",
    "# it may also do that if you leave off the https:// at the front\n",
    "r = requests.get(hlist[2], headers=headers)\n",
    "soup = BeautifulSoup(r.text, 'html.parser')\n",
    "titletext = soup.title.text\n",
    "reflink = \"<a href='\" + hlist[2] + \"'> \" + titletext + \"</a>\"\n",
    "html = HTML(reflink)\n",
    "display(html)\n",
    "hlist[0]\n",
    "reflink\n"
   ]
  },
  {
   "cell_type": "code",
   "execution_count": 38,
   "metadata": {},
   "outputs": [],
   "source": [
    "paperlist = [\"http://davaotoday.com/main/\",\n",
    "    \"https://www.eaglenews.ph/\",\n",
    "    \"https://www.gmanetwork.com/news/\",\n",
    "    \"https://www.inquirer.net/\",\n",
    "    \"https://www.interaksyon.com/\",\n",
    "    \"https://pia.gov.ph/news\",\n",
    "    \"https://edgedavao.net/\",\n",
    "    \"http://www.senate.gov.ph/\",\n",
    "    \"https://politics.com.ph/\",\n",
    "    \"https://www.mindanews.com/\",\n",
    "    \"https://palawan-news.com/\",\n",
    "    \"https://philnews.ph/\",\n",
    "    \"https://www.philstar.com/\",\n",
    "    \"https://www.manilatimes.net/\",\n",
    "    \"https://mb.com.ph/\",\n",
    "    \"https://www.rappler.com/\",\n",
    "    \"http://retiredanalyst.blogspot.com/\",\n",
    "    \"http://tempo.com.ph/\",\n",
    "    \"https://news.abs-cbn.com/\",\n",
    "    \"https://asia.nikkei.com/\",\n",
    "    \"https://www.benarnews.org/english/\",\n",
    "    \"https://www.theborneopost.com/\",\n",
    "    \"https://www.straitstimes.com/global\",\n",
    "    \"https://www.thejakartapost.com/\",\n",
    "    \"http://www.straitstimes.com/asia/\",\n",
    "    \"http://www.straitstimes.com/asia/east-asia/\",\n",
    "    \"https://www.scmp.com/\",\n",
    "    \"https://www.globaltimes.cn/\",\n",
    "    \"https://www.nytimes.com/\",\n",
    "    \"https://www.foxnews.com/\",\n",
    "    \"https://cnnphilippines.com/\"]\n",
    "\n",
    "covid_taglist\t=\t[\"covid-19\",\t\n",
    "\t\t\t\"coronavirus\",\n",
    "\t\t\t\"quarantine\",\n",
    "\t\t\t\"pandemic\",\n",
    "\t\t\t\"vaccine\",\n",
    "\t\t\t\"injections\",\n",
    "\t\t\t\"ecq\",\n",
    "\t\t\t\"mecq\",\n",
    "\t\t\t\"gcq\",\n",
    "\t\t\t\"mgcq\",\n",
    "\t\t\t\"lsi\",\n",
    "\t\t\t\"locally stranded individuals\",\n",
    "\t\t\t\"death rate\",\n",
    "\t\t\t\"new cases\",\n",
    "\t\t\t\"total cases\"]\n",
    "\n",
    "econ_taglist\t=\t[\"economy\",\t\n",
    "\t\t\t\"inflation\",\n",
    "\t\t\t\"angkas\",\n",
    "\t\t\t\"backriding\",\n",
    "\t\t\t\"bitcoin\",\n",
    "\t\t\t\"crypto\",\n",
    "\t\t\t\"cryptocurrencies\",\n",
    "\t\t\t\"crypto-currencies\",\n",
    "\t\t\t\"asia development bank\",\n",
    "\t\t\t\"psei\",\n",
    "\t\t\t\"buses\",\n",
    "\t\t\t\"employment\",\n",
    "\t\t\t\"build-build-build\",\n",
    "\t\t\t\"investments\"\n",
    "            \"chinese banks\"]\n",
    "\t\t\t\n",
    "chinathreat_taglist\t=\t[\"south china sea\",\t\n",
    "\t\t\t\"west philippine sea\",\n",
    "\t\t\t\"liu jianchao\",\n",
    "\t\t\t\"chinese ambassador\",\n",
    "\t\t\t\"xi xingping\",\n",
    "\t\t\t\"spratly islands\",\n",
    "\t\t\t\"freedom of navigation\",\n",
    "\t\t\t\"pla navy\",\n",
    "\t\t\t\"vfa\",\n",
    "\t\t\t\"scarborough shoal\",\n",
    "\t\t\t\"mischief reef\",\n",
    "\t\t\t\"pla militia\",\n",
    "\t\t\t\"air defense identification zone\",\n",
    "\t\t\t\"adiz\",\n",
    "\t\t\t\"visiting forces agreement\",\n",
    "\t\t\t\"philippine navy\",\n",
    "\t\t\t\"brp\",\n",
    "\t\t\t\"us navy\",\n",
    "\t\t\t\"navy\",\n",
    "            \"us troops\",\n",
    "            \"guard against china\",\n",
    "            \"beidaihe\",\n",
    "            \"lorenzana\"]\n",
    "\t\t\t\n",
    "insurgency_taglist\t=\t[\"anti-terror\",\t\n",
    "\t\t\t\"anti-terror law\",\n",
    "\t\t\t\"abu sayyaf\",\n",
    "\t\t\t\"biff\",\n",
    "\t\t\t\"bangsamoro islamic freedom fighters\",\n",
    "\t\t\t\"npa\",\n",
    "\t\t\t\"new people's army\",\n",
    "\t\t\t\"milf\",\n",
    "\t\t\t\"moro islamic liberation front\",\n",
    "\t\t\t\"mnlf\",\n",
    "\t\t\t\"moro national liberation front\",\n",
    "\t\t\t\"islamic state\",\n",
    "\t\t\t\"marawi\",\n",
    "\t\t\t\"mamasapano\"]\n",
    "\t\t\t\n",
    "\t\t\t\n",
    "pulitika_taglist\t=\t[\"lopez\",\t\n",
    "\t\t\t\"supreme court\",\n",
    "\t\t\t\"serreno\",\n",
    "\t\t\t\"duterte\",\n",
    "\t\t\t\"abs-cbn\",\n",
    "\t\t\t\"house votes\",\n",
    "\t\t\t\"senate votes\",\n",
    "\t\t\t\"opposition\"]\n",
    "\t\t\t\n",
    "\t\t\t\n",
    "province_taglist\t=\t[\"palawan\",\t\n",
    "\t\t\t\"manobo\",\n",
    "\t\t\t\"tuguegarao\",\n",
    "\t\t\t\"cagayan valley\",\n",
    "\t\t\t\"igorot\",\n",
    "\t\t\t\"lumad\",\n",
    "\t\t\t\"ipra\",\n",
    "\t\t\t\"indigenous\",\n",
    "\t\t\t\"kankanaey\",\n",
    "\t\t\t\"palawano\",\n",
    "\t\t\t\"agutaya\",\n",
    "\t\t\t\"malaybalay\",\n",
    "\t\t\t\"bukidnon\",\n",
    "\t\t\t\"higaunon\",\n",
    "\t\t\t\"davao\"]\n",
    "\t\t\t\n",
    "\t\t\t\n",
    "ncr_taglist\t=\t[\"rizal province\",\t\n",
    "\t\t\t\"antipolo\",\n",
    "\t\t\t\"mandaluyong\",\n",
    "\t\t\t\"cainta\",\n",
    "\t\t\t\"edsa\",\n",
    "\t\t\t\"taguig\",\n",
    "\t\t\t\"quezon city\"]\n",
    "\t\t\t\n",
    "\t\t\t\n",
    "chrgroup_taglist\t=\t[\"catholic\",\t\n",
    "\t\t\t\"catholic bishop’s conference of the philippines\",\n",
    "\t\t\t\"catholic bishops conference of the philippines\",\n",
    "\t\t\t\"cbcp\",\n",
    "\t\t\t\"iglesia ni cristo\",\n",
    "\t\t\t\"quiboloy\",\n",
    "\t\t\t\"quibuloy\"]\n",
    "\t\t\t\n",
    "\t\t\t\n",
    "moro_taglist\t=\t[\"moro\",\t\n",
    "\t\t\t\"bangsamoro\",\n",
    "\t\t\t\"barmm\",\n",
    "\t\t\t\"sultan kudarat\",\n",
    "\t\t\t\"sulu\",\n",
    "\t\t\t\"basilan\",\n",
    "\t\t\t\"jolo\",\n",
    "\t\t\t\"maranao\",\n",
    "\t\t\t\"tausug\",\n",
    "\t\t\t\"maguindanao\",\n",
    "\t\t\t\"cotobato\",\n",
    "\t\t\t\"cotabato\",\n",
    "\t\t\t\"sabah\",\n",
    "\t\t\t\"sultan of sulu\",\n",
    "\t\t\t\"sultanate of sulu\"]\n",
    "\t\t\t\n",
    "\t\t\t\n",
    "auth_taglist\t=\t[\"duterte\",\t\n",
    "\t\t\t\"red-tagging\",\n",
    "\t\t\t\"anti-terror\",\n",
    "\t\t\t\"jose calida\",\n",
    "\t\t\t\"solicitor general\",\n",
    "\t\t\t\"medialdea\",\n",
    "\t\t\t\"bong go\",\n",
    "\t\t\t\"bato dela rosa\",\n",
    "\t\t\t\"ronald dela rosa\",\n",
    "\t\t\t\"dela rosa\",\n",
    "\t\t\t\"de la rosa\"]\n",
    "\n",
    "exclude_list = [\"leave a comment on\",\n",
    "    \"california\",\n",
    "    \"watch\",\n",
    "    \"permalink\",\n",
    "    \"inmate\",\n",
    "    \"stores closed\",\n",
    "    \"overseas filipinos\",\n",
    "    \"alibaba\",\n",
    "    \"artistry\",\n",
    "    \"flu pandemic\",\n",
    "    \"korean trash\",\n",
    "    \"walmart\",\n",
    "    \"us stores\",\n",
    "    \"tournament\",\n",
    "    \"filipino workers stranded\",\n",
    "    \"donald trump\",\n",
    "    \"rhine river\",\n",
    "    \"european union\",\n",
    "    \"fertilizer scam\",\n",
    "    \"olympics\",\n",
    "    \"coronavirus affects\",\n",
    "    \"kids in malaysia\",\n",
    "    \"liquor ban\",\n",
    "    \"piolo pascual\",\n",
    "    \"profile of a killer\",\n",
    "    \"croatia\",\n",
    "    \"nba\",\n",
    "    \"sexual abuse\",\n",
    "    \"festival queen\",\n",
    "    \"tips for parents\",\n",
    "    \"arcadia fitness gym\"]\n",
    "\n",
    "taglist =  covid_taglist+ auth_taglist+ chinathreat_taglist+ chrgroup_taglist+ econ_taglist+ insurgency_taglist+ moro_taglist+ ncr_taglist+ province_taglist+ pulitika_taglist\n",
    "taglist = list(set(taglist))\n",
    "taglist.sort()\n"
   ]
  },
  {
   "cell_type": "code",
   "execution_count": 68,
   "metadata": {},
   "outputs": [
    {
     "name": "stdout",
     "output_type": "stream",
     "text": [
      "johnny rabbit turkey trots to water COVID-19 HUNT\n"
     ]
    },
    {
     "data": {
      "text/html": [
       "<div>\n",
       "<style scoped>\n",
       "    .dataframe tbody tr th:only-of-type {\n",
       "        vertical-align: middle;\n",
       "    }\n",
       "\n",
       "    .dataframe tbody tr th {\n",
       "        vertical-align: top;\n",
       "    }\n",
       "\n",
       "    .dataframe thead th {\n",
       "        text-align: right;\n",
       "    }\n",
       "</style>\n",
       "<table border=\"1\" class=\"dataframe\">\n",
       "  <thead>\n",
       "    <tr style=\"text-align: right;\">\n",
       "      <th></th>\n",
       "      <th>andtag01</th>\n",
       "      <th>andtag02</th>\n",
       "      <th>andtag03</th>\n",
       "      <th>andtag04</th>\n",
       "      <th>angtag05</th>\n",
       "      <th>andtag06</th>\n",
       "      <th>andtag07</th>\n",
       "      <th>andtag08</th>\n",
       "    </tr>\n",
       "    <tr>\n",
       "      <th>maintag</th>\n",
       "      <th></th>\n",
       "      <th></th>\n",
       "      <th></th>\n",
       "      <th></th>\n",
       "      <th></th>\n",
       "      <th></th>\n",
       "      <th></th>\n",
       "      <th></th>\n",
       "    </tr>\n",
       "  </thead>\n",
       "  <tbody>\n",
       "    <tr>\n",
       "      <th>covid-19</th>\n",
       "      <td>hunt</td>\n",
       "      <td>lockdown</td>\n",
       "      <td>infected with</td>\n",
       "      <td>hahawa</td>\n",
       "      <td>cases</td>\n",
       "      <td>house-to-house</td>\n",
       "      <td>test positive</td>\n",
       "      <td>statistics</td>\n",
       "    </tr>\n",
       "    <tr>\n",
       "      <th>coronavirus</th>\n",
       "      <td>vaccine</td>\n",
       "      <td></td>\n",
       "      <td></td>\n",
       "      <td></td>\n",
       "      <td></td>\n",
       "      <td></td>\n",
       "      <td></td>\n",
       "      <td></td>\n",
       "    </tr>\n",
       "    <tr>\n",
       "      <th>quarantine</th>\n",
       "      <td>classification</td>\n",
       "      <td>home</td>\n",
       "      <td>facility</td>\n",
       "      <td>facilities</td>\n",
       "      <td></td>\n",
       "      <td></td>\n",
       "      <td></td>\n",
       "      <td></td>\n",
       "    </tr>\n",
       "    <tr>\n",
       "      <th>pandemic</th>\n",
       "      <td>flying back</td>\n",
       "      <td>barter</td>\n",
       "      <td></td>\n",
       "      <td></td>\n",
       "      <td></td>\n",
       "      <td></td>\n",
       "      <td></td>\n",
       "      <td></td>\n",
       "    </tr>\n",
       "    <tr>\n",
       "      <th>injections</th>\n",
       "      <td></td>\n",
       "      <td></td>\n",
       "      <td></td>\n",
       "      <td></td>\n",
       "      <td></td>\n",
       "      <td></td>\n",
       "      <td></td>\n",
       "      <td></td>\n",
       "    </tr>\n",
       "    <tr>\n",
       "      <th>ecq</th>\n",
       "      <td>list</td>\n",
       "      <td>gcq</td>\n",
       "      <td>mgcq</td>\n",
       "      <td>mecq</td>\n",
       "      <td>city</td>\n",
       "      <td>province</td>\n",
       "      <td>provinces</td>\n",
       "      <td>metro</td>\n",
       "    </tr>\n",
       "    <tr>\n",
       "      <th>mecq</th>\n",
       "      <td>list</td>\n",
       "      <td>gcq</td>\n",
       "      <td>mgcq</td>\n",
       "      <td>ecq</td>\n",
       "      <td>city</td>\n",
       "      <td>province</td>\n",
       "      <td>provinces</td>\n",
       "      <td>metro</td>\n",
       "    </tr>\n",
       "    <tr>\n",
       "      <th>gcq</th>\n",
       "      <td>list</td>\n",
       "      <td>ecq</td>\n",
       "      <td>mgcq</td>\n",
       "      <td>mecq</td>\n",
       "      <td>city</td>\n",
       "      <td>province</td>\n",
       "      <td>provinces</td>\n",
       "      <td>metro</td>\n",
       "    </tr>\n",
       "    <tr>\n",
       "      <th>mgcq</th>\n",
       "      <td>list</td>\n",
       "      <td>gcq</td>\n",
       "      <td>ecq</td>\n",
       "      <td>mecq</td>\n",
       "      <td>city</td>\n",
       "      <td>province</td>\n",
       "      <td>provinces</td>\n",
       "      <td>metro</td>\n",
       "    </tr>\n",
       "    <tr>\n",
       "      <th>lsi</th>\n",
       "      <td></td>\n",
       "      <td></td>\n",
       "      <td></td>\n",
       "      <td></td>\n",
       "      <td></td>\n",
       "      <td></td>\n",
       "      <td></td>\n",
       "      <td></td>\n",
       "    </tr>\n",
       "    <tr>\n",
       "      <th>locally</th>\n",
       "      <td>stranded</td>\n",
       "      <td>individuals</td>\n",
       "      <td></td>\n",
       "      <td></td>\n",
       "      <td></td>\n",
       "      <td></td>\n",
       "      <td>covid-19</td>\n",
       "      <td></td>\n",
       "    </tr>\n",
       "    <tr>\n",
       "      <th>death rate</th>\n",
       "      <td></td>\n",
       "      <td></td>\n",
       "      <td></td>\n",
       "      <td></td>\n",
       "      <td></td>\n",
       "      <td></td>\n",
       "      <td></td>\n",
       "      <td></td>\n",
       "    </tr>\n",
       "    <tr>\n",
       "      <th>cases</th>\n",
       "      <td>new</td>\n",
       "      <td>total</td>\n",
       "      <td>recoveries</td>\n",
       "      <td></td>\n",
       "      <td></td>\n",
       "      <td></td>\n",
       "      <td></td>\n",
       "      <td></td>\n",
       "    </tr>\n",
       "  </tbody>\n",
       "</table>\n",
       "</div>"
      ],
      "text/plain": [
       "                   andtag01     andtag02       andtag03    andtag04 angtag05  \\\n",
       "maintag                                                                        \n",
       "covid-19               hunt     lockdown  infected with      hahawa    cases   \n",
       "coronavirus         vaccine                                                    \n",
       "quarantine   classification         home       facility  facilities            \n",
       "pandemic        flying back       barter                                       \n",
       "injections                                                                     \n",
       "ecq                    list          gcq           mgcq        mecq     city   \n",
       "mecq                   list          gcq           mgcq         ecq     city   \n",
       "gcq                    list          ecq           mgcq        mecq     city   \n",
       "mgcq                   list          gcq            ecq        mecq     city   \n",
       "lsi                                                                            \n",
       "locally            stranded  individuals                                       \n",
       "death rate                                                                     \n",
       "cases                   new        total     recoveries                        \n",
       "\n",
       "                   andtag06       andtag07    andtag08  \n",
       "maintag                                                 \n",
       "covid-19     house-to-house  test positive  statistics  \n",
       "coronavirus                                             \n",
       "quarantine                                              \n",
       "pandemic                                                \n",
       "injections                                              \n",
       "ecq                province      provinces       metro  \n",
       "mecq               province      provinces       metro  \n",
       "gcq                province      provinces       metro  \n",
       "mgcq               province      provinces       metro  \n",
       "lsi                                                     \n",
       "locally                           covid-19              \n",
       "death rate                                              \n",
       "cases                                                   "
      ]
     },
     "execution_count": 68,
     "metadata": {},
     "output_type": "execute_result"
    }
   ],
   "source": [
    "covid_tagdict=[{\"maintag\":\"covid-19\",\"andtag01\":\"hunt\",\"andtag02\":\"lockdown\",\"andtag03\":\"infected with\",\n",
    "        \"andtag04\":\"hahawa\",\"angtag05\":\"cases\",\"andtag06\":\"house-to-house\",\"andtag07\":\"test positive\",\n",
    "        \"andtag08\":\"statistics\"},\n",
    "\t{\"maintag\":\"coronavirus\",\"andtag01\":\"vaccine\",\"andtag02\":\"\",\"andtag03\":\"\",\n",
    "        \"andtag04\":\"\",\"angtag05\":\"\",\"andtag06\":\"\",\"andtag07\":\"\",\n",
    "        \"andtag08\":\"\"},\n",
    "\t{\"maintag\":\"quarantine\",\"andtag01\":\"classification\",\"andtag02\":\"home\",\"andtag03\":\"facility\",\n",
    "        \"andtag04\":\"facilities\",\"angtag05\":\"\",\"andtag06\":\"\",\"andtag07\":\"\",\n",
    "        \"andtag08\":\"\"},\n",
    "\t{\"maintag\":\"pandemic\",\"andtag01\":\"flying back\",\"andtag02\":\"barter\",\"andtag03\":\"\",\n",
    "        \"andtag04\":\"\",\"angtag05\":\"\",\"andtag06\":\"\",\"andtag07\":\"\",\n",
    "        \"andtag08\":\"\"},\n",
    "\t{\"maintag\":\"injections\",\"andtag01\":\"\",\"andtag02\":\"\",\"andtag03\":\"\",\n",
    "        \"andtag04\":\"\",\"angtag05\":\"\",\"andtag06\":\"\",\"andtag07\":\"\",\n",
    "        \"andtag08\":\"\"},\n",
    "\t{\"maintag\":\"ecq\",\"andtag01\":\"list\",\"andtag02\":\"gcq\",\"andtag03\":\"mgcq\",\n",
    "        \"andtag04\":\"mecq\",\"angtag05\":\"city\",\"andtag06\":\"province\",\"andtag07\":\"provinces\",\n",
    "        \"andtag08\":\"metro\"},\n",
    "    {\"maintag\":\"mecq\",\"andtag01\":\"list\",\"andtag02\":\"gcq\",\"andtag03\":\"mgcq\",\n",
    "        \"andtag04\":\"ecq\",\"angtag05\":\"city\",\"andtag06\":\"province\",\"andtag07\":\"provinces\",\n",
    "        \"andtag08\":\"metro\"},\n",
    "\t{\"maintag\":\"gcq\",\"andtag01\":\"list\",\"andtag02\":\"ecq\",\"andtag03\":\"mgcq\",\n",
    "        \"andtag04\":\"mecq\",\"angtag05\":\"city\",\"andtag06\":\"province\",\"andtag07\":\"provinces\",\n",
    "        \"andtag08\":\"metro\"},\n",
    "\t{\"maintag\":\"mgcq\",\"andtag01\":\"list\",\"andtag02\":\"gcq\",\"andtag03\":\"ecq\",\n",
    "        \"andtag04\":\"mecq\",\"angtag05\":\"city\",\"andtag06\":\"province\",\"andtag07\":\"provinces\",\n",
    "        \"andtag08\":\"metro\"},\n",
    "\t{\"maintag\":\"lsi\",\"andtag01\":\"\",\"andtag02\":\"\",\"andtag03\":\"\",\n",
    "        \"andtag04\":\"\",\"angtag05\":\"\",\"andtag06\":\"\",\"andtag07\":\"\",\n",
    "        \"andtag08\":\"\"},\n",
    "\t{\"maintag\":\"locally\",\"andtag01\":\"stranded\",\"andtag02\":\"individuals\",\"andtag03\":\"\",\n",
    "        \"andtag04\":\"\",\"angtag05\":\"\",\"andtag06\":\"\",\"andtag07\":\"covid-19\",\n",
    "        \"andtag08\":\"\"},  \n",
    "\t{\"maintag\":\"death rate\",\"andtag01\":\"\",\"andtag02\":\"\",\"andtag03\":\"\",\n",
    "        \"andtag04\":\"\",\"angtag05\":\"\",\"andtag06\":\"\",\"andtag07\":\"\",\n",
    "        \"andtag08\":\"\"},\n",
    "\t{\"maintag\":\"cases\",\"andtag01\":\"new\",\"andtag02\":\"total\",\"andtag03\":\"recoveries\",\n",
    "        \"andtag04\":\"\",\"angtag05\":\"\",\"andtag06\":\"\",\"andtag07\":\"\",\n",
    "        \"andtag08\":\"\"}]\n",
    "\n",
    "covid_tagdf = pd.DataFrame(covid_tagdict)\n",
    "covid_tagdf.set_index('maintag', inplace=True)\n",
    "\n",
    "def tags_in_str(scanstr, tagdf):\n",
    "    found_tag = False\n",
    "    colslist = tagdf.columns.tolist()\n",
    "    maintaglist = tagdf.index.tolist()\n",
    "    for maintag in maintaglist:\n",
    "        for andcol in colslist:\n",
    "            andtag = tagdf.loc[maintag, andcol]\n",
    "            if maintag in scanstr and andtag in scanstr and andtag != \"\":\n",
    "#                 print(maintag, andtag, scanstr)\n",
    "                found_tag=True\n",
    "                break\n",
    "#             else:\n",
    "#                 print(\"NOT FOUND: \", maintag, andtag,\" SCANSTR: \", scanstr)\n",
    "#     if not found_tag:\n",
    "#         print(\"NOT FOUND: \", maintag, andtag,\" SCANSTR: \", scanstr)\n",
    "    return found_tag\n",
    "\n",
    "scanstr = \"johnny rabbit turkey trots to water COVID-19 HUNT\"\n",
    "if tags_in_str(scanstr.lower(), covid_tagdf):\n",
    "    print(scanstr)\n",
    "else:\n",
    "    print(\"not found\")\n",
    "covid_tagdf"
   ]
  },
  {
   "cell_type": "code",
   "execution_count": 69,
   "metadata": {},
   "outputs": [
    {
     "name": "stdout",
     "output_type": "stream",
     "text": [
      "Percent complete all sources list: 3.2%\n",
      "Percent complete all sources list: 6.5%\n",
      "Percent complete all sources list: 9.7%\n",
      "Percent complete all sources list: 12.9%\n",
      "Percent complete all sources list: 16.1%\n",
      "Percent complete all sources list: 19.4%\n",
      "Percent complete all sources list: 22.6%\n",
      "Percent complete all sources list: 25.8%\n",
      "Percent complete all sources list: 29.0%\n",
      "Percent complete all sources list: 32.3%\n",
      "Percent complete all sources list: 35.5%\n",
      "Percent complete all sources list: 38.7%\n",
      "Percent complete all sources list: 41.9%\n",
      "Percent complete all sources list: 45.2%\n",
      "Percent complete all sources list: 48.4%\n",
      "Percent complete all sources list: 51.6%\n",
      "Percent complete all sources list: 54.8%\n",
      "Percent complete all sources list: 58.1%\n",
      "Percent complete all sources list: 61.3%\n",
      "Percent complete all sources list: 64.5%\n",
      "Percent complete all sources list: 67.7%\n",
      "Percent complete all sources list: 71.0%\n",
      "Percent complete all sources list: 74.2%\n",
      "Percent complete all sources list: 77.4%\n",
      "Percent complete all sources list: 80.6%\n",
      "Percent complete all sources list: 83.9%\n",
      "Percent complete all sources list: 87.1%\n",
      "Percent complete all sources list: 90.3%\n",
      "Percent complete all sources list: 93.5%\n",
      "Percent complete all sources list: 96.8%\n",
      "Percent complete all sources list: 100.0%\n",
      "\n",
      "COVID-19 NEWS ITEMS: \n"
     ]
    },
    {
     "data": {
      "text/html": [
       "<a href='https://www.interaksyon.com/politics-issues/2020/07/16/173055/air-pollution-exposure-linked-to-higher-covid-19-cases-and-deaths-new-study/'> Air pollution exposure linked to higher COVID-19 cases and deaths – new study</a>"
      ],
      "text/plain": [
       "<IPython.core.display.HTML object>"
      ]
     },
     "metadata": {},
     "output_type": "display_data"
    },
    {
     "data": {
      "text/html": [
       "<a href='https://www.eaglenews.ph/at-least-19-mrt-3-trains-to-run-in-metro-manila-amid-gcq-to-allow-social-distancing-says-dotr/'> At least 19 MRT-3 trains to run in Metro Manila amid GCQ to allow social distancing, says DOTr</a>"
      ],
      "text/plain": [
       "<IPython.core.display.HTML object>"
      ]
     },
     "metadata": {},
     "output_type": "display_data"
    },
    {
     "data": {
      "text/html": [
       "<a href='http://davaotoday.com/main/economy/health/davaos-barangay-23-c-on-hard-lockdown-due-to-covid-19/'> Davao’s Barangay 23-C on ‘hard lockdown’ due to Covid-19</a>"
      ],
      "text/plain": [
       "<IPython.core.display.HTML object>"
      ]
     },
     "metadata": {},
     "output_type": "display_data"
    },
    {
     "data": {
      "text/html": [
       "<a href='https://www.eaglenews.ph/flying-back-to-the-philippines-during-the-covid-19-pandemic-what-to-expect-in-the-new-normal/'> Flying back to the Philippines during the COVID-19 pandemic: what to expect in the “new normal”</a>"
      ],
      "text/plain": [
       "<IPython.core.display.HTML object>"
      ]
     },
     "metadata": {},
     "output_type": "display_data"
    },
    {
     "data": {
      "text/html": [
       "<a href='https://politics.com.ph/full-coronavirus-vaccine-unlikely-by-next-year-expert/'> Full coronavirus vaccine unlikely by next year: expert</a>"
      ],
      "text/plain": [
       "<IPython.core.display.HTML object>"
      ]
     },
     "metadata": {},
     "output_type": "display_data"
    },
    {
     "data": {
      "text/html": [
       "<a href='https://politics.com.ph/gcq-in-metro-manila-extended-till-month-end2/'> GCQ in Metro Manila extended till month-end</a>"
      ],
      "text/plain": [
       "<IPython.core.display.HTML object>"
      ]
     },
     "metadata": {},
     "output_type": "display_data"
    },
    {
     "data": {
      "text/html": [
       "<a href='https://politics.com.ph/list-areas-under-mgcq-gcq-mecq-until-end-july/'> LIST: Areas under MGCQ, GCQ, MECQ until end-July</a>"
      ],
      "text/plain": [
       "<IPython.core.display.HTML object>"
      ]
     },
     "metadata": {},
     "output_type": "display_data"
    },
    {
     "data": {
      "text/html": [
       "<a href='https://www.eaglenews.ph/list-of-areas-quarantine-classifications-starting-july-16-until-july-31/'> List of areas, quarantine classifications starting July 16 until July 31</a>"
      ],
      "text/plain": [
       "<IPython.core.display.HTML object>"
      ]
     },
     "metadata": {},
     "output_type": "display_data"
    },
    {
     "data": {
      "text/html": [
       "<a href='https://politics.com.ph/mark-villar-infected-with-covid-19-netizens-tell-isolation-czar-to-get-well-soon/'> Mark Villar infected with COVID-19; Netizens tell isolation czar to get well soon</a>"
      ],
      "text/plain": [
       "<IPython.core.display.HTML object>"
      ]
     },
     "metadata": {},
     "output_type": "display_data"
    },
    {
     "data": {
      "text/html": [
       "<a href='https://www.interaksyon.com/politics-issues/2020/07/15/172940/moderna-phase-1-results-show-coronavirus-vaccine-safe-induces-immune-response/'> Moderna Phase 1 results show coronavirus vaccine safe, induces immune response</a>"
      ],
      "text/plain": [
       "<IPython.core.display.HTML object>"
      ]
     },
     "metadata": {},
     "output_type": "display_data"
    },
    {
     "data": {
      "text/html": [
       "<a href='https://www.interaksyon.com/trends-spotlights/2020/07/15/172903/new-barter-trade-philippines-dti-illegal/'> New barter trade emerging as Filipinos cope with pandemic effects, but DTI says it’s illegal</a>"
      ],
      "text/plain": [
       "<IPython.core.display.HTML object>"
      ]
     },
     "metadata": {},
     "output_type": "display_data"
    },
    {
     "data": {
      "text/html": [
       "<a href='https://www.eaglenews.ph/phl-covid-cases-reach-61266-with-the-addition-of-almost-2500-new-cases-mostly-from-metro-manila/'> PHL COVID cases reach 61,266 with the addition of almost 2,500 new cases mostly from Metro Manila</a>"
      ],
      "text/plain": [
       "<IPython.core.display.HTML object>"
      ]
     },
     "metadata": {},
     "output_type": "display_data"
    },
    {
     "data": {
      "text/html": [
       "<a href='https://www.interaksyon.com/politics-issues/2020/07/15/172919/philippines-to-use-police-in-house-to-house-searches-for-covid-19-cases/'> Philippines to use police in house-to-house searches for COVID-19 cases</a>"
      ],
      "text/plain": [
       "<IPython.core.display.HTML object>"
      ]
     },
     "metadata": {},
     "output_type": "display_data"
    },
    {
     "data": {
      "text/html": [
       "<a href='http://davaotoday.com/main/economy/health/up-scientists-to-roque-statistics-show-ph-not-winning-vs-covid-19/'> UP scientists to Roque: statistics show PH not winning vs Covid-19</a>"
      ],
      "text/plain": [
       "<IPython.core.display.HTML object>"
      ]
     },
     "metadata": {},
     "output_type": "display_data"
    },
    {
     "data": {
      "text/html": [
       "<a href='https://www.mindanews.com/top-stories/2020/07/zambo-and-butuan-cities-basilan-and-agusan-del-norte-back-to-gcq-davao-city-remains-under-mgcq/'> Zambo and Butuan cities, Basilan and Agusan del Norte back to GCQ; Davao City remains under MGCQ</a>"
      ],
      "text/plain": [
       "<IPython.core.display.HTML object>"
      ]
     },
     "metadata": {},
     "output_type": "display_data"
    },
    {
     "data": {
      "text/html": [
       "<a href='https://www.interaksyon.com/politics-issues/2020/07/16/173110/panalo-na-naman-tayo-filipinos-recall-roques-congratulations-philippines-covid-19-cases-exceed-60k/'> ‘Panalo na naman tayo’: Filipinos recall Roque’s ‘Congratulations Philippines’ as COVID-19 cases exceed 60K</a>"
      ],
      "text/plain": [
       "<IPython.core.display.HTML object>"
      ]
     },
     "metadata": {},
     "output_type": "display_data"
    },
    {
     "name": "stdout",
     "output_type": "stream",
     "text": [
      "\n",
      "AUTHORITARIANISM/ DEMOCRACY THREAT NEWS ITEMS: \n"
     ]
    },
    {
     "data": {
      "text/html": [
       "<a href='https://www.manilatimes.net/2020/07/17/todays-headline-photos/anti-terror-tune/742804/'> ANTI-TERROR TUNE</a>"
      ],
      "text/plain": [
       "<IPython.core.display.HTML object>"
      ]
     },
     "metadata": {},
     "output_type": "display_data"
    },
    {
     "data": {
      "text/html": [
       "<a href='https://www.mindanews.com/peace-process/2020/06/bangsamoro-parliament-has-yet-to-act-on-resolution-expressing-grave-concern-over-proposed-anti-terrorism-act/'> Bangsamoro Parliament has yet to act on resolution expressing “grave concern” over proposed Anti-Terrorism Act</a>"
      ],
      "text/plain": [
       "<IPython.core.display.HTML object>"
      ]
     },
     "metadata": {},
     "output_type": "display_data"
    },
    {
     "data": {
      "text/html": [
       "<a href='https://www.mindanews.com/peace-process/2020/01/ceasefire-holding-sison-says-he-is-ready-to-meet-duterte-in-hanoi/'> Ceasefire holding; Sison says he is ready to meet Duterte in Hanoi  </a>"
      ],
      "text/plain": [
       "<IPython.core.display.HTML object>"
      ]
     },
     "metadata": {},
     "output_type": "display_data"
    },
    {
     "data": {
      "text/html": [
       "<a href='https://politics.com.ph/duterte-claims-he-dismantled-filipino-oligarchy-they-take-advantage-of-their-political-power/'> Duterte claims he ‘dismantled’ Filipino oligarchy: They take advantage of their political power</a>"
      ],
      "text/plain": [
       "<IPython.core.display.HTML object>"
      ]
     },
     "metadata": {},
     "output_type": "display_data"
    },
    {
     "data": {
      "text/html": [
       "<a href='https://politics.com.ph/duterte-denies-hand-in-abs-cbn-franchise-death-congress-ang-nagpasara-niyan/'> Duterte denies hand in ABS-CBN franchise death: ‘Congress ang nagpasara niyan’</a>"
      ],
      "text/plain": [
       "<IPython.core.display.HTML object>"
      ]
     },
     "metadata": {},
     "output_type": "display_data"
    },
    {
     "data": {
      "text/html": [
       "<a href='https://www.interaksyon.com/politics-issues/2020/07/16/173057/duterte-extends-partial-restrictions-in-metro-manila-to-contain-covid-19/'> Duterte extends partial restrictions in Metro Manila to contain COVID-19</a>"
      ],
      "text/plain": [
       "<IPython.core.display.HTML object>"
      ]
     },
     "metadata": {},
     "output_type": "display_data"
    },
    {
     "data": {
      "text/html": [
       "<a href='https://www.mindanews.com/booksmindanews/2019/11/duterte-has-no-meranaw-roots-book-author-says/'> Duterte has no Meranaw roots, book author says</a>"
      ],
      "text/plain": [
       "<IPython.core.display.HTML object>"
      ]
     },
     "metadata": {},
     "output_type": "display_data"
    },
    {
     "data": {
      "text/html": [
       "<a href='https://politics.com.ph/duterte-ignores-locals-bright-bright-girls-of-media-hanggang-diyan-lang-sila/'> Duterte ignores ‘local, bright-bright girls’ of media: Hanggang diyan lang sila!</a>"
      ],
      "text/plain": [
       "<IPython.core.display.HTML object>"
      ]
     },
     "metadata": {},
     "output_type": "display_data"
    },
    {
     "data": {
      "text/html": [
       "<a href='https://politics.com.ph/duterte-invites-eddie-boy-lim-as-consultant-for-soldiers/'> Duterte invites Eddie Boy Lim as consultant for soldiers</a>"
      ],
      "text/plain": [
       "<IPython.core.display.HTML object>"
      ]
     },
     "metadata": {},
     "output_type": "display_data"
    },
    {
     "data": {
      "text/html": [
       "<a href='https://www.manilatimes.net/2020/07/16/news/latest-stories/duterte-names-new-sc-associate-justice-2/742652/'> Duterte names new SC associate justice</a>"
      ],
      "text/plain": [
       "<IPython.core.display.HTML object>"
      ]
     },
     "metadata": {},
     "output_type": "display_data"
    },
    {
     "data": {
      "text/html": [
       "<a href='https://politics.com.ph/duterte-orders-transfer-of-remaining-govt-offices-in-zamboanga-to-pagadian/'> Duterte orders transfer of remaining gov’t offices in Zamboanga to Pagadian</a>"
      ],
      "text/plain": [
       "<IPython.core.display.HTML object>"
      ]
     },
     "metadata": {},
     "output_type": "display_data"
    },
    {
     "data": {
      "text/html": [
       "<a href='https://politics.com.ph/duterte-pa-more-charter-change-to-be-revived-for-no-el-2022/'> Duterte pa more! Charter change to be revived for ‘No-el’ 2022</a>"
      ],
      "text/plain": [
       "<IPython.core.display.HTML object>"
      ]
     },
     "metadata": {},
     "output_type": "display_data"
    },
    {
     "data": {
      "text/html": [
       "<a href='https://politics.com.ph/duterte-signs-anti-terror-bill-into-law/'> Duterte signs controversial anti-terror law</a>"
      ],
      "text/plain": [
       "<IPython.core.display.HTML object>"
      ]
     },
     "metadata": {},
     "output_type": "display_data"
    },
    {
     "data": {
      "text/html": [
       "<a href='https://politics.com.ph/duterte-tells-friends-to-get-into-business-while-hes-president-kung-yayaman-ka-diyan-mas-maligaya-ako/'> Duterte tells friends to get into business while he’s President: Kung yayaman ka diyan, mas maligaya ako!</a>"
      ],
      "text/plain": [
       "<IPython.core.display.HTML object>"
      ]
     },
     "metadata": {},
     "output_type": "display_data"
    },
    {
     "data": {
      "text/html": [
       "<a href='https://politics.com.ph/duterte-thinks-drilon-authored-onerous-water-deals-kaya-sya-nag-warning/'> Duterte thinks Drilon authored ‘onerous’ water deals: ‘Kaya s’ya nag warning’</a>"
      ],
      "text/plain": [
       "<IPython.core.display.HTML object>"
      ]
     },
     "metadata": {},
     "output_type": "display_data"
    },
    {
     "data": {
      "text/html": [
       "<a href='https://politics.com.ph/duterte-threatens-to-close-down-jt-express-wants-probe-into-alleged-cargo-mishandling/'> Duterte threatens to ‘close down’ J&T Express, wants probe into alleged cargo mishandling</a>"
      ],
      "text/plain": [
       "<IPython.core.display.HTML object>"
      ]
     },
     "metadata": {},
     "output_type": "display_data"
    },
    {
     "data": {
      "text/html": [
       "<a href='https://politics.com.ph/duterte-to-cebuanos-dont-fck-with-me-shape-up/'> Duterte to Cebuanos: ‘Don’t f*ck with me, shape up’</a>"
      ],
      "text/plain": [
       "<IPython.core.display.HTML object>"
      ]
     },
     "metadata": {},
     "output_type": "display_data"
    },
    {
     "data": {
      "text/html": [
       "<a href='https://www.interaksyon.com/politics-issues/2020/07/14/172857/duterte-dismantling-oligarchy-definition/'> Duterte trumpets success ‘dismantling oligarchy.’ Why it’s confusing for some</a>"
      ],
      "text/plain": [
       "<IPython.core.display.HTML object>"
      ]
     },
     "metadata": {},
     "output_type": "display_data"
    },
    {
     "data": {
      "text/html": [
       "<a href='https://politics.com.ph/dutertes-job-to-gather-evidence-vs-maria-ressa-roque/'> Duterte’s ‘job’ to gather evidence vs Maria Ressa – Roque</a>"
      ],
      "text/plain": [
       "<IPython.core.display.HTML object>"
      ]
     },
     "metadata": {},
     "output_type": "display_data"
    },
    {
     "data": {
      "text/html": [
       "<a href='https://politics.com.ph/fascist-government-palace-says-jerry-gracio-should-never-have-agreed-to-serve-duterte-admin/'> Fascist government? Palace says Jerry Gracio should never have agreed to serve Duterte admin</a>"
      ],
      "text/plain": [
       "<IPython.core.display.HTML object>"
      ]
     },
     "metadata": {},
     "output_type": "display_data"
    },
    {
     "data": {
      "text/html": [
       "<a href='https://politics.com.ph/gretchen-barretto-still-a-duterte-loyalist-silent-on-abs-cbn-franchise-denial/'> Gretchen Barretto still a Duterte loyalist, silent on ABS-CBN franchise denial</a>"
      ],
      "text/plain": [
       "<IPython.core.display.HTML object>"
      ]
     },
     "metadata": {},
     "output_type": "display_data"
    },
    {
     "data": {
      "text/html": [
       "<a href='https://politics.com.ph/harry-roque-mum-on-dutertes-fresh-tirades-vs-lopezes-i-was-not-in-jolo/'> Harry Roque mum on Duterte’s fresh tirades vs Lopezes: ‘I was not in Jolo’</a>"
      ],
      "text/plain": [
       "<IPython.core.display.HTML object>"
      ]
     },
     "metadata": {},
     "output_type": "display_data"
    },
    {
     "data": {
      "text/html": [
       "<a href='https://www.eaglenews.ph/in-photos-president-duterte-undergoes-covid-19-test-along-with-sen-bong-go/'> In photos:  President Duterte undergoes COVID-19 test, along with Sen. Bong Go</a>"
      ],
      "text/plain": [
       "<IPython.core.display.HTML object>"
      ]
     },
     "metadata": {},
     "output_type": "display_data"
    },
    {
     "data": {
      "text/html": [
       "<a href='https://www.eaglenews.ph/in-photos-president-duterte-speaks-to-chinese-leader-xi-over-the-phone/'> In photos: President Duterte speaks to Chinese leader Xi over the phone</a>"
      ],
      "text/plain": [
       "<IPython.core.display.HTML object>"
      ]
     },
     "metadata": {},
     "output_type": "display_data"
    },
    {
     "data": {
      "text/html": [
       "<a href='https://politics.com.ph/magaling-man-sabit-din-nbi-nabs-hacker-who-shared-baste-dutertes-address/'> Magaling man sabit din! NBI nabs hacker who shared Baste Duterte’s address</a>"
      ],
      "text/plain": [
       "<IPython.core.display.HTML object>"
      ]
     },
     "metadata": {},
     "output_type": "display_data"
    },
    {
     "data": {
      "text/html": [
       "<a href='https://politics.com.ph/nilaro-nila-bayan-ko-duterte-claims-lopez-family-has-too-much-influence-on-elections/'> Nilaro nila bayan ko! Duterte claims Lopez family has too much influence on elections</a>"
      ],
      "text/plain": [
       "<IPython.core.display.HTML object>"
      ]
     },
     "metadata": {},
     "output_type": "display_data"
    },
    {
     "data": {
      "text/html": [
       "<a href='https://politics.com.ph/no-more-fomo-roque-vows-to-join-dutertes-future-activities/'> No more FOMO: Roque vows to join Duterte’s future activities</a>"
      ],
      "text/plain": [
       "<IPython.core.display.HTML object>"
      ]
     },
     "metadata": {},
     "output_type": "display_data"
    },
    {
     "data": {
      "text/html": [
       "<a href='https://politics.com.ph/palace-not-100-sure-duterte-will-deliver-sona-in-batasan/'> Palace not 100% sure Duterte will deliver SONA in Batasan</a>"
      ],
      "text/plain": [
       "<IPython.core.display.HTML object>"
      ]
     },
     "metadata": {},
     "output_type": "display_data"
    },
    {
     "data": {
      "text/html": [
       "<a href='https://www.eaglenews.ph/palace-still-no-final-decision-on-whether-president-duterte-will-deliver-5th-sona-physically-at-batasang-pambansa/'> Palace: Still no final decision on whether President Duterte will deliver 5th SONA “physically” at Batasang Pambansa</a>"
      ],
      "text/plain": [
       "<IPython.core.display.HTML object>"
      ]
     },
     "metadata": {},
     "output_type": "display_data"
    },
    {
     "data": {
      "text/html": [
       "<a href='https://politics.com.ph/parang-walang-natutunan-sa-pma-mon-tulfo-blasts-dela-rosa-for-advising-abs-cbn-employees-to-look-for-other-jobs/'> Parang walang natutunan sa PMA! Mon Tulfo blasts Dela Rosa for advising ABS-CBN employees to look for other jobs</a>"
      ],
      "text/plain": [
       "<IPython.core.display.HTML object>"
      ]
     },
     "metadata": {},
     "output_type": "display_data"
    },
    {
     "data": {
      "text/html": [
       "<a href='http://davaotoday.com/main/politics/petitions-vs-anti-terror-law-grow-in-number/'> Petitions vs anti-terror law grow in number</a>"
      ],
      "text/plain": [
       "<IPython.core.display.HTML object>"
      ]
     },
     "metadata": {},
     "output_type": "display_data"
    },
    {
     "data": {
      "text/html": [
       "<a href='https://www.benarnews.org/english/news/philippine/anti-terror-law-07072020132111.html'> Philippines: Leaders of Autonomous Region Covet Seat on Anti-Terror Council</a>"
      ],
      "text/plain": [
       "<IPython.core.display.HTML object>"
      ]
     },
     "metadata": {},
     "output_type": "display_data"
    },
    {
     "data": {
      "text/html": [
       "<a href='https://www.eaglenews.ph/president-duterte-visits-soldiers-in-sulu/'> President Duterte visits soldiers in Sulu</a>"
      ],
      "text/plain": [
       "<IPython.core.display.HTML object>"
      ]
     },
     "metadata": {},
     "output_type": "display_data"
    },
    {
     "data": {
      "text/html": [
       "<a href='https://politics.com.ph/live_streaming/president-rodrigo-duterte-addresses-the-public-may-25-2020/'> President Rodrigo Duterte addresses the public May 25, 2020</a>"
      ],
      "text/plain": [
       "<IPython.core.display.HTML object>"
      ]
     },
     "metadata": {},
     "output_type": "display_data"
    },
    {
     "data": {
      "text/html": [
       "<a href='https://politics.com.ph/live_streaming/president-rodrigo-duterte-addresses-the-public-may-28-2020/'> President Rodrigo Duterte addresses the public May 28, 2020</a>"
      ],
      "text/plain": [
       "<IPython.core.display.HTML object>"
      ]
     },
     "metadata": {},
     "output_type": "display_data"
    },
    {
     "data": {
      "text/html": [
       "<a href='https://politics.com.ph/repeal-anti-terror-law-roque-to-u-s-solons-hindi-na-namin-kayo-colonial-masters/'> Repeal anti-terror law? Roque to U.S. solons: ‘Hindi na namin kayo colonial masters’</a>"
      ],
      "text/plain": [
       "<IPython.core.display.HTML object>"
      ]
     },
     "metadata": {},
     "output_type": "display_data"
    },
    {
     "data": {
      "text/html": [
       "<a href='http://retiredanalyst.blogspot.com/2020/07/cppcio-dutertes-anti-oligarchy.html'> Retired Analyst: CPP/CIO: Duterte’s anti-oligarchy propaganda is a big fake</a>"
      ],
      "text/plain": [
       "<IPython.core.display.HTML object>"
      ]
     },
     "metadata": {},
     "output_type": "display_data"
    },
    {
     "data": {
      "text/html": [
       "<a href='http://retiredanalyst.blogspot.com/2020/07/cppndf-km-end-liesdutertes-rule-is-on.html'> Retired Analyst: CPP/NDF-KM: END THE LIES—Duterte’s rule is on the brink of collapse</a>"
      ],
      "text/plain": [
       "<IPython.core.display.HTML object>"
      ]
     },
     "metadata": {},
     "output_type": "display_data"
    },
    {
     "data": {
      "text/html": [
       "<a href='http://retiredanalyst.blogspot.com/2020/07/cppndf-southern-tagalog-kondenahin-ang.html'> Retired Analyst: CPP/NDF-Southern Tagalog: Kondenahin ang tuluyang pagpapasara sa ABS-CBN ng mga utusang-aso ni Duterte sa Kongreso</a>"
      ],
      "text/plain": [
       "<IPython.core.display.HTML object>"
      ]
     },
     "metadata": {},
     "output_type": "display_data"
    },
    {
     "data": {
      "text/html": [
       "<a href='http://retiredanalyst.blogspot.com/2020/07/cppnews-expect-dutertes-neoliberal.html'> Retired Analyst: CPP/News: Expect Duterte’s neoliberal legislative agenda in his 4th SONA</a>"
      ],
      "text/plain": [
       "<IPython.core.display.HTML object>"
      ]
     },
     "metadata": {},
     "output_type": "display_data"
    },
    {
     "data": {
      "text/html": [
       "<a href='https://politics.com.ph/robredo-scores-paolo-dutertes-proposal-to-rename-naia-nasa-gitna-ng-pandemya-ito-pa-talaga-maiisip/'> Robredo scores Paolo Duterte’s proposal to rename NAIA: Nasa gitna ng pandemya, ito pa talaga maiisip!</a>"
      ],
      "text/plain": [
       "<IPython.core.display.HTML object>"
      ]
     },
     "metadata": {},
     "output_type": "display_data"
    },
    {
     "data": {
      "text/html": [
       "<a href='https://politics.com.ph/sarap-ng-buhay-mon-tulfo-claims-dela-rosa-owns-home-inside-posh-cavite-subdivision1/'> Sarap ng buhay! Mon Tulfo claims Dela Rosa owns home inside posh Cavite subdivision</a>"
      ],
      "text/plain": [
       "<IPython.core.display.HTML object>"
      ]
     },
     "metadata": {},
     "output_type": "display_data"
    },
    {
     "data": {
      "text/html": [
       "<a href='https://www.eaglenews.ph/senator-dela-rosa-posts-photo-of-pnp-chief-gamboa-in-hospital-to-show-that-hes-okay/'> Senator Dela Rosa posts photo of PNP chief Gamboa in hospital to show that he’s okay</a>"
      ],
      "text/plain": [
       "<IPython.core.display.HTML object>"
      ]
     },
     "metadata": {},
     "output_type": "display_data"
    },
    {
     "data": {
      "text/html": [
       "<a href='http://davaotoday.com/main/todays-views/terrorizing-the-people-with-the-anti-terror-bill/'> Terrorizing the people with the anti-terror bill</a>"
      ],
      "text/plain": [
       "<IPython.core.display.HTML object>"
      ]
     },
     "metadata": {},
     "output_type": "display_data"
    },
    {
     "data": {
      "text/html": [
       "<a href='http://davaotoday.com/main/human-rights/union-slams-red-tagging-by-vice-mayor-during-labor-settlement/'> Union slams red-tagging by vice mayor during labor settlement</a>"
      ],
      "text/plain": [
       "<IPython.core.display.HTML object>"
      ]
     },
     "metadata": {},
     "output_type": "display_data"
    },
    {
     "data": {
      "text/html": [
       "<a href='https://www.interaksyon.com/politics-issues/2020/07/16/173094/viewers-of-duterte-national-address-blast-duque-for-improper-wear-of-face-mask/'> Viewers of Duterte’s national address blast Duque for improper wear of face mask</a>"
      ],
      "text/plain": [
       "<IPython.core.display.HTML object>"
      ]
     },
     "metadata": {},
     "output_type": "display_data"
    },
    {
     "data": {
      "text/html": [
       "<a href='https://politics.com.ph/wa-epek-paawa-bbc-journalist-calls-out-ressas-lies-on-press-freedoms-death-under-duterte/'> Wa epek paawa! BBC journalist calls out Ressa’s lies on press freedom’s ‘death’ under Duterte</a>"
      ],
      "text/plain": [
       "<IPython.core.display.HTML object>"
      ]
     },
     "metadata": {},
     "output_type": "display_data"
    },
    {
     "data": {
      "text/html": [
       "<a href='https://www.interaksyon.com/politics-issues/2020/07/14/172839/why-doctors-on-social-media-are-puzzled-by-palace-remark-that-duterte-is-88-healthy/'> Why doctors on social media are puzzled by Palace remark that Duterte is 88% healthy</a>"
      ],
      "text/plain": [
       "<IPython.core.display.HTML object>"
      ]
     },
     "metadata": {},
     "output_type": "display_data"
    },
    {
     "data": {
      "text/html": [
       "<a href='https://www.interaksyon.com/trends-spotlights/2020/07/15/172927/activists-not-terrorists-greta-thunberg-calls-for-repeal-of-philippines-anti-terror-law/'> ‘Activists not terrorists’: Greta Thunberg calls for repeal of Philippines’ anti-terror law</a>"
      ],
      "text/plain": [
       "<IPython.core.display.HTML object>"
      ]
     },
     "metadata": {},
     "output_type": "display_data"
    },
    {
     "data": {
      "text/html": [
       "<a href='https://politics.com.ph/binaboy-ako-duterte-slams-kapamilya-network-over-foreign-subsidiaries-tax-free-equipment/'> ‘Binaboy ako’: Duterte slams Kapamilya network over foreign subsidiaries, tax-free equipment</a>"
      ],
      "text/plain": [
       "<IPython.core.display.HTML object>"
      ]
     },
     "metadata": {},
     "output_type": "display_data"
    },
    {
     "data": {
      "text/html": [
       "<a href='https://politics.com.ph/di-aabot-sa-sampung-boto-iglesia-ni-cristo-pulong-duterte-team-up-to-kill-abs-cbns-franchise-bid/'> ‘Di aabot sa sampung boto! Iglesia Ni Cristo, Pulong Duterte team up to kill ABS-CBN’s franchise bid</a>"
      ],
      "text/plain": [
       "<IPython.core.display.HTML object>"
      ]
     },
     "metadata": {},
     "output_type": "display_data"
    },
    {
     "data": {
      "text/html": [
       "<a href='https://politics.com.ph/di-magpapadala-sa-pressure-guevarra-vows-conscience-will-prevail-in-dojs-review-of-anti-terror-bill/'> ‘Di magpapadala sa pressure! Guevarra vows conscience will prevail in DOJ’s review of anti-terror bill</a>"
      ],
      "text/plain": [
       "<IPython.core.display.HTML object>"
      ]
     },
     "metadata": {},
     "output_type": "display_data"
    },
    {
     "data": {
      "text/html": [
       "<a href='https://politics.com.ph/di-nasabon-duterte-gives-duque-free-pass-for-claiming-covid-19-curve-flattened/'> ‘Di nasabon! Duterte gives Duque free pass for claiming COVID-19 curve flattened</a>"
      ],
      "text/plain": [
       "<IPython.core.display.HTML object>"
      ]
     },
     "metadata": {},
     "output_type": "display_data"
    },
    {
     "data": {
      "text/html": [
       "<a href='https://politics.com.ph/lungkot-na-lungkot-siya-duterte-wants-to-talk-to-cops-who-killed-soldiers-in-jolo-shooting-incident/'> ‘Lungkot na lungkot siya’: Duterte wants to talk to cops who killed soldiers in Jolo shooting incident</a>"
      ],
      "text/plain": [
       "<IPython.core.display.HTML object>"
      ]
     },
     "metadata": {},
     "output_type": "display_data"
    },
    {
     "data": {
      "text/html": [
       "<a href='https://politics.com.ph/reposting-not-knowing-if-its-true-sharon-cuneta-curious-about-politiko-article-on-alleged-pulong-duterte-iglesia-ni-cristo-link-to-abs-cbn-shutdown/'> ‘Reposting, not knowing if it’s true:’ Sharon Cuneta curious about Politiko article on alleged Pulong Duterte-Iglesia Ni Cristo link to ABS-CBN shutdown</a>"
      ],
      "text/plain": [
       "<IPython.core.display.HTML object>"
      ]
     },
     "metadata": {},
     "output_type": "display_data"
    },
    {
     "data": {
      "text/html": [
       "<a href='https://politics.com.ph/too-early-for-you-to-enjoy-your-awards-duterte-says-maria-ressa-is-a-fraud/'> ‘Too early for you to enjoy your awards’: Duterte to bury Maria Ressa with more cases</a>"
      ],
      "text/plain": [
       "<IPython.core.display.HTML object>"
      ]
     },
     "metadata": {},
     "output_type": "display_data"
    },
    {
     "data": {
      "text/html": [
       "<a href='https://politics.com.ph/unless-you-are-driven-by-patriotism-duterte-discourages-daughter-sara-to-run-for-highest-public-office/'> ‘Unless you are driven by patriotism’: Duterte discourages daughter Sara to run for highest public office</a>"
      ],
      "text/plain": [
       "<IPython.core.display.HTML object>"
      ]
     },
     "metadata": {},
     "output_type": "display_data"
    },
    {
     "data": {
      "text/html": [
       "<a href='https://politics.com.ph/we-will-never-forget-trillanes-slams-duterte-cayetano-over-abs-cbn-shutdown/'> ‘We will never forget:’ Trillanes slams Duterte, Cayetano over ABS-CBN shutdown</a>"
      ],
      "text/plain": [
       "<IPython.core.display.HTML object>"
      ]
     },
     "metadata": {},
     "output_type": "display_data"
    },
    {
     "name": "stdout",
     "output_type": "stream",
     "text": [
      "\n",
      "CHINA THREAT TO THE PHILIPPINES NEWS ITEMS: \n"
     ]
    },
    {
     "data": {
      "text/html": [
       "<a href='https://www.benarnews.org/english/news/indonesian/sea-concerns-06262020145459.html'> ASEAN Leaders Assert Importance of Free Airspace over South China Sea</a>"
      ],
      "text/plain": [
       "<IPython.core.display.HTML object>"
      ]
     },
     "metadata": {},
     "output_type": "display_data"
    },
    {
     "data": {
      "text/html": [
       "<a href='/Politics/International-relations/South-China-Sea/Asia-greets-US-shift-on-South-China-Sea-with-hope-and-doubt'> Asia greets US shift on South China Sea with hope and doubt</a>"
      ],
      "text/plain": [
       "<IPython.core.display.HTML object>"
      ]
     },
     "metadata": {},
     "output_type": "display_data"
    },
    {
     "data": {
      "text/html": [
       "<a href='/Politics/International-relations/South-China-Sea/China-and-Philippines-affirm-ties-after-South-China-Sea-spat'> China and Philippines affirm ties after South China Sea spat</a>"
      ],
      "text/plain": [
       "<IPython.core.display.HTML object>"
      ]
     },
     "metadata": {},
     "output_type": "display_data"
    },
    {
     "data": {
      "text/html": [
       "<a href='https://www.manilatimes.net/2020/07/17/news/national/chinese-ambassador-huang-xilian-an-exclusive-manila-times-interview/742686/'> Chinese Ambassador Huang Xilian: An exclusive Manila Times interview</a>"
      ],
      "text/plain": [
       "<IPython.core.display.HTML object>"
      ]
     },
     "metadata": {},
     "output_type": "display_data"
    },
    {
     "data": {
      "text/html": [
       "<a href='https://www.manilatimes.net/2020/07/17/opinion/columnists/topanalysis/locsin-and-lorenzana-so-terribly-misinformed-about-ph-vs-china-arbitration/742764/'> Locsin and Lorenzana so terribly misinformed about PH vs China arbitration</a>"
      ],
      "text/plain": [
       "<IPython.core.display.HTML object>"
      ]
     },
     "metadata": {},
     "output_type": "display_data"
    },
    {
     "data": {
      "text/html": [
       "<a href='https://politics.com.ph/philippines-wont-abandon-south-china-sea-arbitration-win-against-beijing-palace/'> Philippines won’t abandon South China Sea arbitration win against Beijing: Palace</a>"
      ],
      "text/plain": [
       "<IPython.core.display.HTML object>"
      ]
     },
     "metadata": {},
     "output_type": "display_data"
    },
    {
     "data": {
      "text/html": [
       "<a href='http://retiredanalyst.blogspot.com/2020/07/comment-philippines-future-floats-in.html'> Retired Analyst: COMMENT: The Philippines’ Future Floats in the West Philippine Sea</a>"
      ],
      "text/plain": [
       "<IPython.core.display.HTML object>"
      ]
     },
     "metadata": {},
     "output_type": "display_data"
    },
    {
     "data": {
      "text/html": [
       "<a href='https://www.eaglenews.ph/us-aircraft-carriers-conduct-drills-in-south-china-sea/'> US aircraft carriers conduct drills in South China Sea</a>"
      ],
      "text/plain": [
       "<IPython.core.display.HTML object>"
      ]
     },
     "metadata": {},
     "output_type": "display_data"
    },
    {
     "data": {
      "text/html": [
       "<a href='https://politics.com.ph/us-brands-beijings-south-china-sea-claims-illegal/'> US brands Beijing’s South China Sea claims illegal</a>"
      ],
      "text/plain": [
       "<IPython.core.display.HTML object>"
      ]
     },
     "metadata": {},
     "output_type": "display_data"
    },
    {
     "data": {
      "text/html": [
       "<a href='https://www.interaksyon.com/politics-issues/2020/07/15/172921/us-rejects-chinas-claims-in-south-china-sea-adding-to-tensions/'> US rejects China’s claims in South China Sea, adding to tensions</a>"
      ],
      "text/plain": [
       "<IPython.core.display.HTML object>"
      ]
     },
     "metadata": {},
     "output_type": "display_data"
    },
    {
     "data": {
      "text/html": [
       "<a href='/Politics/International-relations/South-China-Sea/US-to-strengthen-electronic-warfare-abilities-in-South-China-Sea'> US to strengthen electronic-warfare abilities in South China Sea</a>"
      ],
      "text/plain": [
       "<IPython.core.display.HTML object>"
      ]
     },
     "metadata": {},
     "output_type": "display_data"
    },
    {
     "name": "stdout",
     "output_type": "stream",
     "text": [
      "\n",
      "CHRISTIAN AND RELIGIOUS GROUPS NEWS ITEMS: \n"
     ]
    },
    {
     "data": {
      "text/html": [
       "<a href='https://www.eaglenews.ph/iglesia-ni-cristo-church-of-christ-in-hawaii-conducts-contact-free-aid-to-humanity-during-covid-19-crisis/'> Iglesia Ni Cristo (Church Of Christ) in Hawaii conducts contact-free Aid to Humanity during COVID-19 crisis</a>"
      ],
      "text/plain": [
       "<IPython.core.display.HTML object>"
      ]
     },
     "metadata": {},
     "output_type": "display_data"
    },
    {
     "data": {
      "text/html": [
       "<a href='https://www.eaglenews.ph/iglesia-ni-cristo-in-taiwan-holds-lingap-for-ofws/'> Iglesia Ni Cristo in Taiwan holds “Lingap for OFWs”</a>"
      ],
      "text/plain": [
       "<IPython.core.display.HTML object>"
      ]
     },
     "metadata": {},
     "output_type": "display_data"
    },
    {
     "data": {
      "text/html": [
       "<a href='https://www.eaglenews.ph/in-photos-iglesia-ni-cristo-starts-lingap-sa-mamamayan-to-help-those-affected-by-mindanao-quakes/'> In photos: Iglesia Ni Cristo starts “Lingap sa Mamamayan” to help those affected by Mindanao quakes</a>"
      ],
      "text/plain": [
       "<IPython.core.display.HTML object>"
      ]
     },
     "metadata": {},
     "output_type": "display_data"
    },
    {
     "data": {
      "text/html": [
       "<a href='https://politics.com.ph/not-so-fast-inc-cbcp-has-best-shot-at-getting-abs-cbn-frequency-find-out-how/'> Not so fast INC: CBCP has best shot at getting ABS-CBN frequency. Find out how</a>"
      ],
      "text/plain": [
       "<IPython.core.display.HTML object>"
      ]
     },
     "metadata": {},
     "output_type": "display_data"
    },
    {
     "data": {
      "text/html": [
       "<a href='https://politics.com.ph/di-aabot-sa-sampung-boto-iglesia-ni-cristo-pulong-duterte-team-up-to-kill-abs-cbns-franchise-bid/'> ‘Di aabot sa sampung boto! Iglesia Ni Cristo, Pulong Duterte team up to kill ABS-CBN’s franchise bid</a>"
      ],
      "text/plain": [
       "<IPython.core.display.HTML object>"
      ]
     },
     "metadata": {},
     "output_type": "display_data"
    },
    {
     "data": {
      "text/html": [
       "<a href='https://politics.com.ph/reposting-not-knowing-if-its-true-sharon-cuneta-curious-about-politiko-article-on-alleged-pulong-duterte-iglesia-ni-cristo-link-to-abs-cbn-shutdown/'> ‘Reposting, not knowing if it’s true:’ Sharon Cuneta curious about Politiko article on alleged Pulong Duterte-Iglesia Ni Cristo link to ABS-CBN shutdown</a>"
      ],
      "text/plain": [
       "<IPython.core.display.HTML object>"
      ]
     },
     "metadata": {},
     "output_type": "display_data"
    },
    {
     "name": "stdout",
     "output_type": "stream",
     "text": [
      "\n",
      "ECONOMY NEWS ITEMS: \n"
     ]
    },
    {
     "data": {
      "text/html": [
       "<a href='/Economy/Chinese-are-buying-houses-again-buoying-economy'> Chinese are buying houses again, buoying economy</a>"
      ],
      "text/plain": [
       "<IPython.core.display.HTML object>"
      ]
     },
     "metadata": {},
     "output_type": "display_data"
    },
    {
     "data": {
      "text/html": [
       "<a href='http://davaotoday.com/main/headline/misor-wants-final-version-of-iatf-guidelines-on-backriding-policy/'> MisOr wants final version of IATF guidelines on backriding policy</a>"
      ],
      "text/plain": [
       "<IPython.core.display.HTML object>"
      ]
     },
     "metadata": {},
     "output_type": "display_data"
    },
    {
     "data": {
      "text/html": [
       "<a href='https://www.mindanews.com/top-stories/2020/07/p6-44-b-earmarked-to-restart-region-12-economy-amid-covid-19-pandemic/'> P6.44-B earmarked to restart Region 12 economy amid COVID-19 pandemic</a>"
      ],
      "text/plain": [
       "<IPython.core.display.HTML object>"
      ]
     },
     "metadata": {},
     "output_type": "display_data"
    },
    {
     "data": {
      "text/html": [
       "<a href='https://politics.com.ph/twitters-bitcoin-hack-signals-political-danger-too/'> Twitter’s bitcoin hack signals political danger too</a>"
      ],
      "text/plain": [
       "<IPython.core.display.HTML object>"
      ]
     },
     "metadata": {},
     "output_type": "display_data"
    },
    {
     "data": {
      "text/html": [
       "<a href='https://www.manilatimes.net/2020/07/17/business/business-top/philippine-economy-to-shrink-8-in-2020/742829/'> ‘Philippine economy to shrink 8% in 2020’</a>"
      ],
      "text/plain": [
       "<IPython.core.display.HTML object>"
      ]
     },
     "metadata": {},
     "output_type": "display_data"
    },
    {
     "data": {
      "text/html": [
       "<a href='https://www.manilatimes.net/2020/07/17/news/national/reopened-economy-halted-curve-flattening/742687/'> ‘Reopened economy halted curve flattening’</a>"
      ],
      "text/plain": [
       "<IPython.core.display.HTML object>"
      ]
     },
     "metadata": {},
     "output_type": "display_data"
    },
    {
     "name": "stdout",
     "output_type": "stream",
     "text": [
      "\n",
      "INSURGENCY RELATED NEWS ITEMS: \n"
     ]
    },
    {
     "data": {
      "text/html": [
       "<a href='https://www.manilatimes.net/2020/07/17/todays-headline-photos/anti-terror-tune/742804/'> ANTI-TERROR TUNE</a>"
      ],
      "text/plain": [
       "<IPython.core.display.HTML object>"
      ]
     },
     "metadata": {},
     "output_type": "display_data"
    },
    {
     "data": {
      "text/html": [
       "<a href='https://www.mindanews.com/peace-process/2020/06/bangsamoro-parliament-has-yet-to-act-on-resolution-expressing-grave-concern-over-proposed-anti-terrorism-act/'> Bangsamoro Parliament has yet to act on resolution expressing “grave concern” over proposed Anti-Terrorism Act</a>"
      ],
      "text/plain": [
       "<IPython.core.display.HTML object>"
      ]
     },
     "metadata": {},
     "output_type": "display_data"
    },
    {
     "data": {
      "text/html": [
       "<a href='https://politics.com.ph/duterte-signs-anti-terror-bill-into-law/'> Duterte signs controversial anti-terror law</a>"
      ],
      "text/plain": [
       "<IPython.core.display.HTML object>"
      ]
     },
     "metadata": {},
     "output_type": "display_data"
    },
    {
     "data": {
      "text/html": [
       "<a href='https://www.mindanews.com/top-stories/2020/07/mosque-where-hostages-were-kept-during-marawi-siege-to-be-demolished/'> Mosque where hostages were kept during Marawi siege to be demolished</a>"
      ],
      "text/plain": [
       "<IPython.core.display.HTML object>"
      ]
     },
     "metadata": {},
     "output_type": "display_data"
    },
    {
     "data": {
      "text/html": [
       "<a href='http://davaotoday.com/main/politics/petitions-vs-anti-terror-law-grow-in-number/'> Petitions vs anti-terror law grow in number</a>"
      ],
      "text/plain": [
       "<IPython.core.display.HTML object>"
      ]
     },
     "metadata": {},
     "output_type": "display_data"
    },
    {
     "data": {
      "text/html": [
       "<a href='https://www.benarnews.org/english/news/philippine/anti-terror-law-07072020132111.html'> Philippines: Leaders of Autonomous Region Covet Seat on Anti-Terror Council</a>"
      ],
      "text/plain": [
       "<IPython.core.display.HTML object>"
      ]
     },
     "metadata": {},
     "output_type": "display_data"
    },
    {
     "data": {
      "text/html": [
       "<a href='https://politics.com.ph/repeal-anti-terror-law-roque-to-u-s-solons-hindi-na-namin-kayo-colonial-masters/'> Repeal anti-terror law? Roque to U.S. solons: ‘Hindi na namin kayo colonial masters’</a>"
      ],
      "text/plain": [
       "<IPython.core.display.HTML object>"
      ]
     },
     "metadata": {},
     "output_type": "display_data"
    },
    {
     "data": {
      "text/html": [
       "<a href='https://www.mindanews.com/photo-of-the-day/2020/07/restoring-electricity-in-marawi/'> Restoring Electricity In Marawi</a>"
      ],
      "text/plain": [
       "<IPython.core.display.HTML object>"
      ]
     },
     "metadata": {},
     "output_type": "display_data"
    },
    {
     "data": {
      "text/html": [
       "<a href='http://retiredanalyst.blogspot.com/2020/07/army-arrest-of-top-ranking-rebels-huge.html'> Retired Analyst: Army: Arrest of top-ranking rebels ‘huge blow’ to NPA</a>"
      ],
      "text/plain": [
       "<IPython.core.display.HTML object>"
      ]
     },
     "metadata": {},
     "output_type": "display_data"
    },
    {
     "data": {
      "text/html": [
       "<a href='http://retiredanalyst.blogspot.com/2020/07/cppnpa-palawan-pananakot-ng-paf-wescom.html'> Retired Analyst: CPP/NPA-Palawan: Pananakot ng PAF – WESCOM sa mga Sibilyang Residente, Kinukundena ng NPA Palawan!</a>"
      ],
      "text/plain": [
       "<IPython.core.display.HTML object>"
      ]
     },
     "metadata": {},
     "output_type": "display_data"
    },
    {
     "data": {
      "text/html": [
       "<a href='http://retiredanalyst.blogspot.com/2020/07/kalinaw-news-11-former-npas-receive.html'> Retired Analyst: Kalinaw News: 11 Former NPAs receive almost Php 1M Government grant </a>"
      ],
      "text/plain": [
       "<IPython.core.display.HTML object>"
      ]
     },
     "metadata": {},
     "output_type": "display_data"
    },
    {
     "data": {
      "text/html": [
       "<a href='http://retiredanalyst.blogspot.com/2020/07/kalinaw-news-13-biff-rebels-surrender.html'> Retired Analyst: Kalinaw News: 13 BIFF rebels surrender to 33IB</a>"
      ],
      "text/plain": [
       "<IPython.core.display.HTML object>"
      ]
     },
     "metadata": {},
     "output_type": "display_data"
    },
    {
     "data": {
      "text/html": [
       "<a href='http://retiredanalyst.blogspot.com/2020/07/kalinaw-news-afp-pnp-found-npas-burial.html'> Retired Analyst: Kalinaw News: AFP-PNP found NPA’s burial ground in Northern Samar town </a>"
      ],
      "text/plain": [
       "<IPython.core.display.HTML object>"
      ]
     },
     "metadata": {},
     "output_type": "display_data"
    },
    {
     "data": {
      "text/html": [
       "<a href='http://retiredanalyst.blogspot.com/2020/07/kalinaw-news-dalawang-daan-at-limamput.html'> Retired Analyst: Kalinaw News: Dalawang daan at limampu’t tatlong myembro (253) ng Lihim na Organisasyong Masa galit na galit na nagmartsa laban sa CPP-NPA-NDF </a>"
      ],
      "text/plain": [
       "<IPython.core.display.HTML object>"
      ]
     },
     "metadata": {},
     "output_type": "display_data"
    },
    {
     "data": {
      "text/html": [
       "<a href='http://retiredanalyst.blogspot.com/2020/07/kalinaw-news-hardship-hunger-due-to.html'> Retired Analyst: Kalinaw News: Hardship, hunger due to successive encounters force NPA terrorists to surrender</a>"
      ],
      "text/plain": [
       "<IPython.core.display.HTML object>"
      ]
     },
     "metadata": {},
     "output_type": "display_data"
    },
    {
     "data": {
      "text/html": [
       "<a href='http://retiredanalyst.blogspot.com/2020/07/kalinaw-news-npa-purge-executioner-in.html'> Retired Analyst: Kalinaw News: NPA Purge executioner in Leyte arrested</a>"
      ],
      "text/plain": [
       "<IPython.core.display.HTML object>"
      ]
     },
     "metadata": {},
     "output_type": "display_data"
    },
    {
     "data": {
      "text/html": [
       "<a href='http://retiredanalyst.blogspot.com/2020/07/kalinaw-news-npa-rebels-mass-supporters.html'> Retired Analyst: Kalinaw News: NPA Rebels, Mass Supporters Yield; Vow Allegiance to PH Government </a>"
      ],
      "text/plain": [
       "<IPython.core.display.HTML object>"
      ]
     },
     "metadata": {},
     "output_type": "display_data"
    },
    {
     "data": {
      "text/html": [
       "<a href='http://davaotoday.com/main/todays-views/terrorizing-the-people-with-the-anti-terror-bill/'> Terrorizing the people with the anti-terror bill</a>"
      ],
      "text/plain": [
       "<IPython.core.display.HTML object>"
      ]
     },
     "metadata": {},
     "output_type": "display_data"
    },
    {
     "data": {
      "text/html": [
       "<a href='https://www.interaksyon.com/trends-spotlights/2020/07/15/172927/activists-not-terrorists-greta-thunberg-calls-for-repeal-of-philippines-anti-terror-law/'> ‘Activists not terrorists’: Greta Thunberg calls for repeal of Philippines’ anti-terror law</a>"
      ],
      "text/plain": [
       "<IPython.core.display.HTML object>"
      ]
     },
     "metadata": {},
     "output_type": "display_data"
    },
    {
     "data": {
      "text/html": [
       "<a href='https://politics.com.ph/di-magpapadala-sa-pressure-guevarra-vows-conscience-will-prevail-in-dojs-review-of-anti-terror-bill/'> ‘Di magpapadala sa pressure! Guevarra vows conscience will prevail in DOJ’s review of anti-terror bill</a>"
      ],
      "text/plain": [
       "<IPython.core.display.HTML object>"
      ]
     },
     "metadata": {},
     "output_type": "display_data"
    },
    {
     "name": "stdout",
     "output_type": "stream",
     "text": [
      "\n",
      "MORO ISSUES RELATED NEWS ITEMS: \n"
     ]
    },
    {
     "data": {
      "text/html": [
       "<a href='https://www.mindanews.com/mindaviews/2020/06/bangsamoro-speaks-balance-compassion-and-discipline-and-at-the-same-uphold-the-rule-of-law/'> BANGSAMORO SPEAKS: Balance compassion and discipline and at the same, uphold the rule of law</a>"
      ],
      "text/plain": [
       "<IPython.core.display.HTML object>"
      ]
     },
     "metadata": {},
     "output_type": "display_data"
    },
    {
     "data": {
      "text/html": [
       "<a href='https://www.mindanews.com/peace-process/2020/06/bangsamoro-parliament-has-yet-to-act-on-resolution-expressing-grave-concern-over-proposed-anti-terrorism-act/'> Bangsamoro Parliament has yet to act on resolution expressing “grave concern” over proposed Anti-Terrorism Act</a>"
      ],
      "text/plain": [
       "<IPython.core.display.HTML object>"
      ]
     },
     "metadata": {},
     "output_type": "display_data"
    },
    {
     "data": {
      "text/html": [
       "<a href='https://www.mindanews.com/top-stories/2020/07/covid-19-positives-among-stranded-basulta-residents-surge-to-120-ntf-apologizes-to-barmm-for-the-mess/'> COVID-19 positives among stranded BaSulTa residents surge to 120; NTF apologizes to BARMM for the ‘mess’</a>"
      ],
      "text/plain": [
       "<IPython.core.display.HTML object>"
      ]
     },
     "metadata": {},
     "output_type": "display_data"
    },
    {
     "data": {
      "text/html": [
       "<a href='https://www.mindanews.com/peace-process/2020/02/cotabato-city-seeks-exclusion-from-barmm-until-june-30-2022/'> Cotabato City seeks exclusion from BARMM until June 30, 2022</a>"
      ],
      "text/plain": [
       "<IPython.core.display.HTML object>"
      ]
     },
     "metadata": {},
     "output_type": "display_data"
    },
    {
     "data": {
      "text/html": [
       "<a href='https://politics.com.ph/harry-roque-mum-on-dutertes-fresh-tirades-vs-lopezes-i-was-not-in-jolo/'> Harry Roque mum on Duterte’s fresh tirades vs Lopezes: ‘I was not in Jolo’</a>"
      ],
      "text/plain": [
       "<IPython.core.display.HTML object>"
      ]
     },
     "metadata": {},
     "output_type": "display_data"
    },
    {
     "data": {
      "text/html": [
       "<a href='https://politics.com.ph/moro-moro-lang-hearings-alan-cayetano-abs-cbn-shutdown-inevitable/'> Moro-moro lang hearings! Alan Cayetano: ABS-CBN shutdown ‘inevitable’</a>"
      ],
      "text/plain": [
       "<IPython.core.display.HTML object>"
      ]
     },
     "metadata": {},
     "output_type": "display_data"
    },
    {
     "data": {
      "text/html": [
       "<a href='https://www.eaglenews.ph/president-duterte-visits-soldiers-in-sulu/'> President Duterte visits soldiers in Sulu</a>"
      ],
      "text/plain": [
       "<IPython.core.display.HTML object>"
      ]
     },
     "metadata": {},
     "output_type": "display_data"
    },
    {
     "data": {
      "text/html": [
       "<a href='http://retiredanalyst.blogspot.com/2020/07/commander-lauds-3rd-scout-ranger.html'> Retired Analyst: Kalinaw News: Commander lauds 3rd Scout Ranger Battalion, 1101st Infantry Brigade in Sulu, Don Medals for Gallantry</a>"
      ],
      "text/plain": [
       "<IPython.core.display.HTML object>"
      ]
     },
     "metadata": {},
     "output_type": "display_data"
    },
    {
     "data": {
      "text/html": [
       "<a href='https://www.mindanews.com/peace-process/2020/01/senate-asks-bta-to-name-reps-to-congress-bangsamoro-parliament-forum/'> Senate asks BTA to name reps to Congress-Bangsamoro Parliament Forum</a>"
      ],
      "text/plain": [
       "<IPython.core.display.HTML object>"
      ]
     },
     "metadata": {},
     "output_type": "display_data"
    },
    {
     "data": {
      "text/html": [
       "<a href='https://www.mindanews.com/top-stories/2020/07/zambo-and-butuan-cities-basilan-and-agusan-del-norte-back-to-gcq-davao-city-remains-under-mgcq/'> Zambo and Butuan cities, Basilan and Agusan del Norte back to GCQ; Davao City remains under MGCQ</a>"
      ],
      "text/plain": [
       "<IPython.core.display.HTML object>"
      ]
     },
     "metadata": {},
     "output_type": "display_data"
    },
    {
     "data": {
      "text/html": [
       "<a href='https://politics.com.ph/di-nanlaban-nbi-finds-no-proof-slain-soldiers-fired-at-jolo-cops/'> ‘Di nanlaban! NBI finds no proof slain soldiers fired at Jolo cops</a>"
      ],
      "text/plain": [
       "<IPython.core.display.HTML object>"
      ]
     },
     "metadata": {},
     "output_type": "display_data"
    },
    {
     "data": {
      "text/html": [
       "<a href='https://politics.com.ph/lungkot-na-lungkot-siya-duterte-wants-to-talk-to-cops-who-killed-soldiers-in-jolo-shooting-incident/'> ‘Lungkot na lungkot siya’: Duterte wants to talk to cops who killed soldiers in Jolo shooting incident</a>"
      ],
      "text/plain": [
       "<IPython.core.display.HTML object>"
      ]
     },
     "metadata": {},
     "output_type": "display_data"
    },
    {
     "name": "stdout",
     "output_type": "stream",
     "text": [
      "\n",
      "NATIONAL CAPITAL REGION RELATED NEWS ITEMS: \n",
      "\n",
      "PROVINCIAL NEWS ITEMS: \n"
     ]
    },
    {
     "data": {
      "text/html": [
       "<a href='https://www.interaksyon.com/politics-issues/2020/07/16/173055/air-pollution-exposure-linked-to-higher-covid-19-cases-and-deaths-new-study/'> Air pollution exposure linked to higher COVID-19 cases and deaths – new study</a>"
      ],
      "text/plain": [
       "<IPython.core.display.HTML object>"
      ]
     },
     "metadata": {},
     "output_type": "display_data"
    },
    {
     "data": {
      "text/html": [
       "<a href='https://www.eaglenews.ph/at-least-19-mrt-3-trains-to-run-in-metro-manila-amid-gcq-to-allow-social-distancing-says-dotr/'> At least 19 MRT-3 trains to run in Metro Manila amid GCQ to allow social distancing, says DOTr</a>"
      ],
      "text/plain": [
       "<IPython.core.display.HTML object>"
      ]
     },
     "metadata": {},
     "output_type": "display_data"
    },
    {
     "data": {
      "text/html": [
       "<a href='http://davaotoday.com/main/economy/health/davaos-barangay-23-c-on-hard-lockdown-due-to-covid-19/'> Davao’s Barangay 23-C on ‘hard lockdown’ due to Covid-19</a>"
      ],
      "text/plain": [
       "<IPython.core.display.HTML object>"
      ]
     },
     "metadata": {},
     "output_type": "display_data"
    },
    {
     "data": {
      "text/html": [
       "<a href='https://www.eaglenews.ph/flying-back-to-the-philippines-during-the-covid-19-pandemic-what-to-expect-in-the-new-normal/'> Flying back to the Philippines during the COVID-19 pandemic: what to expect in the “new normal”</a>"
      ],
      "text/plain": [
       "<IPython.core.display.HTML object>"
      ]
     },
     "metadata": {},
     "output_type": "display_data"
    },
    {
     "data": {
      "text/html": [
       "<a href='https://politics.com.ph/full-coronavirus-vaccine-unlikely-by-next-year-expert/'> Full coronavirus vaccine unlikely by next year: expert</a>"
      ],
      "text/plain": [
       "<IPython.core.display.HTML object>"
      ]
     },
     "metadata": {},
     "output_type": "display_data"
    },
    {
     "data": {
      "text/html": [
       "<a href='https://politics.com.ph/gcq-in-metro-manila-extended-till-month-end2/'> GCQ in Metro Manila extended till month-end</a>"
      ],
      "text/plain": [
       "<IPython.core.display.HTML object>"
      ]
     },
     "metadata": {},
     "output_type": "display_data"
    },
    {
     "data": {
      "text/html": [
       "<a href='https://politics.com.ph/list-areas-under-mgcq-gcq-mecq-until-end-july/'> LIST: Areas under MGCQ, GCQ, MECQ until end-July</a>"
      ],
      "text/plain": [
       "<IPython.core.display.HTML object>"
      ]
     },
     "metadata": {},
     "output_type": "display_data"
    },
    {
     "data": {
      "text/html": [
       "<a href='https://www.eaglenews.ph/list-of-areas-quarantine-classifications-starting-july-16-until-july-31/'> List of areas, quarantine classifications starting July 16 until July 31</a>"
      ],
      "text/plain": [
       "<IPython.core.display.HTML object>"
      ]
     },
     "metadata": {},
     "output_type": "display_data"
    },
    {
     "data": {
      "text/html": [
       "<a href='https://politics.com.ph/mark-villar-infected-with-covid-19-netizens-tell-isolation-czar-to-get-well-soon/'> Mark Villar infected with COVID-19; Netizens tell isolation czar to get well soon</a>"
      ],
      "text/plain": [
       "<IPython.core.display.HTML object>"
      ]
     },
     "metadata": {},
     "output_type": "display_data"
    },
    {
     "data": {
      "text/html": [
       "<a href='https://www.interaksyon.com/politics-issues/2020/07/15/172940/moderna-phase-1-results-show-coronavirus-vaccine-safe-induces-immune-response/'> Moderna Phase 1 results show coronavirus vaccine safe, induces immune response</a>"
      ],
      "text/plain": [
       "<IPython.core.display.HTML object>"
      ]
     },
     "metadata": {},
     "output_type": "display_data"
    },
    {
     "data": {
      "text/html": [
       "<a href='https://www.interaksyon.com/trends-spotlights/2020/07/15/172903/new-barter-trade-philippines-dti-illegal/'> New barter trade emerging as Filipinos cope with pandemic effects, but DTI says it’s illegal</a>"
      ],
      "text/plain": [
       "<IPython.core.display.HTML object>"
      ]
     },
     "metadata": {},
     "output_type": "display_data"
    },
    {
     "data": {
      "text/html": [
       "<a href='https://www.eaglenews.ph/phl-covid-cases-reach-61266-with-the-addition-of-almost-2500-new-cases-mostly-from-metro-manila/'> PHL COVID cases reach 61,266 with the addition of almost 2,500 new cases mostly from Metro Manila</a>"
      ],
      "text/plain": [
       "<IPython.core.display.HTML object>"
      ]
     },
     "metadata": {},
     "output_type": "display_data"
    },
    {
     "data": {
      "text/html": [
       "<a href='https://www.interaksyon.com/politics-issues/2020/07/15/172919/philippines-to-use-police-in-house-to-house-searches-for-covid-19-cases/'> Philippines to use police in house-to-house searches for COVID-19 cases</a>"
      ],
      "text/plain": [
       "<IPython.core.display.HTML object>"
      ]
     },
     "metadata": {},
     "output_type": "display_data"
    },
    {
     "data": {
      "text/html": [
       "<a href='http://davaotoday.com/main/economy/health/up-scientists-to-roque-statistics-show-ph-not-winning-vs-covid-19/'> UP scientists to Roque: statistics show PH not winning vs Covid-19</a>"
      ],
      "text/plain": [
       "<IPython.core.display.HTML object>"
      ]
     },
     "metadata": {},
     "output_type": "display_data"
    },
    {
     "data": {
      "text/html": [
       "<a href='https://www.mindanews.com/top-stories/2020/07/zambo-and-butuan-cities-basilan-and-agusan-del-norte-back-to-gcq-davao-city-remains-under-mgcq/'> Zambo and Butuan cities, Basilan and Agusan del Norte back to GCQ; Davao City remains under MGCQ</a>"
      ],
      "text/plain": [
       "<IPython.core.display.HTML object>"
      ]
     },
     "metadata": {},
     "output_type": "display_data"
    },
    {
     "data": {
      "text/html": [
       "<a href='https://www.interaksyon.com/politics-issues/2020/07/16/173110/panalo-na-naman-tayo-filipinos-recall-roques-congratulations-philippines-covid-19-cases-exceed-60k/'> ‘Panalo na naman tayo’: Filipinos recall Roque’s ‘Congratulations Philippines’ as COVID-19 cases exceed 60K</a>"
      ],
      "text/plain": [
       "<IPython.core.display.HTML object>"
      ]
     },
     "metadata": {},
     "output_type": "display_data"
    },
    {
     "name": "stdout",
     "output_type": "stream",
     "text": [
      "\n",
      "POLITICAL NEWS ITEMS: \n"
     ]
    },
    {
     "data": {
      "text/html": [
       "<a href='http://davaotoday.com/main/economy/health/15-hour-holding-room-set-up-for-lsis-ofws-in-davao-city/'> 15-hour holding room set up for LSIs, OFWs in Davao City</a>"
      ],
      "text/plain": [
       "<IPython.core.display.HTML object>"
      ]
     },
     "metadata": {},
     "output_type": "display_data"
    },
    {
     "data": {
      "text/html": [
       "<a href='https://www.eaglenews.ph/4-0-magnitude-quake-hits-davao-oriental-2/'> 4.0-magnitude quake hits Davao Oriental</a>"
      ],
      "text/plain": [
       "<IPython.core.display.HTML object>"
      ]
     },
     "metadata": {},
     "output_type": "display_data"
    },
    {
     "data": {
      "text/html": [
       "<a href='https://www.eaglenews.ph/4-3-magnitude-quake-hits-davao-del-sur-2/'> 4.3-magnitude quake hits Davao del Sur</a>"
      ],
      "text/plain": [
       "<IPython.core.display.HTML object>"
      ]
     },
     "metadata": {},
     "output_type": "display_data"
    },
    {
     "data": {
      "text/html": [
       "<a href='https://edgedavao.net/entrepreneurs/2019/04/18/atty-antonio-b-partoza-jr-creating-a-name-for-davao/'> ATTY. ANTONIO B. PARTOZA JR: CREATING A NAME FOR DAVAO</a>"
      ],
      "text/plain": [
       "<IPython.core.display.HTML object>"
      ]
     },
     "metadata": {},
     "output_type": "display_data"
    },
    {
     "data": {
      "text/html": [
       "<a href='https://edgedavao.net/the-economy/2020/07/04/all-phoenix-stations-in-davao-region-back-in-operation/'> All Phoenix stations in Davao  Region back in operation</a>"
      ],
      "text/plain": [
       "<IPython.core.display.HTML object>"
      ]
     },
     "metadata": {},
     "output_type": "display_data"
    },
    {
     "data": {
      "text/html": [
       "<a href='http://davaotoday.com/main/human-rights/arrest-of-balingasag-7-draws-condemnation-from-indigenous-groups/'> Arrest of Balingasag 7 draws condemnation from indigenous groups</a>"
      ],
      "text/plain": [
       "<IPython.core.display.HTML object>"
      ]
     },
     "metadata": {},
     "output_type": "display_data"
    },
    {
     "data": {
      "text/html": [
       "<a href='https://www.eaglenews.ph/cloudy-skies-scattered-rainshowers-expected-in-cagayan-valley-other-areas-due-to-lpa/'> Cloudy skies, scattered rainshowers expected in Cagayan Valley, other areas due to LPA</a>"
      ],
      "text/plain": [
       "<IPython.core.display.HTML object>"
      ]
     },
     "metadata": {},
     "output_type": "display_data"
    },
    {
     "data": {
      "text/html": [
       "<a href='http://davaotoday.com/main/economy/health/davao-city-imposes-fines-for-persons-not-wearing-face-masks/'> Davao City imposes fines for persons not wearing face masks</a>"
      ],
      "text/plain": [
       "<IPython.core.display.HTML object>"
      ]
     },
     "metadata": {},
     "output_type": "display_data"
    },
    {
     "data": {
      "text/html": [
       "<a href='http://davaotoday.com/main/environment/davao-city-on-alert-for-tropical-depression-ambo/'> Davao City on alert for Tropical Depression Ambo</a>"
      ],
      "text/plain": [
       "<IPython.core.display.HTML object>"
      ]
     },
     "metadata": {},
     "output_type": "display_data"
    },
    {
     "data": {
      "text/html": [
       "<a href='http://davaotoday.com/main/headline/davao-business-sector-still-divided-on-martial-rule/'> Davao business sector still divided on martial rule</a>"
      ],
      "text/plain": [
       "<IPython.core.display.HTML object>"
      ]
     },
     "metadata": {},
     "output_type": "display_data"
    },
    {
     "data": {
      "text/html": [
       "<a href='https://www.mindanews.com/business/2020/05/davao-tourism-suffers-huge-drop-in-revenues-due-to-covid-19/'> Davao tourism suffers ‘huge drop’ in revenues due to COVID-19</a>"
      ],
      "text/plain": [
       "<IPython.core.display.HTML object>"
      ]
     },
     "metadata": {},
     "output_type": "display_data"
    },
    {
     "data": {
      "text/html": [
       "<a href='http://davaotoday.com/main/economy/health/davaos-barangay-23-c-on-hard-lockdown-due-to-covid-19/'> Davao’s Barangay 23-C on ‘hard lockdown’ due to Covid-19</a>"
      ],
      "text/plain": [
       "<IPython.core.display.HTML object>"
      ]
     },
     "metadata": {},
     "output_type": "display_data"
    },
    {
     "data": {
      "text/html": [
       "<a href='https://edgedavao.net/feature/2019/12/22/edge-davaos-and-zions-candyland-party/'> Edge Davao’s and Zion’s Candyland party</a>"
      ],
      "text/plain": [
       "<IPython.core.display.HTML object>"
      ]
     },
     "metadata": {},
     "output_type": "display_data"
    },
    {
     "data": {
      "text/html": [
       "<a href='http://davaotoday.com/main/culture-2/how-the-lumad-learned-to-survive-in-haran/'> How the Lumad learned to survive in Haran</a>"
      ],
      "text/plain": [
       "<IPython.core.display.HTML object>"
      ]
     },
     "metadata": {},
     "output_type": "display_data"
    },
    {
     "data": {
      "text/html": [
       "<a href='https://edgedavao.net/suburbia/2020/01/04/humanitarian-mission-provides-relief-in-davao-del-sur/'> Humanitarian mission provides relief in Davao del Sur</a>"
      ],
      "text/plain": [
       "<IPython.core.display.HTML object>"
      ]
     },
     "metadata": {},
     "output_type": "display_data"
    },
    {
     "data": {
      "text/html": [
       "<a href='https://www.eaglenews.ph/itcz-affects-palawan-visayas-mindanao-4/'> ITCZ affects Palawan, Visayas, Mindanao</a>"
      ],
      "text/plain": [
       "<IPython.core.display.HTML object>"
      ]
     },
     "metadata": {},
     "output_type": "display_data"
    },
    {
     "data": {
      "text/html": [
       "<a href='http://davaotoday.com/main/davao-city/investors-organize-1st-branch-in-davao/'> Investors organize 1st branch in Davao</a>"
      ],
      "text/plain": [
       "<IPython.core.display.HTML object>"
      ]
     },
     "metadata": {},
     "output_type": "display_data"
    },
    {
     "data": {
      "text/html": [
       "<a href='https://edgedavao.net/suburbia/2019/11/15/isolated-lumads-hail-govt-attention-care/'> Isolated Lumads hail gov’t attention, care</a>"
      ],
      "text/plain": [
       "<IPython.core.display.HTML object>"
      ]
     },
     "metadata": {},
     "output_type": "display_data"
    },
    {
     "data": {
      "text/html": [
       "<a href='http://davaotoday.com/main/headline/most-davao-businesses-dont-have-continuity-plan-pcci/'> Most Davao businesses don’t have continuity plan – PCCI</a>"
      ],
      "text/plain": [
       "<IPython.core.display.HTML object>"
      ]
     },
     "metadata": {},
     "output_type": "display_data"
    },
    {
     "data": {
      "text/html": [
       "<a href='https://edgedavao.net/the-big-news/2020/06/26/most-stranded-individuals-are-davao-bound-airline-exec/'> Most stranded individuals are  Davao-bound: airline exec</a>"
      ],
      "text/plain": [
       "<IPython.core.display.HTML object>"
      ]
     },
     "metadata": {},
     "output_type": "display_data"
    },
    {
     "data": {
      "text/html": [
       "<a href='http://retiredanalyst.blogspot.com/2020/07/cppnpa-palawan-pananakot-ng-paf-wescom.html'> Retired Analyst: CPP/NPA-Palawan: Pananakot ng PAF – WESCOM sa mga Sibilyang Residente, Kinukundena ng NPA Palawan!</a>"
      ],
      "text/plain": [
       "<IPython.core.display.HTML object>"
      ]
     },
     "metadata": {},
     "output_type": "display_data"
    },
    {
     "data": {
      "text/html": [
       "<a href='https://edgedavao.net/special-supplement/2020/03/17/some-things-you-need-to-know-about-davao-city/'> SOME THINGS YOU NEED TO KNOW ABOUT DAVAO CITY</a>"
      ],
      "text/plain": [
       "<IPython.core.display.HTML object>"
      ]
     },
     "metadata": {},
     "output_type": "display_data"
    },
    {
     "data": {
      "text/html": [
       "<a href='https://www.mindanews.com/special-reports/2020/07/special-report-policy-review-of-waste-management-needed-as-davao-city-grapples-with-household-ppe-waste/'> SPECIAL REPORT: Policy review of waste management needed as Davao City grapples with household PPE waste</a>"
      ],
      "text/plain": [
       "<IPython.core.display.HTML object>"
      ]
     },
     "metadata": {},
     "output_type": "display_data"
    },
    {
     "data": {
      "text/html": [
       "<a href='https://www.mindanews.com/top-stories/2020/07/zambo-and-butuan-cities-basilan-and-agusan-del-norte-back-to-gcq-davao-city-remains-under-mgcq/'> Zambo and Butuan cities, Basilan and Agusan del Norte back to GCQ; Davao City remains under MGCQ</a>"
      ],
      "text/plain": [
       "<IPython.core.display.HTML object>"
      ]
     },
     "metadata": {},
     "output_type": "display_data"
    },
    {
     "name": "stdout",
     "output_type": "stream",
     "text": [
      "Errors:  0\n"
     ]
    }
   ],
   "source": [
    "\n",
    "def excluder(mystr, exclude_list):\n",
    "    excludeit = False\n",
    "    for excl in exclude_list:\n",
    "        if excl in mystr:\n",
    "            excludeit = True\n",
    "            break\n",
    "    return excludeit\n",
    "\n",
    "covid_list = []\n",
    "auth_list = []\n",
    "chinathreat_list = []\n",
    "chrgroup_list = []\n",
    "econ_list = []\n",
    "insurgency_list = []\n",
    "moro_list = []\n",
    "ncr_list = []\n",
    "province_list = []\n",
    "pulitika_list = []\n",
    "errors = 0\n",
    "pctcount1 = 0\n",
    "for paper in paperlist:\n",
    "    pctcount1 +=1\n",
    "    pctval1 = pctcount1 / len(paperlist)\n",
    "    print('Percent complete all sources list: ' + \"{:.1%}\".format(pctval1))\n",
    "    r = requests.get(paper, headers=headers)\n",
    "    soup = BeautifulSoup(r.text, 'html.parser')\n",
    "    if (paper == \"http://retiredanalyst.blogspot.com/\"):\n",
    "        myelems = soup.findAll('h3')\n",
    "#         print(len(myelems))\n",
    "        pctcount2 = 0\n",
    "        for elem in myelems:\n",
    "            pctcount2 +=1\n",
    "            pctval2 = pctcount2 / len(myelems)\n",
    "#             print('Percent complete retired analyst list: ' + \"{:.1%}\".format(pctval2))\n",
    "            # usually there is no title in the retired analyst links, so have to go get those\n",
    "            url = elem.contents[1].get('href')\n",
    "            try:\n",
    "                r2 = requests.get(url, headers=headers)\n",
    "                soup2 = BeautifulSoup(r2.text, 'html.parser')\n",
    "                titletext = soup2.title.text\n",
    "                if not excluder(titletext.lower(), exclude_list):\n",
    "                    for checker in taglist:\n",
    "                        if checker.lower() in titletext.lower():\n",
    "    #                         print(checker, titletext)\n",
    "                            if tags_in_str(titletext.lower(), covid_tagdf):\n",
    "                                covid_list.append((titletext, url))\n",
    "                            if checker.lower() in auth_taglist:\n",
    "                                auth_list.append((titletext, url))\n",
    "                            if checker.lower() in chinathreat_taglist:\n",
    "                                chinathreat_list.append((titletext, url))\n",
    "                            if checker.lower() in chrgroup_taglist:\n",
    "                                chrgroup_list.append((titletext, url))\n",
    "                            if checker.lower() in econ_taglist:\n",
    "                                econ_list.append((titletext, url))\n",
    "                            if checker.lower() in insurgency_taglist:\n",
    "                                insurgency_list.append((titletext, url))\n",
    "                            if checker.lower() in moro_taglist:\n",
    "                                moro_list.append((titletext, url))\n",
    "                            if checker.lower() in ncr_taglist:\n",
    "                                ncr_list.append((titletext, url))\n",
    "                            if checker.lower() in province_taglist:\n",
    "                                province_list.append((titletext, url))\n",
    "                            if checker.lower() in pulitika_taglist:\n",
    "                                    pulitika_list.append((titletext, url))\n",
    "                            \n",
    "            except:\n",
    "                errors += 1\n",
    "    else:\n",
    "        myelems = soup.findAll('a')\n",
    "        pctcount3 = 0\n",
    "        for elem in myelems:\n",
    "            pctcount3 +=1\n",
    "            pctval3 = pctcount3 / len(myelems)\n",
    "#             print('Percent complete ' + paper + ' list: ' + \"{:.1%}\".format(pctval3))\n",
    "            titletext = str(elem.get('title'))\n",
    "            if not excluder(titletext.lower(), exclude_list):\n",
    "                url = elem.get('href')\n",
    "                for checker in taglist:\n",
    "                    if checker.lower() in titletext.lower():\n",
    "    #                     print(checker, titletext)\n",
    "                        if tags_in_str(titletext.lower(), covid_tagdf):\n",
    "                            covid_list.append((titletext, url))\n",
    "                        if checker.lower() in auth_taglist:\n",
    "                            auth_list.append((titletext, url))\n",
    "                        if checker.lower() in chinathreat_taglist:\n",
    "                            chinathreat_list.append((titletext, url))\n",
    "                        if checker.lower() in chrgroup_taglist:\n",
    "                            chrgroup_list.append((titletext, url))\n",
    "                        if checker.lower() in econ_taglist:\n",
    "                            econ_list.append((titletext, url))\n",
    "                        if checker.lower() in insurgency_taglist:\n",
    "                            insurgency_list.append((titletext, url))\n",
    "                        if checker.lower() in moro_taglist:\n",
    "                            moro_list.append((titletext, url))\n",
    "                        if checker.lower() in ncr_taglist:\n",
    "                            ncr_list.append((titletext, url))\n",
    "                        if checker.lower() in province_taglist:\n",
    "                            province_list.append((titletext, url))\n",
    "                        if checker.lower() in pulitika_taglist:\n",
    "                            pulitika_list.append((titletext, url))\n",
    "                        \n",
    "covid_list = list(set(covid_list))\n",
    "covid_list.sort()\n",
    "auth_list = list(set(auth_list))\n",
    "auth_list.sort()\n",
    "chinathreat_list = list(set(chinathreat_list))\n",
    "chinathreat_list.sort()\n",
    "chrgroup_list = list(set(chrgroup_list))\n",
    "chrgroup_list.sort()\n",
    "econ_list = list(set(econ_list))\n",
    "econ_list.sort()\n",
    "insurgency_list = list(set(insurgency_list))\n",
    "insurgency_list.sort()\n",
    "moro_list = list(set(moro_list))\n",
    "moro_list.sort()\n",
    "ncr_list = list(set(ncr_list))\n",
    "ncr_list.sort()\n",
    "province_list = list(set(province_list))\n",
    "province_list.sort()\n",
    "pulitika_list = list(set(pulitika_list))\n",
    "pulitika_list.sort()\n",
    "\n",
    "               \n",
    "hitlist = covid_list+ auth_list+ chinathreat_list+ chrgroup_list+ econ_list+ insurgency_list+ moro_list+ ncr_list+ province_list+ pulitika_list\n",
    "hitlist = list(set(hitlist))\n",
    "hitlist.sort()\n",
    "# sort_disp_list = [covid_list, auth_list, chinathreat_list, chrgroup_list, econ_list, insurgency_list, moro_list, ncr_list, province_list, pulitika_list]\n",
    "# for elem in hitlist:\n",
    "#     print(elem[0])\n",
    "#     print(elem[1])\n",
    "\n",
    "def display_links(header, newslist, errors):\n",
    "    print('\\n' + header)\n",
    "    hlist = [elem[1] for elem in newslist]\n",
    "\n",
    "    for newselem in newslist:\n",
    "        if newselem[0] == 'None':\n",
    "            try:\n",
    "                r = requests.get(newselem[1], headers=headers)\n",
    "                soup = BeautifulSoup(r.text, 'html.parser')\n",
    "                titletext = soup.title.text\n",
    "                reflink = \"<a href='\" + ilink + \"'> \" + titletext + \"</a>\"\n",
    "                html = HTML(reflink)\n",
    "                display(html)\n",
    "            except:\n",
    "                errors += 1\n",
    "        else:\n",
    "            reflink = \"<a href='\" + newselem[1] + \"'> \" + newselem[0] + \"</a>\"\n",
    "            html = HTML(reflink)\n",
    "            display(html)\n",
    "            \n",
    "    return errors\n",
    "\n",
    "\n",
    "errors = display_links(\"COVID-19 NEWS ITEMS: \", covid_list, errors)\n",
    "errors = display_links(\"AUTHORITARIANISM/ DEMOCRACY THREAT NEWS ITEMS: \", auth_list, errors)\n",
    "errors = display_links(\"CHINA THREAT TO THE PHILIPPINES NEWS ITEMS: \", chinathreat_list, errors)\n",
    "errors = display_links(\"CHRISTIAN AND RELIGIOUS GROUPS NEWS ITEMS: \", chrgroup_list, errors)\n",
    "errors = display_links(\"ECONOMY NEWS ITEMS: \", econ_list, errors)\n",
    "errors = display_links(\"INSURGENCY RELATED NEWS ITEMS: \", insurgency_list, errors)\n",
    "errors = display_links(\"MORO ISSUES RELATED NEWS ITEMS: \", moro_list, errors)\n",
    "errors = display_links(\"NATIONAL CAPITAL REGION RELATED NEWS ITEMS: \", ncr_list, errors)\n",
    "errors = display_links(\"PROVINCIAL NEWS ITEMS: \", covid_list, errors)\n",
    "errors = display_links(\"POLITICAL NEWS ITEMS: \", province_list, errors)\n",
    "print(\"Errors: \", errors)"
   ]
  },
  {
   "cell_type": "code",
   "execution_count": 33,
   "metadata": {},
   "outputs": [
    {
     "data": {
      "text/html": [
       "<a href='http://davaotoday.com/main/economy/health/15-hour-holding-room-set-up-for-lsis-ofws-in-davao-city/'> 15-hour holding room set up for LSIs, OFWs in Davao City</a>"
      ],
      "text/plain": [
       "<IPython.core.display.HTML object>"
      ]
     },
     "metadata": {},
     "output_type": "display_data"
    },
    {
     "data": {
      "text/html": [
       "<a href='https://www.manilatimes.net/2020/07/17/news/top-stories/150-countries-sign-fair-vaccine-manifest/742671/'> 150 countries sign fair vaccine manifest</a>"
      ],
      "text/plain": [
       "<IPython.core.display.HTML object>"
      ]
     },
     "metadata": {},
     "output_type": "display_data"
    },
    {
     "data": {
      "text/html": [
       "<a href='https://www.eaglenews.ph/4-0-magnitude-quake-hits-davao-oriental-2/'> 4.0-magnitude quake hits Davao Oriental</a>"
      ],
      "text/plain": [
       "<IPython.core.display.HTML object>"
      ]
     },
     "metadata": {},
     "output_type": "display_data"
    },
    {
     "data": {
      "text/html": [
       "<a href='https://www.eaglenews.ph/4-3-magnitude-quake-hits-davao-del-sur-2/'> 4.3-magnitude quake hits Davao del Sur</a>"
      ],
      "text/plain": [
       "<IPython.core.display.HTML object>"
      ]
     },
     "metadata": {},
     "output_type": "display_data"
    },
    {
     "data": {
      "text/html": [
       "<a href='https://politics.com.ph/abs-cbn-franchise-denial-sole-exclusive-prerogative-of-congress-palace/'> ABS-CBN franchise denial ‘sole, exclusive prerogative of Congress’ – Palace</a>"
      ],
      "text/plain": [
       "<IPython.core.display.HTML object>"
      ]
     },
     "metadata": {},
     "output_type": "display_data"
    },
    {
     "data": {
      "text/html": [
       "<a href='https://politics.com.ph/abs-cbn-president-carlo-katigbak-is-amazing-locsin-says/'> ABS-CBN president Carlo Katigbak is amazing, Locsin says</a>"
      ],
      "text/plain": [
       "<IPython.core.display.HTML object>"
      ]
     },
     "metadata": {},
     "output_type": "display_data"
    },
    {
     "data": {
      "text/html": [
       "<a href='https://www.manilatimes.net/2020/07/15/second-headline/abs-cbn-to-lay-off-workers-effective-aug-31/742174/'> ABS-CBN to lay off workers effective Aug 31</a>"
      ],
      "text/plain": [
       "<IPython.core.display.HTML object>"
      ]
     },
     "metadata": {},
     "output_type": "display_data"
    },
    {
     "data": {
      "text/html": [
       "<a href='https://politics.com.ph/afp-chief-to-go-on-self-quarantine-again-beterano-na-ko-dito/'> AFP chief to go on self-quarantine again: Beterano na ‘ko dito!</a>"
      ],
      "text/plain": [
       "<IPython.core.display.HTML object>"
      ]
     },
     "metadata": {},
     "output_type": "display_data"
    },
    {
     "data": {
      "text/html": [
       "<a href='https://www.manilatimes.net/2020/07/17/todays-headline-photos/anti-terror-tune/742804/'> ANTI-TERROR TUNE</a>"
      ],
      "text/plain": [
       "<IPython.core.display.HTML object>"
      ]
     },
     "metadata": {},
     "output_type": "display_data"
    },
    {
     "data": {
      "text/html": [
       "<a href='https://edgedavao.net/entrepreneurs/2019/04/18/atty-antonio-b-partoza-jr-creating-a-name-for-davao/'> ATTY. ANTONIO B. PARTOZA JR: CREATING A NAME FOR DAVAO</a>"
      ],
      "text/plain": [
       "<IPython.core.display.HTML object>"
      ]
     },
     "metadata": {},
     "output_type": "display_data"
    },
    {
     "data": {
      "text/html": [
       "<a href='https://www.interaksyon.com/politics-issues/2020/07/16/173055/air-pollution-exposure-linked-to-higher-covid-19-cases-and-deaths-new-study/'> Air pollution exposure linked to higher COVID-19 cases and deaths – new study</a>"
      ],
      "text/plain": [
       "<IPython.core.display.HTML object>"
      ]
     },
     "metadata": {},
     "output_type": "display_data"
    },
    {
     "data": {
      "text/html": [
       "<a href='https://edgedavao.net/the-economy/2020/07/04/all-phoenix-stations-in-davao-region-back-in-operation/'> All Phoenix stations in Davao  Region back in operation</a>"
      ],
      "text/plain": [
       "<IPython.core.display.HTML object>"
      ]
     },
     "metadata": {},
     "output_type": "display_data"
    },
    {
     "data": {
      "text/html": [
       "<a href='https://philnews.ph/2020/07/16/proud-family-post-tarpaulin-announcing-member-covid-19-negative/'> Another Proud Family Post Tarpaulin Announcing Member is COVID-19 Negative</a>"
      ],
      "text/plain": [
       "<IPython.core.display.HTML object>"
      ]
     },
     "metadata": {},
     "output_type": "display_data"
    },
    {
     "data": {
      "text/html": [
       "<a href='http://davaotoday.com/main/human-rights/arrest-of-balingasag-7-draws-condemnation-from-indigenous-groups/'> Arrest of Balingasag 7 draws condemnation from indigenous groups</a>"
      ],
      "text/plain": [
       "<IPython.core.display.HTML object>"
      ]
     },
     "metadata": {},
     "output_type": "display_data"
    },
    {
     "data": {
      "text/html": [
       "<a href='/Politics/International-relations/South-China-Sea/Asia-greets-US-shift-on-South-China-Sea-with-hope-and-doubt'> Asia greets US shift on South China Sea with hope and doubt</a>"
      ],
      "text/plain": [
       "<IPython.core.display.HTML object>"
      ]
     },
     "metadata": {},
     "output_type": "display_data"
    },
    {
     "data": {
      "text/html": [
       "<a href='https://www.eaglenews.ph/at-least-19-mrt-3-trains-to-run-in-metro-manila-amid-gcq-to-allow-social-distancing-says-dotr/'> At least 19 MRT-3 trains to run in Metro Manila amid GCQ to allow social distancing, says DOTr</a>"
      ],
      "text/plain": [
       "<IPython.core.display.HTML object>"
      ]
     },
     "metadata": {},
     "output_type": "display_data"
    },
    {
     "data": {
      "text/html": [
       "<a href='https://www.mindanews.com/mindaviews/2020/06/bangsamoro-speaks-balance-compassion-and-discipline-and-at-the-same-uphold-the-rule-of-law/'> BANGSAMORO SPEAKS: Balance compassion and discipline and at the same, uphold the rule of law</a>"
      ],
      "text/plain": [
       "<IPython.core.display.HTML object>"
      ]
     },
     "metadata": {},
     "output_type": "display_data"
    },
    {
     "data": {
      "text/html": [
       "<a href='https://politics.com.ph/1bakit-sa-abs-cbn-walang-second-chance-poe-says-dennis-uys-dito-chinatel-given-congressional-franchise-despite-violations/'> Bakit sa ABS-CBN walang second chance? Poe says Dennis Uy’s DITO-ChinaTel given congressional franchise despite violations</a>"
      ],
      "text/plain": [
       "<IPython.core.display.HTML object>"
      ]
     },
     "metadata": {},
     "output_type": "display_data"
    },
    {
     "data": {
      "text/html": [
       "<a href='https://www.mindanews.com/peace-process/2020/06/bangsamoro-parliament-has-yet-to-act-on-resolution-expressing-grave-concern-over-proposed-anti-terrorism-act/'> Bangsamoro Parliament has yet to act on resolution expressing “grave concern” over proposed Anti-Terrorism Act</a>"
      ],
      "text/plain": [
       "<IPython.core.display.HTML object>"
      ]
     },
     "metadata": {},
     "output_type": "display_data"
    },
    {
     "data": {
      "text/html": [
       "<a href='https://politics.com.ph/bibira-tapos-mapipikon-mike-defensor-dares-critics-to-unfriend-him-over-abs-cbn/'> Bibira tapos mapipikon! Mike Defensor dares critics to ‘unfriend’ him over ABS-CBN</a>"
      ],
      "text/plain": [
       "<IPython.core.display.HTML object>"
      ]
     },
     "metadata": {},
     "output_type": "display_data"
    },
    {
     "data": {
      "text/html": [
       "<a href='https://www.interaksyon.com/politics-issues/2020/07/16/173048/questions-abs-cbn-frequency-distance-learning/'> Big questions hover over acquisition of ABS-CBN’s frequency for distant learning</a>"
      ],
      "text/plain": [
       "<IPython.core.display.HTML object>"
      ]
     },
     "metadata": {},
     "output_type": "display_data"
    },
    {
     "data": {
      "text/html": [
       "<a href='https://politics.com.ph/brave-angara-salutes-11-lawmakers-who-voted-for-abs-cbn-franchise/'> Brave! Angara salutes 11 lawmakers who voted for ABS-CBN franchise</a>"
      ],
      "text/plain": [
       "<IPython.core.display.HTML object>"
      ]
     },
     "metadata": {},
     "output_type": "display_data"
    },
    {
     "data": {
      "text/html": [
       "<a href='https://www.eaglenews.ph/brazils-bolsonaro-tests-positive-for-coronavirus-again/'> Brazil’s Bolsonaro tests positive for coronavirus again</a>"
      ],
      "text/plain": [
       "<IPython.core.display.HTML object>"
      ]
     },
     "metadata": {},
     "output_type": "display_data"
    },
    {
     "data": {
      "text/html": [
       "<a href='https://www.manilatimes.net/2020/07/17/news/regions/bulacan-fast-tracks-coronavirus-diagnostic-laboratory/742774/'> Bulacan fast-tracks CORONAVIRUS diagnostic laboratory</a>"
      ],
      "text/plain": [
       "<IPython.core.display.HTML object>"
      ]
     },
     "metadata": {},
     "output_type": "display_data"
    },
    {
     "data": {
      "text/html": [
       "<a href='https://www.mindanews.com/top-stories/2020/07/covid-19-positives-among-stranded-basulta-residents-surge-to-120-ntf-apologizes-to-barmm-for-the-mess/'> COVID-19 positives among stranded BaSulTa residents surge to 120; NTF apologizes to BARMM for the ‘mess’</a>"
      ],
      "text/plain": [
       "<IPython.core.display.HTML object>"
      ]
     },
     "metadata": {},
     "output_type": "display_data"
    },
    {
     "data": {
      "text/html": [
       "<a href='https://www.mindanews.com/peace-process/2020/01/ceasefire-holding-sison-says-he-is-ready-to-meet-duterte-in-hanoi/'> Ceasefire holding; Sison says he is ready to meet Duterte in Hanoi  </a>"
      ],
      "text/plain": [
       "<IPython.core.display.HTML object>"
      ]
     },
     "metadata": {},
     "output_type": "display_data"
    },
    {
     "data": {
      "text/html": [
       "<a href='/Politics/International-relations/South-China-Sea/China-and-Philippines-affirm-ties-after-South-China-Sea-spat'> China and Philippines affirm ties after South China Sea spat</a>"
      ],
      "text/plain": [
       "<IPython.core.display.HTML object>"
      ]
     },
     "metadata": {},
     "output_type": "display_data"
    },
    {
     "data": {
      "text/html": [
       "<a href='https://www.manilatimes.net/2020/07/17/news/national/chinese-ambassador-huang-xilian-an-exclusive-manila-times-interview/742686/'> Chinese Ambassador Huang Xilian: An exclusive Manila Times interview</a>"
      ],
      "text/plain": [
       "<IPython.core.display.HTML object>"
      ]
     },
     "metadata": {},
     "output_type": "display_data"
    },
    {
     "data": {
      "text/html": [
       "<a href='/Economy/Chinese-are-buying-houses-again-buoying-economy'> Chinese are buying houses again, buoying economy</a>"
      ],
      "text/plain": [
       "<IPython.core.display.HTML object>"
      ]
     },
     "metadata": {},
     "output_type": "display_data"
    },
    {
     "data": {
      "text/html": [
       "<a href='https://www.eaglenews.ph/cloudy-skies-scattered-rainshowers-expected-in-cagayan-valley-other-areas-due-to-lpa/'> Cloudy skies, scattered rainshowers expected in Cagayan Valley, other areas due to LPA</a>"
      ],
      "text/plain": [
       "<IPython.core.display.HTML object>"
      ]
     },
     "metadata": {},
     "output_type": "display_data"
    },
    {
     "data": {
      "text/html": [
       "<a href='/Spotlight/Coronavirus/Coronavirus-Free-to-read/Coronavirus-latest-Russian-hackers-said-to-target-vaccine-research'> Coronavirus latest: Russian hackers said to target vaccine research</a>"
      ],
      "text/plain": [
       "<IPython.core.display.HTML object>"
      ]
     },
     "metadata": {},
     "output_type": "display_data"
    },
    {
     "data": {
      "text/html": [
       "<a href='https://www.mindanews.com/peace-process/2020/02/cotabato-city-seeks-exclusion-from-barmm-until-june-30-2022/'> Cotabato City seeks exclusion from BARMM until June 30, 2022</a>"
      ],
      "text/plain": [
       "<IPython.core.display.HTML object>"
      ]
     },
     "metadata": {},
     "output_type": "display_data"
    },
    {
     "data": {
      "text/html": [
       "<a href='https://politics.com.ph/damay-damay-na-ressa-urges-abs-cbn-inquirer-star-to-help-rappler-dig-up-dirt-on-wilfredo-keng/'> Damay damay na! Ressa urges ABS-CBN, Inquirer, Star to help Rappler dig up dirt on Wilfredo Keng</a>"
      ],
      "text/plain": [
       "<IPython.core.display.HTML object>"
      ]
     },
     "metadata": {},
     "output_type": "display_data"
    },
    {
     "data": {
      "text/html": [
       "<a href='https://politics.com.ph/dapa-na-dinudurog-pa-remulla-marcoleta-think-cordoba-not-doing-enough-to-take-down-abs-cbn-resign-or-face-ombudsman-case/'> Dapa na, dinudurog pa! Remulla, Marcoleta think Cordoba not doing enough to take down ABS-CBN: Resign or face Ombudsman case</a>"
      ],
      "text/plain": [
       "<IPython.core.display.HTML object>"
      ]
     },
     "metadata": {},
     "output_type": "display_data"
    },
    {
     "data": {
      "text/html": [
       "<a href='http://davaotoday.com/main/economy/health/davao-city-imposes-fines-for-persons-not-wearing-face-masks/'> Davao City imposes fines for persons not wearing face masks</a>"
      ],
      "text/plain": [
       "<IPython.core.display.HTML object>"
      ]
     },
     "metadata": {},
     "output_type": "display_data"
    },
    {
     "data": {
      "text/html": [
       "<a href='http://davaotoday.com/main/environment/davao-city-on-alert-for-tropical-depression-ambo/'> Davao City on alert for Tropical Depression Ambo</a>"
      ],
      "text/plain": [
       "<IPython.core.display.HTML object>"
      ]
     },
     "metadata": {},
     "output_type": "display_data"
    },
    {
     "data": {
      "text/html": [
       "<a href='http://davaotoday.com/main/headline/davao-business-sector-still-divided-on-martial-rule/'> Davao business sector still divided on martial rule</a>"
      ],
      "text/plain": [
       "<IPython.core.display.HTML object>"
      ]
     },
     "metadata": {},
     "output_type": "display_data"
    },
    {
     "data": {
      "text/html": [
       "<a href='https://www.mindanews.com/business/2020/05/davao-tourism-suffers-huge-drop-in-revenues-due-to-covid-19/'> Davao tourism suffers ‘huge drop’ in revenues due to COVID-19</a>"
      ],
      "text/plain": [
       "<IPython.core.display.HTML object>"
      ]
     },
     "metadata": {},
     "output_type": "display_data"
    },
    {
     "data": {
      "text/html": [
       "<a href='http://davaotoday.com/main/economy/health/davaos-barangay-23-c-on-hard-lockdown-due-to-covid-19/'> Davao’s Barangay 23-C on ‘hard lockdown’ due to Covid-19</a>"
      ],
      "text/plain": [
       "<IPython.core.display.HTML object>"
      ]
     },
     "metadata": {},
     "output_type": "display_data"
    },
    {
     "data": {
      "text/html": [
       "<a href='https://politics.com.ph/di-dilawan-robredo-abs-cbn-was-unfair-to-me-too/'> Di dilawan? Robredo: ABS-CBN was unfair to me too</a>"
      ],
      "text/plain": [
       "<IPython.core.display.HTML object>"
      ]
     },
     "metadata": {},
     "output_type": "display_data"
    },
    {
     "data": {
      "text/html": [
       "<a href='https://www.manilatimes.net/2020/07/17/news/national/dole-to-set-upone-stop-shop-for-abs-cbn-workers/742681/'> DoLE to set up‘one-stop shop’ for ABS-CBN workers</a>"
      ],
      "text/plain": [
       "<IPython.core.display.HTML object>"
      ]
     },
     "metadata": {},
     "output_type": "display_data"
    },
    {
     "data": {
      "text/html": [
       "<a href='https://politics.com.ph/duterte-claims-he-dismantled-filipino-oligarchy-they-take-advantage-of-their-political-power/'> Duterte claims he ‘dismantled’ Filipino oligarchy: They take advantage of their political power</a>"
      ],
      "text/plain": [
       "<IPython.core.display.HTML object>"
      ]
     },
     "metadata": {},
     "output_type": "display_data"
    },
    {
     "data": {
      "text/html": [
       "<a href='https://politics.com.ph/duterte-denies-hand-in-abs-cbn-franchise-death-congress-ang-nagpasara-niyan/'> Duterte denies hand in ABS-CBN franchise death: ‘Congress ang nagpasara niyan’</a>"
      ],
      "text/plain": [
       "<IPython.core.display.HTML object>"
      ]
     },
     "metadata": {},
     "output_type": "display_data"
    },
    {
     "data": {
      "text/html": [
       "<a href='https://www.interaksyon.com/politics-issues/2020/07/16/173057/duterte-extends-partial-restrictions-in-metro-manila-to-contain-covid-19/'> Duterte extends partial restrictions in Metro Manila to contain COVID-19</a>"
      ],
      "text/plain": [
       "<IPython.core.display.HTML object>"
      ]
     },
     "metadata": {},
     "output_type": "display_data"
    },
    {
     "data": {
      "text/html": [
       "<a href='https://www.mindanews.com/booksmindanews/2019/11/duterte-has-no-meranaw-roots-book-author-says/'> Duterte has no Meranaw roots, book author says</a>"
      ],
      "text/plain": [
       "<IPython.core.display.HTML object>"
      ]
     },
     "metadata": {},
     "output_type": "display_data"
    },
    {
     "data": {
      "text/html": [
       "<a href='https://politics.com.ph/duterte-ignores-locals-bright-bright-girls-of-media-hanggang-diyan-lang-sila/'> Duterte ignores ‘local, bright-bright girls’ of media: Hanggang diyan lang sila!</a>"
      ],
      "text/plain": [
       "<IPython.core.display.HTML object>"
      ]
     },
     "metadata": {},
     "output_type": "display_data"
    },
    {
     "data": {
      "text/html": [
       "<a href='https://politics.com.ph/duterte-invites-eddie-boy-lim-as-consultant-for-soldiers/'> Duterte invites Eddie Boy Lim as consultant for soldiers</a>"
      ],
      "text/plain": [
       "<IPython.core.display.HTML object>"
      ]
     },
     "metadata": {},
     "output_type": "display_data"
    },
    {
     "data": {
      "text/html": [
       "<a href='https://www.manilatimes.net/2020/07/16/news/latest-stories/duterte-names-new-sc-associate-justice-2/742652/'> Duterte names new SC associate justice</a>"
      ],
      "text/plain": [
       "<IPython.core.display.HTML object>"
      ]
     },
     "metadata": {},
     "output_type": "display_data"
    },
    {
     "data": {
      "text/html": [
       "<a href='https://politics.com.ph/duterte-orders-transfer-of-remaining-govt-offices-in-zamboanga-to-pagadian/'> Duterte orders transfer of remaining gov’t offices in Zamboanga to Pagadian</a>"
      ],
      "text/plain": [
       "<IPython.core.display.HTML object>"
      ]
     },
     "metadata": {},
     "output_type": "display_data"
    },
    {
     "data": {
      "text/html": [
       "<a href='https://politics.com.ph/duterte-pa-more-charter-change-to-be-revived-for-no-el-2022/'> Duterte pa more! Charter change to be revived for ‘No-el’ 2022</a>"
      ],
      "text/plain": [
       "<IPython.core.display.HTML object>"
      ]
     },
     "metadata": {},
     "output_type": "display_data"
    },
    {
     "data": {
      "text/html": [
       "<a href='https://politics.com.ph/duterte-signs-anti-terror-bill-into-law/'> Duterte signs controversial anti-terror law</a>"
      ],
      "text/plain": [
       "<IPython.core.display.HTML object>"
      ]
     },
     "metadata": {},
     "output_type": "display_data"
    },
    {
     "data": {
      "text/html": [
       "<a href='https://politics.com.ph/duterte-tells-friends-to-get-into-business-while-hes-president-kung-yayaman-ka-diyan-mas-maligaya-ako/'> Duterte tells friends to get into business while he’s President: Kung yayaman ka diyan, mas maligaya ako!</a>"
      ],
      "text/plain": [
       "<IPython.core.display.HTML object>"
      ]
     },
     "metadata": {},
     "output_type": "display_data"
    },
    {
     "data": {
      "text/html": [
       "<a href='https://politics.com.ph/duterte-thinks-drilon-authored-onerous-water-deals-kaya-sya-nag-warning/'> Duterte thinks Drilon authored ‘onerous’ water deals: ‘Kaya s’ya nag warning’</a>"
      ],
      "text/plain": [
       "<IPython.core.display.HTML object>"
      ]
     },
     "metadata": {},
     "output_type": "display_data"
    },
    {
     "data": {
      "text/html": [
       "<a href='https://politics.com.ph/duterte-threatens-to-close-down-jt-express-wants-probe-into-alleged-cargo-mishandling/'> Duterte threatens to ‘close down’ J&T Express, wants probe into alleged cargo mishandling</a>"
      ],
      "text/plain": [
       "<IPython.core.display.HTML object>"
      ]
     },
     "metadata": {},
     "output_type": "display_data"
    },
    {
     "data": {
      "text/html": [
       "<a href='https://politics.com.ph/duterte-to-cebuanos-dont-fck-with-me-shape-up/'> Duterte to Cebuanos: ‘Don’t f*ck with me, shape up’</a>"
      ],
      "text/plain": [
       "<IPython.core.display.HTML object>"
      ]
     },
     "metadata": {},
     "output_type": "display_data"
    },
    {
     "data": {
      "text/html": [
       "<a href='https://www.interaksyon.com/politics-issues/2020/07/14/172857/duterte-dismantling-oligarchy-definition/'> Duterte trumpets success ‘dismantling oligarchy.’ Why it’s confusing for some</a>"
      ],
      "text/plain": [
       "<IPython.core.display.HTML object>"
      ]
     },
     "metadata": {},
     "output_type": "display_data"
    },
    {
     "data": {
      "text/html": [
       "<a href='https://politics.com.ph/dutertes-job-to-gather-evidence-vs-maria-ressa-roque/'> Duterte’s ‘job’ to gather evidence vs Maria Ressa – Roque</a>"
      ],
      "text/plain": [
       "<IPython.core.display.HTML object>"
      ]
     },
     "metadata": {},
     "output_type": "display_data"
    },
    {
     "data": {
      "text/html": [
       "<a href='https://edgedavao.net/feature/2019/12/22/edge-davaos-and-zions-candyland-party/'> Edge Davao’s and Zion’s Candyland party</a>"
      ],
      "text/plain": [
       "<IPython.core.display.HTML object>"
      ]
     },
     "metadata": {},
     "output_type": "display_data"
    },
    {
     "data": {
      "text/html": [
       "<a href='https://politics.com.ph/erin-tanada-debate-with-mike-defensor-wont-renew-abs-cbn-franchise-restore-livelihood-of-workers/'> Erin Tañada: Debate with Mike Defensor won’t renew ABS-CBN franchise, restore livelihood of workers</a>"
      ],
      "text/plain": [
       "<IPython.core.display.HTML object>"
      ]
     },
     "metadata": {},
     "output_type": "display_data"
    },
    {
     "data": {
      "text/html": [
       "<a href='https://politics.com.ph/fallout-from-a-vote-abs-cbn-franchise-backers-to-lose-posts1/'> Fallout from a vote: ABS-CBN franchise backers to lose posts</a>"
      ],
      "text/plain": [
       "<IPython.core.display.HTML object>"
      ]
     },
     "metadata": {},
     "output_type": "display_data"
    },
    {
     "data": {
      "text/html": [
       "<a href='https://politics.com.ph/fascist-government-palace-says-jerry-gracio-should-never-have-agreed-to-serve-duterte-admin/'> Fascist government? Palace says Jerry Gracio should never have agreed to serve Duterte admin</a>"
      ],
      "text/plain": [
       "<IPython.core.display.HTML object>"
      ]
     },
     "metadata": {},
     "output_type": "display_data"
    },
    {
     "data": {
      "text/html": [
       "<a href='https://www.eaglenews.ph/flying-back-to-the-philippines-during-the-covid-19-pandemic-what-to-expect-in-the-new-normal/'> Flying back to the Philippines during the COVID-19 pandemic: what to expect in the “new normal”</a>"
      ],
      "text/plain": [
       "<IPython.core.display.HTML object>"
      ]
     },
     "metadata": {},
     "output_type": "display_data"
    },
    {
     "data": {
      "text/html": [
       "<a href='https://politics.com.ph/full-coronavirus-vaccine-unlikely-by-next-year-expert/'> Full coronavirus vaccine unlikely by next year: expert</a>"
      ],
      "text/plain": [
       "<IPython.core.display.HTML object>"
      ]
     },
     "metadata": {},
     "output_type": "display_data"
    },
    {
     "data": {
      "text/html": [
       "<a href='https://politics.com.ph/gcq-in-metro-manila-extended-till-month-end2/'> GCQ in Metro Manila extended till month-end</a>"
      ],
      "text/plain": [
       "<IPython.core.display.HTML object>"
      ]
     },
     "metadata": {},
     "output_type": "display_data"
    },
    {
     "data": {
      "text/html": [
       "<a href='https://politics.com.ph/good-job-alan-cayetano-calida-praises-house-for-killing-abs-cbn-franchise-bid/'> Good job Alan Cayetano! Calida praises House for killing ABS-CBN franchise bid</a>"
      ],
      "text/plain": [
       "<IPython.core.display.HTML object>"
      ]
     },
     "metadata": {},
     "output_type": "display_data"
    },
    {
     "data": {
      "text/html": [
       "<a href='https://politics.com.ph/goodbye-frequencies-marcoleta-says-unlikely-for-abs-cbn-to-be-granted-franchise-beyond-2022-paano-kung-may-ibang-binigyan-gobyerno/'> Goodbye frequencies! Marcoleta says unlikely for ABS-CBN to be granted franchise beyond 2022: Paano kung may ibang binigyan gobyerno?</a>"
      ],
      "text/plain": [
       "<IPython.core.display.HTML object>"
      ]
     },
     "metadata": {},
     "output_type": "display_data"
    },
    {
     "data": {
      "text/html": [
       "<a href='https://politics.com.ph/gretchen-barretto-still-a-duterte-loyalist-silent-on-abs-cbn-franchise-denial/'> Gretchen Barretto still a Duterte loyalist, silent on ABS-CBN franchise denial</a>"
      ],
      "text/plain": [
       "<IPython.core.display.HTML object>"
      ]
     },
     "metadata": {},
     "output_type": "display_data"
    },
    {
     "data": {
      "text/html": [
       "<a href='https://politics.com.ph/harry-roque-mum-on-dutertes-fresh-tirades-vs-lopezes-i-was-not-in-jolo/'> Harry Roque mum on Duterte’s fresh tirades vs Lopezes: ‘I was not in Jolo’</a>"
      ],
      "text/plain": [
       "<IPython.core.display.HTML object>"
      ]
     },
     "metadata": {},
     "output_type": "display_data"
    },
    {
     "data": {
      "text/html": [
       "<a href='http://davaotoday.com/main/culture-2/entertainment/health-advocates-want-test-centers-in-every-region-vs-covid-19/'> Health advocates want test centers in every region vs COVID-19</a>"
      ],
      "text/plain": [
       "<IPython.core.display.HTML object>"
      ]
     },
     "metadata": {},
     "output_type": "display_data"
    },
    {
     "data": {
      "text/html": [
       "<a href='https://www.interaksyon.com/politics-issues/2020/07/16/173051/heres-how-scientists-know-the-coronavirus-came-from-bats-and-wasnt-made-in-a-lab/'> Here’s how scientists know the coronavirus came from bats and wasn’t made in a lab</a>"
      ],
      "text/plain": [
       "<IPython.core.display.HTML object>"
      ]
     },
     "metadata": {},
     "output_type": "display_data"
    },
    {
     "data": {
      "text/html": [
       "<a href='http://davaotoday.com/main/culture-2/how-the-lumad-learned-to-survive-in-haran/'> How the Lumad learned to survive in Haran</a>"
      ],
      "text/plain": [
       "<IPython.core.display.HTML object>"
      ]
     },
     "metadata": {},
     "output_type": "display_data"
    },
    {
     "data": {
      "text/html": [
       "<a href='https://edgedavao.net/suburbia/2020/01/04/humanitarian-mission-provides-relief-in-davao-del-sur/'> Humanitarian mission provides relief in Davao del Sur</a>"
      ],
      "text/plain": [
       "<IPython.core.display.HTML object>"
      ]
     },
     "metadata": {},
     "output_type": "display_data"
    },
    {
     "data": {
      "text/html": [
       "<a href='https://www.eaglenews.ph/itcz-affects-palawan-visayas-mindanao-4/'> ITCZ affects Palawan, Visayas, Mindanao</a>"
      ],
      "text/plain": [
       "<IPython.core.display.HTML object>"
      ]
     },
     "metadata": {},
     "output_type": "display_data"
    },
    {
     "data": {
      "text/html": [
       "<a href='https://www.eaglenews.ph/iglesia-ni-cristo-church-of-christ-in-hawaii-conducts-contact-free-aid-to-humanity-during-covid-19-crisis/'> Iglesia Ni Cristo (Church Of Christ) in Hawaii conducts contact-free Aid to Humanity during COVID-19 crisis</a>"
      ],
      "text/plain": [
       "<IPython.core.display.HTML object>"
      ]
     },
     "metadata": {},
     "output_type": "display_data"
    },
    {
     "data": {
      "text/html": [
       "<a href='https://www.eaglenews.ph/iglesia-ni-cristo-in-taiwan-holds-lingap-for-ofws/'> Iglesia Ni Cristo in Taiwan holds “Lingap for OFWs”</a>"
      ],
      "text/plain": [
       "<IPython.core.display.HTML object>"
      ]
     },
     "metadata": {},
     "output_type": "display_data"
    },
    {
     "data": {
      "text/html": [
       "<a href='https://www.eaglenews.ph/in-photos-president-duterte-undergoes-covid-19-test-along-with-sen-bong-go/'> In photos:  President Duterte undergoes COVID-19 test, along with Sen. Bong Go</a>"
      ],
      "text/plain": [
       "<IPython.core.display.HTML object>"
      ]
     },
     "metadata": {},
     "output_type": "display_data"
    },
    {
     "data": {
      "text/html": [
       "<a href='https://www.eaglenews.ph/in-photos-iglesia-ni-cristo-starts-lingap-sa-mamamayan-to-help-those-affected-by-mindanao-quakes/'> In photos: Iglesia Ni Cristo starts “Lingap sa Mamamayan” to help those affected by Mindanao quakes</a>"
      ],
      "text/plain": [
       "<IPython.core.display.HTML object>"
      ]
     },
     "metadata": {},
     "output_type": "display_data"
    },
    {
     "data": {
      "text/html": [
       "<a href='https://www.eaglenews.ph/in-photos-president-duterte-speaks-to-chinese-leader-xi-over-the-phone/'> In photos: President Duterte speaks to Chinese leader Xi over the phone</a>"
      ],
      "text/plain": [
       "<IPython.core.display.HTML object>"
      ]
     },
     "metadata": {},
     "output_type": "display_data"
    },
    {
     "data": {
      "text/html": [
       "<a href='http://davaotoday.com/main/davao-city/investors-organize-1st-branch-in-davao/'> Investors organize 1st branch in Davao</a>"
      ],
      "text/plain": [
       "<IPython.core.display.HTML object>"
      ]
     },
     "metadata": {},
     "output_type": "display_data"
    },
    {
     "data": {
      "text/html": [
       "<a href='https://edgedavao.net/suburbia/2019/11/15/isolated-lumads-hail-govt-attention-care/'> Isolated Lumads hail gov’t attention, care</a>"
      ],
      "text/plain": [
       "<IPython.core.display.HTML object>"
      ]
     },
     "metadata": {},
     "output_type": "display_data"
    },
    {
     "data": {
      "text/html": [
       "<a href='https://politics.com.ph/jonvic-remulla-reminds-kuya-boying-about-respect-civility-after-national-anthem-gaffe-abs-cbn-franchise-hearing/'> Jonvic Remulla reminds Kuya Boying about respect, civility after national anthem gaffe, ABS-CBN franchise hearing</a>"
      ],
      "text/plain": [
       "<IPython.core.display.HTML object>"
      ]
     },
     "metadata": {},
     "output_type": "display_data"
    },
    {
     "data": {
      "text/html": [
       "<a href='https://www.mindanews.com/top-stories/2020/07/kidapawans-first-covid-19-treatment-facility-to-open-july-20/'> Kidapawan’s first COVID-19 treatment facility to open July 20</a>"
      ],
      "text/plain": [
       "<IPython.core.display.HTML object>"
      ]
     },
     "metadata": {},
     "output_type": "display_data"
    },
    {
     "data": {
      "text/html": [
       "<a href='https://politics.com.ph/konti-lang-nag-e-enroll-some-colleges-closing-campuses-in-response-to-coronavirus-ched/'> Konti lang nag-e-enroll! Some colleges closing campuses in response to coronavirus – CHED</a>"
      ],
      "text/plain": [
       "<IPython.core.display.HTML object>"
      ]
     },
     "metadata": {},
     "output_type": "display_data"
    },
    {
     "data": {
      "text/html": [
       "<a href='https://politics.com.ph/korina-sanchez-on-abs-cbn-retrenchment-bloodbath-we-are-called-one-by-one-to-be-told-that-we-are-discontinued/'> Korina Sanchez on ABS-CBN retrenchment bloodbath: We are called one by one to be told that we are discontinued</a>"
      ],
      "text/plain": [
       "<IPython.core.display.HTML object>"
      ]
     },
     "metadata": {},
     "output_type": "display_data"
    },
    {
     "data": {
      "text/html": [
       "<a href='https://politics.com.ph/list-areas-under-mgcq-gcq-mecq-until-end-july/'> LIST: Areas under MGCQ, GCQ, MECQ until end-July</a>"
      ],
      "text/plain": [
       "<IPython.core.display.HTML object>"
      ]
     },
     "metadata": {},
     "output_type": "display_data"
    },
    {
     "data": {
      "text/html": [
       "<a href='https://politics.com.ph/lray-wants-government-takeover-of-abs-cbn-frequencies-for-distance-learning/'> LRay wants government takeover of ABS-CBN frequencies for distance learning</a>"
      ],
      "text/plain": [
       "<IPython.core.display.HTML object>"
      ]
     },
     "metadata": {},
     "output_type": "display_data"
    },
    {
     "data": {
      "text/html": [
       "<a href='https://politics.com.ph/laglagan-na-robredo-to-govt-spare-11k-workers-let-lopezes-be-liable-for-abs-cbns-violations/'> Laglagan na! Robredo to gov’t: Spare 11K workers, let Lopezes be liable for ABS-CBN’s ‘violations’</a>"
      ],
      "text/plain": [
       "<IPython.core.display.HTML object>"
      ]
     },
     "metadata": {},
     "output_type": "display_data"
    },
    {
     "data": {
      "text/html": [
       "<a href='https://politics.com.ph/1lawmaker-takes-offense-at-noted-abs-cbn-news-top-boss-does-a-kiko-pangilinan/'> Lawmaker takes offense at ‘noted’: ABS-CBN News’ top boss does a Kiko Pangilinan</a>"
      ],
      "text/plain": [
       "<IPython.core.display.HTML object>"
      ]
     },
     "metadata": {},
     "output_type": "display_data"
    },
    {
     "data": {
      "text/html": [
       "<a href='https://www.eaglenews.ph/list-of-areas-quarantine-classifications-starting-july-16-until-july-31/'> List of areas, quarantine classifications starting July 16 until July 31</a>"
      ],
      "text/plain": [
       "<IPython.core.display.HTML object>"
      ]
     },
     "metadata": {},
     "output_type": "display_data"
    },
    {
     "data": {
      "text/html": [
       "<a href='https://www.manilatimes.net/2020/07/17/opinion/columnists/topanalysis/locsin-and-lorenzana-so-terribly-misinformed-about-ph-vs-china-arbitration/742764/'> Locsin and Lorenzana so terribly misinformed about PH vs China arbitration</a>"
      ],
      "text/plain": [
       "<IPython.core.display.HTML object>"
      ]
     },
     "metadata": {},
     "output_type": "display_data"
    },
    {
     "data": {
      "text/html": [
       "<a href='https://politics.com.ph/magaling-man-sabit-din-nbi-nabs-hacker-who-shared-baste-dutertes-address/'> Magaling man sabit din! NBI nabs hacker who shared Baste Duterte’s address</a>"
      ],
      "text/plain": [
       "<IPython.core.display.HTML object>"
      ]
     },
     "metadata": {},
     "output_type": "display_data"
    },
    {
     "data": {
      "text/html": [
       "<a href='https://www.eaglenews.ph/manila-to-close-business-establishments-lock-down-barangays-violating-quarantine-rules/'> Manila to close business establishments, lock down barangays violating quarantine rules</a>"
      ],
      "text/plain": [
       "<IPython.core.display.HTML object>"
      ]
     },
     "metadata": {},
     "output_type": "display_data"
    },
    {
     "data": {
      "text/html": [
       "<a href='https://politics.com.ph/mark-villar-infected-with-covid-19-netizens-tell-isolation-czar-to-get-well-soon/'> Mark Villar infected with COVID-19; Netizens tell isolation czar to get well soon</a>"
      ],
      "text/plain": [
       "<IPython.core.display.HTML object>"
      ]
     },
     "metadata": {},
     "output_type": "display_data"
    },
    {
     "data": {
      "text/html": [
       "<a href='https://www.mindanews.com/top-stories/2020/07/mayor-sara-lets-focus-on-covid-19-pandemic-not-running-for-president/'> Mayor Sara: Let’s focus on COVID-19 pandemic, not running for president</a>"
      ],
      "text/plain": [
       "<IPython.core.display.HTML object>"
      ]
     },
     "metadata": {},
     "output_type": "display_data"
    },
    {
     "data": {
      "text/html": [
       "<a href='http://davaotoday.com/main/politics/media-giant-abs-cbn-loses-franchise/'> Media giant ABS-CBN loses franchise</a>"
      ],
      "text/plain": [
       "<IPython.core.display.HTML object>"
      ]
     },
     "metadata": {},
     "output_type": "display_data"
    },
    {
     "data": {
      "text/html": [
       "<a href='https://politics.com.ph/millions-worldwide-back-in-virus-confinement-but-hope-on-us-vaccine/'> Millions worldwide back in virus confinement, but hope on US vaccine</a>"
      ],
      "text/plain": [
       "<IPython.core.display.HTML object>"
      ]
     },
     "metadata": {},
     "output_type": "display_data"
    },
    {
     "data": {
      "text/html": [
       "<a href='http://davaotoday.com/main/politics/mindanao-solon-decision-to-deny-abs-cbn-franchise-contrary-to-findings/'> Mindanao solon: Decision to deny ABS-CBN franchise ‘contrary’ to findings</a>"
      ],
      "text/plain": [
       "<IPython.core.display.HTML object>"
      ]
     },
     "metadata": {},
     "output_type": "display_data"
    },
    {
     "data": {
      "text/html": [
       "<a href='http://davaotoday.com/main/headline/misor-wants-final-version-of-iatf-guidelines-on-backriding-policy/'> MisOr wants final version of IATF guidelines on backriding policy</a>"
      ],
      "text/plain": [
       "<IPython.core.display.HTML object>"
      ]
     },
     "metadata": {},
     "output_type": "display_data"
    },
    {
     "data": {
      "text/html": [
       "<a href='https://www.interaksyon.com/politics-issues/2020/07/15/172940/moderna-phase-1-results-show-coronavirus-vaccine-safe-induces-immune-response/'> Moderna Phase 1 results show coronavirus vaccine safe, induces immune response</a>"
      ],
      "text/plain": [
       "<IPython.core.display.HTML object>"
      ]
     },
     "metadata": {},
     "output_type": "display_data"
    },
    {
     "data": {
      "text/html": [
       "<a href='https://politics.com.ph/moro-moro-lang-hearings-alan-cayetano-abs-cbn-shutdown-inevitable/'> Moro-moro lang hearings! Alan Cayetano: ABS-CBN shutdown ‘inevitable’</a>"
      ],
      "text/plain": [
       "<IPython.core.display.HTML object>"
      ]
     },
     "metadata": {},
     "output_type": "display_data"
    },
    {
     "data": {
      "text/html": [
       "<a href='https://www.mindanews.com/top-stories/2020/07/mosque-where-hostages-were-kept-during-marawi-siege-to-be-demolished/'> Mosque where hostages were kept during Marawi siege to be demolished</a>"
      ],
      "text/plain": [
       "<IPython.core.display.HTML object>"
      ]
     },
     "metadata": {},
     "output_type": "display_data"
    },
    {
     "data": {
      "text/html": [
       "<a href='http://davaotoday.com/main/headline/most-davao-businesses-dont-have-continuity-plan-pcci/'> Most Davao businesses don’t have continuity plan – PCCI</a>"
      ],
      "text/plain": [
       "<IPython.core.display.HTML object>"
      ]
     },
     "metadata": {},
     "output_type": "display_data"
    },
    {
     "data": {
      "text/html": [
       "<a href='https://edgedavao.net/the-big-news/2020/06/26/most-stranded-individuals-are-davao-bound-airline-exec/'> Most stranded individuals are  Davao-bound: airline exec</a>"
      ],
      "text/plain": [
       "<IPython.core.display.HTML object>"
      ]
     },
     "metadata": {},
     "output_type": "display_data"
    },
    {
     "data": {
      "text/html": [
       "<a href='https://www.interaksyon.com/trends-spotlights/2020/07/15/172903/new-barter-trade-philippines-dti-illegal/'> New barter trade emerging as Filipinos cope with pandemic effects, but DTI says it’s illegal</a>"
      ],
      "text/plain": [
       "<IPython.core.display.HTML object>"
      ]
     },
     "metadata": {},
     "output_type": "display_data"
    },
    {
     "data": {
      "text/html": [
       "<a href='https://politics.com.ph/new-swine-flu-found-in-china-has-pandemic-potential3/'> New swine flu found in China has pandemic potential</a>"
      ],
      "text/plain": [
       "<IPython.core.display.HTML object>"
      ]
     },
     "metadata": {},
     "output_type": "display_data"
    },
    {
     "data": {
      "text/html": [
       "<a href='https://politics.com.ph/nilaro-nila-bayan-ko-duterte-claims-lopez-family-has-too-much-influence-on-elections/'> Nilaro nila bayan ko! Duterte claims Lopez family has too much influence on elections</a>"
      ],
      "text/plain": [
       "<IPython.core.display.HTML object>"
      ]
     },
     "metadata": {},
     "output_type": "display_data"
    },
    {
     "data": {
      "text/html": [
       "<a href='https://politics.com.ph/no-apologies-statement-on-articles-about-ph-red-cross-covid-19-testing-service/'> No apologies: Statement on articles about PH Red Cross COVID-19 testing service</a>"
      ],
      "text/plain": [
       "<IPython.core.display.HTML object>"
      ]
     },
     "metadata": {},
     "output_type": "display_data"
    },
    {
     "data": {
      "text/html": [
       "<a href='https://politics.com.ph/no-more-fomo-roque-vows-to-join-dutertes-future-activities/'> No more FOMO: Roque vows to join Duterte’s future activities</a>"
      ],
      "text/plain": [
       "<IPython.core.display.HTML object>"
      ]
     },
     "metadata": {},
     "output_type": "display_data"
    },
    {
     "data": {
      "text/html": [
       "<a href='https://politics.com.ph/no-rush-to-renew-house-postpones-abs-cbns-franchise-hearings-by-1week/'> No rush to renew: House postpones ABS-CBN’s franchise hearings by 1week</a>"
      ],
      "text/plain": [
       "<IPython.core.display.HTML object>"
      ]
     },
     "metadata": {},
     "output_type": "display_data"
    },
    {
     "data": {
      "text/html": [
       "<a href='https://politics.com.ph/not-so-fast-inc-cbcp-has-best-shot-at-getting-abs-cbn-frequency-find-out-how/'> Not so fast INC: CBCP has best shot at getting ABS-CBN frequency. Find out how</a>"
      ],
      "text/plain": [
       "<IPython.core.display.HTML object>"
      ]
     },
     "metadata": {},
     "output_type": "display_data"
    },
    {
     "data": {
      "text/html": [
       "<a href='https://www.interaksyon.com/politics-issues/2020/07/14/172796/one-vaccine-to-beat-covid-sars-mers-and-common-cold-possible/'> One vaccine to beat COVID, Sars, Mers and common cold – possible?</a>"
      ],
      "text/plain": [
       "<IPython.core.display.HTML object>"
      ]
     },
     "metadata": {},
     "output_type": "display_data"
    },
    {
     "data": {
      "text/html": [
       "<a href='https://www.mindanews.com/top-stories/2020/07/p6-44-b-earmarked-to-restart-region-12-economy-amid-covid-19-pandemic/'> P6.44-B earmarked to restart Region 12 economy amid COVID-19 pandemic</a>"
      ],
      "text/plain": [
       "<IPython.core.display.HTML object>"
      ]
     },
     "metadata": {},
     "output_type": "display_data"
    },
    {
     "data": {
      "text/html": [
       "<a href='https://www.eaglenews.ph/pcg-says-83-of-313-personnel-who-tested-positive-for-covid-19-have-recovered/'> PCG says 83 of 313 personnel who tested positive for COVID-19 have recovered</a>"
      ],
      "text/plain": [
       "<IPython.core.display.HTML object>"
      ]
     },
     "metadata": {},
     "output_type": "display_data"
    },
    {
     "data": {
      "text/html": [
       "<a href='https://www.eaglenews.ph/phl-covid-cases-reach-61266-with-the-addition-of-almost-2500-new-cases-mostly-from-metro-manila/'> PHL COVID cases reach 61,266 with the addition of almost 2,500 new cases mostly from Metro Manila</a>"
      ],
      "text/plain": [
       "<IPython.core.display.HTML object>"
      ]
     },
     "metadata": {},
     "output_type": "display_data"
    },
    {
     "data": {
      "text/html": [
       "<a href='https://www.eaglenews.ph/pnp-recruitment-and-training-programs-to-resume-as-ncr-eases-to-gcq-on-june-1/'> PNP recruitment and training programs to resume as NCR eases to GCQ on June 1</a>"
      ],
      "text/plain": [
       "<IPython.core.display.HTML object>"
      ]
     },
     "metadata": {},
     "output_type": "display_data"
    },
    {
     "data": {
      "text/html": [
       "<a href='https://politics.com.ph/pakitang-tao-pagbabasa-ni-cayetano-ng-bibliya-winnie-monsod-abs-cbns-franchise-bid-killed-coz-house-lacks-conscience/'> Pakitang tao pagbabasa ni Cayetano ng Bibliya! Winnie Monsod: ABS-CBN’s franchise bid killed ‘coz House lacks conscience</a>"
      ],
      "text/plain": [
       "<IPython.core.display.HTML object>"
      ]
     },
     "metadata": {},
     "output_type": "display_data"
    },
    {
     "data": {
      "text/html": [
       "<a href='https://politics.com.ph/palace-not-100-sure-duterte-will-deliver-sona-in-batasan/'> Palace not 100% sure Duterte will deliver SONA in Batasan</a>"
      ],
      "text/plain": [
       "<IPython.core.display.HTML object>"
      ]
     },
     "metadata": {},
     "output_type": "display_data"
    },
    {
     "data": {
      "text/html": [
       "<a href='https://www.eaglenews.ph/palace-still-no-final-decision-on-whether-president-duterte-will-deliver-5th-sona-physically-at-batasang-pambansa/'> Palace: Still no final decision on whether President Duterte will deliver 5th SONA “physically” at Batasang Pambansa</a>"
      ],
      "text/plain": [
       "<IPython.core.display.HTML object>"
      ]
     },
     "metadata": {},
     "output_type": "display_data"
    },
    {
     "data": {
      "text/html": [
       "<a href='https://www.manilatimes.net/2020/07/17/business/business-top/pandemic-shuts-down-26-of-businesses-dti-poll/742821/'> Pandemic shuts down 26% of businesses – DTI poll</a>"
      ],
      "text/plain": [
       "<IPython.core.display.HTML object>"
      ]
     },
     "metadata": {},
     "output_type": "display_data"
    },
    {
     "data": {
      "text/html": [
       "<a href='https://politics.com.ph/parang-walang-natutunan-sa-pma-mon-tulfo-blasts-dela-rosa-for-advising-abs-cbn-employees-to-look-for-other-jobs/'> Parang walang natutunan sa PMA! Mon Tulfo blasts Dela Rosa for advising ABS-CBN employees to look for other jobs</a>"
      ],
      "text/plain": [
       "<IPython.core.display.HTML object>"
      ]
     },
     "metadata": {},
     "output_type": "display_data"
    },
    {
     "data": {
      "text/html": [
       "<a href='https://politics.com.ph/payback-time-boying-remulla-wants-abs-cbn-to-suffer-renewing-franchise-after-ridiculing-congress-for-33-years/'> Payback time! Boying Remulla wants ABS-CBN to suffer renewing franchise after ‘ridiculing’ Congress for 33 years</a>"
      ],
      "text/plain": [
       "<IPython.core.display.HTML object>"
      ]
     },
     "metadata": {},
     "output_type": "display_data"
    },
    {
     "data": {
      "text/html": [
       "<a href='http://davaotoday.com/main/politics/petitions-vs-anti-terror-law-grow-in-number/'> Petitions vs anti-terror law grow in number</a>"
      ],
      "text/plain": [
       "<IPython.core.display.HTML object>"
      ]
     },
     "metadata": {},
     "output_type": "display_data"
    },
    {
     "data": {
      "text/html": [
       "<a href='https://www.interaksyon.com/politics-issues/2020/07/15/172919/philippines-to-use-police-in-house-to-house-searches-for-covid-19-cases/'> Philippines to use police in house-to-house searches for COVID-19 cases</a>"
      ],
      "text/plain": [
       "<IPython.core.display.HTML object>"
      ]
     },
     "metadata": {},
     "output_type": "display_data"
    },
    {
     "data": {
      "text/html": [
       "<a href='https://politics.com.ph/philippines-wont-abandon-south-china-sea-arbitration-win-against-beijing-palace/'> Philippines won’t abandon South China Sea arbitration win against Beijing: Palace</a>"
      ],
      "text/plain": [
       "<IPython.core.display.HTML object>"
      ]
     },
     "metadata": {},
     "output_type": "display_data"
    },
    {
     "data": {
      "text/html": [
       "<a href='https://www.eaglenews.ph/president-duterte-visits-soldiers-in-sulu/'> President Duterte visits soldiers in Sulu</a>"
      ],
      "text/plain": [
       "<IPython.core.display.HTML object>"
      ]
     },
     "metadata": {},
     "output_type": "display_data"
    },
    {
     "data": {
      "text/html": [
       "<a href='https://politics.com.ph/live_streaming/president-rodrigo-duterte-addresses-the-public-may-25-2020/'> President Rodrigo Duterte addresses the public May 25, 2020</a>"
      ],
      "text/plain": [
       "<IPython.core.display.HTML object>"
      ]
     },
     "metadata": {},
     "output_type": "display_data"
    },
    {
     "data": {
      "text/html": [
       "<a href='https://politics.com.ph/live_streaming/president-rodrigo-duterte-addresses-the-public-may-28-2020/'> President Rodrigo Duterte addresses the public May 28, 2020</a>"
      ],
      "text/plain": [
       "<IPython.core.display.HTML object>"
      ]
     },
     "metadata": {},
     "output_type": "display_data"
    },
    {
     "data": {
      "text/html": [
       "<a href='https://politics.com.ph/pressure-sa-mga-mayor-ano-expects-strict-implementation-of-gcq-in-ncr/'> Pressure sa mga mayor! Año expects strict implementation of GCQ in NCR</a>"
      ],
      "text/plain": [
       "<IPython.core.display.HTML object>"
      ]
     },
     "metadata": {},
     "output_type": "display_data"
    },
    {
     "data": {
      "text/html": [
       "<a href='https://politics.com.ph/repeal-anti-terror-law-roque-to-u-s-solons-hindi-na-namin-kayo-colonial-masters/'> Repeal anti-terror law? Roque to U.S. solons: ‘Hindi na namin kayo colonial masters’</a>"
      ],
      "text/plain": [
       "<IPython.core.display.HTML object>"
      ]
     },
     "metadata": {},
     "output_type": "display_data"
    },
    {
     "data": {
      "text/html": [
       "<a href='https://www.mindanews.com/photo-of-the-day/2020/07/restoring-electricity-in-marawi/'> Restoring Electricity In Marawi</a>"
      ],
      "text/plain": [
       "<IPython.core.display.HTML object>"
      ]
     },
     "metadata": {},
     "output_type": "display_data"
    },
    {
     "data": {
      "text/html": [
       "<a href='http://retiredanalyst.blogspot.com/2020/07/13-more-dawlah-islamiya-members.html'> Retired Analyst: 13 more Dawlah Islamiya members surrender in Maguindanao</a>"
      ],
      "text/plain": [
       "<IPython.core.display.HTML object>"
      ]
     },
     "metadata": {},
     "output_type": "display_data"
    },
    {
     "data": {
      "text/html": [
       "<a href='http://retiredanalyst.blogspot.com/2020/07/army-arrest-of-top-ranking-rebels-huge.html'> Retired Analyst: Army: Arrest of top-ranking rebels ‘huge blow’ to NPA</a>"
      ],
      "text/plain": [
       "<IPython.core.display.HTML object>"
      ]
     },
     "metadata": {},
     "output_type": "display_data"
    },
    {
     "data": {
      "text/html": [
       "<a href='http://retiredanalyst.blogspot.com/2020/07/comment-philippines-future-floats-in.html'> Retired Analyst: COMMENT: The Philippines’ Future Floats in the West Philippine Sea</a>"
      ],
      "text/plain": [
       "<IPython.core.display.HTML object>"
      ]
     },
     "metadata": {},
     "output_type": "display_data"
    },
    {
     "data": {
      "text/html": [
       "<a href='http://retiredanalyst.blogspot.com/2020/07/cppnews-expect-dutertes-neoliberal.html'> Retired Analyst: CPP/News: Expect Duterte’s neoliberal legislative agenda in his 4th SONA</a>"
      ],
      "text/plain": [
       "<IPython.core.display.HTML object>"
      ]
     },
     "metadata": {},
     "output_type": "display_data"
    },
    {
     "data": {
      "text/html": [
       "<a href='http://retiredanalyst.blogspot.com/2020/07/coronavirus-sickens-221-ph-military.html'> Retired Analyst: Coronavirus sickens 221 PH military personnel </a>"
      ],
      "text/plain": [
       "<IPython.core.display.HTML object>"
      ]
     },
     "metadata": {},
     "output_type": "display_data"
    },
    {
     "data": {
      "text/html": [
       "<a href='http://retiredanalyst.blogspot.com/2020/07/kalinaw-news-11-former-npas-receive.html'> Retired Analyst: Kalinaw News: 11 Former NPAs receive almost Php 1M Government grant </a>"
      ],
      "text/plain": [
       "<IPython.core.display.HTML object>"
      ]
     },
     "metadata": {},
     "output_type": "display_data"
    },
    {
     "data": {
      "text/html": [
       "<a href='http://retiredanalyst.blogspot.com/2020/07/kalinaw-news-13-biff-rebels-surrender.html'> Retired Analyst: Kalinaw News: 13 BIFF rebels surrender to 33IB</a>"
      ],
      "text/plain": [
       "<IPython.core.display.HTML object>"
      ]
     },
     "metadata": {},
     "output_type": "display_data"
    },
    {
     "data": {
      "text/html": [
       "<a href='http://retiredanalyst.blogspot.com/2020/07/kalinaw-news-afp-pnp-found-npas-burial.html'> Retired Analyst: Kalinaw News: AFP-PNP found NPA’s burial ground in Northern Samar town </a>"
      ],
      "text/plain": [
       "<IPython.core.display.HTML object>"
      ]
     },
     "metadata": {},
     "output_type": "display_data"
    },
    {
     "data": {
      "text/html": [
       "<a href='http://retiredanalyst.blogspot.com/2020/07/commander-lauds-3rd-scout-ranger.html'> Retired Analyst: Kalinaw News: Commander lauds 3rd Scout Ranger Battalion, 1101st Infantry Brigade in Sulu, Don Medals for Gallantry</a>"
      ],
      "text/plain": [
       "<IPython.core.display.HTML object>"
      ]
     },
     "metadata": {},
     "output_type": "display_data"
    },
    {
     "data": {
      "text/html": [
       "<a href='http://retiredanalyst.blogspot.com/2020/07/kalinaw-news-dalawang-daan-at-limamput.html'> Retired Analyst: Kalinaw News: Dalawang daan at limampu’t tatlong myembro (253) ng Lihim na Organisasyong Masa galit na galit na nagmartsa laban sa CPP-NPA-NDF </a>"
      ],
      "text/plain": [
       "<IPython.core.display.HTML object>"
      ]
     },
     "metadata": {},
     "output_type": "display_data"
    },
    {
     "data": {
      "text/html": [
       "<a href='http://retiredanalyst.blogspot.com/2020/07/kalinaw-news-hardship-hunger-due-to.html'> Retired Analyst: Kalinaw News: Hardship, hunger due to successive encounters force NPA terrorists to surrender</a>"
      ],
      "text/plain": [
       "<IPython.core.display.HTML object>"
      ]
     },
     "metadata": {},
     "output_type": "display_data"
    },
    {
     "data": {
      "text/html": [
       "<a href='http://retiredanalyst.blogspot.com/2020/07/kalinaw-news-npa-purge-executioner-in.html'> Retired Analyst: Kalinaw News: NPA Purge executioner in Leyte arrested</a>"
      ],
      "text/plain": [
       "<IPython.core.display.HTML object>"
      ]
     },
     "metadata": {},
     "output_type": "display_data"
    },
    {
     "data": {
      "text/html": [
       "<a href='http://retiredanalyst.blogspot.com/2020/07/kalinaw-news-npa-rebels-mass-supporters.html'> Retired Analyst: Kalinaw News: NPA Rebels, Mass Supporters Yield; Vow Allegiance to PH Government </a>"
      ],
      "text/plain": [
       "<IPython.core.display.HTML object>"
      ]
     },
     "metadata": {},
     "output_type": "display_data"
    },
    {
     "data": {
      "text/html": [
       "<a href='https://politics.com.ph/robredo-scores-paolo-dutertes-proposal-to-rename-naia-nasa-gitna-ng-pandemya-ito-pa-talaga-maiisip/'> Robredo scores Paolo Duterte’s proposal to rename NAIA: Nasa gitna ng pandemya, ito pa talaga maiisip!</a>"
      ],
      "text/plain": [
       "<IPython.core.display.HTML object>"
      ]
     },
     "metadata": {},
     "output_type": "display_data"
    },
    {
     "data": {
      "text/html": [
       "<a href='https://politics.com.ph/russia-military-says-virus-vaccine-is-tested-and-safe/'> Russia military says virus vaccine is tested and safe</a>"
      ],
      "text/plain": [
       "<IPython.core.display.HTML object>"
      ]
     },
     "metadata": {},
     "output_type": "display_data"
    },
    {
     "data": {
      "text/html": [
       "<a href='https://www.manilatimes.net/2020/07/17/editorial-cartoons/search-for-coronavirus-patients/742672/'> SEARCH FOR CORONAVIRUS PATIENTS</a>"
      ],
      "text/plain": [
       "<IPython.core.display.HTML object>"
      ]
     },
     "metadata": {},
     "output_type": "display_data"
    },
    {
     "data": {
      "text/html": [
       "<a href='https://edgedavao.net/special-supplement/2020/03/17/some-things-you-need-to-know-about-davao-city/'> SOME THINGS YOU NEED TO KNOW ABOUT DAVAO CITY</a>"
      ],
      "text/plain": [
       "<IPython.core.display.HTML object>"
      ]
     },
     "metadata": {},
     "output_type": "display_data"
    },
    {
     "data": {
      "text/html": [
       "<a href='https://www.mindanews.com/special-reports/2020/07/special-report-policy-review-of-waste-management-needed-as-davao-city-grapples-with-household-ppe-waste/'> SPECIAL REPORT: Policy review of waste management needed as Davao City grapples with household PPE waste</a>"
      ],
      "text/plain": [
       "<IPython.core.display.HTML object>"
      ]
     },
     "metadata": {},
     "output_type": "display_data"
    },
    {
     "data": {
      "text/html": [
       "<a href='http://davaotoday.com/main/stand-point/statement-journalists-and-media-workers-on-the-denial-of-the-abs-cbn-franchise/'> STATEMENT | Journalists and media workers on the denial of the ABS-CBN franchise</a>"
      ],
      "text/plain": [
       "<IPython.core.display.HTML object>"
      ]
     },
     "metadata": {},
     "output_type": "display_data"
    },
    {
     "data": {
      "text/html": [
       "<a href='https://politics.com.ph/sarap-ng-buhay-mon-tulfo-claims-dela-rosa-owns-home-inside-posh-cavite-subdivision1/'> Sarap ng buhay! Mon Tulfo claims Dela Rosa owns home inside posh Cavite subdivision</a>"
      ],
      "text/plain": [
       "<IPython.core.display.HTML object>"
      ]
     },
     "metadata": {},
     "output_type": "display_data"
    },
    {
     "data": {
      "text/html": [
       "<a href='https://www.mindanews.com/peace-process/2020/01/senate-asks-bta-to-name-reps-to-congress-bangsamoro-parliament-forum/'> Senate asks BTA to name reps to Congress-Bangsamoro Parliament Forum</a>"
      ],
      "text/plain": [
       "<IPython.core.display.HTML object>"
      ]
     },
     "metadata": {},
     "output_type": "display_data"
    },
    {
     "data": {
      "text/html": [
       "<a href='https://www.eaglenews.ph/senator-dela-rosa-posts-photo-of-pnp-chief-gamboa-in-hospital-to-show-that-hes-okay/'> Senator Dela Rosa posts photo of PNP chief Gamboa in hospital to show that he’s okay</a>"
      ],
      "text/plain": [
       "<IPython.core.display.HTML object>"
      ]
     },
     "metadata": {},
     "output_type": "display_data"
    },
    {
     "data": {
      "text/html": [
       "<a href='https://politics.com.ph/si-ate-vi-lang-kumampi-find-out-the-4-ex-celebrities-who-voted-against-abs-cbn/'> Si Ate Vi lang kumampi! Find out the 4 ex-celebrities who voted against ABS-CBN</a>"
      ],
      "text/plain": [
       "<IPython.core.display.HTML object>"
      ]
     },
     "metadata": {},
     "output_type": "display_data"
    },
    {
     "data": {
      "text/html": [
       "<a href='https://politics.com.ph/singapore-pms-brother-joins-opposition-before-polls/'> Singapore PM’s brother joins opposition before polls</a>"
      ],
      "text/plain": [
       "<IPython.core.display.HTML object>"
      ]
     },
     "metadata": {},
     "output_type": "display_data"
    },
    {
     "data": {
      "text/html": [
       "<a href='https://www.mindanews.com/business/2020/07/socssksargen-investments-php-1-93-b-in-q1-2019-php-69-m-in-q1-2020-due-to-covid-19/'> Soccsksargen investments: PhP 1.93-B in Q1 2019. PhP 69-M in Q1 2020 due to COVID-19</a>"
      ],
      "text/plain": [
       "<IPython.core.display.HTML object>"
      ]
     },
     "metadata": {},
     "output_type": "display_data"
    },
    {
     "data": {
      "text/html": [
       "<a href='https://www.eaglenews.ph/spain-to-honour-its-28400-coronavirus-victims/'> Spain to honour its 28,400 coronavirus victims</a>"
      ],
      "text/plain": [
       "<IPython.core.display.HTML object>"
      ]
     },
     "metadata": {},
     "output_type": "display_data"
    },
    {
     "data": {
      "text/html": [
       "<a href='https://www.manilatimes.net/2020/07/17/business/business-top/stocks-get-boost-on-positive-gcq-news/742823/'> Stocks get boost on positive GCQ news</a>"
      ],
      "text/plain": [
       "<IPython.core.display.HTML object>"
      ]
     },
     "metadata": {},
     "output_type": "display_data"
    },
    {
     "data": {
      "text/html": [
       "<a href='http://davaotoday.com/main/politics/survey-shows-majority-support-for-abs-cbn/'> Survey shows majority support for ABS-CBN</a>"
      ],
      "text/plain": [
       "<IPython.core.display.HTML object>"
      ]
     },
     "metadata": {},
     "output_type": "display_data"
    },
    {
     "data": {
      "text/html": [
       "<a href='https://politics.com.ph/tapos-maliligayang-araw-ntc-wants-abs-cbn-to-stop-airing-shows-on-digital-channel-asap/'> Tapos maliligayang araw! NTC wants ABS-CBN to stop airing shows on digital channel ASAP</a>"
      ],
      "text/plain": [
       "<IPython.core.display.HTML object>"
      ]
     },
     "metadata": {},
     "output_type": "display_data"
    },
    {
     "data": {
      "text/html": [
       "<a href='http://davaotoday.com/main/todays-views/terrorizing-the-people-with-the-anti-terror-bill/'> Terrorizing the people with the anti-terror bill</a>"
      ],
      "text/plain": [
       "<IPython.core.display.HTML object>"
      ]
     },
     "metadata": {},
     "output_type": "display_data"
    },
    {
     "data": {
      "text/html": [
       "<a href='/Politics/Turbulent-Thailand/Thailand-s-economic-ministers-quit-amid-coronavirus-crisis'> Thailand's economic ministers quit amid coronavirus crisis</a>"
      ],
      "text/plain": [
       "<IPython.core.display.HTML object>"
      ]
     },
     "metadata": {},
     "output_type": "display_data"
    },
    {
     "data": {
      "text/html": [
       "<a href='https://politics.com.ph/thanks-anyway-palace-says-nothing-new-with-robredos-suggestions-on-covid-19-response/'> Thanks anyway: Palace says nothing new with Robredo’s suggestions on Covid-19 response</a>"
      ],
      "text/plain": [
       "<IPython.core.display.HTML object>"
      ]
     },
     "metadata": {},
     "output_type": "display_data"
    },
    {
     "data": {
      "text/html": [
       "<a href='/Spotlight/Coronavirus/Tokyo-businesses-impose-curbs-as-coronavirus-cases-climb'> Tokyo businesses impose curbs as coronavirus cases climb</a>"
      ],
      "text/plain": [
       "<IPython.core.display.HTML object>"
      ]
     },
     "metadata": {},
     "output_type": "display_data"
    },
    {
     "data": {
      "text/html": [
       "<a href='https://politics.com.ph/top-tweets-carlo-katigbak-11-pro-abs-cbn-lawmakers-heap-praises-trillanes-vs-remulla-kapamilya-journos-battered-not-broken/'> Top tweets: Carlo Katigbak, 11 pro-ABS-CBN lawmakers reap praises; Trillanes vs Remulla; Kapamilya journos battered not broken</a>"
      ],
      "text/plain": [
       "<IPython.core.display.HTML object>"
      ]
     },
     "metadata": {},
     "output_type": "display_data"
    },
    {
     "data": {
      "text/html": [
       "<a href='https://politics.com.ph/tumulong-na-lang-kesa-dumaldal-palace-slams-robredo-for-saying-govt-in-denial-over-lapses-in-covid-19-response/'> Tumulong na lang kesa dumaldal! Palace slams Robredo for saying gov’t ‘in denial’ over lapses in COVID-19 response</a>"
      ],
      "text/plain": [
       "<IPython.core.display.HTML object>"
      ]
     },
     "metadata": {},
     "output_type": "display_data"
    },
    {
     "data": {
      "text/html": [
       "<a href='https://politics.com.ph/twitters-bitcoin-hack-signals-political-danger-too/'> Twitter’s bitcoin hack signals political danger too</a>"
      ],
      "text/plain": [
       "<IPython.core.display.HTML object>"
      ]
     },
     "metadata": {},
     "output_type": "display_data"
    },
    {
     "data": {
      "text/html": [
       "<a href='http://davaotoday.com/main/headline/up-mindanao-postpones-events-in-wake-of-covid-19-threat/'> UP Mindanao postpones events in wake of COVID-19 threat</a>"
      ],
      "text/plain": [
       "<IPython.core.display.HTML object>"
      ]
     },
     "metadata": {},
     "output_type": "display_data"
    },
    {
     "data": {
      "text/html": [
       "<a href='http://davaotoday.com/main/economy/health/up-scientists-to-roque-statistics-show-ph-not-winning-vs-covid-19/'> UP scientists to Roque: statistics show PH not winning vs Covid-19</a>"
      ],
      "text/plain": [
       "<IPython.core.display.HTML object>"
      ]
     },
     "metadata": {},
     "output_type": "display_data"
    },
    {
     "data": {
      "text/html": [
       "<a href='https://www.eaglenews.ph/us-aircraft-carriers-conduct-drills-in-south-china-sea/'> US aircraft carriers conduct drills in South China Sea</a>"
      ],
      "text/plain": [
       "<IPython.core.display.HTML object>"
      ]
     },
     "metadata": {},
     "output_type": "display_data"
    },
    {
     "data": {
      "text/html": [
       "<a href='https://politics.com.ph/us-brands-beijings-south-china-sea-claims-illegal/'> US brands Beijing’s South China Sea claims illegal</a>"
      ],
      "text/plain": [
       "<IPython.core.display.HTML object>"
      ]
     },
     "metadata": {},
     "output_type": "display_data"
    },
    {
     "data": {
      "text/html": [
       "<a href='https://www.manilatimes.net/2020/07/17/news/world/us-coronavirus-cases-surge-further/742761/'> US coronavirus cases surge further</a>"
      ],
      "text/plain": [
       "<IPython.core.display.HTML object>"
      ]
     },
     "metadata": {},
     "output_type": "display_data"
    },
    {
     "data": {
      "text/html": [
       "<a href='https://www.eaglenews.ph/us-government-to-give-additional-p201-million-covid-19-aid-for-mindanao/'> US government to give additional P201 million COVID-19 aid for Mindanao</a>"
      ],
      "text/plain": [
       "<IPython.core.display.HTML object>"
      ]
     },
     "metadata": {},
     "output_type": "display_data"
    },
    {
     "data": {
      "text/html": [
       "<a href='https://www.interaksyon.com/politics-issues/2020/07/15/172921/us-rejects-chinas-claims-in-south-china-sea-adding-to-tensions/'> US rejects China’s claims in South China Sea, adding to tensions</a>"
      ],
      "text/plain": [
       "<IPython.core.display.HTML object>"
      ]
     },
     "metadata": {},
     "output_type": "display_data"
    },
    {
     "data": {
      "text/html": [
       "<a href='/Politics/International-relations/South-China-Sea/US-to-strengthen-electronic-warfare-abilities-in-South-China-Sea'> US to strengthen electronic-warfare abilities in South China Sea</a>"
      ],
      "text/plain": [
       "<IPython.core.display.HTML object>"
      ]
     },
     "metadata": {},
     "output_type": "display_data"
    },
    {
     "data": {
      "text/html": [
       "<a href='http://davaotoday.com/main/human-rights/union-slams-red-tagging-by-vice-mayor-during-labor-settlement/'> Union slams red-tagging by vice mayor during labor settlement</a>"
      ],
      "text/plain": [
       "<IPython.core.display.HTML object>"
      ]
     },
     "metadata": {},
     "output_type": "display_data"
    },
    {
     "data": {
      "text/html": [
       "<a href='https://politics.com.ph/vaccination-levels-falling-during-pandemic-un-warns/'> Vaccination levels falling during pandemic, UN warns</a>"
      ],
      "text/plain": [
       "<IPython.core.display.HTML object>"
      ]
     },
     "metadata": {},
     "output_type": "display_data"
    },
    {
     "data": {
      "text/html": [
       "<a href='https://www.interaksyon.com/politics-issues/2020/07/16/173094/viewers-of-duterte-national-address-blast-duque-for-improper-wear-of-face-mask/'> Viewers of Duterte’s national address blast Duque for improper wear of face mask</a>"
      ],
      "text/plain": [
       "<IPython.core.display.HTML object>"
      ]
     },
     "metadata": {},
     "output_type": "display_data"
    },
    {
     "data": {
      "text/html": [
       "<a href='https://www.interaksyon.com/celebrities/2020/07/10/172672/voting-rules-on-abs-cbns-franchise-renewal-made-last-minute-confusing-hashtags-on-social-media/'> Voting rules on ABS-CBN’s franchise renewal made last-minute confusing hashtags on social media</a>"
      ],
      "text/plain": [
       "<IPython.core.display.HTML object>"
      ]
     },
     "metadata": {},
     "output_type": "display_data"
    },
    {
     "data": {
      "text/html": [
       "<a href='https://politics.com.ph/wa-epek-paawa-bbc-journalist-calls-out-ressas-lies-on-press-freedoms-death-under-duterte/'> Wa epek paawa! BBC journalist calls out Ressa’s lies on press freedom’s ‘death’ under Duterte</a>"
      ],
      "text/plain": [
       "<IPython.core.display.HTML object>"
      ]
     },
     "metadata": {},
     "output_type": "display_data"
    },
    {
     "data": {
      "text/html": [
       "<a href='https://politics.com.ph/walang-basehan-tony-la-vina-house-report-on-abs-cbn-franchise-denial-deserves-failing-grade/'> Walang basehan! Tony La Viña: House report on ABS-CBN franchise denial deserves failing grade</a>"
      ],
      "text/plain": [
       "<IPython.core.display.HTML object>"
      ]
     },
     "metadata": {},
     "output_type": "display_data"
    },
    {
     "data": {
      "text/html": [
       "<a href='https://politics.com.ph/walloped-by-pandemic-and-controversy-trump-faces-political-turmoil/'> Walloped by pandemic and controversy, Trump faces political turmoil</a>"
      ],
      "text/plain": [
       "<IPython.core.display.HTML object>"
      ]
     },
     "metadata": {},
     "output_type": "display_data"
    },
    {
     "data": {
      "text/html": [
       "<a href='https://www.manilatimes.net/2020/07/17/opinion/columnists/topanalysis/week-8-of-the-modified-coronavirus-quarantine/742763/'> Week 8 of the modified coronavirus quarantine</a>"
      ],
      "text/plain": [
       "<IPython.core.display.HTML object>"
      ]
     },
     "metadata": {},
     "output_type": "display_data"
    },
    {
     "data": {
      "text/html": [
       "<a href='https://www.interaksyon.com/politics-issues/2020/07/14/172868/palace-hospitals-healthcare-beds-capacity-covid19/'> What Palace said (and what hospitals now say) on COVID-19 healthcare capacity</a>"
      ],
      "text/plain": [
       "<IPython.core.display.HTML object>"
      ]
     },
     "metadata": {},
     "output_type": "display_data"
    },
    {
     "data": {
      "text/html": [
       "<a href='https://www.interaksyon.com/politics-issues/2020/07/10/172652/whos-who-a-rundown-of-votes-during-abs-cbn-franchise-renewal-final-hearing/'> Who’s who: A rundown of votes during ABS-CBN franchise renewal final hearing</a>"
      ],
      "text/plain": [
       "<IPython.core.display.HTML object>"
      ]
     },
     "metadata": {},
     "output_type": "display_data"
    },
    {
     "data": {
      "text/html": [
       "<a href='https://www.interaksyon.com/politics-issues/2020/07/14/172839/why-doctors-on-social-media-are-puzzled-by-palace-remark-that-duterte-is-88-healthy/'> Why doctors on social media are puzzled by Palace remark that Duterte is 88% healthy</a>"
      ],
      "text/plain": [
       "<IPython.core.display.HTML object>"
      ]
     },
     "metadata": {},
     "output_type": "display_data"
    },
    {
     "data": {
      "text/html": [
       "<a href='https://www.mindanews.com/top-stories/2020/07/zambo-and-butuan-cities-basilan-and-agusan-del-norte-back-to-gcq-davao-city-remains-under-mgcq/'> Zambo and Butuan cities, Basilan and Agusan del Norte back to GCQ; Davao City remains under MGCQ</a>"
      ],
      "text/plain": [
       "<IPython.core.display.HTML object>"
      ]
     },
     "metadata": {},
     "output_type": "display_data"
    },
    {
     "data": {
      "text/html": [
       "<a href='https://www.interaksyon.com/trends-spotlights/2020/07/15/172927/activists-not-terrorists-greta-thunberg-calls-for-repeal-of-philippines-anti-terror-law/'> ‘Activists not terrorists’: Greta Thunberg calls for repeal of Philippines’ anti-terror law</a>"
      ],
      "text/plain": [
       "<IPython.core.display.HTML object>"
      ]
     },
     "metadata": {},
     "output_type": "display_data"
    },
    {
     "data": {
      "text/html": [
       "<a href='https://politics.com.ph/bilog-ang-mundo-sharon-cuneta-hits-back-at-house-for-burning-down-abs-cbn-house-killing-kapamilya/'> ‘Bilog ang mundo:’ Sharon Cuneta hits back at House for ‘burning down’ ABS-CBN house, ‘killing’ kapamilya</a>"
      ],
      "text/plain": [
       "<IPython.core.display.HTML object>"
      ]
     },
     "metadata": {},
     "output_type": "display_data"
    },
    {
     "data": {
      "text/html": [
       "<a href='https://politics.com.ph/binaboy-ako-duterte-slams-kapamilya-network-over-foreign-subsidiaries-tax-free-equipment/'> ‘Binaboy ako’: Duterte slams Kapamilya network over foreign subsidiaries, tax-free equipment</a>"
      ],
      "text/plain": [
       "<IPython.core.display.HTML object>"
      ]
     },
     "metadata": {},
     "output_type": "display_data"
    },
    {
     "data": {
      "text/html": [
       "<a href='https://politics.com.ph/di-aabot-sa-sampung-boto-iglesia-ni-cristo-pulong-duterte-team-up-to-kill-abs-cbns-franchise-bid/'> ‘Di aabot sa sampung boto! Iglesia Ni Cristo, Pulong Duterte team up to kill ABS-CBN’s franchise bid</a>"
      ],
      "text/plain": [
       "<IPython.core.display.HTML object>"
      ]
     },
     "metadata": {},
     "output_type": "display_data"
    },
    {
     "data": {
      "text/html": [
       "<a href='https://politics.com.ph/di-ako-politiko-mike-defensors-daughter-distances-self-from-dads-haters-over-abs-cbn-vote/'> ‘Di ako politiko! Mike Defensor’s daughter distances self from dad’s haters over ABS-CBN vote</a>"
      ],
      "text/plain": [
       "<IPython.core.display.HTML object>"
      ]
     },
     "metadata": {},
     "output_type": "display_data"
    },
    {
     "data": {
      "text/html": [
       "<a href='https://politics.com.ph/di-kuntento-sa-pagkatay-sa-abs-cbn-defensor-smells-blood-moves-to-kill-lopez-oligarchy-in-power/'> ‘Di kuntento sa pagkatay sa ABS-CBN! Defensor smells blood, moves to kill Lopez ‘oligarchy’ in power</a>"
      ],
      "text/plain": [
       "<IPython.core.display.HTML object>"
      ]
     },
     "metadata": {},
     "output_type": "display_data"
    },
    {
     "data": {
      "text/html": [
       "<a href='https://politics.com.ph/di-magpapadala-sa-pressure-guevarra-vows-conscience-will-prevail-in-dojs-review-of-anti-terror-bill/'> ‘Di magpapadala sa pressure! Guevarra vows conscience will prevail in DOJ’s review of anti-terror bill</a>"
      ],
      "text/plain": [
       "<IPython.core.display.HTML object>"
      ]
     },
     "metadata": {},
     "output_type": "display_data"
    },
    {
     "data": {
      "text/html": [
       "<a href='https://politics.com.ph/di-na-ipapamigay-palace-up-to-ntc-to-allow-use-of-abs-cbns-frequencies-for-distance-learning/'> ‘Di na ipapamigay? Palace: Up to NTC to allow use of ABS-CBN’s frequencies for distance learning</a>"
      ],
      "text/plain": [
       "<IPython.core.display.HTML object>"
      ]
     },
     "metadata": {},
     "output_type": "display_data"
    },
    {
     "data": {
      "text/html": [
       "<a href='https://politics.com.ph/di-nanlaban-nbi-finds-no-proof-slain-soldiers-fired-at-jolo-cops/'> ‘Di nanlaban! NBI finds no proof slain soldiers fired at Jolo cops</a>"
      ],
      "text/plain": [
       "<IPython.core.display.HTML object>"
      ]
     },
     "metadata": {},
     "output_type": "display_data"
    },
    {
     "data": {
      "text/html": [
       "<a href='https://politics.com.ph/di-nasabon-duterte-gives-duque-free-pass-for-claiming-covid-19-curve-flattened/'> ‘Di nasabon! Duterte gives Duque free pass for claiming COVID-19 curve flattened</a>"
      ],
      "text/plain": [
       "<IPython.core.display.HTML object>"
      ]
     },
     "metadata": {},
     "output_type": "display_data"
    },
    {
     "data": {
      "text/html": [
       "<a href='https://politics.com.ph/difficult-but-inevitable-abs-cbn-announces-retrenchment-of-workers-starting-august-31/'> ‘Difficult but inevitable:’ ABS-CBN announces retrenchment of workers starting August 31</a>"
      ],
      "text/plain": [
       "<IPython.core.display.HTML object>"
      ]
     },
     "metadata": {},
     "output_type": "display_data"
    },
    {
     "data": {
      "text/html": [
       "<a href='https://www.interaksyon.com/celebrities/2020/07/14/172804/kami-naman-ngayon-kathryn-bernardo-pens-relentless-support-for-embattled-abs-cbn/'> ‘Kami naman ngayon’: Kathryn Bernardo pens relentless support for embattled ABS-CBN</a>"
      ],
      "text/plain": [
       "<IPython.core.display.HTML object>"
      ]
     },
     "metadata": {},
     "output_type": "display_data"
    },
    {
     "data": {
      "text/html": [
       "<a href='https://politics.com.ph/lungkot-na-lungkot-siya-duterte-wants-to-talk-to-cops-who-killed-soldiers-in-jolo-shooting-incident/'> ‘Lungkot na lungkot siya’: Duterte wants to talk to cops who killed soldiers in Jolo shooting incident</a>"
      ],
      "text/plain": [
       "<IPython.core.display.HTML object>"
      ]
     },
     "metadata": {},
     "output_type": "display_data"
    },
    {
     "data": {
      "text/html": [
       "<a href='https://www.interaksyon.com/politics-issues/2020/07/16/173110/panalo-na-naman-tayo-filipinos-recall-roques-congratulations-philippines-covid-19-cases-exceed-60k/'> ‘Panalo na naman tayo’: Filipinos recall Roque’s ‘Congratulations Philippines’ as COVID-19 cases exceed 60K</a>"
      ],
      "text/plain": [
       "<IPython.core.display.HTML object>"
      ]
     },
     "metadata": {},
     "output_type": "display_data"
    },
    {
     "data": {
      "text/html": [
       "<a href='https://www.manilatimes.net/2020/07/17/business/business-top/philippine-economy-to-shrink-8-in-2020/742829/'> ‘Philippine economy to shrink 8% in 2020’</a>"
      ],
      "text/plain": [
       "<IPython.core.display.HTML object>"
      ]
     },
     "metadata": {},
     "output_type": "display_data"
    },
    {
     "data": {
      "text/html": [
       "<a href='https://www.interaksyon.com/trends-spotlights/2020/07/10/172642/remember-this-day-abs-cbn-stars-personalities-air-disappointment-after-house-denied-franchise-renewal/'> ‘Remember this day’: ABS-CBN stars, personalities air disappointment after House denied franchise renewal</a>"
      ],
      "text/plain": [
       "<IPython.core.display.HTML object>"
      ]
     },
     "metadata": {},
     "output_type": "display_data"
    },
    {
     "data": {
      "text/html": [
       "<a href='https://www.manilatimes.net/2020/07/17/news/national/reopened-economy-halted-curve-flattening/742687/'> ‘Reopened economy halted curve flattening’</a>"
      ],
      "text/plain": [
       "<IPython.core.display.HTML object>"
      ]
     },
     "metadata": {},
     "output_type": "display_data"
    },
    {
     "data": {
      "text/html": [
       "<a href='https://politics.com.ph/reposting-not-knowing-if-its-true-sharon-cuneta-curious-about-politiko-article-on-alleged-pulong-duterte-iglesia-ni-cristo-link-to-abs-cbn-shutdown/'> ‘Reposting, not knowing if it’s true:’ Sharon Cuneta curious about Politiko article on alleged Pulong Duterte-Iglesia Ni Cristo link to ABS-CBN shutdown</a>"
      ],
      "text/plain": [
       "<IPython.core.display.HTML object>"
      ]
     },
     "metadata": {},
     "output_type": "display_data"
    },
    {
     "data": {
      "text/html": [
       "<a href='https://politics.com.ph/too-early-for-you-to-enjoy-your-awards-duterte-says-maria-ressa-is-a-fraud/'> ‘Too early for you to enjoy your awards’: Duterte to bury Maria Ressa with more cases</a>"
      ],
      "text/plain": [
       "<IPython.core.display.HTML object>"
      ]
     },
     "metadata": {},
     "output_type": "display_data"
    },
    {
     "data": {
      "text/html": [
       "<a href='https://politics.com.ph/unless-you-are-driven-by-patriotism-duterte-discourages-daughter-sara-to-run-for-highest-public-office/'> ‘Unless you are driven by patriotism’: Duterte discourages daughter Sara to run for highest public office</a>"
      ],
      "text/plain": [
       "<IPython.core.display.HTML object>"
      ]
     },
     "metadata": {},
     "output_type": "display_data"
    },
    {
     "data": {
      "text/html": [
       "<a href='https://politics.com.ph/wag-idamay-ang-mga-bata-mike-defensor-appeals-to-critics-not-to-drag-his-family-over-abs-cbn-franchise-denial/'> ‘Wag idamay ang mga bata:’ Mike Defensor appeals to critics not to drag his family over ABS-CBN franchise denial</a>"
      ],
      "text/plain": [
       "<IPython.core.display.HTML object>"
      ]
     },
     "metadata": {},
     "output_type": "display_data"
    },
    {
     "data": {
      "text/html": [
       "<a href='https://politics.com.ph/we-will-never-forget-trillanes-slams-duterte-cayetano-over-abs-cbn-shutdown/'> ‘We will never forget:’ Trillanes slams Duterte, Cayetano over ABS-CBN shutdown</a>"
      ],
      "text/plain": [
       "<IPython.core.display.HTML object>"
      ]
     },
     "metadata": {},
     "output_type": "display_data"
    },
    {
     "data": {
      "text/html": [
       "<a href='https://www.interaksyon.com/trends-spotlights/2020/07/16/173077/yakap-kapamilya-abs-cbn-reporters-personalities-express-support-to-colleagues-as-retrenchment-looms/'> ‘Yakap Kapamilya’: ABS-CBN reporters, personalities express support to colleagues as retrenchment looms</a>"
      ],
      "text/plain": [
       "<IPython.core.display.HTML object>"
      ]
     },
     "metadata": {},
     "output_type": "display_data"
    },
    {
     "name": "stdout",
     "output_type": "stream",
     "text": [
      "Errors:  0\n"
     ]
    }
   ],
   "source": [
    "# summary: this takes the list from the first cell of all the html pages\n",
    "# puts the headline as the text for the list\n",
    "# uses beautiful soup to get the headline (the title field)\n",
    "# then makes it an html link\n",
    "# then displays it as an html link (needed ipython library above to do that)\n",
    "# can do this for any list of links that I get from feedly, will really save time\n",
    "#hlist = list(set(hlist))\n",
    "#hlist.sort()\n",
    "hlist = [elem[1] for elem in hitlist]\n",
    "\n",
    "for newselem in hitlist:\n",
    "    if newselem[0] == 'None':\n",
    "# for ilink in hlist:\n",
    "        try:\n",
    "            r = requests.get(newselem[1], headers=headers)\n",
    "            soup = BeautifulSoup(r.text, 'html.parser')\n",
    "            titletext = soup.title.text\n",
    "            reflink = \"<a href='\" + ilink + \"'> \" + titletext + \"</a>\"\n",
    "            html = HTML(reflink)\n",
    "            display(html)\n",
    "        except:\n",
    "            errors += 1\n",
    "    else:\n",
    "        reflink = \"<a href='\" + newselem[1] + \"'> \" + newselem[0] + \"</a>\"\n",
    "        html = HTML(reflink)\n",
    "        display(html)\n",
    "        \n",
    "print(\"Errors: \", errors)"
   ]
  },
  {
   "cell_type": "code",
   "execution_count": 34,
   "metadata": {},
   "outputs": [],
   "source": [
    "paperlist = [\"https://www.abc.net.au/news/\",\n",
    "    \"https://www.aseantoday.com/\",\n",
    "    \"https://www.bbc.com/news\",\n",
    "    \"https://www.asiasentinel.com/\",\n",
    "    \"https://www.bangkokpost.com/\",\n",
    "    \"https://www.benarnews.org/english/\",\n",
    "    \"https://www.theborneopost.com/\",\n",
    "    \"https://www.japantimes.co.jp/\",\n",
    "    \"https://www.nationthailand.com/\",\n",
    "    \"https://www.nzherald.co.nz/\",\n",
    "    \"https://www.rfa.org/english/\",\n",
    "    \"https://www.thejakartapost.com/\",\n",
    "    \"http://www.straitstimes.com/asia/\",\n",
    "    \"http://www.straitstimes.com/asia/east-asia/\",\n",
    "    \"https://www.scmp.com/\",\n",
    "    \"https://www.globaltimes.cn/\",\n",
    "    \"https://www.nytimes.com/\",\n",
    "    \"https://www.foxnews.com/\",\n",
    "    \"https://www.cnn.com/\",\n",
    "    \"https://asia.nikkei.com/\"]\n",
    "\n",
    "taglist = [\"coronavirus\",\n",
    "    \"covid-19\",\n",
    "    \"world health organisation\",\n",
    "    \"world health organization\",\n",
    "    \"embargo\",\n",
    "    \"trade deal\",\n",
    "    \"tariffs\",\n",
    "    \"election\",\n",
    "    \"cases spike\",\n",
    "    \"close schools\",\n",
    "    \"bullying\",\n",
    "    \"south china sea\",\n",
    "    \"lockdown\",\n",
    "    \"peta\",\n",
    "    \"coconut supply\",\n",
    "    \"abu sayyaf\",\n",
    "    \"data security\",\n",
    "    \"hong kong police\",\n",
    "    \"hong kong protestors\",\n",
    "    \"national security law\",\n",
    "    \"remdesvir\",\n",
    "    \"vaccine trials\",\n",
    "    \"uighur\",\n",
    "    \"aegis ashore\",\n",
    "    \"economy to shrink\",\n",
    "    \"nuclear talks\",\n",
    "    \"indigenous\",\n",
    "    \"dollar drops\",\n",
    "    \"dollar falls\",\n",
    "    \"dollar rises\",\n",
    "    \"battle against virus\",\n",
    "    \"recession\",\n",
    "    \"voice of america\",\n",
    "    \"lemur\",\n",
    "    \"orangutang\",\n",
    "    \"elephant\",\n",
    "    \"pangolin\",\n",
    "    \"fishermen\",\n",
    "    \"bolsonaro\",\n",
    "    \"inflation\",\n",
    "    \"aboriginal\",\n",
    "    \"japan earthquake\",\n",
    "    \"flooding in china\",\n",
    "    \"flood in china\",\n",
    "    \"earthquake in japan\",\n",
    "    \"typhoon\",\n",
    "    \"hagia sophia\",\n",
    "    \"turkey\",\n",
    "    \"erdogan\"]\n",
    "\n"
   ]
  },
  {
   "cell_type": "code",
   "execution_count": 35,
   "metadata": {},
   "outputs": [],
   "source": [
    "hitlist = []\n",
    "hlist = []\n",
    "for paper in paperlist:\n",
    "    r = requests.get(paper, headers=headers)\n",
    "    soup = BeautifulSoup(r.text, 'html.parser')\n",
    "    myelems = soup.findAll('a')\n",
    "    for elem in myelems:\n",
    "        titleck = str(elem.get('title'))\n",
    "        for checker in taglist:\n",
    "            if checker.lower() in titleck.lower():\n",
    "                url = elem.get('href')\n",
    "                hitlist.append((titleck, url))\n",
    "                hlist.append(url)\n",
    "hitlist = list(set(hitlist))\n",
    "hitlist.sort()\n",
    "# for elem in hitlist:\n",
    "#     print(elem[0])\n",
    "#     print(elem[1])\n"
   ]
  },
  {
   "cell_type": "code",
   "execution_count": 36,
   "metadata": {},
   "outputs": [
    {
     "data": {
      "text/html": [
       "<a href='https://www.benarnews.org/english/news/indonesian/sea-concerns-06262020145459.html'> ASEAN Leaders Assert Importance of Free Airspace over South China Sea</a>"
      ],
      "text/plain": [
       "<IPython.core.display.HTML object>"
      ]
     },
     "metadata": {},
     "output_type": "display_data"
    },
    {
     "data": {
      "text/html": [
       "<a href='https://www.benarnews.org/english/news/bengali/covid-militancy-06182020155559.html'> Bangladeshi Militants Take Advantage of COVID-19 Pandemic</a>"
      ],
      "text/plain": [
       "<IPython.core.display.HTML object>"
      ]
     },
     "metadata": {},
     "output_type": "display_data"
    },
    {
     "data": {
      "text/html": [
       "<a href='https://www.aseantoday.com/2020/07/covid-19-is-boosting-fintech-and-mobile-money-in-myanmar-but-whats-next/'> COVID-19 is boosting fintech and mobile money in Myanmar, but what's next? | ASEAN Today</a>"
      ],
      "text/plain": [
       "<IPython.core.display.HTML object>"
      ]
     },
     "metadata": {},
     "output_type": "display_data"
    },
    {
     "data": {
      "text/html": [
       "<a href='https://www.aseantoday.com/2020/05/covid-19-pushes-healthcare-technology-transformation-in-asia/'> COVID-19 pushes healthcare technology transformation in Asia | ASEAN Today</a>"
      ],
      "text/plain": [
       "<IPython.core.display.HTML object>"
      ]
     },
     "metadata": {},
     "output_type": "display_data"
    },
    {
     "data": {
      "text/html": [
       "<a href='https://www.rfa.org/english/news/cambodia/loans-07142020153136.html'> Cambodia Must Suspend Loan Collections For Borrowers Impacted by Coronavirus: Rights Group</a>"
      ],
      "text/plain": [
       "<IPython.core.display.HTML object>"
      ]
     },
     "metadata": {},
     "output_type": "display_data"
    },
    {
     "data": {
      "text/html": [
       "<a href='https://www.theborneopost.com/2020/07/17/covid-19-over-800000-individuals-sampled-so-far-dr-noor-hisham/'> Covid-19: Over 800,000 individuals sampled so far — Dr Noor Hisham | Borneo Post Online</a>"
      ],
      "text/plain": [
       "<IPython.core.display.HTML object>"
      ]
     },
     "metadata": {},
     "output_type": "display_data"
    },
    {
     "data": {
      "text/html": [
       "<a href='https://www.theborneopost.com/2020/07/16/covid-19-risk-of-spread-at-flood-relief-centres/'> Covid-19: Risk of spread at flood relief centres | Borneo Post Online</a>"
      ],
      "text/plain": [
       "<IPython.core.display.HTML object>"
      ]
     },
     "metadata": {},
     "output_type": "display_data"
    },
    {
     "data": {
      "text/html": [
       "<a href='https://www.aseantoday.com/2020/07/indonesias-new-agricultural-megaproject-threatens-public-health-indigenous-rights-and-it-might-not-work/'> Indonesia's new agricultural megaproject threatens public health, indigenous rights | ASEAN Today</a>"
      ],
      "text/plain": [
       "<IPython.core.display.HTML object>"
      ]
     },
     "metadata": {},
     "output_type": "display_data"
    },
    {
     "data": {
      "text/html": [
       "<a href='https://www.theborneopost.com/2020/07/17/rare-twin-red-ruffed-lemurs-born-at-singapore-zoo/'> Rare twin red-ruffed lemurs born at Singapore zoo  | Borneo Post Online</a>"
      ],
      "text/plain": [
       "<IPython.core.display.HTML object>"
      ]
     },
     "metadata": {},
     "output_type": "display_data"
    },
    {
     "data": {
      "text/html": [
       "<a href='https://www.rfa.org/english/news/china/malaysia-southchinasea-07152020181205.html'> South China Sea: Malaysia Urges Nations to Stand Down from ‘Military Posturing’</a>"
      ],
      "text/plain": [
       "<IPython.core.display.HTML object>"
      ]
     },
     "metadata": {},
     "output_type": "display_data"
    },
    {
     "data": {
      "text/html": [
       "<a href='https://www.rfa.org/english/commentaries/taiwan-covid-07062020065643.html'> Taiwan’s Success in Combating the Coronavirus Gains International Attention</a>"
      ],
      "text/plain": [
       "<IPython.core.display.HTML object>"
      ]
     },
     "metadata": {},
     "output_type": "display_data"
    },
    {
     "data": {
      "text/html": [
       "<a href='https://www.benarnews.org/english/news/thai/peace-talks-06192020162527.html'> Thai Negotiator Looks to Resume Southern Peace Talks as COVID-19 Subsides </a>"
      ],
      "text/plain": [
       "<IPython.core.display.HTML object>"
      ]
     },
     "metadata": {},
     "output_type": "display_data"
    },
    {
     "data": {
      "text/html": [
       "<a href='https://www.theborneopost.com/2020/07/17/uk-says-russian-actors-likely-tried-to-disrupt-2019-election/'> UK says 'Russian actors' likely tried to disrupt 2019 election | Borneo Post Online</a>"
      ],
      "text/plain": [
       "<IPython.core.display.HTML object>"
      ]
     },
     "metadata": {},
     "output_type": "display_data"
    },
    {
     "data": {
      "text/html": [
       "<a href='https://www.benarnews.org/english/news/philippine/ADIZ-South-China-Sea-06242020143810.html'> US Watching if Beijing Declares Air Defense Zone in South China Sea</a>"
      ],
      "text/plain": [
       "<IPython.core.display.HTML object>"
      ]
     },
     "metadata": {},
     "output_type": "display_data"
    },
    {
     "data": {
      "text/html": [
       "<a href='https://www.aseantoday.com/2020/07/what-can-indonesian-fishers-and-happiness-data-teach-us-about-the-covid-19-economy/'> What can Indonesian fishers and happiness data teach us about the COVID-19 economy? | ASEAN Today</a>"
      ],
      "text/plain": [
       "<IPython.core.display.HTML object>"
      ]
     },
     "metadata": {},
     "output_type": "display_data"
    },
    {
     "data": {
      "text/html": [
       "<a href='https://www.aseantoday.com/2020/07/what-can-southeast-asia-learn-from-singapore-and-its-first-covid-19-election/'> What can Southeast Asia learn from Singapore and its first 'COVID-19 election'? | ASEAN Today</a>"
      ],
      "text/plain": [
       "<IPython.core.display.HTML object>"
      ]
     },
     "metadata": {},
     "output_type": "display_data"
    },
    {
     "name": "stdout",
     "output_type": "stream",
     "text": [
      "Errors:  9\n"
     ]
    }
   ],
   "source": [
    "# summary: this takes the list from the first cell of all the html pages\n",
    "# puts the headline as the text for the list\n",
    "# uses beautiful soup to get the headline (the title field)\n",
    "# then makes it an html link\n",
    "# then displays it as an html link (needed ipython library above to do that)\n",
    "# can do this for any list of links that I get from feedly, will really save time\n",
    "#hlist = list(set(hlist))\n",
    "#hlist.sort()\n",
    "hlist = [elem[1] for elem in hitlist]\n",
    "errors = 0\n",
    "for ilink in hlist:\n",
    "    try:\n",
    "        r = requests.get(ilink, headers=headers)\n",
    "        soup = BeautifulSoup(r.text, 'html.parser')\n",
    "        titletext = soup.title.text\n",
    "        reflink = \"<a href='\" + ilink + \"'> \" + titletext + \"</a>\"\n",
    "        html = HTML(reflink)\n",
    "        display(html)\n",
    "    except:\n",
    "        errors += 1\n",
    "print(\"Errors: \", errors)"
   ]
  },
  {
   "cell_type": "code",
   "execution_count": 37,
   "metadata": {},
   "outputs": [
    {
     "name": "stdout",
     "output_type": "stream",
     "text": [
      "50\n"
     ]
    },
    {
     "data": {
      "text/html": [
       "<a href='https://www.scmp.com/economy/china-economy/article/3093371/china-gdp-economy-avoids-recession-second-quarter-growth-32'> China GDP: first major economy to show a recovery from coronavirus damage with 3.2 per cent growth in second quarter | South China Morning Post</a>"
      ],
      "text/plain": [
       "<IPython.core.display.HTML object>"
      ]
     },
     "metadata": {},
     "output_type": "display_data"
    },
    {
     "data": {
      "text/html": [
       "<a href='https://www.scmp.com/business/china-business/article/3093429/chinas-june-property-investment-home-prices-pick-economy'> China’s June property investment, home prices pick up as economy averts a recession | South China Morning Post</a>"
      ],
      "text/plain": [
       "<IPython.core.display.HTML object>"
      ]
     },
     "metadata": {},
     "output_type": "display_data"
    },
    {
     "data": {
      "text/html": [
       "<a href='https://www.scmp.com/tech/innovation/article/3092691/chinas-patent-filings-back-track-amid-covid-19-disruptions'> China’s patent filings back on track amid Covid-19 disruptions | South China Morning Post</a>"
      ],
      "text/plain": [
       "<IPython.core.display.HTML object>"
      ]
     },
     "metadata": {},
     "output_type": "display_data"
    },
    {
     "data": {
      "text/html": [
       "<a href='https://www.scmp.com/business/banking-finance/article/3093222/chinese-bankers-hong-kong-feel-sting-tripling-tax-bill'> Chinese bankers in Hong Kong feel the sting of a tripling tax bill as China’s tax authority collects tariffs on citizens’ global income | South China Morning Post</a>"
      ],
      "text/plain": [
       "<IPython.core.display.HTML object>"
      ]
     },
     "metadata": {},
     "output_type": "display_data"
    },
    {
     "data": {
      "text/html": [
       "<a href='https://www.scmp.com/economy/china-economy/article/3092640/coronavirus-us-china-trade-war-see-95-cent-american-firms'> Coronavirus, US-China trade war see 95 per cent of American firms wanting to ditch Chinese suppliers | South China Morning Post</a>"
      ],
      "text/plain": [
       "<IPython.core.display.HTML object>"
      ]
     },
     "metadata": {},
     "output_type": "display_data"
    },
    {
     "data": {
      "text/html": [
       "<a href='https://www.scmp.com/business/companies/article/3093124/coronavirus-fosun-pharmaceutical-shares-surge-beijing-accepts'> Coronavirus: Fosun Pharmaceutical shares surge as Beijing accepts application for clinical trial of vaccine candidate | South China Morning Post</a>"
      ],
      "text/plain": [
       "<IPython.core.display.HTML object>"
      ]
     },
     "metadata": {},
     "output_type": "display_data"
    },
    {
     "data": {
      "text/html": [
       "<a href='https://www.scmp.com/business/banking-finance/article/3093137/financial-havoc-coronavirus-pandemic-spares-no-one-causing'> Financial havoc from coronavirus pandemic spares no one, affecting seven in 10 global investors, UBS survey says | South China Morning Post</a>"
      ],
      "text/plain": [
       "<IPython.core.display.HTML object>"
      ]
     },
     "metadata": {},
     "output_type": "display_data"
    },
    {
     "data": {
      "text/html": [
       "<a href='https://www.scmp.com/business/banking-finance/article/3093304/hsbc-standard-chartered-reinstate-work-home-measures-third'> HSBC, Standard Chartered reinstate work-from-home measures as ‘third wave’ of coronavirus hits Hong Kong | South China Morning Post</a>"
      ],
      "text/plain": [
       "<IPython.core.display.HTML object>"
      ]
     },
     "metadata": {},
     "output_type": "display_data"
    },
    {
     "data": {
      "text/html": [
       "<a href='https://www.scmp.com/business/money/stock-talk/article/3093214/hong-kong-stocks-rally-covid-19-vaccine-hopes-traders'> Hong Kong stock investors shrug off Trump move to revoke city’s special status, focus on Covid-19 spike, vaccine progress | South China Morning Post</a>"
      ],
      "text/plain": [
       "<IPython.core.display.HTML object>"
      ]
     },
     "metadata": {},
     "output_type": "display_data"
    },
    {
     "data": {
      "text/html": [
       "<a href='https://www.scmp.com/business/money/markets-investing/article/3093049/hong-kong-china-markets-slide-concerns-rise-about'> Hong Kong, China markets slide as concerns rise about overheated stocks, cases of coronavirus growing in US | South China Morning Post</a>"
      ],
      "text/plain": [
       "<IPython.core.display.HTML object>"
      ]
     },
     "metadata": {},
     "output_type": "display_data"
    },
    {
     "data": {
      "text/html": [
       "<a href='https://www.scmp.com/business/companies/article/3093178/wang-jianlin-controlled-wanda-film-flags-first-half-loss-us228'> Wang Jianlin-controlled Wanda Film flags first-half loss of up to US$228 million as coronavirus pandemic keeps cinemas shut | South China Morning Post</a>"
      ],
      "text/plain": [
       "<IPython.core.display.HTML object>"
      ]
     },
     "metadata": {},
     "output_type": "display_data"
    },
    {
     "name": "stdout",
     "output_type": "stream",
     "text": [
      "Errors:  0\n"
     ]
    }
   ],
   "source": [
    "# for an xml based rss feed:\n",
    "\n",
    "xmllist = [\"https://www.scmp.com/rss/107605/feed\"]\n",
    "hitlist = []\n",
    "errors = 0\n",
    "for paper in xmllist:\n",
    "    r = requests.get(paper, headers=headers)\n",
    "    #print(r.text[0:500])\n",
    "    soup = BeautifulSoup(r.text, 'xml')\n",
    "    myelems = soup.findAll('guid')\n",
    "    print(len(myelems))\n",
    "    for elem in myelems:\n",
    "        linkck = elem.get_text()\n",
    "        #print(linkck)\n",
    "        #hitlist.append(linkck)\n",
    "        try:\n",
    "            r2 = requests.get(linkck, headers=headers)\n",
    "            soup2 = BeautifulSoup(r2.text, 'html.parser')\n",
    "            titletext = soup2.title.text\n",
    "            for checker in taglist:\n",
    "                if checker.lower() in titletext.lower():\n",
    "                    hitlist.append((titletext, linkck))\n",
    "        except:\n",
    "            errors += 1\n",
    "   \n",
    "hitlist = list(set(hitlist))\n",
    "hitlist.sort()\n",
    "hlist = [elem[1] for elem in hitlist]\n",
    "\n",
    "for elem in hitlist:\n",
    "    reflink = \"<a href='\" + elem[1] + \"'> \" + elem[0] + \"</a>\"\n",
    "    html = HTML(reflink)\n",
    "    display(html)\n",
    "\n",
    "print(\"Errors: \", errors)\n",
    "\n"
   ]
  }
 ],
 "metadata": {
  "kernelspec": {
   "display_name": "Python 3",
   "language": "python",
   "name": "python3"
  },
  "language_info": {
   "codemirror_mode": {
    "name": "ipython",
    "version": 3
   },
   "file_extension": ".py",
   "mimetype": "text/x-python",
   "name": "python",
   "nbconvert_exporter": "python",
   "pygments_lexer": "ipython3",
   "version": "3.7.2"
  }
 },
 "nbformat": 4,
 "nbformat_minor": 4
}
