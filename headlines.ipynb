{
 "cells": [
  {
   "cell_type": "code",
   "execution_count": 23,
   "metadata": {},
   "outputs": [
    {
     "name": "stdout",
     "output_type": "stream",
     "text": [
      "﻿\r\n",
      "<!DOCTYPE html>\r\n",
      "<html lang=\"en\">\r\n",
      "<head>\r\n",
      "\t<meta charset=\"UTF-8\">\t\r\n",
      "\t\t\r\n",
      "\t<meta name=\"viewport\" content=\"width=device-width, initial-scale=1.0\">\r\n",
      "\t\r\n",
      "\t\r\n",
      "\t\r\n",
      "\t\r\n",
      "\t<!-- FB Meta -->\r\n",
      "\t<meta property=\"og:ttl\" content=\"345600\" />\r\n",
      "\t<meta property=\"fb:app_id\" content=\"175228195865217\" />\r\n",
      "\t<meta property=\"og:title\" content=\"COVID-19 count: DOH to stress ‘active,’ not actual cases\" />\t\r\n",
      "\t<meta property=\"og:description\" content=\"MANILA, Philippines — The administration is revising its communication stra\n"
     ]
    }
   ],
   "source": [
    "import requests\n",
    "from bs4 import BeautifulSoup\n",
    "from IPython.core.display import display, HTML\n",
    "\n",
    "hlist = ['https://newsinfo.inquirer.net/1304076/covid-19-count-doh-to-stress-active-not-actual-cases',\n",
    "    'https://newsinfo.inquirer.net/1304070/duterte-tags-reds-terrorists-cites-on-off-peace-talks',\n",
    "    'https://retiredanalyst.blogspot.com/2020/07/suspected-npa-rebels-abduct-barangay.html',\n",
    "    'https://newsinfo.inquirer.net/1304039/amid-pandemic-govt-pulls-out-all-stops-for-bicol-express-revival',\n",
    "    'https://retiredanalyst.blogspot.com/2020/07/tourists-barred-from-entering-cebu.html',\n",
    "    'https://retiredanalyst.blogspot.com/2020/07/barmm-to-award-7000-study-grants-to.html',\n",
    "    'https://retiredanalyst.blogspot.com/2020/07/5-asg-terrorists-killed-in-sulu-clashes.html',\n",
    "    'https://retiredanalyst.blogspot.com/2020/07/palace-confirms-terror-alert-for.html',\n",
    "    'https://retiredanalyst.blogspot.com/2020/07/us-troops-now-in-cebu-for-civil.html',\n",
    "    'https://retiredanalyst.blogspot.com/2020/07/tf-davao-church-workers-join-hands-vs.html',\n",
    "    'https://retiredanalyst.blogspot.com/2020/07/baguio-court-orders-arrest-of-suspects.html',\n",
    "    'https://newsinfo.inquirer.net/1304098/taguig-lgu-says-spike-in-covid-19-cases-due-to-aggressive-testing',\n",
    "    'https://newsinfo.inquirer.net/1304092/solon-wants-media-to-be-fair-says-that-panel-members-havent-voted-on-abs-cbns-franchise',\n",
    "    'https://newsinfo.inquirer.net/1304061/mrt-3s-bus-augmentation-would-make-first-trip-by-4am-starting-thursday-dotr',\n",
    "    'https://www.manilatimes.net/2020/07/09/business/business-top/govt-can-pay-off-its-covid-19-loans/739825/',\n",
    "    'https://www.gmanetwork.com/news/news/nation/746106/after-the-expiration-of-the-bayanihan-act-are-violations-of-quarantine-protocols-valid-basis-for-arrests/story/',\n",
    "    'http://www.rappler.com/science-nature/life-health/266053-study-brain-problems-linked-mild-coronavirus-infections',\n",
    "    'http://www.rappler.com/world/regions/asia-pacific/266047-us-china-impose-visa-restrictions-tibet-row',\n",
    "    'http://www.rappler.com/nation/266044-philippine-coast-guard-block-departure-hong-kong-ship-crew-liberty-5-case']\n",
    "\n",
    "\n",
    "# need the following to tell it we are a firefox browser in order to prevent getting blocked as a bot\n",
    "headers = requests.utils.default_headers()\n",
    "headers.update({\n",
    "    'User-Agent': 'Mozilla/5.0 (X11; Ubuntu; Linux x86_64; rv:52.0) Gecko/20100101 Firefox/52.0',\n",
    "})\n",
    "\n",
    "r = requests.get(hlist[0], headers=headers)\n",
    "soup = BeautifulSoup(r.text, 'html.parser')\n",
    "\n",
    "print(r.text[0:500])"
   ]
  },
  {
   "cell_type": "code",
   "execution_count": 13,
   "metadata": {},
   "outputs": [
    {
     "data": {
      "text/plain": [
       "'COVID-19 count: DOH to stress ‘active,’ not actual cases | Inquirer News'"
      ]
     },
     "execution_count": 13,
     "metadata": {},
     "output_type": "execute_result"
    }
   ],
   "source": [
    "#results = soup.find_all('meta', property=\"og:title\")\n",
    "#len(results)\n",
    "titletext = soup.title.text\n",
    "titletext"
   ]
  },
  {
   "cell_type": "code",
   "execution_count": 21,
   "metadata": {},
   "outputs": [
    {
     "data": {
      "text/html": [
       "<a href='https://newsinfo.inquirer.net/1304076/covid-19-count-doh-to-stress-active-not-actual-cases'> COVID-19 count: DOH to stress ‘active,’ not actual cases | Inquirer News</a>"
      ],
      "text/plain": [
       "<IPython.core.display.HTML object>"
      ]
     },
     "metadata": {},
     "output_type": "display_data"
    }
   ],
   "source": [
    "#from IPython.display import IFrame\n",
    "#IFrame(src=hlist[0], width=700, height=600)\n",
    "\n",
    "# note than in the reflink below when I had brackets{} surrounding the link, it pointed to localhost first\n",
    "# it may also do that if you leave off the https:// at the front\n",
    "reflink = \"<a href='\" + hlist[0] + \"'> \" + titletext + \"</a>\"\n",
    "html = HTML(reflink)\n",
    "display(html)\n"
   ]
  },
  {
   "cell_type": "code",
   "execution_count": 24,
   "metadata": {},
   "outputs": [
    {
     "data": {
      "text/html": [
       "<a href='https://newsinfo.inquirer.net/1304076/covid-19-count-doh-to-stress-active-not-actual-cases'> COVID-19 count: DOH to stress ‘active,’ not actual cases | Inquirer News</a>"
      ],
      "text/plain": [
       "<IPython.core.display.HTML object>"
      ]
     },
     "metadata": {},
     "output_type": "display_data"
    },
    {
     "data": {
      "text/html": [
       "<a href='https://newsinfo.inquirer.net/1304070/duterte-tags-reds-terrorists-cites-on-off-peace-talks'> Duterte tags communist rebels as terrorists, cites on-off peace talks | Inquirer News</a>"
      ],
      "text/plain": [
       "<IPython.core.display.HTML object>"
      ]
     },
     "metadata": {},
     "output_type": "display_data"
    },
    {
     "data": {
      "text/html": [
       "<a href='https://retiredanalyst.blogspot.com/2020/07/suspected-npa-rebels-abduct-barangay.html'> Retired Analyst: Suspected NPA rebels abduct barangay councilor, watchman</a>"
      ],
      "text/plain": [
       "<IPython.core.display.HTML object>"
      ]
     },
     "metadata": {},
     "output_type": "display_data"
    },
    {
     "data": {
      "text/html": [
       "<a href='https://newsinfo.inquirer.net/1304039/amid-pandemic-govt-pulls-out-all-stops-for-bicol-express-revival'> Amid pandemic, gov’t pulls out all stops for ‘Bicol Express’ revival | Inquirer News</a>"
      ],
      "text/plain": [
       "<IPython.core.display.HTML object>"
      ]
     },
     "metadata": {},
     "output_type": "display_data"
    },
    {
     "data": {
      "text/html": [
       "<a href='https://retiredanalyst.blogspot.com/2020/07/tourists-barred-from-entering-cebu.html'> Retired Analyst: Tourists barred from entering Cebu island due to armed men</a>"
      ],
      "text/plain": [
       "<IPython.core.display.HTML object>"
      ]
     },
     "metadata": {},
     "output_type": "display_data"
    },
    {
     "data": {
      "text/html": [
       "<a href='https://retiredanalyst.blogspot.com/2020/07/barmm-to-award-7000-study-grants-to.html'> Retired Analyst: BARMM to award 7,000 study grants to technical skills students </a>"
      ],
      "text/plain": [
       "<IPython.core.display.HTML object>"
      ]
     },
     "metadata": {},
     "output_type": "display_data"
    },
    {
     "data": {
      "text/html": [
       "<a href='https://retiredanalyst.blogspot.com/2020/07/5-asg-terrorists-killed-in-sulu-clashes.html'> Retired Analyst: 5 ASG terrorists killed in Sulu clashes with Scout Rangers </a>"
      ],
      "text/plain": [
       "<IPython.core.display.HTML object>"
      ]
     },
     "metadata": {},
     "output_type": "display_data"
    },
    {
     "data": {
      "text/html": [
       "<a href='https://retiredanalyst.blogspot.com/2020/07/palace-confirms-terror-alert-for.html'> Retired Analyst: Palace confirms terror alert for Traslacion, Miss Universe </a>"
      ],
      "text/plain": [
       "<IPython.core.display.HTML object>"
      ]
     },
     "metadata": {},
     "output_type": "display_data"
    },
    {
     "data": {
      "text/html": [
       "<a href='https://retiredanalyst.blogspot.com/2020/07/us-troops-now-in-cebu-for-civil.html'> Retired Analyst: US troops now in Cebu for civil operations</a>"
      ],
      "text/plain": [
       "<IPython.core.display.HTML object>"
      ]
     },
     "metadata": {},
     "output_type": "display_data"
    },
    {
     "data": {
      "text/html": [
       "<a href='https://retiredanalyst.blogspot.com/2020/07/tf-davao-church-workers-join-hands-vs.html'> Retired Analyst: TF-Davao, church workers join hands vs. terrorism </a>"
      ],
      "text/plain": [
       "<IPython.core.display.HTML object>"
      ]
     },
     "metadata": {},
     "output_type": "display_data"
    },
    {
     "data": {
      "text/html": [
       "<a href='https://retiredanalyst.blogspot.com/2020/07/baguio-court-orders-arrest-of-suspects.html'> Retired Analyst: Baguio court orders arrest of suspects in Dormitorio case</a>"
      ],
      "text/plain": [
       "<IPython.core.display.HTML object>"
      ]
     },
     "metadata": {},
     "output_type": "display_data"
    },
    {
     "data": {
      "text/html": [
       "<a href='https://newsinfo.inquirer.net/1304098/taguig-lgu-says-spike-in-covid-19-cases-due-to-aggressive-testing'> Taguig City says spike in COVID-19 count due to aggressive testing | Inquirer News</a>"
      ],
      "text/plain": [
       "<IPython.core.display.HTML object>"
      ]
     },
     "metadata": {},
     "output_type": "display_data"
    },
    {
     "data": {
      "text/html": [
       "<a href='https://newsinfo.inquirer.net/1304092/solon-wants-media-to-be-fair-says-that-panel-members-havent-voted-on-abs-cbns-franchise'> Solon urges media to be fair in reporting on ABS-CBN franchise issue | Inquirer News</a>"
      ],
      "text/plain": [
       "<IPython.core.display.HTML object>"
      ]
     },
     "metadata": {},
     "output_type": "display_data"
    },
    {
     "data": {
      "text/html": [
       "<a href='https://newsinfo.inquirer.net/1304061/mrt-3s-bus-augmentation-would-make-first-trip-by-4am-starting-thursday-dotr'> MRT 3 bus augmentation service dispatches first 4 a.m. trip Thursday | Inquirer News</a>"
      ],
      "text/plain": [
       "<IPython.core.display.HTML object>"
      ]
     },
     "metadata": {},
     "output_type": "display_data"
    },
    {
     "data": {
      "text/html": [
       "<a href='https://www.manilatimes.net/2020/07/09/business/business-top/govt-can-pay-off-its-covid-19-loans/739825/'> ‘Govt can pay off its Covid-19 loans’ – The Manila Times</a>"
      ],
      "text/plain": [
       "<IPython.core.display.HTML object>"
      ]
     },
     "metadata": {},
     "output_type": "display_data"
    },
    {
     "data": {
      "text/html": [
       "<a href='https://www.gmanetwork.com/news/news/nation/746106/after-the-expiration-of-the-bayanihan-act-are-violations-of-quarantine-protocols-valid-basis-for-arrests/story/'>  After the expiration of the Bayanihan Act, are violations of quarantine protocols valid basis for arrests? </a>"
      ],
      "text/plain": [
       "<IPython.core.display.HTML object>"
      ]
     },
     "metadata": {},
     "output_type": "display_data"
    },
    {
     "data": {
      "text/html": [
       "<a href='http://www.rappler.com/science-nature/life-health/266053-study-brain-problems-linked-mild-coronavirus-infections'> Brain problems linked to even mild virus infections – study</a>"
      ],
      "text/plain": [
       "<IPython.core.display.HTML object>"
      ]
     },
     "metadata": {},
     "output_type": "display_data"
    },
    {
     "data": {
      "text/html": [
       "<a href='http://www.rappler.com/world/regions/asia-pacific/266047-us-china-impose-visa-restrictions-tibet-row'> U.S., China impose visa restrictions on each other in Tibet row</a>"
      ],
      "text/plain": [
       "<IPython.core.display.HTML object>"
      ]
     },
     "metadata": {},
     "output_type": "display_data"
    },
    {
     "data": {
      "text/html": [
       "<a href='http://www.rappler.com/nation/266044-philippine-coast-guard-block-departure-hong-kong-ship-crew-liberty-5-case'> PH Coast Guard to block departure of Hong Kong ship crew in Liberty 5 case</a>"
      ],
      "text/plain": [
       "<IPython.core.display.HTML object>"
      ]
     },
     "metadata": {},
     "output_type": "display_data"
    }
   ],
   "source": [
    "# summary: this takes the list from the first cell of all the html pages\n",
    "# puts the headline as the text for the list\n",
    "# uses beautiful soup to get the headline (the title field)\n",
    "# then makes it an html link\n",
    "# then displays it as an html link (needed ipython library above to do that)\n",
    "# can do this for any list of links that I get from feedly, will really save time\n",
    "\n",
    "for ilink in hlist:\n",
    "    r = requests.get(ilink, headers=headers)\n",
    "    soup = BeautifulSoup(r.text, 'html.parser')\n",
    "    titletext = soup.title.text\n",
    "    reflink = \"<a href='\" + ilink + \"'> \" + titletext + \"</a>\"\n",
    "    html = HTML(reflink)\n",
    "    display(html)"
   ]
  }
 ],
 "metadata": {
  "kernelspec": {
   "display_name": "Python 3",
   "language": "python",
   "name": "python3"
  },
  "language_info": {
   "codemirror_mode": {
    "name": "ipython",
    "version": 3
   },
   "file_extension": ".py",
   "mimetype": "text/x-python",
   "name": "python",
   "nbconvert_exporter": "python",
   "pygments_lexer": "ipython3",
   "version": "3.7.2"
  }
 },
 "nbformat": 4,
 "nbformat_minor": 4
}
