{
 "cells": [
  {
   "cell_type": "code",
   "execution_count": 1,
   "metadata": {},
   "outputs": [
    {
     "name": "stdout",
     "output_type": "stream",
     "text": [
      "﻿\r\n",
      "<!DOCTYPE html>\r\n",
      "<html lang=\"en\">\r\n",
      "<head>\r\n",
      "\t<meta charset=\"UTF-8\">\t\r\n",
      "\t\t\r\n",
      "\t<meta name=\"viewport\" content=\"width=device-width, initial-scale=1.0\">\r\n",
      "\t\r\n",
      "\t\r\n",
      "\t\r\n",
      "\t\r\n",
      "\t<!-- FB Meta -->\r\n",
      "\t<meta property=\"og:ttl\" content=\"345600\" />\r\n",
      "\t<meta property=\"fb:app_id\" content=\"175228195865217\" />\r\n",
      "\t<meta property=\"og:title\" content=\"WHO: Indoor airborne spread of coronavirus possible\" />\t\r\n",
      "\t<meta property=\"og:description\" content=\"LONDON — The World Health Organization is acknowledging the possibility that COV\n"
     ]
    }
   ],
   "source": [
    "import requests\n",
    "from bs4 import BeautifulSoup\n",
    "import lxml\n",
    "from IPython.core.display import display, HTML\n",
    "import pandas as pd\n",
    "\n",
    "hlist = ['https://newsinfo.inquirer.net/1304791/who-indoor-airborne-spread-of-coronavirus-possible',\n",
    "    'https://www.theguardian.com/world/live/2020/jul/10/coronavirus-live-news-global-update-cases-bolivia-president-covid-19-positive-south-africa-brazil-president-jair-bolsonaro-latest-updatescoronavirus-live-news-bolivia-president-tests-positive-as-south-africa-sees-record-case-rise',\n",
    "    'https://www.wsj.com/articles/oil-went-below-0-some-think-it-will-rebound-to-150-one-day-11594287002',\n",
    "    'https://www.cnbc.com/2020/07/09/disney-reopening-this-week-even-as-coronavirus-cases-spike-in-florida.html',\n",
    "    'https://www.cnbc.com/2020/07/09/who-warns-the-coronavirus-is-getting-worse-continues-to-accelerate.html',\n",
    "    'http://feeds.foxbusiness.com/~r/foxbusiness/latest/~3/y4ny8VF4PX0/us-stocks-july-9-2020',\n",
    "    'http://www.marketwatch.com/news/story.asp?guid=%7BAED11BCA-C218-11EA-B5C1-1D55841A4EF0%7D&siteid=rss&rss=1',\n",
    "    'http://www.marketwatch.com/news/story.asp?guid=%7B0A9972CF-FF2C-4035-AA5B-3D557A0B7869%7D&siteid=rss&rss=1',\n",
    "    'https://www.wsj.com/articles/vaccine-stock-soars-rewarding-investors-big-bet-11594294901',\n",
    "    'https://www.bbc.co.uk/news/uk-england-kent-53349929',\n",
    "    'http://feeds.foxnews.com/~r/foxnews/national/~3/45WkRCxllyI/health-official-trump-rally-likely-source-virus-surge',\n",
    "    'https://www.nytimes.com/2020/07/09/us/politics/trump-supreme-court-appointees.html']\n",
    "\n",
    "\n",
    "\n",
    "\n",
    "# need the following to tell it we are a firefox browser in order to prevent getting blocked as a bot\n",
    "headers = requests.utils.default_headers()\n",
    "headers.update({\n",
    "    'User-Agent': 'Mozilla/5.0 (X11; Ubuntu; Linux x86_64; rv:52.0) Gecko/20100101 Firefox/52.0',\n",
    "})\n",
    "\n",
    "r = requests.get(hlist[0], headers=headers)\n",
    "soup = BeautifulSoup(r.text, 'html.parser')\n",
    "\n",
    "print(r.text[0:500])"
   ]
  },
  {
   "cell_type": "code",
   "execution_count": 2,
   "metadata": {},
   "outputs": [
    {
     "data": {
      "text/plain": [
       "'WHO: Indoor airborne spread of coronavirus possible | Inquirer News'"
      ]
     },
     "execution_count": 2,
     "metadata": {},
     "output_type": "execute_result"
    }
   ],
   "source": [
    "#results = soup.find_all('meta', property=\"og:title\")\n",
    "#len(results)\n",
    "titletext = soup.title.text\n",
    "titletext"
   ]
  },
  {
   "cell_type": "code",
   "execution_count": 3,
   "metadata": {},
   "outputs": [
    {
     "data": {
      "text/html": [
       "<a href='https://www.wsj.com/articles/oil-went-below-0-some-think-it-will-rebound-to-150-one-day-11594287002'> Oil Went Below $0. Some Think It Will Rebound to $150 One Day.     - WSJ</a>"
      ],
      "text/plain": [
       "<IPython.core.display.HTML object>"
      ]
     },
     "metadata": {},
     "output_type": "display_data"
    },
    {
     "data": {
      "text/plain": [
       "\"<a href='https://www.wsj.com/articles/oil-went-below-0-some-think-it-will-rebound-to-150-one-day-11594287002'> Oil Went Below $0. Some Think It Will Rebound to $150 One Day.     - WSJ</a>\""
      ]
     },
     "execution_count": 3,
     "metadata": {},
     "output_type": "execute_result"
    }
   ],
   "source": [
    "#from IPython.display import IFrame\n",
    "#IFrame(src=hlist[0], width=700, height=600)\n",
    "\n",
    "# note than in the reflink below when I had brackets{} surrounding the link, it pointed to localhost first\n",
    "# it may also do that if you leave off the https:// at the front\n",
    "r = requests.get(hlist[2], headers=headers)\n",
    "soup = BeautifulSoup(r.text, 'html.parser')\n",
    "titletext = soup.title.text\n",
    "reflink = \"<a href='\" + hlist[2] + \"'> \" + titletext + \"</a>\"\n",
    "html = HTML(reflink)\n",
    "display(html)\n",
    "hlist[0]\n",
    "reflink\n"
   ]
  },
  {
   "cell_type": "code",
   "execution_count": 4,
   "metadata": {},
   "outputs": [],
   "source": [
    "paperlist = [\"http://davaotoday.com/main/\",\n",
    "    \"https://www.eaglenews.ph/\",\n",
    "    \"https://www.gmanetwork.com/news/\",\n",
    "    \"https://www.inquirer.net/\",\n",
    "    \"https://www.interaksyon.com/\",\n",
    "    \"https://pia.gov.ph/news\",\n",
    "    \"https://edgedavao.net/\",\n",
    "    \"http://www.senate.gov.ph/\",\n",
    "    \"https://politics.com.ph/\",\n",
    "    \"https://www.mindanews.com/\",\n",
    "    \"https://palawan-news.com/\",\n",
    "    \"https://philnews.ph/\",\n",
    "    \"https://www.philstar.com/\",\n",
    "    \"https://www.manilatimes.net/\",\n",
    "    \"https://mb.com.ph/\",\n",
    "    \"https://www.rappler.com/\",\n",
    "    \"http://retiredanalyst.blogspot.com/\",\n",
    "    \"http://tempo.com.ph/\",\n",
    "    \"https://news.abs-cbn.com/\",\n",
    "    \"https://asia.nikkei.com/\",\n",
    "    \"https://www.benarnews.org/english/\",\n",
    "    \"https://www.theborneopost.com/\",\n",
    "    \"https://www.straitstimes.com/global\",\n",
    "    \"https://www.thejakartapost.com/\",\n",
    "    \"http://www.straitstimes.com/asia/\",\n",
    "    \"http://www.straitstimes.com/asia/east-asia/\",\n",
    "    \"https://www.scmp.com/\",\n",
    "    \"https://www.globaltimes.cn/\",\n",
    "    \"https://www.nytimes.com/\",\n",
    "    \"https://www.foxnews.com/\",\n",
    "    \"https://cnnphilippines.com/\"]\n",
    "\n",
    "covid_taglist\t=\t[\"covid-19\",\t\n",
    "\t\t\t\"coronavirus\",\n",
    "\t\t\t\"quarantine\",\n",
    "\t\t\t\"pandemic\",\n",
    "\t\t\t\"vaccine\",\n",
    "\t\t\t\"injections\",\n",
    "\t\t\t\"ecq\",\n",
    "\t\t\t\"mecq\",\n",
    "\t\t\t\"gcq\",\n",
    "\t\t\t\"mgcq\",\n",
    "\t\t\t\"lsi\",\n",
    "\t\t\t\"locally stranded individuals\",\n",
    "\t\t\t\"death rate\",\n",
    "\t\t\t\"new cases\",\n",
    "\t\t\t\"total cases\"]\n",
    "\n",
    "econ_taglist\t=\t[\"economy\",\t\n",
    "\t\t\t\"inflation\",\n",
    "\t\t\t\"angkas\",\n",
    "\t\t\t\"backriding\",\n",
    "\t\t\t\"bitcoin\",\n",
    "\t\t\t\"crypto\",\n",
    "\t\t\t\"cryptocurrencies\",\n",
    "\t\t\t\"crypto-currencies\",\n",
    "\t\t\t\"asia development bank\",\n",
    "\t\t\t\"psei\",\n",
    "\t\t\t\"buses\",\n",
    "\t\t\t\"employment\",\n",
    "\t\t\t\"build-build-build\",\n",
    "\t\t\t\"investments\"\n",
    "            \"chinese banks\"]\n",
    "\t\t\t\n",
    "chinathreat_taglist\t=\t[\"south china sea\",\t\n",
    "\t\t\t\"west philippine sea\",\n",
    "\t\t\t\"liu jianchao\",\n",
    "\t\t\t\"chinese ambassador\",\n",
    "\t\t\t\"xi xingping\",\n",
    "\t\t\t\"spratly islands\",\n",
    "\t\t\t\"freedom of navigation\",\n",
    "\t\t\t\"pla navy\",\n",
    "\t\t\t\"vfa\",\n",
    "\t\t\t\"scarborough shoal\",\n",
    "\t\t\t\"mischief reef\",\n",
    "\t\t\t\"pla militia\",\n",
    "\t\t\t\"air defense identification zone\",\n",
    "\t\t\t\"adiz\",\n",
    "\t\t\t\"visiting forces agreement\",\n",
    "\t\t\t\"philippine navy\",\n",
    "\t\t\t\"brp\",\n",
    "\t\t\t\"us navy\",\n",
    "\t\t\t\"navy\",\n",
    "            \"us troops\",\n",
    "            \"guard against china\",\n",
    "            \"beidaihe\",\n",
    "            \"lorenzana\"]\n",
    "\t\t\t\n",
    "insurgency_taglist\t=\t[\"anti-terror\",\t\n",
    "\t\t\t\"anti-terror law\",\n",
    "\t\t\t\"abu sayyaf\",\n",
    "\t\t\t\"biff\",\n",
    "\t\t\t\"bangsamoro islamic freedom fighters\",\n",
    "\t\t\t\"npa\",\n",
    "\t\t\t\"new people's army\",\n",
    "\t\t\t\"milf\",\n",
    "\t\t\t\"moro islamic liberation front\",\n",
    "\t\t\t\"mnlf\",\n",
    "\t\t\t\"moro national liberation front\",\n",
    "\t\t\t\"islamic state\",\n",
    "\t\t\t\"sison\",\n",
    "\t\t\t\"marawi\",\n",
    "\t\t\t\"mamasapano\"]\n",
    "\n",
    "\t\t\t\n",
    "\t\t\t\n",
    "pulitika_taglist\t=\t[\"lopez\",\t\n",
    "\t\t\t\"supreme court\",\n",
    "\t\t\t\"serreno\",\n",
    "\t\t\t\"duterte\",\n",
    "\t\t\t\"abs-cbn\",\n",
    "\t\t\t\"house votes\",\n",
    "\t\t\t\"senate votes\",\n",
    "\t\t\t\"opposition\"]\n",
    "\t\t\t\n",
    "\t\t\t\n",
    "province_taglist\t=\t[\"palawan\",\t\n",
    "\t\t\t\"manobo\",\n",
    "\t\t\t\"tuguegarao\",\n",
    "\t\t\t\"cagayan valley\",\n",
    "\t\t\t\"igorot\",\n",
    "\t\t\t\"lumad\",\n",
    "\t\t\t\"ipra\",\n",
    "\t\t\t\"indigenous\",\n",
    "\t\t\t\"kankanaey\",\n",
    "\t\t\t\"palawano\",\n",
    "\t\t\t\"agutaya\",\n",
    "\t\t\t\"malaybalay\",\n",
    "\t\t\t\"bukidnon\",\n",
    "\t\t\t\"higaunon\",\n",
    "\t\t\t\"davao\"]\n",
    "\t\t\t\n",
    "\t\t\t\n",
    "ncr_taglist\t=\t[\"rizal province\",\t\n",
    "\t\t\t\"antipolo\",\n",
    "\t\t\t\"mandaluyong\",\n",
    "\t\t\t\"cainta\",\n",
    "\t\t\t\"edsa\",\n",
    "\t\t\t\"taguig\",\n",
    "\t\t\t\"quezon city\"]\n",
    "\t\t\t\n",
    "\t\t\t\n",
    "chrgroup_taglist\t=\t[\"catholic\",\t\n",
    "\t\t\t\"catholic bishop’s conference of the philippines\",\n",
    "\t\t\t\"catholic bishops conference of the philippines\",\n",
    "\t\t\t\"cbcp\",\n",
    "\t\t\t\"iglesia ni cristo\",\n",
    "\t\t\t\"quiboloy\",\n",
    "\t\t\t\"quibuloy\"]\n",
    "\t\t\t\n",
    "\t\t\t\n",
    "moro_taglist\t=\t[\"moro\",\t\n",
    "\t\t\t\"bangsamoro\",\n",
    "\t\t\t\"barmm\",\n",
    "\t\t\t\"sultan kudarat\",\n",
    "\t\t\t\"sulu\",\n",
    "\t\t\t\"basilan\",\n",
    "\t\t\t\"jolo\",\n",
    "\t\t\t\"maranao\",\n",
    "\t\t\t\"tausug\",\n",
    "\t\t\t\"maguindanao\",\n",
    "\t\t\t\"cotobato\",\n",
    "\t\t\t\"cotabato\",\n",
    "\t\t\t\"sabah\",\n",
    "\t\t\t\"sultan of sulu\",\n",
    "\t\t\t\"sultanate of sulu\"]\n",
    "\t\t\t\n",
    "\t\t\t\n",
    "auth_taglist\t=\t[\"duterte\",\t\n",
    "\t\t\t\"red-tagging\",\n",
    "\t\t\t\"anti-terror\",\n",
    "\t\t\t\"jose calida\",\n",
    "\t\t\t\"solicitor general\",\n",
    "\t\t\t\"medialdea\",\n",
    "\t\t\t\"bong go\",\n",
    "\t\t\t\"bato dela rosa\",\n",
    "\t\t\t\"ronald dela rosa\",\n",
    "\t\t\t\"dela rosa\",\n",
    "\t\t\t\"de la rosa\"]\n",
    "\n",
    "exclude_list = [\"leave a comment on\",\n",
    "    \"california\",\n",
    "    \"watch\",\n",
    "    \"permalink\",\n",
    "    \"inmate\",\n",
    "    \"stores closed\",\n",
    "    \"overseas filipinos\",\n",
    "    \"alibaba\",\n",
    "    \"artistry\",\n",
    "    \"flu pandemic\",\n",
    "    \"korean trash\",\n",
    "    \"walmart\",\n",
    "    \"us stores\",\n",
    "    \"tournament\",\n",
    "    \"filipino workers stranded\",\n",
    "    \"donald trump\",\n",
    "    \"rhine river\",\n",
    "    \"european union\",\n",
    "    \"fertilizer scam\",\n",
    "    \"olympics\",\n",
    "    \"coronavirus affects\",\n",
    "    \"kids in malaysia\",\n",
    "    \"liquor ban\",\n",
    "    \"piolo pascual\",\n",
    "    \"profile of a killer\",\n",
    "    \"croatia\",\n",
    "    \"nba\",\n",
    "    \"sexual abuse\",\n",
    "    \"festival queen\",\n",
    "    \"tips for parents\",\n",
    "    \"arcadia fitness gym\"]\n",
    "\n",
    "taglist =  covid_taglist+ auth_taglist+ chinathreat_taglist+ chrgroup_taglist+ econ_taglist+ insurgency_taglist+ moro_taglist+ ncr_taglist+ province_taglist+ pulitika_taglist\n",
    "taglist = list(set(taglist))\n",
    "taglist.sort()\n"
   ]
  },
  {
   "cell_type": "code",
   "execution_count": 5,
   "metadata": {},
   "outputs": [
    {
     "name": "stdout",
     "output_type": "stream",
     "text": [
      "How is the Duterte regime normalizing the Filipino suffering? (Part 1)\n"
     ]
    },
    {
     "data": {
      "text/html": [
       "<div>\n",
       "<style scoped>\n",
       "    .dataframe tbody tr th:only-of-type {\n",
       "        vertical-align: middle;\n",
       "    }\n",
       "\n",
       "    .dataframe tbody tr th {\n",
       "        vertical-align: top;\n",
       "    }\n",
       "\n",
       "    .dataframe thead th {\n",
       "        text-align: right;\n",
       "    }\n",
       "</style>\n",
       "<table border=\"1\" class=\"dataframe\">\n",
       "  <thead>\n",
       "    <tr style=\"text-align: right;\">\n",
       "      <th></th>\n",
       "      <th>andtag01</th>\n",
       "      <th>andtag02</th>\n",
       "      <th>andtag03</th>\n",
       "      <th>andtag04</th>\n",
       "      <th>andtag05</th>\n",
       "      <th>andtag06</th>\n",
       "      <th>andtag07</th>\n",
       "      <th>andtag08</th>\n",
       "      <th>andtag09</th>\n",
       "    </tr>\n",
       "    <tr>\n",
       "      <th>maintag</th>\n",
       "      <th></th>\n",
       "      <th></th>\n",
       "      <th></th>\n",
       "      <th></th>\n",
       "      <th></th>\n",
       "      <th></th>\n",
       "      <th></th>\n",
       "      <th></th>\n",
       "      <th></th>\n",
       "    </tr>\n",
       "  </thead>\n",
       "  <tbody>\n",
       "    <tr>\n",
       "      <th>duterte</th>\n",
       "      <td>priority</td>\n",
       "      <td>war</td>\n",
       "      <td>martial</td>\n",
       "      <td>arrest</td>\n",
       "      <td>deny</td>\n",
       "      <td>denies</td>\n",
       "      <td>abs-cbn</td>\n",
       "      <td>charter</td>\n",
       "      <td>cha-cha</td>\n",
       "    </tr>\n",
       "    <tr>\n",
       "      <th>duterte</th>\n",
       "      <td>onerous</td>\n",
       "      <td>probe</td>\n",
       "      <td>fascist</td>\n",
       "      <td>suffering</td>\n",
       "      <td>sona</td>\n",
       "      <td>political</td>\n",
       "      <td>oligarch</td>\n",
       "      <td>failing</td>\n",
       "      <td></td>\n",
       "    </tr>\n",
       "    <tr>\n",
       "      <th>anti-terror</th>\n",
       "      <td>defends</td>\n",
       "      <td>autonomous region</td>\n",
       "      <td>bangsamoro</td>\n",
       "      <td></td>\n",
       "      <td></td>\n",
       "      <td></td>\n",
       "      <td></td>\n",
       "      <td></td>\n",
       "      <td></td>\n",
       "    </tr>\n",
       "    <tr>\n",
       "      <th>jolo shooting</th>\n",
       "      <td>solotag</td>\n",
       "      <td></td>\n",
       "      <td></td>\n",
       "      <td></td>\n",
       "      <td></td>\n",
       "      <td></td>\n",
       "      <td></td>\n",
       "      <td></td>\n",
       "      <td></td>\n",
       "    </tr>\n",
       "    <tr>\n",
       "      <th>red-tagging</th>\n",
       "      <td>solotag</td>\n",
       "      <td></td>\n",
       "      <td></td>\n",
       "      <td></td>\n",
       "      <td></td>\n",
       "      <td></td>\n",
       "      <td></td>\n",
       "      <td></td>\n",
       "      <td></td>\n",
       "    </tr>\n",
       "    <tr>\n",
       "      <th>trillanes</th>\n",
       "      <td>solotag</td>\n",
       "      <td></td>\n",
       "      <td></td>\n",
       "      <td></td>\n",
       "      <td></td>\n",
       "      <td></td>\n",
       "      <td></td>\n",
       "      <td></td>\n",
       "      <td></td>\n",
       "    </tr>\n",
       "    <tr>\n",
       "      <th>jose calida</th>\n",
       "      <td>solotag</td>\n",
       "      <td></td>\n",
       "      <td></td>\n",
       "      <td></td>\n",
       "      <td></td>\n",
       "      <td></td>\n",
       "      <td></td>\n",
       "      <td></td>\n",
       "      <td></td>\n",
       "    </tr>\n",
       "    <tr>\n",
       "      <th>solicitor general</th>\n",
       "      <td>solotag</td>\n",
       "      <td></td>\n",
       "      <td></td>\n",
       "      <td></td>\n",
       "      <td></td>\n",
       "      <td></td>\n",
       "      <td></td>\n",
       "      <td></td>\n",
       "      <td></td>\n",
       "    </tr>\n",
       "    <tr>\n",
       "      <th>medialdea</th>\n",
       "      <td>solotag</td>\n",
       "      <td></td>\n",
       "      <td></td>\n",
       "      <td></td>\n",
       "      <td></td>\n",
       "      <td></td>\n",
       "      <td></td>\n",
       "      <td></td>\n",
       "      <td></td>\n",
       "    </tr>\n",
       "    <tr>\n",
       "      <th>bong go</th>\n",
       "      <td>solotag</td>\n",
       "      <td></td>\n",
       "      <td></td>\n",
       "      <td></td>\n",
       "      <td></td>\n",
       "      <td></td>\n",
       "      <td></td>\n",
       "      <td></td>\n",
       "      <td></td>\n",
       "    </tr>\n",
       "    <tr>\n",
       "      <th>bato dela rosa</th>\n",
       "      <td>solotag</td>\n",
       "      <td></td>\n",
       "      <td></td>\n",
       "      <td></td>\n",
       "      <td></td>\n",
       "      <td></td>\n",
       "      <td></td>\n",
       "      <td></td>\n",
       "      <td></td>\n",
       "    </tr>\n",
       "    <tr>\n",
       "      <th>ronald dela rosa</th>\n",
       "      <td>solotag</td>\n",
       "      <td></td>\n",
       "      <td></td>\n",
       "      <td></td>\n",
       "      <td></td>\n",
       "      <td></td>\n",
       "      <td></td>\n",
       "      <td></td>\n",
       "      <td></td>\n",
       "    </tr>\n",
       "    <tr>\n",
       "      <th>dela rosa</th>\n",
       "      <td>solotag</td>\n",
       "      <td></td>\n",
       "      <td></td>\n",
       "      <td></td>\n",
       "      <td></td>\n",
       "      <td></td>\n",
       "      <td></td>\n",
       "      <td></td>\n",
       "      <td></td>\n",
       "    </tr>\n",
       "    <tr>\n",
       "      <th>de la rosa</th>\n",
       "      <td>solotag</td>\n",
       "      <td></td>\n",
       "      <td></td>\n",
       "      <td></td>\n",
       "      <td></td>\n",
       "      <td></td>\n",
       "      <td></td>\n",
       "      <td></td>\n",
       "      <td></td>\n",
       "    </tr>\n",
       "    <tr>\n",
       "      <th>de lima</th>\n",
       "      <td>solotag</td>\n",
       "      <td></td>\n",
       "      <td></td>\n",
       "      <td></td>\n",
       "      <td></td>\n",
       "      <td></td>\n",
       "      <td></td>\n",
       "      <td></td>\n",
       "      <td></td>\n",
       "    </tr>\n",
       "  </tbody>\n",
       "</table>\n",
       "</div>"
      ],
      "text/plain": [
       "                   andtag01           andtag02    andtag03   andtag04  \\\n",
       "maintag                                                                 \n",
       "duterte            priority                war     martial     arrest   \n",
       "duterte             onerous              probe     fascist  suffering   \n",
       "anti-terror         defends  autonomous region  bangsamoro              \n",
       "jolo shooting       solotag                                             \n",
       "red-tagging         solotag                                             \n",
       "trillanes           solotag                                             \n",
       "jose calida         solotag                                             \n",
       "solicitor general   solotag                                             \n",
       "medialdea           solotag                                             \n",
       "bong go             solotag                                             \n",
       "bato dela rosa      solotag                                             \n",
       "ronald dela rosa    solotag                                             \n",
       "dela rosa           solotag                                             \n",
       "de la rosa          solotag                                             \n",
       "de lima             solotag                                             \n",
       "\n",
       "                  andtag05   andtag06  andtag07 andtag08 andtag09  \n",
       "maintag                                                            \n",
       "duterte               deny     denies   abs-cbn  charter  cha-cha  \n",
       "duterte               sona  political  oligarch  failing           \n",
       "anti-terror                                                        \n",
       "jolo shooting                                                      \n",
       "red-tagging                                                        \n",
       "trillanes                                                          \n",
       "jose calida                                                        \n",
       "solicitor general                                                  \n",
       "medialdea                                                          \n",
       "bong go                                                            \n",
       "bato dela rosa                                                     \n",
       "ronald dela rosa                                                   \n",
       "dela rosa                                                          \n",
       "de la rosa                                                         \n",
       "de lima                                                            "
      ]
     },
     "execution_count": 5,
     "metadata": {},
     "output_type": "execute_result"
    }
   ],
   "source": [
    "# FORMAT FOR THE TAG DICTIONARIES\n",
    "# IF A TAG IS TO BE SCREENED INTO THE LIST WITHOUT A CORRESPONDING OTHER TAG\n",
    "# THE TERM 'solotag' MUST BE ONE OF THE ANDTAGS IN THE DICTIONARY\n",
    "\n",
    "covid_tagdict=[{\"maintag\":\"covid\",\"andtag01\":\"hunt\",\"andtag02\":\"lockdown\",\"andtag03\":\"infected with\",\n",
    "        \"andtag04\":\"hahawa\",\"angtag05\":\"cases\",\"andtag06\":\"house-to-house\",\"andtag07\":\"test positive\",\n",
    "        \"andtag08\":\"statistics\",\"andtag09\":\"\"},\n",
    "\t{\"maintag\":\"covid\",\"andtag01\":\"infection\",\"andtag02\":\"\",\"andtag03\":\"\",\n",
    "        \"andtag04\":\"\",\"angtag05\":\"\",\"andtag06\":\"\",\"andtag07\":\"\",\n",
    "        \"andtag08\":\"\",\"andtag09\":\"\"},\n",
    "    {\"maintag\":\"coronavirus\",\"andtag01\":\"vaccine\",\"andtag02\":\"\",\"andtag03\":\"\",\n",
    "        \"andtag04\":\"\",\"angtag05\":\"\",\"andtag06\":\"\",\"andtag07\":\"\",\n",
    "        \"andtag08\":\"\",\"andtag09\":\"\"},\n",
    "\t{\"maintag\":\"quarantine\",\"andtag01\":\"classification\",\"andtag02\":\"home\",\"andtag03\":\"facility\",\n",
    "        \"andtag04\":\"facilities\",\"angtag05\":\"\",\"andtag06\":\"\",\"andtag07\":\"\",\n",
    "        \"andtag08\":\"\",\"andtag09\":\"\"},\n",
    "\t{\"maintag\":\"pandemic\",\"andtag01\":\"flying back\",\"andtag02\":\"barter\",\"andtag03\":\"\",\n",
    "        \"andtag04\":\"\",\"angtag05\":\"\",\"andtag06\":\"\",\"andtag07\":\"\",\n",
    "        \"andtag08\":\"\",\"andtag09\":\"\"},\n",
    "\t{\"maintag\":\"injections\",\"andtag01\":\"solotag\",\"andtag02\":\"\",\"andtag03\":\"\",\n",
    "        \"andtag04\":\"\",\"angtag05\":\"\",\"andtag06\":\"\",\"andtag07\":\"\",\n",
    "        \"andtag08\":\"\",\"andtag09\":\"\"},\n",
    "\t{\"maintag\":\"ecq\",\"andtag01\":\"list\",\"andtag02\":\"gcq\",\"andtag03\":\"mgcq\",\n",
    "        \"andtag04\":\"mecq\",\"angtag05\":\"city\",\"andtag06\":\"province\",\"andtag07\":\"provinces\",\n",
    "        \"andtag08\":\"metro\",\"andtag09\":\"\"},\n",
    "    {\"maintag\":\"mecq\",\"andtag01\":\"list\",\"andtag02\":\"gcq\",\"andtag03\":\"mgcq\",\n",
    "        \"andtag04\":\"ecq\",\"angtag05\":\"city\",\"andtag06\":\"province\",\"andtag07\":\"provinces\",\n",
    "        \"andtag08\":\"metro\",\"andtag09\":\"\"},\n",
    "\t{\"maintag\":\"gcq\",\"andtag01\":\"list\",\"andtag02\":\"ecq\",\"andtag03\":\"mgcq\",\n",
    "        \"andtag04\":\"mecq\",\"angtag05\":\"city\",\"andtag06\":\"province\",\"andtag07\":\"provinces\",\n",
    "        \"andtag08\":\"metro\",\"andtag09\":\"\"},\n",
    "\t{\"maintag\":\"mgcq\",\"andtag01\":\"list\",\"andtag02\":\"gcq\",\"andtag03\":\"ecq\",\n",
    "        \"andtag04\":\"mecq\",\"angtag05\":\"city\",\"andtag06\":\"province\",\"andtag07\":\"provinces\",\n",
    "        \"andtag08\":\"metro\",\"andtag09\":\"\"},\n",
    "\t{\"maintag\":\"lsi\",\"andtag01\":\"\",\"andtag02\":\"\",\"andtag03\":\"\",\n",
    "        \"andtag04\":\"\",\"angtag05\":\"\",\"andtag06\":\"\",\"andtag07\":\"\",\n",
    "        \"andtag08\":\"\",\"andtag09\":\"\"},\n",
    "\t{\"maintag\":\"locally\",\"andtag01\":\"stranded\",\"andtag02\":\"individuals\",\"andtag03\":\"\",\n",
    "        \"andtag04\":\"\",\"angtag05\":\"\",\"andtag06\":\"\",\"andtag07\":\"covid-19\",\n",
    "        \"andtag08\":\"\",\"andtag09\":\"\"},  \n",
    "\t{\"maintag\":\"death rate\",\"andtag01\":\"solotag\",\"andtag02\":\"\",\"andtag03\":\"\",\n",
    "        \"andtag04\":\"\",\"angtag05\":\"\",\"andtag06\":\"\",\"andtag07\":\"\",\n",
    "        \"andtag08\":\"\",\"andtag09\":\"\"},\n",
    "\t{\"maintag\":\"cases\",\"andtag01\":\"new\",\"andtag02\":\"total\",\"andtag03\":\"recoveries\",\n",
    "        \"andtag04\":\"infection\",\"angtag05\":\"\",\"andtag06\":\"\",\"andtag07\":\"\",\n",
    "        \"andtag08\":\"\",\"andtag09\":\"\"}]\n",
    "\n",
    "covid_tagdf = pd.DataFrame(covid_tagdict)\n",
    "covid_tagdf.set_index('maintag', inplace=True)\n",
    "\n",
    "auth_tagdict=[{\"maintag\": \"duterte\", \"andtag01\":\"priority\", \"andtag02\":\"war\", \"andtag03\":\"martial\", \"andtag04\":\"arrest\", \"andtag05\":\"deny\", \"andtag06\":\"denies\", \"andtag07\":\"abs-cbn\", \"andtag08\":\"charter\", \"andtag09\":\"cha-cha\"},\n",
    "    {\"maintag\": \"duterte\", \"andtag01\":\"onerous\", \"andtag02\":\"probe\", \"andtag03\":\"fascist\", \"andtag04\":\"suffering\", \"andtag05\":\"sona\", \"andtag06\":\"political\", \"andtag07\":\"oligarch\", \"andtag08\":\"failing\", \"andtag09\":\"\"},\n",
    "    {\"maintag\": \"anti-terror\", \"andtag01\":\"defends\", \"andtag02\":\"autonomous region\", \"andtag03\":\"bangsamoro\", \"andtag04\":\"\", \"andtag05\":\"\", \"andtag06\":\"\", \"andtag07\":\"\", \"andtag08\":\"\", \"andtag09\":\"\"},\n",
    "    {\"maintag\": \"jolo shooting\", \"andtag01\":\"solotag\", \"andtag02\":\"\", \"andtag03\":\"\", \"andtag04\":\"\", \"andtag05\":\"\", \"andtag06\":\"\", \"andtag07\":\"\", \"andtag08\":\"\", \"andtag09\":\"\"},\n",
    "    {\"maintag\": \"red-tagging\", \"andtag01\":\"solotag\", \"andtag02\":\"\", \"andtag03\":\"\", \"andtag04\":\"\", \"andtag05\":\"\", \"andtag06\":\"\", \"andtag07\":\"\", \"andtag08\":\"\", \"andtag09\":\"\"},\n",
    "    {\"maintag\": \"trillanes\", \"andtag01\":\"solotag\", \"andtag02\":\"\", \"andtag03\":\"\", \"andtag04\":\"\", \"andtag05\":\"\", \"andtag06\":\"\", \"andtag07\":\"\", \"andtag08\":\"\", \"andtag09\":\"\"},\n",
    "    {\"maintag\": \"jose calida\", \"andtag01\":\"solotag\", \"andtag02\":\"\", \"andtag03\":\"\", \"andtag04\":\"\", \"andtag05\":\"\", \"andtag06\":\"\", \"andtag07\":\"\", \"andtag08\":\"\", \"andtag09\":\"\"},\n",
    "    {\"maintag\": \"solicitor general\", \"andtag01\":\"solotag\", \"andtag02\":\"\", \"andtag03\":\"\", \"andtag04\":\"\", \"andtag05\":\"\", \"andtag06\":\"\", \"andtag07\":\"\", \"andtag08\":\"\", \"andtag09\":\"\"},\n",
    "    {\"maintag\": \"medialdea\", \"andtag01\":\"solotag\", \"andtag02\":\"\", \"andtag03\":\"\", \"andtag04\":\"\", \"andtag05\":\"\", \"andtag06\":\"\", \"andtag07\":\"\", \"andtag08\":\"\", \"andtag09\":\"\"},\n",
    "    {\"maintag\": \"bong go\", \"andtag01\":\"solotag\", \"andtag02\":\"\", \"andtag03\":\"\", \"andtag04\":\"\", \"andtag05\":\"\", \"andtag06\":\"\", \"andtag07\":\"\", \"andtag08\":\"\", \"andtag09\":\"\"},\n",
    "    {\"maintag\": \"bato dela rosa\", \"andtag01\":\"solotag\", \"andtag02\":\"\", \"andtag03\":\"\", \"andtag04\":\"\", \"andtag05\":\"\", \"andtag06\":\"\", \"andtag07\":\"\", \"andtag08\":\"\", \"andtag09\":\"\"},\n",
    "    {\"maintag\": \"ronald dela rosa\", \"andtag01\":\"solotag\", \"andtag02\":\"\", \"andtag03\":\"\", \"andtag04\":\"\", \"andtag05\":\"\", \"andtag06\":\"\", \"andtag07\":\"\", \"andtag08\":\"\", \"andtag09\":\"\"},\n",
    "    {\"maintag\": \"dela rosa\", \"andtag01\":\"solotag\", \"andtag02\":\"\", \"andtag03\":\"\", \"andtag04\":\"\", \"andtag05\":\"\", \"andtag06\":\"\", \"andtag07\":\"\", \"andtag08\":\"\", \"andtag09\":\"\"},\n",
    "    {\"maintag\": \"de la rosa\", \"andtag01\":\"solotag\", \"andtag02\":\"\", \"andtag03\":\"\", \"andtag04\":\"\", \"andtag05\":\"\", \"andtag06\":\"\", \"andtag07\":\"\", \"andtag08\":\"\", \"andtag09\":\"\"},\n",
    "    {\"maintag\": \"de lima\", \"andtag01\":\"solotag\", \"andtag02\":\"\", \"andtag03\":\"\", \"andtag04\":\"\", \"andtag05\":\"\", \"andtag06\":\"\", \"andtag07\":\"\", \"andtag08\":\"\", \"andtag09\":\"\"}]\n",
    "\n",
    "auth_tagdf = pd.DataFrame(auth_tagdict)\n",
    "auth_tagdf.set_index('maintag', inplace=True)\n",
    "\n",
    "# if there are duplicates, the dictionary returned will be formatted\n",
    "# with {value duplicated: [list of index values where it is duplicated]}\n",
    "def find_idxnum_dup(list1):\n",
    "    from collections import Counter, defaultdict\n",
    "    duplist = [k for k,v in Counter(list1).items() if v>1]\n",
    "    D = defaultdict(list)\n",
    "    for i,item in enumerate(list1):\n",
    "        D[item].append(i)\n",
    "    dupdict = {k:v for k,v in D.items() if len(v)>1}\n",
    "    return duplist, dupdict\n",
    "\n",
    "def tags_in_str(scanstr, tagdf):\n",
    "    found_tag = False\n",
    "    colslist = tagdf.columns.tolist()\n",
    "    maintaglist = tagdf.index.tolist()\n",
    "    # find if any main tags are duplicated\n",
    "    duplist, dupdict = find_idxnum_dup(maintaglist)\n",
    "    scanned_dups = []\n",
    "#     print(maintaglist)\n",
    "#     print(colslist)\n",
    "#     print(tagdf.loc['duterte'])\n",
    "#     print(\"scanstr: \", scanstr)\n",
    "    for maintag in maintaglist:\n",
    "#         print('maintag: ', maintag)\n",
    "#         print(duplist)\n",
    "#         print(scanned_dups)\n",
    "#         print(dupdict)\n",
    "        if maintag in duplist:\n",
    "            if maintag not in scanned_dups:\n",
    "#                 print(maintag, duplist, dupdict)\n",
    "                for idxval in dupdict[maintag]:\n",
    "                    for andcol in list(range(0,9)):\n",
    "#                         print(idxval, andcol)\n",
    "                        andtag = tagdf.iloc[idxval, andcol]\n",
    "#                         print(andtag)\n",
    "                        if (maintag in scanstr and andtag in scanstr and andtag != \"\") or (maintag in scanstr and andtag == \"solotag\"):\n",
    "                            found_tag=True\n",
    "                            break\n",
    "            scanned_dups.append(maintag)\n",
    "            \n",
    "        else:    \n",
    "            for andcol in colslist:\n",
    "                andtag = tagdf.loc[maintag, andcol]\n",
    "                if (maintag in scanstr and andtag in scanstr and andtag != \"\") or (maintag in scanstr and andtag == \"solotag\"):\n",
    "                    found_tag=True\n",
    "#                     print(maintag, andtag)\n",
    "                    break\n",
    "    return found_tag\n",
    "\n",
    "scanstr = \"How is the Duterte regime normalizing the Filipino suffering? (Part 1)\"\n",
    "\n",
    "if tags_in_str(scanstr.lower(), auth_tagdf):\n",
    "    print(scanstr)\n",
    "else:\n",
    "    print(\"not found\")\n",
    "auth_tagdf\n",
    "\n",
    "# if tags_in_str(scanstr.lower(), covid_tagdf):\n",
    "#     print(scanstr)\n",
    "# else:\n",
    "#     print(\"not found\")\n",
    "# covid_tagdf"
   ]
  },
  {
   "cell_type": "code",
   "execution_count": 6,
   "metadata": {},
   "outputs": [
    {
     "name": "stdout",
     "output_type": "stream",
     "text": [
      "Percent complete all sources list: 3.2%\n",
      "Percent complete all sources list: 6.5%\n",
      "Percent complete all sources list: 9.7%\n",
      "Percent complete all sources list: 12.9%\n",
      "Percent complete all sources list: 16.1%\n",
      "Percent complete all sources list: 19.4%\n",
      "Percent complete all sources list: 22.6%\n",
      "Percent complete all sources list: 25.8%\n",
      "Percent complete all sources list: 29.0%\n",
      "Percent complete all sources list: 32.3%\n",
      "Percent complete all sources list: 35.5%\n",
      "Percent complete all sources list: 38.7%\n",
      "Percent complete all sources list: 41.9%\n",
      "Percent complete all sources list: 45.2%\n",
      "Percent complete all sources list: 48.4%\n",
      "Percent complete all sources list: 51.6%\n",
      "Percent complete all sources list: 54.8%\n",
      "Percent complete all sources list: 58.1%\n",
      "Percent complete all sources list: 61.3%\n",
      "Percent complete all sources list: 64.5%\n",
      "Percent complete all sources list: 67.7%\n",
      "Percent complete all sources list: 71.0%\n",
      "Percent complete all sources list: 74.2%\n",
      "Percent complete all sources list: 77.4%\n",
      "Percent complete all sources list: 80.6%\n",
      "Percent complete all sources list: 83.9%\n",
      "Percent complete all sources list: 87.1%\n",
      "Percent complete all sources list: 90.3%\n",
      "Percent complete all sources list: 93.5%\n",
      "Percent complete all sources list: 96.8%\n",
      "Percent complete all sources list: 100.0%\n",
      "\n",
      "COVID-19 NEWS ITEMS: \n"
     ]
    },
    {
     "data": {
      "text/html": [
       "<a href='https://www.eaglenews.ph/covid-19-cases-in-phl-reach-85486-with-1874-newly-announced-cases/'> COVID-19 cases in PHL reach 85,486 with 1874 newly-announced cases</a>"
      ],
      "text/plain": [
       "<IPython.core.display.HTML object>"
      ]
     },
     "metadata": {},
     "output_type": "display_data"
    },
    {
     "data": {
      "text/html": [
       "<a href='https://www.theborneopost.com/2020/07/29/covid-19-13-new-positive-cases-recorded-in-malaysia-today-total-at-8956/'> Covid-19: 13 new positive cases recorded in Malaysia today, total at 8,956</a>"
      ],
      "text/plain": [
       "<IPython.core.display.HTML object>"
      ]
     },
     "metadata": {},
     "output_type": "display_data"
    },
    {
     "data": {
      "text/html": [
       "<a href='https://www.theborneopost.com/2020/07/29/covid-19-2-new-positive-cases-in-sarawak-today-both-close-contacts-of-current-clusters/'> Covid-19: 2 new positive cases in Sarawak today, both close contacts of current clusters</a>"
      ],
      "text/plain": [
       "<IPython.core.display.HTML object>"
      ]
     },
     "metadata": {},
     "output_type": "display_data"
    },
    {
     "data": {
      "text/html": [
       "<a href='http://davaotoday.com/main/economy/health/davao-region-may-breach-1000-mark-for-covid-19-cases/'> Davao region may breach 1,000 mark for Covid-19 cases</a>"
      ],
      "text/plain": [
       "<IPython.core.display.HTML object>"
      ]
     },
     "metadata": {},
     "output_type": "display_data"
    },
    {
     "data": {
      "text/html": [
       "<a href='https://politics.com.ph/duterte-asks-xi-jinping-access-to-coronavirus-vaccine/'> Duterte asks Xi Jinping access to coronavirus vaccine</a>"
      ],
      "text/plain": [
       "<IPython.core.display.HTML object>"
      ]
     },
     "metadata": {},
     "output_type": "display_data"
    },
    {
     "data": {
      "text/html": [
       "<a href='https://www.interaksyon.com/politics-issues/2020/07/27/173788/duterte-says-covid-19-intervention-prevented-millions-of-cases/'> Duterte says COVID-19 intervention prevented millions of cases</a>"
      ],
      "text/plain": [
       "<IPython.core.display.HTML object>"
      ]
     },
     "metadata": {},
     "output_type": "display_data"
    },
    {
     "data": {
      "text/html": [
       "<a href='https://www.interaksyon.com/politics-issues/2020/07/23/173506/for-harry-roque-more-than-70k-covid-19-cases-is-not-alarming-but-it-is-for-some-filipinos/'> For Harry Roque, the more than 70K COVID-19 cases is not ‘alarming.’ But it is for some Filipinos.</a>"
      ],
      "text/plain": [
       "<IPython.core.display.HTML object>"
      ]
     },
     "metadata": {},
     "output_type": "display_data"
    },
    {
     "data": {
      "text/html": [
       "<a href='https://www.eaglenews.ph/iatf-says-gyms-review-centers-internet-shops-may-operate-at-30-capacity-in-gcq-areas-starting-aug-1-dti/'> IATF says gyms, review centers, Internet shops can operate at 30% capacity in GCQ areas starting Aug. 1: DTI</a>"
      ],
      "text/plain": [
       "<IPython.core.display.HTML object>"
      ]
     },
     "metadata": {},
     "output_type": "display_data"
    },
    {
     "data": {
      "text/html": [
       "<a href='/Editor-s-Picks/Interview/Tokyo-cannot-bear-cost-of-business-closures-as-COVID-19-cases-surge'> Tokyo cannot bear cost of business closures as COVID-19 cases surge</a>"
      ],
      "text/plain": [
       "<IPython.core.display.HTML object>"
      ]
     },
     "metadata": {},
     "output_type": "display_data"
    },
    {
     "data": {
      "text/html": [
       "<a href='https://www.interaksyon.com/politics-issues/2020/07/28/173870/hindi-kakaunti-yan-harry-roque-to-stop-downplaying-high-number-of-covid-19-cases-death-counts/'> ‘Hindi kakaunti ‘yan’: Harry Roque told to stop ‘downplaying’ high number of COVID-19 cases, death counts</a>"
      ],
      "text/plain": [
       "<IPython.core.display.HTML object>"
      ]
     },
     "metadata": {},
     "output_type": "display_data"
    },
    {
     "name": "stdout",
     "output_type": "stream",
     "text": [
      "\n",
      "AUTHORITARIANISM/ DEMOCRACY THREAT NEWS ITEMS: \n"
     ]
    },
    {
     "data": {
      "text/html": [
       "<a href='https://politics.com.ph/baka-magbago-isip-rtvm-readies-palace-setup-for-dutertes-sona/'> Baka magbago isip! RTVM readies Palace setup for Duterte’s SONA</a>"
      ],
      "text/plain": [
       "<IPython.core.display.HTML object>"
      ]
     },
     "metadata": {},
     "output_type": "display_data"
    },
    {
     "data": {
      "text/html": [
       "<a href='https://www.mindanews.com/peace-process/2020/06/bangsamoro-parliament-has-yet-to-act-on-resolution-expressing-grave-concern-over-proposed-anti-terrorism-act/'> Bangsamoro Parliament has yet to act on resolution expressing “grave concern” over proposed Anti-Terrorism Act</a>"
      ],
      "text/plain": [
       "<IPython.core.display.HTML object>"
      ]
     },
     "metadata": {},
     "output_type": "display_data"
    },
    {
     "data": {
      "text/html": [
       "<a href='https://politics.com.ph/bong-go-binida-duterte-praises-former-aide-for-malasakit-centers-creation/'> Bong Go binida: Duterte praises former aide for Malasakit Centers’ creation</a>"
      ],
      "text/plain": [
       "<IPython.core.display.HTML object>"
      ]
     },
     "metadata": {},
     "output_type": "display_data"
    },
    {
     "data": {
      "text/html": [
       "<a href='http://davaotoday.com/main/politics/davao-activists-will-take-to-the-streets-on-dutertes-sona/'> Davao activists will take to the streets on Duterte’s SONA</a>"
      ],
      "text/plain": [
       "<IPython.core.display.HTML object>"
      ]
     },
     "metadata": {},
     "output_type": "display_data"
    },
    {
     "data": {
      "text/html": [
       "<a href='https://politics.com.ph/drilon-hits-back-at-duterte-over-sona-outburst-i-was-defending-11000-abs-cbn-workers-who-will-lose-jobs/'> Drilon hits back at Duterte over SONA outburst: I was defending 11,000 ABS-CBN workers who will lose jobs</a>"
      ],
      "text/plain": [
       "<IPython.core.display.HTML object>"
      ]
     },
     "metadata": {},
     "output_type": "display_data"
    },
    {
     "data": {
      "text/html": [
       "<a href='https://politics.com.ph/duterte-calls-for-probe-on-alleged-philhealth-anomalies/'> Duterte calls for probe on alleged PhilHealth anomalies</a>"
      ],
      "text/plain": [
       "<IPython.core.display.HTML object>"
      ]
     },
     "metadata": {},
     "output_type": "display_data"
    },
    {
     "data": {
      "text/html": [
       "<a href='https://politics.com.ph/duterte-echoes-marcoletas-move-to-evict-lopezes-from-abs-cbn-compound-yung-titulo-nila-lokohan/'> Duterte echoes Marcoleta’s move to evict Lopezes from ABS-CBN compound: Yung titulo nila, lokohan!</a>"
      ],
      "text/plain": [
       "<IPython.core.display.HTML object>"
      ]
     },
     "metadata": {},
     "output_type": "display_data"
    },
    {
     "data": {
      "text/html": [
       "<a href='https://www.manilatimes.net/2020/07/29/opinion/columnists/topanalysis/duterte-takes-on-or-vows-to-take-on-the-oligarchs/747389/'> Duterte takes on, or vows to take on, the oligarchs</a>"
      ],
      "text/plain": [
       "<IPython.core.display.HTML object>"
      ]
     },
     "metadata": {},
     "output_type": "display_data"
    },
    {
     "data": {
      "text/html": [
       "<a href='https://politics.com.ph/duterte-threatens-to-close-down-jt-express-wants-probe-into-alleged-cargo-mishandling/'> Duterte threatens to ‘close down’ J&T Express, wants probe into alleged cargo mishandling</a>"
      ],
      "text/plain": [
       "<IPython.core.display.HTML object>"
      ]
     },
     "metadata": {},
     "output_type": "display_data"
    },
    {
     "data": {
      "text/html": [
       "<a href='https://politics.com.ph/duterte-wants-third-telco-to-get-free-ride-on-globe-smart-cell-towers-trillanes/'> Duterte wants third telco to get free ride on Globe, Smart cell towers — Trillanes</a>"
      ],
      "text/plain": [
       "<IPython.core.display.HTML object>"
      ]
     },
     "metadata": {},
     "output_type": "display_data"
    },
    {
     "data": {
      "text/html": [
       "<a href='https://www.interaksyon.com/trends-spotlights/2020/07/27/173660/from-veerus-to-oligarch-sona-2020-drinking-game-lists-down-unofficial-words-expected-in-dutertes-speech/'> From veerus to oligarch: ‘SONA 2020 drinking game’ lists down unofficial words expected in Duterte’s speech</a>"
      ],
      "text/plain": [
       "<IPython.core.display.HTML object>"
      ]
     },
     "metadata": {},
     "output_type": "display_data"
    },
    {
     "data": {
      "text/html": [
       "<a href='https://politics.com.ph/gordon-defends-drilon-from-dutertes-sona-outrage-unpresidential/'> Gordon defends Drilon from Duterte’s SONA outrage: ‘Unpresidential’</a>"
      ],
      "text/plain": [
       "<IPython.core.display.HTML object>"
      ]
     },
     "metadata": {},
     "output_type": "display_data"
    },
    {
     "data": {
      "text/html": [
       "<a href='https://politics.com.ph/gretchen-barretto-still-a-duterte-loyalist-silent-on-abs-cbn-franchise-denial/'> Gretchen Barretto still a Duterte loyalist, silent on ABS-CBN franchise denial</a>"
      ],
      "text/plain": [
       "<IPython.core.display.HTML object>"
      ]
     },
     "metadata": {},
     "output_type": "display_data"
    },
    {
     "data": {
      "text/html": [
       "<a href='http://davaotoday.com/main/todays-views/how-is-the-duterte-regime-normalizing-the-filipino-suffering-part-1/'> How is the Duterte regime normalizing the Filipino suffering? (Part 1)</a>"
      ],
      "text/plain": [
       "<IPython.core.display.HTML object>"
      ]
     },
     "metadata": {},
     "output_type": "display_data"
    },
    {
     "data": {
      "text/html": [
       "<a href='http://davaotoday.com/main/todays-views/how-is-the-duterte-regime-normalizing-the-filipino-suffering-part-2/'> How is the Duterte regime normalizing the Filipino suffering? (Part 2)</a>"
      ],
      "text/plain": [
       "<IPython.core.display.HTML object>"
      ]
     },
     "metadata": {},
     "output_type": "display_data"
    },
    {
     "data": {
      "text/html": [
       "<a href='https://www.interaksyon.com/politics-issues/2020/07/27/173723/how-the-massive-sonagkaisa-protest-vs-duterte-govt-was-organized/'> How the massive #SONAgkaisa protest vs Duterte gov’t was organized</a>"
      ],
      "text/plain": [
       "<IPython.core.display.HTML object>"
      ]
     },
     "metadata": {},
     "output_type": "display_data"
    },
    {
     "data": {
      "text/html": [
       "<a href='https://www.eaglenews.ph/in-photos-president-duterte-undergoes-covid-19-test-along-with-sen-bong-go/'> In photos:  President Duterte undergoes COVID-19 test, along with Sen. Bong Go</a>"
      ],
      "text/plain": [
       "<IPython.core.display.HTML object>"
      ]
     },
     "metadata": {},
     "output_type": "display_data"
    },
    {
     "data": {
      "text/html": [
       "<a href='https://www.interaksyon.com/rumor-cop/2020/07/28/173887/local-artist-hulyen-seeks-help-to-report-facebook-page-that-used-her-art-for-red-tagging/'> Local artist Hulyen seeks help to report Facebook page that used her art for ‘red-tagging’</a>"
      ],
      "text/plain": [
       "<IPython.core.display.HTML object>"
      ]
     },
     "metadata": {},
     "output_type": "display_data"
    },
    {
     "data": {
      "text/html": [
       "<a href='https://www.interaksyon.com/politics-issues/2020/07/27/173761/lopezes-death-penalty-china-filipinos-note-top-three-topics-tackled-by-duterte-5th-sona/'> Lopezes, death penalty, China: Filipinos note top three topics tackled by Duterte in 5th SONA</a>"
      ],
      "text/plain": [
       "<IPython.core.display.HTML object>"
      ]
     },
     "metadata": {},
     "output_type": "display_data"
    },
    {
     "data": {
      "text/html": [
       "<a href='https://www.mindanews.com/mindaviews/2020/07/our-marawi-fake-news-walang-human-rights-violation-sa-martial-law-ni-duterte-sabi-nya-sa-kanyang-sona/'> OUR MARAWI:  Fake News: Walang Human rights Violation sa Martial Law ni Duterte sabi nya sa kanyang SONA</a>"
      ],
      "text/plain": [
       "<IPython.core.display.HTML object>"
      ]
     },
     "metadata": {},
     "output_type": "display_data"
    },
    {
     "data": {
      "text/html": [
       "<a href='https://politics.com.ph/palace-foils-cayetanos-alleged-plan-to-bar-velasco-in-dutertes-5th-sona/'> Palace foils Cayetano’s alleged plan to bar Velasco in Duterte’s 5th SONA</a>"
      ],
      "text/plain": [
       "<IPython.core.display.HTML object>"
      ]
     },
     "metadata": {},
     "output_type": "display_data"
    },
    {
     "data": {
      "text/html": [
       "<a href='https://politics.com.ph/patong-patong-uli-patay-duterte-warns-criminals-to-lie-low-as-long-as-hes-president/'> Patong-patong uli patay! Duterte warns criminals  to lie low as long as he’s president</a>"
      ],
      "text/plain": [
       "<IPython.core.display.HTML object>"
      ]
     },
     "metadata": {},
     "output_type": "display_data"
    },
    {
     "data": {
      "text/html": [
       "<a href='https://www.interaksyon.com/trends-spotlights/2020/07/28/173791/people-were-trying-to-spot-joyce-bernals-flavor-to-dutertes-5th-sona/'> People were trying to spot Joyce Bernal’s ‘flavor’ to Duterte’s 5th SONA</a>"
      ],
      "text/plain": [
       "<IPython.core.display.HTML object>"
      ]
     },
     "metadata": {},
     "output_type": "display_data"
    },
    {
     "data": {
      "text/html": [
       "<a href='https://www.benarnews.org/english/news/philippine/anti-terror-law-07072020132111.html'> Philippines: Leaders of Autonomous Region Covet Seat on Anti-Terror Council</a>"
      ],
      "text/plain": [
       "<IPython.core.display.HTML object>"
      ]
     },
     "metadata": {},
     "output_type": "display_data"
    },
    {
     "data": {
      "text/html": [
       "<a href='http://davaotoday.com/main/politics/rallies-held-in-dutertes-hometown-vs-sona/'> Rallies held in Duterte’s hometown vs SONA</a>"
      ],
      "text/plain": [
       "<IPython.core.display.HTML object>"
      ]
     },
     "metadata": {},
     "output_type": "display_data"
    },
    {
     "data": {
      "text/html": [
       "<a href='https://www.eaglenews.ph/senator-dela-rosa-posts-photo-of-pnp-chief-gamboa-in-hospital-to-show-that-hes-okay/'> Senator Dela Rosa posts photo of PNP chief Gamboa in hospital to show that he’s okay</a>"
      ],
      "text/plain": [
       "<IPython.core.display.HTML object>"
      ]
     },
     "metadata": {},
     "output_type": "display_data"
    },
    {
     "data": {
      "text/html": [
       "<a href='https://www.eaglenews.ph/senators-pacquiao-dela-rosa-greet-iglesia-ni-cristo-on-106th-anniversary/'> Senators Pacquiao, Dela Rosa greet Iglesia Ni Cristo on 106th anniversary</a>"
      ],
      "text/plain": [
       "<IPython.core.display.HTML object>"
      ]
     },
     "metadata": {},
     "output_type": "display_data"
    },
    {
     "data": {
      "text/html": [
       "<a href='https://politics.com.ph/umayos-na-kayo-ping-says-telcos-should-shape-up-after-dutertes-sona-threat/'> Umayos na kayo! Ping says telcos should shape up after Duterte’s SONA ‘threat’</a>"
      ],
      "text/plain": [
       "<IPython.core.display.HTML object>"
      ]
     },
     "metadata": {},
     "output_type": "display_data"
    },
    {
     "data": {
      "text/html": [
       "<a href='https://politics.com.ph/di-aabot-sa-sampung-boto-iglesia-ni-cristo-pulong-duterte-team-up-to-kill-abs-cbns-franchise-bid/'> ‘Di aabot sa sampung boto! Iglesia Ni Cristo, Pulong Duterte team up to kill ABS-CBN’s franchise bid</a>"
      ],
      "text/plain": [
       "<IPython.core.display.HTML object>"
      ]
     },
     "metadata": {},
     "output_type": "display_data"
    },
    {
     "data": {
      "text/html": [
       "<a href='https://politics.com.ph/di-tatantanan-paolo-duterte-teams-up-with-abs-cbn-critics-to-probe-p1-6b-dbp-behest-loans-to-lopezes/'> ‘Di tatantanan! Paolo Duterte teams up with ABS-CBN critics to probe P1.6B DBP behest loans to Lopezes</a>"
      ],
      "text/plain": [
       "<IPython.core.display.HTML object>"
      ]
     },
     "metadata": {},
     "output_type": "display_data"
    },
    {
     "data": {
      "text/html": [
       "<a href='https://politics.com.ph/kulang-sa-quotable-quotes-harry-roque-gives-dutertes-sona-a-9/'> ‘Kulang sa quotable quotes’: Harry Roque gives Duterte’s SONA a ‘9’</a>"
      ],
      "text/plain": [
       "<IPython.core.display.HTML object>"
      ]
     },
     "metadata": {},
     "output_type": "display_data"
    },
    {
     "data": {
      "text/html": [
       "<a href='https://politics.com.ph/lungkot-na-lungkot-siya-duterte-wants-to-talk-to-cops-who-killed-soldiers-in-jolo-shooting-incident/'> ‘Lungkot na lungkot siya’: Duterte wants to talk to cops who killed soldiers in Jolo shooting incident</a>"
      ],
      "text/plain": [
       "<IPython.core.display.HTML object>"
      ]
     },
     "metadata": {},
     "output_type": "display_data"
    },
    {
     "data": {
      "text/html": [
       "<a href='https://politics.com.ph/reposting-not-knowing-if-its-true-sharon-cuneta-curious-about-politiko-article-on-alleged-pulong-duterte-iglesia-ni-cristo-link-to-abs-cbn-shutdown/'> ‘Reposting, not knowing if it’s true:’ Sharon Cuneta curious about Politiko article on alleged Pulong Duterte-Iglesia Ni Cristo link to ABS-CBN shutdown</a>"
      ],
      "text/plain": [
       "<IPython.core.display.HTML object>"
      ]
     },
     "metadata": {},
     "output_type": "display_data"
    },
    {
     "data": {
      "text/html": [
       "<a href='https://politics.com.ph/too-early-for-you-to-enjoy-your-awards-duterte-says-maria-ressa-is-a-fraud/'> ‘Too early for you to enjoy your awards’: Duterte to bury Maria Ressa with more cases</a>"
      ],
      "text/plain": [
       "<IPython.core.display.HTML object>"
      ]
     },
     "metadata": {},
     "output_type": "display_data"
    },
    {
     "data": {
      "text/html": [
       "<a href='https://politics.com.ph/wala-akong-magawa-duterte-reiterates-fear-of-war-with-china/'> ‘Wala akong magawa’: Duterte reiterates fear of war with China</a>"
      ],
      "text/plain": [
       "<IPython.core.display.HTML object>"
      ]
     },
     "metadata": {},
     "output_type": "display_data"
    },
    {
     "data": {
      "text/html": [
       "<a href='https://politics.com.ph/we-will-never-forget-trillanes-slams-duterte-cayetano-over-abs-cbn-shutdown/'> ‘We will never forget:’ Trillanes slams Duterte, Cayetano over ABS-CBN shutdown</a>"
      ],
      "text/plain": [
       "<IPython.core.display.HTML object>"
      ]
     },
     "metadata": {},
     "output_type": "display_data"
    },
    {
     "name": "stdout",
     "output_type": "stream",
     "text": [
      "\n",
      "CHINA THREAT TO THE PHILIPPINES NEWS ITEMS: \n"
     ]
    },
    {
     "data": {
      "text/html": [
       "<a href='/Politics/International-relations/South-China-Sea/Duterte-says-Beijing-is-in-possession-of-South-China-Sea'> Duterte says Beijing is 'in possession' of South China Sea</a>"
      ],
      "text/plain": [
       "<IPython.core.display.HTML object>"
      ]
     },
     "metadata": {},
     "output_type": "display_data"
    },
    {
     "data": {
      "text/html": [
       "<a href='https://www.manilatimes.net/author/lito-lorenzana/'> Posts by Lito Monico C. Lorenzana</a>"
      ],
      "text/plain": [
       "<IPython.core.display.HTML object>"
      ]
     },
     "metadata": {},
     "output_type": "display_data"
    },
    {
     "data": {
      "text/html": [
       "<a href='http://retiredanalyst.blogspot.com/2020/07/china-is-pushing-its-south-china-sea.html'> Retired Analyst: China is pushing its South China Sea claims during the coronavirus pandemic — this is what the tensions are about</a>"
      ],
      "text/plain": [
       "<IPython.core.display.HTML object>"
      ]
     },
     "metadata": {},
     "output_type": "display_data"
    },
    {
     "data": {
      "text/html": [
       "<a href='http://retiredanalyst.blogspot.com/2020/07/from-philippine-news-agency-jul-28-2020.html'> Retired Analyst: RIMPAC stint to help PH Navy develop surface warfare doctrines</a>"
      ],
      "text/plain": [
       "<IPython.core.display.HTML object>"
      ]
     },
     "metadata": {},
     "output_type": "display_data"
    },
    {
     "data": {
      "text/html": [
       "<a href='http://retiredanalyst.blogspot.com/2020/07/rimpac-stint-to-help-ph-navy-develop.html'> Retired Analyst: RIMPAC stint to help PH Navy develop surface warfare doctrines </a>"
      ],
      "text/plain": [
       "<IPython.core.display.HTML object>"
      ]
     },
     "metadata": {},
     "output_type": "display_data"
    },
    {
     "data": {
      "text/html": [
       "<a href='https://www.benarnews.org/english/news/philippine/risks-rise-07102020171250.html'> Risk of Conflict between US, China Rising in South China Sea, Analysts Say</a>"
      ],
      "text/plain": [
       "<IPython.core.display.HTML object>"
      ]
     },
     "metadata": {},
     "output_type": "display_data"
    },
    {
     "data": {
      "text/html": [
       "<a href='https://www.benarnews.org/english/news/malaysian/South-China-Sea-07152020152750.html'> South China Sea: Malaysia Urges Nations to Stand Down from ‘Military Posturing’ </a>"
      ],
      "text/plain": [
       "<IPython.core.display.HTML object>"
      ]
     },
     "metadata": {},
     "output_type": "display_data"
    },
    {
     "data": {
      "text/html": [
       "<a href='https://www.benarnews.org/english/news/philippine/scs-us-07132020180315.html'> US Toughens Stance on South China Sea, Calls Chinese Claims Illegal</a>"
      ],
      "text/plain": [
       "<IPython.core.display.HTML object>"
      ]
     },
     "metadata": {},
     "output_type": "display_data"
    },
    {
     "name": "stdout",
     "output_type": "stream",
     "text": [
      "\n",
      "CHRISTIAN AND RELIGIOUS GROUPS NEWS ITEMS: \n"
     ]
    },
    {
     "data": {
      "text/html": [
       "<a href='https://politics.com.ph/106th-anniversary-milestone-politikos-show-support-for-iglesia-ni-cristo/'> 106th anniversary milestone: Politikos show support for Iglesia ni Cristo</a>"
      ],
      "text/plain": [
       "<IPython.core.display.HTML object>"
      ]
     },
     "metadata": {},
     "output_type": "display_data"
    },
    {
     "data": {
      "text/html": [
       "<a href='https://www.eaglenews.ph/historians-observers-note-106-years-of-iglesia-ni-cristos-unprecedented-growth-efforts-to-help-worldwide/'> Historians, observers note 106 years of Iglesia Ni Cristo’s unprecedented growth, efforts to help worldwide</a>"
      ],
      "text/plain": [
       "<IPython.core.display.HTML object>"
      ]
     },
     "metadata": {},
     "output_type": "display_data"
    },
    {
     "data": {
      "text/html": [
       "<a href='https://www.eaglenews.ph/iglesia-ni-cristo-church-of-christ-in-hawaii-conducts-contact-free-aid-to-humanity-during-covid-19-crisis/'> Iglesia Ni Cristo (Church Of Christ) in Hawaii conducts contact-free Aid to Humanity during COVID-19 crisis</a>"
      ],
      "text/plain": [
       "<IPython.core.display.HTML object>"
      ]
     },
     "metadata": {},
     "output_type": "display_data"
    },
    {
     "data": {
      "text/html": [
       "<a href='https://www.eaglenews.ph/iglesia-ni-cristo-in-taiwan-holds-lingap-for-ofws/'> Iglesia Ni Cristo in Taiwan holds “Lingap for OFWs”</a>"
      ],
      "text/plain": [
       "<IPython.core.display.HTML object>"
      ]
     },
     "metadata": {},
     "output_type": "display_data"
    },
    {
     "data": {
      "text/html": [
       "<a href='https://www.eaglenews.ph/in-photos-iglesia-ni-cristo-starts-lingap-sa-mamamayan-to-help-those-affected-by-mindanao-quakes/'> In photos: Iglesia Ni Cristo starts “Lingap sa Mamamayan” to help those affected by Mindanao quakes</a>"
      ],
      "text/plain": [
       "<IPython.core.display.HTML object>"
      ]
     },
     "metadata": {},
     "output_type": "display_data"
    },
    {
     "data": {
      "text/html": [
       "<a href='https://politics.com.ph/not-so-fast-inc-cbcp-has-best-shot-at-getting-abs-cbn-frequency-find-out-how/'> Not so fast INC: CBCP has best shot at getting ABS-CBN frequency. Find out how</a>"
      ],
      "text/plain": [
       "<IPython.core.display.HTML object>"
      ]
     },
     "metadata": {},
     "output_type": "display_data"
    },
    {
     "data": {
      "text/html": [
       "<a href='https://www.eaglenews.ph/phl-ambassador-to-the-us-greets-iglesia-ni-cristo-on-106th-anniversary/'> PHL Ambassador to the US greets Iglesia Ni Cristo on 106th anniversary</a>"
      ],
      "text/plain": [
       "<IPython.core.display.HTML object>"
      ]
     },
     "metadata": {},
     "output_type": "display_data"
    },
    {
     "data": {
      "text/html": [
       "<a href='https://www.eaglenews.ph/pres-duterte-greets-iglesia-ni-cristo-on-106th-year-thanks-church-for-prayers-and-help-to-the-nation/'> Pres. Duterte greets Iglesia Ni Cristo on 106th year; thanks Church for prayers and help to the nation</a>"
      ],
      "text/plain": [
       "<IPython.core.display.HTML object>"
      ]
     },
     "metadata": {},
     "output_type": "display_data"
    },
    {
     "data": {
      "text/html": [
       "<a href='https://www.eaglenews.ph/senators-pacquiao-dela-rosa-greet-iglesia-ni-cristo-on-106th-anniversary/'> Senators Pacquiao, Dela Rosa greet Iglesia Ni Cristo on 106th anniversary</a>"
      ],
      "text/plain": [
       "<IPython.core.display.HTML object>"
      ]
     },
     "metadata": {},
     "output_type": "display_data"
    },
    {
     "data": {
      "text/html": [
       "<a href='https://www.eaglenews.ph/vp-robredo-greets-iglesia-ni-cristo-on-its-106th-anniversary/'> VP Robredo greets Iglesia Ni Cristo on its 106th anniversary</a>"
      ],
      "text/plain": [
       "<IPython.core.display.HTML object>"
      ]
     },
     "metadata": {},
     "output_type": "display_data"
    },
    {
     "data": {
      "text/html": [
       "<a href='https://politics.com.ph/di-aabot-sa-sampung-boto-iglesia-ni-cristo-pulong-duterte-team-up-to-kill-abs-cbns-franchise-bid/'> ‘Di aabot sa sampung boto! Iglesia Ni Cristo, Pulong Duterte team up to kill ABS-CBN’s franchise bid</a>"
      ],
      "text/plain": [
       "<IPython.core.display.HTML object>"
      ]
     },
     "metadata": {},
     "output_type": "display_data"
    },
    {
     "data": {
      "text/html": [
       "<a href='https://politics.com.ph/reposting-not-knowing-if-its-true-sharon-cuneta-curious-about-politiko-article-on-alleged-pulong-duterte-iglesia-ni-cristo-link-to-abs-cbn-shutdown/'> ‘Reposting, not knowing if it’s true:’ Sharon Cuneta curious about Politiko article on alleged Pulong Duterte-Iglesia Ni Cristo link to ABS-CBN shutdown</a>"
      ],
      "text/plain": [
       "<IPython.core.display.HTML object>"
      ]
     },
     "metadata": {},
     "output_type": "display_data"
    },
    {
     "name": "stdout",
     "output_type": "stream",
     "text": [
      "\n",
      "ECONOMY NEWS ITEMS: \n"
     ]
    },
    {
     "data": {
      "text/html": [
       "<a href='https://www.eaglenews.ph/284-buses-under-edsa-busway-system-available-for-use-starting-today-july-29/'> 284 buses under Edsa Busway System available for use starting today, July 29</a>"
      ],
      "text/plain": [
       "<IPython.core.display.HTML object>"
      ]
     },
     "metadata": {},
     "output_type": "display_data"
    },
    {
     "data": {
      "text/html": [
       "<a href='https://www.manilatimes.net/2020/07/29/news/world/beijing-sees-stable-employment-rate/747422/'> Beijing sees stable employment rate</a>"
      ],
      "text/plain": [
       "<IPython.core.display.HTML object>"
      ]
     },
     "metadata": {},
     "output_type": "display_data"
    },
    {
     "data": {
      "text/html": [
       "<a href='https://www.manilatimes.net/2020/07/29/business/business-top/inflation-forecast-to-average-2-3-in-2020/747437/'> Inflation forecast to average 2.3% in 2020</a>"
      ],
      "text/plain": [
       "<IPython.core.display.HTML object>"
      ]
     },
     "metadata": {},
     "output_type": "display_data"
    },
    {
     "data": {
      "text/html": [
       "<a href='https://www.manilatimes.net/2020/07/23/business/agribusiness/knowledge-economy-to-boost-food-security/744522/'> Knowledge economy to boost food security</a>"
      ],
      "text/plain": [
       "<IPython.core.display.HTML object>"
      ]
     },
     "metadata": {},
     "output_type": "display_data"
    },
    {
     "data": {
      "text/html": [
       "<a href='http://davaotoday.com/main/headline/misor-wants-final-version-of-iatf-guidelines-on-backriding-policy/'> MisOr wants final version of IATF guidelines on backriding policy</a>"
      ],
      "text/plain": [
       "<IPython.core.display.HTML object>"
      ]
     },
     "metadata": {},
     "output_type": "display_data"
    },
    {
     "data": {
      "text/html": [
       "<a href='https://www.manilatimes.net/2020/07/29/business/business-top/psei-recovers-on-bargain-hunting-2/747424/'> PSEi recovers on bargain hunting</a>"
      ],
      "text/plain": [
       "<IPython.core.display.HTML object>"
      ]
     },
     "metadata": {},
     "output_type": "display_data"
    },
    {
     "name": "stdout",
     "output_type": "stream",
     "text": [
      "\n",
      "INSURGENCY RELATED NEWS ITEMS: \n"
     ]
    },
    {
     "data": {
      "text/html": [
       "<a href='https://www.manilatimes.net/2020/07/29/news/latest-stories/3-abu-sayyaf-members-in-abduction-of-jehovah-witness-followers-arrested/747610/'> 3 Abu Sayyaf members in abduction of Jehovah Witness followers arrested</a>"
      ],
      "text/plain": [
       "<IPython.core.display.HTML object>"
      ]
     },
     "metadata": {},
     "output_type": "display_data"
    },
    {
     "data": {
      "text/html": [
       "<a href='https://www.mindanews.com/top-stories/2020/07/9-killed-as-army-troops-clash-with-biff/'> 9 killed as Army troops clash with BIFF</a>"
      ],
      "text/plain": [
       "<IPython.core.display.HTML object>"
      ]
     },
     "metadata": {},
     "output_type": "display_data"
    },
    {
     "data": {
      "text/html": [
       "<a href='http://davaotoday.com/main/human-rights/advocacy-groups-lawyers-file-10th-petition-vs-anti-terror-law/'> Advocacy groups, lawyers file 10th petition vs. anti-terror law</a>"
      ],
      "text/plain": [
       "<IPython.core.display.HTML object>"
      ]
     },
     "metadata": {},
     "output_type": "display_data"
    },
    {
     "data": {
      "text/html": [
       "<a href='https://www.mindanews.com/peace-process/2020/06/bangsamoro-parliament-has-yet-to-act-on-resolution-expressing-grave-concern-over-proposed-anti-terrorism-act/'> Bangsamoro Parliament has yet to act on resolution expressing “grave concern” over proposed Anti-Terrorism Act</a>"
      ],
      "text/plain": [
       "<IPython.core.display.HTML object>"
      ]
     },
     "metadata": {},
     "output_type": "display_data"
    },
    {
     "data": {
      "text/html": [
       "<a href='https://www.mindanews.com/peace-process/2020/01/ceasefire-holding-sison-says-he-is-ready-to-meet-duterte-in-hanoi/'> Ceasefire holding; Sison says he is ready to meet Duterte in Hanoi  </a>"
      ],
      "text/plain": [
       "<IPython.core.display.HTML object>"
      ]
     },
     "metadata": {},
     "output_type": "display_data"
    },
    {
     "data": {
      "text/html": [
       "<a href='https://www.mindanews.com/top-stories/2020/07/from-sleeping-on-soft-beds-to-sleeping-on-mats-on-the-floor-marawi-bakwits/'> From sleeping on soft beds to sleeping on mats on the floor – Marawi ‘bakwits’</a>"
      ],
      "text/plain": [
       "<IPython.core.display.HTML object>"
      ]
     },
     "metadata": {},
     "output_type": "display_data"
    },
    {
     "data": {
      "text/html": [
       "<a href='https://www.mindanews.com/top-stories/2020/07/in-march-duterte-vowed-to-be-on-top-of-marawi-rehab-in-july-mum-on-marawi/'> In March, Duterte vowed to be “on top” of Marawi rehab; in July, mum on Marawi</a>"
      ],
      "text/plain": [
       "<IPython.core.display.HTML object>"
      ]
     },
     "metadata": {},
     "output_type": "display_data"
    },
    {
     "data": {
      "text/html": [
       "<a href='http://davaotoday.com/main/politics/no-rights-violations-in-martial-law-marawi-survivor-says-otherwise/'> No rights violations in Martial Law? Marawi survivor says otherwise</a>"
      ],
      "text/plain": [
       "<IPython.core.display.HTML object>"
      ]
     },
     "metadata": {},
     "output_type": "display_data"
    },
    {
     "data": {
      "text/html": [
       "<a href='https://www.mindanews.com/mindaviews/2020/07/our-marawi-fake-news-walang-human-rights-violation-sa-martial-law-ni-duterte-sabi-nya-sa-kanyang-sona/'> OUR MARAWI:  Fake News: Walang Human rights Violation sa Martial Law ni Duterte sabi nya sa kanyang SONA</a>"
      ],
      "text/plain": [
       "<IPython.core.display.HTML object>"
      ]
     },
     "metadata": {},
     "output_type": "display_data"
    },
    {
     "data": {
      "text/html": [
       "<a href='https://www.benarnews.org/english/news/philippine/anti-terror-law-07072020132111.html'> Philippines: Leaders of Autonomous Region Covet Seat on Anti-Terror Council</a>"
      ],
      "text/plain": [
       "<IPython.core.display.HTML object>"
      ]
     },
     "metadata": {},
     "output_type": "display_data"
    },
    {
     "data": {
      "text/html": [
       "<a href='http://retiredanalyst.blogspot.com/2020/07/2-npas-2-militiamen-surrender-in-isabela.html'> Retired Analyst: 2 NPAs, 2 militiamen surrender in Isabela </a>"
      ],
      "text/plain": [
       "<IPython.core.display.HTML object>"
      ]
     },
     "metadata": {},
     "output_type": "display_data"
    },
    {
     "data": {
      "text/html": [
       "<a href='http://retiredanalyst.blogspot.com/2020/07/body-of-dead-npa-found-in-surigao-del.html'> Retired Analyst: Body of dead NPA found in Surigao del Sur</a>"
      ],
      "text/plain": [
       "<IPython.core.display.HTML object>"
      ]
     },
     "metadata": {},
     "output_type": "display_data"
    },
    {
     "data": {
      "text/html": [
       "<a href='http://retiredanalyst.blogspot.com/2020/07/npa-camp-in-negros-occ-falls-to-army.html'> Retired Analyst: NPA camp in Negros Occ falls to Army troop</a>"
      ],
      "text/plain": [
       "<IPython.core.display.HTML object>"
      ]
     },
     "metadata": {},
     "output_type": "display_data"
    },
    {
     "data": {
      "text/html": [
       "<a href='http://retiredanalyst.blogspot.com/2020/07/skeletal-remains-of-npas-get-decent.html'> Retired Analyst: Skeletal remains of NPAs get decent burial in N. Samar </a>"
      ],
      "text/plain": [
       "<IPython.core.display.HTML object>"
      ]
     },
     "metadata": {},
     "output_type": "display_data"
    },
    {
     "data": {
      "text/html": [
       "<a href='http://retiredanalyst.blogspot.com/2020/07/training-programs-seen-to-boost.html'> Retired Analyst: Training programs seen to boost productivity in NPA-influenced brgy</a>"
      ],
      "text/plain": [
       "<IPython.core.display.HTML object>"
      ]
     },
     "metadata": {},
     "output_type": "display_data"
    },
    {
     "data": {
      "text/html": [
       "<a href='http://davaotoday.com/main/todays-views/terrorizing-the-people-with-the-anti-terror-bill/'> Terrorizing the people with the anti-terror bill</a>"
      ],
      "text/plain": [
       "<IPython.core.display.HTML object>"
      ]
     },
     "metadata": {},
     "output_type": "display_data"
    },
    {
     "data": {
      "text/html": [
       "<a href='https://politics.com.ph/youth-leaders-ask-sc-to-nullify-anti-terror-law/'> Youth leaders ask SC to nullify Anti-Terror Law</a>"
      ],
      "text/plain": [
       "<IPython.core.display.HTML object>"
      ]
     },
     "metadata": {},
     "output_type": "display_data"
    },
    {
     "data": {
      "text/html": [
       "<a href='https://politics.com.ph/di-lang-sa-tiktok-patok-macoy-dubs-join-influencers-in-challenging-anti-terror-law-before-sc/'> ‘Di lang sa TikTok patok! Macoy Dubs join influencers in challenging Anti-Terror Law before SC</a>"
      ],
      "text/plain": [
       "<IPython.core.display.HTML object>"
      ]
     },
     "metadata": {},
     "output_type": "display_data"
    },
    {
     "data": {
      "text/html": [
       "<a href='https://politics.com.ph/di-magpapadala-sa-pressure-guevarra-vows-conscience-will-prevail-in-dojs-review-of-anti-terror-bill/'> ‘Di magpapadala sa pressure! Guevarra vows conscience will prevail in DOJ’s review of anti-terror bill</a>"
      ],
      "text/plain": [
       "<IPython.core.display.HTML object>"
      ]
     },
     "metadata": {},
     "output_type": "display_data"
    },
    {
     "data": {
      "text/html": [
       "<a href='https://www.interaksyon.com/politics-issues/2020/07/29/173990/rampa-sa-korte-suprema-popular-bloggers-influencers-run-to-sc-to-challenge-anti-terror-law/'> ‘Rampa sa Korte Suprema!’ Popular bloggers-influencers run to SC to challenge anti-terror law</a>"
      ],
      "text/plain": [
       "<IPython.core.display.HTML object>"
      ]
     },
     "metadata": {},
     "output_type": "display_data"
    },
    {
     "name": "stdout",
     "output_type": "stream",
     "text": [
      "\n",
      "MORO ISSUES RELATED NEWS ITEMS: \n"
     ]
    },
    {
     "data": {
      "text/html": [
       "<a href='https://www.mindanews.com/mindaviews/2020/06/bangsamoro-speaks-balance-compassion-and-discipline-and-at-the-same-uphold-the-rule-of-law/'> BANGSAMORO SPEAKS: Balance compassion and discipline and at the same, uphold the rule of law</a>"
      ],
      "text/plain": [
       "<IPython.core.display.HTML object>"
      ]
     },
     "metadata": {},
     "output_type": "display_data"
    },
    {
     "data": {
      "text/html": [
       "<a href='https://www.mindanews.com/peace-process/2020/06/bangsamoro-parliament-has-yet-to-act-on-resolution-expressing-grave-concern-over-proposed-anti-terrorism-act/'> Bangsamoro Parliament has yet to act on resolution expressing “grave concern” over proposed Anti-Terrorism Act</a>"
      ],
      "text/plain": [
       "<IPython.core.display.HTML object>"
      ]
     },
     "metadata": {},
     "output_type": "display_data"
    },
    {
     "data": {
      "text/html": [
       "<a href='http://davaotoday.com/main/economy/cdo-firm-soon-to-provide-bulk-water-supply-in-cotabato-bislig/'> CDO firm soon to provide bulk water supply in Cotabato, Bislig</a>"
      ],
      "text/plain": [
       "<IPython.core.display.HTML object>"
      ]
     },
     "metadata": {},
     "output_type": "display_data"
    },
    {
     "data": {
      "text/html": [
       "<a href='https://www.mindanews.com/peace-process/2020/02/cotabato-city-seeks-exclusion-from-barmm-until-june-30-2022/'> Cotabato City seeks exclusion from BARMM until June 30, 2022</a>"
      ],
      "text/plain": [
       "<IPython.core.display.HTML object>"
      ]
     },
     "metadata": {},
     "output_type": "display_data"
    },
    {
     "data": {
      "text/html": [
       "<a href='http://retiredanalyst.blogspot.com/2020/07/westmincom-soldiers-clash-with-ctg.html'> Retired Analyst: WESTMINCOM: Soldiers clash with CTG members in Sultan Kudarat</a>"
      ],
      "text/plain": [
       "<IPython.core.display.HTML object>"
      ]
     },
     "metadata": {},
     "output_type": "display_data"
    },
    {
     "data": {
      "text/html": [
       "<a href='https://www.mindanews.com/peace-process/2020/01/senate-asks-bta-to-name-reps-to-congress-bangsamoro-parliament-forum/'> Senate asks BTA to name reps to Congress-Bangsamoro Parliament Forum</a>"
      ],
      "text/plain": [
       "<IPython.core.display.HTML object>"
      ]
     },
     "metadata": {},
     "output_type": "display_data"
    },
    {
     "data": {
      "text/html": [
       "<a href='https://politics.com.ph/di-nanlaban-nbi-finds-no-proof-slain-soldiers-fired-at-jolo-cops/'> ‘Di nanlaban! NBI finds no proof slain soldiers fired at Jolo cops</a>"
      ],
      "text/plain": [
       "<IPython.core.display.HTML object>"
      ]
     },
     "metadata": {},
     "output_type": "display_data"
    },
    {
     "data": {
      "text/html": [
       "<a href='https://politics.com.ph/lungkot-na-lungkot-siya-duterte-wants-to-talk-to-cops-who-killed-soldiers-in-jolo-shooting-incident/'> ‘Lungkot na lungkot siya’: Duterte wants to talk to cops who killed soldiers in Jolo shooting incident</a>"
      ],
      "text/plain": [
       "<IPython.core.display.HTML object>"
      ]
     },
     "metadata": {},
     "output_type": "display_data"
    },
    {
     "name": "stdout",
     "output_type": "stream",
     "text": [
      "\n",
      "NATIONAL CAPITAL REGION RELATED NEWS ITEMS: \n"
     ]
    },
    {
     "data": {
      "text/html": [
       "<a href='https://www.eaglenews.ph/284-buses-under-edsa-busway-system-available-for-use-starting-today-july-29/'> 284 buses under Edsa Busway System available for use starting today, July 29</a>"
      ],
      "text/plain": [
       "<IPython.core.display.HTML object>"
      ]
     },
     "metadata": {},
     "output_type": "display_data"
    },
    {
     "name": "stdout",
     "output_type": "stream",
     "text": [
      "\n",
      "PROVINCIAL NEWS ITEMS: \n"
     ]
    },
    {
     "data": {
      "text/html": [
       "<a href='https://www.eaglenews.ph/covid-19-cases-in-phl-reach-85486-with-1874-newly-announced-cases/'> COVID-19 cases in PHL reach 85,486 with 1874 newly-announced cases</a>"
      ],
      "text/plain": [
       "<IPython.core.display.HTML object>"
      ]
     },
     "metadata": {},
     "output_type": "display_data"
    },
    {
     "data": {
      "text/html": [
       "<a href='https://www.theborneopost.com/2020/07/29/covid-19-13-new-positive-cases-recorded-in-malaysia-today-total-at-8956/'> Covid-19: 13 new positive cases recorded in Malaysia today, total at 8,956</a>"
      ],
      "text/plain": [
       "<IPython.core.display.HTML object>"
      ]
     },
     "metadata": {},
     "output_type": "display_data"
    },
    {
     "data": {
      "text/html": [
       "<a href='https://www.theborneopost.com/2020/07/29/covid-19-2-new-positive-cases-in-sarawak-today-both-close-contacts-of-current-clusters/'> Covid-19: 2 new positive cases in Sarawak today, both close contacts of current clusters</a>"
      ],
      "text/plain": [
       "<IPython.core.display.HTML object>"
      ]
     },
     "metadata": {},
     "output_type": "display_data"
    },
    {
     "data": {
      "text/html": [
       "<a href='http://davaotoday.com/main/economy/health/davao-region-may-breach-1000-mark-for-covid-19-cases/'> Davao region may breach 1,000 mark for Covid-19 cases</a>"
      ],
      "text/plain": [
       "<IPython.core.display.HTML object>"
      ]
     },
     "metadata": {},
     "output_type": "display_data"
    },
    {
     "data": {
      "text/html": [
       "<a href='https://politics.com.ph/duterte-asks-xi-jinping-access-to-coronavirus-vaccine/'> Duterte asks Xi Jinping access to coronavirus vaccine</a>"
      ],
      "text/plain": [
       "<IPython.core.display.HTML object>"
      ]
     },
     "metadata": {},
     "output_type": "display_data"
    },
    {
     "data": {
      "text/html": [
       "<a href='https://www.interaksyon.com/politics-issues/2020/07/27/173788/duterte-says-covid-19-intervention-prevented-millions-of-cases/'> Duterte says COVID-19 intervention prevented millions of cases</a>"
      ],
      "text/plain": [
       "<IPython.core.display.HTML object>"
      ]
     },
     "metadata": {},
     "output_type": "display_data"
    },
    {
     "data": {
      "text/html": [
       "<a href='https://www.interaksyon.com/politics-issues/2020/07/23/173506/for-harry-roque-more-than-70k-covid-19-cases-is-not-alarming-but-it-is-for-some-filipinos/'> For Harry Roque, the more than 70K COVID-19 cases is not ‘alarming.’ But it is for some Filipinos.</a>"
      ],
      "text/plain": [
       "<IPython.core.display.HTML object>"
      ]
     },
     "metadata": {},
     "output_type": "display_data"
    },
    {
     "data": {
      "text/html": [
       "<a href='https://www.eaglenews.ph/iatf-says-gyms-review-centers-internet-shops-may-operate-at-30-capacity-in-gcq-areas-starting-aug-1-dti/'> IATF says gyms, review centers, Internet shops can operate at 30% capacity in GCQ areas starting Aug. 1: DTI</a>"
      ],
      "text/plain": [
       "<IPython.core.display.HTML object>"
      ]
     },
     "metadata": {},
     "output_type": "display_data"
    },
    {
     "data": {
      "text/html": [
       "<a href='/Editor-s-Picks/Interview/Tokyo-cannot-bear-cost-of-business-closures-as-COVID-19-cases-surge'> Tokyo cannot bear cost of business closures as COVID-19 cases surge</a>"
      ],
      "text/plain": [
       "<IPython.core.display.HTML object>"
      ]
     },
     "metadata": {},
     "output_type": "display_data"
    },
    {
     "data": {
      "text/html": [
       "<a href='https://www.interaksyon.com/politics-issues/2020/07/28/173870/hindi-kakaunti-yan-harry-roque-to-stop-downplaying-high-number-of-covid-19-cases-death-counts/'> ‘Hindi kakaunti ‘yan’: Harry Roque told to stop ‘downplaying’ high number of COVID-19 cases, death counts</a>"
      ],
      "text/plain": [
       "<IPython.core.display.HTML object>"
      ]
     },
     "metadata": {},
     "output_type": "display_data"
    },
    {
     "name": "stdout",
     "output_type": "stream",
     "text": [
      "\n",
      "POLITICAL NEWS ITEMS: \n"
     ]
    },
    {
     "data": {
      "text/html": [
       "<a href='https://www.eaglenews.ph/5-6-magnitude-quake-hits-davao-oriental-on-sunday-morning/'> 5.6-magnitude quake hits Davao Oriental on Sunday morning</a>"
      ],
      "text/plain": [
       "<IPython.core.display.HTML object>"
      ]
     },
     "metadata": {},
     "output_type": "display_data"
    },
    {
     "data": {
      "text/html": [
       "<a href='https://edgedavao.net/entrepreneurs/2019/04/18/atty-antonio-b-partoza-jr-creating-a-name-for-davao/'> ATTY. ANTONIO B. PARTOZA JR: CREATING A NAME FOR DAVAO</a>"
      ],
      "text/plain": [
       "<IPython.core.display.HTML object>"
      ]
     },
     "metadata": {},
     "output_type": "display_data"
    },
    {
     "data": {
      "text/html": [
       "<a href='http://davaotoday.com/main/environment/davao-city-on-alert-for-tropical-depression-ambo/'> Davao City on alert for Tropical Depression Ambo</a>"
      ],
      "text/plain": [
       "<IPython.core.display.HTML object>"
      ]
     },
     "metadata": {},
     "output_type": "display_data"
    },
    {
     "data": {
      "text/html": [
       "<a href='http://davaotoday.com/main/politics/davao-activists-will-take-to-the-streets-on-dutertes-sona/'> Davao activists will take to the streets on Duterte’s SONA</a>"
      ],
      "text/plain": [
       "<IPython.core.display.HTML object>"
      ]
     },
     "metadata": {},
     "output_type": "display_data"
    },
    {
     "data": {
      "text/html": [
       "<a href='http://davaotoday.com/main/headline/davao-business-sector-still-divided-on-martial-rule/'> Davao business sector still divided on martial rule</a>"
      ],
      "text/plain": [
       "<IPython.core.display.HTML object>"
      ]
     },
     "metadata": {},
     "output_type": "display_data"
    },
    {
     "data": {
      "text/html": [
       "<a href='http://davaotoday.com/main/economy/health/davao-region-may-breach-1000-mark-for-covid-19-cases/'> Davao region may breach 1,000 mark for Covid-19 cases</a>"
      ],
      "text/plain": [
       "<IPython.core.display.HTML object>"
      ]
     },
     "metadata": {},
     "output_type": "display_data"
    },
    {
     "data": {
      "text/html": [
       "<a href='https://www.mindanews.com/business/2020/05/davao-tourism-suffers-huge-drop-in-revenues-due-to-covid-19/'> Davao tourism suffers ‘huge drop’ in revenues due to COVID-19</a>"
      ],
      "text/plain": [
       "<IPython.core.display.HTML object>"
      ]
     },
     "metadata": {},
     "output_type": "display_data"
    },
    {
     "data": {
      "text/html": [
       "<a href='http://davaotoday.com/main/economy/health/davao-bound-flights-to-require-covid-19-tests-from-passengers/'> Davao-bound flights to require Covid-19 tests from passengers</a>"
      ],
      "text/plain": [
       "<IPython.core.display.HTML object>"
      ]
     },
     "metadata": {},
     "output_type": "display_data"
    },
    {
     "data": {
      "text/html": [
       "<a href='https://edgedavao.net/feature/2019/12/22/edge-davaos-and-zions-candyland-party/'> Edge Davao’s and Zion’s Candyland party</a>"
      ],
      "text/plain": [
       "<IPython.core.display.HTML object>"
      ]
     },
     "metadata": {},
     "output_type": "display_data"
    },
    {
     "data": {
      "text/html": [
       "<a href='http://davaotoday.com/main/culture-2/how-the-lumad-learned-to-survive-in-haran/'> How the Lumad learned to survive in Haran</a>"
      ],
      "text/plain": [
       "<IPython.core.display.HTML object>"
      ]
     },
     "metadata": {},
     "output_type": "display_data"
    },
    {
     "data": {
      "text/html": [
       "<a href='https://edgedavao.net/suburbia/2020/01/04/humanitarian-mission-provides-relief-in-davao-del-sur/'> Humanitarian mission provides relief in Davao del Sur</a>"
      ],
      "text/plain": [
       "<IPython.core.display.HTML object>"
      ]
     },
     "metadata": {},
     "output_type": "display_data"
    },
    {
     "data": {
      "text/html": [
       "<a href='https://www.mindanews.com/mindaviews/2020/07/integral-ecology-a-liberative-approach-to-the-evangelization-of-indigenous-cultures-2/'> INTEGRAL ECOLOGY: A Liberative Approach to the Evangelization of Indigenous Cultures (2)</a>"
      ],
      "text/plain": [
       "<IPython.core.display.HTML object>"
      ]
     },
     "metadata": {},
     "output_type": "display_data"
    },
    {
     "data": {
      "text/html": [
       "<a href='http://davaotoday.com/main/davao-city/investors-organize-1st-branch-in-davao/'> Investors organize 1st branch in Davao</a>"
      ],
      "text/plain": [
       "<IPython.core.display.HTML object>"
      ]
     },
     "metadata": {},
     "output_type": "display_data"
    },
    {
     "data": {
      "text/html": [
       "<a href='https://edgedavao.net/suburbia/2019/11/15/isolated-lumads-hail-govt-attention-care/'> Isolated Lumads hail gov’t attention, care</a>"
      ],
      "text/plain": [
       "<IPython.core.display.HTML object>"
      ]
     },
     "metadata": {},
     "output_type": "display_data"
    },
    {
     "data": {
      "text/html": [
       "<a href='http://davaotoday.com/main/human-rights/malaybalay-police-apologizes-for-info-drive-error-targeting-journalists/'> Malaybalay police apologizes for info-drive error targeting journalists</a>"
      ],
      "text/plain": [
       "<IPython.core.display.HTML object>"
      ]
     },
     "metadata": {},
     "output_type": "display_data"
    },
    {
     "data": {
      "text/html": [
       "<a href='http://davaotoday.com/main/headline/most-davao-businesses-dont-have-continuity-plan-pcci/'> Most Davao businesses don’t have continuity plan – PCCI</a>"
      ],
      "text/plain": [
       "<IPython.core.display.HTML object>"
      ]
     },
     "metadata": {},
     "output_type": "display_data"
    },
    {
     "data": {
      "text/html": [
       "<a href='https://edgedavao.net/the-big-news/2020/06/26/most-stranded-individuals-are-davao-bound-airline-exec/'> Most stranded individuals are  Davao-bound: airline exec</a>"
      ],
      "text/plain": [
       "<IPython.core.display.HTML object>"
      ]
     },
     "metadata": {},
     "output_type": "display_data"
    },
    {
     "data": {
      "text/html": [
       "<a href='https://edgedavao.net/special-supplement/2020/03/17/some-things-you-need-to-know-about-davao-city/'> SOME THINGS YOU NEED TO KNOW ABOUT DAVAO CITY</a>"
      ],
      "text/plain": [
       "<IPython.core.display.HTML object>"
      ]
     },
     "metadata": {},
     "output_type": "display_data"
    },
    {
     "data": {
      "text/html": [
       "<a href='https://www.mindanews.com/special-reports/2020/07/special-report-asserting-the-lumads-right-to-education-learning-goes-on-despite-closure-of-schools/'> SPECIAL REPORT.  Asserting the Lumads’ right to education: learning goes on despite closure of schools</a>"
      ],
      "text/plain": [
       "<IPython.core.display.HTML object>"
      ]
     },
     "metadata": {},
     "output_type": "display_data"
    },
    {
     "data": {
      "text/html": [
       "<a href='http://davaotoday.com/main/human-rights/terrorist-gallery-targeting-activists-in-davao-slammed/'> ‘Terrorist’ gallery targeting activists in Davao slammed</a>"
      ],
      "text/plain": [
       "<IPython.core.display.HTML object>"
      ]
     },
     "metadata": {},
     "output_type": "display_data"
    },
    {
     "name": "stdout",
     "output_type": "stream",
     "text": [
      "Errors:  0\n"
     ]
    }
   ],
   "source": [
    "\n",
    "def excluder(mystr, exclude_list):\n",
    "    excludeit = False\n",
    "    for excl in exclude_list:\n",
    "        if excl in mystr:\n",
    "            excludeit = True\n",
    "            break\n",
    "    return excludeit\n",
    "\n",
    "covid_list = []\n",
    "auth_list = []\n",
    "chinathreat_list = []\n",
    "chrgroup_list = []\n",
    "econ_list = []\n",
    "insurgency_list = []\n",
    "moro_list = []\n",
    "ncr_list = []\n",
    "province_list = []\n",
    "pulitika_list = []\n",
    "errors = 0\n",
    "pctcount1 = 0\n",
    "for paper in paperlist:\n",
    "    pctcount1 +=1\n",
    "    pctval1 = pctcount1 / len(paperlist)\n",
    "    print('Percent complete all sources list: ' + \"{:.1%}\".format(pctval1))\n",
    "    r = requests.get(paper, headers=headers)\n",
    "    soup = BeautifulSoup(r.text, 'html.parser')\n",
    "    if (paper == \"http://retiredanalyst.blogspot.com/\"):\n",
    "        myelems = soup.findAll('h3')\n",
    "#         print(len(myelems))\n",
    "        pctcount2 = 0\n",
    "        for elem in myelems:\n",
    "            pctcount2 +=1\n",
    "            pctval2 = pctcount2 / len(myelems)\n",
    "#             print('Percent complete retired analyst list: ' + \"{:.1%}\".format(pctval2))\n",
    "            # usually there is no title in the retired analyst links, so have to go get those\n",
    "            url = elem.contents[1].get('href')\n",
    "            try:\n",
    "                r2 = requests.get(url, headers=headers)\n",
    "                soup2 = BeautifulSoup(r2.text, 'html.parser')\n",
    "                titletext = soup2.title.text\n",
    "                if not excluder(titletext.lower(), exclude_list):\n",
    "                    for checker in taglist:\n",
    "                        if checker.lower() in titletext.lower():\n",
    "    #                         print(checker, titletext)\n",
    "                            if tags_in_str(titletext.lower(), covid_tagdf):\n",
    "                                covid_list.append((titletext, url))\n",
    "#                             if checker.lower() in auth_taglist:\n",
    "                            if tags_in_str(titletext.lower(), auth_tagdf):\n",
    "                                auth_list.append((titletext, url))\n",
    "                            if checker.lower() in chinathreat_taglist:\n",
    "                                chinathreat_list.append((titletext, url))\n",
    "                            if checker.lower() in chrgroup_taglist:\n",
    "                                chrgroup_list.append((titletext, url))\n",
    "                            if checker.lower() in econ_taglist:\n",
    "                                econ_list.append((titletext, url))\n",
    "                            if checker.lower() in insurgency_taglist:\n",
    "                                insurgency_list.append((titletext, url))\n",
    "                            if checker.lower() in moro_taglist:\n",
    "                                moro_list.append((titletext, url))\n",
    "                            if checker.lower() in ncr_taglist:\n",
    "                                ncr_list.append((titletext, url))\n",
    "                            if checker.lower() in province_taglist:\n",
    "                                province_list.append((titletext, url))\n",
    "                            if checker.lower() in pulitika_taglist:\n",
    "                                    pulitika_list.append((titletext, url))\n",
    "                            \n",
    "            except:\n",
    "                errors += 1\n",
    "    else:\n",
    "        myelems = soup.findAll('a')\n",
    "        pctcount3 = 0\n",
    "        for elem in myelems:\n",
    "            pctcount3 +=1\n",
    "            pctval3 = pctcount3 / len(myelems)\n",
    "#             print('Percent complete ' + paper + ' list: ' + \"{:.1%}\".format(pctval3))\n",
    "            titletext = str(elem.get('title'))\n",
    "            if not excluder(titletext.lower(), exclude_list):\n",
    "                url = elem.get('href')\n",
    "                for checker in taglist:\n",
    "                    if checker.lower() in titletext.lower():\n",
    "    #                     print(checker, titletext)\n",
    "                        if tags_in_str(titletext.lower(), covid_tagdf):\n",
    "                            covid_list.append((titletext, url))\n",
    "                        if tags_in_str(titletext.lower(), auth_tagdf):\n",
    "                            auth_list.append((titletext, url))\n",
    "                        if checker.lower() in chinathreat_taglist:\n",
    "                            chinathreat_list.append((titletext, url))\n",
    "                        if checker.lower() in chrgroup_taglist:\n",
    "                            chrgroup_list.append((titletext, url))\n",
    "                        if checker.lower() in econ_taglist:\n",
    "                            econ_list.append((titletext, url))\n",
    "                        if checker.lower() in insurgency_taglist:\n",
    "                            insurgency_list.append((titletext, url))\n",
    "                        if checker.lower() in moro_taglist:\n",
    "                            moro_list.append((titletext, url))\n",
    "                        if checker.lower() in ncr_taglist:\n",
    "                            ncr_list.append((titletext, url))\n",
    "                        if checker.lower() in province_taglist:\n",
    "                            province_list.append((titletext, url))\n",
    "                        if checker.lower() in pulitika_taglist:\n",
    "                            pulitika_list.append((titletext, url))\n",
    "                        \n",
    "covid_list = list(set(covid_list))\n",
    "covid_list.sort()\n",
    "auth_list = list(set(auth_list))\n",
    "auth_list.sort()\n",
    "chinathreat_list = list(set(chinathreat_list))\n",
    "chinathreat_list.sort()\n",
    "chrgroup_list = list(set(chrgroup_list))\n",
    "chrgroup_list.sort()\n",
    "econ_list = list(set(econ_list))\n",
    "econ_list.sort()\n",
    "insurgency_list = list(set(insurgency_list))\n",
    "insurgency_list.sort()\n",
    "moro_list = list(set(moro_list))\n",
    "moro_list.sort()\n",
    "ncr_list = list(set(ncr_list))\n",
    "ncr_list.sort()\n",
    "province_list = list(set(province_list))\n",
    "province_list.sort()\n",
    "pulitika_list = list(set(pulitika_list))\n",
    "pulitika_list.sort()\n",
    "\n",
    "               \n",
    "hitlist = covid_list+ auth_list+ chinathreat_list+ chrgroup_list+ econ_list+ insurgency_list+ moro_list+ ncr_list+ province_list+ pulitika_list\n",
    "hitlist = list(set(hitlist))\n",
    "hitlist.sort()\n",
    "# sort_disp_list = [covid_list, auth_list, chinathreat_list, chrgroup_list, econ_list, insurgency_list, moro_list, ncr_list, province_list, pulitika_list]\n",
    "# for elem in hitlist:\n",
    "#     print(elem[0])\n",
    "#     print(elem[1])\n",
    "\n",
    "def display_links(header, newslist, errors):\n",
    "    print('\\n' + header)\n",
    "    hlist = [elem[1] for elem in newslist]\n",
    "\n",
    "    for newselem in newslist:\n",
    "        if newselem[0] == 'None':\n",
    "            try:\n",
    "                r = requests.get(newselem[1], headers=headers)\n",
    "                soup = BeautifulSoup(r.text, 'html.parser')\n",
    "                titletext = soup.title.text\n",
    "                reflink = \"<a href='\" + ilink + \"'> \" + titletext + \"</a>\"\n",
    "                html = HTML(reflink)\n",
    "                display(html)\n",
    "            except:\n",
    "                errors += 1\n",
    "        else:\n",
    "            reflink = \"<a href='\" + newselem[1] + \"'> \" + newselem[0] + \"</a>\"\n",
    "            html = HTML(reflink)\n",
    "            display(html)\n",
    "            \n",
    "    return errors\n",
    "\n",
    "\n",
    "errors = display_links(\"COVID-19 NEWS ITEMS: \", covid_list, errors)\n",
    "errors = display_links(\"AUTHORITARIANISM/ DEMOCRACY THREAT NEWS ITEMS: \", auth_list, errors)\n",
    "errors = display_links(\"CHINA THREAT TO THE PHILIPPINES NEWS ITEMS: \", chinathreat_list, errors)\n",
    "errors = display_links(\"CHRISTIAN AND RELIGIOUS GROUPS NEWS ITEMS: \", chrgroup_list, errors)\n",
    "errors = display_links(\"ECONOMY NEWS ITEMS: \", econ_list, errors)\n",
    "errors = display_links(\"INSURGENCY RELATED NEWS ITEMS: \", insurgency_list, errors)\n",
    "errors = display_links(\"MORO ISSUES RELATED NEWS ITEMS: \", moro_list, errors)\n",
    "errors = display_links(\"NATIONAL CAPITAL REGION RELATED NEWS ITEMS: \", ncr_list, errors)\n",
    "errors = display_links(\"PROVINCIAL NEWS ITEMS: \", covid_list, errors)\n",
    "errors = display_links(\"POLITICAL NEWS ITEMS: \", province_list, errors)\n",
    "print(\"Errors: \", errors)"
   ]
  },
  {
   "cell_type": "code",
   "execution_count": 7,
   "metadata": {},
   "outputs": [
    {
     "data": {
      "text/html": [
       "<a href='https://politics.com.ph/106th-anniversary-milestone-politikos-show-support-for-iglesia-ni-cristo/'> 106th anniversary milestone: Politikos show support for Iglesia ni Cristo</a>"
      ],
      "text/plain": [
       "<IPython.core.display.HTML object>"
      ]
     },
     "metadata": {},
     "output_type": "display_data"
    },
    {
     "data": {
      "text/html": [
       "<a href='https://www.eaglenews.ph/284-buses-under-edsa-busway-system-available-for-use-starting-today-july-29/'> 284 buses under Edsa Busway System available for use starting today, July 29</a>"
      ],
      "text/plain": [
       "<IPython.core.display.HTML object>"
      ]
     },
     "metadata": {},
     "output_type": "display_data"
    },
    {
     "data": {
      "text/html": [
       "<a href='https://www.manilatimes.net/2020/07/29/news/latest-stories/3-abu-sayyaf-members-in-abduction-of-jehovah-witness-followers-arrested/747610/'> 3 Abu Sayyaf members in abduction of Jehovah Witness followers arrested</a>"
      ],
      "text/plain": [
       "<IPython.core.display.HTML object>"
      ]
     },
     "metadata": {},
     "output_type": "display_data"
    },
    {
     "data": {
      "text/html": [
       "<a href='https://www.eaglenews.ph/5-6-magnitude-quake-hits-davao-oriental-on-sunday-morning/'> 5.6-magnitude quake hits Davao Oriental on Sunday morning</a>"
      ],
      "text/plain": [
       "<IPython.core.display.HTML object>"
      ]
     },
     "metadata": {},
     "output_type": "display_data"
    },
    {
     "data": {
      "text/html": [
       "<a href='https://www.mindanews.com/top-stories/2020/07/9-killed-as-army-troops-clash-with-biff/'> 9 killed as Army troops clash with BIFF</a>"
      ],
      "text/plain": [
       "<IPython.core.display.HTML object>"
      ]
     },
     "metadata": {},
     "output_type": "display_data"
    },
    {
     "data": {
      "text/html": [
       "<a href='https://politics.com.ph/abs-cbn-flouted-the-law-to-protect-business-cayetano/'> ABS-CBN flouted the law to protect business – Cayetano</a>"
      ],
      "text/plain": [
       "<IPython.core.display.HTML object>"
      ]
     },
     "metadata": {},
     "output_type": "display_data"
    },
    {
     "data": {
      "text/html": [
       "<a href='https://politics.com.ph/abs-cbn-president-carlo-katigbak-is-amazing-locsin-says/'> ABS-CBN president Carlo Katigbak is amazing, Locsin says</a>"
      ],
      "text/plain": [
       "<IPython.core.display.HTML object>"
      ]
     },
     "metadata": {},
     "output_type": "display_data"
    },
    {
     "data": {
      "text/html": [
       "<a href='https://www.manilatimes.net/2020/07/29/business/columnists-business/abs-cbns-shares-abs-cbn-holdings-pdrs/747334/'> ABS-CBN’s shares, ABS-CBN Holdings’ PDRs</a>"
      ],
      "text/plain": [
       "<IPython.core.display.HTML object>"
      ]
     },
     "metadata": {},
     "output_type": "display_data"
    },
    {
     "data": {
      "text/html": [
       "<a href='https://edgedavao.net/entrepreneurs/2019/04/18/atty-antonio-b-partoza-jr-creating-a-name-for-davao/'> ATTY. ANTONIO B. PARTOZA JR: CREATING A NAME FOR DAVAO</a>"
      ],
      "text/plain": [
       "<IPython.core.display.HTML object>"
      ]
     },
     "metadata": {},
     "output_type": "display_data"
    },
    {
     "data": {
      "text/html": [
       "<a href='http://davaotoday.com/main/human-rights/advocacy-groups-lawyers-file-10th-petition-vs-anti-terror-law/'> Advocacy groups, lawyers file 10th petition vs. anti-terror law</a>"
      ],
      "text/plain": [
       "<IPython.core.display.HTML object>"
      ]
     },
     "metadata": {},
     "output_type": "display_data"
    },
    {
     "data": {
      "text/html": [
       "<a href='https://www.mindanews.com/mindaviews/2020/06/bangsamoro-speaks-balance-compassion-and-discipline-and-at-the-same-uphold-the-rule-of-law/'> BANGSAMORO SPEAKS: Balance compassion and discipline and at the same, uphold the rule of law</a>"
      ],
      "text/plain": [
       "<IPython.core.display.HTML object>"
      ]
     },
     "metadata": {},
     "output_type": "display_data"
    },
    {
     "data": {
      "text/html": [
       "<a href='https://politics.com.ph/baka-magbago-isip-rtvm-readies-palace-setup-for-dutertes-sona/'> Baka magbago isip! RTVM readies Palace setup for Duterte’s SONA</a>"
      ],
      "text/plain": [
       "<IPython.core.display.HTML object>"
      ]
     },
     "metadata": {},
     "output_type": "display_data"
    },
    {
     "data": {
      "text/html": [
       "<a href='https://www.mindanews.com/peace-process/2020/06/bangsamoro-parliament-has-yet-to-act-on-resolution-expressing-grave-concern-over-proposed-anti-terrorism-act/'> Bangsamoro Parliament has yet to act on resolution expressing “grave concern” over proposed Anti-Terrorism Act</a>"
      ],
      "text/plain": [
       "<IPython.core.display.HTML object>"
      ]
     },
     "metadata": {},
     "output_type": "display_data"
    },
    {
     "data": {
      "text/html": [
       "<a href='https://www.manilatimes.net/2020/07/29/news/world/beijing-sees-stable-employment-rate/747422/'> Beijing sees stable employment rate</a>"
      ],
      "text/plain": [
       "<IPython.core.display.HTML object>"
      ]
     },
     "metadata": {},
     "output_type": "display_data"
    },
    {
     "data": {
      "text/html": [
       "<a href='https://politics.com.ph/bibira-tapos-mapipikon-mike-defensor-dares-critics-to-unfriend-him-over-abs-cbn/'> Bibira tapos mapipikon! Mike Defensor dares critics to ‘unfriend’ him over ABS-CBN</a>"
      ],
      "text/plain": [
       "<IPython.core.display.HTML object>"
      ]
     },
     "metadata": {},
     "output_type": "display_data"
    },
    {
     "data": {
      "text/html": [
       "<a href='https://politics.com.ph/bong-go-binida-duterte-praises-former-aide-for-malasakit-centers-creation/'> Bong Go binida: Duterte praises former aide for Malasakit Centers’ creation</a>"
      ],
      "text/plain": [
       "<IPython.core.display.HTML object>"
      ]
     },
     "metadata": {},
     "output_type": "display_data"
    },
    {
     "data": {
      "text/html": [
       "<a href='https://politics.com.ph/brave-angara-salutes-11-lawmakers-who-voted-for-abs-cbn-franchise/'> Brave! Angara salutes 11 lawmakers who voted for ABS-CBN franchise</a>"
      ],
      "text/plain": [
       "<IPython.core.display.HTML object>"
      ]
     },
     "metadata": {},
     "output_type": "display_data"
    },
    {
     "data": {
      "text/html": [
       "<a href='http://davaotoday.com/main/economy/cdo-firm-soon-to-provide-bulk-water-supply-in-cotabato-bislig/'> CDO firm soon to provide bulk water supply in Cotabato, Bislig</a>"
      ],
      "text/plain": [
       "<IPython.core.display.HTML object>"
      ]
     },
     "metadata": {},
     "output_type": "display_data"
    },
    {
     "data": {
      "text/html": [
       "<a href='https://www.eaglenews.ph/covid-19-cases-in-phl-reach-85486-with-1874-newly-announced-cases/'> COVID-19 cases in PHL reach 85,486 with 1874 newly-announced cases</a>"
      ],
      "text/plain": [
       "<IPython.core.display.HTML object>"
      ]
     },
     "metadata": {},
     "output_type": "display_data"
    },
    {
     "data": {
      "text/html": [
       "<a href='https://www.mindanews.com/peace-process/2020/01/ceasefire-holding-sison-says-he-is-ready-to-meet-duterte-in-hanoi/'> Ceasefire holding; Sison says he is ready to meet Duterte in Hanoi  </a>"
      ],
      "text/plain": [
       "<IPython.core.display.HTML object>"
      ]
     },
     "metadata": {},
     "output_type": "display_data"
    },
    {
     "data": {
      "text/html": [
       "<a href='https://www.mindanews.com/peace-process/2020/02/cotabato-city-seeks-exclusion-from-barmm-until-june-30-2022/'> Cotabato City seeks exclusion from BARMM until June 30, 2022</a>"
      ],
      "text/plain": [
       "<IPython.core.display.HTML object>"
      ]
     },
     "metadata": {},
     "output_type": "display_data"
    },
    {
     "data": {
      "text/html": [
       "<a href='https://www.theborneopost.com/2020/07/29/covid-19-13-new-positive-cases-recorded-in-malaysia-today-total-at-8956/'> Covid-19: 13 new positive cases recorded in Malaysia today, total at 8,956</a>"
      ],
      "text/plain": [
       "<IPython.core.display.HTML object>"
      ]
     },
     "metadata": {},
     "output_type": "display_data"
    },
    {
     "data": {
      "text/html": [
       "<a href='https://www.theborneopost.com/2020/07/29/covid-19-2-new-positive-cases-in-sarawak-today-both-close-contacts-of-current-clusters/'> Covid-19: 2 new positive cases in Sarawak today, both close contacts of current clusters</a>"
      ],
      "text/plain": [
       "<IPython.core.display.HTML object>"
      ]
     },
     "metadata": {},
     "output_type": "display_data"
    },
    {
     "data": {
      "text/html": [
       "<a href='https://politics.com.ph/dapa-na-dinudurog-pa-remulla-marcoleta-think-cordoba-not-doing-enough-to-take-down-abs-cbn-resign-or-face-ombudsman-case/'> Dapa na, dinudurog pa! Remulla, Marcoleta think Cordoba not doing enough to take down ABS-CBN: Resign or face Ombudsman case</a>"
      ],
      "text/plain": [
       "<IPython.core.display.HTML object>"
      ]
     },
     "metadata": {},
     "output_type": "display_data"
    },
    {
     "data": {
      "text/html": [
       "<a href='http://davaotoday.com/main/environment/davao-city-on-alert-for-tropical-depression-ambo/'> Davao City on alert for Tropical Depression Ambo</a>"
      ],
      "text/plain": [
       "<IPython.core.display.HTML object>"
      ]
     },
     "metadata": {},
     "output_type": "display_data"
    },
    {
     "data": {
      "text/html": [
       "<a href='http://davaotoday.com/main/politics/davao-activists-will-take-to-the-streets-on-dutertes-sona/'> Davao activists will take to the streets on Duterte’s SONA</a>"
      ],
      "text/plain": [
       "<IPython.core.display.HTML object>"
      ]
     },
     "metadata": {},
     "output_type": "display_data"
    },
    {
     "data": {
      "text/html": [
       "<a href='http://davaotoday.com/main/headline/davao-business-sector-still-divided-on-martial-rule/'> Davao business sector still divided on martial rule</a>"
      ],
      "text/plain": [
       "<IPython.core.display.HTML object>"
      ]
     },
     "metadata": {},
     "output_type": "display_data"
    },
    {
     "data": {
      "text/html": [
       "<a href='http://davaotoday.com/main/economy/health/davao-region-may-breach-1000-mark-for-covid-19-cases/'> Davao region may breach 1,000 mark for Covid-19 cases</a>"
      ],
      "text/plain": [
       "<IPython.core.display.HTML object>"
      ]
     },
     "metadata": {},
     "output_type": "display_data"
    },
    {
     "data": {
      "text/html": [
       "<a href='https://www.mindanews.com/business/2020/05/davao-tourism-suffers-huge-drop-in-revenues-due-to-covid-19/'> Davao tourism suffers ‘huge drop’ in revenues due to COVID-19</a>"
      ],
      "text/plain": [
       "<IPython.core.display.HTML object>"
      ]
     },
     "metadata": {},
     "output_type": "display_data"
    },
    {
     "data": {
      "text/html": [
       "<a href='http://davaotoday.com/main/economy/health/davao-bound-flights-to-require-covid-19-tests-from-passengers/'> Davao-bound flights to require Covid-19 tests from passengers</a>"
      ],
      "text/plain": [
       "<IPython.core.display.HTML object>"
      ]
     },
     "metadata": {},
     "output_type": "display_data"
    },
    {
     "data": {
      "text/html": [
       "<a href='https://politics.com.ph/di-dilawan-robredo-abs-cbn-was-unfair-to-me-too/'> Di dilawan? Robredo: ABS-CBN was unfair to me too</a>"
      ],
      "text/plain": [
       "<IPython.core.display.HTML object>"
      ]
     },
     "metadata": {},
     "output_type": "display_data"
    },
    {
     "data": {
      "text/html": [
       "<a href='https://politics.com.ph/drilon-hits-back-at-duterte-over-sona-outburst-i-was-defending-11000-abs-cbn-workers-who-will-lose-jobs/'> Drilon hits back at Duterte over SONA outburst: I was defending 11,000 ABS-CBN workers who will lose jobs</a>"
      ],
      "text/plain": [
       "<IPython.core.display.HTML object>"
      ]
     },
     "metadata": {},
     "output_type": "display_data"
    },
    {
     "data": {
      "text/html": [
       "<a href='https://politics.com.ph/duterte-asks-xi-jinping-access-to-coronavirus-vaccine/'> Duterte asks Xi Jinping access to coronavirus vaccine</a>"
      ],
      "text/plain": [
       "<IPython.core.display.HTML object>"
      ]
     },
     "metadata": {},
     "output_type": "display_data"
    },
    {
     "data": {
      "text/html": [
       "<a href='https://politics.com.ph/duterte-calls-for-probe-on-alleged-philhealth-anomalies/'> Duterte calls for probe on alleged PhilHealth anomalies</a>"
      ],
      "text/plain": [
       "<IPython.core.display.HTML object>"
      ]
     },
     "metadata": {},
     "output_type": "display_data"
    },
    {
     "data": {
      "text/html": [
       "<a href='https://politics.com.ph/duterte-echoes-marcoletas-move-to-evict-lopezes-from-abs-cbn-compound-yung-titulo-nila-lokohan/'> Duterte echoes Marcoleta’s move to evict Lopezes from ABS-CBN compound: Yung titulo nila, lokohan!</a>"
      ],
      "text/plain": [
       "<IPython.core.display.HTML object>"
      ]
     },
     "metadata": {},
     "output_type": "display_data"
    },
    {
     "data": {
      "text/html": [
       "<a href='https://www.mindanews.com/booksmindanews/2019/11/duterte-has-no-meranaw-roots-book-author-says/'> Duterte has no Meranaw roots, book author says</a>"
      ],
      "text/plain": [
       "<IPython.core.display.HTML object>"
      ]
     },
     "metadata": {},
     "output_type": "display_data"
    },
    {
     "data": {
      "text/html": [
       "<a href='https://politics.com.ph/duterte-picks-gilbert-gapay-as-new-afp-chief1/'> Duterte picks Gilbert Gapay as new AFP chief</a>"
      ],
      "text/plain": [
       "<IPython.core.display.HTML object>"
      ]
     },
     "metadata": {},
     "output_type": "display_data"
    },
    {
     "data": {
      "text/html": [
       "<a href='https://politics.com.ph/duterte-pushes-anew-for-death-penalty-revival/'> Duterte pushes anew for death penalty revival</a>"
      ],
      "text/plain": [
       "<IPython.core.display.HTML object>"
      ]
     },
     "metadata": {},
     "output_type": "display_data"
    },
    {
     "data": {
      "text/html": [
       "<a href='https://www.manilatimes.net/2020/07/29/news/latest-stories/duterte-reduces-real-property-taxes-of-independent-power-producers/747582/'> Duterte reduces real property taxes of independent power producers</a>"
      ],
      "text/plain": [
       "<IPython.core.display.HTML object>"
      ]
     },
     "metadata": {},
     "output_type": "display_data"
    },
    {
     "data": {
      "text/html": [
       "<a href='/Politics/International-relations/South-China-Sea/Duterte-says-Beijing-is-in-possession-of-South-China-Sea'> Duterte says Beijing is 'in possession' of South China Sea</a>"
      ],
      "text/plain": [
       "<IPython.core.display.HTML object>"
      ]
     },
     "metadata": {},
     "output_type": "display_data"
    },
    {
     "data": {
      "text/html": [
       "<a href='https://www.interaksyon.com/politics-issues/2020/07/27/173788/duterte-says-covid-19-intervention-prevented-millions-of-cases/'> Duterte says COVID-19 intervention prevented millions of cases</a>"
      ],
      "text/plain": [
       "<IPython.core.display.HTML object>"
      ]
     },
     "metadata": {},
     "output_type": "display_data"
    },
    {
     "data": {
      "text/html": [
       "<a href='https://www.interaksyon.com/politics-issues/2020/07/27/173785/duterte-philippines-cannot-confront-china-over-maritime-claims/'> Duterte says Philippines cannot confront China over maritime claims</a>"
      ],
      "text/plain": [
       "<IPython.core.display.HTML object>"
      ]
     },
     "metadata": {},
     "output_type": "display_data"
    },
    {
     "data": {
      "text/html": [
       "<a href='https://www.manilatimes.net/2020/07/29/opinion/columnists/topanalysis/duterte-takes-on-or-vows-to-take-on-the-oligarchs/747389/'> Duterte takes on, or vows to take on, the oligarchs</a>"
      ],
      "text/plain": [
       "<IPython.core.display.HTML object>"
      ]
     },
     "metadata": {},
     "output_type": "display_data"
    },
    {
     "data": {
      "text/html": [
       "<a href='https://www.interaksyon.com/politics-issues/2020/07/27/173780/duterte-threatens-closure-or-govt-takeover-of-lousy-telco-firm/'> Duterte threatens closure or gov’t takeover of ‘lousy’ telecom firm</a>"
      ],
      "text/plain": [
       "<IPython.core.display.HTML object>"
      ]
     },
     "metadata": {},
     "output_type": "display_data"
    },
    {
     "data": {
      "text/html": [
       "<a href='https://politics.com.ph/duterte-threatens-to-shut-down-smart-globe-if-lousy-services-continue/'> Duterte threatens to shut down Smart, Globe if ‘lousy’ services continue</a>"
      ],
      "text/plain": [
       "<IPython.core.display.HTML object>"
      ]
     },
     "metadata": {},
     "output_type": "display_data"
    },
    {
     "data": {
      "text/html": [
       "<a href='https://politics.com.ph/duterte-threatens-to-close-down-jt-express-wants-probe-into-alleged-cargo-mishandling/'> Duterte threatens to ‘close down’ J&T Express, wants probe into alleged cargo mishandling</a>"
      ],
      "text/plain": [
       "<IPython.core.display.HTML object>"
      ]
     },
     "metadata": {},
     "output_type": "display_data"
    },
    {
     "data": {
      "text/html": [
       "<a href='https://politics.com.ph/duterte-to-cebuanos-dont-fck-with-me-shape-up/'> Duterte to Cebuanos: ‘Don’t f*ck with me, shape up’</a>"
      ],
      "text/plain": [
       "<IPython.core.display.HTML object>"
      ]
     },
     "metadata": {},
     "output_type": "display_data"
    },
    {
     "data": {
      "text/html": [
       "<a href='https://politics.com.ph/duterte-to-certify-bill-extending-his-emergency-powers-vs-covid-19-as-urgent/'> Duterte to certify bill extending his emergency powers vs Covid-19 as urgent</a>"
      ],
      "text/plain": [
       "<IPython.core.display.HTML object>"
      ]
     },
     "metadata": {},
     "output_type": "display_data"
    },
    {
     "data": {
      "text/html": [
       "<a href='https://politics.com.ph/duterte-to-go-after-corrupt-grafters-influence-peddlers-who-made-a-killing-from-covid-donations-shortages/'> Duterte to go after corrupt, grafters influence peddlers who made a killing from COVID donations, shortages</a>"
      ],
      "text/plain": [
       "<IPython.core.display.HTML object>"
      ]
     },
     "metadata": {},
     "output_type": "display_data"
    },
    {
     "data": {
      "text/html": [
       "<a href='https://politics.com.ph/duterte-to-reveal-new-quarantine-rules-tomorrow/'> Duterte to reveal new quarantine rules tomorrow</a>"
      ],
      "text/plain": [
       "<IPython.core.display.HTML object>"
      ]
     },
     "metadata": {},
     "output_type": "display_data"
    },
    {
     "data": {
      "text/html": [
       "<a href='https://politics.com.ph/duterte-wants-third-telco-to-get-free-ride-on-globe-smart-cell-towers-trillanes/'> Duterte wants third telco to get free ride on Globe, Smart cell towers — Trillanes</a>"
      ],
      "text/plain": [
       "<IPython.core.display.HTML object>"
      ]
     },
     "metadata": {},
     "output_type": "display_data"
    },
    {
     "data": {
      "text/html": [
       "<a href='https://politics.com.ph/duterte-i-am-a-casualty-of-the-lopezes-during-2016-elections/'> Duterte: ‘I am a casualty of the Lopezes during 2016 elections’</a>"
      ],
      "text/plain": [
       "<IPython.core.display.HTML object>"
      ]
     },
     "metadata": {},
     "output_type": "display_data"
    },
    {
     "data": {
      "text/html": [
       "<a href='https://politics.com.ph/duty-sa-umaga-jobless-pag-uwi-ex-dzmm-reporter-reveals-ressas-hand-in-sacking-300-abs-cbn-employees/'> Duty sa umaga, jobless pag-uwi: Ex-DZMM reporter reveals Ressa’s hand in sacking 300 ABS-CBN employees</a>"
      ],
      "text/plain": [
       "<IPython.core.display.HTML object>"
      ]
     },
     "metadata": {},
     "output_type": "display_data"
    },
    {
     "data": {
      "text/html": [
       "<a href='https://edgedavao.net/feature/2019/12/22/edge-davaos-and-zions-candyland-party/'> Edge Davao’s and Zion’s Candyland party</a>"
      ],
      "text/plain": [
       "<IPython.core.display.HTML object>"
      ]
     },
     "metadata": {},
     "output_type": "display_data"
    },
    {
     "data": {
      "text/html": [
       "<a href='https://politics.com.ph/erin-tanada-sends-sympathies-over-death-of-abs-cbn-employee/'> Erin Tañada sends sympathies over death of ABS-CBN employee</a>"
      ],
      "text/plain": [
       "<IPython.core.display.HTML object>"
      ]
     },
     "metadata": {},
     "output_type": "display_data"
    },
    {
     "data": {
      "text/html": [
       "<a href='http://davaotoday.com/main/politics/full-text-2020-state-of-the-nation-address-of-president-rodrigo-duterte/'> FULL TEXT | 2020 State of the Nation Address of President Rodrigo Duterte</a>"
      ],
      "text/plain": [
       "<IPython.core.display.HTML object>"
      ]
     },
     "metadata": {},
     "output_type": "display_data"
    },
    {
     "data": {
      "text/html": [
       "<a href='https://politics.com.ph/fallout-from-a-vote-abs-cbn-franchise-backers-to-lose-posts1/'> Fallout from a vote: ABS-CBN franchise backers to lose posts</a>"
      ],
      "text/plain": [
       "<IPython.core.display.HTML object>"
      ]
     },
     "metadata": {},
     "output_type": "display_data"
    },
    {
     "data": {
      "text/html": [
       "<a href='https://www.interaksyon.com/politics-issues/2020/07/23/173506/for-harry-roque-more-than-70k-covid-19-cases-is-not-alarming-but-it-is-for-some-filipinos/'> For Harry Roque, the more than 70K COVID-19 cases is not ‘alarming.’ But it is for some Filipinos.</a>"
      ],
      "text/plain": [
       "<IPython.core.display.HTML object>"
      ]
     },
     "metadata": {},
     "output_type": "display_data"
    },
    {
     "data": {
      "text/html": [
       "<a href='https://www.mindanews.com/top-stories/2020/07/from-sleeping-on-soft-beds-to-sleeping-on-mats-on-the-floor-marawi-bakwits/'> From sleeping on soft beds to sleeping on mats on the floor – Marawi ‘bakwits’</a>"
      ],
      "text/plain": [
       "<IPython.core.display.HTML object>"
      ]
     },
     "metadata": {},
     "output_type": "display_data"
    },
    {
     "data": {
      "text/html": [
       "<a href='https://www.interaksyon.com/trends-spotlights/2020/07/27/173660/from-veerus-to-oligarch-sona-2020-drinking-game-lists-down-unofficial-words-expected-in-dutertes-speech/'> From veerus to oligarch: ‘SONA 2020 drinking game’ lists down unofficial words expected in Duterte’s speech</a>"
      ],
      "text/plain": [
       "<IPython.core.display.HTML object>"
      ]
     },
     "metadata": {},
     "output_type": "display_data"
    },
    {
     "data": {
      "text/html": [
       "<a href='https://politics.com.ph/gawa-lang-sa-recto-titulo-marcoleta-seeks-probe-into-abs-cbns-ownership-of-qc-property/'> Gawa lang sa Recto titulo? Marcoleta seeks probe into ABS-CBN’s ownership of QC property</a>"
      ],
      "text/plain": [
       "<IPython.core.display.HTML object>"
      ]
     },
     "metadata": {},
     "output_type": "display_data"
    },
    {
     "data": {
      "text/html": [
       "<a href='https://politics.com.ph/goodbye-frequencies-marcoleta-says-unlikely-for-abs-cbn-to-be-granted-franchise-beyond-2022-paano-kung-may-ibang-binigyan-gobyerno/'> Goodbye frequencies! Marcoleta says unlikely for ABS-CBN to be granted franchise beyond 2022: Paano kung may ibang binigyan gobyerno?</a>"
      ],
      "text/plain": [
       "<IPython.core.display.HTML object>"
      ]
     },
     "metadata": {},
     "output_type": "display_data"
    },
    {
     "data": {
      "text/html": [
       "<a href='https://politics.com.ph/gordon-defends-drilon-from-dutertes-sona-outrage-unpresidential/'> Gordon defends Drilon from Duterte’s SONA outrage: ‘Unpresidential’</a>"
      ],
      "text/plain": [
       "<IPython.core.display.HTML object>"
      ]
     },
     "metadata": {},
     "output_type": "display_data"
    },
    {
     "data": {
      "text/html": [
       "<a href='https://politics.com.ph/gretchen-barretto-still-a-duterte-loyalist-silent-on-abs-cbn-franchise-denial/'> Gretchen Barretto still a Duterte loyalist, silent on ABS-CBN franchise denial</a>"
      ],
      "text/plain": [
       "<IPython.core.display.HTML object>"
      ]
     },
     "metadata": {},
     "output_type": "display_data"
    },
    {
     "data": {
      "text/html": [
       "<a href='https://philnews.ph/2020/07/28/harry-roque-rates-president-duterte/'> Harry Roque Rates President Duterte: “Sa akin po, 9 out of 10 ang grado”</a>"
      ],
      "text/plain": [
       "<IPython.core.display.HTML object>"
      ]
     },
     "metadata": {},
     "output_type": "display_data"
    },
    {
     "data": {
      "text/html": [
       "<a href='https://www.eaglenews.ph/historians-observers-note-106-years-of-iglesia-ni-cristos-unprecedented-growth-efforts-to-help-worldwide/'> Historians, observers note 106 years of Iglesia Ni Cristo’s unprecedented growth, efforts to help worldwide</a>"
      ],
      "text/plain": [
       "<IPython.core.display.HTML object>"
      ]
     },
     "metadata": {},
     "output_type": "display_data"
    },
    {
     "data": {
      "text/html": [
       "<a href='http://davaotoday.com/main/todays-views/how-is-the-duterte-regime-normalizing-the-filipino-suffering-part-1/'> How is the Duterte regime normalizing the Filipino suffering? (Part 1)</a>"
      ],
      "text/plain": [
       "<IPython.core.display.HTML object>"
      ]
     },
     "metadata": {},
     "output_type": "display_data"
    },
    {
     "data": {
      "text/html": [
       "<a href='http://davaotoday.com/main/todays-views/how-is-the-duterte-regime-normalizing-the-filipino-suffering-part-2/'> How is the Duterte regime normalizing the Filipino suffering? (Part 2)</a>"
      ],
      "text/plain": [
       "<IPython.core.display.HTML object>"
      ]
     },
     "metadata": {},
     "output_type": "display_data"
    },
    {
     "data": {
      "text/html": [
       "<a href='http://davaotoday.com/main/culture-2/how-the-lumad-learned-to-survive-in-haran/'> How the Lumad learned to survive in Haran</a>"
      ],
      "text/plain": [
       "<IPython.core.display.HTML object>"
      ]
     },
     "metadata": {},
     "output_type": "display_data"
    },
    {
     "data": {
      "text/html": [
       "<a href='https://www.interaksyon.com/politics-issues/2020/07/27/173723/how-the-massive-sonagkaisa-protest-vs-duterte-govt-was-organized/'> How the massive #SONAgkaisa protest vs Duterte gov’t was organized</a>"
      ],
      "text/plain": [
       "<IPython.core.display.HTML object>"
      ]
     },
     "metadata": {},
     "output_type": "display_data"
    },
    {
     "data": {
      "text/html": [
       "<a href='https://edgedavao.net/suburbia/2020/01/04/humanitarian-mission-provides-relief-in-davao-del-sur/'> Humanitarian mission provides relief in Davao del Sur</a>"
      ],
      "text/plain": [
       "<IPython.core.display.HTML object>"
      ]
     },
     "metadata": {},
     "output_type": "display_data"
    },
    {
     "data": {
      "text/html": [
       "<a href='https://politics.com.ph/hypocrite-drilon-knows-congress-will-not-pass-anti-dynasty-law-duterte/'> Hypocrite! Drilon knows Congress will not pass anti-dynasty law – Duterte</a>"
      ],
      "text/plain": [
       "<IPython.core.display.HTML object>"
      ]
     },
     "metadata": {},
     "output_type": "display_data"
    },
    {
     "data": {
      "text/html": [
       "<a href='https://www.eaglenews.ph/iatf-says-gyms-review-centers-internet-shops-may-operate-at-30-capacity-in-gcq-areas-starting-aug-1-dti/'> IATF says gyms, review centers, Internet shops can operate at 30% capacity in GCQ areas starting Aug. 1: DTI</a>"
      ],
      "text/plain": [
       "<IPython.core.display.HTML object>"
      ]
     },
     "metadata": {},
     "output_type": "display_data"
    },
    {
     "data": {
      "text/html": [
       "<a href='https://www.mindanews.com/mindaviews/2020/07/integral-ecology-a-liberative-approach-to-the-evangelization-of-indigenous-cultures-2/'> INTEGRAL ECOLOGY: A Liberative Approach to the Evangelization of Indigenous Cultures (2)</a>"
      ],
      "text/plain": [
       "<IPython.core.display.HTML object>"
      ]
     },
     "metadata": {},
     "output_type": "display_data"
    },
    {
     "data": {
      "text/html": [
       "<a href='https://www.eaglenews.ph/iglesia-ni-cristo-church-of-christ-in-hawaii-conducts-contact-free-aid-to-humanity-during-covid-19-crisis/'> Iglesia Ni Cristo (Church Of Christ) in Hawaii conducts contact-free Aid to Humanity during COVID-19 crisis</a>"
      ],
      "text/plain": [
       "<IPython.core.display.HTML object>"
      ]
     },
     "metadata": {},
     "output_type": "display_data"
    },
    {
     "data": {
      "text/html": [
       "<a href='https://www.eaglenews.ph/iglesia-ni-cristo-in-taiwan-holds-lingap-for-ofws/'> Iglesia Ni Cristo in Taiwan holds “Lingap for OFWs”</a>"
      ],
      "text/plain": [
       "<IPython.core.display.HTML object>"
      ]
     },
     "metadata": {},
     "output_type": "display_data"
    },
    {
     "data": {
      "text/html": [
       "<a href='https://www.mindanews.com/top-stories/2020/07/in-march-duterte-vowed-to-be-on-top-of-marawi-rehab-in-july-mum-on-marawi/'> In March, Duterte vowed to be “on top” of Marawi rehab; in July, mum on Marawi</a>"
      ],
      "text/plain": [
       "<IPython.core.display.HTML object>"
      ]
     },
     "metadata": {},
     "output_type": "display_data"
    },
    {
     "data": {
      "text/html": [
       "<a href='https://www.eaglenews.ph/in-photos-president-duterte-undergoes-covid-19-test-along-with-sen-bong-go/'> In photos:  President Duterte undergoes COVID-19 test, along with Sen. Bong Go</a>"
      ],
      "text/plain": [
       "<IPython.core.display.HTML object>"
      ]
     },
     "metadata": {},
     "output_type": "display_data"
    },
    {
     "data": {
      "text/html": [
       "<a href='https://www.eaglenews.ph/in-photos-iglesia-ni-cristo-starts-lingap-sa-mamamayan-to-help-those-affected-by-mindanao-quakes/'> In photos: Iglesia Ni Cristo starts “Lingap sa Mamamayan” to help those affected by Mindanao quakes</a>"
      ],
      "text/plain": [
       "<IPython.core.display.HTML object>"
      ]
     },
     "metadata": {},
     "output_type": "display_data"
    },
    {
     "data": {
      "text/html": [
       "<a href='https://www.eaglenews.ph/in-photos-president-duterte-speaks-to-chinese-leader-xi-over-the-phone/'> In photos: President Duterte speaks to Chinese leader Xi over the phone</a>"
      ],
      "text/plain": [
       "<IPython.core.display.HTML object>"
      ]
     },
     "metadata": {},
     "output_type": "display_data"
    },
    {
     "data": {
      "text/html": [
       "<a href='https://www.manilatimes.net/2020/07/29/business/business-top/inflation-forecast-to-average-2-3-in-2020/747437/'> Inflation forecast to average 2.3% in 2020</a>"
      ],
      "text/plain": [
       "<IPython.core.display.HTML object>"
      ]
     },
     "metadata": {},
     "output_type": "display_data"
    },
    {
     "data": {
      "text/html": [
       "<a href='https://politics.com.ph/inosente-ang-peg-cayetano-accuses-abs-cbn-of-spinning-franchise-bid-coverage-in-its-favor/'> Inosente ang peg! Cayetano accuses ABS-CBN of spinning franchise bid coverage in its favor</a>"
      ],
      "text/plain": [
       "<IPython.core.display.HTML object>"
      ]
     },
     "metadata": {},
     "output_type": "display_data"
    },
    {
     "data": {
      "text/html": [
       "<a href='http://davaotoday.com/main/davao-city/investors-organize-1st-branch-in-davao/'> Investors organize 1st branch in Davao</a>"
      ],
      "text/plain": [
       "<IPython.core.display.HTML object>"
      ]
     },
     "metadata": {},
     "output_type": "display_data"
    },
    {
     "data": {
      "text/html": [
       "<a href='https://politics.com.ph/is-nuclear-power-feasible-duterte-wants-to-know/'> Is nuclear power feasible? Duterte wants to know</a>"
      ],
      "text/plain": [
       "<IPython.core.display.HTML object>"
      ]
     },
     "metadata": {},
     "output_type": "display_data"
    },
    {
     "data": {
      "text/html": [
       "<a href='https://edgedavao.net/suburbia/2019/11/15/isolated-lumads-hail-govt-attention-care/'> Isolated Lumads hail gov’t attention, care</a>"
      ],
      "text/plain": [
       "<IPython.core.display.HTML object>"
      ]
     },
     "metadata": {},
     "output_type": "display_data"
    },
    {
     "data": {
      "text/html": [
       "<a href='https://www.manilatimes.net/2020/07/23/business/agribusiness/knowledge-economy-to-boost-food-security/744522/'> Knowledge economy to boost food security</a>"
      ],
      "text/plain": [
       "<IPython.core.display.HTML object>"
      ]
     },
     "metadata": {},
     "output_type": "display_data"
    },
    {
     "data": {
      "text/html": [
       "<a href='https://politics.com.ph/laglagan-na-robredo-to-govt-spare-11k-workers-let-lopezes-be-liable-for-abs-cbns-violations/'> Laglagan na! Robredo to gov’t: Spare 11K workers, let Lopezes be liable for ABS-CBN’s ‘violations’</a>"
      ],
      "text/plain": [
       "<IPython.core.display.HTML object>"
      ]
     },
     "metadata": {},
     "output_type": "display_data"
    },
    {
     "data": {
      "text/html": [
       "<a href='https://politics.com.ph/lahat-panalo-win-gatchalian-urges-govt-accept-abs-cbns-offer-on-distance-learning/'> Lahat panalo! Win Gatchalian urges gov’t: Accept ABS-CBN’s offer on distance learning</a>"
      ],
      "text/plain": [
       "<IPython.core.display.HTML object>"
      ]
     },
     "metadata": {},
     "output_type": "display_data"
    },
    {
     "data": {
      "text/html": [
       "<a href='https://politics.com.ph/1lawmaker-takes-offense-at-noted-abs-cbn-news-top-boss-does-a-kiko-pangilinan/'> Lawmaker takes offense at ‘noted’: ABS-CBN News’ top boss does a Kiko Pangilinan</a>"
      ],
      "text/plain": [
       "<IPython.core.display.HTML object>"
      ]
     },
     "metadata": {},
     "output_type": "display_data"
    },
    {
     "data": {
      "text/html": [
       "<a href='https://www.interaksyon.com/rumor-cop/2020/07/28/173887/local-artist-hulyen-seeks-help-to-report-facebook-page-that-used-her-art-for-red-tagging/'> Local artist Hulyen seeks help to report Facebook page that used her art for ‘red-tagging’</a>"
      ],
      "text/plain": [
       "<IPython.core.display.HTML object>"
      ]
     },
     "metadata": {},
     "output_type": "display_data"
    },
    {
     "data": {
      "text/html": [
       "<a href='https://www.interaksyon.com/politics-issues/2020/07/27/173761/lopezes-death-penalty-china-filipinos-note-top-three-topics-tackled-by-duterte-5th-sona/'> Lopezes, death penalty, China: Filipinos note top three topics tackled by Duterte in 5th SONA</a>"
      ],
      "text/plain": [
       "<IPython.core.display.HTML object>"
      ]
     },
     "metadata": {},
     "output_type": "display_data"
    },
    {
     "data": {
      "text/html": [
       "<a href='https://politics.com.ph/magaling-man-sabit-din-nbi-nabs-hacker-who-shared-baste-dutertes-address/'> Magaling man sabit din! NBI nabs hacker who shared Baste Duterte’s address</a>"
      ],
      "text/plain": [
       "<IPython.core.display.HTML object>"
      ]
     },
     "metadata": {},
     "output_type": "display_data"
    },
    {
     "data": {
      "text/html": [
       "<a href='http://davaotoday.com/main/human-rights/malaybalay-police-apologizes-for-info-drive-error-targeting-journalists/'> Malaybalay police apologizes for info-drive error targeting journalists</a>"
      ],
      "text/plain": [
       "<IPython.core.display.HTML object>"
      ]
     },
     "metadata": {},
     "output_type": "display_data"
    },
    {
     "data": {
      "text/html": [
       "<a href='https://politics.com.ph/marcos-is-a-distant-star-duterte-gives-up-finding-farmers-behind-coco-levy-funds-tells-congress-to-sort-it-out-again/'> Marcos is a distant star: Duterte gives up finding farmers behind coco levy funds, tells Congress to sort it out again</a>"
      ],
      "text/plain": [
       "<IPython.core.display.HTML object>"
      ]
     },
     "metadata": {},
     "output_type": "display_data"
    },
    {
     "data": {
      "text/html": [
       "<a href='https://politics.com.ph/may-blocktime-deal-kuno-boying-remulla-trains-guns-on-abs-cbn-dummy/'> May blocktime deal kuno! Boying Remulla trains guns on ABS-CBN ‘dummy’</a>"
      ],
      "text/plain": [
       "<IPython.core.display.HTML object>"
      ]
     },
     "metadata": {},
     "output_type": "display_data"
    },
    {
     "data": {
      "text/html": [
       "<a href='http://davaotoday.com/main/headline/misor-wants-final-version-of-iatf-guidelines-on-backriding-policy/'> MisOr wants final version of IATF guidelines on backriding policy</a>"
      ],
      "text/plain": [
       "<IPython.core.display.HTML object>"
      ]
     },
     "metadata": {},
     "output_type": "display_data"
    },
    {
     "data": {
      "text/html": [
       "<a href='http://davaotoday.com/main/headline/most-davao-businesses-dont-have-continuity-plan-pcci/'> Most Davao businesses don’t have continuity plan – PCCI</a>"
      ],
      "text/plain": [
       "<IPython.core.display.HTML object>"
      ]
     },
     "metadata": {},
     "output_type": "display_data"
    },
    {
     "data": {
      "text/html": [
       "<a href='https://edgedavao.net/the-big-news/2020/06/26/most-stranded-individuals-are-davao-bound-airline-exec/'> Most stranded individuals are  Davao-bound: airline exec</a>"
      ],
      "text/plain": [
       "<IPython.core.display.HTML object>"
      ]
     },
     "metadata": {},
     "output_type": "display_data"
    },
    {
     "data": {
      "text/html": [
       "<a href='https://politics.com.ph/nilaro-nila-bayan-ko-duterte-claims-lopez-family-has-too-much-influence-on-elections/'> Nilaro nila bayan ko! Duterte claims Lopez family has too much influence on elections</a>"
      ],
      "text/plain": [
       "<IPython.core.display.HTML object>"
      ]
     },
     "metadata": {},
     "output_type": "display_data"
    },
    {
     "data": {
      "text/html": [
       "<a href='http://davaotoday.com/main/politics/no-rights-violations-in-martial-law-marawi-survivor-says-otherwise/'> No rights violations in Martial Law? Marawi survivor says otherwise</a>"
      ],
      "text/plain": [
       "<IPython.core.display.HTML object>"
      ]
     },
     "metadata": {},
     "output_type": "display_data"
    },
    {
     "data": {
      "text/html": [
       "<a href='https://politics.com.ph/not-so-fast-inc-cbcp-has-best-shot-at-getting-abs-cbn-frequency-find-out-how/'> Not so fast INC: CBCP has best shot at getting ABS-CBN frequency. Find out how</a>"
      ],
      "text/plain": [
       "<IPython.core.display.HTML object>"
      ]
     },
     "metadata": {},
     "output_type": "display_data"
    },
    {
     "data": {
      "text/html": [
       "<a href='https://politics.com.ph/ok-pa-ba-siya-sc-prodded-anew-on-status-of-dutertes-health/'> OK pa ba siya? SC prodded anew on status of Duterte’s health</a>"
      ],
      "text/plain": [
       "<IPython.core.display.HTML object>"
      ]
     },
     "metadata": {},
     "output_type": "display_data"
    },
    {
     "data": {
      "text/html": [
       "<a href='https://www.mindanews.com/mindaviews/2020/07/our-marawi-fake-news-walang-human-rights-violation-sa-martial-law-ni-duterte-sabi-nya-sa-kanyang-sona/'> OUR MARAWI:  Fake News: Walang Human rights Violation sa Martial Law ni Duterte sabi nya sa kanyang SONA</a>"
      ],
      "text/plain": [
       "<IPython.core.display.HTML object>"
      ]
     },
     "metadata": {},
     "output_type": "display_data"
    },
    {
     "data": {
      "text/html": [
       "<a href='https://www.eaglenews.ph/phl-ambassador-to-the-us-greets-iglesia-ni-cristo-on-106th-anniversary/'> PHL Ambassador to the US greets Iglesia Ni Cristo on 106th anniversary</a>"
      ],
      "text/plain": [
       "<IPython.core.display.HTML object>"
      ]
     },
     "metadata": {},
     "output_type": "display_data"
    },
    {
     "data": {
      "text/html": [
       "<a href='https://www.manilatimes.net/2020/07/29/business/business-top/psei-recovers-on-bargain-hunting-2/747424/'> PSEi recovers on bargain hunting</a>"
      ],
      "text/plain": [
       "<IPython.core.display.HTML object>"
      ]
     },
     "metadata": {},
     "output_type": "display_data"
    },
    {
     "data": {
      "text/html": [
       "<a href='https://politics.com.ph/pagod-na-ang-tao-binay-asks-duterte-to-present-clear-step-by-step-roadmap-out-of-coronavirus-pandemic/'> Pagod na ang tao: Binay asks Duterte to present ‘clear step-by-step roadmap’ out of coronavirus pandemic</a>"
      ],
      "text/plain": [
       "<IPython.core.display.HTML object>"
      ]
     },
     "metadata": {},
     "output_type": "display_data"
    },
    {
     "data": {
      "text/html": [
       "<a href='https://politics.com.ph/pakitang-tao-pagbabasa-ni-cayetano-ng-bibliya-winnie-monsod-abs-cbns-franchise-bid-killed-coz-house-lacks-conscience/'> Pakitang tao pagbabasa ni Cayetano ng Bibliya! Winnie Monsod: ABS-CBN’s franchise bid killed ‘coz House lacks conscience</a>"
      ],
      "text/plain": [
       "<IPython.core.display.HTML object>"
      ]
     },
     "metadata": {},
     "output_type": "display_data"
    },
    {
     "data": {
      "text/html": [
       "<a href='https://politics.com.ph/palace-foils-cayetanos-alleged-plan-to-bar-velasco-in-dutertes-5th-sona/'> Palace foils Cayetano’s alleged plan to bar Velasco in Duterte’s 5th SONA</a>"
      ],
      "text/plain": [
       "<IPython.core.display.HTML object>"
      ]
     },
     "metadata": {},
     "output_type": "display_data"
    },
    {
     "data": {
      "text/html": [
       "<a href='https://politics.com.ph/palace-on-duterte-failure-to-detail-covid-19-recovery-plan-bingi-sila/'> Palace on Duterte failure to detail Covid-19 recovery plan: ‘Bingi sila’</a>"
      ],
      "text/plain": [
       "<IPython.core.display.HTML object>"
      ]
     },
     "metadata": {},
     "output_type": "display_data"
    },
    {
     "data": {
      "text/html": [
       "<a href='https://politics.com.ph/pangilinan-opposes-dutertes-push-to-revive-death-penalty-dapat-i-lethal-injection-covid-19/'> Pangilinan opposes Duterte’s push to revive death penalty: Dapat i-lethal injection COVID-19!</a>"
      ],
      "text/plain": [
       "<IPython.core.display.HTML object>"
      ]
     },
     "metadata": {},
     "output_type": "display_data"
    },
    {
     "data": {
      "text/html": [
       "<a href='https://politics.com.ph/pass-proposed-bayanihan-to-recover-as-one-act-duterte-tells-congress/'> Pass proposed Bayanihan to Recover As One Act, Duterte tells Congress</a>"
      ],
      "text/plain": [
       "<IPython.core.display.HTML object>"
      ]
     },
     "metadata": {},
     "output_type": "display_data"
    },
    {
     "data": {
      "text/html": [
       "<a href='https://politics.com.ph/patong-patong-uli-patay-duterte-warns-criminals-to-lie-low-as-long-as-hes-president/'> Patong-patong uli patay! Duterte warns criminals  to lie low as long as he’s president</a>"
      ],
      "text/plain": [
       "<IPython.core.display.HTML object>"
      ]
     },
     "metadata": {},
     "output_type": "display_data"
    },
    {
     "data": {
      "text/html": [
       "<a href='https://www.interaksyon.com/trends-spotlights/2020/07/28/173791/people-were-trying-to-spot-joyce-bernals-flavor-to-dutertes-5th-sona/'> People were trying to spot Joyce Bernal’s ‘flavor’ to Duterte’s 5th SONA</a>"
      ],
      "text/plain": [
       "<IPython.core.display.HTML object>"
      ]
     },
     "metadata": {},
     "output_type": "display_data"
    },
    {
     "data": {
      "text/html": [
       "<a href='https://www.benarnews.org/english/news/philippine/anti-terror-law-07072020132111.html'> Philippines: Leaders of Autonomous Region Covet Seat on Anti-Terror Council</a>"
      ],
      "text/plain": [
       "<IPython.core.display.HTML object>"
      ]
     },
     "metadata": {},
     "output_type": "display_data"
    },
    {
     "data": {
      "text/html": [
       "<a href='https://politics.com.ph/ping-says-duterte-faces-tough-task-effecting-economic-recovery-in-last-2-years-pero-hindi-siya-lame-duck/'> Ping says Duterte faces tough task effecting economic recovery in last 2 years: Pero hindi siya lame duck!</a>"
      ],
      "text/plain": [
       "<IPython.core.display.HTML object>"
      ]
     },
     "metadata": {},
     "output_type": "display_data"
    },
    {
     "data": {
      "text/html": [
       "<a href='https://www.manilatimes.net/author/lito-lorenzana/'> Posts by Lito Monico C. Lorenzana</a>"
      ],
      "text/plain": [
       "<IPython.core.display.HTML object>"
      ]
     },
     "metadata": {},
     "output_type": "display_data"
    },
    {
     "data": {
      "text/html": [
       "<a href='https://www.eaglenews.ph/pres-duterte-greets-iglesia-ni-cristo-on-106th-year-thanks-church-for-prayers-and-help-to-the-nation/'> Pres. Duterte greets Iglesia Ni Cristo on 106th year; thanks Church for prayers and help to the nation</a>"
      ],
      "text/plain": [
       "<IPython.core.display.HTML object>"
      ]
     },
     "metadata": {},
     "output_type": "display_data"
    },
    {
     "data": {
      "text/html": [
       "<a href='https://www.eaglenews.ph/president-duterte-orders-study-on-possible-inclusion-of-nuclear-energy-in-phls-power-generation-mix/'> President Duterte orders study on possible inclusion of nuclear energy in PHL’s power generation mix</a>"
      ],
      "text/plain": [
       "<IPython.core.display.HTML object>"
      ]
     },
     "metadata": {},
     "output_type": "display_data"
    },
    {
     "data": {
      "text/html": [
       "<a href='https://politics.com.ph/live_streaming/president-rodrigo-duterte-addresses-the-public-may-25-2020/'> President Rodrigo Duterte addresses the public May 25, 2020</a>"
      ],
      "text/plain": [
       "<IPython.core.display.HTML object>"
      ]
     },
     "metadata": {},
     "output_type": "display_data"
    },
    {
     "data": {
      "text/html": [
       "<a href='https://politics.com.ph/live_streaming/president-rodrigo-duterte-addresses-the-public-may-28-2020/'> President Rodrigo Duterte addresses the public May 28, 2020</a>"
      ],
      "text/plain": [
       "<IPython.core.display.HTML object>"
      ]
     },
     "metadata": {},
     "output_type": "display_data"
    },
    {
     "data": {
      "text/html": [
       "<a href='https://politics.com.ph/live_streaming/president-rodrigo-roa-dutertes-5th-state-of-the-nation-address/'> President Rodrigo Roa Duterte’s 5th State of the Nation Address</a>"
      ],
      "text/plain": [
       "<IPython.core.display.HTML object>"
      ]
     },
     "metadata": {},
     "output_type": "display_data"
    },
    {
     "data": {
      "text/html": [
       "<a href='http://davaotoday.com/main/politics/rallies-held-in-dutertes-hometown-vs-sona/'> Rallies held in Duterte’s hometown vs SONA</a>"
      ],
      "text/plain": [
       "<IPython.core.display.HTML object>"
      ]
     },
     "metadata": {},
     "output_type": "display_data"
    },
    {
     "data": {
      "text/html": [
       "<a href='http://retiredanalyst.blogspot.com/2020/07/2-npas-2-militiamen-surrender-in-isabela.html'> Retired Analyst: 2 NPAs, 2 militiamen surrender in Isabela </a>"
      ],
      "text/plain": [
       "<IPython.core.display.HTML object>"
      ]
     },
     "metadata": {},
     "output_type": "display_data"
    },
    {
     "data": {
      "text/html": [
       "<a href='http://retiredanalyst.blogspot.com/2020/07/body-of-dead-npa-found-in-surigao-del.html'> Retired Analyst: Body of dead NPA found in Surigao del Sur</a>"
      ],
      "text/plain": [
       "<IPython.core.display.HTML object>"
      ]
     },
     "metadata": {},
     "output_type": "display_data"
    },
    {
     "data": {
      "text/html": [
       "<a href='http://retiredanalyst.blogspot.com/2020/07/china-is-pushing-its-south-china-sea.html'> Retired Analyst: China is pushing its South China Sea claims during the coronavirus pandemic — this is what the tensions are about</a>"
      ],
      "text/plain": [
       "<IPython.core.display.HTML object>"
      ]
     },
     "metadata": {},
     "output_type": "display_data"
    },
    {
     "data": {
      "text/html": [
       "<a href='http://retiredanalyst.blogspot.com/2020/07/duterte-rejects-reported-plan-of.html'> Retired Analyst: Duterte rejects reported plan of Americans to return to Subic </a>"
      ],
      "text/plain": [
       "<IPython.core.display.HTML object>"
      ]
     },
     "metadata": {},
     "output_type": "display_data"
    },
    {
     "data": {
      "text/html": [
       "<a href='http://retiredanalyst.blogspot.com/2020/07/npa-camp-in-negros-occ-falls-to-army.html'> Retired Analyst: NPA camp in Negros Occ falls to Army troop</a>"
      ],
      "text/plain": [
       "<IPython.core.display.HTML object>"
      ]
     },
     "metadata": {},
     "output_type": "display_data"
    },
    {
     "data": {
      "text/html": [
       "<a href='http://retiredanalyst.blogspot.com/2020/07/from-philippine-news-agency-jul-28-2020.html'> Retired Analyst: RIMPAC stint to help PH Navy develop surface warfare doctrines</a>"
      ],
      "text/plain": [
       "<IPython.core.display.HTML object>"
      ]
     },
     "metadata": {},
     "output_type": "display_data"
    },
    {
     "data": {
      "text/html": [
       "<a href='http://retiredanalyst.blogspot.com/2020/07/rimpac-stint-to-help-ph-navy-develop.html'> Retired Analyst: RIMPAC stint to help PH Navy develop surface warfare doctrines </a>"
      ],
      "text/plain": [
       "<IPython.core.display.HTML object>"
      ]
     },
     "metadata": {},
     "output_type": "display_data"
    },
    {
     "data": {
      "text/html": [
       "<a href='http://retiredanalyst.blogspot.com/2020/07/skeletal-remains-of-npas-get-decent.html'> Retired Analyst: Skeletal remains of NPAs get decent burial in N. Samar </a>"
      ],
      "text/plain": [
       "<IPython.core.display.HTML object>"
      ]
     },
     "metadata": {},
     "output_type": "display_data"
    },
    {
     "data": {
      "text/html": [
       "<a href='http://retiredanalyst.blogspot.com/2020/07/training-programs-seen-to-boost.html'> Retired Analyst: Training programs seen to boost productivity in NPA-influenced brgy</a>"
      ],
      "text/plain": [
       "<IPython.core.display.HTML object>"
      ]
     },
     "metadata": {},
     "output_type": "display_data"
    },
    {
     "data": {
      "text/html": [
       "<a href='http://retiredanalyst.blogspot.com/2020/07/westmincom-soldiers-clash-with-ctg.html'> Retired Analyst: WESTMINCOM: Soldiers clash with CTG members in Sultan Kudarat</a>"
      ],
      "text/plain": [
       "<IPython.core.display.HTML object>"
      ]
     },
     "metadata": {},
     "output_type": "display_data"
    },
    {
     "data": {
      "text/html": [
       "<a href='https://www.benarnews.org/english/news/philippine/risks-rise-07102020171250.html'> Risk of Conflict between US, China Rising in South China Sea, Analysts Say</a>"
      ],
      "text/plain": [
       "<IPython.core.display.HTML object>"
      ]
     },
     "metadata": {},
     "output_type": "display_data"
    },
    {
     "data": {
      "text/html": [
       "<a href='https://edgedavao.net/special-supplement/2020/03/17/some-things-you-need-to-know-about-davao-city/'> SOME THINGS YOU NEED TO KNOW ABOUT DAVAO CITY</a>"
      ],
      "text/plain": [
       "<IPython.core.display.HTML object>"
      ]
     },
     "metadata": {},
     "output_type": "display_data"
    },
    {
     "data": {
      "text/html": [
       "<a href='https://www.mindanews.com/special-reports/2020/07/special-report-asserting-the-lumads-right-to-education-learning-goes-on-despite-closure-of-schools/'> SPECIAL REPORT.  Asserting the Lumads’ right to education: learning goes on despite closure of schools</a>"
      ],
      "text/plain": [
       "<IPython.core.display.HTML object>"
      ]
     },
     "metadata": {},
     "output_type": "display_data"
    },
    {
     "data": {
      "text/html": [
       "<a href='http://davaotoday.com/main/stand-point/statement-journalists-and-media-workers-on-the-denial-of-the-abs-cbn-franchise/'> STATEMENT | Journalists and media workers on the denial of the ABS-CBN franchise</a>"
      ],
      "text/plain": [
       "<IPython.core.display.HTML object>"
      ]
     },
     "metadata": {},
     "output_type": "display_data"
    },
    {
     "data": {
      "text/html": [
       "<a href='https://www.mindanews.com/peace-process/2020/01/senate-asks-bta-to-name-reps-to-congress-bangsamoro-parliament-forum/'> Senate asks BTA to name reps to Congress-Bangsamoro Parliament Forum</a>"
      ],
      "text/plain": [
       "<IPython.core.display.HTML object>"
      ]
     },
     "metadata": {},
     "output_type": "display_data"
    },
    {
     "data": {
      "text/html": [
       "<a href='https://www.eaglenews.ph/senator-dela-rosa-posts-photo-of-pnp-chief-gamboa-in-hospital-to-show-that-hes-okay/'> Senator Dela Rosa posts photo of PNP chief Gamboa in hospital to show that he’s okay</a>"
      ],
      "text/plain": [
       "<IPython.core.display.HTML object>"
      ]
     },
     "metadata": {},
     "output_type": "display_data"
    },
    {
     "data": {
      "text/html": [
       "<a href='https://www.eaglenews.ph/senators-pacquiao-dela-rosa-greet-iglesia-ni-cristo-on-106th-anniversary/'> Senators Pacquiao, Dela Rosa greet Iglesia Ni Cristo on 106th anniversary</a>"
      ],
      "text/plain": [
       "<IPython.core.display.HTML object>"
      ]
     },
     "metadata": {},
     "output_type": "display_data"
    },
    {
     "data": {
      "text/html": [
       "<a href='https://www.benarnews.org/english/news/malaysian/South-China-Sea-07152020152750.html'> South China Sea: Malaysia Urges Nations to Stand Down from ‘Military Posturing’ </a>"
      ],
      "text/plain": [
       "<IPython.core.display.HTML object>"
      ]
     },
     "metadata": {},
     "output_type": "display_data"
    },
    {
     "data": {
      "text/html": [
       "<a href='https://politics.com.ph/speaker-in-waiting-velasco-ready-to-support-dutertes-legislative-agenda/'> Speaker-in-waiting Velasco ‘ready to support’ Duterte’s legislative agenda</a>"
      ],
      "text/plain": [
       "<IPython.core.display.HTML object>"
      ]
     },
     "metadata": {},
     "output_type": "display_data"
    },
    {
     "data": {
      "text/html": [
       "<a href='http://davaotoday.com/main/todays-views/terrorizing-the-people-with-the-anti-terror-bill/'> Terrorizing the people with the anti-terror bill</a>"
      ],
      "text/plain": [
       "<IPython.core.display.HTML object>"
      ]
     },
     "metadata": {},
     "output_type": "display_data"
    },
    {
     "data": {
      "text/html": [
       "<a href='/Editor-s-Picks/Interview/Tokyo-cannot-bear-cost-of-business-closures-as-COVID-19-cases-surge'> Tokyo cannot bear cost of business closures as COVID-19 cases surge</a>"
      ],
      "text/plain": [
       "<IPython.core.display.HTML object>"
      ]
     },
     "metadata": {},
     "output_type": "display_data"
    },
    {
     "data": {
      "text/html": [
       "<a href='https://www.benarnews.org/english/news/philippine/scs-us-07132020180315.html'> US Toughens Stance on South China Sea, Calls Chinese Claims Illegal</a>"
      ],
      "text/plain": [
       "<IPython.core.display.HTML object>"
      ]
     },
     "metadata": {},
     "output_type": "display_data"
    },
    {
     "data": {
      "text/html": [
       "<a href='https://politics.com.ph/umayos-na-kayo-ping-says-telcos-should-shape-up-after-dutertes-sona-threat/'> Umayos na kayo! Ping says telcos should shape up after Duterte’s SONA ‘threat’</a>"
      ],
      "text/plain": [
       "<IPython.core.display.HTML object>"
      ]
     },
     "metadata": {},
     "output_type": "display_data"
    },
    {
     "data": {
      "text/html": [
       "<a href='https://www.eaglenews.ph/vp-robredo-greets-iglesia-ni-cristo-on-its-106th-anniversary/'> VP Robredo greets Iglesia Ni Cristo on its 106th anniversary</a>"
      ],
      "text/plain": [
       "<IPython.core.display.HTML object>"
      ]
     },
     "metadata": {},
     "output_type": "display_data"
    },
    {
     "data": {
      "text/html": [
       "<a href='https://politics.com.ph/walang-basehan-tony-la-vina-house-report-on-abs-cbn-franchise-denial-deserves-failing-grade/'> Walang basehan! Tony La Viña: House report on ABS-CBN franchise denial deserves failing grade</a>"
      ],
      "text/plain": [
       "<IPython.core.display.HTML object>"
      ]
     },
     "metadata": {},
     "output_type": "display_data"
    },
    {
     "data": {
      "text/html": [
       "<a href='https://politics.com.ph/walang-social-distancing-sa-rizal-sports-complex-richard-gomez-asks-duterte-to-fire-person-in-charge-of-hatid-tulong-program/'> Walang social distancing sa Rizal sports complex! Richard Gomez asks Duterte to fire person in charge of Hatid Tulong program</a>"
      ],
      "text/plain": [
       "<IPython.core.display.HTML object>"
      ]
     },
     "metadata": {},
     "output_type": "display_data"
    },
    {
     "data": {
      "text/html": [
       "<a href='https://politics.com.ph/youth-leaders-ask-sc-to-nullify-anti-terror-law/'> Youth leaders ask SC to nullify Anti-Terror Law</a>"
      ],
      "text/plain": [
       "<IPython.core.display.HTML object>"
      ]
     },
     "metadata": {},
     "output_type": "display_data"
    },
    {
     "data": {
      "text/html": [
       "<a href='https://politics.com.ph/binaboy-ako-duterte-slams-kapamilya-network-over-foreign-subsidiaries-tax-free-equipment/'> ‘Binaboy ako’: Duterte slams Kapamilya network over foreign subsidiaries, tax-free equipment</a>"
      ],
      "text/plain": [
       "<IPython.core.display.HTML object>"
      ]
     },
     "metadata": {},
     "output_type": "display_data"
    },
    {
     "data": {
      "text/html": [
       "<a href='https://politics.com.ph/di-aabot-sa-sampung-boto-iglesia-ni-cristo-pulong-duterte-team-up-to-kill-abs-cbns-franchise-bid/'> ‘Di aabot sa sampung boto! Iglesia Ni Cristo, Pulong Duterte team up to kill ABS-CBN’s franchise bid</a>"
      ],
      "text/plain": [
       "<IPython.core.display.HTML object>"
      ]
     },
     "metadata": {},
     "output_type": "display_data"
    },
    {
     "data": {
      "text/html": [
       "<a href='https://politics.com.ph/di-lang-sa-tiktok-patok-macoy-dubs-join-influencers-in-challenging-anti-terror-law-before-sc/'> ‘Di lang sa TikTok patok! Macoy Dubs join influencers in challenging Anti-Terror Law before SC</a>"
      ],
      "text/plain": [
       "<IPython.core.display.HTML object>"
      ]
     },
     "metadata": {},
     "output_type": "display_data"
    },
    {
     "data": {
      "text/html": [
       "<a href='https://politics.com.ph/di-magpapadala-sa-pressure-guevarra-vows-conscience-will-prevail-in-dojs-review-of-anti-terror-bill/'> ‘Di magpapadala sa pressure! Guevarra vows conscience will prevail in DOJ’s review of anti-terror bill</a>"
      ],
      "text/plain": [
       "<IPython.core.display.HTML object>"
      ]
     },
     "metadata": {},
     "output_type": "display_data"
    },
    {
     "data": {
      "text/html": [
       "<a href='https://politics.com.ph/di-nanlaban-nbi-finds-no-proof-slain-soldiers-fired-at-jolo-cops/'> ‘Di nanlaban! NBI finds no proof slain soldiers fired at Jolo cops</a>"
      ],
      "text/plain": [
       "<IPython.core.display.HTML object>"
      ]
     },
     "metadata": {},
     "output_type": "display_data"
    },
    {
     "data": {
      "text/html": [
       "<a href='https://politics.com.ph/di-tatantanan-paolo-duterte-teams-up-with-abs-cbn-critics-to-probe-p1-6b-dbp-behest-loans-to-lopezes/'> ‘Di tatantanan! Paolo Duterte teams up with ABS-CBN critics to probe P1.6B DBP behest loans to Lopezes</a>"
      ],
      "text/plain": [
       "<IPython.core.display.HTML object>"
      ]
     },
     "metadata": {},
     "output_type": "display_data"
    },
    {
     "data": {
      "text/html": [
       "<a href='https://politics.com.ph/good-man-dennis-uy-couldnt-care-less-about-abs-cbn-frequency-teddyboy-locsin-says/'> ‘Good man’ Dennis Uy couldn’t care less about ABS-CBN frequency, Teddyboy Locsin says</a>"
      ],
      "text/plain": [
       "<IPython.core.display.HTML object>"
      ]
     },
     "metadata": {},
     "output_type": "display_data"
    },
    {
     "data": {
      "text/html": [
       "<a href='https://www.interaksyon.com/politics-issues/2020/07/28/173870/hindi-kakaunti-yan-harry-roque-to-stop-downplaying-high-number-of-covid-19-cases-death-counts/'> ‘Hindi kakaunti ‘yan’: Harry Roque told to stop ‘downplaying’ high number of COVID-19 cases, death counts</a>"
      ],
      "text/plain": [
       "<IPython.core.display.HTML object>"
      ]
     },
     "metadata": {},
     "output_type": "display_data"
    },
    {
     "data": {
      "text/html": [
       "<a href='https://politics.com.ph/kulang-sa-quotable-quotes-harry-roque-gives-dutertes-sona-a-9/'> ‘Kulang sa quotable quotes’: Harry Roque gives Duterte’s SONA a ‘9’</a>"
      ],
      "text/plain": [
       "<IPython.core.display.HTML object>"
      ]
     },
     "metadata": {},
     "output_type": "display_data"
    },
    {
     "data": {
      "text/html": [
       "<a href='https://politics.com.ph/lungkot-na-lungkot-siya-duterte-wants-to-talk-to-cops-who-killed-soldiers-in-jolo-shooting-incident/'> ‘Lungkot na lungkot siya’: Duterte wants to talk to cops who killed soldiers in Jolo shooting incident</a>"
      ],
      "text/plain": [
       "<IPython.core.display.HTML object>"
      ]
     },
     "metadata": {},
     "output_type": "display_data"
    },
    {
     "data": {
      "text/html": [
       "<a href='https://politics.com.ph/plant-plant-plant-ph-economic-recovery-depends-on-robust-agri-sector-duterte/'> ‘Plant, Plant, Plant’: PH economic recovery depends on robust agri sector – Duterte</a>"
      ],
      "text/plain": [
       "<IPython.core.display.HTML object>"
      ]
     },
     "metadata": {},
     "output_type": "display_data"
    },
    {
     "data": {
      "text/html": [
       "<a href='https://www.interaksyon.com/politics-issues/2020/07/29/173990/rampa-sa-korte-suprema-popular-bloggers-influencers-run-to-sc-to-challenge-anti-terror-law/'> ‘Rampa sa Korte Suprema!’ Popular bloggers-influencers run to SC to challenge anti-terror law</a>"
      ],
      "text/plain": [
       "<IPython.core.display.HTML object>"
      ]
     },
     "metadata": {},
     "output_type": "display_data"
    },
    {
     "data": {
      "text/html": [
       "<a href='https://politics.com.ph/reposting-not-knowing-if-its-true-sharon-cuneta-curious-about-politiko-article-on-alleged-pulong-duterte-iglesia-ni-cristo-link-to-abs-cbn-shutdown/'> ‘Reposting, not knowing if it’s true:’ Sharon Cuneta curious about Politiko article on alleged Pulong Duterte-Iglesia Ni Cristo link to ABS-CBN shutdown</a>"
      ],
      "text/plain": [
       "<IPython.core.display.HTML object>"
      ]
     },
     "metadata": {},
     "output_type": "display_data"
    },
    {
     "data": {
      "text/html": [
       "<a href='http://davaotoday.com/main/human-rights/terrorist-gallery-targeting-activists-in-davao-slammed/'> ‘Terrorist’ gallery targeting activists in Davao slammed</a>"
      ],
      "text/plain": [
       "<IPython.core.display.HTML object>"
      ]
     },
     "metadata": {},
     "output_type": "display_data"
    },
    {
     "data": {
      "text/html": [
       "<a href='https://politics.com.ph/too-early-for-you-to-enjoy-your-awards-duterte-says-maria-ressa-is-a-fraud/'> ‘Too early for you to enjoy your awards’: Duterte to bury Maria Ressa with more cases</a>"
      ],
      "text/plain": [
       "<IPython.core.display.HTML object>"
      ]
     },
     "metadata": {},
     "output_type": "display_data"
    },
    {
     "data": {
      "text/html": [
       "<a href='https://politics.com.ph/unless-you-are-driven-by-patriotism-duterte-discourages-daughter-sara-to-run-for-highest-public-office/'> ‘Unless you are driven by patriotism’: Duterte discourages daughter Sara to run for highest public office</a>"
      ],
      "text/plain": [
       "<IPython.core.display.HTML object>"
      ]
     },
     "metadata": {},
     "output_type": "display_data"
    },
    {
     "data": {
      "text/html": [
       "<a href='https://politics.com.ph/wag-idamay-ang-mga-bata-mike-defensor-appeals-to-critics-not-to-drag-his-family-over-abs-cbn-franchise-denial/'> ‘Wag idamay ang mga bata:’ Mike Defensor appeals to critics not to drag his family over ABS-CBN franchise denial</a>"
      ],
      "text/plain": [
       "<IPython.core.display.HTML object>"
      ]
     },
     "metadata": {},
     "output_type": "display_data"
    },
    {
     "data": {
      "text/html": [
       "<a href='https://politics.com.ph/wala-akong-magawa-duterte-reiterates-fear-of-war-with-china/'> ‘Wala akong magawa’: Duterte reiterates fear of war with China</a>"
      ],
      "text/plain": [
       "<IPython.core.display.HTML object>"
      ]
     },
     "metadata": {},
     "output_type": "display_data"
    },
    {
     "data": {
      "text/html": [
       "<a href='https://www.interaksyon.com/celebrities/2020/07/20/173320/sarah-geronimo-nadine-lustre-speak-up-on-abs-cbn-franchise-denial-as-mass-layoffs-nears/'> ‘Wala na tayong oras’: Sarah Geronimo, Nadine Lustre speak up on ABS-CBN franchise denial as mass layoffs nears</a>"
      ],
      "text/plain": [
       "<IPython.core.display.HTML object>"
      ]
     },
     "metadata": {},
     "output_type": "display_data"
    },
    {
     "data": {
      "text/html": [
       "<a href='https://politics.com.ph/we-will-never-forget-trillanes-slams-duterte-cayetano-over-abs-cbn-shutdown/'> ‘We will never forget:’ Trillanes slams Duterte, Cayetano over ABS-CBN shutdown</a>"
      ],
      "text/plain": [
       "<IPython.core.display.HTML object>"
      ]
     },
     "metadata": {},
     "output_type": "display_data"
    },
    {
     "name": "stdout",
     "output_type": "stream",
     "text": [
      "Errors:  0\n"
     ]
    }
   ],
   "source": [
    "# summary: this takes the list from the first cell of all the html pages\n",
    "# puts the headline as the text for the list\n",
    "# uses beautiful soup to get the headline (the title field)\n",
    "# then makes it an html link\n",
    "# then displays it as an html link (needed ipython library above to do that)\n",
    "# can do this for any list of links that I get from feedly, will really save time\n",
    "#hlist = list(set(hlist))\n",
    "#hlist.sort()\n",
    "hlist = [elem[1] for elem in hitlist]\n",
    "\n",
    "for newselem in hitlist:\n",
    "    if newselem[0] == 'None':\n",
    "# for ilink in hlist:\n",
    "        try:\n",
    "            r = requests.get(newselem[1], headers=headers)\n",
    "            soup = BeautifulSoup(r.text, 'html.parser')\n",
    "            titletext = soup.title.text\n",
    "            reflink = \"<a href='\" + ilink + \"'> \" + titletext + \"</a>\"\n",
    "            html = HTML(reflink)\n",
    "            display(html)\n",
    "        except:\n",
    "            errors += 1\n",
    "    else:\n",
    "        reflink = \"<a href='\" + newselem[1] + \"'> \" + newselem[0] + \"</a>\"\n",
    "        html = HTML(reflink)\n",
    "        display(html)\n",
    "        \n",
    "print(\"Errors: \", errors)"
   ]
  },
  {
   "cell_type": "code",
   "execution_count": 8,
   "metadata": {},
   "outputs": [],
   "source": [
    "paperlist = [\"https://www.abc.net.au/news/\",\n",
    "    \"https://www.aseantoday.com/\",\n",
    "    \"https://www.bbc.com/news\",\n",
    "    \"https://www.asiasentinel.com/\",\n",
    "    \"https://www.bangkokpost.com/\",\n",
    "    \"https://www.benarnews.org/english/\",\n",
    "    \"https://www.theborneopost.com/\",\n",
    "    \"https://www.japantimes.co.jp/\",\n",
    "    \"https://www.nationthailand.com/\",\n",
    "    \"https://www.nzherald.co.nz/\",\n",
    "    \"https://www.rfa.org/english/\",\n",
    "    \"https://www.thejakartapost.com/\",\n",
    "    \"http://www.straitstimes.com/asia/\",\n",
    "    \"http://www.straitstimes.com/asia/east-asia/\",\n",
    "    \"https://www.scmp.com/\",\n",
    "    \"https://www.globaltimes.cn/\",\n",
    "    \"https://www.nytimes.com/\",\n",
    "    \"https://www.foxnews.com/\",\n",
    "    \"https://www.cnn.com/\",\n",
    "    \"https://asia.nikkei.com/\"]\n",
    "\n",
    "taglist = [\"coronavirus\",\n",
    "    \"covid-19\",\n",
    "    \"world health organisation\",\n",
    "    \"world health organization\",\n",
    "    \"embargo\",\n",
    "    \"trade deal\",\n",
    "    \"tariffs\",\n",
    "    \"election\",\n",
    "    \"cases spike\",\n",
    "    \"close schools\",\n",
    "    \"bullying\",\n",
    "    \"south china sea\",\n",
    "    \"lockdown\",\n",
    "    \"peta\",\n",
    "    \"coconut supply\",\n",
    "    \"abu sayyaf\",\n",
    "    \"data security\",\n",
    "    \"hong kong police\",\n",
    "    \"hong kong protestors\",\n",
    "    \"national security law\",\n",
    "    \"remdesvir\",\n",
    "    \"vaccine trials\",\n",
    "    \"uighur\",\n",
    "    \"aegis ashore\",\n",
    "    \"economy to shrink\",\n",
    "    \"nuclear talks\",\n",
    "    \"indigenous\",\n",
    "    \"dollar drops\",\n",
    "    \"dollar falls\",\n",
    "    \"dollar rises\",\n",
    "    \"battle against virus\",\n",
    "    \"recession\",\n",
    "    \"voice of america\",\n",
    "    \"lemur\",\n",
    "    \"orangutang\",\n",
    "    \"elephant\",\n",
    "    \"pangolin\",\n",
    "    \"fishermen\",\n",
    "    \"bolsonaro\",\n",
    "    \"inflation\",\n",
    "    \"aboriginal\",\n",
    "    \"japan earthquake\",\n",
    "    \"flooding in china\",\n",
    "    \"flood in china\",\n",
    "    \"earthquake in japan\",\n",
    "    \"typhoon\",\n",
    "    \"hagia sophia\",\n",
    "    \"turkey\",\n",
    "    \"erdogan\"]\n",
    "\n"
   ]
  },
  {
   "cell_type": "code",
   "execution_count": 9,
   "metadata": {},
   "outputs": [],
   "source": [
    "hitlist = []\n",
    "hlist = []\n",
    "for paper in paperlist:\n",
    "    r = requests.get(paper, headers=headers)\n",
    "    soup = BeautifulSoup(r.text, 'html.parser')\n",
    "    myelems = soup.findAll('a')\n",
    "    for elem in myelems:\n",
    "        titleck = str(elem.get('title'))\n",
    "        for checker in taglist:\n",
    "            if checker.lower() in titleck.lower():\n",
    "                url = elem.get('href')\n",
    "                hitlist.append((titleck, url))\n",
    "                hlist.append(url)\n",
    "hitlist = list(set(hitlist))\n",
    "hitlist.sort()\n",
    "# for elem in hitlist:\n",
    "#     print(elem[0])\n",
    "#     print(elem[1])\n"
   ]
  },
  {
   "cell_type": "code",
   "execution_count": 10,
   "metadata": {},
   "outputs": [
    {
     "data": {
      "text/html": [
       "<a href='https://www.rfa.org/english/news/uyghur/barricades-07212020145633.html'> Barricades 'on Every Corner' in Xinjiang’s Kashgar Region Amid New Coronavirus Outbreak</a>"
      ],
      "text/plain": [
       "<IPython.core.display.HTML object>"
      ]
     },
     "metadata": {},
     "output_type": "display_data"
    },
    {
     "data": {
      "text/html": [
       "<a href='https://www.aseantoday.com/2020/07/covid-19-is-boosting-fintech-and-mobile-money-in-myanmar-but-whats-next/'> COVID-19 is boosting fintech and mobile money in Myanmar, but what's next? | ASEAN Today</a>"
      ],
      "text/plain": [
       "<IPython.core.display.HTML object>"
      ]
     },
     "metadata": {},
     "output_type": "display_data"
    },
    {
     "data": {
      "text/html": [
       "<a href='https://www.aseantoday.com/2020/05/covid-19-pushes-healthcare-technology-transformation-in-asia/'> COVID-19 pushes healthcare technology transformation in Asia | ASEAN Today</a>"
      ],
      "text/plain": [
       "<IPython.core.display.HTML object>"
      ]
     },
     "metadata": {},
     "output_type": "display_data"
    },
    {
     "data": {
      "text/html": [
       "<a href='https://www.theborneopost.com/2020/07/29/covid-19-13-new-positive-cases-recorded-in-malaysia-today-total-at-8956/'> Covid-19: 13 new positive cases recorded in Malaysia today, total at 8,956 | Borneo Post Online</a>"
      ],
      "text/plain": [
       "<IPython.core.display.HTML object>"
      ]
     },
     "metadata": {},
     "output_type": "display_data"
    },
    {
     "data": {
      "text/html": [
       "<a href='https://www.theborneopost.com/2020/07/29/covid-19-2-new-positive-cases-in-sarawak-today-both-close-contacts-of-current-clusters/'> Covid-19: 2 new positive cases in Sarawak today, both close contacts of current clusters | Borneo Post Online</a>"
      ],
      "text/plain": [
       "<IPython.core.display.HTML object>"
      ]
     },
     "metadata": {},
     "output_type": "display_data"
    },
    {
     "data": {
      "text/html": [
       "<a href='https://www.theborneopost.com/2020/07/29/covid-19-getting-our-sops-right/'> Covid-19: Getting our SOPs right | Borneo Post Online</a>"
      ],
      "text/plain": [
       "<IPython.core.display.HTML object>"
      ]
     },
     "metadata": {},
     "output_type": "display_data"
    },
    {
     "data": {
      "text/html": [
       "<a href='https://www.theborneopost.com/2020/07/29/covid-19-speaker-reminds-mps-to-comply-with-sop-wear-face-masks-when-out-in-public/'> Covid-19: Speaker reminds MPs to comply with SOP, wear face masks when out in public | Borneo Post Online</a>"
      ],
      "text/plain": [
       "<IPython.core.display.HTML object>"
      ]
     },
     "metadata": {},
     "output_type": "display_data"
    },
    {
     "data": {
      "text/html": [
       "<a href='https://www.rfa.org/english/news/china/philippines-southchinasea-07272020185402.html'> Duterte Says Philippines Powerless Over South China Sea Rights</a>"
      ],
      "text/plain": [
       "<IPython.core.display.HTML object>"
      ]
     },
     "metadata": {},
     "output_type": "display_data"
    },
    {
     "data": {
      "text/html": [
       "<a href='https://www.rfa.org/english/news/cambodia/substitute-07232020153513.html'> Experts Warn Cambodia’s Trade Deal With China is Poor Substitute For EU Scheme</a>"
      ],
      "text/plain": [
       "<IPython.core.display.HTML object>"
      ]
     },
     "metadata": {},
     "output_type": "display_data"
    },
    {
     "data": {
      "text/html": [
       "<a href='https://www.rfa.org/english/news/korea/coronavirus-07162020220021.html'> Hard Labor For North Koreans Who Don’t Wear Masks Under Tough New Coronavirus Measures</a>"
      ],
      "text/plain": [
       "<IPython.core.display.HTML object>"
      ]
     },
     "metadata": {},
     "output_type": "display_data"
    },
    {
     "data": {
      "text/html": [
       "<a href='https://www.rfa.org/english/news/china/election-07282020124330.html'> Hong Kong Mulls Postponing Election Amid Ongoing Crackdown on Dissent</a>"
      ],
      "text/plain": [
       "<IPython.core.display.HTML object>"
      ]
     },
     "metadata": {},
     "output_type": "display_data"
    },
    {
     "data": {
      "text/html": [
       "<a href='https://www.aseantoday.com/2020/07/how-many-singaporeans-should-there-be-how-population-planning-played-in-the-city-states-election/'> How many Singaporeans should there be? How population planning played in the city-state's election | ASEAN Today</a>"
      ],
      "text/plain": [
       "<IPython.core.display.HTML object>"
      ]
     },
     "metadata": {},
     "output_type": "display_data"
    },
    {
     "data": {
      "text/html": [
       "<a href='https://www.rfa.org/english/news/laos/coronavirus-07242020222505.html'> Laos, Vietnam Confirm First COVID-19 Cases in Three Months</a>"
      ],
      "text/plain": [
       "<IPython.core.display.HTML object>"
      ]
     },
     "metadata": {},
     "output_type": "display_data"
    },
    {
     "data": {
      "text/html": [
       "<a href='https://www.rfa.org/english/news/myanmar/internet-ban-07272020185418.html'> Myanmar Army Defends Rakhine Internet Ban Rights Groups Say Hinders Aid, COVID-19 Awareness</a>"
      ],
      "text/plain": [
       "<IPython.core.display.HTML object>"
      ]
     },
     "metadata": {},
     "output_type": "display_data"
    },
    {
     "data": {
      "text/html": [
       "<a href='https://www.rfa.org/english/news/korea/coronavirus-re-escapee-07272020212456.html'> North Korean Call For Help Seen in COVID-19 Announcement, Blame</a>"
      ],
      "text/plain": [
       "<IPython.core.display.HTML object>"
      ]
     },
     "metadata": {},
     "output_type": "display_data"
    },
    {
     "data": {
      "text/html": [
       "<a href='https://www.benarnews.org/english/news/philippine/risks-rise-07102020171250.html'> Risk of Conflict between US, China Rising in South China Sea, Analysts Say</a>"
      ],
      "text/plain": [
       "<IPython.core.display.HTML object>"
      ]
     },
     "metadata": {},
     "output_type": "display_data"
    },
    {
     "data": {
      "text/html": [
       "<a href='https://www.benarnews.org/english/news/malaysian/South-China-Sea-07152020152750.html'> South China Sea: Malaysia Urges Nations to Stand Down from ‘Military Posturing’ </a>"
      ],
      "text/plain": [
       "<IPython.core.display.HTML object>"
      ]
     },
     "metadata": {},
     "output_type": "display_data"
    },
    {
     "data": {
      "text/html": [
       "<a href='https://www.rfa.org/english/commentaries/taiwan-covid-07062020065643.html'> Taiwan’s Success in Combating the Coronavirus Gains International Attention</a>"
      ],
      "text/plain": [
       "<IPython.core.display.HTML object>"
      ]
     },
     "metadata": {},
     "output_type": "display_data"
    },
    {
     "data": {
      "text/html": [
       "<a href='https://www.benarnews.org/english/news/thai/security-spending-07132020143025.html'> Thai Deep South: Security Budget Faces Cuts over Reduced Violence, COVID-19 Concerns</a>"
      ],
      "text/plain": [
       "<IPython.core.display.HTML object>"
      ]
     },
     "metadata": {},
     "output_type": "display_data"
    },
    {
     "data": {
      "text/html": [
       "<a href='https://www.rfa.org/english/news/tibet/democracy-07222020115536.html'> Tibetan Exiles Continue Experiment in Democracy as New Elections Near</a>"
      ],
      "text/plain": [
       "<IPython.core.display.HTML object>"
      ]
     },
     "metadata": {},
     "output_type": "display_data"
    },
    {
     "data": {
      "text/html": [
       "<a href='https://www.theborneopost.com/2020/07/28/uk-pet-cat-tests-positive-for-covid-19/'> UK pet cat tests positive for Covid-19 | Borneo Post Online</a>"
      ],
      "text/plain": [
       "<IPython.core.display.HTML object>"
      ]
     },
     "metadata": {},
     "output_type": "display_data"
    },
    {
     "data": {
      "text/html": [
       "<a href='https://www.benarnews.org/english/news/philippine/scs-us-07132020180315.html'> US Toughens Stance on South China Sea, Calls Chinese Claims Illegal</a>"
      ],
      "text/plain": [
       "<IPython.core.display.HTML object>"
      ]
     },
     "metadata": {},
     "output_type": "display_data"
    },
    {
     "data": {
      "text/html": [
       "<a href='https://www.rfa.org/english/news/vietnam/license-plates-07172020160542.html'> Vietnam to Fine Drivers With License Plates That Lack Map of South China Sea Islets</a>"
      ],
      "text/plain": [
       "<IPython.core.display.HTML object>"
      ]
     },
     "metadata": {},
     "output_type": "display_data"
    },
    {
     "data": {
      "text/html": [
       "<a href='https://www.rfa.org/english/news/vietnam/surge-07282020181357.html'> Vietnam’s Danang Enters Lockdown Amid Surge in New COVID cases</a>"
      ],
      "text/plain": [
       "<IPython.core.display.HTML object>"
      ]
     },
     "metadata": {},
     "output_type": "display_data"
    },
    {
     "data": {
      "text/html": [
       "<a href='https://www.aseantoday.com/2020/07/what-does-vietnams-trade-deal-with-the-eu-mean-for-the-country-and-asean/'> What does Vietnam's trade deal with the EU mean for the country and ASEAN? | ASEAN Today</a>"
      ],
      "text/plain": [
       "<IPython.core.display.HTML object>"
      ]
     },
     "metadata": {},
     "output_type": "display_data"
    },
    {
     "data": {
      "text/html": [
       "<a href='https://www.aseantoday.com/2020/07/what-does-the-covid-19-boom-in-gaming-mean-for-southeast-asia/'> What does the COVID-19 boom in gaming mean for Southeast Asia? | ASEAN Today</a>"
      ],
      "text/plain": [
       "<IPython.core.display.HTML object>"
      ]
     },
     "metadata": {},
     "output_type": "display_data"
    },
    {
     "data": {
      "text/html": [
       "<a href='https://www.aseantoday.com/2020/07/what-is-aseans-stand-on-us-china-disputes-in-the-south-china-sea/'> What is ASEAN's stand on US-China disputes in the South China Sea? | ASEAN Today</a>"
      ],
      "text/plain": [
       "<IPython.core.display.HTML object>"
      ]
     },
     "metadata": {},
     "output_type": "display_data"
    },
    {
     "data": {
      "text/html": [
       "<a href='https://www.aseantoday.com/2020/07/will-singapores-hawker-industry-survive-covid-19/'> Will Singapore's hawker industry survive COVID-19? | ASEAN Today</a>"
      ],
      "text/plain": [
       "<IPython.core.display.HTML object>"
      ]
     },
     "metadata": {},
     "output_type": "display_data"
    },
    {
     "name": "stdout",
     "output_type": "stream",
     "text": [
      "Errors:  9\n"
     ]
    }
   ],
   "source": [
    "# summary: this takes the list from the first cell of all the html pages\n",
    "# puts the headline as the text for the list\n",
    "# uses beautiful soup to get the headline (the title field)\n",
    "# then makes it an html link\n",
    "# then displays it as an html link (needed ipython library above to do that)\n",
    "# can do this for any list of links that I get from feedly, will really save time\n",
    "#hlist = list(set(hlist))\n",
    "#hlist.sort()\n",
    "hlist = [elem[1] for elem in hitlist]\n",
    "errors = 0\n",
    "for ilink in hlist:\n",
    "    try:\n",
    "        r = requests.get(ilink, headers=headers)\n",
    "        soup = BeautifulSoup(r.text, 'html.parser')\n",
    "        titletext = soup.title.text\n",
    "        reflink = \"<a href='\" + ilink + \"'> \" + titletext + \"</a>\"\n",
    "        html = HTML(reflink)\n",
    "        display(html)\n",
    "    except:\n",
    "        errors += 1\n",
    "print(\"Errors: \", errors)"
   ]
  },
  {
   "cell_type": "code",
   "execution_count": 11,
   "metadata": {},
   "outputs": [
    {
     "name": "stdout",
     "output_type": "stream",
     "text": [
      "50\n"
     ]
    },
    {
     "data": {
      "text/html": [
       "<a href='https://www.scmp.com/economy/article/3094811/china-needs-weigh-economic-consequences-coronavirus-stimulus-top-beijing'> China needs to weigh economic ‘consequences’ of coronavirus stimulus, top Beijing researcher says | South China Morning Post</a>"
      ],
      "text/plain": [
       "<IPython.core.display.HTML object>"
      ]
     },
     "metadata": {},
     "output_type": "display_data"
    },
    {
     "data": {
      "text/html": [
       "<a href='https://www.scmp.com/business/companies/article/3095143/chinese-property-managers-replenish-cash-eye-ma-targets'> Chinese property managers replenish cash, eye M&A targets as coronavirus spurs industry consolidation | South China Morning Post</a>"
      ],
      "text/plain": [
       "<IPython.core.display.HTML object>"
      ]
     },
     "metadata": {},
     "output_type": "display_data"
    },
    {
     "data": {
      "text/html": [
       "<a href='https://www.scmp.com/business/companies/article/3094676/fosun-owner-club-med-warns-investors-76-cent-slide-earnings'> Fosun, owner of Club Med, warns investors of 76 per cent slide in earnings as coronavirus ravages tourism business | South China Morning Post</a>"
      ],
      "text/plain": [
       "<IPython.core.display.HTML object>"
      ]
     },
     "metadata": {},
     "output_type": "display_data"
    },
    {
     "data": {
      "text/html": [
       "<a href='https://www.scmp.com/business/companies/article/3094878/global-investors-plough-asian-logistics-properties-demand-online'> Global investors plough into Asian logistics properties as demand for online delivery food surges amid Covid-19 crisis | South China Morning Post</a>"
      ],
      "text/plain": [
       "<IPython.core.display.HTML object>"
      ]
     },
     "metadata": {},
     "output_type": "display_data"
    },
    {
     "data": {
      "text/html": [
       "<a href='https://www.scmp.com/business/companies/article/3094937/hang-seng-index-china-stocks-gain-moderna-launches-large-scale'> Hang Seng Index, China stocks advance as Moderna launches large-scale vaccine trial in US in hunt to beat Covid-19 | South China Morning Post</a>"
      ],
      "text/plain": [
       "<IPython.core.display.HTML object>"
      ]
     },
     "metadata": {},
     "output_type": "display_data"
    },
    {
     "data": {
      "text/html": [
       "<a href='https://www.scmp.com/business/companies/article/3094164/marriott-opens-800th-property-asia-aims-50-more-year-even-covid'> Marriott opens 800th property in Asia, aims for 50 more this year even as Covid-19 pandemic keeps hotels shuttered | South China Morning Post</a>"
      ],
      "text/plain": [
       "<IPython.core.display.HTML object>"
      ]
     },
     "metadata": {},
     "output_type": "display_data"
    },
    {
     "data": {
      "text/html": [
       "<a href='https://www.scmp.com/business/companies/article/3094323/tesla-reports-surprise-profit-amid-coronavirus-pandemic-china'> Tesla reports surprise profit amid coronavirus pandemic, with China the ‘star of the show’ | South China Morning Post</a>"
      ],
      "text/plain": [
       "<IPython.core.display.HTML object>"
      ]
     },
     "metadata": {},
     "output_type": "display_data"
    },
    {
     "data": {
      "text/html": [
       "<a href='https://www.scmp.com/business/china-business/article/3095037/recessionproof-huizhou-records-smallest-drop-rents-first'> ‘Recessionproof’ Huizhou records smallest drop in rents in first six months, emerges as Greater Bay Area’s most resilient office market | South China Morning Post</a>"
      ],
      "text/plain": [
       "<IPython.core.display.HTML object>"
      ]
     },
     "metadata": {},
     "output_type": "display_data"
    },
    {
     "name": "stdout",
     "output_type": "stream",
     "text": [
      "Errors:  0\n"
     ]
    }
   ],
   "source": [
    "# for an xml based rss feed:\n",
    "\n",
    "xmllist = [\"https://www.scmp.com/rss/107605/feed\"]\n",
    "hitlist = []\n",
    "errors = 0\n",
    "for paper in xmllist:\n",
    "    r = requests.get(paper, headers=headers)\n",
    "    #print(r.text[0:500])\n",
    "    soup = BeautifulSoup(r.text, 'xml')\n",
    "    myelems = soup.findAll('guid')\n",
    "    print(len(myelems))\n",
    "    for elem in myelems:\n",
    "        linkck = elem.get_text()\n",
    "        #print(linkck)\n",
    "        #hitlist.append(linkck)\n",
    "        try:\n",
    "            r2 = requests.get(linkck, headers=headers)\n",
    "            soup2 = BeautifulSoup(r2.text, 'html.parser')\n",
    "            titletext = soup2.title.text\n",
    "            for checker in taglist:\n",
    "                if checker.lower() in titletext.lower():\n",
    "                    hitlist.append((titletext, linkck))\n",
    "        except:\n",
    "            errors += 1\n",
    "   \n",
    "hitlist = list(set(hitlist))\n",
    "hitlist.sort()\n",
    "hlist = [elem[1] for elem in hitlist]\n",
    "\n",
    "for elem in hitlist:\n",
    "    reflink = \"<a href='\" + elem[1] + \"'> \" + elem[0] + \"</a>\"\n",
    "    html = HTML(reflink)\n",
    "    display(html)\n",
    "\n",
    "print(\"Errors: \", errors)\n",
    "\n"
   ]
  }
 ],
 "metadata": {
  "kernelspec": {
   "display_name": "Python 3",
   "language": "python",
   "name": "python3"
  },
  "language_info": {
   "codemirror_mode": {
    "name": "ipython",
    "version": 3
   },
   "file_extension": ".py",
   "mimetype": "text/x-python",
   "name": "python",
   "nbconvert_exporter": "python",
   "pygments_lexer": "ipython3",
   "version": "3.7.2"
  }
 },
 "nbformat": 4,
 "nbformat_minor": 4
}
