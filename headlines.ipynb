{
 "cells": [
  {
   "cell_type": "code",
   "execution_count": 1,
   "metadata": {},
   "outputs": [
    {
     "name": "stdout",
     "output_type": "stream",
     "text": [
      "﻿\r\n",
      "<!DOCTYPE html>\r\n",
      "<html lang=\"en\">\r\n",
      "<head>\r\n",
      "\t<meta charset=\"UTF-8\">\t\r\n",
      "\t\t\r\n",
      "\t<meta name=\"viewport\" content=\"width=device-width, initial-scale=1.0\">\r\n",
      "\t\r\n",
      "\t\r\n",
      "\t\r\n",
      "\t\r\n",
      "\t<!-- FB Meta -->\r\n",
      "\t<meta property=\"og:ttl\" content=\"345600\" />\r\n",
      "\t<meta property=\"fb:app_id\" content=\"175228195865217\" />\r\n",
      "\t<meta property=\"og:title\" content=\"WHO: Indoor airborne spread of coronavirus possible\" />\t\r\n",
      "\t<meta property=\"og:description\" content=\"LONDON — The World Health Organization is acknowledging the possibility that COV\n"
     ]
    }
   ],
   "source": [
    "import requests\n",
    "from bs4 import BeautifulSoup\n",
    "import lxml\n",
    "from IPython.core.display import display, HTML\n",
    "\n",
    "hlist = ['https://newsinfo.inquirer.net/1304791/who-indoor-airborne-spread-of-coronavirus-possible',\n",
    "    'https://www.theguardian.com/world/live/2020/jul/10/coronavirus-live-news-global-update-cases-bolivia-president-covid-19-positive-south-africa-brazil-president-jair-bolsonaro-latest-updatescoronavirus-live-news-bolivia-president-tests-positive-as-south-africa-sees-record-case-rise',\n",
    "    'https://www.wsj.com/articles/oil-went-below-0-some-think-it-will-rebound-to-150-one-day-11594287002',\n",
    "    'https://www.cnbc.com/2020/07/09/disney-reopening-this-week-even-as-coronavirus-cases-spike-in-florida.html',\n",
    "    'https://www.cnbc.com/2020/07/09/who-warns-the-coronavirus-is-getting-worse-continues-to-accelerate.html',\n",
    "    'http://feeds.foxbusiness.com/~r/foxbusiness/latest/~3/y4ny8VF4PX0/us-stocks-july-9-2020',\n",
    "    'http://www.marketwatch.com/news/story.asp?guid=%7BAED11BCA-C218-11EA-B5C1-1D55841A4EF0%7D&siteid=rss&rss=1',\n",
    "    'http://www.marketwatch.com/news/story.asp?guid=%7B0A9972CF-FF2C-4035-AA5B-3D557A0B7869%7D&siteid=rss&rss=1',\n",
    "    'https://www.wsj.com/articles/vaccine-stock-soars-rewarding-investors-big-bet-11594294901',\n",
    "    'https://www.bbc.co.uk/news/uk-england-kent-53349929',\n",
    "    'http://feeds.foxnews.com/~r/foxnews/national/~3/45WkRCxllyI/health-official-trump-rally-likely-source-virus-surge',\n",
    "    'https://www.nytimes.com/2020/07/09/us/politics/trump-supreme-court-appointees.html']\n",
    "\n",
    "\n",
    "\n",
    "\n",
    "# need the following to tell it we are a firefox browser in order to prevent getting blocked as a bot\n",
    "headers = requests.utils.default_headers()\n",
    "headers.update({\n",
    "    'User-Agent': 'Mozilla/5.0 (X11; Ubuntu; Linux x86_64; rv:52.0) Gecko/20100101 Firefox/52.0',\n",
    "})\n",
    "\n",
    "r = requests.get(hlist[0], headers=headers)\n",
    "soup = BeautifulSoup(r.text, 'html.parser')\n",
    "\n",
    "print(r.text[0:500])"
   ]
  },
  {
   "cell_type": "code",
   "execution_count": 2,
   "metadata": {},
   "outputs": [
    {
     "data": {
      "text/plain": [
       "'WHO: Indoor airborne spread of coronavirus possible | Inquirer News'"
      ]
     },
     "execution_count": 2,
     "metadata": {},
     "output_type": "execute_result"
    }
   ],
   "source": [
    "#results = soup.find_all('meta', property=\"og:title\")\n",
    "#len(results)\n",
    "titletext = soup.title.text\n",
    "titletext"
   ]
  },
  {
   "cell_type": "code",
   "execution_count": 3,
   "metadata": {},
   "outputs": [
    {
     "data": {
      "text/html": [
       "<a href='https://www.wsj.com/articles/oil-went-below-0-some-think-it-will-rebound-to-150-one-day-11594287002'> Oil Went Below $0. Some Think It Will Rebound to $150 One Day.     - WSJ</a>"
      ],
      "text/plain": [
       "<IPython.core.display.HTML object>"
      ]
     },
     "metadata": {},
     "output_type": "display_data"
    },
    {
     "data": {
      "text/plain": [
       "\"<a href='https://www.wsj.com/articles/oil-went-below-0-some-think-it-will-rebound-to-150-one-day-11594287002'> Oil Went Below $0. Some Think It Will Rebound to $150 One Day.     - WSJ</a>\""
      ]
     },
     "execution_count": 3,
     "metadata": {},
     "output_type": "execute_result"
    }
   ],
   "source": [
    "#from IPython.display import IFrame\n",
    "#IFrame(src=hlist[0], width=700, height=600)\n",
    "\n",
    "# note than in the reflink below when I had brackets{} surrounding the link, it pointed to localhost first\n",
    "# it may also do that if you leave off the https:// at the front\n",
    "r = requests.get(hlist[2], headers=headers)\n",
    "soup = BeautifulSoup(r.text, 'html.parser')\n",
    "titletext = soup.title.text\n",
    "reflink = \"<a href='\" + hlist[2] + \"'> \" + titletext + \"</a>\"\n",
    "html = HTML(reflink)\n",
    "display(html)\n",
    "hlist[0]\n",
    "reflink\n"
   ]
  },
  {
   "cell_type": "code",
   "execution_count": 4,
   "metadata": {},
   "outputs": [],
   "source": [
    "paperlist = [\"http://davaotoday.com/main/\",\n",
    "    \"https://www.eaglenews.ph/\",\n",
    "    \"https://www.gmanetwork.com/news/\",\n",
    "    \"https://www.inquirer.net/\",\n",
    "    \"https://www.interaksyon.com/\",\n",
    "    \"https://pia.gov.ph/news\",\n",
    "    \"https://edgedavao.net/\",\n",
    "    \"http://www.senate.gov.ph/\",\n",
    "    \"https://politics.com.ph/\",\n",
    "    \"https://www.mindanews.com/\",\n",
    "    \"https://palawan-news.com/\",\n",
    "    \"https://philnews.ph/\",\n",
    "    \"https://www.philstar.com/\",\n",
    "    \"https://www.manilatimes.net/\",\n",
    "    \"https://mb.com.ph/\",\n",
    "    \"https://www.rappler.com/\",\n",
    "    \"http://retiredanalyst.blogspot.com/\",\n",
    "    \"http://tempo.com.ph/\",\n",
    "    \"https://news.abs-cbn.com/\"]\n",
    "\n",
    "covid_taglist\t=\t[\"covid-19\",\t\n",
    "\t\t\t\"coronavirus\",\n",
    "\t\t\t\"quarantine\",\n",
    "\t\t\t\"pandemic\",\n",
    "\t\t\t\"vacine\",\n",
    "\t\t\t\"injections\",\n",
    "\t\t\t\"ecq\",\n",
    "\t\t\t\"mecq\",\n",
    "\t\t\t\"gcq\",\n",
    "\t\t\t\"mgcq\",\n",
    "\t\t\t\"lsi\",\n",
    "\t\t\t\"locally stranded individuals\",\n",
    "\t\t\t\"death rate\",\n",
    "\t\t\t\"new cases\",\n",
    "\t\t\t\"total cases\"]\n",
    "\n",
    "econ_taglist\t=\t[\"economy\",\t\n",
    "\t\t\t\"inflation\",\n",
    "\t\t\t\"angkas\",\n",
    "\t\t\t\"backriding\",\n",
    "\t\t\t\"bitcoin\",\n",
    "\t\t\t\"crypto\",\n",
    "\t\t\t\"cryptocurrencies\",\n",
    "\t\t\t\"crypto-currencies\",\n",
    "\t\t\t\"asia development bank\",\n",
    "\t\t\t\"psei\",\n",
    "\t\t\t\"buses\",\n",
    "\t\t\t\"employment\",\n",
    "\t\t\t\"build-build-build\",\n",
    "\t\t\t\"investments\"]\n",
    "\t\t\t\n",
    "chinathreat_taglist\t=\t[\"south china sea\",\t\n",
    "\t\t\t\"west philippine sea\",\n",
    "\t\t\t\"liu jianchao\",\n",
    "\t\t\t\"chinese ambassador\",\n",
    "\t\t\t\"xi xingping\",\n",
    "\t\t\t\"spratly islands\",\n",
    "\t\t\t\"freedom of navigation\",\n",
    "\t\t\t\"pla navy\",\n",
    "\t\t\t\"vfa\",\n",
    "\t\t\t\"scarborough shoal\",\n",
    "\t\t\t\"mischief reef\",\n",
    "\t\t\t\"pla militia\",\n",
    "\t\t\t\"air defense identification zone\",\n",
    "\t\t\t\"adiz\",\n",
    "\t\t\t\"visiting forces agreement\",\n",
    "\t\t\t\"philippine navy\",\n",
    "\t\t\t\"brp\",\n",
    "\t\t\t\"us navy\",\n",
    "\t\t\t\"navy\"]\n",
    "\t\t\t\n",
    "insurgency_taglist\t=\t[\"anti-terror\",\t\n",
    "\t\t\t\"anti-terror law\",\n",
    "\t\t\t\"abu sayyaf\",\n",
    "\t\t\t\"biff\",\n",
    "\t\t\t\"bangsamoro islamic freedom fighters\",\n",
    "\t\t\t\"npa\",\n",
    "\t\t\t\"new people's army\",\n",
    "\t\t\t\"milf\",\n",
    "\t\t\t\"moro islamic liberation front\",\n",
    "\t\t\t\"mnlf\",\n",
    "\t\t\t\"moro national liberation front\",\n",
    "\t\t\t\"islamic state\",\n",
    "\t\t\t\"marawi\",\n",
    "\t\t\t\"mamasapano\"]\n",
    "\t\t\t\n",
    "\t\t\t\n",
    "pulitika_taglist\t=\t[\"lopez\",\t\n",
    "\t\t\t\"supreme court\",\n",
    "\t\t\t\"serreno\",\n",
    "\t\t\t\"duterte\",\n",
    "\t\t\t\"abs-cbn\",\n",
    "\t\t\t\"house votes\",\n",
    "\t\t\t\"senate votes\",\n",
    "\t\t\t\"opposition\"]\n",
    "\t\t\t\n",
    "\t\t\t\n",
    "province_taglist\t=\t[\"palawan\",\t\n",
    "\t\t\t\"manobo\",\n",
    "\t\t\t\"tuguegarao\",\n",
    "\t\t\t\"cagayan valley\",\n",
    "\t\t\t\"igorot\",\n",
    "\t\t\t\"lumad\",\n",
    "\t\t\t\"ipra\",\n",
    "\t\t\t\"indigenous\",\n",
    "\t\t\t\"kankanaey\",\n",
    "\t\t\t\"palawano\",\n",
    "\t\t\t\"agutaya\",\n",
    "\t\t\t\"malaybalay\",\n",
    "\t\t\t\"bukidnon\",\n",
    "\t\t\t\"higaunon\",\n",
    "\t\t\t\"davao\"]\n",
    "\t\t\t\n",
    "\t\t\t\n",
    "ncr_taglist\t=\t[\"rizal province\",\t\n",
    "\t\t\t\"antipolo\",\n",
    "\t\t\t\"mandaluyong\",\n",
    "\t\t\t\"cainta\",\n",
    "\t\t\t\"edsa\",\n",
    "\t\t\t\"taguig\",\n",
    "\t\t\t\"quezon city\"]\n",
    "\t\t\t\n",
    "\t\t\t\n",
    "chrgroup_taglist\t=\t[\"catholic\",\t\n",
    "\t\t\t\"catholic bishop’s conference of the philippines\",\n",
    "\t\t\t\"catholic bishops conference of the philippines\",\n",
    "\t\t\t\"cbcp\",\n",
    "\t\t\t\"iglesia ni cristo\",\n",
    "\t\t\t\"quiboloy\",\n",
    "\t\t\t\"quibuloy\"]\n",
    "\t\t\t\n",
    "\t\t\t\n",
    "moro_taglist\t=\t[\"moro\",\t\n",
    "\t\t\t\"bangsamoro\",\n",
    "\t\t\t\"barmm\",\n",
    "\t\t\t\"sultan kudarat\",\n",
    "\t\t\t\"sulu\",\n",
    "\t\t\t\"basilan\",\n",
    "\t\t\t\"jolo\",\n",
    "\t\t\t\"maranao\",\n",
    "\t\t\t\"tausug\",\n",
    "\t\t\t\"maguindanao\",\n",
    "\t\t\t\"cotobato\",\n",
    "\t\t\t\"cotabato\",\n",
    "\t\t\t\"sabah\",\n",
    "\t\t\t\"sultan of sulu\",\n",
    "\t\t\t\"sultanate of sulu\"]\n",
    "\t\t\t\n",
    "\t\t\t\n",
    "auth_taglist\t=\t[\"duterte\",\t\n",
    "\t\t\t\"red-tagging\",\n",
    "\t\t\t\"anti-terror\",\n",
    "\t\t\t\"jose calida\",\n",
    "\t\t\t\"solicitor general\",\n",
    "\t\t\t\"medialdea\",\n",
    "\t\t\t\"bong go\",\n",
    "\t\t\t\"bato dela rosa\",\n",
    "\t\t\t\"ronald dela rosa\",\n",
    "\t\t\t\"dela rosa\",\n",
    "\t\t\t\"de la rosa\"]\n",
    "\n",
    "\n",
    "taglist =  covid_taglist+ auth_taglist+ chinathreat_taglist+ chrgroup_taglist+ econ_taglist+ insurgency_taglist+ moro_taglist+ ncr_taglist+ province_taglist+ pulitika_taglist\n",
    "taglist = list(set(taglist))\n",
    "taglist.sort()\n"
   ]
  },
  {
   "cell_type": "code",
   "execution_count": 5,
   "metadata": {},
   "outputs": [
    {
     "name": "stdout",
     "output_type": "stream",
     "text": [
      "Percent complete all sources list: 5.3%\n",
      "Percent complete http://davaotoday.com/main/ list: 0.6%\n",
      "Percent complete http://davaotoday.com/main/ list: 1.2%\n",
      "Percent complete http://davaotoday.com/main/ list: 1.7%\n",
      "Percent complete http://davaotoday.com/main/ list: 2.3%\n",
      "Percent complete http://davaotoday.com/main/ list: 2.9%\n",
      "Percent complete http://davaotoday.com/main/ list: 3.5%\n",
      "Percent complete http://davaotoday.com/main/ list: 4.1%\n",
      "Percent complete http://davaotoday.com/main/ list: 4.7%\n",
      "Percent complete http://davaotoday.com/main/ list: 5.2%\n",
      "Percent complete http://davaotoday.com/main/ list: 5.8%\n",
      "Percent complete http://davaotoday.com/main/ list: 6.4%\n",
      "Percent complete http://davaotoday.com/main/ list: 7.0%\n",
      "Percent complete http://davaotoday.com/main/ list: 7.6%\n",
      "Percent complete http://davaotoday.com/main/ list: 8.1%\n",
      "Percent complete http://davaotoday.com/main/ list: 8.7%\n",
      "Percent complete http://davaotoday.com/main/ list: 9.3%\n",
      "Percent complete http://davaotoday.com/main/ list: 9.9%\n",
      "Percent complete http://davaotoday.com/main/ list: 10.5%\n",
      "Percent complete http://davaotoday.com/main/ list: 11.0%\n",
      "Percent complete http://davaotoday.com/main/ list: 11.6%\n",
      "Percent complete http://davaotoday.com/main/ list: 12.2%\n",
      "Percent complete http://davaotoday.com/main/ list: 12.8%\n",
      "Percent complete http://davaotoday.com/main/ list: 13.4%\n",
      "Percent complete http://davaotoday.com/main/ list: 14.0%\n",
      "Percent complete http://davaotoday.com/main/ list: 14.5%\n",
      "Percent complete http://davaotoday.com/main/ list: 15.1%\n",
      "Percent complete http://davaotoday.com/main/ list: 15.7%\n",
      "Percent complete http://davaotoday.com/main/ list: 16.3%\n",
      "Percent complete http://davaotoday.com/main/ list: 16.9%\n",
      "Percent complete http://davaotoday.com/main/ list: 17.4%\n",
      "Percent complete http://davaotoday.com/main/ list: 18.0%\n",
      "Percent complete http://davaotoday.com/main/ list: 18.6%\n",
      "Percent complete http://davaotoday.com/main/ list: 19.2%\n",
      "Percent complete http://davaotoday.com/main/ list: 19.8%\n",
      "Percent complete http://davaotoday.com/main/ list: 20.3%\n",
      "Percent complete http://davaotoday.com/main/ list: 20.9%\n",
      "Percent complete http://davaotoday.com/main/ list: 21.5%\n",
      "Percent complete http://davaotoday.com/main/ list: 22.1%\n",
      "Percent complete http://davaotoday.com/main/ list: 22.7%\n",
      "Percent complete http://davaotoday.com/main/ list: 23.3%\n",
      "Percent complete http://davaotoday.com/main/ list: 23.8%\n",
      "Percent complete http://davaotoday.com/main/ list: 24.4%\n",
      "Percent complete http://davaotoday.com/main/ list: 25.0%\n",
      "Percent complete http://davaotoday.com/main/ list: 25.6%\n",
      "Percent complete http://davaotoday.com/main/ list: 26.2%\n",
      "Percent complete http://davaotoday.com/main/ list: 26.7%\n",
      "Percent complete http://davaotoday.com/main/ list: 27.3%\n",
      "Percent complete http://davaotoday.com/main/ list: 27.9%\n",
      "Percent complete http://davaotoday.com/main/ list: 28.5%\n",
      "Percent complete http://davaotoday.com/main/ list: 29.1%\n",
      "Percent complete http://davaotoday.com/main/ list: 29.7%\n",
      "Percent complete http://davaotoday.com/main/ list: 30.2%\n",
      "Percent complete http://davaotoday.com/main/ list: 30.8%\n",
      "Percent complete http://davaotoday.com/main/ list: 31.4%\n",
      "Percent complete http://davaotoday.com/main/ list: 32.0%\n",
      "Percent complete http://davaotoday.com/main/ list: 32.6%\n",
      "Percent complete http://davaotoday.com/main/ list: 33.1%\n",
      "Percent complete http://davaotoday.com/main/ list: 33.7%\n",
      "Percent complete http://davaotoday.com/main/ list: 34.3%\n",
      "Percent complete http://davaotoday.com/main/ list: 34.9%\n",
      "Percent complete http://davaotoday.com/main/ list: 35.5%\n",
      "Percent complete http://davaotoday.com/main/ list: 36.0%\n",
      "Percent complete http://davaotoday.com/main/ list: 36.6%\n",
      "Percent complete http://davaotoday.com/main/ list: 37.2%\n",
      "Percent complete http://davaotoday.com/main/ list: 37.8%\n",
      "Percent complete http://davaotoday.com/main/ list: 38.4%\n",
      "Percent complete http://davaotoday.com/main/ list: 39.0%\n",
      "Percent complete http://davaotoday.com/main/ list: 39.5%\n",
      "Percent complete http://davaotoday.com/main/ list: 40.1%\n",
      "Percent complete http://davaotoday.com/main/ list: 40.7%\n",
      "Percent complete http://davaotoday.com/main/ list: 41.3%\n",
      "Percent complete http://davaotoday.com/main/ list: 41.9%\n",
      "Percent complete http://davaotoday.com/main/ list: 42.4%\n",
      "Percent complete http://davaotoday.com/main/ list: 43.0%\n",
      "Percent complete http://davaotoday.com/main/ list: 43.6%\n",
      "Percent complete http://davaotoday.com/main/ list: 44.2%\n",
      "Percent complete http://davaotoday.com/main/ list: 44.8%\n",
      "Percent complete http://davaotoday.com/main/ list: 45.3%\n",
      "Percent complete http://davaotoday.com/main/ list: 45.9%\n",
      "Percent complete http://davaotoday.com/main/ list: 46.5%\n",
      "Percent complete http://davaotoday.com/main/ list: 47.1%\n",
      "Percent complete http://davaotoday.com/main/ list: 47.7%\n",
      "Percent complete http://davaotoday.com/main/ list: 48.3%\n",
      "Percent complete http://davaotoday.com/main/ list: 48.8%\n",
      "Percent complete http://davaotoday.com/main/ list: 49.4%\n",
      "Percent complete http://davaotoday.com/main/ list: 50.0%\n",
      "Percent complete http://davaotoday.com/main/ list: 50.6%\n",
      "Percent complete http://davaotoday.com/main/ list: 51.2%\n",
      "Percent complete http://davaotoday.com/main/ list: 51.7%\n",
      "Percent complete http://davaotoday.com/main/ list: 52.3%\n",
      "Percent complete http://davaotoday.com/main/ list: 52.9%\n",
      "Percent complete http://davaotoday.com/main/ list: 53.5%\n",
      "Percent complete http://davaotoday.com/main/ list: 54.1%\n",
      "Percent complete http://davaotoday.com/main/ list: 54.7%\n",
      "Percent complete http://davaotoday.com/main/ list: 55.2%\n",
      "Percent complete http://davaotoday.com/main/ list: 55.8%\n",
      "Percent complete http://davaotoday.com/main/ list: 56.4%\n",
      "Percent complete http://davaotoday.com/main/ list: 57.0%\n",
      "Percent complete http://davaotoday.com/main/ list: 57.6%\n",
      "Percent complete http://davaotoday.com/main/ list: 58.1%\n",
      "Percent complete http://davaotoday.com/main/ list: 58.7%\n",
      "Percent complete http://davaotoday.com/main/ list: 59.3%\n",
      "Percent complete http://davaotoday.com/main/ list: 59.9%\n",
      "Percent complete http://davaotoday.com/main/ list: 60.5%\n",
      "Percent complete http://davaotoday.com/main/ list: 61.0%\n",
      "Percent complete http://davaotoday.com/main/ list: 61.6%\n",
      "Percent complete http://davaotoday.com/main/ list: 62.2%\n",
      "Percent complete http://davaotoday.com/main/ list: 62.8%\n",
      "Percent complete http://davaotoday.com/main/ list: 63.4%\n",
      "Percent complete http://davaotoday.com/main/ list: 64.0%\n",
      "Percent complete http://davaotoday.com/main/ list: 64.5%\n",
      "Percent complete http://davaotoday.com/main/ list: 65.1%\n",
      "Percent complete http://davaotoday.com/main/ list: 65.7%\n",
      "Percent complete http://davaotoday.com/main/ list: 66.3%\n",
      "Percent complete http://davaotoday.com/main/ list: 66.9%\n",
      "Percent complete http://davaotoday.com/main/ list: 67.4%\n",
      "Percent complete http://davaotoday.com/main/ list: 68.0%\n",
      "Percent complete http://davaotoday.com/main/ list: 68.6%\n",
      "Percent complete http://davaotoday.com/main/ list: 69.2%\n",
      "Percent complete http://davaotoday.com/main/ list: 69.8%\n",
      "Percent complete http://davaotoday.com/main/ list: 70.3%\n",
      "Percent complete http://davaotoday.com/main/ list: 70.9%\n",
      "Percent complete http://davaotoday.com/main/ list: 71.5%\n",
      "Percent complete http://davaotoday.com/main/ list: 72.1%\n",
      "Percent complete http://davaotoday.com/main/ list: 72.7%\n",
      "Percent complete http://davaotoday.com/main/ list: 73.3%\n",
      "Percent complete http://davaotoday.com/main/ list: 73.8%\n",
      "Percent complete http://davaotoday.com/main/ list: 74.4%\n",
      "Percent complete http://davaotoday.com/main/ list: 75.0%\n",
      "Percent complete http://davaotoday.com/main/ list: 75.6%\n",
      "Percent complete http://davaotoday.com/main/ list: 76.2%\n",
      "Percent complete http://davaotoday.com/main/ list: 76.7%\n",
      "Percent complete http://davaotoday.com/main/ list: 77.3%\n",
      "Percent complete http://davaotoday.com/main/ list: 77.9%\n",
      "Percent complete http://davaotoday.com/main/ list: 78.5%\n",
      "Percent complete http://davaotoday.com/main/ list: 79.1%\n",
      "Percent complete http://davaotoday.com/main/ list: 79.7%\n",
      "Percent complete http://davaotoday.com/main/ list: 80.2%\n",
      "Percent complete http://davaotoday.com/main/ list: 80.8%\n",
      "Percent complete http://davaotoday.com/main/ list: 81.4%\n",
      "Percent complete http://davaotoday.com/main/ list: 82.0%\n",
      "Percent complete http://davaotoday.com/main/ list: 82.6%\n",
      "Percent complete http://davaotoday.com/main/ list: 83.1%\n",
      "Percent complete http://davaotoday.com/main/ list: 83.7%\n",
      "Percent complete http://davaotoday.com/main/ list: 84.3%\n",
      "Percent complete http://davaotoday.com/main/ list: 84.9%\n",
      "Percent complete http://davaotoday.com/main/ list: 85.5%\n",
      "Percent complete http://davaotoday.com/main/ list: 86.0%\n",
      "Percent complete http://davaotoday.com/main/ list: 86.6%\n",
      "Percent complete http://davaotoday.com/main/ list: 87.2%\n",
      "Percent complete http://davaotoday.com/main/ list: 87.8%\n",
      "Percent complete http://davaotoday.com/main/ list: 88.4%\n",
      "Percent complete http://davaotoday.com/main/ list: 89.0%\n",
      "Percent complete http://davaotoday.com/main/ list: 89.5%\n",
      "Percent complete http://davaotoday.com/main/ list: 90.1%\n",
      "Percent complete http://davaotoday.com/main/ list: 90.7%\n",
      "Percent complete http://davaotoday.com/main/ list: 91.3%\n",
      "Percent complete http://davaotoday.com/main/ list: 91.9%\n",
      "Percent complete http://davaotoday.com/main/ list: 92.4%\n",
      "Percent complete http://davaotoday.com/main/ list: 93.0%\n",
      "Percent complete http://davaotoday.com/main/ list: 93.6%\n",
      "Percent complete http://davaotoday.com/main/ list: 94.2%\n",
      "Percent complete http://davaotoday.com/main/ list: 94.8%\n",
      "Percent complete http://davaotoday.com/main/ list: 95.3%\n",
      "Percent complete http://davaotoday.com/main/ list: 95.9%\n",
      "Percent complete http://davaotoday.com/main/ list: 96.5%\n",
      "Percent complete http://davaotoday.com/main/ list: 97.1%\n",
      "Percent complete http://davaotoday.com/main/ list: 97.7%\n",
      "Percent complete http://davaotoday.com/main/ list: 98.3%\n",
      "Percent complete http://davaotoday.com/main/ list: 98.8%\n",
      "Percent complete http://davaotoday.com/main/ list: 99.4%\n",
      "Percent complete http://davaotoday.com/main/ list: 100.0%\n",
      "Percent complete all sources list: 10.5%\n"
     ]
    },
    {
     "name": "stdout",
     "output_type": "stream",
     "text": [
      "Percent complete https://www.eaglenews.ph/ list: 0.4%\n",
      "Percent complete https://www.eaglenews.ph/ list: 0.7%\n",
      "Percent complete https://www.eaglenews.ph/ list: 1.1%\n",
      "Percent complete https://www.eaglenews.ph/ list: 1.4%\n",
      "Percent complete https://www.eaglenews.ph/ list: 1.8%\n",
      "Percent complete https://www.eaglenews.ph/ list: 2.2%\n",
      "Percent complete https://www.eaglenews.ph/ list: 2.5%\n",
      "Percent complete https://www.eaglenews.ph/ list: 2.9%\n",
      "Percent complete https://www.eaglenews.ph/ list: 3.2%\n",
      "Percent complete https://www.eaglenews.ph/ list: 3.6%\n",
      "Percent complete https://www.eaglenews.ph/ list: 4.0%\n",
      "Percent complete https://www.eaglenews.ph/ list: 4.3%\n",
      "Percent complete https://www.eaglenews.ph/ list: 4.7%\n",
      "Percent complete https://www.eaglenews.ph/ list: 5.1%\n",
      "Percent complete https://www.eaglenews.ph/ list: 5.4%\n",
      "Percent complete https://www.eaglenews.ph/ list: 5.8%\n",
      "Percent complete https://www.eaglenews.ph/ list: 6.1%\n",
      "Percent complete https://www.eaglenews.ph/ list: 6.5%\n",
      "Percent complete https://www.eaglenews.ph/ list: 6.9%\n",
      "Percent complete https://www.eaglenews.ph/ list: 7.2%\n",
      "Percent complete https://www.eaglenews.ph/ list: 7.6%\n",
      "Percent complete https://www.eaglenews.ph/ list: 7.9%\n",
      "Percent complete https://www.eaglenews.ph/ list: 8.3%\n",
      "Percent complete https://www.eaglenews.ph/ list: 8.7%\n",
      "Percent complete https://www.eaglenews.ph/ list: 9.0%\n",
      "Percent complete https://www.eaglenews.ph/ list: 9.4%\n",
      "Percent complete https://www.eaglenews.ph/ list: 9.7%\n",
      "Percent complete https://www.eaglenews.ph/ list: 10.1%\n",
      "Percent complete https://www.eaglenews.ph/ list: 10.5%\n",
      "Percent complete https://www.eaglenews.ph/ list: 10.8%\n",
      "Percent complete https://www.eaglenews.ph/ list: 11.2%\n",
      "Percent complete https://www.eaglenews.ph/ list: 11.6%\n",
      "Percent complete https://www.eaglenews.ph/ list: 11.9%\n",
      "Percent complete https://www.eaglenews.ph/ list: 12.3%\n",
      "Percent complete https://www.eaglenews.ph/ list: 12.6%\n",
      "Percent complete https://www.eaglenews.ph/ list: 13.0%\n",
      "Percent complete https://www.eaglenews.ph/ list: 13.4%\n",
      "Percent complete https://www.eaglenews.ph/ list: 13.7%\n",
      "Percent complete https://www.eaglenews.ph/ list: 14.1%\n",
      "Percent complete https://www.eaglenews.ph/ list: 14.4%\n",
      "Percent complete https://www.eaglenews.ph/ list: 14.8%\n",
      "Percent complete https://www.eaglenews.ph/ list: 15.2%\n",
      "Percent complete https://www.eaglenews.ph/ list: 15.5%\n",
      "Percent complete https://www.eaglenews.ph/ list: 15.9%\n",
      "Percent complete https://www.eaglenews.ph/ list: 16.2%\n",
      "Percent complete https://www.eaglenews.ph/ list: 16.6%\n",
      "Percent complete https://www.eaglenews.ph/ list: 17.0%\n",
      "Percent complete https://www.eaglenews.ph/ list: 17.3%\n",
      "Percent complete https://www.eaglenews.ph/ list: 17.7%\n",
      "Percent complete https://www.eaglenews.ph/ list: 18.1%\n",
      "Percent complete https://www.eaglenews.ph/ list: 18.4%\n",
      "Percent complete https://www.eaglenews.ph/ list: 18.8%\n",
      "Percent complete https://www.eaglenews.ph/ list: 19.1%\n",
      "Percent complete https://www.eaglenews.ph/ list: 19.5%\n",
      "Percent complete https://www.eaglenews.ph/ list: 19.9%\n",
      "Percent complete https://www.eaglenews.ph/ list: 20.2%\n",
      "Percent complete https://www.eaglenews.ph/ list: 20.6%\n",
      "Percent complete https://www.eaglenews.ph/ list: 20.9%\n",
      "Percent complete https://www.eaglenews.ph/ list: 21.3%\n",
      "Percent complete https://www.eaglenews.ph/ list: 21.7%\n",
      "Percent complete https://www.eaglenews.ph/ list: 22.0%\n",
      "Percent complete https://www.eaglenews.ph/ list: 22.4%\n",
      "Percent complete https://www.eaglenews.ph/ list: 22.7%\n",
      "Percent complete https://www.eaglenews.ph/ list: 23.1%\n",
      "Percent complete https://www.eaglenews.ph/ list: 23.5%\n",
      "Percent complete https://www.eaglenews.ph/ list: 23.8%\n",
      "Percent complete https://www.eaglenews.ph/ list: 24.2%\n",
      "Percent complete https://www.eaglenews.ph/ list: 24.5%\n",
      "Percent complete https://www.eaglenews.ph/ list: 24.9%\n",
      "Percent complete https://www.eaglenews.ph/ list: 25.3%\n",
      "Percent complete https://www.eaglenews.ph/ list: 25.6%\n",
      "Percent complete https://www.eaglenews.ph/ list: 26.0%\n",
      "Percent complete https://www.eaglenews.ph/ list: 26.4%\n",
      "Percent complete https://www.eaglenews.ph/ list: 26.7%\n",
      "Percent complete https://www.eaglenews.ph/ list: 27.1%\n",
      "Percent complete https://www.eaglenews.ph/ list: 27.4%\n",
      "Percent complete https://www.eaglenews.ph/ list: 27.8%\n",
      "Percent complete https://www.eaglenews.ph/ list: 28.2%\n",
      "Percent complete https://www.eaglenews.ph/ list: 28.5%\n",
      "Percent complete https://www.eaglenews.ph/ list: 28.9%\n",
      "Percent complete https://www.eaglenews.ph/ list: 29.2%\n",
      "Percent complete https://www.eaglenews.ph/ list: 29.6%\n",
      "Percent complete https://www.eaglenews.ph/ list: 30.0%\n",
      "Percent complete https://www.eaglenews.ph/ list: 30.3%\n",
      "Percent complete https://www.eaglenews.ph/ list: 30.7%\n",
      "Percent complete https://www.eaglenews.ph/ list: 31.0%\n",
      "Percent complete https://www.eaglenews.ph/ list: 31.4%\n",
      "Percent complete https://www.eaglenews.ph/ list: 31.8%\n",
      "Percent complete https://www.eaglenews.ph/ list: 32.1%\n",
      "Percent complete https://www.eaglenews.ph/ list: 32.5%\n",
      "Percent complete https://www.eaglenews.ph/ list: 32.9%\n",
      "Percent complete https://www.eaglenews.ph/ list: 33.2%\n",
      "Percent complete https://www.eaglenews.ph/ list: 33.6%\n",
      "Percent complete https://www.eaglenews.ph/ list: 33.9%\n",
      "Percent complete https://www.eaglenews.ph/ list: 34.3%\n",
      "Percent complete https://www.eaglenews.ph/ list: 34.7%\n",
      "Percent complete https://www.eaglenews.ph/ list: 35.0%\n",
      "Percent complete https://www.eaglenews.ph/ list: 35.4%\n",
      "Percent complete https://www.eaglenews.ph/ list: 35.7%\n",
      "Percent complete https://www.eaglenews.ph/ list: 36.1%\n",
      "Percent complete https://www.eaglenews.ph/ list: 36.5%\n",
      "Percent complete https://www.eaglenews.ph/ list: 36.8%\n",
      "Percent complete https://www.eaglenews.ph/ list: 37.2%\n",
      "Percent complete https://www.eaglenews.ph/ list: 37.5%\n",
      "Percent complete https://www.eaglenews.ph/ list: 37.9%\n",
      "Percent complete https://www.eaglenews.ph/ list: 38.3%\n",
      "Percent complete https://www.eaglenews.ph/ list: 38.6%\n",
      "Percent complete https://www.eaglenews.ph/ list: 39.0%\n",
      "Percent complete https://www.eaglenews.ph/ list: 39.4%\n",
      "Percent complete https://www.eaglenews.ph/ list: 39.7%\n",
      "Percent complete https://www.eaglenews.ph/ list: 40.1%\n",
      "Percent complete https://www.eaglenews.ph/ list: 40.4%\n",
      "Percent complete https://www.eaglenews.ph/ list: 40.8%\n",
      "Percent complete https://www.eaglenews.ph/ list: 41.2%\n",
      "Percent complete https://www.eaglenews.ph/ list: 41.5%\n",
      "Percent complete https://www.eaglenews.ph/ list: 41.9%\n",
      "Percent complete https://www.eaglenews.ph/ list: 42.2%\n",
      "Percent complete https://www.eaglenews.ph/ list: 42.6%\n",
      "Percent complete https://www.eaglenews.ph/ list: 43.0%\n",
      "Percent complete https://www.eaglenews.ph/ list: 43.3%\n",
      "Percent complete https://www.eaglenews.ph/ list: 43.7%\n",
      "Percent complete https://www.eaglenews.ph/ list: 44.0%\n",
      "Percent complete https://www.eaglenews.ph/ list: 44.4%\n",
      "Percent complete https://www.eaglenews.ph/ list: 44.8%\n",
      "Percent complete https://www.eaglenews.ph/ list: 45.1%\n",
      "Percent complete https://www.eaglenews.ph/ list: 45.5%\n",
      "Percent complete https://www.eaglenews.ph/ list: 45.8%\n",
      "Percent complete https://www.eaglenews.ph/ list: 46.2%\n",
      "Percent complete https://www.eaglenews.ph/ list: 46.6%\n",
      "Percent complete https://www.eaglenews.ph/ list: 46.9%\n",
      "Percent complete https://www.eaglenews.ph/ list: 47.3%\n",
      "Percent complete https://www.eaglenews.ph/ list: 47.7%\n",
      "Percent complete https://www.eaglenews.ph/ list: 48.0%\n",
      "Percent complete https://www.eaglenews.ph/ list: 48.4%\n",
      "Percent complete https://www.eaglenews.ph/ list: 48.7%\n",
      "Percent complete https://www.eaglenews.ph/ list: 49.1%\n",
      "Percent complete https://www.eaglenews.ph/ list: 49.5%\n",
      "Percent complete https://www.eaglenews.ph/ list: 49.8%\n",
      "Percent complete https://www.eaglenews.ph/ list: 50.2%\n",
      "Percent complete https://www.eaglenews.ph/ list: 50.5%\n",
      "Percent complete https://www.eaglenews.ph/ list: 50.9%\n",
      "Percent complete https://www.eaglenews.ph/ list: 51.3%\n",
      "Percent complete https://www.eaglenews.ph/ list: 51.6%\n",
      "Percent complete https://www.eaglenews.ph/ list: 52.0%\n",
      "Percent complete https://www.eaglenews.ph/ list: 52.3%\n",
      "Percent complete https://www.eaglenews.ph/ list: 52.7%\n",
      "Percent complete https://www.eaglenews.ph/ list: 53.1%\n",
      "Percent complete https://www.eaglenews.ph/ list: 53.4%\n",
      "Percent complete https://www.eaglenews.ph/ list: 53.8%\n",
      "Percent complete https://www.eaglenews.ph/ list: 54.2%\n",
      "Percent complete https://www.eaglenews.ph/ list: 54.5%\n",
      "Percent complete https://www.eaglenews.ph/ list: 54.9%\n",
      "Percent complete https://www.eaglenews.ph/ list: 55.2%\n",
      "Percent complete https://www.eaglenews.ph/ list: 55.6%\n",
      "Percent complete https://www.eaglenews.ph/ list: 56.0%\n",
      "Percent complete https://www.eaglenews.ph/ list: 56.3%\n",
      "Percent complete https://www.eaglenews.ph/ list: 56.7%\n",
      "Percent complete https://www.eaglenews.ph/ list: 57.0%\n",
      "Percent complete https://www.eaglenews.ph/ list: 57.4%\n",
      "Percent complete https://www.eaglenews.ph/ list: 57.8%\n",
      "Percent complete https://www.eaglenews.ph/ list: 58.1%\n",
      "Percent complete https://www.eaglenews.ph/ list: 58.5%\n",
      "Percent complete https://www.eaglenews.ph/ list: 58.8%\n",
      "Percent complete https://www.eaglenews.ph/ list: 59.2%\n",
      "Percent complete https://www.eaglenews.ph/ list: 59.6%\n",
      "Percent complete https://www.eaglenews.ph/ list: 59.9%\n",
      "Percent complete https://www.eaglenews.ph/ list: 60.3%\n",
      "Percent complete https://www.eaglenews.ph/ list: 60.6%\n",
      "Percent complete https://www.eaglenews.ph/ list: 61.0%\n",
      "Percent complete https://www.eaglenews.ph/ list: 61.4%\n",
      "Percent complete https://www.eaglenews.ph/ list: 61.7%\n",
      "Percent complete https://www.eaglenews.ph/ list: 62.1%\n",
      "Percent complete https://www.eaglenews.ph/ list: 62.5%\n",
      "Percent complete https://www.eaglenews.ph/ list: 62.8%\n",
      "Percent complete https://www.eaglenews.ph/ list: 63.2%\n",
      "Percent complete https://www.eaglenews.ph/ list: 63.5%\n",
      "Percent complete https://www.eaglenews.ph/ list: 63.9%\n",
      "Percent complete https://www.eaglenews.ph/ list: 64.3%\n",
      "Percent complete https://www.eaglenews.ph/ list: 64.6%\n",
      "Percent complete https://www.eaglenews.ph/ list: 65.0%\n",
      "Percent complete https://www.eaglenews.ph/ list: 65.3%\n",
      "Percent complete https://www.eaglenews.ph/ list: 65.7%\n",
      "Percent complete https://www.eaglenews.ph/ list: 66.1%\n",
      "Percent complete https://www.eaglenews.ph/ list: 66.4%\n",
      "Percent complete https://www.eaglenews.ph/ list: 66.8%\n",
      "Percent complete https://www.eaglenews.ph/ list: 67.1%\n",
      "Percent complete https://www.eaglenews.ph/ list: 67.5%\n",
      "Percent complete https://www.eaglenews.ph/ list: 67.9%\n",
      "Percent complete https://www.eaglenews.ph/ list: 68.2%\n",
      "Percent complete https://www.eaglenews.ph/ list: 68.6%\n",
      "Percent complete https://www.eaglenews.ph/ list: 69.0%\n",
      "Percent complete https://www.eaglenews.ph/ list: 69.3%\n",
      "Percent complete https://www.eaglenews.ph/ list: 69.7%\n",
      "Percent complete https://www.eaglenews.ph/ list: 70.0%\n",
      "Percent complete https://www.eaglenews.ph/ list: 70.4%\n",
      "Percent complete https://www.eaglenews.ph/ list: 70.8%\n",
      "Percent complete https://www.eaglenews.ph/ list: 71.1%\n",
      "Percent complete https://www.eaglenews.ph/ list: 71.5%\n",
      "Percent complete https://www.eaglenews.ph/ list: 71.8%\n",
      "Percent complete https://www.eaglenews.ph/ list: 72.2%\n",
      "Percent complete https://www.eaglenews.ph/ list: 72.6%\n",
      "Percent complete https://www.eaglenews.ph/ list: 72.9%\n",
      "Percent complete https://www.eaglenews.ph/ list: 73.3%\n",
      "Percent complete https://www.eaglenews.ph/ list: 73.6%\n",
      "Percent complete https://www.eaglenews.ph/ list: 74.0%\n",
      "Percent complete https://www.eaglenews.ph/ list: 74.4%\n",
      "Percent complete https://www.eaglenews.ph/ list: 74.7%\n",
      "Percent complete https://www.eaglenews.ph/ list: 75.1%\n",
      "Percent complete https://www.eaglenews.ph/ list: 75.5%\n",
      "Percent complete https://www.eaglenews.ph/ list: 75.8%\n",
      "Percent complete https://www.eaglenews.ph/ list: 76.2%\n",
      "Percent complete https://www.eaglenews.ph/ list: 76.5%\n",
      "Percent complete https://www.eaglenews.ph/ list: 76.9%\n",
      "Percent complete https://www.eaglenews.ph/ list: 77.3%\n",
      "Percent complete https://www.eaglenews.ph/ list: 77.6%\n",
      "Percent complete https://www.eaglenews.ph/ list: 78.0%\n",
      "Percent complete https://www.eaglenews.ph/ list: 78.3%\n",
      "Percent complete https://www.eaglenews.ph/ list: 78.7%\n",
      "Percent complete https://www.eaglenews.ph/ list: 79.1%\n",
      "Percent complete https://www.eaglenews.ph/ list: 79.4%\n",
      "Percent complete https://www.eaglenews.ph/ list: 79.8%\n",
      "Percent complete https://www.eaglenews.ph/ list: 80.1%\n",
      "Percent complete https://www.eaglenews.ph/ list: 80.5%\n",
      "Percent complete https://www.eaglenews.ph/ list: 80.9%\n",
      "Percent complete https://www.eaglenews.ph/ list: 81.2%\n",
      "Percent complete https://www.eaglenews.ph/ list: 81.6%\n",
      "Percent complete https://www.eaglenews.ph/ list: 81.9%\n",
      "Percent complete https://www.eaglenews.ph/ list: 82.3%\n",
      "Percent complete https://www.eaglenews.ph/ list: 82.7%\n",
      "Percent complete https://www.eaglenews.ph/ list: 83.0%\n",
      "Percent complete https://www.eaglenews.ph/ list: 83.4%\n",
      "Percent complete https://www.eaglenews.ph/ list: 83.8%\n",
      "Percent complete https://www.eaglenews.ph/ list: 84.1%\n",
      "Percent complete https://www.eaglenews.ph/ list: 84.5%\n",
      "Percent complete https://www.eaglenews.ph/ list: 84.8%\n",
      "Percent complete https://www.eaglenews.ph/ list: 85.2%\n",
      "Percent complete https://www.eaglenews.ph/ list: 85.6%\n",
      "Percent complete https://www.eaglenews.ph/ list: 85.9%\n",
      "Percent complete https://www.eaglenews.ph/ list: 86.3%\n",
      "Percent complete https://www.eaglenews.ph/ list: 86.6%\n",
      "Percent complete https://www.eaglenews.ph/ list: 87.0%\n",
      "Percent complete https://www.eaglenews.ph/ list: 87.4%\n",
      "Percent complete https://www.eaglenews.ph/ list: 87.7%\n",
      "Percent complete https://www.eaglenews.ph/ list: 88.1%\n",
      "Percent complete https://www.eaglenews.ph/ list: 88.4%\n",
      "Percent complete https://www.eaglenews.ph/ list: 88.8%\n",
      "Percent complete https://www.eaglenews.ph/ list: 89.2%\n",
      "Percent complete https://www.eaglenews.ph/ list: 89.5%\n",
      "Percent complete https://www.eaglenews.ph/ list: 89.9%\n",
      "Percent complete https://www.eaglenews.ph/ list: 90.3%\n",
      "Percent complete https://www.eaglenews.ph/ list: 90.6%\n",
      "Percent complete https://www.eaglenews.ph/ list: 91.0%\n",
      "Percent complete https://www.eaglenews.ph/ list: 91.3%\n",
      "Percent complete https://www.eaglenews.ph/ list: 91.7%\n",
      "Percent complete https://www.eaglenews.ph/ list: 92.1%\n",
      "Percent complete https://www.eaglenews.ph/ list: 92.4%\n",
      "Percent complete https://www.eaglenews.ph/ list: 92.8%\n",
      "Percent complete https://www.eaglenews.ph/ list: 93.1%\n",
      "Percent complete https://www.eaglenews.ph/ list: 93.5%\n",
      "Percent complete https://www.eaglenews.ph/ list: 93.9%\n",
      "Percent complete https://www.eaglenews.ph/ list: 94.2%\n",
      "Percent complete https://www.eaglenews.ph/ list: 94.6%\n",
      "Percent complete https://www.eaglenews.ph/ list: 94.9%\n",
      "Percent complete https://www.eaglenews.ph/ list: 95.3%\n",
      "Percent complete https://www.eaglenews.ph/ list: 95.7%\n",
      "Percent complete https://www.eaglenews.ph/ list: 96.0%\n",
      "Percent complete https://www.eaglenews.ph/ list: 96.4%\n",
      "Percent complete https://www.eaglenews.ph/ list: 96.8%\n",
      "Percent complete https://www.eaglenews.ph/ list: 97.1%\n",
      "Percent complete https://www.eaglenews.ph/ list: 97.5%\n",
      "Percent complete https://www.eaglenews.ph/ list: 97.8%\n",
      "Percent complete https://www.eaglenews.ph/ list: 98.2%\n",
      "Percent complete https://www.eaglenews.ph/ list: 98.6%\n",
      "Percent complete https://www.eaglenews.ph/ list: 98.9%\n",
      "Percent complete https://www.eaglenews.ph/ list: 99.3%\n",
      "Percent complete https://www.eaglenews.ph/ list: 99.6%\n",
      "Percent complete https://www.eaglenews.ph/ list: 100.0%\n",
      "Percent complete all sources list: 15.8%\n"
     ]
    },
    {
     "name": "stdout",
     "output_type": "stream",
     "text": [
      "Percent complete https://www.gmanetwork.com/news/ list: 0.7%\n",
      "Percent complete https://www.gmanetwork.com/news/ list: 1.3%\n",
      "Percent complete https://www.gmanetwork.com/news/ list: 2.0%\n",
      "Percent complete https://www.gmanetwork.com/news/ list: 2.6%\n",
      "Percent complete https://www.gmanetwork.com/news/ list: 3.3%\n",
      "Percent complete https://www.gmanetwork.com/news/ list: 4.0%\n",
      "Percent complete https://www.gmanetwork.com/news/ list: 4.6%\n",
      "Percent complete https://www.gmanetwork.com/news/ list: 5.3%\n",
      "Percent complete https://www.gmanetwork.com/news/ list: 6.0%\n",
      "Percent complete https://www.gmanetwork.com/news/ list: 6.6%\n",
      "Percent complete https://www.gmanetwork.com/news/ list: 7.3%\n",
      "Percent complete https://www.gmanetwork.com/news/ list: 7.9%\n",
      "Percent complete https://www.gmanetwork.com/news/ list: 8.6%\n",
      "Percent complete https://www.gmanetwork.com/news/ list: 9.3%\n",
      "Percent complete https://www.gmanetwork.com/news/ list: 9.9%\n",
      "Percent complete https://www.gmanetwork.com/news/ list: 10.6%\n",
      "Percent complete https://www.gmanetwork.com/news/ list: 11.3%\n",
      "Percent complete https://www.gmanetwork.com/news/ list: 11.9%\n",
      "Percent complete https://www.gmanetwork.com/news/ list: 12.6%\n",
      "Percent complete https://www.gmanetwork.com/news/ list: 13.2%\n",
      "Percent complete https://www.gmanetwork.com/news/ list: 13.9%\n",
      "Percent complete https://www.gmanetwork.com/news/ list: 14.6%\n",
      "Percent complete https://www.gmanetwork.com/news/ list: 15.2%\n",
      "Percent complete https://www.gmanetwork.com/news/ list: 15.9%\n",
      "Percent complete https://www.gmanetwork.com/news/ list: 16.6%\n",
      "Percent complete https://www.gmanetwork.com/news/ list: 17.2%\n",
      "Percent complete https://www.gmanetwork.com/news/ list: 17.9%\n",
      "Percent complete https://www.gmanetwork.com/news/ list: 18.5%\n",
      "Percent complete https://www.gmanetwork.com/news/ list: 19.2%\n",
      "Percent complete https://www.gmanetwork.com/news/ list: 19.9%\n",
      "Percent complete https://www.gmanetwork.com/news/ list: 20.5%\n",
      "Percent complete https://www.gmanetwork.com/news/ list: 21.2%\n",
      "Percent complete https://www.gmanetwork.com/news/ list: 21.9%\n",
      "Percent complete https://www.gmanetwork.com/news/ list: 22.5%\n",
      "Percent complete https://www.gmanetwork.com/news/ list: 23.2%\n",
      "Percent complete https://www.gmanetwork.com/news/ list: 23.8%\n",
      "Percent complete https://www.gmanetwork.com/news/ list: 24.5%\n",
      "Percent complete https://www.gmanetwork.com/news/ list: 25.2%\n",
      "Percent complete https://www.gmanetwork.com/news/ list: 25.8%\n",
      "Percent complete https://www.gmanetwork.com/news/ list: 26.5%\n",
      "Percent complete https://www.gmanetwork.com/news/ list: 27.2%\n",
      "Percent complete https://www.gmanetwork.com/news/ list: 27.8%\n",
      "Percent complete https://www.gmanetwork.com/news/ list: 28.5%\n",
      "Percent complete https://www.gmanetwork.com/news/ list: 29.1%\n",
      "Percent complete https://www.gmanetwork.com/news/ list: 29.8%\n",
      "Percent complete https://www.gmanetwork.com/news/ list: 30.5%\n",
      "Percent complete https://www.gmanetwork.com/news/ list: 31.1%\n",
      "Percent complete https://www.gmanetwork.com/news/ list: 31.8%\n",
      "Percent complete https://www.gmanetwork.com/news/ list: 32.5%\n",
      "Percent complete https://www.gmanetwork.com/news/ list: 33.1%\n",
      "Percent complete https://www.gmanetwork.com/news/ list: 33.8%\n",
      "Percent complete https://www.gmanetwork.com/news/ list: 34.4%\n",
      "Percent complete https://www.gmanetwork.com/news/ list: 35.1%\n",
      "Percent complete https://www.gmanetwork.com/news/ list: 35.8%\n",
      "Percent complete https://www.gmanetwork.com/news/ list: 36.4%\n",
      "Percent complete https://www.gmanetwork.com/news/ list: 37.1%\n",
      "Percent complete https://www.gmanetwork.com/news/ list: 37.7%\n",
      "Percent complete https://www.gmanetwork.com/news/ list: 38.4%\n",
      "Percent complete https://www.gmanetwork.com/news/ list: 39.1%\n",
      "Percent complete https://www.gmanetwork.com/news/ list: 39.7%\n",
      "Percent complete https://www.gmanetwork.com/news/ list: 40.4%\n",
      "Percent complete https://www.gmanetwork.com/news/ list: 41.1%\n",
      "Percent complete https://www.gmanetwork.com/news/ list: 41.7%\n",
      "Percent complete https://www.gmanetwork.com/news/ list: 42.4%\n",
      "Percent complete https://www.gmanetwork.com/news/ list: 43.0%\n",
      "Percent complete https://www.gmanetwork.com/news/ list: 43.7%\n",
      "Percent complete https://www.gmanetwork.com/news/ list: 44.4%\n",
      "Percent complete https://www.gmanetwork.com/news/ list: 45.0%\n",
      "Percent complete https://www.gmanetwork.com/news/ list: 45.7%\n",
      "Percent complete https://www.gmanetwork.com/news/ list: 46.4%\n",
      "Percent complete https://www.gmanetwork.com/news/ list: 47.0%\n",
      "Percent complete https://www.gmanetwork.com/news/ list: 47.7%\n",
      "Percent complete https://www.gmanetwork.com/news/ list: 48.3%\n",
      "Percent complete https://www.gmanetwork.com/news/ list: 49.0%\n",
      "Percent complete https://www.gmanetwork.com/news/ list: 49.7%\n",
      "Percent complete https://www.gmanetwork.com/news/ list: 50.3%\n",
      "Percent complete https://www.gmanetwork.com/news/ list: 51.0%\n",
      "Percent complete https://www.gmanetwork.com/news/ list: 51.7%\n",
      "Percent complete https://www.gmanetwork.com/news/ list: 52.3%\n",
      "Percent complete https://www.gmanetwork.com/news/ list: 53.0%\n",
      "Percent complete https://www.gmanetwork.com/news/ list: 53.6%\n",
      "Percent complete https://www.gmanetwork.com/news/ list: 54.3%\n",
      "Percent complete https://www.gmanetwork.com/news/ list: 55.0%\n",
      "Percent complete https://www.gmanetwork.com/news/ list: 55.6%\n",
      "Percent complete https://www.gmanetwork.com/news/ list: 56.3%\n",
      "Percent complete https://www.gmanetwork.com/news/ list: 57.0%\n",
      "Percent complete https://www.gmanetwork.com/news/ list: 57.6%\n",
      "Percent complete https://www.gmanetwork.com/news/ list: 58.3%\n",
      "Percent complete https://www.gmanetwork.com/news/ list: 58.9%\n",
      "Percent complete https://www.gmanetwork.com/news/ list: 59.6%\n",
      "Percent complete https://www.gmanetwork.com/news/ list: 60.3%\n",
      "Percent complete https://www.gmanetwork.com/news/ list: 60.9%\n",
      "Percent complete https://www.gmanetwork.com/news/ list: 61.6%\n",
      "Percent complete https://www.gmanetwork.com/news/ list: 62.3%\n",
      "Percent complete https://www.gmanetwork.com/news/ list: 62.9%\n",
      "Percent complete https://www.gmanetwork.com/news/ list: 63.6%\n",
      "Percent complete https://www.gmanetwork.com/news/ list: 64.2%\n",
      "Percent complete https://www.gmanetwork.com/news/ list: 64.9%\n",
      "Percent complete https://www.gmanetwork.com/news/ list: 65.6%\n",
      "Percent complete https://www.gmanetwork.com/news/ list: 66.2%\n",
      "Percent complete https://www.gmanetwork.com/news/ list: 66.9%\n",
      "Percent complete https://www.gmanetwork.com/news/ list: 67.5%\n",
      "Percent complete https://www.gmanetwork.com/news/ list: 68.2%\n",
      "Percent complete https://www.gmanetwork.com/news/ list: 68.9%\n",
      "Percent complete https://www.gmanetwork.com/news/ list: 69.5%\n",
      "Percent complete https://www.gmanetwork.com/news/ list: 70.2%\n",
      "Percent complete https://www.gmanetwork.com/news/ list: 70.9%\n",
      "Percent complete https://www.gmanetwork.com/news/ list: 71.5%\n",
      "Percent complete https://www.gmanetwork.com/news/ list: 72.2%\n",
      "Percent complete https://www.gmanetwork.com/news/ list: 72.8%\n",
      "Percent complete https://www.gmanetwork.com/news/ list: 73.5%\n",
      "Percent complete https://www.gmanetwork.com/news/ list: 74.2%\n",
      "Percent complete https://www.gmanetwork.com/news/ list: 74.8%\n",
      "Percent complete https://www.gmanetwork.com/news/ list: 75.5%\n",
      "Percent complete https://www.gmanetwork.com/news/ list: 76.2%\n",
      "Percent complete https://www.gmanetwork.com/news/ list: 76.8%\n",
      "Percent complete https://www.gmanetwork.com/news/ list: 77.5%\n",
      "Percent complete https://www.gmanetwork.com/news/ list: 78.1%\n",
      "Percent complete https://www.gmanetwork.com/news/ list: 78.8%\n",
      "Percent complete https://www.gmanetwork.com/news/ list: 79.5%\n",
      "Percent complete https://www.gmanetwork.com/news/ list: 80.1%\n",
      "Percent complete https://www.gmanetwork.com/news/ list: 80.8%\n",
      "Percent complete https://www.gmanetwork.com/news/ list: 81.5%\n",
      "Percent complete https://www.gmanetwork.com/news/ list: 82.1%\n",
      "Percent complete https://www.gmanetwork.com/news/ list: 82.8%\n",
      "Percent complete https://www.gmanetwork.com/news/ list: 83.4%\n",
      "Percent complete https://www.gmanetwork.com/news/ list: 84.1%\n",
      "Percent complete https://www.gmanetwork.com/news/ list: 84.8%\n",
      "Percent complete https://www.gmanetwork.com/news/ list: 85.4%\n",
      "Percent complete https://www.gmanetwork.com/news/ list: 86.1%\n",
      "Percent complete https://www.gmanetwork.com/news/ list: 86.8%\n",
      "Percent complete https://www.gmanetwork.com/news/ list: 87.4%\n",
      "Percent complete https://www.gmanetwork.com/news/ list: 88.1%\n",
      "Percent complete https://www.gmanetwork.com/news/ list: 88.7%\n",
      "Percent complete https://www.gmanetwork.com/news/ list: 89.4%\n",
      "Percent complete https://www.gmanetwork.com/news/ list: 90.1%\n",
      "Percent complete https://www.gmanetwork.com/news/ list: 90.7%\n",
      "Percent complete https://www.gmanetwork.com/news/ list: 91.4%\n",
      "Percent complete https://www.gmanetwork.com/news/ list: 92.1%\n",
      "Percent complete https://www.gmanetwork.com/news/ list: 92.7%\n",
      "Percent complete https://www.gmanetwork.com/news/ list: 93.4%\n",
      "Percent complete https://www.gmanetwork.com/news/ list: 94.0%\n",
      "Percent complete https://www.gmanetwork.com/news/ list: 94.7%\n",
      "Percent complete https://www.gmanetwork.com/news/ list: 95.4%\n",
      "Percent complete https://www.gmanetwork.com/news/ list: 96.0%\n",
      "Percent complete https://www.gmanetwork.com/news/ list: 96.7%\n",
      "Percent complete https://www.gmanetwork.com/news/ list: 97.4%\n",
      "Percent complete https://www.gmanetwork.com/news/ list: 98.0%\n",
      "Percent complete https://www.gmanetwork.com/news/ list: 98.7%\n",
      "Percent complete https://www.gmanetwork.com/news/ list: 99.3%\n",
      "Percent complete https://www.gmanetwork.com/news/ list: 100.0%\n",
      "Percent complete all sources list: 21.1%\n"
     ]
    },
    {
     "name": "stdout",
     "output_type": "stream",
     "text": [
      "Percent complete https://www.inquirer.net/ list: 0.4%\n",
      "Percent complete https://www.inquirer.net/ list: 0.8%\n",
      "Percent complete https://www.inquirer.net/ list: 1.1%\n",
      "Percent complete https://www.inquirer.net/ list: 1.5%\n",
      "Percent complete https://www.inquirer.net/ list: 1.9%\n",
      "Percent complete https://www.inquirer.net/ list: 2.3%\n",
      "Percent complete https://www.inquirer.net/ list: 2.7%\n",
      "Percent complete https://www.inquirer.net/ list: 3.0%\n",
      "Percent complete https://www.inquirer.net/ list: 3.4%\n",
      "Percent complete https://www.inquirer.net/ list: 3.8%\n",
      "Percent complete https://www.inquirer.net/ list: 4.2%\n",
      "Percent complete https://www.inquirer.net/ list: 4.6%\n",
      "Percent complete https://www.inquirer.net/ list: 4.9%\n",
      "Percent complete https://www.inquirer.net/ list: 5.3%\n",
      "Percent complete https://www.inquirer.net/ list: 5.7%\n",
      "Percent complete https://www.inquirer.net/ list: 6.1%\n",
      "Percent complete https://www.inquirer.net/ list: 6.5%\n",
      "Percent complete https://www.inquirer.net/ list: 6.8%\n",
      "Percent complete https://www.inquirer.net/ list: 7.2%\n",
      "Percent complete https://www.inquirer.net/ list: 7.6%\n",
      "Percent complete https://www.inquirer.net/ list: 8.0%\n",
      "Percent complete https://www.inquirer.net/ list: 8.4%\n",
      "Percent complete https://www.inquirer.net/ list: 8.7%\n",
      "Percent complete https://www.inquirer.net/ list: 9.1%\n",
      "Percent complete https://www.inquirer.net/ list: 9.5%\n",
      "Percent complete https://www.inquirer.net/ list: 9.9%\n",
      "Percent complete https://www.inquirer.net/ list: 10.3%\n",
      "Percent complete https://www.inquirer.net/ list: 10.6%\n",
      "Percent complete https://www.inquirer.net/ list: 11.0%\n",
      "Percent complete https://www.inquirer.net/ list: 11.4%\n",
      "Percent complete https://www.inquirer.net/ list: 11.8%\n",
      "Percent complete https://www.inquirer.net/ list: 12.2%\n",
      "Percent complete https://www.inquirer.net/ list: 12.5%\n",
      "Percent complete https://www.inquirer.net/ list: 12.9%\n",
      "Percent complete https://www.inquirer.net/ list: 13.3%\n",
      "Percent complete https://www.inquirer.net/ list: 13.7%\n",
      "Percent complete https://www.inquirer.net/ list: 14.1%\n",
      "Percent complete https://www.inquirer.net/ list: 14.4%\n",
      "Percent complete https://www.inquirer.net/ list: 14.8%\n",
      "Percent complete https://www.inquirer.net/ list: 15.2%\n",
      "Percent complete https://www.inquirer.net/ list: 15.6%\n",
      "Percent complete https://www.inquirer.net/ list: 16.0%\n",
      "Percent complete https://www.inquirer.net/ list: 16.3%\n",
      "Percent complete https://www.inquirer.net/ list: 16.7%\n",
      "Percent complete https://www.inquirer.net/ list: 17.1%\n",
      "Percent complete https://www.inquirer.net/ list: 17.5%\n",
      "Percent complete https://www.inquirer.net/ list: 17.9%\n",
      "Percent complete https://www.inquirer.net/ list: 18.3%\n",
      "Percent complete https://www.inquirer.net/ list: 18.6%\n",
      "Percent complete https://www.inquirer.net/ list: 19.0%\n",
      "Percent complete https://www.inquirer.net/ list: 19.4%\n",
      "Percent complete https://www.inquirer.net/ list: 19.8%\n",
      "Percent complete https://www.inquirer.net/ list: 20.2%\n",
      "Percent complete https://www.inquirer.net/ list: 20.5%\n",
      "Percent complete https://www.inquirer.net/ list: 20.9%\n",
      "Percent complete https://www.inquirer.net/ list: 21.3%\n",
      "Percent complete https://www.inquirer.net/ list: 21.7%\n",
      "Percent complete https://www.inquirer.net/ list: 22.1%\n",
      "Percent complete https://www.inquirer.net/ list: 22.4%\n",
      "Percent complete https://www.inquirer.net/ list: 22.8%\n",
      "Percent complete https://www.inquirer.net/ list: 23.2%\n",
      "Percent complete https://www.inquirer.net/ list: 23.6%\n",
      "Percent complete https://www.inquirer.net/ list: 24.0%\n",
      "Percent complete https://www.inquirer.net/ list: 24.3%\n",
      "Percent complete https://www.inquirer.net/ list: 24.7%\n",
      "Percent complete https://www.inquirer.net/ list: 25.1%\n",
      "Percent complete https://www.inquirer.net/ list: 25.5%\n",
      "Percent complete https://www.inquirer.net/ list: 25.9%\n",
      "Percent complete https://www.inquirer.net/ list: 26.2%\n",
      "Percent complete https://www.inquirer.net/ list: 26.6%\n",
      "Percent complete https://www.inquirer.net/ list: 27.0%\n",
      "Percent complete https://www.inquirer.net/ list: 27.4%\n",
      "Percent complete https://www.inquirer.net/ list: 27.8%\n",
      "Percent complete https://www.inquirer.net/ list: 28.1%\n",
      "Percent complete https://www.inquirer.net/ list: 28.5%\n",
      "Percent complete https://www.inquirer.net/ list: 28.9%\n",
      "Percent complete https://www.inquirer.net/ list: 29.3%\n",
      "Percent complete https://www.inquirer.net/ list: 29.7%\n",
      "Percent complete https://www.inquirer.net/ list: 30.0%\n",
      "Percent complete https://www.inquirer.net/ list: 30.4%\n",
      "Percent complete https://www.inquirer.net/ list: 30.8%\n",
      "Percent complete https://www.inquirer.net/ list: 31.2%\n",
      "Percent complete https://www.inquirer.net/ list: 31.6%\n",
      "Percent complete https://www.inquirer.net/ list: 31.9%\n",
      "Percent complete https://www.inquirer.net/ list: 32.3%\n",
      "Percent complete https://www.inquirer.net/ list: 32.7%\n",
      "Percent complete https://www.inquirer.net/ list: 33.1%\n",
      "Percent complete https://www.inquirer.net/ list: 33.5%\n",
      "Percent complete https://www.inquirer.net/ list: 33.8%\n",
      "Percent complete https://www.inquirer.net/ list: 34.2%\n",
      "Percent complete https://www.inquirer.net/ list: 34.6%\n",
      "Percent complete https://www.inquirer.net/ list: 35.0%\n",
      "Percent complete https://www.inquirer.net/ list: 35.4%\n",
      "Percent complete https://www.inquirer.net/ list: 35.7%\n",
      "Percent complete https://www.inquirer.net/ list: 36.1%\n",
      "Percent complete https://www.inquirer.net/ list: 36.5%\n",
      "Percent complete https://www.inquirer.net/ list: 36.9%\n",
      "Percent complete https://www.inquirer.net/ list: 37.3%\n",
      "Percent complete https://www.inquirer.net/ list: 37.6%\n",
      "Percent complete https://www.inquirer.net/ list: 38.0%\n",
      "Percent complete https://www.inquirer.net/ list: 38.4%\n",
      "Percent complete https://www.inquirer.net/ list: 38.8%\n",
      "Percent complete https://www.inquirer.net/ list: 39.2%\n",
      "Percent complete https://www.inquirer.net/ list: 39.5%\n",
      "Percent complete https://www.inquirer.net/ list: 39.9%\n",
      "Percent complete https://www.inquirer.net/ list: 40.3%\n",
      "Percent complete https://www.inquirer.net/ list: 40.7%\n",
      "Percent complete https://www.inquirer.net/ list: 41.1%\n",
      "Percent complete https://www.inquirer.net/ list: 41.4%\n",
      "Percent complete https://www.inquirer.net/ list: 41.8%\n",
      "Percent complete https://www.inquirer.net/ list: 42.2%\n",
      "Percent complete https://www.inquirer.net/ list: 42.6%\n",
      "Percent complete https://www.inquirer.net/ list: 43.0%\n",
      "Percent complete https://www.inquirer.net/ list: 43.3%\n",
      "Percent complete https://www.inquirer.net/ list: 43.7%\n",
      "Percent complete https://www.inquirer.net/ list: 44.1%\n",
      "Percent complete https://www.inquirer.net/ list: 44.5%\n",
      "Percent complete https://www.inquirer.net/ list: 44.9%\n",
      "Percent complete https://www.inquirer.net/ list: 45.2%\n",
      "Percent complete https://www.inquirer.net/ list: 45.6%\n",
      "Percent complete https://www.inquirer.net/ list: 46.0%\n",
      "Percent complete https://www.inquirer.net/ list: 46.4%\n",
      "Percent complete https://www.inquirer.net/ list: 46.8%\n",
      "Percent complete https://www.inquirer.net/ list: 47.1%\n",
      "Percent complete https://www.inquirer.net/ list: 47.5%\n",
      "Percent complete https://www.inquirer.net/ list: 47.9%\n",
      "Percent complete https://www.inquirer.net/ list: 48.3%\n",
      "Percent complete https://www.inquirer.net/ list: 48.7%\n",
      "Percent complete https://www.inquirer.net/ list: 49.0%\n",
      "Percent complete https://www.inquirer.net/ list: 49.4%\n",
      "Percent complete https://www.inquirer.net/ list: 49.8%\n",
      "Percent complete https://www.inquirer.net/ list: 50.2%\n",
      "Percent complete https://www.inquirer.net/ list: 50.6%\n",
      "Percent complete https://www.inquirer.net/ list: 51.0%\n",
      "Percent complete https://www.inquirer.net/ list: 51.3%\n",
      "Percent complete https://www.inquirer.net/ list: 51.7%\n",
      "Percent complete https://www.inquirer.net/ list: 52.1%\n",
      "Percent complete https://www.inquirer.net/ list: 52.5%\n",
      "Percent complete https://www.inquirer.net/ list: 52.9%\n",
      "Percent complete https://www.inquirer.net/ list: 53.2%\n",
      "Percent complete https://www.inquirer.net/ list: 53.6%\n",
      "Percent complete https://www.inquirer.net/ list: 54.0%\n",
      "Percent complete https://www.inquirer.net/ list: 54.4%\n",
      "Percent complete https://www.inquirer.net/ list: 54.8%\n",
      "Percent complete https://www.inquirer.net/ list: 55.1%\n",
      "Percent complete https://www.inquirer.net/ list: 55.5%\n",
      "Percent complete https://www.inquirer.net/ list: 55.9%\n",
      "Percent complete https://www.inquirer.net/ list: 56.3%\n",
      "Percent complete https://www.inquirer.net/ list: 56.7%\n",
      "Percent complete https://www.inquirer.net/ list: 57.0%\n",
      "Percent complete https://www.inquirer.net/ list: 57.4%\n",
      "Percent complete https://www.inquirer.net/ list: 57.8%\n",
      "Percent complete https://www.inquirer.net/ list: 58.2%\n",
      "Percent complete https://www.inquirer.net/ list: 58.6%\n",
      "Percent complete https://www.inquirer.net/ list: 58.9%\n",
      "Percent complete https://www.inquirer.net/ list: 59.3%\n",
      "Percent complete https://www.inquirer.net/ list: 59.7%\n",
      "Percent complete https://www.inquirer.net/ list: 60.1%\n",
      "Percent complete https://www.inquirer.net/ list: 60.5%\n",
      "Percent complete https://www.inquirer.net/ list: 60.8%\n",
      "Percent complete https://www.inquirer.net/ list: 61.2%\n",
      "Percent complete https://www.inquirer.net/ list: 61.6%\n",
      "Percent complete https://www.inquirer.net/ list: 62.0%\n",
      "Percent complete https://www.inquirer.net/ list: 62.4%\n",
      "Percent complete https://www.inquirer.net/ list: 62.7%\n",
      "Percent complete https://www.inquirer.net/ list: 63.1%\n",
      "Percent complete https://www.inquirer.net/ list: 63.5%\n",
      "Percent complete https://www.inquirer.net/ list: 63.9%\n",
      "Percent complete https://www.inquirer.net/ list: 64.3%\n",
      "Percent complete https://www.inquirer.net/ list: 64.6%\n",
      "Percent complete https://www.inquirer.net/ list: 65.0%\n",
      "Percent complete https://www.inquirer.net/ list: 65.4%\n",
      "Percent complete https://www.inquirer.net/ list: 65.8%\n",
      "Percent complete https://www.inquirer.net/ list: 66.2%\n",
      "Percent complete https://www.inquirer.net/ list: 66.5%\n",
      "Percent complete https://www.inquirer.net/ list: 66.9%\n",
      "Percent complete https://www.inquirer.net/ list: 67.3%\n",
      "Percent complete https://www.inquirer.net/ list: 67.7%\n",
      "Percent complete https://www.inquirer.net/ list: 68.1%\n",
      "Percent complete https://www.inquirer.net/ list: 68.4%\n",
      "Percent complete https://www.inquirer.net/ list: 68.8%\n",
      "Percent complete https://www.inquirer.net/ list: 69.2%\n",
      "Percent complete https://www.inquirer.net/ list: 69.6%\n",
      "Percent complete https://www.inquirer.net/ list: 70.0%\n",
      "Percent complete https://www.inquirer.net/ list: 70.3%\n",
      "Percent complete https://www.inquirer.net/ list: 70.7%\n",
      "Percent complete https://www.inquirer.net/ list: 71.1%\n",
      "Percent complete https://www.inquirer.net/ list: 71.5%\n",
      "Percent complete https://www.inquirer.net/ list: 71.9%\n",
      "Percent complete https://www.inquirer.net/ list: 72.2%\n",
      "Percent complete https://www.inquirer.net/ list: 72.6%\n",
      "Percent complete https://www.inquirer.net/ list: 73.0%\n",
      "Percent complete https://www.inquirer.net/ list: 73.4%\n",
      "Percent complete https://www.inquirer.net/ list: 73.8%\n",
      "Percent complete https://www.inquirer.net/ list: 74.1%\n",
      "Percent complete https://www.inquirer.net/ list: 74.5%\n",
      "Percent complete https://www.inquirer.net/ list: 74.9%\n",
      "Percent complete https://www.inquirer.net/ list: 75.3%\n",
      "Percent complete https://www.inquirer.net/ list: 75.7%\n",
      "Percent complete https://www.inquirer.net/ list: 76.0%\n",
      "Percent complete https://www.inquirer.net/ list: 76.4%\n",
      "Percent complete https://www.inquirer.net/ list: 76.8%\n",
      "Percent complete https://www.inquirer.net/ list: 77.2%\n",
      "Percent complete https://www.inquirer.net/ list: 77.6%\n",
      "Percent complete https://www.inquirer.net/ list: 77.9%\n",
      "Percent complete https://www.inquirer.net/ list: 78.3%\n",
      "Percent complete https://www.inquirer.net/ list: 78.7%\n",
      "Percent complete https://www.inquirer.net/ list: 79.1%\n",
      "Percent complete https://www.inquirer.net/ list: 79.5%\n",
      "Percent complete https://www.inquirer.net/ list: 79.8%\n",
      "Percent complete https://www.inquirer.net/ list: 80.2%\n",
      "Percent complete https://www.inquirer.net/ list: 80.6%\n",
      "Percent complete https://www.inquirer.net/ list: 81.0%\n",
      "Percent complete https://www.inquirer.net/ list: 81.4%\n",
      "Percent complete https://www.inquirer.net/ list: 81.7%\n",
      "Percent complete https://www.inquirer.net/ list: 82.1%\n",
      "Percent complete https://www.inquirer.net/ list: 82.5%\n",
      "Percent complete https://www.inquirer.net/ list: 82.9%\n",
      "Percent complete https://www.inquirer.net/ list: 83.3%\n",
      "Percent complete https://www.inquirer.net/ list: 83.7%\n",
      "Percent complete https://www.inquirer.net/ list: 84.0%\n",
      "Percent complete https://www.inquirer.net/ list: 84.4%\n",
      "Percent complete https://www.inquirer.net/ list: 84.8%\n",
      "Percent complete https://www.inquirer.net/ list: 85.2%\n",
      "Percent complete https://www.inquirer.net/ list: 85.6%\n",
      "Percent complete https://www.inquirer.net/ list: 85.9%\n",
      "Percent complete https://www.inquirer.net/ list: 86.3%\n",
      "Percent complete https://www.inquirer.net/ list: 86.7%\n",
      "Percent complete https://www.inquirer.net/ list: 87.1%\n",
      "Percent complete https://www.inquirer.net/ list: 87.5%\n",
      "Percent complete https://www.inquirer.net/ list: 87.8%\n",
      "Percent complete https://www.inquirer.net/ list: 88.2%\n",
      "Percent complete https://www.inquirer.net/ list: 88.6%\n",
      "Percent complete https://www.inquirer.net/ list: 89.0%\n",
      "Percent complete https://www.inquirer.net/ list: 89.4%\n",
      "Percent complete https://www.inquirer.net/ list: 89.7%\n",
      "Percent complete https://www.inquirer.net/ list: 90.1%\n",
      "Percent complete https://www.inquirer.net/ list: 90.5%\n",
      "Percent complete https://www.inquirer.net/ list: 90.9%\n",
      "Percent complete https://www.inquirer.net/ list: 91.3%\n",
      "Percent complete https://www.inquirer.net/ list: 91.6%\n",
      "Percent complete https://www.inquirer.net/ list: 92.0%\n",
      "Percent complete https://www.inquirer.net/ list: 92.4%\n",
      "Percent complete https://www.inquirer.net/ list: 92.8%\n",
      "Percent complete https://www.inquirer.net/ list: 93.2%\n",
      "Percent complete https://www.inquirer.net/ list: 93.5%\n",
      "Percent complete https://www.inquirer.net/ list: 93.9%\n",
      "Percent complete https://www.inquirer.net/ list: 94.3%\n",
      "Percent complete https://www.inquirer.net/ list: 94.7%\n",
      "Percent complete https://www.inquirer.net/ list: 95.1%\n",
      "Percent complete https://www.inquirer.net/ list: 95.4%\n",
      "Percent complete https://www.inquirer.net/ list: 95.8%\n",
      "Percent complete https://www.inquirer.net/ list: 96.2%\n",
      "Percent complete https://www.inquirer.net/ list: 96.6%\n",
      "Percent complete https://www.inquirer.net/ list: 97.0%\n",
      "Percent complete https://www.inquirer.net/ list: 97.3%\n",
      "Percent complete https://www.inquirer.net/ list: 97.7%\n",
      "Percent complete https://www.inquirer.net/ list: 98.1%\n",
      "Percent complete https://www.inquirer.net/ list: 98.5%\n",
      "Percent complete https://www.inquirer.net/ list: 98.9%\n",
      "Percent complete https://www.inquirer.net/ list: 99.2%\n",
      "Percent complete https://www.inquirer.net/ list: 99.6%\n",
      "Percent complete https://www.inquirer.net/ list: 100.0%\n",
      "Percent complete all sources list: 26.3%\n"
     ]
    },
    {
     "name": "stdout",
     "output_type": "stream",
     "text": [
      "Percent complete https://www.interaksyon.com/ list: 0.7%\n",
      "Percent complete https://www.interaksyon.com/ list: 1.5%\n",
      "Percent complete https://www.interaksyon.com/ list: 2.2%\n",
      "Percent complete https://www.interaksyon.com/ list: 2.9%\n",
      "Percent complete https://www.interaksyon.com/ list: 3.6%\n",
      "Percent complete https://www.interaksyon.com/ list: 4.4%\n",
      "Percent complete https://www.interaksyon.com/ list: 5.1%\n",
      "Percent complete https://www.interaksyon.com/ list: 5.8%\n",
      "Percent complete https://www.interaksyon.com/ list: 6.6%\n",
      "Percent complete https://www.interaksyon.com/ list: 7.3%\n",
      "Percent complete https://www.interaksyon.com/ list: 8.0%\n",
      "Percent complete https://www.interaksyon.com/ list: 8.8%\n",
      "Percent complete https://www.interaksyon.com/ list: 9.5%\n",
      "Percent complete https://www.interaksyon.com/ list: 10.2%\n",
      "Percent complete https://www.interaksyon.com/ list: 10.9%\n",
      "Percent complete https://www.interaksyon.com/ list: 11.7%\n",
      "Percent complete https://www.interaksyon.com/ list: 12.4%\n",
      "Percent complete https://www.interaksyon.com/ list: 13.1%\n",
      "Percent complete https://www.interaksyon.com/ list: 13.9%\n",
      "Percent complete https://www.interaksyon.com/ list: 14.6%\n",
      "Percent complete https://www.interaksyon.com/ list: 15.3%\n",
      "Percent complete https://www.interaksyon.com/ list: 16.1%\n",
      "Percent complete https://www.interaksyon.com/ list: 16.8%\n",
      "Percent complete https://www.interaksyon.com/ list: 17.5%\n",
      "Percent complete https://www.interaksyon.com/ list: 18.2%\n",
      "Percent complete https://www.interaksyon.com/ list: 19.0%\n",
      "Percent complete https://www.interaksyon.com/ list: 19.7%\n",
      "Percent complete https://www.interaksyon.com/ list: 20.4%\n",
      "Percent complete https://www.interaksyon.com/ list: 21.2%\n",
      "Percent complete https://www.interaksyon.com/ list: 21.9%\n",
      "Percent complete https://www.interaksyon.com/ list: 22.6%\n",
      "Percent complete https://www.interaksyon.com/ list: 23.4%\n",
      "Percent complete https://www.interaksyon.com/ list: 24.1%\n",
      "Percent complete https://www.interaksyon.com/ list: 24.8%\n",
      "Percent complete https://www.interaksyon.com/ list: 25.5%\n",
      "Percent complete https://www.interaksyon.com/ list: 26.3%\n",
      "Percent complete https://www.interaksyon.com/ list: 27.0%\n",
      "Percent complete https://www.interaksyon.com/ list: 27.7%\n",
      "Percent complete https://www.interaksyon.com/ list: 28.5%\n",
      "Percent complete https://www.interaksyon.com/ list: 29.2%\n",
      "Percent complete https://www.interaksyon.com/ list: 29.9%\n",
      "Percent complete https://www.interaksyon.com/ list: 30.7%\n",
      "Percent complete https://www.interaksyon.com/ list: 31.4%\n",
      "Percent complete https://www.interaksyon.com/ list: 32.1%\n",
      "Percent complete https://www.interaksyon.com/ list: 32.8%\n",
      "Percent complete https://www.interaksyon.com/ list: 33.6%\n",
      "Percent complete https://www.interaksyon.com/ list: 34.3%\n",
      "Percent complete https://www.interaksyon.com/ list: 35.0%\n",
      "Percent complete https://www.interaksyon.com/ list: 35.8%\n",
      "Percent complete https://www.interaksyon.com/ list: 36.5%\n",
      "Percent complete https://www.interaksyon.com/ list: 37.2%\n",
      "Percent complete https://www.interaksyon.com/ list: 38.0%\n",
      "Percent complete https://www.interaksyon.com/ list: 38.7%\n",
      "Percent complete https://www.interaksyon.com/ list: 39.4%\n",
      "Percent complete https://www.interaksyon.com/ list: 40.1%\n",
      "Percent complete https://www.interaksyon.com/ list: 40.9%\n",
      "Percent complete https://www.interaksyon.com/ list: 41.6%\n",
      "Percent complete https://www.interaksyon.com/ list: 42.3%\n",
      "Percent complete https://www.interaksyon.com/ list: 43.1%\n",
      "Percent complete https://www.interaksyon.com/ list: 43.8%\n",
      "Percent complete https://www.interaksyon.com/ list: 44.5%\n",
      "Percent complete https://www.interaksyon.com/ list: 45.3%\n",
      "Percent complete https://www.interaksyon.com/ list: 46.0%\n",
      "Percent complete https://www.interaksyon.com/ list: 46.7%\n",
      "Percent complete https://www.interaksyon.com/ list: 47.4%\n",
      "Percent complete https://www.interaksyon.com/ list: 48.2%\n",
      "Percent complete https://www.interaksyon.com/ list: 48.9%\n",
      "Percent complete https://www.interaksyon.com/ list: 49.6%\n",
      "Percent complete https://www.interaksyon.com/ list: 50.4%\n",
      "Percent complete https://www.interaksyon.com/ list: 51.1%\n",
      "Percent complete https://www.interaksyon.com/ list: 51.8%\n",
      "Percent complete https://www.interaksyon.com/ list: 52.6%\n",
      "Percent complete https://www.interaksyon.com/ list: 53.3%\n",
      "Percent complete https://www.interaksyon.com/ list: 54.0%\n",
      "Percent complete https://www.interaksyon.com/ list: 54.7%\n",
      "Percent complete https://www.interaksyon.com/ list: 55.5%\n",
      "Percent complete https://www.interaksyon.com/ list: 56.2%\n",
      "Percent complete https://www.interaksyon.com/ list: 56.9%\n",
      "Percent complete https://www.interaksyon.com/ list: 57.7%\n",
      "Percent complete https://www.interaksyon.com/ list: 58.4%\n",
      "Percent complete https://www.interaksyon.com/ list: 59.1%\n",
      "Percent complete https://www.interaksyon.com/ list: 59.9%\n",
      "Percent complete https://www.interaksyon.com/ list: 60.6%\n",
      "Percent complete https://www.interaksyon.com/ list: 61.3%\n",
      "Percent complete https://www.interaksyon.com/ list: 62.0%\n",
      "Percent complete https://www.interaksyon.com/ list: 62.8%\n",
      "Percent complete https://www.interaksyon.com/ list: 63.5%\n",
      "Percent complete https://www.interaksyon.com/ list: 64.2%\n",
      "Percent complete https://www.interaksyon.com/ list: 65.0%\n",
      "Percent complete https://www.interaksyon.com/ list: 65.7%\n",
      "Percent complete https://www.interaksyon.com/ list: 66.4%\n",
      "Percent complete https://www.interaksyon.com/ list: 67.2%\n",
      "Percent complete https://www.interaksyon.com/ list: 67.9%\n",
      "Percent complete https://www.interaksyon.com/ list: 68.6%\n",
      "Percent complete https://www.interaksyon.com/ list: 69.3%\n",
      "Percent complete https://www.interaksyon.com/ list: 70.1%\n",
      "Percent complete https://www.interaksyon.com/ list: 70.8%\n",
      "Percent complete https://www.interaksyon.com/ list: 71.5%\n",
      "Percent complete https://www.interaksyon.com/ list: 72.3%\n",
      "Percent complete https://www.interaksyon.com/ list: 73.0%\n",
      "Percent complete https://www.interaksyon.com/ list: 73.7%\n",
      "Percent complete https://www.interaksyon.com/ list: 74.5%\n",
      "Percent complete https://www.interaksyon.com/ list: 75.2%\n",
      "Percent complete https://www.interaksyon.com/ list: 75.9%\n",
      "Percent complete https://www.interaksyon.com/ list: 76.6%\n",
      "Percent complete https://www.interaksyon.com/ list: 77.4%\n",
      "Percent complete https://www.interaksyon.com/ list: 78.1%\n",
      "Percent complete https://www.interaksyon.com/ list: 78.8%\n",
      "Percent complete https://www.interaksyon.com/ list: 79.6%\n",
      "Percent complete https://www.interaksyon.com/ list: 80.3%\n",
      "Percent complete https://www.interaksyon.com/ list: 81.0%\n",
      "Percent complete https://www.interaksyon.com/ list: 81.8%\n",
      "Percent complete https://www.interaksyon.com/ list: 82.5%\n",
      "Percent complete https://www.interaksyon.com/ list: 83.2%\n",
      "Percent complete https://www.interaksyon.com/ list: 83.9%\n",
      "Percent complete https://www.interaksyon.com/ list: 84.7%\n",
      "Percent complete https://www.interaksyon.com/ list: 85.4%\n",
      "Percent complete https://www.interaksyon.com/ list: 86.1%\n",
      "Percent complete https://www.interaksyon.com/ list: 86.9%\n",
      "Percent complete https://www.interaksyon.com/ list: 87.6%\n",
      "Percent complete https://www.interaksyon.com/ list: 88.3%\n",
      "Percent complete https://www.interaksyon.com/ list: 89.1%\n",
      "Percent complete https://www.interaksyon.com/ list: 89.8%\n",
      "Percent complete https://www.interaksyon.com/ list: 90.5%\n",
      "Percent complete https://www.interaksyon.com/ list: 91.2%\n",
      "Percent complete https://www.interaksyon.com/ list: 92.0%\n",
      "Percent complete https://www.interaksyon.com/ list: 92.7%\n",
      "Percent complete https://www.interaksyon.com/ list: 93.4%\n",
      "Percent complete https://www.interaksyon.com/ list: 94.2%\n",
      "Percent complete https://www.interaksyon.com/ list: 94.9%\n",
      "Percent complete https://www.interaksyon.com/ list: 95.6%\n",
      "Percent complete https://www.interaksyon.com/ list: 96.4%\n",
      "Percent complete https://www.interaksyon.com/ list: 97.1%\n",
      "Percent complete https://www.interaksyon.com/ list: 97.8%\n",
      "Percent complete https://www.interaksyon.com/ list: 98.5%\n",
      "Percent complete https://www.interaksyon.com/ list: 99.3%\n",
      "Percent complete https://www.interaksyon.com/ list: 100.0%\n",
      "Percent complete all sources list: 31.6%\n",
      "Percent complete https://pia.gov.ph/news list: 0.8%\n",
      "Percent complete https://pia.gov.ph/news list: 1.5%\n",
      "Percent complete https://pia.gov.ph/news list: 2.3%\n",
      "Percent complete https://pia.gov.ph/news list: 3.1%\n",
      "Percent complete https://pia.gov.ph/news list: 3.8%\n",
      "Percent complete https://pia.gov.ph/news list: 4.6%\n",
      "Percent complete https://pia.gov.ph/news list: 5.3%\n",
      "Percent complete https://pia.gov.ph/news list: 6.1%\n",
      "Percent complete https://pia.gov.ph/news list: 6.9%\n",
      "Percent complete https://pia.gov.ph/news list: 7.6%\n",
      "Percent complete https://pia.gov.ph/news list: 8.4%\n",
      "Percent complete https://pia.gov.ph/news list: 9.2%\n",
      "Percent complete https://pia.gov.ph/news list: 9.9%\n",
      "Percent complete https://pia.gov.ph/news list: 10.7%\n",
      "Percent complete https://pia.gov.ph/news list: 11.5%\n",
      "Percent complete https://pia.gov.ph/news list: 12.2%\n",
      "Percent complete https://pia.gov.ph/news list: 13.0%\n",
      "Percent complete https://pia.gov.ph/news list: 13.7%\n",
      "Percent complete https://pia.gov.ph/news list: 14.5%\n",
      "Percent complete https://pia.gov.ph/news list: 15.3%\n",
      "Percent complete https://pia.gov.ph/news list: 16.0%\n",
      "Percent complete https://pia.gov.ph/news list: 16.8%\n",
      "Percent complete https://pia.gov.ph/news list: 17.6%\n",
      "Percent complete https://pia.gov.ph/news list: 18.3%\n",
      "Percent complete https://pia.gov.ph/news list: 19.1%\n",
      "Percent complete https://pia.gov.ph/news list: 19.8%\n",
      "Percent complete https://pia.gov.ph/news list: 20.6%\n",
      "Percent complete https://pia.gov.ph/news list: 21.4%\n",
      "Percent complete https://pia.gov.ph/news list: 22.1%\n",
      "Percent complete https://pia.gov.ph/news list: 22.9%\n",
      "Percent complete https://pia.gov.ph/news list: 23.7%\n",
      "Percent complete https://pia.gov.ph/news list: 24.4%\n",
      "Percent complete https://pia.gov.ph/news list: 25.2%\n",
      "Percent complete https://pia.gov.ph/news list: 26.0%\n",
      "Percent complete https://pia.gov.ph/news list: 26.7%\n",
      "Percent complete https://pia.gov.ph/news list: 27.5%\n",
      "Percent complete https://pia.gov.ph/news list: 28.2%\n",
      "Percent complete https://pia.gov.ph/news list: 29.0%\n",
      "Percent complete https://pia.gov.ph/news list: 29.8%\n",
      "Percent complete https://pia.gov.ph/news list: 30.5%\n",
      "Percent complete https://pia.gov.ph/news list: 31.3%\n",
      "Percent complete https://pia.gov.ph/news list: 32.1%\n",
      "Percent complete https://pia.gov.ph/news list: 32.8%\n",
      "Percent complete https://pia.gov.ph/news list: 33.6%\n",
      "Percent complete https://pia.gov.ph/news list: 34.4%\n",
      "Percent complete https://pia.gov.ph/news list: 35.1%\n",
      "Percent complete https://pia.gov.ph/news list: 35.9%\n",
      "Percent complete https://pia.gov.ph/news list: 36.6%\n",
      "Percent complete https://pia.gov.ph/news list: 37.4%\n",
      "Percent complete https://pia.gov.ph/news list: 38.2%\n",
      "Percent complete https://pia.gov.ph/news list: 38.9%\n",
      "Percent complete https://pia.gov.ph/news list: 39.7%\n",
      "Percent complete https://pia.gov.ph/news list: 40.5%\n",
      "Percent complete https://pia.gov.ph/news list: 41.2%\n",
      "Percent complete https://pia.gov.ph/news list: 42.0%\n",
      "Percent complete https://pia.gov.ph/news list: 42.7%\n",
      "Percent complete https://pia.gov.ph/news list: 43.5%\n",
      "Percent complete https://pia.gov.ph/news list: 44.3%\n",
      "Percent complete https://pia.gov.ph/news list: 45.0%\n",
      "Percent complete https://pia.gov.ph/news list: 45.8%\n",
      "Percent complete https://pia.gov.ph/news list: 46.6%\n",
      "Percent complete https://pia.gov.ph/news list: 47.3%\n",
      "Percent complete https://pia.gov.ph/news list: 48.1%\n",
      "Percent complete https://pia.gov.ph/news list: 48.9%\n",
      "Percent complete https://pia.gov.ph/news list: 49.6%\n",
      "Percent complete https://pia.gov.ph/news list: 50.4%\n",
      "Percent complete https://pia.gov.ph/news list: 51.1%\n",
      "Percent complete https://pia.gov.ph/news list: 51.9%\n",
      "Percent complete https://pia.gov.ph/news list: 52.7%\n",
      "Percent complete https://pia.gov.ph/news list: 53.4%\n",
      "Percent complete https://pia.gov.ph/news list: 54.2%\n",
      "Percent complete https://pia.gov.ph/news list: 55.0%\n",
      "Percent complete https://pia.gov.ph/news list: 55.7%\n",
      "Percent complete https://pia.gov.ph/news list: 56.5%\n",
      "Percent complete https://pia.gov.ph/news list: 57.3%\n",
      "Percent complete https://pia.gov.ph/news list: 58.0%\n",
      "Percent complete https://pia.gov.ph/news list: 58.8%\n",
      "Percent complete https://pia.gov.ph/news list: 59.5%\n",
      "Percent complete https://pia.gov.ph/news list: 60.3%\n",
      "Percent complete https://pia.gov.ph/news list: 61.1%\n",
      "Percent complete https://pia.gov.ph/news list: 61.8%\n",
      "Percent complete https://pia.gov.ph/news list: 62.6%\n",
      "Percent complete https://pia.gov.ph/news list: 63.4%\n",
      "Percent complete https://pia.gov.ph/news list: 64.1%\n",
      "Percent complete https://pia.gov.ph/news list: 64.9%\n",
      "Percent complete https://pia.gov.ph/news list: 65.6%\n",
      "Percent complete https://pia.gov.ph/news list: 66.4%\n",
      "Percent complete https://pia.gov.ph/news list: 67.2%\n",
      "Percent complete https://pia.gov.ph/news list: 67.9%\n",
      "Percent complete https://pia.gov.ph/news list: 68.7%\n",
      "Percent complete https://pia.gov.ph/news list: 69.5%\n",
      "Percent complete https://pia.gov.ph/news list: 70.2%\n",
      "Percent complete https://pia.gov.ph/news list: 71.0%\n",
      "Percent complete https://pia.gov.ph/news list: 71.8%\n",
      "Percent complete https://pia.gov.ph/news list: 72.5%\n",
      "Percent complete https://pia.gov.ph/news list: 73.3%\n",
      "Percent complete https://pia.gov.ph/news list: 74.0%\n",
      "Percent complete https://pia.gov.ph/news list: 74.8%\n",
      "Percent complete https://pia.gov.ph/news list: 75.6%\n",
      "Percent complete https://pia.gov.ph/news list: 76.3%\n",
      "Percent complete https://pia.gov.ph/news list: 77.1%\n",
      "Percent complete https://pia.gov.ph/news list: 77.9%\n",
      "Percent complete https://pia.gov.ph/news list: 78.6%\n",
      "Percent complete https://pia.gov.ph/news list: 79.4%\n",
      "Percent complete https://pia.gov.ph/news list: 80.2%\n",
      "Percent complete https://pia.gov.ph/news list: 80.9%\n",
      "Percent complete https://pia.gov.ph/news list: 81.7%\n",
      "Percent complete https://pia.gov.ph/news list: 82.4%\n",
      "Percent complete https://pia.gov.ph/news list: 83.2%\n",
      "Percent complete https://pia.gov.ph/news list: 84.0%\n",
      "Percent complete https://pia.gov.ph/news list: 84.7%\n",
      "Percent complete https://pia.gov.ph/news list: 85.5%\n",
      "Percent complete https://pia.gov.ph/news list: 86.3%\n",
      "Percent complete https://pia.gov.ph/news list: 87.0%\n",
      "Percent complete https://pia.gov.ph/news list: 87.8%\n",
      "Percent complete https://pia.gov.ph/news list: 88.5%\n",
      "Percent complete https://pia.gov.ph/news list: 89.3%\n",
      "Percent complete https://pia.gov.ph/news list: 90.1%\n",
      "Percent complete https://pia.gov.ph/news list: 90.8%\n",
      "Percent complete https://pia.gov.ph/news list: 91.6%\n",
      "Percent complete https://pia.gov.ph/news list: 92.4%\n",
      "Percent complete https://pia.gov.ph/news list: 93.1%\n",
      "Percent complete https://pia.gov.ph/news list: 93.9%\n",
      "Percent complete https://pia.gov.ph/news list: 94.7%\n",
      "Percent complete https://pia.gov.ph/news list: 95.4%\n",
      "Percent complete https://pia.gov.ph/news list: 96.2%\n",
      "Percent complete https://pia.gov.ph/news list: 96.9%\n",
      "Percent complete https://pia.gov.ph/news list: 97.7%\n",
      "Percent complete https://pia.gov.ph/news list: 98.5%\n",
      "Percent complete https://pia.gov.ph/news list: 99.2%\n",
      "Percent complete https://pia.gov.ph/news list: 100.0%\n",
      "Percent complete all sources list: 36.8%\n"
     ]
    },
    {
     "name": "stdout",
     "output_type": "stream",
     "text": [
      "Percent complete https://edgedavao.net/ list: 0.5%\n",
      "Percent complete https://edgedavao.net/ list: 1.0%\n",
      "Percent complete https://edgedavao.net/ list: 1.5%\n",
      "Percent complete https://edgedavao.net/ list: 2.1%\n",
      "Percent complete https://edgedavao.net/ list: 2.6%\n",
      "Percent complete https://edgedavao.net/ list: 3.1%\n",
      "Percent complete https://edgedavao.net/ list: 3.6%\n",
      "Percent complete https://edgedavao.net/ list: 4.1%\n",
      "Percent complete https://edgedavao.net/ list: 4.6%\n",
      "Percent complete https://edgedavao.net/ list: 5.2%\n",
      "Percent complete https://edgedavao.net/ list: 5.7%\n",
      "Percent complete https://edgedavao.net/ list: 6.2%\n",
      "Percent complete https://edgedavao.net/ list: 6.7%\n",
      "Percent complete https://edgedavao.net/ list: 7.2%\n",
      "Percent complete https://edgedavao.net/ list: 7.7%\n",
      "Percent complete https://edgedavao.net/ list: 8.2%\n",
      "Percent complete https://edgedavao.net/ list: 8.8%\n",
      "Percent complete https://edgedavao.net/ list: 9.3%\n",
      "Percent complete https://edgedavao.net/ list: 9.8%\n",
      "Percent complete https://edgedavao.net/ list: 10.3%\n",
      "Percent complete https://edgedavao.net/ list: 10.8%\n",
      "Percent complete https://edgedavao.net/ list: 11.3%\n",
      "Percent complete https://edgedavao.net/ list: 11.9%\n",
      "Percent complete https://edgedavao.net/ list: 12.4%\n",
      "Percent complete https://edgedavao.net/ list: 12.9%\n",
      "Percent complete https://edgedavao.net/ list: 13.4%\n",
      "Percent complete https://edgedavao.net/ list: 13.9%\n",
      "Percent complete https://edgedavao.net/ list: 14.4%\n",
      "Percent complete https://edgedavao.net/ list: 14.9%\n",
      "Percent complete https://edgedavao.net/ list: 15.5%\n",
      "Percent complete https://edgedavao.net/ list: 16.0%\n",
      "Percent complete https://edgedavao.net/ list: 16.5%\n",
      "Percent complete https://edgedavao.net/ list: 17.0%\n",
      "Percent complete https://edgedavao.net/ list: 17.5%\n",
      "Percent complete https://edgedavao.net/ list: 18.0%\n",
      "Percent complete https://edgedavao.net/ list: 18.6%\n",
      "Percent complete https://edgedavao.net/ list: 19.1%\n",
      "Percent complete https://edgedavao.net/ list: 19.6%\n",
      "Percent complete https://edgedavao.net/ list: 20.1%\n",
      "Percent complete https://edgedavao.net/ list: 20.6%\n",
      "Percent complete https://edgedavao.net/ list: 21.1%\n",
      "Percent complete https://edgedavao.net/ list: 21.6%\n",
      "Percent complete https://edgedavao.net/ list: 22.2%\n",
      "Percent complete https://edgedavao.net/ list: 22.7%\n",
      "Percent complete https://edgedavao.net/ list: 23.2%\n",
      "Percent complete https://edgedavao.net/ list: 23.7%\n",
      "Percent complete https://edgedavao.net/ list: 24.2%\n",
      "Percent complete https://edgedavao.net/ list: 24.7%\n",
      "Percent complete https://edgedavao.net/ list: 25.3%\n",
      "Percent complete https://edgedavao.net/ list: 25.8%\n",
      "Percent complete https://edgedavao.net/ list: 26.3%\n",
      "Percent complete https://edgedavao.net/ list: 26.8%\n",
      "Percent complete https://edgedavao.net/ list: 27.3%\n",
      "Percent complete https://edgedavao.net/ list: 27.8%\n",
      "Percent complete https://edgedavao.net/ list: 28.4%\n",
      "Percent complete https://edgedavao.net/ list: 28.9%\n",
      "Percent complete https://edgedavao.net/ list: 29.4%\n",
      "Percent complete https://edgedavao.net/ list: 29.9%\n",
      "Percent complete https://edgedavao.net/ list: 30.4%\n",
      "Percent complete https://edgedavao.net/ list: 30.9%\n",
      "Percent complete https://edgedavao.net/ list: 31.4%\n",
      "Percent complete https://edgedavao.net/ list: 32.0%\n",
      "Percent complete https://edgedavao.net/ list: 32.5%\n",
      "Percent complete https://edgedavao.net/ list: 33.0%\n",
      "Percent complete https://edgedavao.net/ list: 33.5%\n",
      "Percent complete https://edgedavao.net/ list: 34.0%\n",
      "Percent complete https://edgedavao.net/ list: 34.5%\n",
      "Percent complete https://edgedavao.net/ list: 35.1%\n",
      "Percent complete https://edgedavao.net/ list: 35.6%\n",
      "Percent complete https://edgedavao.net/ list: 36.1%\n",
      "Percent complete https://edgedavao.net/ list: 36.6%\n",
      "Percent complete https://edgedavao.net/ list: 37.1%\n",
      "Percent complete https://edgedavao.net/ list: 37.6%\n",
      "Percent complete https://edgedavao.net/ list: 38.1%\n",
      "Percent complete https://edgedavao.net/ list: 38.7%\n",
      "Percent complete https://edgedavao.net/ list: 39.2%\n",
      "Percent complete https://edgedavao.net/ list: 39.7%\n",
      "Percent complete https://edgedavao.net/ list: 40.2%\n",
      "Percent complete https://edgedavao.net/ list: 40.7%\n",
      "Percent complete https://edgedavao.net/ list: 41.2%\n",
      "Percent complete https://edgedavao.net/ list: 41.8%\n",
      "Percent complete https://edgedavao.net/ list: 42.3%\n",
      "Percent complete https://edgedavao.net/ list: 42.8%\n",
      "Percent complete https://edgedavao.net/ list: 43.3%\n",
      "Percent complete https://edgedavao.net/ list: 43.8%\n",
      "Percent complete https://edgedavao.net/ list: 44.3%\n",
      "Percent complete https://edgedavao.net/ list: 44.8%\n",
      "Percent complete https://edgedavao.net/ list: 45.4%\n",
      "Percent complete https://edgedavao.net/ list: 45.9%\n",
      "Percent complete https://edgedavao.net/ list: 46.4%\n",
      "Percent complete https://edgedavao.net/ list: 46.9%\n",
      "Percent complete https://edgedavao.net/ list: 47.4%\n",
      "Percent complete https://edgedavao.net/ list: 47.9%\n",
      "Percent complete https://edgedavao.net/ list: 48.5%\n",
      "Percent complete https://edgedavao.net/ list: 49.0%\n",
      "Percent complete https://edgedavao.net/ list: 49.5%\n",
      "Percent complete https://edgedavao.net/ list: 50.0%\n",
      "Percent complete https://edgedavao.net/ list: 50.5%\n",
      "Percent complete https://edgedavao.net/ list: 51.0%\n",
      "Percent complete https://edgedavao.net/ list: 51.5%\n",
      "Percent complete https://edgedavao.net/ list: 52.1%\n",
      "Percent complete https://edgedavao.net/ list: 52.6%\n",
      "Percent complete https://edgedavao.net/ list: 53.1%\n",
      "Percent complete https://edgedavao.net/ list: 53.6%\n",
      "Percent complete https://edgedavao.net/ list: 54.1%\n",
      "Percent complete https://edgedavao.net/ list: 54.6%\n",
      "Percent complete https://edgedavao.net/ list: 55.2%\n",
      "Percent complete https://edgedavao.net/ list: 55.7%\n",
      "Percent complete https://edgedavao.net/ list: 56.2%\n",
      "Percent complete https://edgedavao.net/ list: 56.7%\n",
      "Percent complete https://edgedavao.net/ list: 57.2%\n",
      "Percent complete https://edgedavao.net/ list: 57.7%\n",
      "Percent complete https://edgedavao.net/ list: 58.2%\n",
      "Percent complete https://edgedavao.net/ list: 58.8%\n",
      "Percent complete https://edgedavao.net/ list: 59.3%\n",
      "Percent complete https://edgedavao.net/ list: 59.8%\n",
      "Percent complete https://edgedavao.net/ list: 60.3%\n",
      "Percent complete https://edgedavao.net/ list: 60.8%\n",
      "Percent complete https://edgedavao.net/ list: 61.3%\n",
      "Percent complete https://edgedavao.net/ list: 61.9%\n",
      "Percent complete https://edgedavao.net/ list: 62.4%\n",
      "Percent complete https://edgedavao.net/ list: 62.9%\n",
      "Percent complete https://edgedavao.net/ list: 63.4%\n",
      "Percent complete https://edgedavao.net/ list: 63.9%\n",
      "Percent complete https://edgedavao.net/ list: 64.4%\n",
      "Percent complete https://edgedavao.net/ list: 64.9%\n",
      "Percent complete https://edgedavao.net/ list: 65.5%\n",
      "Percent complete https://edgedavao.net/ list: 66.0%\n",
      "Percent complete https://edgedavao.net/ list: 66.5%\n",
      "Percent complete https://edgedavao.net/ list: 67.0%\n",
      "Percent complete https://edgedavao.net/ list: 67.5%\n",
      "Percent complete https://edgedavao.net/ list: 68.0%\n",
      "Percent complete https://edgedavao.net/ list: 68.6%\n",
      "Percent complete https://edgedavao.net/ list: 69.1%\n",
      "Percent complete https://edgedavao.net/ list: 69.6%\n",
      "Percent complete https://edgedavao.net/ list: 70.1%\n",
      "Percent complete https://edgedavao.net/ list: 70.6%\n",
      "Percent complete https://edgedavao.net/ list: 71.1%\n",
      "Percent complete https://edgedavao.net/ list: 71.6%\n",
      "Percent complete https://edgedavao.net/ list: 72.2%\n",
      "Percent complete https://edgedavao.net/ list: 72.7%\n",
      "Percent complete https://edgedavao.net/ list: 73.2%\n",
      "Percent complete https://edgedavao.net/ list: 73.7%\n",
      "Percent complete https://edgedavao.net/ list: 74.2%\n",
      "Percent complete https://edgedavao.net/ list: 74.7%\n",
      "Percent complete https://edgedavao.net/ list: 75.3%\n",
      "Percent complete https://edgedavao.net/ list: 75.8%\n",
      "Percent complete https://edgedavao.net/ list: 76.3%\n",
      "Percent complete https://edgedavao.net/ list: 76.8%\n",
      "Percent complete https://edgedavao.net/ list: 77.3%\n",
      "Percent complete https://edgedavao.net/ list: 77.8%\n",
      "Percent complete https://edgedavao.net/ list: 78.4%\n",
      "Percent complete https://edgedavao.net/ list: 78.9%\n",
      "Percent complete https://edgedavao.net/ list: 79.4%\n",
      "Percent complete https://edgedavao.net/ list: 79.9%\n",
      "Percent complete https://edgedavao.net/ list: 80.4%\n",
      "Percent complete https://edgedavao.net/ list: 80.9%\n",
      "Percent complete https://edgedavao.net/ list: 81.4%\n",
      "Percent complete https://edgedavao.net/ list: 82.0%\n",
      "Percent complete https://edgedavao.net/ list: 82.5%\n",
      "Percent complete https://edgedavao.net/ list: 83.0%\n",
      "Percent complete https://edgedavao.net/ list: 83.5%\n",
      "Percent complete https://edgedavao.net/ list: 84.0%\n",
      "Percent complete https://edgedavao.net/ list: 84.5%\n",
      "Percent complete https://edgedavao.net/ list: 85.1%\n",
      "Percent complete https://edgedavao.net/ list: 85.6%\n",
      "Percent complete https://edgedavao.net/ list: 86.1%\n",
      "Percent complete https://edgedavao.net/ list: 86.6%\n",
      "Percent complete https://edgedavao.net/ list: 87.1%\n",
      "Percent complete https://edgedavao.net/ list: 87.6%\n",
      "Percent complete https://edgedavao.net/ list: 88.1%\n",
      "Percent complete https://edgedavao.net/ list: 88.7%\n",
      "Percent complete https://edgedavao.net/ list: 89.2%\n",
      "Percent complete https://edgedavao.net/ list: 89.7%\n",
      "Percent complete https://edgedavao.net/ list: 90.2%\n",
      "Percent complete https://edgedavao.net/ list: 90.7%\n",
      "Percent complete https://edgedavao.net/ list: 91.2%\n",
      "Percent complete https://edgedavao.net/ list: 91.8%\n",
      "Percent complete https://edgedavao.net/ list: 92.3%\n",
      "Percent complete https://edgedavao.net/ list: 92.8%\n",
      "Percent complete https://edgedavao.net/ list: 93.3%\n",
      "Percent complete https://edgedavao.net/ list: 93.8%\n",
      "Percent complete https://edgedavao.net/ list: 94.3%\n",
      "Percent complete https://edgedavao.net/ list: 94.8%\n",
      "Percent complete https://edgedavao.net/ list: 95.4%\n",
      "Percent complete https://edgedavao.net/ list: 95.9%\n",
      "Percent complete https://edgedavao.net/ list: 96.4%\n",
      "Percent complete https://edgedavao.net/ list: 96.9%\n",
      "Percent complete https://edgedavao.net/ list: 97.4%\n",
      "Percent complete https://edgedavao.net/ list: 97.9%\n",
      "Percent complete https://edgedavao.net/ list: 98.5%\n",
      "Percent complete https://edgedavao.net/ list: 99.0%\n",
      "Percent complete https://edgedavao.net/ list: 99.5%\n",
      "Percent complete https://edgedavao.net/ list: 100.0%\n",
      "Percent complete all sources list: 42.1%\n"
     ]
    },
    {
     "name": "stdout",
     "output_type": "stream",
     "text": [
      "Percent complete http://www.senate.gov.ph/ list: 0.6%\n",
      "Percent complete http://www.senate.gov.ph/ list: 1.1%\n",
      "Percent complete http://www.senate.gov.ph/ list: 1.7%\n",
      "Percent complete http://www.senate.gov.ph/ list: 2.3%\n",
      "Percent complete http://www.senate.gov.ph/ list: 2.8%\n",
      "Percent complete http://www.senate.gov.ph/ list: 3.4%\n",
      "Percent complete http://www.senate.gov.ph/ list: 4.0%\n",
      "Percent complete http://www.senate.gov.ph/ list: 4.5%\n",
      "Percent complete http://www.senate.gov.ph/ list: 5.1%\n",
      "Percent complete http://www.senate.gov.ph/ list: 5.6%\n",
      "Percent complete http://www.senate.gov.ph/ list: 6.2%\n",
      "Percent complete http://www.senate.gov.ph/ list: 6.8%\n",
      "Percent complete http://www.senate.gov.ph/ list: 7.3%\n",
      "Percent complete http://www.senate.gov.ph/ list: 7.9%\n",
      "Percent complete http://www.senate.gov.ph/ list: 8.5%\n",
      "Percent complete http://www.senate.gov.ph/ list: 9.0%\n",
      "Percent complete http://www.senate.gov.ph/ list: 9.6%\n",
      "Percent complete http://www.senate.gov.ph/ list: 10.2%\n",
      "Percent complete http://www.senate.gov.ph/ list: 10.7%\n",
      "Percent complete http://www.senate.gov.ph/ list: 11.3%\n",
      "Percent complete http://www.senate.gov.ph/ list: 11.9%\n",
      "Percent complete http://www.senate.gov.ph/ list: 12.4%\n",
      "Percent complete http://www.senate.gov.ph/ list: 13.0%\n",
      "Percent complete http://www.senate.gov.ph/ list: 13.6%\n",
      "Percent complete http://www.senate.gov.ph/ list: 14.1%\n",
      "Percent complete http://www.senate.gov.ph/ list: 14.7%\n",
      "Percent complete http://www.senate.gov.ph/ list: 15.3%\n",
      "Percent complete http://www.senate.gov.ph/ list: 15.8%\n",
      "Percent complete http://www.senate.gov.ph/ list: 16.4%\n",
      "Percent complete http://www.senate.gov.ph/ list: 16.9%\n",
      "Percent complete http://www.senate.gov.ph/ list: 17.5%\n",
      "Percent complete http://www.senate.gov.ph/ list: 18.1%\n",
      "Percent complete http://www.senate.gov.ph/ list: 18.6%\n",
      "Percent complete http://www.senate.gov.ph/ list: 19.2%\n",
      "Percent complete http://www.senate.gov.ph/ list: 19.8%\n",
      "Percent complete http://www.senate.gov.ph/ list: 20.3%\n",
      "Percent complete http://www.senate.gov.ph/ list: 20.9%\n",
      "Percent complete http://www.senate.gov.ph/ list: 21.5%\n",
      "Percent complete http://www.senate.gov.ph/ list: 22.0%\n",
      "Percent complete http://www.senate.gov.ph/ list: 22.6%\n",
      "Percent complete http://www.senate.gov.ph/ list: 23.2%\n",
      "Percent complete http://www.senate.gov.ph/ list: 23.7%\n",
      "Percent complete http://www.senate.gov.ph/ list: 24.3%\n",
      "Percent complete http://www.senate.gov.ph/ list: 24.9%\n",
      "Percent complete http://www.senate.gov.ph/ list: 25.4%\n",
      "Percent complete http://www.senate.gov.ph/ list: 26.0%\n",
      "Percent complete http://www.senate.gov.ph/ list: 26.6%\n",
      "Percent complete http://www.senate.gov.ph/ list: 27.1%\n",
      "Percent complete http://www.senate.gov.ph/ list: 27.7%\n",
      "Percent complete http://www.senate.gov.ph/ list: 28.2%\n",
      "Percent complete http://www.senate.gov.ph/ list: 28.8%\n",
      "Percent complete http://www.senate.gov.ph/ list: 29.4%\n",
      "Percent complete http://www.senate.gov.ph/ list: 29.9%\n",
      "Percent complete http://www.senate.gov.ph/ list: 30.5%\n",
      "Percent complete http://www.senate.gov.ph/ list: 31.1%\n",
      "Percent complete http://www.senate.gov.ph/ list: 31.6%\n",
      "Percent complete http://www.senate.gov.ph/ list: 32.2%\n",
      "Percent complete http://www.senate.gov.ph/ list: 32.8%\n",
      "Percent complete http://www.senate.gov.ph/ list: 33.3%\n",
      "Percent complete http://www.senate.gov.ph/ list: 33.9%\n",
      "Percent complete http://www.senate.gov.ph/ list: 34.5%\n",
      "Percent complete http://www.senate.gov.ph/ list: 35.0%\n",
      "Percent complete http://www.senate.gov.ph/ list: 35.6%\n",
      "Percent complete http://www.senate.gov.ph/ list: 36.2%\n",
      "Percent complete http://www.senate.gov.ph/ list: 36.7%\n",
      "Percent complete http://www.senate.gov.ph/ list: 37.3%\n",
      "Percent complete http://www.senate.gov.ph/ list: 37.9%\n",
      "Percent complete http://www.senate.gov.ph/ list: 38.4%\n",
      "Percent complete http://www.senate.gov.ph/ list: 39.0%\n",
      "Percent complete http://www.senate.gov.ph/ list: 39.5%\n",
      "Percent complete http://www.senate.gov.ph/ list: 40.1%\n",
      "Percent complete http://www.senate.gov.ph/ list: 40.7%\n",
      "Percent complete http://www.senate.gov.ph/ list: 41.2%\n",
      "Percent complete http://www.senate.gov.ph/ list: 41.8%\n",
      "Percent complete http://www.senate.gov.ph/ list: 42.4%\n",
      "Percent complete http://www.senate.gov.ph/ list: 42.9%\n",
      "Percent complete http://www.senate.gov.ph/ list: 43.5%\n",
      "Percent complete http://www.senate.gov.ph/ list: 44.1%\n",
      "Percent complete http://www.senate.gov.ph/ list: 44.6%\n",
      "Percent complete http://www.senate.gov.ph/ list: 45.2%\n",
      "Percent complete http://www.senate.gov.ph/ list: 45.8%\n",
      "Percent complete http://www.senate.gov.ph/ list: 46.3%\n",
      "Percent complete http://www.senate.gov.ph/ list: 46.9%\n",
      "Percent complete http://www.senate.gov.ph/ list: 47.5%\n",
      "Percent complete http://www.senate.gov.ph/ list: 48.0%\n",
      "Percent complete http://www.senate.gov.ph/ list: 48.6%\n",
      "Percent complete http://www.senate.gov.ph/ list: 49.2%\n",
      "Percent complete http://www.senate.gov.ph/ list: 49.7%\n",
      "Percent complete http://www.senate.gov.ph/ list: 50.3%\n",
      "Percent complete http://www.senate.gov.ph/ list: 50.8%\n",
      "Percent complete http://www.senate.gov.ph/ list: 51.4%\n",
      "Percent complete http://www.senate.gov.ph/ list: 52.0%\n",
      "Percent complete http://www.senate.gov.ph/ list: 52.5%\n",
      "Percent complete http://www.senate.gov.ph/ list: 53.1%\n",
      "Percent complete http://www.senate.gov.ph/ list: 53.7%\n",
      "Percent complete http://www.senate.gov.ph/ list: 54.2%\n",
      "Percent complete http://www.senate.gov.ph/ list: 54.8%\n",
      "Percent complete http://www.senate.gov.ph/ list: 55.4%\n",
      "Percent complete http://www.senate.gov.ph/ list: 55.9%\n",
      "Percent complete http://www.senate.gov.ph/ list: 56.5%\n",
      "Percent complete http://www.senate.gov.ph/ list: 57.1%\n",
      "Percent complete http://www.senate.gov.ph/ list: 57.6%\n",
      "Percent complete http://www.senate.gov.ph/ list: 58.2%\n",
      "Percent complete http://www.senate.gov.ph/ list: 58.8%\n",
      "Percent complete http://www.senate.gov.ph/ list: 59.3%\n",
      "Percent complete http://www.senate.gov.ph/ list: 59.9%\n",
      "Percent complete http://www.senate.gov.ph/ list: 60.5%\n",
      "Percent complete http://www.senate.gov.ph/ list: 61.0%\n",
      "Percent complete http://www.senate.gov.ph/ list: 61.6%\n",
      "Percent complete http://www.senate.gov.ph/ list: 62.1%\n",
      "Percent complete http://www.senate.gov.ph/ list: 62.7%\n",
      "Percent complete http://www.senate.gov.ph/ list: 63.3%\n",
      "Percent complete http://www.senate.gov.ph/ list: 63.8%\n",
      "Percent complete http://www.senate.gov.ph/ list: 64.4%\n",
      "Percent complete http://www.senate.gov.ph/ list: 65.0%\n",
      "Percent complete http://www.senate.gov.ph/ list: 65.5%\n",
      "Percent complete http://www.senate.gov.ph/ list: 66.1%\n",
      "Percent complete http://www.senate.gov.ph/ list: 66.7%\n",
      "Percent complete http://www.senate.gov.ph/ list: 67.2%\n",
      "Percent complete http://www.senate.gov.ph/ list: 67.8%\n",
      "Percent complete http://www.senate.gov.ph/ list: 68.4%\n",
      "Percent complete http://www.senate.gov.ph/ list: 68.9%\n",
      "Percent complete http://www.senate.gov.ph/ list: 69.5%\n",
      "Percent complete http://www.senate.gov.ph/ list: 70.1%\n",
      "Percent complete http://www.senate.gov.ph/ list: 70.6%\n",
      "Percent complete http://www.senate.gov.ph/ list: 71.2%\n",
      "Percent complete http://www.senate.gov.ph/ list: 71.8%\n",
      "Percent complete http://www.senate.gov.ph/ list: 72.3%\n",
      "Percent complete http://www.senate.gov.ph/ list: 72.9%\n",
      "Percent complete http://www.senate.gov.ph/ list: 73.4%\n",
      "Percent complete http://www.senate.gov.ph/ list: 74.0%\n",
      "Percent complete http://www.senate.gov.ph/ list: 74.6%\n",
      "Percent complete http://www.senate.gov.ph/ list: 75.1%\n",
      "Percent complete http://www.senate.gov.ph/ list: 75.7%\n",
      "Percent complete http://www.senate.gov.ph/ list: 76.3%\n",
      "Percent complete http://www.senate.gov.ph/ list: 76.8%\n",
      "Percent complete http://www.senate.gov.ph/ list: 77.4%\n",
      "Percent complete http://www.senate.gov.ph/ list: 78.0%\n",
      "Percent complete http://www.senate.gov.ph/ list: 78.5%\n",
      "Percent complete http://www.senate.gov.ph/ list: 79.1%\n",
      "Percent complete http://www.senate.gov.ph/ list: 79.7%\n",
      "Percent complete http://www.senate.gov.ph/ list: 80.2%\n",
      "Percent complete http://www.senate.gov.ph/ list: 80.8%\n",
      "Percent complete http://www.senate.gov.ph/ list: 81.4%\n",
      "Percent complete http://www.senate.gov.ph/ list: 81.9%\n",
      "Percent complete http://www.senate.gov.ph/ list: 82.5%\n",
      "Percent complete http://www.senate.gov.ph/ list: 83.1%\n",
      "Percent complete http://www.senate.gov.ph/ list: 83.6%\n",
      "Percent complete http://www.senate.gov.ph/ list: 84.2%\n",
      "Percent complete http://www.senate.gov.ph/ list: 84.7%\n",
      "Percent complete http://www.senate.gov.ph/ list: 85.3%\n",
      "Percent complete http://www.senate.gov.ph/ list: 85.9%\n",
      "Percent complete http://www.senate.gov.ph/ list: 86.4%\n",
      "Percent complete http://www.senate.gov.ph/ list: 87.0%\n",
      "Percent complete http://www.senate.gov.ph/ list: 87.6%\n",
      "Percent complete http://www.senate.gov.ph/ list: 88.1%\n",
      "Percent complete http://www.senate.gov.ph/ list: 88.7%\n",
      "Percent complete http://www.senate.gov.ph/ list: 89.3%\n",
      "Percent complete http://www.senate.gov.ph/ list: 89.8%\n",
      "Percent complete http://www.senate.gov.ph/ list: 90.4%\n",
      "Percent complete http://www.senate.gov.ph/ list: 91.0%\n",
      "Percent complete http://www.senate.gov.ph/ list: 91.5%\n",
      "Percent complete http://www.senate.gov.ph/ list: 92.1%\n",
      "Percent complete http://www.senate.gov.ph/ list: 92.7%\n",
      "Percent complete http://www.senate.gov.ph/ list: 93.2%\n",
      "Percent complete http://www.senate.gov.ph/ list: 93.8%\n",
      "Percent complete http://www.senate.gov.ph/ list: 94.4%\n",
      "Percent complete http://www.senate.gov.ph/ list: 94.9%\n",
      "Percent complete http://www.senate.gov.ph/ list: 95.5%\n",
      "Percent complete http://www.senate.gov.ph/ list: 96.0%\n",
      "Percent complete http://www.senate.gov.ph/ list: 96.6%\n",
      "Percent complete http://www.senate.gov.ph/ list: 97.2%\n",
      "Percent complete http://www.senate.gov.ph/ list: 97.7%\n",
      "Percent complete http://www.senate.gov.ph/ list: 98.3%\n",
      "Percent complete http://www.senate.gov.ph/ list: 98.9%\n",
      "Percent complete http://www.senate.gov.ph/ list: 99.4%\n",
      "Percent complete http://www.senate.gov.ph/ list: 100.0%\n",
      "Percent complete all sources list: 47.4%\n",
      "Percent complete all sources list: 52.6%\n"
     ]
    },
    {
     "name": "stdout",
     "output_type": "stream",
     "text": [
      "Percent complete https://www.mindanews.com/ list: 0.9%\n",
      "Percent complete https://www.mindanews.com/ list: 1.8%\n",
      "Percent complete https://www.mindanews.com/ list: 2.8%\n",
      "Percent complete https://www.mindanews.com/ list: 3.7%\n",
      "Percent complete https://www.mindanews.com/ list: 4.6%\n",
      "Percent complete https://www.mindanews.com/ list: 5.5%\n",
      "Percent complete https://www.mindanews.com/ list: 6.4%\n",
      "Percent complete https://www.mindanews.com/ list: 7.3%\n",
      "Percent complete https://www.mindanews.com/ list: 8.3%\n",
      "Percent complete https://www.mindanews.com/ list: 9.2%\n",
      "Percent complete https://www.mindanews.com/ list: 10.1%\n",
      "Percent complete https://www.mindanews.com/ list: 11.0%\n",
      "Percent complete https://www.mindanews.com/ list: 11.9%\n",
      "Percent complete https://www.mindanews.com/ list: 12.8%\n",
      "Percent complete https://www.mindanews.com/ list: 13.8%\n",
      "Percent complete https://www.mindanews.com/ list: 14.7%\n",
      "Percent complete https://www.mindanews.com/ list: 15.6%\n",
      "Percent complete https://www.mindanews.com/ list: 16.5%\n",
      "Percent complete https://www.mindanews.com/ list: 17.4%\n",
      "Percent complete https://www.mindanews.com/ list: 18.3%\n",
      "Percent complete https://www.mindanews.com/ list: 19.3%\n",
      "Percent complete https://www.mindanews.com/ list: 20.2%\n",
      "Percent complete https://www.mindanews.com/ list: 21.1%\n",
      "Percent complete https://www.mindanews.com/ list: 22.0%\n",
      "Percent complete https://www.mindanews.com/ list: 22.9%\n",
      "Percent complete https://www.mindanews.com/ list: 23.9%\n",
      "Percent complete https://www.mindanews.com/ list: 24.8%\n",
      "Percent complete https://www.mindanews.com/ list: 25.7%\n",
      "Percent complete https://www.mindanews.com/ list: 26.6%\n",
      "Percent complete https://www.mindanews.com/ list: 27.5%\n",
      "Percent complete https://www.mindanews.com/ list: 28.4%\n",
      "Percent complete https://www.mindanews.com/ list: 29.4%\n",
      "Percent complete https://www.mindanews.com/ list: 30.3%\n",
      "Percent complete https://www.mindanews.com/ list: 31.2%\n",
      "Percent complete https://www.mindanews.com/ list: 32.1%\n",
      "Percent complete https://www.mindanews.com/ list: 33.0%\n",
      "Percent complete https://www.mindanews.com/ list: 33.9%\n",
      "Percent complete https://www.mindanews.com/ list: 34.9%\n",
      "Percent complete https://www.mindanews.com/ list: 35.8%\n",
      "Percent complete https://www.mindanews.com/ list: 36.7%\n",
      "Percent complete https://www.mindanews.com/ list: 37.6%\n",
      "Percent complete https://www.mindanews.com/ list: 38.5%\n",
      "Percent complete https://www.mindanews.com/ list: 39.4%\n",
      "Percent complete https://www.mindanews.com/ list: 40.4%\n",
      "Percent complete https://www.mindanews.com/ list: 41.3%\n",
      "Percent complete https://www.mindanews.com/ list: 42.2%\n",
      "Percent complete https://www.mindanews.com/ list: 43.1%\n",
      "Percent complete https://www.mindanews.com/ list: 44.0%\n",
      "Percent complete https://www.mindanews.com/ list: 45.0%\n",
      "Percent complete https://www.mindanews.com/ list: 45.9%\n",
      "Percent complete https://www.mindanews.com/ list: 46.8%\n",
      "Percent complete https://www.mindanews.com/ list: 47.7%\n",
      "Percent complete https://www.mindanews.com/ list: 48.6%\n",
      "Percent complete https://www.mindanews.com/ list: 49.5%\n",
      "Percent complete https://www.mindanews.com/ list: 50.5%\n",
      "Percent complete https://www.mindanews.com/ list: 51.4%\n",
      "Percent complete https://www.mindanews.com/ list: 52.3%\n",
      "Percent complete https://www.mindanews.com/ list: 53.2%\n",
      "Percent complete https://www.mindanews.com/ list: 54.1%\n",
      "Percent complete https://www.mindanews.com/ list: 55.0%\n",
      "Percent complete https://www.mindanews.com/ list: 56.0%\n",
      "Percent complete https://www.mindanews.com/ list: 56.9%\n",
      "Percent complete https://www.mindanews.com/ list: 57.8%\n",
      "Percent complete https://www.mindanews.com/ list: 58.7%\n",
      "Percent complete https://www.mindanews.com/ list: 59.6%\n",
      "Percent complete https://www.mindanews.com/ list: 60.6%\n",
      "Percent complete https://www.mindanews.com/ list: 61.5%\n",
      "Percent complete https://www.mindanews.com/ list: 62.4%\n",
      "Percent complete https://www.mindanews.com/ list: 63.3%\n",
      "Percent complete https://www.mindanews.com/ list: 64.2%\n",
      "Percent complete https://www.mindanews.com/ list: 65.1%\n",
      "Percent complete https://www.mindanews.com/ list: 66.1%\n",
      "Percent complete https://www.mindanews.com/ list: 67.0%\n",
      "Percent complete https://www.mindanews.com/ list: 67.9%\n",
      "Percent complete https://www.mindanews.com/ list: 68.8%\n",
      "Percent complete https://www.mindanews.com/ list: 69.7%\n",
      "Percent complete https://www.mindanews.com/ list: 70.6%\n",
      "Percent complete https://www.mindanews.com/ list: 71.6%\n",
      "Percent complete https://www.mindanews.com/ list: 72.5%\n",
      "Percent complete https://www.mindanews.com/ list: 73.4%\n",
      "Percent complete https://www.mindanews.com/ list: 74.3%\n",
      "Percent complete https://www.mindanews.com/ list: 75.2%\n",
      "Percent complete https://www.mindanews.com/ list: 76.1%\n",
      "Percent complete https://www.mindanews.com/ list: 77.1%\n",
      "Percent complete https://www.mindanews.com/ list: 78.0%\n",
      "Percent complete https://www.mindanews.com/ list: 78.9%\n",
      "Percent complete https://www.mindanews.com/ list: 79.8%\n",
      "Percent complete https://www.mindanews.com/ list: 80.7%\n",
      "Percent complete https://www.mindanews.com/ list: 81.7%\n",
      "Percent complete https://www.mindanews.com/ list: 82.6%\n",
      "Percent complete https://www.mindanews.com/ list: 83.5%\n",
      "Percent complete https://www.mindanews.com/ list: 84.4%\n",
      "Percent complete https://www.mindanews.com/ list: 85.3%\n",
      "Percent complete https://www.mindanews.com/ list: 86.2%\n",
      "Percent complete https://www.mindanews.com/ list: 87.2%\n",
      "Percent complete https://www.mindanews.com/ list: 88.1%\n",
      "Percent complete https://www.mindanews.com/ list: 89.0%\n",
      "Percent complete https://www.mindanews.com/ list: 89.9%\n",
      "Percent complete https://www.mindanews.com/ list: 90.8%\n",
      "Percent complete https://www.mindanews.com/ list: 91.7%\n",
      "Percent complete https://www.mindanews.com/ list: 92.7%\n",
      "Percent complete https://www.mindanews.com/ list: 93.6%\n",
      "Percent complete https://www.mindanews.com/ list: 94.5%\n",
      "Percent complete https://www.mindanews.com/ list: 95.4%\n",
      "Percent complete https://www.mindanews.com/ list: 96.3%\n",
      "Percent complete https://www.mindanews.com/ list: 97.2%\n",
      "Percent complete https://www.mindanews.com/ list: 98.2%\n",
      "Percent complete https://www.mindanews.com/ list: 99.1%\n",
      "Percent complete https://www.mindanews.com/ list: 100.0%\n",
      "Percent complete all sources list: 57.9%\n",
      "Percent complete https://palawan-news.com/ list: 0.2%\n",
      "Percent complete https://palawan-news.com/ list: 0.4%\n",
      "Percent complete https://palawan-news.com/ list: 0.6%\n",
      "Percent complete https://palawan-news.com/ list: 0.8%\n",
      "Percent complete https://palawan-news.com/ list: 1.1%\n",
      "Percent complete https://palawan-news.com/ list: 1.3%\n",
      "Percent complete https://palawan-news.com/ list: 1.5%\n",
      "Percent complete https://palawan-news.com/ list: 1.7%\n",
      "Percent complete https://palawan-news.com/ list: 1.9%\n",
      "Percent complete https://palawan-news.com/ list: 2.1%\n",
      "Percent complete https://palawan-news.com/ list: 2.3%\n",
      "Percent complete https://palawan-news.com/ list: 2.5%\n",
      "Percent complete https://palawan-news.com/ list: 2.7%\n",
      "Percent complete https://palawan-news.com/ list: 3.0%\n",
      "Percent complete https://palawan-news.com/ list: 3.2%\n",
      "Percent complete https://palawan-news.com/ list: 3.4%\n",
      "Percent complete https://palawan-news.com/ list: 3.6%\n",
      "Percent complete https://palawan-news.com/ list: 3.8%\n",
      "Percent complete https://palawan-news.com/ list: 4.0%\n",
      "Percent complete https://palawan-news.com/ list: 4.2%\n",
      "Percent complete https://palawan-news.com/ list: 4.4%\n",
      "Percent complete https://palawan-news.com/ list: 4.7%\n",
      "Percent complete https://palawan-news.com/ list: 4.9%\n",
      "Percent complete https://palawan-news.com/ list: 5.1%\n",
      "Percent complete https://palawan-news.com/ list: 5.3%\n",
      "Percent complete https://palawan-news.com/ list: 5.5%\n",
      "Percent complete https://palawan-news.com/ list: 5.7%\n",
      "Percent complete https://palawan-news.com/ list: 5.9%\n",
      "Percent complete https://palawan-news.com/ list: 6.1%\n",
      "Percent complete https://palawan-news.com/ list: 6.3%\n",
      "Percent complete https://palawan-news.com/ list: 6.6%\n",
      "Percent complete https://palawan-news.com/ list: 6.8%\n",
      "Percent complete https://palawan-news.com/ list: 7.0%\n",
      "Percent complete https://palawan-news.com/ list: 7.2%\n",
      "Percent complete https://palawan-news.com/ list: 7.4%\n",
      "Percent complete https://palawan-news.com/ list: 7.6%\n",
      "Percent complete https://palawan-news.com/ list: 7.8%\n",
      "Percent complete https://palawan-news.com/ list: 8.0%\n",
      "Percent complete https://palawan-news.com/ list: 8.2%\n",
      "Percent complete https://palawan-news.com/ list: 8.5%\n",
      "Percent complete https://palawan-news.com/ list: 8.7%\n",
      "Percent complete https://palawan-news.com/ list: 8.9%\n",
      "Percent complete https://palawan-news.com/ list: 9.1%\n",
      "Percent complete https://palawan-news.com/ list: 9.3%\n",
      "Percent complete https://palawan-news.com/ list: 9.5%\n",
      "Percent complete https://palawan-news.com/ list: 9.7%\n",
      "Percent complete https://palawan-news.com/ list: 9.9%\n",
      "Percent complete https://palawan-news.com/ list: 10.1%\n",
      "Percent complete https://palawan-news.com/ list: 10.4%\n",
      "Percent complete https://palawan-news.com/ list: 10.6%\n",
      "Percent complete https://palawan-news.com/ list: 10.8%\n",
      "Percent complete https://palawan-news.com/ list: 11.0%\n",
      "Percent complete https://palawan-news.com/ list: 11.2%\n",
      "Percent complete https://palawan-news.com/ list: 11.4%\n",
      "Percent complete https://palawan-news.com/ list: 11.6%\n",
      "Percent complete https://palawan-news.com/ list: 11.8%\n",
      "Percent complete https://palawan-news.com/ list: 12.1%\n",
      "Percent complete https://palawan-news.com/ list: 12.3%\n",
      "Percent complete https://palawan-news.com/ list: 12.5%\n",
      "Percent complete https://palawan-news.com/ list: 12.7%\n",
      "Percent complete https://palawan-news.com/ list: 12.9%\n",
      "Percent complete https://palawan-news.com/ list: 13.1%\n",
      "Percent complete https://palawan-news.com/ list: 13.3%\n",
      "Percent complete https://palawan-news.com/ list: 13.5%\n",
      "Percent complete https://palawan-news.com/ list: 13.7%\n",
      "Percent complete https://palawan-news.com/ list: 14.0%\n",
      "Percent complete https://palawan-news.com/ list: 14.2%\n",
      "Percent complete https://palawan-news.com/ list: 14.4%\n",
      "Percent complete https://palawan-news.com/ list: 14.6%\n",
      "Percent complete https://palawan-news.com/ list: 14.8%\n",
      "Percent complete https://palawan-news.com/ list: 15.0%\n",
      "Percent complete https://palawan-news.com/ list: 15.2%\n",
      "Percent complete https://palawan-news.com/ list: 15.4%\n",
      "Percent complete https://palawan-news.com/ list: 15.6%\n",
      "Percent complete https://palawan-news.com/ list: 15.9%\n",
      "Percent complete https://palawan-news.com/ list: 16.1%\n",
      "Percent complete https://palawan-news.com/ list: 16.3%\n",
      "Percent complete https://palawan-news.com/ list: 16.5%\n",
      "Percent complete https://palawan-news.com/ list: 16.7%\n",
      "Percent complete https://palawan-news.com/ list: 16.9%\n",
      "Percent complete https://palawan-news.com/ list: 17.1%\n",
      "Percent complete https://palawan-news.com/ list: 17.3%\n",
      "Percent complete https://palawan-news.com/ list: 17.5%\n",
      "Percent complete https://palawan-news.com/ list: 17.8%\n",
      "Percent complete https://palawan-news.com/ list: 18.0%\n",
      "Percent complete https://palawan-news.com/ list: 18.2%\n",
      "Percent complete https://palawan-news.com/ list: 18.4%\n",
      "Percent complete https://palawan-news.com/ list: 18.6%\n",
      "Percent complete https://palawan-news.com/ list: 18.8%\n",
      "Percent complete https://palawan-news.com/ list: 19.0%\n",
      "Percent complete https://palawan-news.com/ list: 19.2%\n",
      "Percent complete https://palawan-news.com/ list: 19.5%\n",
      "Percent complete https://palawan-news.com/ list: 19.7%\n",
      "Percent complete https://palawan-news.com/ list: 19.9%\n",
      "Percent complete https://palawan-news.com/ list: 20.1%\n",
      "Percent complete https://palawan-news.com/ list: 20.3%\n",
      "Percent complete https://palawan-news.com/ list: 20.5%\n",
      "Percent complete https://palawan-news.com/ list: 20.7%\n",
      "Percent complete https://palawan-news.com/ list: 20.9%\n",
      "Percent complete https://palawan-news.com/ list: 21.1%\n",
      "Percent complete https://palawan-news.com/ list: 21.4%\n",
      "Percent complete https://palawan-news.com/ list: 21.6%\n",
      "Percent complete https://palawan-news.com/ list: 21.8%\n",
      "Percent complete https://palawan-news.com/ list: 22.0%\n",
      "Percent complete https://palawan-news.com/ list: 22.2%\n",
      "Percent complete https://palawan-news.com/ list: 22.4%\n",
      "Percent complete https://palawan-news.com/ list: 22.6%\n",
      "Percent complete https://palawan-news.com/ list: 22.8%\n",
      "Percent complete https://palawan-news.com/ list: 23.0%\n",
      "Percent complete https://palawan-news.com/ list: 23.3%\n",
      "Percent complete https://palawan-news.com/ list: 23.5%\n",
      "Percent complete https://palawan-news.com/ list: 23.7%\n",
      "Percent complete https://palawan-news.com/ list: 23.9%\n",
      "Percent complete https://palawan-news.com/ list: 24.1%\n",
      "Percent complete https://palawan-news.com/ list: 24.3%\n",
      "Percent complete https://palawan-news.com/ list: 24.5%\n",
      "Percent complete https://palawan-news.com/ list: 24.7%\n",
      "Percent complete https://palawan-news.com/ list: 24.9%\n",
      "Percent complete https://palawan-news.com/ list: 25.2%\n",
      "Percent complete https://palawan-news.com/ list: 25.4%\n",
      "Percent complete https://palawan-news.com/ list: 25.6%\n",
      "Percent complete https://palawan-news.com/ list: 25.8%\n",
      "Percent complete https://palawan-news.com/ list: 26.0%\n",
      "Percent complete https://palawan-news.com/ list: 26.2%\n",
      "Percent complete https://palawan-news.com/ list: 26.4%\n",
      "Percent complete https://palawan-news.com/ list: 26.6%\n",
      "Percent complete https://palawan-news.com/ list: 26.8%\n",
      "Percent complete https://palawan-news.com/ list: 27.1%\n",
      "Percent complete https://palawan-news.com/ list: 27.3%\n",
      "Percent complete https://palawan-news.com/ list: 27.5%\n",
      "Percent complete https://palawan-news.com/ list: 27.7%\n",
      "Percent complete https://palawan-news.com/ list: 27.9%\n",
      "Percent complete https://palawan-news.com/ list: 28.1%\n",
      "Percent complete https://palawan-news.com/ list: 28.3%\n",
      "Percent complete https://palawan-news.com/ list: 28.5%\n",
      "Percent complete https://palawan-news.com/ list: 28.8%\n",
      "Percent complete https://palawan-news.com/ list: 29.0%\n",
      "Percent complete https://palawan-news.com/ list: 29.2%\n",
      "Percent complete https://palawan-news.com/ list: 29.4%\n",
      "Percent complete https://palawan-news.com/ list: 29.6%\n",
      "Percent complete https://palawan-news.com/ list: 29.8%\n",
      "Percent complete https://palawan-news.com/ list: 30.0%\n",
      "Percent complete https://palawan-news.com/ list: 30.2%\n",
      "Percent complete https://palawan-news.com/ list: 30.4%\n",
      "Percent complete https://palawan-news.com/ list: 30.7%\n",
      "Percent complete https://palawan-news.com/ list: 30.9%\n",
      "Percent complete https://palawan-news.com/ list: 31.1%\n",
      "Percent complete https://palawan-news.com/ list: 31.3%\n",
      "Percent complete https://palawan-news.com/ list: 31.5%\n",
      "Percent complete https://palawan-news.com/ list: 31.7%\n",
      "Percent complete https://palawan-news.com/ list: 31.9%\n",
      "Percent complete https://palawan-news.com/ list: 32.1%\n",
      "Percent complete https://palawan-news.com/ list: 32.3%\n",
      "Percent complete https://palawan-news.com/ list: 32.6%\n",
      "Percent complete https://palawan-news.com/ list: 32.8%\n",
      "Percent complete https://palawan-news.com/ list: 33.0%\n",
      "Percent complete https://palawan-news.com/ list: 33.2%\n",
      "Percent complete https://palawan-news.com/ list: 33.4%\n",
      "Percent complete https://palawan-news.com/ list: 33.6%\n",
      "Percent complete https://palawan-news.com/ list: 33.8%\n",
      "Percent complete https://palawan-news.com/ list: 34.0%\n",
      "Percent complete https://palawan-news.com/ list: 34.2%\n",
      "Percent complete https://palawan-news.com/ list: 34.5%\n",
      "Percent complete https://palawan-news.com/ list: 34.7%\n",
      "Percent complete https://palawan-news.com/ list: 34.9%\n",
      "Percent complete https://palawan-news.com/ list: 35.1%\n",
      "Percent complete https://palawan-news.com/ list: 35.3%\n",
      "Percent complete https://palawan-news.com/ list: 35.5%\n",
      "Percent complete https://palawan-news.com/ list: 35.7%\n",
      "Percent complete https://palawan-news.com/ list: 35.9%\n",
      "Percent complete https://palawan-news.com/ list: 36.2%\n",
      "Percent complete https://palawan-news.com/ list: 36.4%\n",
      "Percent complete https://palawan-news.com/ list: 36.6%\n",
      "Percent complete https://palawan-news.com/ list: 36.8%\n",
      "Percent complete https://palawan-news.com/ list: 37.0%\n",
      "Percent complete https://palawan-news.com/ list: 37.2%\n",
      "Percent complete https://palawan-news.com/ list: 37.4%\n",
      "Percent complete https://palawan-news.com/ list: 37.6%\n",
      "Percent complete https://palawan-news.com/ list: 37.8%\n",
      "Percent complete https://palawan-news.com/ list: 38.1%\n",
      "Percent complete https://palawan-news.com/ list: 38.3%\n",
      "Percent complete https://palawan-news.com/ list: 38.5%\n",
      "Percent complete https://palawan-news.com/ list: 38.7%\n",
      "Percent complete https://palawan-news.com/ list: 38.9%\n",
      "Percent complete https://palawan-news.com/ list: 39.1%\n",
      "Percent complete https://palawan-news.com/ list: 39.3%\n",
      "Percent complete https://palawan-news.com/ list: 39.5%\n",
      "Percent complete https://palawan-news.com/ list: 39.7%\n",
      "Percent complete https://palawan-news.com/ list: 40.0%\n",
      "Percent complete https://palawan-news.com/ list: 40.2%\n",
      "Percent complete https://palawan-news.com/ list: 40.4%\n",
      "Percent complete https://palawan-news.com/ list: 40.6%\n",
      "Percent complete https://palawan-news.com/ list: 40.8%\n",
      "Percent complete https://palawan-news.com/ list: 41.0%\n",
      "Percent complete https://palawan-news.com/ list: 41.2%\n",
      "Percent complete https://palawan-news.com/ list: 41.4%\n",
      "Percent complete https://palawan-news.com/ list: 41.6%\n",
      "Percent complete https://palawan-news.com/ list: 41.9%\n",
      "Percent complete https://palawan-news.com/ list: 42.1%\n",
      "Percent complete https://palawan-news.com/ list: 42.3%\n",
      "Percent complete https://palawan-news.com/ list: 42.5%\n",
      "Percent complete https://palawan-news.com/ list: 42.7%\n",
      "Percent complete https://palawan-news.com/ list: 42.9%\n",
      "Percent complete https://palawan-news.com/ list: 43.1%\n",
      "Percent complete https://palawan-news.com/ list: 43.3%\n",
      "Percent complete https://palawan-news.com/ list: 43.6%\n",
      "Percent complete https://palawan-news.com/ list: 43.8%\n",
      "Percent complete https://palawan-news.com/ list: 44.0%\n",
      "Percent complete https://palawan-news.com/ list: 44.2%\n",
      "Percent complete https://palawan-news.com/ list: 44.4%\n",
      "Percent complete https://palawan-news.com/ list: 44.6%\n",
      "Percent complete https://palawan-news.com/ list: 44.8%\n",
      "Percent complete https://palawan-news.com/ list: 45.0%\n",
      "Percent complete https://palawan-news.com/ list: 45.2%\n",
      "Percent complete https://palawan-news.com/ list: 45.5%\n",
      "Percent complete https://palawan-news.com/ list: 45.7%\n",
      "Percent complete https://palawan-news.com/ list: 45.9%\n",
      "Percent complete https://palawan-news.com/ list: 46.1%\n",
      "Percent complete https://palawan-news.com/ list: 46.3%\n",
      "Percent complete https://palawan-news.com/ list: 46.5%\n",
      "Percent complete https://palawan-news.com/ list: 46.7%\n",
      "Percent complete https://palawan-news.com/ list: 46.9%\n",
      "Percent complete https://palawan-news.com/ list: 47.1%\n",
      "Percent complete https://palawan-news.com/ list: 47.4%\n",
      "Percent complete https://palawan-news.com/ list: 47.6%\n",
      "Percent complete https://palawan-news.com/ list: 47.8%\n",
      "Percent complete https://palawan-news.com/ list: 48.0%\n",
      "Percent complete https://palawan-news.com/ list: 48.2%\n",
      "Percent complete https://palawan-news.com/ list: 48.4%\n",
      "Percent complete https://palawan-news.com/ list: 48.6%\n",
      "Percent complete https://palawan-news.com/ list: 48.8%\n",
      "Percent complete https://palawan-news.com/ list: 49.0%\n",
      "Percent complete https://palawan-news.com/ list: 49.3%\n",
      "Percent complete https://palawan-news.com/ list: 49.5%\n",
      "Percent complete https://palawan-news.com/ list: 49.7%\n",
      "Percent complete https://palawan-news.com/ list: 49.9%\n",
      "Percent complete https://palawan-news.com/ list: 50.1%\n",
      "Percent complete https://palawan-news.com/ list: 50.3%\n",
      "Percent complete https://palawan-news.com/ list: 50.5%\n",
      "Percent complete https://palawan-news.com/ list: 50.7%\n",
      "Percent complete https://palawan-news.com/ list: 51.0%\n",
      "Percent complete https://palawan-news.com/ list: 51.2%\n",
      "Percent complete https://palawan-news.com/ list: 51.4%\n",
      "Percent complete https://palawan-news.com/ list: 51.6%\n",
      "Percent complete https://palawan-news.com/ list: 51.8%\n",
      "Percent complete https://palawan-news.com/ list: 52.0%\n",
      "Percent complete https://palawan-news.com/ list: 52.2%\n",
      "Percent complete https://palawan-news.com/ list: 52.4%\n",
      "Percent complete https://palawan-news.com/ list: 52.6%\n",
      "Percent complete https://palawan-news.com/ list: 52.9%\n",
      "Percent complete https://palawan-news.com/ list: 53.1%\n",
      "Percent complete https://palawan-news.com/ list: 53.3%\n",
      "Percent complete https://palawan-news.com/ list: 53.5%\n",
      "Percent complete https://palawan-news.com/ list: 53.7%\n",
      "Percent complete https://palawan-news.com/ list: 53.9%\n",
      "Percent complete https://palawan-news.com/ list: 54.1%\n",
      "Percent complete https://palawan-news.com/ list: 54.3%\n",
      "Percent complete https://palawan-news.com/ list: 54.5%\n",
      "Percent complete https://palawan-news.com/ list: 54.8%\n",
      "Percent complete https://palawan-news.com/ list: 55.0%\n",
      "Percent complete https://palawan-news.com/ list: 55.2%\n",
      "Percent complete https://palawan-news.com/ list: 55.4%\n",
      "Percent complete https://palawan-news.com/ list: 55.6%\n",
      "Percent complete https://palawan-news.com/ list: 55.8%\n",
      "Percent complete https://palawan-news.com/ list: 56.0%\n",
      "Percent complete https://palawan-news.com/ list: 56.2%\n",
      "Percent complete https://palawan-news.com/ list: 56.4%\n",
      "Percent complete https://palawan-news.com/ list: 56.7%\n",
      "Percent complete https://palawan-news.com/ list: 56.9%\n",
      "Percent complete https://palawan-news.com/ list: 57.1%\n",
      "Percent complete https://palawan-news.com/ list: 57.3%\n",
      "Percent complete https://palawan-news.com/ list: 57.5%\n",
      "Percent complete https://palawan-news.com/ list: 57.7%\n",
      "Percent complete https://palawan-news.com/ list: 57.9%\n",
      "Percent complete https://palawan-news.com/ list: 58.1%\n",
      "Percent complete https://palawan-news.com/ list: 58.4%\n",
      "Percent complete https://palawan-news.com/ list: 58.6%\n",
      "Percent complete https://palawan-news.com/ list: 58.8%\n",
      "Percent complete https://palawan-news.com/ list: 59.0%\n",
      "Percent complete https://palawan-news.com/ list: 59.2%\n",
      "Percent complete https://palawan-news.com/ list: 59.4%\n",
      "Percent complete https://palawan-news.com/ list: 59.6%\n",
      "Percent complete https://palawan-news.com/ list: 59.8%\n",
      "Percent complete https://palawan-news.com/ list: 60.0%\n",
      "Percent complete https://palawan-news.com/ list: 60.3%\n",
      "Percent complete https://palawan-news.com/ list: 60.5%\n",
      "Percent complete https://palawan-news.com/ list: 60.7%\n",
      "Percent complete https://palawan-news.com/ list: 60.9%\n",
      "Percent complete https://palawan-news.com/ list: 61.1%\n",
      "Percent complete https://palawan-news.com/ list: 61.3%\n",
      "Percent complete https://palawan-news.com/ list: 61.5%\n",
      "Percent complete https://palawan-news.com/ list: 61.7%\n",
      "Percent complete https://palawan-news.com/ list: 61.9%\n",
      "Percent complete https://palawan-news.com/ list: 62.2%\n",
      "Percent complete https://palawan-news.com/ list: 62.4%\n",
      "Percent complete https://palawan-news.com/ list: 62.6%\n",
      "Percent complete https://palawan-news.com/ list: 62.8%\n",
      "Percent complete https://palawan-news.com/ list: 63.0%\n",
      "Percent complete https://palawan-news.com/ list: 63.2%\n",
      "Percent complete https://palawan-news.com/ list: 63.4%\n",
      "Percent complete https://palawan-news.com/ list: 63.6%\n",
      "Percent complete https://palawan-news.com/ list: 63.8%\n",
      "Percent complete https://palawan-news.com/ list: 64.1%\n",
      "Percent complete https://palawan-news.com/ list: 64.3%\n",
      "Percent complete https://palawan-news.com/ list: 64.5%\n",
      "Percent complete https://palawan-news.com/ list: 64.7%\n",
      "Percent complete https://palawan-news.com/ list: 64.9%\n",
      "Percent complete https://palawan-news.com/ list: 65.1%\n",
      "Percent complete https://palawan-news.com/ list: 65.3%\n",
      "Percent complete https://palawan-news.com/ list: 65.5%\n",
      "Percent complete https://palawan-news.com/ list: 65.8%\n",
      "Percent complete https://palawan-news.com/ list: 66.0%\n",
      "Percent complete https://palawan-news.com/ list: 66.2%\n",
      "Percent complete https://palawan-news.com/ list: 66.4%\n",
      "Percent complete https://palawan-news.com/ list: 66.6%\n",
      "Percent complete https://palawan-news.com/ list: 66.8%\n",
      "Percent complete https://palawan-news.com/ list: 67.0%\n",
      "Percent complete https://palawan-news.com/ list: 67.2%\n",
      "Percent complete https://palawan-news.com/ list: 67.4%\n",
      "Percent complete https://palawan-news.com/ list: 67.7%\n",
      "Percent complete https://palawan-news.com/ list: 67.9%\n",
      "Percent complete https://palawan-news.com/ list: 68.1%\n",
      "Percent complete https://palawan-news.com/ list: 68.3%\n",
      "Percent complete https://palawan-news.com/ list: 68.5%\n",
      "Percent complete https://palawan-news.com/ list: 68.7%\n",
      "Percent complete https://palawan-news.com/ list: 68.9%\n",
      "Percent complete https://palawan-news.com/ list: 69.1%\n",
      "Percent complete https://palawan-news.com/ list: 69.3%\n",
      "Percent complete https://palawan-news.com/ list: 69.6%\n",
      "Percent complete https://palawan-news.com/ list: 69.8%\n",
      "Percent complete https://palawan-news.com/ list: 70.0%\n",
      "Percent complete https://palawan-news.com/ list: 70.2%\n",
      "Percent complete https://palawan-news.com/ list: 70.4%\n",
      "Percent complete https://palawan-news.com/ list: 70.6%\n",
      "Percent complete https://palawan-news.com/ list: 70.8%\n",
      "Percent complete https://palawan-news.com/ list: 71.0%\n",
      "Percent complete https://palawan-news.com/ list: 71.2%\n",
      "Percent complete https://palawan-news.com/ list: 71.5%\n",
      "Percent complete https://palawan-news.com/ list: 71.7%\n",
      "Percent complete https://palawan-news.com/ list: 71.9%\n",
      "Percent complete https://palawan-news.com/ list: 72.1%\n",
      "Percent complete https://palawan-news.com/ list: 72.3%\n",
      "Percent complete https://palawan-news.com/ list: 72.5%\n",
      "Percent complete https://palawan-news.com/ list: 72.7%\n",
      "Percent complete https://palawan-news.com/ list: 72.9%\n",
      "Percent complete https://palawan-news.com/ list: 73.2%\n",
      "Percent complete https://palawan-news.com/ list: 73.4%\n",
      "Percent complete https://palawan-news.com/ list: 73.6%\n",
      "Percent complete https://palawan-news.com/ list: 73.8%\n",
      "Percent complete https://palawan-news.com/ list: 74.0%\n",
      "Percent complete https://palawan-news.com/ list: 74.2%\n",
      "Percent complete https://palawan-news.com/ list: 74.4%\n",
      "Percent complete https://palawan-news.com/ list: 74.6%\n",
      "Percent complete https://palawan-news.com/ list: 74.8%\n",
      "Percent complete https://palawan-news.com/ list: 75.1%\n",
      "Percent complete https://palawan-news.com/ list: 75.3%\n",
      "Percent complete https://palawan-news.com/ list: 75.5%\n",
      "Percent complete https://palawan-news.com/ list: 75.7%\n",
      "Percent complete https://palawan-news.com/ list: 75.9%\n",
      "Percent complete https://palawan-news.com/ list: 76.1%\n",
      "Percent complete https://palawan-news.com/ list: 76.3%\n",
      "Percent complete https://palawan-news.com/ list: 76.5%\n",
      "Percent complete https://palawan-news.com/ list: 76.7%\n",
      "Percent complete https://palawan-news.com/ list: 77.0%\n",
      "Percent complete https://palawan-news.com/ list: 77.2%\n",
      "Percent complete https://palawan-news.com/ list: 77.4%\n",
      "Percent complete https://palawan-news.com/ list: 77.6%\n",
      "Percent complete https://palawan-news.com/ list: 77.8%\n",
      "Percent complete https://palawan-news.com/ list: 78.0%\n",
      "Percent complete https://palawan-news.com/ list: 78.2%\n",
      "Percent complete https://palawan-news.com/ list: 78.4%\n",
      "Percent complete https://palawan-news.com/ list: 78.6%\n",
      "Percent complete https://palawan-news.com/ list: 78.9%\n",
      "Percent complete https://palawan-news.com/ list: 79.1%\n",
      "Percent complete https://palawan-news.com/ list: 79.3%\n",
      "Percent complete https://palawan-news.com/ list: 79.5%\n",
      "Percent complete https://palawan-news.com/ list: 79.7%\n",
      "Percent complete https://palawan-news.com/ list: 79.9%\n",
      "Percent complete https://palawan-news.com/ list: 80.1%\n",
      "Percent complete https://palawan-news.com/ list: 80.3%\n",
      "Percent complete https://palawan-news.com/ list: 80.5%\n",
      "Percent complete https://palawan-news.com/ list: 80.8%\n",
      "Percent complete https://palawan-news.com/ list: 81.0%\n",
      "Percent complete https://palawan-news.com/ list: 81.2%\n",
      "Percent complete https://palawan-news.com/ list: 81.4%\n",
      "Percent complete https://palawan-news.com/ list: 81.6%\n",
      "Percent complete https://palawan-news.com/ list: 81.8%\n",
      "Percent complete https://palawan-news.com/ list: 82.0%\n",
      "Percent complete https://palawan-news.com/ list: 82.2%\n",
      "Percent complete https://palawan-news.com/ list: 82.5%\n",
      "Percent complete https://palawan-news.com/ list: 82.7%\n",
      "Percent complete https://palawan-news.com/ list: 82.9%\n",
      "Percent complete https://palawan-news.com/ list: 83.1%\n",
      "Percent complete https://palawan-news.com/ list: 83.3%\n",
      "Percent complete https://palawan-news.com/ list: 83.5%\n",
      "Percent complete https://palawan-news.com/ list: 83.7%\n",
      "Percent complete https://palawan-news.com/ list: 83.9%\n",
      "Percent complete https://palawan-news.com/ list: 84.1%\n",
      "Percent complete https://palawan-news.com/ list: 84.4%\n",
      "Percent complete https://palawan-news.com/ list: 84.6%\n",
      "Percent complete https://palawan-news.com/ list: 84.8%\n",
      "Percent complete https://palawan-news.com/ list: 85.0%\n",
      "Percent complete https://palawan-news.com/ list: 85.2%\n",
      "Percent complete https://palawan-news.com/ list: 85.4%\n",
      "Percent complete https://palawan-news.com/ list: 85.6%\n",
      "Percent complete https://palawan-news.com/ list: 85.8%\n",
      "Percent complete https://palawan-news.com/ list: 86.0%\n",
      "Percent complete https://palawan-news.com/ list: 86.3%\n",
      "Percent complete https://palawan-news.com/ list: 86.5%\n",
      "Percent complete https://palawan-news.com/ list: 86.7%\n",
      "Percent complete https://palawan-news.com/ list: 86.9%\n",
      "Percent complete https://palawan-news.com/ list: 87.1%\n",
      "Percent complete https://palawan-news.com/ list: 87.3%\n",
      "Percent complete https://palawan-news.com/ list: 87.5%\n",
      "Percent complete https://palawan-news.com/ list: 87.7%\n",
      "Percent complete https://palawan-news.com/ list: 87.9%\n",
      "Percent complete https://palawan-news.com/ list: 88.2%\n",
      "Percent complete https://palawan-news.com/ list: 88.4%\n",
      "Percent complete https://palawan-news.com/ list: 88.6%\n",
      "Percent complete https://palawan-news.com/ list: 88.8%\n",
      "Percent complete https://palawan-news.com/ list: 89.0%\n",
      "Percent complete https://palawan-news.com/ list: 89.2%\n",
      "Percent complete https://palawan-news.com/ list: 89.4%\n",
      "Percent complete https://palawan-news.com/ list: 89.6%\n",
      "Percent complete https://palawan-news.com/ list: 89.9%\n",
      "Percent complete https://palawan-news.com/ list: 90.1%\n",
      "Percent complete https://palawan-news.com/ list: 90.3%\n",
      "Percent complete https://palawan-news.com/ list: 90.5%\n",
      "Percent complete https://palawan-news.com/ list: 90.7%\n",
      "Percent complete https://palawan-news.com/ list: 90.9%\n",
      "Percent complete https://palawan-news.com/ list: 91.1%\n",
      "Percent complete https://palawan-news.com/ list: 91.3%\n",
      "Percent complete https://palawan-news.com/ list: 91.5%\n",
      "Percent complete https://palawan-news.com/ list: 91.8%\n",
      "Percent complete https://palawan-news.com/ list: 92.0%\n",
      "Percent complete https://palawan-news.com/ list: 92.2%\n",
      "Percent complete https://palawan-news.com/ list: 92.4%\n",
      "Percent complete https://palawan-news.com/ list: 92.6%\n",
      "Percent complete https://palawan-news.com/ list: 92.8%\n",
      "Percent complete https://palawan-news.com/ list: 93.0%\n",
      "Percent complete https://palawan-news.com/ list: 93.2%\n",
      "Percent complete https://palawan-news.com/ list: 93.4%\n",
      "Percent complete https://palawan-news.com/ list: 93.7%\n",
      "Percent complete https://palawan-news.com/ list: 93.9%\n",
      "Percent complete https://palawan-news.com/ list: 94.1%\n",
      "Percent complete https://palawan-news.com/ list: 94.3%\n",
      "Percent complete https://palawan-news.com/ list: 94.5%\n",
      "Percent complete https://palawan-news.com/ list: 94.7%\n",
      "Percent complete https://palawan-news.com/ list: 94.9%\n",
      "Percent complete https://palawan-news.com/ list: 95.1%\n",
      "Percent complete https://palawan-news.com/ list: 95.3%\n",
      "Percent complete https://palawan-news.com/ list: 95.6%\n",
      "Percent complete https://palawan-news.com/ list: 95.8%\n",
      "Percent complete https://palawan-news.com/ list: 96.0%\n",
      "Percent complete https://palawan-news.com/ list: 96.2%\n",
      "Percent complete https://palawan-news.com/ list: 96.4%\n",
      "Percent complete https://palawan-news.com/ list: 96.6%\n",
      "Percent complete https://palawan-news.com/ list: 96.8%\n",
      "Percent complete https://palawan-news.com/ list: 97.0%\n",
      "Percent complete https://palawan-news.com/ list: 97.3%\n",
      "Percent complete https://palawan-news.com/ list: 97.5%\n",
      "Percent complete https://palawan-news.com/ list: 97.7%\n",
      "Percent complete https://palawan-news.com/ list: 97.9%\n",
      "Percent complete https://palawan-news.com/ list: 98.1%\n",
      "Percent complete https://palawan-news.com/ list: 98.3%\n",
      "Percent complete https://palawan-news.com/ list: 98.5%\n",
      "Percent complete https://palawan-news.com/ list: 98.7%\n",
      "Percent complete https://palawan-news.com/ list: 98.9%\n",
      "Percent complete https://palawan-news.com/ list: 99.2%\n",
      "Percent complete https://palawan-news.com/ list: 99.4%\n",
      "Percent complete https://palawan-news.com/ list: 99.6%\n",
      "Percent complete https://palawan-news.com/ list: 99.8%\n",
      "Percent complete https://palawan-news.com/ list: 100.0%\n",
      "Percent complete all sources list: 63.2%\n"
     ]
    },
    {
     "name": "stdout",
     "output_type": "stream",
     "text": [
      "Percent complete https://philnews.ph/ list: 0.4%\n",
      "Percent complete https://philnews.ph/ list: 0.7%\n",
      "Percent complete https://philnews.ph/ list: 1.1%\n",
      "Percent complete https://philnews.ph/ list: 1.4%\n",
      "Percent complete https://philnews.ph/ list: 1.8%\n",
      "Percent complete https://philnews.ph/ list: 2.1%\n",
      "Percent complete https://philnews.ph/ list: 2.5%\n",
      "Percent complete https://philnews.ph/ list: 2.8%\n",
      "Percent complete https://philnews.ph/ list: 3.2%\n",
      "Percent complete https://philnews.ph/ list: 3.5%\n",
      "Percent complete https://philnews.ph/ list: 3.9%\n",
      "Percent complete https://philnews.ph/ list: 4.2%\n",
      "Percent complete https://philnews.ph/ list: 4.6%\n",
      "Percent complete https://philnews.ph/ list: 4.9%\n",
      "Percent complete https://philnews.ph/ list: 5.3%\n",
      "Percent complete https://philnews.ph/ list: 5.6%\n",
      "Percent complete https://philnews.ph/ list: 6.0%\n",
      "Percent complete https://philnews.ph/ list: 6.3%\n",
      "Percent complete https://philnews.ph/ list: 6.7%\n",
      "Percent complete https://philnews.ph/ list: 7.0%\n",
      "Percent complete https://philnews.ph/ list: 7.4%\n",
      "Percent complete https://philnews.ph/ list: 7.7%\n",
      "Percent complete https://philnews.ph/ list: 8.1%\n",
      "Percent complete https://philnews.ph/ list: 8.4%\n",
      "Percent complete https://philnews.ph/ list: 8.8%\n",
      "Percent complete https://philnews.ph/ list: 9.1%\n",
      "Percent complete https://philnews.ph/ list: 9.5%\n",
      "Percent complete https://philnews.ph/ list: 9.8%\n",
      "Percent complete https://philnews.ph/ list: 10.2%\n",
      "Percent complete https://philnews.ph/ list: 10.5%\n",
      "Percent complete https://philnews.ph/ list: 10.9%\n",
      "Percent complete https://philnews.ph/ list: 11.2%\n",
      "Percent complete https://philnews.ph/ list: 11.6%\n",
      "Percent complete https://philnews.ph/ list: 11.9%\n",
      "Percent complete https://philnews.ph/ list: 12.3%\n",
      "Percent complete https://philnews.ph/ list: 12.6%\n",
      "Percent complete https://philnews.ph/ list: 13.0%\n",
      "Percent complete https://philnews.ph/ list: 13.3%\n",
      "Percent complete https://philnews.ph/ list: 13.7%\n",
      "Percent complete https://philnews.ph/ list: 14.0%\n",
      "Percent complete https://philnews.ph/ list: 14.4%\n",
      "Percent complete https://philnews.ph/ list: 14.7%\n",
      "Percent complete https://philnews.ph/ list: 15.1%\n",
      "Percent complete https://philnews.ph/ list: 15.4%\n",
      "Percent complete https://philnews.ph/ list: 15.8%\n",
      "Percent complete https://philnews.ph/ list: 16.1%\n",
      "Percent complete https://philnews.ph/ list: 16.5%\n",
      "Percent complete https://philnews.ph/ list: 16.8%\n",
      "Percent complete https://philnews.ph/ list: 17.2%\n",
      "Percent complete https://philnews.ph/ list: 17.5%\n",
      "Percent complete https://philnews.ph/ list: 17.9%\n",
      "Percent complete https://philnews.ph/ list: 18.2%\n",
      "Percent complete https://philnews.ph/ list: 18.6%\n",
      "Percent complete https://philnews.ph/ list: 18.9%\n",
      "Percent complete https://philnews.ph/ list: 19.3%\n",
      "Percent complete https://philnews.ph/ list: 19.6%\n",
      "Percent complete https://philnews.ph/ list: 20.0%\n",
      "Percent complete https://philnews.ph/ list: 20.4%\n",
      "Percent complete https://philnews.ph/ list: 20.7%\n",
      "Percent complete https://philnews.ph/ list: 21.1%\n",
      "Percent complete https://philnews.ph/ list: 21.4%\n",
      "Percent complete https://philnews.ph/ list: 21.8%\n",
      "Percent complete https://philnews.ph/ list: 22.1%\n",
      "Percent complete https://philnews.ph/ list: 22.5%\n",
      "Percent complete https://philnews.ph/ list: 22.8%\n",
      "Percent complete https://philnews.ph/ list: 23.2%\n",
      "Percent complete https://philnews.ph/ list: 23.5%\n",
      "Percent complete https://philnews.ph/ list: 23.9%\n",
      "Percent complete https://philnews.ph/ list: 24.2%\n",
      "Percent complete https://philnews.ph/ list: 24.6%\n",
      "Percent complete https://philnews.ph/ list: 24.9%\n",
      "Percent complete https://philnews.ph/ list: 25.3%\n",
      "Percent complete https://philnews.ph/ list: 25.6%\n",
      "Percent complete https://philnews.ph/ list: 26.0%\n",
      "Percent complete https://philnews.ph/ list: 26.3%\n",
      "Percent complete https://philnews.ph/ list: 26.7%\n",
      "Percent complete https://philnews.ph/ list: 27.0%\n",
      "Percent complete https://philnews.ph/ list: 27.4%\n",
      "Percent complete https://philnews.ph/ list: 27.7%\n",
      "Percent complete https://philnews.ph/ list: 28.1%\n",
      "Percent complete https://philnews.ph/ list: 28.4%\n",
      "Percent complete https://philnews.ph/ list: 28.8%\n",
      "Percent complete https://philnews.ph/ list: 29.1%\n",
      "Percent complete https://philnews.ph/ list: 29.5%\n",
      "Percent complete https://philnews.ph/ list: 29.8%\n",
      "Percent complete https://philnews.ph/ list: 30.2%\n",
      "Percent complete https://philnews.ph/ list: 30.5%\n",
      "Percent complete https://philnews.ph/ list: 30.9%\n",
      "Percent complete https://philnews.ph/ list: 31.2%\n",
      "Percent complete https://philnews.ph/ list: 31.6%\n",
      "Percent complete https://philnews.ph/ list: 31.9%\n",
      "Percent complete https://philnews.ph/ list: 32.3%\n",
      "Percent complete https://philnews.ph/ list: 32.6%\n",
      "Percent complete https://philnews.ph/ list: 33.0%\n",
      "Percent complete https://philnews.ph/ list: 33.3%\n",
      "Percent complete https://philnews.ph/ list: 33.7%\n",
      "Percent complete https://philnews.ph/ list: 34.0%\n",
      "Percent complete https://philnews.ph/ list: 34.4%\n",
      "Percent complete https://philnews.ph/ list: 34.7%\n",
      "Percent complete https://philnews.ph/ list: 35.1%\n",
      "Percent complete https://philnews.ph/ list: 35.4%\n",
      "Percent complete https://philnews.ph/ list: 35.8%\n",
      "Percent complete https://philnews.ph/ list: 36.1%\n",
      "Percent complete https://philnews.ph/ list: 36.5%\n",
      "Percent complete https://philnews.ph/ list: 36.8%\n",
      "Percent complete https://philnews.ph/ list: 37.2%\n",
      "Percent complete https://philnews.ph/ list: 37.5%\n",
      "Percent complete https://philnews.ph/ list: 37.9%\n",
      "Percent complete https://philnews.ph/ list: 38.2%\n",
      "Percent complete https://philnews.ph/ list: 38.6%\n",
      "Percent complete https://philnews.ph/ list: 38.9%\n",
      "Percent complete https://philnews.ph/ list: 39.3%\n",
      "Percent complete https://philnews.ph/ list: 39.6%\n",
      "Percent complete https://philnews.ph/ list: 40.0%\n",
      "Percent complete https://philnews.ph/ list: 40.4%\n",
      "Percent complete https://philnews.ph/ list: 40.7%\n",
      "Percent complete https://philnews.ph/ list: 41.1%\n",
      "Percent complete https://philnews.ph/ list: 41.4%\n",
      "Percent complete https://philnews.ph/ list: 41.8%\n",
      "Percent complete https://philnews.ph/ list: 42.1%\n",
      "Percent complete https://philnews.ph/ list: 42.5%\n",
      "Percent complete https://philnews.ph/ list: 42.8%\n",
      "Percent complete https://philnews.ph/ list: 43.2%\n",
      "Percent complete https://philnews.ph/ list: 43.5%\n",
      "Percent complete https://philnews.ph/ list: 43.9%\n",
      "Percent complete https://philnews.ph/ list: 44.2%\n",
      "Percent complete https://philnews.ph/ list: 44.6%\n",
      "Percent complete https://philnews.ph/ list: 44.9%\n",
      "Percent complete https://philnews.ph/ list: 45.3%\n",
      "Percent complete https://philnews.ph/ list: 45.6%\n",
      "Percent complete https://philnews.ph/ list: 46.0%\n",
      "Percent complete https://philnews.ph/ list: 46.3%\n",
      "Percent complete https://philnews.ph/ list: 46.7%\n",
      "Percent complete https://philnews.ph/ list: 47.0%\n",
      "Percent complete https://philnews.ph/ list: 47.4%\n",
      "Percent complete https://philnews.ph/ list: 47.7%\n",
      "Percent complete https://philnews.ph/ list: 48.1%\n",
      "Percent complete https://philnews.ph/ list: 48.4%\n",
      "Percent complete https://philnews.ph/ list: 48.8%\n",
      "Percent complete https://philnews.ph/ list: 49.1%\n",
      "Percent complete https://philnews.ph/ list: 49.5%\n",
      "Percent complete https://philnews.ph/ list: 49.8%\n",
      "Percent complete https://philnews.ph/ list: 50.2%\n",
      "Percent complete https://philnews.ph/ list: 50.5%\n",
      "Percent complete https://philnews.ph/ list: 50.9%\n",
      "Percent complete https://philnews.ph/ list: 51.2%\n",
      "Percent complete https://philnews.ph/ list: 51.6%\n",
      "Percent complete https://philnews.ph/ list: 51.9%\n",
      "Percent complete https://philnews.ph/ list: 52.3%\n",
      "Percent complete https://philnews.ph/ list: 52.6%\n",
      "Percent complete https://philnews.ph/ list: 53.0%\n",
      "Percent complete https://philnews.ph/ list: 53.3%\n",
      "Percent complete https://philnews.ph/ list: 53.7%\n",
      "Percent complete https://philnews.ph/ list: 54.0%\n",
      "Percent complete https://philnews.ph/ list: 54.4%\n",
      "Percent complete https://philnews.ph/ list: 54.7%\n",
      "Percent complete https://philnews.ph/ list: 55.1%\n",
      "Percent complete https://philnews.ph/ list: 55.4%\n",
      "Percent complete https://philnews.ph/ list: 55.8%\n",
      "Percent complete https://philnews.ph/ list: 56.1%\n",
      "Percent complete https://philnews.ph/ list: 56.5%\n",
      "Percent complete https://philnews.ph/ list: 56.8%\n",
      "Percent complete https://philnews.ph/ list: 57.2%\n",
      "Percent complete https://philnews.ph/ list: 57.5%\n",
      "Percent complete https://philnews.ph/ list: 57.9%\n",
      "Percent complete https://philnews.ph/ list: 58.2%\n",
      "Percent complete https://philnews.ph/ list: 58.6%\n",
      "Percent complete https://philnews.ph/ list: 58.9%\n",
      "Percent complete https://philnews.ph/ list: 59.3%\n",
      "Percent complete https://philnews.ph/ list: 59.6%\n",
      "Percent complete https://philnews.ph/ list: 60.0%\n",
      "Percent complete https://philnews.ph/ list: 60.4%\n",
      "Percent complete https://philnews.ph/ list: 60.7%\n",
      "Percent complete https://philnews.ph/ list: 61.1%\n",
      "Percent complete https://philnews.ph/ list: 61.4%\n",
      "Percent complete https://philnews.ph/ list: 61.8%\n",
      "Percent complete https://philnews.ph/ list: 62.1%\n",
      "Percent complete https://philnews.ph/ list: 62.5%\n",
      "Percent complete https://philnews.ph/ list: 62.8%\n",
      "Percent complete https://philnews.ph/ list: 63.2%\n",
      "Percent complete https://philnews.ph/ list: 63.5%\n",
      "Percent complete https://philnews.ph/ list: 63.9%\n",
      "Percent complete https://philnews.ph/ list: 64.2%\n",
      "Percent complete https://philnews.ph/ list: 64.6%\n",
      "Percent complete https://philnews.ph/ list: 64.9%\n",
      "Percent complete https://philnews.ph/ list: 65.3%\n",
      "Percent complete https://philnews.ph/ list: 65.6%\n",
      "Percent complete https://philnews.ph/ list: 66.0%\n",
      "Percent complete https://philnews.ph/ list: 66.3%\n",
      "Percent complete https://philnews.ph/ list: 66.7%\n",
      "Percent complete https://philnews.ph/ list: 67.0%\n",
      "Percent complete https://philnews.ph/ list: 67.4%\n",
      "Percent complete https://philnews.ph/ list: 67.7%\n",
      "Percent complete https://philnews.ph/ list: 68.1%\n",
      "Percent complete https://philnews.ph/ list: 68.4%\n",
      "Percent complete https://philnews.ph/ list: 68.8%\n",
      "Percent complete https://philnews.ph/ list: 69.1%\n",
      "Percent complete https://philnews.ph/ list: 69.5%\n",
      "Percent complete https://philnews.ph/ list: 69.8%\n",
      "Percent complete https://philnews.ph/ list: 70.2%\n",
      "Percent complete https://philnews.ph/ list: 70.5%\n",
      "Percent complete https://philnews.ph/ list: 70.9%\n",
      "Percent complete https://philnews.ph/ list: 71.2%\n",
      "Percent complete https://philnews.ph/ list: 71.6%\n",
      "Percent complete https://philnews.ph/ list: 71.9%\n",
      "Percent complete https://philnews.ph/ list: 72.3%\n",
      "Percent complete https://philnews.ph/ list: 72.6%\n",
      "Percent complete https://philnews.ph/ list: 73.0%\n",
      "Percent complete https://philnews.ph/ list: 73.3%\n",
      "Percent complete https://philnews.ph/ list: 73.7%\n",
      "Percent complete https://philnews.ph/ list: 74.0%\n",
      "Percent complete https://philnews.ph/ list: 74.4%\n",
      "Percent complete https://philnews.ph/ list: 74.7%\n",
      "Percent complete https://philnews.ph/ list: 75.1%\n",
      "Percent complete https://philnews.ph/ list: 75.4%\n",
      "Percent complete https://philnews.ph/ list: 75.8%\n",
      "Percent complete https://philnews.ph/ list: 76.1%\n",
      "Percent complete https://philnews.ph/ list: 76.5%\n",
      "Percent complete https://philnews.ph/ list: 76.8%\n",
      "Percent complete https://philnews.ph/ list: 77.2%\n",
      "Percent complete https://philnews.ph/ list: 77.5%\n",
      "Percent complete https://philnews.ph/ list: 77.9%\n",
      "Percent complete https://philnews.ph/ list: 78.2%\n",
      "Percent complete https://philnews.ph/ list: 78.6%\n",
      "Percent complete https://philnews.ph/ list: 78.9%\n",
      "Percent complete https://philnews.ph/ list: 79.3%\n",
      "Percent complete https://philnews.ph/ list: 79.6%\n",
      "Percent complete https://philnews.ph/ list: 80.0%\n",
      "Percent complete https://philnews.ph/ list: 80.4%\n",
      "Percent complete https://philnews.ph/ list: 80.7%\n",
      "Percent complete https://philnews.ph/ list: 81.1%\n",
      "Percent complete https://philnews.ph/ list: 81.4%\n",
      "Percent complete https://philnews.ph/ list: 81.8%\n",
      "Percent complete https://philnews.ph/ list: 82.1%\n",
      "Percent complete https://philnews.ph/ list: 82.5%\n",
      "Percent complete https://philnews.ph/ list: 82.8%\n",
      "Percent complete https://philnews.ph/ list: 83.2%\n",
      "Percent complete https://philnews.ph/ list: 83.5%\n",
      "Percent complete https://philnews.ph/ list: 83.9%\n",
      "Percent complete https://philnews.ph/ list: 84.2%\n",
      "Percent complete https://philnews.ph/ list: 84.6%\n",
      "Percent complete https://philnews.ph/ list: 84.9%\n",
      "Percent complete https://philnews.ph/ list: 85.3%\n",
      "Percent complete https://philnews.ph/ list: 85.6%\n",
      "Percent complete https://philnews.ph/ list: 86.0%\n",
      "Percent complete https://philnews.ph/ list: 86.3%\n",
      "Percent complete https://philnews.ph/ list: 86.7%\n",
      "Percent complete https://philnews.ph/ list: 87.0%\n",
      "Percent complete https://philnews.ph/ list: 87.4%\n",
      "Percent complete https://philnews.ph/ list: 87.7%\n",
      "Percent complete https://philnews.ph/ list: 88.1%\n",
      "Percent complete https://philnews.ph/ list: 88.4%\n",
      "Percent complete https://philnews.ph/ list: 88.8%\n",
      "Percent complete https://philnews.ph/ list: 89.1%\n",
      "Percent complete https://philnews.ph/ list: 89.5%\n",
      "Percent complete https://philnews.ph/ list: 89.8%\n",
      "Percent complete https://philnews.ph/ list: 90.2%\n",
      "Percent complete https://philnews.ph/ list: 90.5%\n",
      "Percent complete https://philnews.ph/ list: 90.9%\n",
      "Percent complete https://philnews.ph/ list: 91.2%\n",
      "Percent complete https://philnews.ph/ list: 91.6%\n",
      "Percent complete https://philnews.ph/ list: 91.9%\n",
      "Percent complete https://philnews.ph/ list: 92.3%\n",
      "Percent complete https://philnews.ph/ list: 92.6%\n",
      "Percent complete https://philnews.ph/ list: 93.0%\n",
      "Percent complete https://philnews.ph/ list: 93.3%\n",
      "Percent complete https://philnews.ph/ list: 93.7%\n",
      "Percent complete https://philnews.ph/ list: 94.0%\n",
      "Percent complete https://philnews.ph/ list: 94.4%\n",
      "Percent complete https://philnews.ph/ list: 94.7%\n",
      "Percent complete https://philnews.ph/ list: 95.1%\n",
      "Percent complete https://philnews.ph/ list: 95.4%\n",
      "Percent complete https://philnews.ph/ list: 95.8%\n",
      "Percent complete https://philnews.ph/ list: 96.1%\n",
      "Percent complete https://philnews.ph/ list: 96.5%\n",
      "Percent complete https://philnews.ph/ list: 96.8%\n",
      "Percent complete https://philnews.ph/ list: 97.2%\n",
      "Percent complete https://philnews.ph/ list: 97.5%\n",
      "Percent complete https://philnews.ph/ list: 97.9%\n",
      "Percent complete https://philnews.ph/ list: 98.2%\n",
      "Percent complete https://philnews.ph/ list: 98.6%\n",
      "Percent complete https://philnews.ph/ list: 98.9%\n",
      "Percent complete https://philnews.ph/ list: 99.3%\n",
      "Percent complete https://philnews.ph/ list: 99.6%\n",
      "Percent complete https://philnews.ph/ list: 100.0%\n",
      "Percent complete all sources list: 68.4%\n"
     ]
    },
    {
     "name": "stdout",
     "output_type": "stream",
     "text": [
      "Percent complete https://www.philstar.com/ list: 0.2%\n",
      "Percent complete https://www.philstar.com/ list: 0.5%\n",
      "Percent complete https://www.philstar.com/ list: 0.7%\n",
      "Percent complete https://www.philstar.com/ list: 1.0%\n",
      "Percent complete https://www.philstar.com/ list: 1.2%\n",
      "Percent complete https://www.philstar.com/ list: 1.4%\n",
      "Percent complete https://www.philstar.com/ list: 1.7%\n",
      "Percent complete https://www.philstar.com/ list: 1.9%\n",
      "Percent complete https://www.philstar.com/ list: 2.2%\n",
      "Percent complete https://www.philstar.com/ list: 2.4%\n",
      "Percent complete https://www.philstar.com/ list: 2.6%\n",
      "Percent complete https://www.philstar.com/ list: 2.9%\n",
      "Percent complete https://www.philstar.com/ list: 3.1%\n",
      "Percent complete https://www.philstar.com/ list: 3.4%\n",
      "Percent complete https://www.philstar.com/ list: 3.6%\n",
      "Percent complete https://www.philstar.com/ list: 3.8%\n",
      "Percent complete https://www.philstar.com/ list: 4.1%\n",
      "Percent complete https://www.philstar.com/ list: 4.3%\n",
      "Percent complete https://www.philstar.com/ list: 4.6%\n",
      "Percent complete https://www.philstar.com/ list: 4.8%\n",
      "Percent complete https://www.philstar.com/ list: 5.0%\n",
      "Percent complete https://www.philstar.com/ list: 5.3%\n",
      "Percent complete https://www.philstar.com/ list: 5.5%\n",
      "Percent complete https://www.philstar.com/ list: 5.8%\n",
      "Percent complete https://www.philstar.com/ list: 6.0%\n",
      "Percent complete https://www.philstar.com/ list: 6.2%\n",
      "Percent complete https://www.philstar.com/ list: 6.5%\n",
      "Percent complete https://www.philstar.com/ list: 6.7%\n",
      "Percent complete https://www.philstar.com/ list: 7.0%\n",
      "Percent complete https://www.philstar.com/ list: 7.2%\n",
      "Percent complete https://www.philstar.com/ list: 7.5%\n",
      "Percent complete https://www.philstar.com/ list: 7.7%\n",
      "Percent complete https://www.philstar.com/ list: 7.9%\n",
      "Percent complete https://www.philstar.com/ list: 8.2%\n",
      "Percent complete https://www.philstar.com/ list: 8.4%\n",
      "Percent complete https://www.philstar.com/ list: 8.7%\n",
      "Percent complete https://www.philstar.com/ list: 8.9%\n",
      "Percent complete https://www.philstar.com/ list: 9.1%\n",
      "Percent complete https://www.philstar.com/ list: 9.4%\n",
      "Percent complete https://www.philstar.com/ list: 9.6%\n",
      "Percent complete https://www.philstar.com/ list: 9.9%\n",
      "Percent complete https://www.philstar.com/ list: 10.1%\n",
      "Percent complete https://www.philstar.com/ list: 10.3%\n",
      "Percent complete https://www.philstar.com/ list: 10.6%\n",
      "Percent complete https://www.philstar.com/ list: 10.8%\n",
      "Percent complete https://www.philstar.com/ list: 11.1%\n",
      "Percent complete https://www.philstar.com/ list: 11.3%\n",
      "Percent complete https://www.philstar.com/ list: 11.5%\n",
      "Percent complete https://www.philstar.com/ list: 11.8%\n",
      "Percent complete https://www.philstar.com/ list: 12.0%\n",
      "Percent complete https://www.philstar.com/ list: 12.3%\n",
      "Percent complete https://www.philstar.com/ list: 12.5%\n",
      "Percent complete https://www.philstar.com/ list: 12.7%\n",
      "Percent complete https://www.philstar.com/ list: 13.0%\n",
      "Percent complete https://www.philstar.com/ list: 13.2%\n",
      "Percent complete https://www.philstar.com/ list: 13.5%\n",
      "Percent complete https://www.philstar.com/ list: 13.7%\n",
      "Percent complete https://www.philstar.com/ list: 13.9%\n",
      "Percent complete https://www.philstar.com/ list: 14.2%\n",
      "Percent complete https://www.philstar.com/ list: 14.4%\n",
      "Percent complete https://www.philstar.com/ list: 14.7%\n",
      "Percent complete https://www.philstar.com/ list: 14.9%\n",
      "Percent complete https://www.philstar.com/ list: 15.1%\n",
      "Percent complete https://www.philstar.com/ list: 15.4%\n",
      "Percent complete https://www.philstar.com/ list: 15.6%\n",
      "Percent complete https://www.philstar.com/ list: 15.9%\n",
      "Percent complete https://www.philstar.com/ list: 16.1%\n",
      "Percent complete https://www.philstar.com/ list: 16.3%\n",
      "Percent complete https://www.philstar.com/ list: 16.6%\n",
      "Percent complete https://www.philstar.com/ list: 16.8%\n",
      "Percent complete https://www.philstar.com/ list: 17.1%\n",
      "Percent complete https://www.philstar.com/ list: 17.3%\n",
      "Percent complete https://www.philstar.com/ list: 17.5%\n",
      "Percent complete https://www.philstar.com/ list: 17.8%\n",
      "Percent complete https://www.philstar.com/ list: 18.0%\n",
      "Percent complete https://www.philstar.com/ list: 18.3%\n",
      "Percent complete https://www.philstar.com/ list: 18.5%\n",
      "Percent complete https://www.philstar.com/ list: 18.8%\n",
      "Percent complete https://www.philstar.com/ list: 19.0%\n",
      "Percent complete https://www.philstar.com/ list: 19.2%\n",
      "Percent complete https://www.philstar.com/ list: 19.5%\n",
      "Percent complete https://www.philstar.com/ list: 19.7%\n",
      "Percent complete https://www.philstar.com/ list: 20.0%\n",
      "Percent complete https://www.philstar.com/ list: 20.2%\n",
      "Percent complete https://www.philstar.com/ list: 20.4%\n",
      "Percent complete https://www.philstar.com/ list: 20.7%\n",
      "Percent complete https://www.philstar.com/ list: 20.9%\n",
      "Percent complete https://www.philstar.com/ list: 21.2%\n",
      "Percent complete https://www.philstar.com/ list: 21.4%\n",
      "Percent complete https://www.philstar.com/ list: 21.6%\n",
      "Percent complete https://www.philstar.com/ list: 21.9%\n",
      "Percent complete https://www.philstar.com/ list: 22.1%\n",
      "Percent complete https://www.philstar.com/ list: 22.4%\n",
      "Percent complete https://www.philstar.com/ list: 22.6%\n",
      "Percent complete https://www.philstar.com/ list: 22.8%\n",
      "Percent complete https://www.philstar.com/ list: 23.1%\n",
      "Percent complete https://www.philstar.com/ list: 23.3%\n",
      "Percent complete https://www.philstar.com/ list: 23.6%\n",
      "Percent complete https://www.philstar.com/ list: 23.8%\n",
      "Percent complete https://www.philstar.com/ list: 24.0%\n",
      "Percent complete https://www.philstar.com/ list: 24.3%\n",
      "Percent complete https://www.philstar.com/ list: 24.5%\n",
      "Percent complete https://www.philstar.com/ list: 24.8%\n",
      "Percent complete https://www.philstar.com/ list: 25.0%\n",
      "Percent complete https://www.philstar.com/ list: 25.2%\n",
      "Percent complete https://www.philstar.com/ list: 25.5%\n",
      "Percent complete https://www.philstar.com/ list: 25.7%\n",
      "Percent complete https://www.philstar.com/ list: 26.0%\n",
      "Percent complete https://www.philstar.com/ list: 26.2%\n",
      "Percent complete https://www.philstar.com/ list: 26.4%\n",
      "Percent complete https://www.philstar.com/ list: 26.7%\n",
      "Percent complete https://www.philstar.com/ list: 26.9%\n",
      "Percent complete https://www.philstar.com/ list: 27.2%\n",
      "Percent complete https://www.philstar.com/ list: 27.4%\n",
      "Percent complete https://www.philstar.com/ list: 27.6%\n",
      "Percent complete https://www.philstar.com/ list: 27.9%\n",
      "Percent complete https://www.philstar.com/ list: 28.1%\n",
      "Percent complete https://www.philstar.com/ list: 28.4%\n",
      "Percent complete https://www.philstar.com/ list: 28.6%\n",
      "Percent complete https://www.philstar.com/ list: 28.8%\n",
      "Percent complete https://www.philstar.com/ list: 29.1%\n",
      "Percent complete https://www.philstar.com/ list: 29.3%\n",
      "Percent complete https://www.philstar.com/ list: 29.6%\n",
      "Percent complete https://www.philstar.com/ list: 29.8%\n",
      "Percent complete https://www.philstar.com/ list: 30.0%\n",
      "Percent complete https://www.philstar.com/ list: 30.3%\n",
      "Percent complete https://www.philstar.com/ list: 30.5%\n",
      "Percent complete https://www.philstar.com/ list: 30.8%\n",
      "Percent complete https://www.philstar.com/ list: 31.0%\n",
      "Percent complete https://www.philstar.com/ list: 31.2%\n",
      "Percent complete https://www.philstar.com/ list: 31.5%\n",
      "Percent complete https://www.philstar.com/ list: 31.7%\n",
      "Percent complete https://www.philstar.com/ list: 32.0%\n",
      "Percent complete https://www.philstar.com/ list: 32.2%\n",
      "Percent complete https://www.philstar.com/ list: 32.5%\n",
      "Percent complete https://www.philstar.com/ list: 32.7%\n",
      "Percent complete https://www.philstar.com/ list: 32.9%\n",
      "Percent complete https://www.philstar.com/ list: 33.2%\n",
      "Percent complete https://www.philstar.com/ list: 33.4%\n",
      "Percent complete https://www.philstar.com/ list: 33.7%\n",
      "Percent complete https://www.philstar.com/ list: 33.9%\n",
      "Percent complete https://www.philstar.com/ list: 34.1%\n",
      "Percent complete https://www.philstar.com/ list: 34.4%\n",
      "Percent complete https://www.philstar.com/ list: 34.6%\n",
      "Percent complete https://www.philstar.com/ list: 34.9%\n",
      "Percent complete https://www.philstar.com/ list: 35.1%\n",
      "Percent complete https://www.philstar.com/ list: 35.3%\n",
      "Percent complete https://www.philstar.com/ list: 35.6%\n",
      "Percent complete https://www.philstar.com/ list: 35.8%\n",
      "Percent complete https://www.philstar.com/ list: 36.1%\n",
      "Percent complete https://www.philstar.com/ list: 36.3%\n",
      "Percent complete https://www.philstar.com/ list: 36.5%\n",
      "Percent complete https://www.philstar.com/ list: 36.8%\n",
      "Percent complete https://www.philstar.com/ list: 37.0%\n",
      "Percent complete https://www.philstar.com/ list: 37.3%\n",
      "Percent complete https://www.philstar.com/ list: 37.5%\n",
      "Percent complete https://www.philstar.com/ list: 37.7%\n",
      "Percent complete https://www.philstar.com/ list: 38.0%\n",
      "Percent complete https://www.philstar.com/ list: 38.2%\n",
      "Percent complete https://www.philstar.com/ list: 38.5%\n",
      "Percent complete https://www.philstar.com/ list: 38.7%\n",
      "Percent complete https://www.philstar.com/ list: 38.9%\n",
      "Percent complete https://www.philstar.com/ list: 39.2%\n",
      "Percent complete https://www.philstar.com/ list: 39.4%\n",
      "Percent complete https://www.philstar.com/ list: 39.7%\n",
      "Percent complete https://www.philstar.com/ list: 39.9%\n",
      "Percent complete https://www.philstar.com/ list: 40.1%\n",
      "Percent complete https://www.philstar.com/ list: 40.4%\n",
      "Percent complete https://www.philstar.com/ list: 40.6%\n",
      "Percent complete https://www.philstar.com/ list: 40.9%\n",
      "Percent complete https://www.philstar.com/ list: 41.1%\n",
      "Percent complete https://www.philstar.com/ list: 41.3%\n",
      "Percent complete https://www.philstar.com/ list: 41.6%\n",
      "Percent complete https://www.philstar.com/ list: 41.8%\n",
      "Percent complete https://www.philstar.com/ list: 42.1%\n",
      "Percent complete https://www.philstar.com/ list: 42.3%\n",
      "Percent complete https://www.philstar.com/ list: 42.5%\n",
      "Percent complete https://www.philstar.com/ list: 42.8%\n",
      "Percent complete https://www.philstar.com/ list: 43.0%\n",
      "Percent complete https://www.philstar.com/ list: 43.3%\n",
      "Percent complete https://www.philstar.com/ list: 43.5%\n",
      "Percent complete https://www.philstar.com/ list: 43.8%\n",
      "Percent complete https://www.philstar.com/ list: 44.0%\n",
      "Percent complete https://www.philstar.com/ list: 44.2%\n",
      "Percent complete https://www.philstar.com/ list: 44.5%\n",
      "Percent complete https://www.philstar.com/ list: 44.7%\n",
      "Percent complete https://www.philstar.com/ list: 45.0%\n",
      "Percent complete https://www.philstar.com/ list: 45.2%\n",
      "Percent complete https://www.philstar.com/ list: 45.4%\n",
      "Percent complete https://www.philstar.com/ list: 45.7%\n",
      "Percent complete https://www.philstar.com/ list: 45.9%\n",
      "Percent complete https://www.philstar.com/ list: 46.2%\n",
      "Percent complete https://www.philstar.com/ list: 46.4%\n",
      "Percent complete https://www.philstar.com/ list: 46.6%\n",
      "Percent complete https://www.philstar.com/ list: 46.9%\n",
      "Percent complete https://www.philstar.com/ list: 47.1%\n",
      "Percent complete https://www.philstar.com/ list: 47.4%\n",
      "Percent complete https://www.philstar.com/ list: 47.6%\n",
      "Percent complete https://www.philstar.com/ list: 47.8%\n",
      "Percent complete https://www.philstar.com/ list: 48.1%\n",
      "Percent complete https://www.philstar.com/ list: 48.3%\n",
      "Percent complete https://www.philstar.com/ list: 48.6%\n",
      "Percent complete https://www.philstar.com/ list: 48.8%\n",
      "Percent complete https://www.philstar.com/ list: 49.0%\n",
      "Percent complete https://www.philstar.com/ list: 49.3%\n",
      "Percent complete https://www.philstar.com/ list: 49.5%\n",
      "Percent complete https://www.philstar.com/ list: 49.8%\n",
      "Percent complete https://www.philstar.com/ list: 50.0%\n",
      "Percent complete https://www.philstar.com/ list: 50.2%\n",
      "Percent complete https://www.philstar.com/ list: 50.5%\n",
      "Percent complete https://www.philstar.com/ list: 50.7%\n",
      "Percent complete https://www.philstar.com/ list: 51.0%\n",
      "Percent complete https://www.philstar.com/ list: 51.2%\n",
      "Percent complete https://www.philstar.com/ list: 51.4%\n",
      "Percent complete https://www.philstar.com/ list: 51.7%\n",
      "Percent complete https://www.philstar.com/ list: 51.9%\n",
      "Percent complete https://www.philstar.com/ list: 52.2%\n",
      "Percent complete https://www.philstar.com/ list: 52.4%\n",
      "Percent complete https://www.philstar.com/ list: 52.6%\n",
      "Percent complete https://www.philstar.com/ list: 52.9%\n",
      "Percent complete https://www.philstar.com/ list: 53.1%\n",
      "Percent complete https://www.philstar.com/ list: 53.4%\n",
      "Percent complete https://www.philstar.com/ list: 53.6%\n",
      "Percent complete https://www.philstar.com/ list: 53.8%\n",
      "Percent complete https://www.philstar.com/ list: 54.1%\n",
      "Percent complete https://www.philstar.com/ list: 54.3%\n",
      "Percent complete https://www.philstar.com/ list: 54.6%\n",
      "Percent complete https://www.philstar.com/ list: 54.8%\n",
      "Percent complete https://www.philstar.com/ list: 55.0%\n",
      "Percent complete https://www.philstar.com/ list: 55.3%\n",
      "Percent complete https://www.philstar.com/ list: 55.5%\n",
      "Percent complete https://www.philstar.com/ list: 55.8%\n",
      "Percent complete https://www.philstar.com/ list: 56.0%\n",
      "Percent complete https://www.philstar.com/ list: 56.2%\n",
      "Percent complete https://www.philstar.com/ list: 56.5%\n",
      "Percent complete https://www.philstar.com/ list: 56.7%\n",
      "Percent complete https://www.philstar.com/ list: 57.0%\n",
      "Percent complete https://www.philstar.com/ list: 57.2%\n",
      "Percent complete https://www.philstar.com/ list: 57.5%\n",
      "Percent complete https://www.philstar.com/ list: 57.7%\n",
      "Percent complete https://www.philstar.com/ list: 57.9%\n",
      "Percent complete https://www.philstar.com/ list: 58.2%\n",
      "Percent complete https://www.philstar.com/ list: 58.4%\n",
      "Percent complete https://www.philstar.com/ list: 58.7%\n",
      "Percent complete https://www.philstar.com/ list: 58.9%\n",
      "Percent complete https://www.philstar.com/ list: 59.1%\n",
      "Percent complete https://www.philstar.com/ list: 59.4%\n",
      "Percent complete https://www.philstar.com/ list: 59.6%\n",
      "Percent complete https://www.philstar.com/ list: 59.9%\n",
      "Percent complete https://www.philstar.com/ list: 60.1%\n",
      "Percent complete https://www.philstar.com/ list: 60.3%\n",
      "Percent complete https://www.philstar.com/ list: 60.6%\n",
      "Percent complete https://www.philstar.com/ list: 60.8%\n",
      "Percent complete https://www.philstar.com/ list: 61.1%\n",
      "Percent complete https://www.philstar.com/ list: 61.3%\n",
      "Percent complete https://www.philstar.com/ list: 61.5%\n",
      "Percent complete https://www.philstar.com/ list: 61.8%\n",
      "Percent complete https://www.philstar.com/ list: 62.0%\n",
      "Percent complete https://www.philstar.com/ list: 62.3%\n",
      "Percent complete https://www.philstar.com/ list: 62.5%\n",
      "Percent complete https://www.philstar.com/ list: 62.7%\n",
      "Percent complete https://www.philstar.com/ list: 63.0%\n",
      "Percent complete https://www.philstar.com/ list: 63.2%\n",
      "Percent complete https://www.philstar.com/ list: 63.5%\n",
      "Percent complete https://www.philstar.com/ list: 63.7%\n",
      "Percent complete https://www.philstar.com/ list: 63.9%\n",
      "Percent complete https://www.philstar.com/ list: 64.2%\n",
      "Percent complete https://www.philstar.com/ list: 64.4%\n",
      "Percent complete https://www.philstar.com/ list: 64.7%\n",
      "Percent complete https://www.philstar.com/ list: 64.9%\n",
      "Percent complete https://www.philstar.com/ list: 65.1%\n",
      "Percent complete https://www.philstar.com/ list: 65.4%\n",
      "Percent complete https://www.philstar.com/ list: 65.6%\n",
      "Percent complete https://www.philstar.com/ list: 65.9%\n",
      "Percent complete https://www.philstar.com/ list: 66.1%\n",
      "Percent complete https://www.philstar.com/ list: 66.3%\n",
      "Percent complete https://www.philstar.com/ list: 66.6%\n",
      "Percent complete https://www.philstar.com/ list: 66.8%\n",
      "Percent complete https://www.philstar.com/ list: 67.1%\n",
      "Percent complete https://www.philstar.com/ list: 67.3%\n",
      "Percent complete https://www.philstar.com/ list: 67.5%\n",
      "Percent complete https://www.philstar.com/ list: 67.8%\n",
      "Percent complete https://www.philstar.com/ list: 68.0%\n",
      "Percent complete https://www.philstar.com/ list: 68.3%\n",
      "Percent complete https://www.philstar.com/ list: 68.5%\n",
      "Percent complete https://www.philstar.com/ list: 68.8%\n",
      "Percent complete https://www.philstar.com/ list: 69.0%\n",
      "Percent complete https://www.philstar.com/ list: 69.2%\n",
      "Percent complete https://www.philstar.com/ list: 69.5%\n",
      "Percent complete https://www.philstar.com/ list: 69.7%\n",
      "Percent complete https://www.philstar.com/ list: 70.0%\n",
      "Percent complete https://www.philstar.com/ list: 70.2%\n",
      "Percent complete https://www.philstar.com/ list: 70.4%\n",
      "Percent complete https://www.philstar.com/ list: 70.7%\n",
      "Percent complete https://www.philstar.com/ list: 70.9%\n",
      "Percent complete https://www.philstar.com/ list: 71.2%\n",
      "Percent complete https://www.philstar.com/ list: 71.4%\n",
      "Percent complete https://www.philstar.com/ list: 71.6%\n",
      "Percent complete https://www.philstar.com/ list: 71.9%\n",
      "Percent complete https://www.philstar.com/ list: 72.1%\n",
      "Percent complete https://www.philstar.com/ list: 72.4%\n",
      "Percent complete https://www.philstar.com/ list: 72.6%\n",
      "Percent complete https://www.philstar.com/ list: 72.8%\n",
      "Percent complete https://www.philstar.com/ list: 73.1%\n",
      "Percent complete https://www.philstar.com/ list: 73.3%\n",
      "Percent complete https://www.philstar.com/ list: 73.6%\n",
      "Percent complete https://www.philstar.com/ list: 73.8%\n",
      "Percent complete https://www.philstar.com/ list: 74.0%\n",
      "Percent complete https://www.philstar.com/ list: 74.3%\n",
      "Percent complete https://www.philstar.com/ list: 74.5%\n",
      "Percent complete https://www.philstar.com/ list: 74.8%\n",
      "Percent complete https://www.philstar.com/ list: 75.0%\n",
      "Percent complete https://www.philstar.com/ list: 75.2%\n",
      "Percent complete https://www.philstar.com/ list: 75.5%\n",
      "Percent complete https://www.philstar.com/ list: 75.7%\n",
      "Percent complete https://www.philstar.com/ list: 76.0%\n",
      "Percent complete https://www.philstar.com/ list: 76.2%\n",
      "Percent complete https://www.philstar.com/ list: 76.4%\n",
      "Percent complete https://www.philstar.com/ list: 76.7%\n",
      "Percent complete https://www.philstar.com/ list: 76.9%\n",
      "Percent complete https://www.philstar.com/ list: 77.2%\n",
      "Percent complete https://www.philstar.com/ list: 77.4%\n",
      "Percent complete https://www.philstar.com/ list: 77.6%\n",
      "Percent complete https://www.philstar.com/ list: 77.9%\n",
      "Percent complete https://www.philstar.com/ list: 78.1%\n",
      "Percent complete https://www.philstar.com/ list: 78.4%\n",
      "Percent complete https://www.philstar.com/ list: 78.6%\n",
      "Percent complete https://www.philstar.com/ list: 78.8%\n",
      "Percent complete https://www.philstar.com/ list: 79.1%\n",
      "Percent complete https://www.philstar.com/ list: 79.3%\n",
      "Percent complete https://www.philstar.com/ list: 79.6%\n",
      "Percent complete https://www.philstar.com/ list: 79.8%\n",
      "Percent complete https://www.philstar.com/ list: 80.0%\n",
      "Percent complete https://www.philstar.com/ list: 80.3%\n",
      "Percent complete https://www.philstar.com/ list: 80.5%\n",
      "Percent complete https://www.philstar.com/ list: 80.8%\n",
      "Percent complete https://www.philstar.com/ list: 81.0%\n",
      "Percent complete https://www.philstar.com/ list: 81.2%\n",
      "Percent complete https://www.philstar.com/ list: 81.5%\n",
      "Percent complete https://www.philstar.com/ list: 81.7%\n",
      "Percent complete https://www.philstar.com/ list: 82.0%\n",
      "Percent complete https://www.philstar.com/ list: 82.2%\n",
      "Percent complete https://www.philstar.com/ list: 82.5%\n",
      "Percent complete https://www.philstar.com/ list: 82.7%\n",
      "Percent complete https://www.philstar.com/ list: 82.9%\n",
      "Percent complete https://www.philstar.com/ list: 83.2%\n",
      "Percent complete https://www.philstar.com/ list: 83.4%\n",
      "Percent complete https://www.philstar.com/ list: 83.7%\n",
      "Percent complete https://www.philstar.com/ list: 83.9%\n",
      "Percent complete https://www.philstar.com/ list: 84.1%\n",
      "Percent complete https://www.philstar.com/ list: 84.4%\n",
      "Percent complete https://www.philstar.com/ list: 84.6%\n",
      "Percent complete https://www.philstar.com/ list: 84.9%\n",
      "Percent complete https://www.philstar.com/ list: 85.1%\n",
      "Percent complete https://www.philstar.com/ list: 85.3%\n",
      "Percent complete https://www.philstar.com/ list: 85.6%\n",
      "Percent complete https://www.philstar.com/ list: 85.8%\n",
      "Percent complete https://www.philstar.com/ list: 86.1%\n",
      "Percent complete https://www.philstar.com/ list: 86.3%\n",
      "Percent complete https://www.philstar.com/ list: 86.5%\n",
      "Percent complete https://www.philstar.com/ list: 86.8%\n",
      "Percent complete https://www.philstar.com/ list: 87.0%\n",
      "Percent complete https://www.philstar.com/ list: 87.3%\n",
      "Percent complete https://www.philstar.com/ list: 87.5%\n",
      "Percent complete https://www.philstar.com/ list: 87.7%\n",
      "Percent complete https://www.philstar.com/ list: 88.0%\n",
      "Percent complete https://www.philstar.com/ list: 88.2%\n",
      "Percent complete https://www.philstar.com/ list: 88.5%\n",
      "Percent complete https://www.philstar.com/ list: 88.7%\n",
      "Percent complete https://www.philstar.com/ list: 88.9%\n",
      "Percent complete https://www.philstar.com/ list: 89.2%\n",
      "Percent complete https://www.philstar.com/ list: 89.4%\n",
      "Percent complete https://www.philstar.com/ list: 89.7%\n",
      "Percent complete https://www.philstar.com/ list: 89.9%\n",
      "Percent complete https://www.philstar.com/ list: 90.1%\n",
      "Percent complete https://www.philstar.com/ list: 90.4%\n",
      "Percent complete https://www.philstar.com/ list: 90.6%\n",
      "Percent complete https://www.philstar.com/ list: 90.9%\n",
      "Percent complete https://www.philstar.com/ list: 91.1%\n",
      "Percent complete https://www.philstar.com/ list: 91.3%\n",
      "Percent complete https://www.philstar.com/ list: 91.6%\n",
      "Percent complete https://www.philstar.com/ list: 91.8%\n",
      "Percent complete https://www.philstar.com/ list: 92.1%\n",
      "Percent complete https://www.philstar.com/ list: 92.3%\n",
      "Percent complete https://www.philstar.com/ list: 92.5%\n",
      "Percent complete https://www.philstar.com/ list: 92.8%\n",
      "Percent complete https://www.philstar.com/ list: 93.0%\n",
      "Percent complete https://www.philstar.com/ list: 93.3%\n",
      "Percent complete https://www.philstar.com/ list: 93.5%\n",
      "Percent complete https://www.philstar.com/ list: 93.8%\n",
      "Percent complete https://www.philstar.com/ list: 94.0%\n",
      "Percent complete https://www.philstar.com/ list: 94.2%\n",
      "Percent complete https://www.philstar.com/ list: 94.5%\n",
      "Percent complete https://www.philstar.com/ list: 94.7%\n",
      "Percent complete https://www.philstar.com/ list: 95.0%\n",
      "Percent complete https://www.philstar.com/ list: 95.2%\n",
      "Percent complete https://www.philstar.com/ list: 95.4%\n",
      "Percent complete https://www.philstar.com/ list: 95.7%\n",
      "Percent complete https://www.philstar.com/ list: 95.9%\n",
      "Percent complete https://www.philstar.com/ list: 96.2%\n",
      "Percent complete https://www.philstar.com/ list: 96.4%\n",
      "Percent complete https://www.philstar.com/ list: 96.6%\n",
      "Percent complete https://www.philstar.com/ list: 96.9%\n",
      "Percent complete https://www.philstar.com/ list: 97.1%\n",
      "Percent complete https://www.philstar.com/ list: 97.4%\n",
      "Percent complete https://www.philstar.com/ list: 97.6%\n",
      "Percent complete https://www.philstar.com/ list: 97.8%\n",
      "Percent complete https://www.philstar.com/ list: 98.1%\n",
      "Percent complete https://www.philstar.com/ list: 98.3%\n",
      "Percent complete https://www.philstar.com/ list: 98.6%\n",
      "Percent complete https://www.philstar.com/ list: 98.8%\n",
      "Percent complete https://www.philstar.com/ list: 99.0%\n",
      "Percent complete https://www.philstar.com/ list: 99.3%\n",
      "Percent complete https://www.philstar.com/ list: 99.5%\n",
      "Percent complete https://www.philstar.com/ list: 99.8%\n",
      "Percent complete https://www.philstar.com/ list: 100.0%\n",
      "Percent complete all sources list: 73.7%\n"
     ]
    },
    {
     "name": "stdout",
     "output_type": "stream",
     "text": [
      "Percent complete https://www.manilatimes.net/ list: 0.1%\n",
      "Percent complete https://www.manilatimes.net/ list: 0.2%\n",
      "Percent complete https://www.manilatimes.net/ list: 0.3%\n",
      "Percent complete https://www.manilatimes.net/ list: 0.5%\n",
      "Percent complete https://www.manilatimes.net/ list: 0.6%\n",
      "Percent complete https://www.manilatimes.net/ list: 0.7%\n",
      "Percent complete https://www.manilatimes.net/ list: 0.8%\n",
      "Percent complete https://www.manilatimes.net/ list: 0.9%\n",
      "Percent complete https://www.manilatimes.net/ list: 1.0%\n",
      "Percent complete https://www.manilatimes.net/ list: 1.1%\n",
      "Percent complete https://www.manilatimes.net/ list: 1.3%\n",
      "Percent complete https://www.manilatimes.net/ list: 1.4%\n",
      "Percent complete https://www.manilatimes.net/ list: 1.5%\n",
      "Percent complete https://www.manilatimes.net/ list: 1.6%\n",
      "Percent complete https://www.manilatimes.net/ list: 1.7%\n",
      "Percent complete https://www.manilatimes.net/ list: 1.8%\n",
      "Percent complete https://www.manilatimes.net/ list: 1.9%\n",
      "Percent complete https://www.manilatimes.net/ list: 2.1%\n",
      "Percent complete https://www.manilatimes.net/ list: 2.2%\n",
      "Percent complete https://www.manilatimes.net/ list: 2.3%\n",
      "Percent complete https://www.manilatimes.net/ list: 2.4%\n",
      "Percent complete https://www.manilatimes.net/ list: 2.5%\n",
      "Percent complete https://www.manilatimes.net/ list: 2.6%\n",
      "Percent complete https://www.manilatimes.net/ list: 2.7%\n",
      "Percent complete https://www.manilatimes.net/ list: 2.9%\n",
      "Percent complete https://www.manilatimes.net/ list: 3.0%\n",
      "Percent complete https://www.manilatimes.net/ list: 3.1%\n",
      "Percent complete https://www.manilatimes.net/ list: 3.2%\n",
      "Percent complete https://www.manilatimes.net/ list: 3.3%\n",
      "Percent complete https://www.manilatimes.net/ list: 3.4%\n",
      "Percent complete https://www.manilatimes.net/ list: 3.5%\n",
      "Percent complete https://www.manilatimes.net/ list: 3.6%\n",
      "Percent complete https://www.manilatimes.net/ list: 3.8%\n",
      "Percent complete https://www.manilatimes.net/ list: 3.9%\n",
      "Percent complete https://www.manilatimes.net/ list: 4.0%\n",
      "Percent complete https://www.manilatimes.net/ list: 4.1%\n",
      "Percent complete https://www.manilatimes.net/ list: 4.2%\n",
      "Percent complete https://www.manilatimes.net/ list: 4.3%\n",
      "Percent complete https://www.manilatimes.net/ list: 4.4%\n",
      "Percent complete https://www.manilatimes.net/ list: 4.6%\n",
      "Percent complete https://www.manilatimes.net/ list: 4.7%\n",
      "Percent complete https://www.manilatimes.net/ list: 4.8%\n",
      "Percent complete https://www.manilatimes.net/ list: 4.9%\n",
      "Percent complete https://www.manilatimes.net/ list: 5.0%\n",
      "Percent complete https://www.manilatimes.net/ list: 5.1%\n",
      "Percent complete https://www.manilatimes.net/ list: 5.2%\n",
      "Percent complete https://www.manilatimes.net/ list: 5.4%\n",
      "Percent complete https://www.manilatimes.net/ list: 5.5%\n",
      "Percent complete https://www.manilatimes.net/ list: 5.6%\n",
      "Percent complete https://www.manilatimes.net/ list: 5.7%\n",
      "Percent complete https://www.manilatimes.net/ list: 5.8%\n",
      "Percent complete https://www.manilatimes.net/ list: 5.9%\n",
      "Percent complete https://www.manilatimes.net/ list: 6.0%\n",
      "Percent complete https://www.manilatimes.net/ list: 6.2%\n",
      "Percent complete https://www.manilatimes.net/ list: 6.3%\n",
      "Percent complete https://www.manilatimes.net/ list: 6.4%\n",
      "Percent complete https://www.manilatimes.net/ list: 6.5%\n",
      "Percent complete https://www.manilatimes.net/ list: 6.6%\n",
      "Percent complete https://www.manilatimes.net/ list: 6.7%\n",
      "Percent complete https://www.manilatimes.net/ list: 6.8%\n",
      "Percent complete https://www.manilatimes.net/ list: 7.0%\n",
      "Percent complete https://www.manilatimes.net/ list: 7.1%\n",
      "Percent complete https://www.manilatimes.net/ list: 7.2%\n",
      "Percent complete https://www.manilatimes.net/ list: 7.3%\n",
      "Percent complete https://www.manilatimes.net/ list: 7.4%\n",
      "Percent complete https://www.manilatimes.net/ list: 7.5%\n",
      "Percent complete https://www.manilatimes.net/ list: 7.6%\n",
      "Percent complete https://www.manilatimes.net/ list: 7.8%\n",
      "Percent complete https://www.manilatimes.net/ list: 7.9%\n",
      "Percent complete https://www.manilatimes.net/ list: 8.0%\n",
      "Percent complete https://www.manilatimes.net/ list: 8.1%\n",
      "Percent complete https://www.manilatimes.net/ list: 8.2%\n",
      "Percent complete https://www.manilatimes.net/ list: 8.3%\n",
      "Percent complete https://www.manilatimes.net/ list: 8.4%\n",
      "Percent complete https://www.manilatimes.net/ list: 8.6%\n",
      "Percent complete https://www.manilatimes.net/ list: 8.7%\n",
      "Percent complete https://www.manilatimes.net/ list: 8.8%\n",
      "Percent complete https://www.manilatimes.net/ list: 8.9%\n",
      "Percent complete https://www.manilatimes.net/ list: 9.0%\n",
      "Percent complete https://www.manilatimes.net/ list: 9.1%\n",
      "Percent complete https://www.manilatimes.net/ list: 9.2%\n",
      "Percent complete https://www.manilatimes.net/ list: 9.4%\n",
      "Percent complete https://www.manilatimes.net/ list: 9.5%\n",
      "Percent complete https://www.manilatimes.net/ list: 9.6%\n",
      "Percent complete https://www.manilatimes.net/ list: 9.7%\n",
      "Percent complete https://www.manilatimes.net/ list: 9.8%\n",
      "Percent complete https://www.manilatimes.net/ list: 9.9%\n",
      "Percent complete https://www.manilatimes.net/ list: 10.0%\n",
      "Percent complete https://www.manilatimes.net/ list: 10.1%\n",
      "Percent complete https://www.manilatimes.net/ list: 10.3%\n",
      "Percent complete https://www.manilatimes.net/ list: 10.4%\n",
      "Percent complete https://www.manilatimes.net/ list: 10.5%\n",
      "Percent complete https://www.manilatimes.net/ list: 10.6%\n",
      "Percent complete https://www.manilatimes.net/ list: 10.7%\n",
      "Percent complete https://www.manilatimes.net/ list: 10.8%\n",
      "Percent complete https://www.manilatimes.net/ list: 10.9%\n",
      "Percent complete https://www.manilatimes.net/ list: 11.1%\n",
      "Percent complete https://www.manilatimes.net/ list: 11.2%\n",
      "Percent complete https://www.manilatimes.net/ list: 11.3%\n",
      "Percent complete https://www.manilatimes.net/ list: 11.4%\n",
      "Percent complete https://www.manilatimes.net/ list: 11.5%\n",
      "Percent complete https://www.manilatimes.net/ list: 11.6%\n",
      "Percent complete https://www.manilatimes.net/ list: 11.7%\n",
      "Percent complete https://www.manilatimes.net/ list: 11.9%\n",
      "Percent complete https://www.manilatimes.net/ list: 12.0%\n",
      "Percent complete https://www.manilatimes.net/ list: 12.1%\n",
      "Percent complete https://www.manilatimes.net/ list: 12.2%\n",
      "Percent complete https://www.manilatimes.net/ list: 12.3%\n",
      "Percent complete https://www.manilatimes.net/ list: 12.4%\n",
      "Percent complete https://www.manilatimes.net/ list: 12.5%\n",
      "Percent complete https://www.manilatimes.net/ list: 12.7%\n",
      "Percent complete https://www.manilatimes.net/ list: 12.8%\n",
      "Percent complete https://www.manilatimes.net/ list: 12.9%\n",
      "Percent complete https://www.manilatimes.net/ list: 13.0%\n",
      "Percent complete https://www.manilatimes.net/ list: 13.1%\n",
      "Percent complete https://www.manilatimes.net/ list: 13.2%\n",
      "Percent complete https://www.manilatimes.net/ list: 13.3%\n",
      "Percent complete https://www.manilatimes.net/ list: 13.5%\n",
      "Percent complete https://www.manilatimes.net/ list: 13.6%\n",
      "Percent complete https://www.manilatimes.net/ list: 13.7%\n",
      "Percent complete https://www.manilatimes.net/ list: 13.8%\n",
      "Percent complete https://www.manilatimes.net/ list: 13.9%\n",
      "Percent complete https://www.manilatimes.net/ list: 14.0%\n",
      "Percent complete https://www.manilatimes.net/ list: 14.1%\n",
      "Percent complete https://www.manilatimes.net/ list: 14.3%\n",
      "Percent complete https://www.manilatimes.net/ list: 14.4%\n",
      "Percent complete https://www.manilatimes.net/ list: 14.5%\n",
      "Percent complete https://www.manilatimes.net/ list: 14.6%\n",
      "Percent complete https://www.manilatimes.net/ list: 14.7%\n",
      "Percent complete https://www.manilatimes.net/ list: 14.8%\n",
      "Percent complete https://www.manilatimes.net/ list: 14.9%\n",
      "Percent complete https://www.manilatimes.net/ list: 15.1%\n",
      "Percent complete https://www.manilatimes.net/ list: 15.2%\n",
      "Percent complete https://www.manilatimes.net/ list: 15.3%\n",
      "Percent complete https://www.manilatimes.net/ list: 15.4%\n",
      "Percent complete https://www.manilatimes.net/ list: 15.5%\n",
      "Percent complete https://www.manilatimes.net/ list: 15.6%\n",
      "Percent complete https://www.manilatimes.net/ list: 15.7%\n",
      "Percent complete https://www.manilatimes.net/ list: 15.8%\n",
      "Percent complete https://www.manilatimes.net/ list: 16.0%\n",
      "Percent complete https://www.manilatimes.net/ list: 16.1%\n",
      "Percent complete https://www.manilatimes.net/ list: 16.2%\n",
      "Percent complete https://www.manilatimes.net/ list: 16.3%\n",
      "Percent complete https://www.manilatimes.net/ list: 16.4%\n",
      "Percent complete https://www.manilatimes.net/ list: 16.5%\n",
      "Percent complete https://www.manilatimes.net/ list: 16.6%\n",
      "Percent complete https://www.manilatimes.net/ list: 16.8%\n",
      "Percent complete https://www.manilatimes.net/ list: 16.9%\n",
      "Percent complete https://www.manilatimes.net/ list: 17.0%\n",
      "Percent complete https://www.manilatimes.net/ list: 17.1%\n",
      "Percent complete https://www.manilatimes.net/ list: 17.2%\n",
      "Percent complete https://www.manilatimes.net/ list: 17.3%\n",
      "Percent complete https://www.manilatimes.net/ list: 17.4%\n",
      "Percent complete https://www.manilatimes.net/ list: 17.6%\n",
      "Percent complete https://www.manilatimes.net/ list: 17.7%\n",
      "Percent complete https://www.manilatimes.net/ list: 17.8%\n",
      "Percent complete https://www.manilatimes.net/ list: 17.9%\n",
      "Percent complete https://www.manilatimes.net/ list: 18.0%\n",
      "Percent complete https://www.manilatimes.net/ list: 18.1%\n",
      "Percent complete https://www.manilatimes.net/ list: 18.2%\n",
      "Percent complete https://www.manilatimes.net/ list: 18.4%\n",
      "Percent complete https://www.manilatimes.net/ list: 18.5%\n",
      "Percent complete https://www.manilatimes.net/ list: 18.6%\n",
      "Percent complete https://www.manilatimes.net/ list: 18.7%\n",
      "Percent complete https://www.manilatimes.net/ list: 18.8%\n",
      "Percent complete https://www.manilatimes.net/ list: 18.9%\n",
      "Percent complete https://www.manilatimes.net/ list: 19.0%\n",
      "Percent complete https://www.manilatimes.net/ list: 19.2%\n",
      "Percent complete https://www.manilatimes.net/ list: 19.3%\n",
      "Percent complete https://www.manilatimes.net/ list: 19.4%\n",
      "Percent complete https://www.manilatimes.net/ list: 19.5%\n",
      "Percent complete https://www.manilatimes.net/ list: 19.6%\n",
      "Percent complete https://www.manilatimes.net/ list: 19.7%\n",
      "Percent complete https://www.manilatimes.net/ list: 19.8%\n",
      "Percent complete https://www.manilatimes.net/ list: 20.0%\n",
      "Percent complete https://www.manilatimes.net/ list: 20.1%\n",
      "Percent complete https://www.manilatimes.net/ list: 20.2%\n",
      "Percent complete https://www.manilatimes.net/ list: 20.3%\n",
      "Percent complete https://www.manilatimes.net/ list: 20.4%\n",
      "Percent complete https://www.manilatimes.net/ list: 20.5%\n",
      "Percent complete https://www.manilatimes.net/ list: 20.6%\n",
      "Percent complete https://www.manilatimes.net/ list: 20.8%\n",
      "Percent complete https://www.manilatimes.net/ list: 20.9%\n",
      "Percent complete https://www.manilatimes.net/ list: 21.0%\n",
      "Percent complete https://www.manilatimes.net/ list: 21.1%\n",
      "Percent complete https://www.manilatimes.net/ list: 21.2%\n",
      "Percent complete https://www.manilatimes.net/ list: 21.3%\n",
      "Percent complete https://www.manilatimes.net/ list: 21.4%\n",
      "Percent complete https://www.manilatimes.net/ list: 21.6%\n",
      "Percent complete https://www.manilatimes.net/ list: 21.7%\n",
      "Percent complete https://www.manilatimes.net/ list: 21.8%\n",
      "Percent complete https://www.manilatimes.net/ list: 21.9%\n",
      "Percent complete https://www.manilatimes.net/ list: 22.0%\n",
      "Percent complete https://www.manilatimes.net/ list: 22.1%\n",
      "Percent complete https://www.manilatimes.net/ list: 22.2%\n",
      "Percent complete https://www.manilatimes.net/ list: 22.3%\n",
      "Percent complete https://www.manilatimes.net/ list: 22.5%\n",
      "Percent complete https://www.manilatimes.net/ list: 22.6%\n",
      "Percent complete https://www.manilatimes.net/ list: 22.7%\n",
      "Percent complete https://www.manilatimes.net/ list: 22.8%\n",
      "Percent complete https://www.manilatimes.net/ list: 22.9%\n",
      "Percent complete https://www.manilatimes.net/ list: 23.0%\n",
      "Percent complete https://www.manilatimes.net/ list: 23.1%\n",
      "Percent complete https://www.manilatimes.net/ list: 23.3%\n",
      "Percent complete https://www.manilatimes.net/ list: 23.4%\n",
      "Percent complete https://www.manilatimes.net/ list: 23.5%\n",
      "Percent complete https://www.manilatimes.net/ list: 23.6%\n",
      "Percent complete https://www.manilatimes.net/ list: 23.7%\n",
      "Percent complete https://www.manilatimes.net/ list: 23.8%\n",
      "Percent complete https://www.manilatimes.net/ list: 23.9%\n",
      "Percent complete https://www.manilatimes.net/ list: 24.1%\n",
      "Percent complete https://www.manilatimes.net/ list: 24.2%\n",
      "Percent complete https://www.manilatimes.net/ list: 24.3%\n",
      "Percent complete https://www.manilatimes.net/ list: 24.4%\n",
      "Percent complete https://www.manilatimes.net/ list: 24.5%\n",
      "Percent complete https://www.manilatimes.net/ list: 24.6%\n",
      "Percent complete https://www.manilatimes.net/ list: 24.7%\n",
      "Percent complete https://www.manilatimes.net/ list: 24.9%\n",
      "Percent complete https://www.manilatimes.net/ list: 25.0%\n",
      "Percent complete https://www.manilatimes.net/ list: 25.1%\n",
      "Percent complete https://www.manilatimes.net/ list: 25.2%\n",
      "Percent complete https://www.manilatimes.net/ list: 25.3%\n",
      "Percent complete https://www.manilatimes.net/ list: 25.4%\n",
      "Percent complete https://www.manilatimes.net/ list: 25.5%\n",
      "Percent complete https://www.manilatimes.net/ list: 25.7%\n",
      "Percent complete https://www.manilatimes.net/ list: 25.8%\n",
      "Percent complete https://www.manilatimes.net/ list: 25.9%\n",
      "Percent complete https://www.manilatimes.net/ list: 26.0%\n",
      "Percent complete https://www.manilatimes.net/ list: 26.1%\n",
      "Percent complete https://www.manilatimes.net/ list: 26.2%\n",
      "Percent complete https://www.manilatimes.net/ list: 26.3%\n",
      "Percent complete https://www.manilatimes.net/ list: 26.5%\n",
      "Percent complete https://www.manilatimes.net/ list: 26.6%\n",
      "Percent complete https://www.manilatimes.net/ list: 26.7%\n",
      "Percent complete https://www.manilatimes.net/ list: 26.8%\n",
      "Percent complete https://www.manilatimes.net/ list: 26.9%\n",
      "Percent complete https://www.manilatimes.net/ list: 27.0%\n",
      "Percent complete https://www.manilatimes.net/ list: 27.1%\n",
      "Percent complete https://www.manilatimes.net/ list: 27.3%\n",
      "Percent complete https://www.manilatimes.net/ list: 27.4%\n",
      "Percent complete https://www.manilatimes.net/ list: 27.5%\n",
      "Percent complete https://www.manilatimes.net/ list: 27.6%\n",
      "Percent complete https://www.manilatimes.net/ list: 27.7%\n",
      "Percent complete https://www.manilatimes.net/ list: 27.8%\n",
      "Percent complete https://www.manilatimes.net/ list: 27.9%\n",
      "Percent complete https://www.manilatimes.net/ list: 28.1%\n",
      "Percent complete https://www.manilatimes.net/ list: 28.2%\n",
      "Percent complete https://www.manilatimes.net/ list: 28.3%\n",
      "Percent complete https://www.manilatimes.net/ list: 28.4%\n",
      "Percent complete https://www.manilatimes.net/ list: 28.5%\n",
      "Percent complete https://www.manilatimes.net/ list: 28.6%\n",
      "Percent complete https://www.manilatimes.net/ list: 28.7%\n",
      "Percent complete https://www.manilatimes.net/ list: 28.8%\n",
      "Percent complete https://www.manilatimes.net/ list: 29.0%\n",
      "Percent complete https://www.manilatimes.net/ list: 29.1%\n",
      "Percent complete https://www.manilatimes.net/ list: 29.2%\n",
      "Percent complete https://www.manilatimes.net/ list: 29.3%\n",
      "Percent complete https://www.manilatimes.net/ list: 29.4%\n",
      "Percent complete https://www.manilatimes.net/ list: 29.5%\n",
      "Percent complete https://www.manilatimes.net/ list: 29.6%\n",
      "Percent complete https://www.manilatimes.net/ list: 29.8%\n",
      "Percent complete https://www.manilatimes.net/ list: 29.9%\n",
      "Percent complete https://www.manilatimes.net/ list: 30.0%\n",
      "Percent complete https://www.manilatimes.net/ list: 30.1%\n",
      "Percent complete https://www.manilatimes.net/ list: 30.2%\n",
      "Percent complete https://www.manilatimes.net/ list: 30.3%\n",
      "Percent complete https://www.manilatimes.net/ list: 30.4%\n",
      "Percent complete https://www.manilatimes.net/ list: 30.6%\n",
      "Percent complete https://www.manilatimes.net/ list: 30.7%\n",
      "Percent complete https://www.manilatimes.net/ list: 30.8%\n",
      "Percent complete https://www.manilatimes.net/ list: 30.9%\n",
      "Percent complete https://www.manilatimes.net/ list: 31.0%\n",
      "Percent complete https://www.manilatimes.net/ list: 31.1%\n",
      "Percent complete https://www.manilatimes.net/ list: 31.2%\n",
      "Percent complete https://www.manilatimes.net/ list: 31.4%\n",
      "Percent complete https://www.manilatimes.net/ list: 31.5%\n",
      "Percent complete https://www.manilatimes.net/ list: 31.6%\n",
      "Percent complete https://www.manilatimes.net/ list: 31.7%\n",
      "Percent complete https://www.manilatimes.net/ list: 31.8%\n",
      "Percent complete https://www.manilatimes.net/ list: 31.9%\n",
      "Percent complete https://www.manilatimes.net/ list: 32.0%\n",
      "Percent complete https://www.manilatimes.net/ list: 32.2%\n",
      "Percent complete https://www.manilatimes.net/ list: 32.3%\n",
      "Percent complete https://www.manilatimes.net/ list: 32.4%\n",
      "Percent complete https://www.manilatimes.net/ list: 32.5%\n",
      "Percent complete https://www.manilatimes.net/ list: 32.6%\n",
      "Percent complete https://www.manilatimes.net/ list: 32.7%\n",
      "Percent complete https://www.manilatimes.net/ list: 32.8%\n",
      "Percent complete https://www.manilatimes.net/ list: 33.0%\n",
      "Percent complete https://www.manilatimes.net/ list: 33.1%\n",
      "Percent complete https://www.manilatimes.net/ list: 33.2%\n",
      "Percent complete https://www.manilatimes.net/ list: 33.3%\n",
      "Percent complete https://www.manilatimes.net/ list: 33.4%\n",
      "Percent complete https://www.manilatimes.net/ list: 33.5%\n",
      "Percent complete https://www.manilatimes.net/ list: 33.6%\n",
      "Percent complete https://www.manilatimes.net/ list: 33.8%\n",
      "Percent complete https://www.manilatimes.net/ list: 33.9%\n",
      "Percent complete https://www.manilatimes.net/ list: 34.0%\n",
      "Percent complete https://www.manilatimes.net/ list: 34.1%\n",
      "Percent complete https://www.manilatimes.net/ list: 34.2%\n",
      "Percent complete https://www.manilatimes.net/ list: 34.3%\n",
      "Percent complete https://www.manilatimes.net/ list: 34.4%\n",
      "Percent complete https://www.manilatimes.net/ list: 34.5%\n",
      "Percent complete https://www.manilatimes.net/ list: 34.7%\n",
      "Percent complete https://www.manilatimes.net/ list: 34.8%\n",
      "Percent complete https://www.manilatimes.net/ list: 34.9%\n",
      "Percent complete https://www.manilatimes.net/ list: 35.0%\n",
      "Percent complete https://www.manilatimes.net/ list: 35.1%\n",
      "Percent complete https://www.manilatimes.net/ list: 35.2%\n",
      "Percent complete https://www.manilatimes.net/ list: 35.3%\n",
      "Percent complete https://www.manilatimes.net/ list: 35.5%\n",
      "Percent complete https://www.manilatimes.net/ list: 35.6%\n",
      "Percent complete https://www.manilatimes.net/ list: 35.7%\n",
      "Percent complete https://www.manilatimes.net/ list: 35.8%\n",
      "Percent complete https://www.manilatimes.net/ list: 35.9%\n",
      "Percent complete https://www.manilatimes.net/ list: 36.0%\n",
      "Percent complete https://www.manilatimes.net/ list: 36.1%\n",
      "Percent complete https://www.manilatimes.net/ list: 36.3%\n",
      "Percent complete https://www.manilatimes.net/ list: 36.4%\n",
      "Percent complete https://www.manilatimes.net/ list: 36.5%\n",
      "Percent complete https://www.manilatimes.net/ list: 36.6%\n",
      "Percent complete https://www.manilatimes.net/ list: 36.7%\n",
      "Percent complete https://www.manilatimes.net/ list: 36.8%\n",
      "Percent complete https://www.manilatimes.net/ list: 36.9%\n",
      "Percent complete https://www.manilatimes.net/ list: 37.1%\n",
      "Percent complete https://www.manilatimes.net/ list: 37.2%\n",
      "Percent complete https://www.manilatimes.net/ list: 37.3%\n",
      "Percent complete https://www.manilatimes.net/ list: 37.4%\n",
      "Percent complete https://www.manilatimes.net/ list: 37.5%\n",
      "Percent complete https://www.manilatimes.net/ list: 37.6%\n",
      "Percent complete https://www.manilatimes.net/ list: 37.7%\n",
      "Percent complete https://www.manilatimes.net/ list: 37.9%\n",
      "Percent complete https://www.manilatimes.net/ list: 38.0%\n",
      "Percent complete https://www.manilatimes.net/ list: 38.1%\n",
      "Percent complete https://www.manilatimes.net/ list: 38.2%\n",
      "Percent complete https://www.manilatimes.net/ list: 38.3%\n",
      "Percent complete https://www.manilatimes.net/ list: 38.4%\n",
      "Percent complete https://www.manilatimes.net/ list: 38.5%\n",
      "Percent complete https://www.manilatimes.net/ list: 38.7%\n",
      "Percent complete https://www.manilatimes.net/ list: 38.8%\n",
      "Percent complete https://www.manilatimes.net/ list: 38.9%\n",
      "Percent complete https://www.manilatimes.net/ list: 39.0%\n",
      "Percent complete https://www.manilatimes.net/ list: 39.1%\n",
      "Percent complete https://www.manilatimes.net/ list: 39.2%\n",
      "Percent complete https://www.manilatimes.net/ list: 39.3%\n",
      "Percent complete https://www.manilatimes.net/ list: 39.5%\n",
      "Percent complete https://www.manilatimes.net/ list: 39.6%\n",
      "Percent complete https://www.manilatimes.net/ list: 39.7%\n",
      "Percent complete https://www.manilatimes.net/ list: 39.8%\n",
      "Percent complete https://www.manilatimes.net/ list: 39.9%\n",
      "Percent complete https://www.manilatimes.net/ list: 40.0%\n",
      "Percent complete https://www.manilatimes.net/ list: 40.1%\n",
      "Percent complete https://www.manilatimes.net/ list: 40.3%\n",
      "Percent complete https://www.manilatimes.net/ list: 40.4%\n",
      "Percent complete https://www.manilatimes.net/ list: 40.5%\n",
      "Percent complete https://www.manilatimes.net/ list: 40.6%\n",
      "Percent complete https://www.manilatimes.net/ list: 40.7%\n",
      "Percent complete https://www.manilatimes.net/ list: 40.8%\n",
      "Percent complete https://www.manilatimes.net/ list: 40.9%\n",
      "Percent complete https://www.manilatimes.net/ list: 41.0%\n",
      "Percent complete https://www.manilatimes.net/ list: 41.2%\n",
      "Percent complete https://www.manilatimes.net/ list: 41.3%\n",
      "Percent complete https://www.manilatimes.net/ list: 41.4%\n",
      "Percent complete https://www.manilatimes.net/ list: 41.5%\n",
      "Percent complete https://www.manilatimes.net/ list: 41.6%\n",
      "Percent complete https://www.manilatimes.net/ list: 41.7%\n",
      "Percent complete https://www.manilatimes.net/ list: 41.8%\n",
      "Percent complete https://www.manilatimes.net/ list: 42.0%\n",
      "Percent complete https://www.manilatimes.net/ list: 42.1%\n",
      "Percent complete https://www.manilatimes.net/ list: 42.2%\n",
      "Percent complete https://www.manilatimes.net/ list: 42.3%\n",
      "Percent complete https://www.manilatimes.net/ list: 42.4%\n",
      "Percent complete https://www.manilatimes.net/ list: 42.5%\n",
      "Percent complete https://www.manilatimes.net/ list: 42.6%\n",
      "Percent complete https://www.manilatimes.net/ list: 42.8%\n",
      "Percent complete https://www.manilatimes.net/ list: 42.9%\n",
      "Percent complete https://www.manilatimes.net/ list: 43.0%\n",
      "Percent complete https://www.manilatimes.net/ list: 43.1%\n",
      "Percent complete https://www.manilatimes.net/ list: 43.2%\n",
      "Percent complete https://www.manilatimes.net/ list: 43.3%\n",
      "Percent complete https://www.manilatimes.net/ list: 43.4%\n",
      "Percent complete https://www.manilatimes.net/ list: 43.6%\n",
      "Percent complete https://www.manilatimes.net/ list: 43.7%\n",
      "Percent complete https://www.manilatimes.net/ list: 43.8%\n",
      "Percent complete https://www.manilatimes.net/ list: 43.9%\n",
      "Percent complete https://www.manilatimes.net/ list: 44.0%\n",
      "Percent complete https://www.manilatimes.net/ list: 44.1%\n",
      "Percent complete https://www.manilatimes.net/ list: 44.2%\n",
      "Percent complete https://www.manilatimes.net/ list: 44.4%\n",
      "Percent complete https://www.manilatimes.net/ list: 44.5%\n",
      "Percent complete https://www.manilatimes.net/ list: 44.6%\n",
      "Percent complete https://www.manilatimes.net/ list: 44.7%\n",
      "Percent complete https://www.manilatimes.net/ list: 44.8%\n",
      "Percent complete https://www.manilatimes.net/ list: 44.9%\n",
      "Percent complete https://www.manilatimes.net/ list: 45.0%\n",
      "Percent complete https://www.manilatimes.net/ list: 45.2%\n",
      "Percent complete https://www.manilatimes.net/ list: 45.3%\n",
      "Percent complete https://www.manilatimes.net/ list: 45.4%\n",
      "Percent complete https://www.manilatimes.net/ list: 45.5%\n",
      "Percent complete https://www.manilatimes.net/ list: 45.6%\n",
      "Percent complete https://www.manilatimes.net/ list: 45.7%\n",
      "Percent complete https://www.manilatimes.net/ list: 45.8%\n",
      "Percent complete https://www.manilatimes.net/ list: 46.0%\n",
      "Percent complete https://www.manilatimes.net/ list: 46.1%\n",
      "Percent complete https://www.manilatimes.net/ list: 46.2%\n",
      "Percent complete https://www.manilatimes.net/ list: 46.3%\n",
      "Percent complete https://www.manilatimes.net/ list: 46.4%\n",
      "Percent complete https://www.manilatimes.net/ list: 46.5%\n",
      "Percent complete https://www.manilatimes.net/ list: 46.6%\n",
      "Percent complete https://www.manilatimes.net/ list: 46.8%\n",
      "Percent complete https://www.manilatimes.net/ list: 46.9%\n",
      "Percent complete https://www.manilatimes.net/ list: 47.0%\n",
      "Percent complete https://www.manilatimes.net/ list: 47.1%\n",
      "Percent complete https://www.manilatimes.net/ list: 47.2%\n",
      "Percent complete https://www.manilatimes.net/ list: 47.3%\n",
      "Percent complete https://www.manilatimes.net/ list: 47.4%\n",
      "Percent complete https://www.manilatimes.net/ list: 47.5%\n",
      "Percent complete https://www.manilatimes.net/ list: 47.7%\n",
      "Percent complete https://www.manilatimes.net/ list: 47.8%\n",
      "Percent complete https://www.manilatimes.net/ list: 47.9%\n",
      "Percent complete https://www.manilatimes.net/ list: 48.0%\n",
      "Percent complete https://www.manilatimes.net/ list: 48.1%\n",
      "Percent complete https://www.manilatimes.net/ list: 48.2%\n",
      "Percent complete https://www.manilatimes.net/ list: 48.3%\n",
      "Percent complete https://www.manilatimes.net/ list: 48.5%\n",
      "Percent complete https://www.manilatimes.net/ list: 48.6%\n",
      "Percent complete https://www.manilatimes.net/ list: 48.7%\n",
      "Percent complete https://www.manilatimes.net/ list: 48.8%\n",
      "Percent complete https://www.manilatimes.net/ list: 48.9%\n",
      "Percent complete https://www.manilatimes.net/ list: 49.0%\n",
      "Percent complete https://www.manilatimes.net/ list: 49.1%\n",
      "Percent complete https://www.manilatimes.net/ list: 49.3%\n",
      "Percent complete https://www.manilatimes.net/ list: 49.4%\n",
      "Percent complete https://www.manilatimes.net/ list: 49.5%\n",
      "Percent complete https://www.manilatimes.net/ list: 49.6%\n",
      "Percent complete https://www.manilatimes.net/ list: 49.7%\n",
      "Percent complete https://www.manilatimes.net/ list: 49.8%\n",
      "Percent complete https://www.manilatimes.net/ list: 49.9%\n",
      "Percent complete https://www.manilatimes.net/ list: 50.1%\n",
      "Percent complete https://www.manilatimes.net/ list: 50.2%\n",
      "Percent complete https://www.manilatimes.net/ list: 50.3%\n",
      "Percent complete https://www.manilatimes.net/ list: 50.4%\n",
      "Percent complete https://www.manilatimes.net/ list: 50.5%\n",
      "Percent complete https://www.manilatimes.net/ list: 50.6%\n",
      "Percent complete https://www.manilatimes.net/ list: 50.7%\n",
      "Percent complete https://www.manilatimes.net/ list: 50.9%\n",
      "Percent complete https://www.manilatimes.net/ list: 51.0%\n",
      "Percent complete https://www.manilatimes.net/ list: 51.1%\n",
      "Percent complete https://www.manilatimes.net/ list: 51.2%\n",
      "Percent complete https://www.manilatimes.net/ list: 51.3%\n",
      "Percent complete https://www.manilatimes.net/ list: 51.4%\n",
      "Percent complete https://www.manilatimes.net/ list: 51.5%\n",
      "Percent complete https://www.manilatimes.net/ list: 51.7%\n",
      "Percent complete https://www.manilatimes.net/ list: 51.8%\n",
      "Percent complete https://www.manilatimes.net/ list: 51.9%\n",
      "Percent complete https://www.manilatimes.net/ list: 52.0%\n",
      "Percent complete https://www.manilatimes.net/ list: 52.1%\n",
      "Percent complete https://www.manilatimes.net/ list: 52.2%\n",
      "Percent complete https://www.manilatimes.net/ list: 52.3%\n",
      "Percent complete https://www.manilatimes.net/ list: 52.5%\n",
      "Percent complete https://www.manilatimes.net/ list: 52.6%\n",
      "Percent complete https://www.manilatimes.net/ list: 52.7%\n",
      "Percent complete https://www.manilatimes.net/ list: 52.8%\n",
      "Percent complete https://www.manilatimes.net/ list: 52.9%\n",
      "Percent complete https://www.manilatimes.net/ list: 53.0%\n",
      "Percent complete https://www.manilatimes.net/ list: 53.1%\n",
      "Percent complete https://www.manilatimes.net/ list: 53.2%\n",
      "Percent complete https://www.manilatimes.net/ list: 53.4%\n",
      "Percent complete https://www.manilatimes.net/ list: 53.5%\n",
      "Percent complete https://www.manilatimes.net/ list: 53.6%\n",
      "Percent complete https://www.manilatimes.net/ list: 53.7%\n",
      "Percent complete https://www.manilatimes.net/ list: 53.8%\n",
      "Percent complete https://www.manilatimes.net/ list: 53.9%\n",
      "Percent complete https://www.manilatimes.net/ list: 54.0%\n",
      "Percent complete https://www.manilatimes.net/ list: 54.2%\n",
      "Percent complete https://www.manilatimes.net/ list: 54.3%\n",
      "Percent complete https://www.manilatimes.net/ list: 54.4%\n",
      "Percent complete https://www.manilatimes.net/ list: 54.5%\n",
      "Percent complete https://www.manilatimes.net/ list: 54.6%\n",
      "Percent complete https://www.manilatimes.net/ list: 54.7%\n",
      "Percent complete https://www.manilatimes.net/ list: 54.8%\n",
      "Percent complete https://www.manilatimes.net/ list: 55.0%\n",
      "Percent complete https://www.manilatimes.net/ list: 55.1%\n",
      "Percent complete https://www.manilatimes.net/ list: 55.2%\n",
      "Percent complete https://www.manilatimes.net/ list: 55.3%\n",
      "Percent complete https://www.manilatimes.net/ list: 55.4%\n",
      "Percent complete https://www.manilatimes.net/ list: 55.5%\n",
      "Percent complete https://www.manilatimes.net/ list: 55.6%\n",
      "Percent complete https://www.manilatimes.net/ list: 55.8%\n",
      "Percent complete https://www.manilatimes.net/ list: 55.9%\n",
      "Percent complete https://www.manilatimes.net/ list: 56.0%\n",
      "Percent complete https://www.manilatimes.net/ list: 56.1%\n",
      "Percent complete https://www.manilatimes.net/ list: 56.2%\n",
      "Percent complete https://www.manilatimes.net/ list: 56.3%\n",
      "Percent complete https://www.manilatimes.net/ list: 56.4%\n",
      "Percent complete https://www.manilatimes.net/ list: 56.6%\n",
      "Percent complete https://www.manilatimes.net/ list: 56.7%\n",
      "Percent complete https://www.manilatimes.net/ list: 56.8%\n",
      "Percent complete https://www.manilatimes.net/ list: 56.9%\n",
      "Percent complete https://www.manilatimes.net/ list: 57.0%\n",
      "Percent complete https://www.manilatimes.net/ list: 57.1%\n",
      "Percent complete https://www.manilatimes.net/ list: 57.2%\n",
      "Percent complete https://www.manilatimes.net/ list: 57.4%\n",
      "Percent complete https://www.manilatimes.net/ list: 57.5%\n",
      "Percent complete https://www.manilatimes.net/ list: 57.6%\n",
      "Percent complete https://www.manilatimes.net/ list: 57.7%\n",
      "Percent complete https://www.manilatimes.net/ list: 57.8%\n",
      "Percent complete https://www.manilatimes.net/ list: 57.9%\n",
      "Percent complete https://www.manilatimes.net/ list: 58.0%\n",
      "Percent complete https://www.manilatimes.net/ list: 58.2%\n",
      "Percent complete https://www.manilatimes.net/ list: 58.3%\n",
      "Percent complete https://www.manilatimes.net/ list: 58.4%\n",
      "Percent complete https://www.manilatimes.net/ list: 58.5%\n",
      "Percent complete https://www.manilatimes.net/ list: 58.6%\n",
      "Percent complete https://www.manilatimes.net/ list: 58.7%\n",
      "Percent complete https://www.manilatimes.net/ list: 58.8%\n",
      "Percent complete https://www.manilatimes.net/ list: 59.0%\n",
      "Percent complete https://www.manilatimes.net/ list: 59.1%\n",
      "Percent complete https://www.manilatimes.net/ list: 59.2%\n",
      "Percent complete https://www.manilatimes.net/ list: 59.3%\n",
      "Percent complete https://www.manilatimes.net/ list: 59.4%\n",
      "Percent complete https://www.manilatimes.net/ list: 59.5%\n",
      "Percent complete https://www.manilatimes.net/ list: 59.6%\n",
      "Percent complete https://www.manilatimes.net/ list: 59.7%\n",
      "Percent complete https://www.manilatimes.net/ list: 59.9%\n",
      "Percent complete https://www.manilatimes.net/ list: 60.0%\n",
      "Percent complete https://www.manilatimes.net/ list: 60.1%\n",
      "Percent complete https://www.manilatimes.net/ list: 60.2%\n",
      "Percent complete https://www.manilatimes.net/ list: 60.3%\n",
      "Percent complete https://www.manilatimes.net/ list: 60.4%\n",
      "Percent complete https://www.manilatimes.net/ list: 60.5%\n",
      "Percent complete https://www.manilatimes.net/ list: 60.7%\n",
      "Percent complete https://www.manilatimes.net/ list: 60.8%\n",
      "Percent complete https://www.manilatimes.net/ list: 60.9%\n",
      "Percent complete https://www.manilatimes.net/ list: 61.0%\n",
      "Percent complete https://www.manilatimes.net/ list: 61.1%\n",
      "Percent complete https://www.manilatimes.net/ list: 61.2%\n",
      "Percent complete https://www.manilatimes.net/ list: 61.3%\n",
      "Percent complete https://www.manilatimes.net/ list: 61.5%\n",
      "Percent complete https://www.manilatimes.net/ list: 61.6%\n",
      "Percent complete https://www.manilatimes.net/ list: 61.7%\n",
      "Percent complete https://www.manilatimes.net/ list: 61.8%\n",
      "Percent complete https://www.manilatimes.net/ list: 61.9%\n",
      "Percent complete https://www.manilatimes.net/ list: 62.0%\n",
      "Percent complete https://www.manilatimes.net/ list: 62.1%\n",
      "Percent complete https://www.manilatimes.net/ list: 62.3%\n",
      "Percent complete https://www.manilatimes.net/ list: 62.4%\n",
      "Percent complete https://www.manilatimes.net/ list: 62.5%\n",
      "Percent complete https://www.manilatimes.net/ list: 62.6%\n",
      "Percent complete https://www.manilatimes.net/ list: 62.7%\n",
      "Percent complete https://www.manilatimes.net/ list: 62.8%\n",
      "Percent complete https://www.manilatimes.net/ list: 62.9%\n",
      "Percent complete https://www.manilatimes.net/ list: 63.1%\n",
      "Percent complete https://www.manilatimes.net/ list: 63.2%\n",
      "Percent complete https://www.manilatimes.net/ list: 63.3%\n",
      "Percent complete https://www.manilatimes.net/ list: 63.4%\n",
      "Percent complete https://www.manilatimes.net/ list: 63.5%\n",
      "Percent complete https://www.manilatimes.net/ list: 63.6%\n",
      "Percent complete https://www.manilatimes.net/ list: 63.7%\n",
      "Percent complete https://www.manilatimes.net/ list: 63.9%\n",
      "Percent complete https://www.manilatimes.net/ list: 64.0%\n",
      "Percent complete https://www.manilatimes.net/ list: 64.1%\n",
      "Percent complete https://www.manilatimes.net/ list: 64.2%\n",
      "Percent complete https://www.manilatimes.net/ list: 64.3%\n",
      "Percent complete https://www.manilatimes.net/ list: 64.4%\n",
      "Percent complete https://www.manilatimes.net/ list: 64.5%\n",
      "Percent complete https://www.manilatimes.net/ list: 64.7%\n",
      "Percent complete https://www.manilatimes.net/ list: 64.8%\n",
      "Percent complete https://www.manilatimes.net/ list: 64.9%\n",
      "Percent complete https://www.manilatimes.net/ list: 65.0%\n",
      "Percent complete https://www.manilatimes.net/ list: 65.1%\n",
      "Percent complete https://www.manilatimes.net/ list: 65.2%\n",
      "Percent complete https://www.manilatimes.net/ list: 65.3%\n",
      "Percent complete https://www.manilatimes.net/ list: 65.5%\n",
      "Percent complete https://www.manilatimes.net/ list: 65.6%\n",
      "Percent complete https://www.manilatimes.net/ list: 65.7%\n",
      "Percent complete https://www.manilatimes.net/ list: 65.8%\n",
      "Percent complete https://www.manilatimes.net/ list: 65.9%\n",
      "Percent complete https://www.manilatimes.net/ list: 66.0%\n",
      "Percent complete https://www.manilatimes.net/ list: 66.1%\n",
      "Percent complete https://www.manilatimes.net/ list: 66.2%\n",
      "Percent complete https://www.manilatimes.net/ list: 66.4%\n",
      "Percent complete https://www.manilatimes.net/ list: 66.5%\n",
      "Percent complete https://www.manilatimes.net/ list: 66.6%\n",
      "Percent complete https://www.manilatimes.net/ list: 66.7%\n",
      "Percent complete https://www.manilatimes.net/ list: 66.8%\n",
      "Percent complete https://www.manilatimes.net/ list: 66.9%\n",
      "Percent complete https://www.manilatimes.net/ list: 67.0%\n",
      "Percent complete https://www.manilatimes.net/ list: 67.2%\n",
      "Percent complete https://www.manilatimes.net/ list: 67.3%\n",
      "Percent complete https://www.manilatimes.net/ list: 67.4%\n",
      "Percent complete https://www.manilatimes.net/ list: 67.5%\n",
      "Percent complete https://www.manilatimes.net/ list: 67.6%\n",
      "Percent complete https://www.manilatimes.net/ list: 67.7%\n",
      "Percent complete https://www.manilatimes.net/ list: 67.8%\n",
      "Percent complete https://www.manilatimes.net/ list: 68.0%\n",
      "Percent complete https://www.manilatimes.net/ list: 68.1%\n",
      "Percent complete https://www.manilatimes.net/ list: 68.2%\n",
      "Percent complete https://www.manilatimes.net/ list: 68.3%\n",
      "Percent complete https://www.manilatimes.net/ list: 68.4%\n",
      "Percent complete https://www.manilatimes.net/ list: 68.5%\n",
      "Percent complete https://www.manilatimes.net/ list: 68.6%\n",
      "Percent complete https://www.manilatimes.net/ list: 68.8%\n",
      "Percent complete https://www.manilatimes.net/ list: 68.9%\n",
      "Percent complete https://www.manilatimes.net/ list: 69.0%\n",
      "Percent complete https://www.manilatimes.net/ list: 69.1%\n",
      "Percent complete https://www.manilatimes.net/ list: 69.2%\n",
      "Percent complete https://www.manilatimes.net/ list: 69.3%\n",
      "Percent complete https://www.manilatimes.net/ list: 69.4%\n",
      "Percent complete https://www.manilatimes.net/ list: 69.6%\n",
      "Percent complete https://www.manilatimes.net/ list: 69.7%\n",
      "Percent complete https://www.manilatimes.net/ list: 69.8%\n",
      "Percent complete https://www.manilatimes.net/ list: 69.9%\n",
      "Percent complete https://www.manilatimes.net/ list: 70.0%\n",
      "Percent complete https://www.manilatimes.net/ list: 70.1%\n",
      "Percent complete https://www.manilatimes.net/ list: 70.2%\n",
      "Percent complete https://www.manilatimes.net/ list: 70.4%\n",
      "Percent complete https://www.manilatimes.net/ list: 70.5%\n",
      "Percent complete https://www.manilatimes.net/ list: 70.6%\n",
      "Percent complete https://www.manilatimes.net/ list: 70.7%\n",
      "Percent complete https://www.manilatimes.net/ list: 70.8%\n",
      "Percent complete https://www.manilatimes.net/ list: 70.9%\n",
      "Percent complete https://www.manilatimes.net/ list: 71.0%\n",
      "Percent complete https://www.manilatimes.net/ list: 71.2%\n",
      "Percent complete https://www.manilatimes.net/ list: 71.3%\n",
      "Percent complete https://www.manilatimes.net/ list: 71.4%\n",
      "Percent complete https://www.manilatimes.net/ list: 71.5%\n",
      "Percent complete https://www.manilatimes.net/ list: 71.6%\n",
      "Percent complete https://www.manilatimes.net/ list: 71.7%\n",
      "Percent complete https://www.manilatimes.net/ list: 71.8%\n",
      "Percent complete https://www.manilatimes.net/ list: 71.9%\n",
      "Percent complete https://www.manilatimes.net/ list: 72.1%\n",
      "Percent complete https://www.manilatimes.net/ list: 72.2%\n",
      "Percent complete https://www.manilatimes.net/ list: 72.3%\n",
      "Percent complete https://www.manilatimes.net/ list: 72.4%\n",
      "Percent complete https://www.manilatimes.net/ list: 72.5%\n",
      "Percent complete https://www.manilatimes.net/ list: 72.6%\n",
      "Percent complete https://www.manilatimes.net/ list: 72.7%\n",
      "Percent complete https://www.manilatimes.net/ list: 72.9%\n",
      "Percent complete https://www.manilatimes.net/ list: 73.0%\n",
      "Percent complete https://www.manilatimes.net/ list: 73.1%\n",
      "Percent complete https://www.manilatimes.net/ list: 73.2%\n",
      "Percent complete https://www.manilatimes.net/ list: 73.3%\n",
      "Percent complete https://www.manilatimes.net/ list: 73.4%\n",
      "Percent complete https://www.manilatimes.net/ list: 73.5%\n",
      "Percent complete https://www.manilatimes.net/ list: 73.7%\n",
      "Percent complete https://www.manilatimes.net/ list: 73.8%\n",
      "Percent complete https://www.manilatimes.net/ list: 73.9%\n",
      "Percent complete https://www.manilatimes.net/ list: 74.0%\n",
      "Percent complete https://www.manilatimes.net/ list: 74.1%\n",
      "Percent complete https://www.manilatimes.net/ list: 74.2%\n",
      "Percent complete https://www.manilatimes.net/ list: 74.3%\n",
      "Percent complete https://www.manilatimes.net/ list: 74.5%\n",
      "Percent complete https://www.manilatimes.net/ list: 74.6%\n",
      "Percent complete https://www.manilatimes.net/ list: 74.7%\n",
      "Percent complete https://www.manilatimes.net/ list: 74.8%\n",
      "Percent complete https://www.manilatimes.net/ list: 74.9%\n",
      "Percent complete https://www.manilatimes.net/ list: 75.0%\n",
      "Percent complete https://www.manilatimes.net/ list: 75.1%\n",
      "Percent complete https://www.manilatimes.net/ list: 75.3%\n",
      "Percent complete https://www.manilatimes.net/ list: 75.4%\n",
      "Percent complete https://www.manilatimes.net/ list: 75.5%\n",
      "Percent complete https://www.manilatimes.net/ list: 75.6%\n",
      "Percent complete https://www.manilatimes.net/ list: 75.7%\n",
      "Percent complete https://www.manilatimes.net/ list: 75.8%\n",
      "Percent complete https://www.manilatimes.net/ list: 75.9%\n",
      "Percent complete https://www.manilatimes.net/ list: 76.1%\n",
      "Percent complete https://www.manilatimes.net/ list: 76.2%\n",
      "Percent complete https://www.manilatimes.net/ list: 76.3%\n",
      "Percent complete https://www.manilatimes.net/ list: 76.4%\n",
      "Percent complete https://www.manilatimes.net/ list: 76.5%\n",
      "Percent complete https://www.manilatimes.net/ list: 76.6%\n",
      "Percent complete https://www.manilatimes.net/ list: 76.7%\n",
      "Percent complete https://www.manilatimes.net/ list: 76.9%\n",
      "Percent complete https://www.manilatimes.net/ list: 77.0%\n",
      "Percent complete https://www.manilatimes.net/ list: 77.1%\n",
      "Percent complete https://www.manilatimes.net/ list: 77.2%\n",
      "Percent complete https://www.manilatimes.net/ list: 77.3%\n",
      "Percent complete https://www.manilatimes.net/ list: 77.4%\n",
      "Percent complete https://www.manilatimes.net/ list: 77.5%\n",
      "Percent complete https://www.manilatimes.net/ list: 77.7%\n",
      "Percent complete https://www.manilatimes.net/ list: 77.8%\n",
      "Percent complete https://www.manilatimes.net/ list: 77.9%\n",
      "Percent complete https://www.manilatimes.net/ list: 78.0%\n",
      "Percent complete https://www.manilatimes.net/ list: 78.1%\n",
      "Percent complete https://www.manilatimes.net/ list: 78.2%\n",
      "Percent complete https://www.manilatimes.net/ list: 78.3%\n",
      "Percent complete https://www.manilatimes.net/ list: 78.4%\n",
      "Percent complete https://www.manilatimes.net/ list: 78.6%\n",
      "Percent complete https://www.manilatimes.net/ list: 78.7%\n",
      "Percent complete https://www.manilatimes.net/ list: 78.8%\n",
      "Percent complete https://www.manilatimes.net/ list: 78.9%\n",
      "Percent complete https://www.manilatimes.net/ list: 79.0%\n",
      "Percent complete https://www.manilatimes.net/ list: 79.1%\n",
      "Percent complete https://www.manilatimes.net/ list: 79.2%\n",
      "Percent complete https://www.manilatimes.net/ list: 79.4%\n",
      "Percent complete https://www.manilatimes.net/ list: 79.5%\n",
      "Percent complete https://www.manilatimes.net/ list: 79.6%\n",
      "Percent complete https://www.manilatimes.net/ list: 79.7%\n",
      "Percent complete https://www.manilatimes.net/ list: 79.8%\n",
      "Percent complete https://www.manilatimes.net/ list: 79.9%\n",
      "Percent complete https://www.manilatimes.net/ list: 80.0%\n",
      "Percent complete https://www.manilatimes.net/ list: 80.2%\n",
      "Percent complete https://www.manilatimes.net/ list: 80.3%\n",
      "Percent complete https://www.manilatimes.net/ list: 80.4%\n",
      "Percent complete https://www.manilatimes.net/ list: 80.5%\n",
      "Percent complete https://www.manilatimes.net/ list: 80.6%\n",
      "Percent complete https://www.manilatimes.net/ list: 80.7%\n",
      "Percent complete https://www.manilatimes.net/ list: 80.8%\n",
      "Percent complete https://www.manilatimes.net/ list: 81.0%\n",
      "Percent complete https://www.manilatimes.net/ list: 81.1%\n",
      "Percent complete https://www.manilatimes.net/ list: 81.2%\n",
      "Percent complete https://www.manilatimes.net/ list: 81.3%\n",
      "Percent complete https://www.manilatimes.net/ list: 81.4%\n",
      "Percent complete https://www.manilatimes.net/ list: 81.5%\n",
      "Percent complete https://www.manilatimes.net/ list: 81.6%\n",
      "Percent complete https://www.manilatimes.net/ list: 81.8%\n",
      "Percent complete https://www.manilatimes.net/ list: 81.9%\n",
      "Percent complete https://www.manilatimes.net/ list: 82.0%\n",
      "Percent complete https://www.manilatimes.net/ list: 82.1%\n",
      "Percent complete https://www.manilatimes.net/ list: 82.2%\n",
      "Percent complete https://www.manilatimes.net/ list: 82.3%\n",
      "Percent complete https://www.manilatimes.net/ list: 82.4%\n",
      "Percent complete https://www.manilatimes.net/ list: 82.6%\n",
      "Percent complete https://www.manilatimes.net/ list: 82.7%\n",
      "Percent complete https://www.manilatimes.net/ list: 82.8%\n",
      "Percent complete https://www.manilatimes.net/ list: 82.9%\n",
      "Percent complete https://www.manilatimes.net/ list: 83.0%\n",
      "Percent complete https://www.manilatimes.net/ list: 83.1%\n",
      "Percent complete https://www.manilatimes.net/ list: 83.2%\n",
      "Percent complete https://www.manilatimes.net/ list: 83.4%\n",
      "Percent complete https://www.manilatimes.net/ list: 83.5%\n",
      "Percent complete https://www.manilatimes.net/ list: 83.6%\n",
      "Percent complete https://www.manilatimes.net/ list: 83.7%\n",
      "Percent complete https://www.manilatimes.net/ list: 83.8%\n",
      "Percent complete https://www.manilatimes.net/ list: 83.9%\n",
      "Percent complete https://www.manilatimes.net/ list: 84.0%\n",
      "Percent complete https://www.manilatimes.net/ list: 84.2%\n",
      "Percent complete https://www.manilatimes.net/ list: 84.3%\n",
      "Percent complete https://www.manilatimes.net/ list: 84.4%\n",
      "Percent complete https://www.manilatimes.net/ list: 84.5%\n",
      "Percent complete https://www.manilatimes.net/ list: 84.6%\n",
      "Percent complete https://www.manilatimes.net/ list: 84.7%\n",
      "Percent complete https://www.manilatimes.net/ list: 84.8%\n",
      "Percent complete https://www.manilatimes.net/ list: 84.9%\n",
      "Percent complete https://www.manilatimes.net/ list: 85.1%\n",
      "Percent complete https://www.manilatimes.net/ list: 85.2%\n",
      "Percent complete https://www.manilatimes.net/ list: 85.3%\n",
      "Percent complete https://www.manilatimes.net/ list: 85.4%\n",
      "Percent complete https://www.manilatimes.net/ list: 85.5%\n",
      "Percent complete https://www.manilatimes.net/ list: 85.6%\n",
      "Percent complete https://www.manilatimes.net/ list: 85.7%\n",
      "Percent complete https://www.manilatimes.net/ list: 85.9%\n",
      "Percent complete https://www.manilatimes.net/ list: 86.0%\n",
      "Percent complete https://www.manilatimes.net/ list: 86.1%\n",
      "Percent complete https://www.manilatimes.net/ list: 86.2%\n",
      "Percent complete https://www.manilatimes.net/ list: 86.3%\n",
      "Percent complete https://www.manilatimes.net/ list: 86.4%\n",
      "Percent complete https://www.manilatimes.net/ list: 86.5%\n",
      "Percent complete https://www.manilatimes.net/ list: 86.7%\n",
      "Percent complete https://www.manilatimes.net/ list: 86.8%\n",
      "Percent complete https://www.manilatimes.net/ list: 86.9%\n",
      "Percent complete https://www.manilatimes.net/ list: 87.0%\n",
      "Percent complete https://www.manilatimes.net/ list: 87.1%\n",
      "Percent complete https://www.manilatimes.net/ list: 87.2%\n",
      "Percent complete https://www.manilatimes.net/ list: 87.3%\n",
      "Percent complete https://www.manilatimes.net/ list: 87.5%\n",
      "Percent complete https://www.manilatimes.net/ list: 87.6%\n",
      "Percent complete https://www.manilatimes.net/ list: 87.7%\n",
      "Percent complete https://www.manilatimes.net/ list: 87.8%\n",
      "Percent complete https://www.manilatimes.net/ list: 87.9%\n",
      "Percent complete https://www.manilatimes.net/ list: 88.0%\n",
      "Percent complete https://www.manilatimes.net/ list: 88.1%\n",
      "Percent complete https://www.manilatimes.net/ list: 88.3%\n",
      "Percent complete https://www.manilatimes.net/ list: 88.4%\n",
      "Percent complete https://www.manilatimes.net/ list: 88.5%\n",
      "Percent complete https://www.manilatimes.net/ list: 88.6%\n",
      "Percent complete https://www.manilatimes.net/ list: 88.7%\n",
      "Percent complete https://www.manilatimes.net/ list: 88.8%\n",
      "Percent complete https://www.manilatimes.net/ list: 88.9%\n",
      "Percent complete https://www.manilatimes.net/ list: 89.1%\n",
      "Percent complete https://www.manilatimes.net/ list: 89.2%\n",
      "Percent complete https://www.manilatimes.net/ list: 89.3%\n",
      "Percent complete https://www.manilatimes.net/ list: 89.4%\n",
      "Percent complete https://www.manilatimes.net/ list: 89.5%\n",
      "Percent complete https://www.manilatimes.net/ list: 89.6%\n",
      "Percent complete https://www.manilatimes.net/ list: 89.7%\n",
      "Percent complete https://www.manilatimes.net/ list: 89.9%\n",
      "Percent complete https://www.manilatimes.net/ list: 90.0%\n",
      "Percent complete https://www.manilatimes.net/ list: 90.1%\n",
      "Percent complete https://www.manilatimes.net/ list: 90.2%\n",
      "Percent complete https://www.manilatimes.net/ list: 90.3%\n",
      "Percent complete https://www.manilatimes.net/ list: 90.4%\n",
      "Percent complete https://www.manilatimes.net/ list: 90.5%\n",
      "Percent complete https://www.manilatimes.net/ list: 90.6%\n",
      "Percent complete https://www.manilatimes.net/ list: 90.8%\n",
      "Percent complete https://www.manilatimes.net/ list: 90.9%\n",
      "Percent complete https://www.manilatimes.net/ list: 91.0%\n",
      "Percent complete https://www.manilatimes.net/ list: 91.1%\n",
      "Percent complete https://www.manilatimes.net/ list: 91.2%\n",
      "Percent complete https://www.manilatimes.net/ list: 91.3%\n",
      "Percent complete https://www.manilatimes.net/ list: 91.4%\n",
      "Percent complete https://www.manilatimes.net/ list: 91.6%\n",
      "Percent complete https://www.manilatimes.net/ list: 91.7%\n",
      "Percent complete https://www.manilatimes.net/ list: 91.8%\n",
      "Percent complete https://www.manilatimes.net/ list: 91.9%\n",
      "Percent complete https://www.manilatimes.net/ list: 92.0%\n",
      "Percent complete https://www.manilatimes.net/ list: 92.1%\n",
      "Percent complete https://www.manilatimes.net/ list: 92.2%\n",
      "Percent complete https://www.manilatimes.net/ list: 92.4%\n",
      "Percent complete https://www.manilatimes.net/ list: 92.5%\n",
      "Percent complete https://www.manilatimes.net/ list: 92.6%\n",
      "Percent complete https://www.manilatimes.net/ list: 92.7%\n",
      "Percent complete https://www.manilatimes.net/ list: 92.8%\n",
      "Percent complete https://www.manilatimes.net/ list: 92.9%\n",
      "Percent complete https://www.manilatimes.net/ list: 93.0%\n",
      "Percent complete https://www.manilatimes.net/ list: 93.2%\n",
      "Percent complete https://www.manilatimes.net/ list: 93.3%\n",
      "Percent complete https://www.manilatimes.net/ list: 93.4%\n",
      "Percent complete https://www.manilatimes.net/ list: 93.5%\n",
      "Percent complete https://www.manilatimes.net/ list: 93.6%\n",
      "Percent complete https://www.manilatimes.net/ list: 93.7%\n",
      "Percent complete https://www.manilatimes.net/ list: 93.8%\n",
      "Percent complete https://www.manilatimes.net/ list: 94.0%\n",
      "Percent complete https://www.manilatimes.net/ list: 94.1%\n",
      "Percent complete https://www.manilatimes.net/ list: 94.2%\n",
      "Percent complete https://www.manilatimes.net/ list: 94.3%\n",
      "Percent complete https://www.manilatimes.net/ list: 94.4%\n",
      "Percent complete https://www.manilatimes.net/ list: 94.5%\n",
      "Percent complete https://www.manilatimes.net/ list: 94.6%\n",
      "Percent complete https://www.manilatimes.net/ list: 94.8%\n",
      "Percent complete https://www.manilatimes.net/ list: 94.9%\n",
      "Percent complete https://www.manilatimes.net/ list: 95.0%\n",
      "Percent complete https://www.manilatimes.net/ list: 95.1%\n",
      "Percent complete https://www.manilatimes.net/ list: 95.2%\n",
      "Percent complete https://www.manilatimes.net/ list: 95.3%\n",
      "Percent complete https://www.manilatimes.net/ list: 95.4%\n",
      "Percent complete https://www.manilatimes.net/ list: 95.6%\n",
      "Percent complete https://www.manilatimes.net/ list: 95.7%\n",
      "Percent complete https://www.manilatimes.net/ list: 95.8%\n",
      "Percent complete https://www.manilatimes.net/ list: 95.9%\n",
      "Percent complete https://www.manilatimes.net/ list: 96.0%\n",
      "Percent complete https://www.manilatimes.net/ list: 96.1%\n",
      "Percent complete https://www.manilatimes.net/ list: 96.2%\n",
      "Percent complete https://www.manilatimes.net/ list: 96.4%\n",
      "Percent complete https://www.manilatimes.net/ list: 96.5%\n",
      "Percent complete https://www.manilatimes.net/ list: 96.6%\n",
      "Percent complete https://www.manilatimes.net/ list: 96.7%\n",
      "Percent complete https://www.manilatimes.net/ list: 96.8%\n",
      "Percent complete https://www.manilatimes.net/ list: 96.9%\n",
      "Percent complete https://www.manilatimes.net/ list: 97.0%\n",
      "Percent complete https://www.manilatimes.net/ list: 97.1%\n",
      "Percent complete https://www.manilatimes.net/ list: 97.3%\n",
      "Percent complete https://www.manilatimes.net/ list: 97.4%\n",
      "Percent complete https://www.manilatimes.net/ list: 97.5%\n",
      "Percent complete https://www.manilatimes.net/ list: 97.6%\n",
      "Percent complete https://www.manilatimes.net/ list: 97.7%\n",
      "Percent complete https://www.manilatimes.net/ list: 97.8%\n",
      "Percent complete https://www.manilatimes.net/ list: 97.9%\n",
      "Percent complete https://www.manilatimes.net/ list: 98.1%\n",
      "Percent complete https://www.manilatimes.net/ list: 98.2%\n",
      "Percent complete https://www.manilatimes.net/ list: 98.3%\n",
      "Percent complete https://www.manilatimes.net/ list: 98.4%\n",
      "Percent complete https://www.manilatimes.net/ list: 98.5%\n",
      "Percent complete https://www.manilatimes.net/ list: 98.6%\n",
      "Percent complete https://www.manilatimes.net/ list: 98.7%\n",
      "Percent complete https://www.manilatimes.net/ list: 98.9%\n",
      "Percent complete https://www.manilatimes.net/ list: 99.0%\n",
      "Percent complete https://www.manilatimes.net/ list: 99.1%\n",
      "Percent complete https://www.manilatimes.net/ list: 99.2%\n",
      "Percent complete https://www.manilatimes.net/ list: 99.3%\n",
      "Percent complete https://www.manilatimes.net/ list: 99.4%\n",
      "Percent complete https://www.manilatimes.net/ list: 99.5%\n",
      "Percent complete https://www.manilatimes.net/ list: 99.7%\n",
      "Percent complete https://www.manilatimes.net/ list: 99.8%\n",
      "Percent complete https://www.manilatimes.net/ list: 99.9%\n",
      "Percent complete https://www.manilatimes.net/ list: 100.0%\n",
      "Percent complete all sources list: 78.9%\n"
     ]
    },
    {
     "name": "stdout",
     "output_type": "stream",
     "text": [
      "Percent complete https://mb.com.ph/ list: 0.2%\n",
      "Percent complete https://mb.com.ph/ list: 0.5%\n",
      "Percent complete https://mb.com.ph/ list: 0.7%\n",
      "Percent complete https://mb.com.ph/ list: 0.9%\n",
      "Percent complete https://mb.com.ph/ list: 1.2%\n",
      "Percent complete https://mb.com.ph/ list: 1.4%\n",
      "Percent complete https://mb.com.ph/ list: 1.6%\n",
      "Percent complete https://mb.com.ph/ list: 1.9%\n",
      "Percent complete https://mb.com.ph/ list: 2.1%\n",
      "Percent complete https://mb.com.ph/ list: 2.3%\n",
      "Percent complete https://mb.com.ph/ list: 2.6%\n",
      "Percent complete https://mb.com.ph/ list: 2.8%\n",
      "Percent complete https://mb.com.ph/ list: 3.0%\n",
      "Percent complete https://mb.com.ph/ list: 3.3%\n",
      "Percent complete https://mb.com.ph/ list: 3.5%\n",
      "Percent complete https://mb.com.ph/ list: 3.7%\n",
      "Percent complete https://mb.com.ph/ list: 4.0%\n",
      "Percent complete https://mb.com.ph/ list: 4.2%\n",
      "Percent complete https://mb.com.ph/ list: 4.4%\n",
      "Percent complete https://mb.com.ph/ list: 4.7%\n",
      "Percent complete https://mb.com.ph/ list: 4.9%\n",
      "Percent complete https://mb.com.ph/ list: 5.1%\n",
      "Percent complete https://mb.com.ph/ list: 5.3%\n",
      "Percent complete https://mb.com.ph/ list: 5.6%\n",
      "Percent complete https://mb.com.ph/ list: 5.8%\n",
      "Percent complete https://mb.com.ph/ list: 6.0%\n",
      "Percent complete https://mb.com.ph/ list: 6.3%\n",
      "Percent complete https://mb.com.ph/ list: 6.5%\n",
      "Percent complete https://mb.com.ph/ list: 6.7%\n",
      "Percent complete https://mb.com.ph/ list: 7.0%\n",
      "Percent complete https://mb.com.ph/ list: 7.2%\n",
      "Percent complete https://mb.com.ph/ list: 7.4%\n",
      "Percent complete https://mb.com.ph/ list: 7.7%\n",
      "Percent complete https://mb.com.ph/ list: 7.9%\n",
      "Percent complete https://mb.com.ph/ list: 8.1%\n",
      "Percent complete https://mb.com.ph/ list: 8.4%\n",
      "Percent complete https://mb.com.ph/ list: 8.6%\n",
      "Percent complete https://mb.com.ph/ list: 8.8%\n",
      "Percent complete https://mb.com.ph/ list: 9.1%\n",
      "Percent complete https://mb.com.ph/ list: 9.3%\n",
      "Percent complete https://mb.com.ph/ list: 9.5%\n",
      "Percent complete https://mb.com.ph/ list: 9.8%\n",
      "Percent complete https://mb.com.ph/ list: 10.0%\n",
      "Percent complete https://mb.com.ph/ list: 10.2%\n",
      "Percent complete https://mb.com.ph/ list: 10.5%\n",
      "Percent complete https://mb.com.ph/ list: 10.7%\n",
      "Percent complete https://mb.com.ph/ list: 10.9%\n",
      "Percent complete https://mb.com.ph/ list: 11.2%\n",
      "Percent complete https://mb.com.ph/ list: 11.4%\n",
      "Percent complete https://mb.com.ph/ list: 11.6%\n",
      "Percent complete https://mb.com.ph/ list: 11.9%\n",
      "Percent complete https://mb.com.ph/ list: 12.1%\n",
      "Percent complete https://mb.com.ph/ list: 12.3%\n",
      "Percent complete https://mb.com.ph/ list: 12.6%\n",
      "Percent complete https://mb.com.ph/ list: 12.8%\n",
      "Percent complete https://mb.com.ph/ list: 13.0%\n",
      "Percent complete https://mb.com.ph/ list: 13.3%\n",
      "Percent complete https://mb.com.ph/ list: 13.5%\n",
      "Percent complete https://mb.com.ph/ list: 13.7%\n",
      "Percent complete https://mb.com.ph/ list: 14.0%\n",
      "Percent complete https://mb.com.ph/ list: 14.2%\n",
      "Percent complete https://mb.com.ph/ list: 14.4%\n",
      "Percent complete https://mb.com.ph/ list: 14.7%\n",
      "Percent complete https://mb.com.ph/ list: 14.9%\n",
      "Percent complete https://mb.com.ph/ list: 15.1%\n",
      "Percent complete https://mb.com.ph/ list: 15.3%\n",
      "Percent complete https://mb.com.ph/ list: 15.6%\n",
      "Percent complete https://mb.com.ph/ list: 15.8%\n",
      "Percent complete https://mb.com.ph/ list: 16.0%\n",
      "Percent complete https://mb.com.ph/ list: 16.3%\n",
      "Percent complete https://mb.com.ph/ list: 16.5%\n",
      "Percent complete https://mb.com.ph/ list: 16.7%\n",
      "Percent complete https://mb.com.ph/ list: 17.0%\n",
      "Percent complete https://mb.com.ph/ list: 17.2%\n",
      "Percent complete https://mb.com.ph/ list: 17.4%\n",
      "Percent complete https://mb.com.ph/ list: 17.7%\n",
      "Percent complete https://mb.com.ph/ list: 17.9%\n",
      "Percent complete https://mb.com.ph/ list: 18.1%\n",
      "Percent complete https://mb.com.ph/ list: 18.4%\n",
      "Percent complete https://mb.com.ph/ list: 18.6%\n",
      "Percent complete https://mb.com.ph/ list: 18.8%\n",
      "Percent complete https://mb.com.ph/ list: 19.1%\n",
      "Percent complete https://mb.com.ph/ list: 19.3%\n",
      "Percent complete https://mb.com.ph/ list: 19.5%\n",
      "Percent complete https://mb.com.ph/ list: 19.8%\n",
      "Percent complete https://mb.com.ph/ list: 20.0%\n",
      "Percent complete https://mb.com.ph/ list: 20.2%\n",
      "Percent complete https://mb.com.ph/ list: 20.5%\n",
      "Percent complete https://mb.com.ph/ list: 20.7%\n",
      "Percent complete https://mb.com.ph/ list: 20.9%\n",
      "Percent complete https://mb.com.ph/ list: 21.2%\n",
      "Percent complete https://mb.com.ph/ list: 21.4%\n",
      "Percent complete https://mb.com.ph/ list: 21.6%\n",
      "Percent complete https://mb.com.ph/ list: 21.9%\n",
      "Percent complete https://mb.com.ph/ list: 22.1%\n",
      "Percent complete https://mb.com.ph/ list: 22.3%\n",
      "Percent complete https://mb.com.ph/ list: 22.6%\n",
      "Percent complete https://mb.com.ph/ list: 22.8%\n",
      "Percent complete https://mb.com.ph/ list: 23.0%\n",
      "Percent complete https://mb.com.ph/ list: 23.3%\n",
      "Percent complete https://mb.com.ph/ list: 23.5%\n",
      "Percent complete https://mb.com.ph/ list: 23.7%\n",
      "Percent complete https://mb.com.ph/ list: 24.0%\n",
      "Percent complete https://mb.com.ph/ list: 24.2%\n",
      "Percent complete https://mb.com.ph/ list: 24.4%\n",
      "Percent complete https://mb.com.ph/ list: 24.7%\n",
      "Percent complete https://mb.com.ph/ list: 24.9%\n",
      "Percent complete https://mb.com.ph/ list: 25.1%\n",
      "Percent complete https://mb.com.ph/ list: 25.3%\n",
      "Percent complete https://mb.com.ph/ list: 25.6%\n",
      "Percent complete https://mb.com.ph/ list: 25.8%\n",
      "Percent complete https://mb.com.ph/ list: 26.0%\n",
      "Percent complete https://mb.com.ph/ list: 26.3%\n",
      "Percent complete https://mb.com.ph/ list: 26.5%\n",
      "Percent complete https://mb.com.ph/ list: 26.7%\n",
      "Percent complete https://mb.com.ph/ list: 27.0%\n",
      "Percent complete https://mb.com.ph/ list: 27.2%\n",
      "Percent complete https://mb.com.ph/ list: 27.4%\n",
      "Percent complete https://mb.com.ph/ list: 27.7%\n",
      "Percent complete https://mb.com.ph/ list: 27.9%\n",
      "Percent complete https://mb.com.ph/ list: 28.1%\n",
      "Percent complete https://mb.com.ph/ list: 28.4%\n",
      "Percent complete https://mb.com.ph/ list: 28.6%\n",
      "Percent complete https://mb.com.ph/ list: 28.8%\n",
      "Percent complete https://mb.com.ph/ list: 29.1%\n",
      "Percent complete https://mb.com.ph/ list: 29.3%\n",
      "Percent complete https://mb.com.ph/ list: 29.5%\n",
      "Percent complete https://mb.com.ph/ list: 29.8%\n",
      "Percent complete https://mb.com.ph/ list: 30.0%\n",
      "Percent complete https://mb.com.ph/ list: 30.2%\n",
      "Percent complete https://mb.com.ph/ list: 30.5%\n",
      "Percent complete https://mb.com.ph/ list: 30.7%\n",
      "Percent complete https://mb.com.ph/ list: 30.9%\n",
      "Percent complete https://mb.com.ph/ list: 31.2%\n",
      "Percent complete https://mb.com.ph/ list: 31.4%\n",
      "Percent complete https://mb.com.ph/ list: 31.6%\n",
      "Percent complete https://mb.com.ph/ list: 31.9%\n",
      "Percent complete https://mb.com.ph/ list: 32.1%\n",
      "Percent complete https://mb.com.ph/ list: 32.3%\n",
      "Percent complete https://mb.com.ph/ list: 32.6%\n",
      "Percent complete https://mb.com.ph/ list: 32.8%\n",
      "Percent complete https://mb.com.ph/ list: 33.0%\n",
      "Percent complete https://mb.com.ph/ list: 33.3%\n",
      "Percent complete https://mb.com.ph/ list: 33.5%\n",
      "Percent complete https://mb.com.ph/ list: 33.7%\n",
      "Percent complete https://mb.com.ph/ list: 34.0%\n",
      "Percent complete https://mb.com.ph/ list: 34.2%\n",
      "Percent complete https://mb.com.ph/ list: 34.4%\n",
      "Percent complete https://mb.com.ph/ list: 34.7%\n",
      "Percent complete https://mb.com.ph/ list: 34.9%\n",
      "Percent complete https://mb.com.ph/ list: 35.1%\n",
      "Percent complete https://mb.com.ph/ list: 35.3%\n",
      "Percent complete https://mb.com.ph/ list: 35.6%\n",
      "Percent complete https://mb.com.ph/ list: 35.8%\n",
      "Percent complete https://mb.com.ph/ list: 36.0%\n",
      "Percent complete https://mb.com.ph/ list: 36.3%\n",
      "Percent complete https://mb.com.ph/ list: 36.5%\n",
      "Percent complete https://mb.com.ph/ list: 36.7%\n",
      "Percent complete https://mb.com.ph/ list: 37.0%\n",
      "Percent complete https://mb.com.ph/ list: 37.2%\n",
      "Percent complete https://mb.com.ph/ list: 37.4%\n",
      "Percent complete https://mb.com.ph/ list: 37.7%\n",
      "Percent complete https://mb.com.ph/ list: 37.9%\n",
      "Percent complete https://mb.com.ph/ list: 38.1%\n",
      "Percent complete https://mb.com.ph/ list: 38.4%\n",
      "Percent complete https://mb.com.ph/ list: 38.6%\n",
      "Percent complete https://mb.com.ph/ list: 38.8%\n",
      "Percent complete https://mb.com.ph/ list: 39.1%\n",
      "Percent complete https://mb.com.ph/ list: 39.3%\n",
      "Percent complete https://mb.com.ph/ list: 39.5%\n",
      "Percent complete https://mb.com.ph/ list: 39.8%\n",
      "Percent complete https://mb.com.ph/ list: 40.0%\n",
      "Percent complete https://mb.com.ph/ list: 40.2%\n",
      "Percent complete https://mb.com.ph/ list: 40.5%\n",
      "Percent complete https://mb.com.ph/ list: 40.7%\n",
      "Percent complete https://mb.com.ph/ list: 40.9%\n",
      "Percent complete https://mb.com.ph/ list: 41.2%\n",
      "Percent complete https://mb.com.ph/ list: 41.4%\n",
      "Percent complete https://mb.com.ph/ list: 41.6%\n",
      "Percent complete https://mb.com.ph/ list: 41.9%\n",
      "Percent complete https://mb.com.ph/ list: 42.1%\n",
      "Percent complete https://mb.com.ph/ list: 42.3%\n",
      "Percent complete https://mb.com.ph/ list: 42.6%\n",
      "Percent complete https://mb.com.ph/ list: 42.8%\n",
      "Percent complete https://mb.com.ph/ list: 43.0%\n",
      "Percent complete https://mb.com.ph/ list: 43.3%\n",
      "Percent complete https://mb.com.ph/ list: 43.5%\n",
      "Percent complete https://mb.com.ph/ list: 43.7%\n",
      "Percent complete https://mb.com.ph/ list: 44.0%\n",
      "Percent complete https://mb.com.ph/ list: 44.2%\n",
      "Percent complete https://mb.com.ph/ list: 44.4%\n",
      "Percent complete https://mb.com.ph/ list: 44.7%\n",
      "Percent complete https://mb.com.ph/ list: 44.9%\n",
      "Percent complete https://mb.com.ph/ list: 45.1%\n",
      "Percent complete https://mb.com.ph/ list: 45.3%\n",
      "Percent complete https://mb.com.ph/ list: 45.6%\n",
      "Percent complete https://mb.com.ph/ list: 45.8%\n",
      "Percent complete https://mb.com.ph/ list: 46.0%\n",
      "Percent complete https://mb.com.ph/ list: 46.3%\n",
      "Percent complete https://mb.com.ph/ list: 46.5%\n",
      "Percent complete https://mb.com.ph/ list: 46.7%\n",
      "Percent complete https://mb.com.ph/ list: 47.0%\n",
      "Percent complete https://mb.com.ph/ list: 47.2%\n",
      "Percent complete https://mb.com.ph/ list: 47.4%\n",
      "Percent complete https://mb.com.ph/ list: 47.7%\n",
      "Percent complete https://mb.com.ph/ list: 47.9%\n",
      "Percent complete https://mb.com.ph/ list: 48.1%\n",
      "Percent complete https://mb.com.ph/ list: 48.4%\n",
      "Percent complete https://mb.com.ph/ list: 48.6%\n",
      "Percent complete https://mb.com.ph/ list: 48.8%\n",
      "Percent complete https://mb.com.ph/ list: 49.1%\n",
      "Percent complete https://mb.com.ph/ list: 49.3%\n",
      "Percent complete https://mb.com.ph/ list: 49.5%\n",
      "Percent complete https://mb.com.ph/ list: 49.8%\n",
      "Percent complete https://mb.com.ph/ list: 50.0%\n",
      "Percent complete https://mb.com.ph/ list: 50.2%\n",
      "Percent complete https://mb.com.ph/ list: 50.5%\n",
      "Percent complete https://mb.com.ph/ list: 50.7%\n",
      "Percent complete https://mb.com.ph/ list: 50.9%\n",
      "Percent complete https://mb.com.ph/ list: 51.2%\n",
      "Percent complete https://mb.com.ph/ list: 51.4%\n",
      "Percent complete https://mb.com.ph/ list: 51.6%\n",
      "Percent complete https://mb.com.ph/ list: 51.9%\n",
      "Percent complete https://mb.com.ph/ list: 52.1%\n",
      "Percent complete https://mb.com.ph/ list: 52.3%\n",
      "Percent complete https://mb.com.ph/ list: 52.6%\n",
      "Percent complete https://mb.com.ph/ list: 52.8%\n",
      "Percent complete https://mb.com.ph/ list: 53.0%\n",
      "Percent complete https://mb.com.ph/ list: 53.3%\n",
      "Percent complete https://mb.com.ph/ list: 53.5%\n",
      "Percent complete https://mb.com.ph/ list: 53.7%\n",
      "Percent complete https://mb.com.ph/ list: 54.0%\n",
      "Percent complete https://mb.com.ph/ list: 54.2%\n",
      "Percent complete https://mb.com.ph/ list: 54.4%\n",
      "Percent complete https://mb.com.ph/ list: 54.7%\n",
      "Percent complete https://mb.com.ph/ list: 54.9%\n",
      "Percent complete https://mb.com.ph/ list: 55.1%\n",
      "Percent complete https://mb.com.ph/ list: 55.3%\n",
      "Percent complete https://mb.com.ph/ list: 55.6%\n",
      "Percent complete https://mb.com.ph/ list: 55.8%\n",
      "Percent complete https://mb.com.ph/ list: 56.0%\n",
      "Percent complete https://mb.com.ph/ list: 56.3%\n",
      "Percent complete https://mb.com.ph/ list: 56.5%\n",
      "Percent complete https://mb.com.ph/ list: 56.7%\n",
      "Percent complete https://mb.com.ph/ list: 57.0%\n",
      "Percent complete https://mb.com.ph/ list: 57.2%\n",
      "Percent complete https://mb.com.ph/ list: 57.4%\n",
      "Percent complete https://mb.com.ph/ list: 57.7%\n",
      "Percent complete https://mb.com.ph/ list: 57.9%\n",
      "Percent complete https://mb.com.ph/ list: 58.1%\n",
      "Percent complete https://mb.com.ph/ list: 58.4%\n",
      "Percent complete https://mb.com.ph/ list: 58.6%\n",
      "Percent complete https://mb.com.ph/ list: 58.8%\n",
      "Percent complete https://mb.com.ph/ list: 59.1%\n",
      "Percent complete https://mb.com.ph/ list: 59.3%\n",
      "Percent complete https://mb.com.ph/ list: 59.5%\n",
      "Percent complete https://mb.com.ph/ list: 59.8%\n",
      "Percent complete https://mb.com.ph/ list: 60.0%\n",
      "Percent complete https://mb.com.ph/ list: 60.2%\n",
      "Percent complete https://mb.com.ph/ list: 60.5%\n",
      "Percent complete https://mb.com.ph/ list: 60.7%\n",
      "Percent complete https://mb.com.ph/ list: 60.9%\n",
      "Percent complete https://mb.com.ph/ list: 61.2%\n",
      "Percent complete https://mb.com.ph/ list: 61.4%\n",
      "Percent complete https://mb.com.ph/ list: 61.6%\n",
      "Percent complete https://mb.com.ph/ list: 61.9%\n",
      "Percent complete https://mb.com.ph/ list: 62.1%\n",
      "Percent complete https://mb.com.ph/ list: 62.3%\n",
      "Percent complete https://mb.com.ph/ list: 62.6%\n",
      "Percent complete https://mb.com.ph/ list: 62.8%\n",
      "Percent complete https://mb.com.ph/ list: 63.0%\n",
      "Percent complete https://mb.com.ph/ list: 63.3%\n",
      "Percent complete https://mb.com.ph/ list: 63.5%\n",
      "Percent complete https://mb.com.ph/ list: 63.7%\n",
      "Percent complete https://mb.com.ph/ list: 64.0%\n",
      "Percent complete https://mb.com.ph/ list: 64.2%\n",
      "Percent complete https://mb.com.ph/ list: 64.4%\n",
      "Percent complete https://mb.com.ph/ list: 64.7%\n",
      "Percent complete https://mb.com.ph/ list: 64.9%\n",
      "Percent complete https://mb.com.ph/ list: 65.1%\n",
      "Percent complete https://mb.com.ph/ list: 65.3%\n",
      "Percent complete https://mb.com.ph/ list: 65.6%\n",
      "Percent complete https://mb.com.ph/ list: 65.8%\n",
      "Percent complete https://mb.com.ph/ list: 66.0%\n",
      "Percent complete https://mb.com.ph/ list: 66.3%\n",
      "Percent complete https://mb.com.ph/ list: 66.5%\n",
      "Percent complete https://mb.com.ph/ list: 66.7%\n",
      "Percent complete https://mb.com.ph/ list: 67.0%\n",
      "Percent complete https://mb.com.ph/ list: 67.2%\n",
      "Percent complete https://mb.com.ph/ list: 67.4%\n",
      "Percent complete https://mb.com.ph/ list: 67.7%\n",
      "Percent complete https://mb.com.ph/ list: 67.9%\n",
      "Percent complete https://mb.com.ph/ list: 68.1%\n",
      "Percent complete https://mb.com.ph/ list: 68.4%\n",
      "Percent complete https://mb.com.ph/ list: 68.6%\n",
      "Percent complete https://mb.com.ph/ list: 68.8%\n",
      "Percent complete https://mb.com.ph/ list: 69.1%\n",
      "Percent complete https://mb.com.ph/ list: 69.3%\n",
      "Percent complete https://mb.com.ph/ list: 69.5%\n",
      "Percent complete https://mb.com.ph/ list: 69.8%\n",
      "Percent complete https://mb.com.ph/ list: 70.0%\n",
      "Percent complete https://mb.com.ph/ list: 70.2%\n",
      "Percent complete https://mb.com.ph/ list: 70.5%\n",
      "Percent complete https://mb.com.ph/ list: 70.7%\n",
      "Percent complete https://mb.com.ph/ list: 70.9%\n",
      "Percent complete https://mb.com.ph/ list: 71.2%\n",
      "Percent complete https://mb.com.ph/ list: 71.4%\n",
      "Percent complete https://mb.com.ph/ list: 71.6%\n",
      "Percent complete https://mb.com.ph/ list: 71.9%\n",
      "Percent complete https://mb.com.ph/ list: 72.1%\n",
      "Percent complete https://mb.com.ph/ list: 72.3%\n",
      "Percent complete https://mb.com.ph/ list: 72.6%\n",
      "Percent complete https://mb.com.ph/ list: 72.8%\n",
      "Percent complete https://mb.com.ph/ list: 73.0%\n",
      "Percent complete https://mb.com.ph/ list: 73.3%\n",
      "Percent complete https://mb.com.ph/ list: 73.5%\n",
      "Percent complete https://mb.com.ph/ list: 73.7%\n",
      "Percent complete https://mb.com.ph/ list: 74.0%\n",
      "Percent complete https://mb.com.ph/ list: 74.2%\n",
      "Percent complete https://mb.com.ph/ list: 74.4%\n",
      "Percent complete https://mb.com.ph/ list: 74.7%\n",
      "Percent complete https://mb.com.ph/ list: 74.9%\n",
      "Percent complete https://mb.com.ph/ list: 75.1%\n",
      "Percent complete https://mb.com.ph/ list: 75.3%\n",
      "Percent complete https://mb.com.ph/ list: 75.6%\n",
      "Percent complete https://mb.com.ph/ list: 75.8%\n",
      "Percent complete https://mb.com.ph/ list: 76.0%\n",
      "Percent complete https://mb.com.ph/ list: 76.3%\n",
      "Percent complete https://mb.com.ph/ list: 76.5%\n",
      "Percent complete https://mb.com.ph/ list: 76.7%\n",
      "Percent complete https://mb.com.ph/ list: 77.0%\n",
      "Percent complete https://mb.com.ph/ list: 77.2%\n",
      "Percent complete https://mb.com.ph/ list: 77.4%\n",
      "Percent complete https://mb.com.ph/ list: 77.7%\n",
      "Percent complete https://mb.com.ph/ list: 77.9%\n",
      "Percent complete https://mb.com.ph/ list: 78.1%\n",
      "Percent complete https://mb.com.ph/ list: 78.4%\n",
      "Percent complete https://mb.com.ph/ list: 78.6%\n",
      "Percent complete https://mb.com.ph/ list: 78.8%\n",
      "Percent complete https://mb.com.ph/ list: 79.1%\n",
      "Percent complete https://mb.com.ph/ list: 79.3%\n",
      "Percent complete https://mb.com.ph/ list: 79.5%\n",
      "Percent complete https://mb.com.ph/ list: 79.8%\n",
      "Percent complete https://mb.com.ph/ list: 80.0%\n",
      "Percent complete https://mb.com.ph/ list: 80.2%\n",
      "Percent complete https://mb.com.ph/ list: 80.5%\n",
      "Percent complete https://mb.com.ph/ list: 80.7%\n",
      "Percent complete https://mb.com.ph/ list: 80.9%\n",
      "Percent complete https://mb.com.ph/ list: 81.2%\n",
      "Percent complete https://mb.com.ph/ list: 81.4%\n",
      "Percent complete https://mb.com.ph/ list: 81.6%\n",
      "Percent complete https://mb.com.ph/ list: 81.9%\n",
      "Percent complete https://mb.com.ph/ list: 82.1%\n",
      "Percent complete https://mb.com.ph/ list: 82.3%\n",
      "Percent complete https://mb.com.ph/ list: 82.6%\n",
      "Percent complete https://mb.com.ph/ list: 82.8%\n",
      "Percent complete https://mb.com.ph/ list: 83.0%\n",
      "Percent complete https://mb.com.ph/ list: 83.3%\n",
      "Percent complete https://mb.com.ph/ list: 83.5%\n",
      "Percent complete https://mb.com.ph/ list: 83.7%\n",
      "Percent complete https://mb.com.ph/ list: 84.0%\n",
      "Percent complete https://mb.com.ph/ list: 84.2%\n",
      "Percent complete https://mb.com.ph/ list: 84.4%\n",
      "Percent complete https://mb.com.ph/ list: 84.7%\n",
      "Percent complete https://mb.com.ph/ list: 84.9%\n",
      "Percent complete https://mb.com.ph/ list: 85.1%\n",
      "Percent complete https://mb.com.ph/ list: 85.3%\n",
      "Percent complete https://mb.com.ph/ list: 85.6%\n",
      "Percent complete https://mb.com.ph/ list: 85.8%\n",
      "Percent complete https://mb.com.ph/ list: 86.0%\n",
      "Percent complete https://mb.com.ph/ list: 86.3%\n",
      "Percent complete https://mb.com.ph/ list: 86.5%\n",
      "Percent complete https://mb.com.ph/ list: 86.7%\n",
      "Percent complete https://mb.com.ph/ list: 87.0%\n",
      "Percent complete https://mb.com.ph/ list: 87.2%\n",
      "Percent complete https://mb.com.ph/ list: 87.4%\n",
      "Percent complete https://mb.com.ph/ list: 87.7%\n",
      "Percent complete https://mb.com.ph/ list: 87.9%\n",
      "Percent complete https://mb.com.ph/ list: 88.1%\n",
      "Percent complete https://mb.com.ph/ list: 88.4%\n",
      "Percent complete https://mb.com.ph/ list: 88.6%\n",
      "Percent complete https://mb.com.ph/ list: 88.8%\n",
      "Percent complete https://mb.com.ph/ list: 89.1%\n",
      "Percent complete https://mb.com.ph/ list: 89.3%\n",
      "Percent complete https://mb.com.ph/ list: 89.5%\n",
      "Percent complete https://mb.com.ph/ list: 89.8%\n",
      "Percent complete https://mb.com.ph/ list: 90.0%\n",
      "Percent complete https://mb.com.ph/ list: 90.2%\n",
      "Percent complete https://mb.com.ph/ list: 90.5%\n",
      "Percent complete https://mb.com.ph/ list: 90.7%\n",
      "Percent complete https://mb.com.ph/ list: 90.9%\n",
      "Percent complete https://mb.com.ph/ list: 91.2%\n",
      "Percent complete https://mb.com.ph/ list: 91.4%\n",
      "Percent complete https://mb.com.ph/ list: 91.6%\n",
      "Percent complete https://mb.com.ph/ list: 91.9%\n",
      "Percent complete https://mb.com.ph/ list: 92.1%\n",
      "Percent complete https://mb.com.ph/ list: 92.3%\n",
      "Percent complete https://mb.com.ph/ list: 92.6%\n",
      "Percent complete https://mb.com.ph/ list: 92.8%\n",
      "Percent complete https://mb.com.ph/ list: 93.0%\n",
      "Percent complete https://mb.com.ph/ list: 93.3%\n",
      "Percent complete https://mb.com.ph/ list: 93.5%\n",
      "Percent complete https://mb.com.ph/ list: 93.7%\n",
      "Percent complete https://mb.com.ph/ list: 94.0%\n",
      "Percent complete https://mb.com.ph/ list: 94.2%\n",
      "Percent complete https://mb.com.ph/ list: 94.4%\n",
      "Percent complete https://mb.com.ph/ list: 94.7%\n",
      "Percent complete https://mb.com.ph/ list: 94.9%\n",
      "Percent complete https://mb.com.ph/ list: 95.1%\n",
      "Percent complete https://mb.com.ph/ list: 95.3%\n",
      "Percent complete https://mb.com.ph/ list: 95.6%\n",
      "Percent complete https://mb.com.ph/ list: 95.8%\n",
      "Percent complete https://mb.com.ph/ list: 96.0%\n",
      "Percent complete https://mb.com.ph/ list: 96.3%\n",
      "Percent complete https://mb.com.ph/ list: 96.5%\n",
      "Percent complete https://mb.com.ph/ list: 96.7%\n",
      "Percent complete https://mb.com.ph/ list: 97.0%\n",
      "Percent complete https://mb.com.ph/ list: 97.2%\n",
      "Percent complete https://mb.com.ph/ list: 97.4%\n",
      "Percent complete https://mb.com.ph/ list: 97.7%\n",
      "Percent complete https://mb.com.ph/ list: 97.9%\n",
      "Percent complete https://mb.com.ph/ list: 98.1%\n",
      "Percent complete https://mb.com.ph/ list: 98.4%\n",
      "Percent complete https://mb.com.ph/ list: 98.6%\n",
      "Percent complete https://mb.com.ph/ list: 98.8%\n",
      "Percent complete https://mb.com.ph/ list: 99.1%\n",
      "Percent complete https://mb.com.ph/ list: 99.3%\n",
      "Percent complete https://mb.com.ph/ list: 99.5%\n",
      "Percent complete https://mb.com.ph/ list: 99.8%\n",
      "Percent complete https://mb.com.ph/ list: 100.0%\n",
      "Percent complete all sources list: 84.2%\n"
     ]
    },
    {
     "name": "stdout",
     "output_type": "stream",
     "text": [
      "Percent complete https://www.rappler.com/ list: 0.2%\n",
      "Percent complete https://www.rappler.com/ list: 0.4%\n",
      "Percent complete https://www.rappler.com/ list: 0.7%\n",
      "Percent complete https://www.rappler.com/ list: 0.9%\n",
      "Percent complete https://www.rappler.com/ list: 1.1%\n",
      "Percent complete https://www.rappler.com/ list: 1.3%\n",
      "Percent complete https://www.rappler.com/ list: 1.5%\n",
      "Percent complete https://www.rappler.com/ list: 1.8%\n",
      "Percent complete https://www.rappler.com/ list: 2.0%\n",
      "Percent complete https://www.rappler.com/ list: 2.2%\n",
      "Percent complete https://www.rappler.com/ list: 2.4%\n",
      "Percent complete https://www.rappler.com/ list: 2.6%\n",
      "Percent complete https://www.rappler.com/ list: 2.9%\n",
      "Percent complete https://www.rappler.com/ list: 3.1%\n",
      "Percent complete https://www.rappler.com/ list: 3.3%\n",
      "Percent complete https://www.rappler.com/ list: 3.5%\n",
      "Percent complete https://www.rappler.com/ list: 3.7%\n",
      "Percent complete https://www.rappler.com/ list: 3.9%\n",
      "Percent complete https://www.rappler.com/ list: 4.2%\n",
      "Percent complete https://www.rappler.com/ list: 4.4%\n",
      "Percent complete https://www.rappler.com/ list: 4.6%\n",
      "Percent complete https://www.rappler.com/ list: 4.8%\n",
      "Percent complete https://www.rappler.com/ list: 5.0%\n",
      "Percent complete https://www.rappler.com/ list: 5.3%\n",
      "Percent complete https://www.rappler.com/ list: 5.5%\n",
      "Percent complete https://www.rappler.com/ list: 5.7%\n",
      "Percent complete https://www.rappler.com/ list: 5.9%\n",
      "Percent complete https://www.rappler.com/ list: 6.1%\n",
      "Percent complete https://www.rappler.com/ list: 6.4%\n",
      "Percent complete https://www.rappler.com/ list: 6.6%\n",
      "Percent complete https://www.rappler.com/ list: 6.8%\n",
      "Percent complete https://www.rappler.com/ list: 7.0%\n",
      "Percent complete https://www.rappler.com/ list: 7.2%\n",
      "Percent complete https://www.rappler.com/ list: 7.5%\n",
      "Percent complete https://www.rappler.com/ list: 7.7%\n",
      "Percent complete https://www.rappler.com/ list: 7.9%\n",
      "Percent complete https://www.rappler.com/ list: 8.1%\n",
      "Percent complete https://www.rappler.com/ list: 8.3%\n",
      "Percent complete https://www.rappler.com/ list: 8.6%\n",
      "Percent complete https://www.rappler.com/ list: 8.8%\n",
      "Percent complete https://www.rappler.com/ list: 9.0%\n",
      "Percent complete https://www.rappler.com/ list: 9.2%\n",
      "Percent complete https://www.rappler.com/ list: 9.4%\n",
      "Percent complete https://www.rappler.com/ list: 9.6%\n",
      "Percent complete https://www.rappler.com/ list: 9.9%\n",
      "Percent complete https://www.rappler.com/ list: 10.1%\n",
      "Percent complete https://www.rappler.com/ list: 10.3%\n",
      "Percent complete https://www.rappler.com/ list: 10.5%\n",
      "Percent complete https://www.rappler.com/ list: 10.7%\n",
      "Percent complete https://www.rappler.com/ list: 11.0%\n",
      "Percent complete https://www.rappler.com/ list: 11.2%\n",
      "Percent complete https://www.rappler.com/ list: 11.4%\n",
      "Percent complete https://www.rappler.com/ list: 11.6%\n",
      "Percent complete https://www.rappler.com/ list: 11.8%\n",
      "Percent complete https://www.rappler.com/ list: 12.1%\n",
      "Percent complete https://www.rappler.com/ list: 12.3%\n",
      "Percent complete https://www.rappler.com/ list: 12.5%\n",
      "Percent complete https://www.rappler.com/ list: 12.7%\n",
      "Percent complete https://www.rappler.com/ list: 12.9%\n",
      "Percent complete https://www.rappler.com/ list: 13.2%\n",
      "Percent complete https://www.rappler.com/ list: 13.4%\n",
      "Percent complete https://www.rappler.com/ list: 13.6%\n",
      "Percent complete https://www.rappler.com/ list: 13.8%\n",
      "Percent complete https://www.rappler.com/ list: 14.0%\n",
      "Percent complete https://www.rappler.com/ list: 14.3%\n",
      "Percent complete https://www.rappler.com/ list: 14.5%\n",
      "Percent complete https://www.rappler.com/ list: 14.7%\n",
      "Percent complete https://www.rappler.com/ list: 14.9%\n",
      "Percent complete https://www.rappler.com/ list: 15.1%\n",
      "Percent complete https://www.rappler.com/ list: 15.4%\n",
      "Percent complete https://www.rappler.com/ list: 15.6%\n",
      "Percent complete https://www.rappler.com/ list: 15.8%\n",
      "Percent complete https://www.rappler.com/ list: 16.0%\n",
      "Percent complete https://www.rappler.com/ list: 16.2%\n",
      "Percent complete https://www.rappler.com/ list: 16.4%\n",
      "Percent complete https://www.rappler.com/ list: 16.7%\n",
      "Percent complete https://www.rappler.com/ list: 16.9%\n",
      "Percent complete https://www.rappler.com/ list: 17.1%\n",
      "Percent complete https://www.rappler.com/ list: 17.3%\n",
      "Percent complete https://www.rappler.com/ list: 17.5%\n",
      "Percent complete https://www.rappler.com/ list: 17.8%\n",
      "Percent complete https://www.rappler.com/ list: 18.0%\n",
      "Percent complete https://www.rappler.com/ list: 18.2%\n",
      "Percent complete https://www.rappler.com/ list: 18.4%\n",
      "Percent complete https://www.rappler.com/ list: 18.6%\n",
      "Percent complete https://www.rappler.com/ list: 18.9%\n",
      "Percent complete https://www.rappler.com/ list: 19.1%\n",
      "Percent complete https://www.rappler.com/ list: 19.3%\n",
      "Percent complete https://www.rappler.com/ list: 19.5%\n",
      "Percent complete https://www.rappler.com/ list: 19.7%\n",
      "Percent complete https://www.rappler.com/ list: 20.0%\n",
      "Percent complete https://www.rappler.com/ list: 20.2%\n",
      "Percent complete https://www.rappler.com/ list: 20.4%\n",
      "Percent complete https://www.rappler.com/ list: 20.6%\n",
      "Percent complete https://www.rappler.com/ list: 20.8%\n",
      "Percent complete https://www.rappler.com/ list: 21.1%\n",
      "Percent complete https://www.rappler.com/ list: 21.3%\n",
      "Percent complete https://www.rappler.com/ list: 21.5%\n",
      "Percent complete https://www.rappler.com/ list: 21.7%\n",
      "Percent complete https://www.rappler.com/ list: 21.9%\n",
      "Percent complete https://www.rappler.com/ list: 22.1%\n",
      "Percent complete https://www.rappler.com/ list: 22.4%\n",
      "Percent complete https://www.rappler.com/ list: 22.6%\n",
      "Percent complete https://www.rappler.com/ list: 22.8%\n",
      "Percent complete https://www.rappler.com/ list: 23.0%\n",
      "Percent complete https://www.rappler.com/ list: 23.2%\n",
      "Percent complete https://www.rappler.com/ list: 23.5%\n",
      "Percent complete https://www.rappler.com/ list: 23.7%\n",
      "Percent complete https://www.rappler.com/ list: 23.9%\n",
      "Percent complete https://www.rappler.com/ list: 24.1%\n",
      "Percent complete https://www.rappler.com/ list: 24.3%\n",
      "Percent complete https://www.rappler.com/ list: 24.6%\n",
      "Percent complete https://www.rappler.com/ list: 24.8%\n",
      "Percent complete https://www.rappler.com/ list: 25.0%\n",
      "Percent complete https://www.rappler.com/ list: 25.2%\n",
      "Percent complete https://www.rappler.com/ list: 25.4%\n",
      "Percent complete https://www.rappler.com/ list: 25.7%\n",
      "Percent complete https://www.rappler.com/ list: 25.9%\n",
      "Percent complete https://www.rappler.com/ list: 26.1%\n",
      "Percent complete https://www.rappler.com/ list: 26.3%\n",
      "Percent complete https://www.rappler.com/ list: 26.5%\n",
      "Percent complete https://www.rappler.com/ list: 26.8%\n",
      "Percent complete https://www.rappler.com/ list: 27.0%\n",
      "Percent complete https://www.rappler.com/ list: 27.2%\n",
      "Percent complete https://www.rappler.com/ list: 27.4%\n",
      "Percent complete https://www.rappler.com/ list: 27.6%\n",
      "Percent complete https://www.rappler.com/ list: 27.9%\n",
      "Percent complete https://www.rappler.com/ list: 28.1%\n",
      "Percent complete https://www.rappler.com/ list: 28.3%\n",
      "Percent complete https://www.rappler.com/ list: 28.5%\n",
      "Percent complete https://www.rappler.com/ list: 28.7%\n",
      "Percent complete https://www.rappler.com/ list: 28.9%\n",
      "Percent complete https://www.rappler.com/ list: 29.2%\n",
      "Percent complete https://www.rappler.com/ list: 29.4%\n",
      "Percent complete https://www.rappler.com/ list: 29.6%\n",
      "Percent complete https://www.rappler.com/ list: 29.8%\n",
      "Percent complete https://www.rappler.com/ list: 30.0%\n",
      "Percent complete https://www.rappler.com/ list: 30.3%\n",
      "Percent complete https://www.rappler.com/ list: 30.5%\n",
      "Percent complete https://www.rappler.com/ list: 30.7%\n",
      "Percent complete https://www.rappler.com/ list: 30.9%\n",
      "Percent complete https://www.rappler.com/ list: 31.1%\n",
      "Percent complete https://www.rappler.com/ list: 31.4%\n",
      "Percent complete https://www.rappler.com/ list: 31.6%\n",
      "Percent complete https://www.rappler.com/ list: 31.8%\n",
      "Percent complete https://www.rappler.com/ list: 32.0%\n",
      "Percent complete https://www.rappler.com/ list: 32.2%\n",
      "Percent complete https://www.rappler.com/ list: 32.5%\n",
      "Percent complete https://www.rappler.com/ list: 32.7%\n",
      "Percent complete https://www.rappler.com/ list: 32.9%\n",
      "Percent complete https://www.rappler.com/ list: 33.1%\n",
      "Percent complete https://www.rappler.com/ list: 33.3%\n",
      "Percent complete https://www.rappler.com/ list: 33.6%\n",
      "Percent complete https://www.rappler.com/ list: 33.8%\n",
      "Percent complete https://www.rappler.com/ list: 34.0%\n",
      "Percent complete https://www.rappler.com/ list: 34.2%\n",
      "Percent complete https://www.rappler.com/ list: 34.4%\n",
      "Percent complete https://www.rappler.com/ list: 34.6%\n",
      "Percent complete https://www.rappler.com/ list: 34.9%\n",
      "Percent complete https://www.rappler.com/ list: 35.1%\n",
      "Percent complete https://www.rappler.com/ list: 35.3%\n",
      "Percent complete https://www.rappler.com/ list: 35.5%\n",
      "Percent complete https://www.rappler.com/ list: 35.7%\n",
      "Percent complete https://www.rappler.com/ list: 36.0%\n",
      "Percent complete https://www.rappler.com/ list: 36.2%\n",
      "Percent complete https://www.rappler.com/ list: 36.4%\n",
      "Percent complete https://www.rappler.com/ list: 36.6%\n",
      "Percent complete https://www.rappler.com/ list: 36.8%\n",
      "Percent complete https://www.rappler.com/ list: 37.1%\n",
      "Percent complete https://www.rappler.com/ list: 37.3%\n",
      "Percent complete https://www.rappler.com/ list: 37.5%\n",
      "Percent complete https://www.rappler.com/ list: 37.7%\n",
      "Percent complete https://www.rappler.com/ list: 37.9%\n",
      "Percent complete https://www.rappler.com/ list: 38.2%\n",
      "Percent complete https://www.rappler.com/ list: 38.4%\n",
      "Percent complete https://www.rappler.com/ list: 38.6%\n",
      "Percent complete https://www.rappler.com/ list: 38.8%\n",
      "Percent complete https://www.rappler.com/ list: 39.0%\n",
      "Percent complete https://www.rappler.com/ list: 39.3%\n",
      "Percent complete https://www.rappler.com/ list: 39.5%\n",
      "Percent complete https://www.rappler.com/ list: 39.7%\n",
      "Percent complete https://www.rappler.com/ list: 39.9%\n",
      "Percent complete https://www.rappler.com/ list: 40.1%\n",
      "Percent complete https://www.rappler.com/ list: 40.4%\n",
      "Percent complete https://www.rappler.com/ list: 40.6%\n",
      "Percent complete https://www.rappler.com/ list: 40.8%\n",
      "Percent complete https://www.rappler.com/ list: 41.0%\n",
      "Percent complete https://www.rappler.com/ list: 41.2%\n",
      "Percent complete https://www.rappler.com/ list: 41.4%\n",
      "Percent complete https://www.rappler.com/ list: 41.7%\n",
      "Percent complete https://www.rappler.com/ list: 41.9%\n",
      "Percent complete https://www.rappler.com/ list: 42.1%\n",
      "Percent complete https://www.rappler.com/ list: 42.3%\n",
      "Percent complete https://www.rappler.com/ list: 42.5%\n",
      "Percent complete https://www.rappler.com/ list: 42.8%\n",
      "Percent complete https://www.rappler.com/ list: 43.0%\n",
      "Percent complete https://www.rappler.com/ list: 43.2%\n",
      "Percent complete https://www.rappler.com/ list: 43.4%\n",
      "Percent complete https://www.rappler.com/ list: 43.6%\n",
      "Percent complete https://www.rappler.com/ list: 43.9%\n",
      "Percent complete https://www.rappler.com/ list: 44.1%\n",
      "Percent complete https://www.rappler.com/ list: 44.3%\n",
      "Percent complete https://www.rappler.com/ list: 44.5%\n",
      "Percent complete https://www.rappler.com/ list: 44.7%\n",
      "Percent complete https://www.rappler.com/ list: 45.0%\n",
      "Percent complete https://www.rappler.com/ list: 45.2%\n",
      "Percent complete https://www.rappler.com/ list: 45.4%\n",
      "Percent complete https://www.rappler.com/ list: 45.6%\n",
      "Percent complete https://www.rappler.com/ list: 45.8%\n",
      "Percent complete https://www.rappler.com/ list: 46.1%\n",
      "Percent complete https://www.rappler.com/ list: 46.3%\n",
      "Percent complete https://www.rappler.com/ list: 46.5%\n",
      "Percent complete https://www.rappler.com/ list: 46.7%\n",
      "Percent complete https://www.rappler.com/ list: 46.9%\n",
      "Percent complete https://www.rappler.com/ list: 47.1%\n",
      "Percent complete https://www.rappler.com/ list: 47.4%\n",
      "Percent complete https://www.rappler.com/ list: 47.6%\n",
      "Percent complete https://www.rappler.com/ list: 47.8%\n",
      "Percent complete https://www.rappler.com/ list: 48.0%\n",
      "Percent complete https://www.rappler.com/ list: 48.2%\n",
      "Percent complete https://www.rappler.com/ list: 48.5%\n",
      "Percent complete https://www.rappler.com/ list: 48.7%\n",
      "Percent complete https://www.rappler.com/ list: 48.9%\n",
      "Percent complete https://www.rappler.com/ list: 49.1%\n",
      "Percent complete https://www.rappler.com/ list: 49.3%\n",
      "Percent complete https://www.rappler.com/ list: 49.6%\n",
      "Percent complete https://www.rappler.com/ list: 49.8%\n",
      "Percent complete https://www.rappler.com/ list: 50.0%\n",
      "Percent complete https://www.rappler.com/ list: 50.2%\n",
      "Percent complete https://www.rappler.com/ list: 50.4%\n",
      "Percent complete https://www.rappler.com/ list: 50.7%\n",
      "Percent complete https://www.rappler.com/ list: 50.9%\n",
      "Percent complete https://www.rappler.com/ list: 51.1%\n",
      "Percent complete https://www.rappler.com/ list: 51.3%\n",
      "Percent complete https://www.rappler.com/ list: 51.5%\n",
      "Percent complete https://www.rappler.com/ list: 51.8%\n",
      "Percent complete https://www.rappler.com/ list: 52.0%\n",
      "Percent complete https://www.rappler.com/ list: 52.2%\n",
      "Percent complete https://www.rappler.com/ list: 52.4%\n",
      "Percent complete https://www.rappler.com/ list: 52.6%\n",
      "Percent complete https://www.rappler.com/ list: 52.9%\n",
      "Percent complete https://www.rappler.com/ list: 53.1%\n",
      "Percent complete https://www.rappler.com/ list: 53.3%\n",
      "Percent complete https://www.rappler.com/ list: 53.5%\n",
      "Percent complete https://www.rappler.com/ list: 53.7%\n",
      "Percent complete https://www.rappler.com/ list: 53.9%\n",
      "Percent complete https://www.rappler.com/ list: 54.2%\n",
      "Percent complete https://www.rappler.com/ list: 54.4%\n",
      "Percent complete https://www.rappler.com/ list: 54.6%\n",
      "Percent complete https://www.rappler.com/ list: 54.8%\n",
      "Percent complete https://www.rappler.com/ list: 55.0%\n",
      "Percent complete https://www.rappler.com/ list: 55.3%\n",
      "Percent complete https://www.rappler.com/ list: 55.5%\n",
      "Percent complete https://www.rappler.com/ list: 55.7%\n",
      "Percent complete https://www.rappler.com/ list: 55.9%\n",
      "Percent complete https://www.rappler.com/ list: 56.1%\n",
      "Percent complete https://www.rappler.com/ list: 56.4%\n",
      "Percent complete https://www.rappler.com/ list: 56.6%\n",
      "Percent complete https://www.rappler.com/ list: 56.8%\n",
      "Percent complete https://www.rappler.com/ list: 57.0%\n",
      "Percent complete https://www.rappler.com/ list: 57.2%\n",
      "Percent complete https://www.rappler.com/ list: 57.5%\n",
      "Percent complete https://www.rappler.com/ list: 57.7%\n",
      "Percent complete https://www.rappler.com/ list: 57.9%\n",
      "Percent complete https://www.rappler.com/ list: 58.1%\n",
      "Percent complete https://www.rappler.com/ list: 58.3%\n",
      "Percent complete https://www.rappler.com/ list: 58.6%\n",
      "Percent complete https://www.rappler.com/ list: 58.8%\n",
      "Percent complete https://www.rappler.com/ list: 59.0%\n",
      "Percent complete https://www.rappler.com/ list: 59.2%\n",
      "Percent complete https://www.rappler.com/ list: 59.4%\n",
      "Percent complete https://www.rappler.com/ list: 59.6%\n",
      "Percent complete https://www.rappler.com/ list: 59.9%\n",
      "Percent complete https://www.rappler.com/ list: 60.1%\n",
      "Percent complete https://www.rappler.com/ list: 60.3%\n",
      "Percent complete https://www.rappler.com/ list: 60.5%\n",
      "Percent complete https://www.rappler.com/ list: 60.7%\n",
      "Percent complete https://www.rappler.com/ list: 61.0%\n",
      "Percent complete https://www.rappler.com/ list: 61.2%\n",
      "Percent complete https://www.rappler.com/ list: 61.4%\n",
      "Percent complete https://www.rappler.com/ list: 61.6%\n",
      "Percent complete https://www.rappler.com/ list: 61.8%\n",
      "Percent complete https://www.rappler.com/ list: 62.1%\n",
      "Percent complete https://www.rappler.com/ list: 62.3%\n",
      "Percent complete https://www.rappler.com/ list: 62.5%\n",
      "Percent complete https://www.rappler.com/ list: 62.7%\n",
      "Percent complete https://www.rappler.com/ list: 62.9%\n",
      "Percent complete https://www.rappler.com/ list: 63.2%\n",
      "Percent complete https://www.rappler.com/ list: 63.4%\n",
      "Percent complete https://www.rappler.com/ list: 63.6%\n",
      "Percent complete https://www.rappler.com/ list: 63.8%\n",
      "Percent complete https://www.rappler.com/ list: 64.0%\n",
      "Percent complete https://www.rappler.com/ list: 64.3%\n",
      "Percent complete https://www.rappler.com/ list: 64.5%\n",
      "Percent complete https://www.rappler.com/ list: 64.7%\n",
      "Percent complete https://www.rappler.com/ list: 64.9%\n",
      "Percent complete https://www.rappler.com/ list: 65.1%\n",
      "Percent complete https://www.rappler.com/ list: 65.4%\n",
      "Percent complete https://www.rappler.com/ list: 65.6%\n",
      "Percent complete https://www.rappler.com/ list: 65.8%\n",
      "Percent complete https://www.rappler.com/ list: 66.0%\n",
      "Percent complete https://www.rappler.com/ list: 66.2%\n",
      "Percent complete https://www.rappler.com/ list: 66.4%\n",
      "Percent complete https://www.rappler.com/ list: 66.7%\n",
      "Percent complete https://www.rappler.com/ list: 66.9%\n",
      "Percent complete https://www.rappler.com/ list: 67.1%\n",
      "Percent complete https://www.rappler.com/ list: 67.3%\n",
      "Percent complete https://www.rappler.com/ list: 67.5%\n",
      "Percent complete https://www.rappler.com/ list: 67.8%\n",
      "Percent complete https://www.rappler.com/ list: 68.0%\n",
      "Percent complete https://www.rappler.com/ list: 68.2%\n",
      "Percent complete https://www.rappler.com/ list: 68.4%\n",
      "Percent complete https://www.rappler.com/ list: 68.6%\n",
      "Percent complete https://www.rappler.com/ list: 68.9%\n",
      "Percent complete https://www.rappler.com/ list: 69.1%\n",
      "Percent complete https://www.rappler.com/ list: 69.3%\n",
      "Percent complete https://www.rappler.com/ list: 69.5%\n",
      "Percent complete https://www.rappler.com/ list: 69.7%\n",
      "Percent complete https://www.rappler.com/ list: 70.0%\n",
      "Percent complete https://www.rappler.com/ list: 70.2%\n",
      "Percent complete https://www.rappler.com/ list: 70.4%\n",
      "Percent complete https://www.rappler.com/ list: 70.6%\n",
      "Percent complete https://www.rappler.com/ list: 70.8%\n",
      "Percent complete https://www.rappler.com/ list: 71.1%\n",
      "Percent complete https://www.rappler.com/ list: 71.3%\n",
      "Percent complete https://www.rappler.com/ list: 71.5%\n",
      "Percent complete https://www.rappler.com/ list: 71.7%\n",
      "Percent complete https://www.rappler.com/ list: 71.9%\n",
      "Percent complete https://www.rappler.com/ list: 72.1%\n",
      "Percent complete https://www.rappler.com/ list: 72.4%\n",
      "Percent complete https://www.rappler.com/ list: 72.6%\n",
      "Percent complete https://www.rappler.com/ list: 72.8%\n",
      "Percent complete https://www.rappler.com/ list: 73.0%\n",
      "Percent complete https://www.rappler.com/ list: 73.2%\n",
      "Percent complete https://www.rappler.com/ list: 73.5%\n",
      "Percent complete https://www.rappler.com/ list: 73.7%\n",
      "Percent complete https://www.rappler.com/ list: 73.9%\n",
      "Percent complete https://www.rappler.com/ list: 74.1%\n",
      "Percent complete https://www.rappler.com/ list: 74.3%\n",
      "Percent complete https://www.rappler.com/ list: 74.6%\n",
      "Percent complete https://www.rappler.com/ list: 74.8%\n",
      "Percent complete https://www.rappler.com/ list: 75.0%\n",
      "Percent complete https://www.rappler.com/ list: 75.2%\n",
      "Percent complete https://www.rappler.com/ list: 75.4%\n",
      "Percent complete https://www.rappler.com/ list: 75.7%\n",
      "Percent complete https://www.rappler.com/ list: 75.9%\n",
      "Percent complete https://www.rappler.com/ list: 76.1%\n",
      "Percent complete https://www.rappler.com/ list: 76.3%\n",
      "Percent complete https://www.rappler.com/ list: 76.5%\n",
      "Percent complete https://www.rappler.com/ list: 76.8%\n",
      "Percent complete https://www.rappler.com/ list: 77.0%\n",
      "Percent complete https://www.rappler.com/ list: 77.2%\n",
      "Percent complete https://www.rappler.com/ list: 77.4%\n",
      "Percent complete https://www.rappler.com/ list: 77.6%\n",
      "Percent complete https://www.rappler.com/ list: 77.9%\n",
      "Percent complete https://www.rappler.com/ list: 78.1%\n",
      "Percent complete https://www.rappler.com/ list: 78.3%\n",
      "Percent complete https://www.rappler.com/ list: 78.5%\n",
      "Percent complete https://www.rappler.com/ list: 78.7%\n",
      "Percent complete https://www.rappler.com/ list: 78.9%\n",
      "Percent complete https://www.rappler.com/ list: 79.2%\n",
      "Percent complete https://www.rappler.com/ list: 79.4%\n",
      "Percent complete https://www.rappler.com/ list: 79.6%\n",
      "Percent complete https://www.rappler.com/ list: 79.8%\n",
      "Percent complete https://www.rappler.com/ list: 80.0%\n",
      "Percent complete https://www.rappler.com/ list: 80.3%\n",
      "Percent complete https://www.rappler.com/ list: 80.5%\n",
      "Percent complete https://www.rappler.com/ list: 80.7%\n",
      "Percent complete https://www.rappler.com/ list: 80.9%\n",
      "Percent complete https://www.rappler.com/ list: 81.1%\n",
      "Percent complete https://www.rappler.com/ list: 81.4%\n",
      "Percent complete https://www.rappler.com/ list: 81.6%\n",
      "Percent complete https://www.rappler.com/ list: 81.8%\n",
      "Percent complete https://www.rappler.com/ list: 82.0%\n",
      "Percent complete https://www.rappler.com/ list: 82.2%\n",
      "Percent complete https://www.rappler.com/ list: 82.5%\n",
      "Percent complete https://www.rappler.com/ list: 82.7%\n",
      "Percent complete https://www.rappler.com/ list: 82.9%\n",
      "Percent complete https://www.rappler.com/ list: 83.1%\n",
      "Percent complete https://www.rappler.com/ list: 83.3%\n",
      "Percent complete https://www.rappler.com/ list: 83.6%\n",
      "Percent complete https://www.rappler.com/ list: 83.8%\n",
      "Percent complete https://www.rappler.com/ list: 84.0%\n",
      "Percent complete https://www.rappler.com/ list: 84.2%\n",
      "Percent complete https://www.rappler.com/ list: 84.4%\n",
      "Percent complete https://www.rappler.com/ list: 84.6%\n",
      "Percent complete https://www.rappler.com/ list: 84.9%\n",
      "Percent complete https://www.rappler.com/ list: 85.1%\n",
      "Percent complete https://www.rappler.com/ list: 85.3%\n",
      "Percent complete https://www.rappler.com/ list: 85.5%\n",
      "Percent complete https://www.rappler.com/ list: 85.7%\n",
      "Percent complete https://www.rappler.com/ list: 86.0%\n",
      "Percent complete https://www.rappler.com/ list: 86.2%\n",
      "Percent complete https://www.rappler.com/ list: 86.4%\n",
      "Percent complete https://www.rappler.com/ list: 86.6%\n",
      "Percent complete https://www.rappler.com/ list: 86.8%\n",
      "Percent complete https://www.rappler.com/ list: 87.1%\n",
      "Percent complete https://www.rappler.com/ list: 87.3%\n",
      "Percent complete https://www.rappler.com/ list: 87.5%\n",
      "Percent complete https://www.rappler.com/ list: 87.7%\n",
      "Percent complete https://www.rappler.com/ list: 87.9%\n",
      "Percent complete https://www.rappler.com/ list: 88.2%\n",
      "Percent complete https://www.rappler.com/ list: 88.4%\n",
      "Percent complete https://www.rappler.com/ list: 88.6%\n",
      "Percent complete https://www.rappler.com/ list: 88.8%\n",
      "Percent complete https://www.rappler.com/ list: 89.0%\n",
      "Percent complete https://www.rappler.com/ list: 89.3%\n",
      "Percent complete https://www.rappler.com/ list: 89.5%\n",
      "Percent complete https://www.rappler.com/ list: 89.7%\n",
      "Percent complete https://www.rappler.com/ list: 89.9%\n",
      "Percent complete https://www.rappler.com/ list: 90.1%\n",
      "Percent complete https://www.rappler.com/ list: 90.4%\n",
      "Percent complete https://www.rappler.com/ list: 90.6%\n",
      "Percent complete https://www.rappler.com/ list: 90.8%\n",
      "Percent complete https://www.rappler.com/ list: 91.0%\n",
      "Percent complete https://www.rappler.com/ list: 91.2%\n",
      "Percent complete https://www.rappler.com/ list: 91.4%\n",
      "Percent complete https://www.rappler.com/ list: 91.7%\n",
      "Percent complete https://www.rappler.com/ list: 91.9%\n",
      "Percent complete https://www.rappler.com/ list: 92.1%\n",
      "Percent complete https://www.rappler.com/ list: 92.3%\n",
      "Percent complete https://www.rappler.com/ list: 92.5%\n",
      "Percent complete https://www.rappler.com/ list: 92.8%\n",
      "Percent complete https://www.rappler.com/ list: 93.0%\n",
      "Percent complete https://www.rappler.com/ list: 93.2%\n",
      "Percent complete https://www.rappler.com/ list: 93.4%\n",
      "Percent complete https://www.rappler.com/ list: 93.6%\n",
      "Percent complete https://www.rappler.com/ list: 93.9%\n",
      "Percent complete https://www.rappler.com/ list: 94.1%\n",
      "Percent complete https://www.rappler.com/ list: 94.3%\n",
      "Percent complete https://www.rappler.com/ list: 94.5%\n",
      "Percent complete https://www.rappler.com/ list: 94.7%\n",
      "Percent complete https://www.rappler.com/ list: 95.0%\n",
      "Percent complete https://www.rappler.com/ list: 95.2%\n",
      "Percent complete https://www.rappler.com/ list: 95.4%\n",
      "Percent complete https://www.rappler.com/ list: 95.6%\n",
      "Percent complete https://www.rappler.com/ list: 95.8%\n",
      "Percent complete https://www.rappler.com/ list: 96.1%\n",
      "Percent complete https://www.rappler.com/ list: 96.3%\n",
      "Percent complete https://www.rappler.com/ list: 96.5%\n",
      "Percent complete https://www.rappler.com/ list: 96.7%\n",
      "Percent complete https://www.rappler.com/ list: 96.9%\n",
      "Percent complete https://www.rappler.com/ list: 97.1%\n",
      "Percent complete https://www.rappler.com/ list: 97.4%\n",
      "Percent complete https://www.rappler.com/ list: 97.6%\n",
      "Percent complete https://www.rappler.com/ list: 97.8%\n",
      "Percent complete https://www.rappler.com/ list: 98.0%\n",
      "Percent complete https://www.rappler.com/ list: 98.2%\n",
      "Percent complete https://www.rappler.com/ list: 98.5%\n",
      "Percent complete https://www.rappler.com/ list: 98.7%\n",
      "Percent complete https://www.rappler.com/ list: 98.9%\n",
      "Percent complete https://www.rappler.com/ list: 99.1%\n",
      "Percent complete https://www.rappler.com/ list: 99.3%\n",
      "Percent complete https://www.rappler.com/ list: 99.6%\n",
      "Percent complete https://www.rappler.com/ list: 99.8%\n",
      "Percent complete https://www.rappler.com/ list: 100.0%\n",
      "Percent complete all sources list: 89.5%\n"
     ]
    },
    {
     "name": "stdout",
     "output_type": "stream",
     "text": [
      "Percent complete retired analyst list: 4.0%\n",
      "Percent complete retired analyst list: 8.0%\n",
      "Percent complete retired analyst list: 12.0%\n",
      "Percent complete retired analyst list: 16.0%\n",
      "Percent complete retired analyst list: 20.0%\n",
      "Percent complete retired analyst list: 24.0%\n",
      "Percent complete retired analyst list: 28.0%\n",
      "Percent complete retired analyst list: 32.0%\n",
      "Percent complete retired analyst list: 36.0%\n",
      "Percent complete retired analyst list: 40.0%\n",
      "Percent complete retired analyst list: 44.0%\n",
      "Percent complete retired analyst list: 48.0%\n",
      "Percent complete retired analyst list: 52.0%\n",
      "Percent complete retired analyst list: 56.0%\n",
      "Percent complete retired analyst list: 60.0%\n",
      "Percent complete retired analyst list: 64.0%\n",
      "Percent complete retired analyst list: 68.0%\n",
      "Percent complete retired analyst list: 72.0%\n",
      "Percent complete retired analyst list: 76.0%\n",
      "Percent complete retired analyst list: 80.0%\n",
      "Percent complete retired analyst list: 84.0%\n",
      "Percent complete retired analyst list: 88.0%\n",
      "Percent complete retired analyst list: 92.0%\n",
      "Percent complete retired analyst list: 96.0%\n",
      "Percent complete retired analyst list: 100.0%\n",
      "Percent complete all sources list: 94.7%\n",
      "Percent complete http://tempo.com.ph/ list: 0.4%\n",
      "Percent complete http://tempo.com.ph/ list: 0.8%\n",
      "Percent complete http://tempo.com.ph/ list: 1.2%\n",
      "Percent complete http://tempo.com.ph/ list: 1.6%\n",
      "Percent complete http://tempo.com.ph/ list: 2.0%\n",
      "Percent complete http://tempo.com.ph/ list: 2.5%\n",
      "Percent complete http://tempo.com.ph/ list: 2.9%\n",
      "Percent complete http://tempo.com.ph/ list: 3.3%\n",
      "Percent complete http://tempo.com.ph/ list: 3.7%\n",
      "Percent complete http://tempo.com.ph/ list: 4.1%\n",
      "Percent complete http://tempo.com.ph/ list: 4.5%\n",
      "Percent complete http://tempo.com.ph/ list: 4.9%\n",
      "Percent complete http://tempo.com.ph/ list: 5.3%\n",
      "Percent complete http://tempo.com.ph/ list: 5.7%\n",
      "Percent complete http://tempo.com.ph/ list: 6.1%\n",
      "Percent complete http://tempo.com.ph/ list: 6.6%\n",
      "Percent complete http://tempo.com.ph/ list: 7.0%\n",
      "Percent complete http://tempo.com.ph/ list: 7.4%\n",
      "Percent complete http://tempo.com.ph/ list: 7.8%\n",
      "Percent complete http://tempo.com.ph/ list: 8.2%\n",
      "Percent complete http://tempo.com.ph/ list: 8.6%\n",
      "Percent complete http://tempo.com.ph/ list: 9.0%\n",
      "Percent complete http://tempo.com.ph/ list: 9.4%\n",
      "Percent complete http://tempo.com.ph/ list: 9.8%\n",
      "Percent complete http://tempo.com.ph/ list: 10.2%\n",
      "Percent complete http://tempo.com.ph/ list: 10.7%\n",
      "Percent complete http://tempo.com.ph/ list: 11.1%\n",
      "Percent complete http://tempo.com.ph/ list: 11.5%\n",
      "Percent complete http://tempo.com.ph/ list: 11.9%\n",
      "Percent complete http://tempo.com.ph/ list: 12.3%\n",
      "Percent complete http://tempo.com.ph/ list: 12.7%\n",
      "Percent complete http://tempo.com.ph/ list: 13.1%\n",
      "Percent complete http://tempo.com.ph/ list: 13.5%\n",
      "Percent complete http://tempo.com.ph/ list: 13.9%\n",
      "Percent complete http://tempo.com.ph/ list: 14.3%\n",
      "Percent complete http://tempo.com.ph/ list: 14.8%\n",
      "Percent complete http://tempo.com.ph/ list: 15.2%\n",
      "Percent complete http://tempo.com.ph/ list: 15.6%\n",
      "Percent complete http://tempo.com.ph/ list: 16.0%\n",
      "Percent complete http://tempo.com.ph/ list: 16.4%\n",
      "Percent complete http://tempo.com.ph/ list: 16.8%\n",
      "Percent complete http://tempo.com.ph/ list: 17.2%\n",
      "Percent complete http://tempo.com.ph/ list: 17.6%\n",
      "Percent complete http://tempo.com.ph/ list: 18.0%\n",
      "Percent complete http://tempo.com.ph/ list: 18.4%\n",
      "Percent complete http://tempo.com.ph/ list: 18.9%\n",
      "Percent complete http://tempo.com.ph/ list: 19.3%\n",
      "Percent complete http://tempo.com.ph/ list: 19.7%\n",
      "Percent complete http://tempo.com.ph/ list: 20.1%\n",
      "Percent complete http://tempo.com.ph/ list: 20.5%\n",
      "Percent complete http://tempo.com.ph/ list: 20.9%\n",
      "Percent complete http://tempo.com.ph/ list: 21.3%\n",
      "Percent complete http://tempo.com.ph/ list: 21.7%\n",
      "Percent complete http://tempo.com.ph/ list: 22.1%\n",
      "Percent complete http://tempo.com.ph/ list: 22.5%\n",
      "Percent complete http://tempo.com.ph/ list: 23.0%\n",
      "Percent complete http://tempo.com.ph/ list: 23.4%\n",
      "Percent complete http://tempo.com.ph/ list: 23.8%\n",
      "Percent complete http://tempo.com.ph/ list: 24.2%\n",
      "Percent complete http://tempo.com.ph/ list: 24.6%\n",
      "Percent complete http://tempo.com.ph/ list: 25.0%\n",
      "Percent complete http://tempo.com.ph/ list: 25.4%\n",
      "Percent complete http://tempo.com.ph/ list: 25.8%\n",
      "Percent complete http://tempo.com.ph/ list: 26.2%\n",
      "Percent complete http://tempo.com.ph/ list: 26.6%\n",
      "Percent complete http://tempo.com.ph/ list: 27.0%\n",
      "Percent complete http://tempo.com.ph/ list: 27.5%\n",
      "Percent complete http://tempo.com.ph/ list: 27.9%\n",
      "Percent complete http://tempo.com.ph/ list: 28.3%\n",
      "Percent complete http://tempo.com.ph/ list: 28.7%\n",
      "Percent complete http://tempo.com.ph/ list: 29.1%\n",
      "Percent complete http://tempo.com.ph/ list: 29.5%\n",
      "Percent complete http://tempo.com.ph/ list: 29.9%\n",
      "Percent complete http://tempo.com.ph/ list: 30.3%\n",
      "Percent complete http://tempo.com.ph/ list: 30.7%\n",
      "Percent complete http://tempo.com.ph/ list: 31.1%\n",
      "Percent complete http://tempo.com.ph/ list: 31.6%\n",
      "Percent complete http://tempo.com.ph/ list: 32.0%\n",
      "Percent complete http://tempo.com.ph/ list: 32.4%\n",
      "Percent complete http://tempo.com.ph/ list: 32.8%\n",
      "Percent complete http://tempo.com.ph/ list: 33.2%\n",
      "Percent complete http://tempo.com.ph/ list: 33.6%\n",
      "Percent complete http://tempo.com.ph/ list: 34.0%\n",
      "Percent complete http://tempo.com.ph/ list: 34.4%\n",
      "Percent complete http://tempo.com.ph/ list: 34.8%\n",
      "Percent complete http://tempo.com.ph/ list: 35.2%\n",
      "Percent complete http://tempo.com.ph/ list: 35.7%\n",
      "Percent complete http://tempo.com.ph/ list: 36.1%\n",
      "Percent complete http://tempo.com.ph/ list: 36.5%\n",
      "Percent complete http://tempo.com.ph/ list: 36.9%\n",
      "Percent complete http://tempo.com.ph/ list: 37.3%\n",
      "Percent complete http://tempo.com.ph/ list: 37.7%\n",
      "Percent complete http://tempo.com.ph/ list: 38.1%\n",
      "Percent complete http://tempo.com.ph/ list: 38.5%\n",
      "Percent complete http://tempo.com.ph/ list: 38.9%\n",
      "Percent complete http://tempo.com.ph/ list: 39.3%\n",
      "Percent complete http://tempo.com.ph/ list: 39.8%\n",
      "Percent complete http://tempo.com.ph/ list: 40.2%\n",
      "Percent complete http://tempo.com.ph/ list: 40.6%\n",
      "Percent complete http://tempo.com.ph/ list: 41.0%\n",
      "Percent complete http://tempo.com.ph/ list: 41.4%\n",
      "Percent complete http://tempo.com.ph/ list: 41.8%\n",
      "Percent complete http://tempo.com.ph/ list: 42.2%\n",
      "Percent complete http://tempo.com.ph/ list: 42.6%\n",
      "Percent complete http://tempo.com.ph/ list: 43.0%\n",
      "Percent complete http://tempo.com.ph/ list: 43.4%\n",
      "Percent complete http://tempo.com.ph/ list: 43.9%\n",
      "Percent complete http://tempo.com.ph/ list: 44.3%\n",
      "Percent complete http://tempo.com.ph/ list: 44.7%\n",
      "Percent complete http://tempo.com.ph/ list: 45.1%\n",
      "Percent complete http://tempo.com.ph/ list: 45.5%\n",
      "Percent complete http://tempo.com.ph/ list: 45.9%\n",
      "Percent complete http://tempo.com.ph/ list: 46.3%\n",
      "Percent complete http://tempo.com.ph/ list: 46.7%\n",
      "Percent complete http://tempo.com.ph/ list: 47.1%\n",
      "Percent complete http://tempo.com.ph/ list: 47.5%\n",
      "Percent complete http://tempo.com.ph/ list: 48.0%\n",
      "Percent complete http://tempo.com.ph/ list: 48.4%\n",
      "Percent complete http://tempo.com.ph/ list: 48.8%\n",
      "Percent complete http://tempo.com.ph/ list: 49.2%\n",
      "Percent complete http://tempo.com.ph/ list: 49.6%\n",
      "Percent complete http://tempo.com.ph/ list: 50.0%\n",
      "Percent complete http://tempo.com.ph/ list: 50.4%\n",
      "Percent complete http://tempo.com.ph/ list: 50.8%\n",
      "Percent complete http://tempo.com.ph/ list: 51.2%\n",
      "Percent complete http://tempo.com.ph/ list: 51.6%\n",
      "Percent complete http://tempo.com.ph/ list: 52.0%\n",
      "Percent complete http://tempo.com.ph/ list: 52.5%\n",
      "Percent complete http://tempo.com.ph/ list: 52.9%\n",
      "Percent complete http://tempo.com.ph/ list: 53.3%\n",
      "Percent complete http://tempo.com.ph/ list: 53.7%\n",
      "Percent complete http://tempo.com.ph/ list: 54.1%\n",
      "Percent complete http://tempo.com.ph/ list: 54.5%\n",
      "Percent complete http://tempo.com.ph/ list: 54.9%\n",
      "Percent complete http://tempo.com.ph/ list: 55.3%\n",
      "Percent complete http://tempo.com.ph/ list: 55.7%\n",
      "Percent complete http://tempo.com.ph/ list: 56.1%\n",
      "Percent complete http://tempo.com.ph/ list: 56.6%\n",
      "Percent complete http://tempo.com.ph/ list: 57.0%\n",
      "Percent complete http://tempo.com.ph/ list: 57.4%\n",
      "Percent complete http://tempo.com.ph/ list: 57.8%\n",
      "Percent complete http://tempo.com.ph/ list: 58.2%\n",
      "Percent complete http://tempo.com.ph/ list: 58.6%\n",
      "Percent complete http://tempo.com.ph/ list: 59.0%\n",
      "Percent complete http://tempo.com.ph/ list: 59.4%\n",
      "Percent complete http://tempo.com.ph/ list: 59.8%\n",
      "Percent complete http://tempo.com.ph/ list: 60.2%\n",
      "Percent complete http://tempo.com.ph/ list: 60.7%\n",
      "Percent complete http://tempo.com.ph/ list: 61.1%\n",
      "Percent complete http://tempo.com.ph/ list: 61.5%\n",
      "Percent complete http://tempo.com.ph/ list: 61.9%\n",
      "Percent complete http://tempo.com.ph/ list: 62.3%\n",
      "Percent complete http://tempo.com.ph/ list: 62.7%\n",
      "Percent complete http://tempo.com.ph/ list: 63.1%\n",
      "Percent complete http://tempo.com.ph/ list: 63.5%\n",
      "Percent complete http://tempo.com.ph/ list: 63.9%\n",
      "Percent complete http://tempo.com.ph/ list: 64.3%\n",
      "Percent complete http://tempo.com.ph/ list: 64.8%\n",
      "Percent complete http://tempo.com.ph/ list: 65.2%\n",
      "Percent complete http://tempo.com.ph/ list: 65.6%\n",
      "Percent complete http://tempo.com.ph/ list: 66.0%\n",
      "Percent complete http://tempo.com.ph/ list: 66.4%\n",
      "Percent complete http://tempo.com.ph/ list: 66.8%\n",
      "Percent complete http://tempo.com.ph/ list: 67.2%\n",
      "Percent complete http://tempo.com.ph/ list: 67.6%\n",
      "Percent complete http://tempo.com.ph/ list: 68.0%\n",
      "Percent complete http://tempo.com.ph/ list: 68.4%\n",
      "Percent complete http://tempo.com.ph/ list: 68.9%\n",
      "Percent complete http://tempo.com.ph/ list: 69.3%\n",
      "Percent complete http://tempo.com.ph/ list: 69.7%\n",
      "Percent complete http://tempo.com.ph/ list: 70.1%\n",
      "Percent complete http://tempo.com.ph/ list: 70.5%\n",
      "Percent complete http://tempo.com.ph/ list: 70.9%\n",
      "Percent complete http://tempo.com.ph/ list: 71.3%\n",
      "Percent complete http://tempo.com.ph/ list: 71.7%\n",
      "Percent complete http://tempo.com.ph/ list: 72.1%\n",
      "Percent complete http://tempo.com.ph/ list: 72.5%\n",
      "Percent complete http://tempo.com.ph/ list: 73.0%\n",
      "Percent complete http://tempo.com.ph/ list: 73.4%\n",
      "Percent complete http://tempo.com.ph/ list: 73.8%\n",
      "Percent complete http://tempo.com.ph/ list: 74.2%\n",
      "Percent complete http://tempo.com.ph/ list: 74.6%\n",
      "Percent complete http://tempo.com.ph/ list: 75.0%\n",
      "Percent complete http://tempo.com.ph/ list: 75.4%\n",
      "Percent complete http://tempo.com.ph/ list: 75.8%\n",
      "Percent complete http://tempo.com.ph/ list: 76.2%\n",
      "Percent complete http://tempo.com.ph/ list: 76.6%\n",
      "Percent complete http://tempo.com.ph/ list: 77.0%\n",
      "Percent complete http://tempo.com.ph/ list: 77.5%\n",
      "Percent complete http://tempo.com.ph/ list: 77.9%\n",
      "Percent complete http://tempo.com.ph/ list: 78.3%\n",
      "Percent complete http://tempo.com.ph/ list: 78.7%\n",
      "Percent complete http://tempo.com.ph/ list: 79.1%\n",
      "Percent complete http://tempo.com.ph/ list: 79.5%\n",
      "Percent complete http://tempo.com.ph/ list: 79.9%\n",
      "Percent complete http://tempo.com.ph/ list: 80.3%\n",
      "Percent complete http://tempo.com.ph/ list: 80.7%\n",
      "Percent complete http://tempo.com.ph/ list: 81.1%\n",
      "Percent complete http://tempo.com.ph/ list: 81.6%\n",
      "Percent complete http://tempo.com.ph/ list: 82.0%\n",
      "Percent complete http://tempo.com.ph/ list: 82.4%\n",
      "Percent complete http://tempo.com.ph/ list: 82.8%\n",
      "Percent complete http://tempo.com.ph/ list: 83.2%\n",
      "Percent complete http://tempo.com.ph/ list: 83.6%\n",
      "Percent complete http://tempo.com.ph/ list: 84.0%\n",
      "Percent complete http://tempo.com.ph/ list: 84.4%\n",
      "Percent complete http://tempo.com.ph/ list: 84.8%\n",
      "Percent complete http://tempo.com.ph/ list: 85.2%\n",
      "Percent complete http://tempo.com.ph/ list: 85.7%\n",
      "Percent complete http://tempo.com.ph/ list: 86.1%\n",
      "Percent complete http://tempo.com.ph/ list: 86.5%\n",
      "Percent complete http://tempo.com.ph/ list: 86.9%\n",
      "Percent complete http://tempo.com.ph/ list: 87.3%\n",
      "Percent complete http://tempo.com.ph/ list: 87.7%\n",
      "Percent complete http://tempo.com.ph/ list: 88.1%\n",
      "Percent complete http://tempo.com.ph/ list: 88.5%\n",
      "Percent complete http://tempo.com.ph/ list: 88.9%\n",
      "Percent complete http://tempo.com.ph/ list: 89.3%\n",
      "Percent complete http://tempo.com.ph/ list: 89.8%\n",
      "Percent complete http://tempo.com.ph/ list: 90.2%\n",
      "Percent complete http://tempo.com.ph/ list: 90.6%\n",
      "Percent complete http://tempo.com.ph/ list: 91.0%\n",
      "Percent complete http://tempo.com.ph/ list: 91.4%\n",
      "Percent complete http://tempo.com.ph/ list: 91.8%\n",
      "Percent complete http://tempo.com.ph/ list: 92.2%\n",
      "Percent complete http://tempo.com.ph/ list: 92.6%\n",
      "Percent complete http://tempo.com.ph/ list: 93.0%\n",
      "Percent complete http://tempo.com.ph/ list: 93.4%\n",
      "Percent complete http://tempo.com.ph/ list: 93.9%\n",
      "Percent complete http://tempo.com.ph/ list: 94.3%\n",
      "Percent complete http://tempo.com.ph/ list: 94.7%\n",
      "Percent complete http://tempo.com.ph/ list: 95.1%\n",
      "Percent complete http://tempo.com.ph/ list: 95.5%\n",
      "Percent complete http://tempo.com.ph/ list: 95.9%\n",
      "Percent complete http://tempo.com.ph/ list: 96.3%\n",
      "Percent complete http://tempo.com.ph/ list: 96.7%\n",
      "Percent complete http://tempo.com.ph/ list: 97.1%\n",
      "Percent complete http://tempo.com.ph/ list: 97.5%\n",
      "Percent complete http://tempo.com.ph/ list: 98.0%\n",
      "Percent complete http://tempo.com.ph/ list: 98.4%\n",
      "Percent complete http://tempo.com.ph/ list: 98.8%\n",
      "Percent complete http://tempo.com.ph/ list: 99.2%\n",
      "Percent complete http://tempo.com.ph/ list: 99.6%\n",
      "Percent complete http://tempo.com.ph/ list: 100.0%\n",
      "Percent complete all sources list: 100.0%\n"
     ]
    },
    {
     "name": "stdout",
     "output_type": "stream",
     "text": [
      "Percent complete https://news.abs-cbn.com/ list: 0.4%\n",
      "Percent complete https://news.abs-cbn.com/ list: 0.8%\n",
      "Percent complete https://news.abs-cbn.com/ list: 1.2%\n",
      "Percent complete https://news.abs-cbn.com/ list: 1.6%\n",
      "Percent complete https://news.abs-cbn.com/ list: 2.0%\n",
      "Percent complete https://news.abs-cbn.com/ list: 2.4%\n",
      "Percent complete https://news.abs-cbn.com/ list: 2.8%\n",
      "Percent complete https://news.abs-cbn.com/ list: 3.1%\n",
      "Percent complete https://news.abs-cbn.com/ list: 3.5%\n",
      "Percent complete https://news.abs-cbn.com/ list: 3.9%\n",
      "Percent complete https://news.abs-cbn.com/ list: 4.3%\n",
      "Percent complete https://news.abs-cbn.com/ list: 4.7%\n",
      "Percent complete https://news.abs-cbn.com/ list: 5.1%\n",
      "Percent complete https://news.abs-cbn.com/ list: 5.5%\n",
      "Percent complete https://news.abs-cbn.com/ list: 5.9%\n",
      "Percent complete https://news.abs-cbn.com/ list: 6.3%\n",
      "Percent complete https://news.abs-cbn.com/ list: 6.7%\n",
      "Percent complete https://news.abs-cbn.com/ list: 7.1%\n",
      "Percent complete https://news.abs-cbn.com/ list: 7.5%\n",
      "Percent complete https://news.abs-cbn.com/ list: 7.9%\n",
      "Percent complete https://news.abs-cbn.com/ list: 8.3%\n",
      "Percent complete https://news.abs-cbn.com/ list: 8.7%\n",
      "Percent complete https://news.abs-cbn.com/ list: 9.1%\n",
      "Percent complete https://news.abs-cbn.com/ list: 9.4%\n",
      "Percent complete https://news.abs-cbn.com/ list: 9.8%\n",
      "Percent complete https://news.abs-cbn.com/ list: 10.2%\n",
      "Percent complete https://news.abs-cbn.com/ list: 10.6%\n",
      "Percent complete https://news.abs-cbn.com/ list: 11.0%\n",
      "Percent complete https://news.abs-cbn.com/ list: 11.4%\n",
      "Percent complete https://news.abs-cbn.com/ list: 11.8%\n",
      "Percent complete https://news.abs-cbn.com/ list: 12.2%\n",
      "Percent complete https://news.abs-cbn.com/ list: 12.6%\n",
      "Percent complete https://news.abs-cbn.com/ list: 13.0%\n",
      "Percent complete https://news.abs-cbn.com/ list: 13.4%\n",
      "Percent complete https://news.abs-cbn.com/ list: 13.8%\n",
      "Percent complete https://news.abs-cbn.com/ list: 14.2%\n",
      "Percent complete https://news.abs-cbn.com/ list: 14.6%\n",
      "Percent complete https://news.abs-cbn.com/ list: 15.0%\n",
      "Percent complete https://news.abs-cbn.com/ list: 15.4%\n",
      "Percent complete https://news.abs-cbn.com/ list: 15.7%\n",
      "Percent complete https://news.abs-cbn.com/ list: 16.1%\n",
      "Percent complete https://news.abs-cbn.com/ list: 16.5%\n",
      "Percent complete https://news.abs-cbn.com/ list: 16.9%\n",
      "Percent complete https://news.abs-cbn.com/ list: 17.3%\n",
      "Percent complete https://news.abs-cbn.com/ list: 17.7%\n",
      "Percent complete https://news.abs-cbn.com/ list: 18.1%\n",
      "Percent complete https://news.abs-cbn.com/ list: 18.5%\n",
      "Percent complete https://news.abs-cbn.com/ list: 18.9%\n",
      "Percent complete https://news.abs-cbn.com/ list: 19.3%\n",
      "Percent complete https://news.abs-cbn.com/ list: 19.7%\n",
      "Percent complete https://news.abs-cbn.com/ list: 20.1%\n",
      "Percent complete https://news.abs-cbn.com/ list: 20.5%\n",
      "Percent complete https://news.abs-cbn.com/ list: 20.9%\n",
      "Percent complete https://news.abs-cbn.com/ list: 21.3%\n",
      "Percent complete https://news.abs-cbn.com/ list: 21.7%\n",
      "Percent complete https://news.abs-cbn.com/ list: 22.0%\n",
      "Percent complete https://news.abs-cbn.com/ list: 22.4%\n",
      "Percent complete https://news.abs-cbn.com/ list: 22.8%\n",
      "Percent complete https://news.abs-cbn.com/ list: 23.2%\n",
      "Percent complete https://news.abs-cbn.com/ list: 23.6%\n",
      "Percent complete https://news.abs-cbn.com/ list: 24.0%\n",
      "Percent complete https://news.abs-cbn.com/ list: 24.4%\n",
      "Percent complete https://news.abs-cbn.com/ list: 24.8%\n",
      "Percent complete https://news.abs-cbn.com/ list: 25.2%\n",
      "Percent complete https://news.abs-cbn.com/ list: 25.6%\n",
      "Percent complete https://news.abs-cbn.com/ list: 26.0%\n",
      "Percent complete https://news.abs-cbn.com/ list: 26.4%\n",
      "Percent complete https://news.abs-cbn.com/ list: 26.8%\n",
      "Percent complete https://news.abs-cbn.com/ list: 27.2%\n",
      "Percent complete https://news.abs-cbn.com/ list: 27.6%\n",
      "Percent complete https://news.abs-cbn.com/ list: 28.0%\n",
      "Percent complete https://news.abs-cbn.com/ list: 28.3%\n",
      "Percent complete https://news.abs-cbn.com/ list: 28.7%\n",
      "Percent complete https://news.abs-cbn.com/ list: 29.1%\n",
      "Percent complete https://news.abs-cbn.com/ list: 29.5%\n",
      "Percent complete https://news.abs-cbn.com/ list: 29.9%\n",
      "Percent complete https://news.abs-cbn.com/ list: 30.3%\n",
      "Percent complete https://news.abs-cbn.com/ list: 30.7%\n",
      "Percent complete https://news.abs-cbn.com/ list: 31.1%\n",
      "Percent complete https://news.abs-cbn.com/ list: 31.5%\n",
      "Percent complete https://news.abs-cbn.com/ list: 31.9%\n",
      "Percent complete https://news.abs-cbn.com/ list: 32.3%\n",
      "Percent complete https://news.abs-cbn.com/ list: 32.7%\n",
      "Percent complete https://news.abs-cbn.com/ list: 33.1%\n",
      "Percent complete https://news.abs-cbn.com/ list: 33.5%\n",
      "Percent complete https://news.abs-cbn.com/ list: 33.9%\n",
      "Percent complete https://news.abs-cbn.com/ list: 34.3%\n",
      "Percent complete https://news.abs-cbn.com/ list: 34.6%\n",
      "Percent complete https://news.abs-cbn.com/ list: 35.0%\n",
      "Percent complete https://news.abs-cbn.com/ list: 35.4%\n",
      "Percent complete https://news.abs-cbn.com/ list: 35.8%\n",
      "Percent complete https://news.abs-cbn.com/ list: 36.2%\n",
      "Percent complete https://news.abs-cbn.com/ list: 36.6%\n",
      "Percent complete https://news.abs-cbn.com/ list: 37.0%\n",
      "Percent complete https://news.abs-cbn.com/ list: 37.4%\n",
      "Percent complete https://news.abs-cbn.com/ list: 37.8%\n",
      "Percent complete https://news.abs-cbn.com/ list: 38.2%\n",
      "Percent complete https://news.abs-cbn.com/ list: 38.6%\n",
      "Percent complete https://news.abs-cbn.com/ list: 39.0%\n",
      "Percent complete https://news.abs-cbn.com/ list: 39.4%\n",
      "Percent complete https://news.abs-cbn.com/ list: 39.8%\n",
      "Percent complete https://news.abs-cbn.com/ list: 40.2%\n",
      "Percent complete https://news.abs-cbn.com/ list: 40.6%\n",
      "Percent complete https://news.abs-cbn.com/ list: 40.9%\n",
      "Percent complete https://news.abs-cbn.com/ list: 41.3%\n",
      "Percent complete https://news.abs-cbn.com/ list: 41.7%\n",
      "Percent complete https://news.abs-cbn.com/ list: 42.1%\n",
      "Percent complete https://news.abs-cbn.com/ list: 42.5%\n",
      "Percent complete https://news.abs-cbn.com/ list: 42.9%\n",
      "Percent complete https://news.abs-cbn.com/ list: 43.3%\n",
      "Percent complete https://news.abs-cbn.com/ list: 43.7%\n",
      "Percent complete https://news.abs-cbn.com/ list: 44.1%\n",
      "Percent complete https://news.abs-cbn.com/ list: 44.5%\n",
      "Percent complete https://news.abs-cbn.com/ list: 44.9%\n",
      "Percent complete https://news.abs-cbn.com/ list: 45.3%\n",
      "Percent complete https://news.abs-cbn.com/ list: 45.7%\n",
      "Percent complete https://news.abs-cbn.com/ list: 46.1%\n",
      "Percent complete https://news.abs-cbn.com/ list: 46.5%\n",
      "Percent complete https://news.abs-cbn.com/ list: 46.9%\n",
      "Percent complete https://news.abs-cbn.com/ list: 47.2%\n",
      "Percent complete https://news.abs-cbn.com/ list: 47.6%\n",
      "Percent complete https://news.abs-cbn.com/ list: 48.0%\n",
      "Percent complete https://news.abs-cbn.com/ list: 48.4%\n",
      "Percent complete https://news.abs-cbn.com/ list: 48.8%\n",
      "Percent complete https://news.abs-cbn.com/ list: 49.2%\n",
      "Percent complete https://news.abs-cbn.com/ list: 49.6%\n",
      "Percent complete https://news.abs-cbn.com/ list: 50.0%\n",
      "Percent complete https://news.abs-cbn.com/ list: 50.4%\n",
      "Percent complete https://news.abs-cbn.com/ list: 50.8%\n",
      "Percent complete https://news.abs-cbn.com/ list: 51.2%\n",
      "Percent complete https://news.abs-cbn.com/ list: 51.6%\n",
      "Percent complete https://news.abs-cbn.com/ list: 52.0%\n",
      "Percent complete https://news.abs-cbn.com/ list: 52.4%\n",
      "Percent complete https://news.abs-cbn.com/ list: 52.8%\n",
      "Percent complete https://news.abs-cbn.com/ list: 53.1%\n",
      "Percent complete https://news.abs-cbn.com/ list: 53.5%\n",
      "Percent complete https://news.abs-cbn.com/ list: 53.9%\n",
      "Percent complete https://news.abs-cbn.com/ list: 54.3%\n",
      "Percent complete https://news.abs-cbn.com/ list: 54.7%\n",
      "Percent complete https://news.abs-cbn.com/ list: 55.1%\n",
      "Percent complete https://news.abs-cbn.com/ list: 55.5%\n",
      "Percent complete https://news.abs-cbn.com/ list: 55.9%\n",
      "Percent complete https://news.abs-cbn.com/ list: 56.3%\n",
      "Percent complete https://news.abs-cbn.com/ list: 56.7%\n",
      "Percent complete https://news.abs-cbn.com/ list: 57.1%\n",
      "Percent complete https://news.abs-cbn.com/ list: 57.5%\n",
      "Percent complete https://news.abs-cbn.com/ list: 57.9%\n",
      "Percent complete https://news.abs-cbn.com/ list: 58.3%\n",
      "Percent complete https://news.abs-cbn.com/ list: 58.7%\n",
      "Percent complete https://news.abs-cbn.com/ list: 59.1%\n",
      "Percent complete https://news.abs-cbn.com/ list: 59.4%\n",
      "Percent complete https://news.abs-cbn.com/ list: 59.8%\n",
      "Percent complete https://news.abs-cbn.com/ list: 60.2%\n",
      "Percent complete https://news.abs-cbn.com/ list: 60.6%\n",
      "Percent complete https://news.abs-cbn.com/ list: 61.0%\n",
      "Percent complete https://news.abs-cbn.com/ list: 61.4%\n",
      "Percent complete https://news.abs-cbn.com/ list: 61.8%\n",
      "Percent complete https://news.abs-cbn.com/ list: 62.2%\n",
      "Percent complete https://news.abs-cbn.com/ list: 62.6%\n",
      "Percent complete https://news.abs-cbn.com/ list: 63.0%\n",
      "Percent complete https://news.abs-cbn.com/ list: 63.4%\n",
      "Percent complete https://news.abs-cbn.com/ list: 63.8%\n",
      "Percent complete https://news.abs-cbn.com/ list: 64.2%\n",
      "Percent complete https://news.abs-cbn.com/ list: 64.6%\n",
      "Percent complete https://news.abs-cbn.com/ list: 65.0%\n",
      "Percent complete https://news.abs-cbn.com/ list: 65.4%\n",
      "Percent complete https://news.abs-cbn.com/ list: 65.7%\n",
      "Percent complete https://news.abs-cbn.com/ list: 66.1%\n",
      "Percent complete https://news.abs-cbn.com/ list: 66.5%\n",
      "Percent complete https://news.abs-cbn.com/ list: 66.9%\n",
      "Percent complete https://news.abs-cbn.com/ list: 67.3%\n",
      "Percent complete https://news.abs-cbn.com/ list: 67.7%\n",
      "Percent complete https://news.abs-cbn.com/ list: 68.1%\n",
      "Percent complete https://news.abs-cbn.com/ list: 68.5%\n",
      "Percent complete https://news.abs-cbn.com/ list: 68.9%\n",
      "Percent complete https://news.abs-cbn.com/ list: 69.3%\n",
      "Percent complete https://news.abs-cbn.com/ list: 69.7%\n",
      "Percent complete https://news.abs-cbn.com/ list: 70.1%\n",
      "Percent complete https://news.abs-cbn.com/ list: 70.5%\n",
      "Percent complete https://news.abs-cbn.com/ list: 70.9%\n",
      "Percent complete https://news.abs-cbn.com/ list: 71.3%\n",
      "Percent complete https://news.abs-cbn.com/ list: 71.7%\n",
      "Percent complete https://news.abs-cbn.com/ list: 72.0%\n",
      "Percent complete https://news.abs-cbn.com/ list: 72.4%\n",
      "Percent complete https://news.abs-cbn.com/ list: 72.8%\n",
      "Percent complete https://news.abs-cbn.com/ list: 73.2%\n",
      "Percent complete https://news.abs-cbn.com/ list: 73.6%\n",
      "Percent complete https://news.abs-cbn.com/ list: 74.0%\n",
      "Percent complete https://news.abs-cbn.com/ list: 74.4%\n",
      "Percent complete https://news.abs-cbn.com/ list: 74.8%\n",
      "Percent complete https://news.abs-cbn.com/ list: 75.2%\n",
      "Percent complete https://news.abs-cbn.com/ list: 75.6%\n",
      "Percent complete https://news.abs-cbn.com/ list: 76.0%\n",
      "Percent complete https://news.abs-cbn.com/ list: 76.4%\n",
      "Percent complete https://news.abs-cbn.com/ list: 76.8%\n",
      "Percent complete https://news.abs-cbn.com/ list: 77.2%\n",
      "Percent complete https://news.abs-cbn.com/ list: 77.6%\n",
      "Percent complete https://news.abs-cbn.com/ list: 78.0%\n",
      "Percent complete https://news.abs-cbn.com/ list: 78.3%\n",
      "Percent complete https://news.abs-cbn.com/ list: 78.7%\n",
      "Percent complete https://news.abs-cbn.com/ list: 79.1%\n",
      "Percent complete https://news.abs-cbn.com/ list: 79.5%\n",
      "Percent complete https://news.abs-cbn.com/ list: 79.9%\n",
      "Percent complete https://news.abs-cbn.com/ list: 80.3%\n",
      "Percent complete https://news.abs-cbn.com/ list: 80.7%\n",
      "Percent complete https://news.abs-cbn.com/ list: 81.1%\n",
      "Percent complete https://news.abs-cbn.com/ list: 81.5%\n",
      "Percent complete https://news.abs-cbn.com/ list: 81.9%\n",
      "Percent complete https://news.abs-cbn.com/ list: 82.3%\n",
      "Percent complete https://news.abs-cbn.com/ list: 82.7%\n",
      "Percent complete https://news.abs-cbn.com/ list: 83.1%\n",
      "Percent complete https://news.abs-cbn.com/ list: 83.5%\n",
      "Percent complete https://news.abs-cbn.com/ list: 83.9%\n",
      "Percent complete https://news.abs-cbn.com/ list: 84.3%\n",
      "Percent complete https://news.abs-cbn.com/ list: 84.6%\n",
      "Percent complete https://news.abs-cbn.com/ list: 85.0%\n",
      "Percent complete https://news.abs-cbn.com/ list: 85.4%\n",
      "Percent complete https://news.abs-cbn.com/ list: 85.8%\n",
      "Percent complete https://news.abs-cbn.com/ list: 86.2%\n",
      "Percent complete https://news.abs-cbn.com/ list: 86.6%\n",
      "Percent complete https://news.abs-cbn.com/ list: 87.0%\n",
      "Percent complete https://news.abs-cbn.com/ list: 87.4%\n",
      "Percent complete https://news.abs-cbn.com/ list: 87.8%\n",
      "Percent complete https://news.abs-cbn.com/ list: 88.2%\n",
      "Percent complete https://news.abs-cbn.com/ list: 88.6%\n",
      "Percent complete https://news.abs-cbn.com/ list: 89.0%\n",
      "Percent complete https://news.abs-cbn.com/ list: 89.4%\n",
      "Percent complete https://news.abs-cbn.com/ list: 89.8%\n",
      "Percent complete https://news.abs-cbn.com/ list: 90.2%\n",
      "Percent complete https://news.abs-cbn.com/ list: 90.6%\n",
      "Percent complete https://news.abs-cbn.com/ list: 90.9%\n",
      "Percent complete https://news.abs-cbn.com/ list: 91.3%\n",
      "Percent complete https://news.abs-cbn.com/ list: 91.7%\n",
      "Percent complete https://news.abs-cbn.com/ list: 92.1%\n",
      "Percent complete https://news.abs-cbn.com/ list: 92.5%\n",
      "Percent complete https://news.abs-cbn.com/ list: 92.9%\n",
      "Percent complete https://news.abs-cbn.com/ list: 93.3%\n",
      "Percent complete https://news.abs-cbn.com/ list: 93.7%\n",
      "Percent complete https://news.abs-cbn.com/ list: 94.1%\n",
      "Percent complete https://news.abs-cbn.com/ list: 94.5%\n",
      "Percent complete https://news.abs-cbn.com/ list: 94.9%\n",
      "Percent complete https://news.abs-cbn.com/ list: 95.3%\n",
      "Percent complete https://news.abs-cbn.com/ list: 95.7%\n",
      "Percent complete https://news.abs-cbn.com/ list: 96.1%\n",
      "Percent complete https://news.abs-cbn.com/ list: 96.5%\n",
      "Percent complete https://news.abs-cbn.com/ list: 96.9%\n",
      "Percent complete https://news.abs-cbn.com/ list: 97.2%\n",
      "Percent complete https://news.abs-cbn.com/ list: 97.6%\n",
      "Percent complete https://news.abs-cbn.com/ list: 98.0%\n",
      "Percent complete https://news.abs-cbn.com/ list: 98.4%\n",
      "Percent complete https://news.abs-cbn.com/ list: 98.8%\n",
      "Percent complete https://news.abs-cbn.com/ list: 99.2%\n",
      "Percent complete https://news.abs-cbn.com/ list: 99.6%\n",
      "Percent complete https://news.abs-cbn.com/ list: 100.0%\n",
      "\n",
      "COVID-19 NEWS ITEMS: \n"
     ]
    },
    {
     "data": {
      "text/html": [
       "<a href='https://www.mindanews.com/business/2020/05/50-non-essential-stores-closed-for-violating-ecq-rules-in-davao-city/'> 50 “non-essential” stores closed for violating ECQ rules in Davao City | MindaNews</a>"
      ],
      "text/plain": [
       "<IPython.core.display.HTML object>"
      ]
     },
     "metadata": {},
     "output_type": "display_data"
    },
    {
     "data": {
      "text/html": [
       "<a href='https://www.manilatimes.net/2020/07/11/news/latest-stories/600-ph-covid-19-patients-enrolled-in-who-solidarity-trial-dost/740407/'> 600 PH Covid-19 patients enrolled in WHO Solidarity Trial — DoST – The Manila Times</a>"
      ],
      "text/plain": [
       "<IPython.core.display.HTML object>"
      ]
     },
     "metadata": {},
     "output_type": "display_data"
    },
    {
     "data": {
      "text/html": [
       "<a href='https://www.eaglenews.ph/96-new-covid-19-cases-reported-among-overseas-filipinos-total-now-at-over-5300/'> 96 new COVID-19 cases reported among overseas Filipinos, total now at over 5,300</a>"
      ],
      "text/plain": [
       "<IPython.core.display.HTML object>"
      ]
     },
     "metadata": {},
     "output_type": "display_data"
    },
    {
     "data": {
      "text/html": [
       "<a href='https://www.manilatimes.net/2020/07/11/business/green-business/addressing-climate-related-disasters-in-covid-19-era/740222/'> Addressing climate-related disasters in Covid-19 era – The Manila Times</a>"
      ],
      "text/plain": [
       "<IPython.core.display.HTML object>"
      ]
     },
     "metadata": {},
     "output_type": "display_data"
    },
    {
     "data": {
      "text/html": [
       "<a href='https://edgedavao.net/community-sense/2020/04/22/alibaba-challenges-students-in-philippines-and-12-other-markets-to-create-solutions-for-a-post-covid-19-world/'> Alibaba challenges students in Philippines and 12 Other markets to create solutions for a post Covid-19 world - Edge Davao</a>"
      ],
      "text/plain": [
       "<IPython.core.display.HTML object>"
      ]
     },
     "metadata": {},
     "output_type": "display_data"
    },
    {
     "data": {
      "text/html": [
       "<a href='https://www.interaksyon.com/politics-issues/2020/07/09/172536/amid-high-unemployment-pandemic-layoffs-dela-rosa-tells-abs-cbn-workers-to-find-other-jobs/'> Amid high unemployment, pandemic layoffs, Dela Rosa tells ABS-CBN workers to find other jobs</a>"
      ],
      "text/plain": [
       "<IPython.core.display.HTML object>"
      ]
     },
     "metadata": {},
     "output_type": "display_data"
    },
    {
     "data": {
      "text/html": [
       "<a href='https://www.manilatimes.net/2020/07/12/weekly/the-sunday-times/cover-story/artistry-and-creativity-in-the-time-of-pandemic/740705/'> Artistry and creativity in the time of pandemic – The Manila Times</a>"
      ],
      "text/plain": [
       "<IPython.core.display.HTML object>"
      ]
     },
     "metadata": {},
     "output_type": "display_data"
    },
    {
     "data": {
      "text/html": [
       "<a href='https://www.eaglenews.ph/at-least-19-mrt-3-trains-to-run-in-metro-manila-amid-gcq-to-allow-social-distancing-says-dotr/'> At least 19 MRT-3 trains to run in Metro Manila amid GCQ to allow social distancing, says DOTr</a>"
      ],
      "text/plain": [
       "<IPython.core.display.HTML object>"
      ]
     },
     "metadata": {},
     "output_type": "display_data"
    },
    {
     "data": {
      "text/html": [
       "<a href='https://www.manilatimes.net/2020/07/12/news/world/australia-oks-remdesivir-vs-covid-19/740647/'> Australia OKs remdesivir vs Covid-19 – The Manila Times</a>"
      ],
      "text/plain": [
       "<IPython.core.display.HTML object>"
      ]
     },
     "metadata": {},
     "output_type": "display_data"
    },
    {
     "data": {
      "text/html": [
       "<a href='https://www.manilatimes.net/2020/07/12/public-square/beko-channels-grand-launch-budget-to-covid-19-fight-efforts/740765/'> Beko channels grand launch budget to Covid-19 fight efforts – The Manila Times</a>"
      ],
      "text/plain": [
       "<IPython.core.display.HTML object>"
      ]
     },
     "metadata": {},
     "output_type": "display_data"
    },
    {
     "data": {
      "text/html": [
       "<a href='https://www.eaglenews.ph/covid-19-cases-among-overseas-filipinos-now-at-5218-with-more-than-2100-recoveries-300-deaths/'> COVID-19 cases among overseas Filipinos now at 5,218, with more than 2,100 recoveries, 300 deaths</a>"
      ],
      "text/plain": [
       "<IPython.core.display.HTML object>"
      ]
     },
     "metadata": {},
     "output_type": "display_data"
    },
    {
     "data": {
      "text/html": [
       "<a href='https://www.eaglenews.ph/covid-19-cases-among-overseas-filipinos-reach-8803/'> COVID-19 cases among overseas Filipinos reach 8803</a>"
      ],
      "text/plain": [
       "<IPython.core.display.HTML object>"
      ]
     },
     "metadata": {},
     "output_type": "display_data"
    },
    {
     "data": {
      "text/html": [
       "<a href='https://www.eaglenews.ph/covid-19-special-report-learning-from-the-1918-1919-flu-pandemic-that-killed-50-million-worldwide/'> COVID-19 special report: Learning from the 1918-1919 Flu Pandemic that killed 50 million worldwide</a>"
      ],
      "text/plain": [
       "<IPython.core.display.HTML object>"
      ]
     },
     "metadata": {},
     "output_type": "display_data"
    },
    {
     "data": {
      "text/html": [
       "<a href='https://www.interaksyon.com/politics-issues/2020/07/08/172378/china-could-have-done-more-to-aid-worlds-covid-19-response-top-u-s-health-official-says/'> China could have done more to aid world's COVID-19 response, top U.S. health official says</a>"
      ],
      "text/plain": [
       "<IPython.core.display.HTML object>"
      ]
     },
     "metadata": {},
     "output_type": "display_data"
    },
    {
     "data": {
      "text/html": [
       "<a href='http://davaotoday.com/main/environment/coronavirus-affects-reshipment-of-korean-trash-customs-revenue-collection/'> Coronavirus affects reshipment of Korean trash, Customs revenue collection | Davao Today</a>"
      ],
      "text/plain": [
       "<IPython.core.display.HTML object>"
      ]
     },
     "metadata": {},
     "output_type": "display_data"
    },
    {
     "data": {
      "text/html": [
       "<a href='https://www.dailymotion.com/embed/video/x7ux1y9'> Dailymotion Video Player - Coronavirus cases in the Philippines spike, breach 50,000 | Evening wRap</a>"
      ],
      "text/plain": [
       "<IPython.core.display.HTML object>"
      ]
     },
     "metadata": {},
     "output_type": "display_data"
    },
    {
     "data": {
      "text/html": [
       "<a href='https://www.interaksyon.com/politics-issues/2020/07/09/172547/couple-privilege-motorcycle-backriding-allowed-in-gcq-mgcq-areas-starting-july-10/'> Couple privilege: Motorcycle backriding allowed in GCQ, MGCQ areas starting July 10</a>"
      ],
      "text/plain": [
       "<IPython.core.display.HTML object>"
      ]
     },
     "metadata": {},
     "output_type": "display_data"
    },
    {
     "data": {
      "text/html": [
       "<a href='https://www.eaglenews.ph/doh-reports-807-covid-19-recoveries-on-saturday-total-cases-reach-54222/'> DOH reports 807 COVID-19 recoveries on Saturday; total cases reach 54222</a>"
      ],
      "text/plain": [
       "<IPython.core.display.HTML object>"
      ]
     },
     "metadata": {},
     "output_type": "display_data"
    },
    {
     "data": {
      "text/html": [
       "<a href='http://davaotoday.com/main/economy/health/davao-city-joins-other-davao-provinces-under-mgcq/'> Davao City joins other Davao provinces under MGCQ | Davao Today</a>"
      ],
      "text/plain": [
       "<IPython.core.display.HTML object>"
      ]
     },
     "metadata": {},
     "output_type": "display_data"
    },
    {
     "data": {
      "text/html": [
       "<a href='https://www.mindanews.com/business/2020/05/davao-tourism-suffers-huge-drop-in-revenues-due-to-covid-19/'> Davao tourism suffers ‘huge drop’ in revenues due to COVID-19 | MindaNews</a>"
      ],
      "text/plain": [
       "<IPython.core.display.HTML object>"
      ]
     },
     "metadata": {},
     "output_type": "display_data"
    },
    {
     "data": {
      "text/html": [
       "<a href='http://davaotoday.com/main/economy/health/davaos-barangay-23-c-on-hard-lockdown-due-to-covid-19/'> Davao’s Barangay 23-C on ‘hard lockdown’ due to Covid-19 | Davao Today</a>"
      ],
      "text/plain": [
       "<IPython.core.display.HTML object>"
      ]
     },
     "metadata": {},
     "output_type": "display_data"
    },
    {
     "data": {
      "text/html": [
       "<a href='http://davaotoday.com/main/economy/health/davaos-barangay-23-c-on-hard-lockdown-due-to-covid-19/'> Davao’s Barangay 23-C on ‘hard lockdown’ due to Covid-19 | Davao Today</a>"
      ],
      "text/plain": [
       "<IPython.core.display.HTML object>"
      ]
     },
     "metadata": {},
     "output_type": "display_data"
    },
    {
     "data": {
      "text/html": [
       "<a href='https://www.manilatimes.net/2020/07/11/news/latest-stories/duque-visits-manila-hospitals-as-covid-19-cases-reach-54k/740611/'> Duque visits Manila hospitals as Covid-19 cases reach 54K – The Manila Times</a>"
      ],
      "text/plain": [
       "<IPython.core.display.HTML object>"
      ]
     },
     "metadata": {},
     "output_type": "display_data"
    },
    {
     "data": {
      "text/html": [
       "<a href='https://www.eaglenews.ph/ebc-photography-a-view-of-the-rhine-river-this-spring-amid-the-pandemic/'> EBC photography: A view of the Rhine River this spring amid the pandemic</a>"
      ],
      "text/plain": [
       "<IPython.core.display.HTML object>"
      ]
     },
     "metadata": {},
     "output_type": "display_data"
    },
    {
     "data": {
      "text/html": [
       "<a href='https://www.eaglenews.ph/european-union-donates-to-guatemala-72000-test-kits-to-detect-covid-19-cases/'> European Union donates to Guatemala 72,000 test kits to detect COVID-19 cases</a>"
      ],
      "text/plain": [
       "<IPython.core.display.HTML object>"
      ]
     },
     "metadata": {},
     "output_type": "display_data"
    },
    {
     "data": {
      "text/html": [
       "<a href='http://davaotoday.com/main/todays-views/fertilizer-scam-pandemic-edition/'> Fertilizer scam, pandemic edition | Davao Today</a>"
      ],
      "text/plain": [
       "<IPython.core.display.HTML object>"
      ]
     },
     "metadata": {},
     "output_type": "display_data"
    },
    {
     "data": {
      "text/html": [
       "<a href='https://www.eaglenews.ph/fighting-coronavirus-dreaming-of-olympics-meet-japans-boxing-nurse/'> Fighting coronavirus, dreaming of Olympics: meet Japan's boxing nurse</a>"
      ],
      "text/plain": [
       "<IPython.core.display.HTML object>"
      ]
     },
     "metadata": {},
     "output_type": "display_data"
    },
    {
     "data": {
      "text/html": [
       "<a href='https://www.eaglenews.ph/flying-back-to-the-philippines-during-the-covid-19-pandemic-what-to-expect-in-the-new-normal/'> Flying back to the Philippines during the COVID-19 pandemic: what to expect in the \"new normal\"</a>"
      ],
      "text/plain": [
       "<IPython.core.display.HTML object>"
      ]
     },
     "metadata": {},
     "output_type": "display_data"
    },
    {
     "data": {
      "text/html": [
       "<a href='https://www.eaglenews.ph/france-uncovers-massive-fraud-of-coronavirus-wage-payouts/'> France uncovers 'massive fraud' of coronavirus wage payouts</a>"
      ],
      "text/plain": [
       "<IPython.core.display.HTML object>"
      ]
     },
     "metadata": {},
     "output_type": "display_data"
    },
    {
     "data": {
      "text/html": [
       "<a href='http://davaotoday.com/main/culture-2/entertainment/health-advocates-want-test-centers-in-every-region-vs-covid-19/'> Health advocates want test centers in every region vs COVID-19 | Davao Today</a>"
      ],
      "text/plain": [
       "<IPython.core.display.HTML object>"
      ]
     },
     "metadata": {},
     "output_type": "display_data"
    },
    {
     "data": {
      "text/html": [
       "<a href='https://www.interaksyon.com/trends-spotlights/2020/07/08/172405/howie-severinos-arrest-juxtaposed-with-other-high-profile-ecq-violators/'> Howie Severino's 'arrest' juxtaposed with other high-profile ECQ violators</a>"
      ],
      "text/plain": [
       "<IPython.core.display.HTML object>"
      ]
     },
     "metadata": {},
     "output_type": "display_data"
    },
    {
     "data": {
      "text/html": [
       "<a href='https://www.interaksyon.com/hobbies-interests/2020/07/09/172262/if-health-equals-happiness-will-coronavirus-make-the-world-an-unhappier-place/'> If health equals happiness, will coronavirus make the world an unhappier place?</a>"
      ],
      "text/plain": [
       "<IPython.core.display.HTML object>"
      ]
     },
     "metadata": {},
     "output_type": "display_data"
    },
    {
     "data": {
      "text/html": [
       "<a href='https://www.eaglenews.ph/iglesia-ni-cristo-church-of-christ-in-hawaii-conducts-contact-free-aid-to-humanity-during-covid-19-crisis/'> Iglesia Ni Cristo (Church Of Christ) in Hawaii conducts contact-free Aid to Humanity during COVID-19 crisis</a>"
      ],
      "text/plain": [
       "<IPython.core.display.HTML object>"
      ]
     },
     "metadata": {},
     "output_type": "display_data"
    },
    {
     "data": {
      "text/html": [
       "<a href='https://www.eaglenews.ph/in-photos-president-duterte-undergoes-covid-19-test-along-with-sen-bong-go/'> In photos: President Duterte undergoes COVID-19 test, along with Sen. Bong Go</a>"
      ],
      "text/plain": [
       "<IPython.core.display.HTML object>"
      ]
     },
     "metadata": {},
     "output_type": "display_data"
    },
    {
     "data": {
      "text/html": [
       "<a href='https://www.dailymotion.com/embed/video/x7uw9l2'> Dailymotion Video Player - Joy Belmonte, Jair Bolsonaro test positive for coronavirus  | Evening wRap</a>"
      ],
      "text/plain": [
       "<IPython.core.display.HTML object>"
      ]
     },
     "metadata": {},
     "output_type": "display_data"
    },
    {
     "data": {
      "text/html": [
       "<a href='https://www.eaglenews.ph/kids-in-malaysia-talk-about-covid-19-and-why-they-cannot-go-out/'> Kids in Malaysia talk about COVID-19 and why they cannot go out</a>"
      ],
      "text/plain": [
       "<IPython.core.display.HTML object>"
      ]
     },
     "metadata": {},
     "output_type": "display_data"
    },
    {
     "data": {
      "text/html": [
       "<a href='https://www.eaglenews.ph/ltfrb-central-office-in-qc-to-temporarily-suspend-ops-starting-monday-july-13-after-five-test-positive-for-covid-19/'> LTFRB central office in QC to temporarily suspend ops starting Monday, July 13, after five test positive for COVID-19</a>"
      ],
      "text/plain": [
       "<IPython.core.display.HTML object>"
      ]
     },
     "metadata": {},
     "output_type": "display_data"
    },
    {
     "data": {
      "text/html": [
       "<a href='https://www.eaglenews.ph/liquor-ban-still-in-place-in-manila-amid-gcq/'> Liquor ban still in place in Manila amid GCQ</a>"
      ],
      "text/plain": [
       "<IPython.core.display.HTML object>"
      ]
     },
     "metadata": {},
     "output_type": "display_data"
    },
    {
     "data": {
      "text/html": [
       "<a href='https://www.eaglenews.ph/manila-to-close-business-establishments-lock-down-barangays-violating-quarantine-rules/'> Manila to close business establishments, lock down barangays violating quarantine rules</a>"
      ],
      "text/plain": [
       "<IPython.core.display.HTML object>"
      ]
     },
     "metadata": {},
     "output_type": "display_data"
    },
    {
     "data": {
      "text/html": [
       "<a href='https://www.mindanews.com/top-stories/2020/07/mayor-sara-covid-19-situation-not-yet-under-control/'> Mayor Sara: COVID-19 situation not yet under control | MindaNews</a>"
      ],
      "text/plain": [
       "<IPython.core.display.HTML object>"
      ]
     },
     "metadata": {},
     "output_type": "display_data"
    },
    {
     "data": {
      "text/html": [
       "<a href='https://www.eaglenews.ph/more-than-2300-new-covid-19-cases-reported-among-overseas-filipinos-in-a-day/'> More than 2,300 new COVID-19 cases reported among overseas Filipinos in a day</a>"
      ],
      "text/plain": [
       "<IPython.core.display.HTML object>"
      ]
     },
     "metadata": {},
     "output_type": "display_data"
    },
    {
     "data": {
      "text/html": [
       "<a href='https://www.eaglenews.ph/no-new-covid-19-cases-fatalities-recorded-for-the-day-among-overseas-filipinos-dfa/'> No new COVID-19 cases, fatalities recorded for the day among overseas Filipinos: DFA</a>"
      ],
      "text/plain": [
       "<IPython.core.display.HTML object>"
      ]
     },
     "metadata": {},
     "output_type": "display_data"
    },
    {
     "data": {
      "text/html": [
       "<a href='https://www.eaglenews.ph/pnp-recruitment-and-training-programs-to-resume-as-ncr-eases-to-gcq-on-june-1/'> PNP recruitment and training programs to resume as NCR eases to GCQ on June 1</a>"
      ],
      "text/plain": [
       "<IPython.core.display.HTML object>"
      ]
     },
     "metadata": {},
     "output_type": "display_data"
    },
    {
     "data": {
      "text/html": [
       "<a href='https://www.eaglenews.ph/pnp-reports-1044-covid-19-cases-in-its-ranks/'> PNP reports 1044 COVID-19 cases in its ranks</a>"
      ],
      "text/plain": [
       "<IPython.core.display.HTML object>"
      ]
     },
     "metadata": {},
     "output_type": "display_data"
    },
    {
     "data": {
      "text/html": [
       "<a href='https://www.manilatimes.net/2020/07/12/legal-advice/dearpao/pwds-exempted-from-personal-appearance-in-availing-of-discount-amid-pandemic/740524/'> PWDs exempted from personal appearance in availing of discount amid pandemic – The Manila Times</a>"
      ],
      "text/plain": [
       "<IPython.core.display.HTML object>"
      ]
     },
     "metadata": {},
     "output_type": "display_data"
    },
    {
     "data": {
      "text/html": [
       "<a href='http://tempo.com.ph/2020/07/11/clearing-our-crowded-jails-in-this-pandemic/'>   Clearing our crowded jails in this pandemic | Tempo – The Nation's Fastest Growing Newspaper</a>"
      ],
      "text/plain": [
       "<IPython.core.display.HTML object>"
      ]
     },
     "metadata": {},
     "output_type": "display_data"
    },
    {
     "data": {
      "text/html": [
       "<a href='http://davaotoday.com/main/culture-2/entertainment/health-advocates-want-test-centers-in-every-region-vs-covid-19/'> Health advocates want test centers in every region vs COVID-19 | Davao Today</a>"
      ],
      "text/plain": [
       "<IPython.core.display.HTML object>"
      ]
     },
     "metadata": {},
     "output_type": "display_data"
    },
    {
     "data": {
      "text/html": [
       "<a href='https://philnews.ph/2020/07/11/penalties-in-violations-of-motorcycle-guidelines-during-quarantine/'> Penalties In Violations Of Motorcycle Guidelines During Quarantine</a>"
      ],
      "text/plain": [
       "<IPython.core.display.HTML object>"
      ]
     },
     "metadata": {},
     "output_type": "display_data"
    },
    {
     "data": {
      "text/html": [
       "<a href='http://davaotoday.com/main/headline/up-mindanao-postpones-events-in-wake-of-covid-19-threat/'> UP Mindanao postpones events in wake of COVID-19 threat | Davao Today</a>"
      ],
      "text/plain": [
       "<IPython.core.display.HTML object>"
      ]
     },
     "metadata": {},
     "output_type": "display_data"
    },
    {
     "data": {
      "text/html": [
       "<a href='https://www.interaksyon.com/politics-issues/2020/07/09/172493/philippines-to-borrow-more-to-cover-coronavirus-response/'> Philippines to borrow more to cover COVID-19 response</a>"
      ],
      "text/plain": [
       "<IPython.core.display.HTML object>"
      ]
     },
     "metadata": {},
     "output_type": "display_data"
    },
    {
     "data": {
      "text/html": [
       "<a href='https://www.eaglenews.ph/powerful-quake-damages-buildings-in-croatia-capital-amid-coronavirus-scare/'> Powerful quake damages buildings in Croatia capital amid coronavirus scare</a>"
      ],
      "text/plain": [
       "<IPython.core.display.HTML object>"
      ]
     },
     "metadata": {},
     "output_type": "display_data"
    },
    {
     "data": {
      "text/html": [
       "<a href='https://edgedavao.net/latest-news/2020/07/04/sexual-abuse-among-children-amid-the-pandemic-on-the-rise/'> Sexual abuse among children amid the pandemic on the rise - Edge Davao</a>"
      ],
      "text/plain": [
       "<IPython.core.display.HTML object>"
      ]
     },
     "metadata": {},
     "output_type": "display_data"
    },
    {
     "data": {
      "text/html": [
       "<a href='https://www.mindanews.com/business/2020/07/socssksargen-investments-php-1-93-b-in-q1-2019-php-69-m-in-q1-2020-due-to-covid-19/'> Socssksargen investments: PhP 1.93-B in Q1 2019. PhP 69-M in Q1 2020 due to COVID-19 | MindaNews</a>"
      ],
      "text/plain": [
       "<IPython.core.display.HTML object>"
      ]
     },
     "metadata": {},
     "output_type": "display_data"
    },
    {
     "data": {
      "text/html": [
       "<a href='https://edgedavao.net/competitive-edge/2020/07/01/splash-corp-makes-nationwide-donation-as-hospitals-continue-to-battle-covid-19/'> Splash Corp. Makes Nationwide Donation as Hospitals Continue to Battle COVID-19 - Edge Davao</a>"
      ],
      "text/plain": [
       "<IPython.core.display.HTML object>"
      ]
     },
     "metadata": {},
     "output_type": "display_data"
    },
    {
     "data": {
      "text/html": [
       "<a href='https://www.eaglenews.ph/stress-free-quarantine-tips-for-parents/'> Stress-free quarantine tips for parents</a>"
      ],
      "text/plain": [
       "<IPython.core.display.HTML object>"
      ]
     },
     "metadata": {},
     "output_type": "display_data"
    },
    {
     "data": {
      "text/html": [
       "<a href='https://www.mindanews.com/mindaviews/2020/07/turning-point-pandemic-distancing-in-education/'> TURNING POINT: Pandemic Distancing in Education | MindaNews</a>"
      ],
      "text/plain": [
       "<IPython.core.display.HTML object>"
      ]
     },
     "metadata": {},
     "output_type": "display_data"
    },
    {
     "data": {
      "text/html": [
       "<a href='https://edgedavao.net/sports/2020/04/04/temporarily-closed-down-arcadia-fitness-gym-backs-covid-19-fight/'> Temporarily closed down Arcadia Fitness Gym backs Covid-19 fight - Edge Davao</a>"
      ],
      "text/plain": [
       "<IPython.core.display.HTML object>"
      ]
     },
     "metadata": {},
     "output_type": "display_data"
    },
    {
     "data": {
      "text/html": [
       "<a href='https://www.interaksyon.com/trends-spotlights/2020/07/10/172575/the-hammer-and-dance-theory-vs-coronavirus-according-to-harry-roque/'> The 'hammer and dance' theory vs coronavirus, according to Harry Roque</a>"
      ],
      "text/plain": [
       "<IPython.core.display.HTML object>"
      ]
     },
     "metadata": {},
     "output_type": "display_data"
    },
    {
     "data": {
      "text/html": [
       "<a href='https://www.eaglenews.ph/total-covid-19-cases-among-overseas-filipinos-reach-5230-more-than-half-undergoing-treatment/'> Total COVID-19 cases among overseas Filipinos reach 5,230, more than half undergoing treatment</a>"
      ],
      "text/plain": [
       "<IPython.core.display.HTML object>"
      ]
     },
     "metadata": {},
     "output_type": "display_data"
    },
    {
     "data": {
      "text/html": [
       "<a href='http://davaotoday.com/main/headline/up-mindanao-postpones-events-in-wake-of-covid-19-threat/'> UP Mindanao postpones events in wake of COVID-19 threat | Davao Today</a>"
      ],
      "text/plain": [
       "<IPython.core.display.HTML object>"
      ]
     },
     "metadata": {},
     "output_type": "display_data"
    },
    {
     "data": {
      "text/html": [
       "<a href='http://davaotoday.com/main/economy/health/up-scientists-to-roque-statistics-show-ph-not-winning-vs-covid-19/'> UP scientists to Roque: statistics show PH not winning vs Covid-19 | Davao Today</a>"
      ],
      "text/plain": [
       "<IPython.core.display.HTML object>"
      ]
     },
     "metadata": {},
     "output_type": "display_data"
    },
    {
     "data": {
      "text/html": [
       "<a href='https://www.eaglenews.ph/us-government-to-give-additional-p201-million-covid-19-aid-for-mindanao/'> US government to give additional P201 million COVID-19 aid for Mindanao</a>"
      ],
      "text/plain": [
       "<IPython.core.display.HTML object>"
      ]
     },
     "metadata": {},
     "output_type": "display_data"
    },
    {
     "name": "stdout",
     "output_type": "stream",
     "text": [
      "\n",
      "AUTHORITARIANISM/ DEMOCRACY THREAT NEWS ITEMS: \n"
     ]
    },
    {
     "data": {
      "text/html": [
       "<a href='https://www.interaksyon.com/politics-issues/2020/07/09/172536/amid-high-unemployment-pandemic-layoffs-dela-rosa-tells-abs-cbn-workers-to-find-other-jobs/'> Amid high unemployment, pandemic layoffs, Dela Rosa tells ABS-CBN workers to find other jobs</a>"
      ],
      "text/plain": [
       "<IPython.core.display.HTML object>"
      ]
     },
     "metadata": {},
     "output_type": "display_data"
    },
    {
     "data": {
      "text/html": [
       "<a href='https://www.mindanews.com/peace-process/2020/06/bangsamoro-parliament-has-yet-to-act-on-resolution-expressing-grave-concern-over-proposed-anti-terrorism-act/'> Bangsamoro Parliament has yet to act on resolution expressing “grave concern” over proposed Anti-Terrorism Act | MindaNews</a>"
      ],
      "text/plain": [
       "<IPython.core.display.HTML object>"
      ]
     },
     "metadata": {},
     "output_type": "display_data"
    },
    {
     "data": {
      "text/html": [
       "<a href='https://www.manilatimes.net/2020/07/12/news/top-stories/bong-go-to-continue-mission-of-service/740531/'> Bong Go to continue ‘mission of service’ – The Manila Times</a>"
      ],
      "text/plain": [
       "<IPython.core.display.HTML object>"
      ]
     },
     "metadata": {},
     "output_type": "display_data"
    },
    {
     "data": {
      "text/html": [
       "<a href='https://www.mindanews.com/peace-process/2020/01/ceasefire-holding-sison-says-he-is-ready-to-meet-duterte-in-hanoi/'> Ceasefire holding; Sison says he is ready to meet Duterte in Hanoi   | MindaNews</a>"
      ],
      "text/plain": [
       "<IPython.core.display.HTML object>"
      ]
     },
     "metadata": {},
     "output_type": "display_data"
    },
    {
     "data": {
      "text/html": [
       "<a href='http://davaotoday.com/main/politics/church-moro-groups-in-region-10-slam-anti-terror-law/'> Church, Moro groups in Region 10 slam Anti-Terror Law | Davao Today</a>"
      ],
      "text/plain": [
       "<IPython.core.display.HTML object>"
      ]
     },
     "metadata": {},
     "output_type": "display_data"
    },
    {
     "data": {
      "text/html": [
       "<a href='https://www.mindanews.com/booksmindanews/2019/11/duterte-has-no-meranaw-roots-book-author-says/'> Duterte has no Meranaw roots, book author says | MindaNews</a>"
      ],
      "text/plain": [
       "<IPython.core.display.HTML object>"
      ]
     },
     "metadata": {},
     "output_type": "display_data"
    },
    {
     "data": {
      "text/html": [
       "<a href='https://www.interaksyon.com/politics-issues/2020/07/08/172391/duterte-warns-filipinos-of-higher-travel-costs-after-govt-lifts-ban-on-overseas-trips/'> Duterte warns of risks of non-essential travel shortly after government lifted ban</a>"
      ],
      "text/plain": [
       "<IPython.core.display.HTML object>"
      ]
     },
     "metadata": {},
     "output_type": "display_data"
    },
    {
     "data": {
      "text/html": [
       "<a href='http://davaotoday.com/main/politics/four-petitions-from-lawyers-groups-challenge-anti-terror-law-at-supreme-court/'> Four petitions from lawyers’ groups challenge Anti-Terror Law at Supreme Court | Davao Today</a>"
      ],
      "text/plain": [
       "<IPython.core.display.HTML object>"
      ]
     },
     "metadata": {},
     "output_type": "display_data"
    },
    {
     "data": {
      "text/html": [
       "<a href='https://www.dailymotion.com/embed/video/x7uuoxs'> Dailymotion Video Player - Groups file Supreme Court petitions vs anti-terror law | Evening wRap</a>"
      ],
      "text/plain": [
       "<IPython.core.display.HTML object>"
      ]
     },
     "metadata": {},
     "output_type": "display_data"
    },
    {
     "data": {
      "text/html": [
       "<a href='http://davaotoday.com/main/politics/groups-raise-alarm-as-duterte-signs-anti-terror-law/'> Groups raise alarm as Duterte signs anti-terror law | Davao Today</a>"
      ],
      "text/plain": [
       "<IPython.core.display.HTML object>"
      ]
     },
     "metadata": {},
     "output_type": "display_data"
    },
    {
     "data": {
      "text/html": [
       "<a href='https://www.interaksyon.com/politics-issues/2020/07/10/172592/house-nears-vote-on-fate-of-abs-cbn-that-clashed-with-duterte/'> House nears vote on fate of ABS-CBN that clashed with Duterte</a>"
      ],
      "text/plain": [
       "<IPython.core.display.HTML object>"
      ]
     },
     "metadata": {},
     "output_type": "display_data"
    },
    {
     "data": {
      "text/html": [
       "<a href='https://www.interaksyon.com/trends-spotlights/2020/07/08/172369/how-local-news-outlets-updated-filipinos-on-delayed-telecast-dutertes-taped-national-address/'> How local news outlets updated Filipinos on delayed telecast of Duterte's taped national address</a>"
      ],
      "text/plain": [
       "<IPython.core.display.HTML object>"
      ]
     },
     "metadata": {},
     "output_type": "display_data"
    },
    {
     "data": {
      "text/html": [
       "<a href='https://www.eaglenews.ph/in-photos-president-duterte-undergoes-covid-19-test-along-with-sen-bong-go/'> In photos: President Duterte undergoes COVID-19 test, along with Sen. Bong Go</a>"
      ],
      "text/plain": [
       "<IPython.core.display.HTML object>"
      ]
     },
     "metadata": {},
     "output_type": "display_data"
    },
    {
     "data": {
      "text/html": [
       "<a href='https://www.eaglenews.ph/in-photos-president-duterte-speaks-to-chinese-leader-xi-over-the-phone/'> In photos: President Duterte speaks to Chinese leader Xi over the phone</a>"
      ],
      "text/plain": [
       "<IPython.core.display.HTML object>"
      ]
     },
     "metadata": {},
     "output_type": "display_data"
    },
    {
     "data": {
      "text/html": [
       "<a href='http://davaotoday.com/main/politics/indigenous-moro-groups-fear-anti-terror-law-repeating-past-abuses/'> Indigenous, Moro groups fear Anti-Terror Law repeating past abuses | Davao Today</a>"
      ],
      "text/plain": [
       "<IPython.core.display.HTML object>"
      ]
     },
     "metadata": {},
     "output_type": "display_data"
    },
    {
     "data": {
      "text/html": [
       "<a href='http://davaotoday.com/main/politics/church-moro-groups-in-region-10-slam-anti-terror-law/'> Church, Moro groups in Region 10 slam Anti-Terror Law | Davao Today</a>"
      ],
      "text/plain": [
       "<IPython.core.display.HTML object>"
      ]
     },
     "metadata": {},
     "output_type": "display_data"
    },
    {
     "data": {
      "text/html": [
       "<a href='https://www.eaglenews.ph/president-duterte-favors-slow-very-circumspect-reopening-of-the-economy/'> President Duterte favors slow, \"very circumspect\" reopening of the economy</a>"
      ],
      "text/plain": [
       "<IPython.core.display.HTML object>"
      ]
     },
     "metadata": {},
     "output_type": "display_data"
    },
    {
     "data": {
      "text/html": [
       "<a href='http://retiredanalyst.blogspot.com/2020/07/cppcio-duterte-demonstrates-how-his.html'> Retired Analyst: CPP/CIO: Duterte demonstrates how his terror law will be used and abused</a>"
      ],
      "text/plain": [
       "<IPython.core.display.HTML object>"
      ]
     },
     "metadata": {},
     "output_type": "display_data"
    },
    {
     "data": {
      "text/html": [
       "<a href='http://retiredanalyst.blogspot.com/2020/07/dutertes-anti-terror-law-necessary.html'> Retired Analyst: Duterte’s Anti-Terror Law Necessary: Analyst</a>"
      ],
      "text/plain": [
       "<IPython.core.display.HTML object>"
      ]
     },
     "metadata": {},
     "output_type": "display_data"
    },
    {
     "data": {
      "text/html": [
       "<a href='http://retiredanalyst.blogspot.com/2020/07/ndfsison-duterte-is-in-rush-to-fascist.html'> Retired Analyst: NDF/Sison: Duterte is in rush to fascist dictatorship but conditions are favourable for resistance</a>"
      ],
      "text/plain": [
       "<IPython.core.display.HTML object>"
      ]
     },
     "metadata": {},
     "output_type": "display_data"
    },
    {
     "data": {
      "text/html": [
       "<a href='http://retiredanalyst.blogspot.com/2020/07/philippine-court-asked-to-annul-anti.html'> Retired Analyst: Philippine Court Asked to Annul Anti-Terror Law Amid Concerns It Will Target Dissidents </a>"
      ],
      "text/plain": [
       "<IPython.core.display.HTML object>"
      ]
     },
     "metadata": {},
     "output_type": "display_data"
    },
    {
     "data": {
      "text/html": [
       "<a href='https://www.eaglenews.ph/senator-dela-rosa-posts-photo-of-pnp-chief-gamboa-in-hospital-to-show-that-hes-okay/'> Senator Dela Rosa posts photo of PNP chief Gamboa in hospital to show that he's okay</a>"
      ],
      "text/plain": [
       "<IPython.core.display.HTML object>"
      ]
     },
     "metadata": {},
     "output_type": "display_data"
    },
    {
     "data": {
      "text/html": [
       "<a href='http://davaotoday.com/main/todays-views/terrorizing-the-people-with-the-anti-terror-bill/'> Terrorizing the people with the anti-terror bill | Davao Today</a>"
      ],
      "text/plain": [
       "<IPython.core.display.HTML object>"
      ]
     },
     "metadata": {},
     "output_type": "display_data"
    },
    {
     "data": {
      "text/html": [
       "<a href='http://davaotoday.com/main/human-rights/union-slams-red-tagging-by-vice-mayor-during-labor-settlement/'> Union slams red-tagging by vice mayor during labor settlement | Davao Today</a>"
      ],
      "text/plain": [
       "<IPython.core.display.HTML object>"
      ]
     },
     "metadata": {},
     "output_type": "display_data"
    },
    {
     "name": "stdout",
     "output_type": "stream",
     "text": [
      "\n",
      "CHINA THREAT TO THE PHILIPPINES NEWS ITEMS: \n"
     ]
    },
    {
     "data": {
      "text/html": [
       "<a href='http://retiredanalyst.blogspot.com/2020/07/ph-navy-christens-first-ever-brand-new.html'> Retired Analyst: PH Navy christens first-ever brand new frigate, BRP Jose Rizal</a>"
      ],
      "text/plain": [
       "<IPython.core.display.HTML object>"
      ]
     },
     "metadata": {},
     "output_type": "display_data"
    },
    {
     "data": {
      "text/html": [
       "<a href='https://www.eaglenews.ph/us-aircraft-carriers-conduct-drills-in-south-china-sea/'> US aircraft carriers conduct drills in South China Sea</a>"
      ],
      "text/plain": [
       "<IPython.core.display.HTML object>"
      ]
     },
     "metadata": {},
     "output_type": "display_data"
    },
    {
     "name": "stdout",
     "output_type": "stream",
     "text": [
      "\n",
      "CHRISTIAN AND RELIGIOUS GROUPS NEWS ITEMS: \n"
     ]
    },
    {
     "data": {
      "text/html": [
       "<a href='https://www.eaglenews.ph/iglesia-ni-cristo-church-of-christ-in-hawaii-conducts-contact-free-aid-to-humanity-during-covid-19-crisis/'> Iglesia Ni Cristo (Church Of Christ) in Hawaii conducts contact-free Aid to Humanity during COVID-19 crisis</a>"
      ],
      "text/plain": [
       "<IPython.core.display.HTML object>"
      ]
     },
     "metadata": {},
     "output_type": "display_data"
    },
    {
     "data": {
      "text/html": [
       "<a href='https://www.eaglenews.ph/iglesia-ni-cristo-in-taiwan-holds-lingap-for-ofws/'> Iglesia Ni Cristo in Taiwan holds \"Lingap for OFWs\"</a>"
      ],
      "text/plain": [
       "<IPython.core.display.HTML object>"
      ]
     },
     "metadata": {},
     "output_type": "display_data"
    },
    {
     "data": {
      "text/html": [
       "<a href='https://www.eaglenews.ph/in-photos-iglesia-ni-cristo-starts-lingap-sa-mamamayan-to-help-those-affected-by-mindanao-quakes/'> In photos: Iglesia Ni Cristo starts \"Lingap sa Mamamayan\" to help those affected by Mindanao quakes</a>"
      ],
      "text/plain": [
       "<IPython.core.display.HTML object>"
      ]
     },
     "metadata": {},
     "output_type": "display_data"
    },
    {
     "name": "stdout",
     "output_type": "stream",
     "text": [
      "\n",
      "ECONOMY NEWS ITEMS: \n"
     ]
    },
    {
     "data": {
      "text/html": [
       "<a href='https://www.interaksyon.com/politics-issues/2020/07/09/172536/amid-high-unemployment-pandemic-layoffs-dela-rosa-tells-abs-cbn-workers-to-find-other-jobs/'> Amid high unemployment, pandemic layoffs, Dela Rosa tells ABS-CBN workers to find other jobs</a>"
      ],
      "text/plain": [
       "<IPython.core.display.HTML object>"
      ]
     },
     "metadata": {},
     "output_type": "display_data"
    },
    {
     "data": {
      "text/html": [
       "<a href='https://www.interaksyon.com/politics-issues/2020/07/09/172547/couple-privilege-motorcycle-backriding-allowed-in-gcq-mgcq-areas-starting-july-10/'> Couple privilege: Motorcycle backriding allowed in GCQ, MGCQ areas starting July 10</a>"
      ],
      "text/plain": [
       "<IPython.core.display.HTML object>"
      ]
     },
     "metadata": {},
     "output_type": "display_data"
    },
    {
     "data": {
      "text/html": [
       "<a href='http://davaotoday.com/main/politics/indigenous-moro-groups-fear-anti-terror-law-repeating-past-abuses/'> Indigenous, Moro groups fear Anti-Terror Law repeating past abuses | Davao Today</a>"
      ],
      "text/plain": [
       "<IPython.core.display.HTML object>"
      ]
     },
     "metadata": {},
     "output_type": "display_data"
    },
    {
     "data": {
      "text/html": [
       "<a href='https://www.eaglenews.ph/president-duterte-favors-slow-very-circumspect-reopening-of-the-economy/'> President Duterte favors slow, \"very circumspect\" reopening of the economy</a>"
      ],
      "text/plain": [
       "<IPython.core.display.HTML object>"
      ]
     },
     "metadata": {},
     "output_type": "display_data"
    },
    {
     "data": {
      "text/html": [
       "<a href='https://www.mindanews.com/business/2020/07/socssksargen-investments-php-1-93-b-in-q1-2019-php-69-m-in-q1-2020-due-to-covid-19/'> Socssksargen investments: PhP 1.93-B in Q1 2019. PhP 69-M in Q1 2020 due to COVID-19 | MindaNews</a>"
      ],
      "text/plain": [
       "<IPython.core.display.HTML object>"
      ]
     },
     "metadata": {},
     "output_type": "display_data"
    },
    {
     "name": "stdout",
     "output_type": "stream",
     "text": [
      "\n",
      "INSURGENCY RELATED NEWS ITEMS: \n"
     ]
    },
    {
     "data": {
      "text/html": [
       "<a href='https://www.mindanews.com/peace-process/2020/06/bangsamoro-parliament-has-yet-to-act-on-resolution-expressing-grave-concern-over-proposed-anti-terrorism-act/'> Bangsamoro Parliament has yet to act on resolution expressing “grave concern” over proposed Anti-Terrorism Act | MindaNews</a>"
      ],
      "text/plain": [
       "<IPython.core.display.HTML object>"
      ]
     },
     "metadata": {},
     "output_type": "display_data"
    },
    {
     "data": {
      "text/html": [
       "<a href='http://davaotoday.com/main/politics/church-moro-groups-in-region-10-slam-anti-terror-law/'> Church, Moro groups in Region 10 slam Anti-Terror Law | Davao Today</a>"
      ],
      "text/plain": [
       "<IPython.core.display.HTML object>"
      ]
     },
     "metadata": {},
     "output_type": "display_data"
    },
    {
     "data": {
      "text/html": [
       "<a href='http://davaotoday.com/main/politics/four-petitions-from-lawyers-groups-challenge-anti-terror-law-at-supreme-court/'> Four petitions from lawyers’ groups challenge Anti-Terror Law at Supreme Court | Davao Today</a>"
      ],
      "text/plain": [
       "<IPython.core.display.HTML object>"
      ]
     },
     "metadata": {},
     "output_type": "display_data"
    },
    {
     "data": {
      "text/html": [
       "<a href='https://www.dailymotion.com/embed/video/x7uuoxs'> Dailymotion Video Player - Groups file Supreme Court petitions vs anti-terror law | Evening wRap</a>"
      ],
      "text/plain": [
       "<IPython.core.display.HTML object>"
      ]
     },
     "metadata": {},
     "output_type": "display_data"
    },
    {
     "data": {
      "text/html": [
       "<a href='http://davaotoday.com/main/politics/groups-raise-alarm-as-duterte-signs-anti-terror-law/'> Groups raise alarm as Duterte signs anti-terror law | Davao Today</a>"
      ],
      "text/plain": [
       "<IPython.core.display.HTML object>"
      ]
     },
     "metadata": {},
     "output_type": "display_data"
    },
    {
     "data": {
      "text/html": [
       "<a href='http://davaotoday.com/main/politics/indigenous-moro-groups-fear-anti-terror-law-repeating-past-abuses/'> Indigenous, Moro groups fear Anti-Terror Law repeating past abuses | Davao Today</a>"
      ],
      "text/plain": [
       "<IPython.core.display.HTML object>"
      ]
     },
     "metadata": {},
     "output_type": "display_data"
    },
    {
     "data": {
      "text/html": [
       "<a href='https://www.manilatimes.net/2020/07/11/news/latest-stories/pnpa-plebe-activities-halted-due-to-cadet-deaths/740676/'> PNPA plebe activities halted due to cadet deaths – The Manila Times</a>"
      ],
      "text/plain": [
       "<IPython.core.display.HTML object>"
      ]
     },
     "metadata": {},
     "output_type": "display_data"
    },
    {
     "data": {
      "text/html": [
       "<a href='http://davaotoday.com/main/politics/church-moro-groups-in-region-10-slam-anti-terror-law/'> Church, Moro groups in Region 10 slam Anti-Terror Law | Davao Today</a>"
      ],
      "text/plain": [
       "<IPython.core.display.HTML object>"
      ]
     },
     "metadata": {},
     "output_type": "display_data"
    },
    {
     "data": {
      "text/html": [
       "<a href='http://tempo.com.ph/2020/07/11/firms-helping-npa-warned/'>   Firms helping NPA warned | Tempo – The Nation's Fastest Growing Newspaper</a>"
      ],
      "text/plain": [
       "<IPython.core.display.HTML object>"
      ]
     },
     "metadata": {},
     "output_type": "display_data"
    },
    {
     "data": {
      "text/html": [
       "<a href='http://retiredanalyst.blogspot.com/2020/07/4-police-frontliners-parry-npa-attack.html'> Retired Analyst: 4 police frontliners parry NPA attack in Misamis Occidental</a>"
      ],
      "text/plain": [
       "<IPython.core.display.HTML object>"
      ]
     },
     "metadata": {},
     "output_type": "display_data"
    },
    {
     "data": {
      "text/html": [
       "<a href='http://retiredanalyst.blogspot.com/2020/07/dutertes-anti-terror-law-necessary.html'> Retired Analyst: Duterte’s Anti-Terror Law Necessary: Analyst</a>"
      ],
      "text/plain": [
       "<IPython.core.display.HTML object>"
      ]
     },
     "metadata": {},
     "output_type": "display_data"
    },
    {
     "data": {
      "text/html": [
       "<a href='http://retiredanalyst.blogspot.com/2020/07/karapatan-sayspastor-accused-of.html'> Retired Analyst: KARAPATAN SAYS//Pastor accused of involvement in ambush staged by NPA rebels nabbed in CamSur  </a>"
      ],
      "text/plain": [
       "<IPython.core.display.HTML object>"
      ]
     },
     "metadata": {},
     "output_type": "display_data"
    },
    {
     "data": {
      "text/html": [
       "<a href='http://retiredanalyst.blogspot.com/2020/07/kalinaw-news-army-recovers-abandon-dead.html'> Retired Analyst: Kalinaw News: Army recovers abandon dead NPA in ZamBo Norte </a>"
      ],
      "text/plain": [
       "<IPython.core.display.HTML object>"
      ]
     },
     "metadata": {},
     "output_type": "display_data"
    },
    {
     "data": {
      "text/html": [
       "<a href='http://retiredanalyst.blogspot.com/2020/07/kalinaw-news-four-high-ranking-cpp-npa.html'> Retired Analyst: Kalinaw News: Four high ranking CPP-NPA terrorists fall in Negros Occidental </a>"
      ],
      "text/plain": [
       "<IPython.core.display.HTML object>"
      ]
     },
     "metadata": {},
     "output_type": "display_data"
    },
    {
     "data": {
      "text/html": [
       "<a href='http://retiredanalyst.blogspot.com/2020/07/kalinaw-news-npa-killed-high-powered.html'> Retired Analyst: Kalinaw News: NPA killed, high-powered firearms captured in ZamBo Norte clash</a>"
      ],
      "text/plain": [
       "<IPython.core.display.HTML object>"
      ]
     },
     "metadata": {},
     "output_type": "display_data"
    },
    {
     "data": {
      "text/html": [
       "<a href='http://retiredanalyst.blogspot.com/2020/07/kalinaw-news-npas-parade-grounds-turned.html'> Retired Analyst: Kalinaw News: NPA’s parade grounds turned by soldiers into a Productive Agricultural Farm</a>"
      ],
      "text/plain": [
       "<IPython.core.display.HTML object>"
      ]
     },
     "metadata": {},
     "output_type": "display_data"
    },
    {
     "data": {
      "text/html": [
       "<a href='http://retiredanalyst.blogspot.com/2020/07/man-alleged-npa-member-and-wanted-for.html'> Retired Analyst: Man, alleged NPA member and wanted for rape, surrenders in Masbate town</a>"
      ],
      "text/plain": [
       "<IPython.core.display.HTML object>"
      ]
     },
     "metadata": {},
     "output_type": "display_data"
    },
    {
     "data": {
      "text/html": [
       "<a href='http://retiredanalyst.blogspot.com/2020/07/npa-fighter-slain-in-zamboanga-del-norte.html'> Retired Analyst: NPA fighter slain in Zamboanga del Norte </a>"
      ],
      "text/plain": [
       "<IPython.core.display.HTML object>"
      ]
     },
     "metadata": {},
     "output_type": "display_data"
    },
    {
     "data": {
      "text/html": [
       "<a href='http://retiredanalyst.blogspot.com/2020/07/philippine-court-asked-to-annul-anti.html'> Retired Analyst: Philippine Court Asked to Annul Anti-Terror Law Amid Concerns It Will Target Dissidents </a>"
      ],
      "text/plain": [
       "<IPython.core.display.HTML object>"
      ]
     },
     "metadata": {},
     "output_type": "display_data"
    },
    {
     "data": {
      "text/html": [
       "<a href='http://retiredanalyst.blogspot.com/2020/07/philippine-military-says-abu-sayyaf.html'> Retired Analyst: Philippine military says Abu Sayyaf leader still alive</a>"
      ],
      "text/plain": [
       "<IPython.core.display.HTML object>"
      ]
     },
     "metadata": {},
     "output_type": "display_data"
    },
    {
     "data": {
      "text/html": [
       "<a href='http://retiredanalyst.blogspot.com/2020/07/philippine-police-checking-reports-of.html'> Retired Analyst: Philippine police checking reports of Abu Sayyaf leader’s death</a>"
      ],
      "text/plain": [
       "<IPython.core.display.HTML object>"
      ]
     },
     "metadata": {},
     "output_type": "display_data"
    },
    {
     "data": {
      "text/html": [
       "<a href='http://davaotoday.com/main/human-rights/seven-lumad-arrested-tagged-as-npa-in-misamis-oriental/'> Seven Lumad arrested, tagged as NPA in Misamis Oriental | Davao Today</a>"
      ],
      "text/plain": [
       "<IPython.core.display.HTML object>"
      ]
     },
     "metadata": {},
     "output_type": "display_data"
    },
    {
     "data": {
      "text/html": [
       "<a href='http://davaotoday.com/main/todays-views/terrorizing-the-people-with-the-anti-terror-bill/'> Terrorizing the people with the anti-terror bill | Davao Today</a>"
      ],
      "text/plain": [
       "<IPython.core.display.HTML object>"
      ]
     },
     "metadata": {},
     "output_type": "display_data"
    },
    {
     "name": "stdout",
     "output_type": "stream",
     "text": [
      "\n",
      "MORO ISSUES RELATED NEWS ITEMS: \n"
     ]
    },
    {
     "data": {
      "text/html": [
       "<a href='https://www.mindanews.com/mindaviews/2020/06/bangsamoro-speaks-balance-compassion-and-discipline-and-at-the-same-uphold-the-rule-of-law/'> BANGSAMORO SPEAKS: Balance compassion and discipline and at the same, uphold the rule of law | MindaNews</a>"
      ],
      "text/plain": [
       "<IPython.core.display.HTML object>"
      ]
     },
     "metadata": {},
     "output_type": "display_data"
    },
    {
     "data": {
      "text/html": [
       "<a href='https://www.mindanews.com/peace-process/2020/06/bangsamoro-parliament-has-yet-to-act-on-resolution-expressing-grave-concern-over-proposed-anti-terrorism-act/'> Bangsamoro Parliament has yet to act on resolution expressing “grave concern” over proposed Anti-Terrorism Act | MindaNews</a>"
      ],
      "text/plain": [
       "<IPython.core.display.HTML object>"
      ]
     },
     "metadata": {},
     "output_type": "display_data"
    },
    {
     "data": {
      "text/html": [
       "<a href='http://davaotoday.com/main/politics/church-moro-groups-in-region-10-slam-anti-terror-law/'> Church, Moro groups in Region 10 slam Anti-Terror Law | Davao Today</a>"
      ],
      "text/plain": [
       "<IPython.core.display.HTML object>"
      ]
     },
     "metadata": {},
     "output_type": "display_data"
    },
    {
     "data": {
      "text/html": [
       "<a href='https://www.mindanews.com/peace-process/2020/02/cotabato-city-seeks-exclusion-from-barmm-until-june-30-2022/'> Cotabato City seeks exclusion from BARMM until June 30, 2022 | MindaNews</a>"
      ],
      "text/plain": [
       "<IPython.core.display.HTML object>"
      ]
     },
     "metadata": {},
     "output_type": "display_data"
    },
    {
     "data": {
      "text/html": [
       "<a href='http://davaotoday.com/main/politics/indigenous-moro-groups-fear-anti-terror-law-repeating-past-abuses/'> Indigenous, Moro groups fear Anti-Terror Law repeating past abuses | Davao Today</a>"
      ],
      "text/plain": [
       "<IPython.core.display.HTML object>"
      ]
     },
     "metadata": {},
     "output_type": "display_data"
    },
    {
     "data": {
      "text/html": [
       "<a href='http://davaotoday.com/main/politics/church-moro-groups-in-region-10-slam-anti-terror-law/'> Church, Moro groups in Region 10 slam Anti-Terror Law | Davao Today</a>"
      ],
      "text/plain": [
       "<IPython.core.display.HTML object>"
      ]
     },
     "metadata": {},
     "output_type": "display_data"
    },
    {
     "data": {
      "text/html": [
       "<a href='http://retiredanalyst.blogspot.com/2020/07/abu-leader-sawadjaan-slain-in-sulu-clash.html'> Retired Analyst: Abu leader Sawadjaan slain in Sulu clash? </a>"
      ],
      "text/plain": [
       "<IPython.core.display.HTML object>"
      ]
     },
     "metadata": {},
     "output_type": "display_data"
    },
    {
     "data": {
      "text/html": [
       "<a href='http://retiredanalyst.blogspot.com/2020/07/new-normal-is-to-cry-general-turns-over.html'> Retired Analyst: ‘New normal is to cry’: General turns over Basilan command in emotional rites </a>"
      ],
      "text/plain": [
       "<IPython.core.display.HTML object>"
      ]
     },
     "metadata": {},
     "output_type": "display_data"
    },
    {
     "data": {
      "text/html": [
       "<a href='https://www.mindanews.com/peace-process/2020/01/senate-asks-bta-to-name-reps-to-congress-bangsamoro-parliament-forum/'> Senate asks BTA to name reps to Congress-Bangsamoro Parliament Forum | MindaNews</a>"
      ],
      "text/plain": [
       "<IPython.core.display.HTML object>"
      ]
     },
     "metadata": {},
     "output_type": "display_data"
    },
    {
     "name": "stdout",
     "output_type": "stream",
     "text": [
      "\n",
      "NATIONAL CAPITAL REGION RELATED NEWS ITEMS: \n",
      "\n",
      "PROVINCIAL NEWS ITEMS: \n"
     ]
    },
    {
     "data": {
      "text/html": [
       "<a href='https://www.mindanews.com/business/2020/05/50-non-essential-stores-closed-for-violating-ecq-rules-in-davao-city/'> 50 “non-essential” stores closed for violating ECQ rules in Davao City | MindaNews</a>"
      ],
      "text/plain": [
       "<IPython.core.display.HTML object>"
      ]
     },
     "metadata": {},
     "output_type": "display_data"
    },
    {
     "data": {
      "text/html": [
       "<a href='https://www.manilatimes.net/2020/07/11/news/latest-stories/600-ph-covid-19-patients-enrolled-in-who-solidarity-trial-dost/740407/'> 600 PH Covid-19 patients enrolled in WHO Solidarity Trial — DoST – The Manila Times</a>"
      ],
      "text/plain": [
       "<IPython.core.display.HTML object>"
      ]
     },
     "metadata": {},
     "output_type": "display_data"
    },
    {
     "data": {
      "text/html": [
       "<a href='https://www.eaglenews.ph/96-new-covid-19-cases-reported-among-overseas-filipinos-total-now-at-over-5300/'> 96 new COVID-19 cases reported among overseas Filipinos, total now at over 5,300</a>"
      ],
      "text/plain": [
       "<IPython.core.display.HTML object>"
      ]
     },
     "metadata": {},
     "output_type": "display_data"
    },
    {
     "data": {
      "text/html": [
       "<a href='https://www.manilatimes.net/2020/07/11/business/green-business/addressing-climate-related-disasters-in-covid-19-era/740222/'> Addressing climate-related disasters in Covid-19 era – The Manila Times</a>"
      ],
      "text/plain": [
       "<IPython.core.display.HTML object>"
      ]
     },
     "metadata": {},
     "output_type": "display_data"
    },
    {
     "data": {
      "text/html": [
       "<a href='https://edgedavao.net/community-sense/2020/04/22/alibaba-challenges-students-in-philippines-and-12-other-markets-to-create-solutions-for-a-post-covid-19-world/'> Alibaba challenges students in Philippines and 12 Other markets to create solutions for a post Covid-19 world - Edge Davao</a>"
      ],
      "text/plain": [
       "<IPython.core.display.HTML object>"
      ]
     },
     "metadata": {},
     "output_type": "display_data"
    },
    {
     "data": {
      "text/html": [
       "<a href='https://www.interaksyon.com/politics-issues/2020/07/09/172536/amid-high-unemployment-pandemic-layoffs-dela-rosa-tells-abs-cbn-workers-to-find-other-jobs/'> Amid high unemployment, pandemic layoffs, Dela Rosa tells ABS-CBN workers to find other jobs</a>"
      ],
      "text/plain": [
       "<IPython.core.display.HTML object>"
      ]
     },
     "metadata": {},
     "output_type": "display_data"
    },
    {
     "data": {
      "text/html": [
       "<a href='https://www.manilatimes.net/2020/07/12/weekly/the-sunday-times/cover-story/artistry-and-creativity-in-the-time-of-pandemic/740705/'> Artistry and creativity in the time of pandemic – The Manila Times</a>"
      ],
      "text/plain": [
       "<IPython.core.display.HTML object>"
      ]
     },
     "metadata": {},
     "output_type": "display_data"
    },
    {
     "data": {
      "text/html": [
       "<a href='https://www.eaglenews.ph/at-least-19-mrt-3-trains-to-run-in-metro-manila-amid-gcq-to-allow-social-distancing-says-dotr/'> At least 19 MRT-3 trains to run in Metro Manila amid GCQ to allow social distancing, says DOTr</a>"
      ],
      "text/plain": [
       "<IPython.core.display.HTML object>"
      ]
     },
     "metadata": {},
     "output_type": "display_data"
    },
    {
     "data": {
      "text/html": [
       "<a href='https://www.manilatimes.net/2020/07/12/news/world/australia-oks-remdesivir-vs-covid-19/740647/'> Australia OKs remdesivir vs Covid-19 – The Manila Times</a>"
      ],
      "text/plain": [
       "<IPython.core.display.HTML object>"
      ]
     },
     "metadata": {},
     "output_type": "display_data"
    },
    {
     "data": {
      "text/html": [
       "<a href='https://www.manilatimes.net/2020/07/12/public-square/beko-channels-grand-launch-budget-to-covid-19-fight-efforts/740765/'> Beko channels grand launch budget to Covid-19 fight efforts – The Manila Times</a>"
      ],
      "text/plain": [
       "<IPython.core.display.HTML object>"
      ]
     },
     "metadata": {},
     "output_type": "display_data"
    },
    {
     "data": {
      "text/html": [
       "<a href='https://www.eaglenews.ph/covid-19-cases-among-overseas-filipinos-now-at-5218-with-more-than-2100-recoveries-300-deaths/'> COVID-19 cases among overseas Filipinos now at 5,218, with more than 2,100 recoveries, 300 deaths</a>"
      ],
      "text/plain": [
       "<IPython.core.display.HTML object>"
      ]
     },
     "metadata": {},
     "output_type": "display_data"
    },
    {
     "data": {
      "text/html": [
       "<a href='https://www.eaglenews.ph/covid-19-cases-among-overseas-filipinos-reach-8803/'> COVID-19 cases among overseas Filipinos reach 8803</a>"
      ],
      "text/plain": [
       "<IPython.core.display.HTML object>"
      ]
     },
     "metadata": {},
     "output_type": "display_data"
    },
    {
     "data": {
      "text/html": [
       "<a href='https://www.eaglenews.ph/covid-19-special-report-learning-from-the-1918-1919-flu-pandemic-that-killed-50-million-worldwide/'> COVID-19 special report: Learning from the 1918-1919 Flu Pandemic that killed 50 million worldwide</a>"
      ],
      "text/plain": [
       "<IPython.core.display.HTML object>"
      ]
     },
     "metadata": {},
     "output_type": "display_data"
    },
    {
     "data": {
      "text/html": [
       "<a href='https://www.interaksyon.com/politics-issues/2020/07/08/172378/china-could-have-done-more-to-aid-worlds-covid-19-response-top-u-s-health-official-says/'> China could have done more to aid world's COVID-19 response, top U.S. health official says</a>"
      ],
      "text/plain": [
       "<IPython.core.display.HTML object>"
      ]
     },
     "metadata": {},
     "output_type": "display_data"
    },
    {
     "data": {
      "text/html": [
       "<a href='http://davaotoday.com/main/environment/coronavirus-affects-reshipment-of-korean-trash-customs-revenue-collection/'> Coronavirus affects reshipment of Korean trash, Customs revenue collection | Davao Today</a>"
      ],
      "text/plain": [
       "<IPython.core.display.HTML object>"
      ]
     },
     "metadata": {},
     "output_type": "display_data"
    },
    {
     "data": {
      "text/html": [
       "<a href='https://www.dailymotion.com/embed/video/x7ux1y9'> Dailymotion Video Player - Coronavirus cases in the Philippines spike, breach 50,000 | Evening wRap</a>"
      ],
      "text/plain": [
       "<IPython.core.display.HTML object>"
      ]
     },
     "metadata": {},
     "output_type": "display_data"
    },
    {
     "data": {
      "text/html": [
       "<a href='https://www.interaksyon.com/politics-issues/2020/07/09/172547/couple-privilege-motorcycle-backriding-allowed-in-gcq-mgcq-areas-starting-july-10/'> Couple privilege: Motorcycle backriding allowed in GCQ, MGCQ areas starting July 10</a>"
      ],
      "text/plain": [
       "<IPython.core.display.HTML object>"
      ]
     },
     "metadata": {},
     "output_type": "display_data"
    },
    {
     "data": {
      "text/html": [
       "<a href='https://www.eaglenews.ph/doh-reports-807-covid-19-recoveries-on-saturday-total-cases-reach-54222/'> DOH reports 807 COVID-19 recoveries on Saturday; total cases reach 54222</a>"
      ],
      "text/plain": [
       "<IPython.core.display.HTML object>"
      ]
     },
     "metadata": {},
     "output_type": "display_data"
    },
    {
     "data": {
      "text/html": [
       "<a href='http://davaotoday.com/main/economy/health/davao-city-joins-other-davao-provinces-under-mgcq/'> Davao City joins other Davao provinces under MGCQ | Davao Today</a>"
      ],
      "text/plain": [
       "<IPython.core.display.HTML object>"
      ]
     },
     "metadata": {},
     "output_type": "display_data"
    },
    {
     "data": {
      "text/html": [
       "<a href='https://www.mindanews.com/business/2020/05/davao-tourism-suffers-huge-drop-in-revenues-due-to-covid-19/'> Davao tourism suffers ‘huge drop’ in revenues due to COVID-19 | MindaNews</a>"
      ],
      "text/plain": [
       "<IPython.core.display.HTML object>"
      ]
     },
     "metadata": {},
     "output_type": "display_data"
    },
    {
     "data": {
      "text/html": [
       "<a href='http://davaotoday.com/main/economy/health/davaos-barangay-23-c-on-hard-lockdown-due-to-covid-19/'> Davao’s Barangay 23-C on ‘hard lockdown’ due to Covid-19 | Davao Today</a>"
      ],
      "text/plain": [
       "<IPython.core.display.HTML object>"
      ]
     },
     "metadata": {},
     "output_type": "display_data"
    },
    {
     "data": {
      "text/html": [
       "<a href='http://davaotoday.com/main/economy/health/davaos-barangay-23-c-on-hard-lockdown-due-to-covid-19/'> Davao’s Barangay 23-C on ‘hard lockdown’ due to Covid-19 | Davao Today</a>"
      ],
      "text/plain": [
       "<IPython.core.display.HTML object>"
      ]
     },
     "metadata": {},
     "output_type": "display_data"
    },
    {
     "data": {
      "text/html": [
       "<a href='https://www.manilatimes.net/2020/07/11/news/latest-stories/duque-visits-manila-hospitals-as-covid-19-cases-reach-54k/740611/'> Duque visits Manila hospitals as Covid-19 cases reach 54K – The Manila Times</a>"
      ],
      "text/plain": [
       "<IPython.core.display.HTML object>"
      ]
     },
     "metadata": {},
     "output_type": "display_data"
    },
    {
     "data": {
      "text/html": [
       "<a href='https://www.eaglenews.ph/ebc-photography-a-view-of-the-rhine-river-this-spring-amid-the-pandemic/'> EBC photography: A view of the Rhine River this spring amid the pandemic</a>"
      ],
      "text/plain": [
       "<IPython.core.display.HTML object>"
      ]
     },
     "metadata": {},
     "output_type": "display_data"
    },
    {
     "data": {
      "text/html": [
       "<a href='https://www.eaglenews.ph/european-union-donates-to-guatemala-72000-test-kits-to-detect-covid-19-cases/'> European Union donates to Guatemala 72,000 test kits to detect COVID-19 cases</a>"
      ],
      "text/plain": [
       "<IPython.core.display.HTML object>"
      ]
     },
     "metadata": {},
     "output_type": "display_data"
    },
    {
     "data": {
      "text/html": [
       "<a href='http://davaotoday.com/main/todays-views/fertilizer-scam-pandemic-edition/'> Fertilizer scam, pandemic edition | Davao Today</a>"
      ],
      "text/plain": [
       "<IPython.core.display.HTML object>"
      ]
     },
     "metadata": {},
     "output_type": "display_data"
    },
    {
     "data": {
      "text/html": [
       "<a href='https://www.eaglenews.ph/fighting-coronavirus-dreaming-of-olympics-meet-japans-boxing-nurse/'> Fighting coronavirus, dreaming of Olympics: meet Japan's boxing nurse</a>"
      ],
      "text/plain": [
       "<IPython.core.display.HTML object>"
      ]
     },
     "metadata": {},
     "output_type": "display_data"
    },
    {
     "data": {
      "text/html": [
       "<a href='https://www.eaglenews.ph/flying-back-to-the-philippines-during-the-covid-19-pandemic-what-to-expect-in-the-new-normal/'> Flying back to the Philippines during the COVID-19 pandemic: what to expect in the \"new normal\"</a>"
      ],
      "text/plain": [
       "<IPython.core.display.HTML object>"
      ]
     },
     "metadata": {},
     "output_type": "display_data"
    },
    {
     "data": {
      "text/html": [
       "<a href='https://www.eaglenews.ph/france-uncovers-massive-fraud-of-coronavirus-wage-payouts/'> France uncovers 'massive fraud' of coronavirus wage payouts</a>"
      ],
      "text/plain": [
       "<IPython.core.display.HTML object>"
      ]
     },
     "metadata": {},
     "output_type": "display_data"
    },
    {
     "data": {
      "text/html": [
       "<a href='http://davaotoday.com/main/culture-2/entertainment/health-advocates-want-test-centers-in-every-region-vs-covid-19/'> Health advocates want test centers in every region vs COVID-19 | Davao Today</a>"
      ],
      "text/plain": [
       "<IPython.core.display.HTML object>"
      ]
     },
     "metadata": {},
     "output_type": "display_data"
    },
    {
     "data": {
      "text/html": [
       "<a href='https://www.interaksyon.com/trends-spotlights/2020/07/08/172405/howie-severinos-arrest-juxtaposed-with-other-high-profile-ecq-violators/'> Howie Severino's 'arrest' juxtaposed with other high-profile ECQ violators</a>"
      ],
      "text/plain": [
       "<IPython.core.display.HTML object>"
      ]
     },
     "metadata": {},
     "output_type": "display_data"
    },
    {
     "data": {
      "text/html": [
       "<a href='https://www.interaksyon.com/hobbies-interests/2020/07/09/172262/if-health-equals-happiness-will-coronavirus-make-the-world-an-unhappier-place/'> If health equals happiness, will coronavirus make the world an unhappier place?</a>"
      ],
      "text/plain": [
       "<IPython.core.display.HTML object>"
      ]
     },
     "metadata": {},
     "output_type": "display_data"
    },
    {
     "data": {
      "text/html": [
       "<a href='https://www.eaglenews.ph/iglesia-ni-cristo-church-of-christ-in-hawaii-conducts-contact-free-aid-to-humanity-during-covid-19-crisis/'> Iglesia Ni Cristo (Church Of Christ) in Hawaii conducts contact-free Aid to Humanity during COVID-19 crisis</a>"
      ],
      "text/plain": [
       "<IPython.core.display.HTML object>"
      ]
     },
     "metadata": {},
     "output_type": "display_data"
    },
    {
     "data": {
      "text/html": [
       "<a href='https://www.eaglenews.ph/in-photos-president-duterte-undergoes-covid-19-test-along-with-sen-bong-go/'> In photos: President Duterte undergoes COVID-19 test, along with Sen. Bong Go</a>"
      ],
      "text/plain": [
       "<IPython.core.display.HTML object>"
      ]
     },
     "metadata": {},
     "output_type": "display_data"
    },
    {
     "data": {
      "text/html": [
       "<a href='https://www.dailymotion.com/embed/video/x7uw9l2'> Dailymotion Video Player - Joy Belmonte, Jair Bolsonaro test positive for coronavirus  | Evening wRap</a>"
      ],
      "text/plain": [
       "<IPython.core.display.HTML object>"
      ]
     },
     "metadata": {},
     "output_type": "display_data"
    },
    {
     "data": {
      "text/html": [
       "<a href='https://www.eaglenews.ph/kids-in-malaysia-talk-about-covid-19-and-why-they-cannot-go-out/'> Kids in Malaysia talk about COVID-19 and why they cannot go out</a>"
      ],
      "text/plain": [
       "<IPython.core.display.HTML object>"
      ]
     },
     "metadata": {},
     "output_type": "display_data"
    },
    {
     "data": {
      "text/html": [
       "<a href='https://www.eaglenews.ph/ltfrb-central-office-in-qc-to-temporarily-suspend-ops-starting-monday-july-13-after-five-test-positive-for-covid-19/'> LTFRB central office in QC to temporarily suspend ops starting Monday, July 13, after five test positive for COVID-19</a>"
      ],
      "text/plain": [
       "<IPython.core.display.HTML object>"
      ]
     },
     "metadata": {},
     "output_type": "display_data"
    },
    {
     "data": {
      "text/html": [
       "<a href='https://www.eaglenews.ph/liquor-ban-still-in-place-in-manila-amid-gcq/'> Liquor ban still in place in Manila amid GCQ</a>"
      ],
      "text/plain": [
       "<IPython.core.display.HTML object>"
      ]
     },
     "metadata": {},
     "output_type": "display_data"
    },
    {
     "data": {
      "text/html": [
       "<a href='https://www.eaglenews.ph/manila-to-close-business-establishments-lock-down-barangays-violating-quarantine-rules/'> Manila to close business establishments, lock down barangays violating quarantine rules</a>"
      ],
      "text/plain": [
       "<IPython.core.display.HTML object>"
      ]
     },
     "metadata": {},
     "output_type": "display_data"
    },
    {
     "data": {
      "text/html": [
       "<a href='https://www.mindanews.com/top-stories/2020/07/mayor-sara-covid-19-situation-not-yet-under-control/'> Mayor Sara: COVID-19 situation not yet under control | MindaNews</a>"
      ],
      "text/plain": [
       "<IPython.core.display.HTML object>"
      ]
     },
     "metadata": {},
     "output_type": "display_data"
    },
    {
     "data": {
      "text/html": [
       "<a href='https://www.eaglenews.ph/more-than-2300-new-covid-19-cases-reported-among-overseas-filipinos-in-a-day/'> More than 2,300 new COVID-19 cases reported among overseas Filipinos in a day</a>"
      ],
      "text/plain": [
       "<IPython.core.display.HTML object>"
      ]
     },
     "metadata": {},
     "output_type": "display_data"
    },
    {
     "data": {
      "text/html": [
       "<a href='https://www.eaglenews.ph/no-new-covid-19-cases-fatalities-recorded-for-the-day-among-overseas-filipinos-dfa/'> No new COVID-19 cases, fatalities recorded for the day among overseas Filipinos: DFA</a>"
      ],
      "text/plain": [
       "<IPython.core.display.HTML object>"
      ]
     },
     "metadata": {},
     "output_type": "display_data"
    },
    {
     "data": {
      "text/html": [
       "<a href='https://www.eaglenews.ph/pnp-recruitment-and-training-programs-to-resume-as-ncr-eases-to-gcq-on-june-1/'> PNP recruitment and training programs to resume as NCR eases to GCQ on June 1</a>"
      ],
      "text/plain": [
       "<IPython.core.display.HTML object>"
      ]
     },
     "metadata": {},
     "output_type": "display_data"
    },
    {
     "data": {
      "text/html": [
       "<a href='https://www.eaglenews.ph/pnp-reports-1044-covid-19-cases-in-its-ranks/'> PNP reports 1044 COVID-19 cases in its ranks</a>"
      ],
      "text/plain": [
       "<IPython.core.display.HTML object>"
      ]
     },
     "metadata": {},
     "output_type": "display_data"
    },
    {
     "data": {
      "text/html": [
       "<a href='https://www.manilatimes.net/2020/07/12/legal-advice/dearpao/pwds-exempted-from-personal-appearance-in-availing-of-discount-amid-pandemic/740524/'> PWDs exempted from personal appearance in availing of discount amid pandemic – The Manila Times</a>"
      ],
      "text/plain": [
       "<IPython.core.display.HTML object>"
      ]
     },
     "metadata": {},
     "output_type": "display_data"
    },
    {
     "data": {
      "text/html": [
       "<a href='http://tempo.com.ph/2020/07/11/clearing-our-crowded-jails-in-this-pandemic/'>   Clearing our crowded jails in this pandemic | Tempo – The Nation's Fastest Growing Newspaper</a>"
      ],
      "text/plain": [
       "<IPython.core.display.HTML object>"
      ]
     },
     "metadata": {},
     "output_type": "display_data"
    },
    {
     "data": {
      "text/html": [
       "<a href='http://davaotoday.com/main/culture-2/entertainment/health-advocates-want-test-centers-in-every-region-vs-covid-19/'> Health advocates want test centers in every region vs COVID-19 | Davao Today</a>"
      ],
      "text/plain": [
       "<IPython.core.display.HTML object>"
      ]
     },
     "metadata": {},
     "output_type": "display_data"
    },
    {
     "data": {
      "text/html": [
       "<a href='https://philnews.ph/2020/07/11/penalties-in-violations-of-motorcycle-guidelines-during-quarantine/'> Penalties In Violations Of Motorcycle Guidelines During Quarantine</a>"
      ],
      "text/plain": [
       "<IPython.core.display.HTML object>"
      ]
     },
     "metadata": {},
     "output_type": "display_data"
    },
    {
     "data": {
      "text/html": [
       "<a href='http://davaotoday.com/main/headline/up-mindanao-postpones-events-in-wake-of-covid-19-threat/'> UP Mindanao postpones events in wake of COVID-19 threat | Davao Today</a>"
      ],
      "text/plain": [
       "<IPython.core.display.HTML object>"
      ]
     },
     "metadata": {},
     "output_type": "display_data"
    },
    {
     "data": {
      "text/html": [
       "<a href='https://www.interaksyon.com/politics-issues/2020/07/09/172493/philippines-to-borrow-more-to-cover-coronavirus-response/'> Philippines to borrow more to cover COVID-19 response</a>"
      ],
      "text/plain": [
       "<IPython.core.display.HTML object>"
      ]
     },
     "metadata": {},
     "output_type": "display_data"
    },
    {
     "data": {
      "text/html": [
       "<a href='https://www.eaglenews.ph/powerful-quake-damages-buildings-in-croatia-capital-amid-coronavirus-scare/'> Powerful quake damages buildings in Croatia capital amid coronavirus scare</a>"
      ],
      "text/plain": [
       "<IPython.core.display.HTML object>"
      ]
     },
     "metadata": {},
     "output_type": "display_data"
    },
    {
     "data": {
      "text/html": [
       "<a href='https://edgedavao.net/latest-news/2020/07/04/sexual-abuse-among-children-amid-the-pandemic-on-the-rise/'> Sexual abuse among children amid the pandemic on the rise - Edge Davao</a>"
      ],
      "text/plain": [
       "<IPython.core.display.HTML object>"
      ]
     },
     "metadata": {},
     "output_type": "display_data"
    },
    {
     "data": {
      "text/html": [
       "<a href='https://www.mindanews.com/business/2020/07/socssksargen-investments-php-1-93-b-in-q1-2019-php-69-m-in-q1-2020-due-to-covid-19/'> Socssksargen investments: PhP 1.93-B in Q1 2019. PhP 69-M in Q1 2020 due to COVID-19 | MindaNews</a>"
      ],
      "text/plain": [
       "<IPython.core.display.HTML object>"
      ]
     },
     "metadata": {},
     "output_type": "display_data"
    },
    {
     "data": {
      "text/html": [
       "<a href='https://edgedavao.net/competitive-edge/2020/07/01/splash-corp-makes-nationwide-donation-as-hospitals-continue-to-battle-covid-19/'> Splash Corp. Makes Nationwide Donation as Hospitals Continue to Battle COVID-19 - Edge Davao</a>"
      ],
      "text/plain": [
       "<IPython.core.display.HTML object>"
      ]
     },
     "metadata": {},
     "output_type": "display_data"
    },
    {
     "data": {
      "text/html": [
       "<a href='https://www.eaglenews.ph/stress-free-quarantine-tips-for-parents/'> Stress-free quarantine tips for parents</a>"
      ],
      "text/plain": [
       "<IPython.core.display.HTML object>"
      ]
     },
     "metadata": {},
     "output_type": "display_data"
    },
    {
     "data": {
      "text/html": [
       "<a href='https://www.mindanews.com/mindaviews/2020/07/turning-point-pandemic-distancing-in-education/'> TURNING POINT: Pandemic Distancing in Education | MindaNews</a>"
      ],
      "text/plain": [
       "<IPython.core.display.HTML object>"
      ]
     },
     "metadata": {},
     "output_type": "display_data"
    },
    {
     "data": {
      "text/html": [
       "<a href='https://edgedavao.net/sports/2020/04/04/temporarily-closed-down-arcadia-fitness-gym-backs-covid-19-fight/'> Temporarily closed down Arcadia Fitness Gym backs Covid-19 fight - Edge Davao</a>"
      ],
      "text/plain": [
       "<IPython.core.display.HTML object>"
      ]
     },
     "metadata": {},
     "output_type": "display_data"
    },
    {
     "data": {
      "text/html": [
       "<a href='https://www.interaksyon.com/trends-spotlights/2020/07/10/172575/the-hammer-and-dance-theory-vs-coronavirus-according-to-harry-roque/'> The 'hammer and dance' theory vs coronavirus, according to Harry Roque</a>"
      ],
      "text/plain": [
       "<IPython.core.display.HTML object>"
      ]
     },
     "metadata": {},
     "output_type": "display_data"
    },
    {
     "data": {
      "text/html": [
       "<a href='https://www.eaglenews.ph/total-covid-19-cases-among-overseas-filipinos-reach-5230-more-than-half-undergoing-treatment/'> Total COVID-19 cases among overseas Filipinos reach 5,230, more than half undergoing treatment</a>"
      ],
      "text/plain": [
       "<IPython.core.display.HTML object>"
      ]
     },
     "metadata": {},
     "output_type": "display_data"
    },
    {
     "data": {
      "text/html": [
       "<a href='http://davaotoday.com/main/headline/up-mindanao-postpones-events-in-wake-of-covid-19-threat/'> UP Mindanao postpones events in wake of COVID-19 threat | Davao Today</a>"
      ],
      "text/plain": [
       "<IPython.core.display.HTML object>"
      ]
     },
     "metadata": {},
     "output_type": "display_data"
    },
    {
     "data": {
      "text/html": [
       "<a href='http://davaotoday.com/main/economy/health/up-scientists-to-roque-statistics-show-ph-not-winning-vs-covid-19/'> UP scientists to Roque: statistics show PH not winning vs Covid-19 | Davao Today</a>"
      ],
      "text/plain": [
       "<IPython.core.display.HTML object>"
      ]
     },
     "metadata": {},
     "output_type": "display_data"
    },
    {
     "data": {
      "text/html": [
       "<a href='https://www.eaglenews.ph/us-government-to-give-additional-p201-million-covid-19-aid-for-mindanao/'> US government to give additional P201 million COVID-19 aid for Mindanao</a>"
      ],
      "text/plain": [
       "<IPython.core.display.HTML object>"
      ]
     },
     "metadata": {},
     "output_type": "display_data"
    },
    {
     "name": "stdout",
     "output_type": "stream",
     "text": [
      "\n",
      "POLITICAL NEWS ITEMS: \n"
     ]
    },
    {
     "data": {
      "text/html": [
       "<a href='https://www.manilatimes.net/2020/07/11/news/latest-stories/5-2-magnitude-tremor-hits-davao-del-sur/740403/'> 5.2 magnitude tremor hits Davao del Sur – The Manila Times</a>"
      ],
      "text/plain": [
       "<IPython.core.display.HTML object>"
      ]
     },
     "metadata": {},
     "output_type": "display_data"
    },
    {
     "data": {
      "text/html": [
       "<a href='https://www.mindanews.com/business/2020/05/50-non-essential-stores-closed-for-violating-ecq-rules-in-davao-city/'> 50 “non-essential” stores closed for violating ECQ rules in Davao City | MindaNews</a>"
      ],
      "text/plain": [
       "<IPython.core.display.HTML object>"
      ]
     },
     "metadata": {},
     "output_type": "display_data"
    },
    {
     "data": {
      "text/html": [
       "<a href='https://edgedavao.net/entrepreneurs/2019/04/18/atty-antonio-b-partoza-jr-creating-a-name-for-davao/'> ATTY. ANTONIO B. PARTOZA JR: CREATING A NAME FOR DAVAO - Edge Davao</a>"
      ],
      "text/plain": [
       "<IPython.core.display.HTML object>"
      ]
     },
     "metadata": {},
     "output_type": "display_data"
    },
    {
     "data": {
      "text/html": [
       "<a href='https://edgedavao.net/the-economy/2020/07/04/all-phoenix-stations-in-davao-region-back-in-operation/'> All Phoenix stations in Davao Region back in operation - Edge Davao</a>"
      ],
      "text/plain": [
       "<IPython.core.display.HTML object>"
      ]
     },
     "metadata": {},
     "output_type": "display_data"
    },
    {
     "data": {
      "text/html": [
       "<a href='http://davaotoday.com/main/human-rights/arrest-of-balingasag-7-draws-condemnation-from-indigenous-groups/'> Arrest of Balingasag 7 draws condemnation from indigenous groups | Davao Today</a>"
      ],
      "text/plain": [
       "<IPython.core.display.HTML object>"
      ]
     },
     "metadata": {},
     "output_type": "display_data"
    },
    {
     "data": {
      "text/html": [
       "<a href='http://davaotoday.com/main/economy/health/davao-city-imposes-fines-for-persons-not-wearing-face-masks/'> Davao City imposes fines for persons not wearing face masks | Davao Today</a>"
      ],
      "text/plain": [
       "<IPython.core.display.HTML object>"
      ]
     },
     "metadata": {},
     "output_type": "display_data"
    },
    {
     "data": {
      "text/html": [
       "<a href='http://davaotoday.com/main/economy/health/davao-city-joins-other-davao-provinces-under-mgcq/'> Davao City joins other Davao provinces under MGCQ | Davao Today</a>"
      ],
      "text/plain": [
       "<IPython.core.display.HTML object>"
      ]
     },
     "metadata": {},
     "output_type": "display_data"
    },
    {
     "data": {
      "text/html": [
       "<a href='http://davaotoday.com/main/environment/davao-city-on-alert-for-tropical-depression-ambo/'> Davao City on alert for Tropical Depression Ambo | Davao Today</a>"
      ],
      "text/plain": [
       "<IPython.core.display.HTML object>"
      ]
     },
     "metadata": {},
     "output_type": "display_data"
    },
    {
     "data": {
      "text/html": [
       "<a href='http://davaotoday.com/main/headline/davao-business-sector-still-divided-on-martial-rule/'> Davao business sector still divided on martial rule | Davao Today</a>"
      ],
      "text/plain": [
       "<IPython.core.display.HTML object>"
      ]
     },
     "metadata": {},
     "output_type": "display_data"
    },
    {
     "data": {
      "text/html": [
       "<a href='https://edgedavao.net/bigger-picture/2020/06/18/davao-coastal-road-section-to-open-late-august-2020/'> Davao coastal road section to open late August 2020 - Edge Davao</a>"
      ],
      "text/plain": [
       "<IPython.core.display.HTML object>"
      ]
     },
     "metadata": {},
     "output_type": "display_data"
    },
    {
     "data": {
      "text/html": [
       "<a href='https://www.mindanews.com/top-stories/2020/07/davao-tells-barangays-near-rivers-to-prepare-more-evacuation-centers/'> Davao tells barangays near rivers to prepare more evacuation centers | MindaNews</a>"
      ],
      "text/plain": [
       "<IPython.core.display.HTML object>"
      ]
     },
     "metadata": {},
     "output_type": "display_data"
    },
    {
     "data": {
      "text/html": [
       "<a href='https://www.mindanews.com/business/2020/05/davao-tourism-suffers-huge-drop-in-revenues-due-to-covid-19/'> Davao tourism suffers ‘huge drop’ in revenues due to COVID-19 | MindaNews</a>"
      ],
      "text/plain": [
       "<IPython.core.display.HTML object>"
      ]
     },
     "metadata": {},
     "output_type": "display_data"
    },
    {
     "data": {
      "text/html": [
       "<a href='http://davaotoday.com/main/economy/health/davaos-barangay-23-c-on-hard-lockdown-due-to-covid-19/'> Davao’s Barangay 23-C on ‘hard lockdown’ due to Covid-19 | Davao Today</a>"
      ],
      "text/plain": [
       "<IPython.core.display.HTML object>"
      ]
     },
     "metadata": {},
     "output_type": "display_data"
    },
    {
     "data": {
      "text/html": [
       "<a href='http://davaotoday.com/main/economy/health/davaos-barangay-23-c-on-hard-lockdown-due-to-covid-19/'> Davao’s Barangay 23-C on ‘hard lockdown’ due to Covid-19 | Davao Today</a>"
      ],
      "text/plain": [
       "<IPython.core.display.HTML object>"
      ]
     },
     "metadata": {},
     "output_type": "display_data"
    },
    {
     "data": {
      "text/html": [
       "<a href='https://edgedavao.net/feature/2019/12/22/edge-davaos-and-zions-candyland-party/'> Edge Davao’s and Zion’s Candyland party - Edge Davao</a>"
      ],
      "text/plain": [
       "<IPython.core.display.HTML object>"
      ]
     },
     "metadata": {},
     "output_type": "display_data"
    },
    {
     "data": {
      "text/html": [
       "<a href='http://davaotoday.com/main/culture-2/how-the-lumad-learned-to-survive-in-haran/'> How the Lumad learned to survive in Haran | Davao Today</a>"
      ],
      "text/plain": [
       "<IPython.core.display.HTML object>"
      ]
     },
     "metadata": {},
     "output_type": "display_data"
    },
    {
     "data": {
      "text/html": [
       "<a href='https://edgedavao.net/suburbia/2020/01/04/humanitarian-mission-provides-relief-in-davao-del-sur/'> Humanitarian mission provides relief in Davao del Sur - Edge Davao</a>"
      ],
      "text/plain": [
       "<IPython.core.display.HTML object>"
      ]
     },
     "metadata": {},
     "output_type": "display_data"
    },
    {
     "data": {
      "text/html": [
       "<a href='http://davaotoday.com/main/politics/indigenous-moro-groups-fear-anti-terror-law-repeating-past-abuses/'> Indigenous, Moro groups fear Anti-Terror Law repeating past abuses | Davao Today</a>"
      ],
      "text/plain": [
       "<IPython.core.display.HTML object>"
      ]
     },
     "metadata": {},
     "output_type": "display_data"
    },
    {
     "data": {
      "text/html": [
       "<a href='http://davaotoday.com/main/davao-city/investors-organize-1st-branch-in-davao/'> Investors organize 1st branch in Davao | Davao Today</a>"
      ],
      "text/plain": [
       "<IPython.core.display.HTML object>"
      ]
     },
     "metadata": {},
     "output_type": "display_data"
    },
    {
     "data": {
      "text/html": [
       "<a href='https://edgedavao.net/suburbia/2019/11/15/isolated-lumads-hail-govt-attention-care/'> Isolated Lumads hail gov’t attention, care - Edge Davao</a>"
      ],
      "text/plain": [
       "<IPython.core.display.HTML object>"
      ]
     },
     "metadata": {},
     "output_type": "display_data"
    },
    {
     "data": {
      "text/html": [
       "<a href='http://davaotoday.com/main/headline/most-davao-businesses-dont-have-continuity-plan-pcci/'> Most Davao businesses don’t have continuity plan – PCCI | Davao Today</a>"
      ],
      "text/plain": [
       "<IPython.core.display.HTML object>"
      ]
     },
     "metadata": {},
     "output_type": "display_data"
    },
    {
     "data": {
      "text/html": [
       "<a href='https://edgedavao.net/the-big-news/2020/06/26/most-stranded-individuals-are-davao-bound-airline-exec/'> Most stranded individuals are Davao-bound: airline exec - Edge Davao</a>"
      ],
      "text/plain": [
       "<IPython.core.display.HTML object>"
      ]
     },
     "metadata": {},
     "output_type": "display_data"
    },
    {
     "data": {
      "text/html": [
       "<a href='http://davaotoday.com/main/human-rights/arrest-of-balingasag-7-draws-condemnation-from-indigenous-groups/'> Arrest of Balingasag 7 draws condemnation from indigenous groups | Davao Today</a>"
      ],
      "text/plain": [
       "<IPython.core.display.HTML object>"
      ]
     },
     "metadata": {},
     "output_type": "display_data"
    },
    {
     "data": {
      "text/html": [
       "<a href='http://davaotoday.com/main/economy/health/davao-city-imposes-fines-for-persons-not-wearing-face-masks/'> Davao City imposes fines for persons not wearing face masks | Davao Today</a>"
      ],
      "text/plain": [
       "<IPython.core.display.HTML object>"
      ]
     },
     "metadata": {},
     "output_type": "display_data"
    },
    {
     "data": {
      "text/html": [
       "<a href='http://davaotoday.com/main/headline/most-davao-businesses-dont-have-continuity-plan-pcci/'> Most Davao businesses don’t have continuity plan – PCCI | Davao Today</a>"
      ],
      "text/plain": [
       "<IPython.core.display.HTML object>"
      ]
     },
     "metadata": {},
     "output_type": "display_data"
    },
    {
     "data": {
      "text/html": [
       "<a href='https://edgedavao.net/special-supplement/2020/03/17/some-things-you-need-to-know-about-davao-city/'> SOME THINGS YOU NEED TO KNOW ABOUT DAVAO CITY - Edge Davao</a>"
      ],
      "text/plain": [
       "<IPython.core.display.HTML object>"
      ]
     },
     "metadata": {},
     "output_type": "display_data"
    },
    {
     "data": {
      "text/html": [
       "<a href='https://www.mindanews.com/special-reports/2020/07/special-report-policy-review-of-waste-management-needed-as-davao-city-grapples-with-household-ppe-waste/'> SPECIAL REPORT: Policy review of waste management needed as Davao City grapples with household PPE waste | MindaNews</a>"
      ],
      "text/plain": [
       "<IPython.core.display.HTML object>"
      ]
     },
     "metadata": {},
     "output_type": "display_data"
    },
    {
     "data": {
      "text/html": [
       "<a href='http://davaotoday.com/main/human-rights/seven-lumad-arrested-tagged-as-npa-in-misamis-oriental/'> Seven Lumad arrested, tagged as NPA in Misamis Oriental | Davao Today</a>"
      ],
      "text/plain": [
       "<IPython.core.display.HTML object>"
      ]
     },
     "metadata": {},
     "output_type": "display_data"
    },
    {
     "name": "stdout",
     "output_type": "stream",
     "text": [
      "Errors:  2\n"
     ]
    }
   ],
   "source": [
    "covid_list = []\n",
    "auth_list = []\n",
    "chinathreat_list = []\n",
    "chrgroup_list = []\n",
    "econ_list = []\n",
    "insurgency_list = []\n",
    "moro_list = []\n",
    "ncr_list = []\n",
    "province_list = []\n",
    "pulitika_list = []\n",
    "errors = 0\n",
    "pctcount1 = 0\n",
    "for paper in paperlist:\n",
    "    pctcount1 +=1\n",
    "    pctval1 = pctcount1 / len(paperlist)\n",
    "    print('Percent complete all sources list: ' + \"{:.1%}\".format(pctval1))\n",
    "    r = requests.get(paper, headers=headers)\n",
    "    soup = BeautifulSoup(r.text, 'html.parser')\n",
    "    if (paper == \"http://retiredanalyst.blogspot.com/\"):\n",
    "        myelems = soup.findAll('h3')\n",
    "#         print(len(myelems))\n",
    "        pctcount2 = 0\n",
    "        for elem in myelems:\n",
    "            pctcount2 +=1\n",
    "            pctval2 = pctcount2 / len(myelems)\n",
    "            print('Percent complete retired analyst list: ' + \"{:.1%}\".format(pctval2))\n",
    "            # usually there is no title in the retired analyst links, so have to go get those\n",
    "            url = elem.contents[1].get('href')\n",
    "            try:\n",
    "                r2 = requests.get(url, headers=headers)\n",
    "                soup2 = BeautifulSoup(r2.text, 'html.parser')\n",
    "                titletext = soup2.title.text\n",
    "                for checker in taglist:\n",
    "                    if checker.lower() in titletext.lower():\n",
    "#                         print(checker, titletext)\n",
    "                        if checker.lower() in covid_taglist:\n",
    "                            covid_list.append((titletext, url))\n",
    "                        if checker.lower() in auth_taglist:\n",
    "                            auth_list.append((titletext, url))\n",
    "                        if checker.lower() in chinathreat_taglist:\n",
    "                            chinathreat_list.append((titletext, url))\n",
    "                        if checker.lower() in chrgroup_taglist:\n",
    "                            chrgroup_list.append((titletext, url))\n",
    "                        if checker.lower() in econ_taglist:\n",
    "                            econ_list.append((titletext, url))\n",
    "                        if checker.lower() in insurgency_taglist:\n",
    "                            insurgency_list.append((titletext, url))\n",
    "                        if checker.lower() in moro_taglist:\n",
    "                            moro_list.append((titletext, url))\n",
    "                        if checker.lower() in ncr_taglist:\n",
    "                            ncr_list.append((titletext, url))\n",
    "                        if checker.lower() in province_taglist:\n",
    "                            province_list.append((titletext, url))\n",
    "                        if checker.lower() in pulitika_taglist:\n",
    "                            pulitika_list.append((titletext, url))\n",
    "                            \n",
    "            except:\n",
    "                errors += 1\n",
    "    else:\n",
    "        myelems = soup.findAll('a')\n",
    "        pctcount3 = 0\n",
    "        for elem in myelems:\n",
    "            pctcount3 +=1\n",
    "            pctval3 = pctcount3 / len(myelems)\n",
    "            print('Percent complete ' + paper + ' list: ' + \"{:.1%}\".format(pctval3))\n",
    "            titletext = str(elem.get('title'))\n",
    "            url = elem.get('href')\n",
    "            for checker in taglist:\n",
    "                if checker.lower() in titletext.lower():\n",
    "#                     print(checker, titletext)\n",
    "                    if checker.lower() in covid_taglist:\n",
    "                        covid_list.append((titletext, url))\n",
    "                    if checker.lower() in auth_taglist:\n",
    "                        auth_list.append((titletext, url))\n",
    "                    if checker.lower() in chinathreat_taglist:\n",
    "                        chinathreat_list.append((titletext, url))\n",
    "                    if checker.lower() in chrgroup_taglist:\n",
    "                        chrgroup_list.append((titletext, url))\n",
    "                    if checker.lower() in econ_taglist:\n",
    "                        econ_list.append((titletext, url))\n",
    "                    if checker.lower() in insurgency_taglist:\n",
    "                        insurgency_list.append((titletext, url))\n",
    "                    if checker.lower() in moro_taglist:\n",
    "                        moro_list.append((titletext, url))\n",
    "                    if checker.lower() in ncr_taglist:\n",
    "                        ncr_list.append((titletext, url))\n",
    "                    if checker.lower() in province_taglist:\n",
    "                        province_list.append((titletext, url))\n",
    "                    if checker.lower() in pulitika_taglist:\n",
    "                        pulitika_list.append((titletext, url))\n",
    "                        \n",
    "covid_list = list(set(covid_list))\n",
    "covid_list.sort()\n",
    "auth_list = list(set(auth_list))\n",
    "auth_list.sort()\n",
    "chinathreat_list = list(set(chinathreat_list))\n",
    "chinathreat_list.sort()\n",
    "chrgroup_list = list(set(chrgroup_list))\n",
    "chrgroup_list.sort()\n",
    "econ_list = list(set(econ_list))\n",
    "econ_list.sort()\n",
    "insurgency_list = list(set(insurgency_list))\n",
    "insurgency_list.sort()\n",
    "moro_list = list(set(moro_list))\n",
    "moro_list.sort()\n",
    "ncr_list = list(set(ncr_list))\n",
    "ncr_list.sort()\n",
    "province_list = list(set(province_list))\n",
    "province_list.sort()\n",
    "pulitika_list = list(set(pulitika_list))\n",
    "pulitika_list.sort()\n",
    "\n",
    "               \n",
    "hitlist = covid_list+ auth_list+ chinathreat_list+ chrgroup_list+ econ_list+ insurgency_list+ moro_list+ ncr_list+ province_list+ pulitika_list\n",
    "hitlist = list(set(hitlist))\n",
    "hitlist.sort()\n",
    "# sort_disp_list = [covid_list, auth_list, chinathreat_list, chrgroup_list, econ_list, insurgency_list, moro_list, ncr_list, province_list, pulitika_list]\n",
    "# for elem in hitlist:\n",
    "#     print(elem[0])\n",
    "#     print(elem[1])\n",
    "\n",
    "def display_links(header, newslist, errors):\n",
    "    print('\\n' + header)\n",
    "    hlist = [elem[1] for elem in newslist]\n",
    "#     xlist = [elem[0] for elem in hitlist]\n",
    "#     [print(x) for x in xlist]\n",
    "    for ilink in hlist:\n",
    "        try:\n",
    "            r = requests.get(ilink, headers=headers)\n",
    "            soup = BeautifulSoup(r.text, 'html.parser')\n",
    "            titletext = soup.title.text\n",
    "            reflink = \"<a href='\" + ilink + \"'> \" + titletext + \"</a>\"\n",
    "            html = HTML(reflink)\n",
    "            display(html)\n",
    "        except:\n",
    "            errors += 1\n",
    "\n",
    "    return errors\n",
    "\n",
    "\n",
    "errors = display_links(\"COVID-19 NEWS ITEMS: \", covid_list, errors)\n",
    "errors = display_links(\"AUTHORITARIANISM/ DEMOCRACY THREAT NEWS ITEMS: \", auth_list, errors)\n",
    "errors = display_links(\"CHINA THREAT TO THE PHILIPPINES NEWS ITEMS: \", chinathreat_list, errors)\n",
    "errors = display_links(\"CHRISTIAN AND RELIGIOUS GROUPS NEWS ITEMS: \", chrgroup_list, errors)\n",
    "errors = display_links(\"ECONOMY NEWS ITEMS: \", econ_list, errors)\n",
    "errors = display_links(\"INSURGENCY RELATED NEWS ITEMS: \", insurgency_list, errors)\n",
    "errors = display_links(\"MORO ISSUES RELATED NEWS ITEMS: \", moro_list, errors)\n",
    "errors = display_links(\"NATIONAL CAPITAL REGION RELATED NEWS ITEMS: \", ncr_list, errors)\n",
    "errors = display_links(\"PROVINCIAL NEWS ITEMS: \", covid_list, errors)\n",
    "errors = display_links(\"POLITICAL NEWS ITEMS: \", province_list, errors)\n",
    "print(\"Errors: \", errors)"
   ]
  },
  {
   "cell_type": "code",
   "execution_count": 6,
   "metadata": {},
   "outputs": [
    {
     "data": {
      "text/html": [
       "<a href='https://www.manilatimes.net/2020/07/11/news/latest-stories/5-2-magnitude-tremor-hits-davao-del-sur/740403/'> 5.2 magnitude tremor hits Davao del Sur – The Manila Times</a>"
      ],
      "text/plain": [
       "<IPython.core.display.HTML object>"
      ]
     },
     "metadata": {},
     "output_type": "display_data"
    },
    {
     "data": {
      "text/html": [
       "<a href='https://www.mindanews.com/business/2020/05/50-non-essential-stores-closed-for-violating-ecq-rules-in-davao-city/'> 50 “non-essential” stores closed for violating ECQ rules in Davao City | MindaNews</a>"
      ],
      "text/plain": [
       "<IPython.core.display.HTML object>"
      ]
     },
     "metadata": {},
     "output_type": "display_data"
    },
    {
     "data": {
      "text/html": [
       "<a href='https://www.manilatimes.net/2020/07/11/news/latest-stories/600-ph-covid-19-patients-enrolled-in-who-solidarity-trial-dost/740407/'> 600 PH Covid-19 patients enrolled in WHO Solidarity Trial — DoST – The Manila Times</a>"
      ],
      "text/plain": [
       "<IPython.core.display.HTML object>"
      ]
     },
     "metadata": {},
     "output_type": "display_data"
    },
    {
     "data": {
      "text/html": [
       "<a href='https://www.eaglenews.ph/96-new-covid-19-cases-reported-among-overseas-filipinos-total-now-at-over-5300/'> 96 new COVID-19 cases reported among overseas Filipinos, total now at over 5,300</a>"
      ],
      "text/plain": [
       "<IPython.core.display.HTML object>"
      ]
     },
     "metadata": {},
     "output_type": "display_data"
    },
    {
     "data": {
      "text/html": [
       "<a href='https://www.manilatimes.net/2020/07/10/lifestyle-entertainment/show-times/abs-cbn-artists-talent-managers-take-pay-cut/739876/'> ABS-CBN artists, talent managers take pay cut – The Manila Times</a>"
      ],
      "text/plain": [
       "<IPython.core.display.HTML object>"
      ]
     },
     "metadata": {},
     "output_type": "display_data"
    },
    {
     "data": {
      "text/html": [
       "<a href='https://www.dailymotion.com/embed/video/x7uxsb6'> Dailymotion Video Player - ABS-CBN franchise application rejected by House committee | Evening wRap</a>"
      ],
      "text/plain": [
       "<IPython.core.display.HTML object>"
      ]
     },
     "metadata": {},
     "output_type": "display_data"
    },
    {
     "data": {
      "text/html": [
       "<a href='https://edgedavao.net/entrepreneurs/2019/04/18/atty-antonio-b-partoza-jr-creating-a-name-for-davao/'> ATTY. ANTONIO B. PARTOZA JR: CREATING A NAME FOR DAVAO - Edge Davao</a>"
      ],
      "text/plain": [
       "<IPython.core.display.HTML object>"
      ]
     },
     "metadata": {},
     "output_type": "display_data"
    },
    {
     "data": {
      "text/html": [
       "<a href='https://www.manilatimes.net/2020/07/11/business/green-business/addressing-climate-related-disasters-in-covid-19-era/740222/'> Addressing climate-related disasters in Covid-19 era – The Manila Times</a>"
      ],
      "text/plain": [
       "<IPython.core.display.HTML object>"
      ]
     },
     "metadata": {},
     "output_type": "display_data"
    },
    {
     "data": {
      "text/html": [
       "<a href='https://edgedavao.net/community-sense/2020/04/22/alibaba-challenges-students-in-philippines-and-12-other-markets-to-create-solutions-for-a-post-covid-19-world/'> Alibaba challenges students in Philippines and 12 Other markets to create solutions for a post Covid-19 world - Edge Davao</a>"
      ],
      "text/plain": [
       "<IPython.core.display.HTML object>"
      ]
     },
     "metadata": {},
     "output_type": "display_data"
    },
    {
     "data": {
      "text/html": [
       "<a href='https://edgedavao.net/the-economy/2020/07/04/all-phoenix-stations-in-davao-region-back-in-operation/'> All Phoenix stations in Davao Region back in operation - Edge Davao</a>"
      ],
      "text/plain": [
       "<IPython.core.display.HTML object>"
      ]
     },
     "metadata": {},
     "output_type": "display_data"
    },
    {
     "data": {
      "text/html": [
       "<a href='https://www.interaksyon.com/politics-issues/2020/07/09/172536/amid-high-unemployment-pandemic-layoffs-dela-rosa-tells-abs-cbn-workers-to-find-other-jobs/'> Amid high unemployment, pandemic layoffs, Dela Rosa tells ABS-CBN workers to find other jobs</a>"
      ],
      "text/plain": [
       "<IPython.core.display.HTML object>"
      ]
     },
     "metadata": {},
     "output_type": "display_data"
    },
    {
     "data": {
      "text/html": [
       "<a href='http://davaotoday.com/main/human-rights/arrest-of-balingasag-7-draws-condemnation-from-indigenous-groups/'> Arrest of Balingasag 7 draws condemnation from indigenous groups | Davao Today</a>"
      ],
      "text/plain": [
       "<IPython.core.display.HTML object>"
      ]
     },
     "metadata": {},
     "output_type": "display_data"
    },
    {
     "data": {
      "text/html": [
       "<a href='https://www.manilatimes.net/2020/07/12/weekly/the-sunday-times/cover-story/artistry-and-creativity-in-the-time-of-pandemic/740705/'> Artistry and creativity in the time of pandemic – The Manila Times</a>"
      ],
      "text/plain": [
       "<IPython.core.display.HTML object>"
      ]
     },
     "metadata": {},
     "output_type": "display_data"
    },
    {
     "data": {
      "text/html": [
       "<a href='https://www.eaglenews.ph/at-least-19-mrt-3-trains-to-run-in-metro-manila-amid-gcq-to-allow-social-distancing-says-dotr/'> At least 19 MRT-3 trains to run in Metro Manila amid GCQ to allow social distancing, says DOTr</a>"
      ],
      "text/plain": [
       "<IPython.core.display.HTML object>"
      ]
     },
     "metadata": {},
     "output_type": "display_data"
    },
    {
     "data": {
      "text/html": [
       "<a href='https://www.manilatimes.net/2020/07/12/news/world/australia-oks-remdesivir-vs-covid-19/740647/'> Australia OKs remdesivir vs Covid-19 – The Manila Times</a>"
      ],
      "text/plain": [
       "<IPython.core.display.HTML object>"
      ]
     },
     "metadata": {},
     "output_type": "display_data"
    },
    {
     "data": {
      "text/html": [
       "<a href='https://www.mindanews.com/mindaviews/2020/06/bangsamoro-speaks-balance-compassion-and-discipline-and-at-the-same-uphold-the-rule-of-law/'> BANGSAMORO SPEAKS: Balance compassion and discipline and at the same, uphold the rule of law | MindaNews</a>"
      ],
      "text/plain": [
       "<IPython.core.display.HTML object>"
      ]
     },
     "metadata": {},
     "output_type": "display_data"
    },
    {
     "data": {
      "text/html": [
       "<a href='https://www.mindanews.com/peace-process/2020/06/bangsamoro-parliament-has-yet-to-act-on-resolution-expressing-grave-concern-over-proposed-anti-terrorism-act/'> Bangsamoro Parliament has yet to act on resolution expressing “grave concern” over proposed Anti-Terrorism Act | MindaNews</a>"
      ],
      "text/plain": [
       "<IPython.core.display.HTML object>"
      ]
     },
     "metadata": {},
     "output_type": "display_data"
    },
    {
     "data": {
      "text/html": [
       "<a href='https://www.manilatimes.net/2020/07/12/public-square/beko-channels-grand-launch-budget-to-covid-19-fight-efforts/740765/'> Beko channels grand launch budget to Covid-19 fight efforts – The Manila Times</a>"
      ],
      "text/plain": [
       "<IPython.core.display.HTML object>"
      ]
     },
     "metadata": {},
     "output_type": "display_data"
    },
    {
     "data": {
      "text/html": [
       "<a href='https://www.manilatimes.net/2020/07/12/news/top-stories/bong-go-to-continue-mission-of-service/740531/'> Bong Go to continue ‘mission of service’ – The Manila Times</a>"
      ],
      "text/plain": [
       "<IPython.core.display.HTML object>"
      ]
     },
     "metadata": {},
     "output_type": "display_data"
    },
    {
     "data": {
      "text/html": [
       "<a href='https://www.eaglenews.ph/covid-19-cases-among-overseas-filipinos-now-at-5218-with-more-than-2100-recoveries-300-deaths/'> COVID-19 cases among overseas Filipinos now at 5,218, with more than 2,100 recoveries, 300 deaths</a>"
      ],
      "text/plain": [
       "<IPython.core.display.HTML object>"
      ]
     },
     "metadata": {},
     "output_type": "display_data"
    },
    {
     "data": {
      "text/html": [
       "<a href='https://www.eaglenews.ph/covid-19-cases-among-overseas-filipinos-reach-8803/'> COVID-19 cases among overseas Filipinos reach 8803</a>"
      ],
      "text/plain": [
       "<IPython.core.display.HTML object>"
      ]
     },
     "metadata": {},
     "output_type": "display_data"
    },
    {
     "data": {
      "text/html": [
       "<a href='https://www.eaglenews.ph/covid-19-special-report-learning-from-the-1918-1919-flu-pandemic-that-killed-50-million-worldwide/'> COVID-19 special report: Learning from the 1918-1919 Flu Pandemic that killed 50 million worldwide</a>"
      ],
      "text/plain": [
       "<IPython.core.display.HTML object>"
      ]
     },
     "metadata": {},
     "output_type": "display_data"
    },
    {
     "data": {
      "text/html": [
       "<a href='https://www.mindanews.com/peace-process/2020/01/ceasefire-holding-sison-says-he-is-ready-to-meet-duterte-in-hanoi/'> Ceasefire holding; Sison says he is ready to meet Duterte in Hanoi   | MindaNews</a>"
      ],
      "text/plain": [
       "<IPython.core.display.HTML object>"
      ]
     },
     "metadata": {},
     "output_type": "display_data"
    },
    {
     "data": {
      "text/html": [
       "<a href='https://www.interaksyon.com/politics-issues/2020/07/08/172378/china-could-have-done-more-to-aid-worlds-covid-19-response-top-u-s-health-official-says/'> China could have done more to aid world's COVID-19 response, top U.S. health official says</a>"
      ],
      "text/plain": [
       "<IPython.core.display.HTML object>"
      ]
     },
     "metadata": {},
     "output_type": "display_data"
    },
    {
     "data": {
      "text/html": [
       "<a href='http://davaotoday.com/main/politics/church-moro-groups-in-region-10-slam-anti-terror-law/'> Church, Moro groups in Region 10 slam Anti-Terror Law | Davao Today</a>"
      ],
      "text/plain": [
       "<IPython.core.display.HTML object>"
      ]
     },
     "metadata": {},
     "output_type": "display_data"
    },
    {
     "data": {
      "text/html": [
       "<a href='http://davaotoday.com/main/environment/coronavirus-affects-reshipment-of-korean-trash-customs-revenue-collection/'> Coronavirus affects reshipment of Korean trash, Customs revenue collection | Davao Today</a>"
      ],
      "text/plain": [
       "<IPython.core.display.HTML object>"
      ]
     },
     "metadata": {},
     "output_type": "display_data"
    },
    {
     "data": {
      "text/html": [
       "<a href='https://www.dailymotion.com/embed/video/x7ux1y9'> Dailymotion Video Player - Coronavirus cases in the Philippines spike, breach 50,000 | Evening wRap</a>"
      ],
      "text/plain": [
       "<IPython.core.display.HTML object>"
      ]
     },
     "metadata": {},
     "output_type": "display_data"
    },
    {
     "data": {
      "text/html": [
       "<a href='https://www.mindanews.com/peace-process/2020/02/cotabato-city-seeks-exclusion-from-barmm-until-june-30-2022/'> Cotabato City seeks exclusion from BARMM until June 30, 2022 | MindaNews</a>"
      ],
      "text/plain": [
       "<IPython.core.display.HTML object>"
      ]
     },
     "metadata": {},
     "output_type": "display_data"
    },
    {
     "data": {
      "text/html": [
       "<a href='https://www.interaksyon.com/politics-issues/2020/07/09/172547/couple-privilege-motorcycle-backriding-allowed-in-gcq-mgcq-areas-starting-july-10/'> Couple privilege: Motorcycle backriding allowed in GCQ, MGCQ areas starting July 10</a>"
      ],
      "text/plain": [
       "<IPython.core.display.HTML object>"
      ]
     },
     "metadata": {},
     "output_type": "display_data"
    },
    {
     "data": {
      "text/html": [
       "<a href='https://www.eaglenews.ph/doh-reports-807-covid-19-recoveries-on-saturday-total-cases-reach-54222/'> DOH reports 807 COVID-19 recoveries on Saturday; total cases reach 54222</a>"
      ],
      "text/plain": [
       "<IPython.core.display.HTML object>"
      ]
     },
     "metadata": {},
     "output_type": "display_data"
    },
    {
     "data": {
      "text/html": [
       "<a href='https://www.interaksyon.com/politics-issues/2020/07/10/172692/dotr-says-naia-tents-for-stranded-individuals-donated-by-lopez-companies-after-drawing-flak/'> DOTr says NAIA tents for stranded individuals donated by Lopez companies after drawing flak</a>"
      ],
      "text/plain": [
       "<IPython.core.display.HTML object>"
      ]
     },
     "metadata": {},
     "output_type": "display_data"
    },
    {
     "data": {
      "text/html": [
       "<a href='http://davaotoday.com/main/economy/health/davao-city-imposes-fines-for-persons-not-wearing-face-masks/'> Davao City imposes fines for persons not wearing face masks | Davao Today</a>"
      ],
      "text/plain": [
       "<IPython.core.display.HTML object>"
      ]
     },
     "metadata": {},
     "output_type": "display_data"
    },
    {
     "data": {
      "text/html": [
       "<a href='http://davaotoday.com/main/economy/health/davao-city-joins-other-davao-provinces-under-mgcq/'> Davao City joins other Davao provinces under MGCQ | Davao Today</a>"
      ],
      "text/plain": [
       "<IPython.core.display.HTML object>"
      ]
     },
     "metadata": {},
     "output_type": "display_data"
    },
    {
     "data": {
      "text/html": [
       "<a href='http://davaotoday.com/main/environment/davao-city-on-alert-for-tropical-depression-ambo/'> Davao City on alert for Tropical Depression Ambo | Davao Today</a>"
      ],
      "text/plain": [
       "<IPython.core.display.HTML object>"
      ]
     },
     "metadata": {},
     "output_type": "display_data"
    },
    {
     "data": {
      "text/html": [
       "<a href='http://davaotoday.com/main/headline/davao-business-sector-still-divided-on-martial-rule/'> Davao business sector still divided on martial rule | Davao Today</a>"
      ],
      "text/plain": [
       "<IPython.core.display.HTML object>"
      ]
     },
     "metadata": {},
     "output_type": "display_data"
    },
    {
     "data": {
      "text/html": [
       "<a href='https://edgedavao.net/bigger-picture/2020/06/18/davao-coastal-road-section-to-open-late-august-2020/'> Davao coastal road section to open late August 2020 - Edge Davao</a>"
      ],
      "text/plain": [
       "<IPython.core.display.HTML object>"
      ]
     },
     "metadata": {},
     "output_type": "display_data"
    },
    {
     "data": {
      "text/html": [
       "<a href='https://www.mindanews.com/top-stories/2020/07/davao-tells-barangays-near-rivers-to-prepare-more-evacuation-centers/'> Davao tells barangays near rivers to prepare more evacuation centers | MindaNews</a>"
      ],
      "text/plain": [
       "<IPython.core.display.HTML object>"
      ]
     },
     "metadata": {},
     "output_type": "display_data"
    },
    {
     "data": {
      "text/html": [
       "<a href='https://www.mindanews.com/business/2020/05/davao-tourism-suffers-huge-drop-in-revenues-due-to-covid-19/'> Davao tourism suffers ‘huge drop’ in revenues due to COVID-19 | MindaNews</a>"
      ],
      "text/plain": [
       "<IPython.core.display.HTML object>"
      ]
     },
     "metadata": {},
     "output_type": "display_data"
    },
    {
     "data": {
      "text/html": [
       "<a href='http://davaotoday.com/main/economy/health/davaos-barangay-23-c-on-hard-lockdown-due-to-covid-19/'> Davao’s Barangay 23-C on ‘hard lockdown’ due to Covid-19 | Davao Today</a>"
      ],
      "text/plain": [
       "<IPython.core.display.HTML object>"
      ]
     },
     "metadata": {},
     "output_type": "display_data"
    },
    {
     "data": {
      "text/html": [
       "<a href='http://davaotoday.com/main/economy/health/davaos-barangay-23-c-on-hard-lockdown-due-to-covid-19/'> Davao’s Barangay 23-C on ‘hard lockdown’ due to Covid-19 | Davao Today</a>"
      ],
      "text/plain": [
       "<IPython.core.display.HTML object>"
      ]
     },
     "metadata": {},
     "output_type": "display_data"
    },
    {
     "data": {
      "text/html": [
       "<a href='https://www.manilatimes.net/2020/07/11/news/latest-stories/duque-visits-manila-hospitals-as-covid-19-cases-reach-54k/740611/'> Duque visits Manila hospitals as Covid-19 cases reach 54K – The Manila Times</a>"
      ],
      "text/plain": [
       "<IPython.core.display.HTML object>"
      ]
     },
     "metadata": {},
     "output_type": "display_data"
    },
    {
     "data": {
      "text/html": [
       "<a href='https://www.mindanews.com/booksmindanews/2019/11/duterte-has-no-meranaw-roots-book-author-says/'> Duterte has no Meranaw roots, book author says | MindaNews</a>"
      ],
      "text/plain": [
       "<IPython.core.display.HTML object>"
      ]
     },
     "metadata": {},
     "output_type": "display_data"
    },
    {
     "data": {
      "text/html": [
       "<a href='https://www.interaksyon.com/politics-issues/2020/07/08/172391/duterte-warns-filipinos-of-higher-travel-costs-after-govt-lifts-ban-on-overseas-trips/'> Duterte warns of risks of non-essential travel shortly after government lifted ban</a>"
      ],
      "text/plain": [
       "<IPython.core.display.HTML object>"
      ]
     },
     "metadata": {},
     "output_type": "display_data"
    },
    {
     "data": {
      "text/html": [
       "<a href='https://www.eaglenews.ph/ebc-photography-a-view-of-the-rhine-river-this-spring-amid-the-pandemic/'> EBC photography: A view of the Rhine River this spring amid the pandemic</a>"
      ],
      "text/plain": [
       "<IPython.core.display.HTML object>"
      ]
     },
     "metadata": {},
     "output_type": "display_data"
    },
    {
     "data": {
      "text/html": [
       "<a href='https://edgedavao.net/feature/2019/12/22/edge-davaos-and-zions-candyland-party/'> Edge Davao’s and Zion’s Candyland party - Edge Davao</a>"
      ],
      "text/plain": [
       "<IPython.core.display.HTML object>"
      ]
     },
     "metadata": {},
     "output_type": "display_data"
    },
    {
     "data": {
      "text/html": [
       "<a href='https://www.interaksyon.com/politics-issues/2020/07/09/172519/eric-yap-p200-million-bribe-claim-questioned-as-house-vote-on-abs-cbn-franchise-nears/'> Eric Yap's P200-million bribe claim questioned as House vote on ABS-CBN franchise nears</a>"
      ],
      "text/plain": [
       "<IPython.core.display.HTML object>"
      ]
     },
     "metadata": {},
     "output_type": "display_data"
    },
    {
     "data": {
      "text/html": [
       "<a href='https://www.eaglenews.ph/european-union-donates-to-guatemala-72000-test-kits-to-detect-covid-19-cases/'> European Union donates to Guatemala 72,000 test kits to detect COVID-19 cases</a>"
      ],
      "text/plain": [
       "<IPython.core.display.HTML object>"
      ]
     },
     "metadata": {},
     "output_type": "display_data"
    },
    {
     "data": {
      "text/html": [
       "<a href='http://davaotoday.com/main/todays-views/fertilizer-scam-pandemic-edition/'> Fertilizer scam, pandemic edition | Davao Today</a>"
      ],
      "text/plain": [
       "<IPython.core.display.HTML object>"
      ]
     },
     "metadata": {},
     "output_type": "display_data"
    },
    {
     "data": {
      "text/html": [
       "<a href='https://www.eaglenews.ph/fighting-coronavirus-dreaming-of-olympics-meet-japans-boxing-nurse/'> Fighting coronavirus, dreaming of Olympics: meet Japan's boxing nurse</a>"
      ],
      "text/plain": [
       "<IPython.core.display.HTML object>"
      ]
     },
     "metadata": {},
     "output_type": "display_data"
    },
    {
     "data": {
      "text/html": [
       "<a href='https://www.interaksyon.com/politics-issues/2020/07/10/172643/final-verdict-house-committee-rejects-abs-cbns-franchise-renewal/'> Final verdict: House committee rejects ABS-CBN's franchise renewal</a>"
      ],
      "text/plain": [
       "<IPython.core.display.HTML object>"
      ]
     },
     "metadata": {},
     "output_type": "display_data"
    },
    {
     "data": {
      "text/html": [
       "<a href='https://www.eaglenews.ph/flying-back-to-the-philippines-during-the-covid-19-pandemic-what-to-expect-in-the-new-normal/'> Flying back to the Philippines during the COVID-19 pandemic: what to expect in the \"new normal\"</a>"
      ],
      "text/plain": [
       "<IPython.core.display.HTML object>"
      ]
     },
     "metadata": {},
     "output_type": "display_data"
    },
    {
     "data": {
      "text/html": [
       "<a href='http://davaotoday.com/main/politics/four-petitions-from-lawyers-groups-challenge-anti-terror-law-at-supreme-court/'> Four petitions from lawyers’ groups challenge Anti-Terror Law at Supreme Court | Davao Today</a>"
      ],
      "text/plain": [
       "<IPython.core.display.HTML object>"
      ]
     },
     "metadata": {},
     "output_type": "display_data"
    },
    {
     "data": {
      "text/html": [
       "<a href='https://www.eaglenews.ph/france-uncovers-massive-fraud-of-coronavirus-wage-payouts/'> France uncovers 'massive fraud' of coronavirus wage payouts</a>"
      ],
      "text/plain": [
       "<IPython.core.display.HTML object>"
      ]
     },
     "metadata": {},
     "output_type": "display_data"
    },
    {
     "data": {
      "text/html": [
       "<a href='https://www.dailymotion.com/embed/video/x7uuoxs'> Dailymotion Video Player - Groups file Supreme Court petitions vs anti-terror law | Evening wRap</a>"
      ],
      "text/plain": [
       "<IPython.core.display.HTML object>"
      ]
     },
     "metadata": {},
     "output_type": "display_data"
    },
    {
     "data": {
      "text/html": [
       "<a href='http://davaotoday.com/main/politics/groups-raise-alarm-as-duterte-signs-anti-terror-law/'> Groups raise alarm as Duterte signs anti-terror law | Davao Today</a>"
      ],
      "text/plain": [
       "<IPython.core.display.HTML object>"
      ]
     },
     "metadata": {},
     "output_type": "display_data"
    },
    {
     "data": {
      "text/html": [
       "<a href='http://davaotoday.com/main/culture-2/entertainment/health-advocates-want-test-centers-in-every-region-vs-covid-19/'> Health advocates want test centers in every region vs COVID-19 | Davao Today</a>"
      ],
      "text/plain": [
       "<IPython.core.display.HTML object>"
      ]
     },
     "metadata": {},
     "output_type": "display_data"
    },
    {
     "data": {
      "text/html": [
       "<a href='https://www.interaksyon.com/politics-issues/2020/07/10/172592/house-nears-vote-on-fate-of-abs-cbn-that-clashed-with-duterte/'> House nears vote on fate of ABS-CBN that clashed with Duterte</a>"
      ],
      "text/plain": [
       "<IPython.core.display.HTML object>"
      ]
     },
     "metadata": {},
     "output_type": "display_data"
    },
    {
     "data": {
      "text/html": [
       "<a href='https://www.interaksyon.com/trends-spotlights/2020/07/08/172369/how-local-news-outlets-updated-filipinos-on-delayed-telecast-dutertes-taped-national-address/'> How local news outlets updated Filipinos on delayed telecast of Duterte's taped national address</a>"
      ],
      "text/plain": [
       "<IPython.core.display.HTML object>"
      ]
     },
     "metadata": {},
     "output_type": "display_data"
    },
    {
     "data": {
      "text/html": [
       "<a href='https://www.mindanews.com/top-stories/2020/07/how-the-17-mindanawon-reps-voted-on-abs-cbns-franchise-bid/'> How the 17 Mindanawon reps voted on ABS-CBN’s franchise bid | MindaNews</a>"
      ],
      "text/plain": [
       "<IPython.core.display.HTML object>"
      ]
     },
     "metadata": {},
     "output_type": "display_data"
    },
    {
     "data": {
      "text/html": [
       "<a href='http://davaotoday.com/main/culture-2/how-the-lumad-learned-to-survive-in-haran/'> How the Lumad learned to survive in Haran | Davao Today</a>"
      ],
      "text/plain": [
       "<IPython.core.display.HTML object>"
      ]
     },
     "metadata": {},
     "output_type": "display_data"
    },
    {
     "data": {
      "text/html": [
       "<a href='https://www.interaksyon.com/trends-spotlights/2020/07/08/172405/howie-severinos-arrest-juxtaposed-with-other-high-profile-ecq-violators/'> Howie Severino's 'arrest' juxtaposed with other high-profile ECQ violators</a>"
      ],
      "text/plain": [
       "<IPython.core.display.HTML object>"
      ]
     },
     "metadata": {},
     "output_type": "display_data"
    },
    {
     "data": {
      "text/html": [
       "<a href='https://edgedavao.net/suburbia/2020/01/04/humanitarian-mission-provides-relief-in-davao-del-sur/'> Humanitarian mission provides relief in Davao del Sur - Edge Davao</a>"
      ],
      "text/plain": [
       "<IPython.core.display.HTML object>"
      ]
     },
     "metadata": {},
     "output_type": "display_data"
    },
    {
     "data": {
      "text/html": [
       "<a href='https://www.interaksyon.com/hobbies-interests/2020/07/09/172262/if-health-equals-happiness-will-coronavirus-make-the-world-an-unhappier-place/'> If health equals happiness, will coronavirus make the world an unhappier place?</a>"
      ],
      "text/plain": [
       "<IPython.core.display.HTML object>"
      ]
     },
     "metadata": {},
     "output_type": "display_data"
    },
    {
     "data": {
      "text/html": [
       "<a href='https://www.eaglenews.ph/iglesia-ni-cristo-church-of-christ-in-hawaii-conducts-contact-free-aid-to-humanity-during-covid-19-crisis/'> Iglesia Ni Cristo (Church Of Christ) in Hawaii conducts contact-free Aid to Humanity during COVID-19 crisis</a>"
      ],
      "text/plain": [
       "<IPython.core.display.HTML object>"
      ]
     },
     "metadata": {},
     "output_type": "display_data"
    },
    {
     "data": {
      "text/html": [
       "<a href='https://www.eaglenews.ph/iglesia-ni-cristo-in-taiwan-holds-lingap-for-ofws/'> Iglesia Ni Cristo in Taiwan holds \"Lingap for OFWs\"</a>"
      ],
      "text/plain": [
       "<IPython.core.display.HTML object>"
      ]
     },
     "metadata": {},
     "output_type": "display_data"
    },
    {
     "data": {
      "text/html": [
       "<a href='https://www.eaglenews.ph/in-photos-president-duterte-undergoes-covid-19-test-along-with-sen-bong-go/'> In photos: President Duterte undergoes COVID-19 test, along with Sen. Bong Go</a>"
      ],
      "text/plain": [
       "<IPython.core.display.HTML object>"
      ]
     },
     "metadata": {},
     "output_type": "display_data"
    },
    {
     "data": {
      "text/html": [
       "<a href='https://www.eaglenews.ph/in-photos-iglesia-ni-cristo-starts-lingap-sa-mamamayan-to-help-those-affected-by-mindanao-quakes/'> In photos: Iglesia Ni Cristo starts \"Lingap sa Mamamayan\" to help those affected by Mindanao quakes</a>"
      ],
      "text/plain": [
       "<IPython.core.display.HTML object>"
      ]
     },
     "metadata": {},
     "output_type": "display_data"
    },
    {
     "data": {
      "text/html": [
       "<a href='https://www.eaglenews.ph/in-photos-president-duterte-speaks-to-chinese-leader-xi-over-the-phone/'> In photos: President Duterte speaks to Chinese leader Xi over the phone</a>"
      ],
      "text/plain": [
       "<IPython.core.display.HTML object>"
      ]
     },
     "metadata": {},
     "output_type": "display_data"
    },
    {
     "data": {
      "text/html": [
       "<a href='http://davaotoday.com/main/politics/indigenous-moro-groups-fear-anti-terror-law-repeating-past-abuses/'> Indigenous, Moro groups fear Anti-Terror Law repeating past abuses | Davao Today</a>"
      ],
      "text/plain": [
       "<IPython.core.display.HTML object>"
      ]
     },
     "metadata": {},
     "output_type": "display_data"
    },
    {
     "data": {
      "text/html": [
       "<a href='http://davaotoday.com/main/davao-city/investors-organize-1st-branch-in-davao/'> Investors organize 1st branch in Davao | Davao Today</a>"
      ],
      "text/plain": [
       "<IPython.core.display.HTML object>"
      ]
     },
     "metadata": {},
     "output_type": "display_data"
    },
    {
     "data": {
      "text/html": [
       "<a href='https://edgedavao.net/suburbia/2019/11/15/isolated-lumads-hail-govt-attention-care/'> Isolated Lumads hail gov’t attention, care - Edge Davao</a>"
      ],
      "text/plain": [
       "<IPython.core.display.HTML object>"
      ]
     },
     "metadata": {},
     "output_type": "display_data"
    },
    {
     "data": {
      "text/html": [
       "<a href='https://www.dailymotion.com/embed/video/x7uw9l2'> Dailymotion Video Player - Joy Belmonte, Jair Bolsonaro test positive for coronavirus  | Evening wRap</a>"
      ],
      "text/plain": [
       "<IPython.core.display.HTML object>"
      ]
     },
     "metadata": {},
     "output_type": "display_data"
    },
    {
     "data": {
      "text/html": [
       "<a href='https://www.eaglenews.ph/kids-in-malaysia-talk-about-covid-19-and-why-they-cannot-go-out/'> Kids in Malaysia talk about COVID-19 and why they cannot go out</a>"
      ],
      "text/plain": [
       "<IPython.core.display.HTML object>"
      ]
     },
     "metadata": {},
     "output_type": "display_data"
    },
    {
     "data": {
      "text/html": [
       "<a href='https://www.interaksyon.com/celebrities/2020/07/10/172608/kuya-kim-spews-trivia-on-twitter-as-he-responds-to-abs-cbn-critics-trolls/'> Kuya Kim spews trivia on Twitter as he responds to ABS-CBN critics, trolls</a>"
      ],
      "text/plain": [
       "<IPython.core.display.HTML object>"
      ]
     },
     "metadata": {},
     "output_type": "display_data"
    },
    {
     "data": {
      "text/html": [
       "<a href='https://www.youtube.com/embed/wEBbepqCe3I'> House committee votes on ABS-CBN franchise renewal | Friday, July 10 - YouTube</a>"
      ],
      "text/plain": [
       "<IPython.core.display.HTML object>"
      ]
     },
     "metadata": {},
     "output_type": "display_data"
    },
    {
     "data": {
      "text/html": [
       "<a href='https://www.eaglenews.ph/ltfrb-central-office-in-qc-to-temporarily-suspend-ops-starting-monday-july-13-after-five-test-positive-for-covid-19/'> LTFRB central office in QC to temporarily suspend ops starting Monday, July 13, after five test positive for COVID-19</a>"
      ],
      "text/plain": [
       "<IPython.core.display.HTML object>"
      ]
     },
     "metadata": {},
     "output_type": "display_data"
    },
    {
     "data": {
      "text/html": [
       "<a href='https://www.eaglenews.ph/liquor-ban-still-in-place-in-manila-amid-gcq/'> Liquor ban still in place in Manila amid GCQ</a>"
      ],
      "text/plain": [
       "<IPython.core.display.HTML object>"
      ]
     },
     "metadata": {},
     "output_type": "display_data"
    },
    {
     "data": {
      "text/html": [
       "<a href='https://www.interaksyon.com/celebrities/2020/07/08/172420/lizquen-to-marcoleta-give-abs-cbn-another-chance/'> LizQuen to Marcoleta: Give ABS-CBN another chance</a>"
      ],
      "text/plain": [
       "<IPython.core.display.HTML object>"
      ]
     },
     "metadata": {},
     "output_type": "display_data"
    },
    {
     "data": {
      "text/html": [
       "<a href='https://www.eaglenews.ph/manila-to-close-business-establishments-lock-down-barangays-violating-quarantine-rules/'> Manila to close business establishments, lock down barangays violating quarantine rules</a>"
      ],
      "text/plain": [
       "<IPython.core.display.HTML object>"
      ]
     },
     "metadata": {},
     "output_type": "display_data"
    },
    {
     "data": {
      "text/html": [
       "<a href='https://www.mindanews.com/top-stories/2020/07/mayor-sara-covid-19-situation-not-yet-under-control/'> Mayor Sara: COVID-19 situation not yet under control | MindaNews</a>"
      ],
      "text/plain": [
       "<IPython.core.display.HTML object>"
      ]
     },
     "metadata": {},
     "output_type": "display_data"
    },
    {
     "data": {
      "text/html": [
       "<a href='https://www.eaglenews.ph/more-than-2300-new-covid-19-cases-reported-among-overseas-filipinos-in-a-day/'> More than 2,300 new COVID-19 cases reported among overseas Filipinos in a day</a>"
      ],
      "text/plain": [
       "<IPython.core.display.HTML object>"
      ]
     },
     "metadata": {},
     "output_type": "display_data"
    },
    {
     "data": {
      "text/html": [
       "<a href='http://davaotoday.com/main/headline/most-davao-businesses-dont-have-continuity-plan-pcci/'> Most Davao businesses don’t have continuity plan – PCCI | Davao Today</a>"
      ],
      "text/plain": [
       "<IPython.core.display.HTML object>"
      ]
     },
     "metadata": {},
     "output_type": "display_data"
    },
    {
     "data": {
      "text/html": [
       "<a href='https://edgedavao.net/the-big-news/2020/06/26/most-stranded-individuals-are-davao-bound-airline-exec/'> Most stranded individuals are Davao-bound: airline exec - Edge Davao</a>"
      ],
      "text/plain": [
       "<IPython.core.display.HTML object>"
      ]
     },
     "metadata": {},
     "output_type": "display_data"
    },
    {
     "data": {
      "text/html": [
       "<a href='https://www.manilatimes.net/2020/07/12/news/latest-stories/ncaa-pvl-uaap-mpbl-support-abs-cbn/740810/'> NCAA, PVL, UAAP, MPBL support ABS-CBN – The Manila Times</a>"
      ],
      "text/plain": [
       "<IPython.core.display.HTML object>"
      ]
     },
     "metadata": {},
     "output_type": "display_data"
    },
    {
     "data": {
      "text/html": [
       "<a href='https://www.eaglenews.ph/no-new-covid-19-cases-fatalities-recorded-for-the-day-among-overseas-filipinos-dfa/'> No new COVID-19 cases, fatalities recorded for the day among overseas Filipinos: DFA</a>"
      ],
      "text/plain": [
       "<IPython.core.display.HTML object>"
      ]
     },
     "metadata": {},
     "output_type": "display_data"
    },
    {
     "data": {
      "text/html": [
       "<a href='https://www.eaglenews.ph/pnp-recruitment-and-training-programs-to-resume-as-ncr-eases-to-gcq-on-june-1/'> PNP recruitment and training programs to resume as NCR eases to GCQ on June 1</a>"
      ],
      "text/plain": [
       "<IPython.core.display.HTML object>"
      ]
     },
     "metadata": {},
     "output_type": "display_data"
    },
    {
     "data": {
      "text/html": [
       "<a href='https://www.eaglenews.ph/pnp-reports-1044-covid-19-cases-in-its-ranks/'> PNP reports 1044 COVID-19 cases in its ranks</a>"
      ],
      "text/plain": [
       "<IPython.core.display.HTML object>"
      ]
     },
     "metadata": {},
     "output_type": "display_data"
    },
    {
     "data": {
      "text/html": [
       "<a href='https://www.manilatimes.net/2020/07/11/news/latest-stories/pnpa-plebe-activities-halted-due-to-cadet-deaths/740676/'> PNPA plebe activities halted due to cadet deaths – The Manila Times</a>"
      ],
      "text/plain": [
       "<IPython.core.display.HTML object>"
      ]
     },
     "metadata": {},
     "output_type": "display_data"
    },
    {
     "data": {
      "text/html": [
       "<a href='https://www.manilatimes.net/2020/07/12/legal-advice/dearpao/pwds-exempted-from-personal-appearance-in-availing-of-discount-amid-pandemic/740524/'> PWDs exempted from personal appearance in availing of discount amid pandemic – The Manila Times</a>"
      ],
      "text/plain": [
       "<IPython.core.display.HTML object>"
      ]
     },
     "metadata": {},
     "output_type": "display_data"
    },
    {
     "data": {
      "text/html": [
       "<a href='http://davaotoday.com/main/human-rights/arrest-of-balingasag-7-draws-condemnation-from-indigenous-groups/'> Arrest of Balingasag 7 draws condemnation from indigenous groups | Davao Today</a>"
      ],
      "text/plain": [
       "<IPython.core.display.HTML object>"
      ]
     },
     "metadata": {},
     "output_type": "display_data"
    },
    {
     "data": {
      "text/html": [
       "<a href='http://davaotoday.com/main/politics/church-moro-groups-in-region-10-slam-anti-terror-law/'> Church, Moro groups in Region 10 slam Anti-Terror Law | Davao Today</a>"
      ],
      "text/plain": [
       "<IPython.core.display.HTML object>"
      ]
     },
     "metadata": {},
     "output_type": "display_data"
    },
    {
     "data": {
      "text/html": [
       "<a href='http://tempo.com.ph/2020/07/11/clearing-our-crowded-jails-in-this-pandemic/'>   Clearing our crowded jails in this pandemic | Tempo – The Nation's Fastest Growing Newspaper</a>"
      ],
      "text/plain": [
       "<IPython.core.display.HTML object>"
      ]
     },
     "metadata": {},
     "output_type": "display_data"
    },
    {
     "data": {
      "text/html": [
       "<a href='http://davaotoday.com/main/economy/health/davao-city-imposes-fines-for-persons-not-wearing-face-masks/'> Davao City imposes fines for persons not wearing face masks | Davao Today</a>"
      ],
      "text/plain": [
       "<IPython.core.display.HTML object>"
      ]
     },
     "metadata": {},
     "output_type": "display_data"
    },
    {
     "data": {
      "text/html": [
       "<a href='http://tempo.com.ph/2020/07/11/firms-helping-npa-warned/'>   Firms helping NPA warned | Tempo – The Nation's Fastest Growing Newspaper</a>"
      ],
      "text/plain": [
       "<IPython.core.display.HTML object>"
      ]
     },
     "metadata": {},
     "output_type": "display_data"
    },
    {
     "data": {
      "text/html": [
       "<a href='https://philnews.ph/2020/07/11/frankie-pangilinan-statement-rejected-franchise-renewal-abs-cbn/'> Frankie Pangilinan Statement Over Rejected ABS-CBN Franchise Renewal</a>"
      ],
      "text/plain": [
       "<IPython.core.display.HTML object>"
      ]
     },
     "metadata": {},
     "output_type": "display_data"
    },
    {
     "data": {
      "text/html": [
       "<a href='http://davaotoday.com/main/culture-2/entertainment/health-advocates-want-test-centers-in-every-region-vs-covid-19/'> Health advocates want test centers in every region vs COVID-19 | Davao Today</a>"
      ],
      "text/plain": [
       "<IPython.core.display.HTML object>"
      ]
     },
     "metadata": {},
     "output_type": "display_data"
    },
    {
     "data": {
      "text/html": [
       "<a href='http://davaotoday.com/main/headline/most-davao-businesses-dont-have-continuity-plan-pcci/'> Most Davao businesses don’t have continuity plan – PCCI | Davao Today</a>"
      ],
      "text/plain": [
       "<IPython.core.display.HTML object>"
      ]
     },
     "metadata": {},
     "output_type": "display_data"
    },
    {
     "data": {
      "text/html": [
       "<a href='https://philnews.ph/2020/07/11/penalties-in-violations-of-motorcycle-guidelines-during-quarantine/'> Penalties In Violations Of Motorcycle Guidelines During Quarantine</a>"
      ],
      "text/plain": [
       "<IPython.core.display.HTML object>"
      ]
     },
     "metadata": {},
     "output_type": "display_data"
    },
    {
     "data": {
      "text/html": [
       "<a href='http://davaotoday.com/main/headline/up-mindanao-postpones-events-in-wake-of-covid-19-threat/'> UP Mindanao postpones events in wake of COVID-19 threat | Davao Today</a>"
      ],
      "text/plain": [
       "<IPython.core.display.HTML object>"
      ]
     },
     "metadata": {},
     "output_type": "display_data"
    },
    {
     "data": {
      "text/html": [
       "<a href='http://tempo.com.ph/2020/07/10/house-panel-junks-abs-cbn-franchise-application/'>    House panel votes to reject new ABS-CBN franchise | Tempo – The Nation's Fastest Growing Newspaper</a>"
      ],
      "text/plain": [
       "<IPython.core.display.HTML object>"
      ]
     },
     "metadata": {},
     "output_type": "display_data"
    },
    {
     "data": {
      "text/html": [
       "<a href='https://www.interaksyon.com/politics-issues/2020/07/09/172493/philippines-to-borrow-more-to-cover-coronavirus-response/'> Philippines to borrow more to cover COVID-19 response</a>"
      ],
      "text/plain": [
       "<IPython.core.display.HTML object>"
      ]
     },
     "metadata": {},
     "output_type": "display_data"
    },
    {
     "data": {
      "text/html": [
       "<a href='https://www.eaglenews.ph/powerful-quake-damages-buildings-in-croatia-capital-amid-coronavirus-scare/'> Powerful quake damages buildings in Croatia capital amid coronavirus scare</a>"
      ],
      "text/plain": [
       "<IPython.core.display.HTML object>"
      ]
     },
     "metadata": {},
     "output_type": "display_data"
    },
    {
     "data": {
      "text/html": [
       "<a href='https://www.eaglenews.ph/president-duterte-favors-slow-very-circumspect-reopening-of-the-economy/'> President Duterte favors slow, \"very circumspect\" reopening of the economy</a>"
      ],
      "text/plain": [
       "<IPython.core.display.HTML object>"
      ]
     },
     "metadata": {},
     "output_type": "display_data"
    },
    {
     "data": {
      "text/html": [
       "<a href='http://retiredanalyst.blogspot.com/2020/07/4-police-frontliners-parry-npa-attack.html'> Retired Analyst: 4 police frontliners parry NPA attack in Misamis Occidental</a>"
      ],
      "text/plain": [
       "<IPython.core.display.HTML object>"
      ]
     },
     "metadata": {},
     "output_type": "display_data"
    },
    {
     "data": {
      "text/html": [
       "<a href='http://retiredanalyst.blogspot.com/2020/07/abu-leader-sawadjaan-slain-in-sulu-clash.html'> Retired Analyst: Abu leader Sawadjaan slain in Sulu clash? </a>"
      ],
      "text/plain": [
       "<IPython.core.display.HTML object>"
      ]
     },
     "metadata": {},
     "output_type": "display_data"
    },
    {
     "data": {
      "text/html": [
       "<a href='http://retiredanalyst.blogspot.com/2020/07/cppcio-duterte-demonstrates-how-his.html'> Retired Analyst: CPP/CIO: Duterte demonstrates how his terror law will be used and abused</a>"
      ],
      "text/plain": [
       "<IPython.core.display.HTML object>"
      ]
     },
     "metadata": {},
     "output_type": "display_data"
    },
    {
     "data": {
      "text/html": [
       "<a href='http://retiredanalyst.blogspot.com/2020/07/cppib-continue-fight-to-bring-abs-cbn.html'> Retired Analyst: CPP/IB: Continue the fight to bring ABS-CBN back on air</a>"
      ],
      "text/plain": [
       "<IPython.core.display.HTML object>"
      ]
     },
     "metadata": {},
     "output_type": "display_data"
    },
    {
     "data": {
      "text/html": [
       "<a href='http://retiredanalyst.blogspot.com/2020/07/dutertes-anti-terror-law-necessary.html'> Retired Analyst: Duterte’s Anti-Terror Law Necessary: Analyst</a>"
      ],
      "text/plain": [
       "<IPython.core.display.HTML object>"
      ]
     },
     "metadata": {},
     "output_type": "display_data"
    },
    {
     "data": {
      "text/html": [
       "<a href='http://retiredanalyst.blogspot.com/2020/07/karapatan-sayspastor-accused-of.html'> Retired Analyst: KARAPATAN SAYS//Pastor accused of involvement in ambush staged by NPA rebels nabbed in CamSur  </a>"
      ],
      "text/plain": [
       "<IPython.core.display.HTML object>"
      ]
     },
     "metadata": {},
     "output_type": "display_data"
    },
    {
     "data": {
      "text/html": [
       "<a href='http://retiredanalyst.blogspot.com/2020/07/kalinaw-news-army-recovers-abandon-dead.html'> Retired Analyst: Kalinaw News: Army recovers abandon dead NPA in ZamBo Norte </a>"
      ],
      "text/plain": [
       "<IPython.core.display.HTML object>"
      ]
     },
     "metadata": {},
     "output_type": "display_data"
    },
    {
     "data": {
      "text/html": [
       "<a href='http://retiredanalyst.blogspot.com/2020/07/kalinaw-news-four-high-ranking-cpp-npa.html'> Retired Analyst: Kalinaw News: Four high ranking CPP-NPA terrorists fall in Negros Occidental </a>"
      ],
      "text/plain": [
       "<IPython.core.display.HTML object>"
      ]
     },
     "metadata": {},
     "output_type": "display_data"
    },
    {
     "data": {
      "text/html": [
       "<a href='http://retiredanalyst.blogspot.com/2020/07/kalinaw-news-npa-killed-high-powered.html'> Retired Analyst: Kalinaw News: NPA killed, high-powered firearms captured in ZamBo Norte clash</a>"
      ],
      "text/plain": [
       "<IPython.core.display.HTML object>"
      ]
     },
     "metadata": {},
     "output_type": "display_data"
    },
    {
     "data": {
      "text/html": [
       "<a href='http://retiredanalyst.blogspot.com/2020/07/kalinaw-news-npas-parade-grounds-turned.html'> Retired Analyst: Kalinaw News: NPA’s parade grounds turned by soldiers into a Productive Agricultural Farm</a>"
      ],
      "text/plain": [
       "<IPython.core.display.HTML object>"
      ]
     },
     "metadata": {},
     "output_type": "display_data"
    },
    {
     "data": {
      "text/html": [
       "<a href='http://retiredanalyst.blogspot.com/2020/07/man-alleged-npa-member-and-wanted-for.html'> Retired Analyst: Man, alleged NPA member and wanted for rape, surrenders in Masbate town</a>"
      ],
      "text/plain": [
       "<IPython.core.display.HTML object>"
      ]
     },
     "metadata": {},
     "output_type": "display_data"
    },
    {
     "data": {
      "text/html": [
       "<a href='http://retiredanalyst.blogspot.com/2020/07/ndfsison-duterte-is-in-rush-to-fascist.html'> Retired Analyst: NDF/Sison: Duterte is in rush to fascist dictatorship but conditions are favourable for resistance</a>"
      ],
      "text/plain": [
       "<IPython.core.display.HTML object>"
      ]
     },
     "metadata": {},
     "output_type": "display_data"
    },
    {
     "data": {
      "text/html": [
       "<a href='http://retiredanalyst.blogspot.com/2020/07/npa-fighter-slain-in-zamboanga-del-norte.html'> Retired Analyst: NPA fighter slain in Zamboanga del Norte </a>"
      ],
      "text/plain": [
       "<IPython.core.display.HTML object>"
      ]
     },
     "metadata": {},
     "output_type": "display_data"
    },
    {
     "data": {
      "text/html": [
       "<a href='http://retiredanalyst.blogspot.com/2020/07/ph-navy-christens-first-ever-brand-new.html'> Retired Analyst: PH Navy christens first-ever brand new frigate, BRP Jose Rizal</a>"
      ],
      "text/plain": [
       "<IPython.core.display.HTML object>"
      ]
     },
     "metadata": {},
     "output_type": "display_data"
    },
    {
     "data": {
      "text/html": [
       "<a href='http://retiredanalyst.blogspot.com/2020/07/philippine-court-asked-to-annul-anti.html'> Retired Analyst: Philippine Court Asked to Annul Anti-Terror Law Amid Concerns It Will Target Dissidents </a>"
      ],
      "text/plain": [
       "<IPython.core.display.HTML object>"
      ]
     },
     "metadata": {},
     "output_type": "display_data"
    },
    {
     "data": {
      "text/html": [
       "<a href='http://retiredanalyst.blogspot.com/2020/07/philippine-military-says-abu-sayyaf.html'> Retired Analyst: Philippine military says Abu Sayyaf leader still alive</a>"
      ],
      "text/plain": [
       "<IPython.core.display.HTML object>"
      ]
     },
     "metadata": {},
     "output_type": "display_data"
    },
    {
     "data": {
      "text/html": [
       "<a href='http://retiredanalyst.blogspot.com/2020/07/philippine-police-checking-reports-of.html'> Retired Analyst: Philippine police checking reports of Abu Sayyaf leader’s death</a>"
      ],
      "text/plain": [
       "<IPython.core.display.HTML object>"
      ]
     },
     "metadata": {},
     "output_type": "display_data"
    },
    {
     "data": {
      "text/html": [
       "<a href='http://retiredanalyst.blogspot.com/2020/07/new-normal-is-to-cry-general-turns-over.html'> Retired Analyst: ‘New normal is to cry’: General turns over Basilan command in emotional rites </a>"
      ],
      "text/plain": [
       "<IPython.core.display.HTML object>"
      ]
     },
     "metadata": {},
     "output_type": "display_data"
    },
    {
     "data": {
      "text/html": [
       "<a href='https://edgedavao.net/special-supplement/2020/03/17/some-things-you-need-to-know-about-davao-city/'> SOME THINGS YOU NEED TO KNOW ABOUT DAVAO CITY - Edge Davao</a>"
      ],
      "text/plain": [
       "<IPython.core.display.HTML object>"
      ]
     },
     "metadata": {},
     "output_type": "display_data"
    },
    {
     "data": {
      "text/html": [
       "<a href='https://www.mindanews.com/special-reports/2020/07/special-report-policy-review-of-waste-management-needed-as-davao-city-grapples-with-household-ppe-waste/'> SPECIAL REPORT: Policy review of waste management needed as Davao City grapples with household PPE waste | MindaNews</a>"
      ],
      "text/plain": [
       "<IPython.core.display.HTML object>"
      ]
     },
     "metadata": {},
     "output_type": "display_data"
    },
    {
     "data": {
      "text/html": [
       "<a href='https://www.mindanews.com/peace-process/2020/01/senate-asks-bta-to-name-reps-to-congress-bangsamoro-parliament-forum/'> Senate asks BTA to name reps to Congress-Bangsamoro Parliament Forum | MindaNews</a>"
      ],
      "text/plain": [
       "<IPython.core.display.HTML object>"
      ]
     },
     "metadata": {},
     "output_type": "display_data"
    },
    {
     "data": {
      "text/html": [
       "<a href='https://www.eaglenews.ph/senator-dela-rosa-posts-photo-of-pnp-chief-gamboa-in-hospital-to-show-that-hes-okay/'> Senator Dela Rosa posts photo of PNP chief Gamboa in hospital to show that he's okay</a>"
      ],
      "text/plain": [
       "<IPython.core.display.HTML object>"
      ]
     },
     "metadata": {},
     "output_type": "display_data"
    },
    {
     "data": {
      "text/html": [
       "<a href='http://davaotoday.com/main/human-rights/seven-lumad-arrested-tagged-as-npa-in-misamis-oriental/'> Seven Lumad arrested, tagged as NPA in Misamis Oriental | Davao Today</a>"
      ],
      "text/plain": [
       "<IPython.core.display.HTML object>"
      ]
     },
     "metadata": {},
     "output_type": "display_data"
    },
    {
     "data": {
      "text/html": [
       "<a href='https://edgedavao.net/latest-news/2020/07/04/sexual-abuse-among-children-amid-the-pandemic-on-the-rise/'> Sexual abuse among children amid the pandemic on the rise - Edge Davao</a>"
      ],
      "text/plain": [
       "<IPython.core.display.HTML object>"
      ]
     },
     "metadata": {},
     "output_type": "display_data"
    },
    {
     "data": {
      "text/html": [
       "<a href='https://www.mindanews.com/business/2020/07/socssksargen-investments-php-1-93-b-in-q1-2019-php-69-m-in-q1-2020-due-to-covid-19/'> Socssksargen investments: PhP 1.93-B in Q1 2019. PhP 69-M in Q1 2020 due to COVID-19 | MindaNews</a>"
      ],
      "text/plain": [
       "<IPython.core.display.HTML object>"
      ]
     },
     "metadata": {},
     "output_type": "display_data"
    },
    {
     "data": {
      "text/html": [
       "<a href='https://edgedavao.net/competitive-edge/2020/07/01/splash-corp-makes-nationwide-donation-as-hospitals-continue-to-battle-covid-19/'> Splash Corp. Makes Nationwide Donation as Hospitals Continue to Battle COVID-19 - Edge Davao</a>"
      ],
      "text/plain": [
       "<IPython.core.display.HTML object>"
      ]
     },
     "metadata": {},
     "output_type": "display_data"
    },
    {
     "data": {
      "text/html": [
       "<a href='https://www.eaglenews.ph/stress-free-quarantine-tips-for-parents/'> Stress-free quarantine tips for parents</a>"
      ],
      "text/plain": [
       "<IPython.core.display.HTML object>"
      ]
     },
     "metadata": {},
     "output_type": "display_data"
    },
    {
     "data": {
      "text/html": [
       "<a href='https://www.mindanews.com/mindaviews/2020/07/the-vote-kung-ihahalintulad-natin-sa-isang-tao-ang-abs-cbn-na-maraming-sakit-ang-lunas-ba-ay-patayin-na-lamang-ito/'> THE VOTE: Kung ihahalintulad natin sa isang tao ang ABS-CBN na maraming sakit, ang lunas ba ay patayin na lamang ito? | MindaNews</a>"
      ],
      "text/plain": [
       "<IPython.core.display.HTML object>"
      ]
     },
     "metadata": {},
     "output_type": "display_data"
    },
    {
     "data": {
      "text/html": [
       "<a href='https://www.mindanews.com/mindaviews/2020/07/the-vote-sino-po-ang-apektado-ng-ating-pagpa-shutdown-sa-abs-cbn/'> THE VOTE: Sino po ang apektado ng ating pagpa shutdown sa ABS-CBN? | MindaNews</a>"
      ],
      "text/plain": [
       "<IPython.core.display.HTML object>"
      ]
     },
     "metadata": {},
     "output_type": "display_data"
    },
    {
     "data": {
      "text/html": [
       "<a href='https://www.mindanews.com/mindaviews/2020/07/turning-point-pandemic-distancing-in-education/'> TURNING POINT: Pandemic Distancing in Education | MindaNews</a>"
      ],
      "text/plain": [
       "<IPython.core.display.HTML object>"
      ]
     },
     "metadata": {},
     "output_type": "display_data"
    },
    {
     "data": {
      "text/html": [
       "<a href='https://edgedavao.net/sports/2020/04/04/temporarily-closed-down-arcadia-fitness-gym-backs-covid-19-fight/'> Temporarily closed down Arcadia Fitness Gym backs Covid-19 fight - Edge Davao</a>"
      ],
      "text/plain": [
       "<IPython.core.display.HTML object>"
      ]
     },
     "metadata": {},
     "output_type": "display_data"
    },
    {
     "data": {
      "text/html": [
       "<a href='http://davaotoday.com/main/todays-views/terrorizing-the-people-with-the-anti-terror-bill/'> Terrorizing the people with the anti-terror bill | Davao Today</a>"
      ],
      "text/plain": [
       "<IPython.core.display.HTML object>"
      ]
     },
     "metadata": {},
     "output_type": "display_data"
    },
    {
     "data": {
      "text/html": [
       "<a href='https://www.interaksyon.com/trends-spotlights/2020/07/10/172575/the-hammer-and-dance-theory-vs-coronavirus-according-to-harry-roque/'> The 'hammer and dance' theory vs coronavirus, according to Harry Roque</a>"
      ],
      "text/plain": [
       "<IPython.core.display.HTML object>"
      ]
     },
     "metadata": {},
     "output_type": "display_data"
    },
    {
     "data": {
      "text/html": [
       "<a href='https://www.eaglenews.ph/total-covid-19-cases-among-overseas-filipinos-reach-5230-more-than-half-undergoing-treatment/'> Total COVID-19 cases among overseas Filipinos reach 5,230, more than half undergoing treatment</a>"
      ],
      "text/plain": [
       "<IPython.core.display.HTML object>"
      ]
     },
     "metadata": {},
     "output_type": "display_data"
    },
    {
     "data": {
      "text/html": [
       "<a href='http://davaotoday.com/main/headline/up-mindanao-postpones-events-in-wake-of-covid-19-threat/'> UP Mindanao postpones events in wake of COVID-19 threat | Davao Today</a>"
      ],
      "text/plain": [
       "<IPython.core.display.HTML object>"
      ]
     },
     "metadata": {},
     "output_type": "display_data"
    },
    {
     "data": {
      "text/html": [
       "<a href='http://davaotoday.com/main/economy/health/up-scientists-to-roque-statistics-show-ph-not-winning-vs-covid-19/'> UP scientists to Roque: statistics show PH not winning vs Covid-19 | Davao Today</a>"
      ],
      "text/plain": [
       "<IPython.core.display.HTML object>"
      ]
     },
     "metadata": {},
     "output_type": "display_data"
    },
    {
     "data": {
      "text/html": [
       "<a href='https://www.eaglenews.ph/us-aircraft-carriers-conduct-drills-in-south-china-sea/'> US aircraft carriers conduct drills in South China Sea</a>"
      ],
      "text/plain": [
       "<IPython.core.display.HTML object>"
      ]
     },
     "metadata": {},
     "output_type": "display_data"
    },
    {
     "data": {
      "text/html": [
       "<a href='https://www.eaglenews.ph/us-government-to-give-additional-p201-million-covid-19-aid-for-mindanao/'> US government to give additional P201 million COVID-19 aid for Mindanao</a>"
      ],
      "text/plain": [
       "<IPython.core.display.HTML object>"
      ]
     },
     "metadata": {},
     "output_type": "display_data"
    },
    {
     "data": {
      "text/html": [
       "<a href='http://davaotoday.com/main/human-rights/union-slams-red-tagging-by-vice-mayor-during-labor-settlement/'> Union slams red-tagging by vice mayor during labor settlement | Davao Today</a>"
      ],
      "text/plain": [
       "<IPython.core.display.HTML object>"
      ]
     },
     "metadata": {},
     "output_type": "display_data"
    },
    {
     "data": {
      "text/html": [
       "<a href='https://www.interaksyon.com/celebrities/2020/07/10/172672/voting-rules-on-abs-cbns-franchise-renewal-made-last-minute-confusing-hashtags-on-social-media/'> Voting rules on ABS-CBN’s franchise renewal made last-minute confusing hashtags on social media</a>"
      ],
      "text/plain": [
       "<IPython.core.display.HTML object>"
      ]
     },
     "metadata": {},
     "output_type": "display_data"
    },
    {
     "data": {
      "text/html": [
       "<a href='https://www.interaksyon.com/politics-issues/2020/07/10/172652/whos-who-a-rundown-of-votes-during-abs-cbn-franchise-renewal-final-hearing/'> Who’s who: A rundown of votes during ABS-CBN franchise renewal final hearing</a>"
      ],
      "text/plain": [
       "<IPython.core.display.HTML object>"
      ]
     },
     "metadata": {},
     "output_type": "display_data"
    },
    {
     "data": {
      "text/html": [
       "<a href='https://www.manilatimes.net/2020/07/11/news/latest-stories/govt-has-moral-obligation-to-help-displaced-abs-cbn-workers/740656/'> 'Govt has moral obligation to help displaced ABS-CBN workers' – The Manila Times</a>"
      ],
      "text/plain": [
       "<IPython.core.display.HTML object>"
      ]
     },
     "metadata": {},
     "output_type": "display_data"
    },
    {
     "data": {
      "text/html": [
       "<a href='https://www.interaksyon.com/trends-spotlights/2020/07/10/172642/remember-this-day-abs-cbn-stars-personalities-air-disappointment-after-house-denied-franchise-renewal/'> 'Remember this day': ABS-CBN stars, personalities air disappointment after House denied franchise renewal</a>"
      ],
      "text/plain": [
       "<IPython.core.display.HTML object>"
      ]
     },
     "metadata": {},
     "output_type": "display_data"
    },
    {
     "name": "stdout",
     "output_type": "stream",
     "text": [
      "Errors:  7\n"
     ]
    }
   ],
   "source": [
    "# summary: this takes the list from the first cell of all the html pages\n",
    "# puts the headline as the text for the list\n",
    "# uses beautiful soup to get the headline (the title field)\n",
    "# then makes it an html link\n",
    "# then displays it as an html link (needed ipython library above to do that)\n",
    "# can do this for any list of links that I get from feedly, will really save time\n",
    "#hlist = list(set(hlist))\n",
    "#hlist.sort()\n",
    "hlist = [elem[1] for elem in hitlist]\n",
    "\n",
    "for ilink in hlist:\n",
    "    try:\n",
    "        r = requests.get(ilink, headers=headers)\n",
    "        soup = BeautifulSoup(r.text, 'html.parser')\n",
    "        titletext = soup.title.text\n",
    "        reflink = \"<a href='\" + ilink + \"'> \" + titletext + \"</a>\"\n",
    "        html = HTML(reflink)\n",
    "        display(html)\n",
    "    except:\n",
    "        errors += 1\n",
    "print(\"Errors: \", errors)"
   ]
  },
  {
   "cell_type": "code",
   "execution_count": 7,
   "metadata": {},
   "outputs": [],
   "source": [
    "paperlist = [\"https://www.abc.net.au/news/\",\n",
    "    \"https://www.aseantoday.com/\",\n",
    "    \"https://www.bbc.com/news\",\n",
    "    \"https://www.asiasentinel.com/\",\n",
    "    \"https://www.bangkokpost.com/\",\n",
    "    \"https://www.benarnews.org/english/\",\n",
    "    \"https://www.theborneopost.com/\",\n",
    "    \"https://www.japantimes.co.jp/\",\n",
    "    \"https://www.nationthailand.com/\",\n",
    "    \"https://www.nzherald.co.nz/\",\n",
    "    \"https://www.rfa.org/english/\",\n",
    "    \"https://www.thejakartapost.com/\",\n",
    "    \"http://www.straitstimes.com/asia/\",\n",
    "    \"http://www.straitstimes.com/asia/east-asia/\",\n",
    "    \"https://www.scmp.com/\",\n",
    "    \"https://www.globaltimes.cn/\",\n",
    "    \"https://www.nytimes.com/\",\n",
    "    \"https://www.foxnews.com/\",\n",
    "    \"https://www.cnn.com/\"]\n",
    "\n",
    "taglist = [\"coronavirus\",\n",
    "    \"covid-19\",\n",
    "    \"world health organisation\",\n",
    "    \"world health organization\",\n",
    "    \"embargo\",\n",
    "    \"trade deal\",\n",
    "    \"tariffs\",\n",
    "    \"election\",\n",
    "    \"cases spike\",\n",
    "    \"close schools\",\n",
    "    \"bullying\",\n",
    "    \"south china sea\",\n",
    "    \"lockdown\",\n",
    "    \"peta\",\n",
    "    \"coconut supply\",\n",
    "    \"abu sayyaf\",\n",
    "    \"data security\",\n",
    "    \"hong kong police\",\n",
    "    \"hong kong protestors\",\n",
    "    \"national security law\",\n",
    "    \"remdesvir\",\n",
    "    \"vaccine trials\",\n",
    "    \"uighur\",\n",
    "    \"aegis ashore\",\n",
    "    \"economy to shrink\",\n",
    "    \"nuclear talks\",\n",
    "    \"indigenous\",\n",
    "    \"dollar drops\",\n",
    "    \"dollar falls\",\n",
    "    \"dollar rises\",\n",
    "    \"battle against virus\",\n",
    "    \"recession\",\n",
    "    \"voice of america\",\n",
    "    \"lemur\",\n",
    "    \"orangutang\",\n",
    "    \"elephant\",\n",
    "    \"pangolin\",\n",
    "    \"fishermen\",\n",
    "    \"bolsonaro\",\n",
    "    \"inflation\",\n",
    "    \"aboriginal\",\n",
    "    \"japan earthquake\",\n",
    "    \"flooding in china\",\n",
    "    \"flood in china\",\n",
    "    \"earthquake in japan\",\n",
    "    \"typhoon\",\n",
    "    \"hagia sophia\",\n",
    "    \"turkey\",\n",
    "    \"erdogan\"]\n",
    "\n"
   ]
  },
  {
   "cell_type": "code",
   "execution_count": 8,
   "metadata": {},
   "outputs": [],
   "source": [
    "hitlist = []\n",
    "hlist = []\n",
    "for paper in paperlist:\n",
    "    r = requests.get(paper, headers=headers)\n",
    "    soup = BeautifulSoup(r.text, 'html.parser')\n",
    "    myelems = soup.findAll('a')\n",
    "    for elem in myelems:\n",
    "        titleck = str(elem.get('title'))\n",
    "        for checker in taglist:\n",
    "            if checker.lower() in titleck.lower():\n",
    "                url = elem.get('href')\n",
    "                hitlist.append((titleck, url))\n",
    "                hlist.append(url)\n",
    "hitlist = list(set(hitlist))\n",
    "hitlist.sort()\n",
    "# for elem in hitlist:\n",
    "#     print(elem[0])\n",
    "#     print(elem[1])\n"
   ]
  },
  {
   "cell_type": "code",
   "execution_count": 9,
   "metadata": {},
   "outputs": [
    {
     "data": {
      "text/html": [
       "<a href='https://www.benarnews.org/english/news/indonesian/sea-concerns-06262020145459.html'> ASEAN Leaders Assert Importance of Free Airspace over South China Sea</a>"
      ],
      "text/plain": [
       "<IPython.core.display.HTML object>"
      ]
     },
     "metadata": {},
     "output_type": "display_data"
    },
    {
     "data": {
      "text/html": [
       "<a href='https://www.benarnews.org/english/news/bengali/covid-militancy-06182020155559.html'> Bangladeshi Militants Take Advantage of COVID-19 Pandemic</a>"
      ],
      "text/plain": [
       "<IPython.core.display.HTML object>"
      ]
     },
     "metadata": {},
     "output_type": "display_data"
    },
    {
     "data": {
      "text/html": [
       "<a href='https://www.theborneopost.com/2020/07/12/bill-gates-optimistic-about-coronavirus-battle/'> Bill Gates ‘optimistic’ about coronavirus battle | Borneo Post Online</a>"
      ],
      "text/plain": [
       "<IPython.core.display.HTML object>"
      ]
     },
     "metadata": {},
     "output_type": "display_data"
    },
    {
     "data": {
      "text/html": [
       "<a href='https://www.aseantoday.com/2020/07/covid-19-is-boosting-fintech-and-mobile-money-in-myanmar-but-whats-next/'> COVID-19 is boosting fintech and mobile money in Myanmar, but what's next? | ASEAN Today</a>"
      ],
      "text/plain": [
       "<IPython.core.display.HTML object>"
      ]
     },
     "metadata": {},
     "output_type": "display_data"
    },
    {
     "data": {
      "text/html": [
       "<a href='https://www.aseantoday.com/2020/05/covid-19-pushes-healthcare-technology-transformation-in-asia/'> COVID-19 pushes healthcare technology transformation in Asia | ASEAN Today</a>"
      ],
      "text/plain": [
       "<IPython.core.display.HTML object>"
      ]
     },
     "metadata": {},
     "output_type": "display_data"
    },
    {
     "data": {
      "text/html": [
       "<a href='https://www.aseantoday.com/2020/07/china-enacts-national-security-law-for-hong-kong-how-they-covered-it/'> China enacts National Security Law for Hong Kong: How they covered it | ASEAN Today</a>"
      ],
      "text/plain": [
       "<IPython.core.display.HTML object>"
      ]
     },
     "metadata": {},
     "output_type": "display_data"
    },
    {
     "data": {
      "text/html": [
       "<a href='https://www.rfa.org/english/commentaries/china-plastics-05282020140702.html'> China’s Campaign to Cut Plastic Trash Delayed by Coronavirus </a>"
      ],
      "text/plain": [
       "<IPython.core.display.HTML object>"
      ]
     },
     "metadata": {},
     "output_type": "display_data"
    },
    {
     "data": {
      "text/html": [
       "<a href='https://www.rfa.org/english/news/china/raid-07102020105020.html'> Hong Kong Police Raid Public Opinion Pollster Linked to Pro-Democracy Primaries</a>"
      ],
      "text/plain": [
       "<IPython.core.display.HTML object>"
      ]
     },
     "metadata": {},
     "output_type": "display_data"
    },
    {
     "data": {
      "text/html": [
       "<a href='https://www.theborneopost.com/2020/07/11/pap-wins-singapore-election-taking-83-of-the-93-seats/'> PAP wins Singapore election, taking 83 of the 93 seats | Borneo Post Online</a>"
      ],
      "text/plain": [
       "<IPython.core.display.HTML object>"
      ]
     },
     "metadata": {},
     "output_type": "display_data"
    },
    {
     "data": {
      "text/html": [
       "<a href='https://www.theborneopost.com/2020/07/12/protests-in-serbia-continue-as-virus-cases-spike/'> Protests in Serbia continue as virus cases spike | Borneo Post Online</a>"
      ],
      "text/plain": [
       "<IPython.core.display.HTML object>"
      ]
     },
     "metadata": {},
     "output_type": "display_data"
    },
    {
     "data": {
      "text/html": [
       "<a href='https://www.rfa.org/english/news/china/usa-conflict-07102020160337.html'> Risk of Great Power Conflict in South China Sea is Rising, Experts Say</a>"
      ],
      "text/plain": [
       "<IPython.core.display.HTML object>"
      ]
     },
     "metadata": {},
     "output_type": "display_data"
    },
    {
     "data": {
      "text/html": [
       "<a href='https://www.rfa.org/english/commentaries/taiwan-covid-07062020065643.html'> Taiwan’s Success in Combating the Coronavirus Gains International Attention</a>"
      ],
      "text/plain": [
       "<IPython.core.display.HTML object>"
      ]
     },
     "metadata": {},
     "output_type": "display_data"
    },
    {
     "data": {
      "text/html": [
       "<a href='https://www.benarnews.org/english/news/thai/peace-talks-06192020162527.html'> Thai Negotiator Looks to Resume Southern Peace Talks as COVID-19 Subsides </a>"
      ],
      "text/plain": [
       "<IPython.core.display.HTML object>"
      ]
     },
     "metadata": {},
     "output_type": "display_data"
    },
    {
     "data": {
      "text/html": [
       "<a href='https://www.benarnews.org/english/news/philippine/ADIZ-South-China-Sea-06242020143810.html'> US Watching if Beijing Declares Air Defense Zone in South China Sea</a>"
      ],
      "text/plain": [
       "<IPython.core.display.HTML object>"
      ]
     },
     "metadata": {},
     "output_type": "display_data"
    },
    {
     "data": {
      "text/html": [
       "<a href='https://www.aseantoday.com/2020/07/what-can-southeast-asia-learn-from-singapore-and-its-first-covid-19-election/'> What can Southeast Asia learn from Singapore and its first 'COVID-19 election'? | ASEAN Today</a>"
      ],
      "text/plain": [
       "<IPython.core.display.HTML object>"
      ]
     },
     "metadata": {},
     "output_type": "display_data"
    },
    {
     "name": "stdout",
     "output_type": "stream",
     "text": [
      "Errors:  1\n"
     ]
    }
   ],
   "source": [
    "# summary: this takes the list from the first cell of all the html pages\n",
    "# puts the headline as the text for the list\n",
    "# uses beautiful soup to get the headline (the title field)\n",
    "# then makes it an html link\n",
    "# then displays it as an html link (needed ipython library above to do that)\n",
    "# can do this for any list of links that I get from feedly, will really save time\n",
    "#hlist = list(set(hlist))\n",
    "#hlist.sort()\n",
    "hlist = [elem[1] for elem in hitlist]\n",
    "errors = 0\n",
    "for ilink in hlist:\n",
    "    try:\n",
    "        r = requests.get(ilink, headers=headers)\n",
    "        soup = BeautifulSoup(r.text, 'html.parser')\n",
    "        titletext = soup.title.text\n",
    "        reflink = \"<a href='\" + ilink + \"'> \" + titletext + \"</a>\"\n",
    "        html = HTML(reflink)\n",
    "        display(html)\n",
    "    except:\n",
    "        errors += 1\n",
    "print(\"Errors: \", errors)"
   ]
  },
  {
   "cell_type": "code",
   "execution_count": 10,
   "metadata": {},
   "outputs": [
    {
     "name": "stdout",
     "output_type": "stream",
     "text": [
      "50\n"
     ]
    },
    {
     "data": {
      "text/html": [
       "<a href='https://www.scmp.com/business/markets/article/3091884/after-coronavirus-stocks-are-red-hot-again-resurgence-epidemic-and'> After-coronavirus stocks are red hot again as resurgence of epidemic and Hong Kong unrest spurs haven demand | South China Morning Post</a>"
      ],
      "text/plain": [
       "<IPython.core.display.HTML object>"
      ]
     },
     "metadata": {},
     "output_type": "display_data"
    },
    {
     "data": {
      "text/html": [
       "<a href='https://www.scmp.com/business/companies/article/3091873/coronavirus-fades-china-homebuyers-are-stampeding-back-boosting'> As coronavirus fades in China, homebuyers are stampeding back in, boosting the outlook for developers’ stocks | South China Morning Post</a>"
      ],
      "text/plain": [
       "<IPython.core.display.HTML object>"
      ]
     },
     "metadata": {},
     "output_type": "display_data"
    },
    {
     "data": {
      "text/html": [
       "<a href='https://www.scmp.com/tech/innovation/article/3092691/chinas-patent-filings-back-track-amid-covid-19-disruptions'> China’s patent filings back on track amid Covid-19 disruptions | South China Morning Post</a>"
      ],
      "text/plain": [
       "<IPython.core.display.HTML object>"
      ]
     },
     "metadata": {},
     "output_type": "display_data"
    },
    {
     "data": {
      "text/html": [
       "<a href='https://www.scmp.com/economy/china-economy/article/3092446/chinas-statistics-agency-publishes-year-old-monthly-inflation'> China’s statistics agency admits mistakenly publishing year-old monthly inflation, producer price data for June | South China Morning Post</a>"
      ],
      "text/plain": [
       "<IPython.core.display.HTML object>"
      ]
     },
     "metadata": {},
     "output_type": "display_data"
    },
    {
     "data": {
      "text/html": [
       "<a href='https://www.scmp.com/economy/china-economy/article/3092640/coronavirus-us-china-trade-war-see-95-cent-american-firms'> Coronavirus, US-China trade war see 95 per cent of American firms wanting to ditch Chinese suppliers | South China Morning Post</a>"
      ],
      "text/plain": [
       "<IPython.core.display.HTML object>"
      ]
     },
     "metadata": {},
     "output_type": "display_data"
    },
    {
     "data": {
      "text/html": [
       "<a href='https://www.scmp.com/business/companies/article/3092463/exodus-us-firms-hong-kong-avoid-sanctions-imposed-wake-security'> Exodus of US firms from Hong Kong to avoid sanctions imposed in wake of security law would hit office market already hurt by unrest, coronavirus | South China Morning Post</a>"
      ],
      "text/plain": [
       "<IPython.core.display.HTML object>"
      ]
     },
     "metadata": {},
     "output_type": "display_data"
    },
    {
     "data": {
      "text/html": [
       "<a href='https://www.scmp.com/business/companies/article/3092258/hong-kong-stocks-mixed-market-bulls-weigh-ipo-outlook-fallout'> Hong Kong stock bulls keep market rally alive on IPO allure amid resurgence in Covid-19 cases, sanction threats | South China Morning Post</a>"
      ],
      "text/plain": [
       "<IPython.core.display.HTML object>"
      ]
     },
     "metadata": {},
     "output_type": "display_data"
    },
    {
     "data": {
      "text/html": [
       "<a href='https://www.scmp.com/economy/china-economy/article/3092147/us-coronavirus-stimulus-reignites-chinas-criticism-dollar'> US coronavirus stimulus reignites China’s criticism of dollar hegemony, but no alternative seen any time soon | South China Morning Post</a>"
      ],
      "text/plain": [
       "<IPython.core.display.HTML object>"
      ]
     },
     "metadata": {},
     "output_type": "display_data"
    },
    {
     "data": {
      "text/html": [
       "<a href='https://www.scmp.com/business/companies/article/3091830/us-lighting-company-alpan-joins-exodus-manufacturers-leaving'> US lighting company Alpan joins an exodus of manufacturers leaving China to get around higher tariffs from trade war | South China Morning Post</a>"
      ],
      "text/plain": [
       "<IPython.core.display.HTML object>"
      ]
     },
     "metadata": {},
     "output_type": "display_data"
    },
    {
     "name": "stdout",
     "output_type": "stream",
     "text": [
      "Errors:  0\n"
     ]
    }
   ],
   "source": [
    "# for an xml based rss feed:\n",
    "\n",
    "xmllist = [\"https://www.scmp.com/rss/107605/feed\"]\n",
    "hitlist = []\n",
    "errors = 0\n",
    "for paper in xmllist:\n",
    "    r = requests.get(paper, headers=headers)\n",
    "    #print(r.text[0:500])\n",
    "    soup = BeautifulSoup(r.text, 'xml')\n",
    "    myelems = soup.findAll('guid')\n",
    "    print(len(myelems))\n",
    "    for elem in myelems:\n",
    "        linkck = elem.get_text()\n",
    "        #print(linkck)\n",
    "        #hitlist.append(linkck)\n",
    "        try:\n",
    "            r2 = requests.get(linkck, headers=headers)\n",
    "            soup2 = BeautifulSoup(r2.text, 'html.parser')\n",
    "            titletext = soup2.title.text\n",
    "            for checker in taglist:\n",
    "                if checker.lower() in titletext.lower():\n",
    "                    hitlist.append((titletext, linkck))\n",
    "        except:\n",
    "            errors += 1\n",
    "   \n",
    "hitlist = list(set(hitlist))\n",
    "hitlist.sort()\n",
    "hlist = [elem[1] for elem in hitlist]\n",
    "\n",
    "for elem in hitlist:\n",
    "    reflink = \"<a href='\" + elem[1] + \"'> \" + elem[0] + \"</a>\"\n",
    "    html = HTML(reflink)\n",
    "    display(html)\n",
    "\n",
    "print(\"Errors: \", errors)\n",
    "\n"
   ]
  }
 ],
 "metadata": {
  "kernelspec": {
   "display_name": "Python 3",
   "language": "python",
   "name": "python3"
  },
  "language_info": {
   "codemirror_mode": {
    "name": "ipython",
    "version": 3
   },
   "file_extension": ".py",
   "mimetype": "text/x-python",
   "name": "python",
   "nbconvert_exporter": "python",
   "pygments_lexer": "ipython3",
   "version": "3.7.2"
  }
 },
 "nbformat": 4,
 "nbformat_minor": 4
}
